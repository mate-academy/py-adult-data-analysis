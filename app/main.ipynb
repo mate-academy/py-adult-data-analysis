{
 "cells": [
  {
   "cell_type": "code",
   "source": [
    "import numpy as np\n",
    "import pandas as pd"
   ],
   "metadata": {
    "collapsed": false,
    "pycharm": {
     "name": "#%%\n"
    },
    "ExecuteTime": {
     "end_time": "2024-11-11T15:26:42.173362Z",
     "start_time": "2024-11-11T15:26:41.210326Z"
    }
   },
   "outputs": [],
   "execution_count": 1
  },
  {
   "cell_type": "markdown",
   "source": [
    "# Task 0\n",
    "Read the dataset from csv file & perform data cleaning - remove all rows, which contains `?` in some columns.\n",
    "Also check for data correctness (salary & salary $K)."
   ],
   "metadata": {
    "collapsed": false,
    "pycharm": {
     "name": "#%% md\n"
    }
   }
  },
  {
   "cell_type": "code",
   "source": [
    "df = pd.read_csv(\"../data/adult.csv\")\n",
    "df = df[~df.apply(lambda row: row.astype(str).str.contains(r'\\?').any(), axis=1)]\n",
    "\n",
    "def correct_salary(row):\n",
    "    salary_value = row[\"salary\"]\n",
    "    salary_k_value = row[\"salary K$\"]\n",
    "    \n",
    "    if salary_k_value <= 50 and salary_value != \"<=50K\":\n",
    "        return \"<=50K\"\n",
    "    elif salary_k_value > 50 and salary_value != \">50K\":\n",
    "        return \">50K\"\n",
    "    return salary_value\n",
    "\n",
    "df[\"salary\"] = df.apply(correct_salary, axis=1)"
   ],
   "metadata": {
    "collapsed": false,
    "pycharm": {
     "name": "#%%\n"
    },
    "ExecuteTime": {
     "end_time": "2024-11-11T16:20:19.738443Z",
     "start_time": "2024-11-11T16:20:12.873277Z"
    }
   },
   "outputs": [],
   "execution_count": 9
  },
  {
   "cell_type": "markdown",
   "source": [
    "# Task 1\n",
    "Print the count of men and women in the dataset."
   ],
   "metadata": {
    "collapsed": false,
    "pycharm": {
     "name": "#%% md\n"
    }
   }
  },
  {
   "cell_type": "code",
   "source": "df[\"sex\"].value_counts()",
   "metadata": {
    "collapsed": false,
    "pycharm": {
     "name": "#%%\n"
    },
    "ExecuteTime": {
     "end_time": "2024-11-11T16:27:31.972196Z",
     "start_time": "2024-11-11T16:27:31.960679Z"
    }
   },
   "outputs": [
    {
     "data": {
      "text/plain": [
       "sex\n",
       "Male      20381\n",
       "Female     9782\n",
       "Name: count, dtype: int64"
      ]
     },
     "execution_count": 12,
     "metadata": {},
     "output_type": "execute_result"
    }
   ],
   "execution_count": 12
  },
  {
   "cell_type": "markdown",
   "source": [
    "# Task 2\n",
    "Find the average age of men in dataset"
   ],
   "metadata": {
    "collapsed": false,
    "pycharm": {
     "name": "#%% md\n"
    }
   }
  },
  {
   "cell_type": "code",
   "source": "df[df[\"sex\"] == \"Male\"][\"age\"].mean() ",
   "metadata": {
    "collapsed": false,
    "pycharm": {
     "name": "#%%\n"
    },
    "ExecuteTime": {
     "end_time": "2024-11-11T16:38:48.143608Z",
     "start_time": "2024-11-11T16:38:48.125314Z"
    }
   },
   "outputs": [
    {
     "data": {
      "text/plain": [
       "np.float64(39.18350424414896)"
      ]
     },
     "execution_count": 13,
     "metadata": {},
     "output_type": "execute_result"
    }
   ],
   "execution_count": 13
  },
  {
   "cell_type": "markdown",
   "source": [
    "# Task 3\n",
    "Get the percentage of people from Poland (native-country)"
   ],
   "metadata": {
    "collapsed": false,
    "pycharm": {
     "name": "#%% md\n"
    }
   }
  },
  {
   "metadata": {
    "collapsed": false,
    "pycharm": {
     "name": "#%%\n"
    },
    "ExecuteTime": {
     "end_time": "2024-11-11T16:54:32.084150Z",
     "start_time": "2024-11-11T16:54:32.074492Z"
    }
   },
   "cell_type": "code",
   "source": "round((df[df[\"native-country\"] == \"Poland\"].shape[0] / df.shape[0]) * 100, 2)\n",
   "outputs": [
    {
     "data": {
      "text/plain": [
       "0.19"
      ]
     },
     "execution_count": 22,
     "metadata": {},
     "output_type": "execute_result"
    }
   ],
   "execution_count": 22
  },
  {
   "cell_type": "markdown",
   "source": [
    "# Task 4\n",
    "Get the mean and standard deviation of the age for people who earn > 50K per year. After this, get it for those who earn <= 50K."
   ],
   "metadata": {
    "collapsed": false,
    "pycharm": {
     "name": "#%% md\n"
    }
   }
  },
  {
   "cell_type": "code",
   "source": [
    "df_greater_50K = df[df[\"salary K$\"] > 50]\n",
    "print(\">50K: \", \"mean: \", df_greater_50K[\"age\"].mean(), \"    std: \", df_greater_50K[\"age\"].std())\n",
    "df_less_or_equal_50K = df[df[\"salary K$\"] <= 50]\n",
    "print(\"<=50K: \", \"mean: \", df_less_or_equal_50K[\"age\"].mean(), \"    std: \", df_less_or_equal_50K[\"age\"].std())\n"
   ],
   "metadata": {
    "collapsed": false,
    "pycharm": {
     "name": "#%%\n"
    },
    "ExecuteTime": {
     "end_time": "2024-11-11T17:02:10.740413Z",
     "start_time": "2024-11-11T17:02:10.725613Z"
    }
   },
   "outputs": [
    {
     "name": "stdout",
     "output_type": "stream",
     "text": [
      ">50K:  mean:  43.95911028236548     std:  10.269632835673852\n",
      "<=50K:  mean:  36.60772456411388     std:  13.464428952303244\n"
     ]
    }
   ],
   "execution_count": 31
  },
  {
   "cell_type": "markdown",
   "source": [
    "# Task 5\n",
    "Check, if there are some people without higher education (education: Bachelors, Prof-school, Assoc-acdm, Assoc-voc, Masters, Doctorate), but with > 50K salary"
   ],
   "metadata": {
    "collapsed": false,
    "pycharm": {
     "name": "#%% md\n"
    }
   }
  },
  {
   "cell_type": "code",
   "source": [
    "education_types = [\"Bachelors\", \"Prof-school\", \"Assoc-acdm\", \"Assoc-voc\", \"Masters\", \"Doctorate\"]\n",
    "df[~df[\"education\"].isin(education_types) & (df[\"salary\"] == \">50K\")]"
   ],
   "metadata": {
    "collapsed": false,
    "pycharm": {
     "name": "#%%\n"
    },
    "ExecuteTime": {
     "end_time": "2024-11-11T17:12:53.537269Z",
     "start_time": "2024-11-11T17:12:53.512903Z"
    }
   },
   "outputs": [
    {
     "data": {
      "text/plain": [
       "       Unnamed: 0  age         workclass     education      marital-status  \\\n",
       "7               7   52  Self-emp-not-inc       HS-grad  Married-civ-spouse   \n",
       "10             10   37           Private  Some-college  Married-civ-spouse   \n",
       "55             55   43           Private  Some-college  Married-civ-spouse   \n",
       "67             67   53           Private       HS-grad  Married-civ-spouse   \n",
       "68             68   49      Self-emp-inc  Some-college  Married-civ-spouse   \n",
       "...           ...  ...               ...           ...                 ...   \n",
       "32462       32462   48      Self-emp-inc       HS-grad  Married-civ-spouse   \n",
       "32518       32518   57         Local-gov       HS-grad  Married-civ-spouse   \n",
       "32519       32519   46           Private  Some-college  Married-civ-spouse   \n",
       "32557       32557   40           Private       HS-grad  Married-civ-spouse   \n",
       "32560       32560   52      Self-emp-inc       HS-grad  Married-civ-spouse   \n",
       "\n",
       "              occupation relationship   race     sex  hours-per-week  \\\n",
       "7        Exec-managerial      Husband  White    Male              45   \n",
       "10       Exec-managerial      Husband  Black    Male              80   \n",
       "55          Tech-support      Husband  White    Male              40   \n",
       "67          Adm-clerical         Wife  White  Female              40   \n",
       "68       Exec-managerial      Husband  White    Male              50   \n",
       "...                  ...          ...    ...     ...             ...   \n",
       "32462       Craft-repair      Husband  White    Male              50   \n",
       "32518       Craft-repair      Husband  White    Male              40   \n",
       "32519    Exec-managerial      Husband  White    Male              48   \n",
       "32557  Machine-op-inspct      Husband  White    Male              40   \n",
       "32560    Exec-managerial         Wife  White  Female              40   \n",
       "\n",
       "      native-country salary  salary K$  \n",
       "7      United-States   >50K        307  \n",
       "10     United-States   >50K        116  \n",
       "55     United-States   >50K        341  \n",
       "67     United-States   >50K        225  \n",
       "68     United-States   >50K        194  \n",
       "...              ...    ...        ...  \n",
       "32462  United-States   >50K        343  \n",
       "32518  United-States   >50K        116  \n",
       "32519  United-States   >50K        239  \n",
       "32557  United-States   >50K        173  \n",
       "32560  United-States   >50K        243  \n",
       "\n",
       "[3178 rows x 13 columns]"
      ],
      "text/html": [
       "<div>\n",
       "<style scoped>\n",
       "    .dataframe tbody tr th:only-of-type {\n",
       "        vertical-align: middle;\n",
       "    }\n",
       "\n",
       "    .dataframe tbody tr th {\n",
       "        vertical-align: top;\n",
       "    }\n",
       "\n",
       "    .dataframe thead th {\n",
       "        text-align: right;\n",
       "    }\n",
       "</style>\n",
       "<table border=\"1\" class=\"dataframe\">\n",
       "  <thead>\n",
       "    <tr style=\"text-align: right;\">\n",
       "      <th></th>\n",
       "      <th>Unnamed: 0</th>\n",
       "      <th>age</th>\n",
       "      <th>workclass</th>\n",
       "      <th>education</th>\n",
       "      <th>marital-status</th>\n",
       "      <th>occupation</th>\n",
       "      <th>relationship</th>\n",
       "      <th>race</th>\n",
       "      <th>sex</th>\n",
       "      <th>hours-per-week</th>\n",
       "      <th>native-country</th>\n",
       "      <th>salary</th>\n",
       "      <th>salary K$</th>\n",
       "    </tr>\n",
       "  </thead>\n",
       "  <tbody>\n",
       "    <tr>\n",
       "      <th>7</th>\n",
       "      <td>7</td>\n",
       "      <td>52</td>\n",
       "      <td>Self-emp-not-inc</td>\n",
       "      <td>HS-grad</td>\n",
       "      <td>Married-civ-spouse</td>\n",
       "      <td>Exec-managerial</td>\n",
       "      <td>Husband</td>\n",
       "      <td>White</td>\n",
       "      <td>Male</td>\n",
       "      <td>45</td>\n",
       "      <td>United-States</td>\n",
       "      <td>&gt;50K</td>\n",
       "      <td>307</td>\n",
       "    </tr>\n",
       "    <tr>\n",
       "      <th>10</th>\n",
       "      <td>10</td>\n",
       "      <td>37</td>\n",
       "      <td>Private</td>\n",
       "      <td>Some-college</td>\n",
       "      <td>Married-civ-spouse</td>\n",
       "      <td>Exec-managerial</td>\n",
       "      <td>Husband</td>\n",
       "      <td>Black</td>\n",
       "      <td>Male</td>\n",
       "      <td>80</td>\n",
       "      <td>United-States</td>\n",
       "      <td>&gt;50K</td>\n",
       "      <td>116</td>\n",
       "    </tr>\n",
       "    <tr>\n",
       "      <th>55</th>\n",
       "      <td>55</td>\n",
       "      <td>43</td>\n",
       "      <td>Private</td>\n",
       "      <td>Some-college</td>\n",
       "      <td>Married-civ-spouse</td>\n",
       "      <td>Tech-support</td>\n",
       "      <td>Husband</td>\n",
       "      <td>White</td>\n",
       "      <td>Male</td>\n",
       "      <td>40</td>\n",
       "      <td>United-States</td>\n",
       "      <td>&gt;50K</td>\n",
       "      <td>341</td>\n",
       "    </tr>\n",
       "    <tr>\n",
       "      <th>67</th>\n",
       "      <td>67</td>\n",
       "      <td>53</td>\n",
       "      <td>Private</td>\n",
       "      <td>HS-grad</td>\n",
       "      <td>Married-civ-spouse</td>\n",
       "      <td>Adm-clerical</td>\n",
       "      <td>Wife</td>\n",
       "      <td>White</td>\n",
       "      <td>Female</td>\n",
       "      <td>40</td>\n",
       "      <td>United-States</td>\n",
       "      <td>&gt;50K</td>\n",
       "      <td>225</td>\n",
       "    </tr>\n",
       "    <tr>\n",
       "      <th>68</th>\n",
       "      <td>68</td>\n",
       "      <td>49</td>\n",
       "      <td>Self-emp-inc</td>\n",
       "      <td>Some-college</td>\n",
       "      <td>Married-civ-spouse</td>\n",
       "      <td>Exec-managerial</td>\n",
       "      <td>Husband</td>\n",
       "      <td>White</td>\n",
       "      <td>Male</td>\n",
       "      <td>50</td>\n",
       "      <td>United-States</td>\n",
       "      <td>&gt;50K</td>\n",
       "      <td>194</td>\n",
       "    </tr>\n",
       "    <tr>\n",
       "      <th>...</th>\n",
       "      <td>...</td>\n",
       "      <td>...</td>\n",
       "      <td>...</td>\n",
       "      <td>...</td>\n",
       "      <td>...</td>\n",
       "      <td>...</td>\n",
       "      <td>...</td>\n",
       "      <td>...</td>\n",
       "      <td>...</td>\n",
       "      <td>...</td>\n",
       "      <td>...</td>\n",
       "      <td>...</td>\n",
       "      <td>...</td>\n",
       "    </tr>\n",
       "    <tr>\n",
       "      <th>32462</th>\n",
       "      <td>32462</td>\n",
       "      <td>48</td>\n",
       "      <td>Self-emp-inc</td>\n",
       "      <td>HS-grad</td>\n",
       "      <td>Married-civ-spouse</td>\n",
       "      <td>Craft-repair</td>\n",
       "      <td>Husband</td>\n",
       "      <td>White</td>\n",
       "      <td>Male</td>\n",
       "      <td>50</td>\n",
       "      <td>United-States</td>\n",
       "      <td>&gt;50K</td>\n",
       "      <td>343</td>\n",
       "    </tr>\n",
       "    <tr>\n",
       "      <th>32518</th>\n",
       "      <td>32518</td>\n",
       "      <td>57</td>\n",
       "      <td>Local-gov</td>\n",
       "      <td>HS-grad</td>\n",
       "      <td>Married-civ-spouse</td>\n",
       "      <td>Craft-repair</td>\n",
       "      <td>Husband</td>\n",
       "      <td>White</td>\n",
       "      <td>Male</td>\n",
       "      <td>40</td>\n",
       "      <td>United-States</td>\n",
       "      <td>&gt;50K</td>\n",
       "      <td>116</td>\n",
       "    </tr>\n",
       "    <tr>\n",
       "      <th>32519</th>\n",
       "      <td>32519</td>\n",
       "      <td>46</td>\n",
       "      <td>Private</td>\n",
       "      <td>Some-college</td>\n",
       "      <td>Married-civ-spouse</td>\n",
       "      <td>Exec-managerial</td>\n",
       "      <td>Husband</td>\n",
       "      <td>White</td>\n",
       "      <td>Male</td>\n",
       "      <td>48</td>\n",
       "      <td>United-States</td>\n",
       "      <td>&gt;50K</td>\n",
       "      <td>239</td>\n",
       "    </tr>\n",
       "    <tr>\n",
       "      <th>32557</th>\n",
       "      <td>32557</td>\n",
       "      <td>40</td>\n",
       "      <td>Private</td>\n",
       "      <td>HS-grad</td>\n",
       "      <td>Married-civ-spouse</td>\n",
       "      <td>Machine-op-inspct</td>\n",
       "      <td>Husband</td>\n",
       "      <td>White</td>\n",
       "      <td>Male</td>\n",
       "      <td>40</td>\n",
       "      <td>United-States</td>\n",
       "      <td>&gt;50K</td>\n",
       "      <td>173</td>\n",
       "    </tr>\n",
       "    <tr>\n",
       "      <th>32560</th>\n",
       "      <td>32560</td>\n",
       "      <td>52</td>\n",
       "      <td>Self-emp-inc</td>\n",
       "      <td>HS-grad</td>\n",
       "      <td>Married-civ-spouse</td>\n",
       "      <td>Exec-managerial</td>\n",
       "      <td>Wife</td>\n",
       "      <td>White</td>\n",
       "      <td>Female</td>\n",
       "      <td>40</td>\n",
       "      <td>United-States</td>\n",
       "      <td>&gt;50K</td>\n",
       "      <td>243</td>\n",
       "    </tr>\n",
       "  </tbody>\n",
       "</table>\n",
       "<p>3178 rows × 13 columns</p>\n",
       "</div>"
      ]
     },
     "execution_count": 38,
     "metadata": {},
     "output_type": "execute_result"
    }
   ],
   "execution_count": 38
  },
  {
   "cell_type": "markdown",
   "source": [
    "# Task 6\n",
    "Get the statistics of age for each type of education. Use `groupby` and `describe` for this."
   ],
   "metadata": {
    "collapsed": false,
    "pycharm": {
     "name": "#%% md\n"
    }
   }
  },
  {
   "cell_type": "code",
   "source": "df.groupby(\"education\")[\"age\"].describe()",
   "metadata": {
    "collapsed": false,
    "pycharm": {
     "name": "#%%\n"
    },
    "ExecuteTime": {
     "end_time": "2024-11-11T17:22:31.530079Z",
     "start_time": "2024-11-11T17:22:31.473533Z"
    }
   },
   "outputs": [
    {
     "data": {
      "text/plain": [
       "               count       mean        std   min   25%   50%   75%   max\n",
       "education                                                               \n",
       "10th           820.0  37.897561  16.225795  17.0  23.0  36.0  52.0  90.0\n",
       "11th          1048.0  32.363550  15.089307  17.0  18.0  28.5  43.0  90.0\n",
       "12th           377.0  32.013263  14.373710  17.0  19.0  28.0  41.0  79.0\n",
       "1st-4th        151.0  44.622517  14.929051  19.0  33.0  44.0  56.0  81.0\n",
       "5th-6th        288.0  41.649306  14.754622  17.0  28.0  41.0  53.0  82.0\n",
       "7th-8th        557.0  47.631957  15.737479  17.0  34.0  49.0  60.0  90.0\n",
       "9th            455.0  40.303297  15.335754  17.0  28.0  38.0  53.0  90.0\n",
       "Assoc-acdm    1008.0  37.286706  10.509755  19.0  29.0  36.0  44.0  90.0\n",
       "Assoc-voc     1307.0  38.246366  11.181253  19.0  30.0  37.0  45.0  84.0\n",
       "Bachelors     5044.0  38.641554  11.577566  19.0  29.0  37.0  46.0  90.0\n",
       "Doctorate      375.0  47.130667  11.471727  24.0  39.0  47.0  54.0  80.0\n",
       "HS-grad       9840.0  38.640955  13.067730  17.0  28.0  37.0  48.0  90.0\n",
       "Masters       1627.0  43.740012  10.735356  18.0  36.0  43.0  50.0  90.0\n",
       "Preschool       45.0  41.288889  15.175672  19.0  30.0  40.0  53.0  75.0\n",
       "Prof-school    542.0  44.249077  11.428098  25.0  36.0  43.0  50.0  90.0\n",
       "Some-college  6679.0  36.134302  13.072840  17.0  25.0  35.0  45.0  90.0"
      ],
      "text/html": [
       "<div>\n",
       "<style scoped>\n",
       "    .dataframe tbody tr th:only-of-type {\n",
       "        vertical-align: middle;\n",
       "    }\n",
       "\n",
       "    .dataframe tbody tr th {\n",
       "        vertical-align: top;\n",
       "    }\n",
       "\n",
       "    .dataframe thead th {\n",
       "        text-align: right;\n",
       "    }\n",
       "</style>\n",
       "<table border=\"1\" class=\"dataframe\">\n",
       "  <thead>\n",
       "    <tr style=\"text-align: right;\">\n",
       "      <th></th>\n",
       "      <th>count</th>\n",
       "      <th>mean</th>\n",
       "      <th>std</th>\n",
       "      <th>min</th>\n",
       "      <th>25%</th>\n",
       "      <th>50%</th>\n",
       "      <th>75%</th>\n",
       "      <th>max</th>\n",
       "    </tr>\n",
       "    <tr>\n",
       "      <th>education</th>\n",
       "      <th></th>\n",
       "      <th></th>\n",
       "      <th></th>\n",
       "      <th></th>\n",
       "      <th></th>\n",
       "      <th></th>\n",
       "      <th></th>\n",
       "      <th></th>\n",
       "    </tr>\n",
       "  </thead>\n",
       "  <tbody>\n",
       "    <tr>\n",
       "      <th>10th</th>\n",
       "      <td>820.0</td>\n",
       "      <td>37.897561</td>\n",
       "      <td>16.225795</td>\n",
       "      <td>17.0</td>\n",
       "      <td>23.0</td>\n",
       "      <td>36.0</td>\n",
       "      <td>52.0</td>\n",
       "      <td>90.0</td>\n",
       "    </tr>\n",
       "    <tr>\n",
       "      <th>11th</th>\n",
       "      <td>1048.0</td>\n",
       "      <td>32.363550</td>\n",
       "      <td>15.089307</td>\n",
       "      <td>17.0</td>\n",
       "      <td>18.0</td>\n",
       "      <td>28.5</td>\n",
       "      <td>43.0</td>\n",
       "      <td>90.0</td>\n",
       "    </tr>\n",
       "    <tr>\n",
       "      <th>12th</th>\n",
       "      <td>377.0</td>\n",
       "      <td>32.013263</td>\n",
       "      <td>14.373710</td>\n",
       "      <td>17.0</td>\n",
       "      <td>19.0</td>\n",
       "      <td>28.0</td>\n",
       "      <td>41.0</td>\n",
       "      <td>79.0</td>\n",
       "    </tr>\n",
       "    <tr>\n",
       "      <th>1st-4th</th>\n",
       "      <td>151.0</td>\n",
       "      <td>44.622517</td>\n",
       "      <td>14.929051</td>\n",
       "      <td>19.0</td>\n",
       "      <td>33.0</td>\n",
       "      <td>44.0</td>\n",
       "      <td>56.0</td>\n",
       "      <td>81.0</td>\n",
       "    </tr>\n",
       "    <tr>\n",
       "      <th>5th-6th</th>\n",
       "      <td>288.0</td>\n",
       "      <td>41.649306</td>\n",
       "      <td>14.754622</td>\n",
       "      <td>17.0</td>\n",
       "      <td>28.0</td>\n",
       "      <td>41.0</td>\n",
       "      <td>53.0</td>\n",
       "      <td>82.0</td>\n",
       "    </tr>\n",
       "    <tr>\n",
       "      <th>7th-8th</th>\n",
       "      <td>557.0</td>\n",
       "      <td>47.631957</td>\n",
       "      <td>15.737479</td>\n",
       "      <td>17.0</td>\n",
       "      <td>34.0</td>\n",
       "      <td>49.0</td>\n",
       "      <td>60.0</td>\n",
       "      <td>90.0</td>\n",
       "    </tr>\n",
       "    <tr>\n",
       "      <th>9th</th>\n",
       "      <td>455.0</td>\n",
       "      <td>40.303297</td>\n",
       "      <td>15.335754</td>\n",
       "      <td>17.0</td>\n",
       "      <td>28.0</td>\n",
       "      <td>38.0</td>\n",
       "      <td>53.0</td>\n",
       "      <td>90.0</td>\n",
       "    </tr>\n",
       "    <tr>\n",
       "      <th>Assoc-acdm</th>\n",
       "      <td>1008.0</td>\n",
       "      <td>37.286706</td>\n",
       "      <td>10.509755</td>\n",
       "      <td>19.0</td>\n",
       "      <td>29.0</td>\n",
       "      <td>36.0</td>\n",
       "      <td>44.0</td>\n",
       "      <td>90.0</td>\n",
       "    </tr>\n",
       "    <tr>\n",
       "      <th>Assoc-voc</th>\n",
       "      <td>1307.0</td>\n",
       "      <td>38.246366</td>\n",
       "      <td>11.181253</td>\n",
       "      <td>19.0</td>\n",
       "      <td>30.0</td>\n",
       "      <td>37.0</td>\n",
       "      <td>45.0</td>\n",
       "      <td>84.0</td>\n",
       "    </tr>\n",
       "    <tr>\n",
       "      <th>Bachelors</th>\n",
       "      <td>5044.0</td>\n",
       "      <td>38.641554</td>\n",
       "      <td>11.577566</td>\n",
       "      <td>19.0</td>\n",
       "      <td>29.0</td>\n",
       "      <td>37.0</td>\n",
       "      <td>46.0</td>\n",
       "      <td>90.0</td>\n",
       "    </tr>\n",
       "    <tr>\n",
       "      <th>Doctorate</th>\n",
       "      <td>375.0</td>\n",
       "      <td>47.130667</td>\n",
       "      <td>11.471727</td>\n",
       "      <td>24.0</td>\n",
       "      <td>39.0</td>\n",
       "      <td>47.0</td>\n",
       "      <td>54.0</td>\n",
       "      <td>80.0</td>\n",
       "    </tr>\n",
       "    <tr>\n",
       "      <th>HS-grad</th>\n",
       "      <td>9840.0</td>\n",
       "      <td>38.640955</td>\n",
       "      <td>13.067730</td>\n",
       "      <td>17.0</td>\n",
       "      <td>28.0</td>\n",
       "      <td>37.0</td>\n",
       "      <td>48.0</td>\n",
       "      <td>90.0</td>\n",
       "    </tr>\n",
       "    <tr>\n",
       "      <th>Masters</th>\n",
       "      <td>1627.0</td>\n",
       "      <td>43.740012</td>\n",
       "      <td>10.735356</td>\n",
       "      <td>18.0</td>\n",
       "      <td>36.0</td>\n",
       "      <td>43.0</td>\n",
       "      <td>50.0</td>\n",
       "      <td>90.0</td>\n",
       "    </tr>\n",
       "    <tr>\n",
       "      <th>Preschool</th>\n",
       "      <td>45.0</td>\n",
       "      <td>41.288889</td>\n",
       "      <td>15.175672</td>\n",
       "      <td>19.0</td>\n",
       "      <td>30.0</td>\n",
       "      <td>40.0</td>\n",
       "      <td>53.0</td>\n",
       "      <td>75.0</td>\n",
       "    </tr>\n",
       "    <tr>\n",
       "      <th>Prof-school</th>\n",
       "      <td>542.0</td>\n",
       "      <td>44.249077</td>\n",
       "      <td>11.428098</td>\n",
       "      <td>25.0</td>\n",
       "      <td>36.0</td>\n",
       "      <td>43.0</td>\n",
       "      <td>50.0</td>\n",
       "      <td>90.0</td>\n",
       "    </tr>\n",
       "    <tr>\n",
       "      <th>Some-college</th>\n",
       "      <td>6679.0</td>\n",
       "      <td>36.134302</td>\n",
       "      <td>13.072840</td>\n",
       "      <td>17.0</td>\n",
       "      <td>25.0</td>\n",
       "      <td>35.0</td>\n",
       "      <td>45.0</td>\n",
       "      <td>90.0</td>\n",
       "    </tr>\n",
       "  </tbody>\n",
       "</table>\n",
       "</div>"
      ]
     },
     "execution_count": 41,
     "metadata": {},
     "output_type": "execute_result"
    }
   ],
   "execution_count": 41
  },
  {
   "cell_type": "markdown",
   "source": [
    "# Task 7\n",
    "Compare the married and non-married men salaries. Who earns more? (>50K or <=50K)\n",
    "Married men are those, whom `marital-status` starts with \"Married\". Others are not."
   ],
   "metadata": {
    "collapsed": false,
    "pycharm": {
     "name": "#%% md\n"
    }
   }
  },
  {
   "cell_type": "code",
   "source": [
    "married_mean_salary = df[(df[\"marital-status\"].str.startswith(\"Married\")) & (df[\"sex\"] == \"Male\")][\"salary K$\"].mean()\n",
    "not_married_mean_salary = df[(~df[\"marital-status\"].str.startswith(\"Married\")) & (df[\"sex\"] == \"Male\")][\"salary K$\"].mean()\n",
    "print(\"married: \", married_mean_salary, \"   not married: \", not_married_mean_salary)"
   ],
   "metadata": {
    "collapsed": false,
    "pycharm": {
     "name": "#%%\n"
    },
    "ExecuteTime": {
     "end_time": "2024-11-11T17:44:19.358667Z",
     "start_time": "2024-11-11T17:44:19.323306Z"
    }
   },
   "outputs": [
    {
     "name": "stdout",
     "output_type": "stream",
     "text": [
      "married:  107.49455968688845    not married:  46.59361030765185\n"
     ]
    }
   ],
   "execution_count": 50
  },
  {
   "cell_type": "markdown",
   "source": [
    "# Task 8\n",
    "Get the max hours per week some person works. How many people works the same amount of hours per week?"
   ],
   "metadata": {
    "collapsed": false,
    "pycharm": {
     "name": "#%% md\n"
    }
   }
  },
  {
   "cell_type": "code",
   "source": "df[df[\"hours-per-week\"] == df[\"hours-per-week\"].max()].shape[0]",
   "metadata": {
    "collapsed": false,
    "pycharm": {
     "name": "#%%\n"
    },
    "ExecuteTime": {
     "end_time": "2024-11-11T17:57:48.634300Z",
     "start_time": "2024-11-11T17:57:48.624321Z"
    }
   },
   "outputs": [
    {
     "data": {
      "text/plain": [
       "78"
      ]
     },
     "execution_count": 52,
     "metadata": {},
     "output_type": "execute_result"
    }
   ],
   "execution_count": 52
  },
  {
   "cell_type": "markdown",
   "source": [
    "# Task 9\n",
    "Analyze the correlation between data in dataset. Understand connected fields in it and print highlight thier connection."
   ],
   "metadata": {
    "collapsed": false,
    "pycharm": {
     "name": "#%% md\n"
    }
   }
  },
  {
   "cell_type": "code",
   "source": [
    "import seaborn as sns\n",
    "import matplotlib.pyplot as plt\n",
    "\n",
    "\n",
    "num_columns = df.select_dtypes(include=[\"number\"]).columns\n",
    "corr_matrix = df[[col for col in num_columns if col != \"Unnamed: 0\"]].corr()\n",
    "\n",
    "plt.figure(figsize=(5, 4))\n",
    "sns.heatmap(corr_matrix, annot=True, cmap=\"coolwarm\", fmt=\".2f\", linewidths=0.5)\n",
    "plt.title(\"Corr Matrix\")\n",
    "plt.show()\n"
   ],
   "metadata": {
    "collapsed": false,
    "pycharm": {
     "name": "#%%\n"
    },
    "ExecuteTime": {
     "end_time": "2024-11-11T18:11:11.589962Z",
     "start_time": "2024-11-11T18:11:11.393680Z"
    }
   },
   "outputs": [
    {
     "data": {
      "text/plain": [
       "<Figure size 500x400 with 2 Axes>"
      ],
      "image/png": "[encoded data removed]"
     },
     "metadata": {},
     "output_type": "display_data"
    }
   ],
   "execution_count": 70
  }
 ],
 "metadata": {
  "kernelspec": {
   "display_name": "Python 3",
   "language": "python",
   "name": "python3"
  },
  "language_info": {
   "codemirror_mode": {
    "name": "ipython",
    "version": 2
   },
   "file_extension": ".py",
   "mimetype": "text/x-python",
   "name": "python",
   "nbconvert_exporter": "python",
   "pygments_lexer": "ipython2",
   "version": "2.7.6"
  }
 },
 "nbformat": 4,
 "nbformat_minor": 0
}
