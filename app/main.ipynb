{
 "cells": [
  {
   "cell_type": "code",
   "execution_count": 108,
   "outputs": [],
   "source": [
    "import numpy as np\n",
    "import pandas as pd"
   ],
   "metadata": {
    "collapsed": false,
    "pycharm": {
     "name": "#%%\n"
    },
    "ExecuteTime": {
     "end_time": "2024-01-08T12:05:30.230079500Z",
     "start_time": "2024-01-08T12:05:30.177198500Z"
    }
   }
  },
  {
   "cell_type": "markdown",
   "source": [
    "# Task 0\n",
    "Read the dataset from csv file & perform data cleaning - remove all rows, which contains `?` in some columns.\n",
    "Also check for data correctness (salary & salary $K)."
   ],
   "metadata": {
    "collapsed": false,
    "pycharm": {
     "name": "#%% md\n"
    }
   }
  },
  {
   "cell_type": "code",
   "execution_count": 109,
   "outputs": [
    {
     "name": "stdout",
     "output_type": "stream",
     "text": [
      "   Unnamed: 0  age         workclass  education      marital-status  \\\n",
      "0           0   39         State-gov  Bachelors       Never-married   \n",
      "1           1   50  Self-emp-not-inc  Bachelors  Married-civ-spouse   \n",
      "2           2   38           Private    HS-grad            Divorced   \n",
      "3           3   53           Private       11th  Married-civ-spouse   \n",
      "4           4   28           Private  Bachelors  Married-civ-spouse   \n",
      "\n",
      "          occupation   relationship   race     sex  hours-per-week  \\\n",
      "0       Adm-clerical  Not-in-family  White    Male              40   \n",
      "1    Exec-managerial        Husband  White    Male              13   \n",
      "2  Handlers-cleaners  Not-in-family  White    Male              40   \n",
      "3  Handlers-cleaners        Husband  Black    Male              40   \n",
      "4     Prof-specialty           Wife  Black  Female              40   \n",
      "\n",
      "  native-country salary  salary K$  \n",
      "0  United-States  <=50K         39  \n",
      "1  United-States  <=50K         35  \n",
      "2  United-States  <=50K         27  \n",
      "3  United-States  <=50K         43  \n",
      "4           Cuba  <=50K         25  \n"
     ]
    }
   ],
   "source": [
    "data = pd.read_csv(r\"C:\\Users\\katya\\projects\\py-adult-data-analysis\\data\\adult.csv\")\n",
    "\n",
    "data.replace(\"?\", pd.NA, inplace=True)\n",
    "data.dropna(inplace=True)\n",
    "\n",
    "def check_salary(row):\n",
    "    if row[\"salary\"] == \">50K\":\n",
    "        return row[\"salary K$\"] > 50\n",
    "    else:\n",
    "        return row[\"salary K$\"] <= 50\n",
    "    \n",
    "data[\"salary_correct\"] = data.apply(check_salary, axis=1)\n",
    "\n",
    "data = data[data[\"salary_correct\"]]\n",
    "data.drop(\"salary_correct\", axis=1, inplace=True)\n",
    "\n",
    "print(data.head())"
   ],
   "metadata": {
    "collapsed": false,
    "pycharm": {
     "name": "#%%\n"
    },
    "ExecuteTime": {
     "end_time": "2024-01-08T12:05:30.734049800Z",
     "start_time": "2024-01-08T12:05:30.238587900Z"
    }
   }
  },
  {
   "cell_type": "markdown",
   "source": [
    "# Task 1\n",
    "Print the count of men and women in the dataset."
   ],
   "metadata": {
    "collapsed": false,
    "pycharm": {
     "name": "#%% md\n"
    }
   }
  },
  {
   "cell_type": "code",
   "execution_count": 110,
   "outputs": [
    {
     "name": "stdout",
     "output_type": "stream",
     "text": [
      "Men: 20380, Women: 9782\n"
     ]
    }
   ],
   "source": [
    "men_number = data.loc[data[\"sex\"] == \"Male\", \"sex\"].count()\n",
    "women_number = data.loc[data[\"sex\"] == \"Female\", \"sex\"].count()\n",
    "\n",
    "print(f\"Men: {men_number}, Women: {women_number}\")"
   ],
   "metadata": {
    "collapsed": false,
    "pycharm": {
     "name": "#%%\n"
    },
    "ExecuteTime": {
     "end_time": "2024-01-08T12:05:30.774868100Z",
     "start_time": "2024-01-08T12:05:30.739059500Z"
    }
   }
  },
  {
   "cell_type": "markdown",
   "source": [
    "# Task 2\n",
    "Find the average age of men in dataset"
   ],
   "metadata": {
    "collapsed": false,
    "pycharm": {
     "name": "#%% md\n"
    }
   }
  },
  {
   "cell_type": "code",
   "execution_count": 111,
   "outputs": [
    {
     "name": "stdout",
     "output_type": "stream",
     "text": [
      "39\n"
     ]
    }
   ],
   "source": [
    "average_men_age = data.loc[data[\"sex\"] == \"Male\", \"age\"].mean()\n",
    "print(int(average_men_age))"
   ],
   "metadata": {
    "collapsed": false,
    "pycharm": {
     "name": "#%%\n"
    },
    "ExecuteTime": {
     "end_time": "2024-01-08T12:05:30.789708300Z",
     "start_time": "2024-01-08T12:05:30.769673100Z"
    }
   }
  },
  {
   "cell_type": "markdown",
   "source": [
    "# Task 3\n",
    "Get the percentage of people from Poland (native-country)"
   ],
   "metadata": {
    "collapsed": false,
    "pycharm": {
     "name": "#%% md\n"
    }
   }
  },
  {
   "cell_type": "code",
   "execution_count": 112,
   "outputs": [
    {
     "name": "stdout",
     "output_type": "stream",
     "text": [
      "0.2\n"
     ]
    }
   ],
   "source": [
    "total_count = data.shape[0]\n",
    "people_from_poland = data[data[\"native-country\"] == \"Poland\"].shape[0]\n",
    "\n",
    "percentage_from_poland = people_from_poland / total_count * 100\n",
    "print(round(percentage_from_poland, 1))"
   ],
   "metadata": {
    "collapsed": false,
    "pycharm": {
     "name": "#%%\n"
    },
    "ExecuteTime": {
     "end_time": "2024-01-08T12:05:30.840112400Z",
     "start_time": "2024-01-08T12:05:30.785922500Z"
    }
   }
  },
  {
   "cell_type": "markdown",
   "source": [
    "# Task 4\n",
    "Get the mean and standard deviation of the age for people who earn > 50K per year. After this, get it for those who earn <= 50K."
   ],
   "metadata": {
    "collapsed": false,
    "pycharm": {
     "name": "#%% md\n"
    }
   }
  },
  {
   "cell_type": "code",
   "execution_count": 113,
   "outputs": [
    {
     "name": "stdout",
     "output_type": "stream",
     "text": [
      "mean    44.0\n",
      "std     10.3\n",
      "Name: age, dtype: float64,\n",
      "mean    36.6\n",
      "std     13.5\n",
      "Name: age, dtype: float64\n"
     ]
    }
   ],
   "source": [
    "age_data_greater_50K = data[data[\"salary\"] == \">50K\"][\"age\"].agg([np.mean, np.std])\n",
    "age_data_less_equal_50K = data[data[\"salary\"] == \"<=50K\"][\"age\"].agg([np.mean, np.std])\n",
    "\n",
    "print(f\"{age_data_greater_50K.round(1)},\\n{age_data_less_equal_50K.round(1)}\")"
   ],
   "metadata": {
    "collapsed": false,
    "pycharm": {
     "name": "#%%\n"
    },
    "ExecuteTime": {
     "end_time": "2024-01-08T12:05:30.873136100Z",
     "start_time": "2024-01-08T12:05:30.799901500Z"
    }
   }
  },
  {
   "cell_type": "markdown",
   "source": [
    "# Task 5\n",
    "Check, if there are some people without higher education (education: Bachelors, Prof-school, Assoc-acdm, Assoc-voc, Masters, Doctorate), but with > 50K salary"
   ],
   "metadata": {
    "collapsed": false,
    "pycharm": {
     "name": "#%% md\n"
    }
   }
  },
  {
   "cell_type": "code",
   "execution_count": 114,
   "outputs": [
    {
     "name": "stdout",
     "output_type": "stream",
     "text": [
      "       Unnamed: 0  age         workclass     education      marital-status  \\\n",
      "7               7   52  Self-emp-not-inc       HS-grad  Married-civ-spouse   \n",
      "10             10   37           Private  Some-college  Married-civ-spouse   \n",
      "55             55   43           Private  Some-college  Married-civ-spouse   \n",
      "67             67   53           Private       HS-grad  Married-civ-spouse   \n",
      "68             68   49      Self-emp-inc  Some-college  Married-civ-spouse   \n",
      "...           ...  ...               ...           ...                 ...   \n",
      "32462       32462   48      Self-emp-inc       HS-grad  Married-civ-spouse   \n",
      "32518       32518   57         Local-gov       HS-grad  Married-civ-spouse   \n",
      "32519       32519   46           Private  Some-college  Married-civ-spouse   \n",
      "32557       32557   40           Private       HS-grad  Married-civ-spouse   \n",
      "32560       32560   52      Self-emp-inc       HS-grad  Married-civ-spouse   \n",
      "\n",
      "              occupation relationship   race     sex  hours-per-week  \\\n",
      "7        Exec-managerial      Husband  White    Male              45   \n",
      "10       Exec-managerial      Husband  Black    Male              80   \n",
      "55          Tech-support      Husband  White    Male              40   \n",
      "67          Adm-clerical         Wife  White  Female              40   \n",
      "68       Exec-managerial      Husband  White    Male              50   \n",
      "...                  ...          ...    ...     ...             ...   \n",
      "32462       Craft-repair      Husband  White    Male              50   \n",
      "32518       Craft-repair      Husband  White    Male              40   \n",
      "32519    Exec-managerial      Husband  White    Male              48   \n",
      "32557  Machine-op-inspct      Husband  White    Male              40   \n",
      "32560    Exec-managerial         Wife  White  Female              40   \n",
      "\n",
      "      native-country salary  salary K$  \n",
      "7      United-States   >50K        307  \n",
      "10     United-States   >50K        116  \n",
      "55     United-States   >50K        341  \n",
      "67     United-States   >50K        225  \n",
      "68     United-States   >50K        194  \n",
      "...              ...    ...        ...  \n",
      "32462  United-States   >50K        343  \n",
      "32518  United-States   >50K        116  \n",
      "32519  United-States   >50K        239  \n",
      "32557  United-States   >50K        173  \n",
      "32560  United-States   >50K        243  \n",
      "\n",
      "[3178 rows x 13 columns]\n"
     ]
    }
   ],
   "source": [
    "higher_education = [\"Bachelors\", \"Prof-school\", \"Assoc-acdm\", \"Assoc-voc\", \"Masters\", \"Doctorate\"]\n",
    "people = data[\n",
    "    (~data[\"education\"].isin(higher_education)) &\n",
    "    (data[\"salary\"] == \">50K\")\n",
    "]\n",
    "\n",
    "print(people)"
   ],
   "metadata": {
    "collapsed": false,
    "pycharm": {
     "name": "#%%\n"
    },
    "ExecuteTime": {
     "end_time": "2024-01-08T12:05:30.875137200Z",
     "start_time": "2024-01-08T12:05:30.836093Z"
    }
   }
  },
  {
   "cell_type": "markdown",
   "source": [
    "# Task 6\n",
    "Get the statistics of age for each type of education. Use `groupby` and `describe` for this."
   ],
   "metadata": {
    "collapsed": false,
    "pycharm": {
     "name": "#%% md\n"
    }
   }
  },
  {
   "cell_type": "code",
   "execution_count": 115,
   "outputs": [
    {
     "name": "stdout",
     "output_type": "stream",
     "text": [
      "               count       mean        std   min   25%   50%   75%   max\n",
      "education                                                               \n",
      "10th           820.0  37.897561  16.225795  17.0  23.0  36.0  52.0  90.0\n",
      "11th          1048.0  32.363550  15.089307  17.0  18.0  28.5  43.0  90.0\n",
      "12th           377.0  32.013263  14.373710  17.0  19.0  28.0  41.0  79.0\n",
      "1st-4th        151.0  44.622517  14.929051  19.0  33.0  44.0  56.0  81.0\n",
      "5th-6th        288.0  41.649306  14.754622  17.0  28.0  41.0  53.0  82.0\n",
      "7th-8th        557.0  47.631957  15.737479  17.0  34.0  49.0  60.0  90.0\n",
      "9th            455.0  40.303297  15.335754  17.0  28.0  38.0  53.0  90.0\n",
      "Assoc-acdm    1008.0  37.286706  10.509755  19.0  29.0  36.0  44.0  90.0\n",
      "Assoc-voc     1307.0  38.246366  11.181253  19.0  30.0  37.0  45.0  84.0\n",
      "Bachelors     5044.0  38.641554  11.577566  19.0  29.0  37.0  46.0  90.0\n",
      "Doctorate      375.0  47.130667  11.471727  24.0  39.0  47.0  54.0  80.0\n",
      "HS-grad       9840.0  38.640955  13.067730  17.0  28.0  37.0  48.0  90.0\n",
      "Masters       1627.0  43.740012  10.735356  18.0  36.0  43.0  50.0  90.0\n",
      "Preschool       45.0  41.288889  15.175672  19.0  30.0  40.0  53.0  75.0\n",
      "Prof-school    542.0  44.249077  11.428098  25.0  36.0  43.0  50.0  90.0\n",
      "Some-college  6678.0  36.135370  13.073528  17.0  25.0  35.0  45.0  90.0\n"
     ]
    }
   ],
   "source": [
    "education_age_stat = data.groupby(\"education\")[\"age\"].describe()\n",
    "\n",
    "print(education_age_stat)"
   ],
   "metadata": {
    "collapsed": false,
    "pycharm": {
     "name": "#%%\n"
    },
    "ExecuteTime": {
     "end_time": "2024-01-08T12:05:30.926694100Z",
     "start_time": "2024-01-08T12:05:30.864118600Z"
    }
   }
  },
  {
   "cell_type": "markdown",
   "source": [
    "# Task 7\n",
    "Compare the married and non-married men salaries. Who earns more? (>50K or <=50K)\n",
    "Married men are those, whom `marital-status` starts with \"Married\". Others are not."
   ],
   "metadata": {
    "collapsed": false,
    "pycharm": {
     "name": "#%% md\n"
    }
   }
  },
  {
   "cell_type": "code",
   "execution_count": 116,
   "outputs": [
    {
     "name": "stdout",
     "output_type": "stream",
     "text": [
      "Merried men:\n",
      "<=50K    7052\n",
      ">50K     5723\n",
      "Name: salary, dtype: int64\n",
      "Non-married men:\n",
      "<=50K    6932\n",
      ">50K      673\n",
      "Name: salary, dtype: int64\n"
     ]
    }
   ],
   "source": [
    "married_people = data[\"marital-status\"].str.startswith(\"Married\")\n",
    "married_men = data[\n",
    "    (data[\"sex\"] == \"Male\") &\n",
    "    married_people\n",
    "]\n",
    "non_married_men = data[\n",
    "    (data[\"sex\"] == \"Male\") &\n",
    "    ~married_people\n",
    "]\n",
    "\n",
    "married_men_salary = married_men[\"salary\"].value_counts()\n",
    "non_married_men_salary = non_married_men[\"salary\"].value_counts()\n",
    "\n",
    "print(f\"Merried men:\\n{married_men_salary}\\n\"\n",
    "      f\"Non-married men:\\n{non_married_men_salary}\")"
   ],
   "metadata": {
    "collapsed": false,
    "pycharm": {
     "name": "#%%\n"
    },
    "ExecuteTime": {
     "end_time": "2024-01-08T12:05:31.004357600Z",
     "start_time": "2024-01-08T12:05:30.926694100Z"
    }
   }
  },
  {
   "cell_type": "markdown",
   "source": [
    "# Task 8\n",
    "Get the max hours per week some person works. How many people works the same amount of hours per week?"
   ],
   "metadata": {
    "collapsed": false,
    "pycharm": {
     "name": "#%% md\n"
    }
   }
  },
  {
   "cell_type": "code",
   "execution_count": 117,
   "outputs": [
    {
     "name": "stdout",
     "output_type": "stream",
     "text": [
      "Max hours: 99\n",
      "Count workers:78\n"
     ]
    }
   ],
   "source": [
    "max_hours_per_week = data[\"hours-per-week\"].max()\n",
    "people_working_max_hours = data[data[\"hours-per-week\"] == max_hours_per_week].shape[0]\n",
    "\n",
    "print(f\"Max hours: {max_hours_per_week}\\nCount workers:{people_working_max_hours}\")"
   ],
   "metadata": {
    "collapsed": false,
    "pycharm": {
     "name": "#%%\n"
    },
    "ExecuteTime": {
     "end_time": "2024-01-08T12:05:31.005357900Z",
     "start_time": "2024-01-08T12:05:30.959098400Z"
    }
   }
  },
  {
   "cell_type": "markdown",
   "source": [
    "# Task 9\n",
    "Analyze the correlation between data in dataset. Understand connected fields in it and print highlight thier connection."
   ],
   "metadata": {
    "collapsed": false,
    "pycharm": {
     "name": "#%% md\n"
    }
   }
  },
  {
   "cell_type": "code",
   "execution_count": 118,
   "outputs": [
    {
     "name": "stdout",
     "output_type": "stream",
     "text": [
      "                Unnamed: 0       age  hours-per-week  salary K$\n",
      "Unnamed: 0        1.000000 -0.001126       -0.001890   0.000129\n",
      "age              -0.001126  1.000000        0.101599   0.208203\n",
      "hours-per-week   -0.001890  0.101599        1.000000   0.196378\n",
      "salary K$         0.000129  0.208203        0.196378   1.000000\n"
     ]
    }
   ],
   "source": [
    "correlation_matrix = data.corr()\n",
    "\n",
    "print(correlation_matrix)"
   ],
   "metadata": {
    "collapsed": false,
    "pycharm": {
     "name": "#%%\n"
    },
    "ExecuteTime": {
     "end_time": "2024-01-08T12:05:31.051319900Z",
     "start_time": "2024-01-08T12:05:30.972258500Z"
    }
   }
  }
 ],
 "metadata": {
  "kernelspec": {
   "display_name": "Python 3",
   "language": "python",
   "name": "python3"
  },
  "language_info": {
   "codemirror_mode": {
    "name": "ipython",
    "version": 2
   },
   "file_extension": ".py",
   "mimetype": "text/x-python",
   "name": "python",
   "nbconvert_exporter": "python",
   "pygments_lexer": "ipython2",
   "version": "2.7.6"
  }
 },
 "nbformat": 4,
 "nbformat_minor": 0
}
