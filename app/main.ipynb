{
 "cells": [
  {
   "cell_type": "code",
   "execution_count": 35,
   "outputs": [],
   "source": [
    "import numpy as np\n",
    "import pandas as pd"
   ],
   "metadata": {
    "collapsed": false,
    "pycharm": {
     "name": "#%%\n"
    },
    "ExecuteTime": {
     "end_time": "2024-03-01T11:35:07.400195700Z",
     "start_time": "2024-03-01T11:35:07.371324700Z"
    }
   }
  },
  {
   "cell_type": "markdown",
   "source": [
    "# Task 0\n",
    "Read the dataset from csv file & perform data cleaning - remove all rows, which contains `?` in some columns.\n",
    "Also check for data correctness (salary & salary $K)."
   ],
   "metadata": {
    "collapsed": false,
    "pycharm": {
     "name": "#%% md\n"
    }
   }
  },
  {
   "cell_type": "code",
   "execution_count": 48,
   "outputs": [
    {
     "name": "stdout",
     "output_type": "stream",
     "text": [
      "Consistency between 'salary' and 'salary K$' for '>50K' category: True\n",
      "Consistency between 'salary' and 'salary K$' for '<=50K' category: True\n"
     ]
    }
   ],
   "source": [
    "df = pd.read_csv(\"../data/adult.csv\")\n",
    "df.head()\n",
    "df = df[~df.eq(\"?\").any(axis=1)]\n",
    "\n",
    "salaries_gt_50k = df[df['salary'] == '>50K']['salary K$'] > 50\n",
    "print(f\"Consistency between 'salary' and 'salary K$' for '>50K' category: {salaries_gt_50k.all()}\")\n",
    "\n",
    "salaries_le_50k = df[df['salary'] == '<=50K']['salary K$'] <= 50\n",
    "print(f\"Consistency between 'salary' and 'salary K$' for '<=50K' category: {salaries_le_50k.all()}\")"
   ],
   "metadata": {
    "collapsed": false,
    "pycharm": {
     "name": "#%%\n"
    },
    "ExecuteTime": {
     "end_time": "2024-03-01T11:37:55.029745500Z",
     "start_time": "2024-03-01T11:37:54.926047700Z"
    }
   }
  },
  {
   "cell_type": "markdown",
   "source": [
    "# Task 1\n",
    "Print the count of men and women in the dataset."
   ],
   "metadata": {
    "collapsed": false,
    "pycharm": {
     "name": "#%% md\n"
    }
   }
  },
  {
   "cell_type": "code",
   "execution_count": 50,
   "outputs": [
    {
     "data": {
      "text/plain": "sex\nMale      20380\nFemale     9782\nName: count, dtype: int64"
     },
     "execution_count": 50,
     "metadata": {},
     "output_type": "execute_result"
    }
   ],
   "source": [
    "df[\"sex\"].value_counts()"
   ],
   "metadata": {
    "collapsed": false,
    "pycharm": {
     "name": "#%%\n"
    },
    "ExecuteTime": {
     "end_time": "2024-03-01T11:38:54.690836800Z",
     "start_time": "2024-03-01T11:38:54.669500800Z"
    }
   }
  },
  {
   "cell_type": "markdown",
   "source": [
    "# Task 2\n",
    "Find the average age of men in dataset"
   ],
   "metadata": {
    "collapsed": false,
    "pycharm": {
     "name": "#%% md\n"
    }
   }
  },
  {
   "cell_type": "code",
   "execution_count": 63,
   "outputs": [
    {
     "data": {
      "text/plain": "39.18400392541707"
     },
     "execution_count": 63,
     "metadata": {},
     "output_type": "execute_result"
    }
   ],
   "source": [
    "series_male_age = df[df[\"sex\"] == \"Male\"][\"age\"]\n",
    "series_male_age.mean()"
   ],
   "metadata": {
    "collapsed": false,
    "pycharm": {
     "name": "#%%\n"
    },
    "ExecuteTime": {
     "end_time": "2024-03-01T11:46:39.387261600Z",
     "start_time": "2024-03-01T11:46:39.340417300Z"
    }
   }
  },
  {
   "cell_type": "markdown",
   "source": [
    "# Task 3\n",
    "Get the percentage of people from Poland (native-country)"
   ],
   "metadata": {
    "collapsed": false,
    "pycharm": {
     "name": "#%% md\n"
    }
   }
  },
  {
   "cell_type": "code",
   "execution_count": 70,
   "outputs": [
    {
     "name": "stdout",
     "output_type": "stream",
     "text": [
      "Percentage of people from Poland 0.19%\n"
     ]
    }
   ],
   "source": [
    "num_polish = df[df[\"native-country\"] == \"Poland\"].shape[0]\n",
    "all_people = df.shape[0]\n",
    "print(f\"Percentage of people from Poland - {num_polish / all_people * 100:.2f}%\")"
   ],
   "metadata": {
    "collapsed": false,
    "pycharm": {
     "name": "#%%\n"
    },
    "ExecuteTime": {
     "end_time": "2024-03-01T11:52:24.193101900Z",
     "start_time": "2024-03-01T11:52:24.181929600Z"
    }
   }
  },
  {
   "cell_type": "markdown",
   "source": [
    "# Task 4\n",
    "Get the mean and standard deviation of the age for people who earn > 50K per year. After this, get it for those who earn <= 50K."
   ],
   "metadata": {
    "collapsed": false,
    "pycharm": {
     "name": "#%% md\n"
    }
   }
  },
  {
   "cell_type": "code",
   "execution_count": 78,
   "outputs": [
    {
     "name": "stdout",
     "output_type": "stream",
     "text": [
      "Mean of the age for people who earn >50K per year - 43.95911028236548\n",
      "Standard deviation of the age for people who earn > 50K per year - 10.269632835673852\n",
      "\n",
      "Mean of the age for people who earn <=50K per year - 36.60806038668668\n",
      "Standard deviation of age for people who earn <50K per year - 13.464631257161633\n"
     ]
    }
   ],
   "source": [
    "people_gt_50k = df[df[\"salary\"] == \">50K\"]\n",
    "print(f\"Mean of the age for people who earn >50K per year - {people_gt_50k[\"age\"].mean()}\")\n",
    "print(f\"Standard deviation of the age for people who earn > 50K per year - {people_gt_50k[\"age\"].std()}\")\n",
    "print()\n",
    "people_le_50k = df[df[\"salary\"] == \"<=50K\"]\n",
    "print(f\"Mean of the age for people who earn <=50K per year - {people_le_50k[\"age\"].mean()}\")\n",
    "print(f\"Standard deviation of age for people who earn <50K per year - {people_le_50k[\"age\"].std()}\")"
   ],
   "metadata": {
    "collapsed": false,
    "pycharm": {
     "name": "#%%\n"
    },
    "ExecuteTime": {
     "end_time": "2024-03-01T11:58:49.290425700Z",
     "start_time": "2024-03-01T11:58:49.265702500Z"
    }
   }
  },
  {
   "cell_type": "markdown",
   "source": [
    "# Task 5\n",
    "Check, if there are some people without higher education (education: Bachelors, Prof-school, Assoc-acdm, Assoc-voc, Masters, Doctorate), but with > 50K salary"
   ],
   "metadata": {
    "collapsed": false,
    "pycharm": {
     "name": "#%% md\n"
    }
   }
  },
  {
   "cell_type": "code",
   "execution_count": 83,
   "outputs": [
    {
     "data": {
      "text/plain": "       Unnamed: 0  age         workclass     education      marital-status  \\\n7               7   52  Self-emp-not-inc       HS-grad  Married-civ-spouse   \n10             10   37           Private  Some-college  Married-civ-spouse   \n52             52   47           Private   Prof-school  Married-civ-spouse   \n55             55   43           Private  Some-college  Married-civ-spouse   \n67             67   53           Private       HS-grad  Married-civ-spouse   \n...           ...  ...               ...           ...                 ...   \n32466       32466   37           Private   Prof-school  Married-civ-spouse   \n32518       32518   57         Local-gov       HS-grad  Married-civ-spouse   \n32519       32519   46           Private  Some-college  Married-civ-spouse   \n32557       32557   40           Private       HS-grad  Married-civ-spouse   \n32560       32560   52      Self-emp-inc       HS-grad  Married-civ-spouse   \n\n              occupation relationship   race     sex  hours-per-week  \\\n7        Exec-managerial      Husband  White    Male              45   \n10       Exec-managerial      Husband  Black    Male              80   \n52        Prof-specialty         Wife  White  Female              60   \n55          Tech-support      Husband  White    Male              40   \n67          Adm-clerical         Wife  White  Female              40   \n...                  ...          ...    ...     ...             ...   \n32466     Prof-specialty      Husband  White    Male              45   \n32518       Craft-repair      Husband  White    Male              40   \n32519    Exec-managerial      Husband  White    Male              48   \n32557  Machine-op-inspct      Husband  White    Male              40   \n32560    Exec-managerial         Wife  White  Female              40   \n\n      native-country salary  salary K$  \n7      United-States   >50K        307  \n10     United-States   >50K        116  \n52          Honduras   >50K        254  \n55     United-States   >50K        341  \n67     United-States   >50K        225  \n...              ...    ...        ...  \n32466  United-States   >50K        218  \n32518  United-States   >50K        116  \n32519  United-States   >50K        239  \n32557  United-States   >50K        173  \n32560  United-States   >50K        243  \n\n[3584 rows x 13 columns]",
      "text/html": "<div>\n<style scoped>\n    .dataframe tbody tr th:only-of-type {\n        vertical-align: middle;\n    }\n\n    .dataframe tbody tr th {\n        vertical-align: top;\n    }\n\n    .dataframe thead th {\n        text-align: right;\n    }\n</style>\n<table border=\"1\" class=\"dataframe\">\n  <thead>\n    <tr style=\"text-align: right;\">\n      <th></th>\n      <th>Unnamed: 0</th>\n      <th>age</th>\n      <th>workclass</th>\n      <th>education</th>\n      <th>marital-status</th>\n      <th>occupation</th>\n      <th>relationship</th>\n      <th>race</th>\n      <th>sex</th>\n      <th>hours-per-week</th>\n      <th>native-country</th>\n      <th>salary</th>\n      <th>salary K$</th>\n    </tr>\n  </thead>\n  <tbody>\n    <tr>\n      <th>7</th>\n      <td>7</td>\n      <td>52</td>\n      <td>Self-emp-not-inc</td>\n      <td>HS-grad</td>\n      <td>Married-civ-spouse</td>\n      <td>Exec-managerial</td>\n      <td>Husband</td>\n      <td>White</td>\n      <td>Male</td>\n      <td>45</td>\n      <td>United-States</td>\n      <td>&gt;50K</td>\n      <td>307</td>\n    </tr>\n    <tr>\n      <th>10</th>\n      <td>10</td>\n      <td>37</td>\n      <td>Private</td>\n      <td>Some-college</td>\n      <td>Married-civ-spouse</td>\n      <td>Exec-managerial</td>\n      <td>Husband</td>\n      <td>Black</td>\n      <td>Male</td>\n      <td>80</td>\n      <td>United-States</td>\n      <td>&gt;50K</td>\n      <td>116</td>\n    </tr>\n    <tr>\n      <th>52</th>\n      <td>52</td>\n      <td>47</td>\n      <td>Private</td>\n      <td>Prof-school</td>\n      <td>Married-civ-spouse</td>\n      <td>Prof-specialty</td>\n      <td>Wife</td>\n      <td>White</td>\n      <td>Female</td>\n      <td>60</td>\n      <td>Honduras</td>\n      <td>&gt;50K</td>\n      <td>254</td>\n    </tr>\n    <tr>\n      <th>55</th>\n      <td>55</td>\n      <td>43</td>\n      <td>Private</td>\n      <td>Some-college</td>\n      <td>Married-civ-spouse</td>\n      <td>Tech-support</td>\n      <td>Husband</td>\n      <td>White</td>\n      <td>Male</td>\n      <td>40</td>\n      <td>United-States</td>\n      <td>&gt;50K</td>\n      <td>341</td>\n    </tr>\n    <tr>\n      <th>67</th>\n      <td>67</td>\n      <td>53</td>\n      <td>Private</td>\n      <td>HS-grad</td>\n      <td>Married-civ-spouse</td>\n      <td>Adm-clerical</td>\n      <td>Wife</td>\n      <td>White</td>\n      <td>Female</td>\n      <td>40</td>\n      <td>United-States</td>\n      <td>&gt;50K</td>\n      <td>225</td>\n    </tr>\n    <tr>\n      <th>...</th>\n      <td>...</td>\n      <td>...</td>\n      <td>...</td>\n      <td>...</td>\n      <td>...</td>\n      <td>...</td>\n      <td>...</td>\n      <td>...</td>\n      <td>...</td>\n      <td>...</td>\n      <td>...</td>\n      <td>...</td>\n      <td>...</td>\n    </tr>\n    <tr>\n      <th>32466</th>\n      <td>32466</td>\n      <td>37</td>\n      <td>Private</td>\n      <td>Prof-school</td>\n      <td>Married-civ-spouse</td>\n      <td>Prof-specialty</td>\n      <td>Husband</td>\n      <td>White</td>\n      <td>Male</td>\n      <td>45</td>\n      <td>United-States</td>\n      <td>&gt;50K</td>\n      <td>218</td>\n    </tr>\n    <tr>\n      <th>32518</th>\n      <td>32518</td>\n      <td>57</td>\n      <td>Local-gov</td>\n      <td>HS-grad</td>\n      <td>Married-civ-spouse</td>\n      <td>Craft-repair</td>\n      <td>Husband</td>\n      <td>White</td>\n      <td>Male</td>\n      <td>40</td>\n      <td>United-States</td>\n      <td>&gt;50K</td>\n      <td>116</td>\n    </tr>\n    <tr>\n      <th>32519</th>\n      <td>32519</td>\n      <td>46</td>\n      <td>Private</td>\n      <td>Some-college</td>\n      <td>Married-civ-spouse</td>\n      <td>Exec-managerial</td>\n      <td>Husband</td>\n      <td>White</td>\n      <td>Male</td>\n      <td>48</td>\n      <td>United-States</td>\n      <td>&gt;50K</td>\n      <td>239</td>\n    </tr>\n    <tr>\n      <th>32557</th>\n      <td>32557</td>\n      <td>40</td>\n      <td>Private</td>\n      <td>HS-grad</td>\n      <td>Married-civ-spouse</td>\n      <td>Machine-op-inspct</td>\n      <td>Husband</td>\n      <td>White</td>\n      <td>Male</td>\n      <td>40</td>\n      <td>United-States</td>\n      <td>&gt;50K</td>\n      <td>173</td>\n    </tr>\n    <tr>\n      <th>32560</th>\n      <td>32560</td>\n      <td>52</td>\n      <td>Self-emp-inc</td>\n      <td>HS-grad</td>\n      <td>Married-civ-spouse</td>\n      <td>Exec-managerial</td>\n      <td>Wife</td>\n      <td>White</td>\n      <td>Female</td>\n      <td>40</td>\n      <td>United-States</td>\n      <td>&gt;50K</td>\n      <td>243</td>\n    </tr>\n  </tbody>\n</table>\n<p>3584 rows × 13 columns</p>\n</div>"
     },
     "execution_count": 83,
     "metadata": {},
     "output_type": "execute_result"
    }
   ],
   "source": [
    "he = [\"Bachelors\", \"Assoc-acdm\", \"Assoc-voc\", \"Masters\", \"Doctorate\"]\n",
    "df_without_he = df[~df[\"education\"].isin(he)]\n",
    "df_without_he[df_without_he[\"salary\"] == \">50K\"]"
   ],
   "metadata": {
    "collapsed": false,
    "pycharm": {
     "name": "#%%\n"
    },
    "ExecuteTime": {
     "end_time": "2024-03-01T12:03:07.427811200Z",
     "start_time": "2024-03-01T12:03:07.389718700Z"
    }
   }
  },
  {
   "cell_type": "markdown",
   "source": [
    "# Task 6\n",
    "Get the statistics of age for each type of education. Use `groupby` and `describe` for this."
   ],
   "metadata": {
    "collapsed": false,
    "pycharm": {
     "name": "#%% md\n"
    }
   }
  },
  {
   "cell_type": "code",
   "execution_count": 86,
   "outputs": [
    {
     "data": {
      "text/plain": "             Unnamed: 0                                                      \\\n                  count          mean          std    min      25%      50%   \neducation                                                                     \n10th              820.0  16099.841463  9323.630350  219.0  7860.75  16110.5   \n11th             1048.0  16230.614504  9435.727749    3.0  7773.25  16491.5   \n12th              377.0  17524.734748  9160.712573  415.0  9895.00  18630.0   \n1st-4th           151.0  17502.503311  9788.829534  416.0  9009.00  17445.0   \n5th-6th           288.0  16845.131944  9273.562959   56.0  9557.75  17173.0   \n7th-8th           557.0  16283.675045  9328.136399   15.0  8014.00  16464.0   \n9th               455.0  16306.367033  9438.104861    6.0  7638.50  16734.0   \nAssoc-acdm       1008.0  16667.503968  9503.534369   13.0  8176.00  16897.5   \nAssoc-voc        1307.0  16520.351186  9429.290747   48.0  8453.50  16722.0   \nBachelors        5044.0  16187.880452  9355.163922    0.0  8265.75  16108.0   \nDoctorate         375.0  16600.130667  9141.070844   20.0  9067.50  16573.0   \nHS-grad          9840.0  16166.445935  9338.758443    2.0  8173.75  16058.5   \nMasters          1627.0  16341.271051  9497.768306    5.0  8094.00  16134.0   \nPreschool          45.0  18268.377778  9824.639913  224.0  8775.00  21388.0   \nProf-school       542.0  16724.850554  9575.872379   52.0  8325.50  17072.0   \nSome-college     6678.0  16266.526804  9414.721651   10.0  7986.25  16238.5   \n\n                                    age             ... hours-per-week        \\\n                   75%      max   count       mean  ...            75%   max   \neducation                                           ...                        \n10th          24230.75  32551.0   820.0  37.897561  ...           40.0  99.0   \n11th          24275.25  32522.0  1048.0  32.363550  ...           40.0  99.0   \n12th          25040.00  32535.0   377.0  32.013263  ...           40.0  99.0   \n1st-4th       27132.50  32425.0   151.0  44.622517  ...           40.0  96.0   \n5th-6th       25550.25  32334.0   288.0  41.649306  ...           40.0  75.0   \n7th-8th       24473.00  32517.0   557.0  47.631957  ...           40.0  99.0   \n9th           24516.00  32501.0   455.0  40.303297  ...           40.0  99.0   \nAssoc-acdm    24918.25  32556.0  1008.0  37.286706  ...           45.0  99.0   \nAssoc-voc     24410.50  32552.0  1307.0  38.246366  ...           45.0  99.0   \nBachelors     24284.75  32538.0  5044.0  38.641554  ...           50.0  99.0   \nDoctorate     24299.00  32532.0   375.0  47.130667  ...           55.0  99.0   \nHS-grad       24203.00  32560.0  9840.0  38.640955  ...           44.0  99.0   \nMasters       24705.00  32554.0  1627.0  43.740012  ...           50.0  99.0   \nPreschool     25652.00  32432.0    45.0  41.288889  ...           40.0  75.0   \nProf-school   25123.25  32548.0   542.0  44.249077  ...           55.0  99.0   \nSome-college  24486.75  32555.0  6678.0  36.135370  ...           45.0  99.0   \n\n             salary K$                                                     \\\n                 count        mean         std   min   25%    50%     75%   \neducation                                                                   \n10th             820.0   43.912195   47.890388  15.0  25.0   33.0   43.00   \n11th            1048.0   41.527672   46.846283  15.0  24.0   32.0   42.00   \n12th             377.0   42.761273   47.213033  15.0  24.0   33.0   43.00   \n1st-4th          151.0   37.556291   34.351446  15.0  24.0   31.0   41.50   \n5th-6th          288.0   39.857639   42.081933  15.0  23.0   33.0   43.00   \n7th-8th          557.0   42.095153   47.388376  15.0  24.0   32.0   42.00   \n9th              455.0   43.028571   50.022784  15.0  24.5   33.0   42.00   \nAssoc-acdm      1008.0   75.566468   87.291460  15.0  26.0   38.0   61.25   \nAssoc-voc       1307.0   76.102525   86.446091  15.0  27.0   39.0   64.00   \nBachelors       5044.0  102.832276  101.376121  15.0  29.0   44.0  172.00   \nDoctorate        375.0  156.080000  100.855374  15.0  48.5  152.0  237.00   \nHS-grad         9840.0   60.345122   73.708985  15.0  25.0   35.0   46.00   \nMasters         1627.0  124.615243  104.710469  15.0  35.0   83.0  207.00   \nPreschool         45.0   32.644444    9.556425  15.0  23.0   35.0   39.00   \nProf-school      542.0  156.715867  103.920436  15.0  49.5  147.5  249.00   \nSome-college    6678.0   65.799341   78.161186  15.0  26.0   37.0   47.00   \n\n                     \n                max  \neducation            \n10th          347.0  \n11th          345.0  \n12th          349.0  \n1st-4th       279.0  \n5th-6th       347.0  \n7th-8th       347.0  \n9th           349.0  \nAssoc-acdm    349.0  \nAssoc-voc     349.0  \nBachelors     349.0  \nDoctorate     349.0  \nHS-grad       349.0  \nMasters       349.0  \nPreschool      49.0  \nProf-school   346.0  \nSome-college  349.0  \n\n[16 rows x 32 columns]",
      "text/html": "<div>\n<style scoped>\n    .dataframe tbody tr th:only-of-type {\n        vertical-align: middle;\n    }\n\n    .dataframe tbody tr th {\n        vertical-align: top;\n    }\n\n    .dataframe thead tr th {\n        text-align: left;\n    }\n\n    .dataframe thead tr:last-of-type th {\n        text-align: right;\n    }\n</style>\n<table border=\"1\" class=\"dataframe\">\n  <thead>\n    <tr>\n      <th></th>\n      <th colspan=\"8\" halign=\"left\">Unnamed: 0</th>\n      <th colspan=\"2\" halign=\"left\">age</th>\n      <th>...</th>\n      <th colspan=\"2\" halign=\"left\">hours-per-week</th>\n      <th colspan=\"8\" halign=\"left\">salary K$</th>\n    </tr>\n    <tr>\n      <th></th>\n      <th>count</th>\n      <th>mean</th>\n      <th>std</th>\n      <th>min</th>\n      <th>25%</th>\n      <th>50%</th>\n      <th>75%</th>\n      <th>max</th>\n      <th>count</th>\n      <th>mean</th>\n      <th>...</th>\n      <th>75%</th>\n      <th>max</th>\n      <th>count</th>\n      <th>mean</th>\n      <th>std</th>\n      <th>min</th>\n      <th>25%</th>\n      <th>50%</th>\n      <th>75%</th>\n      <th>max</th>\n    </tr>\n    <tr>\n      <th>education</th>\n      <th></th>\n      <th></th>\n      <th></th>\n      <th></th>\n      <th></th>\n      <th></th>\n      <th></th>\n      <th></th>\n      <th></th>\n      <th></th>\n      <th></th>\n      <th></th>\n      <th></th>\n      <th></th>\n      <th></th>\n      <th></th>\n      <th></th>\n      <th></th>\n      <th></th>\n      <th></th>\n      <th></th>\n    </tr>\n  </thead>\n  <tbody>\n    <tr>\n      <th>10th</th>\n      <td>820.0</td>\n      <td>16099.841463</td>\n      <td>9323.630350</td>\n      <td>219.0</td>\n      <td>7860.75</td>\n      <td>16110.5</td>\n      <td>24230.75</td>\n      <td>32551.0</td>\n      <td>820.0</td>\n      <td>37.897561</td>\n      <td>...</td>\n      <td>40.0</td>\n      <td>99.0</td>\n      <td>820.0</td>\n      <td>43.912195</td>\n      <td>47.890388</td>\n      <td>15.0</td>\n      <td>25.0</td>\n      <td>33.0</td>\n      <td>43.00</td>\n      <td>347.0</td>\n    </tr>\n    <tr>\n      <th>11th</th>\n      <td>1048.0</td>\n      <td>16230.614504</td>\n      <td>9435.727749</td>\n      <td>3.0</td>\n      <td>7773.25</td>\n      <td>16491.5</td>\n      <td>24275.25</td>\n      <td>32522.0</td>\n      <td>1048.0</td>\n      <td>32.363550</td>\n      <td>...</td>\n      <td>40.0</td>\n      <td>99.0</td>\n      <td>1048.0</td>\n      <td>41.527672</td>\n      <td>46.846283</td>\n      <td>15.0</td>\n      <td>24.0</td>\n      <td>32.0</td>\n      <td>42.00</td>\n      <td>345.0</td>\n    </tr>\n    <tr>\n      <th>12th</th>\n      <td>377.0</td>\n      <td>17524.734748</td>\n      <td>9160.712573</td>\n      <td>415.0</td>\n      <td>9895.00</td>\n      <td>18630.0</td>\n      <td>25040.00</td>\n      <td>32535.0</td>\n      <td>377.0</td>\n      <td>32.013263</td>\n      <td>...</td>\n      <td>40.0</td>\n      <td>99.0</td>\n      <td>377.0</td>\n      <td>42.761273</td>\n      <td>47.213033</td>\n      <td>15.0</td>\n      <td>24.0</td>\n      <td>33.0</td>\n      <td>43.00</td>\n      <td>349.0</td>\n    </tr>\n    <tr>\n      <th>1st-4th</th>\n      <td>151.0</td>\n      <td>17502.503311</td>\n      <td>9788.829534</td>\n      <td>416.0</td>\n      <td>9009.00</td>\n      <td>17445.0</td>\n      <td>27132.50</td>\n      <td>32425.0</td>\n      <td>151.0</td>\n      <td>44.622517</td>\n      <td>...</td>\n      <td>40.0</td>\n      <td>96.0</td>\n      <td>151.0</td>\n      <td>37.556291</td>\n      <td>34.351446</td>\n      <td>15.0</td>\n      <td>24.0</td>\n      <td>31.0</td>\n      <td>41.50</td>\n      <td>279.0</td>\n    </tr>\n    <tr>\n      <th>5th-6th</th>\n      <td>288.0</td>\n      <td>16845.131944</td>\n      <td>9273.562959</td>\n      <td>56.0</td>\n      <td>9557.75</td>\n      <td>17173.0</td>\n      <td>25550.25</td>\n      <td>32334.0</td>\n      <td>288.0</td>\n      <td>41.649306</td>\n      <td>...</td>\n      <td>40.0</td>\n      <td>75.0</td>\n      <td>288.0</td>\n      <td>39.857639</td>\n      <td>42.081933</td>\n      <td>15.0</td>\n      <td>23.0</td>\n      <td>33.0</td>\n      <td>43.00</td>\n      <td>347.0</td>\n    </tr>\n    <tr>\n      <th>7th-8th</th>\n      <td>557.0</td>\n      <td>16283.675045</td>\n      <td>9328.136399</td>\n      <td>15.0</td>\n      <td>8014.00</td>\n      <td>16464.0</td>\n      <td>24473.00</td>\n      <td>32517.0</td>\n      <td>557.0</td>\n      <td>47.631957</td>\n      <td>...</td>\n      <td>40.0</td>\n      <td>99.0</td>\n      <td>557.0</td>\n      <td>42.095153</td>\n      <td>47.388376</td>\n      <td>15.0</td>\n      <td>24.0</td>\n      <td>32.0</td>\n      <td>42.00</td>\n      <td>347.0</td>\n    </tr>\n    <tr>\n      <th>9th</th>\n      <td>455.0</td>\n      <td>16306.367033</td>\n      <td>9438.104861</td>\n      <td>6.0</td>\n      <td>7638.50</td>\n      <td>16734.0</td>\n      <td>24516.00</td>\n      <td>32501.0</td>\n      <td>455.0</td>\n      <td>40.303297</td>\n      <td>...</td>\n      <td>40.0</td>\n      <td>99.0</td>\n      <td>455.0</td>\n      <td>43.028571</td>\n      <td>50.022784</td>\n      <td>15.0</td>\n      <td>24.5</td>\n      <td>33.0</td>\n      <td>42.00</td>\n      <td>349.0</td>\n    </tr>\n    <tr>\n      <th>Assoc-acdm</th>\n      <td>1008.0</td>\n      <td>16667.503968</td>\n      <td>9503.534369</td>\n      <td>13.0</td>\n      <td>8176.00</td>\n      <td>16897.5</td>\n      <td>24918.25</td>\n      <td>32556.0</td>\n      <td>1008.0</td>\n      <td>37.286706</td>\n      <td>...</td>\n      <td>45.0</td>\n      <td>99.0</td>\n      <td>1008.0</td>\n      <td>75.566468</td>\n      <td>87.291460</td>\n      <td>15.0</td>\n      <td>26.0</td>\n      <td>38.0</td>\n      <td>61.25</td>\n      <td>349.0</td>\n    </tr>\n    <tr>\n      <th>Assoc-voc</th>\n      <td>1307.0</td>\n      <td>16520.351186</td>\n      <td>9429.290747</td>\n      <td>48.0</td>\n      <td>8453.50</td>\n      <td>16722.0</td>\n      <td>24410.50</td>\n      <td>32552.0</td>\n      <td>1307.0</td>\n      <td>38.246366</td>\n      <td>...</td>\n      <td>45.0</td>\n      <td>99.0</td>\n      <td>1307.0</td>\n      <td>76.102525</td>\n      <td>86.446091</td>\n      <td>15.0</td>\n      <td>27.0</td>\n      <td>39.0</td>\n      <td>64.00</td>\n      <td>349.0</td>\n    </tr>\n    <tr>\n      <th>Bachelors</th>\n      <td>5044.0</td>\n      <td>16187.880452</td>\n      <td>9355.163922</td>\n      <td>0.0</td>\n      <td>8265.75</td>\n      <td>16108.0</td>\n      <td>24284.75</td>\n      <td>32538.0</td>\n      <td>5044.0</td>\n      <td>38.641554</td>\n      <td>...</td>\n      <td>50.0</td>\n      <td>99.0</td>\n      <td>5044.0</td>\n      <td>102.832276</td>\n      <td>101.376121</td>\n      <td>15.0</td>\n      <td>29.0</td>\n      <td>44.0</td>\n      <td>172.00</td>\n      <td>349.0</td>\n    </tr>\n    <tr>\n      <th>Doctorate</th>\n      <td>375.0</td>\n      <td>16600.130667</td>\n      <td>9141.070844</td>\n      <td>20.0</td>\n      <td>9067.50</td>\n      <td>16573.0</td>\n      <td>24299.00</td>\n      <td>32532.0</td>\n      <td>375.0</td>\n      <td>47.130667</td>\n      <td>...</td>\n      <td>55.0</td>\n      <td>99.0</td>\n      <td>375.0</td>\n      <td>156.080000</td>\n      <td>100.855374</td>\n      <td>15.0</td>\n      <td>48.5</td>\n      <td>152.0</td>\n      <td>237.00</td>\n      <td>349.0</td>\n    </tr>\n    <tr>\n      <th>HS-grad</th>\n      <td>9840.0</td>\n      <td>16166.445935</td>\n      <td>9338.758443</td>\n      <td>2.0</td>\n      <td>8173.75</td>\n      <td>16058.5</td>\n      <td>24203.00</td>\n      <td>32560.0</td>\n      <td>9840.0</td>\n      <td>38.640955</td>\n      <td>...</td>\n      <td>44.0</td>\n      <td>99.0</td>\n      <td>9840.0</td>\n      <td>60.345122</td>\n      <td>73.708985</td>\n      <td>15.0</td>\n      <td>25.0</td>\n      <td>35.0</td>\n      <td>46.00</td>\n      <td>349.0</td>\n    </tr>\n    <tr>\n      <th>Masters</th>\n      <td>1627.0</td>\n      <td>16341.271051</td>\n      <td>9497.768306</td>\n      <td>5.0</td>\n      <td>8094.00</td>\n      <td>16134.0</td>\n      <td>24705.00</td>\n      <td>32554.0</td>\n      <td>1627.0</td>\n      <td>43.740012</td>\n      <td>...</td>\n      <td>50.0</td>\n      <td>99.0</td>\n      <td>1627.0</td>\n      <td>124.615243</td>\n      <td>104.710469</td>\n      <td>15.0</td>\n      <td>35.0</td>\n      <td>83.0</td>\n      <td>207.00</td>\n      <td>349.0</td>\n    </tr>\n    <tr>\n      <th>Preschool</th>\n      <td>45.0</td>\n      <td>18268.377778</td>\n      <td>9824.639913</td>\n      <td>224.0</td>\n      <td>8775.00</td>\n      <td>21388.0</td>\n      <td>25652.00</td>\n      <td>32432.0</td>\n      <td>45.0</td>\n      <td>41.288889</td>\n      <td>...</td>\n      <td>40.0</td>\n      <td>75.0</td>\n      <td>45.0</td>\n      <td>32.644444</td>\n      <td>9.556425</td>\n      <td>15.0</td>\n      <td>23.0</td>\n      <td>35.0</td>\n      <td>39.00</td>\n      <td>49.0</td>\n    </tr>\n    <tr>\n      <th>Prof-school</th>\n      <td>542.0</td>\n      <td>16724.850554</td>\n      <td>9575.872379</td>\n      <td>52.0</td>\n      <td>8325.50</td>\n      <td>17072.0</td>\n      <td>25123.25</td>\n      <td>32548.0</td>\n      <td>542.0</td>\n      <td>44.249077</td>\n      <td>...</td>\n      <td>55.0</td>\n      <td>99.0</td>\n      <td>542.0</td>\n      <td>156.715867</td>\n      <td>103.920436</td>\n      <td>15.0</td>\n      <td>49.5</td>\n      <td>147.5</td>\n      <td>249.00</td>\n      <td>346.0</td>\n    </tr>\n    <tr>\n      <th>Some-college</th>\n      <td>6678.0</td>\n      <td>16266.526804</td>\n      <td>9414.721651</td>\n      <td>10.0</td>\n      <td>7986.25</td>\n      <td>16238.5</td>\n      <td>24486.75</td>\n      <td>32555.0</td>\n      <td>6678.0</td>\n      <td>36.135370</td>\n      <td>...</td>\n      <td>45.0</td>\n      <td>99.0</td>\n      <td>6678.0</td>\n      <td>65.799341</td>\n      <td>78.161186</td>\n      <td>15.0</td>\n      <td>26.0</td>\n      <td>37.0</td>\n      <td>47.00</td>\n      <td>349.0</td>\n    </tr>\n  </tbody>\n</table>\n<p>16 rows × 32 columns</p>\n</div>"
     },
     "execution_count": 86,
     "metadata": {},
     "output_type": "execute_result"
    }
   ],
   "source": [
    "df.groupby(\"education\").describe()"
   ],
   "metadata": {
    "collapsed": false,
    "pycharm": {
     "name": "#%%\n"
    },
    "ExecuteTime": {
     "end_time": "2024-03-01T12:04:52.713082800Z",
     "start_time": "2024-03-01T12:04:52.569036900Z"
    }
   }
  },
  {
   "cell_type": "markdown",
   "source": [
    "# Task 7\n",
    "Compare the married and non-married men salaries. Who earns more? (>50K or <=50K)\n",
    "Married men are those, whom `marital-status` starts with \"Married\". Others are not."
   ],
   "metadata": {
    "collapsed": false,
    "pycharm": {
     "name": "#%% md\n"
    }
   }
  },
  {
   "cell_type": "code",
   "execution_count": 113,
   "outputs": [
    {
     "name": "stdout",
     "output_type": "stream",
     "text": [
      "Statistics about salaries for married men:\n",
      "salary\n",
      "<=50K    7052\n",
      ">50K     5723\n",
      "Name: count, dtype: int64\n",
      "Statistics about salaries for non-married men:\n",
      "salary\n",
      "<=50K    6932\n",
      ">50K      673\n",
      "Name: count, dtype: int64\n"
     ]
    }
   ],
   "source": [
    "df_male = df[df[\"sex\"] == \"Male\"]\n",
    "df_married = df_male[df_male[\"marital-status\"].str.startswith(\"Married\")]\n",
    "print(\"Statistics about salaries for married men:\")\n",
    "print(df_married[\"salary\"].value_counts())\n",
    "df_non_married = df_male.drop(df_married.index)\n",
    "print(\"Statistics about salaries for non-married men:\")\n",
    "print(df_non_married[\"salary\"].value_counts())"
   ],
   "metadata": {
    "collapsed": false,
    "pycharm": {
     "name": "#%%\n"
    },
    "ExecuteTime": {
     "end_time": "2024-03-01T12:21:41.188626700Z",
     "start_time": "2024-03-01T12:21:41.162966300Z"
    }
   }
  },
  {
   "cell_type": "markdown",
   "source": [
    "# Task 8\n",
    "Get the max hours per week some person works. How many people works the same amount of hours per week?"
   ],
   "metadata": {
    "collapsed": false,
    "pycharm": {
     "name": "#%% md\n"
    }
   }
  },
  {
   "cell_type": "code",
   "execution_count": 116,
   "outputs": [
    {
     "name": "stdout",
     "output_type": "stream",
     "text": [
      "Max hours per week - 99\n"
     ]
    },
    {
     "data": {
      "text/plain": "78"
     },
     "execution_count": 116,
     "metadata": {},
     "output_type": "execute_result"
    }
   ],
   "source": [
    "max_hours_per_week = df[\"hours-per-week\"].max()\n",
    "print(f\"Max hours per week - {max_hours_per_week}\")\n",
    "df[df[\"hours-per-week\"] == max_hours_per_week].shape[0]"
   ],
   "metadata": {
    "collapsed": false,
    "pycharm": {
     "name": "#%%\n"
    },
    "ExecuteTime": {
     "end_time": "2024-03-01T12:25:04.385814300Z",
     "start_time": "2024-03-01T12:25:04.375783600Z"
    }
   }
  },
  {
   "cell_type": "markdown",
   "source": [
    "# Task 9\n",
    "Analyze the correlation between data in dataset. Understand connected fields in it and print highlight their connection."
   ],
   "metadata": {
    "collapsed": false,
    "pycharm": {
     "name": "#%% md\n"
    }
   }
  },
  {
   "cell_type": "code",
   "execution_count": 164,
   "outputs": [
    {
     "name": "stdout",
     "output_type": "stream",
     "text": [
      "                            age  hours-per-week  salary K$   Is Male  \\\n",
      "age                    1.000000        0.101599   0.208203  0.081993   \n",
      "hours-per-week         0.101599        1.000000   0.196378  0.231268   \n",
      "salary K$              0.208203        0.196378   1.000000  0.182642   \n",
      "Is Male                0.081993        0.231268   0.182642  1.000000   \n",
      "Is White               0.026906        0.056404   0.071669  0.105148   \n",
      "Is Black              -0.014101       -0.060463  -0.074815 -0.118145   \n",
      "Is Asian-Pac-Islander -0.007020       -0.006287   0.011248 -0.001560   \n",
      "Is Amer-Indian-Eskimo -0.012665       -0.004122  -0.026346 -0.010411   \n",
      "Is Other              -0.032347       -0.006004  -0.028320 -0.009817   \n",
      "Is married             0.310553        0.221492   0.375202  0.426348   \n",
      "\n",
      "                       Is White  Is Black  Is Asian-Pac-Islander  \\\n",
      "age                    0.026906 -0.014101              -0.007020   \n",
      "hours-per-week         0.056404 -0.060463              -0.006287   \n",
      "salary K$              0.071669 -0.074815               0.011248   \n",
      "Is Male                0.105148 -0.118145              -0.001560   \n",
      "Is White               1.000000 -0.794808              -0.433042   \n",
      "Is Black              -0.794808  1.000000              -0.056128   \n",
      "Is Asian-Pac-Islander -0.433042 -0.056128               1.000000   \n",
      "Is Amer-Indian-Eskimo -0.242287 -0.031403              -0.017110   \n",
      "Is Other              -0.217547 -0.028197              -0.015363   \n",
      "Is married             0.097076 -0.120679               0.018009   \n",
      "\n",
      "                       Is Amer-Indian-Eskimo  Is Other  Is married  \n",
      "age                                -0.012665 -0.032347    0.310553  \n",
      "hours-per-week                     -0.004122 -0.006004    0.221492  \n",
      "salary K$                          -0.026346 -0.028320    0.375202  \n",
      "Is Male                            -0.010411 -0.009817    0.426348  \n",
      "Is White                           -0.242287 -0.217547    0.097076  \n",
      "Is Black                           -0.031403 -0.028197   -0.120679  \n",
      "Is Asian-Pac-Islander              -0.017110 -0.015363    0.018009  \n",
      "Is Amer-Indian-Eskimo               1.000000 -0.008595   -0.013746  \n",
      "Is Other                           -0.008595  1.000000   -0.003588  \n",
      "Is married                         -0.013746 -0.003588    1.000000  \n"
     ]
    },
    {
     "data": {
      "text/plain": "<Figure size 480x480 with 2 Axes>",
      "image/png": "[encoded data removed]"
     },
     "metadata": {},
     "output_type": "display_data"
    }
   ],
   "source": [
    "import matplotlib.pyplot as plt\n",
    "\n",
    "df_numeric_only = df.select_dtypes(np.int64).iloc[:, 1:]\n",
    "df_numeric_only[\"Is Male\"] = np.where(df.sex == \"Male\", 1, 0)\n",
    "df_numeric_only[\"Is White\"] = np.where(df.race == \"White\", 1, 0)\n",
    "df_numeric_only[\"Is Black\"] = np.where(df.race == \"Black\", 1, 0)\n",
    "df_numeric_only[\"Is Asian-Pac-Islander\"] = np.where(df.race == \"Asian-Pac-Islander\", 1, 0)\n",
    "df_numeric_only[\"Is Amer-Indian-Eskimo\"] = np.where(df.race == \"Amer-Indian-Eskimo\", 1, 0)\n",
    "df_numeric_only[\"Is Other\"] = np.where(df.race == \"Other\", 1, 0)\n",
    "df_numeric_only[\"Is married\"] = np.where(df[\"marital-status\"].str.startswith(\"Married\"), 1, 0)\n",
    "print(df_numeric_only.corr())\n",
    "plt.matshow(df_numeric_only.corr())\n",
    "plt.colorbar()\n",
    "plt.show()"
   ],
   "metadata": {
    "collapsed": false,
    "pycharm": {
     "name": "#%%\n"
    },
    "ExecuteTime": {
     "end_time": "2024-03-01T13:09:37.640635300Z",
     "start_time": "2024-03-01T13:09:37.393411500Z"
    }
   }
  }
 ],
 "metadata": {
  "kernelspec": {
   "display_name": "Python 3",
   "language": "python",
   "name": "python3"
  },
  "language_info": {
   "codemirror_mode": {
    "name": "ipython",
    "version": 2
   },
   "file_extension": ".py",
   "mimetype": "text/x-python",
   "name": "python",
   "nbconvert_exporter": "python",
   "pygments_lexer": "ipython2",
   "version": "2.7.6"
  }
 },
 "nbformat": 4,
 "nbformat_minor": 0
}
