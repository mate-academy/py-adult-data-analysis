{
 "cells": [
  {
   "cell_type": "code",
   "execution_count": 39,
   "outputs": [],
   "source": [
    "import numpy as np\n",
    "import pandas as pd"
   ],
   "metadata": {
    "collapsed": false
   }
  },
  {
   "cell_type": "markdown",
   "source": [
    "# Task 0\n",
    "Read the dataset from csv file & perform data cleaning - remove all rows, which contains `?` in some columns.\n",
    "Also check for data correctness (salary & salary $K)."
   ],
   "metadata": {
    "collapsed": false
   }
  },
  {
   "cell_type": "code",
   "execution_count": 6,
   "outputs": [],
   "source": [
    "df = pd.read_csv(\"../data/adult.csv\")"
   ],
   "metadata": {
    "collapsed": false
   }
  },
  {
   "cell_type": "markdown",
   "source": [
    "# Task 1\n",
    "Print the count of men and women in the dataset."
   ],
   "metadata": {
    "collapsed": false
   }
  },
  {
   "cell_type": "code",
   "execution_count": 11,
   "outputs": [
    {
     "name": "stdout",
     "output_type": "stream",
     "text": [
      "Male      21790\n",
      "Female    10771\n",
      "Name: sex, dtype: int64\n"
     ]
    }
   ],
   "source": [
    "gender_counts = df[\"sex\"].value_counts()\n",
    "print(gender_counts)"
   ],
   "metadata": {
    "collapsed": false
   }
  },
  {
   "cell_type": "markdown",
   "source": [
    "# Task 2\n",
    "Find the average age of men in dataset"
   ],
   "metadata": {
    "collapsed": false
   }
  },
  {
   "cell_type": "code",
   "execution_count": 12,
   "outputs": [
    {
     "name": "stdout",
     "output_type": "stream",
     "text": [
      "Average age of men: 39\n"
     ]
    }
   ],
   "source": [
    "men_df = df[df[\"sex\"] == \"Male\"]\n",
    "average_age_men = round(men_df['age'].mean())\n",
    "print(\"Average age of men:\", average_age_men)"
   ],
   "metadata": {
    "collapsed": false
   }
  },
  {
   "cell_type": "markdown",
   "source": [
    "# Task 3\n",
    "Get the percentage of people from Poland (native-country)"
   ],
   "metadata": {
    "collapsed": false
   }
  },
  {
   "cell_type": "code",
   "execution_count": 19,
   "outputs": [
    {
     "name": "stdout",
     "output_type": "stream",
     "text": [
      "Percentage of people from Poland: 0.18\n"
     ]
    }
   ],
   "source": [
    "poland_count = df[df['native-country'] == 'Poland'].shape[0]\n",
    "total_count = df.shape[0]\n",
    "percentage_poland = round((poland_count / total_count) * 100, 2)\n",
    "print(\"Percentage of people from Poland:\", percentage_poland)"
   ],
   "metadata": {
    "collapsed": false
   }
  },
  {
   "cell_type": "markdown",
   "source": [
    "# Task 4\n",
    "Get the mean and standard deviation of the age for people who earn > 50K per year. After this, get it for those who earn <= 50K."
   ],
   "metadata": {
    "collapsed": false
   }
  },
  {
   "cell_type": "code",
   "execution_count": 21,
   "outputs": [
    {
     "name": "stdout",
     "output_type": "stream",
     "text": [
      "Mean age for people earning > 50K: 44.25\n",
      "Standard deviation of age for people earning > 50K: 10.52\n",
      "Mean age for people earning <= 50K: 36.78\n",
      "Standard deviation of age for people earning <= 50K: 14.02\n"
     ]
    }
   ],
   "source": [
    "high_income_age_mean = round(df[df['salary'] == '>50K']['age'].mean(), 2)\n",
    "high_income_age_std = round(df[df['salary'] == '>50K']['age'].std(), 2)\n",
    "\n",
    "low_income_age_mean = round(df[df['salary'] == '<=50K']['age'].mean(), 2)\n",
    "low_income_age_std = round(df[df['salary'] == '<=50K']['age'].std(), 2)\n",
    "\n",
    "print(\"Mean age for people earning > 50K:\", high_income_age_mean)\n",
    "print(\"Standard deviation of age for people earning > 50K:\", high_income_age_std)\n",
    "\n",
    "print(\"Mean age for people earning <= 50K:\", low_income_age_mean)\n",
    "print(\"Standard deviation of age for people earning <= 50K:\", low_income_age_std)"
   ],
   "metadata": {
    "collapsed": false
   }
  },
  {
   "cell_type": "markdown",
   "source": [
    "# Task 5\n",
    "Check, if there are some people without higher education (education: Bachelors, Prof-school, Assoc-acdm, Assoc-voc, Masters, Doctorate), but with > 50K salary"
   ],
   "metadata": {
    "collapsed": false
   }
  },
  {
   "cell_type": "code",
   "execution_count": 22,
   "outputs": [
    {
     "name": "stdout",
     "output_type": "stream",
     "text": [
      "       Unnamed: 0  age         workclass     education      marital-status  \\\n",
      "7               7   52  Self-emp-not-inc       HS-grad  Married-civ-spouse   \n",
      "10             10   37           Private  Some-college  Married-civ-spouse   \n",
      "27             27   54                 ?  Some-college  Married-civ-spouse   \n",
      "38             38   31           Private  Some-college  Married-civ-spouse   \n",
      "55             55   43           Private  Some-college  Married-civ-spouse   \n",
      "...           ...  ...               ...           ...                 ...   \n",
      "32510       32510   39           Private       HS-grad  Married-civ-spouse   \n",
      "32518       32518   57         Local-gov       HS-grad  Married-civ-spouse   \n",
      "32519       32519   46           Private  Some-college  Married-civ-spouse   \n",
      "32557       32557   40           Private       HS-grad  Married-civ-spouse   \n",
      "32560       32560   52      Self-emp-inc       HS-grad  Married-civ-spouse   \n",
      "\n",
      "              occupation relationship                race     sex  \\\n",
      "7        Exec-managerial      Husband               White    Male   \n",
      "10       Exec-managerial      Husband               Black    Male   \n",
      "27                     ?      Husband  Asian-Pac-Islander    Male   \n",
      "38                 Sales      Husband               White    Male   \n",
      "55          Tech-support      Husband               White    Male   \n",
      "...                  ...          ...                 ...     ...   \n",
      "32510     Prof-specialty      Husband               White    Male   \n",
      "32518       Craft-repair      Husband               White    Male   \n",
      "32519    Exec-managerial      Husband               White    Male   \n",
      "32557  Machine-op-inspct      Husband               White    Male   \n",
      "32560    Exec-managerial         Wife               White  Female   \n",
      "\n",
      "       hours-per-week native-country salary  salary K$  \n",
      "7                  45  United-States   >50K        307  \n",
      "10                 80  United-States   >50K        116  \n",
      "27                 60          South   >50K        275  \n",
      "38                 38              ?   >50K        166  \n",
      "55                 40  United-States   >50K        341  \n",
      "...               ...            ...    ...        ...  \n",
      "32510              45              ?   >50K        212  \n",
      "32518              40  United-States   >50K        116  \n",
      "32519              48  United-States   >50K        239  \n",
      "32557              40  United-States   >50K        173  \n",
      "32560              40  United-States   >50K        243  \n",
      "\n",
      "[3306 rows x 13 columns]\n"
     ]
    }
   ],
   "source": [
    "filtered_df = df[(df[\"salary\"] == \">50K\") & (~df[\"education\"].isin([\"Bachelors\", \"Prof-school\", \"Assoc-acdm\", \"Assoc-voc\", \"Masters\", \"Doctorate\"]))]\n",
    "print(filtered_df)"
   ],
   "metadata": {
    "collapsed": false
   }
  },
  {
   "cell_type": "markdown",
   "source": [
    "# Task 6\n",
    "Get the statistics of age for each type of education. Use `groupby` and `describe` for this."
   ],
   "metadata": {
    "collapsed": false
   }
  },
  {
   "cell_type": "code",
   "execution_count": 23,
   "outputs": [
    {
     "name": "stdout",
     "output_type": "stream",
     "text": [
      "                count       mean        std   min    25%   50%   75%   max\n",
      "education                                                                 \n",
      "10th            933.0  37.429796  16.720713  17.0  22.00  34.0  52.0  90.0\n",
      "11th           1175.0  32.355745  15.545485  17.0  18.00  28.0  43.0  90.0\n",
      "12th            433.0  32.000000  14.334625  17.0  19.00  28.0  41.0  79.0\n",
      "1st-4th         168.0  46.142857  15.615625  19.0  33.00  46.0  57.0  90.0\n",
      "5th-6th         333.0  42.885886  15.557285  17.0  29.00  42.0  54.0  84.0\n",
      "7th-8th         646.0  48.445820  16.092350  17.0  34.25  50.0  61.0  90.0\n",
      "9th             514.0  41.060311  15.946862  17.0  28.00  39.0  54.0  90.0\n",
      "Assoc-acdm     1067.0  37.381443  11.095177  19.0  29.00  36.0  44.0  90.0\n",
      "Assoc-voc      1382.0  38.553546  11.631300  19.0  30.00  37.0  46.0  84.0\n",
      "Bachelors      5355.0  38.904949  11.912210  19.0  29.00  37.0  46.0  90.0\n",
      "Doctorate       413.0  47.702179  11.784716  24.0  39.00  47.0  55.0  80.0\n",
      "HS-grad       10501.0  38.974479  13.541524  17.0  28.00  37.0  48.0  90.0\n",
      "Masters        1723.0  44.049913  11.068935  18.0  36.00  43.0  51.0  90.0\n",
      "Preschool        51.0  42.764706  15.126914  19.0  31.00  41.0  53.5  75.0\n",
      "Prof-school     576.0  44.746528  11.962477  25.0  36.00  43.0  51.0  90.0\n",
      "Some-college   7291.0  35.756275  13.474051  17.0  24.00  34.0  45.0  90.0\n"
     ]
    }
   ],
   "source": [
    "education_stats = df.groupby(\"education\")[\"age\"].describe()\n",
    "\n",
    "print(education_stats)"
   ],
   "metadata": {
    "collapsed": false
   }
  },
  {
   "cell_type": "markdown",
   "source": [
    "# Task 7\n",
    "Compare the married and non-married men salaries. Who earns more? (>50K or <=50K)\n",
    "Married men are those, whom `marital-status` starts with \"Married\". Others are not."
   ],
   "metadata": {
    "collapsed": false
   }
  },
  {
   "cell_type": "code",
   "execution_count": 42,
   "outputs": [
    {
     "name": "stdout",
     "output_type": "stream",
     "text": [
      "for married men:\n",
      "<=50K    7576\n",
      ">50K     5965\n",
      "Name: salary, dtype: int64\n",
      "for non-married men:\n",
      "<=50K    7552\n",
      ">50K      697\n",
      "Name: salary, dtype: int64\n"
     ]
    }
   ],
   "source": [
    "married_men = df[(df[\"sex\"] == \"Male\") & (df[\"marital-status\"].str.startswith(\"Married\"))]\n",
    "non_married_men = df[(df[\"sex\"] == \"Male\") & (~df[\"marital-status\"].str.startswith(\"Married\"))]\n",
    "\n",
    "married_men_salary = married_men['salary'].value_counts()\n",
    "unmarried_men_salary = non_married_men['salary'].value_counts()\n",
    "print(\"for married men:\")\n",
    "print(married_men_salary)\n",
    "print(\"for non-married men:\")\n",
    "print(unmarried_men_salary)"
   ],
   "metadata": {
    "collapsed": false
   }
  },
  {
   "cell_type": "markdown",
   "source": [
    "# Task 8\n",
    "Get the max hours per week some person works. How many people works the same amount of hours per week?"
   ],
   "metadata": {
    "collapsed": false
   }
  },
  {
   "cell_type": "code",
   "execution_count": 27,
   "outputs": [
    {
     "name": "stdout",
     "output_type": "stream",
     "text": [
      "Maximum hours per week: 99\n",
      "Number of people working the same hours per week: 85\n"
     ]
    }
   ],
   "source": [
    "max_hours_per_week = df[\"hours-per-week\"].max()\n",
    "\n",
    "same_hours_count = df[df[\"hours-per-week\"] == max_hours_per_week].shape[0]\n",
    "\n",
    "print(\"Maximum hours per week:\", max_hours_per_week)\n",
    "print(\"Number of people working the same hours per week:\", same_hours_count)"
   ],
   "metadata": {
    "collapsed": false
   }
  },
  {
   "cell_type": "markdown",
   "source": [
    "# Task 9\n",
    "Analyze the correlation between data in dataset. Understand connected fields in it and print highlight thier connection."
   ],
   "metadata": {
    "collapsed": false
   }
  },
  {
   "cell_type": "code",
   "execution_count": 40,
   "outputs": [
    {
     "data": {
      "text/plain": "                Unnamed: 0       age  hours-per-week  salary K$   is_male  \\\nUnnamed: 0        1.000000  0.001286        0.000607  -0.001666 -0.002472   \nage               0.001286  1.000000        0.068756   0.201774  0.088832   \nhours-per-week    0.000607  0.068756        1.000000   0.196916  0.229309   \nsalary K$        -0.001666  0.201774        0.196916   1.000000  0.182528   \nis_male          -0.002472  0.088832        0.229309   0.182528  1.000000   \nis_female         0.002472 -0.088832       -0.229309  -0.182528 -1.000000   \n\n                is_female  \nUnnamed: 0       0.002472  \nage             -0.088832  \nhours-per-week  -0.229309  \nsalary K$       -0.182528  \nis_male         -1.000000  \nis_female        1.000000  ",
      "text/html": "<div>\n<style scoped>\n    .dataframe tbody tr th:only-of-type {\n        vertical-align: middle;\n    }\n\n    .dataframe tbody tr th {\n        vertical-align: top;\n    }\n\n    .dataframe thead th {\n        text-align: right;\n    }\n</style>\n<table border=\"1\" class=\"dataframe\">\n  <thead>\n    <tr style=\"text-align: right;\">\n      <th></th>\n      <th>Unnamed: 0</th>\n      <th>age</th>\n      <th>hours-per-week</th>\n      <th>salary K$</th>\n      <th>is_male</th>\n      <th>is_female</th>\n    </tr>\n  </thead>\n  <tbody>\n    <tr>\n      <th>Unnamed: 0</th>\n      <td>1.000000</td>\n      <td>0.001286</td>\n      <td>0.000607</td>\n      <td>-0.001666</td>\n      <td>-0.002472</td>\n      <td>0.002472</td>\n    </tr>\n    <tr>\n      <th>age</th>\n      <td>0.001286</td>\n      <td>1.000000</td>\n      <td>0.068756</td>\n      <td>0.201774</td>\n      <td>0.088832</td>\n      <td>-0.088832</td>\n    </tr>\n    <tr>\n      <th>hours-per-week</th>\n      <td>0.000607</td>\n      <td>0.068756</td>\n      <td>1.000000</td>\n      <td>0.196916</td>\n      <td>0.229309</td>\n      <td>-0.229309</td>\n    </tr>\n    <tr>\n      <th>salary K$</th>\n      <td>-0.001666</td>\n      <td>0.201774</td>\n      <td>0.196916</td>\n      <td>1.000000</td>\n      <td>0.182528</td>\n      <td>-0.182528</td>\n    </tr>\n    <tr>\n      <th>is_male</th>\n      <td>-0.002472</td>\n      <td>0.088832</td>\n      <td>0.229309</td>\n      <td>0.182528</td>\n      <td>1.000000</td>\n      <td>-1.000000</td>\n    </tr>\n    <tr>\n      <th>is_female</th>\n      <td>0.002472</td>\n      <td>-0.088832</td>\n      <td>-0.229309</td>\n      <td>-0.182528</td>\n      <td>-1.000000</td>\n      <td>1.000000</td>\n    </tr>\n  </tbody>\n</table>\n</div>"
     },
     "execution_count": 40,
     "metadata": {},
     "output_type": "execute_result"
    }
   ],
   "source": [
    "df[\"is_male\"] = np.where(df[\"sex\"] == \"Male\", True, False)\n",
    "df[\"is_female\"] = np.where(df[\"sex\"] == \"Female\", True, False)\n",
    "df.corr(numeric_only=True)"
   ],
   "metadata": {
    "collapsed": false
   }
  }
 ],
 "metadata": {
  "kernelspec": {
   "display_name": "Python 3",
   "language": "python",
   "name": "python3"
  },
  "language_info": {
   "codemirror_mode": {
    "name": "ipython",
    "version": 2
   },
   "file_extension": ".py",
   "mimetype": "text/x-python",
   "name": "python",
   "nbconvert_exporter": "python",
   "pygments_lexer": "ipython2",
   "version": "2.7.6"
  }
 },
 "nbformat": 4,
 "nbformat_minor": 0
}
