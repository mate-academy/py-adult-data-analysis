{
 "cells": [
  {
   "cell_type": "code",
   "execution_count": 4,
   "outputs": [],
   "source": [
    "import numpy as np\n",
    "import pandas as pd"
   ],
   "metadata": {
    "collapsed": false,
    "pycharm": {
     "name": "#%%\n"
    },
    "ExecuteTime": {
     "end_time": "2023-10-16T09:26:51.416458200Z",
     "start_time": "2023-10-16T09:26:48.367835700Z"
    }
   }
  },
  {
   "cell_type": "markdown",
   "source": [
    "# Task 0\n",
    "Read the dataset from csv file & perform data cleaning - remove all rows, which contains `?` in some columns.\n",
    "Also check for data correctness (salary & salary $K)."
   ],
   "metadata": {
    "collapsed": false,
    "pycharm": {
     "name": "#%% md\n"
    }
   }
  },
  {
   "cell_type": "code",
   "execution_count": 179,
   "outputs": [
    {
     "data": {
      "text/plain": "                age  hours-per-week     salary K$\ncount  30162.000000    30162.000000  30162.000000\nmean      38.437902       40.931238     73.968570\nstd       13.134665       11.979984     85.365144\nmin       17.000000        1.000000     15.000000\n25%       28.000000       40.000000     26.000000\n50%       37.000000       40.000000     38.000000\n75%       47.000000       45.000000     49.000000\nmax       90.000000       99.000000    349.000000",
      "text/html": "<div>\n<style scoped>\n    .dataframe tbody tr th:only-of-type {\n        vertical-align: middle;\n    }\n\n    .dataframe tbody tr th {\n        vertical-align: top;\n    }\n\n    .dataframe thead th {\n        text-align: right;\n    }\n</style>\n<table border=\"1\" class=\"dataframe\">\n  <thead>\n    <tr style=\"text-align: right;\">\n      <th></th>\n      <th>age</th>\n      <th>hours-per-week</th>\n      <th>salary K$</th>\n    </tr>\n  </thead>\n  <tbody>\n    <tr>\n      <th>count</th>\n      <td>30162.000000</td>\n      <td>30162.000000</td>\n      <td>30162.000000</td>\n    </tr>\n    <tr>\n      <th>mean</th>\n      <td>38.437902</td>\n      <td>40.931238</td>\n      <td>73.968570</td>\n    </tr>\n    <tr>\n      <th>std</th>\n      <td>13.134665</td>\n      <td>11.979984</td>\n      <td>85.365144</td>\n    </tr>\n    <tr>\n      <th>min</th>\n      <td>17.000000</td>\n      <td>1.000000</td>\n      <td>15.000000</td>\n    </tr>\n    <tr>\n      <th>25%</th>\n      <td>28.000000</td>\n      <td>40.000000</td>\n      <td>26.000000</td>\n    </tr>\n    <tr>\n      <th>50%</th>\n      <td>37.000000</td>\n      <td>40.000000</td>\n      <td>38.000000</td>\n    </tr>\n    <tr>\n      <th>75%</th>\n      <td>47.000000</td>\n      <td>45.000000</td>\n      <td>49.000000</td>\n    </tr>\n    <tr>\n      <th>max</th>\n      <td>90.000000</td>\n      <td>99.000000</td>\n      <td>349.000000</td>\n    </tr>\n  </tbody>\n</table>\n</div>"
     },
     "execution_count": 179,
     "metadata": {},
     "output_type": "execute_result"
    }
   ],
   "source": [
    "data = pd.read_csv(\"C:\\\\Users\\\\Owner\\\\pythone_mate\\\\Data_analysis\\\\py-adult-data-analysis\\\\data\\\\adult.csv\", index_col=0)\n",
    "data = data.replace(\"?\", np.nan)\n",
    "data = data.dropna()\n",
    "data.describe( )"
   ],
   "metadata": {
    "collapsed": false,
    "pycharm": {
     "name": "#%%\n"
    },
    "ExecuteTime": {
     "end_time": "2023-10-16T12:26:37.737450900Z",
     "start_time": "2023-10-16T12:26:37.470285800Z"
    }
   }
  },
  {
   "cell_type": "markdown",
   "source": [
    "# Task 1\n",
    "Print the count of men and women in the dataset."
   ],
   "metadata": {
    "collapsed": false,
    "pycharm": {
     "name": "#%% md\n"
    }
   }
  },
  {
   "cell_type": "code",
   "execution_count": 180,
   "outputs": [
    {
     "data": {
      "text/plain": "sex\nMale      20380\nFemale     9782\nName: count, dtype: int64"
     },
     "execution_count": 180,
     "metadata": {},
     "output_type": "execute_result"
    }
   ],
   "source": [
    "data[\"sex\"].value_counts()"
   ],
   "metadata": {
    "collapsed": false,
    "pycharm": {
     "name": "#%%\n"
    },
    "ExecuteTime": {
     "end_time": "2023-10-16T12:26:42.739194200Z",
     "start_time": "2023-10-16T12:26:42.723763300Z"
    }
   }
  },
  {
   "cell_type": "markdown",
   "source": [
    "# Task 2\n",
    "Find the average age of men in dataset"
   ],
   "metadata": {
    "collapsed": false,
    "pycharm": {
     "name": "#%% md\n"
    }
   }
  },
  {
   "cell_type": "code",
   "execution_count": 51,
   "outputs": [
    {
     "data": {
      "text/plain": "38.437901995888865"
     },
     "execution_count": 51,
     "metadata": {},
     "output_type": "execute_result"
    }
   ],
   "source": [
    "data[\"age\"][data[\"sex\"] == \"Male\"].mean()"
   ],
   "metadata": {
    "collapsed": false,
    "pycharm": {
     "name": "#%%\n"
    },
    "ExecuteTime": {
     "end_time": "2023-10-16T10:24:23.441842Z",
     "start_time": "2023-10-16T10:24:23.388776100Z"
    }
   }
  },
  {
   "cell_type": "markdown",
   "source": [
    "# Task 3\n",
    "Get the percentage of people from Poland (native-country)"
   ],
   "metadata": {
    "collapsed": false,
    "pycharm": {
     "name": "#%% md\n"
    }
   }
  },
  {
   "cell_type": "code",
   "execution_count": 69,
   "outputs": [
    {
     "data": {
      "text/plain": "0.18566408063125786"
     },
     "execution_count": 69,
     "metadata": {},
     "output_type": "execute_result"
    }
   ],
   "source": [
    "len(data[data[\"native-country\"] == \"Poland\"]) / len(data) * 100"
   ],
   "metadata": {
    "collapsed": false,
    "pycharm": {
     "name": "#%%\n"
    },
    "ExecuteTime": {
     "end_time": "2023-10-16T10:35:21.426755300Z",
     "start_time": "2023-10-16T10:35:21.354986900Z"
    }
   }
  },
  {
   "cell_type": "markdown",
   "source": [
    "# Task 4\n",
    "Get the mean and standard deviation of the age for people who earn > 50K per year. After this, get it for those who earn <= 50K."
   ],
   "metadata": {
    "collapsed": false,
    "pycharm": {
     "name": "#%% md\n"
    }
   }
  },
  {
   "cell_type": "code",
   "execution_count": 75,
   "outputs": [
    {
     "data": {
      "text/plain": "36.60806038668668"
     },
     "execution_count": 75,
     "metadata": {},
     "output_type": "execute_result"
    }
   ],
   "source": [
    "data[\"age\"][data[\"salary K$\"] > 50].mean()\n",
    "data[\"age\"][data[\"salary K$\"] > 50].std()\n",
    "data[\"age\"][data[\"salary K$\"] <= 50].mean()\n",
    "data[\"age\"][data[\"salary K$\"] <= 50].std()"
   ],
   "metadata": {
    "collapsed": false,
    "pycharm": {
     "name": "#%%\n"
    },
    "ExecuteTime": {
     "end_time": "2023-10-16T10:40:01.305097100Z",
     "start_time": "2023-10-16T10:40:01.288591200Z"
    }
   }
  },
  {
   "cell_type": "markdown",
   "source": [
    "# Task 5\n",
    "Check, if there are some people without higher education (education: Bachelors, Prof-school, Assoc-acdm, Assoc-voc, Masters, Doctorate), but with > 50K salary"
   ],
   "metadata": {
    "collapsed": false,
    "pycharm": {
     "name": "#%% md\n"
    }
   }
  },
  {
   "cell_type": "code",
   "execution_count": 101,
   "outputs": [
    {
     "name": "stderr",
     "output_type": "stream",
     "text": [
      "C:\\Users\\Owner\\AppData\\Local\\Temp\\ipykernel_85648\\3432337235.py:2: UserWarning: Boolean Series key will be reindexed to match DataFrame index.\n",
      "  data[~data[\"education\"].isin(exclude_values)][data[\"salary K$\"] > 50]\n"
     ]
    },
    {
     "data": {
      "text/plain": "       age         workclass     education      marital-status  \\\n7       52  Self-emp-not-inc       HS-grad  Married-civ-spouse   \n10      37           Private  Some-college  Married-civ-spouse   \n55      43           Private  Some-college  Married-civ-spouse   \n67      53           Private       HS-grad  Married-civ-spouse   \n68      49      Self-emp-inc  Some-college  Married-civ-spouse   \n...    ...               ...           ...                 ...   \n32462   48      Self-emp-inc       HS-grad  Married-civ-spouse   \n32518   57         Local-gov       HS-grad  Married-civ-spouse   \n32519   46           Private  Some-college  Married-civ-spouse   \n32557   40           Private       HS-grad  Married-civ-spouse   \n32560   52      Self-emp-inc       HS-grad  Married-civ-spouse   \n\n              occupation relationship   race   sex  hours-per-week  \\\n7        Exec-managerial      Husband  White  Male              45   \n10       Exec-managerial      Husband  Black  Male              80   \n55          Tech-support      Husband  White  Male              40   \n67          Adm-clerical         Wife  White  Male              40   \n68       Exec-managerial      Husband  White  Male              50   \n...                  ...          ...    ...   ...             ...   \n32462       Craft-repair      Husband  White  Male              50   \n32518       Craft-repair      Husband  White  Male              40   \n32519    Exec-managerial      Husband  White  Male              48   \n32557  Machine-op-inspct      Husband  White  Male              40   \n32560    Exec-managerial         Wife  White  Male              40   \n\n      native-country salary  salary K$  \n7      United-States   >50K        307  \n10     United-States   >50K        116  \n55     United-States   >50K        341  \n67     United-States   >50K        225  \n68     United-States   >50K        194  \n...              ...    ...        ...  \n32462  United-States   >50K        343  \n32518  United-States   >50K        116  \n32519  United-States   >50K        239  \n32557  United-States   >50K        173  \n32560  United-States   >50K        243  \n\n[3178 rows x 12 columns]",
      "text/html": "<div>\n<style scoped>\n    .dataframe tbody tr th:only-of-type {\n        vertical-align: middle;\n    }\n\n    .dataframe tbody tr th {\n        vertical-align: top;\n    }\n\n    .dataframe thead th {\n        text-align: right;\n    }\n</style>\n<table border=\"1\" class=\"dataframe\">\n  <thead>\n    <tr style=\"text-align: right;\">\n      <th></th>\n      <th>age</th>\n      <th>workclass</th>\n      <th>education</th>\n      <th>marital-status</th>\n      <th>occupation</th>\n      <th>relationship</th>\n      <th>race</th>\n      <th>sex</th>\n      <th>hours-per-week</th>\n      <th>native-country</th>\n      <th>salary</th>\n      <th>salary K$</th>\n    </tr>\n  </thead>\n  <tbody>\n    <tr>\n      <th>7</th>\n      <td>52</td>\n      <td>Self-emp-not-inc</td>\n      <td>HS-grad</td>\n      <td>Married-civ-spouse</td>\n      <td>Exec-managerial</td>\n      <td>Husband</td>\n      <td>White</td>\n      <td>Male</td>\n      <td>45</td>\n      <td>United-States</td>\n      <td>&gt;50K</td>\n      <td>307</td>\n    </tr>\n    <tr>\n      <th>10</th>\n      <td>37</td>\n      <td>Private</td>\n      <td>Some-college</td>\n      <td>Married-civ-spouse</td>\n      <td>Exec-managerial</td>\n      <td>Husband</td>\n      <td>Black</td>\n      <td>Male</td>\n      <td>80</td>\n      <td>United-States</td>\n      <td>&gt;50K</td>\n      <td>116</td>\n    </tr>\n    <tr>\n      <th>55</th>\n      <td>43</td>\n      <td>Private</td>\n      <td>Some-college</td>\n      <td>Married-civ-spouse</td>\n      <td>Tech-support</td>\n      <td>Husband</td>\n      <td>White</td>\n      <td>Male</td>\n      <td>40</td>\n      <td>United-States</td>\n      <td>&gt;50K</td>\n      <td>341</td>\n    </tr>\n    <tr>\n      <th>67</th>\n      <td>53</td>\n      <td>Private</td>\n      <td>HS-grad</td>\n      <td>Married-civ-spouse</td>\n      <td>Adm-clerical</td>\n      <td>Wife</td>\n      <td>White</td>\n      <td>Male</td>\n      <td>40</td>\n      <td>United-States</td>\n      <td>&gt;50K</td>\n      <td>225</td>\n    </tr>\n    <tr>\n      <th>68</th>\n      <td>49</td>\n      <td>Self-emp-inc</td>\n      <td>Some-college</td>\n      <td>Married-civ-spouse</td>\n      <td>Exec-managerial</td>\n      <td>Husband</td>\n      <td>White</td>\n      <td>Male</td>\n      <td>50</td>\n      <td>United-States</td>\n      <td>&gt;50K</td>\n      <td>194</td>\n    </tr>\n    <tr>\n      <th>...</th>\n      <td>...</td>\n      <td>...</td>\n      <td>...</td>\n      <td>...</td>\n      <td>...</td>\n      <td>...</td>\n      <td>...</td>\n      <td>...</td>\n      <td>...</td>\n      <td>...</td>\n      <td>...</td>\n      <td>...</td>\n    </tr>\n    <tr>\n      <th>32462</th>\n      <td>48</td>\n      <td>Self-emp-inc</td>\n      <td>HS-grad</td>\n      <td>Married-civ-spouse</td>\n      <td>Craft-repair</td>\n      <td>Husband</td>\n      <td>White</td>\n      <td>Male</td>\n      <td>50</td>\n      <td>United-States</td>\n      <td>&gt;50K</td>\n      <td>343</td>\n    </tr>\n    <tr>\n      <th>32518</th>\n      <td>57</td>\n      <td>Local-gov</td>\n      <td>HS-grad</td>\n      <td>Married-civ-spouse</td>\n      <td>Craft-repair</td>\n      <td>Husband</td>\n      <td>White</td>\n      <td>Male</td>\n      <td>40</td>\n      <td>United-States</td>\n      <td>&gt;50K</td>\n      <td>116</td>\n    </tr>\n    <tr>\n      <th>32519</th>\n      <td>46</td>\n      <td>Private</td>\n      <td>Some-college</td>\n      <td>Married-civ-spouse</td>\n      <td>Exec-managerial</td>\n      <td>Husband</td>\n      <td>White</td>\n      <td>Male</td>\n      <td>48</td>\n      <td>United-States</td>\n      <td>&gt;50K</td>\n      <td>239</td>\n    </tr>\n    <tr>\n      <th>32557</th>\n      <td>40</td>\n      <td>Private</td>\n      <td>HS-grad</td>\n      <td>Married-civ-spouse</td>\n      <td>Machine-op-inspct</td>\n      <td>Husband</td>\n      <td>White</td>\n      <td>Male</td>\n      <td>40</td>\n      <td>United-States</td>\n      <td>&gt;50K</td>\n      <td>173</td>\n    </tr>\n    <tr>\n      <th>32560</th>\n      <td>52</td>\n      <td>Self-emp-inc</td>\n      <td>HS-grad</td>\n      <td>Married-civ-spouse</td>\n      <td>Exec-managerial</td>\n      <td>Wife</td>\n      <td>White</td>\n      <td>Male</td>\n      <td>40</td>\n      <td>United-States</td>\n      <td>&gt;50K</td>\n      <td>243</td>\n    </tr>\n  </tbody>\n</table>\n<p>3178 rows × 12 columns</p>\n</div>"
     },
     "execution_count": 101,
     "metadata": {},
     "output_type": "execute_result"
    }
   ],
   "source": [
    "exclude_values = [\"Bachelors\", \"Prof-school\", \"Assoc-acdm\", \"Assoc-voc\", \"Masters\", \"Doctorate\"]\n",
    "data[~data[\"education\"].isin(exclude_values)][data[\"salary K$\"] > 50]"
   ],
   "metadata": {
    "collapsed": false,
    "pycharm": {
     "name": "#%%\n"
    },
    "ExecuteTime": {
     "end_time": "2023-10-16T10:54:22.975438800Z",
     "start_time": "2023-10-16T10:54:22.923144700Z"
    }
   }
  },
  {
   "cell_type": "markdown",
   "source": [
    "# Task 6\n",
    "Get the statistics of age for each type of education. Use `groupby` and `describe` for this."
   ],
   "metadata": {
    "collapsed": false,
    "pycharm": {
     "name": "#%% md\n"
    }
   }
  },
  {
   "cell_type": "code",
   "execution_count": 106,
   "outputs": [
    {
     "data": {
      "text/plain": "                 hours-per-week                                                \\\n                          count       mean        std   min   25%   50%   75%   \nage education                                                                   \n17  10th                  106.0  19.896226   9.235469   4.0  12.0  20.0  25.0   \n    11th                  154.0  19.448052   8.235141   5.0  15.0  20.0  21.5   \n    12th                   32.0  18.500000   7.708395   6.0  15.0  17.5  20.0   \n    5th-6th                 1.0  48.000000        NaN  48.0  48.0  48.0  48.0   \n    7th-8th                 3.0  31.000000  20.074860   8.0  24.0  40.0  42.5   \n...                         ...        ...        ...   ...   ...   ...   ...   \n90  Bachelors               7.0  36.428571  17.251639  10.0  27.5  40.0  47.5   \n    HS-grad                11.0  40.000000  22.239604  12.0  27.5  40.0  40.0   \n    Masters                 4.0  47.500000   9.574271  40.0  40.0  45.0  52.5   \n    Prof-school             1.0  72.000000        NaN  72.0  72.0  72.0  72.0   \n    Some-college            5.0  37.400000   2.509980  35.0  35.0  37.0  40.0   \n\n                       salary K$                                         \\\n                   max     count        mean         std    min     25%   \nage education                                                             \n17  10th          40.0     106.0   31.349057    9.442601   15.0   24.00   \n    11th          45.0     154.0   32.655844    9.578967   15.0   25.00   \n    12th          40.0      32.0   32.500000    9.425429   17.0   25.00   \n    5th-6th       48.0       1.0   47.000000         NaN   47.0   47.00   \n    7th-8th       45.0       3.0   35.000000   14.798649   18.0   30.00   \n...                ...       ...         ...         ...    ...     ...   \n90  Bachelors     55.0       7.0  107.714286  132.360259   20.0   25.00   \n    HS-grad       99.0      11.0   40.545455   31.094577   17.0   23.00   \n    Masters       60.0       4.0  201.250000  131.154807   44.0  121.25   \n    Prof-school   72.0       1.0  141.000000         NaN  141.0  141.00   \n    Some-college  40.0       5.0   24.400000    9.889388   17.0   17.00   \n\n                                        \n                    50%     75%    max  \nage education                           \n17  10th           31.0   38.75   49.0  \n    11th           31.0   40.00   49.0  \n    12th           31.5   41.00   49.0  \n    5th-6th        47.0   47.00   47.0  \n    7th-8th        42.0   43.50   45.0  \n...                 ...     ...    ...  \n90  Bachelors      40.0  168.00  308.0  \n    HS-grad        37.0   42.00  129.0  \n    Masters       213.0  293.00  335.0  \n    Prof-school   141.0  141.00  141.0  \n    Some-college   22.0   25.00   41.0  \n\n[930 rows x 16 columns]",
      "text/html": "<div>\n<style scoped>\n    .dataframe tbody tr th:only-of-type {\n        vertical-align: middle;\n    }\n\n    .dataframe tbody tr th {\n        vertical-align: top;\n    }\n\n    .dataframe thead tr th {\n        text-align: left;\n    }\n\n    .dataframe thead tr:last-of-type th {\n        text-align: right;\n    }\n</style>\n<table border=\"1\" class=\"dataframe\">\n  <thead>\n    <tr>\n      <th></th>\n      <th></th>\n      <th colspan=\"8\" halign=\"left\">hours-per-week</th>\n      <th colspan=\"8\" halign=\"left\">salary K$</th>\n    </tr>\n    <tr>\n      <th></th>\n      <th></th>\n      <th>count</th>\n      <th>mean</th>\n      <th>std</th>\n      <th>min</th>\n      <th>25%</th>\n      <th>50%</th>\n      <th>75%</th>\n      <th>max</th>\n      <th>count</th>\n      <th>mean</th>\n      <th>std</th>\n      <th>min</th>\n      <th>25%</th>\n      <th>50%</th>\n      <th>75%</th>\n      <th>max</th>\n    </tr>\n    <tr>\n      <th>age</th>\n      <th>education</th>\n      <th></th>\n      <th></th>\n      <th></th>\n      <th></th>\n      <th></th>\n      <th></th>\n      <th></th>\n      <th></th>\n      <th></th>\n      <th></th>\n      <th></th>\n      <th></th>\n      <th></th>\n      <th></th>\n      <th></th>\n      <th></th>\n    </tr>\n  </thead>\n  <tbody>\n    <tr>\n      <th rowspan=\"5\" valign=\"top\">17</th>\n      <th>10th</th>\n      <td>106.0</td>\n      <td>19.896226</td>\n      <td>9.235469</td>\n      <td>4.0</td>\n      <td>12.0</td>\n      <td>20.0</td>\n      <td>25.0</td>\n      <td>40.0</td>\n      <td>106.0</td>\n      <td>31.349057</td>\n      <td>9.442601</td>\n      <td>15.0</td>\n      <td>24.00</td>\n      <td>31.0</td>\n      <td>38.75</td>\n      <td>49.0</td>\n    </tr>\n    <tr>\n      <th>11th</th>\n      <td>154.0</td>\n      <td>19.448052</td>\n      <td>8.235141</td>\n      <td>5.0</td>\n      <td>15.0</td>\n      <td>20.0</td>\n      <td>21.5</td>\n      <td>45.0</td>\n      <td>154.0</td>\n      <td>32.655844</td>\n      <td>9.578967</td>\n      <td>15.0</td>\n      <td>25.00</td>\n      <td>31.0</td>\n      <td>40.00</td>\n      <td>49.0</td>\n    </tr>\n    <tr>\n      <th>12th</th>\n      <td>32.0</td>\n      <td>18.500000</td>\n      <td>7.708395</td>\n      <td>6.0</td>\n      <td>15.0</td>\n      <td>17.5</td>\n      <td>20.0</td>\n      <td>40.0</td>\n      <td>32.0</td>\n      <td>32.500000</td>\n      <td>9.425429</td>\n      <td>17.0</td>\n      <td>25.00</td>\n      <td>31.5</td>\n      <td>41.00</td>\n      <td>49.0</td>\n    </tr>\n    <tr>\n      <th>5th-6th</th>\n      <td>1.0</td>\n      <td>48.000000</td>\n      <td>NaN</td>\n      <td>48.0</td>\n      <td>48.0</td>\n      <td>48.0</td>\n      <td>48.0</td>\n      <td>48.0</td>\n      <td>1.0</td>\n      <td>47.000000</td>\n      <td>NaN</td>\n      <td>47.0</td>\n      <td>47.00</td>\n      <td>47.0</td>\n      <td>47.00</td>\n      <td>47.0</td>\n    </tr>\n    <tr>\n      <th>7th-8th</th>\n      <td>3.0</td>\n      <td>31.000000</td>\n      <td>20.074860</td>\n      <td>8.0</td>\n      <td>24.0</td>\n      <td>40.0</td>\n      <td>42.5</td>\n      <td>45.0</td>\n      <td>3.0</td>\n      <td>35.000000</td>\n      <td>14.798649</td>\n      <td>18.0</td>\n      <td>30.00</td>\n      <td>42.0</td>\n      <td>43.50</td>\n      <td>45.0</td>\n    </tr>\n    <tr>\n      <th>...</th>\n      <th>...</th>\n      <td>...</td>\n      <td>...</td>\n      <td>...</td>\n      <td>...</td>\n      <td>...</td>\n      <td>...</td>\n      <td>...</td>\n      <td>...</td>\n      <td>...</td>\n      <td>...</td>\n      <td>...</td>\n      <td>...</td>\n      <td>...</td>\n      <td>...</td>\n      <td>...</td>\n      <td>...</td>\n    </tr>\n    <tr>\n      <th rowspan=\"5\" valign=\"top\">90</th>\n      <th>Bachelors</th>\n      <td>7.0</td>\n      <td>36.428571</td>\n      <td>17.251639</td>\n      <td>10.0</td>\n      <td>27.5</td>\n      <td>40.0</td>\n      <td>47.5</td>\n      <td>55.0</td>\n      <td>7.0</td>\n      <td>107.714286</td>\n      <td>132.360259</td>\n      <td>20.0</td>\n      <td>25.00</td>\n      <td>40.0</td>\n      <td>168.00</td>\n      <td>308.0</td>\n    </tr>\n    <tr>\n      <th>HS-grad</th>\n      <td>11.0</td>\n      <td>40.000000</td>\n      <td>22.239604</td>\n      <td>12.0</td>\n      <td>27.5</td>\n      <td>40.0</td>\n      <td>40.0</td>\n      <td>99.0</td>\n      <td>11.0</td>\n      <td>40.545455</td>\n      <td>31.094577</td>\n      <td>17.0</td>\n      <td>23.00</td>\n      <td>37.0</td>\n      <td>42.00</td>\n      <td>129.0</td>\n    </tr>\n    <tr>\n      <th>Masters</th>\n      <td>4.0</td>\n      <td>47.500000</td>\n      <td>9.574271</td>\n      <td>40.0</td>\n      <td>40.0</td>\n      <td>45.0</td>\n      <td>52.5</td>\n      <td>60.0</td>\n      <td>4.0</td>\n      <td>201.250000</td>\n      <td>131.154807</td>\n      <td>44.0</td>\n      <td>121.25</td>\n      <td>213.0</td>\n      <td>293.00</td>\n      <td>335.0</td>\n    </tr>\n    <tr>\n      <th>Prof-school</th>\n      <td>1.0</td>\n      <td>72.000000</td>\n      <td>NaN</td>\n      <td>72.0</td>\n      <td>72.0</td>\n      <td>72.0</td>\n      <td>72.0</td>\n      <td>72.0</td>\n      <td>1.0</td>\n      <td>141.000000</td>\n      <td>NaN</td>\n      <td>141.0</td>\n      <td>141.00</td>\n      <td>141.0</td>\n      <td>141.00</td>\n      <td>141.0</td>\n    </tr>\n    <tr>\n      <th>Some-college</th>\n      <td>5.0</td>\n      <td>37.400000</td>\n      <td>2.509980</td>\n      <td>35.0</td>\n      <td>35.0</td>\n      <td>37.0</td>\n      <td>40.0</td>\n      <td>40.0</td>\n      <td>5.0</td>\n      <td>24.400000</td>\n      <td>9.889388</td>\n      <td>17.0</td>\n      <td>17.00</td>\n      <td>22.0</td>\n      <td>25.00</td>\n      <td>41.0</td>\n    </tr>\n  </tbody>\n</table>\n<p>930 rows × 16 columns</p>\n</div>"
     },
     "execution_count": 106,
     "metadata": {},
     "output_type": "execute_result"
    }
   ],
   "source": [
    "data.groupby([\"age\",\"education\"]).describe()"
   ],
   "metadata": {
    "collapsed": false,
    "pycharm": {
     "name": "#%%\n"
    },
    "ExecuteTime": {
     "end_time": "2023-10-16T11:13:21.191701200Z",
     "start_time": "2023-10-16T11:13:14.884699Z"
    }
   }
  },
  {
   "cell_type": "markdown",
   "source": [
    "# Task 7\n",
    "Compare the married and non-married men salaries. Who earns more? (>50K or <=50K)\n",
    "Married men are those, whom `marital-status` starts with \"Married\". Others are not."
   ],
   "metadata": {
    "collapsed": false,
    "pycharm": {
     "name": "#%% md\n"
    }
   }
  },
  {
   "cell_type": "code",
   "execution_count": 140,
   "outputs": [
    {
     "data": {
      "text/plain": "True"
     },
     "execution_count": 140,
     "metadata": {},
     "output_type": "execute_result"
    }
   ],
   "source": [
    "men = data[data[\"sex\"] == \"Male\"]\n",
    "men[\"Married\"] = men[\"marital-status\"].str.startswith(\"Married\")\n",
    "married = men[men[\"Married\"]][\"salary K$\"].mean()\n",
    "non_married = men[men[\"Married\"] == False][\"salary K$\"]\n",
    "married.mean() > non_married.mean()"
   ],
   "metadata": {
    "collapsed": false,
    "pycharm": {
     "name": "#%%\n"
    },
    "ExecuteTime": {
     "end_time": "2023-10-16T11:58:53.755740900Z",
     "start_time": "2023-10-16T11:58:53.665132100Z"
    }
   }
  },
  {
   "cell_type": "markdown",
   "source": [
    "# Task 8\n",
    "Get the max hours per week some person works. How many people works the same amount of hours per week?"
   ],
   "metadata": {
    "collapsed": false,
    "pycharm": {
     "name": "#%% md\n"
    }
   }
  },
  {
   "cell_type": "code",
   "execution_count": 181,
   "outputs": [
    {
     "data": {
      "text/plain": "       age         workclass   education      marital-status  \\\n0       39         State-gov   Bachelors       Never-married   \n1       50  Self-emp-not-inc   Bachelors  Married-civ-spouse   \n2       38           Private     HS-grad            Divorced   \n3       53           Private        11th  Married-civ-spouse   \n4       28           Private   Bachelors  Married-civ-spouse   \n...    ...               ...         ...                 ...   \n32556   27           Private  Assoc-acdm  Married-civ-spouse   \n32557   40           Private     HS-grad  Married-civ-spouse   \n32558   58           Private     HS-grad             Widowed   \n32559   22           Private     HS-grad       Never-married   \n32560   52      Self-emp-inc     HS-grad  Married-civ-spouse   \n\n              occupation   relationship   race     sex  hours-per-week  \\\n0           Adm-clerical  Not-in-family  White    Male              40   \n1        Exec-managerial        Husband  White    Male              13   \n2      Handlers-cleaners  Not-in-family  White    Male              40   \n3      Handlers-cleaners        Husband  Black    Male              40   \n4         Prof-specialty           Wife  Black  Female              40   \n...                  ...            ...    ...     ...             ...   \n32556       Tech-support           Wife  White  Female              38   \n32557  Machine-op-inspct        Husband  White    Male              40   \n32558       Adm-clerical      Unmarried  White  Female              40   \n32559       Adm-clerical      Own-child  White    Male              20   \n32560    Exec-managerial           Wife  White  Female              40   \n\n      native-country salary  salary K$  \n0      United-States  <=50K         39  \n1      United-States  <=50K         35  \n2      United-States  <=50K         27  \n3      United-States  <=50K         43  \n4               Cuba  <=50K         25  \n...              ...    ...        ...  \n32556  United-States  <=50K         36  \n32557  United-States   >50K        173  \n32558  United-States  <=50K         40  \n32559  United-States  <=50K         38  \n32560  United-States   >50K        243  \n\n[30162 rows x 12 columns]",
      "text/html": "<div>\n<style scoped>\n    .dataframe tbody tr th:only-of-type {\n        vertical-align: middle;\n    }\n\n    .dataframe tbody tr th {\n        vertical-align: top;\n    }\n\n    .dataframe thead th {\n        text-align: right;\n    }\n</style>\n<table border=\"1\" class=\"dataframe\">\n  <thead>\n    <tr style=\"text-align: right;\">\n      <th></th>\n      <th>age</th>\n      <th>workclass</th>\n      <th>education</th>\n      <th>marital-status</th>\n      <th>occupation</th>\n      <th>relationship</th>\n      <th>race</th>\n      <th>sex</th>\n      <th>hours-per-week</th>\n      <th>native-country</th>\n      <th>salary</th>\n      <th>salary K$</th>\n    </tr>\n  </thead>\n  <tbody>\n    <tr>\n      <th>0</th>\n      <td>39</td>\n      <td>State-gov</td>\n      <td>Bachelors</td>\n      <td>Never-married</td>\n      <td>Adm-clerical</td>\n      <td>Not-in-family</td>\n      <td>White</td>\n      <td>Male</td>\n      <td>40</td>\n      <td>United-States</td>\n      <td>&lt;=50K</td>\n      <td>39</td>\n    </tr>\n    <tr>\n      <th>1</th>\n      <td>50</td>\n      <td>Self-emp-not-inc</td>\n      <td>Bachelors</td>\n      <td>Married-civ-spouse</td>\n      <td>Exec-managerial</td>\n      <td>Husband</td>\n      <td>White</td>\n      <td>Male</td>\n      <td>13</td>\n      <td>United-States</td>\n      <td>&lt;=50K</td>\n      <td>35</td>\n    </tr>\n    <tr>\n      <th>2</th>\n      <td>38</td>\n      <td>Private</td>\n      <td>HS-grad</td>\n      <td>Divorced</td>\n      <td>Handlers-cleaners</td>\n      <td>Not-in-family</td>\n      <td>White</td>\n      <td>Male</td>\n      <td>40</td>\n      <td>United-States</td>\n      <td>&lt;=50K</td>\n      <td>27</td>\n    </tr>\n    <tr>\n      <th>3</th>\n      <td>53</td>\n      <td>Private</td>\n      <td>11th</td>\n      <td>Married-civ-spouse</td>\n      <td>Handlers-cleaners</td>\n      <td>Husband</td>\n      <td>Black</td>\n      <td>Male</td>\n      <td>40</td>\n      <td>United-States</td>\n      <td>&lt;=50K</td>\n      <td>43</td>\n    </tr>\n    <tr>\n      <th>4</th>\n      <td>28</td>\n      <td>Private</td>\n      <td>Bachelors</td>\n      <td>Married-civ-spouse</td>\n      <td>Prof-specialty</td>\n      <td>Wife</td>\n      <td>Black</td>\n      <td>Female</td>\n      <td>40</td>\n      <td>Cuba</td>\n      <td>&lt;=50K</td>\n      <td>25</td>\n    </tr>\n    <tr>\n      <th>...</th>\n      <td>...</td>\n      <td>...</td>\n      <td>...</td>\n      <td>...</td>\n      <td>...</td>\n      <td>...</td>\n      <td>...</td>\n      <td>...</td>\n      <td>...</td>\n      <td>...</td>\n      <td>...</td>\n      <td>...</td>\n    </tr>\n    <tr>\n      <th>32556</th>\n      <td>27</td>\n      <td>Private</td>\n      <td>Assoc-acdm</td>\n      <td>Married-civ-spouse</td>\n      <td>Tech-support</td>\n      <td>Wife</td>\n      <td>White</td>\n      <td>Female</td>\n      <td>38</td>\n      <td>United-States</td>\n      <td>&lt;=50K</td>\n      <td>36</td>\n    </tr>\n    <tr>\n      <th>32557</th>\n      <td>40</td>\n      <td>Private</td>\n      <td>HS-grad</td>\n      <td>Married-civ-spouse</td>\n      <td>Machine-op-inspct</td>\n      <td>Husband</td>\n      <td>White</td>\n      <td>Male</td>\n      <td>40</td>\n      <td>United-States</td>\n      <td>&gt;50K</td>\n      <td>173</td>\n    </tr>\n    <tr>\n      <th>32558</th>\n      <td>58</td>\n      <td>Private</td>\n      <td>HS-grad</td>\n      <td>Widowed</td>\n      <td>Adm-clerical</td>\n      <td>Unmarried</td>\n      <td>White</td>\n      <td>Female</td>\n      <td>40</td>\n      <td>United-States</td>\n      <td>&lt;=50K</td>\n      <td>40</td>\n    </tr>\n    <tr>\n      <th>32559</th>\n      <td>22</td>\n      <td>Private</td>\n      <td>HS-grad</td>\n      <td>Never-married</td>\n      <td>Adm-clerical</td>\n      <td>Own-child</td>\n      <td>White</td>\n      <td>Male</td>\n      <td>20</td>\n      <td>United-States</td>\n      <td>&lt;=50K</td>\n      <td>38</td>\n    </tr>\n    <tr>\n      <th>32560</th>\n      <td>52</td>\n      <td>Self-emp-inc</td>\n      <td>HS-grad</td>\n      <td>Married-civ-spouse</td>\n      <td>Exec-managerial</td>\n      <td>Wife</td>\n      <td>White</td>\n      <td>Female</td>\n      <td>40</td>\n      <td>United-States</td>\n      <td>&gt;50K</td>\n      <td>243</td>\n    </tr>\n  </tbody>\n</table>\n<p>30162 rows × 12 columns</p>\n</div>"
     },
     "execution_count": 181,
     "metadata": {},
     "output_type": "execute_result"
    }
   ],
   "source": [
    "data[\"hours-per-week\"].max()\n",
    "data.groupby(\"hours-per-week\").size().reset_index(name='count')"
   ],
   "metadata": {
    "collapsed": false,
    "pycharm": {
     "name": "#%%\n"
    },
    "ExecuteTime": {
     "end_time": "2023-10-16T12:26:54.321650700Z",
     "start_time": "2023-10-16T12:26:54.271478200Z"
    }
   }
  },
  {
   "cell_type": "markdown",
   "source": [
    "# Task 9\n",
    "Analyze the correlation between data in dataset. Understand connected fields in it and print highlight thier connection."
   ],
   "metadata": {
    "collapsed": false,
    "pycharm": {
     "name": "#%% md\n"
    }
   }
  },
  {
   "cell_type": "code",
   "execution_count": 185,
   "outputs": [
    {
     "data": {
      "text/plain": "                     age  hours-per-week  salary K$  Gender_Mapping\nage             1.000000        0.101599   0.208203       -0.081993\nhours-per-week  0.101599        1.000000   0.196378       -0.231268\nsalary K$       0.208203        0.196378   1.000000       -0.182642\nGender_Mapping -0.081993       -0.231268  -0.182642        1.000000",
      "text/html": "<div>\n<style scoped>\n    .dataframe tbody tr th:only-of-type {\n        vertical-align: middle;\n    }\n\n    .dataframe tbody tr th {\n        vertical-align: top;\n    }\n\n    .dataframe thead th {\n        text-align: right;\n    }\n</style>\n<table border=\"1\" class=\"dataframe\">\n  <thead>\n    <tr style=\"text-align: right;\">\n      <th></th>\n      <th>age</th>\n      <th>hours-per-week</th>\n      <th>salary K$</th>\n      <th>Gender_Mapping</th>\n    </tr>\n  </thead>\n  <tbody>\n    <tr>\n      <th>age</th>\n      <td>1.000000</td>\n      <td>0.101599</td>\n      <td>0.208203</td>\n      <td>-0.081993</td>\n    </tr>\n    <tr>\n      <th>hours-per-week</th>\n      <td>0.101599</td>\n      <td>1.000000</td>\n      <td>0.196378</td>\n      <td>-0.231268</td>\n    </tr>\n    <tr>\n      <th>salary K$</th>\n      <td>0.208203</td>\n      <td>0.196378</td>\n      <td>1.000000</td>\n      <td>-0.182642</td>\n    </tr>\n    <tr>\n      <th>Gender_Mapping</th>\n      <td>-0.081993</td>\n      <td>-0.231268</td>\n      <td>-0.182642</td>\n      <td>1.000000</td>\n    </tr>\n  </tbody>\n</table>\n</div>"
     },
     "execution_count": 185,
     "metadata": {},
     "output_type": "execute_result"
    }
   ],
   "source": [
    "data.select_dtypes(include=[\"int64\", \"float64\"]).corr()\n",
    "gender_mapping = {\"Male\": 0, 'Female': 1}\n",
    "data[\"Gender_Mapping\"] = data[\"sex\"].map(gender_mapping)\n",
    "data.select_dtypes(include=[\"int64\", \"float64\"]).corr()"
   ],
   "metadata": {
    "collapsed": false,
    "pycharm": {
     "name": "#%%\n"
    },
    "ExecuteTime": {
     "end_time": "2023-10-16T12:29:42.189445600Z",
     "start_time": "2023-10-16T12:29:42.098454600Z"
    }
   }
  }
 ],
 "metadata": {
  "kernelspec": {
   "display_name": "Python 3",
   "language": "python",
   "name": "python3"
  },
  "language_info": {
   "codemirror_mode": {
    "name": "ipython",
    "version": 2
   },
   "file_extension": ".py",
   "mimetype": "text/x-python",
   "name": "python",
   "nbconvert_exporter": "python",
   "pygments_lexer": "ipython2",
   "version": "2.7.6"
  }
 },
 "nbformat": 4,
 "nbformat_minor": 0
}
