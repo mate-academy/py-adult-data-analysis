{
 "cells": [
  {
   "cell_type": "code",
   "execution_count": 34,
   "outputs": [],
   "source": [
    "import numpy as np\n",
    "import pandas as pd"
   ],
   "metadata": {
    "collapsed": false,
    "pycharm": {
     "name": "#%%\n"
    },
    "ExecuteTime": {
     "end_time": "2024-05-07T16:53:38.390005300Z",
     "start_time": "2024-05-07T16:53:38.372702400Z"
    }
   }
  },
  {
   "cell_type": "markdown",
   "source": [
    "# Task 0\n",
    "Read the dataset from csv file & perform data cleaning - remove all rows, which contains `?` in some columns.\n",
    "Also check for data correctness (salary & salary $K)."
   ],
   "metadata": {
    "collapsed": false,
    "pycharm": {
     "name": "#%% md\n"
    }
   }
  },
  {
   "cell_type": "code",
   "execution_count": 35,
   "outputs": [
    {
     "name": "stdout",
     "output_type": "stream",
     "text": [
      "True\n"
     ]
    }
   ],
   "source": [
    "dataset = pd.read_csv(\"../data/adult.csv\", na_values=\"?\")\n",
    "correct_format_of_salary = dataset[\"salary\"].str.match(r\"[<>]=?\\d+[Kk]\").all()\n",
    "print(correct_format_of_salary)"
   ],
   "metadata": {
    "collapsed": false,
    "pycharm": {
     "name": "#%%\n"
    },
    "ExecuteTime": {
     "end_time": "2024-05-07T16:53:38.637000200Z",
     "start_time": "2024-05-07T16:53:38.398999Z"
    }
   }
  },
  {
   "cell_type": "markdown",
   "source": [],
   "metadata": {
    "collapsed": false
   }
  },
  {
   "cell_type": "markdown",
   "source": [
    "# Task 1\n",
    "Print the count of men and women in the dataset."
   ],
   "metadata": {
    "collapsed": false,
    "pycharm": {
     "name": "#%% md\n"
    }
   }
  },
  {
   "cell_type": "code",
   "execution_count": 36,
   "outputs": [
    {
     "name": "stdout",
     "output_type": "stream",
     "text": [
      "sex\n",
      "Male      21790\n",
      "Female    10771\n",
      "Name: count, dtype: int64\n"
     ]
    }
   ],
   "source": [
    "gender_counts = dataset[\"sex\"].value_counts()\n",
    "print(gender_counts)"
   ],
   "metadata": {
    "collapsed": false,
    "pycharm": {
     "name": "#%%\n"
    },
    "ExecuteTime": {
     "end_time": "2024-05-07T16:53:38.709409500Z",
     "start_time": "2024-05-07T16:53:38.637000200Z"
    }
   }
  },
  {
   "cell_type": "markdown",
   "source": [
    "# Task 2\n",
    "Find the average age of men in dataset"
   ],
   "metadata": {
    "collapsed": false,
    "pycharm": {
     "name": "#%% md\n"
    }
   }
  },
  {
   "cell_type": "code",
   "execution_count": 37,
   "outputs": [
    {
     "name": "stdout",
     "output_type": "stream",
     "text": [
      "39.0\n"
     ]
    }
   ],
   "source": [
    "average_age_of_men = dataset[dataset[\"sex\"] == \"Male\"][\"age\"].mean()\n",
    "print(average_age_of_men.round(0))"
   ],
   "metadata": {
    "collapsed": false,
    "pycharm": {
     "name": "#%%\n"
    },
    "ExecuteTime": {
     "end_time": "2024-05-07T16:53:38.710528600Z",
     "start_time": "2024-05-07T16:53:38.675441700Z"
    }
   }
  },
  {
   "cell_type": "markdown",
   "source": [
    "# Task 3\n",
    "Get the percentage of people from Poland (native-country)"
   ],
   "metadata": {
    "collapsed": false,
    "pycharm": {
     "name": "#%% md\n"
    }
   }
  },
  {
   "cell_type": "code",
   "execution_count": 38,
   "outputs": [
    {
     "name": "stdout",
     "output_type": "stream",
     "text": [
      "0.18426952489174164\n"
     ]
    }
   ],
   "source": [
    "people_from_poland = (len(dataset[dataset[\"native-country\"] == \"Poland\"]) / len(dataset)) * 100\n",
    "print(people_from_poland)"
   ],
   "metadata": {
    "collapsed": false,
    "pycharm": {
     "name": "#%%\n"
    },
    "ExecuteTime": {
     "end_time": "2024-05-07T16:53:38.768223100Z",
     "start_time": "2024-05-07T16:53:38.693407100Z"
    }
   }
  },
  {
   "cell_type": "markdown",
   "source": [
    "# Task 4\n",
    "Get the mean and standard deviation of the age for people who earn > 50K per year. After this, get it for those who earn <= 50K."
   ],
   "metadata": {
    "collapsed": false,
    "pycharm": {
     "name": "#%% md\n"
    }
   }
  },
  {
   "cell_type": "code",
   "execution_count": 39,
   "outputs": [
    {
     "name": "stdout",
     "output_type": "stream",
     "text": [
      "44.24984058155847\n",
      "10.519027719851826\n",
      "36.78373786407767\n",
      "14.02008849082488\n"
     ]
    }
   ],
   "source": [
    "rich_guys_mean_age = dataset[dataset['salary'] == '>50K']['age'].mean()\n",
    "print(rich_guys_mean_age)\n",
    "rich_guys_std_age = dataset[dataset['salary'] == '>50K']['age'].std()\n",
    "print(rich_guys_std_age)\n",
    "poor_guys_mean_age = dataset[dataset['salary'] == '<=50K']['age'].mean()\n",
    "print(poor_guys_mean_age)\n",
    "poor_guys_std_age = dataset[dataset['salary'] == '<=50K']['age'].std()\n",
    "print(poor_guys_std_age)"
   ],
   "metadata": {
    "collapsed": false,
    "pycharm": {
     "name": "#%%\n"
    },
    "ExecuteTime": {
     "end_time": "2024-05-07T16:53:38.810222700Z",
     "start_time": "2024-05-07T16:53:38.716407600Z"
    }
   }
  },
  {
   "cell_type": "markdown",
   "source": [
    "# Task 5\n",
    "Check, if there are some people without higher education (education: Bachelors, Prof-school, Assoc-acdm, Assoc-voc, Masters, Doctorate), but with > 50K salary"
   ],
   "metadata": {
    "collapsed": false,
    "pycharm": {
     "name": "#%% md\n"
    }
   }
  },
  {
   "cell_type": "code",
   "execution_count": 40,
   "outputs": [
    {
     "name": "stdout",
     "output_type": "stream",
     "text": [
      "3306\n"
     ]
    }
   ],
   "source": [
    "number_of_rich_and_uneducated = dataset[~dataset['education'].isin(['Bachelors', 'Prof-school', 'Assoc-acdm', 'Assoc-voc', 'Masters', 'Doctorate']) & (dataset['salary'] == '>50K')]\n",
    "print(len(number_of_rich_and_uneducated))"
   ],
   "metadata": {
    "collapsed": false,
    "pycharm": {
     "name": "#%%\n"
    },
    "ExecuteTime": {
     "end_time": "2024-05-07T16:53:38.811223100Z",
     "start_time": "2024-05-07T16:53:38.758504600Z"
    }
   }
  },
  {
   "cell_type": "markdown",
   "source": [
    "# Task 6\n",
    "Get the statistics of age for each type of education. Use `groupby` and `describe` for this."
   ],
   "metadata": {
    "collapsed": false,
    "pycharm": {
     "name": "#%% md\n"
    }
   }
  },
  {
   "cell_type": "code",
   "execution_count": 41,
   "outputs": [
    {
     "name": "stdout",
     "output_type": "stream",
     "text": [
      "                count       mean        std   min    25%   50%   75%   max\n",
      "education                                                                 \n",
      "10th            933.0  37.429796  16.720713  17.0  22.00  34.0  52.0  90.0\n",
      "11th           1175.0  32.355745  15.545485  17.0  18.00  28.0  43.0  90.0\n",
      "12th            433.0  32.000000  14.334625  17.0  19.00  28.0  41.0  79.0\n",
      "1st-4th         168.0  46.142857  15.615625  19.0  33.00  46.0  57.0  90.0\n",
      "5th-6th         333.0  42.885886  15.557285  17.0  29.00  42.0  54.0  84.0\n",
      "7th-8th         646.0  48.445820  16.092350  17.0  34.25  50.0  61.0  90.0\n",
      "9th             514.0  41.060311  15.946862  17.0  28.00  39.0  54.0  90.0\n",
      "Assoc-acdm     1067.0  37.381443  11.095177  19.0  29.00  36.0  44.0  90.0\n",
      "Assoc-voc      1382.0  38.553546  11.631300  19.0  30.00  37.0  46.0  84.0\n",
      "Bachelors      5355.0  38.904949  11.912210  19.0  29.00  37.0  46.0  90.0\n",
      "Doctorate       413.0  47.702179  11.784716  24.0  39.00  47.0  55.0  80.0\n",
      "HS-grad       10501.0  38.974479  13.541524  17.0  28.00  37.0  48.0  90.0\n",
      "Masters        1723.0  44.049913  11.068935  18.0  36.00  43.0  51.0  90.0\n",
      "Preschool        51.0  42.764706  15.126914  19.0  31.00  41.0  53.5  75.0\n",
      "Prof-school     576.0  44.746528  11.962477  25.0  36.00  43.0  51.0  90.0\n",
      "Some-college   7291.0  35.756275  13.474051  17.0  24.00  34.0  45.0  90.0\n"
     ]
    }
   ],
   "source": [
    "education = dataset.groupby('education')['age'].describe()\n",
    "print(education)"
   ],
   "metadata": {
    "collapsed": false,
    "pycharm": {
     "name": "#%%\n"
    },
    "ExecuteTime": {
     "end_time": "2024-05-07T16:53:38.872163800Z",
     "start_time": "2024-05-07T16:53:38.768223100Z"
    }
   }
  },
  {
   "cell_type": "markdown",
   "source": [
    "# Task 7\n",
    "Compare the married and non-married men salaries. Who earns more? (>50K or <=50K)\n",
    "Married men are those, whom `marital-status` starts with \"Married\". Others are not."
   ],
   "metadata": {
    "collapsed": false,
    "pycharm": {
     "name": "#%% md\n"
    }
   }
  },
  {
   "cell_type": "code",
   "execution_count": 42,
   "outputs": [
    {
     "name": "stdout",
     "output_type": "stream",
     "text": [
      "False\n"
     ]
    }
   ],
   "source": [
    "def extract_salary(salary_string):\n",
    "    salary_int = \"\"\n",
    "    for i in salary_string:\n",
    "        if i.isdigit():\n",
    "            salary_int += i\n",
    "    return int(salary_int)\n",
    "\n",
    "dataset[\"salary\"] = dataset[\"salary\"].apply(extract_salary)\n",
    "\n",
    "married_men = dataset[(dataset[\"sex\"] == \"Male\") & (dataset[\"marital-status\"].str.startswith(\"Married\"))]\n",
    "non_married_men = dataset[(dataset[\"sex\"] == \"Male\") & (~dataset[\"marital-status\"].str.startswith(\"Married\"))]\n",
    "\n",
    "married_men_salary_mean = married_men[\"salary\"].mean()\n",
    "non_married_men_salary_mean = non_married_men[\"salary\"].mean()\n",
    "\n",
    "print(married_men_salary_mean > non_married_men_salary_mean)\n"
   ],
   "metadata": {
    "collapsed": false,
    "pycharm": {
     "name": "#%%\n"
    },
    "ExecuteTime": {
     "end_time": "2024-05-07T16:53:38.918228200Z",
     "start_time": "2024-05-07T16:53:38.847165700Z"
    }
   }
  },
  {
   "cell_type": "markdown",
   "source": [
    "# Task 8\n",
    "Get the max hours per week some person works. How many people works the same amount of hours per week?"
   ],
   "metadata": {
    "collapsed": false,
    "pycharm": {
     "name": "#%% md\n"
    }
   }
  },
  {
   "cell_type": "code",
   "execution_count": 43,
   "outputs": [
    {
     "name": "stdout",
     "output_type": "stream",
     "text": [
      "99 85\n"
     ]
    }
   ],
   "source": [
    "max_hours = dataset[\"hours-per-week\"].max()\n",
    "people_same_max_hours = (dataset['hours-per-week'] == max_hours).sum()\n",
    "print(max_hours, people_same_max_hours)"
   ],
   "metadata": {
    "collapsed": false,
    "pycharm": {
     "name": "#%%\n"
    },
    "ExecuteTime": {
     "end_time": "2024-05-07T16:53:38.945451900Z",
     "start_time": "2024-05-07T16:53:38.916228300Z"
    }
   }
  },
  {
   "cell_type": "markdown",
   "source": [
    "# Task 9\n",
    "Analyze the correlation between data in dataset. Understand connected fields in it and print highlight thier connection."
   ],
   "metadata": {
    "collapsed": false,
    "pycharm": {
     "name": "#%% md\n"
    }
   }
  },
  {
   "cell_type": "code",
   "execution_count": 44,
   "outputs": [
    {
     "name": "stdout",
     "output_type": "stream",
     "text": [
      "                Unnamed: 0       age  hours-per-week  salary  salary K$\n",
      "Unnamed: 0        1.000000  0.001286        0.000607     NaN  -0.001666\n",
      "age               0.001286  1.000000        0.068756     NaN   0.201774\n",
      "hours-per-week    0.000607  0.068756        1.000000     NaN   0.196916\n",
      "salary                 NaN       NaN             NaN     NaN        NaN\n",
      "salary K$        -0.001666  0.201774        0.196916     NaN   1.000000\n"
     ]
    }
   ],
   "source": [
    "numeric_columns = dataset.select_dtypes(include=np.number)\n",
    "correlation_matrix = numeric_columns.corr()\n",
    "print(correlation_matrix)"
   ],
   "metadata": {
    "collapsed": false,
    "pycharm": {
     "name": "#%%\n"
    },
    "ExecuteTime": {
     "end_time": "2024-05-07T16:53:39.003447200Z",
     "start_time": "2024-05-07T16:53:38.929775100Z"
    }
   }
  }
 ],
 "metadata": {
  "kernelspec": {
   "display_name": "Python 3",
   "language": "python",
   "name": "python3"
  },
  "language_info": {
   "codemirror_mode": {
    "name": "ipython",
    "version": 2
   },
   "file_extension": ".py",
   "mimetype": "text/x-python",
   "name": "python",
   "nbconvert_exporter": "python",
   "pygments_lexer": "ipython2",
   "version": "2.7.6"
  }
 },
 "nbformat": 4,
 "nbformat_minor": 0
}
