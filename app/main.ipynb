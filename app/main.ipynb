{
 "cells": [
  {
   "cell_type": "code",
   "execution_count": 196,
   "outputs": [],
   "source": [
    "import numpy as np\n",
    "import pandas as pd"
   ],
   "metadata": {
    "collapsed": false
   }
  },
  {
   "cell_type": "markdown",
   "source": [
    "# Task 0\n",
    "Read the dataset from csv file & perform data cleaning - remove all rows, which contains `?` in some columns.\n",
    "Also check for data correctness (salary & salary $K)."
   ],
   "metadata": {
    "collapsed": false
   }
  },
  {
   "cell_type": "code",
   "execution_count": 210,
   "outputs": [],
   "source": [
    "df = pd.read_csv(\"../data/adult.csv\", index_col=[0])\n",
    "rows_with_question_mark = (df == '?').any(axis=1)\n",
    "df = df[~rows_with_question_mark]\n",
    "df[\"salary\"] = np.where(df[\"salary K$\"] <= 50, \"<=50K\", \">50K\")"
   ],
   "metadata": {
    "collapsed": false
   }
  },
  {
   "cell_type": "markdown",
   "source": [
    "# Task 1\n",
    "Print the count of men and women in the dataset."
   ],
   "metadata": {
    "collapsed": false
   }
  },
  {
   "cell_type": "code",
   "execution_count": null,
   "outputs": [],
   "source": [
    "df[\"sex\"].value_counts()"
   ],
   "metadata": {
    "collapsed": false,
    "pycharm": {
     "is_executing": true
    }
   }
  },
  {
   "cell_type": "markdown",
   "source": [
    "# Task 2\n",
    "Find the average age of men in dataset"
   ],
   "metadata": {
    "collapsed": false
   }
  },
  {
   "cell_type": "code",
   "execution_count": null,
   "outputs": [],
   "source": [
    "df.loc[df[\"sex\"] == \"Male\", \"age\"].mean()"
   ],
   "metadata": {
    "collapsed": false,
    "pycharm": {
     "is_executing": true
    }
   }
  },
  {
   "cell_type": "markdown",
   "source": [
    "# Task 3\n",
    "Get the percentage of people from Poland (native-country)"
   ],
   "metadata": {
    "collapsed": false
   }
  },
  {
   "cell_type": "code",
   "execution_count": null,
   "outputs": [],
   "source": [
    "all_ppl = df.shape[0]\n",
    "poland_people_amount = df.loc[df[\"native-country\"] == \"Poland\"].shape[0]\n",
    "(poland_people_amount / all_ppl) * 100"
   ],
   "metadata": {
    "collapsed": false,
    "pycharm": {
     "is_executing": true
    }
   }
  },
  {
   "cell_type": "markdown",
   "source": [
    "# Task 4\n",
    "Get the mean and standard deviation of the age for people who earn > 50K per year. After this, get it for those who earn <= 50K."
   ],
   "metadata": {
    "collapsed": false
   }
  },
  {
   "cell_type": "code",
   "execution_count": null,
   "outputs": [],
   "source": [
    "high_salary_ages = df.loc[df[\"salary\"] == \">50K\", \"age\"]\n",
    "low_salary_ages = df.loc[df[\"salary\"] == \"<=50K\", \"age\"]\n",
    "print(f\"Age stats with High salary: Mean: {high_salary_ages.mean()}, Standard deviation: {high_salary_ages.std()}\")\n",
    "print(f\"Age stats with Low salary: Mean: {low_salary_ages.mean()}, Standard deviation: {low_salary_ages.std()}\")\n"
   ],
   "metadata": {
    "collapsed": false,
    "pycharm": {
     "is_executing": true
    }
   }
  },
  {
   "cell_type": "markdown",
   "source": [
    "# Task 5\n",
    "Check, if there are some people without higher education (education: Bachelors, Prof-school, Assoc-acdm, Assoc-voc, Masters, Doctorate), but with > 50K salary"
   ],
   "metadata": {
    "collapsed": false
   }
  },
  {
   "cell_type": "code",
   "execution_count": null,
   "outputs": [],
   "source": [
    "higher_education = [\"Bachelors\", \"Prof-school\", \"Assoc-acdm\", \"Assoc-voc\", \"Masters\", \"Doctorate\"]\n",
    "people_without_higher_edu = df.loc[~(df[\"education\"].isin(higher_education))]\n",
    "people_without_higher_edu.loc[df[\"salary\"] == \">50K\"].shape[0]"
   ],
   "metadata": {
    "collapsed": false,
    "pycharm": {
     "is_executing": true
    }
   }
  },
  {
   "cell_type": "markdown",
   "source": [
    "# Task 6\n",
    "Get the statistics of age for each type of education. Use `groupby` and `describe` for this."
   ],
   "metadata": {
    "collapsed": false
   }
  },
  {
   "cell_type": "code",
   "execution_count": null,
   "outputs": [],
   "source": [
    "df.groupby(\"education\")[\"age\"].describe()"
   ],
   "metadata": {
    "collapsed": false,
    "pycharm": {
     "is_executing": true
    }
   }
  },
  {
   "cell_type": "markdown",
   "source": [
    "# Task 7\n",
    "Compare the married and non-married men salaries. Who earns more? (>50K or <=50K)\n",
    "Married men are those, whom `marital-status` starts with \"Married\". Others are not."
   ],
   "metadata": {
    "collapsed": false
   }
  },
  {
   "cell_type": "code",
   "execution_count": null,
   "outputs": [],
   "source": [
    "high_salary_married_men = df.loc[df[\"sex\"] == \"Male\"].loc[df[\"salary\"] == \">50K\"].loc[df[\"marital-status\"].str.startswith(\"Married\")][\"marital-status\"].count()\n",
    "high_salary_unmarried_men = df.loc[df[\"sex\"] == \"Male\"].loc[df[\"salary\"] == \">50K\"].loc[~df[\"marital-status\"].str.startswith(\"Married\")][\"marital-status\"].count()\n",
    "low_salary_married_men = df.loc[df[\"sex\"] == \"Male\"].loc[df[\"salary\"] == \"<=50K\"].loc[df[\"marital-status\"].str.startswith(\"Married\")][\"marital-status\"].count()\n",
    "low_salary_unmarried_men = df.loc[df[\"sex\"] == \"Male\"].loc[df[\"salary\"] == \"<=50K\"].loc[~df[\"marital-status\"].str.startswith(\"Married\")][\"marital-status\"].count()\n",
    "\n",
    "if high_salary_married_men > high_salary_unmarried_men:\n",
    "    print(f\"Amount of married men with high income are higher than unmarried {high_salary_married_men} vs {high_salary_unmarried_men}\")\n",
    "else:\n",
    "    print(f\"Amount of unmarried men with high income are higher than married {high_salary_unmarried_men} vs {high_salary_married_men}\")\n",
    "\n",
    "if low_salary_married_men > low_salary_unmarried_men:\n",
    "    print(f\"Amount of married men with low income are higher than unmarried {low_salary_married_men} vs {low_salary_unmarried_men}\")\n",
    "else:\n",
    "    print(f\"Amount of unmarried men with high income are higher than married {low_salary_unmarried_men} vs {low_salary_married_men}\")\n",
    "\n"
   ],
   "metadata": {
    "collapsed": false,
    "pycharm": {
     "is_executing": true
    }
   }
  },
  {
   "cell_type": "markdown",
   "source": [
    "# Task 8\n",
    "Get the max hours per week some person works. How many people works the same amount of hours per week?"
   ],
   "metadata": {
    "collapsed": false
   }
  },
  {
   "cell_type": "code",
   "execution_count": null,
   "outputs": [],
   "source": [
    "max_amount_of_hours = df[\"hours-per-week\"].max()\n",
    "df.loc[df[\"hours-per-week\"] == max_amount_of_hours].shape[0]"
   ],
   "metadata": {
    "collapsed": false,
    "pycharm": {
     "is_executing": true
    }
   }
  },
  {
   "cell_type": "markdown",
   "source": [
    "# Task 9\n",
    "Analyze the correlation between data in dataset. Understand connected fields in it and print highlight thier connection."
   ],
   "metadata": {
    "collapsed": false
   }
  },
  {
   "cell_type": "code",
   "execution_count": null,
   "outputs": [],
   "source": [
    "df.drop(labels=[\"workclass\", \"education\", \"marital-status\", \"occupation\", \"relationship\", \"race\", \"sex\", \"native-country\", \"salary\"], axis=1).corr()"
   ],
   "metadata": {
    "collapsed": false,
    "pycharm": {
     "is_executing": true
    }
   }
  }
 ],
 "metadata": {
  "kernelspec": {
   "display_name": "Python 3",
   "language": "python",
   "name": "python3"
  },
  "language_info": {
   "codemirror_mode": {
    "name": "ipython",
    "version": 2
   },
   "file_extension": ".py",
   "mimetype": "text/x-python",
   "name": "python",
   "nbconvert_exporter": "python",
   "pygments_lexer": "ipython2",
   "version": "2.7.6"
  }
 },
 "nbformat": 4,
 "nbformat_minor": 0
}
