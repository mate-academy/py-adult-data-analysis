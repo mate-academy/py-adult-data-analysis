{
 "cells": [
  {
   "cell_type": "code",
   "execution_count": 43,
   "metadata": {
    "collapsed": false,
    "pycharm": {
     "name": "#%%\n"
    }
   },
   "outputs": [],
   "source": [
    "import numpy as np\n",
    "import pandas as pd\n",
    "import seaborn as sns\n",
    "import matplotlib.pyplot as plt\n",
    "from pathlib import Path\n"
   ]
  },
  {
   "cell_type": "markdown",
   "metadata": {
    "collapsed": false,
    "pycharm": {
     "name": "#%% md\n"
    }
   },
   "source": [
    "# Task 0\n",
    "Read the dataset from csv file & perform data cleaning - remove all rows, which contains `?` in some columns.\n",
    "Also check for data correctness (salary & salary $K)."
   ]
  },
  {
   "cell_type": "code",
   "execution_count": 23,
   "metadata": {
    "collapsed": false,
    "pycharm": {
     "name": "#%%\n"
    }
   },
   "outputs": [
    {
     "name": "stdout",
     "output_type": "stream",
     "text": [
      "Number of incorrect values: 0\n"
     ]
    }
   ],
   "source": [
    "# read dataset from csv file\n",
    "base_dir = Path.cwd().parent\n",
    "data_file_path = base_dir/\"data\"/\"adult.csv\"\n",
    "absolute_data_file_path = data_file_path.resolve()\n",
    "\n",
    "data = pd.read_csv(absolute_data_file_path)\n",
    "\n",
    "# remove all rows, which contains \"?\"\n",
    "data = data[~data.map(lambda x: \"?\" in str(x)).any(axis=1)]\n",
    "\n",
    "# check for data correctness (salary & salary $K)\n",
    "condition_1 = (data[\"salary\"] == \"<=50K\") & (data[\"salary K$\"] <= 50)\n",
    "condition_2 = (data[\"salary\"] == \">50K\") & (data[\"salary K$\"] > 50)\n",
    "correct = condition_1 | condition_2\n",
    "incorrect = len(data) - correct.sum()\n",
    "print(f\"Number of incorrect values: {incorrect}\")\n"
   ]
  },
  {
   "cell_type": "markdown",
   "metadata": {
    "collapsed": false,
    "pycharm": {
     "name": "#%% md\n"
    }
   },
   "source": [
    "# Task 1\n",
    "Print the count of men and women in the dataset."
   ]
  },
  {
   "cell_type": "code",
   "execution_count": 44,
   "metadata": {
    "collapsed": false,
    "pycharm": {
     "name": "#%%\n"
    }
   },
   "outputs": [
    {
     "name": "stdout",
     "output_type": "stream",
     "text": [
      "Number of men: 20380\n",
      "Number of women: 9782\n"
     ]
    }
   ],
   "source": [
    "gender_counts = data[\"sex\"].value_counts()\n",
    "\n",
    "men = gender_counts.get(\"Male\", 0)\n",
    "women = gender_counts.get(\"Female\", 0)\n",
    "\n",
    "print(f\"Number of men: {men}\")\n",
    "print(f\"Number of women: {women}\")"
   ]
  },
  {
   "cell_type": "markdown",
   "metadata": {
    "collapsed": false,
    "pycharm": {
     "name": "#%% md\n"
    }
   },
   "source": [
    "# Task 2\n",
    "Find the average age of men in dataset"
   ]
  },
  {
   "cell_type": "code",
   "execution_count": 45,
   "metadata": {
    "collapsed": false,
    "pycharm": {
     "name": "#%%\n"
    }
   },
   "outputs": [
    {
     "name": "stdout",
     "output_type": "stream",
     "text": [
      "The average age of men is: 39.18\n"
     ]
    }
   ],
   "source": [
    "# write your code for task 2 here\n",
    "males_only = data[data[\"sex\"] == \"Male\"]\n",
    "average_age_men = males_only[\"age\"].mean()\n",
    "print(f\"The average age of men is: {average_age_men:.2f}\")\n"
   ]
  },
  {
   "cell_type": "markdown",
   "metadata": {
    "collapsed": false,
    "pycharm": {
     "name": "#%% md\n"
    }
   },
   "source": [
    "# Task 3\n",
    "Get the percentage of people from Poland (native-country)"
   ]
  },
  {
   "cell_type": "code",
   "execution_count": 46,
   "metadata": {
    "collapsed": false,
    "pycharm": {
     "name": "#%%\n"
    }
   },
   "outputs": [
    {
     "name": "stdout",
     "output_type": "stream",
     "text": [
      "The percentage of people from Poland: 0.19%\n"
     ]
    }
   ],
   "source": [
    "# write your code for task 3 here\n",
    "countries = data[\"native-country\"].value_counts()\n",
    "poland_percentage = countries[\"Poland\"] / len(data) * 100\n",
    "print(f\"The percentage of people from Poland: {poland_percentage:.2f}%\")\n"
   ]
  },
  {
   "cell_type": "markdown",
   "metadata": {
    "collapsed": false,
    "pycharm": {
     "name": "#%% md\n"
    }
   },
   "source": [
    "# Task 4\n",
    "Get the mean and standard deviation of the age for people who earn > 50K per year. After this, get it for those who earn <= 50K."
   ]
  },
  {
   "cell_type": "code",
   "execution_count": 47,
   "metadata": {
    "collapsed": false,
    "pycharm": {
     "name": "#%%\n"
    }
   },
   "outputs": [
    {
     "name": "stdout",
     "output_type": "stream",
     "text": [
      "The mean of the age who earn > 50K: 44.0\n",
      "The standard deviation of the age who earn > 50K: 10.3\n",
      "The mean of the age who earn <= 50K: 36.6\n",
      "The standard deviation of the age who earn <= 50K: 13.5\n"
     ]
    }
   ],
   "source": [
    "# write your code for task 4 here\n",
    "more_50K = data[data[\"salary\"] == \">50K\"]\n",
    "mean_age_more_50K = more_50K[\"age\"].mean()\n",
    "std_age_more_50K = more_50K[\"age\"].std()\n",
    "\n",
    "print(f\"The mean of the age who earn > 50K: {mean_age_more_50K:.1f}\")\n",
    "print(f\"The standard deviation of the age who earn > 50K: {std_age_more_50K:.1f}\")\n",
    "\n",
    "less_50K = data[data[\"salary\"] == \"<=50K\"]\n",
    "mean_age_less_50K = less_50K[\"age\"].mean()\n",
    "std_age_less_50K = less_50K[\"age\"].std()\n",
    "\n",
    "print(f\"The mean of the age who earn <= 50K: {mean_age_less_50K:.1f}\")\n",
    "print(f\"The standard deviation of the age who earn <= 50K: {std_age_less_50K:.1f}\")\n"
   ]
  },
  {
   "cell_type": "markdown",
   "metadata": {
    "collapsed": false,
    "pycharm": {
     "name": "#%% md\n"
    }
   },
   "source": [
    "# Task 5\n",
    "Check, if there are some people without higher education (education: Bachelors, Prof-school, Assoc-acdm, Assoc-voc, Masters, Doctorate), but with > 50K salary"
   ]
  },
  {
   "cell_type": "code",
   "execution_count": 48,
   "metadata": {
    "collapsed": false,
    "pycharm": {
     "name": "#%%\n"
    }
   },
   "outputs": [
    {
     "name": "stdout",
     "output_type": "stream",
     "text": [
      "The number of people without higher education, but with > 50K salary: 3178\n"
     ]
    }
   ],
   "source": [
    "# write your code for task 5 here\n",
    "high_education = [\n",
    "    \"Bachelors\",\n",
    "    \"Prof-school\",\n",
    "    \"Assoc-acdm\",\n",
    "    \"Assoc-voc\",\n",
    "    \"Masters\",\n",
    "    \"Doctorate\"\n",
    "]\n",
    "non_high_education = data[~data[\"education\"].isin(high_education)]\n",
    "more_50K_salary = non_high_education[non_high_education[\"salary\"] == \">50K\"].shape[0]\n",
    "print(f\"The number of people without higher education, but with > 50K salary: {more_50K_salary}\")\n"
   ]
  },
  {
   "cell_type": "markdown",
   "metadata": {
    "collapsed": false,
    "pycharm": {
     "name": "#%% md\n"
    }
   },
   "source": [
    "# Task 6\n",
    "Get the statistics of age for each type of education. Use `groupby` and `describe` for this."
   ]
  },
  {
   "cell_type": "code",
   "execution_count": 49,
   "metadata": {
    "collapsed": false,
    "pycharm": {
     "name": "#%%\n"
    }
   },
   "outputs": [
    {
     "name": "stdout",
     "output_type": "stream",
     "text": [
      "               count       mean        std   min   25%   50%   75%   max\n",
      "education                                                               \n",
      "10th           820.0  37.897561  16.225795  17.0  23.0  36.0  52.0  90.0\n",
      "11th          1048.0  32.363550  15.089307  17.0  18.0  28.5  43.0  90.0\n",
      "12th           377.0  32.013263  14.373710  17.0  19.0  28.0  41.0  79.0\n",
      "1st-4th        151.0  44.622517  14.929051  19.0  33.0  44.0  56.0  81.0\n",
      "5th-6th        288.0  41.649306  14.754622  17.0  28.0  41.0  53.0  82.0\n",
      "7th-8th        557.0  47.631957  15.737479  17.0  34.0  49.0  60.0  90.0\n",
      "9th            455.0  40.303297  15.335754  17.0  28.0  38.0  53.0  90.0\n",
      "Assoc-acdm    1008.0  37.286706  10.509755  19.0  29.0  36.0  44.0  90.0\n",
      "Assoc-voc     1307.0  38.246366  11.181253  19.0  30.0  37.0  45.0  84.0\n",
      "Bachelors     5044.0  38.641554  11.577566  19.0  29.0  37.0  46.0  90.0\n",
      "Doctorate      375.0  47.130667  11.471727  24.0  39.0  47.0  54.0  80.0\n",
      "HS-grad       9840.0  38.640955  13.067730  17.0  28.0  37.0  48.0  90.0\n",
      "Masters       1627.0  43.740012  10.735356  18.0  36.0  43.0  50.0  90.0\n",
      "Preschool       45.0  41.288889  15.175672  19.0  30.0  40.0  53.0  75.0\n",
      "Prof-school    542.0  44.249077  11.428098  25.0  36.0  43.0  50.0  90.0\n",
      "Some-college  6678.0  36.135370  13.073528  17.0  25.0  35.0  45.0  90.0\n"
     ]
    }
   ],
   "source": [
    "# write your code for task 6 here\n",
    "age_statistics = data.groupby(\"education\")[\"age\"].describe()\n",
    "print(age_statistics)"
   ]
  },
  {
   "cell_type": "markdown",
   "metadata": {
    "collapsed": false,
    "pycharm": {
     "name": "#%% md\n"
    }
   },
   "source": [
    "# Task 7\n",
    "Compare the married and non-married men salaries. Who earns more? (>50K or <=50K)\n",
    "Married men are those, whom `marital-status` starts with \"Married\". Others are not."
   ]
  },
  {
   "cell_type": "code",
   "execution_count": 51,
   "metadata": {
    "collapsed": false,
    "pycharm": {
     "name": "#%%\n"
    }
   },
   "outputs": [
    {
     "name": "stdout",
     "output_type": "stream",
     "text": [
      "Salary distribution for married men:\n",
      "salary\n",
      "<=50K    7052\n",
      ">50K     5723\n",
      "Name: count, dtype: int64\n",
      "\n",
      "Salary distribution for non-married men:\n",
      "salary\n",
      "<=50K    6932\n",
      ">50K      673\n",
      "Name: count, dtype: int64\n",
      "\n",
      "Percentage of married men earning >50K: 44.80%\n",
      "Percentage of non-married men earning >50K: 8.85%\n"
     ]
    }
   ],
   "source": [
    "# write your code for task 7 here\n",
    "men = data[data[\"sex\"] == \"Male\"]\n",
    "\n",
    "married_men = men[men[\"marital-status\"].str.startswith(\"Married\")]\n",
    "non_married_men = men[~men[\"marital-status\"].str.startswith(\"Married\")]\n",
    "\n",
    "married_men_salary = married_men[\"salary\"].value_counts()\n",
    "non_married_men_salary = non_married_men[\"salary\"].value_counts()\n",
    "\n",
    "print(\"Salary distribution for married men:\")\n",
    "print(married_men_salary)\n",
    "\n",
    "print(\"\\nSalary distribution for non-married men:\")\n",
    "print(non_married_men_salary)\n",
    "\n",
    "percent_married_men_high_salary = (\n",
    "    married_men[married_men[\"salary\"] == \">50K\"].shape[0] \n",
    "    / married_men.shape[0]\n",
    "    ) * 100\n",
    "percent_non_married_men_high_salary = (\n",
    "    non_married_men[non_married_men[\"salary\"] == \">50K\"].shape[0]\n",
    "    / non_married_men.shape[0]\n",
    "    ) * 100\n",
    "\n",
    "print(f\"\\nPercentage of married men earning >50K: {percent_married_men_high_salary:.2f}%\")\n",
    "print(f\"Percentage of non-married men earning >50K: {percent_non_married_men_high_salary:.2f}%\")\n"
   ]
  },
  {
   "cell_type": "markdown",
   "metadata": {
    "collapsed": false,
    "pycharm": {
     "name": "#%% md\n"
    }
   },
   "source": [
    "# Task 8\n",
    "Get the max hours per week some person works. How many people works the same amount of hours per week?"
   ]
  },
  {
   "cell_type": "code",
   "execution_count": 52,
   "metadata": {
    "collapsed": false,
    "pycharm": {
     "name": "#%%\n"
    }
   },
   "outputs": [
    {
     "name": "stdout",
     "output_type": "stream",
     "text": [
      "                  Max hours per week\n",
      "workclass                           \n",
      "Federal-gov                       99\n",
      "Local-gov                         99\n",
      "Private                           99\n",
      "Self-emp-inc                      99\n",
      "Self-emp-not-inc                  99\n",
      "State-gov                         99\n",
      "Without-pay                       65\n",
      "\n",
      "    Hours per Week  Number of people\n",
      "0                1                 7\n",
      "1                2                15\n",
      "2                3                24\n",
      "3                4                27\n",
      "4                5                38\n",
      "..             ...               ...\n",
      "89              95                 2\n",
      "90              96                 5\n",
      "91              97                 2\n",
      "92              98                11\n",
      "93              99                78\n",
      "\n",
      "[94 rows x 2 columns]\n"
     ]
    }
   ],
   "source": [
    "# write your code for task 8 here\n",
    "max_hours = data.groupby(\"workclass\").agg({\"hours-per-week\": \"max\"})\n",
    "max_hours = max_hours.rename(columns={\"hours-per-week\": \"Max hours per week\"})\n",
    "print(max_hours)\n",
    "\n",
    "hours_count = data.groupby(\"hours-per-week\").size().reset_index(name=\"Number of people\")\n",
    "hours_count.rename(columns={\"hours-per-week\": \"Hours per Week\"}, inplace=True)\n",
    "print(f\"\\n{hours_count}\")\n"
   ]
  },
  {
   "cell_type": "markdown",
   "metadata": {
    "collapsed": false,
    "pycharm": {
     "name": "#%% md\n"
    }
   },
   "source": [
    "# Task 9\n",
    "Analyze the correlation between data in dataset. Understand connected fields in it and print highlight thier connection."
   ]
  },
  {
   "cell_type": "code",
   "execution_count": 53,
   "metadata": {
    "collapsed": false,
    "pycharm": {
     "name": "#%%\n"
    }
   },
   "outputs": [
    {
     "name": "stdout",
     "output_type": "stream",
     "text": [
      "                Unnamed: 0       age  hours-per-week  salary K$\n",
      "Unnamed: 0        1.000000 -0.001126       -0.001890   0.000129\n",
      "age              -0.001126  1.000000        0.101599   0.208203\n",
      "hours-per-week   -0.001890  0.101599        1.000000   0.196378\n",
      "salary K$         0.000129  0.208203        0.196378   1.000000\n"
     ]
    },
    {
     "data": {
      "image/png": "[encoded data removed]",
      "text/plain": [
       "<Figure size 600x400 with 2 Axes>"
      ]
     },
     "metadata": {},
     "output_type": "display_data"
    }
   ],
   "source": [
    "# write your code for task 9 here\n",
    "correlation_matrix = data.corr(numeric_only = True)\n",
    "print(correlation_matrix)\n",
    "\n",
    "plt.figure(figsize=(6, 4))\n",
    "sns.heatmap(correlation_matrix, annot=True, cmap=\"coolwarm\")\n",
    "plt.title(\"Correlation Matrix\")\n",
    "plt.show()\n"
   ]
  }
 ],
 "metadata": {
  "kernelspec": {
   "display_name": "Python 3",
   "language": "python",
   "name": "python3"
  },
  "language_info": {
   "codemirror_mode": {
    "name": "ipython",
    "version": 3
   },
   "file_extension": ".py",
   "mimetype": "text/x-python",
   "name": "python",
   "nbconvert_exporter": "python",
   "pygments_lexer": "ipython3",
   "version": "3.11.9"
  }
 },
 "nbformat": 4,
 "nbformat_minor": 0
}
