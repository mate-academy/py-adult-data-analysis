{
 "cells": [
  {
   "cell_type": "code",
   "execution_count": null,
   "outputs": [],
   "source": [
    "import pandas as pd\n",
    "import numpy as np"
   ],
   "metadata": {
    "collapsed": false,
    "is_executing": true
   }
  },
  {
   "cell_type": "markdown",
   "source": [
    "# Task 0\n",
    "Read the dataset from csv file & perform data cleaning - remove all rows, which contains `?` in some columns.\n",
    "Also check for data correctness (salary & salary $K)."
   ],
   "metadata": {
    "collapsed": false
   }
  },
  {
   "cell_type": "markdown",
   "source": [],
   "metadata": {
    "collapsed": false
   }
  },
  {
   "cell_type": "code",
   "execution_count": 136,
   "outputs": [],
   "source": [],
   "metadata": {
    "collapsed": false
   }
  },
  {
   "cell_type": "code",
   "execution_count": null,
   "outputs": [],
   "source": [
    "data = pd.read_csv(\"data/adult.csv\")\n",
    "df = pd.DataFrame(data)\n",
    "df = df[~df.isin([\"?\"]).any(axis=1)]\n",
    "inconsistent_salaries = (df[\"salary\"] == \"<=50K\") & (df[\"salary K$\"] > 50)\n",
    "inconsistent_salaries |= (df[\"salary\"] == \">50K\") & (df[\"salary K$\"] <= 50)\n",
    "\n",
    "num_inconsistent = len(df[inconsistent_salaries])\n",
    "print(\"Number of inconsistent rows:\", num_inconsistent)"
   ],
   "metadata": {
    "collapsed": false,
    "is_executing": true
   }
  },
  {
   "cell_type": "markdown",
   "source": [
    "# Task 1\n",
    "Print the count of men and women in the dataset."
   ],
   "metadata": {
    "collapsed": false
   }
  },
  {
   "cell_type": "code",
   "execution_count": null,
   "outputs": [],
   "source": [
    "count_men_women = df[\"sex\"].value_counts()\n",
    "\n",
    "print(count_men_women)\n"
   ],
   "metadata": {
    "collapsed": false,
    "is_executing": true
   }
  },
  {
   "cell_type": "markdown",
   "source": [
    "# Task 2\n",
    "Find the average age of men in dataset"
   ],
   "metadata": {
    "collapsed": false
   }
  },
  {
   "cell_type": "code",
   "execution_count": 110,
   "outputs": [
    {
     "name": "stdout",
     "output_type": "stream",
     "text": [
      "Average age of men in dataset 39.18400392541707\n"
     ]
    }
   ],
   "source": [
    "average_age = df[df[\"sex\"] == \"Male\"][\"age\"].mean()\n",
    "print(f\"Average age of men in dataset {average_age}\")"
   ],
   "metadata": {
    "collapsed": false
   }
  },
  {
   "cell_type": "markdown",
   "source": [
    "# Task 3\n",
    "Get the percentage of people from Poland (native-country)"
   ],
   "metadata": {
    "collapsed": false
   }
  },
  {
   "cell_type": "code",
   "execution_count": 111,
   "outputs": [
    {
     "name": "stdout",
     "output_type": "stream",
     "text": [
      "The percentage of people from Poland is 0.18566408063125786\n"
     ]
    }
   ],
   "source": [
    "polish_percentage = (df[df[\"native-country\"] == \"Poland\"].shape[0] / df.shape[0]) * 100\n",
    "\n",
    "print(f\"The percentage of people from Poland is {polish_percentage}\")"
   ],
   "metadata": {
    "collapsed": false
   }
  },
  {
   "cell_type": "markdown",
   "source": [],
   "metadata": {
    "collapsed": false
   }
  },
  {
   "cell_type": "markdown",
   "source": [
    "# Task 4\n",
    "Get the mean and standard deviation of the age for people who earn > 50K per year. After this, get it for those who earn <= 50K."
   ],
   "metadata": {
    "collapsed": false
   }
  },
  {
   "cell_type": "code",
   "execution_count": 112,
   "outputs": [
    {
     "name": "stdout",
     "output_type": "stream",
     "text": [
      "Mean age for high earners: 43.95911028236548\n",
      "Standard deviation of age for high earners 10.269632835673852\n",
      "Mean age for low earners: 36.60806038668668\n",
      "Standard deviation of age for low earners: 13.464631257161633\n"
     ]
    }
   ],
   "source": [
    "high_earning_mean = df[df[\"salary\"] == \">50K\"][\"age\"].mean()\n",
    "high_earning_std = df[df[\"salary\"] == \">50K\"][\"age\"].std()\n",
    "\n",
    "\n",
    "low_earning_mean = df[df[\"salary\"] == \"<=50K\"][\"age\"].mean()\n",
    "low_earning_std = df[df[\"salary\"] == \"<=50K\"][\"age\"].std()\n",
    "\n",
    "print(f\"Mean age for high earners: {high_earning_mean}\")\n",
    "print(f\"Standard deviation of age for high earners {high_earning_std}\")\n",
    "print(f\"Mean age for low earners: {low_earning_mean}\")\n",
    "print(f\"Standard deviation of age for low earners: {low_earning_std}\")"
   ],
   "metadata": {
    "collapsed": false
   }
  },
  {
   "cell_type": "markdown",
   "source": [
    "# Task 5\n",
    "Check, if there are some people without higher education (education: Bachelors, Prof-school, Assoc-acdm, Assoc-voc, Masters, Doctorate), but with > 50K salary"
   ],
   "metadata": {
    "collapsed": false
   }
  },
  {
   "cell_type": "code",
   "execution_count": 113,
   "outputs": [
    {
     "data": {
      "text/plain": "    Unnamed: 0  age         workclass     education      marital-status   \n7            7   52  Self-emp-not-inc       HS-grad  Married-civ-spouse  \\\n10          10   37           Private  Some-college  Married-civ-spouse   \n55          55   43           Private  Some-college  Married-civ-spouse   \n67          67   53           Private       HS-grad  Married-civ-spouse   \n68          68   49      Self-emp-inc  Some-college  Married-civ-spouse   \n\n         occupation relationship   race     sex  hours-per-week   \n7   Exec-managerial      Husband  White    Male              45  \\\n10  Exec-managerial      Husband  Black    Male              80   \n55     Tech-support      Husband  White    Male              40   \n67     Adm-clerical         Wife  White  Female              40   \n68  Exec-managerial      Husband  White    Male              50   \n\n   native-country salary  salary K$  \n7   United-States   >50K        307  \n10  United-States   >50K        116  \n55  United-States   >50K        341  \n67  United-States   >50K        225  \n68  United-States   >50K        194  ",
      "text/html": "<div>\n<style scoped>\n    .dataframe tbody tr th:only-of-type {\n        vertical-align: middle;\n    }\n\n    .dataframe tbody tr th {\n        vertical-align: top;\n    }\n\n    .dataframe thead th {\n        text-align: right;\n    }\n</style>\n<table border=\"1\" class=\"dataframe\">\n  <thead>\n    <tr style=\"text-align: right;\">\n      <th></th>\n      <th>Unnamed: 0</th>\n      <th>age</th>\n      <th>workclass</th>\n      <th>education</th>\n      <th>marital-status</th>\n      <th>occupation</th>\n      <th>relationship</th>\n      <th>race</th>\n      <th>sex</th>\n      <th>hours-per-week</th>\n      <th>native-country</th>\n      <th>salary</th>\n      <th>salary K$</th>\n    </tr>\n  </thead>\n  <tbody>\n    <tr>\n      <th>7</th>\n      <td>7</td>\n      <td>52</td>\n      <td>Self-emp-not-inc</td>\n      <td>HS-grad</td>\n      <td>Married-civ-spouse</td>\n      <td>Exec-managerial</td>\n      <td>Husband</td>\n      <td>White</td>\n      <td>Male</td>\n      <td>45</td>\n      <td>United-States</td>\n      <td>&gt;50K</td>\n      <td>307</td>\n    </tr>\n    <tr>\n      <th>10</th>\n      <td>10</td>\n      <td>37</td>\n      <td>Private</td>\n      <td>Some-college</td>\n      <td>Married-civ-spouse</td>\n      <td>Exec-managerial</td>\n      <td>Husband</td>\n      <td>Black</td>\n      <td>Male</td>\n      <td>80</td>\n      <td>United-States</td>\n      <td>&gt;50K</td>\n      <td>116</td>\n    </tr>\n    <tr>\n      <th>55</th>\n      <td>55</td>\n      <td>43</td>\n      <td>Private</td>\n      <td>Some-college</td>\n      <td>Married-civ-spouse</td>\n      <td>Tech-support</td>\n      <td>Husband</td>\n      <td>White</td>\n      <td>Male</td>\n      <td>40</td>\n      <td>United-States</td>\n      <td>&gt;50K</td>\n      <td>341</td>\n    </tr>\n    <tr>\n      <th>67</th>\n      <td>67</td>\n      <td>53</td>\n      <td>Private</td>\n      <td>HS-grad</td>\n      <td>Married-civ-spouse</td>\n      <td>Adm-clerical</td>\n      <td>Wife</td>\n      <td>White</td>\n      <td>Female</td>\n      <td>40</td>\n      <td>United-States</td>\n      <td>&gt;50K</td>\n      <td>225</td>\n    </tr>\n    <tr>\n      <th>68</th>\n      <td>68</td>\n      <td>49</td>\n      <td>Self-emp-inc</td>\n      <td>Some-college</td>\n      <td>Married-civ-spouse</td>\n      <td>Exec-managerial</td>\n      <td>Husband</td>\n      <td>White</td>\n      <td>Male</td>\n      <td>50</td>\n      <td>United-States</td>\n      <td>&gt;50K</td>\n      <td>194</td>\n    </tr>\n  </tbody>\n</table>\n</div>"
     },
     "execution_count": 113,
     "metadata": {},
     "output_type": "execute_result"
    }
   ],
   "source": [
    "has_high_income_no_high_education = df[(~df[\"education\"].isin([\"Bachelors\", \"Prof-school\", \"Assoc-acdm\", \"Assoc-voc\", \"Masters\", \"Doctorate\"])) & (df[\"salary\"] == \">50K\")]\n",
    "has_high_income_no_high_education.head()"
   ],
   "metadata": {
    "collapsed": false
   }
  },
  {
   "cell_type": "markdown",
   "source": [
    "# Task 6\n",
    "Get the statistics of age for each type of education. Use `groupby` and `describe` for this."
   ],
   "metadata": {
    "collapsed": false
   }
  },
  {
   "cell_type": "code",
   "execution_count": 114,
   "outputs": [],
   "source": [
    "age_stats_by_education = df.groupby(\"education\")[\"age\"].describe()\n",
    "print(age_stats_by_education)"
   ],
   "metadata": {
    "collapsed": false
   }
  },
  {
   "cell_type": "markdown",
   "source": [
    "# Task 7\n",
    "Compare the married and non-married men salaries. Who earns more? (>50K or <=50K)\n",
    "Married men are those, whom `marital-status` starts with \"Married\". Others are not."
   ],
   "metadata": {
    "collapsed": false
   }
  },
  {
   "cell_type": "code",
   "execution_count": 115,
   "outputs": [
    {
     "name": "stdout",
     "output_type": "stream",
     "text": [
      "Married men earn more than non-married men with high income.\n",
      "Non-married men with low income earn more than married men with low income.\n"
     ]
    }
   ],
   "source": [
    "married_low_income = df[(df[\"marital-status\"].str.startswith(\"Married\")) & (df[\"salary\"] == \"<=50K\")]\n",
    "\n",
    "married_high_income = df[(df[\"marital-status\"].str.startswith(\"Married\")) & (df[\"salary\"] == \">50K\")]\n",
    "\n",
    "unmarried_low_income = df[(df[\"marital-status\"].str.startswith(\"Married\") == False) & (df[\"salary\"] == \"<=50K\")]\n",
    "\n",
    "unmarried_high_income = df[(df[\"marital-status\"].str.startswith(\"Married\") == False) & (df[\"salary\"] == \">50K\")]\n",
    "\n",
    "avg_salary_married_low_income = married_low_income[\"salary K$\"].mean()\n",
    "avg_salary_married_high_income = married_high_income[\"salary K$\"].mean()\n",
    "avg_salary_unmarried_low_income = unmarried_low_income[\"salary K$\"].mean()\n",
    "avg_salary_unmarried_high_income = unmarried_high_income[\"salary K$\"].mean()\n",
    "\n",
    "if avg_salary_married_high_income > avg_salary_unmarried_high_income:\n",
    "    print(\"Married men earn more than non-married men with high income.\")\n",
    "else:\n",
    "    print(\"Non-married men earn more than married men with high income.\")\n",
    "if avg_salary_married_low_income > avg_salary_unmarried_low_income:\n",
    "    print(\"Married men with low income earn more than non-married men with low income.\")\n",
    "else:\n",
    "    print(\"Non-married men with low income earn more than married men with low income.\")"
   ],
   "metadata": {
    "collapsed": false
   }
  },
  {
   "cell_type": "markdown",
   "source": [
    "# Task 8\n",
    "Get the max hours per week some person works. How many people works the same amount of hours per week?"
   ],
   "metadata": {
    "collapsed": false
   }
  },
  {
   "cell_type": "markdown",
   "source": [],
   "metadata": {
    "collapsed": false
   }
  },
  {
   "cell_type": "code",
   "execution_count": 116,
   "outputs": [
    {
     "name": "stdout",
     "output_type": "stream",
     "text": [
      "Maximum hours per week: 99\n",
      "Number of people working the same amount of hours: 78\n"
     ]
    }
   ],
   "source": [
    "max_hours_per_week = df[\"hours-per-week\"].max()\n",
    "num_people_same_hours = df[df[\"hours-per-week\"] == max_hours_per_week].shape[0]\n",
    "print(\"Maximum hours per week:\", max_hours_per_week)\n",
    "print(\"Number of people working the same amount of hours:\", num_people_same_hours)"
   ],
   "metadata": {
    "collapsed": false
   }
  },
  {
   "cell_type": "markdown",
   "source": [
    "# Task 9\n",
    "Analyze the correlation between data in dataset. Understand connected fields in it and print highlight thier connection."
   ],
   "metadata": {
    "collapsed": false
   }
  },
  {
   "cell_type": "code",
   "execution_count": 117,
   "outputs": [
    {
     "name": "stdout",
     "output_type": "stream",
     "text": [
      "                Unnamed: 0       age  hours-per-week  salary K$    gender\n",
      "Unnamed: 0        1.000000 -0.001126       -0.001890   0.000080 -0.001405\n",
      "age              -0.001126  1.000000        0.101599   0.208203  0.081993\n",
      "hours-per-week   -0.001890  0.101599        1.000000   0.196377  0.231268\n",
      "salary K$         0.000080  0.208203        0.196377   1.000000  0.182662\n",
      "gender           -0.001405  0.081993        0.231268   0.182662  1.000000\n"
     ]
    }
   ],
   "source": [
    "df[\"gender\"] = np.where(df[\"sex\"] == \"Male\", 1, 0)\n",
    "df_numeric = df.select_dtypes(include=[\"int64\", \"float64\"])\n",
    "df_numeric[\"gender\"] = np.where(df[\"sex\"] == \"Male\", 1, 0)\n",
    "print(df_numeric.corr())\n"
   ],
   "metadata": {
    "collapsed": false
   }
  },
  {
   "cell_type": "code",
   "execution_count": 118,
   "outputs": [
    {
     "name": "stdout",
     "output_type": "stream",
     "text": [
      "Overall, the correlations between these columns are relatively weak.\n"
     ]
    }
   ],
   "source": [
    "print(\"Overall, the correlations between these columns are relatively weak.\")"
   ],
   "metadata": {
    "collapsed": false
   }
  }
 ],
 "metadata": {
  "kernelspec": {
   "display_name": "Python 3",
   "language": "python",
   "name": "python3"
  },
  "language_info": {
   "codemirror_mode": {
    "name": "ipython",
    "version": 2
   },
   "file_extension": ".py",
   "mimetype": "text/x-python",
   "name": "python",
   "nbconvert_exporter": "python",
   "pygments_lexer": "ipython2",
   "version": "2.7.6"
  }
 },
 "nbformat": 4,
 "nbformat_minor": 0
}
