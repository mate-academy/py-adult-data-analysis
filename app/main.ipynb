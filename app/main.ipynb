{
 "cells": [
  {
   "cell_type": "code",
   "execution_count": 2,
   "outputs": [],
   "source": [
    "import numpy as np\n",
    "import pandas as pd\n",
    "data = pd.read_csv(\"../data/adult.csv\")"
   ],
   "metadata": {
    "collapsed": false
   }
  },
  {
   "cell_type": "markdown",
   "source": [
    "# Task 0\n",
    "Read the dataset from csv file & perform data cleaning - remove all rows, which contains `?` in some columns.\n",
    "Also check for data correctness (salary & salary $K)."
   ],
   "metadata": {
    "collapsed": false
   }
  },
  {
   "cell_type": "code",
   "execution_count": 3,
   "outputs": [
    {
     "name": "stdout",
     "output_type": "stream",
     "text": [
      "Both files (adults_cl.csv and adults_ex.csv) created successfully.\n",
      "Number of records in adults_cl.csv: 30162\n",
      "Number of records in adults_ex.csv: 2399\n"
     ]
    }
   ],
   "source": [
    "excluded_data = data[data.apply(lambda x: \"?\" in x.values, axis=1)]\n",
    "cleaned_data = data.drop(excluded_data.index)\n",
    "\n",
    "cleaned_data = cleaned_data[(cleaned_data[\"salary\"] == \">50K\") | (cleaned_data[\"salary\"] == \"<=50K\")]\n",
    "cleaned_data[\"salary K$\"] = pd.to_numeric(cleaned_data['salary K$'], errors='coerce')\n",
    "\n",
    "cleaned_data.to_csv(\"../data/adults_cl.csv\", index=False)\n",
    "excluded_data.to_csv(\"../data/adults_ex.csv\", index=False)\n",
    "\n",
    "print(\"Both files (adults_cl.csv and adults_ex.csv) created successfully.\")\n",
    "print(\"Number of records in adults_cl.csv:\", cleaned_data.shape[0])\n",
    "print(\"Number of records in adults_ex.csv:\", excluded_data.shape[0])"
   ],
   "metadata": {
    "collapsed": false
   }
  },
  {
   "cell_type": "markdown",
   "source": [
    "# Task 1\n",
    "Print the count of men and women in the dataset."
   ],
   "metadata": {
    "collapsed": false
   }
  },
  {
   "cell_type": "code",
   "execution_count": 4,
   "outputs": [
    {
     "data": {
      "text/plain": "sex\nMale      21790\nFemale    10771\nName: count, dtype: int64"
     },
     "execution_count": 4,
     "metadata": {},
     "output_type": "execute_result"
    }
   ],
   "source": [
    "gender_counts = data[\"sex\"].value_counts()\n",
    "gender_counts"
   ],
   "metadata": {
    "collapsed": false
   }
  },
  {
   "cell_type": "markdown",
   "source": [
    "# Task 2\n",
    "Find the average age of men in dataset"
   ],
   "metadata": {
    "collapsed": false
   }
  },
  {
   "cell_type": "code",
   "execution_count": 5,
   "outputs": [
    {
     "name": "stdout",
     "output_type": "stream",
     "text": [
      "Average age of men: 39.43354749885268\n"
     ]
    }
   ],
   "source": [
    "men_data = data[data[\"sex\"] == \"Male\"]\n",
    "average_age_men = men_data[\"age\"].mean()\n",
    "\n",
    "print(\"Average age of men:\", average_age_men)"
   ],
   "metadata": {
    "collapsed": false
   }
  },
  {
   "cell_type": "markdown",
   "source": [
    "# Task 3\n",
    "Get the percentage of people from Poland (native-country)"
   ],
   "metadata": {
    "collapsed": false
   }
  },
  {
   "cell_type": "code",
   "execution_count": 6,
   "outputs": [
    {
     "name": "stdout",
     "output_type": "stream",
     "text": [
      "Percentage of people from Poland: 0.18%\n"
     ]
    }
   ],
   "source": [
    "poland_count = data[data[\"native-country\"] == \"Poland\"].shape[0]\n",
    "total_count = data.shape[0]\n",
    "\n",
    "percentage_poland = (poland_count / total_count) * 100\n",
    "\n",
    "print(\"Percentage of people from Poland: {:.2f}%\".format(percentage_poland))"
   ],
   "metadata": {
    "collapsed": false
   }
  },
  {
   "cell_type": "markdown",
   "source": [
    "# Task 4\n",
    "Get the mean and standard deviation of the age for people who earn > 50K per year. After this, get it for those who earn <= 50K."
   ],
   "metadata": {
    "collapsed": false
   }
  },
  {
   "cell_type": "code",
   "execution_count": 7,
   "outputs": [
    {
     "name": "stdout",
     "output_type": "stream",
     "text": [
      "Mean age for people earning > 50K: 44.24984058155847\n",
      "Standard deviation of age for people earning > 50K: 10.519027719851826\n",
      "Mean age for people earning <= 50K: 36.78373786407767\n",
      "Standard deviation of age for people earning <= 50K: 14.02008849082488\n"
     ]
    }
   ],
   "source": [
    "high_income_data = data[data[\"salary\"] == \">50K\"]\n",
    "mean_age_high_income = high_income_data[\"age\"].mean()\n",
    "std_age_high_income = high_income_data[\"age\"].std()\n",
    "\n",
    "low_income_data = data[data[\"salary\"] == \"<=50K\"]\n",
    "mean_age_low_income = low_income_data[\"age\"].mean()\n",
    "std_age_low_income = low_income_data[\"age\"].std()\n",
    "\n",
    "print(\"Mean age for people earning > 50K:\", mean_age_high_income)\n",
    "print(\"Standard deviation of age for people earning > 50K:\", std_age_high_income)\n",
    "print(\"Mean age for people earning <= 50K:\", mean_age_low_income)\n",
    "print(\"Standard deviation of age for people earning <= 50K:\", std_age_low_income)"
   ],
   "metadata": {
    "collapsed": false
   }
  },
  {
   "cell_type": "markdown",
   "source": [
    "# Task 5\n",
    "Check, if there are some people without higher education (education: Bachelors, Prof-school, Assoc-acdm, Assoc-voc, Masters, Doctorate), but with > 50K salary"
   ],
   "metadata": {
    "collapsed": false
   }
  },
  {
   "cell_type": "code",
   "execution_count": 8,
   "outputs": [
    {
     "name": "stdout",
     "output_type": "stream",
     "text": [
      "There are people with > 50K salary and without higher education:\n",
      "       Unnamed: 0  age         workclass     education      marital-status  \\\n",
      "7               7   52  Self-emp-not-inc       HS-grad  Married-civ-spouse   \n",
      "10             10   37           Private  Some-college  Married-civ-spouse   \n",
      "27             27   54                 ?  Some-college  Married-civ-spouse   \n",
      "38             38   31           Private  Some-college  Married-civ-spouse   \n",
      "55             55   43           Private  Some-college  Married-civ-spouse   \n",
      "...           ...  ...               ...           ...                 ...   \n",
      "32510       32510   39           Private       HS-grad  Married-civ-spouse   \n",
      "32518       32518   57         Local-gov       HS-grad  Married-civ-spouse   \n",
      "32519       32519   46           Private  Some-college  Married-civ-spouse   \n",
      "32557       32557   40           Private       HS-grad  Married-civ-spouse   \n",
      "32560       32560   52      Self-emp-inc       HS-grad  Married-civ-spouse   \n",
      "\n",
      "              occupation relationship                race     sex  \\\n",
      "7        Exec-managerial      Husband               White    Male   \n",
      "10       Exec-managerial      Husband               Black    Male   \n",
      "27                     ?      Husband  Asian-Pac-Islander    Male   \n",
      "38                 Sales      Husband               White    Male   \n",
      "55          Tech-support      Husband               White    Male   \n",
      "...                  ...          ...                 ...     ...   \n",
      "32510     Prof-specialty      Husband               White    Male   \n",
      "32518       Craft-repair      Husband               White    Male   \n",
      "32519    Exec-managerial      Husband               White    Male   \n",
      "32557  Machine-op-inspct      Husband               White    Male   \n",
      "32560    Exec-managerial         Wife               White  Female   \n",
      "\n",
      "       hours-per-week native-country salary  salary K$  \n",
      "7                  45  United-States   >50K        307  \n",
      "10                 80  United-States   >50K        116  \n",
      "27                 60          South   >50K        275  \n",
      "38                 38              ?   >50K        166  \n",
      "55                 40  United-States   >50K        341  \n",
      "...               ...            ...    ...        ...  \n",
      "32510              45              ?   >50K        212  \n",
      "32518              40  United-States   >50K        116  \n",
      "32519              48  United-States   >50K        239  \n",
      "32557              40  United-States   >50K        173  \n",
      "32560              40  United-States   >50K        243  \n",
      "\n",
      "[3306 rows x 13 columns]\n"
     ]
    }
   ],
   "source": [
    "higher_education = [\"Bachelors\", \"Prof-school\", \"Assoc-acdm\", \"Assoc-voc\", \"Masters\", \"Doctorate\"]\n",
    "\n",
    "high_income_no_higher_edu = data[(data[\"salary\"] == \">50K\") & (~data[\"education\"].isin(higher_education))]\n",
    "\n",
    "if high_income_no_higher_edu.empty:\n",
    "    print(\"There are no people with > 50K salary and without higher education.\")\n",
    "else:\n",
    "    print(\"There are people with > 50K salary and without higher education:\")\n",
    "    print(high_income_no_higher_edu)"
   ],
   "metadata": {
    "collapsed": false
   }
  },
  {
   "cell_type": "markdown",
   "source": [
    "# Task 6\n",
    "Get the statistics of age for each type of education. Use `groupby` and `describe` for this."
   ],
   "metadata": {
    "collapsed": false
   }
  },
  {
   "cell_type": "code",
   "execution_count": 9,
   "outputs": [
    {
     "name": "stdout",
     "output_type": "stream",
     "text": [
      "                count       mean        std   min    25%   50%   75%   max\n",
      "education                                                                 \n",
      "10th            933.0  37.429796  16.720713  17.0  22.00  34.0  52.0  90.0\n",
      "11th           1175.0  32.355745  15.545485  17.0  18.00  28.0  43.0  90.0\n",
      "12th            433.0  32.000000  14.334625  17.0  19.00  28.0  41.0  79.0\n",
      "1st-4th         168.0  46.142857  15.615625  19.0  33.00  46.0  57.0  90.0\n",
      "5th-6th         333.0  42.885886  15.557285  17.0  29.00  42.0  54.0  84.0\n",
      "7th-8th         646.0  48.445820  16.092350  17.0  34.25  50.0  61.0  90.0\n",
      "9th             514.0  41.060311  15.946862  17.0  28.00  39.0  54.0  90.0\n",
      "Assoc-acdm     1067.0  37.381443  11.095177  19.0  29.00  36.0  44.0  90.0\n",
      "Assoc-voc      1382.0  38.553546  11.631300  19.0  30.00  37.0  46.0  84.0\n",
      "Bachelors      5355.0  38.904949  11.912210  19.0  29.00  37.0  46.0  90.0\n",
      "Doctorate       413.0  47.702179  11.784716  24.0  39.00  47.0  55.0  80.0\n",
      "HS-grad       10501.0  38.974479  13.541524  17.0  28.00  37.0  48.0  90.0\n",
      "Masters        1723.0  44.049913  11.068935  18.0  36.00  43.0  51.0  90.0\n",
      "Preschool        51.0  42.764706  15.126914  19.0  31.00  41.0  53.5  75.0\n",
      "Prof-school     576.0  44.746528  11.962477  25.0  36.00  43.0  51.0  90.0\n",
      "Some-college   7291.0  35.756275  13.474051  17.0  24.00  34.0  45.0  90.0\n"
     ]
    }
   ],
   "source": [
    "education_age_stats = data.groupby(\"education\")[\"age\"].describe()\n",
    "\n",
    "print(education_age_stats)"
   ],
   "metadata": {
    "collapsed": false
   }
  },
  {
   "cell_type": "markdown",
   "source": [
    "# Task 7\n",
    "Compare the married and non-married men salaries. Who earns more? (>50K or <=50K)\n",
    "Married men are those, whom `marital-status` starts with \"Married\". Others are not."
   ],
   "metadata": {
    "collapsed": false
   }
  },
  {
   "cell_type": "code",
   "execution_count": 10,
   "outputs": [
    {
     "name": "stdout",
     "output_type": "stream",
     "text": [
      "Married men earn more.\n"
     ]
    }
   ],
   "source": [
    "married_men = data[(data[\"sex\"] == \"Male\") & (data[\"marital-status\"].str.startswith(\"Married\"))]\n",
    "non_married_men = data[(data[\"sex\"] == \"Male\") & (~data[\"marital-status\"].str.startswith(\"Married\"))]\n",
    "\n",
    "married_high_income_count = married_men[married_men[\"salary\"] == \">50K\"].shape[0]\n",
    "non_married_high_income_count = non_married_men[non_married_men[\"salary\"] == \">50K\"].shape[0]\n",
    "\n",
    "if married_high_income_count > non_married_high_income_count:\n",
    "    print(\"Married men earn more.\")\n",
    "elif married_high_income_count < non_married_high_income_count:\n",
    "    print(\"Non-married men earn more.\")\n",
    "else:\n",
    "    print(\"Married and non-married men earn the same.\")"
   ],
   "metadata": {
    "collapsed": false
   }
  },
  {
   "cell_type": "markdown",
   "source": [
    "# Task 8\n",
    "Get the max hours per week some person works. How many people works the same amount of hours per week?"
   ],
   "metadata": {
    "collapsed": false
   }
  },
  {
   "cell_type": "code",
   "execution_count": 11,
   "outputs": [
    {
     "name": "stdout",
     "output_type": "stream",
     "text": [
      "Maximum hours per week: 99\n",
      "Number of people working the same amount of hours per week: 85\n"
     ]
    }
   ],
   "source": [
    "max_hours = data[\"hours-per-week\"].max()\n",
    "\n",
    "people_same_hours = data[data[\"hours-per-week\"] == max_hours]\n",
    "num_people_same_hours = people_same_hours.shape[0]\n",
    "\n",
    "print(\"Maximum hours per week:\", max_hours)\n",
    "print(\"Number of people working the same amount of hours per week:\", num_people_same_hours)"
   ],
   "metadata": {
    "collapsed": false
   }
  },
  {
   "cell_type": "markdown",
   "source": [
    "# Task 9\n",
    "Analyze the correlation between data in dataset. Understand connected fields in it and print highlight thier connection."
   ],
   "metadata": {
    "collapsed": false
   }
  },
  {
   "cell_type": "code",
   "execution_count": 12,
   "outputs": [
    {
     "name": "stdout",
     "output_type": "stream",
     "text": [
      "Correlation Matrix:\n",
      "                Unnamed: 0       age  hours-per-week  salary K$\n",
      "Unnamed: 0        1.000000  0.001286        0.000607  -0.001666\n",
      "age               0.001286  1.000000        0.068756   0.201774\n",
      "hours-per-week    0.000607  0.068756        1.000000   0.196916\n",
      "salary K$        -0.001666  0.201774        0.196916   1.000000\n",
      "\n",
      "Highlighted Connections:\n"
     ]
    }
   ],
   "source": [
    "numerical_columns = data.select_dtypes(include=\"number\")\n",
    "correlation_matrix = numerical_columns.corr()\n",
    "\n",
    "print(\"Correlation Matrix:\")\n",
    "print(correlation_matrix)\n",
    "\n",
    "correlation_threshold = 0.5\n",
    "strong_connections = (correlation_matrix.abs() >= correlation_threshold) & (correlation_matrix.abs() < 1)\n",
    "\n",
    "print(\"\\nHighlighted Connections:\")\n",
    "for column in strong_connections:\n",
    "    correlated_columns = strong_connections[strong_connections[column]].index.tolist()\n",
    "    if len(correlated_columns) > 1:\n",
    "        print(f\"{column}: {', '.join(correlated_columns)}\")"
   ],
   "metadata": {
    "collapsed": false
   }
  },
  {
   "cell_type": "code",
   "execution_count": 12,
   "outputs": [],
   "source": [],
   "metadata": {
    "collapsed": false
   }
  }
 ],
 "metadata": {
  "kernelspec": {
   "display_name": "Python 3",
   "language": "python",
   "name": "python3"
  },
  "language_info": {
   "codemirror_mode": {
    "name": "ipython",
    "version": 2
   },
   "file_extension": ".py",
   "mimetype": "text/x-python",
   "name": "python",
   "nbconvert_exporter": "python",
   "pygments_lexer": "ipython2",
   "version": "2.7.6"
  }
 },
 "nbformat": 4,
 "nbformat_minor": 0
}
