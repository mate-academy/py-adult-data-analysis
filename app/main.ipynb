{
 "cells": [
  {
   "cell_type": "code",
   "source": [
    "import numpy as np\n",
    "import pandas as pd\n",
    "import os"
   ],
   "metadata": {
    "collapsed": false,
    "pycharm": {
     "name": "#%%\n"
    },
    "ExecuteTime": {
     "end_time": "2024-11-11T17:38:15.246315Z",
     "start_time": "2024-11-11T17:38:15.243107Z"
    }
   },
   "outputs": [],
   "execution_count": 8
  },
  {
   "cell_type": "markdown",
   "source": [
    "# Task 0\n",
    "Read the dataset from csv file & perform data cleaning - remove all rows, which contains `?` in some columns.\n",
    "Also check for data correctness (salary & salary $K)."
   ],
   "metadata": {
    "collapsed": false,
    "pycharm": {
     "name": "#%% md\n"
    }
   }
  },
  {
   "cell_type": "code",
   "source": [
    "os.chdir(r\"C:\\aPrograms\\mate\\python\\py-adult-data-analysis\")\n",
    "data = pd.read_csv(\"data/adult.csv\", index_col=[0])\n",
    "data.replace(\"?\", np.nan)\n",
    "\n",
    "data.head()"
   ],
   "metadata": {
    "collapsed": false,
    "pycharm": {
     "name": "#%%\n"
    },
    "ExecuteTime": {
     "end_time": "2024-11-11T18:26:21.109372Z",
     "start_time": "2024-11-11T18:26:20.859427Z"
    }
   },
   "outputs": [
    {
     "data": {
      "text/plain": [
       "   age         workclass  education      marital-status         occupation  \\\n",
       "0   39         State-gov  Bachelors       Never-married       Adm-clerical   \n",
       "1   50  Self-emp-not-inc  Bachelors  Married-civ-spouse    Exec-managerial   \n",
       "2   38           Private    HS-grad            Divorced  Handlers-cleaners   \n",
       "3   53           Private       11th  Married-civ-spouse  Handlers-cleaners   \n",
       "4   28           Private  Bachelors  Married-civ-spouse     Prof-specialty   \n",
       "\n",
       "    relationship   race     sex  hours-per-week native-country salary  \\\n",
       "0  Not-in-family  White    Male              40  United-States  <=50K   \n",
       "1        Husband  White    Male              13  United-States  <=50K   \n",
       "2  Not-in-family  White    Male              40  United-States  <=50K   \n",
       "3        Husband  Black    Male              40  United-States  <=50K   \n",
       "4           Wife  Black  Female              40           Cuba  <=50K   \n",
       "\n",
       "   salary K$  \n",
       "0         39  \n",
       "1         35  \n",
       "2         27  \n",
       "3         43  \n",
       "4         25  "
      ],
      "text/html": [
       "<div>\n",
       "<style scoped>\n",
       "    .dataframe tbody tr th:only-of-type {\n",
       "        vertical-align: middle;\n",
       "    }\n",
       "\n",
       "    .dataframe tbody tr th {\n",
       "        vertical-align: top;\n",
       "    }\n",
       "\n",
       "    .dataframe thead th {\n",
       "        text-align: right;\n",
       "    }\n",
       "</style>\n",
       "<table border=\"1\" class=\"dataframe\">\n",
       "  <thead>\n",
       "    <tr style=\"text-align: right;\">\n",
       "      <th></th>\n",
       "      <th>age</th>\n",
       "      <th>workclass</th>\n",
       "      <th>education</th>\n",
       "      <th>marital-status</th>\n",
       "      <th>occupation</th>\n",
       "      <th>relationship</th>\n",
       "      <th>race</th>\n",
       "      <th>sex</th>\n",
       "      <th>hours-per-week</th>\n",
       "      <th>native-country</th>\n",
       "      <th>salary</th>\n",
       "      <th>salary K$</th>\n",
       "    </tr>\n",
       "  </thead>\n",
       "  <tbody>\n",
       "    <tr>\n",
       "      <th>0</th>\n",
       "      <td>39</td>\n",
       "      <td>State-gov</td>\n",
       "      <td>Bachelors</td>\n",
       "      <td>Never-married</td>\n",
       "      <td>Adm-clerical</td>\n",
       "      <td>Not-in-family</td>\n",
       "      <td>White</td>\n",
       "      <td>Male</td>\n",
       "      <td>40</td>\n",
       "      <td>United-States</td>\n",
       "      <td>&lt;=50K</td>\n",
       "      <td>39</td>\n",
       "    </tr>\n",
       "    <tr>\n",
       "      <th>1</th>\n",
       "      <td>50</td>\n",
       "      <td>Self-emp-not-inc</td>\n",
       "      <td>Bachelors</td>\n",
       "      <td>Married-civ-spouse</td>\n",
       "      <td>Exec-managerial</td>\n",
       "      <td>Husband</td>\n",
       "      <td>White</td>\n",
       "      <td>Male</td>\n",
       "      <td>13</td>\n",
       "      <td>United-States</td>\n",
       "      <td>&lt;=50K</td>\n",
       "      <td>35</td>\n",
       "    </tr>\n",
       "    <tr>\n",
       "      <th>2</th>\n",
       "      <td>38</td>\n",
       "      <td>Private</td>\n",
       "      <td>HS-grad</td>\n",
       "      <td>Divorced</td>\n",
       "      <td>Handlers-cleaners</td>\n",
       "      <td>Not-in-family</td>\n",
       "      <td>White</td>\n",
       "      <td>Male</td>\n",
       "      <td>40</td>\n",
       "      <td>United-States</td>\n",
       "      <td>&lt;=50K</td>\n",
       "      <td>27</td>\n",
       "    </tr>\n",
       "    <tr>\n",
       "      <th>3</th>\n",
       "      <td>53</td>\n",
       "      <td>Private</td>\n",
       "      <td>11th</td>\n",
       "      <td>Married-civ-spouse</td>\n",
       "      <td>Handlers-cleaners</td>\n",
       "      <td>Husband</td>\n",
       "      <td>Black</td>\n",
       "      <td>Male</td>\n",
       "      <td>40</td>\n",
       "      <td>United-States</td>\n",
       "      <td>&lt;=50K</td>\n",
       "      <td>43</td>\n",
       "    </tr>\n",
       "    <tr>\n",
       "      <th>4</th>\n",
       "      <td>28</td>\n",
       "      <td>Private</td>\n",
       "      <td>Bachelors</td>\n",
       "      <td>Married-civ-spouse</td>\n",
       "      <td>Prof-specialty</td>\n",
       "      <td>Wife</td>\n",
       "      <td>Black</td>\n",
       "      <td>Female</td>\n",
       "      <td>40</td>\n",
       "      <td>Cuba</td>\n",
       "      <td>&lt;=50K</td>\n",
       "      <td>25</td>\n",
       "    </tr>\n",
       "  </tbody>\n",
       "</table>\n",
       "</div>"
      ]
     },
     "execution_count": 41,
     "metadata": {},
     "output_type": "execute_result"
    }
   ],
   "execution_count": 41
  },
  {
   "cell_type": "markdown",
   "source": [
    "# Task 1\n",
    "Print the count of men and women in the dataset."
   ],
   "metadata": {
    "collapsed": false,
    "pycharm": {
     "name": "#%% md\n"
    }
   }
  },
  {
   "cell_type": "code",
   "source": [
    "count_of_men_and_women = data[\"sex\"].value_counts()\n",
    "print(count_of_men_and_women)"
   ],
   "metadata": {
    "collapsed": false,
    "pycharm": {
     "name": "#%%\n"
    },
    "ExecuteTime": {
     "end_time": "2024-11-11T17:47:03.535032Z",
     "start_time": "2024-11-11T17:47:03.529464Z"
    }
   },
   "outputs": [
    {
     "name": "stdout",
     "output_type": "stream",
     "text": [
      "sex\n",
      "Male      21790\n",
      "Female    10771\n",
      "Name: count, dtype: int64\n"
     ]
    }
   ],
   "execution_count": 16
  },
  {
   "cell_type": "markdown",
   "source": [
    "# Task 2\n",
    "Find the average age of men in dataset"
   ],
   "metadata": {
    "collapsed": false,
    "pycharm": {
     "name": "#%% md\n"
    }
   }
  },
  {
   "cell_type": "code",
   "source": [
    "avg_men_age = data[data[\"sex\"] == \"Male\"][\"age\"].mean()\n",
    "print(f\"Avg men age: {avg_men_age}\")"
   ],
   "metadata": {
    "collapsed": false,
    "pycharm": {
     "name": "#%%\n"
    },
    "ExecuteTime": {
     "end_time": "2024-11-11T17:49:32.781934Z",
     "start_time": "2024-11-11T17:49:32.774213Z"
    }
   },
   "outputs": [
    {
     "name": "stdout",
     "output_type": "stream",
     "text": [
      "Avg men age: 39.43354749885268\n"
     ]
    }
   ],
   "execution_count": 20
  },
  {
   "cell_type": "markdown",
   "source": [
    "# Task 3\n",
    "Get the percentage of people from Poland (native-country)"
   ],
   "metadata": {
    "collapsed": false,
    "pycharm": {
     "name": "#%% md\n"
    }
   }
  },
  {
   "cell_type": "code",
   "source": [
    "poland_people = data[data[\"native-country\"] == \"Poland\"].shape[0]\n",
    "total_people = data.shape[0]\n",
    "poland_percentage = round((poland_people / total_people) * 100, 2)\n",
    "\n",
    "print(f\"Percentage of people from Poland: {poland_percentage}%\")"
   ],
   "metadata": {
    "collapsed": false,
    "pycharm": {
     "name": "#%%\n"
    },
    "ExecuteTime": {
     "end_time": "2024-11-11T17:54:17.788722Z",
     "start_time": "2024-11-11T17:54:17.783352Z"
    }
   },
   "outputs": [
    {
     "name": "stdout",
     "output_type": "stream",
     "text": [
      "Percentage of people from Poland: 0.18%\n"
     ]
    }
   ],
   "execution_count": 21
  },
  {
   "cell_type": "markdown",
   "source": [
    "# Task 4\n",
    "Get the mean and standard deviation of the age for people who earn > 50K per year. After this, get it for those who earn <= 50K."
   ],
   "metadata": {
    "collapsed": false,
    "pycharm": {
     "name": "#%% md\n"
    }
   }
  },
  {
   "cell_type": "code",
   "source": [
    "high_earners = data[data[\"salary\"] == \">50K\"]\n",
    "high_earners_mean_age = high_earners[\"age\"].mean()\n",
    "high_earners_std_age = high_earners[\"age\"].std()\n",
    "\n",
    "low_earners = data[data[\"salary\"] == \"<=50K\"]\n",
    "low_earners_mean_age = low_earners[\"age\"].mean()\n",
    "low_earners_std_age = low_earners[\"age\"].std()\n",
    "\n",
    "print(f\"Mean age of people earning >50K: {round(high_earners_mean_age, 2)}\")\n",
    "print(f\"Standard deviation of age for people earning >50K: {round(high_earners_std_age, 2)}\")\n",
    "print(f\"Mean age of people earning <=50K: {round(low_earners_mean_age, 2)}\")\n",
    "print(f\"Standard deviation of age for people earning <=50K: {round(low_earners_std_age, 2)}\")"
   ],
   "metadata": {
    "collapsed": false,
    "pycharm": {
     "name": "#%%\n"
    },
    "ExecuteTime": {
     "end_time": "2024-11-11T18:18:37.560968Z",
     "start_time": "2024-11-11T18:18:37.530421Z"
    }
   },
   "outputs": [
    {
     "name": "stdout",
     "output_type": "stream",
     "text": [
      "Mean age of people earning >50K: 44.25\n",
      "Standard deviation of age for people earning >50K: 10.52\n",
      "Mean age of people earning <=50K: 36.78\n",
      "Standard deviation of age for people earning <=50K: 14.02\n"
     ]
    }
   ],
   "execution_count": 34
  },
  {
   "cell_type": "markdown",
   "source": [
    "# Task 5\n",
    "Check, if there are some people without higher education (education: Bachelors, Prof-school, Assoc-acdm, Assoc-voc, Masters, Doctorate), but with > 50K salary"
   ],
   "metadata": {
    "collapsed": false,
    "pycharm": {
     "name": "#%% md\n"
    }
   }
  },
  {
   "cell_type": "code",
   "source": [
    "higher_education = [\"Bachelors\", \"Prof-school\", \"Assoc-acdm\", \"Assoc-voc\", \"Masters\", \"Doctorate\"]\n",
    "no_higher_education_high_earners = data[(~data[\"education\"].isin(higher_education)) & (data[\"salary\"] == \">50K\")]\n",
    "no_higher_education_high_earners"
   ],
   "metadata": {
    "collapsed": false,
    "pycharm": {
     "name": "#%%\n"
    },
    "ExecuteTime": {
     "end_time": "2024-11-11T18:29:40.655004Z",
     "start_time": "2024-11-11T18:29:40.622669Z"
    }
   },
   "outputs": [
    {
     "data": {
      "text/plain": [
       "       age         workclass     education      marital-status  \\\n",
       "7       52  Self-emp-not-inc       HS-grad  Married-civ-spouse   \n",
       "10      37           Private  Some-college  Married-civ-spouse   \n",
       "27      54                 ?  Some-college  Married-civ-spouse   \n",
       "38      31           Private  Some-college  Married-civ-spouse   \n",
       "55      43           Private  Some-college  Married-civ-spouse   \n",
       "...    ...               ...           ...                 ...   \n",
       "32510   39           Private       HS-grad  Married-civ-spouse   \n",
       "32518   57         Local-gov       HS-grad  Married-civ-spouse   \n",
       "32519   46           Private  Some-college  Married-civ-spouse   \n",
       "32557   40           Private       HS-grad  Married-civ-spouse   \n",
       "32560   52      Self-emp-inc       HS-grad  Married-civ-spouse   \n",
       "\n",
       "              occupation relationship                race     sex  \\\n",
       "7        Exec-managerial      Husband               White    Male   \n",
       "10       Exec-managerial      Husband               Black    Male   \n",
       "27                     ?      Husband  Asian-Pac-Islander    Male   \n",
       "38                 Sales      Husband               White    Male   \n",
       "55          Tech-support      Husband               White    Male   \n",
       "...                  ...          ...                 ...     ...   \n",
       "32510     Prof-specialty      Husband               White    Male   \n",
       "32518       Craft-repair      Husband               White    Male   \n",
       "32519    Exec-managerial      Husband               White    Male   \n",
       "32557  Machine-op-inspct      Husband               White    Male   \n",
       "32560    Exec-managerial         Wife               White  Female   \n",
       "\n",
       "       hours-per-week native-country salary  salary K$  \n",
       "7                  45  United-States   >50K        307  \n",
       "10                 80  United-States   >50K        116  \n",
       "27                 60          South   >50K        275  \n",
       "38                 38              ?   >50K        166  \n",
       "55                 40  United-States   >50K        341  \n",
       "...               ...            ...    ...        ...  \n",
       "32510              45              ?   >50K        212  \n",
       "32518              40  United-States   >50K        116  \n",
       "32519              48  United-States   >50K        239  \n",
       "32557              40  United-States   >50K        173  \n",
       "32560              40  United-States   >50K        243  \n",
       "\n",
       "[3306 rows x 12 columns]"
      ],
      "text/html": [
       "<div>\n",
       "<style scoped>\n",
       "    .dataframe tbody tr th:only-of-type {\n",
       "        vertical-align: middle;\n",
       "    }\n",
       "\n",
       "    .dataframe tbody tr th {\n",
       "        vertical-align: top;\n",
       "    }\n",
       "\n",
       "    .dataframe thead th {\n",
       "        text-align: right;\n",
       "    }\n",
       "</style>\n",
       "<table border=\"1\" class=\"dataframe\">\n",
       "  <thead>\n",
       "    <tr style=\"text-align: right;\">\n",
       "      <th></th>\n",
       "      <th>age</th>\n",
       "      <th>workclass</th>\n",
       "      <th>education</th>\n",
       "      <th>marital-status</th>\n",
       "      <th>occupation</th>\n",
       "      <th>relationship</th>\n",
       "      <th>race</th>\n",
       "      <th>sex</th>\n",
       "      <th>hours-per-week</th>\n",
       "      <th>native-country</th>\n",
       "      <th>salary</th>\n",
       "      <th>salary K$</th>\n",
       "    </tr>\n",
       "  </thead>\n",
       "  <tbody>\n",
       "    <tr>\n",
       "      <th>7</th>\n",
       "      <td>52</td>\n",
       "      <td>Self-emp-not-inc</td>\n",
       "      <td>HS-grad</td>\n",
       "      <td>Married-civ-spouse</td>\n",
       "      <td>Exec-managerial</td>\n",
       "      <td>Husband</td>\n",
       "      <td>White</td>\n",
       "      <td>Male</td>\n",
       "      <td>45</td>\n",
       "      <td>United-States</td>\n",
       "      <td>&gt;50K</td>\n",
       "      <td>307</td>\n",
       "    </tr>\n",
       "    <tr>\n",
       "      <th>10</th>\n",
       "      <td>37</td>\n",
       "      <td>Private</td>\n",
       "      <td>Some-college</td>\n",
       "      <td>Married-civ-spouse</td>\n",
       "      <td>Exec-managerial</td>\n",
       "      <td>Husband</td>\n",
       "      <td>Black</td>\n",
       "      <td>Male</td>\n",
       "      <td>80</td>\n",
       "      <td>United-States</td>\n",
       "      <td>&gt;50K</td>\n",
       "      <td>116</td>\n",
       "    </tr>\n",
       "    <tr>\n",
       "      <th>27</th>\n",
       "      <td>54</td>\n",
       "      <td>?</td>\n",
       "      <td>Some-college</td>\n",
       "      <td>Married-civ-spouse</td>\n",
       "      <td>?</td>\n",
       "      <td>Husband</td>\n",
       "      <td>Asian-Pac-Islander</td>\n",
       "      <td>Male</td>\n",
       "      <td>60</td>\n",
       "      <td>South</td>\n",
       "      <td>&gt;50K</td>\n",
       "      <td>275</td>\n",
       "    </tr>\n",
       "    <tr>\n",
       "      <th>38</th>\n",
       "      <td>31</td>\n",
       "      <td>Private</td>\n",
       "      <td>Some-college</td>\n",
       "      <td>Married-civ-spouse</td>\n",
       "      <td>Sales</td>\n",
       "      <td>Husband</td>\n",
       "      <td>White</td>\n",
       "      <td>Male</td>\n",
       "      <td>38</td>\n",
       "      <td>?</td>\n",
       "      <td>&gt;50K</td>\n",
       "      <td>166</td>\n",
       "    </tr>\n",
       "    <tr>\n",
       "      <th>55</th>\n",
       "      <td>43</td>\n",
       "      <td>Private</td>\n",
       "      <td>Some-college</td>\n",
       "      <td>Married-civ-spouse</td>\n",
       "      <td>Tech-support</td>\n",
       "      <td>Husband</td>\n",
       "      <td>White</td>\n",
       "      <td>Male</td>\n",
       "      <td>40</td>\n",
       "      <td>United-States</td>\n",
       "      <td>&gt;50K</td>\n",
       "      <td>341</td>\n",
       "    </tr>\n",
       "    <tr>\n",
       "      <th>...</th>\n",
       "      <td>...</td>\n",
       "      <td>...</td>\n",
       "      <td>...</td>\n",
       "      <td>...</td>\n",
       "      <td>...</td>\n",
       "      <td>...</td>\n",
       "      <td>...</td>\n",
       "      <td>...</td>\n",
       "      <td>...</td>\n",
       "      <td>...</td>\n",
       "      <td>...</td>\n",
       "      <td>...</td>\n",
       "    </tr>\n",
       "    <tr>\n",
       "      <th>32510</th>\n",
       "      <td>39</td>\n",
       "      <td>Private</td>\n",
       "      <td>HS-grad</td>\n",
       "      <td>Married-civ-spouse</td>\n",
       "      <td>Prof-specialty</td>\n",
       "      <td>Husband</td>\n",
       "      <td>White</td>\n",
       "      <td>Male</td>\n",
       "      <td>45</td>\n",
       "      <td>?</td>\n",
       "      <td>&gt;50K</td>\n",
       "      <td>212</td>\n",
       "    </tr>\n",
       "    <tr>\n",
       "      <th>32518</th>\n",
       "      <td>57</td>\n",
       "      <td>Local-gov</td>\n",
       "      <td>HS-grad</td>\n",
       "      <td>Married-civ-spouse</td>\n",
       "      <td>Craft-repair</td>\n",
       "      <td>Husband</td>\n",
       "      <td>White</td>\n",
       "      <td>Male</td>\n",
       "      <td>40</td>\n",
       "      <td>United-States</td>\n",
       "      <td>&gt;50K</td>\n",
       "      <td>116</td>\n",
       "    </tr>\n",
       "    <tr>\n",
       "      <th>32519</th>\n",
       "      <td>46</td>\n",
       "      <td>Private</td>\n",
       "      <td>Some-college</td>\n",
       "      <td>Married-civ-spouse</td>\n",
       "      <td>Exec-managerial</td>\n",
       "      <td>Husband</td>\n",
       "      <td>White</td>\n",
       "      <td>Male</td>\n",
       "      <td>48</td>\n",
       "      <td>United-States</td>\n",
       "      <td>&gt;50K</td>\n",
       "      <td>239</td>\n",
       "    </tr>\n",
       "    <tr>\n",
       "      <th>32557</th>\n",
       "      <td>40</td>\n",
       "      <td>Private</td>\n",
       "      <td>HS-grad</td>\n",
       "      <td>Married-civ-spouse</td>\n",
       "      <td>Machine-op-inspct</td>\n",
       "      <td>Husband</td>\n",
       "      <td>White</td>\n",
       "      <td>Male</td>\n",
       "      <td>40</td>\n",
       "      <td>United-States</td>\n",
       "      <td>&gt;50K</td>\n",
       "      <td>173</td>\n",
       "    </tr>\n",
       "    <tr>\n",
       "      <th>32560</th>\n",
       "      <td>52</td>\n",
       "      <td>Self-emp-inc</td>\n",
       "      <td>HS-grad</td>\n",
       "      <td>Married-civ-spouse</td>\n",
       "      <td>Exec-managerial</td>\n",
       "      <td>Wife</td>\n",
       "      <td>White</td>\n",
       "      <td>Female</td>\n",
       "      <td>40</td>\n",
       "      <td>United-States</td>\n",
       "      <td>&gt;50K</td>\n",
       "      <td>243</td>\n",
       "    </tr>\n",
       "  </tbody>\n",
       "</table>\n",
       "<p>3306 rows × 12 columns</p>\n",
       "</div>"
      ]
     },
     "execution_count": 44,
     "metadata": {},
     "output_type": "execute_result"
    }
   ],
   "execution_count": 44
  },
  {
   "cell_type": "markdown",
   "source": [
    "# Task 6\n",
    "Get the statistics of age for each type of education. Use `groupby` and `describe` for this."
   ],
   "metadata": {
    "collapsed": false,
    "pycharm": {
     "name": "#%% md\n"
    }
   }
  },
  {
   "cell_type": "code",
   "source": [
    "age_statistics_by_education = data.groupby(\"education\")[\"age\"].describe()\n",
    "age_statistics_by_education"
   ],
   "metadata": {
    "collapsed": false,
    "pycharm": {
     "name": "#%%\n"
    },
    "ExecuteTime": {
     "end_time": "2024-11-11T18:30:05.775075Z",
     "start_time": "2024-11-11T18:30:05.705926Z"
    }
   },
   "outputs": [
    {
     "data": {
      "text/plain": [
       "                count       mean        std   min    25%   50%   75%   max\n",
       "education                                                                 \n",
       "10th            933.0  37.429796  16.720713  17.0  22.00  34.0  52.0  90.0\n",
       "11th           1175.0  32.355745  15.545485  17.0  18.00  28.0  43.0  90.0\n",
       "12th            433.0  32.000000  14.334625  17.0  19.00  28.0  41.0  79.0\n",
       "1st-4th         168.0  46.142857  15.615625  19.0  33.00  46.0  57.0  90.0\n",
       "5th-6th         333.0  42.885886  15.557285  17.0  29.00  42.0  54.0  84.0\n",
       "7th-8th         646.0  48.445820  16.092350  17.0  34.25  50.0  61.0  90.0\n",
       "9th             514.0  41.060311  15.946862  17.0  28.00  39.0  54.0  90.0\n",
       "Assoc-acdm     1067.0  37.381443  11.095177  19.0  29.00  36.0  44.0  90.0\n",
       "Assoc-voc      1382.0  38.553546  11.631300  19.0  30.00  37.0  46.0  84.0\n",
       "Bachelors      5355.0  38.904949  11.912210  19.0  29.00  37.0  46.0  90.0\n",
       "Doctorate       413.0  47.702179  11.784716  24.0  39.00  47.0  55.0  80.0\n",
       "HS-grad       10501.0  38.974479  13.541524  17.0  28.00  37.0  48.0  90.0\n",
       "Masters        1723.0  44.049913  11.068935  18.0  36.00  43.0  51.0  90.0\n",
       "Preschool        51.0  42.764706  15.126914  19.0  31.00  41.0  53.5  75.0\n",
       "Prof-school     576.0  44.746528  11.962477  25.0  36.00  43.0  51.0  90.0\n",
       "Some-college   7291.0  35.756275  13.474051  17.0  24.00  34.0  45.0  90.0"
      ],
      "text/html": [
       "<div>\n",
       "<style scoped>\n",
       "    .dataframe tbody tr th:only-of-type {\n",
       "        vertical-align: middle;\n",
       "    }\n",
       "\n",
       "    .dataframe tbody tr th {\n",
       "        vertical-align: top;\n",
       "    }\n",
       "\n",
       "    .dataframe thead th {\n",
       "        text-align: right;\n",
       "    }\n",
       "</style>\n",
       "<table border=\"1\" class=\"dataframe\">\n",
       "  <thead>\n",
       "    <tr style=\"text-align: right;\">\n",
       "      <th></th>\n",
       "      <th>count</th>\n",
       "      <th>mean</th>\n",
       "      <th>std</th>\n",
       "      <th>min</th>\n",
       "      <th>25%</th>\n",
       "      <th>50%</th>\n",
       "      <th>75%</th>\n",
       "      <th>max</th>\n",
       "    </tr>\n",
       "    <tr>\n",
       "      <th>education</th>\n",
       "      <th></th>\n",
       "      <th></th>\n",
       "      <th></th>\n",
       "      <th></th>\n",
       "      <th></th>\n",
       "      <th></th>\n",
       "      <th></th>\n",
       "      <th></th>\n",
       "    </tr>\n",
       "  </thead>\n",
       "  <tbody>\n",
       "    <tr>\n",
       "      <th>10th</th>\n",
       "      <td>933.0</td>\n",
       "      <td>37.429796</td>\n",
       "      <td>16.720713</td>\n",
       "      <td>17.0</td>\n",
       "      <td>22.00</td>\n",
       "      <td>34.0</td>\n",
       "      <td>52.0</td>\n",
       "      <td>90.0</td>\n",
       "    </tr>\n",
       "    <tr>\n",
       "      <th>11th</th>\n",
       "      <td>1175.0</td>\n",
       "      <td>32.355745</td>\n",
       "      <td>15.545485</td>\n",
       "      <td>17.0</td>\n",
       "      <td>18.00</td>\n",
       "      <td>28.0</td>\n",
       "      <td>43.0</td>\n",
       "      <td>90.0</td>\n",
       "    </tr>\n",
       "    <tr>\n",
       "      <th>12th</th>\n",
       "      <td>433.0</td>\n",
       "      <td>32.000000</td>\n",
       "      <td>14.334625</td>\n",
       "      <td>17.0</td>\n",
       "      <td>19.00</td>\n",
       "      <td>28.0</td>\n",
       "      <td>41.0</td>\n",
       "      <td>79.0</td>\n",
       "    </tr>\n",
       "    <tr>\n",
       "      <th>1st-4th</th>\n",
       "      <td>168.0</td>\n",
       "      <td>46.142857</td>\n",
       "      <td>15.615625</td>\n",
       "      <td>19.0</td>\n",
       "      <td>33.00</td>\n",
       "      <td>46.0</td>\n",
       "      <td>57.0</td>\n",
       "      <td>90.0</td>\n",
       "    </tr>\n",
       "    <tr>\n",
       "      <th>5th-6th</th>\n",
       "      <td>333.0</td>\n",
       "      <td>42.885886</td>\n",
       "      <td>15.557285</td>\n",
       "      <td>17.0</td>\n",
       "      <td>29.00</td>\n",
       "      <td>42.0</td>\n",
       "      <td>54.0</td>\n",
       "      <td>84.0</td>\n",
       "    </tr>\n",
       "    <tr>\n",
       "      <th>7th-8th</th>\n",
       "      <td>646.0</td>\n",
       "      <td>48.445820</td>\n",
       "      <td>16.092350</td>\n",
       "      <td>17.0</td>\n",
       "      <td>34.25</td>\n",
       "      <td>50.0</td>\n",
       "      <td>61.0</td>\n",
       "      <td>90.0</td>\n",
       "    </tr>\n",
       "    <tr>\n",
       "      <th>9th</th>\n",
       "      <td>514.0</td>\n",
       "      <td>41.060311</td>\n",
       "      <td>15.946862</td>\n",
       "      <td>17.0</td>\n",
       "      <td>28.00</td>\n",
       "      <td>39.0</td>\n",
       "      <td>54.0</td>\n",
       "      <td>90.0</td>\n",
       "    </tr>\n",
       "    <tr>\n",
       "      <th>Assoc-acdm</th>\n",
       "      <td>1067.0</td>\n",
       "      <td>37.381443</td>\n",
       "      <td>11.095177</td>\n",
       "      <td>19.0</td>\n",
       "      <td>29.00</td>\n",
       "      <td>36.0</td>\n",
       "      <td>44.0</td>\n",
       "      <td>90.0</td>\n",
       "    </tr>\n",
       "    <tr>\n",
       "      <th>Assoc-voc</th>\n",
       "      <td>1382.0</td>\n",
       "      <td>38.553546</td>\n",
       "      <td>11.631300</td>\n",
       "      <td>19.0</td>\n",
       "      <td>30.00</td>\n",
       "      <td>37.0</td>\n",
       "      <td>46.0</td>\n",
       "      <td>84.0</td>\n",
       "    </tr>\n",
       "    <tr>\n",
       "      <th>Bachelors</th>\n",
       "      <td>5355.0</td>\n",
       "      <td>38.904949</td>\n",
       "      <td>11.912210</td>\n",
       "      <td>19.0</td>\n",
       "      <td>29.00</td>\n",
       "      <td>37.0</td>\n",
       "      <td>46.0</td>\n",
       "      <td>90.0</td>\n",
       "    </tr>\n",
       "    <tr>\n",
       "      <th>Doctorate</th>\n",
       "      <td>413.0</td>\n",
       "      <td>47.702179</td>\n",
       "      <td>11.784716</td>\n",
       "      <td>24.0</td>\n",
       "      <td>39.00</td>\n",
       "      <td>47.0</td>\n",
       "      <td>55.0</td>\n",
       "      <td>80.0</td>\n",
       "    </tr>\n",
       "    <tr>\n",
       "      <th>HS-grad</th>\n",
       "      <td>10501.0</td>\n",
       "      <td>38.974479</td>\n",
       "      <td>13.541524</td>\n",
       "      <td>17.0</td>\n",
       "      <td>28.00</td>\n",
       "      <td>37.0</td>\n",
       "      <td>48.0</td>\n",
       "      <td>90.0</td>\n",
       "    </tr>\n",
       "    <tr>\n",
       "      <th>Masters</th>\n",
       "      <td>1723.0</td>\n",
       "      <td>44.049913</td>\n",
       "      <td>11.068935</td>\n",
       "      <td>18.0</td>\n",
       "      <td>36.00</td>\n",
       "      <td>43.0</td>\n",
       "      <td>51.0</td>\n",
       "      <td>90.0</td>\n",
       "    </tr>\n",
       "    <tr>\n",
       "      <th>Preschool</th>\n",
       "      <td>51.0</td>\n",
       "      <td>42.764706</td>\n",
       "      <td>15.126914</td>\n",
       "      <td>19.0</td>\n",
       "      <td>31.00</td>\n",
       "      <td>41.0</td>\n",
       "      <td>53.5</td>\n",
       "      <td>75.0</td>\n",
       "    </tr>\n",
       "    <tr>\n",
       "      <th>Prof-school</th>\n",
       "      <td>576.0</td>\n",
       "      <td>44.746528</td>\n",
       "      <td>11.962477</td>\n",
       "      <td>25.0</td>\n",
       "      <td>36.00</td>\n",
       "      <td>43.0</td>\n",
       "      <td>51.0</td>\n",
       "      <td>90.0</td>\n",
       "    </tr>\n",
       "    <tr>\n",
       "      <th>Some-college</th>\n",
       "      <td>7291.0</td>\n",
       "      <td>35.756275</td>\n",
       "      <td>13.474051</td>\n",
       "      <td>17.0</td>\n",
       "      <td>24.00</td>\n",
       "      <td>34.0</td>\n",
       "      <td>45.0</td>\n",
       "      <td>90.0</td>\n",
       "    </tr>\n",
       "  </tbody>\n",
       "</table>\n",
       "</div>"
      ]
     },
     "execution_count": 45,
     "metadata": {},
     "output_type": "execute_result"
    }
   ],
   "execution_count": 45
  },
  {
   "cell_type": "markdown",
   "source": [
    "# Task 7\n",
    "Compare the married and non-married men salaries. Who earns more? (>50K or <=50K)\n",
    "Married men are those, whom `marital-status` starts with \"Married\". Others are not."
   ],
   "metadata": {
    "collapsed": false,
    "pycharm": {
     "name": "#%% md\n"
    }
   }
  },
  {
   "cell_type": "code",
   "source": [
    "men = data[data[\"sex\"] == \"Male\"]\n",
    "married_men = men[men[\"marital-status\"].str.startswith(\"Married\")]\n",
    "non_married_men = men[~men[\"marital-status\"].str.startswith(\"Married\")]\n",
    "\n",
    "married_men_salary = married_men[\"salary\"].value_counts(normalize=True) * 100\n",
    "non_married_men_salary = non_married_men[\"salary\"].value_counts(normalize=True) * 100\n",
    "\n",
    "print(f\"Married men salary: {married_men_salary}\")\n",
    "print(f\"Non-married men salary distribution: {non_married_men_salary}\")"
   ],
   "metadata": {
    "collapsed": false,
    "pycharm": {
     "name": "#%%\n"
    },
    "ExecuteTime": {
     "end_time": "2024-11-11T18:35:17.307866Z",
     "start_time": "2024-11-11T18:35:17.263418Z"
    }
   },
   "outputs": [
    {
     "name": "stdout",
     "output_type": "stream",
     "text": [
      "Married men salary: salary\n",
      "<=50K    55.948601\n",
      ">50K     44.051399\n",
      "Name: proportion, dtype: float64\n",
      "Non-married men salary distribution: salary\n",
      "<=50K    91.550491\n",
      ">50K      8.449509\n",
      "Name: proportion, dtype: float64\n"
     ]
    }
   ],
   "execution_count": 50
  },
  {
   "cell_type": "markdown",
   "source": [
    "# Task 8\n",
    "Get the max hours per week some person works. How many people works the same amount of hours per week?"
   ],
   "metadata": {
    "collapsed": false,
    "pycharm": {
     "name": "#%% md\n"
    }
   }
  },
  {
   "cell_type": "code",
   "source": [
    "max_hours = data[\"hours-per-week\"].max()\n",
    "max_hours_people_count = data[data[\"hours-per-week\"] == max_hours].shape[0]\n",
    "\n",
    "print(f\"Maximum hours worked per week: {max_hours}\")\n",
    "print(f\"Number of people who work {max_hours} hours per week: {max_hours_people_count}\")"
   ],
   "metadata": {
    "collapsed": false,
    "pycharm": {
     "name": "#%%\n"
    },
    "ExecuteTime": {
     "end_time": "2024-11-11T18:38:29.085382Z",
     "start_time": "2024-11-11T18:38:29.077305Z"
    }
   },
   "outputs": [
    {
     "name": "stdout",
     "output_type": "stream",
     "text": [
      "Maximum hours worked per week: 99\n",
      "Number of people who work 99 hours per week: 85\n"
     ]
    }
   ],
   "execution_count": 57
  },
  {
   "cell_type": "markdown",
   "source": [
    "# Task 9\n",
    "Analyze the correlation between data in dataset. Understand connected fields in it and print highlight thier connection."
   ],
   "metadata": {
    "collapsed": false,
    "pycharm": {
     "name": "#%% md\n"
    }
   }
  },
  {
   "cell_type": "code",
   "source": [
    "numeric_columns = data.select_dtypes(include=[\"int64\", \"float64\"]).columns\n",
    "correlation_matrix = data[numeric_columns].corr()\n",
    "print(correlation_matrix)"
   ],
   "metadata": {
    "collapsed": false,
    "pycharm": {
     "name": "#%%\n"
    },
    "ExecuteTime": {
     "end_time": "2024-11-11T18:40:48.225108Z",
     "start_time": "2024-11-11T18:40:48.210421Z"
    }
   },
   "outputs": [
    {
     "name": "stdout",
     "output_type": "stream",
     "text": [
      "                     age  hours-per-week  salary K$\n",
      "age             1.000000        0.068756   0.201774\n",
      "hours-per-week  0.068756        1.000000   0.196916\n",
      "salary K$       0.201774        0.196916   1.000000\n"
     ]
    }
   ],
   "execution_count": 58
  },
  {
   "metadata": {},
   "cell_type": "code",
   "outputs": [],
   "execution_count": null,
   "source": ""
  }
 ],
 "metadata": {
  "kernelspec": {
   "display_name": "Python 3",
   "language": "python",
   "name": "python3"
  },
  "language_info": {
   "codemirror_mode": {
    "name": "ipython",
    "version": 2
   },
   "file_extension": ".py",
   "mimetype": "text/x-python",
   "name": "python",
   "nbconvert_exporter": "python",
   "pygments_lexer": "ipython2",
   "version": "2.7.6"
  }
 },
 "nbformat": 4,
 "nbformat_minor": 0
}
