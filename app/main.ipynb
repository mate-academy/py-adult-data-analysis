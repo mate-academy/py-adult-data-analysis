{
 "cells": [
  {
   "cell_type": "code",
   "source": [
    "import numpy as np\n",
    "import pandas as pd"
   ],
   "metadata": {
    "collapsed": false,
    "pycharm": {
     "name": "#%%\n"
    },
    "ExecuteTime": {
     "end_time": "2024-09-09T13:14:51.015648Z",
     "start_time": "2024-09-09T13:14:50.704371Z"
    }
   },
   "outputs": [],
   "execution_count": 5
  },
  {
   "cell_type": "markdown",
   "source": [
    "# Task 0\n",
    "Read the dataset from csv file & perform data cleaning - remove all rows, which contains `?` in some columns.\n",
    "Also check for data correctness (salary & salary $K)."
   ],
   "metadata": {
    "collapsed": false,
    "pycharm": {
     "name": "#%% md\n"
    }
   }
  },
  {
   "cell_type": "code",
   "source": [
    "# write your code for task 0 here\n",
    "people = pd.read_csv(\"../data/adult.csv\", index_col=0)\n",
    "print(people.head())"
   ],
   "metadata": {
    "collapsed": false,
    "pycharm": {
     "name": "#%%\n"
    },
    "ExecuteTime": {
     "end_time": "2024-09-09T13:40:19.110513Z",
     "start_time": "2024-09-09T13:40:19.048848Z"
    }
   },
   "outputs": [
    {
     "name": "stdout",
     "output_type": "stream",
     "text": [
      "   age         workclass  education      marital-status         occupation  \\\n",
      "0   39         State-gov  Bachelors       Never-married       Adm-clerical   \n",
      "1   50  Self-emp-not-inc  Bachelors  Married-civ-spouse    Exec-managerial   \n",
      "2   38           Private    HS-grad            Divorced  Handlers-cleaners   \n",
      "3   53           Private       11th  Married-civ-spouse  Handlers-cleaners   \n",
      "4   28           Private  Bachelors  Married-civ-spouse     Prof-specialty   \n",
      "\n",
      "    relationship   race     sex  hours-per-week native-country salary  \\\n",
      "0  Not-in-family  White    Male              40  United-States  <=50K   \n",
      "1        Husband  White    Male              13  United-States  <=50K   \n",
      "2  Not-in-family  White    Male              40  United-States  <=50K   \n",
      "3        Husband  Black    Male              40  United-States  <=50K   \n",
      "4           Wife  Black  Female              40           Cuba  <=50K   \n",
      "\n",
      "   salary K$  \n",
      "0         39  \n",
      "1         35  \n",
      "2         27  \n",
      "3         43  \n",
      "4         25  \n"
     ]
    }
   ],
   "execution_count": 27
  },
  {
   "metadata": {
    "ExecuteTime": {
     "end_time": "2024-09-09T13:40:59.438398Z",
     "start_time": "2024-09-09T13:40:59.395724Z"
    }
   },
   "cell_type": "code",
   "source": [
    "print(people.info())\n",
    "print(people.isnull().sum())"
   ],
   "outputs": [
    {
     "name": "stdout",
     "output_type": "stream",
     "text": [
      "<class 'pandas.core.frame.DataFrame'>\n",
      "Index: 32561 entries, 0 to 32560\n",
      "Data columns (total 12 columns):\n",
      " #   Column          Non-Null Count  Dtype \n",
      "---  ------          --------------  ----- \n",
      " 0   age             32561 non-null  int64 \n",
      " 1   workclass       32561 non-null  object\n",
      " 2   education       32561 non-null  object\n",
      " 3   marital-status  32561 non-null  object\n",
      " 4   occupation      32561 non-null  object\n",
      " 5   relationship    32561 non-null  object\n",
      " 6   race            32561 non-null  object\n",
      " 7   sex             32561 non-null  object\n",
      " 8   hours-per-week  32561 non-null  int64 \n",
      " 9   native-country  32561 non-null  object\n",
      " 10  salary          32561 non-null  object\n",
      " 11  salary K$       32561 non-null  int64 \n",
      "dtypes: int64(3), object(9)\n",
      "memory usage: 3.2+ MB\n",
      "None\n",
      "age               0\n",
      "workclass         0\n",
      "education         0\n",
      "marital-status    0\n",
      "occupation        0\n",
      "relationship      0\n",
      "race              0\n",
      "sex               0\n",
      "hours-per-week    0\n",
      "native-country    0\n",
      "salary            0\n",
      "salary K$         0\n",
      "dtype: int64\n"
     ]
    }
   ],
   "execution_count": 28
  },
  {
   "metadata": {
    "ExecuteTime": {
     "end_time": "2024-09-09T13:42:49.214693Z",
     "start_time": "2024-09-09T13:42:49.180468Z"
    }
   },
   "cell_type": "code",
   "source": [
    "people.replace(\"?\", np.nan, inplace=True)\n",
    "print(people)"
   ],
   "outputs": [
    {
     "name": "stdout",
     "output_type": "stream",
     "text": [
      "       age         workclass   education      marital-status  \\\n",
      "0       39         State-gov   Bachelors       Never-married   \n",
      "1       50  Self-emp-not-inc   Bachelors  Married-civ-spouse   \n",
      "2       38           Private     HS-grad            Divorced   \n",
      "3       53           Private        11th  Married-civ-spouse   \n",
      "4       28           Private   Bachelors  Married-civ-spouse   \n",
      "...    ...               ...         ...                 ...   \n",
      "32556   27           Private  Assoc-acdm  Married-civ-spouse   \n",
      "32557   40           Private     HS-grad  Married-civ-spouse   \n",
      "32558   58           Private     HS-grad             Widowed   \n",
      "32559   22           Private     HS-grad       Never-married   \n",
      "32560   52      Self-emp-inc     HS-grad  Married-civ-spouse   \n",
      "\n",
      "              occupation   relationship   race     sex  hours-per-week  \\\n",
      "0           Adm-clerical  Not-in-family  White    Male              40   \n",
      "1        Exec-managerial        Husband  White    Male              13   \n",
      "2      Handlers-cleaners  Not-in-family  White    Male              40   \n",
      "3      Handlers-cleaners        Husband  Black    Male              40   \n",
      "4         Prof-specialty           Wife  Black  Female              40   \n",
      "...                  ...            ...    ...     ...             ...   \n",
      "32556       Tech-support           Wife  White  Female              38   \n",
      "32557  Machine-op-inspct        Husband  White    Male              40   \n",
      "32558       Adm-clerical      Unmarried  White  Female              40   \n",
      "32559       Adm-clerical      Own-child  White    Male              20   \n",
      "32560    Exec-managerial           Wife  White  Female              40   \n",
      "\n",
      "      native-country salary  salary K$  \n",
      "0      United-States  <=50K         39  \n",
      "1      United-States  <=50K         35  \n",
      "2      United-States  <=50K         27  \n",
      "3      United-States  <=50K         43  \n",
      "4               Cuba  <=50K         25  \n",
      "...              ...    ...        ...  \n",
      "32556  United-States  <=50K         36  \n",
      "32557  United-States   >50K        173  \n",
      "32558  United-States  <=50K         40  \n",
      "32559  United-States  <=50K         38  \n",
      "32560  United-States   >50K        243  \n",
      "\n",
      "[32561 rows x 12 columns]\n"
     ]
    }
   ],
   "execution_count": 32
  },
  {
   "metadata": {
    "ExecuteTime": {
     "end_time": "2024-09-09T13:43:22.580394Z",
     "start_time": "2024-09-09T13:43:22.553902Z"
    }
   },
   "cell_type": "code",
   "source": "print(people.isnull().sum())",
   "outputs": [
    {
     "name": "stdout",
     "output_type": "stream",
     "text": [
      "age                  0\n",
      "workclass         1836\n",
      "education            0\n",
      "marital-status       0\n",
      "occupation        1843\n",
      "relationship         0\n",
      "race                 0\n",
      "sex                  0\n",
      "hours-per-week       0\n",
      "native-country     583\n",
      "salary               0\n",
      "salary K$            0\n",
      "dtype: int64\n"
     ]
    }
   ],
   "execution_count": 33
  },
  {
   "metadata": {
    "ExecuteTime": {
     "end_time": "2024-09-09T13:43:35.087971Z",
     "start_time": "2024-09-09T13:43:35.068407Z"
    }
   },
   "cell_type": "code",
   "source": "people.describe()",
   "outputs": [
    {
     "data": {
      "text/plain": [
       "                age  hours-per-week     salary K$\n",
       "count  32561.000000    32561.000000  32561.000000\n",
       "mean      38.581647       40.437456     72.674611\n",
       "std       13.640433       12.347429     84.345976\n",
       "min       17.000000        1.000000     15.000000\n",
       "25%       28.000000       40.000000     26.000000\n",
       "50%       37.000000       40.000000     38.000000\n",
       "75%       48.000000       45.000000     49.000000\n",
       "max       90.000000       99.000000    349.000000"
      ],
      "text/html": [
       "<div>\n",
       "<style scoped>\n",
       "    .dataframe tbody tr th:only-of-type {\n",
       "        vertical-align: middle;\n",
       "    }\n",
       "\n",
       "    .dataframe tbody tr th {\n",
       "        vertical-align: top;\n",
       "    }\n",
       "\n",
       "    .dataframe thead th {\n",
       "        text-align: right;\n",
       "    }\n",
       "</style>\n",
       "<table border=\"1\" class=\"dataframe\">\n",
       "  <thead>\n",
       "    <tr style=\"text-align: right;\">\n",
       "      <th></th>\n",
       "      <th>age</th>\n",
       "      <th>hours-per-week</th>\n",
       "      <th>salary K$</th>\n",
       "    </tr>\n",
       "  </thead>\n",
       "  <tbody>\n",
       "    <tr>\n",
       "      <th>count</th>\n",
       "      <td>32561.000000</td>\n",
       "      <td>32561.000000</td>\n",
       "      <td>32561.000000</td>\n",
       "    </tr>\n",
       "    <tr>\n",
       "      <th>mean</th>\n",
       "      <td>38.581647</td>\n",
       "      <td>40.437456</td>\n",
       "      <td>72.674611</td>\n",
       "    </tr>\n",
       "    <tr>\n",
       "      <th>std</th>\n",
       "      <td>13.640433</td>\n",
       "      <td>12.347429</td>\n",
       "      <td>84.345976</td>\n",
       "    </tr>\n",
       "    <tr>\n",
       "      <th>min</th>\n",
       "      <td>17.000000</td>\n",
       "      <td>1.000000</td>\n",
       "      <td>15.000000</td>\n",
       "    </tr>\n",
       "    <tr>\n",
       "      <th>25%</th>\n",
       "      <td>28.000000</td>\n",
       "      <td>40.000000</td>\n",
       "      <td>26.000000</td>\n",
       "    </tr>\n",
       "    <tr>\n",
       "      <th>50%</th>\n",
       "      <td>37.000000</td>\n",
       "      <td>40.000000</td>\n",
       "      <td>38.000000</td>\n",
       "    </tr>\n",
       "    <tr>\n",
       "      <th>75%</th>\n",
       "      <td>48.000000</td>\n",
       "      <td>45.000000</td>\n",
       "      <td>49.000000</td>\n",
       "    </tr>\n",
       "    <tr>\n",
       "      <th>max</th>\n",
       "      <td>90.000000</td>\n",
       "      <td>99.000000</td>\n",
       "      <td>349.000000</td>\n",
       "    </tr>\n",
       "  </tbody>\n",
       "</table>\n",
       "</div>"
      ]
     },
     "execution_count": 34,
     "metadata": {},
     "output_type": "execute_result"
    }
   ],
   "execution_count": 34
  },
  {
   "metadata": {
    "ExecuteTime": {
     "end_time": "2024-09-09T13:47:48.109199Z",
     "start_time": "2024-09-09T13:47:48.095011Z"
    }
   },
   "cell_type": "code",
   "source": "people.dropna(inplace=True)",
   "outputs": [],
   "execution_count": 36
  },
  {
   "metadata": {
    "ExecuteTime": {
     "end_time": "2024-09-09T13:48:12.072267Z",
     "start_time": "2024-09-09T13:48:12.062132Z"
    }
   },
   "cell_type": "code",
   "source": "print(people.isnull().sum())",
   "outputs": [
    {
     "name": "stdout",
     "output_type": "stream",
     "text": [
      "age               0\n",
      "workclass         0\n",
      "education         0\n",
      "marital-status    0\n",
      "occupation        0\n",
      "relationship      0\n",
      "race              0\n",
      "sex               0\n",
      "hours-per-week    0\n",
      "native-country    0\n",
      "salary            0\n",
      "salary K$         0\n",
      "dtype: int64\n"
     ]
    }
   ],
   "execution_count": 37
  },
  {
   "metadata": {
    "ExecuteTime": {
     "end_time": "2024-09-09T13:49:47.093194Z",
     "start_time": "2024-09-09T13:49:47.087041Z"
    }
   },
   "cell_type": "code",
   "source": [
    "print(people['salary'].value_counts())\n",
    "print(people['salary K$'].value_counts())"
   ],
   "outputs": [
    {
     "name": "stdout",
     "output_type": "stream",
     "text": [
      "salary\n",
      "<=50K    22654\n",
      ">50K      7508\n",
      "Name: count, dtype: int64\n",
      "salary K$\n",
      "25     687\n",
      "46     681\n",
      "38     681\n",
      "16     678\n",
      "22     677\n",
      "      ... \n",
      "153     15\n",
      "183     15\n",
      "94      15\n",
      "294     14\n",
      "207     13\n",
      "Name: count, Length: 334, dtype: int64\n"
     ]
    }
   ],
   "execution_count": 39
  },
  {
   "cell_type": "markdown",
   "source": [
    "# Task 1\n",
    "Print the count of men and women in the dataset."
   ],
   "metadata": {
    "collapsed": false,
    "pycharm": {
     "name": "#%% md\n"
    }
   }
  },
  {
   "cell_type": "code",
   "source": [
    "# write your code for task 1 here\n",
    "print(people['sex'].value_counts())"
   ],
   "metadata": {
    "collapsed": false,
    "pycharm": {
     "name": "#%%\n"
    },
    "ExecuteTime": {
     "end_time": "2024-09-09T13:53:49.268447Z",
     "start_time": "2024-09-09T13:53:49.262189Z"
    }
   },
   "outputs": [
    {
     "name": "stdout",
     "output_type": "stream",
     "text": [
      "sex\n",
      "Male      20380\n",
      "Female     9782\n",
      "Name: count, dtype: int64\n"
     ]
    }
   ],
   "execution_count": 40
  },
  {
   "cell_type": "markdown",
   "source": [
    "# Task 2\n",
    "Find the average age of men in dataset"
   ],
   "metadata": {
    "collapsed": false,
    "pycharm": {
     "name": "#%% md\n"
    }
   }
  },
  {
   "cell_type": "code",
   "source": [
    "# write your code for task 2 here\n",
    "men = people[people['sex'] == 'Male']\n",
    "average_age_men = men['age'].mean()\n",
    "print(average_age_men)"
   ],
   "metadata": {
    "collapsed": false,
    "pycharm": {
     "name": "#%%\n"
    },
    "ExecuteTime": {
     "end_time": "2024-09-09T15:38:49.944054Z",
     "start_time": "2024-09-09T15:38:49.935262Z"
    }
   },
   "outputs": [
    {
     "name": "stdout",
     "output_type": "stream",
     "text": [
      "39.18400392541707\n"
     ]
    }
   ],
   "execution_count": 42
  },
  {
   "cell_type": "markdown",
   "source": [
    "# Task 3\n",
    "Get the percentage of people from Poland (native-country)"
   ],
   "metadata": {
    "collapsed": false,
    "pycharm": {
     "name": "#%% md\n"
    }
   }
  },
  {
   "cell_type": "code",
   "source": [
    "# write your code for task 3 here\n",
    "poland_count = people[people['native-country'] == 'Poland'].shape[0]\n",
    "total_count = people.shape[0]\n",
    "percentage_poland = (poland_count / total_count) * 100\n",
    "print(percentage_poland)"
   ],
   "metadata": {
    "collapsed": false,
    "pycharm": {
     "name": "#%%\n"
    },
    "ExecuteTime": {
     "end_time": "2024-09-09T15:53:34.870663Z",
     "start_time": "2024-09-09T15:53:34.864515Z"
    }
   },
   "outputs": [
    {
     "name": "stdout",
     "output_type": "stream",
     "text": [
      "0.18566408063125786\n"
     ]
    }
   ],
   "execution_count": 43
  },
  {
   "cell_type": "markdown",
   "source": [
    "# Task 4\n",
    "Get the mean and standard deviation of the age for people who earn > 50K per year. After this, get it for those who earn <= 50K."
   ],
   "metadata": {
    "collapsed": false,
    "pycharm": {
     "name": "#%% md\n"
    }
   }
  },
  {
   "cell_type": "code",
   "source": [
    "# write your code for task 4 here\n",
    "high_income = people[people['salary K$'] > 50]\n",
    "low_income = people[people['salary K$'] <= 50]\n",
    "\n",
    "mean_age_high_income = high_income['age'].mean()\n",
    "std_age_high_income = high_income['age'].std()\n",
    "\n",
    "mean_age_low_income = low_income['age'].mean()\n",
    "std_age_low_income = low_income['age'].std()\n",
    "\n",
    "print(mean_age_high_income, std_age_high_income, mean_age_low_income, std_age_low_income)"
   ],
   "metadata": {
    "collapsed": false,
    "pycharm": {
     "name": "#%%\n"
    },
    "ExecuteTime": {
     "end_time": "2024-09-09T16:30:57.619534Z",
     "start_time": "2024-09-09T16:30:57.611055Z"
    }
   },
   "outputs": [
    {
     "name": "stdout",
     "output_type": "stream",
     "text": [
      "43.95911028236548 10.269632835673852 36.60806038668668 13.464631257161633\n"
     ]
    }
   ],
   "execution_count": 47
  },
  {
   "cell_type": "markdown",
   "source": [
    "# Task 5\n",
    "Check, if there are some people without higher education (education: Bachelors, Prof-school, Assoc-acdm, Assoc-voc, Masters, Doctorate), but with > 50K salary"
   ],
   "metadata": {
    "collapsed": false,
    "pycharm": {
     "name": "#%% md\n"
    }
   }
  },
  {
   "cell_type": "code",
   "source": [
    "# write your code for task 5 here\n",
    "higher_education = [\"Bachelors\", \"Prof-school\", \"Assoc-acdm\", \"Assoc-voc\", \"Masters\", \"Doctorate\"]\n",
    "high_salary_people = people[people['salary K$'] > 50]\n",
    "no_higher_education = high_salary_people[~high_salary_people['education'].isin(higher_education)]\n",
    "\n",
    "print(no_higher_education)"
   ],
   "metadata": {
    "collapsed": false,
    "pycharm": {
     "name": "#%%\n"
    },
    "ExecuteTime": {
     "end_time": "2024-09-09T17:21:06.599248Z",
     "start_time": "2024-09-09T17:21:06.589137Z"
    }
   },
   "outputs": [
    {
     "name": "stdout",
     "output_type": "stream",
     "text": [
      "       age         workclass     education      marital-status  \\\n",
      "7       52  Self-emp-not-inc       HS-grad  Married-civ-spouse   \n",
      "10      37           Private  Some-college  Married-civ-spouse   \n",
      "55      43           Private  Some-college  Married-civ-spouse   \n",
      "67      53           Private       HS-grad  Married-civ-spouse   \n",
      "68      49      Self-emp-inc  Some-college  Married-civ-spouse   \n",
      "...    ...               ...           ...                 ...   \n",
      "32462   48      Self-emp-inc       HS-grad  Married-civ-spouse   \n",
      "32518   57         Local-gov       HS-grad  Married-civ-spouse   \n",
      "32519   46           Private  Some-college  Married-civ-spouse   \n",
      "32557   40           Private       HS-grad  Married-civ-spouse   \n",
      "32560   52      Self-emp-inc       HS-grad  Married-civ-spouse   \n",
      "\n",
      "              occupation relationship   race     sex  hours-per-week  \\\n",
      "7        Exec-managerial      Husband  White    Male              45   \n",
      "10       Exec-managerial      Husband  Black    Male              80   \n",
      "55          Tech-support      Husband  White    Male              40   \n",
      "67          Adm-clerical         Wife  White  Female              40   \n",
      "68       Exec-managerial      Husband  White    Male              50   \n",
      "...                  ...          ...    ...     ...             ...   \n",
      "32462       Craft-repair      Husband  White    Male              50   \n",
      "32518       Craft-repair      Husband  White    Male              40   \n",
      "32519    Exec-managerial      Husband  White    Male              48   \n",
      "32557  Machine-op-inspct      Husband  White    Male              40   \n",
      "32560    Exec-managerial         Wife  White  Female              40   \n",
      "\n",
      "      native-country salary  salary K$  \n",
      "7      United-States   >50K        307  \n",
      "10     United-States   >50K        116  \n",
      "55     United-States   >50K        341  \n",
      "67     United-States   >50K        225  \n",
      "68     United-States   >50K        194  \n",
      "...              ...    ...        ...  \n",
      "32462  United-States   >50K        343  \n",
      "32518  United-States   >50K        116  \n",
      "32519  United-States   >50K        239  \n",
      "32557  United-States   >50K        173  \n",
      "32560  United-States   >50K        243  \n",
      "\n",
      "[3178 rows x 12 columns]\n"
     ]
    }
   ],
   "execution_count": 49
  },
  {
   "cell_type": "markdown",
   "source": [
    "# Task 6\n",
    "Get the statistics of age for each type of education. Use `groupby` and `describe` for this."
   ],
   "metadata": {
    "collapsed": false,
    "pycharm": {
     "name": "#%% md\n"
    }
   }
  },
  {
   "cell_type": "code",
   "source": [
    "# write your code for task 6 here\n",
    "education_age_stats = people.groupby('education')['age'].describe()\n",
    "print(education_age_stats)"
   ],
   "metadata": {
    "collapsed": false,
    "pycharm": {
     "name": "#%%\n"
    },
    "ExecuteTime": {
     "end_time": "2024-09-09T17:22:47.054191Z",
     "start_time": "2024-09-09T17:22:47.030376Z"
    }
   },
   "outputs": [
    {
     "name": "stdout",
     "output_type": "stream",
     "text": [
      "               count       mean        std   min   25%   50%   75%   max\n",
      "education                                                               \n",
      "10th           820.0  37.897561  16.225795  17.0  23.0  36.0  52.0  90.0\n",
      "11th          1048.0  32.363550  15.089307  17.0  18.0  28.5  43.0  90.0\n",
      "12th           377.0  32.013263  14.373710  17.0  19.0  28.0  41.0  79.0\n",
      "1st-4th        151.0  44.622517  14.929051  19.0  33.0  44.0  56.0  81.0\n",
      "5th-6th        288.0  41.649306  14.754622  17.0  28.0  41.0  53.0  82.0\n",
      "7th-8th        557.0  47.631957  15.737479  17.0  34.0  49.0  60.0  90.0\n",
      "9th            455.0  40.303297  15.335754  17.0  28.0  38.0  53.0  90.0\n",
      "Assoc-acdm    1008.0  37.286706  10.509755  19.0  29.0  36.0  44.0  90.0\n",
      "Assoc-voc     1307.0  38.246366  11.181253  19.0  30.0  37.0  45.0  84.0\n",
      "Bachelors     5044.0  38.641554  11.577566  19.0  29.0  37.0  46.0  90.0\n",
      "Doctorate      375.0  47.130667  11.471727  24.0  39.0  47.0  54.0  80.0\n",
      "HS-grad       9840.0  38.640955  13.067730  17.0  28.0  37.0  48.0  90.0\n",
      "Masters       1627.0  43.740012  10.735356  18.0  36.0  43.0  50.0  90.0\n",
      "Preschool       45.0  41.288889  15.175672  19.0  30.0  40.0  53.0  75.0\n",
      "Prof-school    542.0  44.249077  11.428098  25.0  36.0  43.0  50.0  90.0\n",
      "Some-college  6678.0  36.135370  13.073528  17.0  25.0  35.0  45.0  90.0\n"
     ]
    }
   ],
   "execution_count": 50
  },
  {
   "cell_type": "markdown",
   "source": [
    "# Task 7\n",
    "Compare the married and non-married men salaries. Who earns more? (>50K or <=50K)\n",
    "Married men are those, whom `marital-status` starts with \"Married\". Others are not."
   ],
   "metadata": {
    "collapsed": false,
    "pycharm": {
     "name": "#%% md\n"
    }
   }
  },
  {
   "cell_type": "code",
   "source": [
    "# write your code for task 7 here\n",
    "men = people[people['sex'] == 'Male']\n",
    "married_men = men[men['marital-status'].str.startswith('Married')]\n",
    "non_married_men = men[~men['marital-status'].str.startswith('Married')]\n",
    "married_men_salary_mean = married_men['salary K$'].astype(float).mean()\n",
    "non_married_men_salary_mean = non_married_men['salary K$'].astype(float).mean()\n",
    "\n",
    "print(married_men_salary_mean, non_married_men_salary_mean)"
   ],
   "metadata": {
    "collapsed": false,
    "pycharm": {
     "name": "#%%\n"
    },
    "ExecuteTime": {
     "end_time": "2024-09-09T17:26:09.995658Z",
     "start_time": "2024-09-09T17:26:09.978577Z"
    }
   },
   "outputs": [
    {
     "name": "stdout",
     "output_type": "stream",
     "text": [
      "107.49455968688845 46.59723865877712\n"
     ]
    }
   ],
   "execution_count": 52
  },
  {
   "cell_type": "markdown",
   "source": [
    "# Task 8\n",
    "Get the max hours per week some person works. How many people works the same amount of hours per week?"
   ],
   "metadata": {
    "collapsed": false,
    "pycharm": {
     "name": "#%% md\n"
    }
   }
  },
  {
   "cell_type": "code",
   "source": [
    "# write your code for task 8 here\n",
    "max_hours_per_week = people['hours-per-week'].max()\n",
    "count_people_max_hours = people[people['hours-per-week'] == max_hours_per_week].shape[0]\n",
    "\n",
    "print(count_people_max_hours)"
   ],
   "metadata": {
    "collapsed": false,
    "pycharm": {
     "name": "#%%\n"
    },
    "ExecuteTime": {
     "end_time": "2024-09-09T17:31:54.083435Z",
     "start_time": "2024-09-09T17:31:54.079251Z"
    }
   },
   "outputs": [
    {
     "name": "stdout",
     "output_type": "stream",
     "text": [
      "78\n"
     ]
    }
   ],
   "execution_count": 54
  },
  {
   "cell_type": "markdown",
   "source": [
    "# Task 9\n",
    "Analyze the correlation between data in dataset. Understand connected fields in it and print highlight thier connection."
   ],
   "metadata": {
    "collapsed": false,
    "pycharm": {
     "name": "#%% md\n"
    }
   }
  },
  {
   "cell_type": "code",
   "source": [
    "# write your code for task 9 here\n",
    "import seaborn as sns\n",
    "import matplotlib.pyplot as plt\n",
    "\n",
    "correlation_matrix = people.corr(numeric_only=True)\n",
    "print(correlation_matrix)\n",
    "\n",
    "plt.figure(figsize=(12, 8))\n",
    "sns.heatmap(correlation_matrix, annot=True, cmap='coolwarm', fmt='.2f')\n",
    "plt.title('Correlation Matrix')\n",
    "plt.show()\n",
    "\n",
    "max_corr = correlation_matrix.abs().unstack().sort_values(ascending=False)\n",
    "max_corr = max_corr[max_corr < 1]\n",
    "print(\"The highest correlations:\")\n",
    "print(max_corr.head())\n"
   ],
   "metadata": {
    "collapsed": false,
    "pycharm": {
     "name": "#%%\n"
    },
    "ExecuteTime": {
     "end_time": "2024-09-09T17:44:08.846109Z",
     "start_time": "2024-09-09T17:44:08.723787Z"
    }
   },
   "outputs": [
    {
     "name": "stdout",
     "output_type": "stream",
     "text": [
      "                     age  hours-per-week  salary K$\n",
      "age             1.000000        0.101599   0.208203\n",
      "hours-per-week  0.101599        1.000000   0.196378\n",
      "salary K$       0.208203        0.196378   1.000000\n"
     ]
    },
    {
     "data": {
      "text/plain": [
       "<Figure size 1200x800 with 2 Axes>"
      ],
      "image/png": "[encoded data removed]"
     },
     "metadata": {},
     "output_type": "display_data"
    },
    {
     "name": "stdout",
     "output_type": "stream",
     "text": [
      "The highest correlations:\n",
      "salary K$       age               0.208203\n",
      "age             salary K$         0.208203\n",
      "hours-per-week  salary K$         0.196378\n",
      "salary K$       hours-per-week    0.196378\n",
      "hours-per-week  age               0.101599\n",
      "dtype: float64\n"
     ]
    }
   ],
   "execution_count": 61
  },
  {
   "metadata": {},
   "cell_type": "code",
   "outputs": [],
   "execution_count": null,
   "source": ""
  }
 ],
 "metadata": {
  "kernelspec": {
   "display_name": "Python 3",
   "language": "python",
   "name": "python3"
  },
  "language_info": {
   "codemirror_mode": {
    "name": "ipython",
    "version": 2
   },
   "file_extension": ".py",
   "mimetype": "text/x-python",
   "name": "python",
   "nbconvert_exporter": "python",
   "pygments_lexer": "ipython2",
   "version": "2.7.6"
  }
 },
 "nbformat": 4,
 "nbformat_minor": 0
}
