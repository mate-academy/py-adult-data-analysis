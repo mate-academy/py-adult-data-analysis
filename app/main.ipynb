{
 "cells": [
  {
   "cell_type": "code",
   "execution_count": 2,
   "outputs": [],
   "source": [
    "import numpy as np\n",
    "import pandas as pd"
   ],
   "metadata": {
    "collapsed": false,
    "pycharm": {
     "name": "#%%\n"
    },
    "ExecuteTime": {
     "end_time": "2024-04-22T07:09:11.294745900Z",
     "start_time": "2024-04-22T07:09:10.125590900Z"
    }
   }
  },
  {
   "cell_type": "markdown",
   "source": [
    "# Task 0\n",
    "Read the dataset from csv file & perform data cleaning - remove all rows, which contains `?` in some columns.\n",
    "Also check for data correctness (salary & salary $K)."
   ],
   "metadata": {
    "collapsed": false,
    "pycharm": {
     "name": "#%% md\n"
    }
   }
  },
  {
   "cell_type": "code",
   "execution_count": 5,
   "outputs": [
    {
     "data": {
      "text/plain": "   age         workclass  education      marital-status         occupation  \\\n0   39         State-gov  Bachelors       Never-married       Adm-clerical   \n1   50  Self-emp-not-inc  Bachelors  Married-civ-spouse    Exec-managerial   \n2   38           Private    HS-grad            Divorced  Handlers-cleaners   \n3   53           Private       11th  Married-civ-spouse  Handlers-cleaners   \n4   28           Private  Bachelors  Married-civ-spouse     Prof-specialty   \n\n    relationship   race     sex  hours-per-week native-country salary  \\\n0  Not-in-family  White    Male              40  United-States  <=50K   \n1        Husband  White    Male              13  United-States  <=50K   \n2  Not-in-family  White    Male              40  United-States  <=50K   \n3        Husband  Black    Male              40  United-States  <=50K   \n4           Wife  Black  Female              40           Cuba  <=50K   \n\n   salary K$  \n0         39  \n1         35  \n2         27  \n3         43  \n4         25  ",
      "text/html": "<div>\n<style scoped>\n    .dataframe tbody tr th:only-of-type {\n        vertical-align: middle;\n    }\n\n    .dataframe tbody tr th {\n        vertical-align: top;\n    }\n\n    .dataframe thead th {\n        text-align: right;\n    }\n</style>\n<table border=\"1\" class=\"dataframe\">\n  <thead>\n    <tr style=\"text-align: right;\">\n      <th></th>\n      <th>age</th>\n      <th>workclass</th>\n      <th>education</th>\n      <th>marital-status</th>\n      <th>occupation</th>\n      <th>relationship</th>\n      <th>race</th>\n      <th>sex</th>\n      <th>hours-per-week</th>\n      <th>native-country</th>\n      <th>salary</th>\n      <th>salary K$</th>\n    </tr>\n  </thead>\n  <tbody>\n    <tr>\n      <th>0</th>\n      <td>39</td>\n      <td>State-gov</td>\n      <td>Bachelors</td>\n      <td>Never-married</td>\n      <td>Adm-clerical</td>\n      <td>Not-in-family</td>\n      <td>White</td>\n      <td>Male</td>\n      <td>40</td>\n      <td>United-States</td>\n      <td>&lt;=50K</td>\n      <td>39</td>\n    </tr>\n    <tr>\n      <th>1</th>\n      <td>50</td>\n      <td>Self-emp-not-inc</td>\n      <td>Bachelors</td>\n      <td>Married-civ-spouse</td>\n      <td>Exec-managerial</td>\n      <td>Husband</td>\n      <td>White</td>\n      <td>Male</td>\n      <td>13</td>\n      <td>United-States</td>\n      <td>&lt;=50K</td>\n      <td>35</td>\n    </tr>\n    <tr>\n      <th>2</th>\n      <td>38</td>\n      <td>Private</td>\n      <td>HS-grad</td>\n      <td>Divorced</td>\n      <td>Handlers-cleaners</td>\n      <td>Not-in-family</td>\n      <td>White</td>\n      <td>Male</td>\n      <td>40</td>\n      <td>United-States</td>\n      <td>&lt;=50K</td>\n      <td>27</td>\n    </tr>\n    <tr>\n      <th>3</th>\n      <td>53</td>\n      <td>Private</td>\n      <td>11th</td>\n      <td>Married-civ-spouse</td>\n      <td>Handlers-cleaners</td>\n      <td>Husband</td>\n      <td>Black</td>\n      <td>Male</td>\n      <td>40</td>\n      <td>United-States</td>\n      <td>&lt;=50K</td>\n      <td>43</td>\n    </tr>\n    <tr>\n      <th>4</th>\n      <td>28</td>\n      <td>Private</td>\n      <td>Bachelors</td>\n      <td>Married-civ-spouse</td>\n      <td>Prof-specialty</td>\n      <td>Wife</td>\n      <td>Black</td>\n      <td>Female</td>\n      <td>40</td>\n      <td>Cuba</td>\n      <td>&lt;=50K</td>\n      <td>25</td>\n    </tr>\n  </tbody>\n</table>\n</div>"
     },
     "execution_count": 5,
     "metadata": {},
     "output_type": "execute_result"
    }
   ],
   "source": [
    "df = pd.read_csv(r\"..\\data\\adult.csv\", index_col=[0])\n",
    "df.head()"
   ],
   "metadata": {
    "collapsed": false,
    "pycharm": {
     "name": "#%%\n"
    },
    "ExecuteTime": {
     "end_time": "2024-04-22T07:09:25.067299300Z",
     "start_time": "2024-04-22T07:09:25.007671700Z"
    }
   }
  },
  {
   "cell_type": "code",
   "outputs": [
    {
     "name": "stdout",
     "output_type": "stream",
     "text": [
      "<class 'pandas.core.frame.DataFrame'>\n",
      "Index: 30162 entries, 0 to 32560\n",
      "Data columns (total 12 columns):\n",
      " #   Column          Non-Null Count  Dtype \n",
      "---  ------          --------------  ----- \n",
      " 0   age             30162 non-null  int64 \n",
      " 1   workclass       30162 non-null  object\n",
      " 2   education       30162 non-null  object\n",
      " 3   marital-status  30162 non-null  object\n",
      " 4   occupation      30162 non-null  object\n",
      " 5   relationship    30162 non-null  object\n",
      " 6   race            30162 non-null  object\n",
      " 7   sex             30162 non-null  object\n",
      " 8   hours-per-week  30162 non-null  int64 \n",
      " 9   native-country  30162 non-null  object\n",
      " 10  salary          30162 non-null  object\n",
      " 11  salary K$       30162 non-null  int64 \n",
      "dtypes: int64(3), object(9)\n",
      "memory usage: 3.0+ MB\n"
     ]
    }
   ],
   "source": [
    "df = df.replace(\"?\", np.nan)\n",
    "df = df.dropna()\n",
    "df.info()"
   ],
   "metadata": {
    "collapsed": false,
    "ExecuteTime": {
     "end_time": "2024-04-21T12:29:07.183051200Z",
     "start_time": "2024-04-21T12:29:07.137625500Z"
    }
   },
   "execution_count": 83
  },
  {
   "cell_type": "markdown",
   "source": [
    "# Task 1\n",
    "Print the count of men and women in the dataset."
   ],
   "metadata": {
    "collapsed": false,
    "pycharm": {
     "name": "#%% md\n"
    }
   }
  },
  {
   "cell_type": "code",
   "execution_count": 35,
   "outputs": [
    {
     "data": {
      "text/plain": "'Male = 20380, Female = 9782'"
     },
     "execution_count": 35,
     "metadata": {},
     "output_type": "execute_result"
    }
   ],
   "source": [
    "male = df[\"sex\"].tolist().count(\"Male\")\n",
    "female = df[\"sex\"].tolist().count(\"Female\")\n",
    "print(f\"Male = {male}, Female = {female}\")"
   ],
   "metadata": {
    "collapsed": false,
    "pycharm": {
     "name": "#%%\n"
    },
    "ExecuteTime": {
     "end_time": "2024-04-21T10:56:49.478835500Z",
     "start_time": "2024-04-21T10:56:49.464806Z"
    }
   }
  },
  {
   "cell_type": "markdown",
   "source": [
    "# Task 2\n",
    "Find the average age of men in dataset"
   ],
   "metadata": {
    "collapsed": false,
    "pycharm": {
     "name": "#%% md\n"
    }
   }
  },
  {
   "cell_type": "code",
   "execution_count": 34,
   "outputs": [
    {
     "data": {
      "text/plain": "39.18400392541707"
     },
     "execution_count": 34,
     "metadata": {},
     "output_type": "execute_result"
    }
   ],
   "source": [
    "average_age_men = df[df[\"sex\"] == \"Male\"][\"age\"].mean()\n",
    "average_age_men"
   ],
   "metadata": {
    "collapsed": false,
    "pycharm": {
     "name": "#%%\n"
    },
    "ExecuteTime": {
     "end_time": "2024-04-21T10:55:42.109211100Z",
     "start_time": "2024-04-21T10:55:42.048104300Z"
    }
   }
  },
  {
   "cell_type": "markdown",
   "source": [
    "# Task 3\n",
    "Get the percentage of people from Poland (native-country)"
   ],
   "metadata": {
    "collapsed": false,
    "pycharm": {
     "name": "#%% md\n"
    }
   }
  },
  {
   "cell_type": "code",
   "execution_count": 41,
   "outputs": [
    {
     "data": {
      "text/plain": "'Percentage people from Poland 0.19%'"
     },
     "execution_count": 41,
     "metadata": {},
     "output_type": "execute_result"
    }
   ],
   "source": [
    "num_poland = len(df[df[\"native-country\"] == \"Poland\"])\n",
    "total_people = len(df)\n",
    "poland_percentage = (num_poland / total_people) * 100\n",
    "poland_percentage = round(poland_percentage, 2)\n",
    "print(f\"Percentage people from Poland {poland_percentage}%\")"
   ],
   "metadata": {
    "collapsed": false,
    "pycharm": {
     "name": "#%%\n"
    },
    "ExecuteTime": {
     "end_time": "2024-04-21T11:07:14.464350700Z",
     "start_time": "2024-04-21T11:07:14.453245900Z"
    }
   }
  },
  {
   "cell_type": "markdown",
   "source": [
    "# Task 4\n",
    "Get the mean and standard deviation of the age for people who earn > 50K per year. After this, get it for those who earn <= 50K."
   ],
   "metadata": {
    "collapsed": false,
    "pycharm": {
     "name": "#%% md\n"
    }
   }
  },
  {
   "cell_type": "code",
   "execution_count": 46,
   "outputs": [
    {
     "name": "stdout",
     "output_type": "stream",
     "text": [
      "Mean high earners: 38.437901995888865, Standard deviation high earners: 13.134664776855985\n",
      "Mean low earners: 38.437901995888865, Standard deviation low earners: 13.134664776855985\n"
     ]
    }
   ],
   "source": [
    "high_earners = df[df[\"salary\"] == \">50K\"]\n",
    "mean_age_high = df[\"age\"].mean()\n",
    "std_age_high = df[\"age\"].std()\n",
    "low_earners = df[df[\"salary\"] == \"<=50K\"]\n",
    "mean_age_low = df[\"age\"].mean()\n",
    "std_age_low = df[\"age\"].std()\n",
    "\n",
    "print(f\"Mean high earners: {mean_age_high}, Standard deviation high earners: {std_age_high}\\n\"\n",
    "f\"Mean low earners: {mean_age_low}, Standard deviation low earners: {std_age_low}\")"
   ],
   "metadata": {
    "collapsed": false,
    "pycharm": {
     "name": "#%%\n"
    },
    "ExecuteTime": {
     "end_time": "2024-04-21T11:17:00.205852600Z",
     "start_time": "2024-04-21T11:17:00.176031500Z"
    }
   }
  },
  {
   "cell_type": "markdown",
   "source": [
    "# Task 5\n",
    "Check, if there are some people without higher education (education: Bachelors, Prof-school, Assoc-acdm, Assoc-voc, Masters, Doctorate), but with > 50K salary"
   ],
   "metadata": {
    "collapsed": false,
    "pycharm": {
     "name": "#%% md\n"
    }
   }
  },
  {
   "cell_type": "code",
   "execution_count": 50,
   "outputs": [
    {
     "data": {
      "text/plain": "       age         workclass     education      marital-status  \\\n7       52  Self-emp-not-inc       HS-grad  Married-civ-spouse   \n10      37           Private  Some-college  Married-civ-spouse   \n55      43           Private  Some-college  Married-civ-spouse   \n67      53           Private       HS-grad  Married-civ-spouse   \n68      49      Self-emp-inc  Some-college  Married-civ-spouse   \n...    ...               ...           ...                 ...   \n32462   48      Self-emp-inc       HS-grad  Married-civ-spouse   \n32518   57         Local-gov       HS-grad  Married-civ-spouse   \n32519   46           Private  Some-college  Married-civ-spouse   \n32557   40           Private       HS-grad  Married-civ-spouse   \n32560   52      Self-emp-inc       HS-grad  Married-civ-spouse   \n\n              occupation relationship   race     sex  hours-per-week  \\\n7        Exec-managerial      Husband  White    Male              45   \n10       Exec-managerial      Husband  Black    Male              80   \n55          Tech-support      Husband  White    Male              40   \n67          Adm-clerical         Wife  White  Female              40   \n68       Exec-managerial      Husband  White    Male              50   \n...                  ...          ...    ...     ...             ...   \n32462       Craft-repair      Husband  White    Male              50   \n32518       Craft-repair      Husband  White    Male              40   \n32519    Exec-managerial      Husband  White    Male              48   \n32557  Machine-op-inspct      Husband  White    Male              40   \n32560    Exec-managerial         Wife  White  Female              40   \n\n      native-country salary  salary K$  \n7      United-States   >50K        307  \n10     United-States   >50K        116  \n55     United-States   >50K        341  \n67     United-States   >50K        225  \n68     United-States   >50K        194  \n...              ...    ...        ...  \n32462  United-States   >50K        343  \n32518  United-States   >50K        116  \n32519  United-States   >50K        239  \n32557  United-States   >50K        173  \n32560  United-States   >50K        243  \n\n[3178 rows x 12 columns]",
      "text/html": "<div>\n<style scoped>\n    .dataframe tbody tr th:only-of-type {\n        vertical-align: middle;\n    }\n\n    .dataframe tbody tr th {\n        vertical-align: top;\n    }\n\n    .dataframe thead th {\n        text-align: right;\n    }\n</style>\n<table border=\"1\" class=\"dataframe\">\n  <thead>\n    <tr style=\"text-align: right;\">\n      <th></th>\n      <th>age</th>\n      <th>workclass</th>\n      <th>education</th>\n      <th>marital-status</th>\n      <th>occupation</th>\n      <th>relationship</th>\n      <th>race</th>\n      <th>sex</th>\n      <th>hours-per-week</th>\n      <th>native-country</th>\n      <th>salary</th>\n      <th>salary K$</th>\n    </tr>\n  </thead>\n  <tbody>\n    <tr>\n      <th>7</th>\n      <td>52</td>\n      <td>Self-emp-not-inc</td>\n      <td>HS-grad</td>\n      <td>Married-civ-spouse</td>\n      <td>Exec-managerial</td>\n      <td>Husband</td>\n      <td>White</td>\n      <td>Male</td>\n      <td>45</td>\n      <td>United-States</td>\n      <td>&gt;50K</td>\n      <td>307</td>\n    </tr>\n    <tr>\n      <th>10</th>\n      <td>37</td>\n      <td>Private</td>\n      <td>Some-college</td>\n      <td>Married-civ-spouse</td>\n      <td>Exec-managerial</td>\n      <td>Husband</td>\n      <td>Black</td>\n      <td>Male</td>\n      <td>80</td>\n      <td>United-States</td>\n      <td>&gt;50K</td>\n      <td>116</td>\n    </tr>\n    <tr>\n      <th>55</th>\n      <td>43</td>\n      <td>Private</td>\n      <td>Some-college</td>\n      <td>Married-civ-spouse</td>\n      <td>Tech-support</td>\n      <td>Husband</td>\n      <td>White</td>\n      <td>Male</td>\n      <td>40</td>\n      <td>United-States</td>\n      <td>&gt;50K</td>\n      <td>341</td>\n    </tr>\n    <tr>\n      <th>67</th>\n      <td>53</td>\n      <td>Private</td>\n      <td>HS-grad</td>\n      <td>Married-civ-spouse</td>\n      <td>Adm-clerical</td>\n      <td>Wife</td>\n      <td>White</td>\n      <td>Female</td>\n      <td>40</td>\n      <td>United-States</td>\n      <td>&gt;50K</td>\n      <td>225</td>\n    </tr>\n    <tr>\n      <th>68</th>\n      <td>49</td>\n      <td>Self-emp-inc</td>\n      <td>Some-college</td>\n      <td>Married-civ-spouse</td>\n      <td>Exec-managerial</td>\n      <td>Husband</td>\n      <td>White</td>\n      <td>Male</td>\n      <td>50</td>\n      <td>United-States</td>\n      <td>&gt;50K</td>\n      <td>194</td>\n    </tr>\n    <tr>\n      <th>...</th>\n      <td>...</td>\n      <td>...</td>\n      <td>...</td>\n      <td>...</td>\n      <td>...</td>\n      <td>...</td>\n      <td>...</td>\n      <td>...</td>\n      <td>...</td>\n      <td>...</td>\n      <td>...</td>\n      <td>...</td>\n    </tr>\n    <tr>\n      <th>32462</th>\n      <td>48</td>\n      <td>Self-emp-inc</td>\n      <td>HS-grad</td>\n      <td>Married-civ-spouse</td>\n      <td>Craft-repair</td>\n      <td>Husband</td>\n      <td>White</td>\n      <td>Male</td>\n      <td>50</td>\n      <td>United-States</td>\n      <td>&gt;50K</td>\n      <td>343</td>\n    </tr>\n    <tr>\n      <th>32518</th>\n      <td>57</td>\n      <td>Local-gov</td>\n      <td>HS-grad</td>\n      <td>Married-civ-spouse</td>\n      <td>Craft-repair</td>\n      <td>Husband</td>\n      <td>White</td>\n      <td>Male</td>\n      <td>40</td>\n      <td>United-States</td>\n      <td>&gt;50K</td>\n      <td>116</td>\n    </tr>\n    <tr>\n      <th>32519</th>\n      <td>46</td>\n      <td>Private</td>\n      <td>Some-college</td>\n      <td>Married-civ-spouse</td>\n      <td>Exec-managerial</td>\n      <td>Husband</td>\n      <td>White</td>\n      <td>Male</td>\n      <td>48</td>\n      <td>United-States</td>\n      <td>&gt;50K</td>\n      <td>239</td>\n    </tr>\n    <tr>\n      <th>32557</th>\n      <td>40</td>\n      <td>Private</td>\n      <td>HS-grad</td>\n      <td>Married-civ-spouse</td>\n      <td>Machine-op-inspct</td>\n      <td>Husband</td>\n      <td>White</td>\n      <td>Male</td>\n      <td>40</td>\n      <td>United-States</td>\n      <td>&gt;50K</td>\n      <td>173</td>\n    </tr>\n    <tr>\n      <th>32560</th>\n      <td>52</td>\n      <td>Self-emp-inc</td>\n      <td>HS-grad</td>\n      <td>Married-civ-spouse</td>\n      <td>Exec-managerial</td>\n      <td>Wife</td>\n      <td>White</td>\n      <td>Female</td>\n      <td>40</td>\n      <td>United-States</td>\n      <td>&gt;50K</td>\n      <td>243</td>\n    </tr>\n  </tbody>\n</table>\n<p>3178 rows × 12 columns</p>\n</div>"
     },
     "execution_count": 50,
     "metadata": {},
     "output_type": "execute_result"
    }
   ],
   "source": [
    "higher_education = [\"Bachelors\", \"Prof-school\", \"Assoc-acdm\", \"Assoc-voc\", \"Masters\", \"Doctorate\"]\n",
    "people_without_higher_edu_high_salary = df[(~df[\"education\"].isin(higher_education)) & (df[\"salary\"] == \">50K\")]\n",
    "people_without_higher_edu_high_salary"
   ],
   "metadata": {
    "collapsed": false,
    "pycharm": {
     "name": "#%%\n"
    },
    "ExecuteTime": {
     "end_time": "2024-04-21T11:25:33.496440800Z",
     "start_time": "2024-04-21T11:25:33.459053200Z"
    }
   }
  },
  {
   "cell_type": "markdown",
   "source": [
    "# Task 6\n",
    "Get the statistics of age for each type of education. Use `groupby` and `describe` for this."
   ],
   "metadata": {
    "collapsed": false,
    "pycharm": {
     "name": "#%% md\n"
    }
   }
  },
  {
   "cell_type": "code",
   "execution_count": 51,
   "outputs": [
    {
     "data": {
      "text/plain": "               count       mean        std   min   25%   50%   75%   max\neducation                                                               \n10th           820.0  37.897561  16.225795  17.0  23.0  36.0  52.0  90.0\n11th          1048.0  32.363550  15.089307  17.0  18.0  28.5  43.0  90.0\n12th           377.0  32.013263  14.373710  17.0  19.0  28.0  41.0  79.0\n1st-4th        151.0  44.622517  14.929051  19.0  33.0  44.0  56.0  81.0\n5th-6th        288.0  41.649306  14.754622  17.0  28.0  41.0  53.0  82.0\n7th-8th        557.0  47.631957  15.737479  17.0  34.0  49.0  60.0  90.0\n9th            455.0  40.303297  15.335754  17.0  28.0  38.0  53.0  90.0\nAssoc-acdm    1008.0  37.286706  10.509755  19.0  29.0  36.0  44.0  90.0\nAssoc-voc     1307.0  38.246366  11.181253  19.0  30.0  37.0  45.0  84.0\nBachelors     5044.0  38.641554  11.577566  19.0  29.0  37.0  46.0  90.0\nDoctorate      375.0  47.130667  11.471727  24.0  39.0  47.0  54.0  80.0\nHS-grad       9840.0  38.640955  13.067730  17.0  28.0  37.0  48.0  90.0\nMasters       1627.0  43.740012  10.735356  18.0  36.0  43.0  50.0  90.0\nPreschool       45.0  41.288889  15.175672  19.0  30.0  40.0  53.0  75.0\nProf-school    542.0  44.249077  11.428098  25.0  36.0  43.0  50.0  90.0\nSome-college  6678.0  36.135370  13.073528  17.0  25.0  35.0  45.0  90.0",
      "text/html": "<div>\n<style scoped>\n    .dataframe tbody tr th:only-of-type {\n        vertical-align: middle;\n    }\n\n    .dataframe tbody tr th {\n        vertical-align: top;\n    }\n\n    .dataframe thead th {\n        text-align: right;\n    }\n</style>\n<table border=\"1\" class=\"dataframe\">\n  <thead>\n    <tr style=\"text-align: right;\">\n      <th></th>\n      <th>count</th>\n      <th>mean</th>\n      <th>std</th>\n      <th>min</th>\n      <th>25%</th>\n      <th>50%</th>\n      <th>75%</th>\n      <th>max</th>\n    </tr>\n    <tr>\n      <th>education</th>\n      <th></th>\n      <th></th>\n      <th></th>\n      <th></th>\n      <th></th>\n      <th></th>\n      <th></th>\n      <th></th>\n    </tr>\n  </thead>\n  <tbody>\n    <tr>\n      <th>10th</th>\n      <td>820.0</td>\n      <td>37.897561</td>\n      <td>16.225795</td>\n      <td>17.0</td>\n      <td>23.0</td>\n      <td>36.0</td>\n      <td>52.0</td>\n      <td>90.0</td>\n    </tr>\n    <tr>\n      <th>11th</th>\n      <td>1048.0</td>\n      <td>32.363550</td>\n      <td>15.089307</td>\n      <td>17.0</td>\n      <td>18.0</td>\n      <td>28.5</td>\n      <td>43.0</td>\n      <td>90.0</td>\n    </tr>\n    <tr>\n      <th>12th</th>\n      <td>377.0</td>\n      <td>32.013263</td>\n      <td>14.373710</td>\n      <td>17.0</td>\n      <td>19.0</td>\n      <td>28.0</td>\n      <td>41.0</td>\n      <td>79.0</td>\n    </tr>\n    <tr>\n      <th>1st-4th</th>\n      <td>151.0</td>\n      <td>44.622517</td>\n      <td>14.929051</td>\n      <td>19.0</td>\n      <td>33.0</td>\n      <td>44.0</td>\n      <td>56.0</td>\n      <td>81.0</td>\n    </tr>\n    <tr>\n      <th>5th-6th</th>\n      <td>288.0</td>\n      <td>41.649306</td>\n      <td>14.754622</td>\n      <td>17.0</td>\n      <td>28.0</td>\n      <td>41.0</td>\n      <td>53.0</td>\n      <td>82.0</td>\n    </tr>\n    <tr>\n      <th>7th-8th</th>\n      <td>557.0</td>\n      <td>47.631957</td>\n      <td>15.737479</td>\n      <td>17.0</td>\n      <td>34.0</td>\n      <td>49.0</td>\n      <td>60.0</td>\n      <td>90.0</td>\n    </tr>\n    <tr>\n      <th>9th</th>\n      <td>455.0</td>\n      <td>40.303297</td>\n      <td>15.335754</td>\n      <td>17.0</td>\n      <td>28.0</td>\n      <td>38.0</td>\n      <td>53.0</td>\n      <td>90.0</td>\n    </tr>\n    <tr>\n      <th>Assoc-acdm</th>\n      <td>1008.0</td>\n      <td>37.286706</td>\n      <td>10.509755</td>\n      <td>19.0</td>\n      <td>29.0</td>\n      <td>36.0</td>\n      <td>44.0</td>\n      <td>90.0</td>\n    </tr>\n    <tr>\n      <th>Assoc-voc</th>\n      <td>1307.0</td>\n      <td>38.246366</td>\n      <td>11.181253</td>\n      <td>19.0</td>\n      <td>30.0</td>\n      <td>37.0</td>\n      <td>45.0</td>\n      <td>84.0</td>\n    </tr>\n    <tr>\n      <th>Bachelors</th>\n      <td>5044.0</td>\n      <td>38.641554</td>\n      <td>11.577566</td>\n      <td>19.0</td>\n      <td>29.0</td>\n      <td>37.0</td>\n      <td>46.0</td>\n      <td>90.0</td>\n    </tr>\n    <tr>\n      <th>Doctorate</th>\n      <td>375.0</td>\n      <td>47.130667</td>\n      <td>11.471727</td>\n      <td>24.0</td>\n      <td>39.0</td>\n      <td>47.0</td>\n      <td>54.0</td>\n      <td>80.0</td>\n    </tr>\n    <tr>\n      <th>HS-grad</th>\n      <td>9840.0</td>\n      <td>38.640955</td>\n      <td>13.067730</td>\n      <td>17.0</td>\n      <td>28.0</td>\n      <td>37.0</td>\n      <td>48.0</td>\n      <td>90.0</td>\n    </tr>\n    <tr>\n      <th>Masters</th>\n      <td>1627.0</td>\n      <td>43.740012</td>\n      <td>10.735356</td>\n      <td>18.0</td>\n      <td>36.0</td>\n      <td>43.0</td>\n      <td>50.0</td>\n      <td>90.0</td>\n    </tr>\n    <tr>\n      <th>Preschool</th>\n      <td>45.0</td>\n      <td>41.288889</td>\n      <td>15.175672</td>\n      <td>19.0</td>\n      <td>30.0</td>\n      <td>40.0</td>\n      <td>53.0</td>\n      <td>75.0</td>\n    </tr>\n    <tr>\n      <th>Prof-school</th>\n      <td>542.0</td>\n      <td>44.249077</td>\n      <td>11.428098</td>\n      <td>25.0</td>\n      <td>36.0</td>\n      <td>43.0</td>\n      <td>50.0</td>\n      <td>90.0</td>\n    </tr>\n    <tr>\n      <th>Some-college</th>\n      <td>6678.0</td>\n      <td>36.135370</td>\n      <td>13.073528</td>\n      <td>17.0</td>\n      <td>25.0</td>\n      <td>35.0</td>\n      <td>45.0</td>\n      <td>90.0</td>\n    </tr>\n  </tbody>\n</table>\n</div>"
     },
     "execution_count": 51,
     "metadata": {},
     "output_type": "execute_result"
    }
   ],
   "source": [
    "age_stats_by_education = df.groupby(\"education\")[\"age\"].describe()\n",
    "age_stats_by_education"
   ],
   "metadata": {
    "collapsed": false,
    "pycharm": {
     "name": "#%%\n"
    },
    "ExecuteTime": {
     "end_time": "2024-04-21T11:35:52.384379900Z",
     "start_time": "2024-04-21T11:35:52.274682200Z"
    }
   }
  },
  {
   "cell_type": "markdown",
   "source": [
    "# Task 7\n",
    "Compare the married and non-married men salaries. Who earns more? (>50K or <=50K)\n",
    "Married men are those, whom `marital-status` starts with \"Married\". Others are not."
   ],
   "metadata": {
    "collapsed": false,
    "pycharm": {
     "name": "#%% md\n"
    }
   }
  },
  {
   "cell_type": "code",
   "execution_count": 57,
   "outputs": [
    {
     "data": {
      "text/plain": "(salary\n <=50K    7052\n >50K     5723\n dtype: int64,\n salary\n <=50K    6932\n >50K      673\n dtype: int64)"
     },
     "execution_count": 57,
     "metadata": {},
     "output_type": "execute_result"
    }
   ],
   "source": [
    "males = df[df[\"sex\"] == \"Male\"]\n",
    "married_arr = [\"Married-civ-spouse\", \"Married-spouse-absent\", \"Married-AF-spouse\"]\n",
    "non_married_arr = [\"Never-married\", \"Divorced\", \"Separated\", \"Widowed\"]\n",
    "mar = males[males[\"marital-status\"].isin(married_arr)].groupby(\"salary\").size()\n",
    "n_mar = males[males[\"marital-status\"].isin(non_married_arr)].groupby(\"salary\").size()\n",
    "mar, n_mar"
   ],
   "metadata": {
    "collapsed": false,
    "pycharm": {
     "name": "#%%\n"
    },
    "ExecuteTime": {
     "end_time": "2024-04-21T11:48:25.035966900Z",
     "start_time": "2024-04-21T11:48:25.011318200Z"
    }
   }
  },
  {
   "cell_type": "markdown",
   "source": [
    "# Task 8\n",
    "Get the max hours per week some person works. How many people works the same amount of hours per week?"
   ],
   "metadata": {
    "collapsed": false,
    "pycharm": {
     "name": "#%% md\n"
    }
   }
  },
  {
   "cell_type": "code",
   "execution_count": 65,
   "outputs": [
    {
     "name": "stdout",
     "output_type": "stream",
     "text": [
      "The maximum hours per week that someone works is: 99\n",
      "Count people who works the same count of hours: 78\n"
     ]
    }
   ],
   "source": [
    "max_hours_per_week = df[\"hours-per-week\"].max()\n",
    "num_people_max_hours = len(df[df[\"hours-per-week\"] == max_hours_per_week])\n",
    "print(f\"The maximum hours per week that someone works is: {max_hours_per_week}\")\n",
    "print(f\"Count people who works the same count of hours: {num_people_max_hours}\")\n"
   ],
   "metadata": {
    "collapsed": false,
    "pycharm": {
     "name": "#%%\n"
    },
    "ExecuteTime": {
     "end_time": "2024-04-21T11:56:28.619311800Z",
     "start_time": "2024-04-21T11:56:28.606312200Z"
    }
   }
  },
  {
   "cell_type": "markdown",
   "source": [
    "# Task 9\n",
    "Analyze the correlation between data in dataset. Understand connected fields in it and print highlight their connection."
   ],
   "metadata": {
    "collapsed": false,
    "pycharm": {
     "name": "#%% md\n"
    }
   }
  },
  {
   "cell_type": "code",
   "execution_count": 78,
   "outputs": [
    {
     "data": {
      "text/plain": "                                   age  hours-per-week  salary K$  \\\nage                           1.000000        0.101599   0.208203   \nhours-per-week                0.101599        1.000000   0.196378   \nsalary K$                     0.208203        0.196378   1.000000   \nworkclass_Federal-gov         0.056626        0.005229   0.050512   \nworkclass_Local-gov           0.068256        0.001612   0.025856   \n...                                ...             ...        ...   \nnative-country_United-States  0.016259        0.010673   0.034000   \nnative-country_Vietnam       -0.017775       -0.010381  -0.014737   \nnative-country_Yugoslavia     0.000657        0.006983   0.008560   \nsalary_<=50K                 -0.241998       -0.229480  -0.853894   \nsalary_>50K                   0.241998        0.229480   0.853894   \n\n                              workclass_Federal-gov  workclass_Local-gov  \\\nage                                        0.056626             0.068256   \nhours-per-week                             0.005229             0.001612   \nsalary K$                                  0.050512             0.025856   \nworkclass_Federal-gov                      1.000000            -0.048728   \nworkclass_Local-gov                       -0.048728             1.000000   \n...                                             ...                  ...   \nnative-country_United-States               0.017541             0.032937   \nnative-country_Vietnam                    -0.000004            -0.003952   \nnative-country_Yugoslavia                 -0.004139            -0.000550   \nsalary_<=50K                              -0.057394            -0.028673   \nsalary_>50K                                0.057394             0.028673   \n\n                              workclass_Private  workclass_Self-emp-inc  \\\nage                                   -0.210491                0.111039   \nhours-per-week                        -0.095533                0.126254   \nsalary K$                             -0.098187                0.119222   \nworkclass_Federal-gov                 -0.302194               -0.034520   \nworkclass_Local-gov                   -0.456267               -0.052120   \n...                                         ...                     ...   \nnative-country_United-States          -0.049809                0.007350   \nnative-country_Vietnam                 0.009369               -0.004973   \nnative-country_Yugoslavia              0.003861                0.003343   \nsalary_<=50K                           0.117218               -0.137646   \nsalary_>50K                           -0.117218                0.137646   \n\n                              workclass_Self-emp-not-inc  workclass_State-gov  \\\nage                                             0.150429             0.014805   \nhours-per-week                                  0.087835            -0.032976   \nsalary K$                                       0.019587             0.002678   \nworkclass_Federal-gov                          -0.053995            -0.037804   \nworkclass_Local-gov                            -0.081525            -0.057078   \n...                                                  ...                  ...   \nnative-country_United-States                    0.014520             0.025370   \nnative-country_Vietnam                         -0.003405            -0.006128   \nnative-country_Yugoslavia                      -0.001701            -0.004848   \nsalary_<=50K                                   -0.025575            -0.009752   \nsalary_>50K                                     0.025575             0.009752   \n\n                              workclass_Without-pay  ...  \\\nage                                        0.015337  ...   \nhours-per-week                            -0.014781  ...   \nsalary K$                                 -0.010522  ...   \nworkclass_Federal-gov                     -0.003871  ...   \nworkclass_Local-gov                       -0.005845  ...   \n...                                             ...  ...   \nnative-country_United-States               0.001269  ...   \nnative-country_Vietnam                    -0.000994  ...   \nnative-country_Yugoslavia                 -0.000496  ...   \nsalary_<=50K                               0.012406  ...   \nsalary_>50K                               -0.012406  ...   \n\n                              native-country_Scotland  native-country_South  \\\nage                                          0.000024              0.001923   \nhours-per-week                               0.000689              0.014328   \nsalary K$                                   -0.001498             -0.006514   \nworkclass_Federal-gov                       -0.003431             -0.004795   \nworkclass_Local-gov                         -0.005181             -0.013175   \n...                                               ...                   ...   \nnative-country_United-States                -0.061442             -0.156254   \nnative-country_Vietnam                      -0.000881             -0.002240   \nnative-country_Yugoslavia                   -0.000440             -0.001119   \nsalary_<=50K                                 0.002964              0.005812   \nsalary_>50K                                 -0.002964             -0.005812   \n\n                              native-country_Taiwan  native-country_Thailand  \\\nage                                       -0.007879                -0.004940   \nhours-per-week                            -0.000305                 0.012846   \nsalary K$                                  0.016939                -0.000891   \nworkclass_Federal-gov                     -0.006708                -0.004266   \nworkclass_Local-gov                       -0.003091                -0.006441   \n...                                             ...                      ...   \nnative-country_United-States              -0.120121                -0.076390   \nnative-country_Vietnam                    -0.001722                -0.001095   \nnative-country_Yugoslavia                 -0.000860                -0.000547   \nsalary_<=50K                              -0.017571                 0.003979   \nsalary_>50K                                0.017571                -0.003979   \n\n                              native-country_Trinadad&Tobago  \\\nage                                                 0.007868   \nhours-per-week                                     -0.007566   \nsalary K$                                          -0.003442   \nworkclass_Federal-gov                              -0.004390   \nworkclass_Local-gov                                -0.001255   \n...                                                      ...   \nnative-country_United-States                       -0.078606   \nnative-country_Vietnam                             -0.001127   \nnative-country_Yugoslavia                          -0.000563   \nsalary_<=50K                                        0.007788   \nsalary_>50K                                        -0.007788   \n\n                              native-country_United-States  \\\nage                                               0.016259   \nhours-per-week                                    0.010673   \nsalary K$                                         0.034000   \nworkclass_Federal-gov                             0.017541   \nworkclass_Local-gov                               0.032937   \n...                                                    ...   \nnative-country_United-States                      1.000000   \nnative-country_Vietnam                           -0.148334   \nnative-country_Yugoslavia                        -0.074108   \nsalary_<=50K                                     -0.040204   \nsalary_>50K                                       0.040204   \n\n                              native-country_Vietnam  \\\nage                                        -0.017775   \nhours-per-week                             -0.010381   \nsalary K$                                  -0.014737   \nworkclass_Federal-gov                      -0.000004   \nworkclass_Local-gov                        -0.003952   \n...                                              ...   \nnative-country_United-States               -0.148334   \nnative-country_Vietnam                      1.000000   \nnative-country_Yugoslavia                  -0.001062   \nsalary_<=50K                                0.018215   \nsalary_>50K                                -0.018215   \n\n                              native-country_Yugoslavia  salary_<=50K  \\\nage                                            0.000657     -0.241998   \nhours-per-week                                 0.006983     -0.229480   \nsalary K$                                      0.008560     -0.853894   \nworkclass_Federal-gov                         -0.004139     -0.057394   \nworkclass_Local-gov                           -0.000550     -0.028673   \n...                                                 ...           ...   \nnative-country_United-States                  -0.074108     -0.040204   \nnative-country_Vietnam                        -0.001062      0.018215   \nnative-country_Yugoslavia                      1.000000     -0.006718   \nsalary_<=50K                                  -0.006718      1.000000   \nsalary_>50K                                    0.006718     -1.000000   \n\n                              salary_>50K  \nage                              0.241998  \nhours-per-week                   0.229480  \nsalary K$                        0.853894  \nworkclass_Federal-gov            0.057394  \nworkclass_Local-gov              0.028673  \n...                                   ...  \nnative-country_United-States     0.040204  \nnative-country_Vietnam          -0.018215  \nnative-country_Yugoslavia        0.006718  \nsalary_<=50K                    -1.000000  \nsalary_>50K                      1.000000  \n\n[103 rows x 103 columns]",
      "text/html": "<div>\n<style scoped>\n    .dataframe tbody tr th:only-of-type {\n        vertical-align: middle;\n    }\n\n    .dataframe tbody tr th {\n        vertical-align: top;\n    }\n\n    .dataframe thead th {\n        text-align: right;\n    }\n</style>\n<table border=\"1\" class=\"dataframe\">\n  <thead>\n    <tr style=\"text-align: right;\">\n      <th></th>\n      <th>age</th>\n      <th>hours-per-week</th>\n      <th>salary K$</th>\n      <th>workclass_Federal-gov</th>\n      <th>workclass_Local-gov</th>\n      <th>workclass_Private</th>\n      <th>workclass_Self-emp-inc</th>\n      <th>workclass_Self-emp-not-inc</th>\n      <th>workclass_State-gov</th>\n      <th>workclass_Without-pay</th>\n      <th>...</th>\n      <th>native-country_Scotland</th>\n      <th>native-country_South</th>\n      <th>native-country_Taiwan</th>\n      <th>native-country_Thailand</th>\n      <th>native-country_Trinadad&amp;Tobago</th>\n      <th>native-country_United-States</th>\n      <th>native-country_Vietnam</th>\n      <th>native-country_Yugoslavia</th>\n      <th>salary_&lt;=50K</th>\n      <th>salary_&gt;50K</th>\n    </tr>\n  </thead>\n  <tbody>\n    <tr>\n      <th>age</th>\n      <td>1.000000</td>\n      <td>0.101599</td>\n      <td>0.208203</td>\n      <td>0.056626</td>\n      <td>0.068256</td>\n      <td>-0.210491</td>\n      <td>0.111039</td>\n      <td>0.150429</td>\n      <td>0.014805</td>\n      <td>0.015337</td>\n      <td>...</td>\n      <td>0.000024</td>\n      <td>0.001923</td>\n      <td>-0.007879</td>\n      <td>-0.004940</td>\n      <td>0.007868</td>\n      <td>0.016259</td>\n      <td>-0.017775</td>\n      <td>0.000657</td>\n      <td>-0.241998</td>\n      <td>0.241998</td>\n    </tr>\n    <tr>\n      <th>hours-per-week</th>\n      <td>0.101599</td>\n      <td>1.000000</td>\n      <td>0.196378</td>\n      <td>0.005229</td>\n      <td>0.001612</td>\n      <td>-0.095533</td>\n      <td>0.126254</td>\n      <td>0.087835</td>\n      <td>-0.032976</td>\n      <td>-0.014781</td>\n      <td>...</td>\n      <td>0.000689</td>\n      <td>0.014328</td>\n      <td>-0.000305</td>\n      <td>0.012846</td>\n      <td>-0.007566</td>\n      <td>0.010673</td>\n      <td>-0.010381</td>\n      <td>0.006983</td>\n      <td>-0.229480</td>\n      <td>0.229480</td>\n    </tr>\n    <tr>\n      <th>salary K$</th>\n      <td>0.208203</td>\n      <td>0.196378</td>\n      <td>1.000000</td>\n      <td>0.050512</td>\n      <td>0.025856</td>\n      <td>-0.098187</td>\n      <td>0.119222</td>\n      <td>0.019587</td>\n      <td>0.002678</td>\n      <td>-0.010522</td>\n      <td>...</td>\n      <td>-0.001498</td>\n      <td>-0.006514</td>\n      <td>0.016939</td>\n      <td>-0.000891</td>\n      <td>-0.003442</td>\n      <td>0.034000</td>\n      <td>-0.014737</td>\n      <td>0.008560</td>\n      <td>-0.853894</td>\n      <td>0.853894</td>\n    </tr>\n    <tr>\n      <th>workclass_Federal-gov</th>\n      <td>0.056626</td>\n      <td>0.005229</td>\n      <td>0.050512</td>\n      <td>1.000000</td>\n      <td>-0.048728</td>\n      <td>-0.302194</td>\n      <td>-0.034520</td>\n      <td>-0.053995</td>\n      <td>-0.037804</td>\n      <td>-0.003871</td>\n      <td>...</td>\n      <td>-0.003431</td>\n      <td>-0.004795</td>\n      <td>-0.006708</td>\n      <td>-0.004266</td>\n      <td>-0.004390</td>\n      <td>0.017541</td>\n      <td>-0.000004</td>\n      <td>-0.004139</td>\n      <td>-0.057394</td>\n      <td>0.057394</td>\n    </tr>\n    <tr>\n      <th>workclass_Local-gov</th>\n      <td>0.068256</td>\n      <td>0.001612</td>\n      <td>0.025856</td>\n      <td>-0.048728</td>\n      <td>1.000000</td>\n      <td>-0.456267</td>\n      <td>-0.052120</td>\n      <td>-0.081525</td>\n      <td>-0.057078</td>\n      <td>-0.005845</td>\n      <td>...</td>\n      <td>-0.005181</td>\n      <td>-0.013175</td>\n      <td>-0.003091</td>\n      <td>-0.006441</td>\n      <td>-0.001255</td>\n      <td>0.032937</td>\n      <td>-0.003952</td>\n      <td>-0.000550</td>\n      <td>-0.028673</td>\n      <td>0.028673</td>\n    </tr>\n    <tr>\n      <th>...</th>\n      <td>...</td>\n      <td>...</td>\n      <td>...</td>\n      <td>...</td>\n      <td>...</td>\n      <td>...</td>\n      <td>...</td>\n      <td>...</td>\n      <td>...</td>\n      <td>...</td>\n      <td>...</td>\n      <td>...</td>\n      <td>...</td>\n      <td>...</td>\n      <td>...</td>\n      <td>...</td>\n      <td>...</td>\n      <td>...</td>\n      <td>...</td>\n      <td>...</td>\n      <td>...</td>\n    </tr>\n    <tr>\n      <th>native-country_United-States</th>\n      <td>0.016259</td>\n      <td>0.010673</td>\n      <td>0.034000</td>\n      <td>0.017541</td>\n      <td>0.032937</td>\n      <td>-0.049809</td>\n      <td>0.007350</td>\n      <td>0.014520</td>\n      <td>0.025370</td>\n      <td>0.001269</td>\n      <td>...</td>\n      <td>-0.061442</td>\n      <td>-0.156254</td>\n      <td>-0.120121</td>\n      <td>-0.076390</td>\n      <td>-0.078606</td>\n      <td>1.000000</td>\n      <td>-0.148334</td>\n      <td>-0.074108</td>\n      <td>-0.040204</td>\n      <td>0.040204</td>\n    </tr>\n    <tr>\n      <th>native-country_Vietnam</th>\n      <td>-0.017775</td>\n      <td>-0.010381</td>\n      <td>-0.014737</td>\n      <td>-0.000004</td>\n      <td>-0.003952</td>\n      <td>0.009369</td>\n      <td>-0.004973</td>\n      <td>-0.003405</td>\n      <td>-0.006128</td>\n      <td>-0.000994</td>\n      <td>...</td>\n      <td>-0.000881</td>\n      <td>-0.002240</td>\n      <td>-0.001722</td>\n      <td>-0.001095</td>\n      <td>-0.001127</td>\n      <td>-0.148334</td>\n      <td>1.000000</td>\n      <td>-0.001062</td>\n      <td>0.018215</td>\n      <td>-0.018215</td>\n    </tr>\n    <tr>\n      <th>native-country_Yugoslavia</th>\n      <td>0.000657</td>\n      <td>0.006983</td>\n      <td>0.008560</td>\n      <td>-0.004139</td>\n      <td>-0.000550</td>\n      <td>0.003861</td>\n      <td>0.003343</td>\n      <td>-0.001701</td>\n      <td>-0.004848</td>\n      <td>-0.000496</td>\n      <td>...</td>\n      <td>-0.000440</td>\n      <td>-0.001119</td>\n      <td>-0.000860</td>\n      <td>-0.000547</td>\n      <td>-0.000563</td>\n      <td>-0.074108</td>\n      <td>-0.001062</td>\n      <td>1.000000</td>\n      <td>-0.006718</td>\n      <td>0.006718</td>\n    </tr>\n    <tr>\n      <th>salary_&lt;=50K</th>\n      <td>-0.241998</td>\n      <td>-0.229480</td>\n      <td>-0.853894</td>\n      <td>-0.057394</td>\n      <td>-0.028673</td>\n      <td>0.117218</td>\n      <td>-0.137646</td>\n      <td>-0.025575</td>\n      <td>-0.009752</td>\n      <td>0.012406</td>\n      <td>...</td>\n      <td>0.002964</td>\n      <td>0.005812</td>\n      <td>-0.017571</td>\n      <td>0.003979</td>\n      <td>0.007788</td>\n      <td>-0.040204</td>\n      <td>0.018215</td>\n      <td>-0.006718</td>\n      <td>1.000000</td>\n      <td>-1.000000</td>\n    </tr>\n    <tr>\n      <th>salary_&gt;50K</th>\n      <td>0.241998</td>\n      <td>0.229480</td>\n      <td>0.853894</td>\n      <td>0.057394</td>\n      <td>0.028673</td>\n      <td>-0.117218</td>\n      <td>0.137646</td>\n      <td>0.025575</td>\n      <td>0.009752</td>\n      <td>-0.012406</td>\n      <td>...</td>\n      <td>-0.002964</td>\n      <td>-0.005812</td>\n      <td>0.017571</td>\n      <td>-0.003979</td>\n      <td>-0.007788</td>\n      <td>0.040204</td>\n      <td>-0.018215</td>\n      <td>0.006718</td>\n      <td>-1.000000</td>\n      <td>1.000000</td>\n    </tr>\n  </tbody>\n</table>\n<p>103 rows × 103 columns</p>\n</div>"
     },
     "execution_count": 78,
     "metadata": {},
     "output_type": "execute_result"
    }
   ],
   "source": [
    "df_encoded = pd.get_dummies(df)\n",
    "correlation_matrix = df_encoded.corr()\n",
    "correlation_matrix"
   ],
   "metadata": {
    "collapsed": false,
    "pycharm": {
     "name": "#%%\n"
    },
    "ExecuteTime": {
     "end_time": "2024-04-21T12:14:30.592148100Z",
     "start_time": "2024-04-21T12:14:29.857765900Z"
    }
   }
  }
 ],
 "metadata": {
  "kernelspec": {
   "display_name": "Python 3",
   "language": "python",
   "name": "python3"
  },
  "language_info": {
   "codemirror_mode": {
    "name": "ipython",
    "version": 2
   },
   "file_extension": ".py",
   "mimetype": "text/x-python",
   "name": "python",
   "nbconvert_exporter": "python",
   "pygments_lexer": "ipython2",
   "version": "2.7.6"
  }
 },
 "nbformat": 4,
 "nbformat_minor": 0
}
