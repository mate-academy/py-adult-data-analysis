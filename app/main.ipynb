{
 "cells": [
  {
   "cell_type": "code",
   "execution_count": 21,
   "outputs": [],
   "source": [
    "import os\n",
    "\n",
    "import numpy as np\n",
    "import pandas as pd\n",
    "\n",
    "from os.path import abspath"
   ],
   "metadata": {
    "collapsed": false,
    "pycharm": {
     "name": "#%%\n"
    },
    "ExecuteTime": {
     "end_time": "2024-02-05T13:11:29.895219900Z",
     "start_time": "2024-02-05T13:11:29.845470100Z"
    }
   }
  },
  {
   "cell_type": "markdown",
   "source": [
    "# Task 0\n",
    "Read the dataset from csv file & perform data cleaning - remove all rows, which contains `?` in some columns.\n",
    "Also check for data correctness (salary & salary $K)."
   ],
   "metadata": {
    "collapsed": false,
    "pycharm": {
     "name": "#%% md\n"
    }
   }
  },
  {
   "cell_type": "code",
   "execution_count": 22,
   "outputs": [
    {
     "data": {
      "text/plain": "   Unnamed: 0  age         workclass  education      marital-status  \\\n0           0   39         State-gov  Bachelors       Never-married   \n1           1   50  Self-emp-not-inc  Bachelors  Married-civ-spouse   \n2           2   38           Private    HS-grad            Divorced   \n3           3   53           Private       11th  Married-civ-spouse   \n4           4   28           Private  Bachelors  Married-civ-spouse   \n\n          occupation   relationship   race     sex  hours-per-week  \\\n0       Adm-clerical  Not-in-family  White    Male              40   \n1    Exec-managerial        Husband  White    Male              13   \n2  Handlers-cleaners  Not-in-family  White    Male              40   \n3  Handlers-cleaners        Husband  Black    Male              40   \n4     Prof-specialty           Wife  Black  Female              40   \n\n  native-country salary  salary K$  \n0  United-States  <=50K         39  \n1  United-States  <=50K         35  \n2  United-States  <=50K         27  \n3  United-States  <=50K         43  \n4           Cuba  <=50K         25  ",
      "text/html": "<div>\n<style scoped>\n    .dataframe tbody tr th:only-of-type {\n        vertical-align: middle;\n    }\n\n    .dataframe tbody tr th {\n        vertical-align: top;\n    }\n\n    .dataframe thead th {\n        text-align: right;\n    }\n</style>\n<table border=\"1\" class=\"dataframe\">\n  <thead>\n    <tr style=\"text-align: right;\">\n      <th></th>\n      <th>Unnamed: 0</th>\n      <th>age</th>\n      <th>workclass</th>\n      <th>education</th>\n      <th>marital-status</th>\n      <th>occupation</th>\n      <th>relationship</th>\n      <th>race</th>\n      <th>sex</th>\n      <th>hours-per-week</th>\n      <th>native-country</th>\n      <th>salary</th>\n      <th>salary K$</th>\n    </tr>\n  </thead>\n  <tbody>\n    <tr>\n      <th>0</th>\n      <td>0</td>\n      <td>39</td>\n      <td>State-gov</td>\n      <td>Bachelors</td>\n      <td>Never-married</td>\n      <td>Adm-clerical</td>\n      <td>Not-in-family</td>\n      <td>White</td>\n      <td>Male</td>\n      <td>40</td>\n      <td>United-States</td>\n      <td>&lt;=50K</td>\n      <td>39</td>\n    </tr>\n    <tr>\n      <th>1</th>\n      <td>1</td>\n      <td>50</td>\n      <td>Self-emp-not-inc</td>\n      <td>Bachelors</td>\n      <td>Married-civ-spouse</td>\n      <td>Exec-managerial</td>\n      <td>Husband</td>\n      <td>White</td>\n      <td>Male</td>\n      <td>13</td>\n      <td>United-States</td>\n      <td>&lt;=50K</td>\n      <td>35</td>\n    </tr>\n    <tr>\n      <th>2</th>\n      <td>2</td>\n      <td>38</td>\n      <td>Private</td>\n      <td>HS-grad</td>\n      <td>Divorced</td>\n      <td>Handlers-cleaners</td>\n      <td>Not-in-family</td>\n      <td>White</td>\n      <td>Male</td>\n      <td>40</td>\n      <td>United-States</td>\n      <td>&lt;=50K</td>\n      <td>27</td>\n    </tr>\n    <tr>\n      <th>3</th>\n      <td>3</td>\n      <td>53</td>\n      <td>Private</td>\n      <td>11th</td>\n      <td>Married-civ-spouse</td>\n      <td>Handlers-cleaners</td>\n      <td>Husband</td>\n      <td>Black</td>\n      <td>Male</td>\n      <td>40</td>\n      <td>United-States</td>\n      <td>&lt;=50K</td>\n      <td>43</td>\n    </tr>\n    <tr>\n      <th>4</th>\n      <td>4</td>\n      <td>28</td>\n      <td>Private</td>\n      <td>Bachelors</td>\n      <td>Married-civ-spouse</td>\n      <td>Prof-specialty</td>\n      <td>Wife</td>\n      <td>Black</td>\n      <td>Female</td>\n      <td>40</td>\n      <td>Cuba</td>\n      <td>&lt;=50K</td>\n      <td>25</td>\n    </tr>\n  </tbody>\n</table>\n</div>"
     },
     "execution_count": 22,
     "metadata": {},
     "output_type": "execute_result"
    }
   ],
   "source": [
    "\n",
    "data = pd.read_csv(abspath(r\"E:\\git\\py-adult-data-analysis\\data\\adult.csv\"))\n",
    "df = pd.DataFrame(data)\n",
    "df.head()"
   ],
   "metadata": {
    "collapsed": false,
    "pycharm": {
     "name": "#%%\n"
    },
    "ExecuteTime": {
     "end_time": "2024-02-05T13:11:30.023443600Z",
     "start_time": "2024-02-05T13:11:29.857527900Z"
    }
   }
  },
  {
   "cell_type": "code",
   "execution_count": 23,
   "outputs": [
    {
     "data": {
      "text/plain": "   Unnamed: 0  age         workclass  education      marital-status  \\\n0           0   39         State-gov  Bachelors       Never-married   \n1           1   50  Self-emp-not-inc  Bachelors  Married-civ-spouse   \n2           2   38           Private    HS-grad            Divorced   \n3           3   53           Private       11th  Married-civ-spouse   \n4           4   28           Private  Bachelors  Married-civ-spouse   \n\n          occupation   relationship   race     sex  hours-per-week  \\\n0       Adm-clerical  Not-in-family  White    Male              40   \n1    Exec-managerial        Husband  White    Male              13   \n2  Handlers-cleaners  Not-in-family  White    Male              40   \n3  Handlers-cleaners        Husband  Black    Male              40   \n4     Prof-specialty           Wife  Black  Female              40   \n\n  native-country salary  salary K$  \n0  United-States  <=50K         39  \n1  United-States  <=50K         35  \n2  United-States  <=50K         27  \n3  United-States  <=50K         43  \n4           Cuba  <=50K         25  ",
      "text/html": "<div>\n<style scoped>\n    .dataframe tbody tr th:only-of-type {\n        vertical-align: middle;\n    }\n\n    .dataframe tbody tr th {\n        vertical-align: top;\n    }\n\n    .dataframe thead th {\n        text-align: right;\n    }\n</style>\n<table border=\"1\" class=\"dataframe\">\n  <thead>\n    <tr style=\"text-align: right;\">\n      <th></th>\n      <th>Unnamed: 0</th>\n      <th>age</th>\n      <th>workclass</th>\n      <th>education</th>\n      <th>marital-status</th>\n      <th>occupation</th>\n      <th>relationship</th>\n      <th>race</th>\n      <th>sex</th>\n      <th>hours-per-week</th>\n      <th>native-country</th>\n      <th>salary</th>\n      <th>salary K$</th>\n    </tr>\n  </thead>\n  <tbody>\n    <tr>\n      <th>0</th>\n      <td>0</td>\n      <td>39</td>\n      <td>State-gov</td>\n      <td>Bachelors</td>\n      <td>Never-married</td>\n      <td>Adm-clerical</td>\n      <td>Not-in-family</td>\n      <td>White</td>\n      <td>Male</td>\n      <td>40</td>\n      <td>United-States</td>\n      <td>&lt;=50K</td>\n      <td>39</td>\n    </tr>\n    <tr>\n      <th>1</th>\n      <td>1</td>\n      <td>50</td>\n      <td>Self-emp-not-inc</td>\n      <td>Bachelors</td>\n      <td>Married-civ-spouse</td>\n      <td>Exec-managerial</td>\n      <td>Husband</td>\n      <td>White</td>\n      <td>Male</td>\n      <td>13</td>\n      <td>United-States</td>\n      <td>&lt;=50K</td>\n      <td>35</td>\n    </tr>\n    <tr>\n      <th>2</th>\n      <td>2</td>\n      <td>38</td>\n      <td>Private</td>\n      <td>HS-grad</td>\n      <td>Divorced</td>\n      <td>Handlers-cleaners</td>\n      <td>Not-in-family</td>\n      <td>White</td>\n      <td>Male</td>\n      <td>40</td>\n      <td>United-States</td>\n      <td>&lt;=50K</td>\n      <td>27</td>\n    </tr>\n    <tr>\n      <th>3</th>\n      <td>3</td>\n      <td>53</td>\n      <td>Private</td>\n      <td>11th</td>\n      <td>Married-civ-spouse</td>\n      <td>Handlers-cleaners</td>\n      <td>Husband</td>\n      <td>Black</td>\n      <td>Male</td>\n      <td>40</td>\n      <td>United-States</td>\n      <td>&lt;=50K</td>\n      <td>43</td>\n    </tr>\n    <tr>\n      <th>4</th>\n      <td>4</td>\n      <td>28</td>\n      <td>Private</td>\n      <td>Bachelors</td>\n      <td>Married-civ-spouse</td>\n      <td>Prof-specialty</td>\n      <td>Wife</td>\n      <td>Black</td>\n      <td>Female</td>\n      <td>40</td>\n      <td>Cuba</td>\n      <td>&lt;=50K</td>\n      <td>25</td>\n    </tr>\n  </tbody>\n</table>\n</div>"
     },
     "execution_count": 23,
     "metadata": {},
     "output_type": "execute_result"
    }
   ],
   "source": [
    "df_cleaned = df.loc[(df != \"?\").all(axis=1)]\n",
    "df_cleaned.head()"
   ],
   "metadata": {
    "collapsed": false,
    "ExecuteTime": {
     "end_time": "2024-02-05T13:11:30.023443600Z",
     "start_time": "2024-02-05T13:11:29.920912200Z"
    }
   }
  },
  {
   "cell_type": "code",
   "execution_count": 37,
   "outputs": [
    {
     "data": {
      "text/plain": "       Unnamed: 0  age  workclass  education marital-status  occupation  \\\n26805       26805   37          2         11    Not Married           0   \n17705       17705   31          2          9        Married           3   \n577           577   36          1          6    Not Married           5   \n32035       32035   40          2         13        Married           4   \n19344       19344   25          1          1    Not Married           5   \n4373         4373   35          2         12    Not Married           0   \n19678       19678   41          2          5    Not Married           0   \n20801       20801   43          5          0        Married           3   \n8776         8776   55          5          1        Married           1   \n26733       26733   24          4          0    Not Married           3   \n\n         relationship                race  sex  hours-per-week  \\\n26805  Other-relative               White    0              40   \n17705            Wife               White    0              40   \n577         Unmarried               White    0              35   \n32035         Husband               White    1              40   \n19344       Unmarried  Asian-Pac-Islander    0              40   \n4373        Own-child               White    1              40   \n19678       Unmarried               White    0              38   \n20801         Husband               White    1              60   \n8776          Husband               White    1              60   \n26733   Not-in-family               White    1              50   \n\n       native-country salary  salary K$  salary_check  \n26805               4  <=50K         37          True  \n17705               0  <=50K         46          True  \n577                 0  <=50K         17          True  \n32035               4  <=50K         32          True  \n19344               0  <=50K         15          True  \n4373                0  <=50K         45          True  \n19678               0  <=50K         19          True  \n20801               0  <=50K         22          True  \n8776                0  <=50K         39          True  \n26733               0  <=50K         44          True  ",
      "text/html": "<div>\n<style scoped>\n    .dataframe tbody tr th:only-of-type {\n        vertical-align: middle;\n    }\n\n    .dataframe tbody tr th {\n        vertical-align: top;\n    }\n\n    .dataframe thead th {\n        text-align: right;\n    }\n</style>\n<table border=\"1\" class=\"dataframe\">\n  <thead>\n    <tr style=\"text-align: right;\">\n      <th></th>\n      <th>Unnamed: 0</th>\n      <th>age</th>\n      <th>workclass</th>\n      <th>education</th>\n      <th>marital-status</th>\n      <th>occupation</th>\n      <th>relationship</th>\n      <th>race</th>\n      <th>sex</th>\n      <th>hours-per-week</th>\n      <th>native-country</th>\n      <th>salary</th>\n      <th>salary K$</th>\n      <th>salary_check</th>\n    </tr>\n  </thead>\n  <tbody>\n    <tr>\n      <th>26805</th>\n      <td>26805</td>\n      <td>37</td>\n      <td>2</td>\n      <td>11</td>\n      <td>Not Married</td>\n      <td>0</td>\n      <td>Other-relative</td>\n      <td>White</td>\n      <td>0</td>\n      <td>40</td>\n      <td>4</td>\n      <td>&lt;=50K</td>\n      <td>37</td>\n      <td>True</td>\n    </tr>\n    <tr>\n      <th>17705</th>\n      <td>17705</td>\n      <td>31</td>\n      <td>2</td>\n      <td>9</td>\n      <td>Married</td>\n      <td>3</td>\n      <td>Wife</td>\n      <td>White</td>\n      <td>0</td>\n      <td>40</td>\n      <td>0</td>\n      <td>&lt;=50K</td>\n      <td>46</td>\n      <td>True</td>\n    </tr>\n    <tr>\n      <th>577</th>\n      <td>577</td>\n      <td>36</td>\n      <td>1</td>\n      <td>6</td>\n      <td>Not Married</td>\n      <td>5</td>\n      <td>Unmarried</td>\n      <td>White</td>\n      <td>0</td>\n      <td>35</td>\n      <td>0</td>\n      <td>&lt;=50K</td>\n      <td>17</td>\n      <td>True</td>\n    </tr>\n    <tr>\n      <th>32035</th>\n      <td>32035</td>\n      <td>40</td>\n      <td>2</td>\n      <td>13</td>\n      <td>Married</td>\n      <td>4</td>\n      <td>Husband</td>\n      <td>White</td>\n      <td>1</td>\n      <td>40</td>\n      <td>4</td>\n      <td>&lt;=50K</td>\n      <td>32</td>\n      <td>True</td>\n    </tr>\n    <tr>\n      <th>19344</th>\n      <td>19344</td>\n      <td>25</td>\n      <td>1</td>\n      <td>1</td>\n      <td>Not Married</td>\n      <td>5</td>\n      <td>Unmarried</td>\n      <td>Asian-Pac-Islander</td>\n      <td>0</td>\n      <td>40</td>\n      <td>0</td>\n      <td>&lt;=50K</td>\n      <td>15</td>\n      <td>True</td>\n    </tr>\n    <tr>\n      <th>4373</th>\n      <td>4373</td>\n      <td>35</td>\n      <td>2</td>\n      <td>12</td>\n      <td>Not Married</td>\n      <td>0</td>\n      <td>Own-child</td>\n      <td>White</td>\n      <td>1</td>\n      <td>40</td>\n      <td>0</td>\n      <td>&lt;=50K</td>\n      <td>45</td>\n      <td>True</td>\n    </tr>\n    <tr>\n      <th>19678</th>\n      <td>19678</td>\n      <td>41</td>\n      <td>2</td>\n      <td>5</td>\n      <td>Not Married</td>\n      <td>0</td>\n      <td>Unmarried</td>\n      <td>White</td>\n      <td>0</td>\n      <td>38</td>\n      <td>0</td>\n      <td>&lt;=50K</td>\n      <td>19</td>\n      <td>True</td>\n    </tr>\n    <tr>\n      <th>20801</th>\n      <td>20801</td>\n      <td>43</td>\n      <td>5</td>\n      <td>0</td>\n      <td>Married</td>\n      <td>3</td>\n      <td>Husband</td>\n      <td>White</td>\n      <td>1</td>\n      <td>60</td>\n      <td>0</td>\n      <td>&lt;=50K</td>\n      <td>22</td>\n      <td>True</td>\n    </tr>\n    <tr>\n      <th>8776</th>\n      <td>8776</td>\n      <td>55</td>\n      <td>5</td>\n      <td>1</td>\n      <td>Married</td>\n      <td>1</td>\n      <td>Husband</td>\n      <td>White</td>\n      <td>1</td>\n      <td>60</td>\n      <td>0</td>\n      <td>&lt;=50K</td>\n      <td>39</td>\n      <td>True</td>\n    </tr>\n    <tr>\n      <th>26733</th>\n      <td>26733</td>\n      <td>24</td>\n      <td>4</td>\n      <td>0</td>\n      <td>Not Married</td>\n      <td>3</td>\n      <td>Not-in-family</td>\n      <td>White</td>\n      <td>1</td>\n      <td>50</td>\n      <td>0</td>\n      <td>&lt;=50K</td>\n      <td>44</td>\n      <td>True</td>\n    </tr>\n  </tbody>\n</table>\n</div>"
     },
     "execution_count": 37,
     "metadata": {},
     "output_type": "execute_result"
    }
   ],
   "source": [
    "df = df_cleaned\n",
    "condition_1 = (df[\"salary\"] == \"<=50K\") & (df[\"salary K$\"] <= 50)\n",
    "condition_2 = (df[\"salary\"] == \">50K\") & (df[\"salary K$\"] > 50)\n",
    "\n",
    "df[\"salary_check\"] = (condition_1 | condition_2)\n",
    "\n",
    "# Check data correctness for salary and salary $K  \n",
    "(df[\"salary_check\"] == True).all()\n",
    "\n",
    "df.sample(10)"
   ],
   "metadata": {
    "collapsed": false,
    "ExecuteTime": {
     "end_time": "2024-02-05T13:12:55.698133Z",
     "start_time": "2024-02-05T13:12:55.634436900Z"
    }
   }
  },
  {
   "cell_type": "markdown",
   "source": [
    "# Task 1\n",
    "Print the count of men and women in the dataset."
   ],
   "metadata": {
    "collapsed": false
   }
  },
  {
   "cell_type": "code",
   "execution_count": 25,
   "outputs": [
    {
     "data": {
      "text/plain": "Male      20380\nFemale     9782\nName: sex, dtype: int64"
     },
     "execution_count": 25,
     "metadata": {},
     "output_type": "execute_result"
    }
   ],
   "source": [
    "df.sex.value_counts()"
   ],
   "metadata": {
    "collapsed": false,
    "ExecuteTime": {
     "end_time": "2024-02-05T13:11:30.023443600Z",
     "start_time": "2024-02-05T13:11:29.970973600Z"
    }
   }
  },
  {
   "cell_type": "markdown",
   "source": [
    "# Task 2\n",
    "Find the average age of men in dataset"
   ],
   "metadata": {
    "collapsed": false,
    "pycharm": {
     "name": "#%% md\n"
    }
   }
  },
  {
   "cell_type": "code",
   "execution_count": 26,
   "outputs": [
    {
     "data": {
      "text/plain": "39.18400392541707"
     },
     "execution_count": 26,
     "metadata": {},
     "output_type": "execute_result"
    }
   ],
   "source": [
    "average_age = df[(df[\"sex\"] == \"Male\")].age.mean()\n",
    "average_age"
   ],
   "metadata": {
    "collapsed": false,
    "pycharm": {
     "name": "#%%\n"
    },
    "ExecuteTime": {
     "end_time": "2024-02-05T13:11:30.023443600Z",
     "start_time": "2024-02-05T13:11:29.987415500Z"
    }
   }
  },
  {
   "cell_type": "markdown",
   "source": [
    "# Task 3\n",
    "Get the percentage of people from Poland (native-country)"
   ],
   "metadata": {
    "collapsed": false,
    "pycharm": {
     "name": "#%% md\n"
    }
   }
  },
  {
   "cell_type": "code",
   "execution_count": 27,
   "outputs": [
    {
     "data": {
      "text/plain": "0.18566408063125786"
     },
     "execution_count": 27,
     "metadata": {},
     "output_type": "execute_result"
    }
   ],
   "source": [
    "df[\"native-country\"].value_counts(normalize=True)[\"Poland\"] * 100"
   ],
   "metadata": {
    "collapsed": false,
    "pycharm": {
     "name": "#%%\n"
    },
    "ExecuteTime": {
     "end_time": "2024-02-05T13:11:30.023443600Z",
     "start_time": "2024-02-05T13:11:29.999841800Z"
    }
   }
  },
  {
   "cell_type": "markdown",
   "source": [
    "# Task 4\n",
    "Get the mean and standard deviation of the age for people who earn > 50K per year. After this, get it for those who earn <= 50K."
   ],
   "metadata": {
    "collapsed": false,
    "pycharm": {
     "name": "#%% md\n"
    }
   }
  },
  {
   "cell_type": "code",
   "execution_count": 28,
   "outputs": [
    {
     "data": {
      "text/plain": "            mean        std\nsalary                     \n<=50K   36.60806  13.464631\n>50K    43.95911  10.269633",
      "text/html": "<div>\n<style scoped>\n    .dataframe tbody tr th:only-of-type {\n        vertical-align: middle;\n    }\n\n    .dataframe tbody tr th {\n        vertical-align: top;\n    }\n\n    .dataframe thead th {\n        text-align: right;\n    }\n</style>\n<table border=\"1\" class=\"dataframe\">\n  <thead>\n    <tr style=\"text-align: right;\">\n      <th></th>\n      <th>mean</th>\n      <th>std</th>\n    </tr>\n    <tr>\n      <th>salary</th>\n      <th></th>\n      <th></th>\n    </tr>\n  </thead>\n  <tbody>\n    <tr>\n      <th>&lt;=50K</th>\n      <td>36.60806</td>\n      <td>13.464631</td>\n    </tr>\n    <tr>\n      <th>&gt;50K</th>\n      <td>43.95911</td>\n      <td>10.269633</td>\n    </tr>\n  </tbody>\n</table>\n</div>"
     },
     "execution_count": 28,
     "metadata": {},
     "output_type": "execute_result"
    }
   ],
   "source": [
    "df.groupby(\"salary\").age.agg([\"mean\", \"std\"])"
   ],
   "metadata": {
    "collapsed": false,
    "pycharm": {
     "name": "#%%\n"
    },
    "ExecuteTime": {
     "end_time": "2024-02-05T13:11:30.062985600Z",
     "start_time": "2024-02-05T13:11:30.018459600Z"
    }
   }
  },
  {
   "cell_type": "markdown",
   "source": [
    "# Task 5\n",
    "Check, if there are some people without higher education (education: Bachelors, Prof-school, Assoc-acdm, Assoc-voc, Masters, Doctorate), but with > 50K salary"
   ],
   "metadata": {
    "collapsed": false,
    "pycharm": {
     "name": "#%% md\n"
    }
   }
  },
  {
   "cell_type": "code",
   "execution_count": 29,
   "outputs": [
    {
     "data": {
      "text/plain": "       Unnamed: 0  age         workclass     education      marital-status  \\\n6025         6025   29           Private       HS-grad  Married-civ-spouse   \n26073       26073   51  Self-emp-not-inc       HS-grad  Married-civ-spouse   \n2660         2660   48           Private       HS-grad  Married-civ-spouse   \n22332       22332   36           Private  Some-college  Married-civ-spouse   \n18899       18899   58  Self-emp-not-inc       HS-grad  Married-civ-spouse   \n18050       18050   36           Private       HS-grad  Married-civ-spouse   \n4176         4176   54         Local-gov       HS-grad  Married-civ-spouse   \n12508       12508   37      Self-emp-inc  Some-college  Married-civ-spouse   \n28059       28059   40           Private       HS-grad  Married-civ-spouse   \n20055       20055   50           Private       HS-grad  Married-civ-spouse   \n\n            occupation relationship   race     sex  hours-per-week  \\\n6025    Prof-specialty      Husband  White    Male              40   \n26073            Sales      Husband  White    Male              40   \n2660      Craft-repair      Husband  White    Male              45   \n22332     Craft-repair      Husband  White    Male              40   \n18899  Exec-managerial         Wife  White  Female              10   \n18050     Adm-clerical         Wife  White  Female              40   \n4176      Craft-repair      Husband  White    Male              40   \n12508  Exec-managerial      Husband  White    Male              60   \n28059            Sales         Wife  White  Female              40   \n20055   Prof-specialty      Husband  White    Male              40   \n\n      native-country salary  salary K$  salary_check  \n6025   United-States   >50K        278          True  \n26073  United-States   >50K        212          True  \n2660   United-States   >50K        323          True  \n22332         Canada   >50K        251          True  \n18899  United-States   >50K        271          True  \n18050  United-States   >50K        163          True  \n4176   United-States   >50K        133          True  \n12508  United-States   >50K         72          True  \n28059  United-States   >50K        290          True  \n20055  United-States   >50K         97          True  ",
      "text/html": "<div>\n<style scoped>\n    .dataframe tbody tr th:only-of-type {\n        vertical-align: middle;\n    }\n\n    .dataframe tbody tr th {\n        vertical-align: top;\n    }\n\n    .dataframe thead th {\n        text-align: right;\n    }\n</style>\n<table border=\"1\" class=\"dataframe\">\n  <thead>\n    <tr style=\"text-align: right;\">\n      <th></th>\n      <th>Unnamed: 0</th>\n      <th>age</th>\n      <th>workclass</th>\n      <th>education</th>\n      <th>marital-status</th>\n      <th>occupation</th>\n      <th>relationship</th>\n      <th>race</th>\n      <th>sex</th>\n      <th>hours-per-week</th>\n      <th>native-country</th>\n      <th>salary</th>\n      <th>salary K$</th>\n      <th>salary_check</th>\n    </tr>\n  </thead>\n  <tbody>\n    <tr>\n      <th>6025</th>\n      <td>6025</td>\n      <td>29</td>\n      <td>Private</td>\n      <td>HS-grad</td>\n      <td>Married-civ-spouse</td>\n      <td>Prof-specialty</td>\n      <td>Husband</td>\n      <td>White</td>\n      <td>Male</td>\n      <td>40</td>\n      <td>United-States</td>\n      <td>&gt;50K</td>\n      <td>278</td>\n      <td>True</td>\n    </tr>\n    <tr>\n      <th>26073</th>\n      <td>26073</td>\n      <td>51</td>\n      <td>Self-emp-not-inc</td>\n      <td>HS-grad</td>\n      <td>Married-civ-spouse</td>\n      <td>Sales</td>\n      <td>Husband</td>\n      <td>White</td>\n      <td>Male</td>\n      <td>40</td>\n      <td>United-States</td>\n      <td>&gt;50K</td>\n      <td>212</td>\n      <td>True</td>\n    </tr>\n    <tr>\n      <th>2660</th>\n      <td>2660</td>\n      <td>48</td>\n      <td>Private</td>\n      <td>HS-grad</td>\n      <td>Married-civ-spouse</td>\n      <td>Craft-repair</td>\n      <td>Husband</td>\n      <td>White</td>\n      <td>Male</td>\n      <td>45</td>\n      <td>United-States</td>\n      <td>&gt;50K</td>\n      <td>323</td>\n      <td>True</td>\n    </tr>\n    <tr>\n      <th>22332</th>\n      <td>22332</td>\n      <td>36</td>\n      <td>Private</td>\n      <td>Some-college</td>\n      <td>Married-civ-spouse</td>\n      <td>Craft-repair</td>\n      <td>Husband</td>\n      <td>White</td>\n      <td>Male</td>\n      <td>40</td>\n      <td>Canada</td>\n      <td>&gt;50K</td>\n      <td>251</td>\n      <td>True</td>\n    </tr>\n    <tr>\n      <th>18899</th>\n      <td>18899</td>\n      <td>58</td>\n      <td>Self-emp-not-inc</td>\n      <td>HS-grad</td>\n      <td>Married-civ-spouse</td>\n      <td>Exec-managerial</td>\n      <td>Wife</td>\n      <td>White</td>\n      <td>Female</td>\n      <td>10</td>\n      <td>United-States</td>\n      <td>&gt;50K</td>\n      <td>271</td>\n      <td>True</td>\n    </tr>\n    <tr>\n      <th>18050</th>\n      <td>18050</td>\n      <td>36</td>\n      <td>Private</td>\n      <td>HS-grad</td>\n      <td>Married-civ-spouse</td>\n      <td>Adm-clerical</td>\n      <td>Wife</td>\n      <td>White</td>\n      <td>Female</td>\n      <td>40</td>\n      <td>United-States</td>\n      <td>&gt;50K</td>\n      <td>163</td>\n      <td>True</td>\n    </tr>\n    <tr>\n      <th>4176</th>\n      <td>4176</td>\n      <td>54</td>\n      <td>Local-gov</td>\n      <td>HS-grad</td>\n      <td>Married-civ-spouse</td>\n      <td>Craft-repair</td>\n      <td>Husband</td>\n      <td>White</td>\n      <td>Male</td>\n      <td>40</td>\n      <td>United-States</td>\n      <td>&gt;50K</td>\n      <td>133</td>\n      <td>True</td>\n    </tr>\n    <tr>\n      <th>12508</th>\n      <td>12508</td>\n      <td>37</td>\n      <td>Self-emp-inc</td>\n      <td>Some-college</td>\n      <td>Married-civ-spouse</td>\n      <td>Exec-managerial</td>\n      <td>Husband</td>\n      <td>White</td>\n      <td>Male</td>\n      <td>60</td>\n      <td>United-States</td>\n      <td>&gt;50K</td>\n      <td>72</td>\n      <td>True</td>\n    </tr>\n    <tr>\n      <th>28059</th>\n      <td>28059</td>\n      <td>40</td>\n      <td>Private</td>\n      <td>HS-grad</td>\n      <td>Married-civ-spouse</td>\n      <td>Sales</td>\n      <td>Wife</td>\n      <td>White</td>\n      <td>Female</td>\n      <td>40</td>\n      <td>United-States</td>\n      <td>&gt;50K</td>\n      <td>290</td>\n      <td>True</td>\n    </tr>\n    <tr>\n      <th>20055</th>\n      <td>20055</td>\n      <td>50</td>\n      <td>Private</td>\n      <td>HS-grad</td>\n      <td>Married-civ-spouse</td>\n      <td>Prof-specialty</td>\n      <td>Husband</td>\n      <td>White</td>\n      <td>Male</td>\n      <td>40</td>\n      <td>United-States</td>\n      <td>&gt;50K</td>\n      <td>97</td>\n      <td>True</td>\n    </tr>\n  </tbody>\n</table>\n</div>"
     },
     "execution_count": 29,
     "metadata": {},
     "output_type": "execute_result"
    }
   ],
   "source": [
    "education = [\"Bachelors\", \"Prof-school\", \"Assoc-acdm\", \"Assoc-voc\", \"Masters\", \"Doctorate\"]\n",
    "selection = df[~df.education.isin(education) & (df.salary == \">50K\")]\n",
    "selection.sample(10)"
   ],
   "metadata": {
    "collapsed": false,
    "pycharm": {
     "name": "#%%\n"
    },
    "ExecuteTime": {
     "end_time": "2024-02-05T13:11:30.133880600Z",
     "start_time": "2024-02-05T13:11:30.034163600Z"
    }
   }
  },
  {
   "cell_type": "markdown",
   "source": [
    "# Task 6\n",
    "Get the statistics of age for each type of education. Use `groupby` and `describe` for this."
   ],
   "metadata": {
    "collapsed": false,
    "pycharm": {
     "name": "#%% md\n"
    }
   }
  },
  {
   "cell_type": "code",
   "execution_count": 30,
   "outputs": [
    {
     "data": {
      "text/plain": "               count       mean        std   min   25%   50%   75%   max\neducation                                                               \n10th           820.0  37.897561  16.225795  17.0  23.0  36.0  52.0  90.0\n11th          1048.0  32.363550  15.089307  17.0  18.0  28.5  43.0  90.0\n12th           377.0  32.013263  14.373710  17.0  19.0  28.0  41.0  79.0\n1st-4th        151.0  44.622517  14.929051  19.0  33.0  44.0  56.0  81.0\n5th-6th        288.0  41.649306  14.754622  17.0  28.0  41.0  53.0  82.0\n7th-8th        557.0  47.631957  15.737479  17.0  34.0  49.0  60.0  90.0\n9th            455.0  40.303297  15.335754  17.0  28.0  38.0  53.0  90.0\nAssoc-acdm    1008.0  37.286706  10.509755  19.0  29.0  36.0  44.0  90.0\nAssoc-voc     1307.0  38.246366  11.181253  19.0  30.0  37.0  45.0  84.0\nBachelors     5044.0  38.641554  11.577566  19.0  29.0  37.0  46.0  90.0\nDoctorate      375.0  47.130667  11.471727  24.0  39.0  47.0  54.0  80.0\nHS-grad       9840.0  38.640955  13.067730  17.0  28.0  37.0  48.0  90.0\nMasters       1627.0  43.740012  10.735356  18.0  36.0  43.0  50.0  90.0\nPreschool       45.0  41.288889  15.175672  19.0  30.0  40.0  53.0  75.0\nProf-school    542.0  44.249077  11.428098  25.0  36.0  43.0  50.0  90.0\nSome-college  6678.0  36.135370  13.073528  17.0  25.0  35.0  45.0  90.0",
      "text/html": "<div>\n<style scoped>\n    .dataframe tbody tr th:only-of-type {\n        vertical-align: middle;\n    }\n\n    .dataframe tbody tr th {\n        vertical-align: top;\n    }\n\n    .dataframe thead th {\n        text-align: right;\n    }\n</style>\n<table border=\"1\" class=\"dataframe\">\n  <thead>\n    <tr style=\"text-align: right;\">\n      <th></th>\n      <th>count</th>\n      <th>mean</th>\n      <th>std</th>\n      <th>min</th>\n      <th>25%</th>\n      <th>50%</th>\n      <th>75%</th>\n      <th>max</th>\n    </tr>\n    <tr>\n      <th>education</th>\n      <th></th>\n      <th></th>\n      <th></th>\n      <th></th>\n      <th></th>\n      <th></th>\n      <th></th>\n      <th></th>\n    </tr>\n  </thead>\n  <tbody>\n    <tr>\n      <th>10th</th>\n      <td>820.0</td>\n      <td>37.897561</td>\n      <td>16.225795</td>\n      <td>17.0</td>\n      <td>23.0</td>\n      <td>36.0</td>\n      <td>52.0</td>\n      <td>90.0</td>\n    </tr>\n    <tr>\n      <th>11th</th>\n      <td>1048.0</td>\n      <td>32.363550</td>\n      <td>15.089307</td>\n      <td>17.0</td>\n      <td>18.0</td>\n      <td>28.5</td>\n      <td>43.0</td>\n      <td>90.0</td>\n    </tr>\n    <tr>\n      <th>12th</th>\n      <td>377.0</td>\n      <td>32.013263</td>\n      <td>14.373710</td>\n      <td>17.0</td>\n      <td>19.0</td>\n      <td>28.0</td>\n      <td>41.0</td>\n      <td>79.0</td>\n    </tr>\n    <tr>\n      <th>1st-4th</th>\n      <td>151.0</td>\n      <td>44.622517</td>\n      <td>14.929051</td>\n      <td>19.0</td>\n      <td>33.0</td>\n      <td>44.0</td>\n      <td>56.0</td>\n      <td>81.0</td>\n    </tr>\n    <tr>\n      <th>5th-6th</th>\n      <td>288.0</td>\n      <td>41.649306</td>\n      <td>14.754622</td>\n      <td>17.0</td>\n      <td>28.0</td>\n      <td>41.0</td>\n      <td>53.0</td>\n      <td>82.0</td>\n    </tr>\n    <tr>\n      <th>7th-8th</th>\n      <td>557.0</td>\n      <td>47.631957</td>\n      <td>15.737479</td>\n      <td>17.0</td>\n      <td>34.0</td>\n      <td>49.0</td>\n      <td>60.0</td>\n      <td>90.0</td>\n    </tr>\n    <tr>\n      <th>9th</th>\n      <td>455.0</td>\n      <td>40.303297</td>\n      <td>15.335754</td>\n      <td>17.0</td>\n      <td>28.0</td>\n      <td>38.0</td>\n      <td>53.0</td>\n      <td>90.0</td>\n    </tr>\n    <tr>\n      <th>Assoc-acdm</th>\n      <td>1008.0</td>\n      <td>37.286706</td>\n      <td>10.509755</td>\n      <td>19.0</td>\n      <td>29.0</td>\n      <td>36.0</td>\n      <td>44.0</td>\n      <td>90.0</td>\n    </tr>\n    <tr>\n      <th>Assoc-voc</th>\n      <td>1307.0</td>\n      <td>38.246366</td>\n      <td>11.181253</td>\n      <td>19.0</td>\n      <td>30.0</td>\n      <td>37.0</td>\n      <td>45.0</td>\n      <td>84.0</td>\n    </tr>\n    <tr>\n      <th>Bachelors</th>\n      <td>5044.0</td>\n      <td>38.641554</td>\n      <td>11.577566</td>\n      <td>19.0</td>\n      <td>29.0</td>\n      <td>37.0</td>\n      <td>46.0</td>\n      <td>90.0</td>\n    </tr>\n    <tr>\n      <th>Doctorate</th>\n      <td>375.0</td>\n      <td>47.130667</td>\n      <td>11.471727</td>\n      <td>24.0</td>\n      <td>39.0</td>\n      <td>47.0</td>\n      <td>54.0</td>\n      <td>80.0</td>\n    </tr>\n    <tr>\n      <th>HS-grad</th>\n      <td>9840.0</td>\n      <td>38.640955</td>\n      <td>13.067730</td>\n      <td>17.0</td>\n      <td>28.0</td>\n      <td>37.0</td>\n      <td>48.0</td>\n      <td>90.0</td>\n    </tr>\n    <tr>\n      <th>Masters</th>\n      <td>1627.0</td>\n      <td>43.740012</td>\n      <td>10.735356</td>\n      <td>18.0</td>\n      <td>36.0</td>\n      <td>43.0</td>\n      <td>50.0</td>\n      <td>90.0</td>\n    </tr>\n    <tr>\n      <th>Preschool</th>\n      <td>45.0</td>\n      <td>41.288889</td>\n      <td>15.175672</td>\n      <td>19.0</td>\n      <td>30.0</td>\n      <td>40.0</td>\n      <td>53.0</td>\n      <td>75.0</td>\n    </tr>\n    <tr>\n      <th>Prof-school</th>\n      <td>542.0</td>\n      <td>44.249077</td>\n      <td>11.428098</td>\n      <td>25.0</td>\n      <td>36.0</td>\n      <td>43.0</td>\n      <td>50.0</td>\n      <td>90.0</td>\n    </tr>\n    <tr>\n      <th>Some-college</th>\n      <td>6678.0</td>\n      <td>36.135370</td>\n      <td>13.073528</td>\n      <td>17.0</td>\n      <td>25.0</td>\n      <td>35.0</td>\n      <td>45.0</td>\n      <td>90.0</td>\n    </tr>\n  </tbody>\n</table>\n</div>"
     },
     "execution_count": 30,
     "metadata": {},
     "output_type": "execute_result"
    }
   ],
   "source": [
    "df.groupby(\"education\").age.describe()"
   ],
   "metadata": {
    "collapsed": false,
    "pycharm": {
     "name": "#%%\n"
    },
    "ExecuteTime": {
     "end_time": "2024-02-05T13:11:30.256007800Z",
     "start_time": "2024-02-05T13:11:30.068126600Z"
    }
   }
  },
  {
   "cell_type": "markdown",
   "source": [
    "# Task 7\n",
    "Compare the married and non-married men salaries. Who earns more? (>50K or <=50K)\n",
    "Married men are those, whom `marital-status` starts with \"Married\". Others are not."
   ],
   "metadata": {
    "collapsed": false,
    "pycharm": {
     "name": "#%% md\n"
    }
   }
  },
  {
   "cell_type": "code",
   "execution_count": 31,
   "outputs": [
    {
     "data": {
      "text/plain": "marital-status  salary\nMarried         <=50K      8016\n                >50K       6440\nNot Married     <=50K     14638\n                >50K       1068\nName: salary, dtype: int64"
     },
     "execution_count": 31,
     "metadata": {},
     "output_type": "execute_result"
    }
   ],
   "source": [
    "df[\"marital-status\"] = df[\"marital-status\"].apply(lambda x: \"Married\" if x.startswith(\"Married\") else \"Not Married\")\n",
    "\n",
    "df.groupby([\"marital-status\", \"salary\"]).salary.count()"
   ],
   "metadata": {
    "collapsed": false,
    "pycharm": {
     "name": "#%%\n"
    },
    "ExecuteTime": {
     "end_time": "2024-02-05T13:11:30.319226200Z",
     "start_time": "2024-02-05T13:11:30.113055900Z"
    }
   }
  },
  {
   "cell_type": "markdown",
   "source": [
    "# Task 8\n",
    "Get the max hours per week some person works. How many people works the same amount of hours per week?"
   ],
   "metadata": {
    "collapsed": false,
    "pycharm": {
     "name": "#%% md\n"
    }
   }
  },
  {
   "cell_type": "code",
   "execution_count": 32,
   "outputs": [
    {
     "data": {
      "text/plain": "99"
     },
     "execution_count": 32,
     "metadata": {},
     "output_type": "execute_result"
    }
   ],
   "source": [
    "max_hours = df[\"hours-per-week\"].max()\n",
    "max_hours\n"
   ],
   "metadata": {
    "collapsed": false,
    "pycharm": {
     "name": "#%%\n"
    },
    "ExecuteTime": {
     "end_time": "2024-02-05T13:11:30.397655400Z",
     "start_time": "2024-02-05T13:11:30.131588700Z"
    }
   }
  },
  {
   "cell_type": "code",
   "execution_count": 33,
   "outputs": [
    {
     "data": {
      "text/plain": "78"
     },
     "execution_count": 33,
     "metadata": {},
     "output_type": "execute_result"
    }
   ],
   "source": [
    "(df[\"hours-per-week\"] == max_hours).sum()"
   ],
   "metadata": {
    "collapsed": false,
    "ExecuteTime": {
     "end_time": "2024-02-05T13:11:30.428985500Z",
     "start_time": "2024-02-05T13:11:30.145690300Z"
    }
   }
  },
  {
   "cell_type": "markdown",
   "source": [
    "# Task 9\n",
    "Analyze the correlation between data in dataset. Understand connected fields in it and print highlight thier connection."
   ],
   "metadata": {
    "collapsed": false,
    "pycharm": {
     "name": "#%% md\n"
    }
   }
  },
  {
   "cell_type": "code",
   "execution_count": 34,
   "outputs": [
    {
     "data": {
      "text/plain": "   Unnamed: 0  age         workclass  education marital-status  \\\n0           0   39         State-gov  Bachelors    Not Married   \n1           1   50  Self-emp-not-inc  Bachelors        Married   \n2           2   38           Private    HS-grad    Not Married   \n3           3   53           Private       11th        Married   \n4           4   28           Private  Bachelors        Married   \n\n          occupation   relationship   race     sex  hours-per-week  \\\n0       Adm-clerical  Not-in-family  White    Male              40   \n1    Exec-managerial        Husband  White    Male              13   \n2  Handlers-cleaners  Not-in-family  White    Male              40   \n3  Handlers-cleaners        Husband  Black    Male              40   \n4     Prof-specialty           Wife  Black  Female              40   \n\n  native-country salary  salary K$  salary_check  \n0  United-States  <=50K         39          True  \n1  United-States  <=50K         35          True  \n2  United-States  <=50K         27          True  \n3  United-States  <=50K         43          True  \n4           Cuba  <=50K         25          True  ",
      "text/html": "<div>\n<style scoped>\n    .dataframe tbody tr th:only-of-type {\n        vertical-align: middle;\n    }\n\n    .dataframe tbody tr th {\n        vertical-align: top;\n    }\n\n    .dataframe thead th {\n        text-align: right;\n    }\n</style>\n<table border=\"1\" class=\"dataframe\">\n  <thead>\n    <tr style=\"text-align: right;\">\n      <th></th>\n      <th>Unnamed: 0</th>\n      <th>age</th>\n      <th>workclass</th>\n      <th>education</th>\n      <th>marital-status</th>\n      <th>occupation</th>\n      <th>relationship</th>\n      <th>race</th>\n      <th>sex</th>\n      <th>hours-per-week</th>\n      <th>native-country</th>\n      <th>salary</th>\n      <th>salary K$</th>\n      <th>salary_check</th>\n    </tr>\n  </thead>\n  <tbody>\n    <tr>\n      <th>0</th>\n      <td>0</td>\n      <td>39</td>\n      <td>State-gov</td>\n      <td>Bachelors</td>\n      <td>Not Married</td>\n      <td>Adm-clerical</td>\n      <td>Not-in-family</td>\n      <td>White</td>\n      <td>Male</td>\n      <td>40</td>\n      <td>United-States</td>\n      <td>&lt;=50K</td>\n      <td>39</td>\n      <td>True</td>\n    </tr>\n    <tr>\n      <th>1</th>\n      <td>1</td>\n      <td>50</td>\n      <td>Self-emp-not-inc</td>\n      <td>Bachelors</td>\n      <td>Married</td>\n      <td>Exec-managerial</td>\n      <td>Husband</td>\n      <td>White</td>\n      <td>Male</td>\n      <td>13</td>\n      <td>United-States</td>\n      <td>&lt;=50K</td>\n      <td>35</td>\n      <td>True</td>\n    </tr>\n    <tr>\n      <th>2</th>\n      <td>2</td>\n      <td>38</td>\n      <td>Private</td>\n      <td>HS-grad</td>\n      <td>Not Married</td>\n      <td>Handlers-cleaners</td>\n      <td>Not-in-family</td>\n      <td>White</td>\n      <td>Male</td>\n      <td>40</td>\n      <td>United-States</td>\n      <td>&lt;=50K</td>\n      <td>27</td>\n      <td>True</td>\n    </tr>\n    <tr>\n      <th>3</th>\n      <td>3</td>\n      <td>53</td>\n      <td>Private</td>\n      <td>11th</td>\n      <td>Married</td>\n      <td>Handlers-cleaners</td>\n      <td>Husband</td>\n      <td>Black</td>\n      <td>Male</td>\n      <td>40</td>\n      <td>United-States</td>\n      <td>&lt;=50K</td>\n      <td>43</td>\n      <td>True</td>\n    </tr>\n    <tr>\n      <th>4</th>\n      <td>4</td>\n      <td>28</td>\n      <td>Private</td>\n      <td>Bachelors</td>\n      <td>Married</td>\n      <td>Prof-specialty</td>\n      <td>Wife</td>\n      <td>Black</td>\n      <td>Female</td>\n      <td>40</td>\n      <td>Cuba</td>\n      <td>&lt;=50K</td>\n      <td>25</td>\n      <td>True</td>\n    </tr>\n  </tbody>\n</table>\n</div>"
     },
     "execution_count": 34,
     "metadata": {},
     "output_type": "execute_result"
    }
   ],
   "source": [
    "df.head()"
   ],
   "metadata": {
    "collapsed": false,
    "pycharm": {
     "name": "#%%\n"
    },
    "ExecuteTime": {
     "end_time": "2024-02-05T13:11:30.428985500Z",
     "start_time": "2024-02-05T13:11:30.161920400Z"
    }
   }
  },
  {
   "cell_type": "code",
   "execution_count": 39,
   "outputs": [
    {
     "data": {
      "text/plain": "       Unnamed: 0  age  workclass  education marital-status  occupation  \\\n0               0   39          0          0    Not Married           0   \n1               1   50          1          0        Married           1   \n2               2   38          2          1    Not Married           2   \n3               3   53          2          2        Married           2   \n4               4   28          2          0        Married           3   \n...           ...  ...        ...        ...            ...         ...   \n32556       32556   27          2          6        Married           9   \n32557       32557   40          2          1        Married           8   \n32558       32558   58          2          1    Not Married           0   \n32559       32559   22          2          1    Not Married           0   \n32560       32560   52          5          1        Married           1   \n\n        relationship   race  sex  hours-per-week  native-country salary  \\\n0      Not-in-family  White  NaN              40               0  <=50K   \n1            Husband  White  NaN              13               0  <=50K   \n2      Not-in-family  White  NaN              40               0  <=50K   \n3            Husband  Black  NaN              40               0  <=50K   \n4               Wife  Black  NaN              40               1  <=50K   \n...              ...    ...  ...             ...             ...    ...   \n32556           Wife  White  NaN              38               0  <=50K   \n32557        Husband  White  NaN              40               0   >50K   \n32558      Unmarried  White  NaN              40               0  <=50K   \n32559      Own-child  White  NaN              20               0  <=50K   \n32560           Wife  White  NaN              40               0   >50K   \n\n       salary K$  salary_check  \n0             39          True  \n1             35          True  \n2             27          True  \n3             43          True  \n4             25          True  \n...          ...           ...  \n32556         36          True  \n32557        173          True  \n32558         40          True  \n32559         38          True  \n32560        243          True  \n\n[30162 rows x 14 columns]",
      "text/html": "<div>\n<style scoped>\n    .dataframe tbody tr th:only-of-type {\n        vertical-align: middle;\n    }\n\n    .dataframe tbody tr th {\n        vertical-align: top;\n    }\n\n    .dataframe thead th {\n        text-align: right;\n    }\n</style>\n<table border=\"1\" class=\"dataframe\">\n  <thead>\n    <tr style=\"text-align: right;\">\n      <th></th>\n      <th>Unnamed: 0</th>\n      <th>age</th>\n      <th>workclass</th>\n      <th>education</th>\n      <th>marital-status</th>\n      <th>occupation</th>\n      <th>relationship</th>\n      <th>race</th>\n      <th>sex</th>\n      <th>hours-per-week</th>\n      <th>native-country</th>\n      <th>salary</th>\n      <th>salary K$</th>\n      <th>salary_check</th>\n    </tr>\n  </thead>\n  <tbody>\n    <tr>\n      <th>0</th>\n      <td>0</td>\n      <td>39</td>\n      <td>0</td>\n      <td>0</td>\n      <td>Not Married</td>\n      <td>0</td>\n      <td>Not-in-family</td>\n      <td>White</td>\n      <td>NaN</td>\n      <td>40</td>\n      <td>0</td>\n      <td>&lt;=50K</td>\n      <td>39</td>\n      <td>True</td>\n    </tr>\n    <tr>\n      <th>1</th>\n      <td>1</td>\n      <td>50</td>\n      <td>1</td>\n      <td>0</td>\n      <td>Married</td>\n      <td>1</td>\n      <td>Husband</td>\n      <td>White</td>\n      <td>NaN</td>\n      <td>13</td>\n      <td>0</td>\n      <td>&lt;=50K</td>\n      <td>35</td>\n      <td>True</td>\n    </tr>\n    <tr>\n      <th>2</th>\n      <td>2</td>\n      <td>38</td>\n      <td>2</td>\n      <td>1</td>\n      <td>Not Married</td>\n      <td>2</td>\n      <td>Not-in-family</td>\n      <td>White</td>\n      <td>NaN</td>\n      <td>40</td>\n      <td>0</td>\n      <td>&lt;=50K</td>\n      <td>27</td>\n      <td>True</td>\n    </tr>\n    <tr>\n      <th>3</th>\n      <td>3</td>\n      <td>53</td>\n      <td>2</td>\n      <td>2</td>\n      <td>Married</td>\n      <td>2</td>\n      <td>Husband</td>\n      <td>Black</td>\n      <td>NaN</td>\n      <td>40</td>\n      <td>0</td>\n      <td>&lt;=50K</td>\n      <td>43</td>\n      <td>True</td>\n    </tr>\n    <tr>\n      <th>4</th>\n      <td>4</td>\n      <td>28</td>\n      <td>2</td>\n      <td>0</td>\n      <td>Married</td>\n      <td>3</td>\n      <td>Wife</td>\n      <td>Black</td>\n      <td>NaN</td>\n      <td>40</td>\n      <td>1</td>\n      <td>&lt;=50K</td>\n      <td>25</td>\n      <td>True</td>\n    </tr>\n    <tr>\n      <th>...</th>\n      <td>...</td>\n      <td>...</td>\n      <td>...</td>\n      <td>...</td>\n      <td>...</td>\n      <td>...</td>\n      <td>...</td>\n      <td>...</td>\n      <td>...</td>\n      <td>...</td>\n      <td>...</td>\n      <td>...</td>\n      <td>...</td>\n      <td>...</td>\n    </tr>\n    <tr>\n      <th>32556</th>\n      <td>32556</td>\n      <td>27</td>\n      <td>2</td>\n      <td>6</td>\n      <td>Married</td>\n      <td>9</td>\n      <td>Wife</td>\n      <td>White</td>\n      <td>NaN</td>\n      <td>38</td>\n      <td>0</td>\n      <td>&lt;=50K</td>\n      <td>36</td>\n      <td>True</td>\n    </tr>\n    <tr>\n      <th>32557</th>\n      <td>32557</td>\n      <td>40</td>\n      <td>2</td>\n      <td>1</td>\n      <td>Married</td>\n      <td>8</td>\n      <td>Husband</td>\n      <td>White</td>\n      <td>NaN</td>\n      <td>40</td>\n      <td>0</td>\n      <td>&gt;50K</td>\n      <td>173</td>\n      <td>True</td>\n    </tr>\n    <tr>\n      <th>32558</th>\n      <td>32558</td>\n      <td>58</td>\n      <td>2</td>\n      <td>1</td>\n      <td>Not Married</td>\n      <td>0</td>\n      <td>Unmarried</td>\n      <td>White</td>\n      <td>NaN</td>\n      <td>40</td>\n      <td>0</td>\n      <td>&lt;=50K</td>\n      <td>40</td>\n      <td>True</td>\n    </tr>\n    <tr>\n      <th>32559</th>\n      <td>32559</td>\n      <td>22</td>\n      <td>2</td>\n      <td>1</td>\n      <td>Not Married</td>\n      <td>0</td>\n      <td>Own-child</td>\n      <td>White</td>\n      <td>NaN</td>\n      <td>20</td>\n      <td>0</td>\n      <td>&lt;=50K</td>\n      <td>38</td>\n      <td>True</td>\n    </tr>\n    <tr>\n      <th>32560</th>\n      <td>32560</td>\n      <td>52</td>\n      <td>5</td>\n      <td>1</td>\n      <td>Married</td>\n      <td>1</td>\n      <td>Wife</td>\n      <td>White</td>\n      <td>NaN</td>\n      <td>40</td>\n      <td>0</td>\n      <td>&gt;50K</td>\n      <td>243</td>\n      <td>True</td>\n    </tr>\n  </tbody>\n</table>\n<p>30162 rows × 14 columns</p>\n</div>"
     },
     "execution_count": 39,
     "metadata": {},
     "output_type": "execute_result"
    }
   ],
   "source": [
    "\n",
    "def map_and_replace(column):\n",
    "    mapper = {value: num for num, value in enumerate(column.unique())}\n",
    "    return column.map(mapper)\n",
    "\n",
    "# Apply mapping and replacement\n",
    "df[\"workclass\"] = map_and_replace(df[\"workclass\"])\n",
    "df[\"native-country\"] = map_and_replace(df[\"native-country\"])\n",
    "df[\"education\"] = map_and_replace(df[\"education\"])\n",
    "df[\"occupation\"] = map_and_replace(df[\"occupation\"])\n",
    "\n",
    "# Map 'Male' to 1 and 'Female' to 0 in the 'sex' column\n",
    "df[\"sex\"] = df[\"sex\"].map({\"Male\": 1, \"Female\": 0})\n",
    "df\n"
   ],
   "metadata": {
    "collapsed": false,
    "ExecuteTime": {
     "end_time": "2024-02-05T13:14:59.445440500Z",
     "start_time": "2024-02-05T13:14:59.413651800Z"
    }
   }
  },
  {
   "cell_type": "code",
   "execution_count": 40,
   "outputs": [
    {
     "data": {
      "text/plain": "                     age  workclass  education  occupation  sex  \\\nage             1.000000   0.064147   0.009060    0.002072  NaN   \nworkclass       0.064147   1.000000  -0.022917   -0.046620  NaN   \neducation       0.009060  -0.022917   1.000000    0.056654  NaN   \noccupation      0.002072  -0.046620   0.056654    1.000000  NaN   \nsex                  NaN        NaN        NaN         NaN  NaN   \nnative-country -0.005066  -0.012075   0.060493    0.018083  NaN   \nsalary K$       0.208203   0.086385  -0.039488   -0.064373  NaN   \n\n                native-country  salary K$  \nage                  -0.005066   0.208203  \nworkclass            -0.012075   0.086385  \neducation             0.060493  -0.039488  \noccupation            0.018083  -0.064373  \nsex                        NaN        NaN  \nnative-country        1.000000  -0.020267  \nsalary K$            -0.020267   1.000000  ",
      "text/html": "<div>\n<style scoped>\n    .dataframe tbody tr th:only-of-type {\n        vertical-align: middle;\n    }\n\n    .dataframe tbody tr th {\n        vertical-align: top;\n    }\n\n    .dataframe thead th {\n        text-align: right;\n    }\n</style>\n<table border=\"1\" class=\"dataframe\">\n  <thead>\n    <tr style=\"text-align: right;\">\n      <th></th>\n      <th>age</th>\n      <th>workclass</th>\n      <th>education</th>\n      <th>occupation</th>\n      <th>sex</th>\n      <th>native-country</th>\n      <th>salary K$</th>\n    </tr>\n  </thead>\n  <tbody>\n    <tr>\n      <th>age</th>\n      <td>1.000000</td>\n      <td>0.064147</td>\n      <td>0.009060</td>\n      <td>0.002072</td>\n      <td>NaN</td>\n      <td>-0.005066</td>\n      <td>0.208203</td>\n    </tr>\n    <tr>\n      <th>workclass</th>\n      <td>0.064147</td>\n      <td>1.000000</td>\n      <td>-0.022917</td>\n      <td>-0.046620</td>\n      <td>NaN</td>\n      <td>-0.012075</td>\n      <td>0.086385</td>\n    </tr>\n    <tr>\n      <th>education</th>\n      <td>0.009060</td>\n      <td>-0.022917</td>\n      <td>1.000000</td>\n      <td>0.056654</td>\n      <td>NaN</td>\n      <td>0.060493</td>\n      <td>-0.039488</td>\n    </tr>\n    <tr>\n      <th>occupation</th>\n      <td>0.002072</td>\n      <td>-0.046620</td>\n      <td>0.056654</td>\n      <td>1.000000</td>\n      <td>NaN</td>\n      <td>0.018083</td>\n      <td>-0.064373</td>\n    </tr>\n    <tr>\n      <th>sex</th>\n      <td>NaN</td>\n      <td>NaN</td>\n      <td>NaN</td>\n      <td>NaN</td>\n      <td>NaN</td>\n      <td>NaN</td>\n      <td>NaN</td>\n    </tr>\n    <tr>\n      <th>native-country</th>\n      <td>-0.005066</td>\n      <td>-0.012075</td>\n      <td>0.060493</td>\n      <td>0.018083</td>\n      <td>NaN</td>\n      <td>1.000000</td>\n      <td>-0.020267</td>\n    </tr>\n    <tr>\n      <th>salary K$</th>\n      <td>0.208203</td>\n      <td>0.086385</td>\n      <td>-0.039488</td>\n      <td>-0.064373</td>\n      <td>NaN</td>\n      <td>-0.020267</td>\n      <td>1.000000</td>\n    </tr>\n  </tbody>\n</table>\n</div>"
     },
     "execution_count": 40,
     "metadata": {},
     "output_type": "execute_result"
    }
   ],
   "source": [
    "df_corr = df[[\"age\", \"workclass\", \"education\", \"occupation\", \"sex\", \"native-country\", \"salary K$\"]].corr()\n",
    "df_corr"
   ],
   "metadata": {
    "collapsed": false,
    "ExecuteTime": {
     "end_time": "2024-02-05T13:15:22.053832600Z",
     "start_time": "2024-02-05T13:15:22.030448400Z"
    }
   }
  },
  {
   "cell_type": "code",
   "execution_count": 36,
   "outputs": [],
   "source": [],
   "metadata": {
    "collapsed": false,
    "ExecuteTime": {
     "end_time": "2024-02-05T13:11:30.605607900Z",
     "start_time": "2024-02-05T13:11:30.303382500Z"
    }
   }
  }
 ],
 "metadata": {
  "kernelspec": {
   "display_name": "Python 3",
   "language": "python",
   "name": "python3"
  },
  "language_info": {
   "codemirror_mode": {
    "name": "ipython",
    "version": 2
   },
   "file_extension": ".py",
   "mimetype": "text/x-python",
   "name": "python",
   "nbconvert_exporter": "python",
   "pygments_lexer": "ipython2",
   "version": "2.7.6"
  }
 },
 "nbformat": 4,
 "nbformat_minor": 0
}
