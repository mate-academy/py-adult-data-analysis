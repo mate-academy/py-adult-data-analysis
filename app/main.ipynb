{
 "cells": [
  {
   "cell_type": "code",
   "source": [
    "import numpy as np\n",
    "import pandas as pd"
   ],
   "metadata": {
    "collapsed": false,
    "pycharm": {
     "name": "#%%\n"
    },
    "ExecuteTime": {
     "end_time": "2024-07-10T11:20:10.157905Z",
     "start_time": "2024-07-10T11:20:06.239178Z"
    }
   },
   "outputs": [],
   "execution_count": 1
  },
  {
   "cell_type": "markdown",
   "source": [
    "# Task 0\n",
    "Read the dataset from csv file & perform data cleaning - remove all rows, which contains `?` in some columns.\n",
    "Also check for data correctness (salary & salary $K)."
   ],
   "metadata": {
    "collapsed": false,
    "pycharm": {
     "name": "#%% md\n"
    }
   }
  },
  {
   "cell_type": "code",
   "source": [
    "df = pd.read_csv(\"../data/adult.csv\")\n",
    "df.replace(\"?\", np.nan, inplace=True)\n",
    "df.dropna(inplace=True)\n",
    "df = df.drop(df[(df[\"salary\"] == \">50K\") & (df[\"salary K$\"] <= 50)].index)\n",
    "df = df.drop(df[(df[\"salary\"] == \"<=50K\") & (df[\"salary K$\"] > 50)].index)\n",
    "df[\"salary\"].value_counts()\n",
    "df[\"salary K$\"].describe()\n"
   ],
   "metadata": {
    "collapsed": false,
    "pycharm": {
     "name": "#%%\n"
    },
    "ExecuteTime": {
     "end_time": "2024-07-10T11:30:54.994023Z",
     "start_time": "2024-07-10T11:30:54.835548Z"
    }
   },
   "outputs": [
    {
     "data": {
      "text/plain": [
       "count    30162.000000\n",
       "mean        73.968570\n",
       "std         85.365144\n",
       "min         15.000000\n",
       "25%         26.000000\n",
       "50%         38.000000\n",
       "75%         49.000000\n",
       "max        349.000000\n",
       "Name: salary K$, dtype: float64"
      ]
     },
     "execution_count": 13,
     "metadata": {},
     "output_type": "execute_result"
    }
   ],
   "execution_count": 13
  },
  {
   "cell_type": "markdown",
   "source": [
    "# Task 1\n",
    "Print the count of men and women in the dataset."
   ],
   "metadata": {
    "collapsed": false,
    "pycharm": {
     "name": "#%% md\n"
    }
   }
  },
  {
   "cell_type": "code",
   "source": "df[\"sex\"].value_counts()",
   "metadata": {
    "collapsed": false,
    "pycharm": {
     "name": "#%%\n"
    },
    "ExecuteTime": {
     "end_time": "2024-07-09T18:01:59.658184Z",
     "start_time": "2024-07-09T18:01:59.647156Z"
    }
   },
   "outputs": [
    {
     "data": {
      "text/plain": [
       "sex\n",
       "Male      20380\n",
       "Female     9782\n",
       "Name: count, dtype: int64"
      ]
     },
     "execution_count": 13,
     "metadata": {},
     "output_type": "execute_result"
    }
   ],
   "execution_count": 13
  },
  {
   "cell_type": "markdown",
   "source": [
    "# Task 2\n",
    "Find the average age of men in dataset"
   ],
   "metadata": {
    "collapsed": false,
    "pycharm": {
     "name": "#%% md\n"
    }
   }
  },
  {
   "cell_type": "code",
   "source": "df[df[\"sex\"] == \"Male\"][\"age\"].mean()",
   "metadata": {
    "collapsed": false,
    "pycharm": {
     "name": "#%%\n"
    },
    "ExecuteTime": {
     "end_time": "2024-07-09T18:04:16.156669Z",
     "start_time": "2024-07-09T18:04:16.144537Z"
    }
   },
   "outputs": [
    {
     "data": {
      "text/plain": [
       "np.float64(39.18400392541707)"
      ]
     },
     "execution_count": 18,
     "metadata": {},
     "output_type": "execute_result"
    }
   ],
   "execution_count": 18
  },
  {
   "cell_type": "markdown",
   "source": [
    "# Task 3\n",
    "Get the percentage of people from Poland (native-country)"
   ],
   "metadata": {
    "collapsed": false,
    "pycharm": {
     "name": "#%% md\n"
    }
   }
  },
  {
   "cell_type": "code",
   "source": [
    "poland_people = df[df[\"native-country\"] == \"Poland\"].shape[0]\n",
    "all_people = df[\"native-country\"].shape[0]\n",
    "(poland_people / all_people) * 100"
   ],
   "metadata": {
    "collapsed": false,
    "pycharm": {
     "name": "#%%\n"
    },
    "ExecuteTime": {
     "end_time": "2024-07-09T18:09:03.238453Z",
     "start_time": "2024-07-09T18:09:03.229529Z"
    }
   },
   "outputs": [
    {
     "data": {
      "text/plain": [
       "0.18566408063125786"
      ]
     },
     "execution_count": 28,
     "metadata": {},
     "output_type": "execute_result"
    }
   ],
   "execution_count": 28
  },
  {
   "cell_type": "markdown",
   "source": [
    "# Task 4\n",
    "Get the mean and standard deviation of the age for people who earn > 50K per year. After this, get it for those who earn <= 50K."
   ],
   "metadata": {
    "collapsed": false,
    "pycharm": {
     "name": "#%% md\n"
    }
   }
  },
  {
   "cell_type": "code",
   "source": [
    "high_earn_people = df[df[\"salary\"] == \">50K\"]\n",
    "low_ear_people = df[df[\"salary\"] == \"<=50K\"]\n",
    "mean_age_of_high_ear_people = high_earn_people[\"age\"].mean()\n",
    "std_age_of_high_ear_people = high_earn_people[\"age\"].std()\n",
    "\n",
    "mean_age_of_low_ear_people = low_ear_people[\"age\"].mean()\n",
    "std_age_of_low_ear_people = low_ear_people[\"age\"].std()\n",
    "\n",
    "[(mean_age_of_high_ear_people, std_age_of_high_ear_people), (mean_age_of_low_ear_people, std_age_of_low_ear_people)]"
   ],
   "metadata": {
    "collapsed": false,
    "pycharm": {
     "name": "#%%\n"
    },
    "ExecuteTime": {
     "end_time": "2024-07-09T18:17:54.642717Z",
     "start_time": "2024-07-09T18:17:54.622912Z"
    }
   },
   "outputs": [
    {
     "data": {
      "text/plain": [
       "[(np.float64(43.95911028236548), np.float64(10.269632835673852)),\n",
       " (np.float64(36.60806038668668), np.float64(13.464631257161633))]"
      ]
     },
     "execution_count": 32,
     "metadata": {},
     "output_type": "execute_result"
    }
   ],
   "execution_count": 32
  },
  {
   "cell_type": "markdown",
   "source": [
    "# Task 5\n",
    "Check, if there are some people without higher education (education: Bachelors, Prof-school, Assoc-acdm, Assoc-voc, Masters, Doctorate), but with > 50K salary"
   ],
   "metadata": {
    "collapsed": false,
    "pycharm": {
     "name": "#%% md\n"
    }
   }
  },
  {
   "cell_type": "code",
   "source": [
    "mask = [\"Bachelors\", \"Masters\", \"Doctorate\", \"Prof-school\", \"Assoc-acdm\", \"Assoc-voc\"]\n",
    "people_high_salary_without_education = df[(~df[\"education\"].isin(mask)) & (df[\"salary\"] == \">50K\")]\n",
    "has_people_high_salary_without_education = not people_high_salary_without_education.empty\n",
    "[has_people_high_salary_without_education, people_high_salary_without_education]"
   ],
   "metadata": {
    "collapsed": false,
    "pycharm": {
     "name": "#%%\n"
    },
    "ExecuteTime": {
     "end_time": "2024-07-09T18:29:47.448028Z",
     "start_time": "2024-07-09T18:29:47.433771Z"
    }
   },
   "outputs": [
    {
     "data": {
      "text/plain": [
       "[True,\n",
       "        Unnamed: 0  age         workclass     education      marital-status  \\\n",
       " 7               7   52  Self-emp-not-inc       HS-grad  Married-civ-spouse   \n",
       " 10             10   37           Private  Some-college  Married-civ-spouse   \n",
       " 55             55   43           Private  Some-college  Married-civ-spouse   \n",
       " 67             67   53           Private       HS-grad  Married-civ-spouse   \n",
       " 68             68   49      Self-emp-inc  Some-college  Married-civ-spouse   \n",
       " ...           ...  ...               ...           ...                 ...   \n",
       " 32462       32462   48      Self-emp-inc       HS-grad  Married-civ-spouse   \n",
       " 32518       32518   57         Local-gov       HS-grad  Married-civ-spouse   \n",
       " 32519       32519   46           Private  Some-college  Married-civ-spouse   \n",
       " 32557       32557   40           Private       HS-grad  Married-civ-spouse   \n",
       " 32560       32560   52      Self-emp-inc       HS-grad  Married-civ-spouse   \n",
       " \n",
       "               occupation relationship   race     sex  hours-per-week  \\\n",
       " 7        Exec-managerial      Husband  White    Male              45   \n",
       " 10       Exec-managerial      Husband  Black    Male              80   \n",
       " 55          Tech-support      Husband  White    Male              40   \n",
       " 67          Adm-clerical         Wife  White  Female              40   \n",
       " 68       Exec-managerial      Husband  White    Male              50   \n",
       " ...                  ...          ...    ...     ...             ...   \n",
       " 32462       Craft-repair      Husband  White    Male              50   \n",
       " 32518       Craft-repair      Husband  White    Male              40   \n",
       " 32519    Exec-managerial      Husband  White    Male              48   \n",
       " 32557  Machine-op-inspct      Husband  White    Male              40   \n",
       " 32560    Exec-managerial         Wife  White  Female              40   \n",
       " \n",
       "       native-country salary  salary K$  \n",
       " 7      United-States   >50K        307  \n",
       " 10     United-States   >50K        116  \n",
       " 55     United-States   >50K        341  \n",
       " 67     United-States   >50K        225  \n",
       " 68     United-States   >50K        194  \n",
       " ...              ...    ...        ...  \n",
       " 32462  United-States   >50K        343  \n",
       " 32518  United-States   >50K        116  \n",
       " 32519  United-States   >50K        239  \n",
       " 32557  United-States   >50K        173  \n",
       " 32560  United-States   >50K        243  \n",
       " \n",
       " [3178 rows x 13 columns]]"
      ]
     },
     "execution_count": 35,
     "metadata": {},
     "output_type": "execute_result"
    }
   ],
   "execution_count": 35
  },
  {
   "cell_type": "markdown",
   "source": [
    "# Task 6\n",
    "Get the statistics of age for each type of education. Use `groupby` and `describe` for this."
   ],
   "metadata": {
    "collapsed": false,
    "pycharm": {
     "name": "#%% md\n"
    }
   }
  },
  {
   "cell_type": "code",
   "source": "df.groupby(\"education\")[\"age\"].describe()",
   "metadata": {
    "collapsed": false,
    "pycharm": {
     "name": "#%%\n"
    },
    "ExecuteTime": {
     "end_time": "2024-07-09T18:31:03.340565Z",
     "start_time": "2024-07-09T18:31:03.294210Z"
    }
   },
   "outputs": [
    {
     "data": {
      "text/plain": [
       "               count       mean        std   min   25%   50%   75%   max\n",
       "education                                                               \n",
       "10th           820.0  37.897561  16.225795  17.0  23.0  36.0  52.0  90.0\n",
       "11th          1048.0  32.363550  15.089307  17.0  18.0  28.5  43.0  90.0\n",
       "12th           377.0  32.013263  14.373710  17.0  19.0  28.0  41.0  79.0\n",
       "1st-4th        151.0  44.622517  14.929051  19.0  33.0  44.0  56.0  81.0\n",
       "5th-6th        288.0  41.649306  14.754622  17.0  28.0  41.0  53.0  82.0\n",
       "7th-8th        557.0  47.631957  15.737479  17.0  34.0  49.0  60.0  90.0\n",
       "9th            455.0  40.303297  15.335754  17.0  28.0  38.0  53.0  90.0\n",
       "Assoc-acdm    1008.0  37.286706  10.509755  19.0  29.0  36.0  44.0  90.0\n",
       "Assoc-voc     1307.0  38.246366  11.181253  19.0  30.0  37.0  45.0  84.0\n",
       "Bachelors     5044.0  38.641554  11.577566  19.0  29.0  37.0  46.0  90.0\n",
       "Doctorate      375.0  47.130667  11.471727  24.0  39.0  47.0  54.0  80.0\n",
       "HS-grad       9840.0  38.640955  13.067730  17.0  28.0  37.0  48.0  90.0\n",
       "Masters       1627.0  43.740012  10.735356  18.0  36.0  43.0  50.0  90.0\n",
       "Preschool       45.0  41.288889  15.175672  19.0  30.0  40.0  53.0  75.0\n",
       "Prof-school    542.0  44.249077  11.428098  25.0  36.0  43.0  50.0  90.0\n",
       "Some-college  6678.0  36.135370  13.073528  17.0  25.0  35.0  45.0  90.0"
      ],
      "text/html": [
       "<div>\n",
       "<style scoped>\n",
       "    .dataframe tbody tr th:only-of-type {\n",
       "        vertical-align: middle;\n",
       "    }\n",
       "\n",
       "    .dataframe tbody tr th {\n",
       "        vertical-align: top;\n",
       "    }\n",
       "\n",
       "    .dataframe thead th {\n",
       "        text-align: right;\n",
       "    }\n",
       "</style>\n",
       "<table border=\"1\" class=\"dataframe\">\n",
       "  <thead>\n",
       "    <tr style=\"text-align: right;\">\n",
       "      <th></th>\n",
       "      <th>count</th>\n",
       "      <th>mean</th>\n",
       "      <th>std</th>\n",
       "      <th>min</th>\n",
       "      <th>25%</th>\n",
       "      <th>50%</th>\n",
       "      <th>75%</th>\n",
       "      <th>max</th>\n",
       "    </tr>\n",
       "    <tr>\n",
       "      <th>education</th>\n",
       "      <th></th>\n",
       "      <th></th>\n",
       "      <th></th>\n",
       "      <th></th>\n",
       "      <th></th>\n",
       "      <th></th>\n",
       "      <th></th>\n",
       "      <th></th>\n",
       "    </tr>\n",
       "  </thead>\n",
       "  <tbody>\n",
       "    <tr>\n",
       "      <th>10th</th>\n",
       "      <td>820.0</td>\n",
       "      <td>37.897561</td>\n",
       "      <td>16.225795</td>\n",
       "      <td>17.0</td>\n",
       "      <td>23.0</td>\n",
       "      <td>36.0</td>\n",
       "      <td>52.0</td>\n",
       "      <td>90.0</td>\n",
       "    </tr>\n",
       "    <tr>\n",
       "      <th>11th</th>\n",
       "      <td>1048.0</td>\n",
       "      <td>32.363550</td>\n",
       "      <td>15.089307</td>\n",
       "      <td>17.0</td>\n",
       "      <td>18.0</td>\n",
       "      <td>28.5</td>\n",
       "      <td>43.0</td>\n",
       "      <td>90.0</td>\n",
       "    </tr>\n",
       "    <tr>\n",
       "      <th>12th</th>\n",
       "      <td>377.0</td>\n",
       "      <td>32.013263</td>\n",
       "      <td>14.373710</td>\n",
       "      <td>17.0</td>\n",
       "      <td>19.0</td>\n",
       "      <td>28.0</td>\n",
       "      <td>41.0</td>\n",
       "      <td>79.0</td>\n",
       "    </tr>\n",
       "    <tr>\n",
       "      <th>1st-4th</th>\n",
       "      <td>151.0</td>\n",
       "      <td>44.622517</td>\n",
       "      <td>14.929051</td>\n",
       "      <td>19.0</td>\n",
       "      <td>33.0</td>\n",
       "      <td>44.0</td>\n",
       "      <td>56.0</td>\n",
       "      <td>81.0</td>\n",
       "    </tr>\n",
       "    <tr>\n",
       "      <th>5th-6th</th>\n",
       "      <td>288.0</td>\n",
       "      <td>41.649306</td>\n",
       "      <td>14.754622</td>\n",
       "      <td>17.0</td>\n",
       "      <td>28.0</td>\n",
       "      <td>41.0</td>\n",
       "      <td>53.0</td>\n",
       "      <td>82.0</td>\n",
       "    </tr>\n",
       "    <tr>\n",
       "      <th>7th-8th</th>\n",
       "      <td>557.0</td>\n",
       "      <td>47.631957</td>\n",
       "      <td>15.737479</td>\n",
       "      <td>17.0</td>\n",
       "      <td>34.0</td>\n",
       "      <td>49.0</td>\n",
       "      <td>60.0</td>\n",
       "      <td>90.0</td>\n",
       "    </tr>\n",
       "    <tr>\n",
       "      <th>9th</th>\n",
       "      <td>455.0</td>\n",
       "      <td>40.303297</td>\n",
       "      <td>15.335754</td>\n",
       "      <td>17.0</td>\n",
       "      <td>28.0</td>\n",
       "      <td>38.0</td>\n",
       "      <td>53.0</td>\n",
       "      <td>90.0</td>\n",
       "    </tr>\n",
       "    <tr>\n",
       "      <th>Assoc-acdm</th>\n",
       "      <td>1008.0</td>\n",
       "      <td>37.286706</td>\n",
       "      <td>10.509755</td>\n",
       "      <td>19.0</td>\n",
       "      <td>29.0</td>\n",
       "      <td>36.0</td>\n",
       "      <td>44.0</td>\n",
       "      <td>90.0</td>\n",
       "    </tr>\n",
       "    <tr>\n",
       "      <th>Assoc-voc</th>\n",
       "      <td>1307.0</td>\n",
       "      <td>38.246366</td>\n",
       "      <td>11.181253</td>\n",
       "      <td>19.0</td>\n",
       "      <td>30.0</td>\n",
       "      <td>37.0</td>\n",
       "      <td>45.0</td>\n",
       "      <td>84.0</td>\n",
       "    </tr>\n",
       "    <tr>\n",
       "      <th>Bachelors</th>\n",
       "      <td>5044.0</td>\n",
       "      <td>38.641554</td>\n",
       "      <td>11.577566</td>\n",
       "      <td>19.0</td>\n",
       "      <td>29.0</td>\n",
       "      <td>37.0</td>\n",
       "      <td>46.0</td>\n",
       "      <td>90.0</td>\n",
       "    </tr>\n",
       "    <tr>\n",
       "      <th>Doctorate</th>\n",
       "      <td>375.0</td>\n",
       "      <td>47.130667</td>\n",
       "      <td>11.471727</td>\n",
       "      <td>24.0</td>\n",
       "      <td>39.0</td>\n",
       "      <td>47.0</td>\n",
       "      <td>54.0</td>\n",
       "      <td>80.0</td>\n",
       "    </tr>\n",
       "    <tr>\n",
       "      <th>HS-grad</th>\n",
       "      <td>9840.0</td>\n",
       "      <td>38.640955</td>\n",
       "      <td>13.067730</td>\n",
       "      <td>17.0</td>\n",
       "      <td>28.0</td>\n",
       "      <td>37.0</td>\n",
       "      <td>48.0</td>\n",
       "      <td>90.0</td>\n",
       "    </tr>\n",
       "    <tr>\n",
       "      <th>Masters</th>\n",
       "      <td>1627.0</td>\n",
       "      <td>43.740012</td>\n",
       "      <td>10.735356</td>\n",
       "      <td>18.0</td>\n",
       "      <td>36.0</td>\n",
       "      <td>43.0</td>\n",
       "      <td>50.0</td>\n",
       "      <td>90.0</td>\n",
       "    </tr>\n",
       "    <tr>\n",
       "      <th>Preschool</th>\n",
       "      <td>45.0</td>\n",
       "      <td>41.288889</td>\n",
       "      <td>15.175672</td>\n",
       "      <td>19.0</td>\n",
       "      <td>30.0</td>\n",
       "      <td>40.0</td>\n",
       "      <td>53.0</td>\n",
       "      <td>75.0</td>\n",
       "    </tr>\n",
       "    <tr>\n",
       "      <th>Prof-school</th>\n",
       "      <td>542.0</td>\n",
       "      <td>44.249077</td>\n",
       "      <td>11.428098</td>\n",
       "      <td>25.0</td>\n",
       "      <td>36.0</td>\n",
       "      <td>43.0</td>\n",
       "      <td>50.0</td>\n",
       "      <td>90.0</td>\n",
       "    </tr>\n",
       "    <tr>\n",
       "      <th>Some-college</th>\n",
       "      <td>6678.0</td>\n",
       "      <td>36.135370</td>\n",
       "      <td>13.073528</td>\n",
       "      <td>17.0</td>\n",
       "      <td>25.0</td>\n",
       "      <td>35.0</td>\n",
       "      <td>45.0</td>\n",
       "      <td>90.0</td>\n",
       "    </tr>\n",
       "  </tbody>\n",
       "</table>\n",
       "</div>"
      ]
     },
     "execution_count": 36,
     "metadata": {},
     "output_type": "execute_result"
    }
   ],
   "execution_count": 36
  },
  {
   "cell_type": "markdown",
   "source": [
    "# Task 7\n",
    "Compare the married and non-married men salaries. Who earns more? (>50K or <=50K)\n",
    "Married men are those, whom `marital-status` starts with \"Married\". Others are not."
   ],
   "metadata": {
    "collapsed": false,
    "pycharm": {
     "name": "#%% md\n"
    }
   }
  },
  {
   "cell_type": "code",
   "source": [
    "mask = (df[\"sex\"] == \"Male\") & (df[\"marital-status\"].str.startswith(\"Married\"))\n",
    "maried = df[mask]\n",
    "not_maried = df[(df[\"sex\"] == \"Male\") & (~df[\"marital-status\"].str.startswith(\"Married\"))]\n",
    "[maried[\"salary\"].value_counts(), not_maried[\"salary\"].value_counts()]"
   ],
   "metadata": {
    "collapsed": false,
    "pycharm": {
     "name": "#%%\n"
    },
    "ExecuteTime": {
     "end_time": "2024-07-10T11:36:38.492004Z",
     "start_time": "2024-07-10T11:36:38.459176Z"
    }
   },
   "outputs": [
    {
     "data": {
      "text/plain": [
       "[salary\n",
       " <=50K    7052\n",
       " >50K     5723\n",
       " Name: count, dtype: int64,\n",
       " salary\n",
       " <=50K    6932\n",
       " >50K      673\n",
       " Name: count, dtype: int64]"
      ]
     },
     "execution_count": 15,
     "metadata": {},
     "output_type": "execute_result"
    }
   ],
   "execution_count": 15
  },
  {
   "cell_type": "markdown",
   "source": [
    "# Task 8\n",
    "Get the max hours per week some person works. How many people works the same amount of hours per week?"
   ],
   "metadata": {
    "collapsed": false,
    "pycharm": {
     "name": "#%% md\n"
    }
   }
  },
  {
   "cell_type": "code",
   "source": [
    "max_hours_per_week = df[\"hours-per-week\"].max()\n",
    "[max_hours_per_week, df[df[\"hours-per-week\"] == max_hours_per_week].shape[0]]"
   ],
   "metadata": {
    "collapsed": false,
    "pycharm": {
     "name": "#%%\n"
    },
    "ExecuteTime": {
     "end_time": "2024-07-09T18:40:36.744962Z",
     "start_time": "2024-07-09T18:40:36.737903Z"
    }
   },
   "outputs": [
    {
     "data": {
      "text/plain": [
       "[np.int64(99), 78]"
      ]
     },
     "execution_count": 40,
     "metadata": {},
     "output_type": "execute_result"
    }
   ],
   "execution_count": 40
  },
  {
   "cell_type": "markdown",
   "source": [
    "# Task 9\n",
    "Analyze the correlation between data in dataset. Understand connected fields in it and print highlight thier connection."
   ],
   "metadata": {
    "collapsed": false,
    "pycharm": {
     "name": "#%% md\n"
    }
   }
  },
  {
   "cell_type": "code",
   "source": "pd.get_dummies(df).corr()",
   "metadata": {
    "collapsed": false,
    "pycharm": {
     "name": "#%%\n"
    },
    "ExecuteTime": {
     "end_time": "2024-07-09T18:56:23.955619Z",
     "start_time": "2024-07-09T18:56:23.302793Z"
    }
   },
   "outputs": [
    {
     "data": {
      "text/plain": [
       "                              Unnamed: 0       age  hours-per-week  salary K$  \\\n",
       "Unnamed: 0                      1.000000 -0.001126       -0.001890   0.000129   \n",
       "age                            -0.001126  1.000000        0.101599   0.208203   \n",
       "hours-per-week                 -0.001890  0.101599        1.000000   0.196378   \n",
       "salary K$                       0.000129  0.208203        0.196378   1.000000   \n",
       "workclass_Federal-gov           0.000275  0.056626        0.005229   0.050512   \n",
       "...                                  ...       ...             ...        ...   \n",
       "native-country_United-States    0.001993  0.016259        0.010673   0.034000   \n",
       "native-country_Vietnam         -0.000928 -0.017775       -0.010381  -0.014737   \n",
       "native-country_Yugoslavia       0.004350  0.000657        0.006983   0.008560   \n",
       "salary_<=50K                   -0.006244 -0.241998       -0.229480  -0.853894   \n",
       "salary_>50K                     0.006244  0.241998        0.229480   0.853894   \n",
       "\n",
       "                              workclass_Federal-gov  workclass_Local-gov  \\\n",
       "Unnamed: 0                                 0.000275            -0.000933   \n",
       "age                                        0.056626             0.068256   \n",
       "hours-per-week                             0.005229             0.001612   \n",
       "salary K$                                  0.050512             0.025856   \n",
       "workclass_Federal-gov                      1.000000            -0.048728   \n",
       "...                                             ...                  ...   \n",
       "native-country_United-States               0.017541             0.032937   \n",
       "native-country_Vietnam                    -0.000004            -0.003952   \n",
       "native-country_Yugoslavia                 -0.004139            -0.000550   \n",
       "salary_<=50K                              -0.057394            -0.028673   \n",
       "salary_>50K                                0.057394             0.028673   \n",
       "\n",
       "                              workclass_Private  workclass_Self-emp-inc  \\\n",
       "Unnamed: 0                             0.005641               -0.003275   \n",
       "age                                   -0.210491                0.111039   \n",
       "hours-per-week                        -0.095533                0.126254   \n",
       "salary K$                             -0.098187                0.119222   \n",
       "workclass_Federal-gov                 -0.302194               -0.034520   \n",
       "...                                         ...                     ...   \n",
       "native-country_United-States          -0.049809                0.007350   \n",
       "native-country_Vietnam                 0.009369               -0.004973   \n",
       "native-country_Yugoslavia              0.003861                0.003343   \n",
       "salary_<=50K                           0.117218               -0.137646   \n",
       "salary_>50K                           -0.117218                0.137646   \n",
       "\n",
       "                              workclass_Self-emp-not-inc  workclass_State-gov  \\\n",
       "Unnamed: 0                                     -0.006005            -0.001250   \n",
       "age                                             0.150429             0.014805   \n",
       "hours-per-week                                  0.087835            -0.032976   \n",
       "salary K$                                       0.019587             0.002678   \n",
       "workclass_Federal-gov                          -0.053995            -0.037804   \n",
       "...                                                  ...                  ...   \n",
       "native-country_United-States                    0.014520             0.025370   \n",
       "native-country_Vietnam                         -0.003405            -0.006128   \n",
       "native-country_Yugoslavia                      -0.001701            -0.004848   \n",
       "salary_<=50K                                   -0.025575            -0.009752   \n",
       "salary_>50K                                     0.025575             0.009752   \n",
       "\n",
       "                              ...  native-country_Scotland  \\\n",
       "Unnamed: 0                    ...                 0.002413   \n",
       "age                           ...                 0.000024   \n",
       "hours-per-week                ...                 0.000689   \n",
       "salary K$                     ...                -0.001498   \n",
       "workclass_Federal-gov         ...                -0.003431   \n",
       "...                           ...                      ...   \n",
       "native-country_United-States  ...                -0.061442   \n",
       "native-country_Vietnam        ...                -0.000881   \n",
       "native-country_Yugoslavia     ...                -0.000440   \n",
       "salary_<=50K                  ...                 0.002964   \n",
       "salary_>50K                   ...                -0.002964   \n",
       "\n",
       "                              native-country_South  native-country_Taiwan  \\\n",
       "Unnamed: 0                               -0.003646              -0.005262   \n",
       "age                                       0.001923              -0.007879   \n",
       "hours-per-week                            0.014328              -0.000305   \n",
       "salary K$                                -0.006514               0.016939   \n",
       "workclass_Federal-gov                    -0.004795              -0.006708   \n",
       "...                                            ...                    ...   \n",
       "native-country_United-States             -0.156254              -0.120121   \n",
       "native-country_Vietnam                   -0.002240              -0.001722   \n",
       "native-country_Yugoslavia                -0.001119              -0.000860   \n",
       "salary_<=50K                              0.005812              -0.017571   \n",
       "salary_>50K                              -0.005812               0.017571   \n",
       "\n",
       "                              native-country_Thailand  \\\n",
       "Unnamed: 0                                  -0.002669   \n",
       "age                                         -0.004940   \n",
       "hours-per-week                               0.012846   \n",
       "salary K$                                   -0.000891   \n",
       "workclass_Federal-gov                       -0.004266   \n",
       "...                                               ...   \n",
       "native-country_United-States                -0.076390   \n",
       "native-country_Vietnam                      -0.001095   \n",
       "native-country_Yugoslavia                   -0.000547   \n",
       "salary_<=50K                                 0.003979   \n",
       "salary_>50K                                 -0.003979   \n",
       "\n",
       "                              native-country_Trinadad&Tobago  \\\n",
       "Unnamed: 0                                          0.007442   \n",
       "age                                                 0.007868   \n",
       "hours-per-week                                     -0.007566   \n",
       "salary K$                                          -0.003442   \n",
       "workclass_Federal-gov                              -0.004390   \n",
       "...                                                      ...   \n",
       "native-country_United-States                       -0.078606   \n",
       "native-country_Vietnam                             -0.001127   \n",
       "native-country_Yugoslavia                          -0.000563   \n",
       "salary_<=50K                                        0.007788   \n",
       "salary_>50K                                        -0.007788   \n",
       "\n",
       "                              native-country_United-States  \\\n",
       "Unnamed: 0                                        0.001993   \n",
       "age                                               0.016259   \n",
       "hours-per-week                                    0.010673   \n",
       "salary K$                                         0.034000   \n",
       "workclass_Federal-gov                             0.017541   \n",
       "...                                                    ...   \n",
       "native-country_United-States                      1.000000   \n",
       "native-country_Vietnam                           -0.148334   \n",
       "native-country_Yugoslavia                        -0.074108   \n",
       "salary_<=50K                                     -0.040204   \n",
       "salary_>50K                                       0.040204   \n",
       "\n",
       "                              native-country_Vietnam  \\\n",
       "Unnamed: 0                                 -0.000928   \n",
       "age                                        -0.017775   \n",
       "hours-per-week                             -0.010381   \n",
       "salary K$                                  -0.014737   \n",
       "workclass_Federal-gov                      -0.000004   \n",
       "...                                              ...   \n",
       "native-country_United-States               -0.148334   \n",
       "native-country_Vietnam                      1.000000   \n",
       "native-country_Yugoslavia                  -0.001062   \n",
       "salary_<=50K                                0.018215   \n",
       "salary_>50K                                -0.018215   \n",
       "\n",
       "                              native-country_Yugoslavia  salary_<=50K  \\\n",
       "Unnamed: 0                                     0.004350     -0.006244   \n",
       "age                                            0.000657     -0.241998   \n",
       "hours-per-week                                 0.006983     -0.229480   \n",
       "salary K$                                      0.008560     -0.853894   \n",
       "workclass_Federal-gov                         -0.004139     -0.057394   \n",
       "...                                                 ...           ...   \n",
       "native-country_United-States                  -0.074108     -0.040204   \n",
       "native-country_Vietnam                        -0.001062      0.018215   \n",
       "native-country_Yugoslavia                      1.000000     -0.006718   \n",
       "salary_<=50K                                  -0.006718      1.000000   \n",
       "salary_>50K                                    0.006718     -1.000000   \n",
       "\n",
       "                              salary_>50K  \n",
       "Unnamed: 0                       0.006244  \n",
       "age                              0.241998  \n",
       "hours-per-week                   0.229480  \n",
       "salary K$                        0.853894  \n",
       "workclass_Federal-gov            0.057394  \n",
       "...                                   ...  \n",
       "native-country_United-States     0.040204  \n",
       "native-country_Vietnam          -0.018215  \n",
       "native-country_Yugoslavia        0.006718  \n",
       "salary_<=50K                    -1.000000  \n",
       "salary_>50K                      1.000000  \n",
       "\n",
       "[104 rows x 104 columns]"
      ],
      "text/html": [
       "<div>\n",
       "<style scoped>\n",
       "    .dataframe tbody tr th:only-of-type {\n",
       "        vertical-align: middle;\n",
       "    }\n",
       "\n",
       "    .dataframe tbody tr th {\n",
       "        vertical-align: top;\n",
       "    }\n",
       "\n",
       "    .dataframe thead th {\n",
       "        text-align: right;\n",
       "    }\n",
       "</style>\n",
       "<table border=\"1\" class=\"dataframe\">\n",
       "  <thead>\n",
       "    <tr style=\"text-align: right;\">\n",
       "      <th></th>\n",
       "      <th>Unnamed: 0</th>\n",
       "      <th>age</th>\n",
       "      <th>hours-per-week</th>\n",
       "      <th>salary K$</th>\n",
       "      <th>workclass_Federal-gov</th>\n",
       "      <th>workclass_Local-gov</th>\n",
       "      <th>workclass_Private</th>\n",
       "      <th>workclass_Self-emp-inc</th>\n",
       "      <th>workclass_Self-emp-not-inc</th>\n",
       "      <th>workclass_State-gov</th>\n",
       "      <th>...</th>\n",
       "      <th>native-country_Scotland</th>\n",
       "      <th>native-country_South</th>\n",
       "      <th>native-country_Taiwan</th>\n",
       "      <th>native-country_Thailand</th>\n",
       "      <th>native-country_Trinadad&amp;Tobago</th>\n",
       "      <th>native-country_United-States</th>\n",
       "      <th>native-country_Vietnam</th>\n",
       "      <th>native-country_Yugoslavia</th>\n",
       "      <th>salary_&lt;=50K</th>\n",
       "      <th>salary_&gt;50K</th>\n",
       "    </tr>\n",
       "  </thead>\n",
       "  <tbody>\n",
       "    <tr>\n",
       "      <th>Unnamed: 0</th>\n",
       "      <td>1.000000</td>\n",
       "      <td>-0.001126</td>\n",
       "      <td>-0.001890</td>\n",
       "      <td>0.000129</td>\n",
       "      <td>0.000275</td>\n",
       "      <td>-0.000933</td>\n",
       "      <td>0.005641</td>\n",
       "      <td>-0.003275</td>\n",
       "      <td>-0.006005</td>\n",
       "      <td>-0.001250</td>\n",
       "      <td>...</td>\n",
       "      <td>0.002413</td>\n",
       "      <td>-0.003646</td>\n",
       "      <td>-0.005262</td>\n",
       "      <td>-0.002669</td>\n",
       "      <td>0.007442</td>\n",
       "      <td>0.001993</td>\n",
       "      <td>-0.000928</td>\n",
       "      <td>0.004350</td>\n",
       "      <td>-0.006244</td>\n",
       "      <td>0.006244</td>\n",
       "    </tr>\n",
       "    <tr>\n",
       "      <th>age</th>\n",
       "      <td>-0.001126</td>\n",
       "      <td>1.000000</td>\n",
       "      <td>0.101599</td>\n",
       "      <td>0.208203</td>\n",
       "      <td>0.056626</td>\n",
       "      <td>0.068256</td>\n",
       "      <td>-0.210491</td>\n",
       "      <td>0.111039</td>\n",
       "      <td>0.150429</td>\n",
       "      <td>0.014805</td>\n",
       "      <td>...</td>\n",
       "      <td>0.000024</td>\n",
       "      <td>0.001923</td>\n",
       "      <td>-0.007879</td>\n",
       "      <td>-0.004940</td>\n",
       "      <td>0.007868</td>\n",
       "      <td>0.016259</td>\n",
       "      <td>-0.017775</td>\n",
       "      <td>0.000657</td>\n",
       "      <td>-0.241998</td>\n",
       "      <td>0.241998</td>\n",
       "    </tr>\n",
       "    <tr>\n",
       "      <th>hours-per-week</th>\n",
       "      <td>-0.001890</td>\n",
       "      <td>0.101599</td>\n",
       "      <td>1.000000</td>\n",
       "      <td>0.196378</td>\n",
       "      <td>0.005229</td>\n",
       "      <td>0.001612</td>\n",
       "      <td>-0.095533</td>\n",
       "      <td>0.126254</td>\n",
       "      <td>0.087835</td>\n",
       "      <td>-0.032976</td>\n",
       "      <td>...</td>\n",
       "      <td>0.000689</td>\n",
       "      <td>0.014328</td>\n",
       "      <td>-0.000305</td>\n",
       "      <td>0.012846</td>\n",
       "      <td>-0.007566</td>\n",
       "      <td>0.010673</td>\n",
       "      <td>-0.010381</td>\n",
       "      <td>0.006983</td>\n",
       "      <td>-0.229480</td>\n",
       "      <td>0.229480</td>\n",
       "    </tr>\n",
       "    <tr>\n",
       "      <th>salary K$</th>\n",
       "      <td>0.000129</td>\n",
       "      <td>0.208203</td>\n",
       "      <td>0.196378</td>\n",
       "      <td>1.000000</td>\n",
       "      <td>0.050512</td>\n",
       "      <td>0.025856</td>\n",
       "      <td>-0.098187</td>\n",
       "      <td>0.119222</td>\n",
       "      <td>0.019587</td>\n",
       "      <td>0.002678</td>\n",
       "      <td>...</td>\n",
       "      <td>-0.001498</td>\n",
       "      <td>-0.006514</td>\n",
       "      <td>0.016939</td>\n",
       "      <td>-0.000891</td>\n",
       "      <td>-0.003442</td>\n",
       "      <td>0.034000</td>\n",
       "      <td>-0.014737</td>\n",
       "      <td>0.008560</td>\n",
       "      <td>-0.853894</td>\n",
       "      <td>0.853894</td>\n",
       "    </tr>\n",
       "    <tr>\n",
       "      <th>workclass_Federal-gov</th>\n",
       "      <td>0.000275</td>\n",
       "      <td>0.056626</td>\n",
       "      <td>0.005229</td>\n",
       "      <td>0.050512</td>\n",
       "      <td>1.000000</td>\n",
       "      <td>-0.048728</td>\n",
       "      <td>-0.302194</td>\n",
       "      <td>-0.034520</td>\n",
       "      <td>-0.053995</td>\n",
       "      <td>-0.037804</td>\n",
       "      <td>...</td>\n",
       "      <td>-0.003431</td>\n",
       "      <td>-0.004795</td>\n",
       "      <td>-0.006708</td>\n",
       "      <td>-0.004266</td>\n",
       "      <td>-0.004390</td>\n",
       "      <td>0.017541</td>\n",
       "      <td>-0.000004</td>\n",
       "      <td>-0.004139</td>\n",
       "      <td>-0.057394</td>\n",
       "      <td>0.057394</td>\n",
       "    </tr>\n",
       "    <tr>\n",
       "      <th>...</th>\n",
       "      <td>...</td>\n",
       "      <td>...</td>\n",
       "      <td>...</td>\n",
       "      <td>...</td>\n",
       "      <td>...</td>\n",
       "      <td>...</td>\n",
       "      <td>...</td>\n",
       "      <td>...</td>\n",
       "      <td>...</td>\n",
       "      <td>...</td>\n",
       "      <td>...</td>\n",
       "      <td>...</td>\n",
       "      <td>...</td>\n",
       "      <td>...</td>\n",
       "      <td>...</td>\n",
       "      <td>...</td>\n",
       "      <td>...</td>\n",
       "      <td>...</td>\n",
       "      <td>...</td>\n",
       "      <td>...</td>\n",
       "      <td>...</td>\n",
       "    </tr>\n",
       "    <tr>\n",
       "      <th>native-country_United-States</th>\n",
       "      <td>0.001993</td>\n",
       "      <td>0.016259</td>\n",
       "      <td>0.010673</td>\n",
       "      <td>0.034000</td>\n",
       "      <td>0.017541</td>\n",
       "      <td>0.032937</td>\n",
       "      <td>-0.049809</td>\n",
       "      <td>0.007350</td>\n",
       "      <td>0.014520</td>\n",
       "      <td>0.025370</td>\n",
       "      <td>...</td>\n",
       "      <td>-0.061442</td>\n",
       "      <td>-0.156254</td>\n",
       "      <td>-0.120121</td>\n",
       "      <td>-0.076390</td>\n",
       "      <td>-0.078606</td>\n",
       "      <td>1.000000</td>\n",
       "      <td>-0.148334</td>\n",
       "      <td>-0.074108</td>\n",
       "      <td>-0.040204</td>\n",
       "      <td>0.040204</td>\n",
       "    </tr>\n",
       "    <tr>\n",
       "      <th>native-country_Vietnam</th>\n",
       "      <td>-0.000928</td>\n",
       "      <td>-0.017775</td>\n",
       "      <td>-0.010381</td>\n",
       "      <td>-0.014737</td>\n",
       "      <td>-0.000004</td>\n",
       "      <td>-0.003952</td>\n",
       "      <td>0.009369</td>\n",
       "      <td>-0.004973</td>\n",
       "      <td>-0.003405</td>\n",
       "      <td>-0.006128</td>\n",
       "      <td>...</td>\n",
       "      <td>-0.000881</td>\n",
       "      <td>-0.002240</td>\n",
       "      <td>-0.001722</td>\n",
       "      <td>-0.001095</td>\n",
       "      <td>-0.001127</td>\n",
       "      <td>-0.148334</td>\n",
       "      <td>1.000000</td>\n",
       "      <td>-0.001062</td>\n",
       "      <td>0.018215</td>\n",
       "      <td>-0.018215</td>\n",
       "    </tr>\n",
       "    <tr>\n",
       "      <th>native-country_Yugoslavia</th>\n",
       "      <td>0.004350</td>\n",
       "      <td>0.000657</td>\n",
       "      <td>0.006983</td>\n",
       "      <td>0.008560</td>\n",
       "      <td>-0.004139</td>\n",
       "      <td>-0.000550</td>\n",
       "      <td>0.003861</td>\n",
       "      <td>0.003343</td>\n",
       "      <td>-0.001701</td>\n",
       "      <td>-0.004848</td>\n",
       "      <td>...</td>\n",
       "      <td>-0.000440</td>\n",
       "      <td>-0.001119</td>\n",
       "      <td>-0.000860</td>\n",
       "      <td>-0.000547</td>\n",
       "      <td>-0.000563</td>\n",
       "      <td>-0.074108</td>\n",
       "      <td>-0.001062</td>\n",
       "      <td>1.000000</td>\n",
       "      <td>-0.006718</td>\n",
       "      <td>0.006718</td>\n",
       "    </tr>\n",
       "    <tr>\n",
       "      <th>salary_&lt;=50K</th>\n",
       "      <td>-0.006244</td>\n",
       "      <td>-0.241998</td>\n",
       "      <td>-0.229480</td>\n",
       "      <td>-0.853894</td>\n",
       "      <td>-0.057394</td>\n",
       "      <td>-0.028673</td>\n",
       "      <td>0.117218</td>\n",
       "      <td>-0.137646</td>\n",
       "      <td>-0.025575</td>\n",
       "      <td>-0.009752</td>\n",
       "      <td>...</td>\n",
       "      <td>0.002964</td>\n",
       "      <td>0.005812</td>\n",
       "      <td>-0.017571</td>\n",
       "      <td>0.003979</td>\n",
       "      <td>0.007788</td>\n",
       "      <td>-0.040204</td>\n",
       "      <td>0.018215</td>\n",
       "      <td>-0.006718</td>\n",
       "      <td>1.000000</td>\n",
       "      <td>-1.000000</td>\n",
       "    </tr>\n",
       "    <tr>\n",
       "      <th>salary_&gt;50K</th>\n",
       "      <td>0.006244</td>\n",
       "      <td>0.241998</td>\n",
       "      <td>0.229480</td>\n",
       "      <td>0.853894</td>\n",
       "      <td>0.057394</td>\n",
       "      <td>0.028673</td>\n",
       "      <td>-0.117218</td>\n",
       "      <td>0.137646</td>\n",
       "      <td>0.025575</td>\n",
       "      <td>0.009752</td>\n",
       "      <td>...</td>\n",
       "      <td>-0.002964</td>\n",
       "      <td>-0.005812</td>\n",
       "      <td>0.017571</td>\n",
       "      <td>-0.003979</td>\n",
       "      <td>-0.007788</td>\n",
       "      <td>0.040204</td>\n",
       "      <td>-0.018215</td>\n",
       "      <td>0.006718</td>\n",
       "      <td>-1.000000</td>\n",
       "      <td>1.000000</td>\n",
       "    </tr>\n",
       "  </tbody>\n",
       "</table>\n",
       "<p>104 rows × 104 columns</p>\n",
       "</div>"
      ]
     },
     "execution_count": 48,
     "metadata": {},
     "output_type": "execute_result"
    }
   ],
   "execution_count": 48
  },
  {
   "metadata": {},
   "cell_type": "code",
   "outputs": [],
   "execution_count": null,
   "source": ""
  }
 ],
 "metadata": {
  "kernelspec": {
   "display_name": "Python 3",
   "language": "python",
   "name": "python3"
  },
  "language_info": {
   "codemirror_mode": {
    "name": "ipython",
    "version": 2
   },
   "file_extension": ".py",
   "mimetype": "text/x-python",
   "name": "python",
   "nbconvert_exporter": "python",
   "pygments_lexer": "ipython2",
   "version": "2.7.6"
  }
 },
 "nbformat": 4,
 "nbformat_minor": 0
}
