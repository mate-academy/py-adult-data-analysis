{
 "cells": [
  {
   "cell_type": "code",
   "execution_count": null,
   "outputs": [],
   "source": [
    "import numpy as np\n",
    "import pandas as pd"
   ],
   "metadata": {
    "collapsed": false,
    "pycharm": {
     "name": "#%%\n"
    }
   }
  },
  {
   "cell_type": "markdown",
   "source": [
    "# Task 0\n",
    "Read the dataset from csv file & perform data cleaning - remove all rows, which contains `?` in some columns.\n",
    "Also check for data correctness (salary & salary $K)."
   ],
   "metadata": {
    "collapsed": false,
    "pycharm": {
     "name": "#%% md\n"
    }
   }
  },
  {
   "cell_type": "code",
   "source": [
    "file_path = \"data/adult.csv\"\n",
    "df = pd.read_csv(file_path)\n",
    "\n",
    "df_cleaned = df[~df.isin(['?']).any(axis=1)]\n",
    "\n",
    "def is_salary_correct(salary):\n",
    "    return isinstance(salary, str) and salary.startswith('$') and salary[1:-1].isdigit() and salary.endswith('K')\n",
    "\n",
    "df_cleaned = df_cleaned[df_cleaned['salary'].apply(is_salary_correct)]\n",
    "\n",
    "df_cleaned.to_csv(\"data/cleaned_adult.csv\", index=False)"
   ],
   "metadata": {
    "collapsed": false,
    "pycharm": {
     "name": "#%%\n"
    }
   },
   "outputs": [],
   "execution_count": null
  },
  {
   "cell_type": "markdown",
   "source": [
    "# Task 1\n",
    "Print the count of men and women in the dataset."
   ],
   "metadata": {
    "collapsed": false,
    "pycharm": {
     "name": "#%% md\n"
    }
   }
  },
  {
   "cell_type": "code",
   "execution_count": 1,
   "outputs": [],
   "source": [
    "column_data = df[\"sex\"]\n",
    "gender_counts = column_data.value_counts()"
   ],
   "metadata": {
    "collapsed": false,
    "pycharm": {
     "name": "#%%\n"
    }
   }
  },
  {
   "cell_type": "markdown",
   "source": [
    "# Task 2\n",
    "Find the average age of men in dataset"
   ],
   "metadata": {
    "collapsed": false,
    "pycharm": {
     "name": "#%% md\n"
    }
   }
  },
  {
   "cell_type": "code",
   "execution_count": null,
   "outputs": [],
   "source": [
    "men_data = df[df[\"sex\"] == \"Male\"]\n",
    "average_age = men_data[\"age\"].mean()"
   ],
   "metadata": {
    "collapsed": false,
    "pycharm": {
     "name": "#%%\n"
    }
   }
  },
  {
   "cell_type": "markdown",
   "source": [
    "# Task 3\n",
    "Get the percentage of people from Poland (native-country)"
   ],
   "metadata": {
    "collapsed": false,
    "pycharm": {
     "name": "#%% md\n"
    }
   }
  },
  {
   "cell_type": "code",
   "source": [
    "poland_people = df[df[\"native-country\"] == \"Poland\"]\n",
    "\n",
    "total_people = len(df)\n",
    "\n",
    "count_poland_people = len(poland_people)\n",
    "\n",
    "poland_percent = (count_poland_people / total_people) * 100"
   ],
   "metadata": {
    "collapsed": false,
    "pycharm": {
     "name": "#%%\n"
    }
   },
   "outputs": [],
   "execution_count": null
  },
  {
   "cell_type": "markdown",
   "source": [
    "# Task 4\n",
    "Get the mean and standard deviation of the age for people who earn > 50K per year. After this, get it for those who earn <= 50K."
   ],
   "metadata": {
    "collapsed": false,
    "pycharm": {
     "name": "#%% md\n"
    }
   }
  },
  {
   "cell_type": "code",
   "execution_count": 2,
   "outputs": [],
   "source": [
    "high_income = df[df[\"income\"] == \">50K\"]\n",
    "\n",
    "low_income = df[df[\"income\"] == \"<=50K\"]\n",
    "\n",
    "mean_age_high_income = high_income[\"age\"].mean()\n",
    "std_dev_age_high_income = high_income[\"age\"].std()\n",
    "\n",
    "mean_age_low_income = low_income[\"age\"].mean()\n",
    "std_dev_age_low_income = low_income[\"age\"].std()"
   ],
   "metadata": {
    "collapsed": false,
    "pycharm": {
     "name": "#%%\n"
    }
   }
  },
  {
   "cell_type": "markdown",
   "source": [
    "# Task 5\n",
    "Check, if there are some people without higher education (education: Bachelors, Prof-school, Assoc-acdm, Assoc-voc, Masters, Doctorate), but with > 50K salary"
   ],
   "metadata": {
    "collapsed": false,
    "pycharm": {
     "name": "#%% md\n"
    }
   }
  },
  {
   "cell_type": "code",
   "execution_count": 3,
   "outputs": [],
   "source": [
    "higher_education = [\"Bachelors\", \"Prof-school\", \"Assoc-acdm\", \"Assoc-voc\", \"Masters\", \"Doctorate\"]\n",
    "\n",
    "high_income_no_education = df[(df[\"income\"] == \">50K\") & (~df[\"education\"].isin(higher_education))]\n",
    "\n",
    "if not high_income_no_education.empty:\n",
    "    print(\"There are people with income > 50K but without higher education.\")\n",
    "else:\n",
    "    print(\"There are no people with income > 50K but without higher education.\")"
   ],
   "metadata": {
    "collapsed": false,
    "pycharm": {
     "name": "#%%\n"
    }
   }
  },
  {
   "cell_type": "markdown",
   "source": [
    "# Task 6\n",
    "Get the statistics of age for each type of education. Use `groupby` and `describe` for this."
   ],
   "metadata": {
    "collapsed": false,
    "pycharm": {
     "name": "#%% md\n"
    }
   }
  },
  {
   "cell_type": "code",
   "execution_count": null,
   "outputs": [],
   "source": "education_stats = df.groupby(\"education\")[\"age\"].describe()",
   "metadata": {
    "collapsed": false,
    "pycharm": {
     "name": "#%%\n"
    }
   }
  },
  {
   "cell_type": "markdown",
   "source": [
    "# Task 7\n",
    "Compare the married and non-married men salaries. Who earns more? (>50K or <=50K)\n",
    "Married men are those, whom `marital-status` starts with \"Married\". Others are not."
   ],
   "metadata": {
    "collapsed": false,
    "pycharm": {
     "name": "#%% md\n"
    }
   }
  },
  {
   "cell_type": "code",
   "execution_count": 5,
   "outputs": [],
   "source": [
    "men_data = df[df[\"sex\"] == \"Male\"]\n",
    "\n",
    "married_men = men_data[men_data[\"marital-status\"].str.startswith(\"Married\")]\n",
    "non_married_men = men_data[~men_data[\"marital-status\"].str.startswith(\"Married\")]\n",
    "\n",
    "married_men_high_income = married_men[married_men[\"income\"] == \">50K\"]\n",
    "non_married_men_high_income = non_married_men[non_married_men[\"income\"] == \">50K\"]\n",
    "\n",
    "married_percent = (len(married_men_high_income) / len(married_men)) * 100\n",
    "non_married_percent = (len(non_married_men_high_income) / len(non_married_men)) * 100\n",
    "\n",
    "if married_percent > non_married_percent:\n",
    "    print(\"Married men earn more.\")\n",
    "else:\n",
    "    print(\"Non-married men earn more.\")"
   ],
   "metadata": {
    "collapsed": false,
    "pycharm": {
     "name": "#%%\n"
    }
   }
  },
  {
   "cell_type": "markdown",
   "source": [
    "# Task 8\n",
    "Get the max hours per week some person works. How many people works the same amount of hours per week?"
   ],
   "metadata": {
    "collapsed": false,
    "pycharm": {
     "name": "#%% md\n"
    }
   }
  },
  {
   "cell_type": "code",
   "execution_count": 6,
   "outputs": [],
   "source": [
    "max_hours = df[\"hours-per-week\"].max()\n",
    "\n",
    "people_with_max_hours = df[df[\"hours-per-week\"] == max_hours].shape[0]"
   ],
   "metadata": {
    "collapsed": false,
    "pycharm": {
     "name": "#%%\n"
    }
   }
  },
  {
   "cell_type": "markdown",
   "source": [
    "# Task 9\n",
    "Analyze the correlation between data in dataset. Understand connected fields in it and print highlight thier connection."
   ],
   "metadata": {
    "collapsed": false,
    "pycharm": {
     "name": "#%% md\n"
    }
   }
  },
  {
   "cell_type": "code",
   "execution_count": 7,
   "outputs": [],
   "source": [
    "correlation_matrix = df.corr()\n",
    "significant_correlation = correlation_matrix[correlation_matrix.abs() > 0.5]"
   ],
   "metadata": {
    "collapsed": false,
    "pycharm": {
     "name": "#%%\n"
    }
   }
  }
 ],
 "metadata": {
  "kernelspec": {
   "display_name": "Python 3",
   "language": "python",
   "name": "python3"
  },
  "language_info": {
   "codemirror_mode": {
    "name": "ipython",
    "version": 2
   },
   "file_extension": ".py",
   "mimetype": "text/x-python",
   "name": "python",
   "nbconvert_exporter": "python",
   "pygments_lexer": "ipython2",
   "version": "2.7.6"
  }
 },
 "nbformat": 4,
 "nbformat_minor": 0
}
