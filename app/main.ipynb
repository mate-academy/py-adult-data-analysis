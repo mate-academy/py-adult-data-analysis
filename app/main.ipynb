{
 "cells": [
  {
   "cell_type": "code",
   "execution_count": 3,
   "outputs": [],
   "source": [
    "import numpy as np\n",
    "import pandas as pd"
   ],
   "metadata": {
    "collapsed": false,
    "pycharm": {
     "name": "#%%\n"
    },
    "ExecuteTime": {
     "end_time": "2023-05-10T11:41:54.792667Z",
     "start_time": "2023-05-10T11:41:54.005411100Z"
    }
   }
  },
  {
   "cell_type": "markdown",
   "source": [
    "# Task 0\n",
    "Read the dataset from csv file & perform data cleaning - remove all rows, which contains `?` in some columns.\n",
    "Also check for data correctness (salary & salary $K)."
   ],
   "metadata": {
    "collapsed": false,
    "pycharm": {
     "name": "#%% md\n"
    }
   }
  },
  {
   "cell_type": "code",
   "execution_count": 29,
   "outputs": [
    {
     "name": "stdout",
     "output_type": "stream",
     "text": [
      "<class 'pandas.core.frame.DataFrame'>\n",
      "Index: 30162 entries, 0 to 32560\n",
      "Data columns (total 13 columns):\n",
      " #   Column          Non-Null Count  Dtype \n",
      "---  ------          --------------  ----- \n",
      " 0   Unnamed: 0      30162 non-null  int64 \n",
      " 1   age             30162 non-null  int64 \n",
      " 2   workclass       30162 non-null  object\n",
      " 3   education       30162 non-null  object\n",
      " 4   marital-status  30162 non-null  object\n",
      " 5   occupation      30162 non-null  object\n",
      " 6   relationship    30162 non-null  object\n",
      " 7   race            30162 non-null  object\n",
      " 8   sex             30162 non-null  object\n",
      " 9   hours-per-week  30162 non-null  int64 \n",
      " 10  native-country  30162 non-null  object\n",
      " 11  salary          30162 non-null  object\n",
      " 12  salary K$       30162 non-null  int64 \n",
      "dtypes: int64(4), object(9)\n",
      "memory usage: 3.2+ MB\n"
     ]
    }
   ],
   "source": [
    "df = pd.read_csv(\"adult.csv\")\n",
    "df = df.replace(\"?\", np.nan)\n",
    "df = df.dropna()\n",
    "df.info()"
   ],
   "metadata": {
    "collapsed": false,
    "pycharm": {
     "name": "#%%\n"
    },
    "ExecuteTime": {
     "end_time": "2023-05-10T13:12:14.485005300Z",
     "start_time": "2023-05-10T13:12:14.291604100Z"
    }
   }
  },
  {
   "cell_type": "code",
   "execution_count": 80,
   "outputs": [
    {
     "name": "stdout",
     "output_type": "stream",
     "text": [
      "<class 'pandas.core.frame.DataFrame'>\n",
      "Index: 30162 entries, 0 to 32560\n",
      "Data columns (total 16 columns):\n",
      " #   Column          Non-Null Count  Dtype \n",
      "---  ------          --------------  ----- \n",
      " 0   Unnamed: 0      30162 non-null  int64 \n",
      " 1   age             30162 non-null  int64 \n",
      " 2   workclass       30162 non-null  object\n",
      " 3   education       30162 non-null  object\n",
      " 4   marital-status  30162 non-null  object\n",
      " 5   occupation      30162 non-null  object\n",
      " 6   relationship    30162 non-null  object\n",
      " 7   race            30162 non-null  object\n",
      " 8   sex             30162 non-null  object\n",
      " 9   hours-per-week  30162 non-null  int64 \n",
      " 10  native-country  30162 non-null  object\n",
      " 11  salary          30162 non-null  object\n",
      " 12  salary_K$       30162 non-null  int64 \n",
      " 13  is_maried       30162 non-null  bool  \n",
      " 14  is_white        30162 non-null  bool  \n",
      " 15  is_usa          30162 non-null  bool  \n",
      "dtypes: bool(3), int64(4), object(9)\n",
      "memory usage: 3.3+ MB\n"
     ]
    }
   ],
   "source": [
    "df = df.rename(columns={\"salary K$\": \"salary_K$\"})\n",
    "mask1 = df[\"salary\"] == \"<=50K\"\n",
    "mask2 = df[\"salary_K$\"] <= 50\n",
    "\n",
    "mask3 = df[\"salary\"] == \">50K\"\n",
    "mask4 = df[\"salary_K$\"] > 50\n",
    "\n",
    "mask = (mask1 & mask2) | (mask3 & mask4)\n",
    "\n",
    "df = df[mask]\n",
    "df.info()"
   ],
   "metadata": {
    "collapsed": false,
    "ExecuteTime": {
     "end_time": "2023-05-10T15:24:18.585442900Z",
     "start_time": "2023-05-10T15:24:18.471154900Z"
    }
   }
  },
  {
   "cell_type": "markdown",
   "source": [
    "# Task 1\n",
    "Print the count of men and women in the dataset."
   ],
   "metadata": {
    "collapsed": false,
    "pycharm": {
     "name": "#%% md\n"
    }
   }
  },
  {
   "cell_type": "code",
   "execution_count": 31,
   "outputs": [
    {
     "name": "stdout",
     "output_type": "stream",
     "text": [
      "Men: 20380, Women: 9782\n"
     ]
    }
   ],
   "source": [
    "men_count = df[df[\"sex\"] == \"Male\"].shape[0]\n",
    "women_count = df[df[\"sex\"] == \"Female\"].shape[0]\n",
    "print(f\"Men: {men_count}, Women: {women_count}\")"
   ],
   "metadata": {
    "collapsed": false,
    "pycharm": {
     "name": "#%%\n"
    },
    "ExecuteTime": {
     "end_time": "2023-05-10T13:13:27.018589600Z",
     "start_time": "2023-05-10T13:13:26.971922800Z"
    }
   }
  },
  {
   "cell_type": "markdown",
   "source": [
    "# Task 2\n",
    "Find the average age of men in dataset"
   ],
   "metadata": {
    "collapsed": false,
    "pycharm": {
     "name": "#%% md\n"
    }
   }
  },
  {
   "cell_type": "code",
   "execution_count": 34,
   "outputs": [
    {
     "name": "stdout",
     "output_type": "stream",
     "text": [
      "Average age of men: 39.18400392541707\n"
     ]
    }
   ],
   "source": [
    "avg_age_men = df[df[\"sex\"] == \"Male\"][\"age\"].mean()\n",
    "print(f\"Average age of men: {avg_age_men}\")"
   ],
   "metadata": {
    "collapsed": false,
    "pycharm": {
     "name": "#%%\n"
    },
    "ExecuteTime": {
     "end_time": "2023-05-10T13:16:16.839883700Z",
     "start_time": "2023-05-10T13:16:16.775712600Z"
    }
   }
  },
  {
   "cell_type": "markdown",
   "source": [
    "# Task 3\n",
    "Get the percentage of people from Poland (native-country)"
   ],
   "metadata": {
    "collapsed": false,
    "pycharm": {
     "name": "#%% md\n"
    }
   }
  },
  {
   "cell_type": "code",
   "execution_count": 35,
   "outputs": [
    {
     "name": "stdout",
     "output_type": "stream",
     "text": [
      "Percentage of people from Poland: 0.18566408063125786%\n"
     ]
    }
   ],
   "source": [
    "poland_count = df[df[\"native-country\"] == \"Poland\"].shape[0]\n",
    "total_count = df.shape[0]\n",
    "percentage = (poland_count / total_count) * 100\n",
    "print(f\"Percentage of people from Poland: {percentage}%\")"
   ],
   "metadata": {
    "collapsed": false,
    "pycharm": {
     "name": "#%%\n"
    },
    "ExecuteTime": {
     "end_time": "2023-05-10T13:21:17.086387100Z",
     "start_time": "2023-05-10T13:21:17.070657800Z"
    }
   }
  },
  {
   "cell_type": "markdown",
   "source": [
    "# Task 4\n",
    "Get the mean and standard deviation of the age for people who earn > 50K per year. After this, get it for those who earn <= 50K."
   ],
   "metadata": {
    "collapsed": false,
    "pycharm": {
     "name": "#%% md\n"
    }
   }
  },
  {
   "cell_type": "code",
   "execution_count": 37,
   "outputs": [
    {
     "name": "stdout",
     "output_type": "stream",
     "text": [
      "Mean age for people who earn >50K per year: 43.95911028236548\n",
      "Standard deviation of age for people who earn >50K per year: 10.269632835673852\n",
      "Mean age for people who earn <=50K per year: 36.60806038668668\n",
      "Standard deviation of age for people who earn <=50K per year: 13.464631257161633\n"
     ]
    }
   ],
   "source": [
    "age_mean_50k = df[df[\"salary\"] == \">50K\"][\"age\"].mean()\n",
    "age_std_50k = df[df[\"salary\"] == \">50K\"][\"age\"].std()\n",
    "print(f\"Mean age for people who earn >50K per year: {age_mean_50k}\")\n",
    "print(f\"Standard deviation of age for people who earn >50K per year: {age_std_50k}\")\n",
    "\n",
    "age_mean_50k_less = df[df[\"salary\"] == \"<=50K\"][\"age\"].mean()\n",
    "age_std_50k_less = df[df[\"salary\"] == \"<=50K\"][\"age\"].std()\n",
    "print(f\"Mean age for people who earn <=50K per year: {age_mean_50k_less}\")\n",
    "print(f\"Standard deviation of age for people who earn <=50K per year: {age_std_50k_less}\")"
   ],
   "metadata": {
    "collapsed": false,
    "pycharm": {
     "name": "#%%\n"
    },
    "ExecuteTime": {
     "end_time": "2023-05-10T13:25:27.884986700Z",
     "start_time": "2023-05-10T13:25:27.821960300Z"
    }
   }
  },
  {
   "cell_type": "markdown",
   "source": [
    "# Task 5\n",
    "Check, if there are some people without higher education (education: Bachelors, Prof-school, Assoc-acdm, Assoc-voc, Masters, Doctorate), but with > 50K salary"
   ],
   "metadata": {
    "collapsed": false,
    "pycharm": {
     "name": "#%% md\n"
    }
   }
  },
  {
   "cell_type": "code",
   "execution_count": 48,
   "outputs": [
    {
     "name": "stdout",
     "output_type": "stream",
     "text": [
      "3178 people without higher education but with >50K salary, from 30162 people, it is 10.54%\n"
     ]
    }
   ],
   "source": [
    "higher_edu = [\"Bachelors\", \"Prof-school\", \"Assoc-acdm\", \"Assoc-voc\", \"Masters\", \"Doctorate\"]\n",
    "no_higher_edu = ~df[\"education\"].isin(higher_edu)\n",
    "high_salary = df[\"salary\"] == \">50K\"\n",
    "result = df[no_higher_edu & high_salary].shape[0]\n",
    "all_people = df.shape[0]\n",
    "percentage = result/all_people * 100\n",
    "print(f\"{result} people without higher education but with >50K salary, from {all_people} people, it is {percentage:.2f}%\")"
   ],
   "metadata": {
    "collapsed": false,
    "pycharm": {
     "name": "#%%\n"
    },
    "ExecuteTime": {
     "end_time": "2023-05-10T13:40:58.357252300Z",
     "start_time": "2023-05-10T13:40:58.270766100Z"
    }
   }
  },
  {
   "cell_type": "markdown",
   "source": [
    "# Task 6\n",
    "Get the statistics of age for each type of education. Use `groupby` and `describe` for this."
   ],
   "metadata": {
    "collapsed": false,
    "pycharm": {
     "name": "#%% md\n"
    }
   }
  },
  {
   "cell_type": "code",
   "execution_count": 51,
   "outputs": [
    {
     "name": "stdout",
     "output_type": "stream",
     "text": [
      "               count       mean        std   min   25%   50%   75%   max\n",
      "education                                                               \n",
      "10th           820.0  37.897561  16.225795  17.0  23.0  36.0  52.0  90.0\n",
      "11th          1048.0  32.363550  15.089307  17.0  18.0  28.5  43.0  90.0\n",
      "12th           377.0  32.013263  14.373710  17.0  19.0  28.0  41.0  79.0\n",
      "1st-4th        151.0  44.622517  14.929051  19.0  33.0  44.0  56.0  81.0\n",
      "5th-6th        288.0  41.649306  14.754622  17.0  28.0  41.0  53.0  82.0\n",
      "7th-8th        557.0  47.631957  15.737479  17.0  34.0  49.0  60.0  90.0\n",
      "9th            455.0  40.303297  15.335754  17.0  28.0  38.0  53.0  90.0\n",
      "Assoc-acdm    1008.0  37.286706  10.509755  19.0  29.0  36.0  44.0  90.0\n",
      "Assoc-voc     1307.0  38.246366  11.181253  19.0  30.0  37.0  45.0  84.0\n",
      "Bachelors     5044.0  38.641554  11.577566  19.0  29.0  37.0  46.0  90.0\n",
      "Doctorate      375.0  47.130667  11.471727  24.0  39.0  47.0  54.0  80.0\n",
      "HS-grad       9840.0  38.640955  13.067730  17.0  28.0  37.0  48.0  90.0\n",
      "Masters       1627.0  43.740012  10.735356  18.0  36.0  43.0  50.0  90.0\n",
      "Preschool       45.0  41.288889  15.175672  19.0  30.0  40.0  53.0  75.0\n",
      "Prof-school    542.0  44.249077  11.428098  25.0  36.0  43.0  50.0  90.0\n",
      "Some-college  6678.0  36.135370  13.073528  17.0  25.0  35.0  45.0  90.0\n"
     ]
    }
   ],
   "source": [
    "grouped = df.groupby(\"education\")[\"age\"].describe()\n",
    "print(grouped)"
   ],
   "metadata": {
    "collapsed": false,
    "pycharm": {
     "name": "#%%\n"
    },
    "ExecuteTime": {
     "end_time": "2023-05-10T13:57:10.229081300Z",
     "start_time": "2023-05-10T13:57:10.159556200Z"
    }
   }
  },
  {
   "cell_type": "markdown",
   "source": [
    "# Task 7\n",
    "Compare the married and non-married men salaries. Who earns more? (>50K or <=50K)\n",
    "Married men are those, whom `marital-status` starts with \"Married\". Others are not."
   ],
   "metadata": {
    "collapsed": false,
    "pycharm": {
     "name": "#%% md\n"
    }
   }
  },
  {
   "cell_type": "code",
   "execution_count": 52,
   "outputs": [
    {
     "name": "stdout",
     "output_type": "stream",
     "text": [
      "Married men with >50K salary: 5723\n",
      "Married men with <=50K salary: 7052\n",
      "Non-married men with >50K salary: 673\n",
      "Non-married men with <=50K salary: 6932\n"
     ]
    }
   ],
   "source": [
    "married_men = df[(df[\"sex\"] == \"Male\") & (df[\"marital-status\"].str.startswith(\"Married\"))]\n",
    "non_married_men = df[(df[\"sex\"] == \"Male\") & (~df[\"marital-status\"].str.startswith(\"Married\"))]\n",
    "\n",
    "married_men_high_salary_count = married_men[married_men[\"salary\"] == \">50K\"].shape[0]\n",
    "married_men_low_salary_count = married_men[married_men[\"salary\"] == \"<=50K\"].shape[0]\n",
    "\n",
    "non_married_men_high_salary_count = non_married_men[non_married_men[\"salary\"] == \">50K\"].shape[0]\n",
    "non_married_men_low_salary_count = non_married_men[non_married_men[\"salary\"] == \"<=50K\"].shape[0]\n",
    "\n",
    "print(f\"Married men with >50K salary: {married_men_high_salary_count}\")\n",
    "print(f\"Married men with <=50K salary: {married_men_low_salary_count}\")\n",
    "print(f\"Non-married men with >50K salary: {non_married_men_high_salary_count}\")\n",
    "print(f\"Non-married men with <=50K salary: {non_married_men_low_salary_count}\")\n"
   ],
   "metadata": {
    "collapsed": false,
    "pycharm": {
     "name": "#%%\n"
    },
    "ExecuteTime": {
     "end_time": "2023-05-10T14:00:55.754112800Z",
     "start_time": "2023-05-10T14:00:55.690164700Z"
    }
   }
  },
  {
   "cell_type": "markdown",
   "source": [
    "# Task 8\n",
    "Get the max hours per week some person works. How many people works the same amount of hours per week?"
   ],
   "metadata": {
    "collapsed": false,
    "pycharm": {
     "name": "#%% md\n"
    }
   }
  },
  {
   "cell_type": "code",
   "execution_count": 53,
   "outputs": [
    {
     "name": "stdout",
     "output_type": "stream",
     "text": [
      "Max hours per week: 99\n",
      "Number of people who work the same amount of hours per week: 78\n"
     ]
    }
   ],
   "source": [
    "max_hours_per_week = df[\"hours-per-week\"].max()\n",
    "num_people_max_hours = df[df[\"hours-per-week\"] == max_hours_per_week].shape[0]\n",
    "print(f\"Max hours per week: {max_hours_per_week}\")\n",
    "print(f\"Number of people who work the same amount of hours per week: {num_people_max_hours}\")"
   ],
   "metadata": {
    "collapsed": false,
    "pycharm": {
     "name": "#%%\n"
    },
    "ExecuteTime": {
     "end_time": "2023-05-10T14:16:57.064021500Z",
     "start_time": "2023-05-10T14:16:57.057021Z"
    }
   }
  },
  {
   "cell_type": "markdown",
   "source": [
    "# Task 9\n",
    "Analyze the correlation between data in dataset. Understand connected fields in it and print highlight thier connection."
   ],
   "metadata": {
    "collapsed": false,
    "pycharm": {
     "name": "#%% md\n"
    }
   }
  },
  {
   "cell_type": "code",
   "execution_count": 79,
   "outputs": [
    {
     "data": {
      "text/plain": "<pandas.io.formats.style.Styler at 0x2bd5f64b5d0>",
      "text/html": "<style type=\"text/css\">\n#T_149d8_row0_col0, #T_149d8_row0_col1, #T_149d8_row0_col4, #T_149d8_row0_col5, #T_149d8_row1_col0, #T_149d8_row1_col1, #T_149d8_row1_col2, #T_149d8_row1_col4, #T_149d8_row1_col5, #T_149d8_row2_col1, #T_149d8_row2_col2, #T_149d8_row2_col4, #T_149d8_row2_col5, #T_149d8_row3_col3, #T_149d8_row3_col4, #T_149d8_row3_col5, #T_149d8_row4_col0, #T_149d8_row4_col1, #T_149d8_row4_col2, #T_149d8_row4_col3, #T_149d8_row4_col4, #T_149d8_row4_col5, #T_149d8_row5_col0, #T_149d8_row5_col1, #T_149d8_row5_col2, #T_149d8_row5_col3, #T_149d8_row5_col4, #T_149d8_row5_col5 {\n  opacity: 20%;\n}\n#T_149d8_row0_col3, #T_149d8_row2_col3, #T_149d8_row3_col0, #T_149d8_row3_col2 {\n  color: red;\n}\n</style>\n<table id=\"T_149d8\">\n  <thead>\n    <tr>\n      <th class=\"blank level0\" >&nbsp;</th>\n      <th id=\"T_149d8_level0_col0\" class=\"col_heading level0 col0\" >age</th>\n      <th id=\"T_149d8_level0_col1\" class=\"col_heading level0 col1\" >hours-per-week</th>\n      <th id=\"T_149d8_level0_col2\" class=\"col_heading level0 col2\" >salary_K$</th>\n      <th id=\"T_149d8_level0_col3\" class=\"col_heading level0 col3\" >is_maried</th>\n      <th id=\"T_149d8_level0_col4\" class=\"col_heading level0 col4\" >is_white</th>\n      <th id=\"T_149d8_level0_col5\" class=\"col_heading level0 col5\" >is_usa</th>\n    </tr>\n  </thead>\n  <tbody>\n    <tr>\n      <th id=\"T_149d8_level0_row0\" class=\"row_heading level0 row0\" >age</th>\n      <td id=\"T_149d8_row0_col0\" class=\"data row0 col0\" >1.000000</td>\n      <td id=\"T_149d8_row0_col1\" class=\"data row0 col1\" >0.101599</td>\n      <td id=\"T_149d8_row0_col2\" class=\"data row0 col2\" >0.208203</td>\n      <td id=\"T_149d8_row0_col3\" class=\"data row0 col3\" >0.310553</td>\n      <td id=\"T_149d8_row0_col4\" class=\"data row0 col4\" >0.026906</td>\n      <td id=\"T_149d8_row0_col5\" class=\"data row0 col5\" >0.016259</td>\n    </tr>\n    <tr>\n      <th id=\"T_149d8_level0_row1\" class=\"row_heading level0 row1\" >hours-per-week</th>\n      <td id=\"T_149d8_row1_col0\" class=\"data row1 col0\" >0.101599</td>\n      <td id=\"T_149d8_row1_col1\" class=\"data row1 col1\" >1.000000</td>\n      <td id=\"T_149d8_row1_col2\" class=\"data row1 col2\" >0.196378</td>\n      <td id=\"T_149d8_row1_col3\" class=\"data row1 col3\" >0.221492</td>\n      <td id=\"T_149d8_row1_col4\" class=\"data row1 col4\" >0.056404</td>\n      <td id=\"T_149d8_row1_col5\" class=\"data row1 col5\" >0.010673</td>\n    </tr>\n    <tr>\n      <th id=\"T_149d8_level0_row2\" class=\"row_heading level0 row2\" >salary_K$</th>\n      <td id=\"T_149d8_row2_col0\" class=\"data row2 col0\" >0.208203</td>\n      <td id=\"T_149d8_row2_col1\" class=\"data row2 col1\" >0.196378</td>\n      <td id=\"T_149d8_row2_col2\" class=\"data row2 col2\" >1.000000</td>\n      <td id=\"T_149d8_row2_col3\" class=\"data row2 col3\" >0.375202</td>\n      <td id=\"T_149d8_row2_col4\" class=\"data row2 col4\" >0.071669</td>\n      <td id=\"T_149d8_row2_col5\" class=\"data row2 col5\" >0.034000</td>\n    </tr>\n    <tr>\n      <th id=\"T_149d8_level0_row3\" class=\"row_heading level0 row3\" >is_maried</th>\n      <td id=\"T_149d8_row3_col0\" class=\"data row3 col0\" >0.310553</td>\n      <td id=\"T_149d8_row3_col1\" class=\"data row3 col1\" >0.221492</td>\n      <td id=\"T_149d8_row3_col2\" class=\"data row3 col2\" >0.375202</td>\n      <td id=\"T_149d8_row3_col3\" class=\"data row3 col3\" >1.000000</td>\n      <td id=\"T_149d8_row3_col4\" class=\"data row3 col4\" >0.097076</td>\n      <td id=\"T_149d8_row3_col5\" class=\"data row3 col5\" >-0.030453</td>\n    </tr>\n    <tr>\n      <th id=\"T_149d8_level0_row4\" class=\"row_heading level0 row4\" >is_white</th>\n      <td id=\"T_149d8_row4_col0\" class=\"data row4 col0\" >0.026906</td>\n      <td id=\"T_149d8_row4_col1\" class=\"data row4 col1\" >0.056404</td>\n      <td id=\"T_149d8_row4_col2\" class=\"data row4 col2\" >0.071669</td>\n      <td id=\"T_149d8_row4_col3\" class=\"data row4 col3\" >0.097076</td>\n      <td id=\"T_149d8_row4_col4\" class=\"data row4 col4\" >1.000000</td>\n      <td id=\"T_149d8_row4_col5\" class=\"data row4 col5\" >0.192115</td>\n    </tr>\n    <tr>\n      <th id=\"T_149d8_level0_row5\" class=\"row_heading level0 row5\" >is_usa</th>\n      <td id=\"T_149d8_row5_col0\" class=\"data row5 col0\" >0.016259</td>\n      <td id=\"T_149d8_row5_col1\" class=\"data row5 col1\" >0.010673</td>\n      <td id=\"T_149d8_row5_col2\" class=\"data row5 col2\" >0.034000</td>\n      <td id=\"T_149d8_row5_col3\" class=\"data row5 col3\" >-0.030453</td>\n      <td id=\"T_149d8_row5_col4\" class=\"data row5 col4\" >0.192115</td>\n      <td id=\"T_149d8_row5_col5\" class=\"data row5 col5\" >1.000000</td>\n    </tr>\n  </tbody>\n</table>\n"
     },
     "execution_count": 79,
     "metadata": {},
     "output_type": "execute_result"
    }
   ],
   "source": [
    "df[\"is_maried\"] = df[\"marital-status\"].str.startswith(\"Married\")\n",
    "df[\"is_white\"] = df[\"race\"].str.startswith(\"White\")\n",
    "df[\"is_usa\"] = df[\"native-country\"].str.startswith(\"United-States\")\n",
    "\n",
    "numerical_cols = df.select_dtypes(include=[np.number, \"bool\"]).columns\n",
    "numerical_df = df[numerical_cols]\n",
    "numerical_df = numerical_df.drop(\"Unnamed: 0\", axis=1)\n",
    "corr = numerical_df.corr()\n",
    "\n",
    "def style_negative(v, props=\"\"):\n",
    "    return props if v > 0.3 and v != 1 else None\n",
    "\n",
    "s2 = corr.style.applymap(style_negative, props=\"color:red;\")\\\n",
    "              .applymap(lambda v: \"opacity: 20%;\" if (v < 0.2) and (v > -0.2) or v == 1 else None)\n",
    "s2"
   ],
   "metadata": {
    "collapsed": false,
    "pycharm": {
     "name": "#%%\n"
    },
    "ExecuteTime": {
     "end_time": "2023-05-10T15:21:32.355188100Z",
     "start_time": "2023-05-10T15:21:32.257373300Z"
    }
   }
  },
  {
   "cell_type": "code",
   "execution_count": null,
   "outputs": [],
   "source": [],
   "metadata": {
    "collapsed": false
   }
  }
 ],
 "metadata": {
  "kernelspec": {
   "display_name": "Python 3",
   "language": "python",
   "name": "python3"
  },
  "language_info": {
   "codemirror_mode": {
    "name": "ipython",
    "version": 2
   },
   "file_extension": ".py",
   "mimetype": "text/x-python",
   "name": "python",
   "nbconvert_exporter": "python",
   "pygments_lexer": "ipython2",
   "version": "2.7.6"
  }
 },
 "nbformat": 4,
 "nbformat_minor": 0
}
