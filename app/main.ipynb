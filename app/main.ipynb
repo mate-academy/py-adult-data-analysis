{
 "cells": [
  {
   "cell_type": "code",
   "execution_count": 3,
   "outputs": [],
   "source": [
    "import pandas as pd\n",
    "import pd as pd"
   ],
   "metadata": {
    "collapsed": false
   }
  },
  {
   "cell_type": "markdown",
   "source": [
    "# Task 0\n",
    "Read the dataset from csv file & perform data cleaning - remove all rows, which contains `?` in some columns.\n",
    "Also check for data correctness (salary & salary $K)."
   ],
   "metadata": {
    "collapsed": false
   }
  },
  {
   "cell_type": "code",
   "execution_count": 4,
   "outputs": [],
   "source": [
    "data = pd.read_csv(\"/Users/artemkazakov/PycharmProjects/py-adult-data-analysis/data/adult.csv\")\n",
    "invalid_value = data.isin([\"?\"]).any(axis=1)\n",
    "data = data[~invalid_value]\n",
    "data[\"salary\"] = data[\"salary K$\"].apply(lambda x: \"<=50K\" if x <= 50 else \">50K\")"
   ],
   "metadata": {
    "collapsed": false
   }
  },
  {
   "cell_type": "markdown",
   "source": [
    "# Task 1\n",
    "Print the count of men and women in the dataset."
   ],
   "metadata": {
    "collapsed": false
   }
  },
  {
   "cell_type": "markdown",
   "source": [],
   "metadata": {
    "collapsed": false
   }
  },
  {
   "cell_type": "code",
   "execution_count": 5,
   "outputs": [
    {
     "data": {
      "text/plain": "Male      20380\nFemale     9782\nName: sex, dtype: int64"
     },
     "execution_count": 5,
     "metadata": {},
     "output_type": "execute_result"
    }
   ],
   "source": [
    "data[\"sex\"].value_counts()"
   ],
   "metadata": {
    "collapsed": false
   }
  },
  {
   "cell_type": "markdown",
   "source": [
    "# Task 2\n",
    "Find the average age of men in dataset"
   ],
   "metadata": {
    "collapsed": false
   }
  },
  {
   "cell_type": "code",
   "execution_count": 34,
   "outputs": [
    {
     "data": {
      "text/plain": "average age of men    38.437902\ndtype: float64"
     },
     "execution_count": 34,
     "metadata": {},
     "output_type": "execute_result"
    }
   ],
   "source": [
    "mean_age = pd.Series(data[\"age\"].mean(), index=[\"average age of men\"])\n",
    "mean_age"
   ],
   "metadata": {
    "collapsed": false
   }
  },
  {
   "cell_type": "markdown",
   "source": [
    "# Task 3\n",
    "Get the percentage of people from Poland (native-country)"
   ],
   "metadata": {
    "collapsed": false
   }
  },
  {
   "cell_type": "code",
   "execution_count": 30,
   "outputs": [
    {
     "data": {
      "text/plain": "percentage of people from Poland    0.185664\ndtype: float64"
     },
     "execution_count": 30,
     "metadata": {},
     "output_type": "execute_result"
    }
   ],
   "source": [
    "percentage = (data[\"native-country\"].value_counts(normalize=True)) * 100\n",
    "poland_percentage = pd.Series(percentage.loc[\"Poland\"], index=[\"percentage of people from Poland\"])\n",
    "poland_percentage"
   ],
   "metadata": {
    "collapsed": false
   }
  },
  {
   "cell_type": "markdown",
   "source": [
    "# Task 4\n",
    "Get the mean and standard deviation of the age for people who earn > 50K per year. After this, get it for those who earn <= 50K."
   ],
   "metadata": {
    "collapsed": false
   }
  },
  {
   "cell_type": "code",
   "execution_count": 38,
   "outputs": [
    {
     "data": {
      "text/plain": "       mean_age    std_age\n> 50K  43.95911  10.269633\n<=50K  36.60806  13.464631",
      "text/html": "<div>\n<style scoped>\n    .dataframe tbody tr th:only-of-type {\n        vertical-align: middle;\n    }\n\n    .dataframe tbody tr th {\n        vertical-align: top;\n    }\n\n    .dataframe thead th {\n        text-align: right;\n    }\n</style>\n<table border=\"1\" class=\"dataframe\">\n  <thead>\n    <tr style=\"text-align: right;\">\n      <th></th>\n      <th>mean_age</th>\n      <th>std_age</th>\n    </tr>\n  </thead>\n  <tbody>\n    <tr>\n      <th>&gt; 50K</th>\n      <td>43.95911</td>\n      <td>10.269633</td>\n    </tr>\n    <tr>\n      <th>&lt;=50K</th>\n      <td>36.60806</td>\n      <td>13.464631</td>\n    </tr>\n  </tbody>\n</table>\n</div>"
     },
     "execution_count": 38,
     "metadata": {},
     "output_type": "execute_result"
    }
   ],
   "source": [
    "rich_data = data[data[\"salary\"] == \">50K\"]\n",
    "poor_data = data[data[\"salary\"] == \"<=50K\"]\n",
    "df = pd.DataFrame({\"mean_age\": [rich_data[\"age\"].mean(), poor_data[\"age\"].mean()], \"std_age\": [rich_data[\"age\"].std(), poor_data[\"age\"].std()]}, index=[\"> 50K\", \"<=50K\"])\n",
    "df"
   ],
   "metadata": {
    "collapsed": false
   }
  },
  {
   "cell_type": "markdown",
   "source": [
    "# Task 5\n",
    "Check, if there are some people without higher education (education: Bachelors, Prof-school, Assoc-acdm, Assoc-voc, Masters, Doctorate), but with > 50K salary"
   ],
   "metadata": {
    "collapsed": false
   }
  },
  {
   "cell_type": "code",
   "execution_count": 9,
   "outputs": [
    {
     "data": {
      "text/plain": "       Unnamed: 0  age         workclass     education      marital-status  \\\n7               7   52  Self-emp-not-inc       HS-grad  Married-civ-spouse   \n10             10   37           Private  Some-college  Married-civ-spouse   \n55             55   43           Private  Some-college  Married-civ-spouse   \n67             67   53           Private       HS-grad  Married-civ-spouse   \n68             68   49      Self-emp-inc  Some-college  Married-civ-spouse   \n...           ...  ...               ...           ...                 ...   \n32462       32462   48      Self-emp-inc       HS-grad  Married-civ-spouse   \n32518       32518   57         Local-gov       HS-grad  Married-civ-spouse   \n32519       32519   46           Private  Some-college  Married-civ-spouse   \n32557       32557   40           Private       HS-grad  Married-civ-spouse   \n32560       32560   52      Self-emp-inc       HS-grad  Married-civ-spouse   \n\n              occupation relationship   race     sex  hours-per-week  \\\n7        Exec-managerial      Husband  White    Male              45   \n10       Exec-managerial      Husband  Black    Male              80   \n55          Tech-support      Husband  White    Male              40   \n67          Adm-clerical         Wife  White  Female              40   \n68       Exec-managerial      Husband  White    Male              50   \n...                  ...          ...    ...     ...             ...   \n32462       Craft-repair      Husband  White    Male              50   \n32518       Craft-repair      Husband  White    Male              40   \n32519    Exec-managerial      Husband  White    Male              48   \n32557  Machine-op-inspct      Husband  White    Male              40   \n32560    Exec-managerial         Wife  White  Female              40   \n\n      native-country salary  salary K$  \n7      United-States   >50K        307  \n10     United-States   >50K        116  \n55     United-States   >50K        341  \n67     United-States   >50K        225  \n68     United-States   >50K        194  \n...              ...    ...        ...  \n32462  United-States   >50K        343  \n32518  United-States   >50K        116  \n32519  United-States   >50K        239  \n32557  United-States   >50K        173  \n32560  United-States   >50K        243  \n\n[3178 rows x 13 columns]",
      "text/html": "<div>\n<style scoped>\n    .dataframe tbody tr th:only-of-type {\n        vertical-align: middle;\n    }\n\n    .dataframe tbody tr th {\n        vertical-align: top;\n    }\n\n    .dataframe thead th {\n        text-align: right;\n    }\n</style>\n<table border=\"1\" class=\"dataframe\">\n  <thead>\n    <tr style=\"text-align: right;\">\n      <th></th>\n      <th>Unnamed: 0</th>\n      <th>age</th>\n      <th>workclass</th>\n      <th>education</th>\n      <th>marital-status</th>\n      <th>occupation</th>\n      <th>relationship</th>\n      <th>race</th>\n      <th>sex</th>\n      <th>hours-per-week</th>\n      <th>native-country</th>\n      <th>salary</th>\n      <th>salary K$</th>\n    </tr>\n  </thead>\n  <tbody>\n    <tr>\n      <th>7</th>\n      <td>7</td>\n      <td>52</td>\n      <td>Self-emp-not-inc</td>\n      <td>HS-grad</td>\n      <td>Married-civ-spouse</td>\n      <td>Exec-managerial</td>\n      <td>Husband</td>\n      <td>White</td>\n      <td>Male</td>\n      <td>45</td>\n      <td>United-States</td>\n      <td>&gt;50K</td>\n      <td>307</td>\n    </tr>\n    <tr>\n      <th>10</th>\n      <td>10</td>\n      <td>37</td>\n      <td>Private</td>\n      <td>Some-college</td>\n      <td>Married-civ-spouse</td>\n      <td>Exec-managerial</td>\n      <td>Husband</td>\n      <td>Black</td>\n      <td>Male</td>\n      <td>80</td>\n      <td>United-States</td>\n      <td>&gt;50K</td>\n      <td>116</td>\n    </tr>\n    <tr>\n      <th>55</th>\n      <td>55</td>\n      <td>43</td>\n      <td>Private</td>\n      <td>Some-college</td>\n      <td>Married-civ-spouse</td>\n      <td>Tech-support</td>\n      <td>Husband</td>\n      <td>White</td>\n      <td>Male</td>\n      <td>40</td>\n      <td>United-States</td>\n      <td>&gt;50K</td>\n      <td>341</td>\n    </tr>\n    <tr>\n      <th>67</th>\n      <td>67</td>\n      <td>53</td>\n      <td>Private</td>\n      <td>HS-grad</td>\n      <td>Married-civ-spouse</td>\n      <td>Adm-clerical</td>\n      <td>Wife</td>\n      <td>White</td>\n      <td>Female</td>\n      <td>40</td>\n      <td>United-States</td>\n      <td>&gt;50K</td>\n      <td>225</td>\n    </tr>\n    <tr>\n      <th>68</th>\n      <td>68</td>\n      <td>49</td>\n      <td>Self-emp-inc</td>\n      <td>Some-college</td>\n      <td>Married-civ-spouse</td>\n      <td>Exec-managerial</td>\n      <td>Husband</td>\n      <td>White</td>\n      <td>Male</td>\n      <td>50</td>\n      <td>United-States</td>\n      <td>&gt;50K</td>\n      <td>194</td>\n    </tr>\n    <tr>\n      <th>...</th>\n      <td>...</td>\n      <td>...</td>\n      <td>...</td>\n      <td>...</td>\n      <td>...</td>\n      <td>...</td>\n      <td>...</td>\n      <td>...</td>\n      <td>...</td>\n      <td>...</td>\n      <td>...</td>\n      <td>...</td>\n      <td>...</td>\n    </tr>\n    <tr>\n      <th>32462</th>\n      <td>32462</td>\n      <td>48</td>\n      <td>Self-emp-inc</td>\n      <td>HS-grad</td>\n      <td>Married-civ-spouse</td>\n      <td>Craft-repair</td>\n      <td>Husband</td>\n      <td>White</td>\n      <td>Male</td>\n      <td>50</td>\n      <td>United-States</td>\n      <td>&gt;50K</td>\n      <td>343</td>\n    </tr>\n    <tr>\n      <th>32518</th>\n      <td>32518</td>\n      <td>57</td>\n      <td>Local-gov</td>\n      <td>HS-grad</td>\n      <td>Married-civ-spouse</td>\n      <td>Craft-repair</td>\n      <td>Husband</td>\n      <td>White</td>\n      <td>Male</td>\n      <td>40</td>\n      <td>United-States</td>\n      <td>&gt;50K</td>\n      <td>116</td>\n    </tr>\n    <tr>\n      <th>32519</th>\n      <td>32519</td>\n      <td>46</td>\n      <td>Private</td>\n      <td>Some-college</td>\n      <td>Married-civ-spouse</td>\n      <td>Exec-managerial</td>\n      <td>Husband</td>\n      <td>White</td>\n      <td>Male</td>\n      <td>48</td>\n      <td>United-States</td>\n      <td>&gt;50K</td>\n      <td>239</td>\n    </tr>\n    <tr>\n      <th>32557</th>\n      <td>32557</td>\n      <td>40</td>\n      <td>Private</td>\n      <td>HS-grad</td>\n      <td>Married-civ-spouse</td>\n      <td>Machine-op-inspct</td>\n      <td>Husband</td>\n      <td>White</td>\n      <td>Male</td>\n      <td>40</td>\n      <td>United-States</td>\n      <td>&gt;50K</td>\n      <td>173</td>\n    </tr>\n    <tr>\n      <th>32560</th>\n      <td>32560</td>\n      <td>52</td>\n      <td>Self-emp-inc</td>\n      <td>HS-grad</td>\n      <td>Married-civ-spouse</td>\n      <td>Exec-managerial</td>\n      <td>Wife</td>\n      <td>White</td>\n      <td>Female</td>\n      <td>40</td>\n      <td>United-States</td>\n      <td>&gt;50K</td>\n      <td>243</td>\n    </tr>\n  </tbody>\n</table>\n<p>3178 rows × 13 columns</p>\n</div>"
     },
     "execution_count": 9,
     "metadata": {},
     "output_type": "execute_result"
    }
   ],
   "source": [
    "without_higher_education = data[~data.education.isin([\"Bachelors\", \"Prof-school\", \"Assoc-acdm\", \"Assoc-voc\", \"Masters\", \"Doctorate\"])]\n",
    "without_higher_education[without_higher_education[\"salary\"] == \">50K\"]"
   ],
   "metadata": {
    "collapsed": false
   }
  },
  {
   "cell_type": "markdown",
   "source": [
    "# Task 6\n",
    "Get the statistics of age for each type of education. Use `groupby` and `describe` for this."
   ],
   "metadata": {
    "collapsed": false
   }
  },
  {
   "cell_type": "code",
   "execution_count": 10,
   "outputs": [
    {
     "data": {
      "text/plain": "               count       mean        std   min   25%   50%   75%   max\neducation                                                               \n10th           820.0  37.897561  16.225795  17.0  23.0  36.0  52.0  90.0\n11th          1048.0  32.363550  15.089307  17.0  18.0  28.5  43.0  90.0\n12th           377.0  32.013263  14.373710  17.0  19.0  28.0  41.0  79.0\n1st-4th        151.0  44.622517  14.929051  19.0  33.0  44.0  56.0  81.0\n5th-6th        288.0  41.649306  14.754622  17.0  28.0  41.0  53.0  82.0\n7th-8th        557.0  47.631957  15.737479  17.0  34.0  49.0  60.0  90.0\n9th            455.0  40.303297  15.335754  17.0  28.0  38.0  53.0  90.0\nAssoc-acdm    1008.0  37.286706  10.509755  19.0  29.0  36.0  44.0  90.0\nAssoc-voc     1307.0  38.246366  11.181253  19.0  30.0  37.0  45.0  84.0\nBachelors     5044.0  38.641554  11.577566  19.0  29.0  37.0  46.0  90.0\nDoctorate      375.0  47.130667  11.471727  24.0  39.0  47.0  54.0  80.0\nHS-grad       9840.0  38.640955  13.067730  17.0  28.0  37.0  48.0  90.0\nMasters       1627.0  43.740012  10.735356  18.0  36.0  43.0  50.0  90.0\nPreschool       45.0  41.288889  15.175672  19.0  30.0  40.0  53.0  75.0\nProf-school    542.0  44.249077  11.428098  25.0  36.0  43.0  50.0  90.0\nSome-college  6678.0  36.135370  13.073528  17.0  25.0  35.0  45.0  90.0",
      "text/html": "<div>\n<style scoped>\n    .dataframe tbody tr th:only-of-type {\n        vertical-align: middle;\n    }\n\n    .dataframe tbody tr th {\n        vertical-align: top;\n    }\n\n    .dataframe thead th {\n        text-align: right;\n    }\n</style>\n<table border=\"1\" class=\"dataframe\">\n  <thead>\n    <tr style=\"text-align: right;\">\n      <th></th>\n      <th>count</th>\n      <th>mean</th>\n      <th>std</th>\n      <th>min</th>\n      <th>25%</th>\n      <th>50%</th>\n      <th>75%</th>\n      <th>max</th>\n    </tr>\n    <tr>\n      <th>education</th>\n      <th></th>\n      <th></th>\n      <th></th>\n      <th></th>\n      <th></th>\n      <th></th>\n      <th></th>\n      <th></th>\n    </tr>\n  </thead>\n  <tbody>\n    <tr>\n      <th>10th</th>\n      <td>820.0</td>\n      <td>37.897561</td>\n      <td>16.225795</td>\n      <td>17.0</td>\n      <td>23.0</td>\n      <td>36.0</td>\n      <td>52.0</td>\n      <td>90.0</td>\n    </tr>\n    <tr>\n      <th>11th</th>\n      <td>1048.0</td>\n      <td>32.363550</td>\n      <td>15.089307</td>\n      <td>17.0</td>\n      <td>18.0</td>\n      <td>28.5</td>\n      <td>43.0</td>\n      <td>90.0</td>\n    </tr>\n    <tr>\n      <th>12th</th>\n      <td>377.0</td>\n      <td>32.013263</td>\n      <td>14.373710</td>\n      <td>17.0</td>\n      <td>19.0</td>\n      <td>28.0</td>\n      <td>41.0</td>\n      <td>79.0</td>\n    </tr>\n    <tr>\n      <th>1st-4th</th>\n      <td>151.0</td>\n      <td>44.622517</td>\n      <td>14.929051</td>\n      <td>19.0</td>\n      <td>33.0</td>\n      <td>44.0</td>\n      <td>56.0</td>\n      <td>81.0</td>\n    </tr>\n    <tr>\n      <th>5th-6th</th>\n      <td>288.0</td>\n      <td>41.649306</td>\n      <td>14.754622</td>\n      <td>17.0</td>\n      <td>28.0</td>\n      <td>41.0</td>\n      <td>53.0</td>\n      <td>82.0</td>\n    </tr>\n    <tr>\n      <th>7th-8th</th>\n      <td>557.0</td>\n      <td>47.631957</td>\n      <td>15.737479</td>\n      <td>17.0</td>\n      <td>34.0</td>\n      <td>49.0</td>\n      <td>60.0</td>\n      <td>90.0</td>\n    </tr>\n    <tr>\n      <th>9th</th>\n      <td>455.0</td>\n      <td>40.303297</td>\n      <td>15.335754</td>\n      <td>17.0</td>\n      <td>28.0</td>\n      <td>38.0</td>\n      <td>53.0</td>\n      <td>90.0</td>\n    </tr>\n    <tr>\n      <th>Assoc-acdm</th>\n      <td>1008.0</td>\n      <td>37.286706</td>\n      <td>10.509755</td>\n      <td>19.0</td>\n      <td>29.0</td>\n      <td>36.0</td>\n      <td>44.0</td>\n      <td>90.0</td>\n    </tr>\n    <tr>\n      <th>Assoc-voc</th>\n      <td>1307.0</td>\n      <td>38.246366</td>\n      <td>11.181253</td>\n      <td>19.0</td>\n      <td>30.0</td>\n      <td>37.0</td>\n      <td>45.0</td>\n      <td>84.0</td>\n    </tr>\n    <tr>\n      <th>Bachelors</th>\n      <td>5044.0</td>\n      <td>38.641554</td>\n      <td>11.577566</td>\n      <td>19.0</td>\n      <td>29.0</td>\n      <td>37.0</td>\n      <td>46.0</td>\n      <td>90.0</td>\n    </tr>\n    <tr>\n      <th>Doctorate</th>\n      <td>375.0</td>\n      <td>47.130667</td>\n      <td>11.471727</td>\n      <td>24.0</td>\n      <td>39.0</td>\n      <td>47.0</td>\n      <td>54.0</td>\n      <td>80.0</td>\n    </tr>\n    <tr>\n      <th>HS-grad</th>\n      <td>9840.0</td>\n      <td>38.640955</td>\n      <td>13.067730</td>\n      <td>17.0</td>\n      <td>28.0</td>\n      <td>37.0</td>\n      <td>48.0</td>\n      <td>90.0</td>\n    </tr>\n    <tr>\n      <th>Masters</th>\n      <td>1627.0</td>\n      <td>43.740012</td>\n      <td>10.735356</td>\n      <td>18.0</td>\n      <td>36.0</td>\n      <td>43.0</td>\n      <td>50.0</td>\n      <td>90.0</td>\n    </tr>\n    <tr>\n      <th>Preschool</th>\n      <td>45.0</td>\n      <td>41.288889</td>\n      <td>15.175672</td>\n      <td>19.0</td>\n      <td>30.0</td>\n      <td>40.0</td>\n      <td>53.0</td>\n      <td>75.0</td>\n    </tr>\n    <tr>\n      <th>Prof-school</th>\n      <td>542.0</td>\n      <td>44.249077</td>\n      <td>11.428098</td>\n      <td>25.0</td>\n      <td>36.0</td>\n      <td>43.0</td>\n      <td>50.0</td>\n      <td>90.0</td>\n    </tr>\n    <tr>\n      <th>Some-college</th>\n      <td>6678.0</td>\n      <td>36.135370</td>\n      <td>13.073528</td>\n      <td>17.0</td>\n      <td>25.0</td>\n      <td>35.0</td>\n      <td>45.0</td>\n      <td>90.0</td>\n    </tr>\n  </tbody>\n</table>\n</div>"
     },
     "execution_count": 10,
     "metadata": {},
     "output_type": "execute_result"
    }
   ],
   "source": [
    "data.groupby(\"education\")[\"age\"].describe()"
   ],
   "metadata": {
    "collapsed": false
   }
  },
  {
   "cell_type": "markdown",
   "source": [
    "# Task 7\n",
    "Compare the married and non-married men salaries. Who earns more? (>50K or <=50K)\n",
    "Married men are those, whom `marital-status` starts with \"Married\". Others are not."
   ],
   "metadata": {
    "collapsed": false
   }
  },
  {
   "cell_type": "code",
   "execution_count": 58,
   "outputs": [
    {
     "data": {
      "text/plain": "                 the part of the rich men in their group\nmarried_men                                     0.447984\nnot_married_men                                 0.088494",
      "text/html": "<div>\n<style scoped>\n    .dataframe tbody tr th:only-of-type {\n        vertical-align: middle;\n    }\n\n    .dataframe tbody tr th {\n        vertical-align: top;\n    }\n\n    .dataframe thead th {\n        text-align: right;\n    }\n</style>\n<table border=\"1\" class=\"dataframe\">\n  <thead>\n    <tr style=\"text-align: right;\">\n      <th></th>\n      <th>the part of the rich men in their group</th>\n    </tr>\n  </thead>\n  <tbody>\n    <tr>\n      <th>married_men</th>\n      <td>0.447984</td>\n    </tr>\n    <tr>\n      <th>not_married_men</th>\n      <td>0.088494</td>\n    </tr>\n  </tbody>\n</table>\n</div>"
     },
     "execution_count": 58,
     "metadata": {},
     "output_type": "execute_result"
    }
   ],
   "source": [
    "married = data[(data[\"sex\"] == \"Male\") & (data[\"marital-status\"].str.startswith(\"Married\"))]\n",
    "not_married = data[(data[\"sex\"] == \"Male\") & (~data[\"marital-status\"].str.startswith(\"Married\"))]\n",
    "married_rich_ratio = married[married[\"salary\"] == \">50K\"].count() / married[\"salary\"].count()\n",
    "not_married_rich_ratio = not_married[not_married[\"salary\"] == \">50K\"].count() / not_married[\"salary\"].count()\n",
    "\n",
    "d = {\"the part of the rich men in their group\": [married_rich_ratio.iloc[1], not_married_rich_ratio.iloc[1]]}\n",
    "df = pd.DataFrame(d, index=[\"married_men\", \"not_married_men\"])\n",
    "df"
   ],
   "metadata": {
    "collapsed": false
   }
  },
  {
   "cell_type": "markdown",
   "source": [
    "# Task 8\n",
    "Get the max hours per week some person works. How many people works the same amount of hours per week?"
   ],
   "metadata": {
    "collapsed": false
   }
  },
  {
   "cell_type": "code",
   "execution_count": 78,
   "outputs": [
    {
     "data": {
      "text/plain": "max hours per week some person works    99\ndtype: int64"
     },
     "execution_count": 78,
     "metadata": {},
     "output_type": "execute_result"
    }
   ],
   "source": [
    "max_hours_per_week = data[\"hours-per-week\"].max()\n",
    "pd.Series([max_hours_per_week], index=[\"max hours per week some person works\"])"
   ],
   "metadata": {
    "collapsed": false
   }
  },
  {
   "cell_type": "code",
   "execution_count": 79,
   "outputs": [
    {
     "data": {
      "text/plain": "    hours  amount\n0      40   14251\n1      50    2718\n2      45    1753\n3      60    1405\n4      35    1184\n..    ...     ...\n89     82       1\n90     94       1\n91     92       1\n92     87       1\n93     74       1\n\n[94 rows x 2 columns]",
      "text/html": "<div>\n<style scoped>\n    .dataframe tbody tr th:only-of-type {\n        vertical-align: middle;\n    }\n\n    .dataframe tbody tr th {\n        vertical-align: top;\n    }\n\n    .dataframe thead th {\n        text-align: right;\n    }\n</style>\n<table border=\"1\" class=\"dataframe\">\n  <thead>\n    <tr style=\"text-align: right;\">\n      <th></th>\n      <th>hours</th>\n      <th>amount</th>\n    </tr>\n  </thead>\n  <tbody>\n    <tr>\n      <th>0</th>\n      <td>40</td>\n      <td>14251</td>\n    </tr>\n    <tr>\n      <th>1</th>\n      <td>50</td>\n      <td>2718</td>\n    </tr>\n    <tr>\n      <th>2</th>\n      <td>45</td>\n      <td>1753</td>\n    </tr>\n    <tr>\n      <th>3</th>\n      <td>60</td>\n      <td>1405</td>\n    </tr>\n    <tr>\n      <th>4</th>\n      <td>35</td>\n      <td>1184</td>\n    </tr>\n    <tr>\n      <th>...</th>\n      <td>...</td>\n      <td>...</td>\n    </tr>\n    <tr>\n      <th>89</th>\n      <td>82</td>\n      <td>1</td>\n    </tr>\n    <tr>\n      <th>90</th>\n      <td>94</td>\n      <td>1</td>\n    </tr>\n    <tr>\n      <th>91</th>\n      <td>92</td>\n      <td>1</td>\n    </tr>\n    <tr>\n      <th>92</th>\n      <td>87</td>\n      <td>1</td>\n    </tr>\n    <tr>\n      <th>93</th>\n      <td>74</td>\n      <td>1</td>\n    </tr>\n  </tbody>\n</table>\n<p>94 rows × 2 columns</p>\n</div>"
     },
     "execution_count": 79,
     "metadata": {},
     "output_type": "execute_result"
    }
   ],
   "source": [
    "hours_indx = data[\"hours-per-week\"].value_counts().index\n",
    "hours_count = data[\"hours-per-week\"].value_counts().values\n",
    "df = pd.DataFrame({\"hours\": hours_indx, \"amount\": hours_count})\n",
    "df"
   ],
   "metadata": {
    "collapsed": false
   }
  },
  {
   "cell_type": "markdown",
   "source": [
    "# Task 9\n",
    "Analyze the correlation between data in dataset. Understand connected fields in it and print highlight thier connection."
   ],
   "metadata": {
    "collapsed": false
   }
  },
  {
   "cell_type": "code",
   "execution_count": 6,
   "outputs": [
    {
     "data": {
      "text/plain": "                Unnamed: 0       age  hours-per-week  salary K$\nUnnamed: 0        1.000000 -0.001126       -0.001890   0.000129\nage              -0.001126  1.000000        0.101599   0.208203\nhours-per-week   -0.001890  0.101599        1.000000   0.196378\nsalary K$         0.000129  0.208203        0.196378   1.000000",
      "text/html": "<div>\n<style scoped>\n    .dataframe tbody tr th:only-of-type {\n        vertical-align: middle;\n    }\n\n    .dataframe tbody tr th {\n        vertical-align: top;\n    }\n\n    .dataframe thead th {\n        text-align: right;\n    }\n</style>\n<table border=\"1\" class=\"dataframe\">\n  <thead>\n    <tr style=\"text-align: right;\">\n      <th></th>\n      <th>Unnamed: 0</th>\n      <th>age</th>\n      <th>hours-per-week</th>\n      <th>salary K$</th>\n    </tr>\n  </thead>\n  <tbody>\n    <tr>\n      <th>Unnamed: 0</th>\n      <td>1.000000</td>\n      <td>-0.001126</td>\n      <td>-0.001890</td>\n      <td>0.000129</td>\n    </tr>\n    <tr>\n      <th>age</th>\n      <td>-0.001126</td>\n      <td>1.000000</td>\n      <td>0.101599</td>\n      <td>0.208203</td>\n    </tr>\n    <tr>\n      <th>hours-per-week</th>\n      <td>-0.001890</td>\n      <td>0.101599</td>\n      <td>1.000000</td>\n      <td>0.196378</td>\n    </tr>\n    <tr>\n      <th>salary K$</th>\n      <td>0.000129</td>\n      <td>0.208203</td>\n      <td>0.196378</td>\n      <td>1.000000</td>\n    </tr>\n  </tbody>\n</table>\n</div>"
     },
     "execution_count": 6,
     "metadata": {},
     "output_type": "execute_result"
    }
   ],
   "source": [
    "data.corr()"
   ],
   "metadata": {
    "collapsed": false
   }
  }
 ],
 "metadata": {
  "kernelspec": {
   "display_name": "Python 3",
   "language": "python",
   "name": "python3"
  },
  "language_info": {
   "codemirror_mode": {
    "name": "ipython",
    "version": 2
   },
   "file_extension": ".py",
   "mimetype": "text/x-python",
   "name": "python",
   "nbconvert_exporter": "python",
   "pygments_lexer": "ipython2",
   "version": "2.7.6"
  }
 },
 "nbformat": 4,
 "nbformat_minor": 0
}
