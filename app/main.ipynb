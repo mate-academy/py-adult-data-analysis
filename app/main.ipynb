{
 "cells": [
  {
   "cell_type": "code",
   "execution_count": 1,
   "outputs": [],
   "source": [
    "import numpy as np\n",
    "import pandas as pd"
   ],
   "metadata": {
    "collapsed": false,
    "ExecuteTime": {
     "start_time": "2023-05-10T15:59:40.555872Z",
     "end_time": "2023-05-10T15:59:41.035715Z"
    }
   }
  },
  {
   "cell_type": "markdown",
   "source": [
    "# Task 0\n",
    "Read the dataset from csv file & perform data cleaning - remove all rows, which contains `?` in some columns.\n",
    "Also check for data correctness (salary & salary $K)."
   ],
   "metadata": {
    "collapsed": false
   }
  },
  {
   "cell_type": "markdown",
   "source": [],
   "metadata": {
    "collapsed": false
   }
  },
  {
   "cell_type": "code",
   "execution_count": 8,
   "outputs": [
    {
     "name": "stdout",
     "output_type": "stream",
     "text": [
      "          salary K$\n",
      "count  30162.000000\n",
      "mean      73.968570\n",
      "std       85.365144\n",
      "min       15.000000\n",
      "25%       26.000000\n",
      "50%       38.000000\n",
      "75%       49.000000\n",
      "max      349.000000\n"
     ]
    },
    {
     "data": {
      "text/plain": "    Unnamed: 0  age         workclass     education         marital-status  \\\n0            0   39         State-gov     Bachelors          Never-married   \n1            1   50  Self-emp-not-inc     Bachelors     Married-civ-spouse   \n2            2   38           Private       HS-grad               Divorced   \n3            3   53           Private          11th     Married-civ-spouse   \n4            4   28           Private     Bachelors     Married-civ-spouse   \n5            5   37           Private       Masters     Married-civ-spouse   \n6            6   49           Private           9th  Married-spouse-absent   \n7            7   52  Self-emp-not-inc       HS-grad     Married-civ-spouse   \n8            8   31           Private       Masters          Never-married   \n9            9   42           Private     Bachelors     Married-civ-spouse   \n10          10   37           Private  Some-college     Married-civ-spouse   \n11          11   30         State-gov     Bachelors     Married-civ-spouse   \n12          12   23           Private     Bachelors          Never-married   \n13          13   32           Private    Assoc-acdm          Never-married   \n15          15   34           Private       7th-8th     Married-civ-spouse   \n16          16   25  Self-emp-not-inc       HS-grad          Never-married   \n17          17   32           Private       HS-grad          Never-married   \n18          18   38           Private          11th     Married-civ-spouse   \n19          19   43  Self-emp-not-inc       Masters               Divorced   \n20          20   40           Private     Doctorate     Married-civ-spouse   \n21          21   54           Private       HS-grad              Separated   \n22          22   35       Federal-gov           9th     Married-civ-spouse   \n23          23   43           Private          11th     Married-civ-spouse   \n24          24   59           Private       HS-grad               Divorced   \n25          25   56         Local-gov     Bachelors     Married-civ-spouse   \n\n           occupation   relationship                race     sex  \\\n0        Adm-clerical  Not-in-family               White    Male   \n1     Exec-managerial        Husband               White    Male   \n2   Handlers-cleaners  Not-in-family               White    Male   \n3   Handlers-cleaners        Husband               Black    Male   \n4      Prof-specialty           Wife               Black  Female   \n5     Exec-managerial           Wife               White  Female   \n6       Other-service  Not-in-family               Black  Female   \n7     Exec-managerial        Husband               White    Male   \n8      Prof-specialty  Not-in-family               White  Female   \n9     Exec-managerial        Husband               White    Male   \n10    Exec-managerial        Husband               Black    Male   \n11     Prof-specialty        Husband  Asian-Pac-Islander    Male   \n12       Adm-clerical      Own-child               White  Female   \n13              Sales  Not-in-family               Black    Male   \n15   Transport-moving        Husband  Amer-Indian-Eskimo    Male   \n16    Farming-fishing      Own-child               White    Male   \n17  Machine-op-inspct      Unmarried               White    Male   \n18              Sales        Husband               White    Male   \n19    Exec-managerial      Unmarried               White  Female   \n20     Prof-specialty        Husband               White    Male   \n21      Other-service      Unmarried               Black  Female   \n22    Farming-fishing        Husband               Black    Male   \n23   Transport-moving        Husband               White    Male   \n24       Tech-support      Unmarried               White  Female   \n25       Tech-support        Husband               White    Male   \n\n    hours-per-week native-country salary  salary K$  \n0               40  United-States  <=50K         39  \n1               13  United-States  <=50K         35  \n2               40  United-States  <=50K         27  \n3               40  United-States  <=50K         43  \n4               40           Cuba  <=50K         25  \n5               40  United-States  <=50K         44  \n6               16        Jamaica  <=50K         49  \n7               45  United-States   >50K        307  \n8               50  United-States   >50K        330  \n9               40  United-States   >50K        303  \n10              80  United-States   >50K        116  \n11              40          India   >50K        279  \n12              30  United-States  <=50K         27  \n13              50  United-States  <=50K         28  \n15              45         Mexico  <=50K         15  \n16              35  United-States  <=50K         42  \n17              40  United-States  <=50K         28  \n18              50  United-States  <=50K         31  \n19              45  United-States   >50K        151  \n20              60  United-States   >50K        265  \n21              20  United-States  <=50K         36  \n22              40  United-States  <=50K         39  \n23              40  United-States  <=50K         28  \n24              40  United-States  <=50K         43  \n25              40  United-States   >50K        117  ",
      "text/html": "<div>\n<style scoped>\n    .dataframe tbody tr th:only-of-type {\n        vertical-align: middle;\n    }\n\n    .dataframe tbody tr th {\n        vertical-align: top;\n    }\n\n    .dataframe thead th {\n        text-align: right;\n    }\n</style>\n<table border=\"1\" class=\"dataframe\">\n  <thead>\n    <tr style=\"text-align: right;\">\n      <th></th>\n      <th>Unnamed: 0</th>\n      <th>age</th>\n      <th>workclass</th>\n      <th>education</th>\n      <th>marital-status</th>\n      <th>occupation</th>\n      <th>relationship</th>\n      <th>race</th>\n      <th>sex</th>\n      <th>hours-per-week</th>\n      <th>native-country</th>\n      <th>salary</th>\n      <th>salary K$</th>\n    </tr>\n  </thead>\n  <tbody>\n    <tr>\n      <th>0</th>\n      <td>0</td>\n      <td>39</td>\n      <td>State-gov</td>\n      <td>Bachelors</td>\n      <td>Never-married</td>\n      <td>Adm-clerical</td>\n      <td>Not-in-family</td>\n      <td>White</td>\n      <td>Male</td>\n      <td>40</td>\n      <td>United-States</td>\n      <td>&lt;=50K</td>\n      <td>39</td>\n    </tr>\n    <tr>\n      <th>1</th>\n      <td>1</td>\n      <td>50</td>\n      <td>Self-emp-not-inc</td>\n      <td>Bachelors</td>\n      <td>Married-civ-spouse</td>\n      <td>Exec-managerial</td>\n      <td>Husband</td>\n      <td>White</td>\n      <td>Male</td>\n      <td>13</td>\n      <td>United-States</td>\n      <td>&lt;=50K</td>\n      <td>35</td>\n    </tr>\n    <tr>\n      <th>2</th>\n      <td>2</td>\n      <td>38</td>\n      <td>Private</td>\n      <td>HS-grad</td>\n      <td>Divorced</td>\n      <td>Handlers-cleaners</td>\n      <td>Not-in-family</td>\n      <td>White</td>\n      <td>Male</td>\n      <td>40</td>\n      <td>United-States</td>\n      <td>&lt;=50K</td>\n      <td>27</td>\n    </tr>\n    <tr>\n      <th>3</th>\n      <td>3</td>\n      <td>53</td>\n      <td>Private</td>\n      <td>11th</td>\n      <td>Married-civ-spouse</td>\n      <td>Handlers-cleaners</td>\n      <td>Husband</td>\n      <td>Black</td>\n      <td>Male</td>\n      <td>40</td>\n      <td>United-States</td>\n      <td>&lt;=50K</td>\n      <td>43</td>\n    </tr>\n    <tr>\n      <th>4</th>\n      <td>4</td>\n      <td>28</td>\n      <td>Private</td>\n      <td>Bachelors</td>\n      <td>Married-civ-spouse</td>\n      <td>Prof-specialty</td>\n      <td>Wife</td>\n      <td>Black</td>\n      <td>Female</td>\n      <td>40</td>\n      <td>Cuba</td>\n      <td>&lt;=50K</td>\n      <td>25</td>\n    </tr>\n    <tr>\n      <th>5</th>\n      <td>5</td>\n      <td>37</td>\n      <td>Private</td>\n      <td>Masters</td>\n      <td>Married-civ-spouse</td>\n      <td>Exec-managerial</td>\n      <td>Wife</td>\n      <td>White</td>\n      <td>Female</td>\n      <td>40</td>\n      <td>United-States</td>\n      <td>&lt;=50K</td>\n      <td>44</td>\n    </tr>\n    <tr>\n      <th>6</th>\n      <td>6</td>\n      <td>49</td>\n      <td>Private</td>\n      <td>9th</td>\n      <td>Married-spouse-absent</td>\n      <td>Other-service</td>\n      <td>Not-in-family</td>\n      <td>Black</td>\n      <td>Female</td>\n      <td>16</td>\n      <td>Jamaica</td>\n      <td>&lt;=50K</td>\n      <td>49</td>\n    </tr>\n    <tr>\n      <th>7</th>\n      <td>7</td>\n      <td>52</td>\n      <td>Self-emp-not-inc</td>\n      <td>HS-grad</td>\n      <td>Married-civ-spouse</td>\n      <td>Exec-managerial</td>\n      <td>Husband</td>\n      <td>White</td>\n      <td>Male</td>\n      <td>45</td>\n      <td>United-States</td>\n      <td>&gt;50K</td>\n      <td>307</td>\n    </tr>\n    <tr>\n      <th>8</th>\n      <td>8</td>\n      <td>31</td>\n      <td>Private</td>\n      <td>Masters</td>\n      <td>Never-married</td>\n      <td>Prof-specialty</td>\n      <td>Not-in-family</td>\n      <td>White</td>\n      <td>Female</td>\n      <td>50</td>\n      <td>United-States</td>\n      <td>&gt;50K</td>\n      <td>330</td>\n    </tr>\n    <tr>\n      <th>9</th>\n      <td>9</td>\n      <td>42</td>\n      <td>Private</td>\n      <td>Bachelors</td>\n      <td>Married-civ-spouse</td>\n      <td>Exec-managerial</td>\n      <td>Husband</td>\n      <td>White</td>\n      <td>Male</td>\n      <td>40</td>\n      <td>United-States</td>\n      <td>&gt;50K</td>\n      <td>303</td>\n    </tr>\n    <tr>\n      <th>10</th>\n      <td>10</td>\n      <td>37</td>\n      <td>Private</td>\n      <td>Some-college</td>\n      <td>Married-civ-spouse</td>\n      <td>Exec-managerial</td>\n      <td>Husband</td>\n      <td>Black</td>\n      <td>Male</td>\n      <td>80</td>\n      <td>United-States</td>\n      <td>&gt;50K</td>\n      <td>116</td>\n    </tr>\n    <tr>\n      <th>11</th>\n      <td>11</td>\n      <td>30</td>\n      <td>State-gov</td>\n      <td>Bachelors</td>\n      <td>Married-civ-spouse</td>\n      <td>Prof-specialty</td>\n      <td>Husband</td>\n      <td>Asian-Pac-Islander</td>\n      <td>Male</td>\n      <td>40</td>\n      <td>India</td>\n      <td>&gt;50K</td>\n      <td>279</td>\n    </tr>\n    <tr>\n      <th>12</th>\n      <td>12</td>\n      <td>23</td>\n      <td>Private</td>\n      <td>Bachelors</td>\n      <td>Never-married</td>\n      <td>Adm-clerical</td>\n      <td>Own-child</td>\n      <td>White</td>\n      <td>Female</td>\n      <td>30</td>\n      <td>United-States</td>\n      <td>&lt;=50K</td>\n      <td>27</td>\n    </tr>\n    <tr>\n      <th>13</th>\n      <td>13</td>\n      <td>32</td>\n      <td>Private</td>\n      <td>Assoc-acdm</td>\n      <td>Never-married</td>\n      <td>Sales</td>\n      <td>Not-in-family</td>\n      <td>Black</td>\n      <td>Male</td>\n      <td>50</td>\n      <td>United-States</td>\n      <td>&lt;=50K</td>\n      <td>28</td>\n    </tr>\n    <tr>\n      <th>15</th>\n      <td>15</td>\n      <td>34</td>\n      <td>Private</td>\n      <td>7th-8th</td>\n      <td>Married-civ-spouse</td>\n      <td>Transport-moving</td>\n      <td>Husband</td>\n      <td>Amer-Indian-Eskimo</td>\n      <td>Male</td>\n      <td>45</td>\n      <td>Mexico</td>\n      <td>&lt;=50K</td>\n      <td>15</td>\n    </tr>\n    <tr>\n      <th>16</th>\n      <td>16</td>\n      <td>25</td>\n      <td>Self-emp-not-inc</td>\n      <td>HS-grad</td>\n      <td>Never-married</td>\n      <td>Farming-fishing</td>\n      <td>Own-child</td>\n      <td>White</td>\n      <td>Male</td>\n      <td>35</td>\n      <td>United-States</td>\n      <td>&lt;=50K</td>\n      <td>42</td>\n    </tr>\n    <tr>\n      <th>17</th>\n      <td>17</td>\n      <td>32</td>\n      <td>Private</td>\n      <td>HS-grad</td>\n      <td>Never-married</td>\n      <td>Machine-op-inspct</td>\n      <td>Unmarried</td>\n      <td>White</td>\n      <td>Male</td>\n      <td>40</td>\n      <td>United-States</td>\n      <td>&lt;=50K</td>\n      <td>28</td>\n    </tr>\n    <tr>\n      <th>18</th>\n      <td>18</td>\n      <td>38</td>\n      <td>Private</td>\n      <td>11th</td>\n      <td>Married-civ-spouse</td>\n      <td>Sales</td>\n      <td>Husband</td>\n      <td>White</td>\n      <td>Male</td>\n      <td>50</td>\n      <td>United-States</td>\n      <td>&lt;=50K</td>\n      <td>31</td>\n    </tr>\n    <tr>\n      <th>19</th>\n      <td>19</td>\n      <td>43</td>\n      <td>Self-emp-not-inc</td>\n      <td>Masters</td>\n      <td>Divorced</td>\n      <td>Exec-managerial</td>\n      <td>Unmarried</td>\n      <td>White</td>\n      <td>Female</td>\n      <td>45</td>\n      <td>United-States</td>\n      <td>&gt;50K</td>\n      <td>151</td>\n    </tr>\n    <tr>\n      <th>20</th>\n      <td>20</td>\n      <td>40</td>\n      <td>Private</td>\n      <td>Doctorate</td>\n      <td>Married-civ-spouse</td>\n      <td>Prof-specialty</td>\n      <td>Husband</td>\n      <td>White</td>\n      <td>Male</td>\n      <td>60</td>\n      <td>United-States</td>\n      <td>&gt;50K</td>\n      <td>265</td>\n    </tr>\n    <tr>\n      <th>21</th>\n      <td>21</td>\n      <td>54</td>\n      <td>Private</td>\n      <td>HS-grad</td>\n      <td>Separated</td>\n      <td>Other-service</td>\n      <td>Unmarried</td>\n      <td>Black</td>\n      <td>Female</td>\n      <td>20</td>\n      <td>United-States</td>\n      <td>&lt;=50K</td>\n      <td>36</td>\n    </tr>\n    <tr>\n      <th>22</th>\n      <td>22</td>\n      <td>35</td>\n      <td>Federal-gov</td>\n      <td>9th</td>\n      <td>Married-civ-spouse</td>\n      <td>Farming-fishing</td>\n      <td>Husband</td>\n      <td>Black</td>\n      <td>Male</td>\n      <td>40</td>\n      <td>United-States</td>\n      <td>&lt;=50K</td>\n      <td>39</td>\n    </tr>\n    <tr>\n      <th>23</th>\n      <td>23</td>\n      <td>43</td>\n      <td>Private</td>\n      <td>11th</td>\n      <td>Married-civ-spouse</td>\n      <td>Transport-moving</td>\n      <td>Husband</td>\n      <td>White</td>\n      <td>Male</td>\n      <td>40</td>\n      <td>United-States</td>\n      <td>&lt;=50K</td>\n      <td>28</td>\n    </tr>\n    <tr>\n      <th>24</th>\n      <td>24</td>\n      <td>59</td>\n      <td>Private</td>\n      <td>HS-grad</td>\n      <td>Divorced</td>\n      <td>Tech-support</td>\n      <td>Unmarried</td>\n      <td>White</td>\n      <td>Female</td>\n      <td>40</td>\n      <td>United-States</td>\n      <td>&lt;=50K</td>\n      <td>43</td>\n    </tr>\n    <tr>\n      <th>25</th>\n      <td>25</td>\n      <td>56</td>\n      <td>Local-gov</td>\n      <td>Bachelors</td>\n      <td>Married-civ-spouse</td>\n      <td>Tech-support</td>\n      <td>Husband</td>\n      <td>White</td>\n      <td>Male</td>\n      <td>40</td>\n      <td>United-States</td>\n      <td>&gt;50K</td>\n      <td>117</td>\n    </tr>\n  </tbody>\n</table>\n</div>"
     },
     "execution_count": 8,
     "metadata": {},
     "output_type": "execute_result"
    }
   ],
   "source": [
    "df = pd.read_csv(\"C:/projects/py-adult-data-analysis/data/adult.csv\")\n",
    "df = df.replace(\"?\", pd.NA)\n",
    "df = df.dropna()\n",
    "incorrect_salary = df[(df[\"salary\"] == \">50K\") & (df[\"salary K$\"] <= 50)]\n",
    "if not incorrect_salary.empty:\n",
    "    print(\"Warning: Incorrect salary values found\")\n",
    "print(df[[\"salary\", \"salary K$\"]].describe())\n",
    "\n",
    "df.head(25)"
   ],
   "metadata": {
    "collapsed": false,
    "ExecuteTime": {
     "start_time": "2023-05-11T16:04:02.217713Z",
     "end_time": "2023-05-11T16:04:02.392563Z"
    }
   }
  },
  {
   "cell_type": "code",
   "execution_count": null,
   "outputs": [],
   "source": [],
   "metadata": {
    "collapsed": false
   }
  },
  {
   "cell_type": "markdown",
   "source": [
    "# Task 1\n",
    "Print the count of men and women in the dataset."
   ],
   "metadata": {
    "collapsed": false
   }
  },
  {
   "cell_type": "code",
   "execution_count": 11,
   "outputs": [
    {
     "name": "stdout",
     "output_type": "stream",
     "text": [
      "Male      20380\n",
      "Female     9782\n",
      "Name: sex, dtype: int64\n"
     ]
    }
   ],
   "source": [
    "gender_counts = df[\"sex\"].value_counts()\n",
    "print(gender_counts)"
   ],
   "metadata": {
    "collapsed": false,
    "ExecuteTime": {
     "start_time": "2023-05-10T16:07:45.140998Z",
     "end_time": "2023-05-10T16:07:45.171076Z"
    }
   }
  },
  {
   "cell_type": "markdown",
   "source": [
    "# Task 2\n",
    "Find the average age of men in dataset"
   ],
   "metadata": {
    "collapsed": false
   }
  },
  {
   "cell_type": "code",
   "execution_count": 15,
   "outputs": [
    {
     "name": "stdout",
     "output_type": "stream",
     "text": [
      "The average age of men in the dataset is: 39.18\n"
     ]
    }
   ],
   "source": [
    "men = df[df[\"sex\"] == \"Male\"]\n",
    "average_age_men = men[\"age\"].mean()\n",
    "print(\"The average age of men in the dataset is:\", round(average_age_men, 2))"
   ],
   "metadata": {
    "collapsed": false,
    "ExecuteTime": {
     "start_time": "2023-05-10T16:09:15.980247Z",
     "end_time": "2023-05-10T16:09:15.991170Z"
    }
   }
  },
  {
   "cell_type": "markdown",
   "source": [
    "# Task 3\n",
    "Get the percentage of people from Poland (native-country)"
   ],
   "metadata": {
    "collapsed": false
   }
  },
  {
   "cell_type": "code",
   "execution_count": 17,
   "outputs": [
    {
     "name": "stdout",
     "output_type": "stream",
     "text": [
      "The percentage of people from Poland is: 0.19 %\n"
     ]
    }
   ],
   "source": [
    "native_country_counts = df[\"native-country\"].value_counts()\n",
    "poland_count = native_country_counts[\"Poland\"]\n",
    "percentage_poland = (poland_count / len(df)) * 100\n",
    "print(\"The percentage of people from Poland is:\", round(percentage_poland, 2), \"%\")"
   ],
   "metadata": {
    "collapsed": false,
    "ExecuteTime": {
     "start_time": "2023-05-10T16:10:41.518450Z",
     "end_time": "2023-05-10T16:10:41.530763Z"
    }
   }
  },
  {
   "cell_type": "markdown",
   "source": [
    "# Task 4\n",
    "Get the mean and standard deviation of the age for people who earn > 50K per year. After this, get it for those who earn <= 50K."
   ],
   "metadata": {
    "collapsed": false
   }
  },
  {
   "cell_type": "code",
   "execution_count": 21,
   "outputs": [
    {
     "name": "stdout",
     "output_type": "stream",
     "text": [
      "Mean age of people who earn > 50K per year: 43.96\n",
      "Standard deviation of age of people who earn > 50K per year: 10.27\n",
      "Mean age of people who earn <= 50K per year: 36.61\n",
      "Standard deviation of age of people who earn <= 50K per year: 13.46\n"
     ]
    }
   ],
   "source": [
    "rich_age_mean = df[df[\"salary\"] == \">50K\"][\"age\"].mean()\n",
    "rich_age_std = df[df[\"salary\"] == \">50K\"][\"age\"].std()\n",
    "print(\"Mean age of people who earn > 50K per year:\", round(rich_age_mean, 2))\n",
    "print(\"Standard deviation of age of people who earn > 50K per year:\", round(rich_age_std, 2))"
   ],
   "metadata": {
    "collapsed": false,
    "ExecuteTime": {
     "start_time": "2023-05-10T16:13:28.410141Z",
     "end_time": "2023-05-10T16:13:28.441172Z"
    }
   }
  },
  {
   "cell_type": "code",
   "execution_count": null,
   "outputs": [],
   "source": [
    "poor_age_mean = df[df[\"salary\"] == \"<=50K\"][\"age\"].mean()\n",
    "poor_age_std = df[df[\"salary\"] == \"<=50K\"][\"age\"].std()\n",
    "\n",
    "print(\"Mean age of people who earn <= 50K per year:\", round(poor_age_mean, 2))\n",
    "print(\"Standard deviation of age of people who earn <= 50K per year:\", round(poor_age_std, 2))"
   ],
   "metadata": {
    "collapsed": false
   }
  },
  {
   "cell_type": "markdown",
   "source": [
    "# Task 5\n",
    "Check, if there are some people without higher education (education: Bachelors, Prof-school, Assoc-acdm, Assoc-voc, Masters, Doctorate), but with > 50K salary"
   ],
   "metadata": {
    "collapsed": false
   }
  },
  {
   "cell_type": "code",
   "execution_count": 19,
   "outputs": [
    {
     "data": {
      "text/plain": "       Unnamed: 0  age         workclass     education      marital-status  \\\n7               7   52  Self-emp-not-inc       HS-grad  Married-civ-spouse   \n10             10   37           Private  Some-college  Married-civ-spouse   \n55             55   43           Private  Some-college  Married-civ-spouse   \n67             67   53           Private       HS-grad  Married-civ-spouse   \n68             68   49      Self-emp-inc  Some-college  Married-civ-spouse   \n...           ...  ...               ...           ...                 ...   \n32462       32462   48      Self-emp-inc       HS-grad  Married-civ-spouse   \n32518       32518   57         Local-gov       HS-grad  Married-civ-spouse   \n32519       32519   46           Private  Some-college  Married-civ-spouse   \n32557       32557   40           Private       HS-grad  Married-civ-spouse   \n32560       32560   52      Self-emp-inc       HS-grad  Married-civ-spouse   \n\n              occupation relationship   race     sex  hours-per-week  \\\n7        Exec-managerial      Husband  White    Male              45   \n10       Exec-managerial      Husband  Black    Male              80   \n55          Tech-support      Husband  White    Male              40   \n67          Adm-clerical         Wife  White  Female              40   \n68       Exec-managerial      Husband  White    Male              50   \n...                  ...          ...    ...     ...             ...   \n32462       Craft-repair      Husband  White    Male              50   \n32518       Craft-repair      Husband  White    Male              40   \n32519    Exec-managerial      Husband  White    Male              48   \n32557  Machine-op-inspct      Husband  White    Male              40   \n32560    Exec-managerial         Wife  White  Female              40   \n\n      native-country salary  salary K$  \n7      United-States   >50K        307  \n10     United-States   >50K        116  \n55     United-States   >50K        341  \n67     United-States   >50K        225  \n68     United-States   >50K        194  \n...              ...    ...        ...  \n32462  United-States   >50K        343  \n32518  United-States   >50K        116  \n32519  United-States   >50K        239  \n32557  United-States   >50K        173  \n32560  United-States   >50K        243  \n\n[3178 rows x 13 columns]",
      "text/html": "<div>\n<style scoped>\n    .dataframe tbody tr th:only-of-type {\n        vertical-align: middle;\n    }\n\n    .dataframe tbody tr th {\n        vertical-align: top;\n    }\n\n    .dataframe thead th {\n        text-align: right;\n    }\n</style>\n<table border=\"1\" class=\"dataframe\">\n  <thead>\n    <tr style=\"text-align: right;\">\n      <th></th>\n      <th>Unnamed: 0</th>\n      <th>age</th>\n      <th>workclass</th>\n      <th>education</th>\n      <th>marital-status</th>\n      <th>occupation</th>\n      <th>relationship</th>\n      <th>race</th>\n      <th>sex</th>\n      <th>hours-per-week</th>\n      <th>native-country</th>\n      <th>salary</th>\n      <th>salary K$</th>\n    </tr>\n  </thead>\n  <tbody>\n    <tr>\n      <th>7</th>\n      <td>7</td>\n      <td>52</td>\n      <td>Self-emp-not-inc</td>\n      <td>HS-grad</td>\n      <td>Married-civ-spouse</td>\n      <td>Exec-managerial</td>\n      <td>Husband</td>\n      <td>White</td>\n      <td>Male</td>\n      <td>45</td>\n      <td>United-States</td>\n      <td>&gt;50K</td>\n      <td>307</td>\n    </tr>\n    <tr>\n      <th>10</th>\n      <td>10</td>\n      <td>37</td>\n      <td>Private</td>\n      <td>Some-college</td>\n      <td>Married-civ-spouse</td>\n      <td>Exec-managerial</td>\n      <td>Husband</td>\n      <td>Black</td>\n      <td>Male</td>\n      <td>80</td>\n      <td>United-States</td>\n      <td>&gt;50K</td>\n      <td>116</td>\n    </tr>\n    <tr>\n      <th>55</th>\n      <td>55</td>\n      <td>43</td>\n      <td>Private</td>\n      <td>Some-college</td>\n      <td>Married-civ-spouse</td>\n      <td>Tech-support</td>\n      <td>Husband</td>\n      <td>White</td>\n      <td>Male</td>\n      <td>40</td>\n      <td>United-States</td>\n      <td>&gt;50K</td>\n      <td>341</td>\n    </tr>\n    <tr>\n      <th>67</th>\n      <td>67</td>\n      <td>53</td>\n      <td>Private</td>\n      <td>HS-grad</td>\n      <td>Married-civ-spouse</td>\n      <td>Adm-clerical</td>\n      <td>Wife</td>\n      <td>White</td>\n      <td>Female</td>\n      <td>40</td>\n      <td>United-States</td>\n      <td>&gt;50K</td>\n      <td>225</td>\n    </tr>\n    <tr>\n      <th>68</th>\n      <td>68</td>\n      <td>49</td>\n      <td>Self-emp-inc</td>\n      <td>Some-college</td>\n      <td>Married-civ-spouse</td>\n      <td>Exec-managerial</td>\n      <td>Husband</td>\n      <td>White</td>\n      <td>Male</td>\n      <td>50</td>\n      <td>United-States</td>\n      <td>&gt;50K</td>\n      <td>194</td>\n    </tr>\n    <tr>\n      <th>...</th>\n      <td>...</td>\n      <td>...</td>\n      <td>...</td>\n      <td>...</td>\n      <td>...</td>\n      <td>...</td>\n      <td>...</td>\n      <td>...</td>\n      <td>...</td>\n      <td>...</td>\n      <td>...</td>\n      <td>...</td>\n      <td>...</td>\n    </tr>\n    <tr>\n      <th>32462</th>\n      <td>32462</td>\n      <td>48</td>\n      <td>Self-emp-inc</td>\n      <td>HS-grad</td>\n      <td>Married-civ-spouse</td>\n      <td>Craft-repair</td>\n      <td>Husband</td>\n      <td>White</td>\n      <td>Male</td>\n      <td>50</td>\n      <td>United-States</td>\n      <td>&gt;50K</td>\n      <td>343</td>\n    </tr>\n    <tr>\n      <th>32518</th>\n      <td>32518</td>\n      <td>57</td>\n      <td>Local-gov</td>\n      <td>HS-grad</td>\n      <td>Married-civ-spouse</td>\n      <td>Craft-repair</td>\n      <td>Husband</td>\n      <td>White</td>\n      <td>Male</td>\n      <td>40</td>\n      <td>United-States</td>\n      <td>&gt;50K</td>\n      <td>116</td>\n    </tr>\n    <tr>\n      <th>32519</th>\n      <td>32519</td>\n      <td>46</td>\n      <td>Private</td>\n      <td>Some-college</td>\n      <td>Married-civ-spouse</td>\n      <td>Exec-managerial</td>\n      <td>Husband</td>\n      <td>White</td>\n      <td>Male</td>\n      <td>48</td>\n      <td>United-States</td>\n      <td>&gt;50K</td>\n      <td>239</td>\n    </tr>\n    <tr>\n      <th>32557</th>\n      <td>32557</td>\n      <td>40</td>\n      <td>Private</td>\n      <td>HS-grad</td>\n      <td>Married-civ-spouse</td>\n      <td>Machine-op-inspct</td>\n      <td>Husband</td>\n      <td>White</td>\n      <td>Male</td>\n      <td>40</td>\n      <td>United-States</td>\n      <td>&gt;50K</td>\n      <td>173</td>\n    </tr>\n    <tr>\n      <th>32560</th>\n      <td>32560</td>\n      <td>52</td>\n      <td>Self-emp-inc</td>\n      <td>HS-grad</td>\n      <td>Married-civ-spouse</td>\n      <td>Exec-managerial</td>\n      <td>Wife</td>\n      <td>White</td>\n      <td>Female</td>\n      <td>40</td>\n      <td>United-States</td>\n      <td>&gt;50K</td>\n      <td>243</td>\n    </tr>\n  </tbody>\n</table>\n<p>3178 rows × 13 columns</p>\n</div>"
     },
     "execution_count": 19,
     "metadata": {},
     "output_type": "execute_result"
    }
   ],
   "source": [
    "df[~df[\"education\"].isin([\"Bachelors\", \"Prof-school\", \"Assoc-acdm\", \"Assoc-voc\", \"Masters\", \"Doctorate\"]) & (df[\"salary\"] == \">50K\")]"
   ],
   "metadata": {
    "collapsed": false,
    "ExecuteTime": {
     "start_time": "2023-05-10T20:39:39.178293Z",
     "end_time": "2023-05-10T20:39:39.218790Z"
    }
   }
  },
  {
   "cell_type": "markdown",
   "source": [
    "# Task 6\n",
    "Get the statistics of age for each type of education. Use `groupby` and `describe` for this."
   ],
   "metadata": {
    "collapsed": false
   }
  },
  {
   "cell_type": "code",
   "execution_count": 25,
   "outputs": [
    {
     "name": "stdout",
     "output_type": "stream",
     "text": [
      "               count       mean        std   min   25%   50%   75%   max\n",
      "education                                                               \n",
      "10th           820.0  37.897561  16.225795  17.0  23.0  36.0  52.0  90.0\n",
      "11th          1048.0  32.363550  15.089307  17.0  18.0  28.5  43.0  90.0\n",
      "12th           377.0  32.013263  14.373710  17.0  19.0  28.0  41.0  79.0\n",
      "1st-4th        151.0  44.622517  14.929051  19.0  33.0  44.0  56.0  81.0\n",
      "5th-6th        288.0  41.649306  14.754622  17.0  28.0  41.0  53.0  82.0\n",
      "7th-8th        557.0  47.631957  15.737479  17.0  34.0  49.0  60.0  90.0\n",
      "9th            455.0  40.303297  15.335754  17.0  28.0  38.0  53.0  90.0\n",
      "Assoc-acdm    1008.0  37.286706  10.509755  19.0  29.0  36.0  44.0  90.0\n",
      "Assoc-voc     1307.0  38.246366  11.181253  19.0  30.0  37.0  45.0  84.0\n",
      "Bachelors     5044.0  38.641554  11.577566  19.0  29.0  37.0  46.0  90.0\n",
      "Doctorate      375.0  47.130667  11.471727  24.0  39.0  47.0  54.0  80.0\n",
      "HS-grad       9840.0  38.640955  13.067730  17.0  28.0  37.0  48.0  90.0\n",
      "Masters       1627.0  43.740012  10.735356  18.0  36.0  43.0  50.0  90.0\n",
      "Preschool       45.0  41.288889  15.175672  19.0  30.0  40.0  53.0  75.0\n",
      "Prof-school    542.0  44.249077  11.428098  25.0  36.0  43.0  50.0  90.0\n",
      "Some-college  6678.0  36.135370  13.073528  17.0  25.0  35.0  45.0  90.0\n"
     ]
    }
   ],
   "source": [
    "print(df.groupby(\"education\")[\"age\"].describe())"
   ],
   "metadata": {
    "collapsed": false,
    "ExecuteTime": {
     "start_time": "2023-05-10T16:17:58.270265Z",
     "end_time": "2023-05-10T16:17:58.326003Z"
    }
   }
  },
  {
   "cell_type": "markdown",
   "source": [
    "# Task 7\n",
    "Compare the married and non-married men salaries. Who earns more? (>50K or <=50K)\n",
    "Married men are those, whom `marital-status` starts with \"Married\". Others are not."
   ],
   "metadata": {
    "collapsed": false
   }
  },
  {
   "cell_type": "code",
   "execution_count": 12,
   "outputs": [
    {
     "name": "stdout",
     "output_type": "stream",
     "text": [
      "                     mean  median\n",
      "marriedStatus                    \n",
      "married        107.494560    46.0\n",
      "non-married     46.597239    34.0\n",
      "Rich: Series([], dtype: int64)\n",
      "Poor: Series([], dtype: int64)\n",
      "Married men earn more\n"
     ]
    }
   ],
   "source": [
    "df[\"marriedStatus\"] = np.where(df[\"marital-status\"].str.startswith(\"Married\"), \"married\", \"non-married\")\n",
    "\n",
    "grouped = df[df[\"sex\"] == \"Male\"].groupby(\"marriedStatus\")[\"salary K$\"].agg([\"mean\", \"median\"])\n",
    "\n",
    "print(grouped)\n",
    "\n",
    "rich = df[df[\"salary K$\"] == \">50K\"].groupby(\"marriedStatus\").size()\n",
    "poor = df[df[\"salary K$\"] == \"<=50K\"].groupby(\"marriedStatus\").size()\n",
    "print(\"Rich:\", rich)\n",
    "print(\"Poor:\", poor)\n",
    "\n",
    "if grouped.loc[\"married\", \"median\"] > grouped.loc[\"non-married\", \"median\"]:\n",
    "    print(\"Married men earn more\")\n",
    "else:\n",
    "    print(\"Non-married men earn more\")\n"
   ],
   "metadata": {
    "collapsed": false,
    "ExecuteTime": {
     "start_time": "2023-05-10T20:26:12.435257Z",
     "end_time": "2023-05-10T20:26:12.500529Z"
    }
   }
  },
  {
   "cell_type": "code",
   "execution_count": null,
   "outputs": [],
   "source": [],
   "metadata": {
    "collapsed": false
   }
  },
  {
   "cell_type": "markdown",
   "source": [
    "# Task 8\n",
    "Get the max hours per week some person works. How many people works the same amount of hours per week?"
   ],
   "metadata": {
    "collapsed": false
   }
  },
  {
   "cell_type": "code",
   "execution_count": 27,
   "outputs": [
    {
     "name": "stdout",
     "output_type": "stream",
     "text": [
      "Max hours per week: 99\n",
      "Number of people working max hours per week: 99    78\n",
      "Name: hours-per-week, dtype: int64\n"
     ]
    }
   ],
   "source": [
    "max_hours_per_week = df[\"hours-per-week\"].max()\n",
    "print(\"Max hours per week:\", max_hours_per_week)\n",
    "num_people_max_hours = df[df[\"hours-per-week\"] == max_hours_per_week][\"hours-per-week\"].value_counts()\n",
    "print(\"Number of people working max hours per week:\", num_people_max_hours)\n"
   ],
   "metadata": {
    "collapsed": false,
    "ExecuteTime": {
     "start_time": "2023-05-10T16:21:39.060315Z",
     "end_time": "2023-05-10T16:21:39.071212Z"
    }
   }
  },
  {
   "cell_type": "markdown",
   "source": [
    "# Task 9\n",
    "Analyze the correlation between data in dataset. Understand connected fields in it and print highlight thier connection."
   ],
   "metadata": {
    "collapsed": false
   }
  },
  {
   "cell_type": "code",
   "execution_count": 29,
   "outputs": [
    {
     "data": {
      "text/plain": "<Axes: >"
     },
     "execution_count": 29,
     "metadata": {},
     "output_type": "execute_result"
    },
    {
     "data": {
      "text/plain": "<Figure size 640x480 with 2 Axes>",
      "image/png": "[encoded data removed]"
     },
     "metadata": {},
     "output_type": "display_data"
    }
   ],
   "source": [
    "import seaborn as sns\n",
    "corr_matrix = df.corr()\n",
    "\n",
    "sns.heatmap(corr_matrix, annot=True, cmap=\"YlGnBu\")"
   ],
   "metadata": {
    "collapsed": false,
    "ExecuteTime": {
     "start_time": "2023-05-10T16:23:46.026880Z",
     "end_time": "2023-05-10T16:23:46.690063Z"
    }
   }
  }
 ],
 "metadata": {
  "kernelspec": {
   "display_name": "Python 3",
   "language": "python",
   "name": "python3"
  },
  "language_info": {
   "codemirror_mode": {
    "name": "ipython",
    "version": 2
   },
   "file_extension": ".py",
   "mimetype": "text/x-python",
   "name": "python",
   "nbconvert_exporter": "python",
   "pygments_lexer": "ipython2",
   "version": "2.7.6"
  }
 },
 "nbformat": 4,
 "nbformat_minor": 0
}
