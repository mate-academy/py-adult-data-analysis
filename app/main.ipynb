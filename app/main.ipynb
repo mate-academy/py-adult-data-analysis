{
 "cells": [
  {
   "cell_type": "code",
   "execution_count": 12,
   "outputs": [],
   "source": [
    "import numpy as np\n",
    "import pandas as pd"
   ],
   "metadata": {
    "collapsed": false,
    "ExecuteTime": {
     "start_time": "2023-05-11T01:10:12.073088Z",
     "end_time": "2023-05-11T01:10:12.170092Z"
    }
   }
  },
  {
   "cell_type": "markdown",
   "source": [
    "# Task 0\n",
    "Read the dataset from csv file & perform data cleaning - remove all rows, which contains `?` in some columns.\n",
    "Also check for data correctness (salary & salary $K)."
   ],
   "metadata": {
    "collapsed": false
   }
  },
  {
   "cell_type": "code",
   "execution_count": 23,
   "outputs": [
    {
     "data": {
      "text/plain": "   Unnamed: 0  age         workclass  education      marital-status  \\\n0           0   39         State-gov  Bachelors       Never-married   \n1           1   50  Self-emp-not-inc  Bachelors  Married-civ-spouse   \n2           2   38           Private    HS-grad            Divorced   \n3           3   53           Private       11th  Married-civ-spouse   \n4           4   28           Private  Bachelors  Married-civ-spouse   \n\n          occupation   relationship   race     sex  hours-per-week  \\\n0       Adm-clerical  Not-in-family  White    Male              40   \n1    Exec-managerial        Husband  White    Male              13   \n2  Handlers-cleaners  Not-in-family  White    Male              40   \n3  Handlers-cleaners        Husband  Black    Male              40   \n4     Prof-specialty           Wife  Black  Female              40   \n\n  native-country salary  salary K$  \n0  United-States  <=50K         39  \n1  United-States  <=50K         35  \n2  United-States  <=50K         27  \n3  United-States  <=50K         43  \n4           Cuba  <=50K         25  ",
      "text/html": "<div>\n<style scoped>\n    .dataframe tbody tr th:only-of-type {\n        vertical-align: middle;\n    }\n\n    .dataframe tbody tr th {\n        vertical-align: top;\n    }\n\n    .dataframe thead th {\n        text-align: right;\n    }\n</style>\n<table border=\"1\" class=\"dataframe\">\n  <thead>\n    <tr style=\"text-align: right;\">\n      <th></th>\n      <th>Unnamed: 0</th>\n      <th>age</th>\n      <th>workclass</th>\n      <th>education</th>\n      <th>marital-status</th>\n      <th>occupation</th>\n      <th>relationship</th>\n      <th>race</th>\n      <th>sex</th>\n      <th>hours-per-week</th>\n      <th>native-country</th>\n      <th>salary</th>\n      <th>salary K$</th>\n    </tr>\n  </thead>\n  <tbody>\n    <tr>\n      <th>0</th>\n      <td>0</td>\n      <td>39</td>\n      <td>State-gov</td>\n      <td>Bachelors</td>\n      <td>Never-married</td>\n      <td>Adm-clerical</td>\n      <td>Not-in-family</td>\n      <td>White</td>\n      <td>Male</td>\n      <td>40</td>\n      <td>United-States</td>\n      <td>&lt;=50K</td>\n      <td>39</td>\n    </tr>\n    <tr>\n      <th>1</th>\n      <td>1</td>\n      <td>50</td>\n      <td>Self-emp-not-inc</td>\n      <td>Bachelors</td>\n      <td>Married-civ-spouse</td>\n      <td>Exec-managerial</td>\n      <td>Husband</td>\n      <td>White</td>\n      <td>Male</td>\n      <td>13</td>\n      <td>United-States</td>\n      <td>&lt;=50K</td>\n      <td>35</td>\n    </tr>\n    <tr>\n      <th>2</th>\n      <td>2</td>\n      <td>38</td>\n      <td>Private</td>\n      <td>HS-grad</td>\n      <td>Divorced</td>\n      <td>Handlers-cleaners</td>\n      <td>Not-in-family</td>\n      <td>White</td>\n      <td>Male</td>\n      <td>40</td>\n      <td>United-States</td>\n      <td>&lt;=50K</td>\n      <td>27</td>\n    </tr>\n    <tr>\n      <th>3</th>\n      <td>3</td>\n      <td>53</td>\n      <td>Private</td>\n      <td>11th</td>\n      <td>Married-civ-spouse</td>\n      <td>Handlers-cleaners</td>\n      <td>Husband</td>\n      <td>Black</td>\n      <td>Male</td>\n      <td>40</td>\n      <td>United-States</td>\n      <td>&lt;=50K</td>\n      <td>43</td>\n    </tr>\n    <tr>\n      <th>4</th>\n      <td>4</td>\n      <td>28</td>\n      <td>Private</td>\n      <td>Bachelors</td>\n      <td>Married-civ-spouse</td>\n      <td>Prof-specialty</td>\n      <td>Wife</td>\n      <td>Black</td>\n      <td>Female</td>\n      <td>40</td>\n      <td>Cuba</td>\n      <td>&lt;=50K</td>\n      <td>25</td>\n    </tr>\n  </tbody>\n</table>\n</div>"
     },
     "execution_count": 23,
     "metadata": {},
     "output_type": "execute_result"
    }
   ],
   "source": [
    "df = pd.read_csv(\"adult.csv\")\n",
    "df = df[~df.isin([\"?\"]).any(axis=1)]\n",
    "df.head()"
   ],
   "metadata": {
    "collapsed": false,
    "ExecuteTime": {
     "start_time": "2023-05-11T01:28:36.849463Z",
     "end_time": "2023-05-11T01:28:37.010463Z"
    }
   }
  },
  {
   "cell_type": "markdown",
   "source": [
    "# Task 1\n",
    "Print the count of men and women in the dataset."
   ],
   "metadata": {
    "collapsed": false
   }
  },
  {
   "cell_type": "code",
   "execution_count": 27,
   "outputs": [
    {
     "name": "stdout",
     "output_type": "stream",
     "text": [
      "Male      20380\n",
      "Female     9782\n",
      "Name: sex, dtype: int64\n"
     ]
    }
   ],
   "source": [
    "gender_counts = df[\"sex\"].value_counts()\n",
    "print(gender_counts)"
   ],
   "metadata": {
    "collapsed": false,
    "ExecuteTime": {
     "start_time": "2023-05-11T01:34:50.165264Z",
     "end_time": "2023-05-11T01:34:50.180255Z"
    }
   }
  },
  {
   "cell_type": "markdown",
   "source": [
    "# Task 2\n",
    "Find the average age of men in dataset"
   ],
   "metadata": {
    "collapsed": false
   }
  },
  {
   "cell_type": "code",
   "execution_count": 28,
   "outputs": [
    {
     "name": "stdout",
     "output_type": "stream",
     "text": [
      "39.18400392541707\n"
     ]
    }
   ],
   "source": [
    "average_age_men = df[df[\"sex\"] == \"Male\"][\"age\"].mean()\n",
    "print(average_age_men)"
   ],
   "metadata": {
    "collapsed": false,
    "ExecuteTime": {
     "start_time": "2023-05-11T01:35:08.950642Z",
     "end_time": "2023-05-11T01:35:08.967613Z"
    }
   }
  },
  {
   "cell_type": "markdown",
   "source": [
    "# Task 3\n",
    "Get the percentage of people from Poland (native-country)"
   ],
   "metadata": {
    "collapsed": false
   }
  },
  {
   "cell_type": "code",
   "execution_count": 26,
   "outputs": [
    {
     "name": "stdout",
     "output_type": "stream",
     "text": [
      "0.18566408063125786\n"
     ]
    }
   ],
   "source": [
    "total_count = len(df)\n",
    "poland_count = len(df[df[\"native-country\"] == \"Poland\"])\n",
    "percentage_poland = (poland_count / total_count) * 100\n",
    "print(percentage_poland)"
   ],
   "metadata": {
    "collapsed": false,
    "ExecuteTime": {
     "start_time": "2023-05-11T01:32:32.739824Z",
     "end_time": "2023-05-11T01:32:32.758823Z"
    }
   }
  },
  {
   "cell_type": "markdown",
   "source": [
    "# Task 4\n",
    "Get the mean and standard deviation of the age for people who earn > 50K per year. After this, get it for those who earn <= 50K."
   ],
   "metadata": {
    "collapsed": false
   }
  },
  {
   "cell_type": "code",
   "execution_count": 29,
   "outputs": [
    {
     "name": "stdout",
     "output_type": "stream",
     "text": [
      "Mean age for > 50K:  43.95911028236548\n",
      "Standard deviation for > 50K:  10.269632835673852\n",
      "Mean age for <= 50K:  36.60806038668668\n",
      "Standard deviation for <= 50K:  13.464631257161633\n"
     ]
    }
   ],
   "source": [
    "high_earning_age = df[df[\"salary\"] == \">50K\"][\"age\"]\n",
    "mean_age_high_earning = high_earning_age.mean()\n",
    "std_age_high_earning = high_earning_age.std()\n",
    "print(\"Mean age for > 50K: \", mean_age_high_earning)\n",
    "print(\"Standard deviation for > 50K: \", std_age_high_earning)\n",
    "\n",
    "low_earning_age = df[df[\"salary\"] == \"<=50K\"][\"age\"]\n",
    "mean_age_low_earning = low_earning_age.mean()\n",
    "std_age_low_earning = low_earning_age.std()\n",
    "print(\"Mean age for <= 50K: \", mean_age_low_earning)\n",
    "print(\"Standard deviation for <= 50K: \", std_age_low_earning)"
   ],
   "metadata": {
    "collapsed": false,
    "ExecuteTime": {
     "start_time": "2023-05-11T01:37:15.212139Z",
     "end_time": "2023-05-11T01:37:15.319136Z"
    }
   }
  },
  {
   "cell_type": "markdown",
   "source": [
    "# Task 5\n",
    "Check, if there are some people without higher education (education: Bachelors, Prof-school, Assoc-acdm, Assoc-voc, Masters, Doctorate), but with > 50K salary"
   ],
   "metadata": {
    "collapsed": false
   }
  },
  {
   "cell_type": "code",
   "execution_count": 30,
   "outputs": [
    {
     "name": "stdout",
     "output_type": "stream",
     "text": [
      "There are people without higher education but with > 50K salary.\n",
      "       Unnamed: 0  age         workclass   education      marital-status  \\\n",
      "8               8   31           Private     Masters       Never-married   \n",
      "9               9   42           Private   Bachelors  Married-civ-spouse   \n",
      "11             11   30         State-gov   Bachelors  Married-civ-spouse   \n",
      "19             19   43  Self-emp-not-inc     Masters            Divorced   \n",
      "20             20   40           Private   Doctorate  Married-civ-spouse   \n",
      "...           ...  ...               ...         ...                 ...   \n",
      "32533       32533   54           Private   Bachelors  Married-civ-spouse   \n",
      "32536       32536   34           Private   Bachelors       Never-married   \n",
      "32538       32538   38           Private   Bachelors            Divorced   \n",
      "32545       32545   39         Local-gov  Assoc-acdm  Married-civ-spouse   \n",
      "32554       32554   53           Private     Masters  Married-civ-spouse   \n",
      "\n",
      "            occupation   relationship                race     sex  \\\n",
      "8       Prof-specialty  Not-in-family               White  Female   \n",
      "9      Exec-managerial        Husband               White    Male   \n",
      "11      Prof-specialty        Husband  Asian-Pac-Islander    Male   \n",
      "19     Exec-managerial      Unmarried               White  Female   \n",
      "20      Prof-specialty        Husband               White    Male   \n",
      "...                ...            ...                 ...     ...   \n",
      "32533  Exec-managerial        Husband  Asian-Pac-Islander    Male   \n",
      "32536  Exec-managerial  Not-in-family               White  Female   \n",
      "32538   Prof-specialty      Unmarried               Black  Female   \n",
      "32545     Adm-clerical           Wife               White  Female   \n",
      "32554  Exec-managerial        Husband               White    Male   \n",
      "\n",
      "       hours-per-week native-country salary  salary K$  \n",
      "8                  50  United-States   >50K        330  \n",
      "9                  40  United-States   >50K        303  \n",
      "11                 40          India   >50K        279  \n",
      "19                 45  United-States   >50K        151  \n",
      "20                 60  United-States   >50K        265  \n",
      "...               ...            ...    ...        ...  \n",
      "32533              50          Japan   >50K        347  \n",
      "32536              55  United-States   >50K        260  \n",
      "32538              45  United-States   >50K        248  \n",
      "32545              20  United-States   >50K        122  \n",
      "32554              40  United-States   >50K        103  \n",
      "\n",
      "[4330 rows x 13 columns]\n"
     ]
    }
   ],
   "source": [
    "filtered_df = df[\n",
    "    (df[\"education\"].isin([\"Bachelors\", \"Prof-school\", \"Assoc-acdm\", \"Assoc-voc\", \"Masters\", \"Doctorate\"])) &\n",
    "    (df[\"salary\"] == \">50K\")\n",
    "]\n",
    "\n",
    "if filtered_df.empty:\n",
    "    print(\"There are no people without higher education and > 50K salary.\")\n",
    "else:\n",
    "    print(\"There are people without higher education but with > 50K salary.\")\n",
    "    print(filtered_df)"
   ],
   "metadata": {
    "collapsed": false,
    "ExecuteTime": {
     "start_time": "2023-05-11T01:38:38.113191Z",
     "end_time": "2023-05-11T01:38:38.211199Z"
    }
   }
  },
  {
   "cell_type": "markdown",
   "source": [
    "# Task 6\n",
    "Get the statistics of age for each type of education. Use `groupby` and `describe` for this."
   ],
   "metadata": {
    "collapsed": false
   }
  },
  {
   "cell_type": "code",
   "execution_count": 31,
   "outputs": [
    {
     "name": "stdout",
     "output_type": "stream",
     "text": [
      "               count       mean        std   min   25%   50%   75%   max\n",
      "education                                                               \n",
      "10th           820.0  37.897561  16.225795  17.0  23.0  36.0  52.0  90.0\n",
      "11th          1048.0  32.363550  15.089307  17.0  18.0  28.5  43.0  90.0\n",
      "12th           377.0  32.013263  14.373710  17.0  19.0  28.0  41.0  79.0\n",
      "1st-4th        151.0  44.622517  14.929051  19.0  33.0  44.0  56.0  81.0\n",
      "5th-6th        288.0  41.649306  14.754622  17.0  28.0  41.0  53.0  82.0\n",
      "7th-8th        557.0  47.631957  15.737479  17.0  34.0  49.0  60.0  90.0\n",
      "9th            455.0  40.303297  15.335754  17.0  28.0  38.0  53.0  90.0\n",
      "Assoc-acdm    1008.0  37.286706  10.509755  19.0  29.0  36.0  44.0  90.0\n",
      "Assoc-voc     1307.0  38.246366  11.181253  19.0  30.0  37.0  45.0  84.0\n",
      "Bachelors     5044.0  38.641554  11.577566  19.0  29.0  37.0  46.0  90.0\n",
      "Doctorate      375.0  47.130667  11.471727  24.0  39.0  47.0  54.0  80.0\n",
      "HS-grad       9840.0  38.640955  13.067730  17.0  28.0  37.0  48.0  90.0\n",
      "Masters       1627.0  43.740012  10.735356  18.0  36.0  43.0  50.0  90.0\n",
      "Preschool       45.0  41.288889  15.175672  19.0  30.0  40.0  53.0  75.0\n",
      "Prof-school    542.0  44.249077  11.428098  25.0  36.0  43.0  50.0  90.0\n",
      "Some-college  6678.0  36.135370  13.073528  17.0  25.0  35.0  45.0  90.0\n"
     ]
    }
   ],
   "source": [
    "age_stats_by_education = df.groupby(\"education\")[\"age\"].describe()\n",
    "print(age_stats_by_education)"
   ],
   "metadata": {
    "collapsed": false,
    "ExecuteTime": {
     "start_time": "2023-05-11T01:40:21.813938Z",
     "end_time": "2023-05-11T01:40:21.933943Z"
    }
   }
  },
  {
   "cell_type": "markdown",
   "source": [
    "# Task 7\n",
    "Compare the married and non-married men salaries. Who earns more? (>50K or <=50K)\n",
    "Married men are those, whom `marital-status` starts with \"Married\". Others are not."
   ],
   "metadata": {
    "collapsed": false
   }
  },
  {
   "cell_type": "code",
   "execution_count": 36,
   "outputs": [
    {
     "name": "stdout",
     "output_type": "stream",
     "text": [
      "Married men earn more (>50K) than non-married men.\n"
     ]
    }
   ],
   "source": [
    "df[\"marital_status\"] = df[\"marital-status\"].str.startswith(\"Married\")\n",
    "salary_counts = df.groupby([\"marital_status\", \"salary\"])[\"age\"].count().reset_index()\n",
    "\n",
    "married_50k_count = salary_counts[(salary_counts[\"marital_status\"] == True) & (salary_counts[\"salary\"] == \">50K\")][\"age\"].values[0] if \">50K\" in salary_counts[\"salary\"].values else 0\n",
    "\n",
    "married_lessthan50k_count = salary_counts[(salary_counts[\"marital_status\"] == True) & (salary_counts[\"salary\"] == \"<=50K\")][\"age\"].values[0] if \"<=50K\" in salary_counts[\"salary\"].values else 0\n",
    "\n",
    "nonmarried_50k_count = salary_counts[(salary_counts[\"marital_status\"] == False) & (salary_counts[\"salary\"] == \">50K\")][\"age\"].values[0] if \">50K\" in salary_counts[\"salary\"].values else 0\n",
    "\n",
    "nonmarried_lessthan50k_count = salary_counts[(salary_counts[\"marital_status\"] == False) & (salary_counts[\"salary\"] == \"<=50K\")][\"age\"].values[0] if \"<=50K\" in salary_counts[\"salary\"].values else 0\n",
    "\n",
    "if married_50k_count > nonmarried_50k_count:\n",
    "    print(\"Married men earn more (>50K) than non-married men.\")\n",
    "elif married_50k_count < nonmarried_50k_count:\n",
    "    print(\"Non-married men earn more (>50K) than married men.\")\n",
    "else:\n",
    "    print(\"Married and non-married men have an equal count of salaries (>50K).\")"
   ],
   "metadata": {
    "collapsed": false,
    "ExecuteTime": {
     "start_time": "2023-05-11T01:45:11.921854Z",
     "end_time": "2023-05-11T01:45:11.964852Z"
    }
   }
  },
  {
   "cell_type": "markdown",
   "source": [
    "# Task 8\n",
    "Get the max hours per week some person works. How many people works the same amount of hours per week?"
   ],
   "metadata": {
    "collapsed": false
   }
  },
  {
   "cell_type": "code",
   "execution_count": 37,
   "outputs": [
    {
     "name": "stdout",
     "output_type": "stream",
     "text": [
      "Maximum hours per week: 99\n",
      "Number of people working the same hours: 78\n"
     ]
    }
   ],
   "source": [
    "max_hours = df['hours-per-week'].max()\n",
    "\n",
    "same_hours_count = df[df['hours-per-week'] == max_hours].shape[0]\n",
    "\n",
    "print(\"Maximum hours per week:\", max_hours)\n",
    "print(\"Number of people working the same hours:\", same_hours_count)"
   ],
   "metadata": {
    "collapsed": false,
    "ExecuteTime": {
     "start_time": "2023-05-11T01:46:08.530192Z",
     "end_time": "2023-05-11T01:46:08.592344Z"
    }
   }
  },
  {
   "cell_type": "markdown",
   "source": [
    "# Task 9\n",
    "Analyze the correlation between data in dataset. Understand connected fields in it and print highlight thier connection."
   ],
   "metadata": {
    "collapsed": false
   }
  },
  {
   "cell_type": "code",
   "execution_count": 38,
   "outputs": [
    {
     "name": "stdout",
     "output_type": "stream",
     "text": [
      "                Unnamed: 0       age  hours-per-week  salary K$  \\\n",
      "Unnamed: 0        1.000000 -0.001126       -0.001890   0.000129   \n",
      "age              -0.001126  1.000000        0.101599   0.208203   \n",
      "hours-per-week   -0.001890  0.101599        1.000000   0.196378   \n",
      "salary K$         0.000129  0.208203        0.196378   1.000000   \n",
      "marital_status    0.003732  0.310553        0.221492   0.375202   \n",
      "\n",
      "                marital_status  \n",
      "Unnamed: 0            0.003732  \n",
      "age                   0.310553  \n",
      "hours-per-week        0.221492  \n",
      "salary K$             0.375202  \n",
      "marital_status        1.000000  \n"
     ]
    }
   ],
   "source": [
    "result = df.corr()\n",
    "\n",
    "print(result)"
   ],
   "metadata": {
    "collapsed": false,
    "ExecuteTime": {
     "start_time": "2023-05-11T01:47:57.697345Z",
     "end_time": "2023-05-11T01:47:57.760341Z"
    }
   }
  }
 ],
 "metadata": {
  "kernelspec": {
   "display_name": "Python 3",
   "language": "python",
   "name": "python3"
  },
  "language_info": {
   "codemirror_mode": {
    "name": "ipython",
    "version": 2
   },
   "file_extension": ".py",
   "mimetype": "text/x-python",
   "name": "python",
   "nbconvert_exporter": "python",
   "pygments_lexer": "ipython2",
   "version": "2.7.6"
  }
 },
 "nbformat": 4,
 "nbformat_minor": 0
}
