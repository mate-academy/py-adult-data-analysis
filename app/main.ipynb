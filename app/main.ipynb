{
 "cells": [
  {
   "cell_type": "code",
   "execution_count": 7,
   "outputs": [],
   "source": [
    "import numpy as np\n",
    "import pandas as pd"
   ],
   "metadata": {
    "collapsed": false
   }
  },
  {
   "cell_type": "markdown",
   "source": [
    "# Task 0\n",
    "Read the dataset from csv file & perform data cleaning - remove all rows, which contains `?` in some columns.\n",
    "Also check for data correctness (salary & salary $K)."
   ],
   "metadata": {
    "collapsed": false
   }
  },
  {
   "cell_type": "code",
   "execution_count": 70,
   "outputs": [
    {
     "name": "stdout",
     "output_type": "stream",
     "text": [
      "<class 'pandas.core.frame.DataFrame'>\n",
      "Index: 30162 entries, 1 to 32561\n",
      "Data columns (total 13 columns):\n",
      " #   Column           Non-Null Count  Dtype  \n",
      "---  ------           --------------  -----  \n",
      " 0   index            30162 non-null  float64\n",
      " 1   age              30162 non-null  object \n",
      " 2   workclass        30162 non-null  object \n",
      " 3   education        30162 non-null  object \n",
      " 4   material-status  30162 non-null  object \n",
      " 5   occupation       30162 non-null  object \n",
      " 6   relationship     30162 non-null  object \n",
      " 7   race             30162 non-null  object \n",
      " 8   sex              30162 non-null  object \n",
      " 9   hours-per-week   30162 non-null  object \n",
      " 10  native-country   30162 non-null  object \n",
      " 11  salary           30162 non-null  object \n",
      " 12  salary K$        30162 non-null  int64  \n",
      "dtypes: float64(1), int64(1), object(11)\n",
      "memory usage: 3.2+ MB\n",
      "None\n"
     ]
    }
   ],
   "source": [
    "df = pd.read_csv(\"../data/adult.csv\", header=None)\n",
    "df.columns = [\"index\", \"age\", \"workclass\", \"education\", \"material-status\", \"occupation\", \"relationship\", \"race\", \"sex\", \"hours-per-week\", \"native-country\", \"salary\", \"salary K$\"]\n",
    "df = df.replace(\"?\", np.nan)\n",
    "df = df.dropna()\n",
    "\n",
    "df[\"salary K$\"] = pd.to_numeric(df[\"salary K$\"])\n",
    "\n",
    "df = df[((df[\"salary\"] == \"<=50K\") & (df[\"salary K$\"] <= 50)) | ((df[\"salary\"] == \">50K\") & (df[\"salary K$\"] > 50))]\n",
    "print(df.info())"
   ],
   "metadata": {
    "collapsed": false
   }
  },
  {
   "cell_type": "markdown",
   "source": [
    "# Task 1\n",
    "Print the count of men and women in the dataset."
   ],
   "metadata": {
    "collapsed": false
   }
  },
  {
   "cell_type": "code",
   "execution_count": 71,
   "outputs": [
    {
     "name": "stdout",
     "output_type": "stream",
     "text": [
      "sex\n",
      "Male      20380\n",
      "Female     9782\n",
      "Name: count, dtype: int64\n"
     ]
    }
   ],
   "source": [
    "count = df[\"sex\"].value_counts()\n",
    "print(count)"
   ],
   "metadata": {
    "collapsed": false
   }
  },
  {
   "cell_type": "markdown",
   "source": [
    "# Task 2\n",
    "Find the average age of men in dataset"
   ],
   "metadata": {
    "collapsed": false
   }
  },
  {
   "cell_type": "code",
   "execution_count": 93,
   "outputs": [
    {
     "name": "stdout",
     "output_type": "stream",
     "text": [
      "39.18400392541707\n"
     ]
    }
   ],
   "source": [
    "df[\"age\"] = pd.to_numeric(df[\"age\"], errors=\"coerce\")\n",
    "average_age_men = df[df[\"sex\"] == \"Male\"][\"age\"].mean()\n",
    "print(average_age_men)\n"
   ],
   "metadata": {
    "collapsed": false
   }
  },
  {
   "cell_type": "markdown",
   "source": [
    "# Task 3\n",
    "Get the percentage of people from Poland (native-country)"
   ],
   "metadata": {
    "collapsed": false
   }
  },
  {
   "cell_type": "code",
   "execution_count": 94,
   "outputs": [
    {
     "name": "stdout",
     "output_type": "stream",
     "text": [
      "0.18566408063125786\n"
     ]
    }
   ],
   "source": [
    "poland_people_count = len(df[df[\"native-country\"] == \"Poland\"])\n",
    "poland_percentage = (poland_people_count / len(df)) * 100\n",
    "print(poland_percentage)"
   ],
   "metadata": {
    "collapsed": false
   }
  },
  {
   "cell_type": "markdown",
   "source": [
    "# Task 4\n",
    "Get the mean and standard deviation of the age for people who earn > 50K per year. After this, get it for those who earn <= 50K."
   ],
   "metadata": {
    "collapsed": false
   }
  },
  {
   "cell_type": "code",
   "execution_count": 95,
   "outputs": [
    {
     "name": "stdout",
     "output_type": "stream",
     "text": [
      "10.269632835673852\n"
     ]
    }
   ],
   "source": [
    "high_salary = df[df[\"salary\"] == \">50K\"]\n",
    "mean_high_salary_age = high_salary[\"age\"].mean()\n",
    "std_high_salary_age = high_salary[\"age\"].std()\n",
    "print(std_high_salary_age)"
   ],
   "metadata": {
    "collapsed": false
   }
  },
  {
   "cell_type": "markdown",
   "source": [
    "# Task 5\n",
    "Check, if there are some people without higher education (education: Bachelors, Prof-school, Assoc-acdm, Assoc-voc, Masters, Doctorate), but with > 50K salary"
   ],
   "metadata": {
    "collapsed": false
   }
  },
  {
   "cell_type": "code",
   "execution_count": 99,
   "outputs": [
    {
     "name": "stdout",
     "output_type": "stream",
     "text": [
      "There are people with salary > 50K, but without higher education:          index  age         workclass     education     material-status   \n",
      "8          7.0   52  Self-emp-not-inc       HS-grad  Married-civ-spouse  \\\n",
      "11        10.0   37           Private  Some-college  Married-civ-spouse   \n",
      "56        55.0   43           Private  Some-college  Married-civ-spouse   \n",
      "68        67.0   53           Private       HS-grad  Married-civ-spouse   \n",
      "69        68.0   49      Self-emp-inc  Some-college  Married-civ-spouse   \n",
      "...        ...  ...               ...           ...                 ...   \n",
      "32463  32462.0   48      Self-emp-inc       HS-grad  Married-civ-spouse   \n",
      "32519  32518.0   57         Local-gov       HS-grad  Married-civ-spouse   \n",
      "32520  32519.0   46           Private  Some-college  Married-civ-spouse   \n",
      "32558  32557.0   40           Private       HS-grad  Married-civ-spouse   \n",
      "32561  32560.0   52      Self-emp-inc       HS-grad  Married-civ-spouse   \n",
      "\n",
      "              occupation relationship   race     sex hours-per-week   \n",
      "8        Exec-managerial      Husband  White    Male             45  \\\n",
      "11       Exec-managerial      Husband  Black    Male             80   \n",
      "56          Tech-support      Husband  White    Male             40   \n",
      "68          Adm-clerical         Wife  White  Female             40   \n",
      "69       Exec-managerial      Husband  White    Male             50   \n",
      "...                  ...          ...    ...     ...            ...   \n",
      "32463       Craft-repair      Husband  White    Male             50   \n",
      "32519       Craft-repair      Husband  White    Male             40   \n",
      "32520    Exec-managerial      Husband  White    Male             48   \n",
      "32558  Machine-op-inspct      Husband  White    Male             40   \n",
      "32561    Exec-managerial         Wife  White  Female             40   \n",
      "\n",
      "      native-country salary  salary K$  \n",
      "8      United-States   >50K        307  \n",
      "11     United-States   >50K        116  \n",
      "56     United-States   >50K        341  \n",
      "68     United-States   >50K        225  \n",
      "69     United-States   >50K        194  \n",
      "...              ...    ...        ...  \n",
      "32463  United-States   >50K        343  \n",
      "32519  United-States   >50K        116  \n",
      "32520  United-States   >50K        239  \n",
      "32558  United-States   >50K        173  \n",
      "32561  United-States   >50K        243  \n",
      "\n",
      "[3178 rows x 13 columns]\n"
     ]
    }
   ],
   "source": [
    "high_education_levels = [\"Bachelors\", \"Prof-school\", \"Assoc-acdm\", \"Assoc-voc\", \"Masters\", \"Doctorate\"]\n",
    "high_salary_no_high_education = df[(df[\"salary\"] == \">50K\") & (~df[\"education\"].isin(high_education_levels))]\n",
    "if not high_salary_no_high_education.empty:\n",
    "    print(f\"There are people with salary > 50K, but without higher education: {high_salary_no_high_education}\")\n",
    "else:\n",
    "    print(\"All people with salary > 50K have higher education.\")"
   ],
   "metadata": {
    "collapsed": false
   }
  },
  {
   "cell_type": "markdown",
   "source": [
    "# Task 6\n",
    "Get the statistics of age for each type of education. Use `groupby` and `describe` for this."
   ],
   "metadata": {
    "collapsed": false
   }
  },
  {
   "cell_type": "code",
   "execution_count": 101,
   "outputs": [
    {
     "name": "stdout",
     "output_type": "stream",
     "text": [
      "               count       mean        std   min   25%   50%   75%   max\n",
      "education                                                               \n",
      "10th           820.0  37.897561  16.225795  17.0  23.0  36.0  52.0  90.0\n",
      "11th          1048.0  32.363550  15.089307  17.0  18.0  28.5  43.0  90.0\n",
      "12th           377.0  32.013263  14.373710  17.0  19.0  28.0  41.0  79.0\n",
      "1st-4th        151.0  44.622517  14.929051  19.0  33.0  44.0  56.0  81.0\n",
      "5th-6th        288.0  41.649306  14.754622  17.0  28.0  41.0  53.0  82.0\n",
      "7th-8th        557.0  47.631957  15.737479  17.0  34.0  49.0  60.0  90.0\n",
      "9th            455.0  40.303297  15.335754  17.0  28.0  38.0  53.0  90.0\n",
      "Assoc-acdm    1008.0  37.286706  10.509755  19.0  29.0  36.0  44.0  90.0\n",
      "Assoc-voc     1307.0  38.246366  11.181253  19.0  30.0  37.0  45.0  84.0\n",
      "Bachelors     5044.0  38.641554  11.577566  19.0  29.0  37.0  46.0  90.0\n",
      "Doctorate      375.0  47.130667  11.471727  24.0  39.0  47.0  54.0  80.0\n",
      "HS-grad       9840.0  38.640955  13.067730  17.0  28.0  37.0  48.0  90.0\n",
      "Masters       1627.0  43.740012  10.735356  18.0  36.0  43.0  50.0  90.0\n",
      "Preschool       45.0  41.288889  15.175672  19.0  30.0  40.0  53.0  75.0\n",
      "Prof-school    542.0  44.249077  11.428098  25.0  36.0  43.0  50.0  90.0\n",
      "Some-college  6678.0  36.135370  13.073528  17.0  25.0  35.0  45.0  90.0\n"
     ]
    }
   ],
   "source": [
    "type_of_education = df.groupby(\"education\")[\"age\"].describe()\n",
    "print(type_of_education)"
   ],
   "metadata": {
    "collapsed": false
   }
  },
  {
   "cell_type": "markdown",
   "source": [
    "# Task 7\n",
    "Compare the married and non-married men salaries. Who earns more? (>50K or <=50K)\n",
    "Married men are those, whom `marital-status` starts with \"Married\". Others are not."
   ],
   "metadata": {
    "collapsed": false
   }
  },
  {
   "cell_type": "code",
   "execution_count": 118,
   "outputs": [
    {
     "name": "stdout",
     "output_type": "stream",
     "text": [
      "Percentage of married men who earn >50K: 44.80%\n",
      "Percentage of married men who earn <=50K: 55.20%\n",
      "Percentage of unmarried men who earn >50K: 8.85%\n",
      "Percentage of unmarried men who earn <=50K: 91.15%\n"
     ]
    }
   ],
   "source": [
    "married_men = df[(df[\"sex\"] == \"Male\") & (df[\"material-status\"].str.startswith(\"Married\"))]\n",
    "unmarried_men = df[(df[\"sex\"] == \"Male\") & ~(df[\"material-status\"].str.startswith(\"Married\"))]\n",
    "\n",
    "married_men_salary = married_men[\"salary\"].value_counts(normalize=True)\n",
    "unmarried_men_salary = unmarried_men[\"salary\"].value_counts(normalize=True)\n",
    "\n",
    "print(\"Percentage of married men who earn >50K: {:.2f}%\".format(married_men_salary[\">50K\"] * 100))\n",
    "print(\"Percentage of married men who earn <=50K: {:.2f}%\".format(married_men_salary[\"<=50K\"] * 100))\n",
    "print(\"Percentage of unmarried men who earn >50K: {:.2f}%\".format(unmarried_men_salary[\">50K\"] * 100))\n",
    "print(\"Percentage of unmarried men who earn <=50K: {:.2f}%\".format(unmarried_men_salary[\"<=50K\"] * 100))"
   ],
   "metadata": {
    "collapsed": false
   }
  },
  {
   "cell_type": "markdown",
   "source": [
    "# Task 8\n",
    "Get the max hours per week some person works. How many people works the same amount of hours per week?"
   ],
   "metadata": {
    "collapsed": false
   }
  },
  {
   "cell_type": "code",
   "execution_count": 119,
   "outputs": [
    {
     "name": "stdout",
     "output_type": "stream",
     "text": [
      "Maximum hours per week: 99\n",
      "Number of people who work that many hours: 78\n"
     ]
    }
   ],
   "source": [
    "max_hours = df[\"hours-per-week\"].max()\n",
    "num_people_max_hours = df[\"hours-per-week\"].value_counts()[max_hours]\n",
    "print(\"Maximum hours per week:\", max_hours)\n",
    "print(\"Number of people who work that many hours:\", num_people_max_hours)"
   ],
   "metadata": {
    "collapsed": false
   }
  },
  {
   "cell_type": "markdown",
   "source": [
    "# Task 9\n",
    "Analyze the correlation between data in dataset. Understand connected fields in it and print highlight thier connection."
   ],
   "metadata": {
    "collapsed": false
   }
  },
  {
   "cell_type": "code",
   "execution_count": 124,
   "outputs": [
    {
     "data": {
      "text/plain": "                     age  hours-per-week  salary K$\nage             1.000000        0.101599   0.208203\nhours-per-week  0.101599        1.000000   0.196378\nsalary K$       0.208203        0.196378   1.000000",
      "text/html": "<div>\n<style scoped>\n    .dataframe tbody tr th:only-of-type {\n        vertical-align: middle;\n    }\n\n    .dataframe tbody tr th {\n        vertical-align: top;\n    }\n\n    .dataframe thead th {\n        text-align: right;\n    }\n</style>\n<table border=\"1\" class=\"dataframe\">\n  <thead>\n    <tr style=\"text-align: right;\">\n      <th></th>\n      <th>age</th>\n      <th>hours-per-week</th>\n      <th>salary K$</th>\n    </tr>\n  </thead>\n  <tbody>\n    <tr>\n      <th>age</th>\n      <td>1.000000</td>\n      <td>0.101599</td>\n      <td>0.208203</td>\n    </tr>\n    <tr>\n      <th>hours-per-week</th>\n      <td>0.101599</td>\n      <td>1.000000</td>\n      <td>0.196378</td>\n    </tr>\n    <tr>\n      <th>salary K$</th>\n      <td>0.208203</td>\n      <td>0.196378</td>\n      <td>1.000000</td>\n    </tr>\n  </tbody>\n</table>\n</div>"
     },
     "execution_count": 124,
     "metadata": {},
     "output_type": "execute_result"
    }
   ],
   "source": [
    "df[[\"age\", \"hours-per-week\", \"salary K$\"]].corr()"
   ],
   "metadata": {
    "collapsed": false
   }
  }
 ],
 "metadata": {
  "kernelspec": {
   "display_name": "Python 3",
   "language": "python",
   "name": "python3"
  },
  "language_info": {
   "codemirror_mode": {
    "name": "ipython",
    "version": 2
   },
   "file_extension": ".py",
   "mimetype": "text/x-python",
   "name": "python",
   "nbconvert_exporter": "python",
   "pygments_lexer": "ipython2",
   "version": "2.7.6"
  }
 },
 "nbformat": 4,
 "nbformat_minor": 0
}
