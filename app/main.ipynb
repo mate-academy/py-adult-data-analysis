{
 "cells": [
  {
   "cell_type": "code",
   "execution_count": 220,
   "outputs": [],
   "source": [
    "import pandas as pd"
   ],
   "metadata": {
    "collapsed": false,
    "pycharm": {
     "name": "#%%\n"
    }
   }
  },
  {
   "cell_type": "markdown",
   "source": [
    "# Task 0\n",
    "Read the dataset from csv file & perform data cleaning - remove all rows, which contains `?` in some columns.\n",
    "Also check for data correctness (salary & salary $K)."
   ],
   "metadata": {
    "collapsed": false,
    "pycharm": {
     "name": "#%% md\n"
    }
   }
  },
  {
   "cell_type": "code",
   "execution_count": 225,
   "outputs": [
    {
     "data": {
      "text/plain": "array([15, 16, 18, 17, 19])"
     },
     "execution_count": 225,
     "metadata": {},
     "output_type": "execute_result"
    }
   ],
   "source": [
    "df = pd.read_csv(\"../data/adult.csv\")\n",
    "\n",
    "df = df[df[\"workclass\"] != \"?\"]\n",
    "df = df[df[\"occupation\"] != \"?\"]\n",
    "df = df[df[\"native-country\"] != \"?\"]\n",
    "\n",
    "df[\"salary\"].unique()\n",
    "df[\"salary K$\"][df[\"salary K$\"] < 20].unique()"
   ],
   "metadata": {
    "collapsed": false,
    "pycharm": {
     "name": "#%%\n"
    }
   }
  },
  {
   "cell_type": "markdown",
   "source": [
    "# Task 1\n",
    "Print the count of men and women in the dataset."
   ],
   "metadata": {
    "collapsed": false,
    "pycharm": {
     "name": "#%% md\n"
    }
   }
  },
  {
   "cell_type": "code",
   "execution_count": 226,
   "outputs": [
    {
     "name": "stdout",
     "output_type": "stream",
     "text": [
      "men count 21790\n",
      "woman count 10771\n"
     ]
    }
   ],
   "source": [
    "df = pd.read_csv(\"../data/adult.csv\")\n",
    "\n",
    "# men count\n",
    "print(f'men count {df[\"sex\"][df[\"sex\"] == \"Male\"].count()}')\n",
    "\n",
    "# woman count\n",
    "print(f'woman count {df[\"sex\"][df[\"sex\"] == \"Female\"].count()}')"
   ],
   "metadata": {
    "collapsed": false,
    "pycharm": {
     "name": "#%%\n"
    }
   }
  },
  {
   "cell_type": "markdown",
   "source": [
    "# Task 2\n",
    "Find the average age of men in dataset"
   ],
   "metadata": {
    "collapsed": false,
    "pycharm": {
     "name": "#%% md\n"
    }
   }
  },
  {
   "cell_type": "code",
   "execution_count": 227,
   "outputs": [
    {
     "data": {
      "text/plain": "39.43"
     },
     "execution_count": 227,
     "metadata": {},
     "output_type": "execute_result"
    }
   ],
   "source": [
    "df = pd.read_csv(\"../data/adult.csv\")\n",
    "\n",
    "average_age_men = round(df[\"age\"][df[\"sex\"] == \"Male\"].mean(), 2)\n",
    "\n",
    "average_age_men"
   ],
   "metadata": {
    "collapsed": false,
    "pycharm": {
     "name": "#%%\n"
    }
   }
  },
  {
   "cell_type": "markdown",
   "source": [
    "# Task 3\n",
    "Get the percentage of people from Poland (native-country)"
   ],
   "metadata": {
    "collapsed": false,
    "pycharm": {
     "name": "#%% md\n"
    }
   }
  },
  {
   "cell_type": "code",
   "execution_count": 228,
   "outputs": [
    {
     "data": {
      "text/plain": "0.18427"
     },
     "execution_count": 228,
     "metadata": {},
     "output_type": "execute_result"
    }
   ],
   "source": [
    "df = pd.read_csv(\"../data/adult.csv\")\n",
    "\n",
    "from_poland = df[\"native-country\"][df[\"native-country\"] == \"Poland\"].count()\n",
    "\n",
    "round(from_poland / df[\"native-country\"].count() * 100, 5)"
   ],
   "metadata": {
    "collapsed": false,
    "pycharm": {
     "name": "#%%\n"
    }
   }
  },
  {
   "cell_type": "markdown",
   "source": [
    "# Task 4\n",
    "Get the mean and standard deviation of the age for people who earn > 50K per year. After this, get it for those who earn <= 50K."
   ],
   "metadata": {
    "collapsed": false,
    "pycharm": {
     "name": "#%% md\n"
    }
   }
  },
  {
   "cell_type": "code",
   "execution_count": 231,
   "outputs": [
    {
     "name": "stdout",
     "output_type": "stream",
     "text": [
      "36.78374\n",
      "14.02009\n"
     ]
    }
   ],
   "source": [
    "df = pd.read_csv(\"../data/adult.csv\")\n",
    "\n",
    "df[\"age\"][df[\"salary\"] == \">50K\"].mean()\n",
    "df[\"age\"][df[\"salary\"] == \">50K\"].std()\n",
    "\n",
    "print(round(df[\"age\"][df[\"salary\"] == \"<=50K\"].mean(), 5))\n",
    "print(round(df[\"age\"][df[\"salary\"] == \"<=50K\"].std(), 5))"
   ],
   "metadata": {
    "collapsed": false,
    "pycharm": {
     "name": "#%%\n"
    }
   }
  },
  {
   "cell_type": "markdown",
   "source": [
    "# Task 5\n",
    "Check, if there are some people without higher education (education: Bachelors, Prof-school, Assoc-acdm, Assoc-voc, Masters, Doctorate), but with > 50K salary"
   ],
   "metadata": {
    "collapsed": false,
    "pycharm": {
     "name": "#%% md\n"
    }
   }
  },
  {
   "cell_type": "code",
   "execution_count": 233,
   "outputs": [
    {
     "data": {
      "text/plain": "3306"
     },
     "execution_count": 233,
     "metadata": {},
     "output_type": "execute_result"
    }
   ],
   "source": [
    "df = pd.read_csv(\"../data/adult.csv\")\n",
    "\n",
    "df = df[~df[\"education\"].isin([\"Bachelors\",\"Prof-school\", \"Assoc-acdm\", \"Assoc-voc\", \"Masters\", \"Doctorate\"])]\n",
    "\n",
    "df[\"salary\"][df[\"salary\"] == \">50K\"].count()"
   ],
   "metadata": {
    "collapsed": false,
    "pycharm": {
     "name": "#%%\n"
    }
   }
  },
  {
   "cell_type": "markdown",
   "source": [],
   "metadata": {
    "collapsed": false
   }
  },
  {
   "cell_type": "markdown",
   "source": [
    "# Task 6\n",
    "Get the statistics of age for each type of education. Use `groupby` and `describe` for this."
   ],
   "metadata": {
    "collapsed": false,
    "pycharm": {
     "name": "#%% md\n"
    }
   }
  },
  {
   "cell_type": "code",
   "execution_count": 234,
   "outputs": [
    {
     "data": {
      "text/plain": "                count       mean        std   min    25%   50%   75%   max\neducation                                                                 \n10th            933.0  37.429796  16.720713  17.0  22.00  34.0  52.0  90.0\n11th           1175.0  32.355745  15.545485  17.0  18.00  28.0  43.0  90.0\n12th            433.0  32.000000  14.334625  17.0  19.00  28.0  41.0  79.0\n1st-4th         168.0  46.142857  15.615625  19.0  33.00  46.0  57.0  90.0\n5th-6th         333.0  42.885886  15.557285  17.0  29.00  42.0  54.0  84.0\n7th-8th         646.0  48.445820  16.092350  17.0  34.25  50.0  61.0  90.0\n9th             514.0  41.060311  15.946862  17.0  28.00  39.0  54.0  90.0\nAssoc-acdm     1067.0  37.381443  11.095177  19.0  29.00  36.0  44.0  90.0\nAssoc-voc      1382.0  38.553546  11.631300  19.0  30.00  37.0  46.0  84.0\nBachelors      5355.0  38.904949  11.912210  19.0  29.00  37.0  46.0  90.0\nDoctorate       413.0  47.702179  11.784716  24.0  39.00  47.0  55.0  80.0\nHS-grad       10501.0  38.974479  13.541524  17.0  28.00  37.0  48.0  90.0\nMasters        1723.0  44.049913  11.068935  18.0  36.00  43.0  51.0  90.0\nPreschool        51.0  42.764706  15.126914  19.0  31.00  41.0  53.5  75.0\nProf-school     576.0  44.746528  11.962477  25.0  36.00  43.0  51.0  90.0\nSome-college   7291.0  35.756275  13.474051  17.0  24.00  34.0  45.0  90.0",
      "text/html": "<div>\n<style scoped>\n    .dataframe tbody tr th:only-of-type {\n        vertical-align: middle;\n    }\n\n    .dataframe tbody tr th {\n        vertical-align: top;\n    }\n\n    .dataframe thead th {\n        text-align: right;\n    }\n</style>\n<table border=\"1\" class=\"dataframe\">\n  <thead>\n    <tr style=\"text-align: right;\">\n      <th></th>\n      <th>count</th>\n      <th>mean</th>\n      <th>std</th>\n      <th>min</th>\n      <th>25%</th>\n      <th>50%</th>\n      <th>75%</th>\n      <th>max</th>\n    </tr>\n    <tr>\n      <th>education</th>\n      <th></th>\n      <th></th>\n      <th></th>\n      <th></th>\n      <th></th>\n      <th></th>\n      <th></th>\n      <th></th>\n    </tr>\n  </thead>\n  <tbody>\n    <tr>\n      <th>10th</th>\n      <td>933.0</td>\n      <td>37.429796</td>\n      <td>16.720713</td>\n      <td>17.0</td>\n      <td>22.00</td>\n      <td>34.0</td>\n      <td>52.0</td>\n      <td>90.0</td>\n    </tr>\n    <tr>\n      <th>11th</th>\n      <td>1175.0</td>\n      <td>32.355745</td>\n      <td>15.545485</td>\n      <td>17.0</td>\n      <td>18.00</td>\n      <td>28.0</td>\n      <td>43.0</td>\n      <td>90.0</td>\n    </tr>\n    <tr>\n      <th>12th</th>\n      <td>433.0</td>\n      <td>32.000000</td>\n      <td>14.334625</td>\n      <td>17.0</td>\n      <td>19.00</td>\n      <td>28.0</td>\n      <td>41.0</td>\n      <td>79.0</td>\n    </tr>\n    <tr>\n      <th>1st-4th</th>\n      <td>168.0</td>\n      <td>46.142857</td>\n      <td>15.615625</td>\n      <td>19.0</td>\n      <td>33.00</td>\n      <td>46.0</td>\n      <td>57.0</td>\n      <td>90.0</td>\n    </tr>\n    <tr>\n      <th>5th-6th</th>\n      <td>333.0</td>\n      <td>42.885886</td>\n      <td>15.557285</td>\n      <td>17.0</td>\n      <td>29.00</td>\n      <td>42.0</td>\n      <td>54.0</td>\n      <td>84.0</td>\n    </tr>\n    <tr>\n      <th>7th-8th</th>\n      <td>646.0</td>\n      <td>48.445820</td>\n      <td>16.092350</td>\n      <td>17.0</td>\n      <td>34.25</td>\n      <td>50.0</td>\n      <td>61.0</td>\n      <td>90.0</td>\n    </tr>\n    <tr>\n      <th>9th</th>\n      <td>514.0</td>\n      <td>41.060311</td>\n      <td>15.946862</td>\n      <td>17.0</td>\n      <td>28.00</td>\n      <td>39.0</td>\n      <td>54.0</td>\n      <td>90.0</td>\n    </tr>\n    <tr>\n      <th>Assoc-acdm</th>\n      <td>1067.0</td>\n      <td>37.381443</td>\n      <td>11.095177</td>\n      <td>19.0</td>\n      <td>29.00</td>\n      <td>36.0</td>\n      <td>44.0</td>\n      <td>90.0</td>\n    </tr>\n    <tr>\n      <th>Assoc-voc</th>\n      <td>1382.0</td>\n      <td>38.553546</td>\n      <td>11.631300</td>\n      <td>19.0</td>\n      <td>30.00</td>\n      <td>37.0</td>\n      <td>46.0</td>\n      <td>84.0</td>\n    </tr>\n    <tr>\n      <th>Bachelors</th>\n      <td>5355.0</td>\n      <td>38.904949</td>\n      <td>11.912210</td>\n      <td>19.0</td>\n      <td>29.00</td>\n      <td>37.0</td>\n      <td>46.0</td>\n      <td>90.0</td>\n    </tr>\n    <tr>\n      <th>Doctorate</th>\n      <td>413.0</td>\n      <td>47.702179</td>\n      <td>11.784716</td>\n      <td>24.0</td>\n      <td>39.00</td>\n      <td>47.0</td>\n      <td>55.0</td>\n      <td>80.0</td>\n    </tr>\n    <tr>\n      <th>HS-grad</th>\n      <td>10501.0</td>\n      <td>38.974479</td>\n      <td>13.541524</td>\n      <td>17.0</td>\n      <td>28.00</td>\n      <td>37.0</td>\n      <td>48.0</td>\n      <td>90.0</td>\n    </tr>\n    <tr>\n      <th>Masters</th>\n      <td>1723.0</td>\n      <td>44.049913</td>\n      <td>11.068935</td>\n      <td>18.0</td>\n      <td>36.00</td>\n      <td>43.0</td>\n      <td>51.0</td>\n      <td>90.0</td>\n    </tr>\n    <tr>\n      <th>Preschool</th>\n      <td>51.0</td>\n      <td>42.764706</td>\n      <td>15.126914</td>\n      <td>19.0</td>\n      <td>31.00</td>\n      <td>41.0</td>\n      <td>53.5</td>\n      <td>75.0</td>\n    </tr>\n    <tr>\n      <th>Prof-school</th>\n      <td>576.0</td>\n      <td>44.746528</td>\n      <td>11.962477</td>\n      <td>25.0</td>\n      <td>36.00</td>\n      <td>43.0</td>\n      <td>51.0</td>\n      <td>90.0</td>\n    </tr>\n    <tr>\n      <th>Some-college</th>\n      <td>7291.0</td>\n      <td>35.756275</td>\n      <td>13.474051</td>\n      <td>17.0</td>\n      <td>24.00</td>\n      <td>34.0</td>\n      <td>45.0</td>\n      <td>90.0</td>\n    </tr>\n  </tbody>\n</table>\n</div>"
     },
     "execution_count": 234,
     "metadata": {},
     "output_type": "execute_result"
    }
   ],
   "source": [
    "df = pd.read_csv(\"../data/adult.csv\")\n",
    "df.groupby([\"education\"]).describe()[\"age\"]"
   ],
   "metadata": {
    "collapsed": false,
    "pycharm": {
     "name": "#%%\n"
    }
   }
  },
  {
   "cell_type": "markdown",
   "source": [
    "# Task 7\n",
    "Compare the married and non-married men salaries. Who earns more? (>50K or <=50K)\n",
    "Married men are those, whom `marital-status` starts with \"Married\". Others are not."
   ],
   "metadata": {
    "collapsed": false,
    "pycharm": {
     "name": "#%% md\n"
    }
   }
  },
  {
   "cell_type": "code",
   "execution_count": 235,
   "outputs": [
    {
     "name": "stdout",
     "output_type": "stream",
     "text": [
      "average salary married man 105.98735162482973\n",
      "average salary non married man 42.71762715818945\n"
     ]
    }
   ],
   "source": [
    "df = pd.read_csv(\"../data/adult.csv\")\n",
    "\n",
    "married_man = df[\"salary K$\"][df[\"marital-status\"].str.startswith('Married')].mean()\n",
    "non_married_man = df[\"salary K$\"][~df[\"marital-status\"].str.startswith('Married')].mean()\n",
    "\n",
    "print(f\"average salary married man {married_man}\")\n",
    "print(f\"average salary non married man {non_married_man}\")"
   ],
   "metadata": {
    "collapsed": false,
    "pycharm": {
     "name": "#%%\n"
    }
   }
  },
  {
   "cell_type": "markdown",
   "source": [
    "# Task 8\n",
    "Get the max hours per week some person works. How many people works the same amount of hours per week?"
   ],
   "metadata": {
    "collapsed": false,
    "pycharm": {
     "name": "#%% md\n"
    }
   }
  },
  {
   "cell_type": "code",
   "execution_count": 236,
   "outputs": [
    {
     "data": {
      "text/plain": "85"
     },
     "execution_count": 236,
     "metadata": {},
     "output_type": "execute_result"
    }
   ],
   "source": [
    "df = pd.read_csv(\"../data/adult.csv\")\n",
    "\n",
    "max_hours = df[\"hours-per-week\"].max()\n",
    "\n",
    "df[\"hours-per-week\"][df[\"hours-per-week\"] == max_hours].count()"
   ],
   "metadata": {
    "collapsed": false,
    "pycharm": {
     "name": "#%%\n"
    }
   }
  },
  {
   "cell_type": "markdown",
   "source": [
    "# Task 9\n",
    "Analyze the correlation between data in dataset. Understand connected fields in it and print highlight thier connection."
   ],
   "metadata": {
    "collapsed": false,
    "pycharm": {
     "name": "#%% md\n"
    }
   }
  },
  {
   "cell_type": "code",
   "execution_count": 218,
   "outputs": [
    {
     "data": {
      "text/plain": "<AxesSubplot: >"
     },
     "execution_count": 218,
     "metadata": {},
     "output_type": "execute_result"
    },
    {
     "data": {
      "text/plain": "<Figure size 640x480 with 1 Axes>",
      "image/png": "[encoded data removed]"
     },
     "metadata": {},
     "output_type": "display_data"
    }
   ],
   "source": [
    "df = pd.read_csv(\"../data/adult.csv\")\n",
    "\n",
    "df.corr().plot()"
   ],
   "metadata": {
    "collapsed": false,
    "pycharm": {
     "name": "#%%\n"
    }
   }
  }
 ],
 "metadata": {
  "kernelspec": {
   "display_name": "Python 3",
   "language": "python",
   "name": "python3"
  },
  "language_info": {
   "codemirror_mode": {
    "name": "ipython",
    "version": 2
   },
   "file_extension": ".py",
   "mimetype": "text/x-python",
   "name": "python",
   "nbconvert_exporter": "python",
   "pygments_lexer": "ipython2",
   "version": "2.7.6"
  }
 },
 "nbformat": 4,
 "nbformat_minor": 0
}