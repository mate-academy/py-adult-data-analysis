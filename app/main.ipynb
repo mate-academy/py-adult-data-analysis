{
 "cells": [
  {
   "cell_type": "code",
   "execution_count": 1,
   "outputs": [],
   "source": [
    "import numpy as np\n",
    "import pandas as pd"
   ],
   "metadata": {
    "collapsed": false,
    "pycharm": {
     "name": "#%%\n"
    },
    "ExecuteTime": {
     "end_time": "2024-05-01T07:02:54.115026Z",
     "start_time": "2024-05-01T07:02:51.190645Z"
    }
   }
  },
  {
   "cell_type": "markdown",
   "source": [
    "# Task 0\n",
    "Read the dataset from csv file & perform data cleaning - remove all rows, which contains `?` in some columns.\n",
    "Also check for data correctness (salary & salary $K)."
   ],
   "metadata": {
    "collapsed": false,
    "pycharm": {
     "name": "#%% md\n"
    }
   }
  },
  {
   "cell_type": "code",
   "execution_count": 7,
   "outputs": [
    {
     "name": "stdout",
     "output_type": "stream",
     "text": [
      "Unique values in the 'salary' column: ['<=50K' '>50K']\n",
      "Unique values in the new 'salary $K' column: [0 1]\n"
     ]
    }
   ],
   "source": [
    "df = pd.read_csv(\"C:/Users/User/python_advanced/py-adult-data-analysis/data/adult.csv\")\n",
    "df = df.replace(\"?\", np.nan)\n",
    "df = df.dropna()\n",
    "\n",
    "print(\"Unique values in the 'salary' column:\", df[\"salary\"].unique())\n",
    "df[\"salary $K\"] = df[\"salary\"].apply(lambda x: 0 if x == \"<=50K\" else 1)\n",
    "\n",
    "print(\"Unique values in the new 'salary $K' column:\", df[\"salary $K\"].unique())"
   ],
   "metadata": {
    "collapsed": false,
    "pycharm": {
     "name": "#%%\n"
    },
    "ExecuteTime": {
     "end_time": "2024-05-01T07:13:33.469019Z",
     "start_time": "2024-05-01T07:13:33.283713Z"
    }
   }
  },
  {
   "cell_type": "markdown",
   "source": [
    "# Task 1\n",
    "Print the count of men and women in the dataset."
   ],
   "metadata": {
    "collapsed": false,
    "pycharm": {
     "name": "#%% md\n"
    }
   }
  },
  {
   "cell_type": "code",
   "execution_count": 8,
   "outputs": [
    {
     "name": "stdout",
     "output_type": "stream",
     "text": [
      "Count of men: 20380\n",
      "Count of women: 9782\n"
     ]
    }
   ],
   "source": [
    "# write your code for task 1 here\n",
    "sex_counts = df[\"sex\"].value_counts()\n",
    "print(\"Count of men:\", sex_counts[\"Male\"])\n",
    "print(\"Count of women:\", sex_counts[\"Female\"])"
   ],
   "metadata": {
    "collapsed": false,
    "pycharm": {
     "name": "#%%\n"
    },
    "ExecuteTime": {
     "end_time": "2024-05-01T07:14:15.933177Z",
     "start_time": "2024-05-01T07:14:15.922561Z"
    }
   }
  },
  {
   "cell_type": "markdown",
   "source": [
    "# Task 2\n",
    "Find the average age of men in dataset"
   ],
   "metadata": {
    "collapsed": false,
    "pycharm": {
     "name": "#%% md\n"
    }
   }
  },
  {
   "cell_type": "code",
   "execution_count": 9,
   "outputs": [
    {
     "name": "stdout",
     "output_type": "stream",
     "text": [
      "Average age of men: 39.18400392541707\n"
     ]
    }
   ],
   "source": [
    "# write your code for task 2 here\n",
    "average_age_men = df[df[\"sex\"] == \"Male\"][\"age\"].mean()\n",
    "print(\"Average age of men:\", average_age_men)"
   ],
   "metadata": {
    "collapsed": false,
    "pycharm": {
     "name": "#%%\n"
    },
    "ExecuteTime": {
     "end_time": "2024-05-01T07:15:09.157730Z",
     "start_time": "2024-05-01T07:15:09.134536Z"
    }
   }
  },
  {
   "cell_type": "markdown",
   "source": [
    "# Task 3\n",
    "Get the percentage of people from Poland (native-country)"
   ],
   "metadata": {
    "collapsed": false,
    "pycharm": {
     "name": "#%% md\n"
    }
   }
  },
  {
   "cell_type": "code",
   "execution_count": 10,
   "outputs": [
    {
     "name": "stdout",
     "output_type": "stream",
     "text": [
      "Percentage of people from Poland: 0.18566408063125786\n"
     ]
    }
   ],
   "source": [
    "# write your code for task 3 here\n",
    "poland_count = df[df[\"native-country\"] == \"Poland\"].shape[0]\n",
    "total_count = df.shape[0]\n",
    "percentage_poland = (poland_count / total_count) * 100\n",
    "print(\"Percentage of people from Poland:\", percentage_poland)"
   ],
   "metadata": {
    "collapsed": false,
    "pycharm": {
     "name": "#%%\n"
    },
    "ExecuteTime": {
     "end_time": "2024-05-01T07:15:47.259789Z",
     "start_time": "2024-05-01T07:15:47.247795Z"
    }
   }
  },
  {
   "cell_type": "markdown",
   "source": [
    "# Task 4\n",
    "Get the mean and standard deviation of the age for people who earn > 50K per year. After this, get it for those who earn <= 50K."
   ],
   "metadata": {
    "collapsed": false,
    "pycharm": {
     "name": "#%% md\n"
    }
   }
  },
  {
   "cell_type": "code",
   "execution_count": 11,
   "outputs": [
    {
     "name": "stdout",
     "output_type": "stream",
     "text": [
      "For people who earn > $50K per year:\n",
      "Mean age: 43.95911028236548\n",
      "Standard deviation of age: 10.269632835673852\n",
      "\n",
      "For people who earn <= $50K per year:\n",
      "Mean age: 36.60806038668668\n",
      "Standard deviation of age: 13.464631257161633\n"
     ]
    }
   ],
   "source": [
    "# write your code for task 4 here\n",
    "mean_age_high_income = df[df[\"salary\"] == \">50K\"][\"age\"].mean()\n",
    "std_age_high_income = df[df[\"salary\"] == \">50K\"][\"age\"].std()\n",
    "\n",
    "mean_age_low_income = df[df[\"salary\"] == \"<=50K\"][\"age\"].mean()\n",
    "std_age_low_income = df[df[\"salary\"] == \"<=50K\"][\"age\"].std()\n",
    "\n",
    "print(\"For people who earn > $50K per year:\")\n",
    "print(\"Mean age:\", mean_age_high_income)\n",
    "print(\"Standard deviation of age:\", std_age_high_income)\n",
    "print()\n",
    "print(\"For people who earn <= $50K per year:\")\n",
    "print(\"Mean age:\", mean_age_low_income)\n",
    "print(\"Standard deviation of age:\", std_age_low_income)"
   ],
   "metadata": {
    "collapsed": false,
    "pycharm": {
     "name": "#%%\n"
    },
    "ExecuteTime": {
     "end_time": "2024-05-01T07:16:22.723309Z",
     "start_time": "2024-05-01T07:16:22.681323Z"
    }
   }
  },
  {
   "cell_type": "markdown",
   "source": [
    "# Task 5\n",
    "Check, if there are some people without higher education (education: Bachelors, Prof-school, Assoc-acdm, Assoc-voc, Masters, Doctorate), but with > 50K salary"
   ],
   "metadata": {
    "collapsed": false,
    "pycharm": {
     "name": "#%% md\n"
    }
   }
  },
  {
   "cell_type": "code",
   "execution_count": 12,
   "outputs": [
    {
     "name": "stdout",
     "output_type": "stream",
     "text": [
      "There are people with salary > $50K but without higher education:\n",
      "       Unnamed: 0  age         workclass     education      marital-status  \\\n",
      "7               7   52  Self-emp-not-inc       HS-grad  Married-civ-spouse   \n",
      "10             10   37           Private  Some-college  Married-civ-spouse   \n",
      "55             55   43           Private  Some-college  Married-civ-spouse   \n",
      "67             67   53           Private       HS-grad  Married-civ-spouse   \n",
      "68             68   49      Self-emp-inc  Some-college  Married-civ-spouse   \n",
      "...           ...  ...               ...           ...                 ...   \n",
      "32462       32462   48      Self-emp-inc       HS-grad  Married-civ-spouse   \n",
      "32518       32518   57         Local-gov       HS-grad  Married-civ-spouse   \n",
      "32519       32519   46           Private  Some-college  Married-civ-spouse   \n",
      "32557       32557   40           Private       HS-grad  Married-civ-spouse   \n",
      "32560       32560   52      Self-emp-inc       HS-grad  Married-civ-spouse   \n",
      "\n",
      "              occupation relationship   race     sex  hours-per-week  \\\n",
      "7        Exec-managerial      Husband  White    Male              45   \n",
      "10       Exec-managerial      Husband  Black    Male              80   \n",
      "55          Tech-support      Husband  White    Male              40   \n",
      "67          Adm-clerical         Wife  White  Female              40   \n",
      "68       Exec-managerial      Husband  White    Male              50   \n",
      "...                  ...          ...    ...     ...             ...   \n",
      "32462       Craft-repair      Husband  White    Male              50   \n",
      "32518       Craft-repair      Husband  White    Male              40   \n",
      "32519    Exec-managerial      Husband  White    Male              48   \n",
      "32557  Machine-op-inspct      Husband  White    Male              40   \n",
      "32560    Exec-managerial         Wife  White  Female              40   \n",
      "\n",
      "      native-country salary  salary K$  salary $K  \n",
      "7      United-States   >50K        307          1  \n",
      "10     United-States   >50K        116          1  \n",
      "55     United-States   >50K        341          1  \n",
      "67     United-States   >50K        225          1  \n",
      "68     United-States   >50K        194          1  \n",
      "...              ...    ...        ...        ...  \n",
      "32462  United-States   >50K        343          1  \n",
      "32518  United-States   >50K        116          1  \n",
      "32519  United-States   >50K        239          1  \n",
      "32557  United-States   >50K        173          1  \n",
      "32560  United-States   >50K        243          1  \n",
      "\n",
      "[3178 rows x 14 columns]\n"
     ]
    }
   ],
   "source": [
    "# write your code for task 5 here\n",
    "higher_education_levels = [\"Bachelors\", \"Prof-school\", \"Assoc-acdm\", \"Assoc-voc\", \"Masters\", \"Doctorate\"]\n",
    "\n",
    "people_without_higher_education = df[(df[\"salary\"] == \">50K\") & (~df[\"education\"].isin(higher_education_levels))]\n",
    "\n",
    "if people_without_higher_education.empty:\n",
    "    print(\"There are no people with salary > $50K and without higher education.\")\n",
    "else:\n",
    "    print(\"There are people with salary > $50K but without higher education:\")\n",
    "    print(people_without_higher_education)"
   ],
   "metadata": {
    "collapsed": false,
    "pycharm": {
     "name": "#%%\n"
    },
    "ExecuteTime": {
     "end_time": "2024-05-01T07:17:34.639163Z",
     "start_time": "2024-05-01T07:17:34.606933Z"
    }
   }
  },
  {
   "cell_type": "markdown",
   "source": [
    "# Task 6\n",
    "Get the statistics of age for each type of education. Use `groupby` and `describe` for this."
   ],
   "metadata": {
    "collapsed": false,
    "pycharm": {
     "name": "#%% md\n"
    }
   }
  },
  {
   "cell_type": "code",
   "execution_count": 13,
   "outputs": [
    {
     "name": "stdout",
     "output_type": "stream",
     "text": [
      "Statistics of age for each type of education:\n",
      "               count       mean        std   min   25%   50%   75%   max\n",
      "education                                                               \n",
      "10th           820.0  37.897561  16.225795  17.0  23.0  36.0  52.0  90.0\n",
      "11th          1048.0  32.363550  15.089307  17.0  18.0  28.5  43.0  90.0\n",
      "12th           377.0  32.013263  14.373710  17.0  19.0  28.0  41.0  79.0\n",
      "1st-4th        151.0  44.622517  14.929051  19.0  33.0  44.0  56.0  81.0\n",
      "5th-6th        288.0  41.649306  14.754622  17.0  28.0  41.0  53.0  82.0\n",
      "7th-8th        557.0  47.631957  15.737479  17.0  34.0  49.0  60.0  90.0\n",
      "9th            455.0  40.303297  15.335754  17.0  28.0  38.0  53.0  90.0\n",
      "Assoc-acdm    1008.0  37.286706  10.509755  19.0  29.0  36.0  44.0  90.0\n",
      "Assoc-voc     1307.0  38.246366  11.181253  19.0  30.0  37.0  45.0  84.0\n",
      "Bachelors     5044.0  38.641554  11.577566  19.0  29.0  37.0  46.0  90.0\n",
      "Doctorate      375.0  47.130667  11.471727  24.0  39.0  47.0  54.0  80.0\n",
      "HS-grad       9840.0  38.640955  13.067730  17.0  28.0  37.0  48.0  90.0\n",
      "Masters       1627.0  43.740012  10.735356  18.0  36.0  43.0  50.0  90.0\n",
      "Preschool       45.0  41.288889  15.175672  19.0  30.0  40.0  53.0  75.0\n",
      "Prof-school    542.0  44.249077  11.428098  25.0  36.0  43.0  50.0  90.0\n",
      "Some-college  6678.0  36.135370  13.073528  17.0  25.0  35.0  45.0  90.0\n"
     ]
    }
   ],
   "source": [
    "# write your code for task 6 here\n",
    "education_age_stats = df.groupby(\"education\")[\"age\"].describe()\n",
    "\n",
    "print(\"Statistics of age for each type of education:\")\n",
    "print(education_age_stats)"
   ],
   "metadata": {
    "collapsed": false,
    "pycharm": {
     "name": "#%%\n"
    },
    "ExecuteTime": {
     "end_time": "2024-05-01T07:18:35.935035Z",
     "start_time": "2024-05-01T07:18:35.842570Z"
    }
   }
  },
  {
   "cell_type": "markdown",
   "source": [
    "# Task 7\n",
    "Compare the married and non-married men salaries. Who earns more? (>50K or <=50K)\n",
    "Married men are those, whom `marital-status` starts with \"Married\". Others are not."
   ],
   "metadata": {
    "collapsed": false,
    "pycharm": {
     "name": "#%% md\n"
    }
   }
  },
  {
   "cell_type": "code",
   "execution_count": 14,
   "outputs": [
    {
     "name": "stdout",
     "output_type": "stream",
     "text": [
      "Comparison of salaries for married and non-married men:\n",
      "is_married  salary\n",
      "False       <=50K     6932\n",
      "            >50K       673\n",
      "True        <=50K     7052\n",
      "            >50K      5723\n",
      "dtype: int64\n"
     ]
    }
   ],
   "source": [
    "# write your code for task 7 here\n",
    "def is_married(status):\n",
    "    return status.startswith(\"Married\")\n",
    "\n",
    "df['is_married'] = df['marital-status'].apply(is_married)\n",
    "\n",
    "salary_comparison = df[df['sex'] == 'Male'].groupby(['is_married', 'salary']).size()\n",
    "\n",
    "print(\"Comparison of salaries for married and non-married men:\")\n",
    "print(salary_comparison)"
   ],
   "metadata": {
    "collapsed": false,
    "pycharm": {
     "name": "#%%\n"
    },
    "ExecuteTime": {
     "end_time": "2024-05-01T07:19:12.143768Z",
     "start_time": "2024-05-01T07:19:12.108546Z"
    }
   }
  },
  {
   "cell_type": "markdown",
   "source": [
    "# Task 8\n",
    "Get the max hours per week some person works. How many people works the same amount of hours per week?"
   ],
   "metadata": {
    "collapsed": false,
    "pycharm": {
     "name": "#%% md\n"
    }
   }
  },
  {
   "cell_type": "code",
   "execution_count": 15,
   "outputs": [
    {
     "name": "stdout",
     "output_type": "stream",
     "text": [
      "Maximum hours per week: 99\n",
      "Number of people who work the same amount of hours per week: 78\n"
     ]
    }
   ],
   "source": [
    "# write your code for task 8 here\n",
    "max_hours_per_week = df['hours-per-week'].max()\n",
    "\n",
    "num_people_max_hours = df[df['hours-per-week'] == max_hours_per_week].shape[0]\n",
    "\n",
    "print(\"Maximum hours per week:\", max_hours_per_week)\n",
    "print(\"Number of people who work the same amount of hours per week:\", num_people_max_hours)"
   ],
   "metadata": {
    "collapsed": false,
    "pycharm": {
     "name": "#%%\n"
    },
    "ExecuteTime": {
     "end_time": "2024-05-01T07:19:35.691936Z",
     "start_time": "2024-05-01T07:19:35.683885Z"
    }
   }
  },
  {
   "cell_type": "markdown",
   "source": [
    "# Task 9\n",
    "Analyze the correlation between data in dataset. Understand connected fields in it and print highlight thier connection."
   ],
   "metadata": {
    "collapsed": false,
    "pycharm": {
     "name": "#%% md\n"
    }
   }
  },
  {
   "cell_type": "code",
   "execution_count": 17,
   "outputs": [
    {
     "name": "stdout",
     "output_type": "stream",
     "text": [
      "Correlation Matrix:\n",
      "                Unnamed: 0       age  hours-per-week  salary K$  salary $K\n",
      "Unnamed: 0        1.000000 -0.001126       -0.001890   0.000129   0.006244\n",
      "age              -0.001126  1.000000        0.101599   0.208203   0.241998\n",
      "hours-per-week   -0.001890  0.101599        1.000000   0.196378   0.229480\n",
      "salary K$         0.000129  0.208203        0.196378   1.000000   0.853894\n",
      "salary $K         0.006244  0.241998        0.229480   0.853894   1.000000\n",
      "\n",
      "Fields with high correlation (absolute value >= 0.5):\n",
      "                Unnamed: 0  age  hours-per-week  salary K$  salary $K\n",
      "Unnamed: 0             1.0  NaN             NaN        NaN        NaN\n",
      "age                    NaN  1.0             NaN        NaN        NaN\n",
      "hours-per-week         NaN  NaN             1.0        NaN        NaN\n",
      "salary K$              NaN  NaN             NaN   1.000000   0.853894\n",
      "salary $K              NaN  NaN             NaN   0.853894   1.000000\n"
     ]
    }
   ],
   "source": [
    "# write your code for task 9 here\n",
    "numeric_df = df.select_dtypes(include=['int64', 'float64'])\n",
    "\n",
    "correlation_matrix = numeric_df.corr()\n",
    "\n",
    "print(\"Correlation Matrix:\")\n",
    "print(correlation_matrix)\n",
    "\n",
    "high_correlation = correlation_matrix[abs(correlation_matrix) >= 0.5]\n",
    "print(\"\\nFields with high correlation (absolute value >= 0.5):\")\n",
    "print(high_correlation)"
   ],
   "metadata": {
    "collapsed": false,
    "pycharm": {
     "name": "#%%\n"
    },
    "ExecuteTime": {
     "end_time": "2024-05-01T07:20:51.200391Z",
     "start_time": "2024-05-01T07:20:51.166884Z"
    }
   }
  }
 ],
 "metadata": {
  "kernelspec": {
   "display_name": "Python 3",
   "language": "python",
   "name": "python3"
  },
  "language_info": {
   "codemirror_mode": {
    "name": "ipython",
    "version": 2
   },
   "file_extension": ".py",
   "mimetype": "text/x-python",
   "name": "python",
   "nbconvert_exporter": "python",
   "pygments_lexer": "ipython2",
   "version": "2.7.6"
  }
 },
 "nbformat": 4,
 "nbformat_minor": 0
}
