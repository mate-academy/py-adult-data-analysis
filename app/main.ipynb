{
 "cells": [
  {
   "cell_type": "code",
   "execution_count": 292,
   "outputs": [],
   "source": [
    "import numpy as np\n",
    "import pandas as pd"
   ],
   "metadata": {
    "collapsed": false,
    "pycharm": {
     "name": "#%%\n"
    },
    "ExecuteTime": {
     "end_time": "2024-05-01T19:49:10.143293700Z",
     "start_time": "2024-05-01T19:49:10.097295200Z"
    }
   }
  },
  {
   "cell_type": "markdown",
   "source": [
    "# Task 0\n",
    "Read the dataset from csv file & perform data cleaning - remove all rows, which contains `?` in some columns.\n",
    "Also check for data correctness (salary & salary $K)."
   ],
   "metadata": {
    "collapsed": false,
    "pycharm": {
     "name": "#%% md\n"
    }
   }
  },
  {
   "cell_type": "code",
   "outputs": [
    {
     "data": {
      "text/plain": "   Unnamed: 0  age         workclass  education         marital-status  \\\n0           0   39         State-gov  Bachelors          Never-married   \n1           1   50  Self-emp-not-inc  Bachelors     Married-civ-spouse   \n2           2   38           Private    HS-grad               Divorced   \n3           3   53           Private       11th     Married-civ-spouse   \n4           4   28           Private  Bachelors     Married-civ-spouse   \n5           5   37           Private    Masters     Married-civ-spouse   \n6           6   49           Private        9th  Married-spouse-absent   \n7           7   52  Self-emp-not-inc    HS-grad     Married-civ-spouse   \n8           8   31           Private    Masters          Never-married   \n9           9   42           Private  Bachelors     Married-civ-spouse   \n\n          occupation   relationship   race     sex  hours-per-week  \\\n0       Adm-clerical  Not-in-family  White    Male              40   \n1    Exec-managerial        Husband  White    Male              13   \n2  Handlers-cleaners  Not-in-family  White    Male              40   \n3  Handlers-cleaners        Husband  Black    Male              40   \n4     Prof-specialty           Wife  Black  Female              40   \n5    Exec-managerial           Wife  White  Female              40   \n6      Other-service  Not-in-family  Black  Female              16   \n7    Exec-managerial        Husband  White    Male              45   \n8     Prof-specialty  Not-in-family  White  Female              50   \n9    Exec-managerial        Husband  White    Male              40   \n\n  native-country salary  salary K$  \n0  United-States  <=50K         39  \n1  United-States  <=50K         35  \n2  United-States  <=50K         27  \n3  United-States  <=50K         43  \n4           Cuba  <=50K         25  \n5  United-States  <=50K         44  \n6        Jamaica  <=50K         49  \n7  United-States   >50K        307  \n8  United-States   >50K        330  \n9  United-States   >50K        303  ",
      "text/html": "<div>\n<style scoped>\n    .dataframe tbody tr th:only-of-type {\n        vertical-align: middle;\n    }\n\n    .dataframe tbody tr th {\n        vertical-align: top;\n    }\n\n    .dataframe thead th {\n        text-align: right;\n    }\n</style>\n<table border=\"1\" class=\"dataframe\">\n  <thead>\n    <tr style=\"text-align: right;\">\n      <th></th>\n      <th>Unnamed: 0</th>\n      <th>age</th>\n      <th>workclass</th>\n      <th>education</th>\n      <th>marital-status</th>\n      <th>occupation</th>\n      <th>relationship</th>\n      <th>race</th>\n      <th>sex</th>\n      <th>hours-per-week</th>\n      <th>native-country</th>\n      <th>salary</th>\n      <th>salary K$</th>\n    </tr>\n  </thead>\n  <tbody>\n    <tr>\n      <th>0</th>\n      <td>0</td>\n      <td>39</td>\n      <td>State-gov</td>\n      <td>Bachelors</td>\n      <td>Never-married</td>\n      <td>Adm-clerical</td>\n      <td>Not-in-family</td>\n      <td>White</td>\n      <td>Male</td>\n      <td>40</td>\n      <td>United-States</td>\n      <td>&lt;=50K</td>\n      <td>39</td>\n    </tr>\n    <tr>\n      <th>1</th>\n      <td>1</td>\n      <td>50</td>\n      <td>Self-emp-not-inc</td>\n      <td>Bachelors</td>\n      <td>Married-civ-spouse</td>\n      <td>Exec-managerial</td>\n      <td>Husband</td>\n      <td>White</td>\n      <td>Male</td>\n      <td>13</td>\n      <td>United-States</td>\n      <td>&lt;=50K</td>\n      <td>35</td>\n    </tr>\n    <tr>\n      <th>2</th>\n      <td>2</td>\n      <td>38</td>\n      <td>Private</td>\n      <td>HS-grad</td>\n      <td>Divorced</td>\n      <td>Handlers-cleaners</td>\n      <td>Not-in-family</td>\n      <td>White</td>\n      <td>Male</td>\n      <td>40</td>\n      <td>United-States</td>\n      <td>&lt;=50K</td>\n      <td>27</td>\n    </tr>\n    <tr>\n      <th>3</th>\n      <td>3</td>\n      <td>53</td>\n      <td>Private</td>\n      <td>11th</td>\n      <td>Married-civ-spouse</td>\n      <td>Handlers-cleaners</td>\n      <td>Husband</td>\n      <td>Black</td>\n      <td>Male</td>\n      <td>40</td>\n      <td>United-States</td>\n      <td>&lt;=50K</td>\n      <td>43</td>\n    </tr>\n    <tr>\n      <th>4</th>\n      <td>4</td>\n      <td>28</td>\n      <td>Private</td>\n      <td>Bachelors</td>\n      <td>Married-civ-spouse</td>\n      <td>Prof-specialty</td>\n      <td>Wife</td>\n      <td>Black</td>\n      <td>Female</td>\n      <td>40</td>\n      <td>Cuba</td>\n      <td>&lt;=50K</td>\n      <td>25</td>\n    </tr>\n    <tr>\n      <th>5</th>\n      <td>5</td>\n      <td>37</td>\n      <td>Private</td>\n      <td>Masters</td>\n      <td>Married-civ-spouse</td>\n      <td>Exec-managerial</td>\n      <td>Wife</td>\n      <td>White</td>\n      <td>Female</td>\n      <td>40</td>\n      <td>United-States</td>\n      <td>&lt;=50K</td>\n      <td>44</td>\n    </tr>\n    <tr>\n      <th>6</th>\n      <td>6</td>\n      <td>49</td>\n      <td>Private</td>\n      <td>9th</td>\n      <td>Married-spouse-absent</td>\n      <td>Other-service</td>\n      <td>Not-in-family</td>\n      <td>Black</td>\n      <td>Female</td>\n      <td>16</td>\n      <td>Jamaica</td>\n      <td>&lt;=50K</td>\n      <td>49</td>\n    </tr>\n    <tr>\n      <th>7</th>\n      <td>7</td>\n      <td>52</td>\n      <td>Self-emp-not-inc</td>\n      <td>HS-grad</td>\n      <td>Married-civ-spouse</td>\n      <td>Exec-managerial</td>\n      <td>Husband</td>\n      <td>White</td>\n      <td>Male</td>\n      <td>45</td>\n      <td>United-States</td>\n      <td>&gt;50K</td>\n      <td>307</td>\n    </tr>\n    <tr>\n      <th>8</th>\n      <td>8</td>\n      <td>31</td>\n      <td>Private</td>\n      <td>Masters</td>\n      <td>Never-married</td>\n      <td>Prof-specialty</td>\n      <td>Not-in-family</td>\n      <td>White</td>\n      <td>Female</td>\n      <td>50</td>\n      <td>United-States</td>\n      <td>&gt;50K</td>\n      <td>330</td>\n    </tr>\n    <tr>\n      <th>9</th>\n      <td>9</td>\n      <td>42</td>\n      <td>Private</td>\n      <td>Bachelors</td>\n      <td>Married-civ-spouse</td>\n      <td>Exec-managerial</td>\n      <td>Husband</td>\n      <td>White</td>\n      <td>Male</td>\n      <td>40</td>\n      <td>United-States</td>\n      <td>&gt;50K</td>\n      <td>303</td>\n    </tr>\n  </tbody>\n</table>\n</div>"
     },
     "execution_count": 293,
     "metadata": {},
     "output_type": "execute_result"
    }
   ],
   "source": [
    "adults = pd.read_csv(\"../data/adult.csv\")\n",
    "adults = adults[adults != \"?\"]\n",
    "adults.head(10)"
   ],
   "metadata": {
    "collapsed": false,
    "ExecuteTime": {
     "end_time": "2024-05-01T19:49:10.380576900Z",
     "start_time": "2024-05-01T19:49:10.147291800Z"
    }
   },
   "execution_count": 293
  },
  {
   "cell_type": "markdown",
   "source": [
    "# Task 1\n",
    "Print the count of men and women in the dataset."
   ],
   "metadata": {
    "collapsed": false,
    "pycharm": {
     "name": "#%% md\n"
    }
   }
  },
  {
   "cell_type": "code",
   "execution_count": 294,
   "outputs": [
    {
     "data": {
      "text/plain": "        Unnamed: 0    age  workclass  education  marital-status  occupation  \\\nsex                                                                           \nFemale       10771  10771       9932      10771           10771        9930   \nMale         21790  21790      20793      21790           21790       20788   \n\n        relationship   race  hours-per-week  native-country  salary  salary K$  \nsex                                                                             \nFemale         10771  10771           10771           10608   10771      10771  \nMale           21790  21790           21790           21370   21790      21790  ",
      "text/html": "<div>\n<style scoped>\n    .dataframe tbody tr th:only-of-type {\n        vertical-align: middle;\n    }\n\n    .dataframe tbody tr th {\n        vertical-align: top;\n    }\n\n    .dataframe thead th {\n        text-align: right;\n    }\n</style>\n<table border=\"1\" class=\"dataframe\">\n  <thead>\n    <tr style=\"text-align: right;\">\n      <th></th>\n      <th>Unnamed: 0</th>\n      <th>age</th>\n      <th>workclass</th>\n      <th>education</th>\n      <th>marital-status</th>\n      <th>occupation</th>\n      <th>relationship</th>\n      <th>race</th>\n      <th>hours-per-week</th>\n      <th>native-country</th>\n      <th>salary</th>\n      <th>salary K$</th>\n    </tr>\n    <tr>\n      <th>sex</th>\n      <th></th>\n      <th></th>\n      <th></th>\n      <th></th>\n      <th></th>\n      <th></th>\n      <th></th>\n      <th></th>\n      <th></th>\n      <th></th>\n      <th></th>\n      <th></th>\n    </tr>\n  </thead>\n  <tbody>\n    <tr>\n      <th>Female</th>\n      <td>10771</td>\n      <td>10771</td>\n      <td>9932</td>\n      <td>10771</td>\n      <td>10771</td>\n      <td>9930</td>\n      <td>10771</td>\n      <td>10771</td>\n      <td>10771</td>\n      <td>10608</td>\n      <td>10771</td>\n      <td>10771</td>\n    </tr>\n    <tr>\n      <th>Male</th>\n      <td>21790</td>\n      <td>21790</td>\n      <td>20793</td>\n      <td>21790</td>\n      <td>21790</td>\n      <td>20788</td>\n      <td>21790</td>\n      <td>21790</td>\n      <td>21790</td>\n      <td>21370</td>\n      <td>21790</td>\n      <td>21790</td>\n    </tr>\n  </tbody>\n</table>\n</div>"
     },
     "execution_count": 294,
     "metadata": {},
     "output_type": "execute_result"
    }
   ],
   "source": [
    "adults.groupby(\"sex\").count()"
   ],
   "metadata": {
    "collapsed": false,
    "pycharm": {
     "name": "#%%\n"
    },
    "ExecuteTime": {
     "end_time": "2024-05-01T19:49:10.404110600Z",
     "start_time": "2024-05-01T19:49:10.379589400Z"
    }
   }
  },
  {
   "cell_type": "markdown",
   "source": [
    "# Task 2\n",
    "Find the average age of men in dataset"
   ],
   "metadata": {
    "collapsed": false,
    "pycharm": {
     "name": "#%% md\n"
    }
   }
  },
  {
   "cell_type": "code",
   "execution_count": 295,
   "outputs": [
    {
     "data": {
      "text/plain": "39.43354749885268"
     },
     "execution_count": 295,
     "metadata": {},
     "output_type": "execute_result"
    }
   ],
   "source": [
    "adults[adults[\"sex\"] == \"Male\"][\"age\"].mean()"
   ],
   "metadata": {
    "collapsed": false,
    "pycharm": {
     "name": "#%%\n"
    },
    "ExecuteTime": {
     "end_time": "2024-05-01T19:49:10.695682300Z",
     "start_time": "2024-05-01T19:49:10.402110Z"
    }
   }
  },
  {
   "cell_type": "markdown",
   "source": [
    "# Task 3\n",
    "Get the percentage of people from Poland (native-country)"
   ],
   "metadata": {
    "collapsed": false,
    "pycharm": {
     "name": "#%% md\n"
    }
   }
  },
  {
   "cell_type": "code",
   "execution_count": 296,
   "outputs": [
    {
     "data": {
      "text/plain": "Unnamed: 0        0.001876\nage               0.001876\nworkclass         0.001751\neducation         0.001876\nmarital-status    0.001876\noccupation        0.001751\nrelationship      0.001876\nrace              0.001876\nsex               0.001876\nhours-per-week    0.001876\nnative-country    0.001876\nsalary            0.001876\nsalary K$         0.001876\ndtype: float64"
     },
     "execution_count": 296,
     "metadata": {},
     "output_type": "execute_result"
    }
   ],
   "source": [
    "total = adults[\"native-country\"].count()\n",
    "percentage = (adults[adults[\"native-country\"] == \"Poland\"].count() / total)\n",
    "percentage"
   ],
   "metadata": {
    "collapsed": false,
    "pycharm": {
     "name": "#%%\n"
    },
    "ExecuteTime": {
     "end_time": "2024-05-01T19:49:10.741685800Z",
     "start_time": "2024-05-01T19:49:10.492756700Z"
    }
   }
  },
  {
   "cell_type": "markdown",
   "source": [
    "# Task 4\n",
    "Get the mean and standard deviation of the age for people who earn > 50K per year. After this, get it for those who earn <= 50K."
   ],
   "metadata": {
    "collapsed": false,
    "pycharm": {
     "name": "#%% md\n"
    }
   }
  },
  {
   "cell_type": "code",
   "execution_count": 297,
   "outputs": [
    {
     "data": {
      "text/plain": "44.24984058155847"
     },
     "execution_count": 297,
     "metadata": {},
     "output_type": "execute_result"
    }
   ],
   "source": [
    "adults[\"age\"][adults[\"salary\"] == \">50K\"].mean()"
   ],
   "metadata": {
    "collapsed": false,
    "pycharm": {
     "name": "#%%\n"
    },
    "ExecuteTime": {
     "end_time": "2024-05-01T19:49:10.743683700Z",
     "start_time": "2024-05-01T19:49:10.578783500Z"
    }
   }
  },
  {
   "cell_type": "code",
   "outputs": [
    {
     "data": {
      "text/plain": "10.519027719851826"
     },
     "execution_count": 298,
     "metadata": {},
     "output_type": "execute_result"
    }
   ],
   "source": [
    "adults[\"age\"][adults[\"salary\"] == \">50K\"].std()"
   ],
   "metadata": {
    "collapsed": false,
    "ExecuteTime": {
     "end_time": "2024-05-01T19:49:10.785581500Z",
     "start_time": "2024-05-01T19:49:10.678253300Z"
    }
   },
   "execution_count": 298
  },
  {
   "cell_type": "code",
   "outputs": [
    {
     "data": {
      "text/plain": "36.78373786407767"
     },
     "execution_count": 299,
     "metadata": {},
     "output_type": "execute_result"
    }
   ],
   "source": [
    "adults[\"age\"][adults[\"salary\"] == \"<=50K\"].mean()"
   ],
   "metadata": {
    "collapsed": false,
    "ExecuteTime": {
     "end_time": "2024-05-01T19:49:10.866989300Z",
     "start_time": "2024-05-01T19:49:10.768584600Z"
    }
   },
   "execution_count": 299
  },
  {
   "cell_type": "code",
   "outputs": [
    {
     "data": {
      "text/plain": "14.02008849082488"
     },
     "execution_count": 300,
     "metadata": {},
     "output_type": "execute_result"
    }
   ],
   "source": [
    "adults[\"age\"][adults[\"salary\"] == \"<=50K\"].std()"
   ],
   "metadata": {
    "collapsed": false,
    "ExecuteTime": {
     "end_time": "2024-05-01T19:49:10.946508300Z",
     "start_time": "2024-05-01T19:49:10.866989300Z"
    }
   },
   "execution_count": 300
  },
  {
   "cell_type": "markdown",
   "source": [
    "# Task 5\n",
    "Check, if there are some people without higher education (education: Bachelors, Prof-school, Assoc-acdm, Assoc-voc, Masters, Doctorate), but with > 50K salary"
   ],
   "metadata": {
    "collapsed": false,
    "pycharm": {
     "name": "#%% md\n"
    }
   }
  },
  {
   "cell_type": "code",
   "execution_count": 301,
   "outputs": [
    {
     "data": {
      "text/plain": "       Unnamed: 0  age         workclass     education      marital-status  \\\n7               7   52  Self-emp-not-inc       HS-grad  Married-civ-spouse   \n10             10   37           Private  Some-college  Married-civ-spouse   \n27             27   54               NaN  Some-college  Married-civ-spouse   \n38             38   31           Private  Some-college  Married-civ-spouse   \n55             55   43           Private  Some-college  Married-civ-spouse   \n...           ...  ...               ...           ...                 ...   \n32510       32510   39           Private       HS-grad  Married-civ-spouse   \n32518       32518   57         Local-gov       HS-grad  Married-civ-spouse   \n32519       32519   46           Private  Some-college  Married-civ-spouse   \n32557       32557   40           Private       HS-grad  Married-civ-spouse   \n32560       32560   52      Self-emp-inc       HS-grad  Married-civ-spouse   \n\n              occupation relationship                race     sex  \\\n7        Exec-managerial      Husband               White    Male   \n10       Exec-managerial      Husband               Black    Male   \n27                   NaN      Husband  Asian-Pac-Islander    Male   \n38                 Sales      Husband               White    Male   \n55          Tech-support      Husband               White    Male   \n...                  ...          ...                 ...     ...   \n32510     Prof-specialty      Husband               White    Male   \n32518       Craft-repair      Husband               White    Male   \n32519    Exec-managerial      Husband               White    Male   \n32557  Machine-op-inspct      Husband               White    Male   \n32560    Exec-managerial         Wife               White  Female   \n\n       hours-per-week native-country salary  salary K$  \n7                  45  United-States   >50K        307  \n10                 80  United-States   >50K        116  \n27                 60          South   >50K        275  \n38                 38            NaN   >50K        166  \n55                 40  United-States   >50K        341  \n...               ...            ...    ...        ...  \n32510              45            NaN   >50K        212  \n32518              40  United-States   >50K        116  \n32519              48  United-States   >50K        239  \n32557              40  United-States   >50K        173  \n32560              40  United-States   >50K        243  \n\n[3306 rows x 13 columns]",
      "text/html": "<div>\n<style scoped>\n    .dataframe tbody tr th:only-of-type {\n        vertical-align: middle;\n    }\n\n    .dataframe tbody tr th {\n        vertical-align: top;\n    }\n\n    .dataframe thead th {\n        text-align: right;\n    }\n</style>\n<table border=\"1\" class=\"dataframe\">\n  <thead>\n    <tr style=\"text-align: right;\">\n      <th></th>\n      <th>Unnamed: 0</th>\n      <th>age</th>\n      <th>workclass</th>\n      <th>education</th>\n      <th>marital-status</th>\n      <th>occupation</th>\n      <th>relationship</th>\n      <th>race</th>\n      <th>sex</th>\n      <th>hours-per-week</th>\n      <th>native-country</th>\n      <th>salary</th>\n      <th>salary K$</th>\n    </tr>\n  </thead>\n  <tbody>\n    <tr>\n      <th>7</th>\n      <td>7</td>\n      <td>52</td>\n      <td>Self-emp-not-inc</td>\n      <td>HS-grad</td>\n      <td>Married-civ-spouse</td>\n      <td>Exec-managerial</td>\n      <td>Husband</td>\n      <td>White</td>\n      <td>Male</td>\n      <td>45</td>\n      <td>United-States</td>\n      <td>&gt;50K</td>\n      <td>307</td>\n    </tr>\n    <tr>\n      <th>10</th>\n      <td>10</td>\n      <td>37</td>\n      <td>Private</td>\n      <td>Some-college</td>\n      <td>Married-civ-spouse</td>\n      <td>Exec-managerial</td>\n      <td>Husband</td>\n      <td>Black</td>\n      <td>Male</td>\n      <td>80</td>\n      <td>United-States</td>\n      <td>&gt;50K</td>\n      <td>116</td>\n    </tr>\n    <tr>\n      <th>27</th>\n      <td>27</td>\n      <td>54</td>\n      <td>NaN</td>\n      <td>Some-college</td>\n      <td>Married-civ-spouse</td>\n      <td>NaN</td>\n      <td>Husband</td>\n      <td>Asian-Pac-Islander</td>\n      <td>Male</td>\n      <td>60</td>\n      <td>South</td>\n      <td>&gt;50K</td>\n      <td>275</td>\n    </tr>\n    <tr>\n      <th>38</th>\n      <td>38</td>\n      <td>31</td>\n      <td>Private</td>\n      <td>Some-college</td>\n      <td>Married-civ-spouse</td>\n      <td>Sales</td>\n      <td>Husband</td>\n      <td>White</td>\n      <td>Male</td>\n      <td>38</td>\n      <td>NaN</td>\n      <td>&gt;50K</td>\n      <td>166</td>\n    </tr>\n    <tr>\n      <th>55</th>\n      <td>55</td>\n      <td>43</td>\n      <td>Private</td>\n      <td>Some-college</td>\n      <td>Married-civ-spouse</td>\n      <td>Tech-support</td>\n      <td>Husband</td>\n      <td>White</td>\n      <td>Male</td>\n      <td>40</td>\n      <td>United-States</td>\n      <td>&gt;50K</td>\n      <td>341</td>\n    </tr>\n    <tr>\n      <th>...</th>\n      <td>...</td>\n      <td>...</td>\n      <td>...</td>\n      <td>...</td>\n      <td>...</td>\n      <td>...</td>\n      <td>...</td>\n      <td>...</td>\n      <td>...</td>\n      <td>...</td>\n      <td>...</td>\n      <td>...</td>\n      <td>...</td>\n    </tr>\n    <tr>\n      <th>32510</th>\n      <td>32510</td>\n      <td>39</td>\n      <td>Private</td>\n      <td>HS-grad</td>\n      <td>Married-civ-spouse</td>\n      <td>Prof-specialty</td>\n      <td>Husband</td>\n      <td>White</td>\n      <td>Male</td>\n      <td>45</td>\n      <td>NaN</td>\n      <td>&gt;50K</td>\n      <td>212</td>\n    </tr>\n    <tr>\n      <th>32518</th>\n      <td>32518</td>\n      <td>57</td>\n      <td>Local-gov</td>\n      <td>HS-grad</td>\n      <td>Married-civ-spouse</td>\n      <td>Craft-repair</td>\n      <td>Husband</td>\n      <td>White</td>\n      <td>Male</td>\n      <td>40</td>\n      <td>United-States</td>\n      <td>&gt;50K</td>\n      <td>116</td>\n    </tr>\n    <tr>\n      <th>32519</th>\n      <td>32519</td>\n      <td>46</td>\n      <td>Private</td>\n      <td>Some-college</td>\n      <td>Married-civ-spouse</td>\n      <td>Exec-managerial</td>\n      <td>Husband</td>\n      <td>White</td>\n      <td>Male</td>\n      <td>48</td>\n      <td>United-States</td>\n      <td>&gt;50K</td>\n      <td>239</td>\n    </tr>\n    <tr>\n      <th>32557</th>\n      <td>32557</td>\n      <td>40</td>\n      <td>Private</td>\n      <td>HS-grad</td>\n      <td>Married-civ-spouse</td>\n      <td>Machine-op-inspct</td>\n      <td>Husband</td>\n      <td>White</td>\n      <td>Male</td>\n      <td>40</td>\n      <td>United-States</td>\n      <td>&gt;50K</td>\n      <td>173</td>\n    </tr>\n    <tr>\n      <th>32560</th>\n      <td>32560</td>\n      <td>52</td>\n      <td>Self-emp-inc</td>\n      <td>HS-grad</td>\n      <td>Married-civ-spouse</td>\n      <td>Exec-managerial</td>\n      <td>Wife</td>\n      <td>White</td>\n      <td>Female</td>\n      <td>40</td>\n      <td>United-States</td>\n      <td>&gt;50K</td>\n      <td>243</td>\n    </tr>\n  </tbody>\n</table>\n<p>3306 rows × 13 columns</p>\n</div>"
     },
     "execution_count": 301,
     "metadata": {},
     "output_type": "execute_result"
    }
   ],
   "source": [
    "mask = (\n",
    "        (~adults[\"education\"].isin([\"Bachelors\", \"Prof-school\", \"Assoc-acdm\", \"Assoc-voc\", \"Masters\", \"Doctorate\"]))\n",
    "        & (adults[\"salary\"] == \">50K\")\n",
    ")\n",
    "adults[mask]"
   ],
   "metadata": {
    "collapsed": false,
    "pycharm": {
     "name": "#%%\n"
    },
    "ExecuteTime": {
     "end_time": "2024-05-01T19:49:11.045025500Z",
     "start_time": "2024-05-01T19:49:10.944507400Z"
    }
   }
  },
  {
   "cell_type": "markdown",
   "source": [
    "# Task 6\n",
    "Get the statistics of age for each type of education. Use `groupby` and `describe` for this."
   ],
   "metadata": {
    "collapsed": false,
    "pycharm": {
     "name": "#%% md\n"
    }
   }
  },
  {
   "cell_type": "code",
   "execution_count": 302,
   "outputs": [
    {
     "data": {
      "text/plain": "             Unnamed: 0                                                      \\\n                  count          mean          std    min      25%      50%   \neducation                                                                     \n10th              933.0  16215.619507  9358.228714   77.0  7964.00  16672.0   \n11th             1175.0  16149.619574  9472.664139    3.0  7754.50  16354.0   \n12th              433.0  17609.152425  9227.071786  415.0  9990.00  18877.0   \n1st-4th           168.0  17143.404762  9855.968341  160.0  8886.75  16989.0   \n5th-6th           333.0  16812.456456  9263.203203   56.0  9627.00  16494.0   \n7th-8th           646.0  16322.397833  9376.754565   15.0  7965.25  16542.5   \n9th               514.0  16523.558366  9441.367174    6.0  7795.50  16968.0   \nAssoc-acdm       1067.0  16644.458294  9538.263264   13.0  8154.00  16868.0   \nAssoc-voc        1382.0  16413.700434  9457.703182   14.0  8250.00  16555.5   \nBachelors        5355.0  16187.673389  9339.246649    0.0  8266.50  16153.0   \nDoctorate         413.0  16540.859564  9216.092918   20.0  8909.00  16500.0   \nHS-grad         10501.0  16176.987906  9360.158860    2.0  8151.00  16059.0   \nMasters          1723.0  16343.322693  9486.218173    5.0  8094.00  16145.0   \nPreschool          51.0  17303.568627  9797.763945  224.0  8084.00  20440.0   \nProf-school       576.0  16842.307292  9512.163721   52.0  8508.25  17485.5   \nSome-college     7291.0  16221.346866  9443.015705   10.0  7909.00  16200.0   \n\n                                     age             ... hours-per-week        \\\n                   75%      max    count       mean  ...            75%   max   \neducation                                            ...                        \n10th          24286.00  32551.0    933.0  37.429796  ...           40.0  99.0   \n11th          24243.50  32522.0   1175.0  32.355745  ...           40.0  99.0   \n12th          25102.00  32535.0    433.0  32.000000  ...           40.0  99.0   \n1st-4th       26921.50  32425.0    168.0  46.142857  ...           40.0  96.0   \n5th-6th       25510.00  32413.0    333.0  42.885886  ...           40.0  84.0   \n7th-8th       24509.00  32517.0    646.0  48.445820  ...           40.0  99.0   \n9th           24780.00  32501.0    514.0  41.060311  ...           40.0  99.0   \nAssoc-acdm    24988.50  32556.0   1067.0  37.381443  ...           45.0  99.0   \nAssoc-voc     24232.75  32552.0   1382.0  38.553546  ...           45.0  99.0   \nBachelors     24225.00  32538.0   5355.0  38.904949  ...           50.0  99.0   \nDoctorate     24631.00  32539.0    413.0  47.702179  ...           55.0  99.0   \nHS-grad       24265.00  32560.0  10501.0  38.974479  ...           42.0  99.0   \nMasters       24670.50  32554.0   1723.0  44.049913  ...           50.0  99.0   \nPreschool     25170.00  32432.0     51.0  42.764706  ...           40.0  75.0   \nProf-school   25166.75  32548.0    576.0  44.746528  ...           55.0  99.0   \nSome-college  24464.50  32555.0   7291.0  35.756275  ...           43.0  99.0   \n\n             salary K$                                                     \\\n                 count        mean         std   min   25%    50%     75%   \neducation                                                                   \n10th             933.0   42.839228   45.825943  15.0  25.0   33.0   43.00   \n11th            1175.0   40.612766   44.638571  15.0  24.0   32.0   41.50   \n12th             433.0   42.914550   48.118195  15.0  24.0   33.0   42.00   \n1st-4th          168.0   37.279762   32.745055  15.0  24.0   32.5   42.00   \n5th-6th          333.0   40.339339   43.082740  15.0  23.0   33.0   43.00   \n7th-8th          646.0   42.371517   46.883574  15.0  24.0   33.0   43.00   \n9th              514.0   42.558366   49.175715  15.0  24.0   33.0   42.00   \nAssoc-acdm      1067.0   74.993440   86.975212  15.0  26.5   38.0   49.00   \nAssoc-voc       1382.0   76.188133   86.673738  15.0  27.0   39.0   62.75   \nBachelors       5355.0  101.882353  101.141882  15.0  29.0   44.0  171.00   \nDoctorate        413.0  154.125908  100.973940  15.0  48.0  149.0  237.00   \nHS-grad        10501.0   59.573469   72.797540  15.0  25.0   35.0   46.00   \nMasters         1723.0  123.163088  104.275174  15.0  35.0   80.0  203.50   \nPreschool         51.0   32.627451    9.378616  15.0  23.0   35.0   39.00   \nProf-school      576.0  154.435764  104.379055  15.0  48.0  143.0  247.00   \nSome-college    7291.0   64.214785   76.643931  15.0  25.0   37.0   47.00   \n\n                     \n                max  \neducation            \n10th          347.0  \n11th          345.0  \n12th          349.0  \n1st-4th       279.0  \n5th-6th       347.0  \n7th-8th       347.0  \n9th           349.0  \nAssoc-acdm    349.0  \nAssoc-voc     349.0  \nBachelors     349.0  \nDoctorate     349.0  \nHS-grad       349.0  \nMasters       349.0  \nPreschool      49.0  \nProf-school   346.0  \nSome-college  349.0  \n\n[16 rows x 32 columns]",
      "text/html": "<div>\n<style scoped>\n    .dataframe tbody tr th:only-of-type {\n        vertical-align: middle;\n    }\n\n    .dataframe tbody tr th {\n        vertical-align: top;\n    }\n\n    .dataframe thead tr th {\n        text-align: left;\n    }\n\n    .dataframe thead tr:last-of-type th {\n        text-align: right;\n    }\n</style>\n<table border=\"1\" class=\"dataframe\">\n  <thead>\n    <tr>\n      <th></th>\n      <th colspan=\"8\" halign=\"left\">Unnamed: 0</th>\n      <th colspan=\"2\" halign=\"left\">age</th>\n      <th>...</th>\n      <th colspan=\"2\" halign=\"left\">hours-per-week</th>\n      <th colspan=\"8\" halign=\"left\">salary K$</th>\n    </tr>\n    <tr>\n      <th></th>\n      <th>count</th>\n      <th>mean</th>\n      <th>std</th>\n      <th>min</th>\n      <th>25%</th>\n      <th>50%</th>\n      <th>75%</th>\n      <th>max</th>\n      <th>count</th>\n      <th>mean</th>\n      <th>...</th>\n      <th>75%</th>\n      <th>max</th>\n      <th>count</th>\n      <th>mean</th>\n      <th>std</th>\n      <th>min</th>\n      <th>25%</th>\n      <th>50%</th>\n      <th>75%</th>\n      <th>max</th>\n    </tr>\n    <tr>\n      <th>education</th>\n      <th></th>\n      <th></th>\n      <th></th>\n      <th></th>\n      <th></th>\n      <th></th>\n      <th></th>\n      <th></th>\n      <th></th>\n      <th></th>\n      <th></th>\n      <th></th>\n      <th></th>\n      <th></th>\n      <th></th>\n      <th></th>\n      <th></th>\n      <th></th>\n      <th></th>\n      <th></th>\n      <th></th>\n    </tr>\n  </thead>\n  <tbody>\n    <tr>\n      <th>10th</th>\n      <td>933.0</td>\n      <td>16215.619507</td>\n      <td>9358.228714</td>\n      <td>77.0</td>\n      <td>7964.00</td>\n      <td>16672.0</td>\n      <td>24286.00</td>\n      <td>32551.0</td>\n      <td>933.0</td>\n      <td>37.429796</td>\n      <td>...</td>\n      <td>40.0</td>\n      <td>99.0</td>\n      <td>933.0</td>\n      <td>42.839228</td>\n      <td>45.825943</td>\n      <td>15.0</td>\n      <td>25.0</td>\n      <td>33.0</td>\n      <td>43.00</td>\n      <td>347.0</td>\n    </tr>\n    <tr>\n      <th>11th</th>\n      <td>1175.0</td>\n      <td>16149.619574</td>\n      <td>9472.664139</td>\n      <td>3.0</td>\n      <td>7754.50</td>\n      <td>16354.0</td>\n      <td>24243.50</td>\n      <td>32522.0</td>\n      <td>1175.0</td>\n      <td>32.355745</td>\n      <td>...</td>\n      <td>40.0</td>\n      <td>99.0</td>\n      <td>1175.0</td>\n      <td>40.612766</td>\n      <td>44.638571</td>\n      <td>15.0</td>\n      <td>24.0</td>\n      <td>32.0</td>\n      <td>41.50</td>\n      <td>345.0</td>\n    </tr>\n    <tr>\n      <th>12th</th>\n      <td>433.0</td>\n      <td>17609.152425</td>\n      <td>9227.071786</td>\n      <td>415.0</td>\n      <td>9990.00</td>\n      <td>18877.0</td>\n      <td>25102.00</td>\n      <td>32535.0</td>\n      <td>433.0</td>\n      <td>32.000000</td>\n      <td>...</td>\n      <td>40.0</td>\n      <td>99.0</td>\n      <td>433.0</td>\n      <td>42.914550</td>\n      <td>48.118195</td>\n      <td>15.0</td>\n      <td>24.0</td>\n      <td>33.0</td>\n      <td>42.00</td>\n      <td>349.0</td>\n    </tr>\n    <tr>\n      <th>1st-4th</th>\n      <td>168.0</td>\n      <td>17143.404762</td>\n      <td>9855.968341</td>\n      <td>160.0</td>\n      <td>8886.75</td>\n      <td>16989.0</td>\n      <td>26921.50</td>\n      <td>32425.0</td>\n      <td>168.0</td>\n      <td>46.142857</td>\n      <td>...</td>\n      <td>40.0</td>\n      <td>96.0</td>\n      <td>168.0</td>\n      <td>37.279762</td>\n      <td>32.745055</td>\n      <td>15.0</td>\n      <td>24.0</td>\n      <td>32.5</td>\n      <td>42.00</td>\n      <td>279.0</td>\n    </tr>\n    <tr>\n      <th>5th-6th</th>\n      <td>333.0</td>\n      <td>16812.456456</td>\n      <td>9263.203203</td>\n      <td>56.0</td>\n      <td>9627.00</td>\n      <td>16494.0</td>\n      <td>25510.00</td>\n      <td>32413.0</td>\n      <td>333.0</td>\n      <td>42.885886</td>\n      <td>...</td>\n      <td>40.0</td>\n      <td>84.0</td>\n      <td>333.0</td>\n      <td>40.339339</td>\n      <td>43.082740</td>\n      <td>15.0</td>\n      <td>23.0</td>\n      <td>33.0</td>\n      <td>43.00</td>\n      <td>347.0</td>\n    </tr>\n    <tr>\n      <th>7th-8th</th>\n      <td>646.0</td>\n      <td>16322.397833</td>\n      <td>9376.754565</td>\n      <td>15.0</td>\n      <td>7965.25</td>\n      <td>16542.5</td>\n      <td>24509.00</td>\n      <td>32517.0</td>\n      <td>646.0</td>\n      <td>48.445820</td>\n      <td>...</td>\n      <td>40.0</td>\n      <td>99.0</td>\n      <td>646.0</td>\n      <td>42.371517</td>\n      <td>46.883574</td>\n      <td>15.0</td>\n      <td>24.0</td>\n      <td>33.0</td>\n      <td>43.00</td>\n      <td>347.0</td>\n    </tr>\n    <tr>\n      <th>9th</th>\n      <td>514.0</td>\n      <td>16523.558366</td>\n      <td>9441.367174</td>\n      <td>6.0</td>\n      <td>7795.50</td>\n      <td>16968.0</td>\n      <td>24780.00</td>\n      <td>32501.0</td>\n      <td>514.0</td>\n      <td>41.060311</td>\n      <td>...</td>\n      <td>40.0</td>\n      <td>99.0</td>\n      <td>514.0</td>\n      <td>42.558366</td>\n      <td>49.175715</td>\n      <td>15.0</td>\n      <td>24.0</td>\n      <td>33.0</td>\n      <td>42.00</td>\n      <td>349.0</td>\n    </tr>\n    <tr>\n      <th>Assoc-acdm</th>\n      <td>1067.0</td>\n      <td>16644.458294</td>\n      <td>9538.263264</td>\n      <td>13.0</td>\n      <td>8154.00</td>\n      <td>16868.0</td>\n      <td>24988.50</td>\n      <td>32556.0</td>\n      <td>1067.0</td>\n      <td>37.381443</td>\n      <td>...</td>\n      <td>45.0</td>\n      <td>99.0</td>\n      <td>1067.0</td>\n      <td>74.993440</td>\n      <td>86.975212</td>\n      <td>15.0</td>\n      <td>26.5</td>\n      <td>38.0</td>\n      <td>49.00</td>\n      <td>349.0</td>\n    </tr>\n    <tr>\n      <th>Assoc-voc</th>\n      <td>1382.0</td>\n      <td>16413.700434</td>\n      <td>9457.703182</td>\n      <td>14.0</td>\n      <td>8250.00</td>\n      <td>16555.5</td>\n      <td>24232.75</td>\n      <td>32552.0</td>\n      <td>1382.0</td>\n      <td>38.553546</td>\n      <td>...</td>\n      <td>45.0</td>\n      <td>99.0</td>\n      <td>1382.0</td>\n      <td>76.188133</td>\n      <td>86.673738</td>\n      <td>15.0</td>\n      <td>27.0</td>\n      <td>39.0</td>\n      <td>62.75</td>\n      <td>349.0</td>\n    </tr>\n    <tr>\n      <th>Bachelors</th>\n      <td>5355.0</td>\n      <td>16187.673389</td>\n      <td>9339.246649</td>\n      <td>0.0</td>\n      <td>8266.50</td>\n      <td>16153.0</td>\n      <td>24225.00</td>\n      <td>32538.0</td>\n      <td>5355.0</td>\n      <td>38.904949</td>\n      <td>...</td>\n      <td>50.0</td>\n      <td>99.0</td>\n      <td>5355.0</td>\n      <td>101.882353</td>\n      <td>101.141882</td>\n      <td>15.0</td>\n      <td>29.0</td>\n      <td>44.0</td>\n      <td>171.00</td>\n      <td>349.0</td>\n    </tr>\n    <tr>\n      <th>Doctorate</th>\n      <td>413.0</td>\n      <td>16540.859564</td>\n      <td>9216.092918</td>\n      <td>20.0</td>\n      <td>8909.00</td>\n      <td>16500.0</td>\n      <td>24631.00</td>\n      <td>32539.0</td>\n      <td>413.0</td>\n      <td>47.702179</td>\n      <td>...</td>\n      <td>55.0</td>\n      <td>99.0</td>\n      <td>413.0</td>\n      <td>154.125908</td>\n      <td>100.973940</td>\n      <td>15.0</td>\n      <td>48.0</td>\n      <td>149.0</td>\n      <td>237.00</td>\n      <td>349.0</td>\n    </tr>\n    <tr>\n      <th>HS-grad</th>\n      <td>10501.0</td>\n      <td>16176.987906</td>\n      <td>9360.158860</td>\n      <td>2.0</td>\n      <td>8151.00</td>\n      <td>16059.0</td>\n      <td>24265.00</td>\n      <td>32560.0</td>\n      <td>10501.0</td>\n      <td>38.974479</td>\n      <td>...</td>\n      <td>42.0</td>\n      <td>99.0</td>\n      <td>10501.0</td>\n      <td>59.573469</td>\n      <td>72.797540</td>\n      <td>15.0</td>\n      <td>25.0</td>\n      <td>35.0</td>\n      <td>46.00</td>\n      <td>349.0</td>\n    </tr>\n    <tr>\n      <th>Masters</th>\n      <td>1723.0</td>\n      <td>16343.322693</td>\n      <td>9486.218173</td>\n      <td>5.0</td>\n      <td>8094.00</td>\n      <td>16145.0</td>\n      <td>24670.50</td>\n      <td>32554.0</td>\n      <td>1723.0</td>\n      <td>44.049913</td>\n      <td>...</td>\n      <td>50.0</td>\n      <td>99.0</td>\n      <td>1723.0</td>\n      <td>123.163088</td>\n      <td>104.275174</td>\n      <td>15.0</td>\n      <td>35.0</td>\n      <td>80.0</td>\n      <td>203.50</td>\n      <td>349.0</td>\n    </tr>\n    <tr>\n      <th>Preschool</th>\n      <td>51.0</td>\n      <td>17303.568627</td>\n      <td>9797.763945</td>\n      <td>224.0</td>\n      <td>8084.00</td>\n      <td>20440.0</td>\n      <td>25170.00</td>\n      <td>32432.0</td>\n      <td>51.0</td>\n      <td>42.764706</td>\n      <td>...</td>\n      <td>40.0</td>\n      <td>75.0</td>\n      <td>51.0</td>\n      <td>32.627451</td>\n      <td>9.378616</td>\n      <td>15.0</td>\n      <td>23.0</td>\n      <td>35.0</td>\n      <td>39.00</td>\n      <td>49.0</td>\n    </tr>\n    <tr>\n      <th>Prof-school</th>\n      <td>576.0</td>\n      <td>16842.307292</td>\n      <td>9512.163721</td>\n      <td>52.0</td>\n      <td>8508.25</td>\n      <td>17485.5</td>\n      <td>25166.75</td>\n      <td>32548.0</td>\n      <td>576.0</td>\n      <td>44.746528</td>\n      <td>...</td>\n      <td>55.0</td>\n      <td>99.0</td>\n      <td>576.0</td>\n      <td>154.435764</td>\n      <td>104.379055</td>\n      <td>15.0</td>\n      <td>48.0</td>\n      <td>143.0</td>\n      <td>247.00</td>\n      <td>346.0</td>\n    </tr>\n    <tr>\n      <th>Some-college</th>\n      <td>7291.0</td>\n      <td>16221.346866</td>\n      <td>9443.015705</td>\n      <td>10.0</td>\n      <td>7909.00</td>\n      <td>16200.0</td>\n      <td>24464.50</td>\n      <td>32555.0</td>\n      <td>7291.0</td>\n      <td>35.756275</td>\n      <td>...</td>\n      <td>43.0</td>\n      <td>99.0</td>\n      <td>7291.0</td>\n      <td>64.214785</td>\n      <td>76.643931</td>\n      <td>15.0</td>\n      <td>25.0</td>\n      <td>37.0</td>\n      <td>47.00</td>\n      <td>349.0</td>\n    </tr>\n  </tbody>\n</table>\n<p>16 rows × 32 columns</p>\n</div>"
     },
     "execution_count": 302,
     "metadata": {},
     "output_type": "execute_result"
    }
   ],
   "source": [
    "adults.groupby(\"education\").describe()"
   ],
   "metadata": {
    "collapsed": false,
    "pycharm": {
     "name": "#%%\n"
    },
    "ExecuteTime": {
     "end_time": "2024-05-01T19:49:11.275479600Z",
     "start_time": "2024-05-01T19:49:11.047025700Z"
    }
   }
  },
  {
   "cell_type": "markdown",
   "source": [
    "# Task 7\n",
    "Compare the married and non-married men salaries. Who earns more? (>50K or <=50K)\n",
    "Married men are those, whom `marital-status` starts with \"Married\". Others are not."
   ],
   "metadata": {
    "collapsed": false,
    "pycharm": {
     "name": "#%% md\n"
    }
   }
  },
  {
   "cell_type": "code",
   "execution_count": 303,
   "outputs": [
    {
     "name": "stdout",
     "output_type": "stream",
     "text": [
      "Married salary\n",
      "<=50K    7576\n",
      ">50K     5965\n",
      "Name: count, dtype: int64\n",
      "Not married salary\n",
      "<=50K    7552\n",
      ">50K      697\n",
      "Name: count, dtype: int64\n"
     ]
    }
   ],
   "source": [
    "mask = adults[\"marital-status\"].str.startswith(\"Married\")\n",
    "married = adults[(adults[\"sex\"] == \"Male\") & mask][\"salary\"].value_counts()\n",
    "not_married = adults[(adults[\"sex\"] == \"Male\") & (~mask)][\"salary\"].value_counts()\n",
    "\n",
    "print(f\"Married\", married)\n",
    "print(\"Not married\", not_married)"
   ],
   "metadata": {
    "collapsed": false,
    "pycharm": {
     "name": "#%%\n"
    },
    "ExecuteTime": {
     "end_time": "2024-05-01T19:49:11.302298700Z",
     "start_time": "2024-05-01T19:49:11.277479Z"
    }
   }
  },
  {
   "cell_type": "markdown",
   "source": [
    "# Task 8\n",
    "Get the max hours per week some person works. How many people works the same amount of hours per week?"
   ],
   "metadata": {
    "collapsed": false,
    "pycharm": {
     "name": "#%% md\n"
    }
   }
  },
  {
   "cell_type": "code",
   "execution_count": 304,
   "outputs": [
    {
     "data": {
      "text/plain": "85"
     },
     "execution_count": 304,
     "metadata": {},
     "output_type": "execute_result"
    }
   ],
   "source": [
    "adults[adults[\"hours-per-week\"] == adults[\"hours-per-week\"].max()][\"hours-per-week\"].count()"
   ],
   "metadata": {
    "collapsed": false,
    "pycharm": {
     "name": "#%%\n"
    },
    "ExecuteTime": {
     "end_time": "2024-05-01T19:49:11.550398Z",
     "start_time": "2024-05-01T19:49:11.301296900Z"
    }
   }
  },
  {
   "cell_type": "markdown",
   "source": [
    "# Task 9\n",
    "Analyze the correlation between data in dataset. Understand connected fields in it and print highlight thier connection."
   ],
   "metadata": {
    "collapsed": false,
    "pycharm": {
     "name": "#%% md\n"
    }
   }
  },
  {
   "cell_type": "code",
   "execution_count": 305,
   "outputs": [
    {
     "data": {
      "text/plain": "                              Unnamed: 0       age  hours-per-week  salary K$  \\\nUnnamed: 0                      1.000000  0.001286        0.000607  -0.001666   \nage                             0.001286  1.000000        0.068756   0.201774   \nhours-per-week                  0.000607  0.068756        1.000000   0.196916   \nsalary K$                      -0.001666  0.201774        0.196916   1.000000   \nworkclass_Federal-gov           0.000068  0.051227        0.013293   0.052179   \n...                                  ...       ...             ...        ...   \nnative-country_United-States    0.001983  0.015917        0.002446   0.028293   \nnative-country_Vietnam          0.000401 -0.015054       -0.011379  -0.014626   \nnative-country_Yugoslavia       0.004196  0.000375        0.007408   0.008678   \nsalary_<=50K                   -0.005404 -0.234037       -0.229689  -0.855788   \nsalary_>50K                     0.005404  0.234037        0.229689   0.855788   \n\n                              workclass_Federal-gov  workclass_Local-gov  \\\nUnnamed: 0                                 0.000068            -0.000542   \nage                                        0.051227             0.060901   \nhours-per-week                             0.013293             0.011576   \nsalary K$                                  0.052179             0.028871   \nworkclass_Federal-gov                      1.000000            -0.045682   \n...                                             ...                  ...   \nnative-country_United-States               0.015441             0.033196   \nnative-country_Vietnam                     0.000099            -0.003611   \nnative-country_Yugoslavia                 -0.003865            -0.000161   \nsalary_<=50K                              -0.059372            -0.033091   \nsalary_>50K                                0.059372             0.033091   \n\n                              workclass_Never-worked  workclass_Private  \\\nUnnamed: 0                                  0.005617           0.005875   \nage                                        -0.019362          -0.198388   \nhours-per-week                             -0.014262          -0.020928   \nsalary K$                                  -0.007494          -0.065995   \nworkclass_Federal-gov                      -0.002556          -0.264369   \n...                                              ...                ...   \nnative-country_United-States                0.005000          -0.043184   \nnative-country_Vietnam                     -0.000666           0.009290   \nnative-country_Yugoslavia                  -0.000325           0.005571   \nsalary_<=50K                                0.008259           0.078528   \nsalary_>50K                                -0.008259          -0.078528   \n\n                              workclass_Self-emp-inc  \\\nUnnamed: 0                                 -0.002470   \nage                                         0.102692   \nhours-per-week                              0.127869   \nsalary K$                                   0.120122   \nworkclass_Federal-gov                      -0.032835   \n...                                              ...   \nnative-country_United-States               -0.004850   \nnative-country_Vietnam                     -0.004829   \nnative-country_Yugoslavia                   0.003440   \nsalary_<=50K                               -0.139467   \nsalary_>50K                                 0.139467   \n\n                              workclass_Self-emp-not-inc  ...  \\\nUnnamed: 0                                     -0.005744  ...   \nage                                             0.136252  ...   \nhours-per-week                                  0.093884  ...   \nsalary K$                                       0.023278  ...   \nworkclass_Federal-gov                          -0.050709  ...   \n...                                                  ...  ...   \nnative-country_United-States                    0.013730  ...   \nnative-country_Vietnam                         -0.003104  ...   \nnative-country_Yugoslavia                      -0.001284  ...   \nsalary_<=50K                                   -0.030019  ...   \nsalary_>50K                                     0.030019  ...   \n\n                              native-country_Scotland  native-country_South  \\\nUnnamed: 0                                   0.004146             -0.005129   \nage                                          0.002583              0.000613   \nhours-per-week                               0.001264              0.007938   \nsalary K$                                    0.000567             -0.004280   \nworkclass_Federal-gov                       -0.003347             -0.004983   \n...                                               ...                   ...   \nnative-country_United-States                -0.056315             -0.145558   \nnative-country_Vietnam                      -0.000872             -0.002254   \nnative-country_Yugoslavia                   -0.000426             -0.001100   \nsalary_<=50K                                -0.000413              0.004737   \nsalary_>50K                                  0.000413             -0.004737   \n\n                              native-country_Taiwan  native-country_Thailand  \\\nUnnamed: 0                                -0.004399                -0.001624   \nage                                       -0.013816                -0.006271   \nhours-per-week                            -0.004988                 0.009537   \nsalary K$                                  0.012730                -0.001056   \nworkclass_Federal-gov                     -0.006903                -0.004099   \n...                                             ...                      ...   \nnative-country_United-States              -0.116167                -0.068978   \nnative-country_Vietnam                    -0.001799                -0.001068   \nnative-country_Yugoslavia                 -0.000878                -0.000521   \nsalary_<=50K                              -0.014020                 0.004078   \nsalary_>50K                                0.014020                -0.004078   \n\n                              native-country_Trinadad&Tobago  \\\nUnnamed: 0                                          0.005810   \nage                                                 0.004843   \nhours-per-week                                     -0.006006   \nsalary K$                                          -0.003691   \nworkclass_Federal-gov                              -0.004212   \n...                                                      ...   \nnative-country_United-States                       -0.070869   \nnative-country_Vietnam                             -0.001097   \nnative-country_Yugoslavia                          -0.000536   \nsalary_<=50K                                        0.007660   \nsalary_>50K                                        -0.007660   \n\n                              native-country_United-States  \\\nUnnamed: 0                                        0.001983   \nage                                               0.015917   \nhours-per-week                                    0.002446   \nsalary K$                                         0.028293   \nworkclass_Federal-gov                             0.015441   \n...                                                    ...   \nnative-country_United-States                      1.000000   \nnative-country_Vietnam                           -0.133180   \nnative-country_Yugoslavia                        -0.065031   \nsalary_<=50K                                     -0.034470   \nsalary_>50K                                       0.034470   \n\n                              native-country_Vietnam  \\\nUnnamed: 0                                  0.000401   \nage                                        -0.015054   \nhours-per-week                             -0.011379   \nsalary K$                                  -0.014626   \nworkclass_Federal-gov                       0.000099   \n...                                              ...   \nnative-country_United-States               -0.133180   \nnative-country_Vietnam                      1.000000   \nnative-country_Yugoslavia                  -0.001007   \nsalary_<=50K                                0.017649   \nsalary_>50K                                -0.017649   \n\n                              native-country_Yugoslavia  salary_<=50K  \\\nUnnamed: 0                                     0.004196     -0.005404   \nage                                            0.000375     -0.234037   \nhours-per-week                                 0.007408     -0.229689   \nsalary K$                                      0.008678     -0.855788   \nworkclass_Federal-gov                         -0.003865     -0.059372   \n...                                                 ...           ...   \nnative-country_United-States                  -0.065031     -0.034470   \nnative-country_Vietnam                        -0.001007      0.017649   \nnative-country_Yugoslavia                      1.000000     -0.006959   \nsalary_<=50K                                  -0.006959      1.000000   \nsalary_>50K                                    0.006959     -1.000000   \n\n                              salary_>50K  \nUnnamed: 0                       0.005404  \nage                              0.234037  \nhours-per-week                   0.229689  \nsalary K$                        0.855788  \nworkclass_Federal-gov            0.059372  \n...                                   ...  \nnative-country_United-States     0.034470  \nnative-country_Vietnam          -0.017649  \nnative-country_Yugoslavia        0.006959  \nsalary_<=50K                    -1.000000  \nsalary_>50K                      1.000000  \n\n[105 rows x 105 columns]",
      "text/html": "<div>\n<style scoped>\n    .dataframe tbody tr th:only-of-type {\n        vertical-align: middle;\n    }\n\n    .dataframe tbody tr th {\n        vertical-align: top;\n    }\n\n    .dataframe thead th {\n        text-align: right;\n    }\n</style>\n<table border=\"1\" class=\"dataframe\">\n  <thead>\n    <tr style=\"text-align: right;\">\n      <th></th>\n      <th>Unnamed: 0</th>\n      <th>age</th>\n      <th>hours-per-week</th>\n      <th>salary K$</th>\n      <th>workclass_Federal-gov</th>\n      <th>workclass_Local-gov</th>\n      <th>workclass_Never-worked</th>\n      <th>workclass_Private</th>\n      <th>workclass_Self-emp-inc</th>\n      <th>workclass_Self-emp-not-inc</th>\n      <th>...</th>\n      <th>native-country_Scotland</th>\n      <th>native-country_South</th>\n      <th>native-country_Taiwan</th>\n      <th>native-country_Thailand</th>\n      <th>native-country_Trinadad&amp;Tobago</th>\n      <th>native-country_United-States</th>\n      <th>native-country_Vietnam</th>\n      <th>native-country_Yugoslavia</th>\n      <th>salary_&lt;=50K</th>\n      <th>salary_&gt;50K</th>\n    </tr>\n  </thead>\n  <tbody>\n    <tr>\n      <th>Unnamed: 0</th>\n      <td>1.000000</td>\n      <td>0.001286</td>\n      <td>0.000607</td>\n      <td>-0.001666</td>\n      <td>0.000068</td>\n      <td>-0.000542</td>\n      <td>0.005617</td>\n      <td>0.005875</td>\n      <td>-0.002470</td>\n      <td>-0.005744</td>\n      <td>...</td>\n      <td>0.004146</td>\n      <td>-0.005129</td>\n      <td>-0.004399</td>\n      <td>-0.001624</td>\n      <td>0.005810</td>\n      <td>0.001983</td>\n      <td>0.000401</td>\n      <td>0.004196</td>\n      <td>-0.005404</td>\n      <td>0.005404</td>\n    </tr>\n    <tr>\n      <th>age</th>\n      <td>0.001286</td>\n      <td>1.000000</td>\n      <td>0.068756</td>\n      <td>0.201774</td>\n      <td>0.051227</td>\n      <td>0.060901</td>\n      <td>-0.019362</td>\n      <td>-0.198388</td>\n      <td>0.102692</td>\n      <td>0.136252</td>\n      <td>...</td>\n      <td>0.002583</td>\n      <td>0.000613</td>\n      <td>-0.013816</td>\n      <td>-0.006271</td>\n      <td>0.004843</td>\n      <td>0.015917</td>\n      <td>-0.015054</td>\n      <td>0.000375</td>\n      <td>-0.234037</td>\n      <td>0.234037</td>\n    </tr>\n    <tr>\n      <th>hours-per-week</th>\n      <td>0.000607</td>\n      <td>0.068756</td>\n      <td>1.000000</td>\n      <td>0.196916</td>\n      <td>0.013293</td>\n      <td>0.011576</td>\n      <td>-0.014262</td>\n      <td>-0.020928</td>\n      <td>0.127869</td>\n      <td>0.093884</td>\n      <td>...</td>\n      <td>0.001264</td>\n      <td>0.007938</td>\n      <td>-0.004988</td>\n      <td>0.009537</td>\n      <td>-0.006006</td>\n      <td>0.002446</td>\n      <td>-0.011379</td>\n      <td>0.007408</td>\n      <td>-0.229689</td>\n      <td>0.229689</td>\n    </tr>\n    <tr>\n      <th>salary K$</th>\n      <td>-0.001666</td>\n      <td>0.201774</td>\n      <td>0.196916</td>\n      <td>1.000000</td>\n      <td>0.052179</td>\n      <td>0.028871</td>\n      <td>-0.007494</td>\n      <td>-0.065995</td>\n      <td>0.120122</td>\n      <td>0.023278</td>\n      <td>...</td>\n      <td>0.000567</td>\n      <td>-0.004280</td>\n      <td>0.012730</td>\n      <td>-0.001056</td>\n      <td>-0.003691</td>\n      <td>0.028293</td>\n      <td>-0.014626</td>\n      <td>0.008678</td>\n      <td>-0.855788</td>\n      <td>0.855788</td>\n    </tr>\n    <tr>\n      <th>workclass_Federal-gov</th>\n      <td>0.000068</td>\n      <td>0.051227</td>\n      <td>0.013293</td>\n      <td>0.052179</td>\n      <td>1.000000</td>\n      <td>-0.045682</td>\n      <td>-0.002556</td>\n      <td>-0.264369</td>\n      <td>-0.032835</td>\n      <td>-0.050709</td>\n      <td>...</td>\n      <td>-0.003347</td>\n      <td>-0.004983</td>\n      <td>-0.006903</td>\n      <td>-0.004099</td>\n      <td>-0.004212</td>\n      <td>0.015441</td>\n      <td>0.000099</td>\n      <td>-0.003865</td>\n      <td>-0.059372</td>\n      <td>0.059372</td>\n    </tr>\n    <tr>\n      <th>...</th>\n      <td>...</td>\n      <td>...</td>\n      <td>...</td>\n      <td>...</td>\n      <td>...</td>\n      <td>...</td>\n      <td>...</td>\n      <td>...</td>\n      <td>...</td>\n      <td>...</td>\n      <td>...</td>\n      <td>...</td>\n      <td>...</td>\n      <td>...</td>\n      <td>...</td>\n      <td>...</td>\n      <td>...</td>\n      <td>...</td>\n      <td>...</td>\n      <td>...</td>\n      <td>...</td>\n    </tr>\n    <tr>\n      <th>native-country_United-States</th>\n      <td>0.001983</td>\n      <td>0.015917</td>\n      <td>0.002446</td>\n      <td>0.028293</td>\n      <td>0.015441</td>\n      <td>0.033196</td>\n      <td>0.005000</td>\n      <td>-0.043184</td>\n      <td>-0.004850</td>\n      <td>0.013730</td>\n      <td>...</td>\n      <td>-0.056315</td>\n      <td>-0.145558</td>\n      <td>-0.116167</td>\n      <td>-0.068978</td>\n      <td>-0.070869</td>\n      <td>1.000000</td>\n      <td>-0.133180</td>\n      <td>-0.065031</td>\n      <td>-0.034470</td>\n      <td>0.034470</td>\n    </tr>\n    <tr>\n      <th>native-country_Vietnam</th>\n      <td>0.000401</td>\n      <td>-0.015054</td>\n      <td>-0.011379</td>\n      <td>-0.014626</td>\n      <td>0.000099</td>\n      <td>-0.003611</td>\n      <td>-0.000666</td>\n      <td>0.009290</td>\n      <td>-0.004829</td>\n      <td>-0.003104</td>\n      <td>...</td>\n      <td>-0.000872</td>\n      <td>-0.002254</td>\n      <td>-0.001799</td>\n      <td>-0.001068</td>\n      <td>-0.001097</td>\n      <td>-0.133180</td>\n      <td>1.000000</td>\n      <td>-0.001007</td>\n      <td>0.017649</td>\n      <td>-0.017649</td>\n    </tr>\n    <tr>\n      <th>native-country_Yugoslavia</th>\n      <td>0.004196</td>\n      <td>0.000375</td>\n      <td>0.007408</td>\n      <td>0.008678</td>\n      <td>-0.003865</td>\n      <td>-0.000161</td>\n      <td>-0.000325</td>\n      <td>0.005571</td>\n      <td>0.003440</td>\n      <td>-0.001284</td>\n      <td>...</td>\n      <td>-0.000426</td>\n      <td>-0.001100</td>\n      <td>-0.000878</td>\n      <td>-0.000521</td>\n      <td>-0.000536</td>\n      <td>-0.065031</td>\n      <td>-0.001007</td>\n      <td>1.000000</td>\n      <td>-0.006959</td>\n      <td>0.006959</td>\n    </tr>\n    <tr>\n      <th>salary_&lt;=50K</th>\n      <td>-0.005404</td>\n      <td>-0.234037</td>\n      <td>-0.229689</td>\n      <td>-0.855788</td>\n      <td>-0.059372</td>\n      <td>-0.033091</td>\n      <td>0.008259</td>\n      <td>0.078528</td>\n      <td>-0.139467</td>\n      <td>-0.030019</td>\n      <td>...</td>\n      <td>-0.000413</td>\n      <td>0.004737</td>\n      <td>-0.014020</td>\n      <td>0.004078</td>\n      <td>0.007660</td>\n      <td>-0.034470</td>\n      <td>0.017649</td>\n      <td>-0.006959</td>\n      <td>1.000000</td>\n      <td>-1.000000</td>\n    </tr>\n    <tr>\n      <th>salary_&gt;50K</th>\n      <td>0.005404</td>\n      <td>0.234037</td>\n      <td>0.229689</td>\n      <td>0.855788</td>\n      <td>0.059372</td>\n      <td>0.033091</td>\n      <td>-0.008259</td>\n      <td>-0.078528</td>\n      <td>0.139467</td>\n      <td>0.030019</td>\n      <td>...</td>\n      <td>0.000413</td>\n      <td>-0.004737</td>\n      <td>0.014020</td>\n      <td>-0.004078</td>\n      <td>-0.007660</td>\n      <td>0.034470</td>\n      <td>-0.017649</td>\n      <td>0.006959</td>\n      <td>-1.000000</td>\n      <td>1.000000</td>\n    </tr>\n  </tbody>\n</table>\n<p>105 rows × 105 columns</p>\n</div>"
     },
     "execution_count": 305,
     "metadata": {},
     "output_type": "execute_result"
    }
   ],
   "source": [
    "pd.get_dummies(adults).corr()"
   ],
   "metadata": {
    "collapsed": false,
    "pycharm": {
     "name": "#%%\n"
    },
    "ExecuteTime": {
     "end_time": "2024-05-01T19:49:12.633168900Z",
     "start_time": "2024-05-01T19:49:11.380396700Z"
    }
   }
  }
 ],
 "metadata": {
  "kernelspec": {
   "display_name": "Python 3",
   "language": "python",
   "name": "python3"
  },
  "language_info": {
   "codemirror_mode": {
    "name": "ipython",
    "version": 2
   },
   "file_extension": ".py",
   "mimetype": "text/x-python",
   "name": "python",
   "nbconvert_exporter": "python",
   "pygments_lexer": "ipython2",
   "version": "2.7.6"
  }
 },
 "nbformat": 4,
 "nbformat_minor": 0
}
