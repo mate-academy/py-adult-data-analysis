{
 "cells": [
  {
   "cell_type": "code",
   "execution_count": 20,
   "outputs": [],
   "source": [
    "import numpy as np\n",
    "import pandas as pd"
   ],
   "metadata": {
    "collapsed": false,
    "pycharm": {
     "name": "#%%\n"
    },
    "ExecuteTime": {
     "end_time": "2023-11-13T09:00:32.704658500Z",
     "start_time": "2023-11-13T09:00:32.581089Z"
    }
   }
  },
  {
   "cell_type": "markdown",
   "source": [
    "# Task 0\n",
    "Read the dataset from csv file & perform data cleaning - remove all rows, which contains `?` in some columns.\n",
    "Also check for data correctness (salary & salary $K)."
   ],
   "metadata": {
    "collapsed": false,
    "pycharm": {
     "name": "#%% md\n"
    }
   }
  },
  {
   "cell_type": "code",
   "execution_count": 21,
   "outputs": [
    {
     "data": {
      "text/plain": "   Unnamed: 0  age         workclass  education      marital-status  \\\n0           0   39         State-gov  Bachelors       Never-married   \n1           1   50  Self-emp-not-inc  Bachelors  Married-civ-spouse   \n2           2   38           Private    HS-grad            Divorced   \n3           3   53           Private       11th  Married-civ-spouse   \n4           4   28           Private  Bachelors  Married-civ-spouse   \n\n          occupation   relationship   race     sex  hours-per-week  \\\n0       Adm-clerical  Not-in-family  White    Male              40   \n1    Exec-managerial        Husband  White    Male              13   \n2  Handlers-cleaners  Not-in-family  White    Male              40   \n3  Handlers-cleaners        Husband  Black    Male              40   \n4     Prof-specialty           Wife  Black  Female              40   \n\n  native-country salary  salary K$  \n0  United-States  <=50K         39  \n1  United-States  <=50K         35  \n2  United-States  <=50K         27  \n3  United-States  <=50K         43  \n4           Cuba  <=50K         25  ",
      "text/html": "<div>\n<style scoped>\n    .dataframe tbody tr th:only-of-type {\n        vertical-align: middle;\n    }\n\n    .dataframe tbody tr th {\n        vertical-align: top;\n    }\n\n    .dataframe thead th {\n        text-align: right;\n    }\n</style>\n<table border=\"1\" class=\"dataframe\">\n  <thead>\n    <tr style=\"text-align: right;\">\n      <th></th>\n      <th>Unnamed: 0</th>\n      <th>age</th>\n      <th>workclass</th>\n      <th>education</th>\n      <th>marital-status</th>\n      <th>occupation</th>\n      <th>relationship</th>\n      <th>race</th>\n      <th>sex</th>\n      <th>hours-per-week</th>\n      <th>native-country</th>\n      <th>salary</th>\n      <th>salary K$</th>\n    </tr>\n  </thead>\n  <tbody>\n    <tr>\n      <th>0</th>\n      <td>0</td>\n      <td>39</td>\n      <td>State-gov</td>\n      <td>Bachelors</td>\n      <td>Never-married</td>\n      <td>Adm-clerical</td>\n      <td>Not-in-family</td>\n      <td>White</td>\n      <td>Male</td>\n      <td>40</td>\n      <td>United-States</td>\n      <td>&lt;=50K</td>\n      <td>39</td>\n    </tr>\n    <tr>\n      <th>1</th>\n      <td>1</td>\n      <td>50</td>\n      <td>Self-emp-not-inc</td>\n      <td>Bachelors</td>\n      <td>Married-civ-spouse</td>\n      <td>Exec-managerial</td>\n      <td>Husband</td>\n      <td>White</td>\n      <td>Male</td>\n      <td>13</td>\n      <td>United-States</td>\n      <td>&lt;=50K</td>\n      <td>35</td>\n    </tr>\n    <tr>\n      <th>2</th>\n      <td>2</td>\n      <td>38</td>\n      <td>Private</td>\n      <td>HS-grad</td>\n      <td>Divorced</td>\n      <td>Handlers-cleaners</td>\n      <td>Not-in-family</td>\n      <td>White</td>\n      <td>Male</td>\n      <td>40</td>\n      <td>United-States</td>\n      <td>&lt;=50K</td>\n      <td>27</td>\n    </tr>\n    <tr>\n      <th>3</th>\n      <td>3</td>\n      <td>53</td>\n      <td>Private</td>\n      <td>11th</td>\n      <td>Married-civ-spouse</td>\n      <td>Handlers-cleaners</td>\n      <td>Husband</td>\n      <td>Black</td>\n      <td>Male</td>\n      <td>40</td>\n      <td>United-States</td>\n      <td>&lt;=50K</td>\n      <td>43</td>\n    </tr>\n    <tr>\n      <th>4</th>\n      <td>4</td>\n      <td>28</td>\n      <td>Private</td>\n      <td>Bachelors</td>\n      <td>Married-civ-spouse</td>\n      <td>Prof-specialty</td>\n      <td>Wife</td>\n      <td>Black</td>\n      <td>Female</td>\n      <td>40</td>\n      <td>Cuba</td>\n      <td>&lt;=50K</td>\n      <td>25</td>\n    </tr>\n  </tbody>\n</table>\n</div>"
     },
     "execution_count": 21,
     "metadata": {},
     "output_type": "execute_result"
    }
   ],
   "source": [
    "df = pd.read_csv(\"../data/adult.csv\")\n",
    "df.head()"
   ],
   "metadata": {
    "collapsed": false,
    "pycharm": {
     "name": "#%%\n"
    },
    "ExecuteTime": {
     "end_time": "2023-11-13T09:00:32.873975300Z",
     "start_time": "2023-11-13T09:00:32.593004300Z"
    }
   }
  },
  {
   "cell_type": "code",
   "execution_count": 22,
   "outputs": [
    {
     "name": "stdout",
     "output_type": "stream",
     "text": [
      "<class 'pandas.core.frame.DataFrame'>\n",
      "Index: 30162 entries, 0 to 32560\n",
      "Data columns (total 12 columns):\n",
      " #   Column              Non-Null Count  Dtype \n",
      "---  ------              --------------  ----- \n",
      " 0   age                 30162 non-null  int64 \n",
      " 1   workclass           30162 non-null  object\n",
      " 2   education           30162 non-null  object\n",
      " 3   marital-status      30162 non-null  object\n",
      " 4   occupation          30162 non-null  object\n",
      " 5   relationship        30162 non-null  object\n",
      " 6   race                30162 non-null  object\n",
      " 7   sex                 30162 non-null  object\n",
      " 8   hours-per-week      30162 non-null  int64 \n",
      " 9   native-country      30162 non-null  object\n",
      " 10  salary K$           30162 non-null  int64 \n",
      " 11  salary_is_over_50k  30162 non-null  bool  \n",
      "dtypes: bool(1), int64(3), object(8)\n",
      "memory usage: 2.8+ MB\n"
     ]
    }
   ],
   "source": [
    "df = df.drop([\"Unnamed: 0\", \"salary\"], axis=1)\n",
    "\n",
    "\n",
    "df.replace(\"?\", np.nan, inplace=True)\n",
    "df.dropna(axis=0, inplace=True)\n",
    "\n",
    "df[\"salary_is_over_50k\"] = df[\"salary K$\"] > 50\n",
    "\n",
    "df.info()"
   ],
   "metadata": {
    "collapsed": false,
    "ExecuteTime": {
     "end_time": "2023-11-13T09:00:32.901101300Z",
     "start_time": "2023-11-13T09:00:32.704658500Z"
    }
   }
  },
  {
   "cell_type": "markdown",
   "source": [
    "# Task 1\n",
    "Print the count of men and women in the dataset."
   ],
   "metadata": {
    "collapsed": false,
    "pycharm": {
     "name": "#%% md\n"
    }
   }
  },
  {
   "cell_type": "code",
   "execution_count": 23,
   "outputs": [
    {
     "name": "stdout",
     "output_type": "stream",
     "text": [
      "Men in dataset: 20380\n",
      "Women in dataset: 9782\n"
     ]
    }
   ],
   "source": [
    "men = len(df[df[\"sex\"]  == \"Male\"])\n",
    "women = len(df[df[\"sex\"] == \"Female\"])\n",
    "print(f\"Men in dataset: {men}\")\n",
    "print(f\"Women in dataset: {women}\")"
   ],
   "metadata": {
    "collapsed": false,
    "pycharm": {
     "name": "#%%\n"
    },
    "ExecuteTime": {
     "end_time": "2023-11-13T09:00:32.901101300Z",
     "start_time": "2023-11-13T09:00:32.768542800Z"
    }
   }
  },
  {
   "cell_type": "markdown",
   "source": [
    "# Task 2\n",
    "Find the average age of men in dataset"
   ],
   "metadata": {
    "collapsed": false,
    "pycharm": {
     "name": "#%% md\n"
    }
   }
  },
  {
   "cell_type": "code",
   "execution_count": 24,
   "outputs": [
    {
     "data": {
      "text/plain": "sex\nFemale    36.883459\nMale      39.184004\nName: age, dtype: float64"
     },
     "execution_count": 24,
     "metadata": {},
     "output_type": "execute_result"
    }
   ],
   "source": [
    "df.groupby(\"sex\")[\"age\"].mean()"
   ],
   "metadata": {
    "collapsed": false,
    "pycharm": {
     "name": "#%%\n"
    },
    "ExecuteTime": {
     "end_time": "2023-11-13T09:00:32.901101300Z",
     "start_time": "2023-11-13T09:00:32.791444600Z"
    }
   }
  },
  {
   "cell_type": "markdown",
   "source": [
    "# Task 3\n",
    "Get the percentage of people from Poland (native-country)"
   ],
   "metadata": {
    "collapsed": false,
    "pycharm": {
     "name": "#%% md\n"
    }
   }
  },
  {
   "cell_type": "code",
   "execution_count": 25,
   "outputs": [
    {
     "name": "stdout",
     "output_type": "stream",
     "text": [
      "Percentage of people from Poland: 0.19%\n"
     ]
    }
   ],
   "source": [
    "polish_percent = len(df[df[\"native-country\"] == \"Poland\"])/len(df)\n",
    "print(f\"Percentage of people from Poland: {polish_percent:.2%}\")"
   ],
   "metadata": {
    "collapsed": false,
    "pycharm": {
     "name": "#%%\n"
    },
    "ExecuteTime": {
     "end_time": "2023-11-13T09:00:32.901101300Z",
     "start_time": "2023-11-13T09:00:32.808832600Z"
    }
   }
  },
  {
   "cell_type": "markdown",
   "source": [
    "# Task 4\n",
    "Get the mean and standard deviation of the age for people who earn > 50K per year. After this, get it for those who earn <= 50K."
   ],
   "metadata": {
    "collapsed": false,
    "pycharm": {
     "name": "#%% md\n"
    }
   }
  },
  {
   "cell_type": "code",
   "execution_count": 26,
   "outputs": [
    {
     "name": "stdout",
     "output_type": "stream",
     "text": [
      "Mean age of people who earn over 50k: 43.96\n",
      "Standart deviation of age of people who earn over 50k: 10.27\n"
     ]
    }
   ],
   "source": [
    "over50k_age_mean = df[df[\"salary_is_over_50k\"] == True][\"age\"].mean()\n",
    "over50k_age_std = df[df[\"salary_is_over_50k\"] == True][\"age\"].std()\n",
    "print(f\"Mean age of people who earn over 50k: {over50k_age_mean:.2f}\")\n",
    "print(f\"Standart deviation of age of people who earn over 50k: {over50k_age_std:.2f}\")"
   ],
   "metadata": {
    "collapsed": false,
    "pycharm": {
     "name": "#%%\n"
    },
    "ExecuteTime": {
     "end_time": "2023-11-13T09:00:32.901101300Z",
     "start_time": "2023-11-13T09:00:32.825845200Z"
    }
   }
  },
  {
   "cell_type": "code",
   "execution_count": 27,
   "outputs": [
    {
     "name": "stdout",
     "output_type": "stream",
     "text": [
      "Mean age of people who earn 50k and less: 36.61\n",
      "Standart deviation of age of people who earn over 50k: 13.46\n"
     ]
    }
   ],
   "source": [
    "less50k_age_mean = df[df[\"salary_is_over_50k\"] == False][\"age\"].mean()\n",
    "less50k_age_std = df[df[\"salary_is_over_50k\"] == False][\"age\"].std()\n",
    "print(f\"Mean age of people who earn 50k and less: {less50k_age_mean:.2f}\")\n",
    "print(f\"Standart deviation of age of people who earn over 50k: {less50k_age_std:.2f}\")"
   ],
   "metadata": {
    "collapsed": false,
    "ExecuteTime": {
     "end_time": "2023-11-13T09:00:32.901101300Z",
     "start_time": "2023-11-13T09:00:32.841639200Z"
    }
   }
  },
  {
   "cell_type": "markdown",
   "source": [
    "# Task 5\n",
    "Check, if there are some people without higher education (education: Bachelors, Prof-school, Assoc-acdm, Assoc-voc, Masters, Doctorate), but with > 50K salary"
   ],
   "metadata": {
    "collapsed": false,
    "pycharm": {
     "name": "#%% md\n"
    }
   }
  },
  {
   "cell_type": "code",
   "execution_count": 28,
   "outputs": [
    {
     "data": {
      "text/plain": "array(['Bachelors', 'HS-grad', '11th', 'Masters', '9th', 'Some-college',\n       'Assoc-acdm', '7th-8th', 'Doctorate', 'Assoc-voc', 'Prof-school',\n       '5th-6th', '10th', 'Preschool', '12th', '1st-4th'], dtype=object)"
     },
     "execution_count": 28,
     "metadata": {},
     "output_type": "execute_result"
    }
   ],
   "source": [
    "df[\"education\"].unique()"
   ],
   "metadata": {
    "collapsed": false,
    "pycharm": {
     "name": "#%%\n"
    },
    "ExecuteTime": {
     "end_time": "2023-11-13T09:00:32.901101300Z",
     "start_time": "2023-11-13T09:00:32.860182600Z"
    }
   }
  },
  {
   "cell_type": "code",
   "execution_count": 29,
   "outputs": [
    {
     "data": {
      "text/plain": "       age         workclass     education      marital-status  \\\n7       52  Self-emp-not-inc       HS-grad  Married-civ-spouse   \n10      37           Private  Some-college  Married-civ-spouse   \n55      43           Private  Some-college  Married-civ-spouse   \n67      53           Private       HS-grad  Married-civ-spouse   \n68      49      Self-emp-inc  Some-college  Married-civ-spouse   \n...    ...               ...           ...                 ...   \n32462   48      Self-emp-inc       HS-grad  Married-civ-spouse   \n32518   57         Local-gov       HS-grad  Married-civ-spouse   \n32519   46           Private  Some-college  Married-civ-spouse   \n32557   40           Private       HS-grad  Married-civ-spouse   \n32560   52      Self-emp-inc       HS-grad  Married-civ-spouse   \n\n              occupation relationship   race     sex  hours-per-week  \\\n7        Exec-managerial      Husband  White    Male              45   \n10       Exec-managerial      Husband  Black    Male              80   \n55          Tech-support      Husband  White    Male              40   \n67          Adm-clerical         Wife  White  Female              40   \n68       Exec-managerial      Husband  White    Male              50   \n...                  ...          ...    ...     ...             ...   \n32462       Craft-repair      Husband  White    Male              50   \n32518       Craft-repair      Husband  White    Male              40   \n32519    Exec-managerial      Husband  White    Male              48   \n32557  Machine-op-inspct      Husband  White    Male              40   \n32560    Exec-managerial         Wife  White  Female              40   \n\n      native-country  salary K$  salary_is_over_50k  \n7      United-States        307                True  \n10     United-States        116                True  \n55     United-States        341                True  \n67     United-States        225                True  \n68     United-States        194                True  \n...              ...        ...                 ...  \n32462  United-States        343                True  \n32518  United-States        116                True  \n32519  United-States        239                True  \n32557  United-States        173                True  \n32560  United-States        243                True  \n\n[3178 rows x 12 columns]",
      "text/html": "<div>\n<style scoped>\n    .dataframe tbody tr th:only-of-type {\n        vertical-align: middle;\n    }\n\n    .dataframe tbody tr th {\n        vertical-align: top;\n    }\n\n    .dataframe thead th {\n        text-align: right;\n    }\n</style>\n<table border=\"1\" class=\"dataframe\">\n  <thead>\n    <tr style=\"text-align: right;\">\n      <th></th>\n      <th>age</th>\n      <th>workclass</th>\n      <th>education</th>\n      <th>marital-status</th>\n      <th>occupation</th>\n      <th>relationship</th>\n      <th>race</th>\n      <th>sex</th>\n      <th>hours-per-week</th>\n      <th>native-country</th>\n      <th>salary K$</th>\n      <th>salary_is_over_50k</th>\n    </tr>\n  </thead>\n  <tbody>\n    <tr>\n      <th>7</th>\n      <td>52</td>\n      <td>Self-emp-not-inc</td>\n      <td>HS-grad</td>\n      <td>Married-civ-spouse</td>\n      <td>Exec-managerial</td>\n      <td>Husband</td>\n      <td>White</td>\n      <td>Male</td>\n      <td>45</td>\n      <td>United-States</td>\n      <td>307</td>\n      <td>True</td>\n    </tr>\n    <tr>\n      <th>10</th>\n      <td>37</td>\n      <td>Private</td>\n      <td>Some-college</td>\n      <td>Married-civ-spouse</td>\n      <td>Exec-managerial</td>\n      <td>Husband</td>\n      <td>Black</td>\n      <td>Male</td>\n      <td>80</td>\n      <td>United-States</td>\n      <td>116</td>\n      <td>True</td>\n    </tr>\n    <tr>\n      <th>55</th>\n      <td>43</td>\n      <td>Private</td>\n      <td>Some-college</td>\n      <td>Married-civ-spouse</td>\n      <td>Tech-support</td>\n      <td>Husband</td>\n      <td>White</td>\n      <td>Male</td>\n      <td>40</td>\n      <td>United-States</td>\n      <td>341</td>\n      <td>True</td>\n    </tr>\n    <tr>\n      <th>67</th>\n      <td>53</td>\n      <td>Private</td>\n      <td>HS-grad</td>\n      <td>Married-civ-spouse</td>\n      <td>Adm-clerical</td>\n      <td>Wife</td>\n      <td>White</td>\n      <td>Female</td>\n      <td>40</td>\n      <td>United-States</td>\n      <td>225</td>\n      <td>True</td>\n    </tr>\n    <tr>\n      <th>68</th>\n      <td>49</td>\n      <td>Self-emp-inc</td>\n      <td>Some-college</td>\n      <td>Married-civ-spouse</td>\n      <td>Exec-managerial</td>\n      <td>Husband</td>\n      <td>White</td>\n      <td>Male</td>\n      <td>50</td>\n      <td>United-States</td>\n      <td>194</td>\n      <td>True</td>\n    </tr>\n    <tr>\n      <th>...</th>\n      <td>...</td>\n      <td>...</td>\n      <td>...</td>\n      <td>...</td>\n      <td>...</td>\n      <td>...</td>\n      <td>...</td>\n      <td>...</td>\n      <td>...</td>\n      <td>...</td>\n      <td>...</td>\n      <td>...</td>\n    </tr>\n    <tr>\n      <th>32462</th>\n      <td>48</td>\n      <td>Self-emp-inc</td>\n      <td>HS-grad</td>\n      <td>Married-civ-spouse</td>\n      <td>Craft-repair</td>\n      <td>Husband</td>\n      <td>White</td>\n      <td>Male</td>\n      <td>50</td>\n      <td>United-States</td>\n      <td>343</td>\n      <td>True</td>\n    </tr>\n    <tr>\n      <th>32518</th>\n      <td>57</td>\n      <td>Local-gov</td>\n      <td>HS-grad</td>\n      <td>Married-civ-spouse</td>\n      <td>Craft-repair</td>\n      <td>Husband</td>\n      <td>White</td>\n      <td>Male</td>\n      <td>40</td>\n      <td>United-States</td>\n      <td>116</td>\n      <td>True</td>\n    </tr>\n    <tr>\n      <th>32519</th>\n      <td>46</td>\n      <td>Private</td>\n      <td>Some-college</td>\n      <td>Married-civ-spouse</td>\n      <td>Exec-managerial</td>\n      <td>Husband</td>\n      <td>White</td>\n      <td>Male</td>\n      <td>48</td>\n      <td>United-States</td>\n      <td>239</td>\n      <td>True</td>\n    </tr>\n    <tr>\n      <th>32557</th>\n      <td>40</td>\n      <td>Private</td>\n      <td>HS-grad</td>\n      <td>Married-civ-spouse</td>\n      <td>Machine-op-inspct</td>\n      <td>Husband</td>\n      <td>White</td>\n      <td>Male</td>\n      <td>40</td>\n      <td>United-States</td>\n      <td>173</td>\n      <td>True</td>\n    </tr>\n    <tr>\n      <th>32560</th>\n      <td>52</td>\n      <td>Self-emp-inc</td>\n      <td>HS-grad</td>\n      <td>Married-civ-spouse</td>\n      <td>Exec-managerial</td>\n      <td>Wife</td>\n      <td>White</td>\n      <td>Female</td>\n      <td>40</td>\n      <td>United-States</td>\n      <td>243</td>\n      <td>True</td>\n    </tr>\n  </tbody>\n</table>\n<p>3178 rows × 12 columns</p>\n</div>"
     },
     "execution_count": 29,
     "metadata": {},
     "output_type": "execute_result"
    }
   ],
   "source": [
    "higher_education = [\"Bachelors\", \"Prof-school\", \"Assoc-acdm\", \"Assoc-voc\", \"Masters\", \"Doctorate\"]\n",
    "df[~df[\"education\"].isin(higher_education) & df[\"salary_is_over_50k\"] == True]"
   ],
   "metadata": {
    "collapsed": false,
    "ExecuteTime": {
     "end_time": "2023-11-13T09:00:32.916738300Z",
     "start_time": "2023-11-13T09:00:32.873975300Z"
    }
   }
  },
  {
   "cell_type": "markdown",
   "source": [
    "# Task 6\n",
    "Get the statistics of age for each type of education. Use `groupby` and `describe` for this."
   ],
   "metadata": {
    "collapsed": false,
    "pycharm": {
     "name": "#%% md\n"
    }
   }
  },
  {
   "cell_type": "code",
   "execution_count": 30,
   "outputs": [
    {
     "data": {
      "text/plain": "               count       mean        std   min   25%   50%   75%   max\neducation                                                               \n10th           820.0  37.897561  16.225795  17.0  23.0  36.0  52.0  90.0\n11th          1048.0  32.363550  15.089307  17.0  18.0  28.5  43.0  90.0\n12th           377.0  32.013263  14.373710  17.0  19.0  28.0  41.0  79.0\n1st-4th        151.0  44.622517  14.929051  19.0  33.0  44.0  56.0  81.0\n5th-6th        288.0  41.649306  14.754622  17.0  28.0  41.0  53.0  82.0\n7th-8th        557.0  47.631957  15.737479  17.0  34.0  49.0  60.0  90.0\n9th            455.0  40.303297  15.335754  17.0  28.0  38.0  53.0  90.0\nAssoc-acdm    1008.0  37.286706  10.509755  19.0  29.0  36.0  44.0  90.0\nAssoc-voc     1307.0  38.246366  11.181253  19.0  30.0  37.0  45.0  84.0\nBachelors     5044.0  38.641554  11.577566  19.0  29.0  37.0  46.0  90.0\nDoctorate      375.0  47.130667  11.471727  24.0  39.0  47.0  54.0  80.0\nHS-grad       9840.0  38.640955  13.067730  17.0  28.0  37.0  48.0  90.0\nMasters       1627.0  43.740012  10.735356  18.0  36.0  43.0  50.0  90.0\nPreschool       45.0  41.288889  15.175672  19.0  30.0  40.0  53.0  75.0\nProf-school    542.0  44.249077  11.428098  25.0  36.0  43.0  50.0  90.0\nSome-college  6678.0  36.135370  13.073528  17.0  25.0  35.0  45.0  90.0",
      "text/html": "<div>\n<style scoped>\n    .dataframe tbody tr th:only-of-type {\n        vertical-align: middle;\n    }\n\n    .dataframe tbody tr th {\n        vertical-align: top;\n    }\n\n    .dataframe thead th {\n        text-align: right;\n    }\n</style>\n<table border=\"1\" class=\"dataframe\">\n  <thead>\n    <tr style=\"text-align: right;\">\n      <th></th>\n      <th>count</th>\n      <th>mean</th>\n      <th>std</th>\n      <th>min</th>\n      <th>25%</th>\n      <th>50%</th>\n      <th>75%</th>\n      <th>max</th>\n    </tr>\n    <tr>\n      <th>education</th>\n      <th></th>\n      <th></th>\n      <th></th>\n      <th></th>\n      <th></th>\n      <th></th>\n      <th></th>\n      <th></th>\n    </tr>\n  </thead>\n  <tbody>\n    <tr>\n      <th>10th</th>\n      <td>820.0</td>\n      <td>37.897561</td>\n      <td>16.225795</td>\n      <td>17.0</td>\n      <td>23.0</td>\n      <td>36.0</td>\n      <td>52.0</td>\n      <td>90.0</td>\n    </tr>\n    <tr>\n      <th>11th</th>\n      <td>1048.0</td>\n      <td>32.363550</td>\n      <td>15.089307</td>\n      <td>17.0</td>\n      <td>18.0</td>\n      <td>28.5</td>\n      <td>43.0</td>\n      <td>90.0</td>\n    </tr>\n    <tr>\n      <th>12th</th>\n      <td>377.0</td>\n      <td>32.013263</td>\n      <td>14.373710</td>\n      <td>17.0</td>\n      <td>19.0</td>\n      <td>28.0</td>\n      <td>41.0</td>\n      <td>79.0</td>\n    </tr>\n    <tr>\n      <th>1st-4th</th>\n      <td>151.0</td>\n      <td>44.622517</td>\n      <td>14.929051</td>\n      <td>19.0</td>\n      <td>33.0</td>\n      <td>44.0</td>\n      <td>56.0</td>\n      <td>81.0</td>\n    </tr>\n    <tr>\n      <th>5th-6th</th>\n      <td>288.0</td>\n      <td>41.649306</td>\n      <td>14.754622</td>\n      <td>17.0</td>\n      <td>28.0</td>\n      <td>41.0</td>\n      <td>53.0</td>\n      <td>82.0</td>\n    </tr>\n    <tr>\n      <th>7th-8th</th>\n      <td>557.0</td>\n      <td>47.631957</td>\n      <td>15.737479</td>\n      <td>17.0</td>\n      <td>34.0</td>\n      <td>49.0</td>\n      <td>60.0</td>\n      <td>90.0</td>\n    </tr>\n    <tr>\n      <th>9th</th>\n      <td>455.0</td>\n      <td>40.303297</td>\n      <td>15.335754</td>\n      <td>17.0</td>\n      <td>28.0</td>\n      <td>38.0</td>\n      <td>53.0</td>\n      <td>90.0</td>\n    </tr>\n    <tr>\n      <th>Assoc-acdm</th>\n      <td>1008.0</td>\n      <td>37.286706</td>\n      <td>10.509755</td>\n      <td>19.0</td>\n      <td>29.0</td>\n      <td>36.0</td>\n      <td>44.0</td>\n      <td>90.0</td>\n    </tr>\n    <tr>\n      <th>Assoc-voc</th>\n      <td>1307.0</td>\n      <td>38.246366</td>\n      <td>11.181253</td>\n      <td>19.0</td>\n      <td>30.0</td>\n      <td>37.0</td>\n      <td>45.0</td>\n      <td>84.0</td>\n    </tr>\n    <tr>\n      <th>Bachelors</th>\n      <td>5044.0</td>\n      <td>38.641554</td>\n      <td>11.577566</td>\n      <td>19.0</td>\n      <td>29.0</td>\n      <td>37.0</td>\n      <td>46.0</td>\n      <td>90.0</td>\n    </tr>\n    <tr>\n      <th>Doctorate</th>\n      <td>375.0</td>\n      <td>47.130667</td>\n      <td>11.471727</td>\n      <td>24.0</td>\n      <td>39.0</td>\n      <td>47.0</td>\n      <td>54.0</td>\n      <td>80.0</td>\n    </tr>\n    <tr>\n      <th>HS-grad</th>\n      <td>9840.0</td>\n      <td>38.640955</td>\n      <td>13.067730</td>\n      <td>17.0</td>\n      <td>28.0</td>\n      <td>37.0</td>\n      <td>48.0</td>\n      <td>90.0</td>\n    </tr>\n    <tr>\n      <th>Masters</th>\n      <td>1627.0</td>\n      <td>43.740012</td>\n      <td>10.735356</td>\n      <td>18.0</td>\n      <td>36.0</td>\n      <td>43.0</td>\n      <td>50.0</td>\n      <td>90.0</td>\n    </tr>\n    <tr>\n      <th>Preschool</th>\n      <td>45.0</td>\n      <td>41.288889</td>\n      <td>15.175672</td>\n      <td>19.0</td>\n      <td>30.0</td>\n      <td>40.0</td>\n      <td>53.0</td>\n      <td>75.0</td>\n    </tr>\n    <tr>\n      <th>Prof-school</th>\n      <td>542.0</td>\n      <td>44.249077</td>\n      <td>11.428098</td>\n      <td>25.0</td>\n      <td>36.0</td>\n      <td>43.0</td>\n      <td>50.0</td>\n      <td>90.0</td>\n    </tr>\n    <tr>\n      <th>Some-college</th>\n      <td>6678.0</td>\n      <td>36.135370</td>\n      <td>13.073528</td>\n      <td>17.0</td>\n      <td>25.0</td>\n      <td>35.0</td>\n      <td>45.0</td>\n      <td>90.0</td>\n    </tr>\n  </tbody>\n</table>\n</div>"
     },
     "execution_count": 30,
     "metadata": {},
     "output_type": "execute_result"
    }
   ],
   "source": [
    "df.groupby(\"education\")[\"age\"].describe()"
   ],
   "metadata": {
    "collapsed": false,
    "pycharm": {
     "name": "#%%\n"
    },
    "ExecuteTime": {
     "end_time": "2023-11-13T09:00:33.196439700Z",
     "start_time": "2023-11-13T09:00:32.901101300Z"
    }
   }
  },
  {
   "cell_type": "markdown",
   "source": [
    "# Task 7\n",
    "Compare the married and non-married men salaries. Who earns more? (>50K or <=50K)\n",
    "Married men are those, whom `marital-status` starts with \"Married\". Others are not."
   ],
   "metadata": {
    "collapsed": false,
    "pycharm": {
     "name": "#%% md\n"
    }
   }
  },
  {
   "cell_type": "code",
   "execution_count": 31,
   "outputs": [
    {
     "name": "stdout",
     "output_type": "stream",
     "text": [
      "Married who earns over 50k: 5723,\n",
      "Not-married who earns over 50k: 673\n"
     ]
    }
   ],
   "source": [
    "mens = df[df[\"sex\"] == \"Male\"]\n",
    "\n",
    "married_over_50k = len(mens[mens[\"marital-status\"].str.startswith(\"Married\") & mens[\"salary_is_over_50k\"] == True])\n",
    "not_married_over_50k = len(mens[~mens[\"marital-status\"].str.startswith(\"Married\") & mens[\"salary_is_over_50k\"] == True])\n",
    "print(f\"Married who earns over 50k: {married_over_50k},\\nNot-married who earns over 50k: {not_married_over_50k}\")"
   ],
   "metadata": {
    "collapsed": false,
    "ExecuteTime": {
     "end_time": "2023-11-13T09:00:33.208346800Z",
     "start_time": "2023-11-13T09:00:32.966812600Z"
    }
   }
  },
  {
   "cell_type": "markdown",
   "source": [
    "# Task 8\n",
    "Get the max hours per week some person works. How many people works the same amount of hours per week?"
   ],
   "metadata": {
    "collapsed": false,
    "pycharm": {
     "name": "#%% md\n"
    }
   }
  },
  {
   "cell_type": "code",
   "execution_count": 32,
   "outputs": [
    {
     "name": "stdout",
     "output_type": "stream",
     "text": [
      "Max week working hours: 99,\n",
      "Number of people working that hard: 78\n"
     ]
    }
   ],
   "source": [
    "max_hours = df[\"hours-per-week\"].max()\n",
    "people_long_work_week = len(df[df[\"hours-per-week\"] == max_hours])\n",
    "print(f\"Max week working hours: {max_hours},\\nNumber of people working that hard: {people_long_work_week}\")"
   ],
   "metadata": {
    "collapsed": false,
    "pycharm": {
     "name": "#%%\n"
    },
    "ExecuteTime": {
     "end_time": "2023-11-13T09:00:33.208346800Z",
     "start_time": "2023-11-13T09:00:33.003780400Z"
    }
   }
  },
  {
   "cell_type": "markdown",
   "source": [
    "# Task 9\n",
    "Analyze the correlation between data in dataset. Understand connected fields in it and print highlight thier connection."
   ],
   "metadata": {
    "collapsed": false,
    "pycharm": {
     "name": "#%% md\n"
    }
   }
  },
  {
   "cell_type": "code",
   "execution_count": 34,
   "outputs": [
    {
     "data": {
      "text/plain": "array(['White', 'Black', 'Asian-Pac-Islander', 'Amer-Indian-Eskimo',\n       'Other'], dtype=object)"
     },
     "execution_count": 34,
     "metadata": {},
     "output_type": "execute_result"
    }
   ],
   "source": [
    "df[\"race\"].unique()"
   ],
   "metadata": {
    "collapsed": false,
    "ExecuteTime": {
     "end_time": "2023-11-13T09:00:33.290788700Z",
     "start_time": "2023-11-13T09:00:33.042157600Z"
    }
   }
  },
  {
   "cell_type": "code",
   "execution_count": 40,
   "outputs": [
    {
     "data": {
      "text/plain": "       age         workclass   education      marital-status  \\\n0       39         State-gov   Bachelors       Never-married   \n1       50  Self-emp-not-inc   Bachelors  Married-civ-spouse   \n2       38           Private     HS-grad            Divorced   \n3       53           Private        11th  Married-civ-spouse   \n4       28           Private   Bachelors  Married-civ-spouse   \n...    ...               ...         ...                 ...   \n32556   27           Private  Assoc-acdm  Married-civ-spouse   \n32557   40           Private     HS-grad  Married-civ-spouse   \n32558   58           Private     HS-grad             Widowed   \n32559   22           Private     HS-grad       Never-married   \n32560   52      Self-emp-inc     HS-grad  Married-civ-spouse   \n\n              occupation   relationship   race     sex  hours-per-week  \\\n0           Adm-clerical  Not-in-family  White    Male              40   \n1        Exec-managerial        Husband  White    Male              13   \n2      Handlers-cleaners  Not-in-family  White    Male              40   \n3      Handlers-cleaners        Husband  Black    Male              40   \n4         Prof-specialty           Wife  Black  Female              40   \n...                  ...            ...    ...     ...             ...   \n32556       Tech-support           Wife  White  Female              38   \n32557  Machine-op-inspct        Husband  White    Male              40   \n32558       Adm-clerical      Unmarried  White  Female              40   \n32559       Adm-clerical      Own-child  White    Male              20   \n32560    Exec-managerial           Wife  White  Female              40   \n\n      native-country  salary K$  salary_is_over_50k  sex_category  \\\n0      United-States         39               False             1   \n1      United-States         35               False             1   \n2      United-States         27               False             1   \n3      United-States         43               False             1   \n4               Cuba         25               False             0   \n...              ...        ...                 ...           ...   \n32556  United-States         36               False             0   \n32557  United-States        173                True             1   \n32558  United-States         40               False             0   \n32559  United-States         38               False             1   \n32560  United-States        243                True             0   \n\n       race_category  \n0                  0  \n1                  0  \n2                  0  \n3                  1  \n4                  1  \n...              ...  \n32556              0  \n32557              0  \n32558              0  \n32559              0  \n32560              0  \n\n[30162 rows x 14 columns]",
      "text/html": "<div>\n<style scoped>\n    .dataframe tbody tr th:only-of-type {\n        vertical-align: middle;\n    }\n\n    .dataframe tbody tr th {\n        vertical-align: top;\n    }\n\n    .dataframe thead th {\n        text-align: right;\n    }\n</style>\n<table border=\"1\" class=\"dataframe\">\n  <thead>\n    <tr style=\"text-align: right;\">\n      <th></th>\n      <th>age</th>\n      <th>workclass</th>\n      <th>education</th>\n      <th>marital-status</th>\n      <th>occupation</th>\n      <th>relationship</th>\n      <th>race</th>\n      <th>sex</th>\n      <th>hours-per-week</th>\n      <th>native-country</th>\n      <th>salary K$</th>\n      <th>salary_is_over_50k</th>\n      <th>sex_category</th>\n      <th>race_category</th>\n    </tr>\n  </thead>\n  <tbody>\n    <tr>\n      <th>0</th>\n      <td>39</td>\n      <td>State-gov</td>\n      <td>Bachelors</td>\n      <td>Never-married</td>\n      <td>Adm-clerical</td>\n      <td>Not-in-family</td>\n      <td>White</td>\n      <td>Male</td>\n      <td>40</td>\n      <td>United-States</td>\n      <td>39</td>\n      <td>False</td>\n      <td>1</td>\n      <td>0</td>\n    </tr>\n    <tr>\n      <th>1</th>\n      <td>50</td>\n      <td>Self-emp-not-inc</td>\n      <td>Bachelors</td>\n      <td>Married-civ-spouse</td>\n      <td>Exec-managerial</td>\n      <td>Husband</td>\n      <td>White</td>\n      <td>Male</td>\n      <td>13</td>\n      <td>United-States</td>\n      <td>35</td>\n      <td>False</td>\n      <td>1</td>\n      <td>0</td>\n    </tr>\n    <tr>\n      <th>2</th>\n      <td>38</td>\n      <td>Private</td>\n      <td>HS-grad</td>\n      <td>Divorced</td>\n      <td>Handlers-cleaners</td>\n      <td>Not-in-family</td>\n      <td>White</td>\n      <td>Male</td>\n      <td>40</td>\n      <td>United-States</td>\n      <td>27</td>\n      <td>False</td>\n      <td>1</td>\n      <td>0</td>\n    </tr>\n    <tr>\n      <th>3</th>\n      <td>53</td>\n      <td>Private</td>\n      <td>11th</td>\n      <td>Married-civ-spouse</td>\n      <td>Handlers-cleaners</td>\n      <td>Husband</td>\n      <td>Black</td>\n      <td>Male</td>\n      <td>40</td>\n      <td>United-States</td>\n      <td>43</td>\n      <td>False</td>\n      <td>1</td>\n      <td>1</td>\n    </tr>\n    <tr>\n      <th>4</th>\n      <td>28</td>\n      <td>Private</td>\n      <td>Bachelors</td>\n      <td>Married-civ-spouse</td>\n      <td>Prof-specialty</td>\n      <td>Wife</td>\n      <td>Black</td>\n      <td>Female</td>\n      <td>40</td>\n      <td>Cuba</td>\n      <td>25</td>\n      <td>False</td>\n      <td>0</td>\n      <td>1</td>\n    </tr>\n    <tr>\n      <th>...</th>\n      <td>...</td>\n      <td>...</td>\n      <td>...</td>\n      <td>...</td>\n      <td>...</td>\n      <td>...</td>\n      <td>...</td>\n      <td>...</td>\n      <td>...</td>\n      <td>...</td>\n      <td>...</td>\n      <td>...</td>\n      <td>...</td>\n      <td>...</td>\n    </tr>\n    <tr>\n      <th>32556</th>\n      <td>27</td>\n      <td>Private</td>\n      <td>Assoc-acdm</td>\n      <td>Married-civ-spouse</td>\n      <td>Tech-support</td>\n      <td>Wife</td>\n      <td>White</td>\n      <td>Female</td>\n      <td>38</td>\n      <td>United-States</td>\n      <td>36</td>\n      <td>False</td>\n      <td>0</td>\n      <td>0</td>\n    </tr>\n    <tr>\n      <th>32557</th>\n      <td>40</td>\n      <td>Private</td>\n      <td>HS-grad</td>\n      <td>Married-civ-spouse</td>\n      <td>Machine-op-inspct</td>\n      <td>Husband</td>\n      <td>White</td>\n      <td>Male</td>\n      <td>40</td>\n      <td>United-States</td>\n      <td>173</td>\n      <td>True</td>\n      <td>1</td>\n      <td>0</td>\n    </tr>\n    <tr>\n      <th>32558</th>\n      <td>58</td>\n      <td>Private</td>\n      <td>HS-grad</td>\n      <td>Widowed</td>\n      <td>Adm-clerical</td>\n      <td>Unmarried</td>\n      <td>White</td>\n      <td>Female</td>\n      <td>40</td>\n      <td>United-States</td>\n      <td>40</td>\n      <td>False</td>\n      <td>0</td>\n      <td>0</td>\n    </tr>\n    <tr>\n      <th>32559</th>\n      <td>22</td>\n      <td>Private</td>\n      <td>HS-grad</td>\n      <td>Never-married</td>\n      <td>Adm-clerical</td>\n      <td>Own-child</td>\n      <td>White</td>\n      <td>Male</td>\n      <td>20</td>\n      <td>United-States</td>\n      <td>38</td>\n      <td>False</td>\n      <td>1</td>\n      <td>0</td>\n    </tr>\n    <tr>\n      <th>32560</th>\n      <td>52</td>\n      <td>Self-emp-inc</td>\n      <td>HS-grad</td>\n      <td>Married-civ-spouse</td>\n      <td>Exec-managerial</td>\n      <td>Wife</td>\n      <td>White</td>\n      <td>Female</td>\n      <td>40</td>\n      <td>United-States</td>\n      <td>243</td>\n      <td>True</td>\n      <td>0</td>\n      <td>0</td>\n    </tr>\n  </tbody>\n</table>\n<p>30162 rows × 14 columns</p>\n</div>"
     },
     "execution_count": 40,
     "metadata": {},
     "output_type": "execute_result"
    }
   ],
   "source": [
    "# making White -> 0, Black -> 1, Asian-Pac-Islander -> 2, Amer-Indian-Eskimo -> 3, Other -> 4\n",
    "df[\"race_category\"] = df[\"race\"].map({\n",
    "    \"White\": 0, \"Black\": 1, \"Asian-Pac-Islander\": 2, \"Amer-Indian-Eskimo\": 3, \"Other\": 4\n",
    "})\n",
    "df"
   ],
   "metadata": {
    "collapsed": false,
    "ExecuteTime": {
     "end_time": "2023-11-13T09:07:24.291118100Z",
     "start_time": "2023-11-13T09:07:24.257678400Z"
    }
   }
  },
  {
   "cell_type": "code",
   "execution_count": 35,
   "outputs": [
    {
     "data": {
      "text/plain": "array(['Male', 'Female'], dtype=object)"
     },
     "execution_count": 35,
     "metadata": {},
     "output_type": "execute_result"
    }
   ],
   "source": [
    "df.sex.unique()"
   ],
   "metadata": {
    "collapsed": false,
    "ExecuteTime": {
     "end_time": "2023-11-13T09:00:33.291791100Z",
     "start_time": "2023-11-13T09:00:33.072984800Z"
    }
   }
  },
  {
   "cell_type": "code",
   "execution_count": 39,
   "outputs": [
    {
     "data": {
      "text/plain": "       age         workclass   education      marital-status  \\\n0       39         State-gov   Bachelors       Never-married   \n1       50  Self-emp-not-inc   Bachelors  Married-civ-spouse   \n2       38           Private     HS-grad            Divorced   \n3       53           Private        11th  Married-civ-spouse   \n4       28           Private   Bachelors  Married-civ-spouse   \n...    ...               ...         ...                 ...   \n32556   27           Private  Assoc-acdm  Married-civ-spouse   \n32557   40           Private     HS-grad  Married-civ-spouse   \n32558   58           Private     HS-grad             Widowed   \n32559   22           Private     HS-grad       Never-married   \n32560   52      Self-emp-inc     HS-grad  Married-civ-spouse   \n\n              occupation   relationship   race     sex  hours-per-week  \\\n0           Adm-clerical  Not-in-family  White    Male              40   \n1        Exec-managerial        Husband  White    Male              13   \n2      Handlers-cleaners  Not-in-family  White    Male              40   \n3      Handlers-cleaners        Husband  Black    Male              40   \n4         Prof-specialty           Wife  Black  Female              40   \n...                  ...            ...    ...     ...             ...   \n32556       Tech-support           Wife  White  Female              38   \n32557  Machine-op-inspct        Husband  White    Male              40   \n32558       Adm-clerical      Unmarried  White  Female              40   \n32559       Adm-clerical      Own-child  White    Male              20   \n32560    Exec-managerial           Wife  White  Female              40   \n\n      native-country  salary K$  salary_is_over_50k  sex_category  \n0      United-States         39               False             1  \n1      United-States         35               False             1  \n2      United-States         27               False             1  \n3      United-States         43               False             1  \n4               Cuba         25               False             0  \n...              ...        ...                 ...           ...  \n32556  United-States         36               False             0  \n32557  United-States        173                True             1  \n32558  United-States         40               False             0  \n32559  United-States         38               False             1  \n32560  United-States        243                True             0  \n\n[30162 rows x 13 columns]",
      "text/html": "<div>\n<style scoped>\n    .dataframe tbody tr th:only-of-type {\n        vertical-align: middle;\n    }\n\n    .dataframe tbody tr th {\n        vertical-align: top;\n    }\n\n    .dataframe thead th {\n        text-align: right;\n    }\n</style>\n<table border=\"1\" class=\"dataframe\">\n  <thead>\n    <tr style=\"text-align: right;\">\n      <th></th>\n      <th>age</th>\n      <th>workclass</th>\n      <th>education</th>\n      <th>marital-status</th>\n      <th>occupation</th>\n      <th>relationship</th>\n      <th>race</th>\n      <th>sex</th>\n      <th>hours-per-week</th>\n      <th>native-country</th>\n      <th>salary K$</th>\n      <th>salary_is_over_50k</th>\n      <th>sex_category</th>\n    </tr>\n  </thead>\n  <tbody>\n    <tr>\n      <th>0</th>\n      <td>39</td>\n      <td>State-gov</td>\n      <td>Bachelors</td>\n      <td>Never-married</td>\n      <td>Adm-clerical</td>\n      <td>Not-in-family</td>\n      <td>White</td>\n      <td>Male</td>\n      <td>40</td>\n      <td>United-States</td>\n      <td>39</td>\n      <td>False</td>\n      <td>1</td>\n    </tr>\n    <tr>\n      <th>1</th>\n      <td>50</td>\n      <td>Self-emp-not-inc</td>\n      <td>Bachelors</td>\n      <td>Married-civ-spouse</td>\n      <td>Exec-managerial</td>\n      <td>Husband</td>\n      <td>White</td>\n      <td>Male</td>\n      <td>13</td>\n      <td>United-States</td>\n      <td>35</td>\n      <td>False</td>\n      <td>1</td>\n    </tr>\n    <tr>\n      <th>2</th>\n      <td>38</td>\n      <td>Private</td>\n      <td>HS-grad</td>\n      <td>Divorced</td>\n      <td>Handlers-cleaners</td>\n      <td>Not-in-family</td>\n      <td>White</td>\n      <td>Male</td>\n      <td>40</td>\n      <td>United-States</td>\n      <td>27</td>\n      <td>False</td>\n      <td>1</td>\n    </tr>\n    <tr>\n      <th>3</th>\n      <td>53</td>\n      <td>Private</td>\n      <td>11th</td>\n      <td>Married-civ-spouse</td>\n      <td>Handlers-cleaners</td>\n      <td>Husband</td>\n      <td>Black</td>\n      <td>Male</td>\n      <td>40</td>\n      <td>United-States</td>\n      <td>43</td>\n      <td>False</td>\n      <td>1</td>\n    </tr>\n    <tr>\n      <th>4</th>\n      <td>28</td>\n      <td>Private</td>\n      <td>Bachelors</td>\n      <td>Married-civ-spouse</td>\n      <td>Prof-specialty</td>\n      <td>Wife</td>\n      <td>Black</td>\n      <td>Female</td>\n      <td>40</td>\n      <td>Cuba</td>\n      <td>25</td>\n      <td>False</td>\n      <td>0</td>\n    </tr>\n    <tr>\n      <th>...</th>\n      <td>...</td>\n      <td>...</td>\n      <td>...</td>\n      <td>...</td>\n      <td>...</td>\n      <td>...</td>\n      <td>...</td>\n      <td>...</td>\n      <td>...</td>\n      <td>...</td>\n      <td>...</td>\n      <td>...</td>\n      <td>...</td>\n    </tr>\n    <tr>\n      <th>32556</th>\n      <td>27</td>\n      <td>Private</td>\n      <td>Assoc-acdm</td>\n      <td>Married-civ-spouse</td>\n      <td>Tech-support</td>\n      <td>Wife</td>\n      <td>White</td>\n      <td>Female</td>\n      <td>38</td>\n      <td>United-States</td>\n      <td>36</td>\n      <td>False</td>\n      <td>0</td>\n    </tr>\n    <tr>\n      <th>32557</th>\n      <td>40</td>\n      <td>Private</td>\n      <td>HS-grad</td>\n      <td>Married-civ-spouse</td>\n      <td>Machine-op-inspct</td>\n      <td>Husband</td>\n      <td>White</td>\n      <td>Male</td>\n      <td>40</td>\n      <td>United-States</td>\n      <td>173</td>\n      <td>True</td>\n      <td>1</td>\n    </tr>\n    <tr>\n      <th>32558</th>\n      <td>58</td>\n      <td>Private</td>\n      <td>HS-grad</td>\n      <td>Widowed</td>\n      <td>Adm-clerical</td>\n      <td>Unmarried</td>\n      <td>White</td>\n      <td>Female</td>\n      <td>40</td>\n      <td>United-States</td>\n      <td>40</td>\n      <td>False</td>\n      <td>0</td>\n    </tr>\n    <tr>\n      <th>32559</th>\n      <td>22</td>\n      <td>Private</td>\n      <td>HS-grad</td>\n      <td>Never-married</td>\n      <td>Adm-clerical</td>\n      <td>Own-child</td>\n      <td>White</td>\n      <td>Male</td>\n      <td>20</td>\n      <td>United-States</td>\n      <td>38</td>\n      <td>False</td>\n      <td>1</td>\n    </tr>\n    <tr>\n      <th>32560</th>\n      <td>52</td>\n      <td>Self-emp-inc</td>\n      <td>HS-grad</td>\n      <td>Married-civ-spouse</td>\n      <td>Exec-managerial</td>\n      <td>Wife</td>\n      <td>White</td>\n      <td>Female</td>\n      <td>40</td>\n      <td>United-States</td>\n      <td>243</td>\n      <td>True</td>\n      <td>0</td>\n    </tr>\n  </tbody>\n</table>\n<p>30162 rows × 13 columns</p>\n</div>"
     },
     "execution_count": 39,
     "metadata": {},
     "output_type": "execute_result"
    }
   ],
   "source": [
    "# making male -> 1, female -> 0\n",
    "\n",
    "df[\"sex_category\"] = np.where(df[\"sex\"] == \"Male\", 1, 0)\n",
    "df"
   ],
   "metadata": {
    "collapsed": false,
    "ExecuteTime": {
     "end_time": "2023-11-13T09:02:45.998624800Z",
     "start_time": "2023-11-13T09:02:45.975577700Z"
    }
   }
  },
  {
   "cell_type": "code",
   "execution_count": 42,
   "outputs": [
    {
     "data": {
      "text/plain": "       age         workclass   education      marital-status  \\\n0       39         State-gov   Bachelors       Never-married   \n1       50  Self-emp-not-inc   Bachelors  Married-civ-spouse   \n2       38           Private     HS-grad            Divorced   \n3       53           Private        11th  Married-civ-spouse   \n4       28           Private   Bachelors  Married-civ-spouse   \n...    ...               ...         ...                 ...   \n32556   27           Private  Assoc-acdm  Married-civ-spouse   \n32557   40           Private     HS-grad  Married-civ-spouse   \n32558   58           Private     HS-grad             Widowed   \n32559   22           Private     HS-grad       Never-married   \n32560   52      Self-emp-inc     HS-grad  Married-civ-spouse   \n\n              occupation   relationship  hours-per-week native-country  \\\n0           Adm-clerical  Not-in-family              40  United-States   \n1        Exec-managerial        Husband              13  United-States   \n2      Handlers-cleaners  Not-in-family              40  United-States   \n3      Handlers-cleaners        Husband              40  United-States   \n4         Prof-specialty           Wife              40           Cuba   \n...                  ...            ...             ...            ...   \n32556       Tech-support           Wife              38  United-States   \n32557  Machine-op-inspct        Husband              40  United-States   \n32558       Adm-clerical      Unmarried              40  United-States   \n32559       Adm-clerical      Own-child              20  United-States   \n32560    Exec-managerial           Wife              40  United-States   \n\n       salary K$  salary_is_over_50k  sex_category  race_category  \n0             39               False             1              0  \n1             35               False             1              0  \n2             27               False             1              0  \n3             43               False             1              1  \n4             25               False             0              1  \n...          ...                 ...           ...            ...  \n32556         36               False             0              0  \n32557        173                True             1              0  \n32558         40               False             0              0  \n32559         38               False             1              0  \n32560        243                True             0              0  \n\n[30162 rows x 12 columns]",
      "text/html": "<div>\n<style scoped>\n    .dataframe tbody tr th:only-of-type {\n        vertical-align: middle;\n    }\n\n    .dataframe tbody tr th {\n        vertical-align: top;\n    }\n\n    .dataframe thead th {\n        text-align: right;\n    }\n</style>\n<table border=\"1\" class=\"dataframe\">\n  <thead>\n    <tr style=\"text-align: right;\">\n      <th></th>\n      <th>age</th>\n      <th>workclass</th>\n      <th>education</th>\n      <th>marital-status</th>\n      <th>occupation</th>\n      <th>relationship</th>\n      <th>hours-per-week</th>\n      <th>native-country</th>\n      <th>salary K$</th>\n      <th>salary_is_over_50k</th>\n      <th>sex_category</th>\n      <th>race_category</th>\n    </tr>\n  </thead>\n  <tbody>\n    <tr>\n      <th>0</th>\n      <td>39</td>\n      <td>State-gov</td>\n      <td>Bachelors</td>\n      <td>Never-married</td>\n      <td>Adm-clerical</td>\n      <td>Not-in-family</td>\n      <td>40</td>\n      <td>United-States</td>\n      <td>39</td>\n      <td>False</td>\n      <td>1</td>\n      <td>0</td>\n    </tr>\n    <tr>\n      <th>1</th>\n      <td>50</td>\n      <td>Self-emp-not-inc</td>\n      <td>Bachelors</td>\n      <td>Married-civ-spouse</td>\n      <td>Exec-managerial</td>\n      <td>Husband</td>\n      <td>13</td>\n      <td>United-States</td>\n      <td>35</td>\n      <td>False</td>\n      <td>1</td>\n      <td>0</td>\n    </tr>\n    <tr>\n      <th>2</th>\n      <td>38</td>\n      <td>Private</td>\n      <td>HS-grad</td>\n      <td>Divorced</td>\n      <td>Handlers-cleaners</td>\n      <td>Not-in-family</td>\n      <td>40</td>\n      <td>United-States</td>\n      <td>27</td>\n      <td>False</td>\n      <td>1</td>\n      <td>0</td>\n    </tr>\n    <tr>\n      <th>3</th>\n      <td>53</td>\n      <td>Private</td>\n      <td>11th</td>\n      <td>Married-civ-spouse</td>\n      <td>Handlers-cleaners</td>\n      <td>Husband</td>\n      <td>40</td>\n      <td>United-States</td>\n      <td>43</td>\n      <td>False</td>\n      <td>1</td>\n      <td>1</td>\n    </tr>\n    <tr>\n      <th>4</th>\n      <td>28</td>\n      <td>Private</td>\n      <td>Bachelors</td>\n      <td>Married-civ-spouse</td>\n      <td>Prof-specialty</td>\n      <td>Wife</td>\n      <td>40</td>\n      <td>Cuba</td>\n      <td>25</td>\n      <td>False</td>\n      <td>0</td>\n      <td>1</td>\n    </tr>\n    <tr>\n      <th>...</th>\n      <td>...</td>\n      <td>...</td>\n      <td>...</td>\n      <td>...</td>\n      <td>...</td>\n      <td>...</td>\n      <td>...</td>\n      <td>...</td>\n      <td>...</td>\n      <td>...</td>\n      <td>...</td>\n      <td>...</td>\n    </tr>\n    <tr>\n      <th>32556</th>\n      <td>27</td>\n      <td>Private</td>\n      <td>Assoc-acdm</td>\n      <td>Married-civ-spouse</td>\n      <td>Tech-support</td>\n      <td>Wife</td>\n      <td>38</td>\n      <td>United-States</td>\n      <td>36</td>\n      <td>False</td>\n      <td>0</td>\n      <td>0</td>\n    </tr>\n    <tr>\n      <th>32557</th>\n      <td>40</td>\n      <td>Private</td>\n      <td>HS-grad</td>\n      <td>Married-civ-spouse</td>\n      <td>Machine-op-inspct</td>\n      <td>Husband</td>\n      <td>40</td>\n      <td>United-States</td>\n      <td>173</td>\n      <td>True</td>\n      <td>1</td>\n      <td>0</td>\n    </tr>\n    <tr>\n      <th>32558</th>\n      <td>58</td>\n      <td>Private</td>\n      <td>HS-grad</td>\n      <td>Widowed</td>\n      <td>Adm-clerical</td>\n      <td>Unmarried</td>\n      <td>40</td>\n      <td>United-States</td>\n      <td>40</td>\n      <td>False</td>\n      <td>0</td>\n      <td>0</td>\n    </tr>\n    <tr>\n      <th>32559</th>\n      <td>22</td>\n      <td>Private</td>\n      <td>HS-grad</td>\n      <td>Never-married</td>\n      <td>Adm-clerical</td>\n      <td>Own-child</td>\n      <td>20</td>\n      <td>United-States</td>\n      <td>38</td>\n      <td>False</td>\n      <td>1</td>\n      <td>0</td>\n    </tr>\n    <tr>\n      <th>32560</th>\n      <td>52</td>\n      <td>Self-emp-inc</td>\n      <td>HS-grad</td>\n      <td>Married-civ-spouse</td>\n      <td>Exec-managerial</td>\n      <td>Wife</td>\n      <td>40</td>\n      <td>United-States</td>\n      <td>243</td>\n      <td>True</td>\n      <td>0</td>\n      <td>0</td>\n    </tr>\n  </tbody>\n</table>\n<p>30162 rows × 12 columns</p>\n</div>"
     },
     "execution_count": 42,
     "metadata": {},
     "output_type": "execute_result"
    }
   ],
   "source": [
    "# dropping colums \"sex\" and \"race\"\n",
    "df.drop([\"sex\", \"race\"], axis=1, inplace=True)\n",
    "df"
   ],
   "metadata": {
    "collapsed": false,
    "ExecuteTime": {
     "end_time": "2023-11-13T09:09:38.141135300Z",
     "start_time": "2023-11-13T09:09:38.094458100Z"
    }
   }
  },
  {
   "cell_type": "code",
   "execution_count": 43,
   "outputs": [
    {
     "data": {
      "text/plain": "                         age  hours-per-week  salary K$  salary_is_over_50k  \\\nage                 1.000000        0.101599   0.208203            0.241998   \nhours-per-week      0.101599        1.000000   0.196378            0.229480   \nsalary K$           0.208203        0.196378   1.000000            0.853894   \nsalary_is_over_50k  0.241998        0.229480   0.853894            1.000000   \nsex_category        0.081993        0.231268   0.182642            0.216699   \nrace_category      -0.035019       -0.037586  -0.057945           -0.067903   \n\n                    sex_category  race_category  \nage                     0.081993      -0.035019  \nhours-per-week          0.231268      -0.037586  \nsalary K$               0.182642      -0.057945  \nsalary_is_over_50k      0.216699      -0.067903  \nsex_category            1.000000      -0.067529  \nrace_category          -0.067529       1.000000  ",
      "text/html": "<div>\n<style scoped>\n    .dataframe tbody tr th:only-of-type {\n        vertical-align: middle;\n    }\n\n    .dataframe tbody tr th {\n        vertical-align: top;\n    }\n\n    .dataframe thead th {\n        text-align: right;\n    }\n</style>\n<table border=\"1\" class=\"dataframe\">\n  <thead>\n    <tr style=\"text-align: right;\">\n      <th></th>\n      <th>age</th>\n      <th>hours-per-week</th>\n      <th>salary K$</th>\n      <th>salary_is_over_50k</th>\n      <th>sex_category</th>\n      <th>race_category</th>\n    </tr>\n  </thead>\n  <tbody>\n    <tr>\n      <th>age</th>\n      <td>1.000000</td>\n      <td>0.101599</td>\n      <td>0.208203</td>\n      <td>0.241998</td>\n      <td>0.081993</td>\n      <td>-0.035019</td>\n    </tr>\n    <tr>\n      <th>hours-per-week</th>\n      <td>0.101599</td>\n      <td>1.000000</td>\n      <td>0.196378</td>\n      <td>0.229480</td>\n      <td>0.231268</td>\n      <td>-0.037586</td>\n    </tr>\n    <tr>\n      <th>salary K$</th>\n      <td>0.208203</td>\n      <td>0.196378</td>\n      <td>1.000000</td>\n      <td>0.853894</td>\n      <td>0.182642</td>\n      <td>-0.057945</td>\n    </tr>\n    <tr>\n      <th>salary_is_over_50k</th>\n      <td>0.241998</td>\n      <td>0.229480</td>\n      <td>0.853894</td>\n      <td>1.000000</td>\n      <td>0.216699</td>\n      <td>-0.067903</td>\n    </tr>\n    <tr>\n      <th>sex_category</th>\n      <td>0.081993</td>\n      <td>0.231268</td>\n      <td>0.182642</td>\n      <td>0.216699</td>\n      <td>1.000000</td>\n      <td>-0.067529</td>\n    </tr>\n    <tr>\n      <th>race_category</th>\n      <td>-0.035019</td>\n      <td>-0.037586</td>\n      <td>-0.057945</td>\n      <td>-0.067903</td>\n      <td>-0.067529</td>\n      <td>1.000000</td>\n    </tr>\n  </tbody>\n</table>\n</div>"
     },
     "execution_count": 43,
     "metadata": {},
     "output_type": "execute_result"
    }
   ],
   "source": [
    "df.corr(numeric_only=True)"
   ],
   "metadata": {
    "collapsed": false,
    "ExecuteTime": {
     "end_time": "2023-11-13T09:10:25.857850700Z",
     "start_time": "2023-11-13T09:10:25.803445600Z"
    }
   }
  },
  {
   "cell_type": "code",
   "execution_count": 49,
   "outputs": [
    {
     "data": {
      "text/plain": "                         age  hours-per-week  salary K$  salary_is_over_50k  \\\nage                 1.000000        0.155916   0.213430            0.276778   \nhours-per-week      0.155916        1.000000   0.199713            0.267245   \nsalary K$           0.213430        0.199713   1.000000            0.749050   \nsalary_is_over_50k  0.276778        0.267245   0.749050            1.000000   \nsex_category        0.091740        0.264989   0.161977            0.216699   \nrace_category      -0.024833       -0.083612  -0.062645           -0.082643   \n\n                    sex_category  race_category  \nage                     0.091740      -0.024833  \nhours-per-week          0.264989      -0.083612  \nsalary K$               0.161977      -0.062645  \nsalary_is_over_50k      0.216699      -0.082643  \nsex_category            1.000000      -0.100966  \nrace_category          -0.100966       1.000000  ",
      "text/html": "<div>\n<style scoped>\n    .dataframe tbody tr th:only-of-type {\n        vertical-align: middle;\n    }\n\n    .dataframe tbody tr th {\n        vertical-align: top;\n    }\n\n    .dataframe thead th {\n        text-align: right;\n    }\n</style>\n<table border=\"1\" class=\"dataframe\">\n  <thead>\n    <tr style=\"text-align: right;\">\n      <th></th>\n      <th>age</th>\n      <th>hours-per-week</th>\n      <th>salary K$</th>\n      <th>salary_is_over_50k</th>\n      <th>sex_category</th>\n      <th>race_category</th>\n    </tr>\n  </thead>\n  <tbody>\n    <tr>\n      <th>age</th>\n      <td>1.000000</td>\n      <td>0.155916</td>\n      <td>0.213430</td>\n      <td>0.276778</td>\n      <td>0.091740</td>\n      <td>-0.024833</td>\n    </tr>\n    <tr>\n      <th>hours-per-week</th>\n      <td>0.155916</td>\n      <td>1.000000</td>\n      <td>0.199713</td>\n      <td>0.267245</td>\n      <td>0.264989</td>\n      <td>-0.083612</td>\n    </tr>\n    <tr>\n      <th>salary K$</th>\n      <td>0.213430</td>\n      <td>0.199713</td>\n      <td>1.000000</td>\n      <td>0.749050</td>\n      <td>0.161977</td>\n      <td>-0.062645</td>\n    </tr>\n    <tr>\n      <th>salary_is_over_50k</th>\n      <td>0.276778</td>\n      <td>0.267245</td>\n      <td>0.749050</td>\n      <td>1.000000</td>\n      <td>0.216699</td>\n      <td>-0.082643</td>\n    </tr>\n    <tr>\n      <th>sex_category</th>\n      <td>0.091740</td>\n      <td>0.264989</td>\n      <td>0.161977</td>\n      <td>0.216699</td>\n      <td>1.000000</td>\n      <td>-0.100966</td>\n    </tr>\n    <tr>\n      <th>race_category</th>\n      <td>-0.024833</td>\n      <td>-0.083612</td>\n      <td>-0.062645</td>\n      <td>-0.082643</td>\n      <td>-0.100966</td>\n      <td>1.000000</td>\n    </tr>\n  </tbody>\n</table>\n</div>"
     },
     "execution_count": 49,
     "metadata": {},
     "output_type": "execute_result"
    }
   ],
   "source": [
    "df.corr(method=\"spearman\", numeric_only=True)\n"
   ],
   "metadata": {
    "collapsed": false,
    "ExecuteTime": {
     "end_time": "2023-11-13T09:23:16.336751900Z",
     "start_time": "2023-11-13T09:23:16.258384600Z"
    }
   }
  },
  {
   "cell_type": "markdown",
   "source": [
    "Here we can see small straight correlations between sex and hours-per-week, also with salary_is_over_50k.\n",
    "Also, we can see some straight correalations between age and  salary_is_over_50k."
   ],
   "metadata": {
    "collapsed": false
   }
  }
 ],
 "metadata": {
  "kernelspec": {
   "display_name": "Python 3",
   "language": "python",
   "name": "python3"
  },
  "language_info": {
   "codemirror_mode": {
    "name": "ipython",
    "version": 2
   },
   "file_extension": ".py",
   "mimetype": "text/x-python",
   "name": "python",
   "nbconvert_exporter": "python",
   "pygments_lexer": "ipython2",
   "version": "2.7.6"
  }
 },
 "nbformat": 4,
 "nbformat_minor": 0
}
