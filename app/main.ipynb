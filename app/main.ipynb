{
 "cells": [
  {
   "cell_type": "code",
   "execution_count": 1,
   "outputs": [],
   "source": [
    "import numpy as np\n",
    "import pandas as pd"
   ],
   "metadata": {
    "collapsed": false,
    "pycharm": {
     "name": "#%%\n"
    },
    "ExecuteTime": {
     "end_time": "2024-04-30T09:09:34.409125Z",
     "start_time": "2024-04-30T09:09:30.963127Z"
    }
   }
  },
  {
   "cell_type": "markdown",
   "source": [
    "# Task 0\n",
    "Read the dataset from csv file & perform data cleaning - remove all rows, which contains `?` in some columns.\n",
    "Also check for data correctness (salary & salary $K)."
   ],
   "metadata": {
    "collapsed": false,
    "pycharm": {
     "name": "#%% md\n"
    }
   }
  },
  {
   "cell_type": "code",
   "execution_count": 8,
   "outputs": [
    {
     "name": "stderr",
     "output_type": "stream",
     "text": [
      "/Users/oleksandrbarinov/PycharmProjects/mate/py-adult-data-analysis/.venv/lib/python3.11/site-packages/IPython/core/formatters.py:347: FutureWarning: Index.format is deprecated and will be removed in a future version. Convert using index.astype(str) or index.map(formatter) instead.\n",
      "  return method()\n"
     ]
    },
    {
     "data": {
      "text/plain": "   age         workclass  education      marital-status         occupation   \n0   39         State-gov  Bachelors       Never-married       Adm-clerical  \\\n1   50  Self-emp-not-inc  Bachelors  Married-civ-spouse    Exec-managerial   \n2   38           Private    HS-grad            Divorced  Handlers-cleaners   \n3   53           Private       11th  Married-civ-spouse  Handlers-cleaners   \n4   28           Private  Bachelors  Married-civ-spouse     Prof-specialty   \n\n    relationship   race     sex  hours-per-week native-country salary   \n0  Not-in-family  White    Male              40  United-States  <=50K  \\\n1        Husband  White    Male              13  United-States  <=50K   \n2  Not-in-family  White    Male              40  United-States  <=50K   \n3        Husband  Black    Male              40  United-States  <=50K   \n4           Wife  Black  Female              40           Cuba  <=50K   \n\n   salary K$  \n0         39  \n1         35  \n2         27  \n3         43  \n4         25  ",
      "text/html": "<div>\n<style scoped>\n    .dataframe tbody tr th:only-of-type {\n        vertical-align: middle;\n    }\n\n    .dataframe tbody tr th {\n        vertical-align: top;\n    }\n\n    .dataframe thead th {\n        text-align: right;\n    }\n</style>\n<table border=\"1\" class=\"dataframe\">\n  <thead>\n    <tr style=\"text-align: right;\">\n      <th></th>\n      <th>age</th>\n      <th>workclass</th>\n      <th>education</th>\n      <th>marital-status</th>\n      <th>occupation</th>\n      <th>relationship</th>\n      <th>race</th>\n      <th>sex</th>\n      <th>hours-per-week</th>\n      <th>native-country</th>\n      <th>salary</th>\n      <th>salary K$</th>\n    </tr>\n  </thead>\n  <tbody>\n    <tr>\n      <th>0</th>\n      <td>39</td>\n      <td>State-gov</td>\n      <td>Bachelors</td>\n      <td>Never-married</td>\n      <td>Adm-clerical</td>\n      <td>Not-in-family</td>\n      <td>White</td>\n      <td>Male</td>\n      <td>40</td>\n      <td>United-States</td>\n      <td>&lt;=50K</td>\n      <td>39</td>\n    </tr>\n    <tr>\n      <th>1</th>\n      <td>50</td>\n      <td>Self-emp-not-inc</td>\n      <td>Bachelors</td>\n      <td>Married-civ-spouse</td>\n      <td>Exec-managerial</td>\n      <td>Husband</td>\n      <td>White</td>\n      <td>Male</td>\n      <td>13</td>\n      <td>United-States</td>\n      <td>&lt;=50K</td>\n      <td>35</td>\n    </tr>\n    <tr>\n      <th>2</th>\n      <td>38</td>\n      <td>Private</td>\n      <td>HS-grad</td>\n      <td>Divorced</td>\n      <td>Handlers-cleaners</td>\n      <td>Not-in-family</td>\n      <td>White</td>\n      <td>Male</td>\n      <td>40</td>\n      <td>United-States</td>\n      <td>&lt;=50K</td>\n      <td>27</td>\n    </tr>\n    <tr>\n      <th>3</th>\n      <td>53</td>\n      <td>Private</td>\n      <td>11th</td>\n      <td>Married-civ-spouse</td>\n      <td>Handlers-cleaners</td>\n      <td>Husband</td>\n      <td>Black</td>\n      <td>Male</td>\n      <td>40</td>\n      <td>United-States</td>\n      <td>&lt;=50K</td>\n      <td>43</td>\n    </tr>\n    <tr>\n      <th>4</th>\n      <td>28</td>\n      <td>Private</td>\n      <td>Bachelors</td>\n      <td>Married-civ-spouse</td>\n      <td>Prof-specialty</td>\n      <td>Wife</td>\n      <td>Black</td>\n      <td>Female</td>\n      <td>40</td>\n      <td>Cuba</td>\n      <td>&lt;=50K</td>\n      <td>25</td>\n    </tr>\n  </tbody>\n</table>\n</div>"
     },
     "execution_count": 8,
     "metadata": {},
     "output_type": "execute_result"
    }
   ],
   "source": [
    "df = pd.read_csv(\"../data/adult.csv\", index_col=[0])\n",
    "\n",
    "df.replace(\"?\", np.nan, inplace=True)\n",
    "df.dropna(inplace=True)\n",
    "\n",
    "df[(df[\"salary\"] == \">50K\") & (df[\"salary K$\"] <= 50)]\n",
    "df[(df[\"salary\"] == \"<=50K\") & (df[\"salary K$\"] > 50)]\n",
    "\n",
    "df.head()"
   ],
   "metadata": {
    "collapsed": false,
    "pycharm": {
     "name": "#%%\n"
    },
    "ExecuteTime": {
     "end_time": "2024-04-30T09:14:03.114108Z",
     "start_time": "2024-04-30T09:14:03.020311Z"
    }
   }
  },
  {
   "cell_type": "markdown",
   "source": [
    "# Task 1\n",
    "Print the count of men and women in the dataset."
   ],
   "metadata": {
    "collapsed": false,
    "pycharm": {
     "name": "#%% md\n"
    }
   }
  },
  {
   "cell_type": "code",
   "execution_count": 9,
   "outputs": [
    {
     "data": {
      "text/plain": "sex\nMale      20380\nFemale     9782\nName: count, dtype: int64"
     },
     "execution_count": 9,
     "metadata": {},
     "output_type": "execute_result"
    }
   ],
   "source": [
    "df[\"sex\"].value_counts()"
   ],
   "metadata": {
    "collapsed": false,
    "pycharm": {
     "name": "#%%\n"
    },
    "ExecuteTime": {
     "end_time": "2024-04-30T09:16:00.764293Z",
     "start_time": "2024-04-30T09:16:00.743304Z"
    }
   }
  },
  {
   "cell_type": "markdown",
   "source": [
    "# Task 2\n",
    "Find the average age of men in dataset"
   ],
   "metadata": {
    "collapsed": false,
    "pycharm": {
     "name": "#%% md\n"
    }
   }
  },
  {
   "cell_type": "code",
   "execution_count": 11,
   "outputs": [
    {
     "data": {
      "text/plain": "39.18400392541707"
     },
     "execution_count": 11,
     "metadata": {},
     "output_type": "execute_result"
    }
   ],
   "source": [
    "df[df[\"sex\"] == \"Male\"][\"age\"].mean()"
   ],
   "metadata": {
    "collapsed": false,
    "pycharm": {
     "name": "#%%\n"
    },
    "ExecuteTime": {
     "end_time": "2024-04-30T09:17:53.811693Z",
     "start_time": "2024-04-30T09:17:53.800270Z"
    }
   }
  },
  {
   "cell_type": "markdown",
   "source": [
    "# Task 3\n",
    "Get the percentage of people from Poland (native-country)"
   ],
   "metadata": {
    "collapsed": false,
    "pycharm": {
     "name": "#%% md\n"
    }
   }
  },
  {
   "cell_type": "code",
   "execution_count": 13,
   "outputs": [
    {
     "data": {
      "text/plain": "0.18566408063125786"
     },
     "execution_count": 13,
     "metadata": {},
     "output_type": "execute_result"
    }
   ],
   "source": [
    "len(df[df[\"native-country\"] == \"Poland\"])  / len(df) * 100"
   ],
   "metadata": {
    "collapsed": false,
    "pycharm": {
     "name": "#%%\n"
    },
    "ExecuteTime": {
     "end_time": "2024-04-30T09:20:22.476915Z",
     "start_time": "2024-04-30T09:20:22.457651Z"
    }
   }
  },
  {
   "cell_type": "markdown",
   "source": [
    "# Task 4\n",
    "Get the mean and standard deviation of the age for people who earn > 50K per year. After this, get it for those who earn <= 50K."
   ],
   "metadata": {
    "collapsed": false,
    "pycharm": {
     "name": "#%% md\n"
    }
   }
  },
  {
   "cell_type": "code",
   "execution_count": 15,
   "outputs": [
    {
     "name": "stdout",
     "output_type": "stream",
     "text": [
      "> 50K Mean:43.95911028236548, Standard: 10.269632835673852\n",
      "<= 50K Mean: 36.60806038668668, Standard: 13.464631257161633\n"
     ]
    }
   ],
   "source": [
    "gt_50k = df[df[\"salary\"] == \">50K\"][\"age\"]\n",
    "le_50k = df[df[\"salary\"] == \"<=50K\"][\"age\"]\n",
    "\n",
    "print(f\"> 50K Mean:{gt_50k.mean()}, Standard: {gt_50k.std()}\")\n",
    "print(f\"<= 50K Mean: {le_50k.mean()}, Standard: {le_50k.std()}\")"
   ],
   "metadata": {
    "collapsed": false,
    "pycharm": {
     "name": "#%%\n"
    },
    "ExecuteTime": {
     "end_time": "2024-04-30T09:29:46.526929Z",
     "start_time": "2024-04-30T09:29:46.495062Z"
    }
   }
  },
  {
   "cell_type": "markdown",
   "source": [
    "# Task 5\n",
    "Check, if there are some people without higher education (education: Bachelors, Prof-school, Assoc-acdm, Assoc-voc, Masters, Doctorate), but with > 50K salary"
   ],
   "metadata": {
    "collapsed": false,
    "pycharm": {
     "name": "#%% md\n"
    }
   }
  },
  {
   "cell_type": "code",
   "execution_count": 21,
   "outputs": [
    {
     "name": "stderr",
     "output_type": "stream",
     "text": [
      "/Users/oleksandrbarinov/PycharmProjects/mate/py-adult-data-analysis/.venv/lib/python3.11/site-packages/IPython/core/formatters.py:347: FutureWarning: Index.format is deprecated and will be removed in a future version. Convert using index.astype(str) or index.map(formatter) instead.\n",
      "  return method()\n"
     ]
    },
    {
     "data": {
      "text/plain": "       age         workclass     education      marital-status   \n7       52  Self-emp-not-inc       HS-grad  Married-civ-spouse  \\\n10      37           Private  Some-college  Married-civ-spouse   \n55      43           Private  Some-college  Married-civ-spouse   \n67      53           Private       HS-grad  Married-civ-spouse   \n68      49      Self-emp-inc  Some-college  Married-civ-spouse   \n...    ...               ...           ...                 ...   \n32462   48      Self-emp-inc       HS-grad  Married-civ-spouse   \n32518   57         Local-gov       HS-grad  Married-civ-spouse   \n32519   46           Private  Some-college  Married-civ-spouse   \n32557   40           Private       HS-grad  Married-civ-spouse   \n32560   52      Self-emp-inc       HS-grad  Married-civ-spouse   \n\n              occupation relationship   race     sex  hours-per-week   \n7        Exec-managerial      Husband  White    Male              45  \\\n10       Exec-managerial      Husband  Black    Male              80   \n55          Tech-support      Husband  White    Male              40   \n67          Adm-clerical         Wife  White  Female              40   \n68       Exec-managerial      Husband  White    Male              50   \n...                  ...          ...    ...     ...             ...   \n32462       Craft-repair      Husband  White    Male              50   \n32518       Craft-repair      Husband  White    Male              40   \n32519    Exec-managerial      Husband  White    Male              48   \n32557  Machine-op-inspct      Husband  White    Male              40   \n32560    Exec-managerial         Wife  White  Female              40   \n\n      native-country salary  salary K$  \n7      United-States   >50K        307  \n10     United-States   >50K        116  \n55     United-States   >50K        341  \n67     United-States   >50K        225  \n68     United-States   >50K        194  \n...              ...    ...        ...  \n32462  United-States   >50K        343  \n32518  United-States   >50K        116  \n32519  United-States   >50K        239  \n32557  United-States   >50K        173  \n32560  United-States   >50K        243  \n\n[3178 rows x 12 columns]",
      "text/html": "<div>\n<style scoped>\n    .dataframe tbody tr th:only-of-type {\n        vertical-align: middle;\n    }\n\n    .dataframe tbody tr th {\n        vertical-align: top;\n    }\n\n    .dataframe thead th {\n        text-align: right;\n    }\n</style>\n<table border=\"1\" class=\"dataframe\">\n  <thead>\n    <tr style=\"text-align: right;\">\n      <th></th>\n      <th>age</th>\n      <th>workclass</th>\n      <th>education</th>\n      <th>marital-status</th>\n      <th>occupation</th>\n      <th>relationship</th>\n      <th>race</th>\n      <th>sex</th>\n      <th>hours-per-week</th>\n      <th>native-country</th>\n      <th>salary</th>\n      <th>salary K$</th>\n    </tr>\n  </thead>\n  <tbody>\n    <tr>\n      <th>7</th>\n      <td>52</td>\n      <td>Self-emp-not-inc</td>\n      <td>HS-grad</td>\n      <td>Married-civ-spouse</td>\n      <td>Exec-managerial</td>\n      <td>Husband</td>\n      <td>White</td>\n      <td>Male</td>\n      <td>45</td>\n      <td>United-States</td>\n      <td>&gt;50K</td>\n      <td>307</td>\n    </tr>\n    <tr>\n      <th>10</th>\n      <td>37</td>\n      <td>Private</td>\n      <td>Some-college</td>\n      <td>Married-civ-spouse</td>\n      <td>Exec-managerial</td>\n      <td>Husband</td>\n      <td>Black</td>\n      <td>Male</td>\n      <td>80</td>\n      <td>United-States</td>\n      <td>&gt;50K</td>\n      <td>116</td>\n    </tr>\n    <tr>\n      <th>55</th>\n      <td>43</td>\n      <td>Private</td>\n      <td>Some-college</td>\n      <td>Married-civ-spouse</td>\n      <td>Tech-support</td>\n      <td>Husband</td>\n      <td>White</td>\n      <td>Male</td>\n      <td>40</td>\n      <td>United-States</td>\n      <td>&gt;50K</td>\n      <td>341</td>\n    </tr>\n    <tr>\n      <th>67</th>\n      <td>53</td>\n      <td>Private</td>\n      <td>HS-grad</td>\n      <td>Married-civ-spouse</td>\n      <td>Adm-clerical</td>\n      <td>Wife</td>\n      <td>White</td>\n      <td>Female</td>\n      <td>40</td>\n      <td>United-States</td>\n      <td>&gt;50K</td>\n      <td>225</td>\n    </tr>\n    <tr>\n      <th>68</th>\n      <td>49</td>\n      <td>Self-emp-inc</td>\n      <td>Some-college</td>\n      <td>Married-civ-spouse</td>\n      <td>Exec-managerial</td>\n      <td>Husband</td>\n      <td>White</td>\n      <td>Male</td>\n      <td>50</td>\n      <td>United-States</td>\n      <td>&gt;50K</td>\n      <td>194</td>\n    </tr>\n    <tr>\n      <th>...</th>\n      <td>...</td>\n      <td>...</td>\n      <td>...</td>\n      <td>...</td>\n      <td>...</td>\n      <td>...</td>\n      <td>...</td>\n      <td>...</td>\n      <td>...</td>\n      <td>...</td>\n      <td>...</td>\n      <td>...</td>\n    </tr>\n    <tr>\n      <th>32462</th>\n      <td>48</td>\n      <td>Self-emp-inc</td>\n      <td>HS-grad</td>\n      <td>Married-civ-spouse</td>\n      <td>Craft-repair</td>\n      <td>Husband</td>\n      <td>White</td>\n      <td>Male</td>\n      <td>50</td>\n      <td>United-States</td>\n      <td>&gt;50K</td>\n      <td>343</td>\n    </tr>\n    <tr>\n      <th>32518</th>\n      <td>57</td>\n      <td>Local-gov</td>\n      <td>HS-grad</td>\n      <td>Married-civ-spouse</td>\n      <td>Craft-repair</td>\n      <td>Husband</td>\n      <td>White</td>\n      <td>Male</td>\n      <td>40</td>\n      <td>United-States</td>\n      <td>&gt;50K</td>\n      <td>116</td>\n    </tr>\n    <tr>\n      <th>32519</th>\n      <td>46</td>\n      <td>Private</td>\n      <td>Some-college</td>\n      <td>Married-civ-spouse</td>\n      <td>Exec-managerial</td>\n      <td>Husband</td>\n      <td>White</td>\n      <td>Male</td>\n      <td>48</td>\n      <td>United-States</td>\n      <td>&gt;50K</td>\n      <td>239</td>\n    </tr>\n    <tr>\n      <th>32557</th>\n      <td>40</td>\n      <td>Private</td>\n      <td>HS-grad</td>\n      <td>Married-civ-spouse</td>\n      <td>Machine-op-inspct</td>\n      <td>Husband</td>\n      <td>White</td>\n      <td>Male</td>\n      <td>40</td>\n      <td>United-States</td>\n      <td>&gt;50K</td>\n      <td>173</td>\n    </tr>\n    <tr>\n      <th>32560</th>\n      <td>52</td>\n      <td>Self-emp-inc</td>\n      <td>HS-grad</td>\n      <td>Married-civ-spouse</td>\n      <td>Exec-managerial</td>\n      <td>Wife</td>\n      <td>White</td>\n      <td>Female</td>\n      <td>40</td>\n      <td>United-States</td>\n      <td>&gt;50K</td>\n      <td>243</td>\n    </tr>\n  </tbody>\n</table>\n<p>3178 rows × 12 columns</p>\n</div>"
     },
     "execution_count": 21,
     "metadata": {},
     "output_type": "execute_result"
    }
   ],
   "source": [
    "education_degree = [\"Bachelors\", \"Prof-school\", \"Assoc-acdm\", \"Assoc-voc\", \"Masters\", \"Doctorate\"]\n",
    "df[~(df[\"education\"].isin(education_degree)) & (df[\"salary\"] == \">50K\")]"
   ],
   "metadata": {
    "collapsed": false,
    "pycharm": {
     "name": "#%%\n"
    },
    "ExecuteTime": {
     "end_time": "2024-04-30T09:39:04.928825Z",
     "start_time": "2024-04-30T09:39:04.905244Z"
    }
   }
  },
  {
   "cell_type": "markdown",
   "source": [
    "# Task 6\n",
    "Get the statistics of age for each type of education. Use `groupby` and `describe` for this."
   ],
   "metadata": {
    "collapsed": false,
    "pycharm": {
     "name": "#%% md\n"
    }
   }
  },
  {
   "cell_type": "code",
   "execution_count": 37,
   "outputs": [
    {
     "ename": "TypeError",
     "evalue": "unstack() takes from 2 to 3 positional arguments but 4 were given",
     "output_type": "error",
     "traceback": [
      "\u001B[0;31m---------------------------------------------------------------------------\u001B[0m",
      "\u001B[0;31mTypeError\u001B[0m                                 Traceback (most recent call last)",
      "Cell \u001B[0;32mIn[37], line 1\u001B[0m\n\u001B[0;32m----> 1\u001B[0m \u001B[43mdf\u001B[49m\u001B[38;5;241;43m.\u001B[39;49m\u001B[43mgroupby\u001B[49m\u001B[43m(\u001B[49m\u001B[38;5;124;43m'\u001B[39;49m\u001B[38;5;124;43meducation\u001B[39;49m\u001B[38;5;124;43m'\u001B[39;49m\u001B[43m)\u001B[49m\u001B[43m[\u001B[49m\u001B[38;5;124;43m'\u001B[39;49m\u001B[38;5;124;43mage\u001B[39;49m\u001B[38;5;124;43m'\u001B[39;49m\u001B[43m]\u001B[49m\u001B[38;5;241;43m.\u001B[39;49m\u001B[43mdescribe\u001B[49m\u001B[43m(\u001B[49m\u001B[43m)\u001B[49m\n",
      "File \u001B[0;32m~/PycharmProjects/mate/py-adult-data-analysis/.venv/lib/python3.11/site-packages/pandas/core/groupby/generic.py:713\u001B[0m, in \u001B[0;36mdescribe\u001B[0;34m(self, percentiles, include, exclude)\u001B[0m\n\u001B[1;32m    708\u001B[0m     sorter = np.lexsort((out if ascending else -out, cat))\n\u001B[1;32m    709\u001B[0m     out, codes[-1] = out[sorter], codes[-1][sorter]\n\u001B[1;32m    711\u001B[0m if bins is not None:\n\u001B[1;32m    712\u001B[0m     # for compat. with libgroupby.value_counts need to ensure every\n\u001B[0;32m--> 713\u001B[0m     # bin is present at every index level, null filled with zeros\n\u001B[1;32m    714\u001B[0m     diff = np.zeros(len(out), dtype=\"bool\")\n\u001B[1;32m    715\u001B[0m     for level_codes in codes[:-1]:\n",
      "File \u001B[0;32m~/PycharmProjects/mate/py-adult-data-analysis/.venv/lib/python3.11/site-packages/pandas/core/groupby/groupby.py:3607\u001B[0m, in \u001B[0;36mdescribe\u001B[0;34m(self, percentiles, include, exclude)\u001B[0m\n\u001B[1;32m   3599\u001B[0m     \u001B[38;5;28;01melse\u001B[39;00m:\n\u001B[1;32m   3600\u001B[0m         \u001B[38;5;28;01mreturn\u001B[39;00m \u001B[38;5;28mself\u001B[39m\u001B[38;5;241m.\u001B[39m_selected_obj\u001B[38;5;241m.\u001B[39miloc[:, mask]\n\u001B[1;32m   3602\u001B[0m \u001B[38;5;129m@final\u001B[39m\n\u001B[1;32m   3603\u001B[0m \u001B[38;5;28;01mdef\u001B[39;00m \u001B[38;5;21m_reindex_output\u001B[39m(\n\u001B[1;32m   3604\u001B[0m     \u001B[38;5;28mself\u001B[39m,\n\u001B[1;32m   3605\u001B[0m     output: OutputFrameOrSeries,\n\u001B[1;32m   3606\u001B[0m     fill_value: Scalar \u001B[38;5;241m=\u001B[39m np\u001B[38;5;241m.\u001B[39mNaN,\n\u001B[0;32m-> 3607\u001B[0m     qs: npt\u001B[38;5;241m.\u001B[39mNDArray[np\u001B[38;5;241m.\u001B[39mfloat64] \u001B[38;5;241m|\u001B[39m \u001B[38;5;28;01mNone\u001B[39;00m \u001B[38;5;241m=\u001B[39m \u001B[38;5;28;01mNone\u001B[39;00m,\n\u001B[1;32m   3608\u001B[0m ) \u001B[38;5;241m-\u001B[39m\u001B[38;5;241m>\u001B[39m OutputFrameOrSeries:\n\u001B[1;32m   3609\u001B[0m \u001B[38;5;250m    \u001B[39m\u001B[38;5;124;03m\"\"\"\u001B[39;00m\n\u001B[1;32m   3610\u001B[0m \u001B[38;5;124;03m    If we have categorical groupers, then we might want to make sure that\u001B[39;00m\n\u001B[1;32m   3611\u001B[0m \u001B[38;5;124;03m    we have a fully re-indexed output to the levels. This means expanding\u001B[39;00m\n\u001B[0;32m   (...)\u001B[0m\n\u001B[1;32m   3632\u001B[0m \u001B[38;5;124;03m        Object (potentially) re-indexed to include all possible groups.\u001B[39;00m\n\u001B[1;32m   3633\u001B[0m \u001B[38;5;124;03m    \"\"\"\u001B[39;00m\n\u001B[1;32m   3634\u001B[0m     groupings \u001B[38;5;241m=\u001B[39m \u001B[38;5;28mself\u001B[39m\u001B[38;5;241m.\u001B[39mgrouper\u001B[38;5;241m.\u001B[39mgroupings\n",
      "File \u001B[0;32m~/PycharmProjects/mate/py-adult-data-analysis/.venv/lib/python3.11/site-packages/pandas/core/series.py:4615\u001B[0m, in \u001B[0;36munstack\u001B[0;34m(self, level, fill_value, sort)\u001B[0m\n\u001B[1;32m   4613\u001B[0m \u001B[38;5;129m@overload\u001B[39m\n\u001B[1;32m   4614\u001B[0m \u001B[38;5;28;01mdef\u001B[39;00m \u001B[38;5;21mset_axis\u001B[39m(\u001B[38;5;28mself\u001B[39m, labels, axis: Axis, inplace: Literal[\u001B[38;5;28;01mTrue\u001B[39;00m]) \u001B[38;5;241m-\u001B[39m\u001B[38;5;241m>\u001B[39m \u001B[38;5;28;01mNone\u001B[39;00m:\n\u001B[0;32m-> 4615\u001B[0m     \u001B[38;5;241m.\u001B[39m\u001B[38;5;241m.\u001B[39m\u001B[38;5;241m.\u001B[39m\n",
      "\u001B[0;31mTypeError\u001B[0m: unstack() takes from 2 to 3 positional arguments but 4 were given"
     ]
    }
   ],
   "source": [
    "df.groupby('education')['age'].describe()"
   ],
   "metadata": {
    "collapsed": false,
    "pycharm": {
     "name": "#%%\n"
    },
    "ExecuteTime": {
     "end_time": "2024-04-30T10:01:16.322996Z",
     "start_time": "2024-04-30T10:01:16.188210Z"
    }
   }
  },
  {
   "cell_type": "markdown",
   "source": [
    "# Task 7\n",
    "Compare the married and non-married men salaries. Who earns more? (>50K or <=50K)\n",
    "Married men are those, whom `marital-status` starts with \"Married\". Others are not."
   ],
   "metadata": {
    "collapsed": false,
    "pycharm": {
     "name": "#%% md\n"
    }
   }
  },
  {
   "cell_type": "code",
   "execution_count": 32,
   "outputs": [
    {
     "name": "stdout",
     "output_type": "stream",
     "text": [
      "Married men: salary\n",
      "<=50K    7052\n",
      ">50K     5723\n",
      "Name: count, dtype: int64\n",
      "Non-married men: salary\n",
      "<=50K    6932\n",
      ">50K      673\n",
      "Name: count, dtype: int64\n"
     ]
    }
   ],
   "source": [
    "grouped_marital_status = df[df[\"sex\"] == \"Male\"].groupby(df[\"marital-status\"].str.startswith(\"Married\"))[\"salary\"]\n",
    "\n",
    "married_counts = grouped_marital_status.get_group(True).value_counts()\n",
    "non_married_counts = grouped_marital_status.get_group(False).value_counts()\n",
    "\n",
    "print(f\"Married men: {married_counts}\")\n",
    "print(f\"Non-married men: {non_married_counts}\")"
   ],
   "metadata": {
    "collapsed": false,
    "pycharm": {
     "name": "#%%\n"
    },
    "ExecuteTime": {
     "end_time": "2024-04-30T09:52:28.932574Z",
     "start_time": "2024-04-30T09:52:28.890765Z"
    }
   }
  },
  {
   "cell_type": "markdown",
   "source": [
    "# Task 8\n",
    "Get the max hours per week some person works. How many people works the same amount of hours per week?"
   ],
   "metadata": {
    "collapsed": false,
    "pycharm": {
     "name": "#%% md\n"
    }
   }
  },
  {
   "cell_type": "code",
   "execution_count": 34,
   "outputs": [
    {
     "data": {
      "text/plain": "78"
     },
     "execution_count": 34,
     "metadata": {},
     "output_type": "execute_result"
    }
   ],
   "source": [
    "len(df[df[\"hours-per-week\"] == df[\"hours-per-week\"].max()])"
   ],
   "metadata": {
    "collapsed": false,
    "pycharm": {
     "name": "#%%\n"
    },
    "ExecuteTime": {
     "end_time": "2024-04-30T09:54:56.421209Z",
     "start_time": "2024-04-30T09:54:56.411223Z"
    }
   }
  },
  {
   "cell_type": "markdown",
   "source": [
    "# Task 9\n",
    "Analyze the correlation between data in dataset. Understand connected fields in it and print highlight thier connection."
   ],
   "metadata": {
    "collapsed": false,
    "pycharm": {
     "name": "#%% md\n"
    }
   }
  },
  {
   "cell_type": "code",
   "execution_count": 36,
   "outputs": [
    {
     "name": "stderr",
     "output_type": "stream",
     "text": [
      "/Users/oleksandrbarinov/PycharmProjects/mate/py-adult-data-analysis/.venv/lib/python3.11/site-packages/IPython/core/formatters.py:347: FutureWarning: Index.format is deprecated and will be removed in a future version. Convert using index.astype(str) or index.map(formatter) instead.\n",
      "  return method()\n"
     ]
    },
    {
     "data": {
      "text/plain": "                                   age  hours-per-week  salary K$   \nage                           1.000000        0.101599   0.208203  \\\nhours-per-week                0.101599        1.000000   0.196378   \nsalary K$                     0.208203        0.196378   1.000000   \nworkclass_Federal-gov         0.056626        0.005229   0.050512   \nworkclass_Local-gov           0.068256        0.001612   0.025856   \n...                                ...             ...        ...   \nnative-country_United-States  0.016259        0.010673   0.034000   \nnative-country_Vietnam       -0.017775       -0.010381  -0.014737   \nnative-country_Yugoslavia     0.000657        0.006983   0.008560   \nsalary_<=50K                 -0.241998       -0.229480  -0.853894   \nsalary_>50K                   0.241998        0.229480   0.853894   \n\n                              workclass_Federal-gov  workclass_Local-gov   \nage                                        0.056626             0.068256  \\\nhours-per-week                             0.005229             0.001612   \nsalary K$                                  0.050512             0.025856   \nworkclass_Federal-gov                      1.000000            -0.048728   \nworkclass_Local-gov                       -0.048728             1.000000   \n...                                             ...                  ...   \nnative-country_United-States               0.017541             0.032937   \nnative-country_Vietnam                    -0.000004            -0.003952   \nnative-country_Yugoslavia                 -0.004139            -0.000550   \nsalary_<=50K                              -0.057394            -0.028673   \nsalary_>50K                                0.057394             0.028673   \n\n                              workclass_Private  workclass_Self-emp-inc   \nage                                   -0.210491                0.111039  \\\nhours-per-week                        -0.095533                0.126254   \nsalary K$                             -0.098187                0.119222   \nworkclass_Federal-gov                 -0.302194               -0.034520   \nworkclass_Local-gov                   -0.456267               -0.052120   \n...                                         ...                     ...   \nnative-country_United-States          -0.049809                0.007350   \nnative-country_Vietnam                 0.009369               -0.004973   \nnative-country_Yugoslavia              0.003861                0.003343   \nsalary_<=50K                           0.117218               -0.137646   \nsalary_>50K                           -0.117218                0.137646   \n\n                              workclass_Self-emp-not-inc  workclass_State-gov   \nage                                             0.150429             0.014805  \\\nhours-per-week                                  0.087835            -0.032976   \nsalary K$                                       0.019587             0.002678   \nworkclass_Federal-gov                          -0.053995            -0.037804   \nworkclass_Local-gov                            -0.081525            -0.057078   \n...                                                  ...                  ...   \nnative-country_United-States                    0.014520             0.025370   \nnative-country_Vietnam                         -0.003405            -0.006128   \nnative-country_Yugoslavia                      -0.001701            -0.004848   \nsalary_<=50K                                   -0.025575            -0.009752   \nsalary_>50K                                     0.025575             0.009752   \n\n                              workclass_Without-pay  ...   \nage                                        0.015337  ...  \\\nhours-per-week                            -0.014781  ...   \nsalary K$                                 -0.010522  ...   \nworkclass_Federal-gov                     -0.003871  ...   \nworkclass_Local-gov                       -0.005845  ...   \n...                                             ...  ...   \nnative-country_United-States               0.001269  ...   \nnative-country_Vietnam                    -0.000994  ...   \nnative-country_Yugoslavia                 -0.000496  ...   \nsalary_<=50K                               0.012406  ...   \nsalary_>50K                               -0.012406  ...   \n\n                              native-country_Scotland  native-country_South   \nage                                          0.000024              0.001923  \\\nhours-per-week                               0.000689              0.014328   \nsalary K$                                   -0.001498             -0.006514   \nworkclass_Federal-gov                       -0.003431             -0.004795   \nworkclass_Local-gov                         -0.005181             -0.013175   \n...                                               ...                   ...   \nnative-country_United-States                -0.061442             -0.156254   \nnative-country_Vietnam                      -0.000881             -0.002240   \nnative-country_Yugoslavia                   -0.000440             -0.001119   \nsalary_<=50K                                 0.002964              0.005812   \nsalary_>50K                                 -0.002964             -0.005812   \n\n                              native-country_Taiwan  native-country_Thailand   \nage                                       -0.007879                -0.004940  \\\nhours-per-week                            -0.000305                 0.012846   \nsalary K$                                  0.016939                -0.000891   \nworkclass_Federal-gov                     -0.006708                -0.004266   \nworkclass_Local-gov                       -0.003091                -0.006441   \n...                                             ...                      ...   \nnative-country_United-States              -0.120121                -0.076390   \nnative-country_Vietnam                    -0.001722                -0.001095   \nnative-country_Yugoslavia                 -0.000860                -0.000547   \nsalary_<=50K                              -0.017571                 0.003979   \nsalary_>50K                                0.017571                -0.003979   \n\n                              native-country_Trinadad&Tobago   \nage                                                 0.007868  \\\nhours-per-week                                     -0.007566   \nsalary K$                                          -0.003442   \nworkclass_Federal-gov                              -0.004390   \nworkclass_Local-gov                                -0.001255   \n...                                                      ...   \nnative-country_United-States                       -0.078606   \nnative-country_Vietnam                             -0.001127   \nnative-country_Yugoslavia                          -0.000563   \nsalary_<=50K                                        0.007788   \nsalary_>50K                                        -0.007788   \n\n                              native-country_United-States   \nage                                               0.016259  \\\nhours-per-week                                    0.010673   \nsalary K$                                         0.034000   \nworkclass_Federal-gov                             0.017541   \nworkclass_Local-gov                               0.032937   \n...                                                    ...   \nnative-country_United-States                      1.000000   \nnative-country_Vietnam                           -0.148334   \nnative-country_Yugoslavia                        -0.074108   \nsalary_<=50K                                     -0.040204   \nsalary_>50K                                       0.040204   \n\n                              native-country_Vietnam   \nage                                        -0.017775  \\\nhours-per-week                             -0.010381   \nsalary K$                                  -0.014737   \nworkclass_Federal-gov                      -0.000004   \nworkclass_Local-gov                        -0.003952   \n...                                              ...   \nnative-country_United-States               -0.148334   \nnative-country_Vietnam                      1.000000   \nnative-country_Yugoslavia                  -0.001062   \nsalary_<=50K                                0.018215   \nsalary_>50K                                -0.018215   \n\n                              native-country_Yugoslavia  salary_<=50K   \nage                                            0.000657     -0.241998  \\\nhours-per-week                                 0.006983     -0.229480   \nsalary K$                                      0.008560     -0.853894   \nworkclass_Federal-gov                         -0.004139     -0.057394   \nworkclass_Local-gov                           -0.000550     -0.028673   \n...                                                 ...           ...   \nnative-country_United-States                  -0.074108     -0.040204   \nnative-country_Vietnam                        -0.001062      0.018215   \nnative-country_Yugoslavia                      1.000000     -0.006718   \nsalary_<=50K                                  -0.006718      1.000000   \nsalary_>50K                                    0.006718     -1.000000   \n\n                              salary_>50K  \nage                              0.241998  \nhours-per-week                   0.229480  \nsalary K$                        0.853894  \nworkclass_Federal-gov            0.057394  \nworkclass_Local-gov              0.028673  \n...                                   ...  \nnative-country_United-States     0.040204  \nnative-country_Vietnam          -0.018215  \nnative-country_Yugoslavia        0.006718  \nsalary_<=50K                    -1.000000  \nsalary_>50K                      1.000000  \n\n[103 rows x 103 columns]",
      "text/html": "<div>\n<style scoped>\n    .dataframe tbody tr th:only-of-type {\n        vertical-align: middle;\n    }\n\n    .dataframe tbody tr th {\n        vertical-align: top;\n    }\n\n    .dataframe thead th {\n        text-align: right;\n    }\n</style>\n<table border=\"1\" class=\"dataframe\">\n  <thead>\n    <tr style=\"text-align: right;\">\n      <th></th>\n      <th>age</th>\n      <th>hours-per-week</th>\n      <th>salary K$</th>\n      <th>workclass_Federal-gov</th>\n      <th>workclass_Local-gov</th>\n      <th>workclass_Private</th>\n      <th>workclass_Self-emp-inc</th>\n      <th>workclass_Self-emp-not-inc</th>\n      <th>workclass_State-gov</th>\n      <th>workclass_Without-pay</th>\n      <th>...</th>\n      <th>native-country_Scotland</th>\n      <th>native-country_South</th>\n      <th>native-country_Taiwan</th>\n      <th>native-country_Thailand</th>\n      <th>native-country_Trinadad&amp;Tobago</th>\n      <th>native-country_United-States</th>\n      <th>native-country_Vietnam</th>\n      <th>native-country_Yugoslavia</th>\n      <th>salary_&lt;=50K</th>\n      <th>salary_&gt;50K</th>\n    </tr>\n  </thead>\n  <tbody>\n    <tr>\n      <th>age</th>\n      <td>1.000000</td>\n      <td>0.101599</td>\n      <td>0.208203</td>\n      <td>0.056626</td>\n      <td>0.068256</td>\n      <td>-0.210491</td>\n      <td>0.111039</td>\n      <td>0.150429</td>\n      <td>0.014805</td>\n      <td>0.015337</td>\n      <td>...</td>\n      <td>0.000024</td>\n      <td>0.001923</td>\n      <td>-0.007879</td>\n      <td>-0.004940</td>\n      <td>0.007868</td>\n      <td>0.016259</td>\n      <td>-0.017775</td>\n      <td>0.000657</td>\n      <td>-0.241998</td>\n      <td>0.241998</td>\n    </tr>\n    <tr>\n      <th>hours-per-week</th>\n      <td>0.101599</td>\n      <td>1.000000</td>\n      <td>0.196378</td>\n      <td>0.005229</td>\n      <td>0.001612</td>\n      <td>-0.095533</td>\n      <td>0.126254</td>\n      <td>0.087835</td>\n      <td>-0.032976</td>\n      <td>-0.014781</td>\n      <td>...</td>\n      <td>0.000689</td>\n      <td>0.014328</td>\n      <td>-0.000305</td>\n      <td>0.012846</td>\n      <td>-0.007566</td>\n      <td>0.010673</td>\n      <td>-0.010381</td>\n      <td>0.006983</td>\n      <td>-0.229480</td>\n      <td>0.229480</td>\n    </tr>\n    <tr>\n      <th>salary K$</th>\n      <td>0.208203</td>\n      <td>0.196378</td>\n      <td>1.000000</td>\n      <td>0.050512</td>\n      <td>0.025856</td>\n      <td>-0.098187</td>\n      <td>0.119222</td>\n      <td>0.019587</td>\n      <td>0.002678</td>\n      <td>-0.010522</td>\n      <td>...</td>\n      <td>-0.001498</td>\n      <td>-0.006514</td>\n      <td>0.016939</td>\n      <td>-0.000891</td>\n      <td>-0.003442</td>\n      <td>0.034000</td>\n      <td>-0.014737</td>\n      <td>0.008560</td>\n      <td>-0.853894</td>\n      <td>0.853894</td>\n    </tr>\n    <tr>\n      <th>workclass_Federal-gov</th>\n      <td>0.056626</td>\n      <td>0.005229</td>\n      <td>0.050512</td>\n      <td>1.000000</td>\n      <td>-0.048728</td>\n      <td>-0.302194</td>\n      <td>-0.034520</td>\n      <td>-0.053995</td>\n      <td>-0.037804</td>\n      <td>-0.003871</td>\n      <td>...</td>\n      <td>-0.003431</td>\n      <td>-0.004795</td>\n      <td>-0.006708</td>\n      <td>-0.004266</td>\n      <td>-0.004390</td>\n      <td>0.017541</td>\n      <td>-0.000004</td>\n      <td>-0.004139</td>\n      <td>-0.057394</td>\n      <td>0.057394</td>\n    </tr>\n    <tr>\n      <th>workclass_Local-gov</th>\n      <td>0.068256</td>\n      <td>0.001612</td>\n      <td>0.025856</td>\n      <td>-0.048728</td>\n      <td>1.000000</td>\n      <td>-0.456267</td>\n      <td>-0.052120</td>\n      <td>-0.081525</td>\n      <td>-0.057078</td>\n      <td>-0.005845</td>\n      <td>...</td>\n      <td>-0.005181</td>\n      <td>-0.013175</td>\n      <td>-0.003091</td>\n      <td>-0.006441</td>\n      <td>-0.001255</td>\n      <td>0.032937</td>\n      <td>-0.003952</td>\n      <td>-0.000550</td>\n      <td>-0.028673</td>\n      <td>0.028673</td>\n    </tr>\n    <tr>\n      <th>...</th>\n      <td>...</td>\n      <td>...</td>\n      <td>...</td>\n      <td>...</td>\n      <td>...</td>\n      <td>...</td>\n      <td>...</td>\n      <td>...</td>\n      <td>...</td>\n      <td>...</td>\n      <td>...</td>\n      <td>...</td>\n      <td>...</td>\n      <td>...</td>\n      <td>...</td>\n      <td>...</td>\n      <td>...</td>\n      <td>...</td>\n      <td>...</td>\n      <td>...</td>\n      <td>...</td>\n    </tr>\n    <tr>\n      <th>native-country_United-States</th>\n      <td>0.016259</td>\n      <td>0.010673</td>\n      <td>0.034000</td>\n      <td>0.017541</td>\n      <td>0.032937</td>\n      <td>-0.049809</td>\n      <td>0.007350</td>\n      <td>0.014520</td>\n      <td>0.025370</td>\n      <td>0.001269</td>\n      <td>...</td>\n      <td>-0.061442</td>\n      <td>-0.156254</td>\n      <td>-0.120121</td>\n      <td>-0.076390</td>\n      <td>-0.078606</td>\n      <td>1.000000</td>\n      <td>-0.148334</td>\n      <td>-0.074108</td>\n      <td>-0.040204</td>\n      <td>0.040204</td>\n    </tr>\n    <tr>\n      <th>native-country_Vietnam</th>\n      <td>-0.017775</td>\n      <td>-0.010381</td>\n      <td>-0.014737</td>\n      <td>-0.000004</td>\n      <td>-0.003952</td>\n      <td>0.009369</td>\n      <td>-0.004973</td>\n      <td>-0.003405</td>\n      <td>-0.006128</td>\n      <td>-0.000994</td>\n      <td>...</td>\n      <td>-0.000881</td>\n      <td>-0.002240</td>\n      <td>-0.001722</td>\n      <td>-0.001095</td>\n      <td>-0.001127</td>\n      <td>-0.148334</td>\n      <td>1.000000</td>\n      <td>-0.001062</td>\n      <td>0.018215</td>\n      <td>-0.018215</td>\n    </tr>\n    <tr>\n      <th>native-country_Yugoslavia</th>\n      <td>0.000657</td>\n      <td>0.006983</td>\n      <td>0.008560</td>\n      <td>-0.004139</td>\n      <td>-0.000550</td>\n      <td>0.003861</td>\n      <td>0.003343</td>\n      <td>-0.001701</td>\n      <td>-0.004848</td>\n      <td>-0.000496</td>\n      <td>...</td>\n      <td>-0.000440</td>\n      <td>-0.001119</td>\n      <td>-0.000860</td>\n      <td>-0.000547</td>\n      <td>-0.000563</td>\n      <td>-0.074108</td>\n      <td>-0.001062</td>\n      <td>1.000000</td>\n      <td>-0.006718</td>\n      <td>0.006718</td>\n    </tr>\n    <tr>\n      <th>salary_&lt;=50K</th>\n      <td>-0.241998</td>\n      <td>-0.229480</td>\n      <td>-0.853894</td>\n      <td>-0.057394</td>\n      <td>-0.028673</td>\n      <td>0.117218</td>\n      <td>-0.137646</td>\n      <td>-0.025575</td>\n      <td>-0.009752</td>\n      <td>0.012406</td>\n      <td>...</td>\n      <td>0.002964</td>\n      <td>0.005812</td>\n      <td>-0.017571</td>\n      <td>0.003979</td>\n      <td>0.007788</td>\n      <td>-0.040204</td>\n      <td>0.018215</td>\n      <td>-0.006718</td>\n      <td>1.000000</td>\n      <td>-1.000000</td>\n    </tr>\n    <tr>\n      <th>salary_&gt;50K</th>\n      <td>0.241998</td>\n      <td>0.229480</td>\n      <td>0.853894</td>\n      <td>0.057394</td>\n      <td>0.028673</td>\n      <td>-0.117218</td>\n      <td>0.137646</td>\n      <td>0.025575</td>\n      <td>0.009752</td>\n      <td>-0.012406</td>\n      <td>...</td>\n      <td>-0.002964</td>\n      <td>-0.005812</td>\n      <td>0.017571</td>\n      <td>-0.003979</td>\n      <td>-0.007788</td>\n      <td>0.040204</td>\n      <td>-0.018215</td>\n      <td>0.006718</td>\n      <td>-1.000000</td>\n      <td>1.000000</td>\n    </tr>\n  </tbody>\n</table>\n<p>103 rows × 103 columns</p>\n</div>"
     },
     "execution_count": 36,
     "metadata": {},
     "output_type": "execute_result"
    }
   ],
   "source": [
    "encoded_data = pd.get_dummies(df)\n",
    "encoded_data.corr()"
   ],
   "metadata": {
    "collapsed": false,
    "pycharm": {
     "name": "#%%\n"
    },
    "ExecuteTime": {
     "end_time": "2024-04-30T10:01:06.719383Z",
     "start_time": "2024-04-30T10:01:06.104743Z"
    }
   }
  }
 ],
 "metadata": {
  "kernelspec": {
   "display_name": "Python 3",
   "language": "python",
   "name": "python3"
  },
  "language_info": {
   "codemirror_mode": {
    "name": "ipython",
    "version": 2
   },
   "file_extension": ".py",
   "mimetype": "text/x-python",
   "name": "python",
   "nbconvert_exporter": "python",
   "pygments_lexer": "ipython2",
   "version": "2.7.6"
  }
 },
 "nbformat": 4,
 "nbformat_minor": 0
}
