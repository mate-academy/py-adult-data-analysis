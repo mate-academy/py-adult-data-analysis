{
 "cells": [
  {
   "cell_type": "code",
   "execution_count": 268,
   "outputs": [],
   "source": [
    "import numpy as np\n",
    "import pandas as pd"
   ],
   "metadata": {
    "collapsed": false,
    "pycharm": {
     "name": "#%%\n"
    },
    "ExecuteTime": {
     "end_time": "2024-05-02T09:15:15.064199200Z",
     "start_time": "2024-05-02T09:15:15.025320600Z"
    }
   }
  },
  {
   "cell_type": "markdown",
   "source": [
    "# Task 0\n",
    "Read the dataset from csv file & perform data cleaning - remove all rows, which contains `?` in some columns.\n",
    "Also check for data correctness (salary & salary $K)."
   ],
   "metadata": {
    "collapsed": false,
    "pycharm": {
     "name": "#%% md\n"
    }
   }
  },
  {
   "cell_type": "code",
   "outputs": [
    {
     "data": {
      "text/plain": "   Unnamed: 0  age         workclass  education         marital-status  \\\n0           0   39         State-gov  Bachelors          Never-married   \n1           1   50  Self-emp-not-inc  Bachelors     Married-civ-spouse   \n2           2   38           Private    HS-grad               Divorced   \n3           3   53           Private       11th     Married-civ-spouse   \n4           4   28           Private  Bachelors     Married-civ-spouse   \n5           5   37           Private    Masters     Married-civ-spouse   \n6           6   49           Private        9th  Married-spouse-absent   \n7           7   52  Self-emp-not-inc    HS-grad     Married-civ-spouse   \n8           8   31           Private    Masters          Never-married   \n9           9   42           Private  Bachelors     Married-civ-spouse   \n\n          occupation   relationship   race     sex  hours-per-week  \\\n0       Adm-clerical  Not-in-family  White    Male              40   \n1    Exec-managerial        Husband  White    Male              13   \n2  Handlers-cleaners  Not-in-family  White    Male              40   \n3  Handlers-cleaners        Husband  Black    Male              40   \n4     Prof-specialty           Wife  Black  Female              40   \n5    Exec-managerial           Wife  White  Female              40   \n6      Other-service  Not-in-family  Black  Female              16   \n7    Exec-managerial        Husband  White    Male              45   \n8     Prof-specialty  Not-in-family  White  Female              50   \n9    Exec-managerial        Husband  White    Male              40   \n\n  native-country salary  salary K$  \n0  United-States  <=50K         39  \n1  United-States  <=50K         35  \n2  United-States  <=50K         27  \n3  United-States  <=50K         43  \n4           Cuba  <=50K         25  \n5  United-States  <=50K         44  \n6        Jamaica  <=50K         49  \n7  United-States   >50K        307  \n8  United-States   >50K        330  \n9  United-States   >50K        303  ",
      "text/html": "<div>\n<style scoped>\n    .dataframe tbody tr th:only-of-type {\n        vertical-align: middle;\n    }\n\n    .dataframe tbody tr th {\n        vertical-align: top;\n    }\n\n    .dataframe thead th {\n        text-align: right;\n    }\n</style>\n<table border=\"1\" class=\"dataframe\">\n  <thead>\n    <tr style=\"text-align: right;\">\n      <th></th>\n      <th>Unnamed: 0</th>\n      <th>age</th>\n      <th>workclass</th>\n      <th>education</th>\n      <th>marital-status</th>\n      <th>occupation</th>\n      <th>relationship</th>\n      <th>race</th>\n      <th>sex</th>\n      <th>hours-per-week</th>\n      <th>native-country</th>\n      <th>salary</th>\n      <th>salary K$</th>\n    </tr>\n  </thead>\n  <tbody>\n    <tr>\n      <th>0</th>\n      <td>0</td>\n      <td>39</td>\n      <td>State-gov</td>\n      <td>Bachelors</td>\n      <td>Never-married</td>\n      <td>Adm-clerical</td>\n      <td>Not-in-family</td>\n      <td>White</td>\n      <td>Male</td>\n      <td>40</td>\n      <td>United-States</td>\n      <td>&lt;=50K</td>\n      <td>39</td>\n    </tr>\n    <tr>\n      <th>1</th>\n      <td>1</td>\n      <td>50</td>\n      <td>Self-emp-not-inc</td>\n      <td>Bachelors</td>\n      <td>Married-civ-spouse</td>\n      <td>Exec-managerial</td>\n      <td>Husband</td>\n      <td>White</td>\n      <td>Male</td>\n      <td>13</td>\n      <td>United-States</td>\n      <td>&lt;=50K</td>\n      <td>35</td>\n    </tr>\n    <tr>\n      <th>2</th>\n      <td>2</td>\n      <td>38</td>\n      <td>Private</td>\n      <td>HS-grad</td>\n      <td>Divorced</td>\n      <td>Handlers-cleaners</td>\n      <td>Not-in-family</td>\n      <td>White</td>\n      <td>Male</td>\n      <td>40</td>\n      <td>United-States</td>\n      <td>&lt;=50K</td>\n      <td>27</td>\n    </tr>\n    <tr>\n      <th>3</th>\n      <td>3</td>\n      <td>53</td>\n      <td>Private</td>\n      <td>11th</td>\n      <td>Married-civ-spouse</td>\n      <td>Handlers-cleaners</td>\n      <td>Husband</td>\n      <td>Black</td>\n      <td>Male</td>\n      <td>40</td>\n      <td>United-States</td>\n      <td>&lt;=50K</td>\n      <td>43</td>\n    </tr>\n    <tr>\n      <th>4</th>\n      <td>4</td>\n      <td>28</td>\n      <td>Private</td>\n      <td>Bachelors</td>\n      <td>Married-civ-spouse</td>\n      <td>Prof-specialty</td>\n      <td>Wife</td>\n      <td>Black</td>\n      <td>Female</td>\n      <td>40</td>\n      <td>Cuba</td>\n      <td>&lt;=50K</td>\n      <td>25</td>\n    </tr>\n    <tr>\n      <th>5</th>\n      <td>5</td>\n      <td>37</td>\n      <td>Private</td>\n      <td>Masters</td>\n      <td>Married-civ-spouse</td>\n      <td>Exec-managerial</td>\n      <td>Wife</td>\n      <td>White</td>\n      <td>Female</td>\n      <td>40</td>\n      <td>United-States</td>\n      <td>&lt;=50K</td>\n      <td>44</td>\n    </tr>\n    <tr>\n      <th>6</th>\n      <td>6</td>\n      <td>49</td>\n      <td>Private</td>\n      <td>9th</td>\n      <td>Married-spouse-absent</td>\n      <td>Other-service</td>\n      <td>Not-in-family</td>\n      <td>Black</td>\n      <td>Female</td>\n      <td>16</td>\n      <td>Jamaica</td>\n      <td>&lt;=50K</td>\n      <td>49</td>\n    </tr>\n    <tr>\n      <th>7</th>\n      <td>7</td>\n      <td>52</td>\n      <td>Self-emp-not-inc</td>\n      <td>HS-grad</td>\n      <td>Married-civ-spouse</td>\n      <td>Exec-managerial</td>\n      <td>Husband</td>\n      <td>White</td>\n      <td>Male</td>\n      <td>45</td>\n      <td>United-States</td>\n      <td>&gt;50K</td>\n      <td>307</td>\n    </tr>\n    <tr>\n      <th>8</th>\n      <td>8</td>\n      <td>31</td>\n      <td>Private</td>\n      <td>Masters</td>\n      <td>Never-married</td>\n      <td>Prof-specialty</td>\n      <td>Not-in-family</td>\n      <td>White</td>\n      <td>Female</td>\n      <td>50</td>\n      <td>United-States</td>\n      <td>&gt;50K</td>\n      <td>330</td>\n    </tr>\n    <tr>\n      <th>9</th>\n      <td>9</td>\n      <td>42</td>\n      <td>Private</td>\n      <td>Bachelors</td>\n      <td>Married-civ-spouse</td>\n      <td>Exec-managerial</td>\n      <td>Husband</td>\n      <td>White</td>\n      <td>Male</td>\n      <td>40</td>\n      <td>United-States</td>\n      <td>&gt;50K</td>\n      <td>303</td>\n    </tr>\n  </tbody>\n</table>\n</div>"
     },
     "execution_count": 269,
     "metadata": {},
     "output_type": "execute_result"
    }
   ],
   "source": [
    "adults = pd.read_csv(\"../data/adult.csv\")\n",
    "adults = adults.replace(\"?\", np.nan)\n",
    "adults.dropna(inplace=True)\n",
    "\n",
    "mask = (adults[\"salary\"] == \"<=50K\") & (adults[\"salary K$\"] <= 50) |  (adults[\"salary\"] == \">50K\") & (adults[\"salary K$\"] > 50)\n",
    "adults = adults[mask]\n",
    "\n",
    "adults.head(10)"
   ],
   "metadata": {
    "collapsed": false,
    "ExecuteTime": {
     "end_time": "2024-05-02T09:15:15.273496700Z",
     "start_time": "2024-05-02T09:15:15.065287300Z"
    }
   },
   "execution_count": 269
  },
  {
   "cell_type": "markdown",
   "source": [
    "# Task 1\n",
    "Print the count of men and women in the dataset."
   ],
   "metadata": {
    "collapsed": false,
    "pycharm": {
     "name": "#%% md\n"
    }
   }
  },
  {
   "cell_type": "code",
   "execution_count": 270,
   "outputs": [
    {
     "data": {
      "text/plain": "sex\nMale      20380\nFemale     9782\nName: count, dtype: int64"
     },
     "execution_count": 270,
     "metadata": {},
     "output_type": "execute_result"
    }
   ],
   "source": [
    "adults[\"sex\"].value_counts()"
   ],
   "metadata": {
    "collapsed": false,
    "pycharm": {
     "name": "#%%\n"
    },
    "ExecuteTime": {
     "end_time": "2024-05-02T09:15:15.287516700Z",
     "start_time": "2024-05-02T09:15:15.271393Z"
    }
   }
  },
  {
   "cell_type": "markdown",
   "source": [
    "# Task 2\n",
    "Find the average age of men in dataset"
   ],
   "metadata": {
    "collapsed": false,
    "pycharm": {
     "name": "#%% md\n"
    }
   }
  },
  {
   "cell_type": "code",
   "execution_count": 271,
   "outputs": [
    {
     "data": {
      "text/plain": "39.18400392541707"
     },
     "execution_count": 271,
     "metadata": {},
     "output_type": "execute_result"
    }
   ],
   "source": [
    "adults[adults[\"sex\"] == \"Male\"][\"age\"].mean()"
   ],
   "metadata": {
    "collapsed": false,
    "pycharm": {
     "name": "#%%\n"
    },
    "ExecuteTime": {
     "end_time": "2024-05-02T09:15:15.533940700Z",
     "start_time": "2024-05-02T09:15:15.289640400Z"
    }
   }
  },
  {
   "cell_type": "markdown",
   "source": [
    "# Task 3\n",
    "Get the percentage of people from Poland (native-country)"
   ],
   "metadata": {
    "collapsed": false,
    "pycharm": {
     "name": "#%% md\n"
    }
   }
  },
  {
   "cell_type": "code",
   "execution_count": 272,
   "outputs": [
    {
     "data": {
      "text/plain": "0.18566408063125786"
     },
     "execution_count": 272,
     "metadata": {},
     "output_type": "execute_result"
    }
   ],
   "source": [
    "total = adults.count().iloc[0]\n",
    "percentage = (adults[adults[\"native-country\"] == \"Poland\"].count().iloc[0] / total) * 100\n",
    "percentage"
   ],
   "metadata": {
    "collapsed": false,
    "pycharm": {
     "name": "#%%\n"
    },
    "ExecuteTime": {
     "end_time": "2024-05-02T09:15:15.565369900Z",
     "start_time": "2024-05-02T09:15:15.411735600Z"
    }
   }
  },
  {
   "cell_type": "markdown",
   "source": [
    "# Task 4\n",
    "Get the mean and standard deviation of the age for people who earn > 50K per year. After this, get it for those who earn <= 50K."
   ],
   "metadata": {
    "collapsed": false,
    "pycharm": {
     "name": "#%% md\n"
    }
   }
  },
  {
   "cell_type": "code",
   "execution_count": 273,
   "outputs": [
    {
     "data": {
      "text/plain": "43.95911028236548"
     },
     "execution_count": 273,
     "metadata": {},
     "output_type": "execute_result"
    }
   ],
   "source": [
    "adults[\"age\"][adults[\"salary\"] == \">50K\"].mean()"
   ],
   "metadata": {
    "collapsed": false,
    "pycharm": {
     "name": "#%%\n"
    },
    "ExecuteTime": {
     "end_time": "2024-05-02T09:15:15.653997900Z",
     "start_time": "2024-05-02T09:15:15.538734100Z"
    }
   }
  },
  {
   "cell_type": "code",
   "outputs": [
    {
     "data": {
      "text/plain": "10.269632835673852"
     },
     "execution_count": 274,
     "metadata": {},
     "output_type": "execute_result"
    }
   ],
   "source": [
    "adults[\"age\"][adults[\"salary\"] == \">50K\"].std()"
   ],
   "metadata": {
    "collapsed": false,
    "ExecuteTime": {
     "end_time": "2024-05-02T09:15:15.743257Z",
     "start_time": "2024-05-02T09:15:15.637156700Z"
    }
   },
   "execution_count": 274
  },
  {
   "cell_type": "code",
   "outputs": [
    {
     "data": {
      "text/plain": "36.60806038668668"
     },
     "execution_count": 275,
     "metadata": {},
     "output_type": "execute_result"
    }
   ],
   "source": [
    "adults[\"age\"][adults[\"salary\"] == \"<=50K\"].mean()"
   ],
   "metadata": {
    "collapsed": false,
    "ExecuteTime": {
     "end_time": "2024-05-02T09:15:15.917826400Z",
     "start_time": "2024-05-02T09:15:15.741182500Z"
    }
   },
   "execution_count": 275
  },
  {
   "cell_type": "code",
   "outputs": [
    {
     "data": {
      "text/plain": "13.464631257161633"
     },
     "execution_count": 276,
     "metadata": {},
     "output_type": "execute_result"
    }
   ],
   "source": [
    "adults[\"age\"][adults[\"salary\"] == \"<=50K\"].std()"
   ],
   "metadata": {
    "collapsed": false,
    "ExecuteTime": {
     "end_time": "2024-05-02T09:15:15.999771700Z",
     "start_time": "2024-05-02T09:15:15.913106600Z"
    }
   },
   "execution_count": 276
  },
  {
   "cell_type": "markdown",
   "source": [
    "# Task 5\n",
    "Check, if there are some people without higher education (education: Bachelors, Prof-school, Assoc-acdm, Assoc-voc, Masters, Doctorate), but with > 50K salary"
   ],
   "metadata": {
    "collapsed": false,
    "pycharm": {
     "name": "#%% md\n"
    }
   }
  },
  {
   "cell_type": "code",
   "execution_count": 277,
   "outputs": [
    {
     "data": {
      "text/plain": "       Unnamed: 0  age         workclass     education      marital-status  \\\n7               7   52  Self-emp-not-inc       HS-grad  Married-civ-spouse   \n10             10   37           Private  Some-college  Married-civ-spouse   \n55             55   43           Private  Some-college  Married-civ-spouse   \n67             67   53           Private       HS-grad  Married-civ-spouse   \n68             68   49      Self-emp-inc  Some-college  Married-civ-spouse   \n...           ...  ...               ...           ...                 ...   \n32462       32462   48      Self-emp-inc       HS-grad  Married-civ-spouse   \n32518       32518   57         Local-gov       HS-grad  Married-civ-spouse   \n32519       32519   46           Private  Some-college  Married-civ-spouse   \n32557       32557   40           Private       HS-grad  Married-civ-spouse   \n32560       32560   52      Self-emp-inc       HS-grad  Married-civ-spouse   \n\n              occupation relationship   race     sex  hours-per-week  \\\n7        Exec-managerial      Husband  White    Male              45   \n10       Exec-managerial      Husband  Black    Male              80   \n55          Tech-support      Husband  White    Male              40   \n67          Adm-clerical         Wife  White  Female              40   \n68       Exec-managerial      Husband  White    Male              50   \n...                  ...          ...    ...     ...             ...   \n32462       Craft-repair      Husband  White    Male              50   \n32518       Craft-repair      Husband  White    Male              40   \n32519    Exec-managerial      Husband  White    Male              48   \n32557  Machine-op-inspct      Husband  White    Male              40   \n32560    Exec-managerial         Wife  White  Female              40   \n\n      native-country salary  salary K$  \n7      United-States   >50K        307  \n10     United-States   >50K        116  \n55     United-States   >50K        341  \n67     United-States   >50K        225  \n68     United-States   >50K        194  \n...              ...    ...        ...  \n32462  United-States   >50K        343  \n32518  United-States   >50K        116  \n32519  United-States   >50K        239  \n32557  United-States   >50K        173  \n32560  United-States   >50K        243  \n\n[3178 rows x 13 columns]",
      "text/html": "<div>\n<style scoped>\n    .dataframe tbody tr th:only-of-type {\n        vertical-align: middle;\n    }\n\n    .dataframe tbody tr th {\n        vertical-align: top;\n    }\n\n    .dataframe thead th {\n        text-align: right;\n    }\n</style>\n<table border=\"1\" class=\"dataframe\">\n  <thead>\n    <tr style=\"text-align: right;\">\n      <th></th>\n      <th>Unnamed: 0</th>\n      <th>age</th>\n      <th>workclass</th>\n      <th>education</th>\n      <th>marital-status</th>\n      <th>occupation</th>\n      <th>relationship</th>\n      <th>race</th>\n      <th>sex</th>\n      <th>hours-per-week</th>\n      <th>native-country</th>\n      <th>salary</th>\n      <th>salary K$</th>\n    </tr>\n  </thead>\n  <tbody>\n    <tr>\n      <th>7</th>\n      <td>7</td>\n      <td>52</td>\n      <td>Self-emp-not-inc</td>\n      <td>HS-grad</td>\n      <td>Married-civ-spouse</td>\n      <td>Exec-managerial</td>\n      <td>Husband</td>\n      <td>White</td>\n      <td>Male</td>\n      <td>45</td>\n      <td>United-States</td>\n      <td>&gt;50K</td>\n      <td>307</td>\n    </tr>\n    <tr>\n      <th>10</th>\n      <td>10</td>\n      <td>37</td>\n      <td>Private</td>\n      <td>Some-college</td>\n      <td>Married-civ-spouse</td>\n      <td>Exec-managerial</td>\n      <td>Husband</td>\n      <td>Black</td>\n      <td>Male</td>\n      <td>80</td>\n      <td>United-States</td>\n      <td>&gt;50K</td>\n      <td>116</td>\n    </tr>\n    <tr>\n      <th>55</th>\n      <td>55</td>\n      <td>43</td>\n      <td>Private</td>\n      <td>Some-college</td>\n      <td>Married-civ-spouse</td>\n      <td>Tech-support</td>\n      <td>Husband</td>\n      <td>White</td>\n      <td>Male</td>\n      <td>40</td>\n      <td>United-States</td>\n      <td>&gt;50K</td>\n      <td>341</td>\n    </tr>\n    <tr>\n      <th>67</th>\n      <td>67</td>\n      <td>53</td>\n      <td>Private</td>\n      <td>HS-grad</td>\n      <td>Married-civ-spouse</td>\n      <td>Adm-clerical</td>\n      <td>Wife</td>\n      <td>White</td>\n      <td>Female</td>\n      <td>40</td>\n      <td>United-States</td>\n      <td>&gt;50K</td>\n      <td>225</td>\n    </tr>\n    <tr>\n      <th>68</th>\n      <td>68</td>\n      <td>49</td>\n      <td>Self-emp-inc</td>\n      <td>Some-college</td>\n      <td>Married-civ-spouse</td>\n      <td>Exec-managerial</td>\n      <td>Husband</td>\n      <td>White</td>\n      <td>Male</td>\n      <td>50</td>\n      <td>United-States</td>\n      <td>&gt;50K</td>\n      <td>194</td>\n    </tr>\n    <tr>\n      <th>...</th>\n      <td>...</td>\n      <td>...</td>\n      <td>...</td>\n      <td>...</td>\n      <td>...</td>\n      <td>...</td>\n      <td>...</td>\n      <td>...</td>\n      <td>...</td>\n      <td>...</td>\n      <td>...</td>\n      <td>...</td>\n      <td>...</td>\n    </tr>\n    <tr>\n      <th>32462</th>\n      <td>32462</td>\n      <td>48</td>\n      <td>Self-emp-inc</td>\n      <td>HS-grad</td>\n      <td>Married-civ-spouse</td>\n      <td>Craft-repair</td>\n      <td>Husband</td>\n      <td>White</td>\n      <td>Male</td>\n      <td>50</td>\n      <td>United-States</td>\n      <td>&gt;50K</td>\n      <td>343</td>\n    </tr>\n    <tr>\n      <th>32518</th>\n      <td>32518</td>\n      <td>57</td>\n      <td>Local-gov</td>\n      <td>HS-grad</td>\n      <td>Married-civ-spouse</td>\n      <td>Craft-repair</td>\n      <td>Husband</td>\n      <td>White</td>\n      <td>Male</td>\n      <td>40</td>\n      <td>United-States</td>\n      <td>&gt;50K</td>\n      <td>116</td>\n    </tr>\n    <tr>\n      <th>32519</th>\n      <td>32519</td>\n      <td>46</td>\n      <td>Private</td>\n      <td>Some-college</td>\n      <td>Married-civ-spouse</td>\n      <td>Exec-managerial</td>\n      <td>Husband</td>\n      <td>White</td>\n      <td>Male</td>\n      <td>48</td>\n      <td>United-States</td>\n      <td>&gt;50K</td>\n      <td>239</td>\n    </tr>\n    <tr>\n      <th>32557</th>\n      <td>32557</td>\n      <td>40</td>\n      <td>Private</td>\n      <td>HS-grad</td>\n      <td>Married-civ-spouse</td>\n      <td>Machine-op-inspct</td>\n      <td>Husband</td>\n      <td>White</td>\n      <td>Male</td>\n      <td>40</td>\n      <td>United-States</td>\n      <td>&gt;50K</td>\n      <td>173</td>\n    </tr>\n    <tr>\n      <th>32560</th>\n      <td>32560</td>\n      <td>52</td>\n      <td>Self-emp-inc</td>\n      <td>HS-grad</td>\n      <td>Married-civ-spouse</td>\n      <td>Exec-managerial</td>\n      <td>Wife</td>\n      <td>White</td>\n      <td>Female</td>\n      <td>40</td>\n      <td>United-States</td>\n      <td>&gt;50K</td>\n      <td>243</td>\n    </tr>\n  </tbody>\n</table>\n<p>3178 rows × 13 columns</p>\n</div>"
     },
     "execution_count": 277,
     "metadata": {},
     "output_type": "execute_result"
    }
   ],
   "source": [
    "mask = (\n",
    "        (~adults[\"education\"].isin([\"Bachelors\", \"Prof-school\", \"Assoc-acdm\", \"Assoc-voc\", \"Masters\", \"Doctorate\"]))\n",
    "        & (adults[\"salary\"] == \">50K\")\n",
    ")\n",
    "adults[mask]"
   ],
   "metadata": {
    "collapsed": false,
    "pycharm": {
     "name": "#%%\n"
    },
    "ExecuteTime": {
     "end_time": "2024-05-02T09:15:16.121172800Z",
     "start_time": "2024-05-02T09:15:15.998721500Z"
    }
   }
  },
  {
   "cell_type": "markdown",
   "source": [
    "# Task 6\n",
    "Get the statistics of age for each type of education. Use `groupby` and `describe` for this."
   ],
   "metadata": {
    "collapsed": false,
    "pycharm": {
     "name": "#%% md\n"
    }
   }
  },
  {
   "cell_type": "code",
   "execution_count": 278,
   "outputs": [
    {
     "data": {
      "text/plain": "             Unnamed: 0                                                      \\\n                  count          mean          std    min      25%      50%   \neducation                                                                     \n10th              820.0  16099.841463  9323.630350  219.0  7860.75  16110.5   \n11th             1048.0  16230.614504  9435.727749    3.0  7773.25  16491.5   \n12th              377.0  17524.734748  9160.712573  415.0  9895.00  18630.0   \n1st-4th           151.0  17502.503311  9788.829534  416.0  9009.00  17445.0   \n5th-6th           288.0  16845.131944  9273.562959   56.0  9557.75  17173.0   \n7th-8th           557.0  16283.675045  9328.136399   15.0  8014.00  16464.0   \n9th               455.0  16306.367033  9438.104861    6.0  7638.50  16734.0   \nAssoc-acdm       1008.0  16667.503968  9503.534369   13.0  8176.00  16897.5   \nAssoc-voc        1307.0  16520.351186  9429.290747   48.0  8453.50  16722.0   \nBachelors        5044.0  16187.880452  9355.163922    0.0  8265.75  16108.0   \nDoctorate         375.0  16600.130667  9141.070844   20.0  9067.50  16573.0   \nHS-grad          9840.0  16166.445935  9338.758443    2.0  8173.75  16058.5   \nMasters          1627.0  16341.271051  9497.768306    5.0  8094.00  16134.0   \nPreschool          45.0  18268.377778  9824.639913  224.0  8775.00  21388.0   \nProf-school       542.0  16724.850554  9575.872379   52.0  8325.50  17072.0   \nSome-college     6678.0  16266.526804  9414.721651   10.0  7986.25  16238.5   \n\n                                    age             ... hours-per-week        \\\n                   75%      max   count       mean  ...            75%   max   \neducation                                           ...                        \n10th          24230.75  32551.0   820.0  37.897561  ...           40.0  99.0   \n11th          24275.25  32522.0  1048.0  32.363550  ...           40.0  99.0   \n12th          25040.00  32535.0   377.0  32.013263  ...           40.0  99.0   \n1st-4th       27132.50  32425.0   151.0  44.622517  ...           40.0  96.0   \n5th-6th       25550.25  32334.0   288.0  41.649306  ...           40.0  75.0   \n7th-8th       24473.00  32517.0   557.0  47.631957  ...           40.0  99.0   \n9th           24516.00  32501.0   455.0  40.303297  ...           40.0  99.0   \nAssoc-acdm    24918.25  32556.0  1008.0  37.286706  ...           45.0  99.0   \nAssoc-voc     24410.50  32552.0  1307.0  38.246366  ...           45.0  99.0   \nBachelors     24284.75  32538.0  5044.0  38.641554  ...           50.0  99.0   \nDoctorate     24299.00  32532.0   375.0  47.130667  ...           55.0  99.0   \nHS-grad       24203.00  32560.0  9840.0  38.640955  ...           44.0  99.0   \nMasters       24705.00  32554.0  1627.0  43.740012  ...           50.0  99.0   \nPreschool     25652.00  32432.0    45.0  41.288889  ...           40.0  75.0   \nProf-school   25123.25  32548.0   542.0  44.249077  ...           55.0  99.0   \nSome-college  24486.75  32555.0  6678.0  36.135370  ...           45.0  99.0   \n\n             salary K$                                                     \\\n                 count        mean         std   min   25%    50%     75%   \neducation                                                                   \n10th             820.0   43.912195   47.890388  15.0  25.0   33.0   43.00   \n11th            1048.0   41.527672   46.846283  15.0  24.0   32.0   42.00   \n12th             377.0   42.761273   47.213033  15.0  24.0   33.0   43.00   \n1st-4th          151.0   37.556291   34.351446  15.0  24.0   31.0   41.50   \n5th-6th          288.0   39.857639   42.081933  15.0  23.0   33.0   43.00   \n7th-8th          557.0   42.095153   47.388376  15.0  24.0   32.0   42.00   \n9th              455.0   43.028571   50.022784  15.0  24.5   33.0   42.00   \nAssoc-acdm      1008.0   75.566468   87.291460  15.0  26.0   38.0   61.25   \nAssoc-voc       1307.0   76.102525   86.446091  15.0  27.0   39.0   64.00   \nBachelors       5044.0  102.832276  101.376121  15.0  29.0   44.0  172.00   \nDoctorate        375.0  156.080000  100.855374  15.0  48.5  152.0  237.00   \nHS-grad         9840.0   60.345122   73.708985  15.0  25.0   35.0   46.00   \nMasters         1627.0  124.615243  104.710469  15.0  35.0   83.0  207.00   \nPreschool         45.0   32.644444    9.556425  15.0  23.0   35.0   39.00   \nProf-school      542.0  156.715867  103.920436  15.0  49.5  147.5  249.00   \nSome-college    6678.0   65.799341   78.161186  15.0  26.0   37.0   47.00   \n\n                     \n                max  \neducation            \n10th          347.0  \n11th          345.0  \n12th          349.0  \n1st-4th       279.0  \n5th-6th       347.0  \n7th-8th       347.0  \n9th           349.0  \nAssoc-acdm    349.0  \nAssoc-voc     349.0  \nBachelors     349.0  \nDoctorate     349.0  \nHS-grad       349.0  \nMasters       349.0  \nPreschool      49.0  \nProf-school   346.0  \nSome-college  349.0  \n\n[16 rows x 32 columns]",
      "text/html": "<div>\n<style scoped>\n    .dataframe tbody tr th:only-of-type {\n        vertical-align: middle;\n    }\n\n    .dataframe tbody tr th {\n        vertical-align: top;\n    }\n\n    .dataframe thead tr th {\n        text-align: left;\n    }\n\n    .dataframe thead tr:last-of-type th {\n        text-align: right;\n    }\n</style>\n<table border=\"1\" class=\"dataframe\">\n  <thead>\n    <tr>\n      <th></th>\n      <th colspan=\"8\" halign=\"left\">Unnamed: 0</th>\n      <th colspan=\"2\" halign=\"left\">age</th>\n      <th>...</th>\n      <th colspan=\"2\" halign=\"left\">hours-per-week</th>\n      <th colspan=\"8\" halign=\"left\">salary K$</th>\n    </tr>\n    <tr>\n      <th></th>\n      <th>count</th>\n      <th>mean</th>\n      <th>std</th>\n      <th>min</th>\n      <th>25%</th>\n      <th>50%</th>\n      <th>75%</th>\n      <th>max</th>\n      <th>count</th>\n      <th>mean</th>\n      <th>...</th>\n      <th>75%</th>\n      <th>max</th>\n      <th>count</th>\n      <th>mean</th>\n      <th>std</th>\n      <th>min</th>\n      <th>25%</th>\n      <th>50%</th>\n      <th>75%</th>\n      <th>max</th>\n    </tr>\n    <tr>\n      <th>education</th>\n      <th></th>\n      <th></th>\n      <th></th>\n      <th></th>\n      <th></th>\n      <th></th>\n      <th></th>\n      <th></th>\n      <th></th>\n      <th></th>\n      <th></th>\n      <th></th>\n      <th></th>\n      <th></th>\n      <th></th>\n      <th></th>\n      <th></th>\n      <th></th>\n      <th></th>\n      <th></th>\n      <th></th>\n    </tr>\n  </thead>\n  <tbody>\n    <tr>\n      <th>10th</th>\n      <td>820.0</td>\n      <td>16099.841463</td>\n      <td>9323.630350</td>\n      <td>219.0</td>\n      <td>7860.75</td>\n      <td>16110.5</td>\n      <td>24230.75</td>\n      <td>32551.0</td>\n      <td>820.0</td>\n      <td>37.897561</td>\n      <td>...</td>\n      <td>40.0</td>\n      <td>99.0</td>\n      <td>820.0</td>\n      <td>43.912195</td>\n      <td>47.890388</td>\n      <td>15.0</td>\n      <td>25.0</td>\n      <td>33.0</td>\n      <td>43.00</td>\n      <td>347.0</td>\n    </tr>\n    <tr>\n      <th>11th</th>\n      <td>1048.0</td>\n      <td>16230.614504</td>\n      <td>9435.727749</td>\n      <td>3.0</td>\n      <td>7773.25</td>\n      <td>16491.5</td>\n      <td>24275.25</td>\n      <td>32522.0</td>\n      <td>1048.0</td>\n      <td>32.363550</td>\n      <td>...</td>\n      <td>40.0</td>\n      <td>99.0</td>\n      <td>1048.0</td>\n      <td>41.527672</td>\n      <td>46.846283</td>\n      <td>15.0</td>\n      <td>24.0</td>\n      <td>32.0</td>\n      <td>42.00</td>\n      <td>345.0</td>\n    </tr>\n    <tr>\n      <th>12th</th>\n      <td>377.0</td>\n      <td>17524.734748</td>\n      <td>9160.712573</td>\n      <td>415.0</td>\n      <td>9895.00</td>\n      <td>18630.0</td>\n      <td>25040.00</td>\n      <td>32535.0</td>\n      <td>377.0</td>\n      <td>32.013263</td>\n      <td>...</td>\n      <td>40.0</td>\n      <td>99.0</td>\n      <td>377.0</td>\n      <td>42.761273</td>\n      <td>47.213033</td>\n      <td>15.0</td>\n      <td>24.0</td>\n      <td>33.0</td>\n      <td>43.00</td>\n      <td>349.0</td>\n    </tr>\n    <tr>\n      <th>1st-4th</th>\n      <td>151.0</td>\n      <td>17502.503311</td>\n      <td>9788.829534</td>\n      <td>416.0</td>\n      <td>9009.00</td>\n      <td>17445.0</td>\n      <td>27132.50</td>\n      <td>32425.0</td>\n      <td>151.0</td>\n      <td>44.622517</td>\n      <td>...</td>\n      <td>40.0</td>\n      <td>96.0</td>\n      <td>151.0</td>\n      <td>37.556291</td>\n      <td>34.351446</td>\n      <td>15.0</td>\n      <td>24.0</td>\n      <td>31.0</td>\n      <td>41.50</td>\n      <td>279.0</td>\n    </tr>\n    <tr>\n      <th>5th-6th</th>\n      <td>288.0</td>\n      <td>16845.131944</td>\n      <td>9273.562959</td>\n      <td>56.0</td>\n      <td>9557.75</td>\n      <td>17173.0</td>\n      <td>25550.25</td>\n      <td>32334.0</td>\n      <td>288.0</td>\n      <td>41.649306</td>\n      <td>...</td>\n      <td>40.0</td>\n      <td>75.0</td>\n      <td>288.0</td>\n      <td>39.857639</td>\n      <td>42.081933</td>\n      <td>15.0</td>\n      <td>23.0</td>\n      <td>33.0</td>\n      <td>43.00</td>\n      <td>347.0</td>\n    </tr>\n    <tr>\n      <th>7th-8th</th>\n      <td>557.0</td>\n      <td>16283.675045</td>\n      <td>9328.136399</td>\n      <td>15.0</td>\n      <td>8014.00</td>\n      <td>16464.0</td>\n      <td>24473.00</td>\n      <td>32517.0</td>\n      <td>557.0</td>\n      <td>47.631957</td>\n      <td>...</td>\n      <td>40.0</td>\n      <td>99.0</td>\n      <td>557.0</td>\n      <td>42.095153</td>\n      <td>47.388376</td>\n      <td>15.0</td>\n      <td>24.0</td>\n      <td>32.0</td>\n      <td>42.00</td>\n      <td>347.0</td>\n    </tr>\n    <tr>\n      <th>9th</th>\n      <td>455.0</td>\n      <td>16306.367033</td>\n      <td>9438.104861</td>\n      <td>6.0</td>\n      <td>7638.50</td>\n      <td>16734.0</td>\n      <td>24516.00</td>\n      <td>32501.0</td>\n      <td>455.0</td>\n      <td>40.303297</td>\n      <td>...</td>\n      <td>40.0</td>\n      <td>99.0</td>\n      <td>455.0</td>\n      <td>43.028571</td>\n      <td>50.022784</td>\n      <td>15.0</td>\n      <td>24.5</td>\n      <td>33.0</td>\n      <td>42.00</td>\n      <td>349.0</td>\n    </tr>\n    <tr>\n      <th>Assoc-acdm</th>\n      <td>1008.0</td>\n      <td>16667.503968</td>\n      <td>9503.534369</td>\n      <td>13.0</td>\n      <td>8176.00</td>\n      <td>16897.5</td>\n      <td>24918.25</td>\n      <td>32556.0</td>\n      <td>1008.0</td>\n      <td>37.286706</td>\n      <td>...</td>\n      <td>45.0</td>\n      <td>99.0</td>\n      <td>1008.0</td>\n      <td>75.566468</td>\n      <td>87.291460</td>\n      <td>15.0</td>\n      <td>26.0</td>\n      <td>38.0</td>\n      <td>61.25</td>\n      <td>349.0</td>\n    </tr>\n    <tr>\n      <th>Assoc-voc</th>\n      <td>1307.0</td>\n      <td>16520.351186</td>\n      <td>9429.290747</td>\n      <td>48.0</td>\n      <td>8453.50</td>\n      <td>16722.0</td>\n      <td>24410.50</td>\n      <td>32552.0</td>\n      <td>1307.0</td>\n      <td>38.246366</td>\n      <td>...</td>\n      <td>45.0</td>\n      <td>99.0</td>\n      <td>1307.0</td>\n      <td>76.102525</td>\n      <td>86.446091</td>\n      <td>15.0</td>\n      <td>27.0</td>\n      <td>39.0</td>\n      <td>64.00</td>\n      <td>349.0</td>\n    </tr>\n    <tr>\n      <th>Bachelors</th>\n      <td>5044.0</td>\n      <td>16187.880452</td>\n      <td>9355.163922</td>\n      <td>0.0</td>\n      <td>8265.75</td>\n      <td>16108.0</td>\n      <td>24284.75</td>\n      <td>32538.0</td>\n      <td>5044.0</td>\n      <td>38.641554</td>\n      <td>...</td>\n      <td>50.0</td>\n      <td>99.0</td>\n      <td>5044.0</td>\n      <td>102.832276</td>\n      <td>101.376121</td>\n      <td>15.0</td>\n      <td>29.0</td>\n      <td>44.0</td>\n      <td>172.00</td>\n      <td>349.0</td>\n    </tr>\n    <tr>\n      <th>Doctorate</th>\n      <td>375.0</td>\n      <td>16600.130667</td>\n      <td>9141.070844</td>\n      <td>20.0</td>\n      <td>9067.50</td>\n      <td>16573.0</td>\n      <td>24299.00</td>\n      <td>32532.0</td>\n      <td>375.0</td>\n      <td>47.130667</td>\n      <td>...</td>\n      <td>55.0</td>\n      <td>99.0</td>\n      <td>375.0</td>\n      <td>156.080000</td>\n      <td>100.855374</td>\n      <td>15.0</td>\n      <td>48.5</td>\n      <td>152.0</td>\n      <td>237.00</td>\n      <td>349.0</td>\n    </tr>\n    <tr>\n      <th>HS-grad</th>\n      <td>9840.0</td>\n      <td>16166.445935</td>\n      <td>9338.758443</td>\n      <td>2.0</td>\n      <td>8173.75</td>\n      <td>16058.5</td>\n      <td>24203.00</td>\n      <td>32560.0</td>\n      <td>9840.0</td>\n      <td>38.640955</td>\n      <td>...</td>\n      <td>44.0</td>\n      <td>99.0</td>\n      <td>9840.0</td>\n      <td>60.345122</td>\n      <td>73.708985</td>\n      <td>15.0</td>\n      <td>25.0</td>\n      <td>35.0</td>\n      <td>46.00</td>\n      <td>349.0</td>\n    </tr>\n    <tr>\n      <th>Masters</th>\n      <td>1627.0</td>\n      <td>16341.271051</td>\n      <td>9497.768306</td>\n      <td>5.0</td>\n      <td>8094.00</td>\n      <td>16134.0</td>\n      <td>24705.00</td>\n      <td>32554.0</td>\n      <td>1627.0</td>\n      <td>43.740012</td>\n      <td>...</td>\n      <td>50.0</td>\n      <td>99.0</td>\n      <td>1627.0</td>\n      <td>124.615243</td>\n      <td>104.710469</td>\n      <td>15.0</td>\n      <td>35.0</td>\n      <td>83.0</td>\n      <td>207.00</td>\n      <td>349.0</td>\n    </tr>\n    <tr>\n      <th>Preschool</th>\n      <td>45.0</td>\n      <td>18268.377778</td>\n      <td>9824.639913</td>\n      <td>224.0</td>\n      <td>8775.00</td>\n      <td>21388.0</td>\n      <td>25652.00</td>\n      <td>32432.0</td>\n      <td>45.0</td>\n      <td>41.288889</td>\n      <td>...</td>\n      <td>40.0</td>\n      <td>75.0</td>\n      <td>45.0</td>\n      <td>32.644444</td>\n      <td>9.556425</td>\n      <td>15.0</td>\n      <td>23.0</td>\n      <td>35.0</td>\n      <td>39.00</td>\n      <td>49.0</td>\n    </tr>\n    <tr>\n      <th>Prof-school</th>\n      <td>542.0</td>\n      <td>16724.850554</td>\n      <td>9575.872379</td>\n      <td>52.0</td>\n      <td>8325.50</td>\n      <td>17072.0</td>\n      <td>25123.25</td>\n      <td>32548.0</td>\n      <td>542.0</td>\n      <td>44.249077</td>\n      <td>...</td>\n      <td>55.0</td>\n      <td>99.0</td>\n      <td>542.0</td>\n      <td>156.715867</td>\n      <td>103.920436</td>\n      <td>15.0</td>\n      <td>49.5</td>\n      <td>147.5</td>\n      <td>249.00</td>\n      <td>346.0</td>\n    </tr>\n    <tr>\n      <th>Some-college</th>\n      <td>6678.0</td>\n      <td>16266.526804</td>\n      <td>9414.721651</td>\n      <td>10.0</td>\n      <td>7986.25</td>\n      <td>16238.5</td>\n      <td>24486.75</td>\n      <td>32555.0</td>\n      <td>6678.0</td>\n      <td>36.135370</td>\n      <td>...</td>\n      <td>45.0</td>\n      <td>99.0</td>\n      <td>6678.0</td>\n      <td>65.799341</td>\n      <td>78.161186</td>\n      <td>15.0</td>\n      <td>26.0</td>\n      <td>37.0</td>\n      <td>47.00</td>\n      <td>349.0</td>\n    </tr>\n  </tbody>\n</table>\n<p>16 rows × 32 columns</p>\n</div>"
     },
     "execution_count": 278,
     "metadata": {},
     "output_type": "execute_result"
    }
   ],
   "source": [
    "adults.groupby(\"education\").describe()"
   ],
   "metadata": {
    "collapsed": false,
    "pycharm": {
     "name": "#%%\n"
    },
    "ExecuteTime": {
     "end_time": "2024-05-02T09:15:16.417012Z",
     "start_time": "2024-05-02T09:15:16.120124Z"
    }
   }
  },
  {
   "cell_type": "markdown",
   "source": [
    "# Task 7\n",
    "Compare the married and non-married men salaries. Who earns more? (>50K or <=50K)\n",
    "Married men are those, whom `marital-status` starts with \"Married\". Others are not."
   ],
   "metadata": {
    "collapsed": false,
    "pycharm": {
     "name": "#%% md\n"
    }
   }
  },
  {
   "cell_type": "code",
   "execution_count": 279,
   "outputs": [
    {
     "name": "stdout",
     "output_type": "stream",
     "text": [
      "Married salary\n",
      "<=50K    7052\n",
      ">50K     5723\n",
      "Name: count, dtype: int64\n",
      "Not married salary\n",
      "<=50K    6932\n",
      ">50K      673\n",
      "Name: count, dtype: int64\n"
     ]
    }
   ],
   "source": [
    "mask = adults[\"marital-status\"].str.startswith(\"Married\")\n",
    "married = adults[(adults[\"sex\"] == \"Male\") & mask][\"salary\"].value_counts()\n",
    "not_married = adults[(adults[\"sex\"] == \"Male\") & (~mask)][\"salary\"].value_counts()\n",
    "\n",
    "print(f\"Married\", married)\n",
    "print(\"Not married\", not_married)"
   ],
   "metadata": {
    "collapsed": false,
    "pycharm": {
     "name": "#%%\n"
    },
    "ExecuteTime": {
     "end_time": "2024-05-02T09:15:16.440406100Z",
     "start_time": "2024-05-02T09:15:16.414380300Z"
    }
   }
  },
  {
   "cell_type": "markdown",
   "source": [
    "# Task 8\n",
    "Get the max hours per week some person works. How many people works the same amount of hours per week?"
   ],
   "metadata": {
    "collapsed": false,
    "pycharm": {
     "name": "#%% md\n"
    }
   }
  },
  {
   "cell_type": "code",
   "execution_count": 280,
   "outputs": [
    {
     "data": {
      "text/plain": "78"
     },
     "execution_count": 280,
     "metadata": {},
     "output_type": "execute_result"
    }
   ],
   "source": [
    "adults[adults[\"hours-per-week\"] == adults[\"hours-per-week\"].max()][\"hours-per-week\"].count()"
   ],
   "metadata": {
    "collapsed": false,
    "pycharm": {
     "name": "#%%\n"
    },
    "ExecuteTime": {
     "end_time": "2024-05-02T09:15:16.726443Z",
     "start_time": "2024-05-02T09:15:16.438312900Z"
    }
   }
  },
  {
   "cell_type": "markdown",
   "source": [
    "# Task 9\n",
    "Analyze the correlation between data in dataset. Understand connected fields in it and print highlight thier connection."
   ],
   "metadata": {
    "collapsed": false,
    "pycharm": {
     "name": "#%% md\n"
    }
   }
  },
  {
   "cell_type": "code",
   "execution_count": 281,
   "outputs": [
    {
     "data": {
      "text/plain": "                              Unnamed: 0       age  hours-per-week  salary K$  \\\nUnnamed: 0                      1.000000 -0.001126       -0.001890   0.000129   \nage                            -0.001126  1.000000        0.101599   0.208203   \nhours-per-week                 -0.001890  0.101599        1.000000   0.196378   \nsalary K$                       0.000129  0.208203        0.196378   1.000000   \nworkclass_Federal-gov           0.000275  0.056626        0.005229   0.050512   \n...                                  ...       ...             ...        ...   \nnative-country_United-States    0.001993  0.016259        0.010673   0.034000   \nnative-country_Vietnam         -0.000928 -0.017775       -0.010381  -0.014737   \nnative-country_Yugoslavia       0.004350  0.000657        0.006983   0.008560   \nsalary_<=50K                   -0.006244 -0.241998       -0.229480  -0.853894   \nsalary_>50K                     0.006244  0.241998        0.229480   0.853894   \n\n                              workclass_Federal-gov  workclass_Local-gov  \\\nUnnamed: 0                                 0.000275            -0.000933   \nage                                        0.056626             0.068256   \nhours-per-week                             0.005229             0.001612   \nsalary K$                                  0.050512             0.025856   \nworkclass_Federal-gov                      1.000000            -0.048728   \n...                                             ...                  ...   \nnative-country_United-States               0.017541             0.032937   \nnative-country_Vietnam                    -0.000004            -0.003952   \nnative-country_Yugoslavia                 -0.004139            -0.000550   \nsalary_<=50K                              -0.057394            -0.028673   \nsalary_>50K                                0.057394             0.028673   \n\n                              workclass_Private  workclass_Self-emp-inc  \\\nUnnamed: 0                             0.005641               -0.003275   \nage                                   -0.210491                0.111039   \nhours-per-week                        -0.095533                0.126254   \nsalary K$                             -0.098187                0.119222   \nworkclass_Federal-gov                 -0.302194               -0.034520   \n...                                         ...                     ...   \nnative-country_United-States          -0.049809                0.007350   \nnative-country_Vietnam                 0.009369               -0.004973   \nnative-country_Yugoslavia              0.003861                0.003343   \nsalary_<=50K                           0.117218               -0.137646   \nsalary_>50K                           -0.117218                0.137646   \n\n                              workclass_Self-emp-not-inc  workclass_State-gov  \\\nUnnamed: 0                                     -0.006005            -0.001250   \nage                                             0.150429             0.014805   \nhours-per-week                                  0.087835            -0.032976   \nsalary K$                                       0.019587             0.002678   \nworkclass_Federal-gov                          -0.053995            -0.037804   \n...                                                  ...                  ...   \nnative-country_United-States                    0.014520             0.025370   \nnative-country_Vietnam                         -0.003405            -0.006128   \nnative-country_Yugoslavia                      -0.001701            -0.004848   \nsalary_<=50K                                   -0.025575            -0.009752   \nsalary_>50K                                     0.025575             0.009752   \n\n                              ...  native-country_Scotland  \\\nUnnamed: 0                    ...                 0.002413   \nage                           ...                 0.000024   \nhours-per-week                ...                 0.000689   \nsalary K$                     ...                -0.001498   \nworkclass_Federal-gov         ...                -0.003431   \n...                           ...                      ...   \nnative-country_United-States  ...                -0.061442   \nnative-country_Vietnam        ...                -0.000881   \nnative-country_Yugoslavia     ...                -0.000440   \nsalary_<=50K                  ...                 0.002964   \nsalary_>50K                   ...                -0.002964   \n\n                              native-country_South  native-country_Taiwan  \\\nUnnamed: 0                               -0.003646              -0.005262   \nage                                       0.001923              -0.007879   \nhours-per-week                            0.014328              -0.000305   \nsalary K$                                -0.006514               0.016939   \nworkclass_Federal-gov                    -0.004795              -0.006708   \n...                                            ...                    ...   \nnative-country_United-States             -0.156254              -0.120121   \nnative-country_Vietnam                   -0.002240              -0.001722   \nnative-country_Yugoslavia                -0.001119              -0.000860   \nsalary_<=50K                              0.005812              -0.017571   \nsalary_>50K                              -0.005812               0.017571   \n\n                              native-country_Thailand  \\\nUnnamed: 0                                  -0.002669   \nage                                         -0.004940   \nhours-per-week                               0.012846   \nsalary K$                                   -0.000891   \nworkclass_Federal-gov                       -0.004266   \n...                                               ...   \nnative-country_United-States                -0.076390   \nnative-country_Vietnam                      -0.001095   \nnative-country_Yugoslavia                   -0.000547   \nsalary_<=50K                                 0.003979   \nsalary_>50K                                 -0.003979   \n\n                              native-country_Trinadad&Tobago  \\\nUnnamed: 0                                          0.007442   \nage                                                 0.007868   \nhours-per-week                                     -0.007566   \nsalary K$                                          -0.003442   \nworkclass_Federal-gov                              -0.004390   \n...                                                      ...   \nnative-country_United-States                       -0.078606   \nnative-country_Vietnam                             -0.001127   \nnative-country_Yugoslavia                          -0.000563   \nsalary_<=50K                                        0.007788   \nsalary_>50K                                        -0.007788   \n\n                              native-country_United-States  \\\nUnnamed: 0                                        0.001993   \nage                                               0.016259   \nhours-per-week                                    0.010673   \nsalary K$                                         0.034000   \nworkclass_Federal-gov                             0.017541   \n...                                                    ...   \nnative-country_United-States                      1.000000   \nnative-country_Vietnam                           -0.148334   \nnative-country_Yugoslavia                        -0.074108   \nsalary_<=50K                                     -0.040204   \nsalary_>50K                                       0.040204   \n\n                              native-country_Vietnam  \\\nUnnamed: 0                                 -0.000928   \nage                                        -0.017775   \nhours-per-week                             -0.010381   \nsalary K$                                  -0.014737   \nworkclass_Federal-gov                      -0.000004   \n...                                              ...   \nnative-country_United-States               -0.148334   \nnative-country_Vietnam                      1.000000   \nnative-country_Yugoslavia                  -0.001062   \nsalary_<=50K                                0.018215   \nsalary_>50K                                -0.018215   \n\n                              native-country_Yugoslavia  salary_<=50K  \\\nUnnamed: 0                                     0.004350     -0.006244   \nage                                            0.000657     -0.241998   \nhours-per-week                                 0.006983     -0.229480   \nsalary K$                                      0.008560     -0.853894   \nworkclass_Federal-gov                         -0.004139     -0.057394   \n...                                                 ...           ...   \nnative-country_United-States                  -0.074108     -0.040204   \nnative-country_Vietnam                        -0.001062      0.018215   \nnative-country_Yugoslavia                      1.000000     -0.006718   \nsalary_<=50K                                  -0.006718      1.000000   \nsalary_>50K                                    0.006718     -1.000000   \n\n                              salary_>50K  \nUnnamed: 0                       0.006244  \nage                              0.241998  \nhours-per-week                   0.229480  \nsalary K$                        0.853894  \nworkclass_Federal-gov            0.057394  \n...                                   ...  \nnative-country_United-States     0.040204  \nnative-country_Vietnam          -0.018215  \nnative-country_Yugoslavia        0.006718  \nsalary_<=50K                    -1.000000  \nsalary_>50K                      1.000000  \n\n[104 rows x 104 columns]",
      "text/html": "<div>\n<style scoped>\n    .dataframe tbody tr th:only-of-type {\n        vertical-align: middle;\n    }\n\n    .dataframe tbody tr th {\n        vertical-align: top;\n    }\n\n    .dataframe thead th {\n        text-align: right;\n    }\n</style>\n<table border=\"1\" class=\"dataframe\">\n  <thead>\n    <tr style=\"text-align: right;\">\n      <th></th>\n      <th>Unnamed: 0</th>\n      <th>age</th>\n      <th>hours-per-week</th>\n      <th>salary K$</th>\n      <th>workclass_Federal-gov</th>\n      <th>workclass_Local-gov</th>\n      <th>workclass_Private</th>\n      <th>workclass_Self-emp-inc</th>\n      <th>workclass_Self-emp-not-inc</th>\n      <th>workclass_State-gov</th>\n      <th>...</th>\n      <th>native-country_Scotland</th>\n      <th>native-country_South</th>\n      <th>native-country_Taiwan</th>\n      <th>native-country_Thailand</th>\n      <th>native-country_Trinadad&amp;Tobago</th>\n      <th>native-country_United-States</th>\n      <th>native-country_Vietnam</th>\n      <th>native-country_Yugoslavia</th>\n      <th>salary_&lt;=50K</th>\n      <th>salary_&gt;50K</th>\n    </tr>\n  </thead>\n  <tbody>\n    <tr>\n      <th>Unnamed: 0</th>\n      <td>1.000000</td>\n      <td>-0.001126</td>\n      <td>-0.001890</td>\n      <td>0.000129</td>\n      <td>0.000275</td>\n      <td>-0.000933</td>\n      <td>0.005641</td>\n      <td>-0.003275</td>\n      <td>-0.006005</td>\n      <td>-0.001250</td>\n      <td>...</td>\n      <td>0.002413</td>\n      <td>-0.003646</td>\n      <td>-0.005262</td>\n      <td>-0.002669</td>\n      <td>0.007442</td>\n      <td>0.001993</td>\n      <td>-0.000928</td>\n      <td>0.004350</td>\n      <td>-0.006244</td>\n      <td>0.006244</td>\n    </tr>\n    <tr>\n      <th>age</th>\n      <td>-0.001126</td>\n      <td>1.000000</td>\n      <td>0.101599</td>\n      <td>0.208203</td>\n      <td>0.056626</td>\n      <td>0.068256</td>\n      <td>-0.210491</td>\n      <td>0.111039</td>\n      <td>0.150429</td>\n      <td>0.014805</td>\n      <td>...</td>\n      <td>0.000024</td>\n      <td>0.001923</td>\n      <td>-0.007879</td>\n      <td>-0.004940</td>\n      <td>0.007868</td>\n      <td>0.016259</td>\n      <td>-0.017775</td>\n      <td>0.000657</td>\n      <td>-0.241998</td>\n      <td>0.241998</td>\n    </tr>\n    <tr>\n      <th>hours-per-week</th>\n      <td>-0.001890</td>\n      <td>0.101599</td>\n      <td>1.000000</td>\n      <td>0.196378</td>\n      <td>0.005229</td>\n      <td>0.001612</td>\n      <td>-0.095533</td>\n      <td>0.126254</td>\n      <td>0.087835</td>\n      <td>-0.032976</td>\n      <td>...</td>\n      <td>0.000689</td>\n      <td>0.014328</td>\n      <td>-0.000305</td>\n      <td>0.012846</td>\n      <td>-0.007566</td>\n      <td>0.010673</td>\n      <td>-0.010381</td>\n      <td>0.006983</td>\n      <td>-0.229480</td>\n      <td>0.229480</td>\n    </tr>\n    <tr>\n      <th>salary K$</th>\n      <td>0.000129</td>\n      <td>0.208203</td>\n      <td>0.196378</td>\n      <td>1.000000</td>\n      <td>0.050512</td>\n      <td>0.025856</td>\n      <td>-0.098187</td>\n      <td>0.119222</td>\n      <td>0.019587</td>\n      <td>0.002678</td>\n      <td>...</td>\n      <td>-0.001498</td>\n      <td>-0.006514</td>\n      <td>0.016939</td>\n      <td>-0.000891</td>\n      <td>-0.003442</td>\n      <td>0.034000</td>\n      <td>-0.014737</td>\n      <td>0.008560</td>\n      <td>-0.853894</td>\n      <td>0.853894</td>\n    </tr>\n    <tr>\n      <th>workclass_Federal-gov</th>\n      <td>0.000275</td>\n      <td>0.056626</td>\n      <td>0.005229</td>\n      <td>0.050512</td>\n      <td>1.000000</td>\n      <td>-0.048728</td>\n      <td>-0.302194</td>\n      <td>-0.034520</td>\n      <td>-0.053995</td>\n      <td>-0.037804</td>\n      <td>...</td>\n      <td>-0.003431</td>\n      <td>-0.004795</td>\n      <td>-0.006708</td>\n      <td>-0.004266</td>\n      <td>-0.004390</td>\n      <td>0.017541</td>\n      <td>-0.000004</td>\n      <td>-0.004139</td>\n      <td>-0.057394</td>\n      <td>0.057394</td>\n    </tr>\n    <tr>\n      <th>...</th>\n      <td>...</td>\n      <td>...</td>\n      <td>...</td>\n      <td>...</td>\n      <td>...</td>\n      <td>...</td>\n      <td>...</td>\n      <td>...</td>\n      <td>...</td>\n      <td>...</td>\n      <td>...</td>\n      <td>...</td>\n      <td>...</td>\n      <td>...</td>\n      <td>...</td>\n      <td>...</td>\n      <td>...</td>\n      <td>...</td>\n      <td>...</td>\n      <td>...</td>\n      <td>...</td>\n    </tr>\n    <tr>\n      <th>native-country_United-States</th>\n      <td>0.001993</td>\n      <td>0.016259</td>\n      <td>0.010673</td>\n      <td>0.034000</td>\n      <td>0.017541</td>\n      <td>0.032937</td>\n      <td>-0.049809</td>\n      <td>0.007350</td>\n      <td>0.014520</td>\n      <td>0.025370</td>\n      <td>...</td>\n      <td>-0.061442</td>\n      <td>-0.156254</td>\n      <td>-0.120121</td>\n      <td>-0.076390</td>\n      <td>-0.078606</td>\n      <td>1.000000</td>\n      <td>-0.148334</td>\n      <td>-0.074108</td>\n      <td>-0.040204</td>\n      <td>0.040204</td>\n    </tr>\n    <tr>\n      <th>native-country_Vietnam</th>\n      <td>-0.000928</td>\n      <td>-0.017775</td>\n      <td>-0.010381</td>\n      <td>-0.014737</td>\n      <td>-0.000004</td>\n      <td>-0.003952</td>\n      <td>0.009369</td>\n      <td>-0.004973</td>\n      <td>-0.003405</td>\n      <td>-0.006128</td>\n      <td>...</td>\n      <td>-0.000881</td>\n      <td>-0.002240</td>\n      <td>-0.001722</td>\n      <td>-0.001095</td>\n      <td>-0.001127</td>\n      <td>-0.148334</td>\n      <td>1.000000</td>\n      <td>-0.001062</td>\n      <td>0.018215</td>\n      <td>-0.018215</td>\n    </tr>\n    <tr>\n      <th>native-country_Yugoslavia</th>\n      <td>0.004350</td>\n      <td>0.000657</td>\n      <td>0.006983</td>\n      <td>0.008560</td>\n      <td>-0.004139</td>\n      <td>-0.000550</td>\n      <td>0.003861</td>\n      <td>0.003343</td>\n      <td>-0.001701</td>\n      <td>-0.004848</td>\n      <td>...</td>\n      <td>-0.000440</td>\n      <td>-0.001119</td>\n      <td>-0.000860</td>\n      <td>-0.000547</td>\n      <td>-0.000563</td>\n      <td>-0.074108</td>\n      <td>-0.001062</td>\n      <td>1.000000</td>\n      <td>-0.006718</td>\n      <td>0.006718</td>\n    </tr>\n    <tr>\n      <th>salary_&lt;=50K</th>\n      <td>-0.006244</td>\n      <td>-0.241998</td>\n      <td>-0.229480</td>\n      <td>-0.853894</td>\n      <td>-0.057394</td>\n      <td>-0.028673</td>\n      <td>0.117218</td>\n      <td>-0.137646</td>\n      <td>-0.025575</td>\n      <td>-0.009752</td>\n      <td>...</td>\n      <td>0.002964</td>\n      <td>0.005812</td>\n      <td>-0.017571</td>\n      <td>0.003979</td>\n      <td>0.007788</td>\n      <td>-0.040204</td>\n      <td>0.018215</td>\n      <td>-0.006718</td>\n      <td>1.000000</td>\n      <td>-1.000000</td>\n    </tr>\n    <tr>\n      <th>salary_&gt;50K</th>\n      <td>0.006244</td>\n      <td>0.241998</td>\n      <td>0.229480</td>\n      <td>0.853894</td>\n      <td>0.057394</td>\n      <td>0.028673</td>\n      <td>-0.117218</td>\n      <td>0.137646</td>\n      <td>0.025575</td>\n      <td>0.009752</td>\n      <td>...</td>\n      <td>-0.002964</td>\n      <td>-0.005812</td>\n      <td>0.017571</td>\n      <td>-0.003979</td>\n      <td>-0.007788</td>\n      <td>0.040204</td>\n      <td>-0.018215</td>\n      <td>0.006718</td>\n      <td>-1.000000</td>\n      <td>1.000000</td>\n    </tr>\n  </tbody>\n</table>\n<p>104 rows × 104 columns</p>\n</div>"
     },
     "execution_count": 281,
     "metadata": {},
     "output_type": "execute_result"
    }
   ],
   "source": [
    "pd.get_dummies(adults).corr()"
   ],
   "metadata": {
    "collapsed": false,
    "pycharm": {
     "name": "#%%\n"
    },
    "ExecuteTime": {
     "end_time": "2024-05-02T09:15:18.046923100Z",
     "start_time": "2024-05-02T09:15:16.540927700Z"
    }
   }
  }
 ],
 "metadata": {
  "kernelspec": {
   "display_name": "Python 3",
   "language": "python",
   "name": "python3"
  },
  "language_info": {
   "codemirror_mode": {
    "name": "ipython",
    "version": 2
   },
   "file_extension": ".py",
   "mimetype": "text/x-python",
   "name": "python",
   "nbconvert_exporter": "python",
   "pygments_lexer": "ipython2",
   "version": "2.7.6"
  }
 },
 "nbformat": 4,
 "nbformat_minor": 0
}
