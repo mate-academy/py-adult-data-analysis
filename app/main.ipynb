{
 "cells": [
  {
   "cell_type": "code",
   "execution_count": 2,
   "outputs": [],
   "source": [
    "import numpy as np\n",
    "import pandas as pd\n",
    "import matplotlib.pyplot as plt"
   ],
   "metadata": {
    "collapsed": false,
    "pycharm": {
     "name": "#%%\n"
    },
    "ExecuteTime": {
     "end_time": "2024-01-26T11:17:58.933823900Z",
     "start_time": "2024-01-26T11:17:27.611499600Z"
    }
   }
  },
  {
   "cell_type": "markdown",
   "source": [
    "# Task 0\n",
    "Read the dataset from csv file & perform data cleaning - remove all rows, which contains `?` in some columns.\n",
    "Also check for data correctness (salary & salary $K)."
   ],
   "metadata": {
    "collapsed": false,
    "pycharm": {
     "name": "#%% md\n"
    }
   }
  },
  {
   "cell_type": "code",
   "execution_count": 3,
   "outputs": [
    {
     "name": "stdout",
     "output_type": "stream",
     "text": [
      "Empty DataFrame\n",
      "Columns: [age, workclass, education, marital-status, occupation, relationship, race, sex, hours-per-week, native-country, salary, salary K$]\n",
      "Index: []\n",
      "Empty DataFrame\n",
      "Columns: [age, workclass, education, marital-status, occupation, relationship, race, sex, hours-per-week, native-country, salary, salary K$]\n",
      "Index: []\n"
     ]
    }
   ],
   "source": [
    "data = pd.read_csv(\"../data/adult.csv\", index_col=[0])\n",
    "data.replace(\"?\", np.nan)\n",
    "data.dropna()\n",
    "print(data.loc[(data[\"salary\"] == \">50K\") & (data[\"salary K$\"] <= 50)])\n",
    "print(data.loc[(data[\"salary\"] == \"<=50K\") & (data[\"salary K$\"] > 50)])"
   ],
   "metadata": {
    "collapsed": false,
    "pycharm": {
     "name": "#%%\n"
    },
    "ExecuteTime": {
     "end_time": "2024-01-26T11:17:59.882750700Z",
     "start_time": "2024-01-26T11:17:58.930823Z"
    }
   }
  },
  {
   "cell_type": "markdown",
   "source": [
    "# Task 1\n",
    "Print the count of men and women in the dataset."
   ],
   "metadata": {
    "collapsed": false,
    "pycharm": {
     "name": "#%% md\n"
    }
   }
  },
  {
   "cell_type": "code",
   "execution_count": 4,
   "outputs": [
    {
     "name": "stdout",
     "output_type": "stream",
     "text": [
      "Count of men: 21790\n",
      "Count of women: 10771\n"
     ]
    }
   ],
   "source": [
    "men_count = data[data[\"sex\"] == \"Male\"].shape[0]\n",
    "women_count = data[data[\"sex\"] == \"Female\"].shape[0]\n",
    "\n",
    "print(\"Count of men:\", men_count)\n",
    "print(\"Count of women:\", women_count)"
   ],
   "metadata": {
    "collapsed": false,
    "pycharm": {
     "name": "#%%\n"
    },
    "ExecuteTime": {
     "end_time": "2024-01-26T11:18:00.307379600Z",
     "start_time": "2024-01-26T11:17:59.943750100Z"
    }
   }
  },
  {
   "cell_type": "markdown",
   "source": [
    "# Task 2\n",
    "Find the average age of men in dataset"
   ],
   "metadata": {
    "collapsed": false,
    "pycharm": {
     "name": "#%% md\n"
    }
   }
  },
  {
   "cell_type": "code",
   "execution_count": 5,
   "outputs": [
    {
     "data": {
      "text/plain": "39.0"
     },
     "execution_count": 5,
     "metadata": {},
     "output_type": "execute_result"
    }
   ],
   "source": [
    "men = data[data[\"sex\"] == \"Male\"]\n",
    "men[\"age\"].mean().round()"
   ],
   "metadata": {
    "collapsed": false,
    "pycharm": {
     "name": "#%%\n"
    },
    "ExecuteTime": {
     "end_time": "2024-01-26T11:18:00.866908600Z",
     "start_time": "2024-01-26T11:18:00.187380500Z"
    }
   }
  },
  {
   "cell_type": "markdown",
   "source": [
    "# Task 3\n",
    "Get the percentage of people from Poland (native-country)"
   ],
   "metadata": {
    "collapsed": false,
    "pycharm": {
     "name": "#%% md\n"
    }
   }
  },
  {
   "cell_type": "code",
   "execution_count": 6,
   "outputs": [
    {
     "name": "stdout",
     "output_type": "stream",
     "text": [
      "Percentage of people from Poland: 0.18%\n"
     ]
    }
   ],
   "source": [
    "people = data[data[\"native-country\"] == \"Poland\"].shape[0] * 100 / data.shape[0]\n",
    "print(f\"Percentage of people from Poland: {people:.2f}%\")"
   ],
   "metadata": {
    "collapsed": false,
    "pycharm": {
     "name": "#%%\n"
    },
    "ExecuteTime": {
     "end_time": "2024-01-26T11:18:01.216907Z",
     "start_time": "2024-01-26T11:18:00.771907600Z"
    }
   }
  },
  {
   "cell_type": "markdown",
   "source": [
    "# Task 4\n",
    "Get the mean and standard deviation of the age for people who earn > 50K per year. After this, get it for those who earn <= 50K."
   ],
   "metadata": {
    "collapsed": false,
    "pycharm": {
     "name": "#%% md\n"
    }
   }
  },
  {
   "cell_type": "code",
   "execution_count": 7,
   "outputs": [
    {
     "data": {
      "text/plain": "  salary   mean    std\n0  <=50K  36.78  14.02\n1   >50K  44.25  10.52",
      "text/html": "<div>\n<style scoped>\n    .dataframe tbody tr th:only-of-type {\n        vertical-align: middle;\n    }\n\n    .dataframe tbody tr th {\n        vertical-align: top;\n    }\n\n    .dataframe thead th {\n        text-align: right;\n    }\n</style>\n<table border=\"1\" class=\"dataframe\">\n  <thead>\n    <tr style=\"text-align: right;\">\n      <th></th>\n      <th>salary</th>\n      <th>mean</th>\n      <th>std</th>\n    </tr>\n  </thead>\n  <tbody>\n    <tr>\n      <th>0</th>\n      <td>&lt;=50K</td>\n      <td>36.78</td>\n      <td>14.02</td>\n    </tr>\n    <tr>\n      <th>1</th>\n      <td>&gt;50K</td>\n      <td>44.25</td>\n      <td>10.52</td>\n    </tr>\n  </tbody>\n</table>\n</div>"
     },
     "execution_count": 7,
     "metadata": {},
     "output_type": "execute_result"
    }
   ],
   "source": [
    "result = data.groupby(\"salary\")[\"age\"].agg([\"mean\", \"std\"]).round(2).reset_index()\n",
    "result"
   ],
   "metadata": {
    "collapsed": false,
    "pycharm": {
     "name": "#%%\n"
    },
    "ExecuteTime": {
     "end_time": "2024-01-26T11:18:02.014772300Z",
     "start_time": "2024-01-26T11:18:00.919004900Z"
    }
   }
  },
  {
   "cell_type": "markdown",
   "source": [
    "# Task 5\n",
    "Check, if there are some people without higher education (education: Bachelors, Prof-school, Assoc-acdm, Assoc-voc, Masters, Doctorate), but with > 50K salary"
   ],
   "metadata": {
    "collapsed": false,
    "pycharm": {
     "name": "#%% md\n"
    }
   }
  },
  {
   "cell_type": "code",
   "execution_count": 9,
   "outputs": [
    {
     "data": {
      "text/plain": "3306"
     },
     "execution_count": 9,
     "metadata": {},
     "output_type": "execute_result"
    }
   ],
   "source": [
    "higher_education = [\"Bachelors\", \"Prof-school\", \"Assoc-acdm\", \"Assoc-voc\", \"Masters\", \"Doctorate\"]\n",
    "higher_salary = data[data[\"salary\"] == \">50K\"]\n",
    "higher_salary[~higher_salary[\"education\"].isin(higher_education)].shape[0]"
   ],
   "metadata": {
    "collapsed": false,
    "pycharm": {
     "name": "#%%\n"
    },
    "ExecuteTime": {
     "end_time": "2024-01-26T11:28:22.619770300Z",
     "start_time": "2024-01-26T11:28:20.660675700Z"
    }
   }
  },
  {
   "cell_type": "markdown",
   "source": [
    "# Task 6\n",
    "Get the statistics of age for each type of education. Use `groupby` and `describe` for this."
   ],
   "metadata": {
    "collapsed": false,
    "pycharm": {
     "name": "#%% md\n"
    }
   }
  },
  {
   "cell_type": "code",
   "execution_count": null,
   "outputs": [],
   "source": [
    "data.groupby(\"education\")[\"age\"].describe()"
   ],
   "metadata": {
    "collapsed": false,
    "pycharm": {
     "name": "#%%\n"
    },
    "ExecuteTime": {
     "start_time": "2024-01-26T11:18:07.957964500Z"
    }
   }
  },
  {
   "cell_type": "markdown",
   "source": [
    "# Task 7\n",
    "Compare the married and non-married men salaries. Who earns more? (>50K or <=50K)\n",
    "Married men are those, whom `marital-status` starts with \"Married\". Others are not."
   ],
   "metadata": {
    "collapsed": false,
    "pycharm": {
     "name": "#%% md\n"
    }
   }
  },
  {
   "cell_type": "code",
   "execution_count": null,
   "outputs": [],
   "source": [
    "married = data[data[\"marital-status\"].str.startswith(\"Married\")]\n",
    "unmarried = data[~data[\"marital-status\"].str.startswith(\"Married\")]\n",
    "married_high_salary = married[married[\"salary\"] == \">50K\"].shape[0] * 100 / married.shape[0]\n",
    "unmarried_high_salary = unmarried[unmarried[\"salary\"] == \">50K\"].shape[0] * 100 / unmarried.shape[0]\n",
    "\n",
    "plt.subplot(1, 2, 1)\n",
    "labels_1 = [\">50K\", \"<=50k\"]\n",
    "people_share_1 = [married_high_salary, 100 - married_high_salary]\n",
    "plt.pie(people_share_1, labels=labels_1, autopct=\"%1.1f%%\", startangle=60)\n",
    "plt.title(\"Salary of married people\")\n",
    "\n",
    "plt.subplot(1, 2, 2)\n",
    "labels_2 = [\">50K\", \"<=50k\"]\n",
    "people_share_2 = [unmarried_high_salary, 100 - unmarried_high_salary]\n",
    "plt.pie(people_share_2, labels=labels_2, autopct=\"%1.1f%%\", startangle=60)\n",
    "plt.title(\"Salary of unmarried people\")\n",
    "\n",
    "plt.show()"
   ],
   "metadata": {
    "collapsed": false,
    "pycharm": {
     "name": "#%%\n"
    },
    "ExecuteTime": {
     "start_time": "2024-01-26T11:18:08.053962100Z"
    }
   }
  },
  {
   "cell_type": "markdown",
   "source": [
    "# Task 8\n",
    "Get the max hours per week some person works. How many people works the same amount of hours per week?"
   ],
   "metadata": {
    "collapsed": false,
    "pycharm": {
     "name": "#%% md\n"
    }
   }
  },
  {
   "cell_type": "code",
   "execution_count": null,
   "outputs": [],
   "source": [
    "max_hours = data[\"hours-per-week\"].max()\n",
    "hard_workers = data[data[\"hours-per-week\"] == max_hours].shape[0]\n",
    "print(f\"Max hours per week some person works - {max_hours}\")\n",
    "print(f\"People works max hours per week - {hard_workers}\")"
   ],
   "metadata": {
    "collapsed": false,
    "pycharm": {
     "name": "#%%\n"
    },
    "ExecuteTime": {
     "start_time": "2024-01-26T11:18:08.132965600Z"
    }
   }
  },
  {
   "cell_type": "markdown",
   "source": [
    "# Task 9\n",
    "Analyze the correlation between data in dataset. Understand connected fields in it and print highlight thier connection."
   ],
   "metadata": {
    "collapsed": false,
    "pycharm": {
     "name": "#%% md\n"
    }
   }
  },
  {
   "cell_type": "code",
   "execution_count": null,
   "outputs": [],
   "source": [
    "data[\"marital-status\"] = data[\"marital-status\"].replace({\"^Married.*\": 1, \".*\": 0}, regex=True)\n",
    "data[\"sex\"] = data[\"sex\"].replace({\"Female\": 1, \"Male\": 0}, regex=True)\n",
    "selected_columns = [\"age\", \"marital-status\", \"sex\", \"hours-per-week\", \"salary K$\"]\n",
    "correlation_matrix = data[selected_columns].corr()\n",
    "print(\"There is a weak dependence between the indicators.\\n\"\n",
    "      \"The most independent variables are hours-per-week and age.\\n\"\n",
    "      \"There is a positive correlation of 0.37 between marital-status and salary\\n\"\n",
    "      \"This may indicate higher wages for married people\")\n",
    "correlation_matrix"
   ],
   "metadata": {
    "collapsed": false,
    "pycharm": {
     "name": "#%%\n"
    },
    "ExecuteTime": {
     "start_time": "2024-01-26T11:18:08.145965Z"
    }
   }
  }
 ],
 "metadata": {
  "kernelspec": {
   "display_name": "Python 3",
   "language": "python",
   "name": "python3"
  },
  "language_info": {
   "codemirror_mode": {
    "name": "ipython",
    "version": 2
   },
   "file_extension": ".py",
   "mimetype": "text/x-python",
   "name": "python",
   "nbconvert_exporter": "python",
   "pygments_lexer": "ipython2",
   "version": "2.7.6"
  }
 },
 "nbformat": 4,
 "nbformat_minor": 0
}
