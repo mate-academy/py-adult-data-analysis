{
 "cells": [
  {
   "cell_type": "code",
   "source": [
    "import numpy as np\n",
    "import pandas as pd"
   ],
   "metadata": {
    "collapsed": false,
    "pycharm": {
     "name": "#%%\n"
    },
    "ExecuteTime": {
     "end_time": "2024-07-10T16:35:52.768201Z",
     "start_time": "2024-07-10T16:35:52.764669Z"
    }
   },
   "outputs": [],
   "execution_count": 7
  },
  {
   "cell_type": "markdown",
   "source": [
    "# Task 0\n",
    "Read the dataset from csv file & perform data cleaning - remove all rows, which contains `?` in some columns.\n",
    "Also check for data correctness (salary & salary $K)."
   ],
   "metadata": {
    "collapsed": false,
    "pycharm": {
     "name": "#%% md\n"
    }
   }
  },
  {
   "cell_type": "code",
   "source": [
    "df = pd.read_csv(\"../data/adult.csv\", index_col=0)\n",
    "df_cleaned = df.replace(\"?\", pd.NA).dropna()\n",
    "\n",
    "\n",
    "def check_salary_consistency(row):\n",
    "    if row[\"salary\"] == \"<=50K\" and row[\"salary K$\"] <= 50:\n",
    "        return True\n",
    "    elif row[\"salary\"] == \">50K\" and row[\"salary K$\"] > 50:\n",
    "        return True\n",
    "    return False\n",
    "\n",
    "\n",
    "df_corrected = df_cleaned[df_cleaned.apply(check_salary_consistency, axis=1)]\n",
    "df.head(20)"
   ],
   "metadata": {
    "collapsed": false,
    "pycharm": {
     "name": "#%%\n"
    },
    "ExecuteTime": {
     "end_time": "2024-07-10T16:50:22.608775Z",
     "start_time": "2024-07-10T16:50:22.273029Z"
    }
   },
   "outputs": [
    {
     "data": {
      "text/plain": [
       "    age         workclass     education         marital-status  \\\n",
       "0    39         State-gov     Bachelors          Never-married   \n",
       "1    50  Self-emp-not-inc     Bachelors     Married-civ-spouse   \n",
       "2    38           Private       HS-grad               Divorced   \n",
       "3    53           Private          11th     Married-civ-spouse   \n",
       "4    28           Private     Bachelors     Married-civ-spouse   \n",
       "5    37           Private       Masters     Married-civ-spouse   \n",
       "6    49           Private           9th  Married-spouse-absent   \n",
       "7    52  Self-emp-not-inc       HS-grad     Married-civ-spouse   \n",
       "8    31           Private       Masters          Never-married   \n",
       "9    42           Private     Bachelors     Married-civ-spouse   \n",
       "10   37           Private  Some-college     Married-civ-spouse   \n",
       "11   30         State-gov     Bachelors     Married-civ-spouse   \n",
       "12   23           Private     Bachelors          Never-married   \n",
       "13   32           Private    Assoc-acdm          Never-married   \n",
       "14   40           Private     Assoc-voc     Married-civ-spouse   \n",
       "15   34           Private       7th-8th     Married-civ-spouse   \n",
       "16   25  Self-emp-not-inc       HS-grad          Never-married   \n",
       "17   32           Private       HS-grad          Never-married   \n",
       "18   38           Private          11th     Married-civ-spouse   \n",
       "19   43  Self-emp-not-inc       Masters               Divorced   \n",
       "\n",
       "           occupation   relationship                race     sex  \\\n",
       "0        Adm-clerical  Not-in-family               White    Male   \n",
       "1     Exec-managerial        Husband               White    Male   \n",
       "2   Handlers-cleaners  Not-in-family               White    Male   \n",
       "3   Handlers-cleaners        Husband               Black    Male   \n",
       "4      Prof-specialty           Wife               Black  Female   \n",
       "5     Exec-managerial           Wife               White  Female   \n",
       "6       Other-service  Not-in-family               Black  Female   \n",
       "7     Exec-managerial        Husband               White    Male   \n",
       "8      Prof-specialty  Not-in-family               White  Female   \n",
       "9     Exec-managerial        Husband               White    Male   \n",
       "10    Exec-managerial        Husband               Black    Male   \n",
       "11     Prof-specialty        Husband  Asian-Pac-Islander    Male   \n",
       "12       Adm-clerical      Own-child               White  Female   \n",
       "13              Sales  Not-in-family               Black    Male   \n",
       "14       Craft-repair        Husband  Asian-Pac-Islander    Male   \n",
       "15   Transport-moving        Husband  Amer-Indian-Eskimo    Male   \n",
       "16    Farming-fishing      Own-child               White    Male   \n",
       "17  Machine-op-inspct      Unmarried               White    Male   \n",
       "18              Sales        Husband               White    Male   \n",
       "19    Exec-managerial      Unmarried               White  Female   \n",
       "\n",
       "    hours-per-week native-country salary  salary K$  \n",
       "0               40  United-States  <=50K         39  \n",
       "1               13  United-States  <=50K         35  \n",
       "2               40  United-States  <=50K         27  \n",
       "3               40  United-States  <=50K         43  \n",
       "4               40           Cuba  <=50K         25  \n",
       "5               40  United-States  <=50K         44  \n",
       "6               16        Jamaica  <=50K         49  \n",
       "7               45  United-States   >50K        307  \n",
       "8               50  United-States   >50K        330  \n",
       "9               40  United-States   >50K        303  \n",
       "10              80  United-States   >50K        116  \n",
       "11              40          India   >50K        279  \n",
       "12              30  United-States  <=50K         27  \n",
       "13              50  United-States  <=50K         28  \n",
       "14              40              ?   >50K        325  \n",
       "15              45         Mexico  <=50K         15  \n",
       "16              35  United-States  <=50K         42  \n",
       "17              40  United-States  <=50K         28  \n",
       "18              50  United-States  <=50K         31  \n",
       "19              45  United-States   >50K        151  "
      ],
      "text/html": [
       "<div>\n",
       "<style scoped>\n",
       "    .dataframe tbody tr th:only-of-type {\n",
       "        vertical-align: middle;\n",
       "    }\n",
       "\n",
       "    .dataframe tbody tr th {\n",
       "        vertical-align: top;\n",
       "    }\n",
       "\n",
       "    .dataframe thead th {\n",
       "        text-align: right;\n",
       "    }\n",
       "</style>\n",
       "<table border=\"1\" class=\"dataframe\">\n",
       "  <thead>\n",
       "    <tr style=\"text-align: right;\">\n",
       "      <th></th>\n",
       "      <th>age</th>\n",
       "      <th>workclass</th>\n",
       "      <th>education</th>\n",
       "      <th>marital-status</th>\n",
       "      <th>occupation</th>\n",
       "      <th>relationship</th>\n",
       "      <th>race</th>\n",
       "      <th>sex</th>\n",
       "      <th>hours-per-week</th>\n",
       "      <th>native-country</th>\n",
       "      <th>salary</th>\n",
       "      <th>salary K$</th>\n",
       "    </tr>\n",
       "  </thead>\n",
       "  <tbody>\n",
       "    <tr>\n",
       "      <th>0</th>\n",
       "      <td>39</td>\n",
       "      <td>State-gov</td>\n",
       "      <td>Bachelors</td>\n",
       "      <td>Never-married</td>\n",
       "      <td>Adm-clerical</td>\n",
       "      <td>Not-in-family</td>\n",
       "      <td>White</td>\n",
       "      <td>Male</td>\n",
       "      <td>40</td>\n",
       "      <td>United-States</td>\n",
       "      <td>&lt;=50K</td>\n",
       "      <td>39</td>\n",
       "    </tr>\n",
       "    <tr>\n",
       "      <th>1</th>\n",
       "      <td>50</td>\n",
       "      <td>Self-emp-not-inc</td>\n",
       "      <td>Bachelors</td>\n",
       "      <td>Married-civ-spouse</td>\n",
       "      <td>Exec-managerial</td>\n",
       "      <td>Husband</td>\n",
       "      <td>White</td>\n",
       "      <td>Male</td>\n",
       "      <td>13</td>\n",
       "      <td>United-States</td>\n",
       "      <td>&lt;=50K</td>\n",
       "      <td>35</td>\n",
       "    </tr>\n",
       "    <tr>\n",
       "      <th>2</th>\n",
       "      <td>38</td>\n",
       "      <td>Private</td>\n",
       "      <td>HS-grad</td>\n",
       "      <td>Divorced</td>\n",
       "      <td>Handlers-cleaners</td>\n",
       "      <td>Not-in-family</td>\n",
       "      <td>White</td>\n",
       "      <td>Male</td>\n",
       "      <td>40</td>\n",
       "      <td>United-States</td>\n",
       "      <td>&lt;=50K</td>\n",
       "      <td>27</td>\n",
       "    </tr>\n",
       "    <tr>\n",
       "      <th>3</th>\n",
       "      <td>53</td>\n",
       "      <td>Private</td>\n",
       "      <td>11th</td>\n",
       "      <td>Married-civ-spouse</td>\n",
       "      <td>Handlers-cleaners</td>\n",
       "      <td>Husband</td>\n",
       "      <td>Black</td>\n",
       "      <td>Male</td>\n",
       "      <td>40</td>\n",
       "      <td>United-States</td>\n",
       "      <td>&lt;=50K</td>\n",
       "      <td>43</td>\n",
       "    </tr>\n",
       "    <tr>\n",
       "      <th>4</th>\n",
       "      <td>28</td>\n",
       "      <td>Private</td>\n",
       "      <td>Bachelors</td>\n",
       "      <td>Married-civ-spouse</td>\n",
       "      <td>Prof-specialty</td>\n",
       "      <td>Wife</td>\n",
       "      <td>Black</td>\n",
       "      <td>Female</td>\n",
       "      <td>40</td>\n",
       "      <td>Cuba</td>\n",
       "      <td>&lt;=50K</td>\n",
       "      <td>25</td>\n",
       "    </tr>\n",
       "    <tr>\n",
       "      <th>5</th>\n",
       "      <td>37</td>\n",
       "      <td>Private</td>\n",
       "      <td>Masters</td>\n",
       "      <td>Married-civ-spouse</td>\n",
       "      <td>Exec-managerial</td>\n",
       "      <td>Wife</td>\n",
       "      <td>White</td>\n",
       "      <td>Female</td>\n",
       "      <td>40</td>\n",
       "      <td>United-States</td>\n",
       "      <td>&lt;=50K</td>\n",
       "      <td>44</td>\n",
       "    </tr>\n",
       "    <tr>\n",
       "      <th>6</th>\n",
       "      <td>49</td>\n",
       "      <td>Private</td>\n",
       "      <td>9th</td>\n",
       "      <td>Married-spouse-absent</td>\n",
       "      <td>Other-service</td>\n",
       "      <td>Not-in-family</td>\n",
       "      <td>Black</td>\n",
       "      <td>Female</td>\n",
       "      <td>16</td>\n",
       "      <td>Jamaica</td>\n",
       "      <td>&lt;=50K</td>\n",
       "      <td>49</td>\n",
       "    </tr>\n",
       "    <tr>\n",
       "      <th>7</th>\n",
       "      <td>52</td>\n",
       "      <td>Self-emp-not-inc</td>\n",
       "      <td>HS-grad</td>\n",
       "      <td>Married-civ-spouse</td>\n",
       "      <td>Exec-managerial</td>\n",
       "      <td>Husband</td>\n",
       "      <td>White</td>\n",
       "      <td>Male</td>\n",
       "      <td>45</td>\n",
       "      <td>United-States</td>\n",
       "      <td>&gt;50K</td>\n",
       "      <td>307</td>\n",
       "    </tr>\n",
       "    <tr>\n",
       "      <th>8</th>\n",
       "      <td>31</td>\n",
       "      <td>Private</td>\n",
       "      <td>Masters</td>\n",
       "      <td>Never-married</td>\n",
       "      <td>Prof-specialty</td>\n",
       "      <td>Not-in-family</td>\n",
       "      <td>White</td>\n",
       "      <td>Female</td>\n",
       "      <td>50</td>\n",
       "      <td>United-States</td>\n",
       "      <td>&gt;50K</td>\n",
       "      <td>330</td>\n",
       "    </tr>\n",
       "    <tr>\n",
       "      <th>9</th>\n",
       "      <td>42</td>\n",
       "      <td>Private</td>\n",
       "      <td>Bachelors</td>\n",
       "      <td>Married-civ-spouse</td>\n",
       "      <td>Exec-managerial</td>\n",
       "      <td>Husband</td>\n",
       "      <td>White</td>\n",
       "      <td>Male</td>\n",
       "      <td>40</td>\n",
       "      <td>United-States</td>\n",
       "      <td>&gt;50K</td>\n",
       "      <td>303</td>\n",
       "    </tr>\n",
       "    <tr>\n",
       "      <th>10</th>\n",
       "      <td>37</td>\n",
       "      <td>Private</td>\n",
       "      <td>Some-college</td>\n",
       "      <td>Married-civ-spouse</td>\n",
       "      <td>Exec-managerial</td>\n",
       "      <td>Husband</td>\n",
       "      <td>Black</td>\n",
       "      <td>Male</td>\n",
       "      <td>80</td>\n",
       "      <td>United-States</td>\n",
       "      <td>&gt;50K</td>\n",
       "      <td>116</td>\n",
       "    </tr>\n",
       "    <tr>\n",
       "      <th>11</th>\n",
       "      <td>30</td>\n",
       "      <td>State-gov</td>\n",
       "      <td>Bachelors</td>\n",
       "      <td>Married-civ-spouse</td>\n",
       "      <td>Prof-specialty</td>\n",
       "      <td>Husband</td>\n",
       "      <td>Asian-Pac-Islander</td>\n",
       "      <td>Male</td>\n",
       "      <td>40</td>\n",
       "      <td>India</td>\n",
       "      <td>&gt;50K</td>\n",
       "      <td>279</td>\n",
       "    </tr>\n",
       "    <tr>\n",
       "      <th>12</th>\n",
       "      <td>23</td>\n",
       "      <td>Private</td>\n",
       "      <td>Bachelors</td>\n",
       "      <td>Never-married</td>\n",
       "      <td>Adm-clerical</td>\n",
       "      <td>Own-child</td>\n",
       "      <td>White</td>\n",
       "      <td>Female</td>\n",
       "      <td>30</td>\n",
       "      <td>United-States</td>\n",
       "      <td>&lt;=50K</td>\n",
       "      <td>27</td>\n",
       "    </tr>\n",
       "    <tr>\n",
       "      <th>13</th>\n",
       "      <td>32</td>\n",
       "      <td>Private</td>\n",
       "      <td>Assoc-acdm</td>\n",
       "      <td>Never-married</td>\n",
       "      <td>Sales</td>\n",
       "      <td>Not-in-family</td>\n",
       "      <td>Black</td>\n",
       "      <td>Male</td>\n",
       "      <td>50</td>\n",
       "      <td>United-States</td>\n",
       "      <td>&lt;=50K</td>\n",
       "      <td>28</td>\n",
       "    </tr>\n",
       "    <tr>\n",
       "      <th>14</th>\n",
       "      <td>40</td>\n",
       "      <td>Private</td>\n",
       "      <td>Assoc-voc</td>\n",
       "      <td>Married-civ-spouse</td>\n",
       "      <td>Craft-repair</td>\n",
       "      <td>Husband</td>\n",
       "      <td>Asian-Pac-Islander</td>\n",
       "      <td>Male</td>\n",
       "      <td>40</td>\n",
       "      <td>?</td>\n",
       "      <td>&gt;50K</td>\n",
       "      <td>325</td>\n",
       "    </tr>\n",
       "    <tr>\n",
       "      <th>15</th>\n",
       "      <td>34</td>\n",
       "      <td>Private</td>\n",
       "      <td>7th-8th</td>\n",
       "      <td>Married-civ-spouse</td>\n",
       "      <td>Transport-moving</td>\n",
       "      <td>Husband</td>\n",
       "      <td>Amer-Indian-Eskimo</td>\n",
       "      <td>Male</td>\n",
       "      <td>45</td>\n",
       "      <td>Mexico</td>\n",
       "      <td>&lt;=50K</td>\n",
       "      <td>15</td>\n",
       "    </tr>\n",
       "    <tr>\n",
       "      <th>16</th>\n",
       "      <td>25</td>\n",
       "      <td>Self-emp-not-inc</td>\n",
       "      <td>HS-grad</td>\n",
       "      <td>Never-married</td>\n",
       "      <td>Farming-fishing</td>\n",
       "      <td>Own-child</td>\n",
       "      <td>White</td>\n",
       "      <td>Male</td>\n",
       "      <td>35</td>\n",
       "      <td>United-States</td>\n",
       "      <td>&lt;=50K</td>\n",
       "      <td>42</td>\n",
       "    </tr>\n",
       "    <tr>\n",
       "      <th>17</th>\n",
       "      <td>32</td>\n",
       "      <td>Private</td>\n",
       "      <td>HS-grad</td>\n",
       "      <td>Never-married</td>\n",
       "      <td>Machine-op-inspct</td>\n",
       "      <td>Unmarried</td>\n",
       "      <td>White</td>\n",
       "      <td>Male</td>\n",
       "      <td>40</td>\n",
       "      <td>United-States</td>\n",
       "      <td>&lt;=50K</td>\n",
       "      <td>28</td>\n",
       "    </tr>\n",
       "    <tr>\n",
       "      <th>18</th>\n",
       "      <td>38</td>\n",
       "      <td>Private</td>\n",
       "      <td>11th</td>\n",
       "      <td>Married-civ-spouse</td>\n",
       "      <td>Sales</td>\n",
       "      <td>Husband</td>\n",
       "      <td>White</td>\n",
       "      <td>Male</td>\n",
       "      <td>50</td>\n",
       "      <td>United-States</td>\n",
       "      <td>&lt;=50K</td>\n",
       "      <td>31</td>\n",
       "    </tr>\n",
       "    <tr>\n",
       "      <th>19</th>\n",
       "      <td>43</td>\n",
       "      <td>Self-emp-not-inc</td>\n",
       "      <td>Masters</td>\n",
       "      <td>Divorced</td>\n",
       "      <td>Exec-managerial</td>\n",
       "      <td>Unmarried</td>\n",
       "      <td>White</td>\n",
       "      <td>Female</td>\n",
       "      <td>45</td>\n",
       "      <td>United-States</td>\n",
       "      <td>&gt;50K</td>\n",
       "      <td>151</td>\n",
       "    </tr>\n",
       "  </tbody>\n",
       "</table>\n",
       "</div>"
      ]
     },
     "execution_count": 18,
     "metadata": {},
     "output_type": "execute_result"
    }
   ],
   "execution_count": 18
  },
  {
   "cell_type": "markdown",
   "source": [
    "# Task 1\n",
    "Print the count of men and women in the dataset."
   ],
   "metadata": {
    "collapsed": false,
    "pycharm": {
     "name": "#%% md\n"
    }
   }
  },
  {
   "cell_type": "code",
   "source": [
    "gender_counts = df_corrected[\"sex\"].value_counts()\n",
    "print(gender_counts)"
   ],
   "metadata": {
    "collapsed": false,
    "pycharm": {
     "name": "#%%\n"
    },
    "ExecuteTime": {
     "end_time": "2024-07-10T16:59:28.813350Z",
     "start_time": "2024-07-10T16:59:28.804416Z"
    }
   },
   "outputs": [
    {
     "name": "stdout",
     "output_type": "stream",
     "text": [
      "sex\n",
      "Male      21790\n",
      "Female    10771\n",
      "Name: count, dtype: int64\n"
     ]
    }
   ],
   "execution_count": 27
  },
  {
   "cell_type": "markdown",
   "source": [
    "# Task 2\n",
    "Find the average age of men in dataset"
   ],
   "metadata": {
    "collapsed": false,
    "pycharm": {
     "name": "#%% md\n"
    }
   }
  },
  {
   "cell_type": "code",
   "source": "print(df_corrected[df_corrected[\"sex\"] == \"Male\"][\"age\"].mean())",
   "metadata": {
    "collapsed": false,
    "pycharm": {
     "name": "#%%\n"
    },
    "ExecuteTime": {
     "end_time": "2024-07-10T16:58:29.088940Z",
     "start_time": "2024-07-10T16:58:29.078678Z"
    }
   },
   "outputs": [
    {
     "name": "stdout",
     "output_type": "stream",
     "text": [
      "39.18400392541707\n"
     ]
    }
   ],
   "execution_count": 26
  },
  {
   "cell_type": "markdown",
   "source": [
    "# Task 3\n",
    "Get the percentage of people from Poland (native-country)"
   ],
   "metadata": {
    "collapsed": false,
    "pycharm": {
     "name": "#%% md\n"
    }
   }
  },
  {
   "metadata": {},
   "cell_type": "markdown",
   "source": ""
  },
  {
   "cell_type": "code",
   "source": [
    "poland_count = df_corrected[df_corrected[\"native-country\"] == \"Poland\"].shape[0]\n",
    "total_count = len(df_corrected)\n",
    "print((poland_count / total_count) * 100)"
   ],
   "metadata": {
    "collapsed": false,
    "pycharm": {
     "name": "#%%\n"
    },
    "ExecuteTime": {
     "end_time": "2024-07-10T17:01:39.531950Z",
     "start_time": "2024-07-10T17:01:39.524160Z"
    }
   },
   "outputs": [
    {
     "name": "stdout",
     "output_type": "stream",
     "text": [
      "0.18566408063125786\n"
     ]
    }
   ],
   "execution_count": 29
  },
  {
   "cell_type": "markdown",
   "source": [
    "# Task 4\n",
    "Get the mean and standard deviation of the age for people who earn > 50K per year. After this, get it for those who earn <= 50K."
   ],
   "metadata": {
    "collapsed": false,
    "pycharm": {
     "name": "#%% md\n"
    }
   }
  },
  {
   "cell_type": "code",
   "source": [
    "mean_age_above_50k = df_corrected[df_corrected[\"salary\"] == \">50K\"][\"age\"].mean()\n",
    "std_age_above_50k = df_corrected[df_corrected[\"salary\"] == \">50K\"][\"age\"].std()\n",
    "\n",
    "mean_age_below_50k = df_corrected[df_corrected[\"salary\"] == \"<=50K\"][\"age\"].mean()\n",
    "std_age_below_50k = df_corrected[df_corrected[\"salary\"] == \"<=50K\"][\"age\"].std()\n",
    "print(mean_age_above_50k)\n",
    "print(std_age_above_50k)\n",
    "print(mean_age_below_50k)\n",
    "print(std_age_below_50k)"
   ],
   "metadata": {
    "collapsed": false,
    "pycharm": {
     "name": "#%%\n"
    },
    "ExecuteTime": {
     "end_time": "2024-07-10T17:03:38.555901Z",
     "start_time": "2024-07-10T17:03:38.527196Z"
    }
   },
   "outputs": [
    {
     "name": "stdout",
     "output_type": "stream",
     "text": [
      "43.95911028236548\n",
      "10.269632835673852\n",
      "36.60806038668668\n",
      "13.464631257161633\n"
     ]
    }
   ],
   "execution_count": 30
  },
  {
   "cell_type": "markdown",
   "source": [
    "# Task 5\n",
    "Check, if there are some people without higher education (education: Bachelors, Prof-school, Assoc-acdm, Assoc-voc, Masters, Doctorate), but with > 50K salary"
   ],
   "metadata": {
    "collapsed": false,
    "pycharm": {
     "name": "#%% md\n"
    }
   }
  },
  {
   "cell_type": "code",
   "source": [
    "higher_education = [\n",
    "    \"Bachelors\",\n",
    "    \"Prof-school\",\n",
    "    \"Assoc-acdm\",\n",
    "    \"Assoc-voc\",\n",
    "    \"Masters\",\n",
    "    \"Doctorate\",\n",
    "]\n",
    "without_higher_education_and_above_50k = df_corrected[\n",
    "    (~df_corrected[\"education\"].isin(higher_education))\n",
    "    & (df_corrected[\"salary\"] == \">50K\")\n",
    "]\n",
    "print(without_higher_education_and_above_50k)"
   ],
   "metadata": {
    "collapsed": false,
    "pycharm": {
     "name": "#%%\n"
    },
    "ExecuteTime": {
     "end_time": "2024-07-10T17:07:05.552202Z",
     "start_time": "2024-07-10T17:07:05.525513Z"
    }
   },
   "outputs": [
    {
     "name": "stdout",
     "output_type": "stream",
     "text": [
      "       age         workclass     education      marital-status  \\\n",
      "7       52  Self-emp-not-inc       HS-grad  Married-civ-spouse   \n",
      "10      37           Private  Some-college  Married-civ-spouse   \n",
      "55      43           Private  Some-college  Married-civ-spouse   \n",
      "67      53           Private       HS-grad  Married-civ-spouse   \n",
      "68      49      Self-emp-inc  Some-college  Married-civ-spouse   \n",
      "...    ...               ...           ...                 ...   \n",
      "32462   48      Self-emp-inc       HS-grad  Married-civ-spouse   \n",
      "32518   57         Local-gov       HS-grad  Married-civ-spouse   \n",
      "32519   46           Private  Some-college  Married-civ-spouse   \n",
      "32557   40           Private       HS-grad  Married-civ-spouse   \n",
      "32560   52      Self-emp-inc       HS-grad  Married-civ-spouse   \n",
      "\n",
      "              occupation relationship   race     sex  hours-per-week  \\\n",
      "7        Exec-managerial      Husband  White    Male              45   \n",
      "10       Exec-managerial      Husband  Black    Male              80   \n",
      "55          Tech-support      Husband  White    Male              40   \n",
      "67          Adm-clerical         Wife  White  Female              40   \n",
      "68       Exec-managerial      Husband  White    Male              50   \n",
      "...                  ...          ...    ...     ...             ...   \n",
      "32462       Craft-repair      Husband  White    Male              50   \n",
      "32518       Craft-repair      Husband  White    Male              40   \n",
      "32519    Exec-managerial      Husband  White    Male              48   \n",
      "32557  Machine-op-inspct      Husband  White    Male              40   \n",
      "32560    Exec-managerial         Wife  White  Female              40   \n",
      "\n",
      "      native-country salary  salary K$  \n",
      "7      United-States   >50K        307  \n",
      "10     United-States   >50K        116  \n",
      "55     United-States   >50K        341  \n",
      "67     United-States   >50K        225  \n",
      "68     United-States   >50K        194  \n",
      "...              ...    ...        ...  \n",
      "32462  United-States   >50K        343  \n",
      "32518  United-States   >50K        116  \n",
      "32519  United-States   >50K        239  \n",
      "32557  United-States   >50K        173  \n",
      "32560  United-States   >50K        243  \n",
      "\n",
      "[3178 rows x 12 columns]\n"
     ]
    }
   ],
   "execution_count": 31
  },
  {
   "cell_type": "markdown",
   "source": [
    "# Task 6\n",
    "Get the statistics of age for each type of education. Use `groupby` and `describe` for this."
   ],
   "metadata": {
    "collapsed": false,
    "pycharm": {
     "name": "#%% md\n"
    }
   }
  },
  {
   "cell_type": "code",
   "source": [
    "age_stats_by_education = df_corrected.groupby(\"education\")[\"age\"].describe()\n",
    "print(age_stats_by_education)"
   ],
   "metadata": {
    "collapsed": false,
    "pycharm": {
     "name": "#%%\n"
    },
    "ExecuteTime": {
     "end_time": "2024-07-10T17:08:48.241085Z",
     "start_time": "2024-07-10T17:08:48.177090Z"
    }
   },
   "outputs": [
    {
     "name": "stdout",
     "output_type": "stream",
     "text": [
      "               count       mean        std   min   25%   50%   75%   max\n",
      "education                                                               \n",
      "10th           820.0  37.897561  16.225795  17.0  23.0  36.0  52.0  90.0\n",
      "11th          1048.0  32.363550  15.089307  17.0  18.0  28.5  43.0  90.0\n",
      "12th           377.0  32.013263  14.373710  17.0  19.0  28.0  41.0  79.0\n",
      "1st-4th        151.0  44.622517  14.929051  19.0  33.0  44.0  56.0  81.0\n",
      "5th-6th        288.0  41.649306  14.754622  17.0  28.0  41.0  53.0  82.0\n",
      "7th-8th        557.0  47.631957  15.737479  17.0  34.0  49.0  60.0  90.0\n",
      "9th            455.0  40.303297  15.335754  17.0  28.0  38.0  53.0  90.0\n",
      "Assoc-acdm    1008.0  37.286706  10.509755  19.0  29.0  36.0  44.0  90.0\n",
      "Assoc-voc     1307.0  38.246366  11.181253  19.0  30.0  37.0  45.0  84.0\n",
      "Bachelors     5044.0  38.641554  11.577566  19.0  29.0  37.0  46.0  90.0\n",
      "Doctorate      375.0  47.130667  11.471727  24.0  39.0  47.0  54.0  80.0\n",
      "HS-grad       9840.0  38.640955  13.067730  17.0  28.0  37.0  48.0  90.0\n",
      "Masters       1627.0  43.740012  10.735356  18.0  36.0  43.0  50.0  90.0\n",
      "Preschool       45.0  41.288889  15.175672  19.0  30.0  40.0  53.0  75.0\n",
      "Prof-school    542.0  44.249077  11.428098  25.0  36.0  43.0  50.0  90.0\n",
      "Some-college  6678.0  36.135370  13.073528  17.0  25.0  35.0  45.0  90.0\n"
     ]
    }
   ],
   "execution_count": 32
  },
  {
   "cell_type": "markdown",
   "source": [
    "# Task 7\n",
    "Compare the married and non-married men salaries. Who earns more? (>50K or <=50K)\n",
    "Married men are those, whom `marital-status` starts with \"Married\". Others are not."
   ],
   "metadata": {
    "collapsed": false,
    "pycharm": {
     "name": "#%% md\n"
    }
   }
  },
  {
   "cell_type": "code",
   "source": [
    "def categorize_marital_status(status):\n",
    "    if status.startswith(\"Married\"):\n",
    "        return \"Married\"\n",
    "    else:\n",
    "        return \"Non-Married\"\n",
    "\n",
    "\n",
    "df_corrected[\"marital_category\"] = df_corrected[\"marital-status\"].apply(\n",
    "    categorize_marital_status\n",
    ")\n",
    "salary_comparison = (\n",
    "    df_corrected[df_corrected[\"sex\"] == \"Male\"]\n",
    "    .groupby([\"marital_category\", \"salary\"])\n",
    "    .size()\n",
    "    .unstack()\n",
    ")\n",
    "print(salary_comparison)"
   ],
   "metadata": {
    "collapsed": false,
    "pycharm": {
     "name": "#%%\n"
    },
    "ExecuteTime": {
     "end_time": "2024-07-10T17:10:07.352885Z",
     "start_time": "2024-07-10T17:10:07.318174Z"
    }
   },
   "outputs": [
    {
     "name": "stdout",
     "output_type": "stream",
     "text": [
      "salary            <=50K  >50K\n",
      "marital_category             \n",
      "Married            7052  5723\n",
      "Non-Married        6932   673\n"
     ]
    }
   ],
   "execution_count": 34
  },
  {
   "cell_type": "markdown",
   "source": [
    "# Task 8\n",
    "Get the max hours per week some person works. How many people works the same amount of hours per week?"
   ],
   "metadata": {
    "collapsed": false,
    "pycharm": {
     "name": "#%% md\n"
    }
   }
  },
  {
   "cell_type": "code",
   "source": [
    "max_hours_per_week = df_corrected[\"hours-per-week\"].max()\n",
    "print(max_hours_per_week)\n",
    "people_with_max_hours = df_corrected[\n",
    "    df_corrected[\"hours-per-week\"] == max_hours_per_week\n",
    "].shape[0]\n",
    "print(people_with_max_hours)"
   ],
   "metadata": {
    "collapsed": false,
    "pycharm": {
     "name": "#%%\n"
    },
    "ExecuteTime": {
     "end_time": "2024-07-10T17:11:05.545562Z",
     "start_time": "2024-07-10T17:11:05.538832Z"
    }
   },
   "outputs": [
    {
     "name": "stdout",
     "output_type": "stream",
     "text": [
      "99\n",
      "78\n"
     ]
    }
   ],
   "execution_count": 36
  },
  {
   "cell_type": "markdown",
   "source": [
    "# Task 9\n",
    "Analyze the correlation between data in dataset. Understand connected fields in it and print highlight thier connection."
   ],
   "metadata": {
    "collapsed": false,
    "pycharm": {
     "name": "#%% md\n"
    }
   }
  },
  {
   "cell_type": "code",
   "source": [
    "import matplotlib.pyplot as plt\n",
    "import seaborn as sns\n",
    "\n",
    "numeric_columns = [\"age\", \"hours-per-week\", \"salary K$\"]\n",
    "\n",
    "df_cleaned = df[numeric_columns].apply(pd.to_numeric, errors=\"coerce\").dropna()\n",
    "\n",
    "correlation_matrix = df_cleaned.corr()\n",
    "\n",
    "plt.figure(figsize=(10, 8))\n",
    "sns.heatmap(correlation_matrix, annot=True, cmap=\"coolwarm\", fmt=\".2f\", linewidths=0.5)\n",
    "plt.title(\"Correlation Matrix of Numeric Fields in Dataset\")\n",
    "plt.show()"
   ],
   "metadata": {
    "collapsed": false,
    "pycharm": {
     "name": "#%%\n"
    },
    "ExecuteTime": {
     "end_time": "2024-07-10T17:18:25.492386Z",
     "start_time": "2024-07-10T17:18:25.236779Z"
    }
   },
   "outputs": [
    {
     "data": {
      "text/plain": [
       "<Figure size 1000x800 with 2 Axes>"
      ],
      "image/png": "[encoded data removed]"
     },
     "metadata": {},
     "output_type": "display_data"
    }
   ],
   "execution_count": 39
  },
  {
   "metadata": {},
   "cell_type": "code",
   "outputs": [],
   "execution_count": null,
   "source": ""
  }
 ],
 "metadata": {
  "kernelspec": {
   "display_name": "Python 3",
   "language": "python",
   "name": "python3"
  },
  "language_info": {
   "codemirror_mode": {
    "name": "ipython",
    "version": 2
   },
   "file_extension": ".py",
   "mimetype": "text/x-python",
   "name": "python",
   "nbconvert_exporter": "python",
   "pygments_lexer": "ipython2",
   "version": "2.7.6"
  }
 },
 "nbformat": 4,
 "nbformat_minor": 0
}
