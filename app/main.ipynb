{
 "cells": [
  {
   "cell_type": "code",
   "execution_count": null,
   "outputs": [],
   "source": [
    "import numpy as np\n",
    "import pandas as pd"
   ],
   "metadata": {
    "collapsed": false,
    "pycharm": {
     "name": "#%%\n"
    }
   }
  },
  {
   "cell_type": "markdown",
   "source": [
    "# Task 0\n",
    "Read the dataset from csv file & perform data cleaning - remove all rows, which contains `?` in some columns.\n",
    "Also check for data correctness (salary & salary $K)."
   ],
   "metadata": {
    "collapsed": false,
    "pycharm": {
     "name": "#%% md\n"
    }
   }
  },
  {
   "cell_type": "code",
   "execution_count": null,
   "outputs": [],
   "source": [
    "adult = pd.read_csv(\"adult.csv\", index_col=[0])\n",
    "adult = adult.replace(\"?\", np.nan)\n",
    "\n",
    "adult = adult[adult[\"salary\"].isin([\"<=50K\", \">50K\"])]\n",
    "adult[\"salary K$\"] = adult[\"salary K$\"].astype(str)\n",
    "adult = adult[adult[\"salary K$\"].str.isnumeric()]\n",
    "\n",
    "adult"
   ],
   "metadata": {
    "collapsed": false,
    "pycharm": {
     "name": "#%%\n"
    }
   }
  },
  {
   "cell_type": "markdown",
   "source": [
    "# Task 1\n",
    "Print the count of men and women in the dataset."
   ],
   "metadata": {
    "collapsed": false,
    "pycharm": {
     "name": "#%% md\n"
    }
   }
  },
  {
   "cell_type": "code",
   "execution_count": 1,
   "outputs": [],
   "source": [
    "sex_counts = adult[\"sex\"].value_counts()\n",
    "sex_counts"
   ],
   "metadata": {
    "collapsed": false,
    "pycharm": {
     "name": "#%%\n"
    }
   }
  },
  {
   "cell_type": "markdown",
   "source": [
    "# Task 2\n",
    "Find the average age of men in dataset"
   ],
   "metadata": {
    "collapsed": false,
    "pycharm": {
     "name": "#%% md\n"
    }
   }
  },
  {
   "cell_type": "code",
   "execution_count": null,
   "outputs": [],
   "source": [
    "male = adult[adult[\"sex\"] == \"Male\"]\n",
    "\n",
    "average_age_of_men = male[\"age\"].mean()\n",
    "average_age_of_men"
   ],
   "metadata": {
    "collapsed": false,
    "pycharm": {
     "name": "#%%\n"
    }
   }
  },
  {
   "cell_type": "markdown",
   "source": [
    "# Task 3\n",
    "Get the percentage of people from Poland (native-country)"
   ],
   "metadata": {
    "collapsed": false,
    "pycharm": {
     "name": "#%% md\n"
    }
   }
  },
  {
   "cell_type": "code",
   "execution_count": null,
   "outputs": [],
   "source": [
    "poland_count = (adult[\"native-country\"] == \"Poland\").sum()\n",
    "\n",
    "percentage_from_poland = (poland_count / len(adult)) * 100\n",
    "percentage_from_poland"
   ],
   "metadata": {
    "collapsed": false,
    "pycharm": {
     "name": "#%%\n"
    }
   }
  },
  {
   "cell_type": "markdown",
   "source": [
    "# Task 4\n",
    "Get the mean and standard deviation of the age for people who earn > 50K per year. After this, get it for those who earn <= 50K."
   ],
   "metadata": {
    "collapsed": false,
    "pycharm": {
     "name": "#%% md\n"
    }
   }
  },
  {
   "cell_type": "code",
   "execution_count": 2,
   "outputs": [],
   "source": [
    "smaller_salary = adult[adult[\"salary\"] == \">50K\"]\n",
    "mean_age_smaller_salary = smaller_salary[\"age\"].mean()\n",
    "std_age_smaller_salary = smaller_salary[\"age\"].std()\n",
    "\n",
    "bigger_salary = adult[adult[\"salary\"] == \"<=50K\"]\n",
    "mean_age_bigger_salary = bigger_salary[\"age\"].mean()\n",
    "std_age_bigger_salary = bigger_salary[\"age\"].std()\n",
    "\n",
    "mean_age_smaller_salary, std_age_smaller_salary, mean_age_bigger_salary, std_age_bigger_salary"
   ],
   "metadata": {
    "collapsed": false,
    "pycharm": {
     "name": "#%%\n"
    }
   }
  },
  {
   "cell_type": "markdown",
   "source": [
    "# Task 5\n",
    "Check, if there are some people without higher education (education: Bachelors, Prof-school, Assoc-acdm, Assoc-voc, Masters, Doctorate), but with > 50K salary"
   ],
   "metadata": {
    "collapsed": false,
    "pycharm": {
     "name": "#%% md\n"
    }
   }
  },
  {
   "cell_type": "code",
   "execution_count": 3,
   "outputs": [],
   "source": [
    "higher_education = [\"Bachelors\", \"Prof-school\", \"Assoc-acdm\", \"Assoc-voc\", \"Masters\", \"Doctorate\"]\n",
    "high_income = adult[adult[\"salary\"] == \">50K\"]\n",
    "people = high_income[~high_income[\"education\"].isin(higher_education)]\n",
    "people"
   ],
   "metadata": {
    "collapsed": false,
    "pycharm": {
     "name": "#%%\n"
    }
   }
  },
  {
   "cell_type": "markdown",
   "source": [
    "# Task 6\n",
    "Get the statistics of age for each type of education. Use `groupby` and `describe` for this."
   ],
   "metadata": {
    "collapsed": false,
    "pycharm": {
     "name": "#%% md\n"
    }
   }
  },
  {
   "cell_type": "code",
   "execution_count": null,
   "outputs": [],
   "source": [
    "education_statistics = adult.groupby(\"education\")[\"age\"].describe()\n",
    "education_statistics"
   ],
   "metadata": {
    "collapsed": false,
    "pycharm": {
     "name": "#%%\n"
    }
   }
  },
  {
   "cell_type": "markdown",
   "source": [
    "# Task 7\n",
    "Compare the married and non-married men salaries. Who earns more? (>50K or <=50K)\n",
    "Married men are those, whom `marital-status` starts with \"Married\". Others are not."
   ],
   "metadata": {
    "collapsed": false,
    "pycharm": {
     "name": "#%% md\n"
    }
   }
  },
  {
   "cell_type": "code",
   "execution_count": 5,
   "outputs": [],
   "source": [
    "married_men = adult[(adult[\"marital-status\"].str.startswith(\"Married\")) & (adult[\"sex\"] == \"Male\")]\n",
    "married_men_high_income = (married_men[\"salary\"] == \">50K\").sum()\n",
    "married_men_low_income = (married_men[\"salary\"] == \"<=50K\").sum()\n",
    "\n",
    "non_married_men = adult[(~adult[\"marital-status\"].str.startswith(\"Married\")) & (adult[\"sex\"] == \"Male\")]\n",
    "non_married_men_high_income = (non_married_men[\"salary\"] == \">50K\").sum()\n",
    "non_married_men_low_income = (non_married_men[\"salary\"] == \"<=50K\").sum()\n",
    "\n",
    "if married_men_high_income > non_married_men_high_income:\n",
    "    print(\"Married men earn more than non-married men in the >50K category.\")\n",
    "elif married_men_high_income < non_married_men_high_income:\n",
    "    print(\"Non-married men earn more than married men in the >50K category.\")\n",
    "else:\n",
    "    print(\"Married and non-married men earn the same in the >50K category.\")\n",
    "\n",
    "if married_men_low_income > non_married_men_low_income:\n",
    "    print(\"Married men earn more than non-married men in the <=50K category.\")\n",
    "elif married_men_low_income < non_married_men_low_income:\n",
    "    print(\"Non-married men earn more\")"
   ],
   "metadata": {
    "collapsed": false,
    "pycharm": {
     "name": "#%%\n"
    }
   }
  },
  {
   "cell_type": "markdown",
   "source": [
    "# Task 8\n",
    "Get the max hours per week some person works. How many people works the same amount of hours per week?"
   ],
   "metadata": {
    "collapsed": false,
    "pycharm": {
     "name": "#%% md\n"
    }
   }
  },
  {
   "cell_type": "code",
   "execution_count": 6,
   "outputs": [],
   "source": [
    "max_hours_per_week = adult[\"hours-per-week\"].max()\n",
    "people_with_max_hours = (adult[\"hours-per-week\"] == max_hours_per_week).sum()\n",
    "max_hours_per_week, people_with_max_hours"
   ],
   "metadata": {
    "collapsed": false,
    "pycharm": {
     "name": "#%%\n"
    }
   }
  },
  {
   "cell_type": "markdown",
   "source": [
    "# Task 9\n",
    "Analyze the correlation between data in dataset. Understand connected fields in it and print highlight thier connection."
   ],
   "metadata": {
    "collapsed": false,
    "pycharm": {
     "name": "#%% md\n"
    }
   }
  },
  {
   "cell_type": "code",
   "execution_count": 7,
   "outputs": [],
   "source": [
    "import seaborn as sns\n",
    "import matplotlib.pyplot as plt\n",
    "\n",
    "df = pd.DataFrame(adult, columns=[\"age\", \"hours-per-week\", \"salary K$\"])\n",
    "correlation_matrix = df.corr()\n",
    "\n",
    "plt.figure(figsize=(12, 8))\n",
    "sns.heatmap(correlation_matrix, annot=True, cmap=\"coolwarm\", fmt=\".2f\")\n",
    "plt.title(\"Correlation Matrix Heatmap\")\n",
    "plt.show()"
   ],
   "metadata": {
    "collapsed": false,
    "pycharm": {
     "name": "#%%\n"
    }
   }
  }
 ],
 "metadata": {
  "kernelspec": {
   "display_name": "Python 3",
   "language": "python",
   "name": "python3"
  },
  "language_info": {
   "codemirror_mode": {
    "name": "ipython",
    "version": 2
   },
   "file_extension": ".py",
   "mimetype": "text/x-python",
   "name": "python",
   "nbconvert_exporter": "python",
   "pygments_lexer": "ipython2",
   "version": "2.7.6"
  }
 },
 "nbformat": 4,
 "nbformat_minor": 0
}
