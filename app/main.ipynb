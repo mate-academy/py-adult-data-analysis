{
 "cells": [
  {
   "cell_type": "code",
   "execution_count": 1,
   "outputs": [],
   "source": [
    "import numpy as np\n",
    "import pandas as pd"
   ],
   "metadata": {
    "collapsed": false,
    "ExecuteTime": {
     "end_time": "2023-05-12T15:57:00.500434947Z",
     "start_time": "2023-05-12T15:56:51.928264905Z"
    }
   }
  },
  {
   "cell_type": "markdown",
   "source": [
    "# Task 0\n",
    "Read the dataset from csv file & perform data cleaning - remove all rows, which contains `?` in some columns.\n",
    "Also check for data correctness (salary & salary $K)."
   ],
   "metadata": {
    "collapsed": false
   }
  },
  {
   "cell_type": "code",
   "execution_count": 2,
   "outputs": [
    {
     "name": "stdout",
     "output_type": "stream",
     "text": [
      "Data is clean and correct.\n"
     ]
    }
   ],
   "source": [
    "df = pd.read_csv(\"../data/adult.csv\")\n",
    "df = df[df != \"?\"].dropna()\n",
    "mask = ((df[\"salary\"] == \"<=50K\") & (df[\"salary K$\"] > 50)) | ((df[\"salary\"] == \">50K\") & (df[\"salary K$\"] <= 50))\n",
    "\n",
    "if mask.any():\n",
    "    print(f\"ERROR: Inconsistent data in 'salary' and 'salary K$' columns.\\n{df[mask]}\")\n",
    "else:\n",
    "    print(\"Data is clean and correct.\")\n"
   ],
   "metadata": {
    "collapsed": false,
    "pycharm": {
     "name": "#%%\n"
    },
    "ExecuteTime": {
     "end_time": "2023-05-12T15:57:01.545723697Z",
     "start_time": "2023-05-12T15:57:00.513425120Z"
    }
   }
  },
  {
   "cell_type": "markdown",
   "source": [
    "# Task 1\n",
    "Print the count of men and women in the dataset."
   ],
   "metadata": {
    "collapsed": false
   }
  },
  {
   "cell_type": "code",
   "execution_count": 3,
   "outputs": [
    {
     "name": "stdout",
     "output_type": "stream",
     "text": [
      "Count of men and women:\n",
      " sex\n",
      "Male      20380\n",
      "Female     9782\n",
      "Name: count, dtype: int64\n",
      "Percentage of men and women:\n",
      " sex\n",
      "Male      67.568464\n",
      "Female    32.431536\n",
      "Name: count, dtype: float64\n"
     ]
    }
   ],
   "source": [
    "count_by_sex = df[\"sex\"].value_counts()\n",
    "percent_by_sex = count_by_sex / df.shape[0] * 100\n",
    "print(\"Count of men and women:\\n\", count_by_sex)\n",
    "print(\"Percentage of men and women:\\n\", percent_by_sex)\n"
   ],
   "metadata": {
    "collapsed": false,
    "pycharm": {
     "name": "#%%\n"
    },
    "ExecuteTime": {
     "end_time": "2023-05-12T15:57:02.350213797Z",
     "start_time": "2023-05-12T15:57:01.545142892Z"
    }
   }
  },
  {
   "cell_type": "markdown",
   "source": [
    "# Task 2\n",
    "Find the average age of men in dataset"
   ],
   "metadata": {
    "collapsed": false,
    "pycharm": {
     "name": "#%% md\n"
    }
   }
  },
  {
   "cell_type": "code",
   "execution_count": 4,
   "outputs": [
    {
     "name": "stdout",
     "output_type": "stream",
     "text": [
      "Average age of men: 39.18\n"
     ]
    }
   ],
   "source": [
    "average_age_men = df.loc[df[\"sex\"] == \"Male\", \"age\"].mean()\n",
    "print(f\"Average age of men: {average_age_men:.2f}\")\n"
   ],
   "metadata": {
    "collapsed": false,
    "pycharm": {
     "name": "#%%\n"
    },
    "ExecuteTime": {
     "end_time": "2023-05-12T15:57:02.506677473Z",
     "start_time": "2023-05-12T15:57:01.577798214Z"
    }
   }
  },
  {
   "cell_type": "markdown",
   "source": [
    "# Task 3\n",
    "Get the percentage of people from Poland (native-country)"
   ],
   "metadata": {
    "collapsed": false,
    "pycharm": {
     "name": "#%% md\n"
    }
   }
  },
  {
   "cell_type": "code",
   "execution_count": 5,
   "outputs": [
    {
     "name": "stdout",
     "output_type": "stream",
     "text": [
      "Percentage of people from Poland: 0.19\n"
     ]
    }
   ],
   "source": [
    "percent_from_poland = (df[\"native-country\"] == \"Poland\").mean() * 100\n",
    "print(f\"Percentage of people from Poland: {percent_from_poland:.2f}\")\n"
   ],
   "metadata": {
    "collapsed": false,
    "pycharm": {
     "name": "#%%\n"
    },
    "ExecuteTime": {
     "end_time": "2023-05-12T15:57:02.634631634Z",
     "start_time": "2023-05-12T15:57:02.232028902Z"
    }
   }
  },
  {
   "cell_type": "markdown",
   "source": [
    "# Task 4\n",
    "Get the mean and standard deviation of the age for people who earn > 50K per year. After this, get it for those who earn <= 50K."
   ],
   "metadata": {
    "collapsed": false,
    "pycharm": {
     "name": "#%% md\n"
    }
   }
  },
  {
   "cell_type": "code",
   "execution_count": 6,
   "outputs": [
    {
     "name": "stdout",
     "output_type": "stream",
     "text": [
      "Mean age of people earning >50K:  43.96\n",
      "Standard deviation of age of people earning >50K:  10.27\n",
      "Mean age of people earning <=50K:  36.61\n",
      "Standard deviation of age of people earning <=50K:  13.46\n"
     ]
    }
   ],
   "source": [
    "mean_age_above_50k = df.loc[df[\"salary\"] == \">50K\", \"age\"].mean()\n",
    "std_age_above_50k = df.loc[df[\"salary\"] == \">50K\", \"age\"].std()\n",
    "print(f\"Mean age of people earning >50K: {mean_age_above_50k: .2f}\")\n",
    "print(f\"Standard deviation of age of people earning >50K: {std_age_above_50k: .2f}\")\n",
    "\n",
    "mean_age_below_50k = df.loc[df[\"salary\"] == \"<=50K\", \"age\"].mean()\n",
    "std_age_below_50k = df.loc[df[\"salary\"] == \"<=50K\", \"age\"].std()\n",
    "print(f\"Mean age of people earning <=50K: {mean_age_below_50k: .2f}\")\n",
    "print(f\"Standard deviation of age of people earning <=50K: {std_age_below_50k: .2f}\")\n"
   ],
   "metadata": {
    "collapsed": false,
    "pycharm": {
     "name": "#%%\n"
    },
    "ExecuteTime": {
     "end_time": "2023-05-12T15:57:02.789105539Z",
     "start_time": "2023-05-12T15:57:02.498977951Z"
    }
   }
  },
  {
   "cell_type": "markdown",
   "source": [
    "# Task 5\n",
    "Check, if there are some people without higher education (education: Bachelors, Prof-school, Assoc-acdm, Assoc-voc, Masters, Doctorate), but with > 50K salary"
   ],
   "metadata": {
    "collapsed": false
   }
  },
  {
   "cell_type": "code",
   "execution_count": 7,
   "outputs": [
    {
     "name": "stdout",
     "output_type": "stream",
     "text": [
      "There are 3178 people with >50K salary, but without higher education.\n"
     ]
    }
   ],
   "source": [
    "high_education = [\"Bachelors\", \"Prof-school\", \"Assoc-acdm\", \"Assoc-voc\", \"Masters\", \"Doctorate\"]\n",
    "mask = (df[\"salary\"] == \">50K\") & (~df[\"education\"].isin(high_education))\n",
    "total_number = df[mask].count()[\"salary\"]\n",
    "\n",
    "if mask.any():\n",
    "    print(f\"There are {total_number} people with >50K salary, but without higher education.\")\n",
    "else:\n",
    "    print(\"All people with >50K salary have higher education.\")"
   ],
   "metadata": {
    "collapsed": false,
    "pycharm": {
     "name": "#%%\n"
    },
    "ExecuteTime": {
     "end_time": "2023-05-12T15:57:03.005199493Z",
     "start_time": "2023-05-12T15:57:02.770730782Z"
    }
   }
  },
  {
   "cell_type": "markdown",
   "source": [
    "# Task 6\n",
    "Get the statistics of age for each type of education. Use `groupby` and `describe` for this."
   ],
   "metadata": {
    "collapsed": false,
    "pycharm": {
     "name": "#%% md\n"
    }
   }
  },
  {
   "cell_type": "code",
   "execution_count": 8,
   "outputs": [
    {
     "name": "stdout",
     "output_type": "stream",
     "text": [
      "               count       mean        std   min   25%   50%   75%   max\n",
      "education                                                               \n",
      "10th           820.0  37.897561  16.225795  17.0  23.0  36.0  52.0  90.0\n",
      "11th          1048.0  32.363550  15.089307  17.0  18.0  28.5  43.0  90.0\n",
      "12th           377.0  32.013263  14.373710  17.0  19.0  28.0  41.0  79.0\n",
      "1st-4th        151.0  44.622517  14.929051  19.0  33.0  44.0  56.0  81.0\n",
      "5th-6th        288.0  41.649306  14.754622  17.0  28.0  41.0  53.0  82.0\n",
      "7th-8th        557.0  47.631957  15.737479  17.0  34.0  49.0  60.0  90.0\n",
      "9th            455.0  40.303297  15.335754  17.0  28.0  38.0  53.0  90.0\n",
      "Assoc-acdm    1008.0  37.286706  10.509755  19.0  29.0  36.0  44.0  90.0\n",
      "Assoc-voc     1307.0  38.246366  11.181253  19.0  30.0  37.0  45.0  84.0\n",
      "Bachelors     5044.0  38.641554  11.577566  19.0  29.0  37.0  46.0  90.0\n",
      "Doctorate      375.0  47.130667  11.471727  24.0  39.0  47.0  54.0  80.0\n",
      "HS-grad       9840.0  38.640955  13.067730  17.0  28.0  37.0  48.0  90.0\n",
      "Masters       1627.0  43.740012  10.735356  18.0  36.0  43.0  50.0  90.0\n",
      "Preschool       45.0  41.288889  15.175672  19.0  30.0  40.0  53.0  75.0\n",
      "Prof-school    542.0  44.249077  11.428098  25.0  36.0  43.0  50.0  90.0\n",
      "Some-college  6678.0  36.135370  13.073528  17.0  25.0  35.0  45.0  90.0\n"
     ]
    }
   ],
   "source": [
    "education_age_stats = df.groupby(\"education\")[\"age\"].describe()\n",
    "print(education_age_stats)\n"
   ],
   "metadata": {
    "collapsed": false,
    "pycharm": {
     "name": "#%%\n"
    },
    "ExecuteTime": {
     "end_time": "2023-05-12T15:57:03.263008741Z",
     "start_time": "2023-05-12T15:57:02.994585968Z"
    }
   }
  },
  {
   "cell_type": "markdown",
   "source": [
    "# Task 7\n",
    "Compare the married and non-married men salaries. Who earns more? (>50K or <=50K)\n",
    "Married men are those, whom `marital-status` starts with \"Married\". Others are not."
   ],
   "metadata": {
    "collapsed": false,
    "pycharm": {
     "name": "#%% md\n"
    }
   }
  },
  {
   "cell_type": "code",
   "execution_count": 9,
   "outputs": [
    {
     "name": "stdout",
     "output_type": "stream",
     "text": [
      "Married men earn a salary of >50K more often: 89.48% vs 10.52%.\n",
      "Married men earn a salary of <=50K more often: 50.43% vs 49.57%.\n"
     ]
    }
   ],
   "source": [
    "for salary in [\">50K\", \"<=50K\"]:\n",
    "    income_df = df[(df[\"sex\"] == \"Male\") & (df[\"salary\"] == salary)]\n",
    "    married_men = income_df[income_df[\"marital-status\"].str.startswith(\"Married\")][\"marital-status\"].count()\n",
    "    non_married_men = income_df[\"marital-status\"].count() - married_men\n",
    "    message = \"Married men\" if married_men > non_married_men else \"Non-married men\"\n",
    "    percentage = married_men / income_df[\"marital-status\"].count()\n",
    "    print(f\"{message} earn a salary of {salary} more often: {percentage:.2%} vs {1-percentage:.2%}.\")\n"
   ],
   "metadata": {
    "collapsed": false,
    "pycharm": {
     "name": "#%%\n"
    },
    "ExecuteTime": {
     "end_time": "2023-05-12T15:57:03.439524116Z",
     "start_time": "2023-05-12T15:57:03.263883613Z"
    }
   }
  },
  {
   "cell_type": "markdown",
   "source": [
    "# Task 8\n",
    "Get the max hours per week some person works. How many people works the same amount of hours per week?"
   ],
   "metadata": {
    "collapsed": false,
    "pycharm": {
     "name": "#%% md\n"
    }
   }
  },
  {
   "cell_type": "code",
   "execution_count": 10,
   "outputs": [
    {
     "name": "stdout",
     "output_type": "stream",
     "text": [
      "The max hours per week worked by some person is 99 hours.\n",
      "78 people work the same amount of hours per week.\n"
     ]
    }
   ],
   "source": [
    "max_hours_per_week = df[\"hours-per-week\"].max()\n",
    "num_people_max_hours = df[df[\"hours-per-week\"] == max_hours_per_week].shape[0]\n",
    "\n",
    "print(f\"The max hours per week worked by some person is {max_hours_per_week} hours.\")\n",
    "print(f\"{num_people_max_hours} people work the same amount of hours per week.\")\n"
   ],
   "metadata": {
    "collapsed": false,
    "pycharm": {
     "name": "#%%\n"
    },
    "ExecuteTime": {
     "end_time": "2023-05-12T15:57:03.463438743Z",
     "start_time": "2023-05-12T15:57:03.345411997Z"
    }
   }
  },
  {
   "cell_type": "markdown",
   "source": [
    "# Task 9\n",
    "Analyze the correlation between data in dataset. Understand connected fields in it and print highlight thier connection."
   ],
   "metadata": {
    "collapsed": false,
    "pycharm": {
     "name": "#%% md\n"
    }
   }
  },
  {
   "cell_type": "code",
   "execution_count": 11,
   "outputs": [
    {
     "data": {
      "text/plain": "                     age  hours-per-week  salary K$\nage             1.000000        0.101599   0.208203\nhours-per-week  0.101599        1.000000   0.196378\nsalary K$       0.208203        0.196378   1.000000",
      "text/html": "<div>\n<style scoped>\n    .dataframe tbody tr th:only-of-type {\n        vertical-align: middle;\n    }\n\n    .dataframe tbody tr th {\n        vertical-align: top;\n    }\n\n    .dataframe thead th {\n        text-align: right;\n    }\n</style>\n<table border=\"1\" class=\"dataframe\">\n  <thead>\n    <tr style=\"text-align: right;\">\n      <th></th>\n      <th>age</th>\n      <th>hours-per-week</th>\n      <th>salary K$</th>\n    </tr>\n  </thead>\n  <tbody>\n    <tr>\n      <th>age</th>\n      <td>1.000000</td>\n      <td>0.101599</td>\n      <td>0.208203</td>\n    </tr>\n    <tr>\n      <th>hours-per-week</th>\n      <td>0.101599</td>\n      <td>1.000000</td>\n      <td>0.196378</td>\n    </tr>\n    <tr>\n      <th>salary K$</th>\n      <td>0.208203</td>\n      <td>0.196378</td>\n      <td>1.000000</td>\n    </tr>\n  </tbody>\n</table>\n</div>"
     },
     "execution_count": 11,
     "metadata": {},
     "output_type": "execute_result"
    }
   ],
   "source": [
    "df_numeric = df.select_dtypes(include=[\"int\", \"float\"])\n",
    "df_numeric.iloc[:, 1:].corr()\n"
   ],
   "metadata": {
    "collapsed": false,
    "pycharm": {
     "name": "#%%\n"
    },
    "ExecuteTime": {
     "end_time": "2023-05-12T15:57:03.715277291Z",
     "start_time": "2023-05-12T15:57:03.395348568Z"
    }
   }
  }
 ],
 "metadata": {
  "kernelspec": {
   "display_name": "Python 3",
   "language": "python",
   "name": "python3"
  },
  "language_info": {
   "codemirror_mode": {
    "name": "ipython",
    "version": 2
   },
   "file_extension": ".py",
   "mimetype": "text/x-python",
   "name": "python",
   "nbconvert_exporter": "python",
   "pygments_lexer": "ipython2",
   "version": "2.7.6"
  }
 },
 "nbformat": 4,
 "nbformat_minor": 0
}
