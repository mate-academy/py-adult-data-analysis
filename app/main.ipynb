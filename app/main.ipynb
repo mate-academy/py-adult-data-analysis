{
 "cells": [
  {
   "cell_type": "code",
   "source": [
    "import numpy as np\n",
    "import pandas as pd\n",
    "import matplotlib.pyplot as plt"
   ],
   "metadata": {
    "collapsed": false,
    "pycharm": {
     "name": "#%%\n"
    },
    "ExecuteTime": {
     "end_time": "2025-01-06T11:38:04.791181Z",
     "start_time": "2025-01-06T11:38:03.045082Z"
    }
   },
   "outputs": [],
   "execution_count": 35
  },
  {
   "cell_type": "markdown",
   "source": [
    "# Task 0\n",
    "Read the dataset from csv file & perform data cleaning - remove all rows, which contains `?` in some columns.\n",
    "Also check for data correctness (salary & salary $K)."
   ],
   "metadata": {
    "collapsed": false,
    "pycharm": {
     "name": "#%% md\n"
    }
   }
  },
  {
   "cell_type": "code",
   "source": [
    "# write your code for task 0 here\n",
    "\n",
    "pd_adult = pd.read_csv(\"../data/adult.csv\")\n",
    "pd_adult_cleaned = pd_adult[~pd_adult.isin([\"?\"]).any(axis=1)]\n",
    "print(pd_adult_cleaned[\"salary K$\"].unique())\n",
    "print(pd_adult_cleaned[\"salary\"].unique())\n",
    "\n",
    "expected_salary_values = [\">50K\", \"<=50K\"]\n",
    "unexpected_salaries = pd_adult_cleaned[~pd_adult_cleaned[\"salary\"].isin(expected_salary_values)]\n",
    "\n",
    "print(unexpected_salaries)\n",
    "print(pd_adult_cleaned[\"salary K$\"].apply(lambda x: isinstance(x, (int, float))).all())\n",
    "\n",
    "mismatch = pd_adult_cleaned[\n",
    "    ((pd_adult_cleaned[\"salary\"] == \"<=50K\") & (pd_adult_cleaned[\"salary K$\"] > 50)) |\n",
    "    ((pd_adult_cleaned[\"salary\"] == \">50K\") & (pd_adult_cleaned[\"salary K$\"] <= 50))\n",
    "]\n",
    "\n",
    "print(\"Rows with mismatched salary and salary K$:\")\n",
    "print(mismatch)\n"
   ],
   "metadata": {
    "collapsed": false,
    "pycharm": {
     "name": "#%%\n"
    },
    "ExecuteTime": {
     "end_time": "2025-01-06T10:58:41.529173Z",
     "start_time": "2025-01-06T10:58:41.476252Z"
    }
   },
   "outputs": [
    {
     "name": "stdout",
     "output_type": "stream",
     "text": [
      "[ 39  35  27  43  25  44  49 307 330 303 116 279  28  15  42  31 151 265\n",
      "  36 117  21  16  37  18  30  40  41  17  47 268  34  26 254 332 341  38\n",
      "  33  19 248  32 225 194 301  24  45  22 278 233  48  86 166 284 217 120\n",
      "  99 323 197  23  46 250 274 244 346 171 215  20 140 106 266 231 242 176\n",
      " 339  29 125 143  70  53 239  73 160 329 247 145 148 316 124 199 296 112\n",
      " 177  85  83 331 286 180 214 169 256 185 115 163 276  82 321 261 181 167\n",
      " 210  79 337 328  74 183 314 334  87 320 347  89  55  52 348 146 251 174\n",
      " 234 338 227 113 282 269 344 184 141 158  91 263 319 285 216 155 179 122\n",
      "  97 202 153 161 236 144 182 102  67 297 230 342  58 188 298 100 108 260\n",
      " 118  95 134 240 300  59 313  98 223 271 150 295 280 309 209 101 224 281\n",
      " 222 187  63  66 130 105 270 294 189 259 129 349 275 147 340 133 200 235\n",
      "  57 237 107 103 253 293 198 119 206 175 207 127 232 111 186 110  90 126\n",
      " 211  84 168  60 192 203 212 137 132 272  96 228 208 138 172 302 218 315\n",
      " 191 277 149 238 162 308 128 304 121  51 336 326 241  61 262 324 317 196\n",
      "  69  75 159 310 264 164 258 156 114 311  80  77  64 243  68 229 165 292\n",
      " 345 245 170 142 252 287 305  88 221 289  62 226 267 178 204 273 152 327\n",
      "  92 190 343 154  71 219  81 288 136 322  56 139 205  72 249 335 333 131\n",
      "  65 257 104 135 325 213 290 109 299 220 255 283 173  76 123  93 318 201\n",
      " 246 157 306 195  78  94 193 312 291  54]\n",
      "['<=50K' '>50K']\n",
      "Empty DataFrame\n",
      "Columns: [Unnamed: 0, age, workclass, education, marital-status, occupation, relationship, race, sex, hours-per-week, native-country, salary, salary K$]\n",
      "Index: []\n",
      "True\n",
      "Rows with mismatched salary and salary K$:\n",
      "Empty DataFrame\n",
      "Columns: [Unnamed: 0, age, workclass, education, marital-status, occupation, relationship, race, sex, hours-per-week, native-country, salary, salary K$]\n",
      "Index: []\n"
     ]
    }
   ],
   "execution_count": 23
  },
  {
   "cell_type": "markdown",
   "source": [
    "# Task 1\n",
    "Print the count of men and women in the dataset."
   ],
   "metadata": {
    "collapsed": false,
    "pycharm": {
     "name": "#%% md\n"
    }
   }
  },
  {
   "cell_type": "code",
   "source": [
    "# write your code for task 1 here\n",
    "print(pd_adult_cleaned[\"sex\"].value_counts())\n"
   ],
   "metadata": {
    "collapsed": false,
    "pycharm": {
     "name": "#%%\n"
    },
    "ExecuteTime": {
     "end_time": "2025-01-06T11:41:09.970538Z",
     "start_time": "2025-01-06T11:41:09.965991Z"
    }
   },
   "outputs": [
    {
     "name": "stdout",
     "output_type": "stream",
     "text": [
      "Male      20380\n",
      "Female     9782\n",
      "Name: sex, dtype: int64\n"
     ]
    }
   ],
   "execution_count": 39
  },
  {
   "cell_type": "markdown",
   "source": [
    "# Task 2\n",
    "Find the average age of men in dataset"
   ],
   "metadata": {
    "collapsed": false,
    "pycharm": {
     "name": "#%% md\n"
    }
   }
  },
  {
   "cell_type": "code",
   "source": [
    "# write your code for task 2 here\n",
    "pd_adult_cleaned[pd_adult_cleaned[\"sex\"] == \"Male\"][\"age\"].mean()"
   ],
   "metadata": {
    "collapsed": false,
    "pycharm": {
     "name": "#%%\n"
    },
    "ExecuteTime": {
     "end_time": "2025-01-06T11:40:16.561035Z",
     "start_time": "2025-01-06T11:40:16.551039Z"
    }
   },
   "outputs": [
    {
     "data": {
      "text/plain": [
       "39.18400392541707"
      ]
     },
     "execution_count": 37,
     "metadata": {},
     "output_type": "execute_result"
    }
   ],
   "execution_count": 37
  },
  {
   "cell_type": "markdown",
   "source": [
    "# Task 3\n",
    "Get the percentage of people from Poland (native-country)"
   ],
   "metadata": {
    "collapsed": false,
    "pycharm": {
     "name": "#%% md\n"
    }
   }
  },
  {
   "cell_type": "code",
   "source": [
    "# write your code for task 3 here\n",
    "(pd_adult_cleaned[\"native-country\"] == \"Poland\").mean() * 100"
   ],
   "metadata": {
    "collapsed": false,
    "pycharm": {
     "name": "#%%\n"
    },
    "ExecuteTime": {
     "end_time": "2025-01-06T11:42:31.875073Z",
     "start_time": "2025-01-06T11:42:31.861731Z"
    }
   },
   "outputs": [
    {
     "data": {
      "text/plain": [
       "0.18566408063125786"
      ]
     },
     "execution_count": 40,
     "metadata": {},
     "output_type": "execute_result"
    }
   ],
   "execution_count": 40
  },
  {
   "cell_type": "markdown",
   "source": [
    "# Task 4\n",
    "Get the mean and standard deviation of the age for people who earn > 50K per year. After this, get it for those who earn <= 50K."
   ],
   "metadata": {
    "collapsed": false,
    "pycharm": {
     "name": "#%% md\n"
    }
   }
  },
  {
   "cell_type": "code",
   "source": [
    "# write your code for task 4 here\n",
    "\n",
    "#  >50K\n",
    "high_earners = pd_adult_cleaned[pd_adult_cleaned[\"salary\"] == \">50K\"]\n",
    "mean_high = high_earners[\"age\"].mean()\n",
    "std_high = high_earners[\"age\"].std()\n",
    "\n",
    "# <=50K\n",
    "low_earners = pd_adult_cleaned[pd_adult_cleaned[\"salary\"] == \"<=50K\"]\n",
    "mean_low = low_earners[\"age\"].mean()\n",
    "std_low = low_earners[\"age\"].std()\n",
    "\n",
    "print(f\"Mean age for >50K: {mean_high:.2f}, Std Dev: {std_high:.2f}\")\n",
    "print(f\"Mean age for <=50K: {mean_low:.2f}, Std Dev: {std_low:.2f}\")\n",
    "\n"
   ],
   "metadata": {
    "collapsed": false,
    "pycharm": {
     "name": "#%%\n"
    },
    "ExecuteTime": {
     "end_time": "2025-01-06T11:43:17.382696Z",
     "start_time": "2025-01-06T11:43:17.369168Z"
    }
   },
   "outputs": [
    {
     "name": "stdout",
     "output_type": "stream",
     "text": [
      "Mean age for >50K: 43.96, Std Dev: 10.27\n",
      "Mean age for <=50K: 36.61, Std Dev: 13.46\n"
     ]
    }
   ],
   "execution_count": 42
  },
  {
   "cell_type": "markdown",
   "source": [
    "# Task 5\n",
    "Check, if there are some people without higher education (education: Bachelors, Prof-school, Assoc-acdm, Assoc-voc, Masters, Doctorate), but with > 50K salary"
   ],
   "metadata": {
    "collapsed": false,
    "pycharm": {
     "name": "#%% md\n"
    }
   }
  },
  {
   "cell_type": "code",
   "source": [
    "# write your code for task 5 here\n",
    "\n",
    "higher_education = [\"Bachelors\", \"Prof-school\", \"Assoc-acdm\", \"Assoc-voc\", \"Masters\", \"Doctorate\"]\n",
    "\n",
    "no_higher_education = pd_adult_cleaned[~pd_adult_cleaned[\"education\"].isin(higher_education)]\n",
    "\n",
    "high_salary_no_education = no_higher_education[no_higher_education[\"salary\"] == \">50K\"]\n",
    "\n",
    "count_high_salary_no_education = len(high_salary_no_education)\n",
    "\n",
    "print(f\"Number of people without higher education earning >50K: {count_high_salary_no_education}\")"
   ],
   "metadata": {
    "collapsed": false,
    "pycharm": {
     "name": "#%%\n"
    },
    "ExecuteTime": {
     "end_time": "2025-01-06T11:25:53.642233Z",
     "start_time": "2025-01-06T11:25:53.632576Z"
    }
   },
   "outputs": [
    {
     "name": "stdout",
     "output_type": "stream",
     "text": [
      "Number of people without higher education earning >50K: 3178\n"
     ]
    }
   ],
   "execution_count": 31
  },
  {
   "cell_type": "markdown",
   "source": [
    "# Task 6\n",
    "Get the statistics of age for each type of education. Use `groupby` and `describe` for this."
   ],
   "metadata": {
    "collapsed": false,
    "pycharm": {
     "name": "#%% md\n"
    }
   }
  },
  {
   "cell_type": "code",
   "source": [
    "# write your code for task 6 here\n",
    "\n",
    "pd_adult_cleaned.groupby(\"education\")[\"age\"].describe()\n"
   ],
   "metadata": {
    "collapsed": false,
    "pycharm": {
     "name": "#%%\n"
    },
    "ExecuteTime": {
     "end_time": "2025-01-06T11:43:36.043947Z",
     "start_time": "2025-01-06T11:43:36.018855Z"
    }
   },
   "outputs": [
    {
     "data": {
      "text/plain": [
       "               count       mean        std   min   25%   50%   75%   max\n",
       "education                                                               \n",
       "10th           820.0  37.897561  16.225795  17.0  23.0  36.0  52.0  90.0\n",
       "11th          1048.0  32.363550  15.089307  17.0  18.0  28.5  43.0  90.0\n",
       "12th           377.0  32.013263  14.373710  17.0  19.0  28.0  41.0  79.0\n",
       "1st-4th        151.0  44.622517  14.929051  19.0  33.0  44.0  56.0  81.0\n",
       "5th-6th        288.0  41.649306  14.754622  17.0  28.0  41.0  53.0  82.0\n",
       "7th-8th        557.0  47.631957  15.737479  17.0  34.0  49.0  60.0  90.0\n",
       "9th            455.0  40.303297  15.335754  17.0  28.0  38.0  53.0  90.0\n",
       "Assoc-acdm    1008.0  37.286706  10.509755  19.0  29.0  36.0  44.0  90.0\n",
       "Assoc-voc     1307.0  38.246366  11.181253  19.0  30.0  37.0  45.0  84.0\n",
       "Bachelors     5044.0  38.641554  11.577566  19.0  29.0  37.0  46.0  90.0\n",
       "Doctorate      375.0  47.130667  11.471727  24.0  39.0  47.0  54.0  80.0\n",
       "HS-grad       9840.0  38.640955  13.067730  17.0  28.0  37.0  48.0  90.0\n",
       "Masters       1627.0  43.740012  10.735356  18.0  36.0  43.0  50.0  90.0\n",
       "Preschool       45.0  41.288889  15.175672  19.0  30.0  40.0  53.0  75.0\n",
       "Prof-school    542.0  44.249077  11.428098  25.0  36.0  43.0  50.0  90.0\n",
       "Some-college  6678.0  36.135370  13.073528  17.0  25.0  35.0  45.0  90.0"
      ],
      "text/html": [
       "<div>\n",
       "<style scoped>\n",
       "    .dataframe tbody tr th:only-of-type {\n",
       "        vertical-align: middle;\n",
       "    }\n",
       "\n",
       "    .dataframe tbody tr th {\n",
       "        vertical-align: top;\n",
       "    }\n",
       "\n",
       "    .dataframe thead th {\n",
       "        text-align: right;\n",
       "    }\n",
       "</style>\n",
       "<table border=\"1\" class=\"dataframe\">\n",
       "  <thead>\n",
       "    <tr style=\"text-align: right;\">\n",
       "      <th></th>\n",
       "      <th>count</th>\n",
       "      <th>mean</th>\n",
       "      <th>std</th>\n",
       "      <th>min</th>\n",
       "      <th>25%</th>\n",
       "      <th>50%</th>\n",
       "      <th>75%</th>\n",
       "      <th>max</th>\n",
       "    </tr>\n",
       "    <tr>\n",
       "      <th>education</th>\n",
       "      <th></th>\n",
       "      <th></th>\n",
       "      <th></th>\n",
       "      <th></th>\n",
       "      <th></th>\n",
       "      <th></th>\n",
       "      <th></th>\n",
       "      <th></th>\n",
       "    </tr>\n",
       "  </thead>\n",
       "  <tbody>\n",
       "    <tr>\n",
       "      <th>10th</th>\n",
       "      <td>820.0</td>\n",
       "      <td>37.897561</td>\n",
       "      <td>16.225795</td>\n",
       "      <td>17.0</td>\n",
       "      <td>23.0</td>\n",
       "      <td>36.0</td>\n",
       "      <td>52.0</td>\n",
       "      <td>90.0</td>\n",
       "    </tr>\n",
       "    <tr>\n",
       "      <th>11th</th>\n",
       "      <td>1048.0</td>\n",
       "      <td>32.363550</td>\n",
       "      <td>15.089307</td>\n",
       "      <td>17.0</td>\n",
       "      <td>18.0</td>\n",
       "      <td>28.5</td>\n",
       "      <td>43.0</td>\n",
       "      <td>90.0</td>\n",
       "    </tr>\n",
       "    <tr>\n",
       "      <th>12th</th>\n",
       "      <td>377.0</td>\n",
       "      <td>32.013263</td>\n",
       "      <td>14.373710</td>\n",
       "      <td>17.0</td>\n",
       "      <td>19.0</td>\n",
       "      <td>28.0</td>\n",
       "      <td>41.0</td>\n",
       "      <td>79.0</td>\n",
       "    </tr>\n",
       "    <tr>\n",
       "      <th>1st-4th</th>\n",
       "      <td>151.0</td>\n",
       "      <td>44.622517</td>\n",
       "      <td>14.929051</td>\n",
       "      <td>19.0</td>\n",
       "      <td>33.0</td>\n",
       "      <td>44.0</td>\n",
       "      <td>56.0</td>\n",
       "      <td>81.0</td>\n",
       "    </tr>\n",
       "    <tr>\n",
       "      <th>5th-6th</th>\n",
       "      <td>288.0</td>\n",
       "      <td>41.649306</td>\n",
       "      <td>14.754622</td>\n",
       "      <td>17.0</td>\n",
       "      <td>28.0</td>\n",
       "      <td>41.0</td>\n",
       "      <td>53.0</td>\n",
       "      <td>82.0</td>\n",
       "    </tr>\n",
       "    <tr>\n",
       "      <th>7th-8th</th>\n",
       "      <td>557.0</td>\n",
       "      <td>47.631957</td>\n",
       "      <td>15.737479</td>\n",
       "      <td>17.0</td>\n",
       "      <td>34.0</td>\n",
       "      <td>49.0</td>\n",
       "      <td>60.0</td>\n",
       "      <td>90.0</td>\n",
       "    </tr>\n",
       "    <tr>\n",
       "      <th>9th</th>\n",
       "      <td>455.0</td>\n",
       "      <td>40.303297</td>\n",
       "      <td>15.335754</td>\n",
       "      <td>17.0</td>\n",
       "      <td>28.0</td>\n",
       "      <td>38.0</td>\n",
       "      <td>53.0</td>\n",
       "      <td>90.0</td>\n",
       "    </tr>\n",
       "    <tr>\n",
       "      <th>Assoc-acdm</th>\n",
       "      <td>1008.0</td>\n",
       "      <td>37.286706</td>\n",
       "      <td>10.509755</td>\n",
       "      <td>19.0</td>\n",
       "      <td>29.0</td>\n",
       "      <td>36.0</td>\n",
       "      <td>44.0</td>\n",
       "      <td>90.0</td>\n",
       "    </tr>\n",
       "    <tr>\n",
       "      <th>Assoc-voc</th>\n",
       "      <td>1307.0</td>\n",
       "      <td>38.246366</td>\n",
       "      <td>11.181253</td>\n",
       "      <td>19.0</td>\n",
       "      <td>30.0</td>\n",
       "      <td>37.0</td>\n",
       "      <td>45.0</td>\n",
       "      <td>84.0</td>\n",
       "    </tr>\n",
       "    <tr>\n",
       "      <th>Bachelors</th>\n",
       "      <td>5044.0</td>\n",
       "      <td>38.641554</td>\n",
       "      <td>11.577566</td>\n",
       "      <td>19.0</td>\n",
       "      <td>29.0</td>\n",
       "      <td>37.0</td>\n",
       "      <td>46.0</td>\n",
       "      <td>90.0</td>\n",
       "    </tr>\n",
       "    <tr>\n",
       "      <th>Doctorate</th>\n",
       "      <td>375.0</td>\n",
       "      <td>47.130667</td>\n",
       "      <td>11.471727</td>\n",
       "      <td>24.0</td>\n",
       "      <td>39.0</td>\n",
       "      <td>47.0</td>\n",
       "      <td>54.0</td>\n",
       "      <td>80.0</td>\n",
       "    </tr>\n",
       "    <tr>\n",
       "      <th>HS-grad</th>\n",
       "      <td>9840.0</td>\n",
       "      <td>38.640955</td>\n",
       "      <td>13.067730</td>\n",
       "      <td>17.0</td>\n",
       "      <td>28.0</td>\n",
       "      <td>37.0</td>\n",
       "      <td>48.0</td>\n",
       "      <td>90.0</td>\n",
       "    </tr>\n",
       "    <tr>\n",
       "      <th>Masters</th>\n",
       "      <td>1627.0</td>\n",
       "      <td>43.740012</td>\n",
       "      <td>10.735356</td>\n",
       "      <td>18.0</td>\n",
       "      <td>36.0</td>\n",
       "      <td>43.0</td>\n",
       "      <td>50.0</td>\n",
       "      <td>90.0</td>\n",
       "    </tr>\n",
       "    <tr>\n",
       "      <th>Preschool</th>\n",
       "      <td>45.0</td>\n",
       "      <td>41.288889</td>\n",
       "      <td>15.175672</td>\n",
       "      <td>19.0</td>\n",
       "      <td>30.0</td>\n",
       "      <td>40.0</td>\n",
       "      <td>53.0</td>\n",
       "      <td>75.0</td>\n",
       "    </tr>\n",
       "    <tr>\n",
       "      <th>Prof-school</th>\n",
       "      <td>542.0</td>\n",
       "      <td>44.249077</td>\n",
       "      <td>11.428098</td>\n",
       "      <td>25.0</td>\n",
       "      <td>36.0</td>\n",
       "      <td>43.0</td>\n",
       "      <td>50.0</td>\n",
       "      <td>90.0</td>\n",
       "    </tr>\n",
       "    <tr>\n",
       "      <th>Some-college</th>\n",
       "      <td>6678.0</td>\n",
       "      <td>36.135370</td>\n",
       "      <td>13.073528</td>\n",
       "      <td>17.0</td>\n",
       "      <td>25.0</td>\n",
       "      <td>35.0</td>\n",
       "      <td>45.0</td>\n",
       "      <td>90.0</td>\n",
       "    </tr>\n",
       "  </tbody>\n",
       "</table>\n",
       "</div>"
      ]
     },
     "execution_count": 43,
     "metadata": {},
     "output_type": "execute_result"
    }
   ],
   "execution_count": 43
  },
  {
   "cell_type": "markdown",
   "source": [
    "# Task 7\n",
    "Compare the married and non-married men salaries. Who earns more? (>50K or <=50K)\n",
    "Married men are those, whom `marital-status` starts with \"Married\". Others are not."
   ],
   "metadata": {
    "collapsed": false,
    "pycharm": {
     "name": "#%% md\n"
    }
   }
  },
  {
   "cell_type": "code",
   "source": [
    "# write your code for task 7 here\n",
    "men = pd_adult_cleaned[pd_adult_cleaned[\"sex\"] == \"Male\"]\n",
    "\n",
    "married_men = men[men[\"marital-status\"].str.startswith(\"Married\")]\n",
    "\n",
    "single_men = men[~men[\"marital-status\"].str.startswith(\"Married\")]\n",
    "\n",
    "married_high_salary = married_men[married_men[\"salary\"] == \">50K\"].shape[0]\n",
    "married_low_salary = married_men[married_men[\"salary\"] == \"<=50K\"].shape[0]\n",
    "\n",
    "single_high_salary = single_men[single_men[\"salary\"] == \">50K\"].shape[0]\n",
    "single_low_salary = single_men[single_men[\"salary\"] == \"<=50K\"].shape[0]\n",
    "\n",
    "print(f\"Married men earning >50K: {married_high_salary}\")\n",
    "print(f\"Married men earning <=50K: {married_low_salary}\")\n",
    "print(f\"Non-married men earning >50K: {single_high_salary}\")\n",
    "print(f\"Non-married men earning <=50K: {single_low_salary}\")\n",
    "\n",
    "if married_high_salary > single_high_salary:\n",
    "    print(\"Married men earn more than single men (>50K).\")\n",
    "else:\n",
    "    print(\"Non-married men earn more than married men (>50K).\")\n"
   ],
   "metadata": {
    "collapsed": false,
    "pycharm": {
     "name": "#%%\n"
    },
    "ExecuteTime": {
     "end_time": "2025-01-06T11:30:23.460069Z",
     "start_time": "2025-01-06T11:30:23.438872Z"
    }
   },
   "outputs": [
    {
     "name": "stdout",
     "output_type": "stream",
     "text": [
      "Married men earning >50K: 5723\n",
      "Married men earning <=50K: 7052\n",
      "Non-married men earning >50K: 673\n",
      "Non-married men earning <=50K: 6932\n",
      "Married men earn more than single men (>50K).\n"
     ]
    }
   ],
   "execution_count": 33
  },
  {
   "cell_type": "markdown",
   "source": [
    "# Task 8\n",
    "Get the max hours per week some person works. How many people works the same amount of hours per week?"
   ],
   "metadata": {
    "collapsed": false,
    "pycharm": {
     "name": "#%% md\n"
    }
   }
  },
  {
   "cell_type": "code",
   "source": [
    "# write your code for task 8 here\n",
    "\n",
    "max_hours = pd_adult_cleaned[\"hours-per-week\"].max()\n",
    "\n",
    "people_with_max_hours = pd_adult_cleaned[pd_adult_cleaned[\"hours-per-week\"] == max_hours].shape[0]\n",
    "\n",
    "print(f\"Max hours per week: {max_hours}\")\n",
    "print(f\"Number of people working {max_hours} hours per week: {people_with_max_hours}\")"
   ],
   "metadata": {
    "collapsed": false,
    "pycharm": {
     "name": "#%%\n"
    },
    "ExecuteTime": {
     "end_time": "2025-01-06T11:31:58.233471Z",
     "start_time": "2025-01-06T11:31:58.227558Z"
    }
   },
   "outputs": [
    {
     "name": "stdout",
     "output_type": "stream",
     "text": [
      "Max hours per week: 99\n",
      "Number of people working 99 hours per week: 78\n"
     ]
    }
   ],
   "execution_count": 34
  },
  {
   "cell_type": "markdown",
   "source": [
    "# Task 9\n",
    "Analyze the correlation between data in dataset. Understand connected fields in it and print highlight thier connection."
   ],
   "metadata": {
    "collapsed": false,
    "pycharm": {
     "name": "#%% md\n"
    }
   }
  },
  {
   "cell_type": "code",
   "source": [
    "# write your code for task 9 here\n",
    "\n",
    "correlation_matrix = pd_adult_cleaned.corr()\n",
    "\n",
    "plt.figure(figsize=(10, 8))\n",
    "plt.imshow(correlation_matrix, cmap=\"coolwarm\", interpolation=\"nearest\")\n",
    "plt.colorbar()\n",
    "\n",
    "plt.xticks(np.arange(len(correlation_matrix.columns)), correlation_matrix.columns, rotation=45)\n",
    "plt.yticks(np.arange(len(correlation_matrix.columns)), correlation_matrix.columns)\n",
    "\n",
    "plt.title(\"Correlation Matrix\")\n",
    "\n",
    "plt.show()"
   ],
   "metadata": {
    "collapsed": false,
    "pycharm": {
     "name": "#%%\n"
    },
    "ExecuteTime": {
     "end_time": "2025-01-06T11:38:36.672563Z",
     "start_time": "2025-01-06T11:38:36.275880Z"
    }
   },
   "outputs": [
    {
     "data": {
      "text/plain": [
       "<Figure size 1000x800 with 2 Axes>"
      ],
      "image/png": "[encoded data removed]"
     },
     "metadata": {},
     "output_type": "display_data"
    }
   ],
   "execution_count": 36
  }
 ],
 "metadata": {
  "kernelspec": {
   "display_name": "Python 3",
   "language": "python",
   "name": "python3"
  },
  "language_info": {
   "codemirror_mode": {
    "name": "ipython",
    "version": 2
   },
   "file_extension": ".py",
   "mimetype": "text/x-python",
   "name": "python",
   "nbconvert_exporter": "python",
   "pygments_lexer": "ipython2",
   "version": "2.7.6"
  }
 },
 "nbformat": 4,
 "nbformat_minor": 0
}
