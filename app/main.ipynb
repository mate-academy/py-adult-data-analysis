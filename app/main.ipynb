{
 "cells": [
  {
   "cell_type": "code",
   "execution_count": 2,
   "outputs": [],
   "source": [
    "import numpy as np\n",
    "import pandas as pd"
   ],
   "metadata": {
    "collapsed": false
   }
  },
  {
   "cell_type": "markdown",
   "source": [
    "# Task 0\n",
    "Read the dataset from csv file & perform data cleaning - remove all rows, which contains `?` in some columns.\n",
    "Also check for data correctness (salary & salary $K)."
   ],
   "metadata": {
    "collapsed": false
   }
  },
  {
   "cell_type": "code",
   "execution_count": 6,
   "outputs": [
    {
     "name": "stdout",
     "output_type": "stream",
     "text": [
      "Unnamed: 0          int64\n",
      "age                 int64\n",
      "workclass          object\n",
      "education          object\n",
      "marital-status     object\n",
      "occupation         object\n",
      "relationship       object\n",
      "race               object\n",
      "sex                object\n",
      "hours-per-week      int64\n",
      "native-country     object\n",
      "salary             object\n",
      "salary K$         float64\n",
      "dtype: object\n",
      "<bound method NDFrame.head of        Unnamed: 0  age         workclass   education      marital-status   \n",
      "0               0   39         State-gov   Bachelors       Never-married  \\\n",
      "1               1   50  Self-emp-not-inc   Bachelors  Married-civ-spouse   \n",
      "2               2   38           Private     HS-grad            Divorced   \n",
      "3               3   53           Private        11th  Married-civ-spouse   \n",
      "4               4   28           Private   Bachelors  Married-civ-spouse   \n",
      "...           ...  ...               ...         ...                 ...   \n",
      "32556       32556   27           Private  Assoc-acdm  Married-civ-spouse   \n",
      "32557       32557   40           Private     HS-grad  Married-civ-spouse   \n",
      "32558       32558   58           Private     HS-grad             Widowed   \n",
      "32559       32559   22           Private     HS-grad       Never-married   \n",
      "32560       32560   52      Self-emp-inc     HS-grad  Married-civ-spouse   \n",
      "\n",
      "              occupation   relationship   race     sex  hours-per-week   \n",
      "0           Adm-clerical  Not-in-family  White    Male              40  \\\n",
      "1        Exec-managerial        Husband  White    Male              13   \n",
      "2      Handlers-cleaners  Not-in-family  White    Male              40   \n",
      "3      Handlers-cleaners        Husband  Black    Male              40   \n",
      "4         Prof-specialty           Wife  Black  Female              40   \n",
      "...                  ...            ...    ...     ...             ...   \n",
      "32556       Tech-support           Wife  White  Female              38   \n",
      "32557  Machine-op-inspct        Husband  White    Male              40   \n",
      "32558       Adm-clerical      Unmarried  White  Female              40   \n",
      "32559       Adm-clerical      Own-child  White    Male              20   \n",
      "32560    Exec-managerial           Wife  White  Female              40   \n",
      "\n",
      "      native-country salary  salary K$  \n",
      "0      United-States  <=50K       39.0  \n",
      "1      United-States  <=50K       35.0  \n",
      "2      United-States  <=50K       27.0  \n",
      "3      United-States  <=50K       43.0  \n",
      "4               Cuba  <=50K       25.0  \n",
      "...              ...    ...        ...  \n",
      "32556  United-States  <=50K       36.0  \n",
      "32557  United-States   >50K      173.0  \n",
      "32558  United-States  <=50K       40.0  \n",
      "32559  United-States  <=50K       38.0  \n",
      "32560  United-States   >50K      243.0  \n",
      "\n",
      "[30162 rows x 13 columns]>\n"
     ]
    }
   ],
   "source": [
    "df = pd.read_csv(\"../data/adult.csv\")\n",
    "df = df[df != \"?\"].dropna()\n",
    "df = df[(df[\"salary\"] == \">50K\") | (df[\"salary\"] == \"<=50K\")]\n",
    "df[\"salary K$\"] = df[\"salary K$\"].astype(float)\n",
    "df = df[(df[\"salary K$\"] >= 0.0) & (df[\"salary K$\"] <= 999.0)]\n",
    "print(df.dtypes)\n",
    "print(df.head)"
   ],
   "metadata": {
    "collapsed": false
   }
  },
  {
   "cell_type": "markdown",
   "source": [
    "# Task 1\n",
    "Print the count of men and women in the dataset."
   ],
   "metadata": {
    "collapsed": false
   }
  },
  {
   "cell_type": "code",
   "execution_count": 7,
   "outputs": [
    {
     "name": "stdout",
     "output_type": "stream",
     "text": [
      "Number of men:  20380\n",
      "Number of women:  9782\n"
     ]
    }
   ],
   "source": [
    "sex_counts = df[\"sex\"].value_counts()\n",
    "print(\"Number of men: \", sex_counts[\"Male\"])\n",
    "print(\"Number of women: \", sex_counts[\"Female\"])"
   ],
   "metadata": {
    "collapsed": false
   }
  },
  {
   "cell_type": "markdown",
   "source": [
    "# Task 2\n",
    "Find the average age of men in dataset"
   ],
   "metadata": {
    "collapsed": false
   }
  },
  {
   "cell_type": "code",
   "execution_count": 8,
   "outputs": [
    {
     "name": "stdout",
     "output_type": "stream",
     "text": [
      "Average age of men in the dataset:  39.18400392541707\n"
     ]
    }
   ],
   "source": [
    "avg_age_men = df.loc[df['sex'] == 'Male', 'age'].mean()\n",
    "\n",
    "print(\"Average age of men in the dataset: \", avg_age_men)"
   ],
   "metadata": {
    "collapsed": false
   }
  },
  {
   "cell_type": "markdown",
   "source": [
    "# Task 3\n",
    "Get the percentage of people from Poland (native-country)"
   ],
   "metadata": {
    "collapsed": false
   }
  },
  {
   "cell_type": "code",
   "execution_count": 9,
   "outputs": [
    {
     "name": "stdout",
     "output_type": "stream",
     "text": [
      "Percentage of people from Poland:  0.18566408063125786\n"
     ]
    }
   ],
   "source": [
    "country_counts = df['native-country'].value_counts()\n",
    "\n",
    "percent_from_poland = 100 * country_counts['Poland'] / country_counts.sum()\n",
    "\n",
    "print(\"Percentage of people from Poland: \", percent_from_poland)"
   ],
   "metadata": {
    "collapsed": false
   }
  },
  {
   "cell_type": "markdown",
   "source": [
    "# Task 4\n",
    "Get the mean and standard deviation of the age for people who earn > 50K per year. After this, get it for those who earn <= 50K."
   ],
   "metadata": {
    "collapsed": false
   }
  },
  {
   "cell_type": "code",
   "execution_count": 10,
   "outputs": [
    {
     "name": "stdout",
     "output_type": "stream",
     "text": [
      "Age statistics for people who earn >50K per year: \n",
      "Mean:  43.95911028236548\n",
      "Standard deviation:  10.269632835673852\n",
      "Age statistics for people who earn <=50K per year: \n",
      "Mean:  36.60806038668668\n",
      "Standard deviation:  13.464631257161633\n"
     ]
    }
   ],
   "source": [
    "more_50 = df.loc[df['salary'] == '>50K', 'age'].agg(['mean', 'std'])\n",
    "\n",
    "less_50 = df.loc[df['salary'] == '<=50K', 'age'].agg(['mean', 'std'])\n",
    "\n",
    "print(\"Age statistics for people who earn >50K per year: \")\n",
    "print(\"Mean: \", more_50['mean'])\n",
    "print(\"Standard deviation: \", more_50['std'])\n",
    "print(\"Age statistics for people who earn <=50K per year: \")\n",
    "print(\"Mean: \", less_50['mean'])\n",
    "print(\"Standard deviation: \", less_50['std'])"
   ],
   "metadata": {
    "collapsed": false
   }
  },
  {
   "cell_type": "markdown",
   "source": [
    "# Task 5\n",
    "Check, if there are some people without higher education (education: Bachelors, Prof-school, Assoc-acdm, Assoc-voc, Masters, Doctorate), but with > 50K salary"
   ],
   "metadata": {
    "collapsed": false
   }
  },
  {
   "cell_type": "code",
   "execution_count": 11,
   "outputs": [
    {
     "name": "stdout",
     "output_type": "stream",
     "text": [
      "There are people with >50K salary and no higher education.\n",
      "       Unnamed: 0  age         workclass     education      marital-status   \n",
      "7               7   52  Self-emp-not-inc       HS-grad  Married-civ-spouse  \\\n",
      "10             10   37           Private  Some-college  Married-civ-spouse   \n",
      "55             55   43           Private  Some-college  Married-civ-spouse   \n",
      "67             67   53           Private       HS-grad  Married-civ-spouse   \n",
      "68             68   49      Self-emp-inc  Some-college  Married-civ-spouse   \n",
      "...           ...  ...               ...           ...                 ...   \n",
      "32462       32462   48      Self-emp-inc       HS-grad  Married-civ-spouse   \n",
      "32518       32518   57         Local-gov       HS-grad  Married-civ-spouse   \n",
      "32519       32519   46           Private  Some-college  Married-civ-spouse   \n",
      "32557       32557   40           Private       HS-grad  Married-civ-spouse   \n",
      "32560       32560   52      Self-emp-inc       HS-grad  Married-civ-spouse   \n",
      "\n",
      "              occupation relationship   race     sex  hours-per-week   \n",
      "7        Exec-managerial      Husband  White    Male              45  \\\n",
      "10       Exec-managerial      Husband  Black    Male              80   \n",
      "55          Tech-support      Husband  White    Male              40   \n",
      "67          Adm-clerical         Wife  White  Female              40   \n",
      "68       Exec-managerial      Husband  White    Male              50   \n",
      "...                  ...          ...    ...     ...             ...   \n",
      "32462       Craft-repair      Husband  White    Male              50   \n",
      "32518       Craft-repair      Husband  White    Male              40   \n",
      "32519    Exec-managerial      Husband  White    Male              48   \n",
      "32557  Machine-op-inspct      Husband  White    Male              40   \n",
      "32560    Exec-managerial         Wife  White  Female              40   \n",
      "\n",
      "      native-country salary  salary K$  \n",
      "7      United-States   >50K      307.0  \n",
      "10     United-States   >50K      116.0  \n",
      "55     United-States   >50K      341.0  \n",
      "67     United-States   >50K      225.0  \n",
      "68     United-States   >50K      194.0  \n",
      "...              ...    ...        ...  \n",
      "32462  United-States   >50K      343.0  \n",
      "32518  United-States   >50K      116.0  \n",
      "32519  United-States   >50K      239.0  \n",
      "32557  United-States   >50K      173.0  \n",
      "32560  United-States   >50K      243.0  \n",
      "\n",
      "[3178 rows x 13 columns]\n"
     ]
    }
   ],
   "source": [
    "no_higher_ed = df.loc[(df['salary'] == '>50K') & (~df['education'].isin(['Bachelors', 'Prof-school', 'Assoc-acdm', 'Assoc-voc', 'Masters', 'Doctorate'])), :]\n",
    "\n",
    "\n",
    "if no_higher_ed.empty:\n",
    "    print(\"There are no people with >50K salary and no higher education.\")\n",
    "else:\n",
    "    print(\"There are people with >50K salary and no higher education.\")\n",
    "    print(no_higher_ed)"
   ],
   "metadata": {
    "collapsed": false
   }
  },
  {
   "cell_type": "markdown",
   "source": [
    "# Task 6\n",
    "Get the statistics of age for each type of education. Use `groupby` and `describe` for this."
   ],
   "metadata": {
    "collapsed": false
   }
  },
  {
   "cell_type": "code",
   "execution_count": 12,
   "outputs": [
    {
     "name": "stdout",
     "output_type": "stream",
     "text": [
      "               count       mean        std   min   25%   50%   75%   max\n",
      "education                                                               \n",
      "10th           820.0  37.897561  16.225795  17.0  23.0  36.0  52.0  90.0\n",
      "11th          1048.0  32.363550  15.089307  17.0  18.0  28.5  43.0  90.0\n",
      "12th           377.0  32.013263  14.373710  17.0  19.0  28.0  41.0  79.0\n",
      "1st-4th        151.0  44.622517  14.929051  19.0  33.0  44.0  56.0  81.0\n",
      "5th-6th        288.0  41.649306  14.754622  17.0  28.0  41.0  53.0  82.0\n",
      "7th-8th        557.0  47.631957  15.737479  17.0  34.0  49.0  60.0  90.0\n",
      "9th            455.0  40.303297  15.335754  17.0  28.0  38.0  53.0  90.0\n",
      "Assoc-acdm    1008.0  37.286706  10.509755  19.0  29.0  36.0  44.0  90.0\n",
      "Assoc-voc     1307.0  38.246366  11.181253  19.0  30.0  37.0  45.0  84.0\n",
      "Bachelors     5044.0  38.641554  11.577566  19.0  29.0  37.0  46.0  90.0\n",
      "Doctorate      375.0  47.130667  11.471727  24.0  39.0  47.0  54.0  80.0\n",
      "HS-grad       9840.0  38.640955  13.067730  17.0  28.0  37.0  48.0  90.0\n",
      "Masters       1627.0  43.740012  10.735356  18.0  36.0  43.0  50.0  90.0\n",
      "Preschool       45.0  41.288889  15.175672  19.0  30.0  40.0  53.0  75.0\n",
      "Prof-school    542.0  44.249077  11.428098  25.0  36.0  43.0  50.0  90.0\n",
      "Some-college  6678.0  36.135370  13.073528  17.0  25.0  35.0  45.0  90.0\n"
     ]
    }
   ],
   "source": [
    "ed_age_stats = df.groupby('education')['age'].describe()\n",
    "\n",
    "print(ed_age_stats)"
   ],
   "metadata": {
    "collapsed": false
   }
  },
  {
   "cell_type": "markdown",
   "source": [
    "# Task 7\n",
    "Compare the married and non-married men salaries. Who earns more? (>50K or <=50K)\n",
    "Married men are those, whom `marital-status` starts with \"Married\". Others are not."
   ],
   "metadata": {
    "collapsed": false
   }
  },
  {
   "cell_type": "code",
   "execution_count": 16,
   "outputs": [
    {
     "name": "stderr",
     "output_type": "stream",
     "text": [
      "C:\\Users\\Ada\\AppData\\Local\\Temp\\ipykernel_9076\\777083241.py:3: SettingWithCopyWarning: \n",
      "A value is trying to be set on a copy of a slice from a DataFrame.\n",
      "Try using .loc[row_indexer,col_indexer] = value instead\n",
      "\n",
      "See the caveats in the documentation: https://pandas.pydata.org/pandas-docs/stable/user_guide/indexing.html#returning-a-view-versus-a-copy\n",
      "  male_df.loc[male_df['marital-status'].str.startswith('Married'), 'marital_status_group'] = 'Married'\n"
     ]
    },
    {
     "name": "stdout",
     "output_type": "stream",
     "text": [
      "marital_status_group  salary\n",
      "Not Married           <=50K     7052\n",
      "                      >50K      5723\n",
      "Name: salary, dtype: int64\n"
     ]
    }
   ],
   "source": [
    "male_df = df[df['sex'] == 'Male']\n",
    "\n",
    "male_df.loc[male_df['marital-status'].str.startswith('Married'), 'marital_status_group'] = 'Married'\n",
    "male_df.loc[male_df['marital-status'].str.startswith('Married'), 'marital_status_group'] = 'Not Married'\n",
    "\n",
    "salary_counts = male_df.groupby(['marital_status_group', 'salary'])['salary'].count()\n",
    "\n",
    "print(salary_counts)"
   ],
   "metadata": {
    "collapsed": false
   }
  },
  {
   "cell_type": "markdown",
   "source": [
    "# Task 8\n",
    "Get the max hours per week some person works. How many people works the same amount of hours per week?"
   ],
   "metadata": {
    "collapsed": false
   }
  },
  {
   "cell_type": "code",
   "execution_count": 17,
   "outputs": [
    {
     "name": "stdout",
     "output_type": "stream",
     "text": [
      "Max hours per week: 99\n",
      "Number of people who work this amount of hours per week: 78\n"
     ]
    }
   ],
   "source": [
    "max_hours = df['hours-per-week'].max()\n",
    "\n",
    "num_people = df[df['hours-per-week'] == max_hours]['hours-per-week'].count()\n",
    "\n",
    "print('Max hours per week:', max_hours)\n",
    "print('Number of people who work this amount of hours per week:', num_people)"
   ],
   "metadata": {
    "collapsed": false
   }
  },
  {
   "cell_type": "markdown",
   "source": [
    "# Task 9\n",
    "Analyze the correlation between data in dataset. Understand connected fields in it and print highlight thier connection."
   ],
   "metadata": {
    "collapsed": false
   }
  },
  {
   "cell_type": "code",
   "execution_count": 18,
   "outputs": [
    {
     "data": {
      "text/plain": "                     age  hours-per-week  salary K$\nage             1.000000        0.101599   0.208203\nhours-per-week  0.101599        1.000000   0.196378\nsalary K$       0.208203        0.196378   1.000000",
      "text/html": "<div>\n<style scoped>\n    .dataframe tbody tr th:only-of-type {\n        vertical-align: middle;\n    }\n\n    .dataframe tbody tr th {\n        vertical-align: top;\n    }\n\n    .dataframe thead th {\n        text-align: right;\n    }\n</style>\n<table border=\"1\" class=\"dataframe\">\n  <thead>\n    <tr style=\"text-align: right;\">\n      <th></th>\n      <th>age</th>\n      <th>hours-per-week</th>\n      <th>salary K$</th>\n    </tr>\n  </thead>\n  <tbody>\n    <tr>\n      <th>age</th>\n      <td>1.000000</td>\n      <td>0.101599</td>\n      <td>0.208203</td>\n    </tr>\n    <tr>\n      <th>hours-per-week</th>\n      <td>0.101599</td>\n      <td>1.000000</td>\n      <td>0.196378</td>\n    </tr>\n    <tr>\n      <th>salary K$</th>\n      <td>0.208203</td>\n      <td>0.196378</td>\n      <td>1.000000</td>\n    </tr>\n  </tbody>\n</table>\n</div>"
     },
     "execution_count": 18,
     "metadata": {},
     "output_type": "execute_result"
    }
   ],
   "source": [
    "df_cor = df.select_dtypes(include=[\"int\", \"float\"])\n",
    "df_cor.iloc[:, 1:].corr()"
   ],
   "metadata": {
    "collapsed": false
   }
  }
 ],
 "metadata": {
  "kernelspec": {
   "display_name": "Python 3",
   "language": "python",
   "name": "python3"
  },
  "language_info": {
   "codemirror_mode": {
    "name": "ipython",
    "version": 2
   },
   "file_extension": ".py",
   "mimetype": "text/x-python",
   "name": "python",
   "nbconvert_exporter": "python",
   "pygments_lexer": "ipython2",
   "version": "2.7.6"
  }
 },
 "nbformat": 4,
 "nbformat_minor": 0
}
