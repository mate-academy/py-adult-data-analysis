{
 "cells": [
  {
   "cell_type": "code",
   "execution_count": 1,
   "outputs": [],
   "source": [
    "import numpy as np\n",
    "import pandas as pd\n",
    "import seaborn as sns\n",
    "import matplotlib.pyplot as plt"
   ],
   "metadata": {
    "collapsed": false,
    "pycharm": {
     "name": "#%%\n"
    },
    "ExecuteTime": {
     "end_time": "2023-06-22T16:05:06.647103Z",
     "start_time": "2023-06-22T16:05:06.633126Z"
    }
   }
  },
  {
   "cell_type": "markdown",
   "source": [
    "# Task 0\n",
    "Read the dataset from csv file & perform data cleaning - remove all rows, which contains `?` in some columns.\n",
    "Also check for data correctness (salary & salary $K)."
   ],
   "metadata": {
    "collapsed": false,
    "pycharm": {
     "name": "#%% md\n"
    }
   }
  },
  {
   "cell_type": "code",
   "execution_count": 2,
   "outputs": [],
   "source": [
    "df = pd.read_csv(\"../data/adult.csv\")\n",
    "df_cleaned = df.replace(\"?\", np.nan).dropna()\n",
    "incorrect_data = df_cleaned[\n",
    "    ((df_cleaned[\"salary\"] == \"<=50K\") & (df_cleaned[\"salary K$\"] > 50)) |\n",
    "    ((df_cleaned[\"salary\"] == \">50K\") & (df_cleaned[\"salary K$\"] <= 50))\n",
    "]\n",
    "df_cleaned = df_cleaned.drop(incorrect_data.index)"
   ],
   "metadata": {
    "collapsed": false,
    "pycharm": {
     "name": "#%%\n"
    },
    "ExecuteTime": {
     "end_time": "2023-06-22T16:05:06.936478Z",
     "start_time": "2023-06-22T16:05:06.652592Z"
    }
   }
  },
  {
   "cell_type": "markdown",
   "source": [
    "# Task 1\n",
    "Print the count of men and women in the dataset."
   ],
   "metadata": {
    "collapsed": false,
    "pycharm": {
     "name": "#%% md\n"
    }
   }
  },
  {
   "cell_type": "code",
   "execution_count": 3,
   "outputs": [
    {
     "name": "stdout",
     "output_type": "stream",
     "text": [
      "Male      20380\n",
      "Female     9782\n",
      "Name: sex, dtype: int64\n"
     ]
    }
   ],
   "source": [
    "sex = df_cleaned[\"sex\"].value_counts()\n",
    "print(sex)"
   ],
   "metadata": {
    "collapsed": false,
    "pycharm": {
     "name": "#%%\n"
    },
    "ExecuteTime": {
     "end_time": "2023-06-22T16:05:06.966839Z",
     "start_time": "2023-06-22T16:05:06.944530Z"
    }
   }
  },
  {
   "cell_type": "markdown",
   "source": [
    "# Task 2\n",
    "Find the average age of men in dataset"
   ],
   "metadata": {
    "collapsed": false,
    "pycharm": {
     "name": "#%% md\n"
    }
   }
  },
  {
   "cell_type": "code",
   "execution_count": 4,
   "outputs": [
    {
     "name": "stdout",
     "output_type": "stream",
     "text": [
      "39\n"
     ]
    }
   ],
   "source": [
    "men = df_cleaned[df_cleaned[\"sex\"] == \"Male\"]\n",
    "avg_men_age = men[\"age\"].mean()\n",
    "print(round(avg_men_age))"
   ],
   "metadata": {
    "collapsed": false,
    "pycharm": {
     "name": "#%%\n"
    },
    "ExecuteTime": {
     "end_time": "2023-06-22T16:05:07.057922Z",
     "start_time": "2023-06-22T16:05:06.976192Z"
    }
   }
  },
  {
   "cell_type": "markdown",
   "source": [
    "# Task 3\n",
    "Get the percentage of people from Poland (native-country)"
   ],
   "metadata": {
    "collapsed": false,
    "pycharm": {
     "name": "#%% md\n"
    }
   }
  },
  {
   "cell_type": "code",
   "execution_count": 5,
   "outputs": [
    {
     "name": "stdout",
     "output_type": "stream",
     "text": [
      "0.19\n"
     ]
    }
   ],
   "source": [
    "ppl_from_poland = df_cleaned[df_cleaned[\"native-country\"] == \"Poland\"]\n",
    "percentage_of_poland_ppl = (len(ppl_from_poland) / len(df_cleaned)) * 100\n",
    "print(round(percentage_of_poland_ppl, 2))"
   ],
   "metadata": {
    "collapsed": false,
    "pycharm": {
     "name": "#%%\n"
    },
    "ExecuteTime": {
     "end_time": "2023-06-22T16:05:07.059034Z",
     "start_time": "2023-06-22T16:05:07.000325Z"
    }
   }
  },
  {
   "cell_type": "markdown",
   "source": [
    "# Task 4\n",
    "Get the mean and standard deviation of the age for people who earn > 50K per year. After this, get it for those who earn <= 50K."
   ],
   "metadata": {
    "collapsed": false,
    "pycharm": {
     "name": "#%% md\n"
    }
   }
  },
  {
   "cell_type": "code",
   "execution_count": 7,
   "outputs": [
    {
     "name": "stdout",
     "output_type": "stream",
     "text": [
      "43.95911028236548 10.269632835673852 36.60806038668668 13.464631257161633\n"
     ]
    }
   ],
   "source": [
    "goodfellas_mean = df_cleaned[df_cleaned[\"salary\"] == \">50K\"][\"age\"].mean()\n",
    "goodfellas_std = df_cleaned[df_cleaned[\"salary\"] == \">50K\"][\"age\"].std()\n",
    "\n",
    "unluckies_mean = df_cleaned[df_cleaned[\"salary\"] == \"<=50K\"][\"age\"].mean()\n",
    "unluckies_std = df_cleaned[df_cleaned[\"salary\"] == \"<=50K\"][\"age\"].std()\n",
    "print(goodfellas_mean, goodfellas_std, unluckies_mean, unluckies_std)"
   ],
   "metadata": {
    "collapsed": false,
    "pycharm": {
     "name": "#%%\n"
    },
    "ExecuteTime": {
     "end_time": "2023-06-22T16:06:15.649567Z",
     "start_time": "2023-06-22T16:06:15.608824Z"
    }
   }
  },
  {
   "cell_type": "markdown",
   "source": [
    "# Task 5\n",
    "Check, if there are some people without higher education (education: Bachelors, Prof-school, Assoc-acdm, Assoc-voc, Masters, Doctorate), but with > 50K salary"
   ],
   "metadata": {
    "collapsed": false,
    "pycharm": {
     "name": "#%% md\n"
    }
   }
  },
  {
   "cell_type": "code",
   "execution_count": 9,
   "outputs": [
    {
     "name": "stdout",
     "output_type": "stream",
     "text": [
      "['Bachelors', 'Prof-school', 'Assoc-acdm', 'Assoc-voc', 'Masters', 'Doctorate']        Unnamed: 0  age         workclass     education      marital-status  \\\n",
      "7               7   52  Self-emp-not-inc       HS-grad  Married-civ-spouse   \n",
      "10             10   37           Private  Some-college  Married-civ-spouse   \n",
      "55             55   43           Private  Some-college  Married-civ-spouse   \n",
      "67             67   53           Private       HS-grad  Married-civ-spouse   \n",
      "68             68   49      Self-emp-inc  Some-college  Married-civ-spouse   \n",
      "...           ...  ...               ...           ...                 ...   \n",
      "32462       32462   48      Self-emp-inc       HS-grad  Married-civ-spouse   \n",
      "32518       32518   57         Local-gov       HS-grad  Married-civ-spouse   \n",
      "32519       32519   46           Private  Some-college  Married-civ-spouse   \n",
      "32557       32557   40           Private       HS-grad  Married-civ-spouse   \n",
      "32560       32560   52      Self-emp-inc       HS-grad  Married-civ-spouse   \n",
      "\n",
      "              occupation relationship   race     sex  hours-per-week  \\\n",
      "7        Exec-managerial      Husband  White    Male              45   \n",
      "10       Exec-managerial      Husband  Black    Male              80   \n",
      "55          Tech-support      Husband  White    Male              40   \n",
      "67          Adm-clerical         Wife  White  Female              40   \n",
      "68       Exec-managerial      Husband  White    Male              50   \n",
      "...                  ...          ...    ...     ...             ...   \n",
      "32462       Craft-repair      Husband  White    Male              50   \n",
      "32518       Craft-repair      Husband  White    Male              40   \n",
      "32519    Exec-managerial      Husband  White    Male              48   \n",
      "32557  Machine-op-inspct      Husband  White    Male              40   \n",
      "32560    Exec-managerial         Wife  White  Female              40   \n",
      "\n",
      "      native-country salary  salary K$  \n",
      "7      United-States   >50K        307  \n",
      "10     United-States   >50K        116  \n",
      "55     United-States   >50K        341  \n",
      "67     United-States   >50K        225  \n",
      "68     United-States   >50K        194  \n",
      "...              ...    ...        ...  \n",
      "32462  United-States   >50K        343  \n",
      "32518  United-States   >50K        116  \n",
      "32519  United-States   >50K        239  \n",
      "32557  United-States   >50K        173  \n",
      "32560  United-States   >50K        243  \n",
      "\n",
      "[3178 rows x 13 columns]\n"
     ]
    }
   ],
   "source": [
    "higher_education = [\"Bachelors\", \"Prof-school\", \"Assoc-acdm\", \"Assoc-voc\", \"Masters\", \"Doctorate\"]\n",
    "golden_boys = df_cleaned[(df_cleaned[\"education\"].isin(higher_education) == False) & (df_cleaned[\"salary\"] == \">50K\")]\n",
    "print(higher_education, golden_boys)\n"
   ],
   "metadata": {
    "collapsed": false,
    "pycharm": {
     "name": "#%%\n"
    },
    "ExecuteTime": {
     "end_time": "2023-06-22T16:06:50.577999Z",
     "start_time": "2023-06-22T16:06:50.521450Z"
    }
   }
  },
  {
   "cell_type": "markdown",
   "source": [
    "# Task 6\n",
    "Get the statistics of age for each type of education. Use `groupby` and `describe` for this."
   ],
   "metadata": {
    "collapsed": false,
    "pycharm": {
     "name": "#%% md\n"
    }
   }
  },
  {
   "cell_type": "code",
   "execution_count": 10,
   "outputs": [
    {
     "name": "stdout",
     "output_type": "stream",
     "text": [
      "               count       mean        std   min   25%   50%   75%   max\n",
      "education                                                               \n",
      "10th           820.0  37.897561  16.225795  17.0  23.0  36.0  52.0  90.0\n",
      "11th          1048.0  32.363550  15.089307  17.0  18.0  28.5  43.0  90.0\n",
      "12th           377.0  32.013263  14.373710  17.0  19.0  28.0  41.0  79.0\n",
      "1st-4th        151.0  44.622517  14.929051  19.0  33.0  44.0  56.0  81.0\n",
      "5th-6th        288.0  41.649306  14.754622  17.0  28.0  41.0  53.0  82.0\n",
      "7th-8th        557.0  47.631957  15.737479  17.0  34.0  49.0  60.0  90.0\n",
      "9th            455.0  40.303297  15.335754  17.0  28.0  38.0  53.0  90.0\n",
      "Assoc-acdm    1008.0  37.286706  10.509755  19.0  29.0  36.0  44.0  90.0\n",
      "Assoc-voc     1307.0  38.246366  11.181253  19.0  30.0  37.0  45.0  84.0\n",
      "Bachelors     5044.0  38.641554  11.577566  19.0  29.0  37.0  46.0  90.0\n",
      "Doctorate      375.0  47.130667  11.471727  24.0  39.0  47.0  54.0  80.0\n",
      "HS-grad       9840.0  38.640955  13.067730  17.0  28.0  37.0  48.0  90.0\n",
      "Masters       1627.0  43.740012  10.735356  18.0  36.0  43.0  50.0  90.0\n",
      "Preschool       45.0  41.288889  15.175672  19.0  30.0  40.0  53.0  75.0\n",
      "Prof-school    542.0  44.249077  11.428098  25.0  36.0  43.0  50.0  90.0\n",
      "Some-college  6678.0  36.135370  13.073528  17.0  25.0  35.0  45.0  90.0\n"
     ]
    }
   ],
   "source": [
    "age_stats = df_cleaned.groupby(\"education\")[\"age\"].describe()\n",
    "print(age_stats)"
   ],
   "metadata": {
    "collapsed": false,
    "pycharm": {
     "name": "#%%\n"
    },
    "ExecuteTime": {
     "end_time": "2023-06-22T16:07:00.082382Z",
     "start_time": "2023-06-22T16:07:00.008952Z"
    }
   }
  },
  {
   "cell_type": "markdown",
   "source": [
    "# Task 7\n",
    "Compare the married and non-married men salaries. Who earns more? (>50K or <=50K)\n",
    "Married men are those, whom `marital-status` starts with \"Married\". Others are not."
   ],
   "metadata": {
    "collapsed": false,
    "pycharm": {
     "name": "#%% md\n"
    }
   }
  },
  {
   "cell_type": "code",
   "execution_count": 12,
   "outputs": [
    {
     "name": "stdout",
     "output_type": "stream",
     "text": [
      "5723 673\n",
      "7052 6932\n"
     ]
    }
   ],
   "source": [
    "married_men = men[(men[\"marital-status\"].str.startswith(\"Married\"))]\n",
    "happy_men = men[(~men[\"marital-status\"].str.startswith(\"Married\"))]\n",
    "rich_married_men = married_men[married_men[\"salary\"] == \">50K\"]\n",
    "rich_happy_men = happy_men[happy_men[\"salary\"] == \">50K\"]\n",
    "\n",
    "poor_married_men = married_men[married_men[\"salary\"] == \"<=50K\"]\n",
    "poor_happy_men = happy_men[happy_men[\"salary\"] == \"<=50K\"]\n",
    "print(len(rich_married_men), len(rich_happy_men))\n",
    "print(len(poor_married_men), len(poor_happy_men))"
   ],
   "metadata": {
    "collapsed": false,
    "pycharm": {
     "name": "#%%\n"
    },
    "ExecuteTime": {
     "end_time": "2023-06-22T16:07:48.784440Z",
     "start_time": "2023-06-22T16:07:48.746949Z"
    }
   }
  },
  {
   "cell_type": "markdown",
   "source": [
    "# Task 8\n",
    "Get the max hours per week some person works. How many people works the same amount of hours per week?"
   ],
   "metadata": {
    "collapsed": false,
    "pycharm": {
     "name": "#%% md\n"
    }
   }
  },
  {
   "cell_type": "code",
   "execution_count": 13,
   "outputs": [
    {
     "name": "stdout",
     "output_type": "stream",
     "text": [
      "78\n"
     ]
    }
   ],
   "source": [
    "max_hours = df_cleaned[\"hours-per-week\"].max()\n",
    "ppl_works_max_hours = len(df_cleaned[df_cleaned[\"hours-per-week\"] == max_hours])\n",
    "print(ppl_works_max_hours)"
   ],
   "metadata": {
    "collapsed": false,
    "pycharm": {
     "name": "#%%\n"
    },
    "ExecuteTime": {
     "end_time": "2023-06-22T16:08:02.277300Z",
     "start_time": "2023-06-22T16:08:02.265499Z"
    }
   }
  },
  {
   "cell_type": "markdown",
   "source": [
    "# Task 9\n",
    "Analyze the correlation between data in dataset. Understand connected fields in it and print highlight thier connection."
   ],
   "metadata": {
    "collapsed": false,
    "pycharm": {
     "name": "#%% md\n"
    }
   }
  },
  {
   "cell_type": "code",
   "execution_count": 14,
   "outputs": [
    {
     "name": "stdout",
     "output_type": "stream",
     "text": [
      "Correlation between salary K$ and higher education:\n",
      "                  salary K$  higher_education\n",
      "salary K$          1.000000          0.254759\n",
      "higher_education   0.254759          1.000000\n"
     ]
    },
    {
     "data": {
      "text/plain": "<Figure size 640x480 with 1 Axes>",
      "image/png": "[encoded data removed]"
     },
     "metadata": {},
     "output_type": "display_data"
    },
    {
     "name": "stdout",
     "output_type": "stream",
     "text": [
      "Correlation between age and salary:\n",
      "0.20820286434202667\n",
      "Correlation between hours per week and salary:\n",
      "0.1963783004672401\n",
      "Correlation between is male and salary:\n",
      "0.18264209616246793\n"
     ]
    },
    {
     "data": {
      "text/plain": "<Figure size 640x480 with 2 Axes>",
      "image/png": "[encoded data removed]"
     },
     "metadata": {},
     "output_type": "display_data"
    }
   ],
   "source": [
    "df_cleaned[\"is male\"] = df_cleaned[\"sex\"].apply(lambda x: x == \"Male\")\n",
    "df_cleaned[\"higher_education\"] = df_cleaned[\"education\"].apply(lambda x: x in higher_education)\n",
    "df_cleaned[\"is male\"] = df_cleaned[\"sex\"].apply(lambda x: x == \"Male\")\n",
    "correlations = df_cleaned[[\"age\", \"hours-per-week\", \"is male\", \"salary K$\"]].corr()\n",
    "corr_high_edu_and_salary = df_cleaned[[\"salary K$\", \"higher_education\"]]\n",
    "\n",
    "print(\"Correlation between salary K$ and higher education:\")\n",
    "print(corr_high_edu_and_salary.corr())\n",
    "\n",
    "sns.barplot(x=\"higher_education\", y=\"salary K$\", data=df_cleaned).set_xticklabels([\"No Higher Education\", \"Have Higher Education\"])\n",
    "plt.title(\"Salary by Higher Education\")\n",
    "plt.xlabel(\"Higher Education\")\n",
    "plt.ylabel(\"Salary K$\")\n",
    "plt.show()\n",
    "print(\"Correlation between age and salary:\")\n",
    "print(correlations.loc[\"age\", \"salary K$\"])\n",
    "\n",
    "\n",
    "print(\"Correlation between hours per week and salary:\")\n",
    "print(correlations.loc[\"hours-per-week\", \"salary K$\"])\n",
    "\n",
    "print(\"Correlation between is male and salary:\")\n",
    "print(correlations.loc[\"is male\", \"salary K$\"])\n",
    "\n",
    "sns.heatmap(correlations, annot=True, cmap=\"viridis\")\n",
    "plt.title(\"Correlation Heatmap\")\n",
    "plt.show()\n"
   ],
   "metadata": {
    "collapsed": false,
    "pycharm": {
     "name": "#%%\n"
    },
    "ExecuteTime": {
     "end_time": "2023-06-22T16:08:05.968920Z",
     "start_time": "2023-06-22T16:08:04.514562Z"
    }
   }
  },
  {
   "cell_type": "code",
   "execution_count": 14,
   "outputs": [],
   "source": [],
   "metadata": {
    "collapsed": false,
    "ExecuteTime": {
     "end_time": "2023-06-22T16:08:08.508574Z",
     "start_time": "2023-06-22T16:08:08.484389Z"
    }
   }
  },
  {
   "cell_type": "code",
   "execution_count": null,
   "outputs": [],
   "source": [],
   "metadata": {
    "collapsed": false
   }
  }
 ],
 "metadata": {
  "kernelspec": {
   "display_name": "Python 3",
   "language": "python",
   "name": "python3"
  },
  "language_info": {
   "codemirror_mode": {
    "name": "ipython",
    "version": 2
   },
   "file_extension": ".py",
   "mimetype": "text/x-python",
   "name": "python",
   "nbconvert_exporter": "python",
   "pygments_lexer": "ipython2",
   "version": "2.7.6"
  }
 },
 "nbformat": 4,
 "nbformat_minor": 0
}
