{
 "cells": [
  {
   "cell_type": "code",
   "execution_count": 130,
   "outputs": [],
   "source": [
    "import numpy as np\n",
    "import pandas as pd\n",
    "from matplotlib import pyplot as plt\n",
    "import seaborn as sns"
   ],
   "metadata": {
    "collapsed": false,
    "pycharm": {
     "name": "#%%\n"
    },
    "ExecuteTime": {
     "end_time": "2024-01-08T19:32:47.854898Z",
     "start_time": "2024-01-08T19:32:47.839081Z"
    }
   }
  },
  {
   "cell_type": "markdown",
   "source": [
    "# Task 0\n",
    "Read the dataset from csv file & perform data cleaning - remove all rows, which contains `?` in some columns.\n",
    "Also check for data correctness (salary & salary $K)."
   ],
   "metadata": {
    "collapsed": false,
    "pycharm": {
     "name": "#%% md\n"
    }
   }
  },
  {
   "cell_type": "code",
   "execution_count": 131,
   "outputs": [
    {
     "name": "stdout",
     "output_type": "stream",
     "text": [
      "Data is correct.\n"
     ]
    }
   ],
   "source": [
    "df = pd.read_csv('../data/adult.csv')\n",
    "df.replace(\"?\", np.nan, inplace=True)\n",
    "df.dropna(inplace=True)\n",
    "\n",
    "# Check for data correctness\n",
    "incorrect_rows = df[((df['salary'] == '>50K') & (df['salary K$'] <= 50)) | ((df['salary'] == '<=50K') & (df['salary K$'] > 50))]\n",
    "if incorrect_rows.empty:\n",
    "    print(\"Data is correct.\")\n",
    "else:\n",
    "    print(\"Data is incorrect. The incorrect rows are:\")\n",
    "    print(incorrect_rows)"
   ],
   "metadata": {
    "collapsed": false,
    "pycharm": {
     "name": "#%%\n"
    },
    "ExecuteTime": {
     "end_time": "2024-01-08T19:32:48.910105Z",
     "start_time": "2024-01-08T19:32:48.834480Z"
    }
   }
  },
  {
   "cell_type": "markdown",
   "source": [
    "# Task 1\n",
    "Print the count of men and women in the dataset."
   ],
   "metadata": {
    "collapsed": false,
    "pycharm": {
     "name": "#%% md\n"
    }
   }
  },
  {
   "cell_type": "code",
   "execution_count": 132,
   "outputs": [
    {
     "name": "stdout",
     "output_type": "stream",
     "text": [
      "Count of Men: 20380\n",
      "Count of Women: 9782\n"
     ]
    }
   ],
   "source": [
    "gender_counts = df['sex'].value_counts()\n",
    "print(\"Count of Men:\", gender_counts['Male'])\n",
    "print(\"Count of Women:\", gender_counts['Female'])"
   ],
   "metadata": {
    "collapsed": false,
    "pycharm": {
     "name": "#%%\n"
    },
    "ExecuteTime": {
     "end_time": "2024-01-08T19:32:49.782346Z",
     "start_time": "2024-01-08T19:32:49.775854Z"
    }
   }
  },
  {
   "cell_type": "markdown",
   "source": [
    "# Task 2\n",
    "Find the average age of men in dataset"
   ],
   "metadata": {
    "collapsed": false,
    "pycharm": {
     "name": "#%% md\n"
    }
   }
  },
  {
   "cell_type": "code",
   "execution_count": 133,
   "outputs": [
    {
     "data": {
      "text/plain": "39.0"
     },
     "execution_count": 133,
     "metadata": {},
     "output_type": "execute_result"
    }
   ],
   "source": [
    "df[df['sex'] == 'Male']['age'].mean().round()"
   ],
   "metadata": {
    "collapsed": false,
    "pycharm": {
     "name": "#%%\n"
    },
    "ExecuteTime": {
     "end_time": "2024-01-08T19:32:51.240933Z",
     "start_time": "2024-01-08T19:32:51.229964Z"
    }
   }
  },
  {
   "cell_type": "markdown",
   "source": [
    "# Task 3\n",
    "Get the percentage of people from Poland (native-country)"
   ],
   "metadata": {
    "collapsed": false,
    "pycharm": {
     "name": "#%% md\n"
    }
   }
  },
  {
   "cell_type": "code",
   "execution_count": 134,
   "outputs": [
    {
     "name": "stdout",
     "output_type": "stream",
     "text": [
      "0.186%\n"
     ]
    }
   ],
   "source": [
    "percentage_poland = (df['native-country'] == 'Poland').sum() / len(df)\n",
    "print(f\"{percentage_poland:.3%}\")"
   ],
   "metadata": {
    "collapsed": false,
    "pycharm": {
     "name": "#%%\n"
    },
    "ExecuteTime": {
     "end_time": "2024-01-08T19:32:53.031472Z",
     "start_time": "2024-01-08T19:32:53.025549Z"
    }
   }
  },
  {
   "cell_type": "markdown",
   "source": [
    "# Task 4\n",
    "Get the mean and standard deviation of the age for people who earn > 50K per year. After this, get it for those who earn <= 50K."
   ],
   "metadata": {
    "collapsed": false,
    "pycharm": {
     "name": "#%% md\n"
    }
   }
  },
  {
   "cell_type": "code",
   "execution_count": 135,
   "outputs": [
    {
     "data": {
      "text/plain": "         mean    std\nsalary              \n<=50K   36.61  13.46\n>50K    43.96  10.27",
      "text/html": "<div>\n<style scoped>\n    .dataframe tbody tr th:only-of-type {\n        vertical-align: middle;\n    }\n\n    .dataframe tbody tr th {\n        vertical-align: top;\n    }\n\n    .dataframe thead th {\n        text-align: right;\n    }\n</style>\n<table border=\"1\" class=\"dataframe\">\n  <thead>\n    <tr style=\"text-align: right;\">\n      <th></th>\n      <th>mean</th>\n      <th>std</th>\n    </tr>\n    <tr>\n      <th>salary</th>\n      <th></th>\n      <th></th>\n    </tr>\n  </thead>\n  <tbody>\n    <tr>\n      <th>&lt;=50K</th>\n      <td>36.61</td>\n      <td>13.46</td>\n    </tr>\n    <tr>\n      <th>&gt;50K</th>\n      <td>43.96</td>\n      <td>10.27</td>\n    </tr>\n  </tbody>\n</table>\n</div>"
     },
     "execution_count": 135,
     "metadata": {},
     "output_type": "execute_result"
    }
   ],
   "source": [
    "df.groupby('salary')['age'].agg(['mean', 'std']).round(2)"
   ],
   "metadata": {
    "collapsed": false,
    "pycharm": {
     "name": "#%%\n"
    },
    "ExecuteTime": {
     "end_time": "2024-01-08T19:32:55.068858Z",
     "start_time": "2024-01-08T19:32:55.053675Z"
    }
   }
  },
  {
   "cell_type": "markdown",
   "source": [
    "# Task 5\n",
    "Check, if there are some people without higher education (education: Bachelors, Prof-school, Assoc-acdm, Assoc-voc, Masters, Doctorate), but with > 50K salary"
   ],
   "metadata": {
    "collapsed": false,
    "pycharm": {
     "name": "#%% md\n"
    }
   }
  },
  {
   "cell_type": "code",
   "execution_count": 136,
   "outputs": [
    {
     "data": {
      "text/plain": "3178"
     },
     "execution_count": 136,
     "metadata": {},
     "output_type": "execute_result"
    }
   ],
   "source": [
    "degree_of_education = [\"Bachelors\", \"Prof-school\", \"Assoc-acdm\", \"Assoc-voc\", \"Masters\", \"Doctorate\"]\n",
    "people_without_higher_education = df[(df['education'].isin(degree_of_education) == False) & (df['salary'] == '>50K')]\n",
    "len(people_without_higher_education)"
   ],
   "metadata": {
    "collapsed": false,
    "pycharm": {
     "name": "#%%\n"
    },
    "ExecuteTime": {
     "end_time": "2024-01-08T19:33:00.503280Z",
     "start_time": "2024-01-08T19:33:00.477710Z"
    }
   }
  },
  {
   "cell_type": "markdown",
   "source": [
    "# Task 6\n",
    "Get the statistics of age for each type of education. Use `groupby` and `describe` for this."
   ],
   "metadata": {
    "collapsed": false,
    "pycharm": {
     "name": "#%% md\n"
    }
   }
  },
  {
   "cell_type": "code",
   "execution_count": 137,
   "outputs": [
    {
     "data": {
      "text/plain": "               count   mean    std   min   25%   50%   75%   max\neducation                                                       \n10th           820.0  37.90  16.23  17.0  23.0  36.0  52.0  90.0\n11th          1048.0  32.36  15.09  17.0  18.0  28.5  43.0  90.0\n12th           377.0  32.01  14.37  17.0  19.0  28.0  41.0  79.0\n1st-4th        151.0  44.62  14.93  19.0  33.0  44.0  56.0  81.0\n5th-6th        288.0  41.65  14.75  17.0  28.0  41.0  53.0  82.0\n7th-8th        557.0  47.63  15.74  17.0  34.0  49.0  60.0  90.0\n9th            455.0  40.30  15.34  17.0  28.0  38.0  53.0  90.0\nAssoc-acdm    1008.0  37.29  10.51  19.0  29.0  36.0  44.0  90.0\nAssoc-voc     1307.0  38.25  11.18  19.0  30.0  37.0  45.0  84.0\nBachelors     5044.0  38.64  11.58  19.0  29.0  37.0  46.0  90.0\nDoctorate      375.0  47.13  11.47  24.0  39.0  47.0  54.0  80.0\nHS-grad       9840.0  38.64  13.07  17.0  28.0  37.0  48.0  90.0\nMasters       1627.0  43.74  10.74  18.0  36.0  43.0  50.0  90.0\nPreschool       45.0  41.29  15.18  19.0  30.0  40.0  53.0  75.0\nProf-school    542.0  44.25  11.43  25.0  36.0  43.0  50.0  90.0\nSome-college  6678.0  36.14  13.07  17.0  25.0  35.0  45.0  90.0",
      "text/html": "<div>\n<style scoped>\n    .dataframe tbody tr th:only-of-type {\n        vertical-align: middle;\n    }\n\n    .dataframe tbody tr th {\n        vertical-align: top;\n    }\n\n    .dataframe thead th {\n        text-align: right;\n    }\n</style>\n<table border=\"1\" class=\"dataframe\">\n  <thead>\n    <tr style=\"text-align: right;\">\n      <th></th>\n      <th>count</th>\n      <th>mean</th>\n      <th>std</th>\n      <th>min</th>\n      <th>25%</th>\n      <th>50%</th>\n      <th>75%</th>\n      <th>max</th>\n    </tr>\n    <tr>\n      <th>education</th>\n      <th></th>\n      <th></th>\n      <th></th>\n      <th></th>\n      <th></th>\n      <th></th>\n      <th></th>\n      <th></th>\n    </tr>\n  </thead>\n  <tbody>\n    <tr>\n      <th>10th</th>\n      <td>820.0</td>\n      <td>37.90</td>\n      <td>16.23</td>\n      <td>17.0</td>\n      <td>23.0</td>\n      <td>36.0</td>\n      <td>52.0</td>\n      <td>90.0</td>\n    </tr>\n    <tr>\n      <th>11th</th>\n      <td>1048.0</td>\n      <td>32.36</td>\n      <td>15.09</td>\n      <td>17.0</td>\n      <td>18.0</td>\n      <td>28.5</td>\n      <td>43.0</td>\n      <td>90.0</td>\n    </tr>\n    <tr>\n      <th>12th</th>\n      <td>377.0</td>\n      <td>32.01</td>\n      <td>14.37</td>\n      <td>17.0</td>\n      <td>19.0</td>\n      <td>28.0</td>\n      <td>41.0</td>\n      <td>79.0</td>\n    </tr>\n    <tr>\n      <th>1st-4th</th>\n      <td>151.0</td>\n      <td>44.62</td>\n      <td>14.93</td>\n      <td>19.0</td>\n      <td>33.0</td>\n      <td>44.0</td>\n      <td>56.0</td>\n      <td>81.0</td>\n    </tr>\n    <tr>\n      <th>5th-6th</th>\n      <td>288.0</td>\n      <td>41.65</td>\n      <td>14.75</td>\n      <td>17.0</td>\n      <td>28.0</td>\n      <td>41.0</td>\n      <td>53.0</td>\n      <td>82.0</td>\n    </tr>\n    <tr>\n      <th>7th-8th</th>\n      <td>557.0</td>\n      <td>47.63</td>\n      <td>15.74</td>\n      <td>17.0</td>\n      <td>34.0</td>\n      <td>49.0</td>\n      <td>60.0</td>\n      <td>90.0</td>\n    </tr>\n    <tr>\n      <th>9th</th>\n      <td>455.0</td>\n      <td>40.30</td>\n      <td>15.34</td>\n      <td>17.0</td>\n      <td>28.0</td>\n      <td>38.0</td>\n      <td>53.0</td>\n      <td>90.0</td>\n    </tr>\n    <tr>\n      <th>Assoc-acdm</th>\n      <td>1008.0</td>\n      <td>37.29</td>\n      <td>10.51</td>\n      <td>19.0</td>\n      <td>29.0</td>\n      <td>36.0</td>\n      <td>44.0</td>\n      <td>90.0</td>\n    </tr>\n    <tr>\n      <th>Assoc-voc</th>\n      <td>1307.0</td>\n      <td>38.25</td>\n      <td>11.18</td>\n      <td>19.0</td>\n      <td>30.0</td>\n      <td>37.0</td>\n      <td>45.0</td>\n      <td>84.0</td>\n    </tr>\n    <tr>\n      <th>Bachelors</th>\n      <td>5044.0</td>\n      <td>38.64</td>\n      <td>11.58</td>\n      <td>19.0</td>\n      <td>29.0</td>\n      <td>37.0</td>\n      <td>46.0</td>\n      <td>90.0</td>\n    </tr>\n    <tr>\n      <th>Doctorate</th>\n      <td>375.0</td>\n      <td>47.13</td>\n      <td>11.47</td>\n      <td>24.0</td>\n      <td>39.0</td>\n      <td>47.0</td>\n      <td>54.0</td>\n      <td>80.0</td>\n    </tr>\n    <tr>\n      <th>HS-grad</th>\n      <td>9840.0</td>\n      <td>38.64</td>\n      <td>13.07</td>\n      <td>17.0</td>\n      <td>28.0</td>\n      <td>37.0</td>\n      <td>48.0</td>\n      <td>90.0</td>\n    </tr>\n    <tr>\n      <th>Masters</th>\n      <td>1627.0</td>\n      <td>43.74</td>\n      <td>10.74</td>\n      <td>18.0</td>\n      <td>36.0</td>\n      <td>43.0</td>\n      <td>50.0</td>\n      <td>90.0</td>\n    </tr>\n    <tr>\n      <th>Preschool</th>\n      <td>45.0</td>\n      <td>41.29</td>\n      <td>15.18</td>\n      <td>19.0</td>\n      <td>30.0</td>\n      <td>40.0</td>\n      <td>53.0</td>\n      <td>75.0</td>\n    </tr>\n    <tr>\n      <th>Prof-school</th>\n      <td>542.0</td>\n      <td>44.25</td>\n      <td>11.43</td>\n      <td>25.0</td>\n      <td>36.0</td>\n      <td>43.0</td>\n      <td>50.0</td>\n      <td>90.0</td>\n    </tr>\n    <tr>\n      <th>Some-college</th>\n      <td>6678.0</td>\n      <td>36.14</td>\n      <td>13.07</td>\n      <td>17.0</td>\n      <td>25.0</td>\n      <td>35.0</td>\n      <td>45.0</td>\n      <td>90.0</td>\n    </tr>\n  </tbody>\n</table>\n</div>"
     },
     "execution_count": 137,
     "metadata": {},
     "output_type": "execute_result"
    }
   ],
   "source": [
    "df.groupby('education')['age'].describe().round(2)"
   ],
   "metadata": {
    "collapsed": false,
    "pycharm": {
     "name": "#%%\n"
    },
    "ExecuteTime": {
     "end_time": "2024-01-08T19:33:02.917723Z",
     "start_time": "2024-01-08T19:33:02.888811Z"
    }
   }
  },
  {
   "cell_type": "markdown",
   "source": [
    "# Task 7\n",
    "Compare the married and non-married men salaries. Who earns more? (>50K or <=50K)\n",
    "Married men are those, whom `marital-status` starts with \"Married\". Others are not."
   ],
   "metadata": {
    "collapsed": false,
    "pycharm": {
     "name": "#%% md\n"
    }
   }
  },
  {
   "cell_type": "code",
   "execution_count": 138,
   "outputs": [
    {
     "name": "stdout",
     "output_type": "stream",
     "text": [
      "salary          <=50K  >50K\n",
      "marital-status             \n",
      "False            6932   673\n",
      "True             7052  5723\n"
     ]
    }
   ],
   "source": [
    "df['marital-status'] = df['marital-status'].str.startswith('Married')\n",
    "men_data = df[df['sex'] == 'Male']\n",
    "salary_comparison = men_data.groupby(['marital-status', 'salary']).size().unstack()\n",
    "print(salary_comparison)"
   ],
   "metadata": {
    "collapsed": false,
    "pycharm": {
     "name": "#%%\n"
    },
    "ExecuteTime": {
     "end_time": "2024-01-08T19:33:07.280473Z",
     "start_time": "2024-01-08T19:33:07.244800Z"
    }
   }
  },
  {
   "cell_type": "markdown",
   "source": [
    "# Task 8\n",
    "Get the max hours per week some person works. How many people works the same amount of hours per week?"
   ],
   "metadata": {
    "collapsed": false,
    "pycharm": {
     "name": "#%% md\n"
    }
   }
  },
  {
   "cell_type": "code",
   "execution_count": 139,
   "outputs": [
    {
     "name": "stdout",
     "output_type": "stream",
     "text": [
      "Max Hours per Week: 99\n",
      "Number of People who Work the Same Amount of Hours: 78\n"
     ]
    }
   ],
   "source": [
    "max_hours_per_week = df['hours-per-week'].max()\n",
    "people_with_max_hours = df[df['hours-per-week'] == max_hours_per_week]\n",
    "\n",
    "print(\"Max Hours per Week:\", max_hours_per_week)\n",
    "print(\"Number of People who Work the Same Amount of Hours:\", len(people_with_max_hours))"
   ],
   "metadata": {
    "collapsed": false,
    "pycharm": {
     "name": "#%%\n"
    },
    "ExecuteTime": {
     "end_time": "2024-01-08T19:33:13.247311Z",
     "start_time": "2024-01-08T19:33:13.234866Z"
    }
   }
  },
  {
   "cell_type": "markdown",
   "source": [
    "# Task 9\n",
    "Analyze the correlation between data in dataset. Understand connected fields in it and print highlight thier connection."
   ],
   "metadata": {
    "collapsed": false,
    "pycharm": {
     "name": "#%% md\n"
    }
   }
  },
  {
   "cell_type": "code",
   "execution_count": 148,
   "outputs": [
    {
     "name": "stdout",
     "output_type": "stream",
     "text": [
      "Correlation Matrix:\n",
      "                    age  hours-per-week  salary K$\n",
      "age            1.000000        0.101599   0.208203\n",
      "hours-per-week 0.101599        1.000000   0.196378\n",
      "salary K$      0.208203        0.196378   1.000000\n"
     ]
    },
    {
     "data": {
      "text/plain": "<Figure size 640x480 with 2 Axes>",
      "image/png": "[encoded data removed]"
     },
     "metadata": {},
     "output_type": "display_data"
    }
   ],
   "source": [
    "df = df.drop(columns=['Unnamed: 0'], errors='ignore')\n",
    "correlation_matrix = df[df.select_dtypes(include=['int64', 'float64']).columns].corr()\n",
    "print(\"Correlation Matrix:\")\n",
    "print(correlation_matrix.to_string(float_format=\"%.6f\"))\n",
    "\n",
    "sns.heatmap(correlation_matrix, vmin=-1, vmax=1, annot=True, cmap=\"rocket_r\")\n",
    "plt.title(\"Correlation Heatmap\")\n",
    "plt.show()"
   ],
   "metadata": {
    "collapsed": false,
    "pycharm": {
     "name": "#%%\n"
    },
    "ExecuteTime": {
     "end_time": "2024-01-08T19:39:19.612311Z",
     "start_time": "2024-01-08T19:39:19.518515Z"
    }
   }
  }
 ],
 "metadata": {
  "kernelspec": {
   "display_name": "Python 3",
   "language": "python",
   "name": "python3"
  },
  "language_info": {
   "codemirror_mode": {
    "name": "ipython",
    "version": 2
   },
   "file_extension": ".py",
   "mimetype": "text/x-python",
   "name": "python",
   "nbconvert_exporter": "python",
   "pygments_lexer": "ipython2",
   "version": "2.7.6"
  }
 },
 "nbformat": 4,
 "nbformat_minor": 0
}
