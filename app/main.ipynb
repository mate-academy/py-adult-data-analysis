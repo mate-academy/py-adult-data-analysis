{
 "cells": [
  {
   "cell_type": "code",
   "execution_count": 1,
   "outputs": [],
   "source": [
    "import numpy as np\n",
    "import pandas as pd"
   ],
   "metadata": {
    "collapsed": false,
    "pycharm": {
     "name": "#%%\n"
    },
    "ExecuteTime": {
     "end_time": "2023-11-21T12:53:29.874076500Z",
     "start_time": "2023-11-21T12:53:27.527083200Z"
    }
   }
  },
  {
   "cell_type": "markdown",
   "source": [
    "# Task 0\n",
    "Read the dataset from csv file & perform data cleaning - remove all rows, which contains `?` in some columns.\n",
    "Also check for data correctness (salary & salary $K)."
   ],
   "metadata": {
    "collapsed": false,
    "pycharm": {
     "name": "#%% md\n"
    }
   }
  },
  {
   "cell_type": "code",
   "execution_count": 13,
   "outputs": [
    {
     "data": {
      "text/plain": "   Unnamed: 0  age         workclass  education      marital-status  \\\n0           0   39         State-gov  Bachelors       Never-married   \n1           1   50  Self-emp-not-inc  Bachelors  Married-civ-spouse   \n2           2   38           Private    HS-grad            Divorced   \n3           3   53           Private       11th  Married-civ-spouse   \n4           4   28           Private  Bachelors  Married-civ-spouse   \n\n          occupation   relationship   race     sex  hours-per-week  \\\n0       Adm-clerical  Not-in-family  White    Male              40   \n1    Exec-managerial        Husband  White    Male              13   \n2  Handlers-cleaners  Not-in-family  White    Male              40   \n3  Handlers-cleaners        Husband  Black    Male              40   \n4     Prof-specialty           Wife  Black  Female              40   \n\n  native-country salary  salary K$  \n0  United-States  <=50K         39  \n1  United-States  <=50K         35  \n2  United-States  <=50K         27  \n3  United-States  <=50K         43  \n4           Cuba  <=50K         25  ",
      "text/html": "<div>\n<style scoped>\n    .dataframe tbody tr th:only-of-type {\n        vertical-align: middle;\n    }\n\n    .dataframe tbody tr th {\n        vertical-align: top;\n    }\n\n    .dataframe thead th {\n        text-align: right;\n    }\n</style>\n<table border=\"1\" class=\"dataframe\">\n  <thead>\n    <tr style=\"text-align: right;\">\n      <th></th>\n      <th>Unnamed: 0</th>\n      <th>age</th>\n      <th>workclass</th>\n      <th>education</th>\n      <th>marital-status</th>\n      <th>occupation</th>\n      <th>relationship</th>\n      <th>race</th>\n      <th>sex</th>\n      <th>hours-per-week</th>\n      <th>native-country</th>\n      <th>salary</th>\n      <th>salary K$</th>\n    </tr>\n  </thead>\n  <tbody>\n    <tr>\n      <th>0</th>\n      <td>0</td>\n      <td>39</td>\n      <td>State-gov</td>\n      <td>Bachelors</td>\n      <td>Never-married</td>\n      <td>Adm-clerical</td>\n      <td>Not-in-family</td>\n      <td>White</td>\n      <td>Male</td>\n      <td>40</td>\n      <td>United-States</td>\n      <td>&lt;=50K</td>\n      <td>39</td>\n    </tr>\n    <tr>\n      <th>1</th>\n      <td>1</td>\n      <td>50</td>\n      <td>Self-emp-not-inc</td>\n      <td>Bachelors</td>\n      <td>Married-civ-spouse</td>\n      <td>Exec-managerial</td>\n      <td>Husband</td>\n      <td>White</td>\n      <td>Male</td>\n      <td>13</td>\n      <td>United-States</td>\n      <td>&lt;=50K</td>\n      <td>35</td>\n    </tr>\n    <tr>\n      <th>2</th>\n      <td>2</td>\n      <td>38</td>\n      <td>Private</td>\n      <td>HS-grad</td>\n      <td>Divorced</td>\n      <td>Handlers-cleaners</td>\n      <td>Not-in-family</td>\n      <td>White</td>\n      <td>Male</td>\n      <td>40</td>\n      <td>United-States</td>\n      <td>&lt;=50K</td>\n      <td>27</td>\n    </tr>\n    <tr>\n      <th>3</th>\n      <td>3</td>\n      <td>53</td>\n      <td>Private</td>\n      <td>11th</td>\n      <td>Married-civ-spouse</td>\n      <td>Handlers-cleaners</td>\n      <td>Husband</td>\n      <td>Black</td>\n      <td>Male</td>\n      <td>40</td>\n      <td>United-States</td>\n      <td>&lt;=50K</td>\n      <td>43</td>\n    </tr>\n    <tr>\n      <th>4</th>\n      <td>4</td>\n      <td>28</td>\n      <td>Private</td>\n      <td>Bachelors</td>\n      <td>Married-civ-spouse</td>\n      <td>Prof-specialty</td>\n      <td>Wife</td>\n      <td>Black</td>\n      <td>Female</td>\n      <td>40</td>\n      <td>Cuba</td>\n      <td>&lt;=50K</td>\n      <td>25</td>\n    </tr>\n  </tbody>\n</table>\n</div>"
     },
     "execution_count": 13,
     "metadata": {},
     "output_type": "execute_result"
    }
   ],
   "source": [
    "df = pd.read_csv(\"../data/adult.csv\")\n",
    "\n",
    "df_cleaned = df.replace(\"?\", pd.NA).dropna()\n",
    "\n",
    "incorrect_salary_rows = df_cleaned[~df_cleaned[\"salary\"].str.isdigit()]"
   ],
   "metadata": {
    "collapsed": false,
    "pycharm": {
     "name": "#%%\n"
    },
    "ExecuteTime": {
     "end_time": "2023-11-21T13:02:57.546293100Z",
     "start_time": "2023-11-21T13:02:56.557301300Z"
    }
   }
  },
  {
   "cell_type": "markdown",
   "source": [
    "# Task 1\n",
    "Print the count of men and women in the dataset."
   ],
   "metadata": {
    "collapsed": false,
    "pycharm": {
     "name": "#%% md\n"
    }
   }
  },
  {
   "cell_type": "code",
   "execution_count": 15,
   "outputs": [
    {
     "name": "stdout",
     "output_type": "stream",
     "text": [
      "sex\n",
      "Male      21790\n",
      "Female    10771\n",
      "Name: count, dtype: int64\n"
     ]
    }
   ],
   "source": [
    "print(df[\"sex\"].value_counts())"
   ],
   "metadata": {
    "collapsed": false,
    "pycharm": {
     "name": "#%%\n"
    },
    "ExecuteTime": {
     "end_time": "2023-11-21T13:07:25.659451900Z",
     "start_time": "2023-11-21T13:07:25.548418700Z"
    }
   }
  },
  {
   "cell_type": "markdown",
   "source": [
    "# Task 2\n",
    "Find the average age of men in dataset"
   ],
   "metadata": {
    "collapsed": false,
    "pycharm": {
     "name": "#%% md\n"
    }
   }
  },
  {
   "cell_type": "code",
   "execution_count": 18,
   "outputs": [
    {
     "data": {
      "text/plain": "39.43354749885268"
     },
     "execution_count": 18,
     "metadata": {},
     "output_type": "execute_result"
    }
   ],
   "source": [
    "df_cleaned[df_cleaned[\"sex\"] == \"Male\"][\"age\"].mean()"
   ],
   "metadata": {
    "collapsed": false,
    "pycharm": {
     "name": "#%%\n"
    },
    "ExecuteTime": {
     "end_time": "2023-11-21T13:09:32.576662400Z",
     "start_time": "2023-11-21T13:09:32.407667900Z"
    }
   }
  },
  {
   "cell_type": "markdown",
   "source": [
    "# Task 3\n",
    "Get the percentage of people from Poland (native-country)"
   ],
   "metadata": {
    "collapsed": false,
    "pycharm": {
     "name": "#%% md\n"
    }
   }
  },
  {
   "cell_type": "code",
   "execution_count": 22,
   "outputs": [
    {
     "data": {
      "text/plain": "0.18"
     },
     "execution_count": 22,
     "metadata": {},
     "output_type": "execute_result"
    }
   ],
   "source": [
    "poland_count = df_cleaned[df_cleaned[\"native-country\"] == \"Poland\"].shape[0]\n",
    "total_count = df_cleaned.shape[0]\n",
    "round((poland_count / total_count) * 100, 2)"
   ],
   "metadata": {
    "collapsed": false,
    "pycharm": {
     "name": "#%%\n"
    },
    "ExecuteTime": {
     "end_time": "2023-11-21T13:17:02.983125300Z",
     "start_time": "2023-11-21T13:17:02.903133600Z"
    }
   }
  },
  {
   "cell_type": "markdown",
   "source": [
    "# Task 4\n",
    "Get the mean and standard deviation of the age for people who earn > 50K per year. After this, get it for those who earn <= 50K."
   ],
   "metadata": {
    "collapsed": false,
    "pycharm": {
     "name": "#%% md\n"
    }
   }
  },
  {
   "cell_type": "code",
   "execution_count": 26,
   "outputs": [
    {
     "data": {
      "text/plain": "36.78373786407767"
     },
     "execution_count": 26,
     "metadata": {},
     "output_type": "execute_result"
    }
   ],
   "source": [
    "mean_more50k = df_cleaned[df_cleaned[\"salary\"] == \">50K\"][\"age\"].mean()\n",
    "std_more50k = df_cleaned[df_cleaned[\"salary\"] == \">50K\"][\"age\"].std()\n",
    "mean_less50k = df_cleaned[df_cleaned[\"salary\"] == \"<=50K\"][\"age\"].mean()\n",
    "std_less50k = df_cleaned[df_cleaned[\"salary\"] == \"<=50K\"][\"age\"].std()"
   ],
   "metadata": {
    "collapsed": false,
    "pycharm": {
     "name": "#%%\n"
    },
    "ExecuteTime": {
     "end_time": "2023-11-21T13:21:43.795289200Z",
     "start_time": "2023-11-21T13:21:43.608285800Z"
    }
   }
  },
  {
   "cell_type": "markdown",
   "source": [
    "# Task 5\n",
    "Check, if there are some people without higher education (education: Bachelors, Prof-school, Assoc-acdm, Assoc-voc, Masters, Doctorate), but with > 50K salary"
   ],
   "metadata": {
    "collapsed": false,
    "pycharm": {
     "name": "#%% md\n"
    }
   }
  },
  {
   "cell_type": "code",
   "execution_count": 32,
   "outputs": [
    {
     "data": {
      "text/plain": "       Unnamed: 0  age         workclass     education      marital-status  \\\n7               7   52  Self-emp-not-inc       HS-grad  Married-civ-spouse   \n8               8   31           Private       Masters       Never-married   \n9               9   42           Private     Bachelors  Married-civ-spouse   \n10             10   37           Private  Some-college  Married-civ-spouse   \n11             11   30         State-gov     Bachelors  Married-civ-spouse   \n...           ...  ...               ...           ...                 ...   \n32538       32538   38           Private     Bachelors            Divorced   \n32545       32545   39         Local-gov    Assoc-acdm  Married-civ-spouse   \n32554       32554   53           Private       Masters  Married-civ-spouse   \n32557       32557   40           Private       HS-grad  Married-civ-spouse   \n32560       32560   52      Self-emp-inc       HS-grad  Married-civ-spouse   \n\n              occupation   relationship                race     sex  \\\n7        Exec-managerial        Husband               White    Male   \n8         Prof-specialty  Not-in-family               White  Female   \n9        Exec-managerial        Husband               White    Male   \n10       Exec-managerial        Husband               Black    Male   \n11        Prof-specialty        Husband  Asian-Pac-Islander    Male   \n...                  ...            ...                 ...     ...   \n32538     Prof-specialty      Unmarried               Black  Female   \n32545       Adm-clerical           Wife               White  Female   \n32554    Exec-managerial        Husband               White    Male   \n32557  Machine-op-inspct        Husband               White    Male   \n32560    Exec-managerial           Wife               White  Female   \n\n       hours-per-week native-country salary  salary K$  \n7                  45  United-States   >50K        307  \n8                  50  United-States   >50K        330  \n9                  40  United-States   >50K        303  \n10                 80  United-States   >50K        116  \n11                 40          India   >50K        279  \n...               ...            ...    ...        ...  \n32538              45  United-States   >50K        248  \n32545              20  United-States   >50K        122  \n32554              40  United-States   >50K        103  \n32557              40  United-States   >50K        173  \n32560              40  United-States   >50K        243  \n\n[7508 rows x 13 columns]",
      "text/html": "<div>\n<style scoped>\n    .dataframe tbody tr th:only-of-type {\n        vertical-align: middle;\n    }\n\n    .dataframe tbody tr th {\n        vertical-align: top;\n    }\n\n    .dataframe thead th {\n        text-align: right;\n    }\n</style>\n<table border=\"1\" class=\"dataframe\">\n  <thead>\n    <tr style=\"text-align: right;\">\n      <th></th>\n      <th>Unnamed: 0</th>\n      <th>age</th>\n      <th>workclass</th>\n      <th>education</th>\n      <th>marital-status</th>\n      <th>occupation</th>\n      <th>relationship</th>\n      <th>race</th>\n      <th>sex</th>\n      <th>hours-per-week</th>\n      <th>native-country</th>\n      <th>salary</th>\n      <th>salary K$</th>\n    </tr>\n  </thead>\n  <tbody>\n    <tr>\n      <th>7</th>\n      <td>7</td>\n      <td>52</td>\n      <td>Self-emp-not-inc</td>\n      <td>HS-grad</td>\n      <td>Married-civ-spouse</td>\n      <td>Exec-managerial</td>\n      <td>Husband</td>\n      <td>White</td>\n      <td>Male</td>\n      <td>45</td>\n      <td>United-States</td>\n      <td>&gt;50K</td>\n      <td>307</td>\n    </tr>\n    <tr>\n      <th>8</th>\n      <td>8</td>\n      <td>31</td>\n      <td>Private</td>\n      <td>Masters</td>\n      <td>Never-married</td>\n      <td>Prof-specialty</td>\n      <td>Not-in-family</td>\n      <td>White</td>\n      <td>Female</td>\n      <td>50</td>\n      <td>United-States</td>\n      <td>&gt;50K</td>\n      <td>330</td>\n    </tr>\n    <tr>\n      <th>9</th>\n      <td>9</td>\n      <td>42</td>\n      <td>Private</td>\n      <td>Bachelors</td>\n      <td>Married-civ-spouse</td>\n      <td>Exec-managerial</td>\n      <td>Husband</td>\n      <td>White</td>\n      <td>Male</td>\n      <td>40</td>\n      <td>United-States</td>\n      <td>&gt;50K</td>\n      <td>303</td>\n    </tr>\n    <tr>\n      <th>10</th>\n      <td>10</td>\n      <td>37</td>\n      <td>Private</td>\n      <td>Some-college</td>\n      <td>Married-civ-spouse</td>\n      <td>Exec-managerial</td>\n      <td>Husband</td>\n      <td>Black</td>\n      <td>Male</td>\n      <td>80</td>\n      <td>United-States</td>\n      <td>&gt;50K</td>\n      <td>116</td>\n    </tr>\n    <tr>\n      <th>11</th>\n      <td>11</td>\n      <td>30</td>\n      <td>State-gov</td>\n      <td>Bachelors</td>\n      <td>Married-civ-spouse</td>\n      <td>Prof-specialty</td>\n      <td>Husband</td>\n      <td>Asian-Pac-Islander</td>\n      <td>Male</td>\n      <td>40</td>\n      <td>India</td>\n      <td>&gt;50K</td>\n      <td>279</td>\n    </tr>\n    <tr>\n      <th>...</th>\n      <td>...</td>\n      <td>...</td>\n      <td>...</td>\n      <td>...</td>\n      <td>...</td>\n      <td>...</td>\n      <td>...</td>\n      <td>...</td>\n      <td>...</td>\n      <td>...</td>\n      <td>...</td>\n      <td>...</td>\n      <td>...</td>\n    </tr>\n    <tr>\n      <th>32538</th>\n      <td>32538</td>\n      <td>38</td>\n      <td>Private</td>\n      <td>Bachelors</td>\n      <td>Divorced</td>\n      <td>Prof-specialty</td>\n      <td>Unmarried</td>\n      <td>Black</td>\n      <td>Female</td>\n      <td>45</td>\n      <td>United-States</td>\n      <td>&gt;50K</td>\n      <td>248</td>\n    </tr>\n    <tr>\n      <th>32545</th>\n      <td>32545</td>\n      <td>39</td>\n      <td>Local-gov</td>\n      <td>Assoc-acdm</td>\n      <td>Married-civ-spouse</td>\n      <td>Adm-clerical</td>\n      <td>Wife</td>\n      <td>White</td>\n      <td>Female</td>\n      <td>20</td>\n      <td>United-States</td>\n      <td>&gt;50K</td>\n      <td>122</td>\n    </tr>\n    <tr>\n      <th>32554</th>\n      <td>32554</td>\n      <td>53</td>\n      <td>Private</td>\n      <td>Masters</td>\n      <td>Married-civ-spouse</td>\n      <td>Exec-managerial</td>\n      <td>Husband</td>\n      <td>White</td>\n      <td>Male</td>\n      <td>40</td>\n      <td>United-States</td>\n      <td>&gt;50K</td>\n      <td>103</td>\n    </tr>\n    <tr>\n      <th>32557</th>\n      <td>32557</td>\n      <td>40</td>\n      <td>Private</td>\n      <td>HS-grad</td>\n      <td>Married-civ-spouse</td>\n      <td>Machine-op-inspct</td>\n      <td>Husband</td>\n      <td>White</td>\n      <td>Male</td>\n      <td>40</td>\n      <td>United-States</td>\n      <td>&gt;50K</td>\n      <td>173</td>\n    </tr>\n    <tr>\n      <th>32560</th>\n      <td>32560</td>\n      <td>52</td>\n      <td>Self-emp-inc</td>\n      <td>HS-grad</td>\n      <td>Married-civ-spouse</td>\n      <td>Exec-managerial</td>\n      <td>Wife</td>\n      <td>White</td>\n      <td>Female</td>\n      <td>40</td>\n      <td>United-States</td>\n      <td>&gt;50K</td>\n      <td>243</td>\n    </tr>\n  </tbody>\n</table>\n<p>7508 rows × 13 columns</p>\n</div>"
     },
     "execution_count": 32,
     "metadata": {},
     "output_type": "execute_result"
    }
   ],
   "source": [
    "df_cleaned[\n",
    "    (df_cleaned[\"education\"] != \"Bachelors\")\n",
    "    | (df_cleaned[\"education\"] != \"Prof-school\")\n",
    "    | (df_cleaned[\"education\"] != \"Assoc-acdm\")\n",
    "    | (df_cleaned[\"education\"] != \"Assoc-voc\")\n",
    "    | (df_cleaned[\"education\"] != \"Masters\")\n",
    "    | (df_cleaned[\"education\"] != \"Doctorate\")\n",
    "][df_cleaned[\"salary K$\"] > 50]"
   ],
   "metadata": {
    "collapsed": false,
    "pycharm": {
     "name": "#%%\n"
    },
    "ExecuteTime": {
     "end_time": "2023-11-21T13:32:52.235494500Z",
     "start_time": "2023-11-21T13:32:51.879495600Z"
    }
   }
  },
  {
   "cell_type": "markdown",
   "source": [
    "# Task 6\n",
    "Get the statistics of age for each type of education. Use `groupby` and `describe` for this."
   ],
   "metadata": {
    "collapsed": false,
    "pycharm": {
     "name": "#%% md\n"
    }
   }
  },
  {
   "cell_type": "code",
   "execution_count": 34,
   "outputs": [
    {
     "data": {
      "text/plain": "               count       mean        std   min   25%   50%   75%   max\neducation                                                               \n10th           820.0  37.897561  16.225795  17.0  23.0  36.0  52.0  90.0\n11th          1048.0  32.363550  15.089307  17.0  18.0  28.5  43.0  90.0\n12th           377.0  32.013263  14.373710  17.0  19.0  28.0  41.0  79.0\n1st-4th        151.0  44.622517  14.929051  19.0  33.0  44.0  56.0  81.0\n5th-6th        288.0  41.649306  14.754622  17.0  28.0  41.0  53.0  82.0\n7th-8th        557.0  47.631957  15.737479  17.0  34.0  49.0  60.0  90.0\n9th            455.0  40.303297  15.335754  17.0  28.0  38.0  53.0  90.0\nAssoc-acdm    1008.0  37.286706  10.509755  19.0  29.0  36.0  44.0  90.0\nAssoc-voc     1307.0  38.246366  11.181253  19.0  30.0  37.0  45.0  84.0\nBachelors     5044.0  38.641554  11.577566  19.0  29.0  37.0  46.0  90.0\nDoctorate      375.0  47.130667  11.471727  24.0  39.0  47.0  54.0  80.0\nHS-grad       9840.0  38.640955  13.067730  17.0  28.0  37.0  48.0  90.0\nMasters       1627.0  43.740012  10.735356  18.0  36.0  43.0  50.0  90.0\nPreschool       45.0  41.288889  15.175672  19.0  30.0  40.0  53.0  75.0\nProf-school    542.0  44.249077  11.428098  25.0  36.0  43.0  50.0  90.0\nSome-college  6678.0  36.135370  13.073528  17.0  25.0  35.0  45.0  90.0",
      "text/html": "<div>\n<style scoped>\n    .dataframe tbody tr th:only-of-type {\n        vertical-align: middle;\n    }\n\n    .dataframe tbody tr th {\n        vertical-align: top;\n    }\n\n    .dataframe thead th {\n        text-align: right;\n    }\n</style>\n<table border=\"1\" class=\"dataframe\">\n  <thead>\n    <tr style=\"text-align: right;\">\n      <th></th>\n      <th>count</th>\n      <th>mean</th>\n      <th>std</th>\n      <th>min</th>\n      <th>25%</th>\n      <th>50%</th>\n      <th>75%</th>\n      <th>max</th>\n    </tr>\n    <tr>\n      <th>education</th>\n      <th></th>\n      <th></th>\n      <th></th>\n      <th></th>\n      <th></th>\n      <th></th>\n      <th></th>\n      <th></th>\n    </tr>\n  </thead>\n  <tbody>\n    <tr>\n      <th>10th</th>\n      <td>820.0</td>\n      <td>37.897561</td>\n      <td>16.225795</td>\n      <td>17.0</td>\n      <td>23.0</td>\n      <td>36.0</td>\n      <td>52.0</td>\n      <td>90.0</td>\n    </tr>\n    <tr>\n      <th>11th</th>\n      <td>1048.0</td>\n      <td>32.363550</td>\n      <td>15.089307</td>\n      <td>17.0</td>\n      <td>18.0</td>\n      <td>28.5</td>\n      <td>43.0</td>\n      <td>90.0</td>\n    </tr>\n    <tr>\n      <th>12th</th>\n      <td>377.0</td>\n      <td>32.013263</td>\n      <td>14.373710</td>\n      <td>17.0</td>\n      <td>19.0</td>\n      <td>28.0</td>\n      <td>41.0</td>\n      <td>79.0</td>\n    </tr>\n    <tr>\n      <th>1st-4th</th>\n      <td>151.0</td>\n      <td>44.622517</td>\n      <td>14.929051</td>\n      <td>19.0</td>\n      <td>33.0</td>\n      <td>44.0</td>\n      <td>56.0</td>\n      <td>81.0</td>\n    </tr>\n    <tr>\n      <th>5th-6th</th>\n      <td>288.0</td>\n      <td>41.649306</td>\n      <td>14.754622</td>\n      <td>17.0</td>\n      <td>28.0</td>\n      <td>41.0</td>\n      <td>53.0</td>\n      <td>82.0</td>\n    </tr>\n    <tr>\n      <th>7th-8th</th>\n      <td>557.0</td>\n      <td>47.631957</td>\n      <td>15.737479</td>\n      <td>17.0</td>\n      <td>34.0</td>\n      <td>49.0</td>\n      <td>60.0</td>\n      <td>90.0</td>\n    </tr>\n    <tr>\n      <th>9th</th>\n      <td>455.0</td>\n      <td>40.303297</td>\n      <td>15.335754</td>\n      <td>17.0</td>\n      <td>28.0</td>\n      <td>38.0</td>\n      <td>53.0</td>\n      <td>90.0</td>\n    </tr>\n    <tr>\n      <th>Assoc-acdm</th>\n      <td>1008.0</td>\n      <td>37.286706</td>\n      <td>10.509755</td>\n      <td>19.0</td>\n      <td>29.0</td>\n      <td>36.0</td>\n      <td>44.0</td>\n      <td>90.0</td>\n    </tr>\n    <tr>\n      <th>Assoc-voc</th>\n      <td>1307.0</td>\n      <td>38.246366</td>\n      <td>11.181253</td>\n      <td>19.0</td>\n      <td>30.0</td>\n      <td>37.0</td>\n      <td>45.0</td>\n      <td>84.0</td>\n    </tr>\n    <tr>\n      <th>Bachelors</th>\n      <td>5044.0</td>\n      <td>38.641554</td>\n      <td>11.577566</td>\n      <td>19.0</td>\n      <td>29.0</td>\n      <td>37.0</td>\n      <td>46.0</td>\n      <td>90.0</td>\n    </tr>\n    <tr>\n      <th>Doctorate</th>\n      <td>375.0</td>\n      <td>47.130667</td>\n      <td>11.471727</td>\n      <td>24.0</td>\n      <td>39.0</td>\n      <td>47.0</td>\n      <td>54.0</td>\n      <td>80.0</td>\n    </tr>\n    <tr>\n      <th>HS-grad</th>\n      <td>9840.0</td>\n      <td>38.640955</td>\n      <td>13.067730</td>\n      <td>17.0</td>\n      <td>28.0</td>\n      <td>37.0</td>\n      <td>48.0</td>\n      <td>90.0</td>\n    </tr>\n    <tr>\n      <th>Masters</th>\n      <td>1627.0</td>\n      <td>43.740012</td>\n      <td>10.735356</td>\n      <td>18.0</td>\n      <td>36.0</td>\n      <td>43.0</td>\n      <td>50.0</td>\n      <td>90.0</td>\n    </tr>\n    <tr>\n      <th>Preschool</th>\n      <td>45.0</td>\n      <td>41.288889</td>\n      <td>15.175672</td>\n      <td>19.0</td>\n      <td>30.0</td>\n      <td>40.0</td>\n      <td>53.0</td>\n      <td>75.0</td>\n    </tr>\n    <tr>\n      <th>Prof-school</th>\n      <td>542.0</td>\n      <td>44.249077</td>\n      <td>11.428098</td>\n      <td>25.0</td>\n      <td>36.0</td>\n      <td>43.0</td>\n      <td>50.0</td>\n      <td>90.0</td>\n    </tr>\n    <tr>\n      <th>Some-college</th>\n      <td>6678.0</td>\n      <td>36.135370</td>\n      <td>13.073528</td>\n      <td>17.0</td>\n      <td>25.0</td>\n      <td>35.0</td>\n      <td>45.0</td>\n      <td>90.0</td>\n    </tr>\n  </tbody>\n</table>\n</div>"
     },
     "execution_count": 34,
     "metadata": {},
     "output_type": "execute_result"
    }
   ],
   "source": [
    "df_cleaned.groupby(\"education\")[\"age\"].describe()"
   ],
   "metadata": {
    "collapsed": false,
    "pycharm": {
     "name": "#%%\n"
    },
    "ExecuteTime": {
     "end_time": "2023-11-21T14:20:39.227198Z",
     "start_time": "2023-11-21T14:20:39.014198300Z"
    }
   }
  },
  {
   "cell_type": "markdown",
   "source": [
    "# Task 7\n",
    "Compare the married and non-married men salaries. Who earns more? (>50K or <=50K)\n",
    "Married men are those, whom `marital-status` starts with \"Married\". Others are not."
   ],
   "metadata": {
    "collapsed": false,
    "pycharm": {
     "name": "#%% md\n"
    }
   }
  },
  {
   "cell_type": "code",
   "execution_count": 38,
   "outputs": [],
   "source": [
    "married_men_salaries = df[\n",
    "    (df[\"marital-status\"].str.startswith(\"Married\")) & (df[\"sex\"] == \"Male\")\n",
    "][\"salary K$\"].mean()\n",
    "non_married_men_salaries = df[\n",
    "    ~df[\"marital-status\"].str.startswith(\"Married\") & (df[\"sex\"] == \"Male\")\n",
    "][\"salary K$\"].mean()"
   ],
   "metadata": {
    "collapsed": false,
    "pycharm": {
     "name": "#%%\n"
    },
    "ExecuteTime": {
     "end_time": "2023-11-21T14:23:54.917965900Z",
     "start_time": "2023-11-21T14:23:54.793964500Z"
    }
   }
  },
  {
   "cell_type": "markdown",
   "source": [
    "# Task 8\n",
    "Get the max hours per week some person works. How many people works the same amount of hours per week?"
   ],
   "metadata": {
    "collapsed": false,
    "pycharm": {
     "name": "#%% md\n"
    }
   }
  },
  {
   "cell_type": "code",
   "execution_count": 40,
   "outputs": [
    {
     "data": {
      "text/plain": "       Unnamed: 0  age         workclass     education      marital-status  \\\n935           935   37           Private       HS-grad  Married-civ-spouse   \n1172         1172   25           Private       Masters  Married-civ-spouse   \n1887         1887   55  Self-emp-not-inc  Some-college  Married-civ-spouse   \n3578         3578   37      Self-emp-inc     Doctorate  Married-civ-spouse   \n4086         4086   50                 ?          10th  Married-civ-spouse   \n...           ...  ...               ...           ...                 ...   \n30992       30992   40      Self-emp-inc       Masters       Never-married   \n31681       31681   43           Private       HS-grad  Married-civ-spouse   \n31699       31699   43  Self-emp-not-inc  Some-college  Married-civ-spouse   \n32469       32469   58      Self-emp-inc     Doctorate       Never-married   \n32531       32531   30                 ?     Bachelors       Never-married   \n\n            occupation   relationship                race     sex  \\\n935       Craft-repair        Husband               White    Male   \n1172   Farming-fishing  Not-in-family               White    Male   \n1887   Farming-fishing        Husband               White    Male   \n3578    Prof-specialty        Husband               Black    Male   \n4086                 ?        Husband               White    Male   \n...                ...            ...                 ...     ...   \n30992    Other-service      Own-child               White    Male   \n31681     Craft-repair        Husband               White    Male   \n31699  Farming-fishing        Husband               White    Male   \n32469   Prof-specialty  Not-in-family               White  Female   \n32531                ?  Not-in-family  Asian-Pac-Islander  Female   \n\n       hours-per-week native-country salary  salary K$  \n935                99  United-States   >50K        274  \n1172               99  United-States   >50K        207  \n1887               99  United-States   >50K        188  \n3578               99  United-States   >50K        136  \n4086               99  United-States  <=50K         21  \n...               ...            ...    ...        ...  \n30992              99  United-States  <=50K         48  \n31681              99  United-States   >50K        237  \n31699              99  United-States  <=50K         40  \n32469              99              ?  <=50K         29  \n32531              99  United-States  <=50K         46  \n\n[85 rows x 13 columns]",
      "text/html": "<div>\n<style scoped>\n    .dataframe tbody tr th:only-of-type {\n        vertical-align: middle;\n    }\n\n    .dataframe tbody tr th {\n        vertical-align: top;\n    }\n\n    .dataframe thead th {\n        text-align: right;\n    }\n</style>\n<table border=\"1\" class=\"dataframe\">\n  <thead>\n    <tr style=\"text-align: right;\">\n      <th></th>\n      <th>Unnamed: 0</th>\n      <th>age</th>\n      <th>workclass</th>\n      <th>education</th>\n      <th>marital-status</th>\n      <th>occupation</th>\n      <th>relationship</th>\n      <th>race</th>\n      <th>sex</th>\n      <th>hours-per-week</th>\n      <th>native-country</th>\n      <th>salary</th>\n      <th>salary K$</th>\n    </tr>\n  </thead>\n  <tbody>\n    <tr>\n      <th>935</th>\n      <td>935</td>\n      <td>37</td>\n      <td>Private</td>\n      <td>HS-grad</td>\n      <td>Married-civ-spouse</td>\n      <td>Craft-repair</td>\n      <td>Husband</td>\n      <td>White</td>\n      <td>Male</td>\n      <td>99</td>\n      <td>United-States</td>\n      <td>&gt;50K</td>\n      <td>274</td>\n    </tr>\n    <tr>\n      <th>1172</th>\n      <td>1172</td>\n      <td>25</td>\n      <td>Private</td>\n      <td>Masters</td>\n      <td>Married-civ-spouse</td>\n      <td>Farming-fishing</td>\n      <td>Not-in-family</td>\n      <td>White</td>\n      <td>Male</td>\n      <td>99</td>\n      <td>United-States</td>\n      <td>&gt;50K</td>\n      <td>207</td>\n    </tr>\n    <tr>\n      <th>1887</th>\n      <td>1887</td>\n      <td>55</td>\n      <td>Self-emp-not-inc</td>\n      <td>Some-college</td>\n      <td>Married-civ-spouse</td>\n      <td>Farming-fishing</td>\n      <td>Husband</td>\n      <td>White</td>\n      <td>Male</td>\n      <td>99</td>\n      <td>United-States</td>\n      <td>&gt;50K</td>\n      <td>188</td>\n    </tr>\n    <tr>\n      <th>3578</th>\n      <td>3578</td>\n      <td>37</td>\n      <td>Self-emp-inc</td>\n      <td>Doctorate</td>\n      <td>Married-civ-spouse</td>\n      <td>Prof-specialty</td>\n      <td>Husband</td>\n      <td>Black</td>\n      <td>Male</td>\n      <td>99</td>\n      <td>United-States</td>\n      <td>&gt;50K</td>\n      <td>136</td>\n    </tr>\n    <tr>\n      <th>4086</th>\n      <td>4086</td>\n      <td>50</td>\n      <td>?</td>\n      <td>10th</td>\n      <td>Married-civ-spouse</td>\n      <td>?</td>\n      <td>Husband</td>\n      <td>White</td>\n      <td>Male</td>\n      <td>99</td>\n      <td>United-States</td>\n      <td>&lt;=50K</td>\n      <td>21</td>\n    </tr>\n    <tr>\n      <th>...</th>\n      <td>...</td>\n      <td>...</td>\n      <td>...</td>\n      <td>...</td>\n      <td>...</td>\n      <td>...</td>\n      <td>...</td>\n      <td>...</td>\n      <td>...</td>\n      <td>...</td>\n      <td>...</td>\n      <td>...</td>\n      <td>...</td>\n    </tr>\n    <tr>\n      <th>30992</th>\n      <td>30992</td>\n      <td>40</td>\n      <td>Self-emp-inc</td>\n      <td>Masters</td>\n      <td>Never-married</td>\n      <td>Other-service</td>\n      <td>Own-child</td>\n      <td>White</td>\n      <td>Male</td>\n      <td>99</td>\n      <td>United-States</td>\n      <td>&lt;=50K</td>\n      <td>48</td>\n    </tr>\n    <tr>\n      <th>31681</th>\n      <td>31681</td>\n      <td>43</td>\n      <td>Private</td>\n      <td>HS-grad</td>\n      <td>Married-civ-spouse</td>\n      <td>Craft-repair</td>\n      <td>Husband</td>\n      <td>White</td>\n      <td>Male</td>\n      <td>99</td>\n      <td>United-States</td>\n      <td>&gt;50K</td>\n      <td>237</td>\n    </tr>\n    <tr>\n      <th>31699</th>\n      <td>31699</td>\n      <td>43</td>\n      <td>Self-emp-not-inc</td>\n      <td>Some-college</td>\n      <td>Married-civ-spouse</td>\n      <td>Farming-fishing</td>\n      <td>Husband</td>\n      <td>White</td>\n      <td>Male</td>\n      <td>99</td>\n      <td>United-States</td>\n      <td>&lt;=50K</td>\n      <td>40</td>\n    </tr>\n    <tr>\n      <th>32469</th>\n      <td>32469</td>\n      <td>58</td>\n      <td>Self-emp-inc</td>\n      <td>Doctorate</td>\n      <td>Never-married</td>\n      <td>Prof-specialty</td>\n      <td>Not-in-family</td>\n      <td>White</td>\n      <td>Female</td>\n      <td>99</td>\n      <td>?</td>\n      <td>&lt;=50K</td>\n      <td>29</td>\n    </tr>\n    <tr>\n      <th>32531</th>\n      <td>32531</td>\n      <td>30</td>\n      <td>?</td>\n      <td>Bachelors</td>\n      <td>Never-married</td>\n      <td>?</td>\n      <td>Not-in-family</td>\n      <td>Asian-Pac-Islander</td>\n      <td>Female</td>\n      <td>99</td>\n      <td>United-States</td>\n      <td>&lt;=50K</td>\n      <td>46</td>\n    </tr>\n  </tbody>\n</table>\n<p>85 rows × 13 columns</p>\n</div>"
     },
     "execution_count": 40,
     "metadata": {},
     "output_type": "execute_result"
    }
   ],
   "source": [
    "df[df[\"hours-per-week\"] == df[\"hours-per-week\"].max()]"
   ],
   "metadata": {
    "collapsed": false,
    "pycharm": {
     "name": "#%%\n"
    },
    "ExecuteTime": {
     "end_time": "2023-11-21T14:26:09.516952500Z",
     "start_time": "2023-11-21T14:26:09.402950Z"
    }
   }
  },
  {
   "cell_type": "markdown",
   "source": [
    "# Task 9\n",
    "Analyze the correlation between data in dataset. Understand connected fields in it and print highlight thier connection."
   ],
   "metadata": {
    "collapsed": false,
    "pycharm": {
     "name": "#%% md\n"
    }
   }
  },
  {
   "cell_type": "code",
   "execution_count": 44,
   "outputs": [
    {
     "data": {
      "text/plain": "<Figure size 1200x800 with 2 Axes>",
      "image/png": "[encoded data removed]"
     },
     "metadata": {},
     "output_type": "display_data"
    }
   ],
   "source": [
    "import seaborn as sns\n",
    "import matplotlib.pyplot as plt\n",
    "\n",
    "correlation_matrix = df_cleaned.select_dtypes(include=[\"float64\", \"int64\"]).corr()\n",
    "\n",
    "plt.figure(figsize=(12, 8))\n",
    "sns.heatmap(correlation_matrix, annot=True, cmap=\"coolwarm\", linewidths=0.5)\n",
    "plt.title(\"Correlation Matrix\")\n",
    "plt.show()"
   ],
   "metadata": {
    "collapsed": false,
    "pycharm": {
     "name": "#%%\n"
    },
    "ExecuteTime": {
     "end_time": "2023-11-21T14:34:57.882441700Z",
     "start_time": "2023-11-21T14:34:52.260754300Z"
    }
   }
  },
  {
   "cell_type": "code",
   "execution_count": null,
   "outputs": [],
   "source": [],
   "metadata": {
    "collapsed": false
   }
  }
 ],
 "metadata": {
  "kernelspec": {
   "display_name": "Python 3",
   "language": "python",
   "name": "python3"
  },
  "language_info": {
   "codemirror_mode": {
    "name": "ipython",
    "version": 2
   },
   "file_extension": ".py",
   "mimetype": "text/x-python",
   "name": "python",
   "nbconvert_exporter": "python",
   "pygments_lexer": "ipython2",
   "version": "2.7.6"
  }
 },
 "nbformat": 4,
 "nbformat_minor": 0
}
