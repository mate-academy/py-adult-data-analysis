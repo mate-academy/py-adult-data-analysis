{
 "cells": [
  {
   "cell_type": "code",
   "execution_count": null,
   "outputs": [],
   "source": [
    "import numpy as np\n",
    "import pandas as pd"
   ],
   "metadata": {
    "collapsed": false,
    "pycharm": {
     "name": "#%%\n"
    }
   }
  },
  {
   "cell_type": "markdown",
   "source": [
    "# Task 0\n",
    "Read the dataset from csv file & perform data cleaning - remove all rows, which contains `?` in some columns.\n",
    "Also check for data correctness (salary & salary $K)."
   ],
   "metadata": {
    "collapsed": false,
    "pycharm": {
     "name": "#%% md\n"
    }
   }
  },
  {
   "cell_type": "code",
   "execution_count": 17,
   "outputs": [
    {
     "name": "stdout",
     "output_type": "stream",
     "text": [
      "The number of rows with correct salary is:  30162\n"
     ]
    },
    {
     "data": {
      "text/plain": "<bound method DataFrame.info of        Unnamed: 0  age         workclass   education      marital-status  \\\n0               0   39         State-gov   Bachelors       Never-married   \n1               1   50  Self-emp-not-inc   Bachelors  Married-civ-spouse   \n2               2   38           Private     HS-grad            Divorced   \n3               3   53           Private        11th  Married-civ-spouse   \n4               4   28           Private   Bachelors  Married-civ-spouse   \n...           ...  ...               ...         ...                 ...   \n32556       32556   27           Private  Assoc-acdm  Married-civ-spouse   \n32557       32557   40           Private     HS-grad  Married-civ-spouse   \n32558       32558   58           Private     HS-grad             Widowed   \n32559       32559   22           Private     HS-grad       Never-married   \n32560       32560   52      Self-emp-inc     HS-grad  Married-civ-spouse   \n\n              occupation   relationship   race     sex  hours-per-week  \\\n0           Adm-clerical  Not-in-family  White    Male              40   \n1        Exec-managerial        Husband  White    Male              13   \n2      Handlers-cleaners  Not-in-family  White    Male              40   \n3      Handlers-cleaners        Husband  Black    Male              40   \n4         Prof-specialty           Wife  Black  Female              40   \n...                  ...            ...    ...     ...             ...   \n32556       Tech-support           Wife  White  Female              38   \n32557  Machine-op-inspct        Husband  White    Male              40   \n32558       Adm-clerical      Unmarried  White  Female              40   \n32559       Adm-clerical      Own-child  White    Male              20   \n32560    Exec-managerial           Wife  White  Female              40   \n\n      native-country salary  salary K$  salary_check  \n0      United-States  <=50K         39          True  \n1      United-States  <=50K         35          True  \n2      United-States  <=50K         27          True  \n3      United-States  <=50K         43          True  \n4               Cuba  <=50K         25          True  \n...              ...    ...        ...           ...  \n32556  United-States  <=50K         36          True  \n32557  United-States   >50K        173          True  \n32558  United-States  <=50K         40          True  \n32559  United-States  <=50K         38          True  \n32560  United-States   >50K        243          True  \n\n[30162 rows x 14 columns]>"
     },
     "execution_count": 17,
     "metadata": {},
     "output_type": "execute_result"
    }
   ],
   "source": [
    "df = pd.read_csv('../data/adult.csv')\n",
    "df = df[(df[['age', 'workclass', 'education', 'marital-status', 'occupation', 'relationship', 'race', 'sex', 'hours-per-week', 'native-country', 'salary', 'salary K$']] != '?').all(axis=1)]\n",
    "df['salary_check'] = (df['salary'] == '>50K') & (df['salary K$'] > 50) | (df['salary'] == '<=50K') & (df['salary K$'] <= 50)\n",
    "correct_rows = df[df['salary_check']]\n",
    "print(\"The number of rows with correct salary is: \", len(correct_rows))\n",
    "df.info"
   ],
   "metadata": {
    "collapsed": false,
    "pycharm": {
     "name": "#%%\n"
    },
    "ExecuteTime": {
     "end_time": "2023-11-20T12:54:24.298333400Z",
     "start_time": "2023-11-20T12:54:24.203506200Z"
    }
   }
  },
  {
   "cell_type": "markdown",
   "source": [
    "# Task 1\n",
    "Print the count of men and women in the dataset."
   ],
   "metadata": {
    "collapsed": false,
    "pycharm": {
     "name": "#%% md\n"
    }
   }
  },
  {
   "cell_type": "code",
   "execution_count": 12,
   "outputs": [
    {
     "name": "stdout",
     "output_type": "stream",
     "text": [
      "sex\n",
      "Male      20380\n",
      "Female     9782\n",
      "Name: count, dtype: int64\n"
     ]
    }
   ],
   "source": [
    "print(df['sex'].value_counts())"
   ],
   "metadata": {
    "collapsed": false,
    "pycharm": {
     "name": "#%%\n"
    },
    "ExecuteTime": {
     "end_time": "2023-11-20T12:38:55.209070200Z",
     "start_time": "2023-11-20T12:38:55.193003100Z"
    }
   }
  },
  {
   "cell_type": "markdown",
   "source": [
    "# Task 2\n",
    "Find the average age of men in dataset"
   ],
   "metadata": {
    "collapsed": false,
    "pycharm": {
     "name": "#%% md\n"
    }
   }
  },
  {
   "cell_type": "code",
   "execution_count": 14,
   "outputs": [
    {
     "name": "stdout",
     "output_type": "stream",
     "text": [
      "Average age of men in dataset:  39.18\n"
     ]
    }
   ],
   "source": [
    "average_age_men = round(df[df['sex'] == 'Male']['age'].mean(), 2)\n",
    "print(\"Average age of men in dataset: \", average_age_men)"
   ],
   "metadata": {
    "collapsed": false,
    "pycharm": {
     "name": "#%%\n"
    },
    "ExecuteTime": {
     "end_time": "2023-11-20T12:43:18.716237800Z",
     "start_time": "2023-11-20T12:43:18.702068300Z"
    }
   }
  },
  {
   "cell_type": "markdown",
   "source": [
    "# Task 3\n",
    "Get the percentage of people from Poland (native-country)"
   ],
   "metadata": {
    "collapsed": false,
    "pycharm": {
     "name": "#%% md\n"
    }
   }
  },
  {
   "cell_type": "code",
   "execution_count": 15,
   "outputs": [
    {
     "name": "stdout",
     "output_type": "stream",
     "text": [
      "The percentage of people from Poland:  0.19\n"
     ]
    }
   ],
   "source": [
    "total_people = df.shape[0]  \n",
    "people_from_poland = df[df['native-country'] == 'Poland'].shape[0]  \n",
    "percentage_poland = (people_from_poland / total_people) * 100\n",
    "percentage_poland = round(percentage_poland, 2)  \n",
    "print(\"The percentage of people from Poland: \", percentage_poland)"
   ],
   "metadata": {
    "collapsed": false,
    "pycharm": {
     "name": "#%%\n"
    },
    "ExecuteTime": {
     "end_time": "2023-11-20T12:45:44.044973700Z",
     "start_time": "2023-11-20T12:45:44.041034900Z"
    }
   }
  },
  {
   "cell_type": "markdown",
   "source": [
    "# Task 4\n",
    "Get the mean and standard deviation of the age for people who earn > 50K per year. After this, get it for those who earn <= 50K."
   ],
   "metadata": {
    "collapsed": false,
    "pycharm": {
     "name": "#%% md\n"
    }
   }
  },
  {
   "cell_type": "code",
   "execution_count": 16,
   "outputs": [
    {
     "name": "stdout",
     "output_type": "stream",
     "text": [
      "Mean age of high income people: 43.96\n",
      "Standard deviation of age for high income people: 10.27\n",
      "Mean age of low income people: 36.61\n",
      "Standard deviation of age for low income people: 13.46\n"
     ]
    }
   ],
   "source": [
    "high_income = df[df['salary'] == '>50K']\n",
    "mean_age_high_income = round(high_income['age'].mean(), 2)\n",
    "std_age_high_income = round(high_income['age'].std(), 2)\n",
    "print('Mean age of high income people:', mean_age_high_income)\n",
    "print('Standard deviation of age for high income people:', std_age_high_income)\n",
    "\n",
    "low_income = df[df['salary'] == '<=50K']\n",
    "mean_age_low_income = round(low_income['age'].mean(), 2)\n",
    "std_age_low_income = round(low_income['age'].std(), 2)\n",
    "print('Mean age of low income people:', mean_age_low_income)\n",
    "print('Standard deviation of age for low income people:', std_age_low_income)"
   ],
   "metadata": {
    "collapsed": false,
    "pycharm": {
     "name": "#%%\n"
    },
    "ExecuteTime": {
     "end_time": "2023-11-20T12:52:20.141831300Z",
     "start_time": "2023-11-20T12:52:20.123654300Z"
    }
   }
  },
  {
   "cell_type": "markdown",
   "source": [
    "# Task 5\n",
    "Check, if there are some people without higher education (education: Bachelors, Prof-school, Assoc-acdm, Assoc-voc, Masters, Doctorate), but with > 50K salary"
   ],
   "metadata": {
    "collapsed": false,
    "pycharm": {
     "name": "#%% md\n"
    }
   }
  },
  {
   "cell_type": "code",
   "execution_count": 22,
   "outputs": [
    {
     "name": "stdout",
     "output_type": "stream",
     "text": [
      "Number of people without higher education, but with > 50K salary: 0\n"
     ]
    }
   ],
   "source": [
    "high_education = ['Bachelors', 'Prof-school', 'Assoc-acdm', 'Assoc-voc', 'Masters', 'Doctorate']\n",
    "people_without_high_edu = df[(~df['education'].isin(high_education)) & (df['salary']==1)]\n",
    "num_people_without_high_edu = people_without_high_edu.shape[0]\n",
    "print(\"Number of people without higher education, but with > 50K salary:\",num_people_without_high_edu)"
   ],
   "metadata": {
    "collapsed": false,
    "pycharm": {
     "name": "#%%\n"
    },
    "ExecuteTime": {
     "end_time": "2023-11-20T13:39:25.545132200Z",
     "start_time": "2023-11-20T13:39:25.544624900Z"
    }
   }
  },
  {
   "cell_type": "markdown",
   "source": [
    "# Task 6\n",
    "Get the statistics of age for each type of education. Use `groupby` and `describe` for this."
   ],
   "metadata": {
    "collapsed": false,
    "pycharm": {
     "name": "#%% md\n"
    }
   }
  },
  {
   "cell_type": "code",
   "execution_count": 23,
   "outputs": [
    {
     "name": "stdout",
     "output_type": "stream",
     "text": [
      "               count       mean        std   min   25%   50%   75%   max\n",
      "education                                                               \n",
      "10th           820.0  37.897561  16.225795  17.0  23.0  36.0  52.0  90.0\n",
      "11th          1048.0  32.363550  15.089307  17.0  18.0  28.5  43.0  90.0\n",
      "12th           377.0  32.013263  14.373710  17.0  19.0  28.0  41.0  79.0\n",
      "1st-4th        151.0  44.622517  14.929051  19.0  33.0  44.0  56.0  81.0\n",
      "5th-6th        288.0  41.649306  14.754622  17.0  28.0  41.0  53.0  82.0\n",
      "7th-8th        557.0  47.631957  15.737479  17.0  34.0  49.0  60.0  90.0\n",
      "9th            455.0  40.303297  15.335754  17.0  28.0  38.0  53.0  90.0\n",
      "Assoc-acdm    1008.0  37.286706  10.509755  19.0  29.0  36.0  44.0  90.0\n",
      "Assoc-voc     1307.0  38.246366  11.181253  19.0  30.0  37.0  45.0  84.0\n",
      "Bachelors     5044.0  38.641554  11.577566  19.0  29.0  37.0  46.0  90.0\n",
      "Doctorate      375.0  47.130667  11.471727  24.0  39.0  47.0  54.0  80.0\n",
      "HS-grad       9840.0  38.640955  13.067730  17.0  28.0  37.0  48.0  90.0\n",
      "Masters       1627.0  43.740012  10.735356  18.0  36.0  43.0  50.0  90.0\n",
      "Preschool       45.0  41.288889  15.175672  19.0  30.0  40.0  53.0  75.0\n",
      "Prof-school    542.0  44.249077  11.428098  25.0  36.0  43.0  50.0  90.0\n",
      "Some-college  6678.0  36.135370  13.073528  17.0  25.0  35.0  45.0  90.0\n"
     ]
    }
   ],
   "source": [
    "stats_age = df.groupby('education')['age'].describe()\n",
    "print(stats_age)"
   ],
   "metadata": {
    "collapsed": false,
    "pycharm": {
     "name": "#%%\n"
    },
    "ExecuteTime": {
     "end_time": "2023-11-20T13:41:25.308383600Z",
     "start_time": "2023-11-20T13:41:25.252009200Z"
    }
   }
  },
  {
   "cell_type": "markdown",
   "source": [
    "# Task 7\n",
    "Compare the married and non-married men salaries. Who earns more? (>50K or <=50K)\n",
    "Married men are those, whom `marital-status` starts with \"Married\". Others are not."
   ],
   "metadata": {
    "collapsed": false,
    "pycharm": {
     "name": "#%% md\n"
    }
   }
  },
  {
   "cell_type": "code",
   "execution_count": 25,
   "outputs": [
    {
     "name": "stdout",
     "output_type": "stream",
     "text": [
      "Married men earning >50K:  5723\n",
      "Married men earning <=50K:  7052\n",
      "Non-married men earning >50K:  673\n",
      "Non-married men earning <=50K:  6932\n"
     ]
    }
   ],
   "source": [
    "mask_married = df['marital-status'].str.startswith(\"Married\")\n",
    "\n",
    "married_men = df[(df['sex'] == 'Male') & mask_married]\n",
    "non_married_men = df[(df['sex'] == 'Male') & ~mask_married]\n",
    "\n",
    "high_income_married = married_men[married_men['salary'] == '>50K'].shape[0]\n",
    "low_income_married = married_men[married_men['salary'] == '<=50K'].shape[0]\n",
    "\n",
    "high_income_non_married = non_married_men[non_married_men['salary'] == '>50K'].shape[0]\n",
    "low_income_non_married = non_married_men[non_married_men['salary'] == '<=50K'].shape[0]\n",
    "\n",
    "print(\"Married men earning >50K: \", high_income_married)\n",
    "print(\"Married men earning <=50K: \", low_income_married)\n",
    "print(\"Non-married men earning >50K: \", high_income_non_married)\n",
    "print(\"Non-married men earning <=50K: \", low_income_non_married)"
   ],
   "metadata": {
    "collapsed": false,
    "pycharm": {
     "name": "#%%\n"
    },
    "ExecuteTime": {
     "end_time": "2023-11-20T13:50:13.391844800Z",
     "start_time": "2023-11-20T13:50:13.360435800Z"
    }
   }
  },
  {
   "cell_type": "markdown",
   "source": [
    "# Task 8\n",
    "Get the max hours per week some person works. How many people works the same amount of hours per week?"
   ],
   "metadata": {
    "collapsed": false,
    "pycharm": {
     "name": "#%% md\n"
    }
   }
  },
  {
   "cell_type": "code",
   "execution_count": 26,
   "outputs": [
    {
     "name": "stdout",
     "output_type": "stream",
     "text": [
      "Max hours per week: 99\n",
      "Number of people working the same max hours per week: 78\n"
     ]
    }
   ],
   "source": [
    "max_hours_per_week = df['hours-per-week'].max()\n",
    "print(\"Max hours per week:\", max_hours_per_week)\n",
    "\n",
    "num_people_same_hours = (df['hours-per-week'] == max_hours_per_week).sum()\n",
    "print(\"Number of people working the same max hours per week:\", num_people_same_hours)"
   ],
   "metadata": {
    "collapsed": false,
    "pycharm": {
     "name": "#%%\n"
    },
    "ExecuteTime": {
     "end_time": "2023-11-20T13:53:41.503625700Z",
     "start_time": "2023-11-20T13:53:41.495826900Z"
    }
   }
  },
  {
   "cell_type": "markdown",
   "source": [
    "# Task 9\n",
    "Analyze the correlation between data in dataset. Understand connected fields in it and print highlight thier connection."
   ],
   "metadata": {
    "collapsed": false,
    "pycharm": {
     "name": "#%% md\n"
    }
   }
  },
  {
   "cell_type": "code",
   "execution_count": 29,
   "outputs": [
    {
     "name": "stdout",
     "output_type": "stream",
     "text": [
      "                              Unnamed: 0       age  hours-per-week  salary K$  \\\n",
      "Unnamed: 0                      1.000000 -0.001126       -0.001890   0.000129   \n",
      "age                            -0.001126  1.000000        0.101599   0.208203   \n",
      "hours-per-week                 -0.001890  0.101599        1.000000   0.196378   \n",
      "salary K$                       0.000129  0.208203        0.196378   1.000000   \n",
      "salary_check                         NaN       NaN             NaN        NaN   \n",
      "...                                  ...       ...             ...        ...   \n",
      "native-country_United-States    0.001993  0.016259        0.010673   0.034000   \n",
      "native-country_Vietnam         -0.000928 -0.017775       -0.010381  -0.014737   \n",
      "native-country_Yugoslavia       0.004350  0.000657        0.006983   0.008560   \n",
      "salary_<=50K                   -0.006244 -0.241998       -0.229480  -0.853894   \n",
      "salary_>50K                     0.006244  0.241998        0.229480   0.853894   \n",
      "\n",
      "                              salary_check  workclass_Federal-gov  \\\n",
      "Unnamed: 0                             NaN               0.000275   \n",
      "age                                    NaN               0.056626   \n",
      "hours-per-week                         NaN               0.005229   \n",
      "salary K$                              NaN               0.050512   \n",
      "salary_check                           NaN                    NaN   \n",
      "...                                    ...                    ...   \n",
      "native-country_United-States           NaN               0.017541   \n",
      "native-country_Vietnam                 NaN              -0.000004   \n",
      "native-country_Yugoslavia              NaN              -0.004139   \n",
      "salary_<=50K                           NaN              -0.057394   \n",
      "salary_>50K                            NaN               0.057394   \n",
      "\n",
      "                              workclass_Local-gov  workclass_Private  \\\n",
      "Unnamed: 0                              -0.000933           0.005641   \n",
      "age                                      0.068256          -0.210491   \n",
      "hours-per-week                           0.001612          -0.095533   \n",
      "salary K$                                0.025856          -0.098187   \n",
      "salary_check                                  NaN                NaN   \n",
      "...                                           ...                ...   \n",
      "native-country_United-States             0.032937          -0.049809   \n",
      "native-country_Vietnam                  -0.003952           0.009369   \n",
      "native-country_Yugoslavia               -0.000550           0.003861   \n",
      "salary_<=50K                            -0.028673           0.117218   \n",
      "salary_>50K                              0.028673          -0.117218   \n",
      "\n",
      "                              workclass_Self-emp-inc  \\\n",
      "Unnamed: 0                                 -0.003275   \n",
      "age                                         0.111039   \n",
      "hours-per-week                              0.126254   \n",
      "salary K$                                   0.119222   \n",
      "salary_check                                     NaN   \n",
      "...                                              ...   \n",
      "native-country_United-States                0.007350   \n",
      "native-country_Vietnam                     -0.004973   \n",
      "native-country_Yugoslavia                   0.003343   \n",
      "salary_<=50K                               -0.137646   \n",
      "salary_>50K                                 0.137646   \n",
      "\n",
      "                              workclass_Self-emp-not-inc  ...  \\\n",
      "Unnamed: 0                                     -0.006005  ...   \n",
      "age                                             0.150429  ...   \n",
      "hours-per-week                                  0.087835  ...   \n",
      "salary K$                                       0.019587  ...   \n",
      "salary_check                                         NaN  ...   \n",
      "...                                                  ...  ...   \n",
      "native-country_United-States                    0.014520  ...   \n",
      "native-country_Vietnam                         -0.003405  ...   \n",
      "native-country_Yugoslavia                      -0.001701  ...   \n",
      "salary_<=50K                                   -0.025575  ...   \n",
      "salary_>50K                                     0.025575  ...   \n",
      "\n",
      "                              native-country_Scotland  native-country_South  \\\n",
      "Unnamed: 0                                   0.002413             -0.003646   \n",
      "age                                          0.000024              0.001923   \n",
      "hours-per-week                               0.000689              0.014328   \n",
      "salary K$                                   -0.001498             -0.006514   \n",
      "salary_check                                      NaN                   NaN   \n",
      "...                                               ...                   ...   \n",
      "native-country_United-States                -0.061442             -0.156254   \n",
      "native-country_Vietnam                      -0.000881             -0.002240   \n",
      "native-country_Yugoslavia                   -0.000440             -0.001119   \n",
      "salary_<=50K                                 0.002964              0.005812   \n",
      "salary_>50K                                 -0.002964             -0.005812   \n",
      "\n",
      "                              native-country_Taiwan  native-country_Thailand  \\\n",
      "Unnamed: 0                                -0.005262                -0.002669   \n",
      "age                                       -0.007879                -0.004940   \n",
      "hours-per-week                            -0.000305                 0.012846   \n",
      "salary K$                                  0.016939                -0.000891   \n",
      "salary_check                                    NaN                      NaN   \n",
      "...                                             ...                      ...   \n",
      "native-country_United-States              -0.120121                -0.076390   \n",
      "native-country_Vietnam                    -0.001722                -0.001095   \n",
      "native-country_Yugoslavia                 -0.000860                -0.000547   \n",
      "salary_<=50K                              -0.017571                 0.003979   \n",
      "salary_>50K                                0.017571                -0.003979   \n",
      "\n",
      "                              native-country_Trinadad&Tobago  \\\n",
      "Unnamed: 0                                          0.007442   \n",
      "age                                                 0.007868   \n",
      "hours-per-week                                     -0.007566   \n",
      "salary K$                                          -0.003442   \n",
      "salary_check                                             NaN   \n",
      "...                                                      ...   \n",
      "native-country_United-States                       -0.078606   \n",
      "native-country_Vietnam                             -0.001127   \n",
      "native-country_Yugoslavia                          -0.000563   \n",
      "salary_<=50K                                        0.007788   \n",
      "salary_>50K                                        -0.007788   \n",
      "\n",
      "                              native-country_United-States  \\\n",
      "Unnamed: 0                                        0.001993   \n",
      "age                                               0.016259   \n",
      "hours-per-week                                    0.010673   \n",
      "salary K$                                         0.034000   \n",
      "salary_check                                           NaN   \n",
      "...                                                    ...   \n",
      "native-country_United-States                      1.000000   \n",
      "native-country_Vietnam                           -0.148334   \n",
      "native-country_Yugoslavia                        -0.074108   \n",
      "salary_<=50K                                     -0.040204   \n",
      "salary_>50K                                       0.040204   \n",
      "\n",
      "                              native-country_Vietnam  \\\n",
      "Unnamed: 0                                 -0.000928   \n",
      "age                                        -0.017775   \n",
      "hours-per-week                             -0.010381   \n",
      "salary K$                                  -0.014737   \n",
      "salary_check                                     NaN   \n",
      "...                                              ...   \n",
      "native-country_United-States               -0.148334   \n",
      "native-country_Vietnam                      1.000000   \n",
      "native-country_Yugoslavia                  -0.001062   \n",
      "salary_<=50K                                0.018215   \n",
      "salary_>50K                                -0.018215   \n",
      "\n",
      "                              native-country_Yugoslavia  salary_<=50K  \\\n",
      "Unnamed: 0                                     0.004350     -0.006244   \n",
      "age                                            0.000657     -0.241998   \n",
      "hours-per-week                                 0.006983     -0.229480   \n",
      "salary K$                                      0.008560     -0.853894   \n",
      "salary_check                                        NaN           NaN   \n",
      "...                                                 ...           ...   \n",
      "native-country_United-States                  -0.074108     -0.040204   \n",
      "native-country_Vietnam                        -0.001062      0.018215   \n",
      "native-country_Yugoslavia                      1.000000     -0.006718   \n",
      "salary_<=50K                                  -0.006718      1.000000   \n",
      "salary_>50K                                    0.006718     -1.000000   \n",
      "\n",
      "                              salary_>50K  \n",
      "Unnamed: 0                       0.006244  \n",
      "age                              0.241998  \n",
      "hours-per-week                   0.229480  \n",
      "salary K$                        0.853894  \n",
      "salary_check                          NaN  \n",
      "...                                   ...  \n",
      "native-country_United-States     0.040204  \n",
      "native-country_Vietnam          -0.018215  \n",
      "native-country_Yugoslavia        0.006718  \n",
      "salary_<=50K                    -1.000000  \n",
      "salary_>50K                      1.000000  \n",
      "\n",
      "[105 rows x 105 columns]\n"
     ]
    }
   ],
   "source": [
    "df_dummies = pd.get_dummies(df)\n",
    "correlation = df_dummies.corr()\n",
    "print(correlation)"
   ],
   "metadata": {
    "collapsed": false,
    "pycharm": {
     "name": "#%%\n"
    },
    "ExecuteTime": {
     "end_time": "2023-11-20T14:01:35.712491200Z",
     "start_time": "2023-11-20T14:01:35.115473600Z"
    }
   }
  },
  {
   "cell_type": "code",
   "execution_count": null,
   "outputs": [],
   "source": [],
   "metadata": {
    "collapsed": false
   }
  }
 ],
 "metadata": {
  "kernelspec": {
   "display_name": "Python 3",
   "language": "python",
   "name": "python3"
  },
  "language_info": {
   "codemirror_mode": {
    "name": "ipython",
    "version": 2
   },
   "file_extension": ".py",
   "mimetype": "text/x-python",
   "name": "python",
   "nbconvert_exporter": "python",
   "pygments_lexer": "ipython2",
   "version": "2.7.6"
  }
 },
 "nbformat": 4,
 "nbformat_minor": 0
}
