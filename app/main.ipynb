{
 "cells": [
  {
   "cell_type": "code",
   "execution_count": 1,
   "outputs": [],
   "source": [
    "import numpy as np\n",
    "import pandas as pd\n",
    "import seaborn as sns\n",
    "from os import path"
   ],
   "metadata": {
    "collapsed": false
   }
  },
  {
   "cell_type": "markdown",
   "source": [
    "# Task 0\n",
    "Read the dataset from csv file & perform data cleaning - remove all rows, which contains `?` in some columns.\n",
    "Also check for data correctness (salary & salary $K)."
   ],
   "metadata": {
    "collapsed": false
   }
  },
  {
   "cell_type": "code",
   "execution_count": 2,
   "outputs": [
    {
     "name": "stdout",
     "output_type": "stream",
     "text": [
      "       age         workclass   education      marital-status  \\\n",
      "0       39         State-gov   Bachelors       Never-married   \n",
      "1       50  Self-emp-not-inc   Bachelors  Married-civ-spouse   \n",
      "2       38           Private     HS-grad            Divorced   \n",
      "3       53           Private        11th  Married-civ-spouse   \n",
      "4       28           Private   Bachelors  Married-civ-spouse   \n",
      "...    ...               ...         ...                 ...   \n",
      "32556   27           Private  Assoc-acdm  Married-civ-spouse   \n",
      "32557   40           Private     HS-grad  Married-civ-spouse   \n",
      "32558   58           Private     HS-grad             Widowed   \n",
      "32559   22           Private     HS-grad       Never-married   \n",
      "32560   52      Self-emp-inc     HS-grad  Married-civ-spouse   \n",
      "\n",
      "              occupation   relationship   race     sex  hours-per-week  \\\n",
      "0           Adm-clerical  Not-in-family  White    Male              40   \n",
      "1        Exec-managerial        Husband  White    Male              13   \n",
      "2      Handlers-cleaners  Not-in-family  White    Male              40   \n",
      "3      Handlers-cleaners        Husband  Black    Male              40   \n",
      "4         Prof-specialty           Wife  Black  Female              40   \n",
      "...                  ...            ...    ...     ...             ...   \n",
      "32556       Tech-support           Wife  White  Female              38   \n",
      "32557  Machine-op-inspct        Husband  White    Male              40   \n",
      "32558       Adm-clerical      Unmarried  White  Female              40   \n",
      "32559       Adm-clerical      Own-child  White    Male              20   \n",
      "32560    Exec-managerial           Wife  White  Female              40   \n",
      "\n",
      "      native-country salary  salary K$  \n",
      "0      United-States  <=50K       39.0  \n",
      "1      United-States  <=50K       35.0  \n",
      "2      United-States  <=50K       27.0  \n",
      "3      United-States  <=50K       43.0  \n",
      "4               Cuba  <=50K       25.0  \n",
      "...              ...    ...        ...  \n",
      "32556  United-States  <=50K       36.0  \n",
      "32557  United-States   >50K      173.0  \n",
      "32558  United-States  <=50K       40.0  \n",
      "32559  United-States  <=50K       38.0  \n",
      "32560  United-States   >50K      243.0  \n",
      "\n",
      "[30162 rows x 12 columns]\n"
     ]
    }
   ],
   "source": [
    "df = pd.read_csv(path.join(\"..\", \"data\", \"adult.csv\"), index_col=[0])\n",
    "df = df.replace(\"?\", np.nan).dropna()\n",
    "\n",
    "df = df[(df[\"salary\"] == \">50K\") | (df[\"salary\"] == \"<=50K\")]\n",
    "df[\"salary K$\"] = df[\"salary K$\"].astype(float)\n",
    "df = df[(df[\"salary K$\"] >= 0.0) & (df[\"salary K$\"] <= 999.0)]\n",
    "print(df)"
   ],
   "metadata": {
    "collapsed": false
   }
  },
  {
   "cell_type": "markdown",
   "source": [
    "# Task 1\n",
    "Print the count of men and women in the dataset."
   ],
   "metadata": {
    "collapsed": false
   }
  },
  {
   "cell_type": "code",
   "execution_count": 3,
   "outputs": [
    {
     "name": "stdout",
     "output_type": "stream",
     "text": [
      "Male      20380\n",
      "Female     9782\n",
      "Name: sex, dtype: int64\n"
     ]
    }
   ],
   "source": [
    "gender_count = df[\"sex\"].value_counts()\n",
    "print(gender_count)"
   ],
   "metadata": {
    "collapsed": false
   }
  },
  {
   "cell_type": "markdown",
   "source": [
    "# Task 2\n",
    "Find the average age of men in dataset"
   ],
   "metadata": {
    "collapsed": false
   }
  },
  {
   "cell_type": "code",
   "execution_count": 4,
   "outputs": [
    {
     "name": "stdout",
     "output_type": "stream",
     "text": [
      "39.18400392541707\n"
     ]
    }
   ],
   "source": [
    "men_df = df[df[\"sex\"] == \"Male\"]\n",
    "avg_age_men = men_df[\"age\"].mean()\n",
    "print(avg_age_men)"
   ],
   "metadata": {
    "collapsed": false
   }
  },
  {
   "cell_type": "markdown",
   "source": [
    "# Task 3\n",
    "Get the percentage of people from Poland (native-country)"
   ],
   "metadata": {
    "collapsed": false
   }
  },
  {
   "cell_type": "code",
   "execution_count": 6,
   "outputs": [
    {
     "name": "stdout",
     "output_type": "stream",
     "text": [
      "Percentage of people from Poland: 0.18566408063125786\n"
     ]
    }
   ],
   "source": [
    "poland_count = len(df[df[\"native-country\"] == \"Poland\"])\n",
    "total_count = len(df)\n",
    "poland_percentage = (poland_count / total_count) * 100\n",
    "print(\"Percentage of people from Poland:\", poland_percentage)"
   ],
   "metadata": {
    "collapsed": false
   }
  },
  {
   "cell_type": "markdown",
   "source": [
    "# Task 4\n",
    "Get the mean and standard deviation of the age for people who earn > 50K per year. After this, get it for those who earn <= 50K."
   ],
   "metadata": {
    "collapsed": false
   }
  },
  {
   "cell_type": "code",
   "execution_count": 4,
   "outputs": [
    {
     "name": "stdout",
     "output_type": "stream",
     "text": [
      "Mean age of high earners: 43.95911028236548\n",
      "Standard deviation of age for high earners: 10.269632835673852\n",
      "Mean age of low earners: 36.60806038668668\n",
      "Standard deviation of age for low earners: 13.464631257161633\n"
     ]
    }
   ],
   "source": [
    "high_earners = df[df[\"salary\"] == \">50K\"]\n",
    "high_earners_mean_age = high_earners[\"age\"].mean()\n",
    "high_earners_std_age = high_earners[\"age\"].std()\n",
    "\n",
    "print(\"Mean age of high earners:\", high_earners_mean_age)\n",
    "print(\"Standard deviation of age for high earners:\", high_earners_std_age)\n",
    "\n",
    "low_earners = df[df[\"salary\"] == \"<=50K\"]\n",
    "low_earners_mean_age = low_earners[\"age\"].mean()\n",
    "low_earners_std_age = low_earners[\"age\"].std()\n",
    "\n",
    "print(\"Mean age of low earners:\", low_earners_mean_age)\n",
    "print(\"Standard deviation of age for low earners:\", low_earners_std_age)"
   ],
   "metadata": {
    "collapsed": false
   }
  },
  {
   "cell_type": "markdown",
   "source": [
    "# Task 5\n",
    "Check, if there are some people without higher education (education: Bachelors, Prof-school, Assoc-acdm, Assoc-voc, Masters, Doctorate), but with > 50K salary"
   ],
   "metadata": {
    "collapsed": false
   }
  },
  {
   "cell_type": "code",
   "execution_count": 18,
   "outputs": [
    {
     "name": "stdout",
     "output_type": "stream",
     "text": [
      "3178\n",
      "There are some people without higher education, but with > 50K salary\n"
     ]
    }
   ],
   "source": [
    "high_earners_no_high_edu = high_earners[~high_earners[\"education\"].isin([\"Bachelors\", \"Prof-school\", \"Assoc-acdm\", \"Assoc-voc\", \"Masters\", \"Doctorate\"])]\n",
    "print(len(high_earners_no_high_edu))\n",
    "if len(high_earners_no_high_edu) > 0:\n",
    "    print(\"There are some people without higher education, but with > 50K salary\")\n",
    "else:\n",
    "    print(\"There are no people without higher education, but with > 50K salary\")"
   ],
   "metadata": {
    "collapsed": false
   }
  },
  {
   "cell_type": "markdown",
   "source": [
    "# Task 6\n",
    "Get the statistics of age for each type of education. Use `groupby` and `describe` for this."
   ],
   "metadata": {
    "collapsed": false
   }
  },
  {
   "cell_type": "code",
   "execution_count": 9,
   "outputs": [
    {
     "name": "stdout",
     "output_type": "stream",
     "text": [
      "               count       mean        std   min   25%   50%   75%   max\n",
      "education                                                               \n",
      "10th           820.0  37.897561  16.225795  17.0  23.0  36.0  52.0  90.0\n",
      "11th          1048.0  32.363550  15.089307  17.0  18.0  28.5  43.0  90.0\n",
      "12th           377.0  32.013263  14.373710  17.0  19.0  28.0  41.0  79.0\n",
      "1st-4th        151.0  44.622517  14.929051  19.0  33.0  44.0  56.0  81.0\n",
      "5th-6th        288.0  41.649306  14.754622  17.0  28.0  41.0  53.0  82.0\n",
      "7th-8th        557.0  47.631957  15.737479  17.0  34.0  49.0  60.0  90.0\n",
      "9th            455.0  40.303297  15.335754  17.0  28.0  38.0  53.0  90.0\n",
      "Assoc-acdm    1008.0  37.286706  10.509755  19.0  29.0  36.0  44.0  90.0\n",
      "Assoc-voc     1307.0  38.246366  11.181253  19.0  30.0  37.0  45.0  84.0\n",
      "Bachelors     5044.0  38.641554  11.577566  19.0  29.0  37.0  46.0  90.0\n",
      "Doctorate      375.0  47.130667  11.471727  24.0  39.0  47.0  54.0  80.0\n",
      "HS-grad       9840.0  38.640955  13.067730  17.0  28.0  37.0  48.0  90.0\n",
      "Masters       1627.0  43.740012  10.735356  18.0  36.0  43.0  50.0  90.0\n",
      "Preschool       45.0  41.288889  15.175672  19.0  30.0  40.0  53.0  75.0\n",
      "Prof-school    542.0  44.249077  11.428098  25.0  36.0  43.0  50.0  90.0\n",
      "Some-college  6678.0  36.135370  13.073528  17.0  25.0  35.0  45.0  90.0\n"
     ]
    }
   ],
   "source": [
    "age_stats_by_edu = df.groupby(\"education\")[\"age\"].describe()\n",
    "print(age_stats_by_edu)"
   ],
   "metadata": {
    "collapsed": false
   }
  },
  {
   "cell_type": "markdown",
   "source": [
    "# Task 7\n",
    "Compare the married and non-married men salaries. Who earns more? (>50K or <=50K)\n",
    "Married men are those, whom `marital-status` starts with \"Married\". Others are not."
   ],
   "metadata": {
    "collapsed": false
   }
  },
  {
   "cell_type": "code",
   "execution_count": 11,
   "outputs": [
    {
     "name": "stdout",
     "output_type": "stream",
     "text": [
      "Number of Married Men: 12775\n",
      "Number of Married Men with salary > 50K: 5723\n",
      "Number of Non-Married Men: 7605\n",
      "Number of Non-Married Men with salary > 50K: 673\n",
      "More married men with >50K salary\n"
     ]
    }
   ],
   "source": [
    "married_sal = df.loc[(df[\"sex\"] == \"Male\") & (df[\"marital-status\"].str.startswith(\"Married\"))]\n",
    "married_sal_count = len(married_sal)\n",
    "married_sal_gt_50k = len(married_sal.loc[married_sal[\"salary\"] == \">50K\"])\n",
    "\n",
    "nonmarried_sal = df.loc[(df[\"sex\"] == \"Male\") & (~df[\"marital-status\"].str.startswith(\"Married\"))]\n",
    "nonmarried_sal_count = len(nonmarried_sal)\n",
    "nonmarried_sal_gt_50k = len(nonmarried_sal.loc[nonmarried_sal[\"salary\"] == \">50K\"])\n",
    "\n",
    "print(f\"Number of Married Men: {married_sal_count}\")\n",
    "print(f\"Number of Married Men with salary > 50K: {married_sal_gt_50k}\")\n",
    "print(f\"Number of Non-Married Men: {nonmarried_sal_count}\")\n",
    "print(f\"Number of Non-Married Men with salary > 50K: {nonmarried_sal_gt_50k}\")\n",
    "\n",
    "if married_sal_gt_50k/married_sal_count > nonmarried_sal_gt_50k/nonmarried_sal_count:\n",
    "    print(\"More married men with >50K salary\")\n",
    "else:\n",
    "    print(\"More non-married men with >50K salary\")"
   ],
   "metadata": {
    "collapsed": false
   }
  },
  {
   "cell_type": "markdown",
   "source": [
    "# Task 8\n",
    "Get the max hours per week some person works. How many people works the same amount of hours per week?"
   ],
   "metadata": {
    "collapsed": false
   }
  },
  {
   "cell_type": "code",
   "execution_count": 11,
   "outputs": [
    {
     "name": "stdout",
     "output_type": "stream",
     "text": [
      "Max hours per week: 99\n",
      "Number of people who work the same amount of hours per week: 78\n"
     ]
    }
   ],
   "source": [
    "max_hours = df[\"hours-per-week\"].max()\n",
    "\n",
    "same_hours_count = len(df[df[\"hours-per-week\"] == max_hours])\n",
    "\n",
    "print(\"Max hours per week:\", max_hours)\n",
    "print(\"Number of people who work the same amount of hours per week:\", same_hours_count)"
   ],
   "metadata": {
    "collapsed": false
   }
  },
  {
   "cell_type": "markdown",
   "source": [
    "# Task 9\n",
    "Analyze the correlation between data in dataset. Understand connected fields in it and print highlight thier connection."
   ],
   "metadata": {
    "collapsed": false
   }
  },
  {
   "cell_type": "code",
   "execution_count": 5,
   "outputs": [
    {
     "data": {
      "text/plain": "<Axes: >"
     },
     "execution_count": 5,
     "metadata": {},
     "output_type": "execute_result"
    },
    {
     "data": {
      "text/plain": "<Figure size 640x480 with 2 Axes>",
      "image/png": "[encoded data removed]"
     },
     "metadata": {},
     "output_type": "display_data"
    }
   ],
   "source": [
    "df_subset = df[[\"age\", \"hours-per-week\", \"salary K$\"]]\n",
    "corr_matrix = df_subset.corr()\n",
    "sns.heatmap(corr_matrix, annot=True, cmap=\"YlGnBu\")"
   ],
   "metadata": {
    "collapsed": false
   }
  }
 ],
 "metadata": {
  "kernelspec": {
   "display_name": "Python 3",
   "language": "python",
   "name": "python3"
  },
  "language_info": {
   "codemirror_mode": {
    "name": "ipython",
    "version": 2
   },
   "file_extension": ".py",
   "mimetype": "text/x-python",
   "name": "python",
   "nbconvert_exporter": "python",
   "pygments_lexer": "ipython2",
   "version": "2.7.6"
  }
 },
 "nbformat": 4,
 "nbformat_minor": 0
}
