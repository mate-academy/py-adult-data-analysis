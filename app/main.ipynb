{
 "cells": [
  {
   "cell_type": "code",
   "execution_count": 78,
   "outputs": [],
   "source": [
    "import numpy as np\n",
    "import pandas as pd"
   ],
   "metadata": {
    "collapsed": false,
    "pycharm": {
     "name": "#%%\n"
    },
    "ExecuteTime": {
     "end_time": "2024-03-22T08:15:29.673027Z",
     "start_time": "2024-03-22T08:15:29.659263Z"
    }
   }
  },
  {
   "cell_type": "markdown",
   "source": [
    "# Task 0\n",
    "Read the dataset from csv file & perform data cleaning - remove all rows, which contains `?` in some columns.\n",
    "Also check for data correctness (salary & salary $K)."
   ],
   "metadata": {
    "collapsed": false,
    "pycharm": {
     "name": "#%% md\n"
    }
   }
  },
  {
   "cell_type": "code",
   "execution_count": 83,
   "outputs": [
    {
     "name": "stdout",
     "output_type": "stream",
     "text": [
      "   Unnamed: 0  age         workclass  education      marital-status  \\\n",
      "0           0   39         State-gov  Bachelors       Never-married   \n",
      "1           1   50  Self-emp-not-inc  Bachelors  Married-civ-spouse   \n",
      "2           2   38           Private    HS-grad            Divorced   \n",
      "3           3   53           Private       11th  Married-civ-spouse   \n",
      "4           4   28           Private  Bachelors  Married-civ-spouse   \n",
      "\n",
      "          occupation   relationship   race     sex  hours-per-week  \\\n",
      "0       Adm-clerical  Not-in-family  White    Male              40   \n",
      "1    Exec-managerial        Husband  White    Male              13   \n",
      "2  Handlers-cleaners  Not-in-family  White    Male              40   \n",
      "3  Handlers-cleaners        Husband  Black    Male              40   \n",
      "4     Prof-specialty           Wife  Black  Female              40   \n",
      "\n",
      "  native-country salary  salary K$ Salary_check  \n",
      "0  United-States  <=50K         39        <=50K  \n",
      "1  United-States  <=50K         35        <=50K  \n",
      "2  United-States  <=50K         27        <=50K  \n",
      "3  United-States  <=50K         43        <=50K  \n",
      "4           Cuba  <=50K         25        <=50K  \n",
      "salary\n",
      "<=50K    22654\n",
      ">50K      7508\n",
      "Name: count, dtype: int64\n",
      "Salary_check\n",
      "<=50K    22654\n",
      ">50K      7508\n",
      "Name: count, dtype: int64\n"
     ]
    }
   ],
   "source": [
    "df = pd.read_csv('/Users/macbook/py-adult-data-analysis/data/adult.csv')\n",
    "\n",
    "columns_to_drop = ['age', 'workclass', 'education', 'marital-status', 'occupation', 'relationship','race','sex', 'hours-per-week', 'native-country', 'salary', 'salary K$']\n",
    "for column in columns_to_drop:\n",
    "    df = df[df[column] != '?']\n",
    "\n",
    "df['Salary_check'] =  np.where(df['salary K$'] <= 50, '<=50K', '>50K')\n",
    "\n",
    "print(df.head())\n",
    "print(df['salary'].value_counts())\n",
    "print(df['Salary_check'].value_counts())"
   ],
   "metadata": {
    "collapsed": false,
    "pycharm": {
     "name": "#%%\n"
    },
    "ExecuteTime": {
     "end_time": "2024-03-22T08:21:56.493483Z",
     "start_time": "2024-03-22T08:21:56.345743Z"
    }
   }
  },
  {
   "cell_type": "code",
   "outputs": [
    {
     "data": {
      "text/plain": "<bound method DataFrame.info of        Unnamed: 0  age         workclass   education      marital-status  \\\n0               0   39         State-gov   Bachelors       Never-married   \n1               1   50  Self-emp-not-inc   Bachelors  Married-civ-spouse   \n2               2   38           Private     HS-grad            Divorced   \n3               3   53           Private        11th  Married-civ-spouse   \n4               4   28           Private   Bachelors  Married-civ-spouse   \n...           ...  ...               ...         ...                 ...   \n32556       32556   27           Private  Assoc-acdm  Married-civ-spouse   \n32557       32557   40           Private     HS-grad  Married-civ-spouse   \n32558       32558   58           Private     HS-grad             Widowed   \n32559       32559   22           Private     HS-grad       Never-married   \n32560       32560   52      Self-emp-inc     HS-grad  Married-civ-spouse   \n\n              occupation   relationship   race     sex  hours-per-week  \\\n0           Adm-clerical  Not-in-family  White    Male              40   \n1        Exec-managerial        Husband  White    Male              13   \n2      Handlers-cleaners  Not-in-family  White    Male              40   \n3      Handlers-cleaners        Husband  Black    Male              40   \n4         Prof-specialty           Wife  Black  Female              40   \n...                  ...            ...    ...     ...             ...   \n32556       Tech-support           Wife  White  Female              38   \n32557  Machine-op-inspct        Husband  White    Male              40   \n32558       Adm-clerical      Unmarried  White  Female              40   \n32559       Adm-clerical      Own-child  White    Male              20   \n32560    Exec-managerial           Wife  White  Female              40   \n\n      native-country salary  salary K$ salary_num  \n0      United-States  <=50K         39         50  \n1      United-States  <=50K         35         50  \n2      United-States  <=50K         27         50  \n3      United-States  <=50K         43         50  \n4               Cuba  <=50K         25         50  \n...              ...    ...        ...        ...  \n32556  United-States  <=50K         36         50  \n32557  United-States   >50K        173         50  \n32558  United-States  <=50K         40         50  \n32559  United-States  <=50K         38         50  \n32560  United-States   >50K        243         50  \n\n[30162 rows x 14 columns]>"
     },
     "execution_count": 39,
     "metadata": {},
     "output_type": "execute_result"
    }
   ],
   "source": [
    "df.info"
   ],
   "metadata": {
    "collapsed": false,
    "ExecuteTime": {
     "end_time": "2024-03-21T14:26:40.920091Z",
     "start_time": "2024-03-21T14:26:40.906481Z"
    }
   },
   "execution_count": 39
  },
  {
   "cell_type": "markdown",
   "source": [
    "# Task 1\n",
    "Print the count of men and women in the dataset."
   ],
   "metadata": {
    "collapsed": false,
    "pycharm": {
     "name": "#%% md\n"
    }
   }
  },
  {
   "cell_type": "code",
   "execution_count": 14,
   "outputs": [
    {
     "name": "stdout",
     "output_type": "stream",
     "text": [
      "Count of Men: 20380\n",
      "Count of Women: 9782\n"
     ]
    }
   ],
   "source": [
    "count_gender = df['sex'].value_counts()\n",
    "print(\"Count of Men:\", count_gender['Male'])\n",
    "print(\"Count of Women:\", count_gender['Female'])"
   ],
   "metadata": {
    "collapsed": false,
    "pycharm": {
     "name": "#%%\n"
    },
    "ExecuteTime": {
     "end_time": "2024-03-21T14:00:54.007843Z",
     "start_time": "2024-03-21T14:00:53.929248Z"
    }
   }
  },
  {
   "cell_type": "markdown",
   "source": [
    "# Task 2\n",
    "Find the average age of men in dataset"
   ],
   "metadata": {
    "collapsed": false,
    "pycharm": {
     "name": "#%% md\n"
    }
   }
  },
  {
   "cell_type": "code",
   "execution_count": 27,
   "outputs": [
    {
     "name": "stdout",
     "output_type": "stream",
     "text": [
      "Avg Man: 39.18400392541707\n"
     ]
    }
   ],
   "source": [
    "average_age_by_gender = df.groupby('sex')['age'].mean()\n",
    "average_age_men = average_age_by_gender.get('Male', 0)\n",
    "print(\"Avg Man:\", average_age_men)"
   ],
   "metadata": {
    "collapsed": false,
    "pycharm": {
     "name": "#%%\n"
    },
    "ExecuteTime": {
     "end_time": "2024-03-21T14:10:01.185075Z",
     "start_time": "2024-03-21T14:10:01.174199Z"
    }
   }
  },
  {
   "cell_type": "markdown",
   "source": [
    "# Task 3\n",
    "Get the percentage of people from Poland (native-country)"
   ],
   "metadata": {
    "collapsed": false,
    "pycharm": {
     "name": "#%% md\n"
    }
   }
  },
  {
   "cell_type": "code",
   "execution_count": 41,
   "outputs": [
    {
     "name": "stdout",
     "output_type": "stream",
     "text": [
      "0.18566408063125786\n"
     ]
    }
   ],
   "source": [
    "count_people_total = len(df)\n",
    "count_people_poland = len(df[df['native-country'] == 'Poland'])\n",
    "percentage_polish = (count_people_poland / count_people_total) * 100\n",
    "print(percentage_polish)\n"
   ],
   "metadata": {
    "collapsed": false,
    "pycharm": {
     "name": "#%%\n"
    },
    "ExecuteTime": {
     "end_time": "2024-03-21T14:27:43.915778Z",
     "start_time": "2024-03-21T14:27:43.899349Z"
    }
   }
  },
  {
   "cell_type": "markdown",
   "source": [
    "# Task 4\n",
    "Get the mean and standard deviation of the age for people who earn > 50K per year. After this, get it for those who earn <= 50K."
   ],
   "metadata": {
    "collapsed": false,
    "pycharm": {
     "name": "#%% md\n"
    }
   }
  },
  {
   "cell_type": "code",
   "execution_count": 42,
   "outputs": [
    {
     "name": "stdout",
     "output_type": "stream",
     "text": [
      "AVG 50K+: 43.95911028236548\n",
      "STD 50K+: 10.269632835673844\n",
      "AVG 50K-: 36.60806038668668\n",
      "STD 50k-: 13.464631257161628\n"
     ]
    }
   ],
   "source": [
    "average_age_by_salary = df.groupby('salary')['age'].mean()\n",
    "av_more_50K = average_age_by_salary.get('>50K', 0)\n",
    "av_less_50K = average_age_by_salary.get('<=50K', 0)\n",
    "std_age_by_salary = df.groupby('salary')['age'].std()\n",
    "std_more_50K = std_age_by_salary.get('>50K', 0)\n",
    "std_less_50K = std_age_by_salary.get('<=50K', 0)\n",
    "\n",
    "print(\"AVG 50K+:\", av_more_50K)\n",
    "print(\"STD 50K+:\", std_more_50K)\n",
    "print(\"AVG 50K-:\", av_less_50K)\n",
    "print(\"STD 50k-:\", std_less_50K)"
   ],
   "metadata": {
    "collapsed": false,
    "pycharm": {
     "name": "#%%\n"
    },
    "ExecuteTime": {
     "end_time": "2024-03-21T14:35:59.966839Z",
     "start_time": "2024-03-21T14:35:59.909972Z"
    }
   }
  },
  {
   "cell_type": "markdown",
   "source": [
    "# Task 5\n",
    "Check, if there are some people without higher education (education: Bachelors, Prof-school, Assoc-acdm, Assoc-voc, Masters, Doctorate), but with > 50K salary"
   ],
   "metadata": {
    "collapsed": false,
    "pycharm": {
     "name": "#%% md\n"
    }
   }
  },
  {
   "cell_type": "code",
   "execution_count": 49,
   "outputs": [
    {
     "name": "stdout",
     "output_type": "stream",
     "text": [
      "       Unnamed: 0  age  workclass   education      marital-status  \\\n",
      "117           117   49  Local-gov   Assoc-voc  Married-civ-spouse   \n",
      "127           127   31    Private  Assoc-acdm  Married-civ-spouse   \n",
      "143           143   45    Private   Assoc-voc       Never-married   \n",
      "248           248   40    Private  Assoc-acdm  Married-civ-spouse   \n",
      "308           308   35    Private  Assoc-acdm  Married-civ-spouse   \n",
      "...           ...  ...        ...         ...                 ...   \n",
      "32245       32245   31    Private  Assoc-acdm            Divorced   \n",
      "32416       32416   33    Private  Assoc-acdm  Married-civ-spouse   \n",
      "32474       32474   36    Private  Assoc-acdm  Married-civ-spouse   \n",
      "32506       32506   38    Private   Assoc-voc  Married-civ-spouse   \n",
      "32545       32545   39  Local-gov  Assoc-acdm  Married-civ-spouse   \n",
      "\n",
      "           occupation   relationship   race     sex  hours-per-week  \\\n",
      "117      Craft-repair        Husband  Black    Male              40   \n",
      "127      Adm-clerical        Husband  White    Male              40   \n",
      "143    Prof-specialty  Not-in-family  White  Female              40   \n",
      "248      Tech-support        Husband  White    Male              60   \n",
      "308      Adm-clerical        Husband  White    Male              40   \n",
      "...               ...            ...    ...     ...             ...   \n",
      "32245    Craft-repair  Not-in-family  White    Male              50   \n",
      "32416    Craft-repair        Husband  White    Male              50   \n",
      "32474    Craft-repair        Husband  White    Male              52   \n",
      "32506    Craft-repair        Husband  White    Male              55   \n",
      "32545    Adm-clerical           Wife  White  Female              20   \n",
      "\n",
      "      native-country salary  salary K$  \n",
      "117    United-States   >50K        250  \n",
      "127    United-States   >50K        346  \n",
      "143    United-States   >50K        140  \n",
      "248    United-States   >50K         86  \n",
      "308    United-States   >50K        331  \n",
      "...              ...    ...        ...  \n",
      "32245  United-States   >50K        215  \n",
      "32416  United-States   >50K         95  \n",
      "32474  United-States   >50K         78  \n",
      "32506  United-States   >50K         61  \n",
      "32545  United-States   >50K        122  \n",
      "\n",
      "[772 rows x 13 columns]\n"
     ]
    }
   ],
   "source": [
    "low_edu_data = df[df['education'].isin(['Assoc-acdm', 'Assoc-voc', '10th', '11th', '12th', '9th'])]\n",
    "hight_incom_ed = low_edu_data[low_edu_data['salary'] == '>50K']\n",
    "print(hight_incom_ed)"
   ],
   "metadata": {
    "collapsed": false,
    "pycharm": {
     "name": "#%%\n"
    },
    "ExecuteTime": {
     "end_time": "2024-03-21T14:46:48.565518Z",
     "start_time": "2024-03-21T14:46:48.532344Z"
    }
   }
  },
  {
   "cell_type": "markdown",
   "source": [
    "# Task 6\n",
    "Get the statistics of age for each type of education. Use `groupby` and `describe` for this."
   ],
   "metadata": {
    "collapsed": false,
    "pycharm": {
     "name": "#%% md\n"
    }
   }
  },
  {
   "cell_type": "code",
   "execution_count": 48,
   "outputs": [
    {
     "name": "stdout",
     "output_type": "stream",
     "text": [
      "               count       mean        std   min   25%   50%   75%   max\n",
      "education                                                               \n",
      "10th           820.0  37.897561  16.225795  17.0  23.0  36.0  52.0  90.0\n",
      "11th          1048.0  32.363550  15.089307  17.0  18.0  28.5  43.0  90.0\n",
      "12th           377.0  32.013263  14.373710  17.0  19.0  28.0  41.0  79.0\n",
      "1st-4th        151.0  44.622517  14.929051  19.0  33.0  44.0  56.0  81.0\n",
      "5th-6th        288.0  41.649306  14.754622  17.0  28.0  41.0  53.0  82.0\n",
      "7th-8th        557.0  47.631957  15.737479  17.0  34.0  49.0  60.0  90.0\n",
      "9th            455.0  40.303297  15.335754  17.0  28.0  38.0  53.0  90.0\n",
      "Assoc-acdm    1008.0  37.286706  10.509755  19.0  29.0  36.0  44.0  90.0\n",
      "Assoc-voc     1307.0  38.246366  11.181253  19.0  30.0  37.0  45.0  84.0\n",
      "Bachelors     5044.0  38.641554  11.577566  19.0  29.0  37.0  46.0  90.0\n",
      "Doctorate      375.0  47.130667  11.471727  24.0  39.0  47.0  54.0  80.0\n",
      "HS-grad       9840.0  38.640955  13.067730  17.0  28.0  37.0  48.0  90.0\n",
      "Masters       1627.0  43.740012  10.735356  18.0  36.0  43.0  50.0  90.0\n",
      "Preschool       45.0  41.288889  15.175672  19.0  30.0  40.0  53.0  75.0\n",
      "Prof-school    542.0  44.249077  11.428098  25.0  36.0  43.0  50.0  90.0\n",
      "Some-college  6678.0  36.135370  13.073528  17.0  25.0  35.0  45.0  90.0\n"
     ]
    }
   ],
   "source": [
    "education = df.groupby('education')['age'].describe()\n",
    "print(education)"
   ],
   "metadata": {
    "collapsed": false,
    "pycharm": {
     "name": "#%%\n"
    },
    "ExecuteTime": {
     "end_time": "2024-03-21T14:45:02.113127Z",
     "start_time": "2024-03-21T14:45:00.061411Z"
    }
   }
  },
  {
   "cell_type": "markdown",
   "source": [
    "# Task 7\n",
    "Compare the married and non-married men salaries. Who earns more? (>50K or <=50K)\n",
    "Married men are those, whom `marital-status` starts with \"Married\". Others are not."
   ],
   "metadata": {
    "collapsed": false,
    "pycharm": {
     "name": "#%% md\n"
    }
   }
  },
  {
   "cell_type": "code",
   "execution_count": 58,
   "outputs": [
    {
     "name": "stdout",
     "output_type": "stream",
     "text": [
      "marital_status_cat\n",
      "Husband        108.810865\n",
      "Non-Married     46.932811\n",
      "Name: salary K$, dtype: float64\n"
     ]
    }
   ],
   "source": [
    "men_number = df[df['sex'] == 'Male'].copy()\n",
    "\n",
    "men_number.loc[:, 'marital_status_cat'] = men_number['relationship'].apply(lambda x: 'Husband' if x.startswith('Husband') else 'Non-Married')\n",
    "\n",
    "salary_comparison = men_number.groupby(['marital_status_cat'])['salary K$'].mean()\n",
    "\n",
    "print(salary_comparison)"
   ],
   "metadata": {
    "collapsed": false,
    "pycharm": {
     "name": "#%%\n"
    },
    "ExecuteTime": {
     "end_time": "2024-03-21T14:58:58.064610Z",
     "start_time": "2024-03-21T14:58:58.031813Z"
    }
   }
  },
  {
   "cell_type": "markdown",
   "source": [
    "# Task 8\n",
    "Get the max hours per week some person works. How many people works the same amount of hours per week?"
   ],
   "metadata": {
    "collapsed": false,
    "pycharm": {
     "name": "#%% md\n"
    }
   }
  },
  {
   "cell_type": "code",
   "execution_count": 64,
   "outputs": [
    {
     "name": "stdout",
     "output_type": "stream",
     "text": [
      "max hours per week: 99\n",
      "hours-per-week\n",
      "40    14251\n",
      "50     2718\n",
      "45     1753\n",
      "60     1405\n",
      "35     1184\n",
      "      ...  \n",
      "82        1\n",
      "94        1\n",
      "92        1\n",
      "87        1\n",
      "74        1\n",
      "Name: count, Length: 94, dtype: int64\n"
     ]
    }
   ],
   "source": [
    "max_hour = df['hours-per-week'].max()\n",
    "print(\"max hours per week:\", max_hour)\n",
    "people_count_per_hour = df['hours-per-week'].value_counts()\n",
    "print(people_count_per_hour)"
   ],
   "metadata": {
    "collapsed": false,
    "pycharm": {
     "name": "#%%\n"
    },
    "ExecuteTime": {
     "end_time": "2024-03-21T15:07:41.291258Z",
     "start_time": "2024-03-21T15:07:41.235020Z"
    }
   }
  },
  {
   "cell_type": "markdown",
   "source": [
    "# Task 9\n",
    "Analyze the correlation between data in dataset. Understand connected fields in it and print highlight thier connection."
   ],
   "metadata": {
    "collapsed": false,
    "pycharm": {
     "name": "#%% md\n"
    }
   }
  },
  {
   "cell_type": "code",
   "execution_count": 98,
   "outputs": [
    {
     "data": {
      "text/plain": "                Unnamed: 0       age  hours-per-week  salary K$  \\\nUnnamed: 0        1.000000 -0.001126       -0.001890   0.000129   \nage              -0.001126  1.000000        0.101599   0.208203   \nhours-per-week   -0.001890  0.101599        1.000000   0.196378   \nsalary K$         0.000129  0.208203        0.196378   1.000000   \nis_male_gender   -0.001405  0.081993        0.231268   0.182642   \n\n                is_male_gender  \nUnnamed: 0           -0.001405  \nage                   0.081993  \nhours-per-week        0.231268  \nsalary K$             0.182642  \nis_male_gender        1.000000  ",
      "text/html": "<div>\n<style scoped>\n    .dataframe tbody tr th:only-of-type {\n        vertical-align: middle;\n    }\n\n    .dataframe tbody tr th {\n        vertical-align: top;\n    }\n\n    .dataframe thead th {\n        text-align: right;\n    }\n</style>\n<table border=\"1\" class=\"dataframe\">\n  <thead>\n    <tr style=\"text-align: right;\">\n      <th></th>\n      <th>Unnamed: 0</th>\n      <th>age</th>\n      <th>hours-per-week</th>\n      <th>salary K$</th>\n      <th>is_male_gender</th>\n    </tr>\n  </thead>\n  <tbody>\n    <tr>\n      <th>Unnamed: 0</th>\n      <td>1.000000</td>\n      <td>-0.001126</td>\n      <td>-0.001890</td>\n      <td>0.000129</td>\n      <td>-0.001405</td>\n    </tr>\n    <tr>\n      <th>age</th>\n      <td>-0.001126</td>\n      <td>1.000000</td>\n      <td>0.101599</td>\n      <td>0.208203</td>\n      <td>0.081993</td>\n    </tr>\n    <tr>\n      <th>hours-per-week</th>\n      <td>-0.001890</td>\n      <td>0.101599</td>\n      <td>1.000000</td>\n      <td>0.196378</td>\n      <td>0.231268</td>\n    </tr>\n    <tr>\n      <th>salary K$</th>\n      <td>0.000129</td>\n      <td>0.208203</td>\n      <td>0.196378</td>\n      <td>1.000000</td>\n      <td>0.182642</td>\n    </tr>\n    <tr>\n      <th>is_male_gender</th>\n      <td>-0.001405</td>\n      <td>0.081993</td>\n      <td>0.231268</td>\n      <td>0.182642</td>\n      <td>1.000000</td>\n    </tr>\n  </tbody>\n</table>\n</div>"
     },
     "execution_count": 98,
     "metadata": {},
     "output_type": "execute_result"
    }
   ],
   "source": [
    "df['is_male_gender'] = np.where(df['sex'] == 'Male', 1, 0)\n",
    "numeric_df = df.select_dtypes(include=['int64', 'float64'])\n",
    "numeric_df.corr()"
   ],
   "metadata": {
    "collapsed": false,
    "pycharm": {
     "name": "#%%\n"
    },
    "ExecuteTime": {
     "end_time": "2024-03-22T08:59:56.459697Z",
     "start_time": "2024-03-22T08:59:56.394794Z"
    }
   }
  },
  {
   "cell_type": "code",
   "outputs": [
    {
     "data": {
      "text/plain": "<Figure size 1000x600 with 1 Axes>",
      "image/png": "[encoded data removed]"
     },
     "metadata": {},
     "output_type": "display_data"
    }
   ],
   "source": [
    "import matplotlib.pyplot as plt\n",
    "age_bins = [0, 18, 25, 30, 35, 40, 45, 50, 55, 60, float('inf')]\n",
    "age_labels = [\"<18\", \"18-25\", \"25-30\", \"30-35\", \"35-40\", \"40-45\", \"45-50\", \"50-55\", \"55-60\", \"60+\"]\n",
    "df['Age Group'] = pd.cut(df['age'], bins=age_bins, labels=age_labels, right=False)\n",
    "\n",
    "salary_by_age_gender = df.groupby(['Age Group', 'sex'], observed=False)['salary K$'].mean().unstack()\n",
    "\n",
    "plt.figure(figsize=(10, 6))\n",
    "\n",
    "for gender in salary_by_age_gender.columns:\n",
    "    plt.plot(salary_by_age_gender.index, salary_by_age_gender[gender], label=gender)\n",
    "\n",
    "plt.xlabel(\"Age Group\")\n",
    "plt.ylabel(\"AVG Salary\")\n",
    "plt.title(\"Split by Age Group and Gender\")\n",
    "plt.legend()\n",
    "plt.grid(True)\n",
    "plt.show()"
   ],
   "metadata": {
    "collapsed": false,
    "ExecuteTime": {
     "end_time": "2024-03-22T10:00:43.899065Z",
     "start_time": "2024-03-22T10:00:43.634069Z"
    }
   },
   "execution_count": 106
  },
  {
   "cell_type": "code",
   "outputs": [
    {
     "data": {
      "text/plain": "<Figure size 1000x600 with 1 Axes>",
      "image/png": "[encoded data removed]"
     },
     "metadata": {},
     "output_type": "display_data"
    }
   ],
   "source": [
    "hours_bins = [40, 50, 60, 70, 80, 90, float('inf')]\n",
    "hours_labels = [\"40-50\", \"50-60\", \"60-70\", \"70-80\", \"80-90\", \"90+\"]\n",
    "df['Hour_group'] = pd.cut(df['hours-per-week'], bins=hours_bins, labels=hours_labels, right=False)\n",
    "\n",
    "salary_by_hour = df.groupby('Hour_group', observed=False)['salary K$'].mean()\n",
    "\n",
    "plt.figure(figsize=(10, 6))\n",
    "\n",
    "plt.bar(salary_by_hour.index, salary_by_hour.values)\n",
    "\n",
    "plt.xlabel(\"Hour Group\")\n",
    "plt.ylabel(\"Average Salary\")\n",
    "plt.title(\"Average Salary by Hour Group\")\n",
    "plt.grid(True)\n",
    "plt.show()"
   ],
   "metadata": {
    "collapsed": false,
    "ExecuteTime": {
     "end_time": "2024-03-22T10:11:48.670853Z",
     "start_time": "2024-03-22T10:11:48.461973Z"
    }
   },
   "execution_count": 114
  },
  {
   "cell_type": "code",
   "outputs": [],
   "source": [],
   "metadata": {
    "collapsed": false
   }
  }
 ],
 "metadata": {
  "kernelspec": {
   "display_name": "Python 3",
   "language": "python",
   "name": "python3"
  },
  "language_info": {
   "codemirror_mode": {
    "name": "ipython",
    "version": 2
   },
   "file_extension": ".py",
   "mimetype": "text/x-python",
   "name": "python",
   "nbconvert_exporter": "python",
   "pygments_lexer": "ipython2",
   "version": "2.7.6"
  }
 },
 "nbformat": 4,
 "nbformat_minor": 0
}
