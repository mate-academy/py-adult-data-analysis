{
 "cells": [
  {
   "cell_type": "code",
   "source": [
    "import numpy as np\n",
    "import pandas as pd"
   ],
   "metadata": {
    "collapsed": false,
    "pycharm": {
     "name": "#%%\n"
    },
    "ExecuteTime": {
     "end_time": "2024-10-18T18:31:57.590741Z",
     "start_time": "2024-10-18T18:31:55.891909Z"
    }
   },
   "outputs": [],
   "execution_count": 2
  },
  {
   "cell_type": "markdown",
   "source": [
    "# Task 0\n",
    "Read the dataset from csv file & perform data cleaning - remove all rows, which contains `?` in some columns.\n",
    "Also check for data correctness (salary & salary $K)."
   ],
   "metadata": {
    "collapsed": false,
    "pycharm": {
     "name": "#%% md\n"
    }
   }
  },
  {
   "cell_type": "code",
   "source": [
    "df = pd.read_csv(\"../data/adult.csv\", index_col=0)\n",
    "\n",
    "df_cleaned = df.replace(\"?\", pd.NA).dropna()\n",
    "\n",
    "cond1 = ((df_cleaned[\"salary\"] == \"<=50K\") & (df_cleaned[\"salary K$\"] > 50))\n",
    "df_cleaned.loc[df_cleaned[cond1].index.values, \"salary\"] = \">50K\"\n",
    "cond2 = ((df_cleaned[\"salary\"] == \">50K\") & (df_cleaned[\"salary K$\"] <= 50))\n",
    "df_cleaned.loc[df_cleaned[cond2].index.values, \"salary\"] = \"<=50K\"\n",
    "print(f\"corrected {cond1.sum() + cond2.sum()} salary\")"
   ],
   "metadata": {
    "collapsed": false,
    "pycharm": {
     "name": "#%%\n"
    },
    "ExecuteTime": {
     "end_time": "2024-10-19T15:22:53.880776Z",
     "start_time": "2024-10-19T15:22:53.797890Z"
    }
   },
   "outputs": [
    {
     "name": "stdout",
     "output_type": "stream",
     "text": [
      "corrected 0 salary\n"
     ]
    }
   ],
   "execution_count": 191
  },
  {
   "cell_type": "markdown",
   "source": [
    "\n",
    "# Task 1\n",
    "Print the count of men and women in the dataset."
   ],
   "metadata": {
    "collapsed": false,
    "pycharm": {
     "name": "#%% md\n"
    }
   }
  },
  {
   "cell_type": "code",
   "source": "print(df_cleaned[\"sex\"].value_counts())",
   "metadata": {
    "collapsed": false,
    "pycharm": {
     "name": "#%%\n"
    },
    "ExecuteTime": {
     "end_time": "2024-10-18T19:28:05.501748Z",
     "start_time": "2024-10-18T19:28:05.489559Z"
    }
   },
   "outputs": [
    {
     "name": "stdout",
     "output_type": "stream",
     "text": [
      "sex\n",
      "Male      20380\n",
      "Female     9782\n",
      "Name: count, dtype: int64\n"
     ]
    }
   ],
   "execution_count": 41
  },
  {
   "cell_type": "markdown",
   "source": [
    "# Task 2\n",
    "Find the average age of men in dataset"
   ],
   "metadata": {
    "collapsed": false,
    "pycharm": {
     "name": "#%% md\n"
    }
   }
  },
  {
   "cell_type": "code",
   "source": [
    "men_df = df_cleaned[df_cleaned[\"sex\"] == \"Male\"]\n",
    "print(men_df[\"age\"].mean())"
   ],
   "metadata": {
    "collapsed": false,
    "pycharm": {
     "name": "#%%\n"
    },
    "ExecuteTime": {
     "end_time": "2024-10-19T05:55:20.955658Z",
     "start_time": "2024-10-19T05:55:20.936188Z"
    }
   },
   "outputs": [
    {
     "name": "stdout",
     "output_type": "stream",
     "text": [
      "39.18400392541707\n"
     ]
    }
   ],
   "execution_count": 51
  },
  {
   "cell_type": "markdown",
   "source": [
    "# Task 3\n",
    "Get the percentage of people from Poland (native-country)"
   ],
   "metadata": {
    "collapsed": false,
    "pycharm": {
     "name": "#%% md\n"
    }
   }
  },
  {
   "cell_type": "code",
   "source": [
    "polish = len(df_cleaned[df_cleaned[\"native-country\"]==\"Poland\"]) / len(df_cleaned) * 100\n",
    "print(f\"{polish:.2f}\")"
   ],
   "metadata": {
    "collapsed": false,
    "pycharm": {
     "name": "#%%\n"
    },
    "ExecuteTime": {
     "end_time": "2024-10-19T05:56:55.600124Z",
     "start_time": "2024-10-19T05:56:55.579970Z"
    }
   },
   "outputs": [
    {
     "name": "stdout",
     "output_type": "stream",
     "text": [
      "0.19\n"
     ]
    }
   ],
   "execution_count": 55
  },
  {
   "cell_type": "markdown",
   "source": [
    "# Task 4\n",
    "Get the mean and standard deviation of the age for people who earn > 50K per year. After this, get it for those who earn <= 50K."
   ],
   "metadata": {
    "collapsed": false,
    "pycharm": {
     "name": "#%% md\n"
    }
   }
  },
  {
   "cell_type": "code",
   "source": [
    "df_age = df_cleaned[df_cleaned[\"salary\"] == \">50K\"]\n",
    "print(f\"mean of the age who earn >50K = {df_age[\"age\"].mean():.2f}\")\n",
    "print(f\"standard deviation of the age who earn >50K = {df_age[\"age\"].std():.2f}\")\n",
    "\n",
    "df_age_upto50k = df_cleaned[df_cleaned[\"salary\"] == \"<=50K\"]\n",
    "print(f\"mean of the age who earn <=50K = {df_age_upto50k[\"age\"].mean():.2f}\")\n",
    "print(f\"standard deviation of the age who earn <=50K = {df_age_upto50k[\"age\"].std():.2f}\")\n"
   ],
   "metadata": {
    "collapsed": false,
    "pycharm": {
     "name": "#%%\n"
    },
    "ExecuteTime": {
     "end_time": "2024-10-19T06:04:18.397977Z",
     "start_time": "2024-10-19T06:04:18.380255Z"
    }
   },
   "outputs": [
    {
     "name": "stdout",
     "output_type": "stream",
     "text": [
      "mean of the age who earn >50K = 43.96\n",
      "standard deviation of the age who earn >50K = 10.27\n",
      "mean of the age who earn <=50K = 36.61\n",
      "standard deviation of the age who earn <=50K = 13.46\n"
     ]
    }
   ],
   "execution_count": 60
  },
  {
   "cell_type": "markdown",
   "source": [
    "# Task 5\n",
    "Check, if there are some people without higher education (education: Bachelors, Prof-school, Assoc-acdm, Assoc-voc, Masters, Doctorate), but with > 50K salary"
   ],
   "metadata": {
    "collapsed": false,
    "pycharm": {
     "name": "#%% md\n"
    }
   }
  },
  {
   "cell_type": "code",
   "source": [
    "higher_edu = [\"Bachelors\", \"Prof-school\", \"Assoc-acdm\", \"Assoc-voc\", \"Masters\", \"Doctorate\"]\n",
    "non_edu_more50k = df_cleaned[(df_cleaned[\"salary\"] == \">50K\") & (~df_cleaned[\"education\"].isin(higher_edu))]\n",
    "\n",
    "if not non_edu_more50k.empty:\n",
    "    print(f\"{len(non_edu_more50k)} people without higher education earning more than 50K.\")\n",
    "else:\n",
    "    print(\"There are no people without higher education earning more than 50K.\")"
   ],
   "metadata": {
    "collapsed": false,
    "pycharm": {
     "name": "#%%\n"
    },
    "ExecuteTime": {
     "end_time": "2024-10-19T06:12:34.611418Z",
     "start_time": "2024-10-19T06:12:34.587297Z"
    }
   },
   "outputs": [
    {
     "name": "stdout",
     "output_type": "stream",
     "text": [
      "3306 people without higher education earning more than 50K.\n"
     ]
    }
   ],
   "execution_count": 65
  },
  {
   "cell_type": "markdown",
   "source": [
    "# Task 6\n",
    "Get the statistics of age for each type of education. Use `groupby` and `describe` for this."
   ],
   "metadata": {
    "collapsed": false,
    "pycharm": {
     "name": "#%% md\n"
    }
   }
  },
  {
   "cell_type": "code",
   "source": "print(df_cleaned.groupby(\"education\")[\"age\"].describe())",
   "metadata": {
    "collapsed": false,
    "pycharm": {
     "name": "#%%\n"
    },
    "ExecuteTime": {
     "end_time": "2024-10-19T06:21:42.391989Z",
     "start_time": "2024-10-19T06:21:42.358454Z"
    }
   },
   "outputs": [
    {
     "name": "stdout",
     "output_type": "stream",
     "text": [
      "               count       mean        std   min   25%   50%   75%   max\n",
      "education                                                               \n",
      "10th           820.0  37.897561  16.225795  17.0  23.0  36.0  52.0  90.0\n",
      "11th          1048.0  32.363550  15.089307  17.0  18.0  28.5  43.0  90.0\n",
      "12th           377.0  32.013263  14.373710  17.0  19.0  28.0  41.0  79.0\n",
      "1st-4th        151.0  44.622517  14.929051  19.0  33.0  44.0  56.0  81.0\n",
      "5th-6th        288.0  41.649306  14.754622  17.0  28.0  41.0  53.0  82.0\n",
      "7th-8th        557.0  47.631957  15.737479  17.0  34.0  49.0  60.0  90.0\n",
      "9th            455.0  40.303297  15.335754  17.0  28.0  38.0  53.0  90.0\n",
      "Assoc-acdm    1008.0  37.286706  10.509755  19.0  29.0  36.0  44.0  90.0\n",
      "Assoc-voc     1307.0  38.246366  11.181253  19.0  30.0  37.0  45.0  84.0\n",
      "Bachelors     5044.0  38.641554  11.577566  19.0  29.0  37.0  46.0  90.0\n",
      "Doctorate      375.0  47.130667  11.471727  24.0  39.0  47.0  54.0  80.0\n",
      "HS-grad       9840.0  38.640955  13.067730  17.0  28.0  37.0  48.0  90.0\n",
      "Masters       1627.0  43.740012  10.735356  18.0  36.0  43.0  50.0  90.0\n",
      "Preschool       45.0  41.288889  15.175672  19.0  30.0  40.0  53.0  75.0\n",
      "Prof-school    542.0  44.249077  11.428098  25.0  36.0  43.0  50.0  90.0\n",
      "Some-college  6678.0  36.135370  13.073528  17.0  25.0  35.0  45.0  90.0\n"
     ]
    }
   ],
   "execution_count": 71
  },
  {
   "cell_type": "markdown",
   "source": [
    "# Task 7\n",
    "Compare the married and non-married men salaries. Who earns more? (>50K or <=50K)\n",
    "Married men are those, whom `marital-status` starts with \"Married\". Others are not."
   ],
   "metadata": {
    "collapsed": false,
    "pycharm": {
     "name": "#%% md\n"
    }
   }
  },
  {
   "cell_type": "code",
   "source": [
    "# print(df_cleaned.groupby(\"marital-status\")[\"salary\"].describe())\n",
    "\n",
    "men = df_cleaned[df_cleaned[\"sex\"] == \"Male\"]\n",
    "married = df_cleaned[\"marital-status\"].str.startswith(\"Married\")\n",
    "\n",
    "married_men = men[married]\n",
    "print(f\"married men earns:\")\n",
    "print(married_men[\"salary\"].value_counts())\n",
    "\n",
    "non_married_men = men[~married]\n",
    "print(f\"non married men earns:\")\n",
    "print(non_married_men[\"salary\"].value_counts())"
   ],
   "metadata": {
    "collapsed": false,
    "pycharm": {
     "name": "#%%\n"
    },
    "ExecuteTime": {
     "end_time": "2024-10-19T06:38:25.777339Z",
     "start_time": "2024-10-19T06:38:25.752543Z"
    }
   },
   "outputs": [
    {
     "name": "stdout",
     "output_type": "stream",
     "text": [
      "married men earns:\n",
      "salary\n",
      "<=50K    7052\n",
      ">50K     5723\n",
      "Name: count, dtype: int64\n",
      "non married men earns:\n",
      "salary\n",
      "<=50K    6932\n",
      ">50K      673\n",
      "Name: count, dtype: int64\n"
     ]
    },
    {
     "name": "stderr",
     "output_type": "stream",
     "text": [
      "C:\\Users\\USER\\AppData\\Local\\Temp\\ipykernel_31136\\2609932115.py:6: UserWarning: Boolean Series key will be reindexed to match DataFrame index.\n",
      "  married_men = men[married]\n",
      "C:\\Users\\USER\\AppData\\Local\\Temp\\ipykernel_31136\\2609932115.py:10: UserWarning: Boolean Series key will be reindexed to match DataFrame index.\n",
      "  non_married_men = men[~married]\n"
     ]
    }
   ],
   "execution_count": 94
  },
  {
   "cell_type": "markdown",
   "source": [
    "# Task 8\n",
    "Get the max hours per week some person works. How many people works the same amount of hours per week?"
   ],
   "metadata": {
    "collapsed": false,
    "pycharm": {
     "name": "#%% md\n"
    }
   }
  },
  {
   "cell_type": "code",
   "source": [
    "hours_max = df_cleaned[\"hours-per-week\"].max()\n",
    "print(f\"{len(df_cleaned[df_cleaned[\"hours-per-week\"] == hours_max])} people with max {hours_max} hours-per-week \")"
   ],
   "metadata": {
    "collapsed": false,
    "pycharm": {
     "name": "#%%\n"
    },
    "ExecuteTime": {
     "end_time": "2024-10-19T07:02:14.131153Z",
     "start_time": "2024-10-19T07:02:14.125359Z"
    }
   },
   "outputs": [
    {
     "name": "stdout",
     "output_type": "stream",
     "text": [
      "78 people with max 99 hours-per-week \n"
     ]
    }
   ],
   "execution_count": 100
  },
  {
   "cell_type": "markdown",
   "source": [
    "# Task 9\n",
    "Analyze the correlation between data in dataset. Understand connected fields in it and print highlight thier connection."
   ],
   "metadata": {
    "collapsed": false,
    "pycharm": {
     "name": "#%% md\n"
    }
   }
  },
  {
   "cell_type": "code",
   "source": [
    "df_num = df_cleaned.select_dtypes(include=['int64', 'float64'])\n",
    "correlation = df_num.corr()\n",
    "print(correlation)\n"
   ],
   "metadata": {
    "collapsed": false,
    "pycharm": {
     "name": "#%%\n"
    },
    "ExecuteTime": {
     "end_time": "2024-10-19T07:19:27.780706Z",
     "start_time": "2024-10-19T07:19:27.763251Z"
    }
   },
   "outputs": [
    {
     "name": "stdout",
     "output_type": "stream",
     "text": [
      "                     age  hours-per-week  salary K$\n",
      "age             1.000000        0.101599   0.208203\n",
      "hours-per-week  0.101599        1.000000   0.196378\n",
      "salary K$       0.208203        0.196378   1.000000\n"
     ]
    }
   ],
   "execution_count": 110
  },
  {
   "metadata": {},
   "cell_type": "code",
   "outputs": [],
   "execution_count": null,
   "source": ""
  }
 ],
 "metadata": {
  "kernelspec": {
   "display_name": "Python 3",
   "language": "python",
   "name": "python3"
  },
  "language_info": {
   "codemirror_mode": {
    "name": "ipython",
    "version": 2
   },
   "file_extension": ".py",
   "mimetype": "text/x-python",
   "name": "python",
   "nbconvert_exporter": "python",
   "pygments_lexer": "ipython2",
   "version": "2.7.6"
  }
 },
 "nbformat": 4,
 "nbformat_minor": 0
}
