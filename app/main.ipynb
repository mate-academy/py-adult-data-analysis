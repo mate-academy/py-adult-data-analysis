{
 "cells": [
  {
   "cell_type": "code",
   "execution_count": 1,
   "outputs": [],
   "source": [
    "import numpy as np\n",
    "import pandas as pd\n"
   ],
   "metadata": {
    "collapsed": false,
    "pycharm": {
     "name": "#%%\n"
    }
   }
  },
  {
   "cell_type": "markdown",
   "source": [
    "# Task 0\n",
    "Read the dataset from csv file & perform data cleaning - remove all rows, which contains `?` in some columns.\n",
    "Also check for data correctness (salary & salary $K)."
   ],
   "metadata": {
    "collapsed": false,
    "pycharm": {
     "name": "#%% md\n"
    }
   }
  },
  {
   "cell_type": "code",
   "execution_count": null,
   "outputs": [],
   "source": [
    "df = pd.read_csv(\"../data/adult.csv\")\n",
    "df = df[(df != '?').all(axis=1)]\n",
    "mask = (df['salary'] == '>50K') & (df['salary K$'] < 50) | (df['salary'] == '<=50K') & (df['salary K$'] >= 50)\n"
   ],
   "metadata": {
    "collapsed": false,
    "pycharm": {
     "name": "#%%\n",
     "is_executing": true
    }
   }
  },
  {
   "cell_type": "markdown",
   "source": [
    "# Task 1\n",
    "Print the count of men and women in the dataset."
   ],
   "metadata": {
    "collapsed": false,
    "pycharm": {
     "name": "#%% md\n"
    }
   }
  },
  {
   "cell_type": "code",
   "execution_count": 35,
   "outputs": [
    {
     "name": "stdout",
     "output_type": "stream",
     "text": [
      "Number of men: 20380\n",
      "Number of women: 9782\n"
     ]
    }
   ],
   "source": [
    "male_count = df[df['sex'] == 'Male']['sex'].count()\n",
    "female_count = df[df['sex'] == 'Female']['sex'].count()\n",
    "\n",
    "# Print the counts\n",
    "print(\"Number of men:\", male_count)\n",
    "print(\"Number of women:\", female_count)"
   ],
   "metadata": {
    "collapsed": false,
    "pycharm": {
     "name": "#%%\n"
    }
   }
  },
  {
   "cell_type": "markdown",
   "source": [
    "# Task 2\n",
    "Find the average age of men in dataset"
   ],
   "metadata": {
    "collapsed": false,
    "pycharm": {
     "name": "#%% md\n"
    }
   }
  },
  {
   "cell_type": "code",
   "execution_count": 36,
   "outputs": [
    {
     "name": "stdout",
     "output_type": "stream",
     "text": [
      "Average age of men: 39.18400392541707\n"
     ]
    }
   ],
   "source": [
    "men = df[df['sex'] == 'Male']\n",
    "avg_age_men = men['age'].mean()\n",
    "print(\"Average age of men:\", avg_age_men)"
   ],
   "metadata": {
    "collapsed": false,
    "pycharm": {
     "name": "#%%\n"
    }
   }
  },
  {
   "cell_type": "markdown",
   "source": [
    "# Task 3\n",
    "Get the percentage of people from Poland (native-country)"
   ],
   "metadata": {
    "collapsed": false,
    "pycharm": {
     "name": "#%% md\n"
    }
   }
  },
  {
   "cell_type": "code",
   "execution_count": 37,
   "outputs": [
    {
     "name": "stdout",
     "output_type": "stream",
     "text": [
      "Percentage of people from Poland: 0.18566408063125786\n"
     ]
    }
   ],
   "source": [
    "poland = df[df['native-country'] == 'Poland']\n",
    "percent_poland = (len(poland) / len(df)) * 100\n",
    "print(\"Percentage of people from Poland:\", percent_poland)"
   ],
   "metadata": {
    "collapsed": false,
    "pycharm": {
     "name": "#%%\n"
    }
   }
  },
  {
   "cell_type": "markdown",
   "source": [
    "# Task 4\n",
    "Get the mean and standard deviation of the age for people who earn > 50K per year. After this, get it for those who earn <= 50K."
   ],
   "metadata": {
    "collapsed": false,
    "pycharm": {
     "name": "#%% md\n"
    }
   }
  },
  {
   "cell_type": "code",
   "execution_count": 38,
   "outputs": [
    {
     "name": "stdout",
     "output_type": "stream",
     "text": [
      "Mean age of people who earn > 50K per year: 43.95911028236548\n",
      "Standard deviation of age of people who earn > 50K per year: 10.269632835673852\n",
      "Mean age of people who earn <= 50K per year: 36.60806038668668\n",
      "Standard deviation of age of people who earn <= 50K per year: 13.464631257161633\n"
     ]
    }
   ],
   "source": [
    "high_salary = df[df['salary'] == '>50K']\n",
    "high_salary_age_mean = high_salary['age'].mean()\n",
    "high_salary_age_std = high_salary['age'].std()\n",
    "\n",
    "\n",
    "print(\"Mean age of people who earn > 50K per year:\", high_salary_age_mean)\n",
    "print(\"Standard deviation of age of people who earn > 50K per year:\", high_salary_age_std)\n",
    "\n",
    "\n",
    "low_salary = df[df['salary'] == '<=50K']\n",
    "low_salary_age_mean = low_salary['age'].mean()\n",
    "low_salary_age_std = low_salary['age'].std()\n",
    "\n",
    "\n",
    "print(\"Mean age of people who earn <= 50K per year:\", low_salary_age_mean)\n",
    "print(\"Standard deviation of age of people who earn <= 50K per year:\", low_salary_age_std)"
   ],
   "metadata": {
    "collapsed": false,
    "pycharm": {
     "name": "#%%\n"
    }
   }
  },
  {
   "cell_type": "markdown",
   "source": [
    "# Task 5\n",
    "Check, if there are some people without higher education (education: Bachelors, Prof-school, Assoc-acdm, Assoc-voc, Masters, Doctorate), but with > 50K salary"
   ],
   "metadata": {
    "collapsed": false,
    "pycharm": {
     "name": "#%% md\n"
    }
   }
  },
  {
   "cell_type": "code",
   "execution_count": 39,
   "outputs": [
    {
     "name": "stdout",
     "output_type": "stream",
     "text": [
      "People without higher education but with >50K salary:\n",
      "       Unnamed: 0  age         workclass     education      marital-status  \\\n",
      "7               7   52  Self-emp-not-inc       HS-grad  Married-civ-spouse   \n",
      "10             10   37           Private  Some-college  Married-civ-spouse   \n",
      "55             55   43           Private  Some-college  Married-civ-spouse   \n",
      "67             67   53           Private       HS-grad  Married-civ-spouse   \n",
      "68             68   49      Self-emp-inc  Some-college  Married-civ-spouse   \n",
      "...           ...  ...               ...           ...                 ...   \n",
      "32462       32462   48      Self-emp-inc       HS-grad  Married-civ-spouse   \n",
      "32518       32518   57         Local-gov       HS-grad  Married-civ-spouse   \n",
      "32519       32519   46           Private  Some-college  Married-civ-spouse   \n",
      "32557       32557   40           Private       HS-grad  Married-civ-spouse   \n",
      "32560       32560   52      Self-emp-inc       HS-grad  Married-civ-spouse   \n",
      "\n",
      "              occupation relationship   race     sex  hours-per-week  \\\n",
      "7        Exec-managerial      Husband  White    Male              45   \n",
      "10       Exec-managerial      Husband  Black    Male              80   \n",
      "55          Tech-support      Husband  White    Male              40   \n",
      "67          Adm-clerical         Wife  White  Female              40   \n",
      "68       Exec-managerial      Husband  White    Male              50   \n",
      "...                  ...          ...    ...     ...             ...   \n",
      "32462       Craft-repair      Husband  White    Male              50   \n",
      "32518       Craft-repair      Husband  White    Male              40   \n",
      "32519    Exec-managerial      Husband  White    Male              48   \n",
      "32557  Machine-op-inspct      Husband  White    Male              40   \n",
      "32560    Exec-managerial         Wife  White  Female              40   \n",
      "\n",
      "      native-country salary  salary K$  \n",
      "7      United-States   >50K        307  \n",
      "10     United-States   >50K        116  \n",
      "55     United-States   >50K        341  \n",
      "67     United-States   >50K        225  \n",
      "68     United-States   >50K        194  \n",
      "...              ...    ...        ...  \n",
      "32462  United-States   >50K        343  \n",
      "32518  United-States   >50K        116  \n",
      "32519  United-States   >50K        239  \n",
      "32557  United-States   >50K        173  \n",
      "32560  United-States   >50K        243  \n",
      "\n",
      "[3178 rows x 13 columns]\n"
     ]
    }
   ],
   "source": [
    "high_salary = df[df['salary'] == '>50K']\n",
    "higher_education = ['Bachelors', 'Prof-school', 'Assoc-acdm', 'Assoc-voc', 'Masters', 'Doctorate']\n",
    "no_higher_edu = high_salary[~high_salary['education'].isin(higher_education)]\n",
    "print(\"People without higher education but with >50K salary:\")\n",
    "print(no_higher_edu)"
   ],
   "metadata": {
    "collapsed": false,
    "pycharm": {
     "name": "#%%\n"
    }
   }
  },
  {
   "cell_type": "markdown",
   "source": [
    "# Task 6\n",
    "Get the statistics of age for each type of education. Use `groupby` and `describe` for this."
   ],
   "metadata": {
    "collapsed": false,
    "pycharm": {
     "name": "#%% md\n"
    }
   }
  },
  {
   "cell_type": "code",
   "execution_count": 40,
   "outputs": [
    {
     "name": "stdout",
     "output_type": "stream",
     "text": [
      "Statistics of age for each type of education:\n",
      "               count       mean        std   min   25%   50%   75%   max\n",
      "education                                                               \n",
      "10th           820.0  37.897561  16.225795  17.0  23.0  36.0  52.0  90.0\n",
      "11th          1048.0  32.363550  15.089307  17.0  18.0  28.5  43.0  90.0\n",
      "12th           377.0  32.013263  14.373710  17.0  19.0  28.0  41.0  79.0\n",
      "1st-4th        151.0  44.622517  14.929051  19.0  33.0  44.0  56.0  81.0\n",
      "5th-6th        288.0  41.649306  14.754622  17.0  28.0  41.0  53.0  82.0\n",
      "7th-8th        557.0  47.631957  15.737479  17.0  34.0  49.0  60.0  90.0\n",
      "9th            455.0  40.303297  15.335754  17.0  28.0  38.0  53.0  90.0\n",
      "Assoc-acdm    1008.0  37.286706  10.509755  19.0  29.0  36.0  44.0  90.0\n",
      "Assoc-voc     1307.0  38.246366  11.181253  19.0  30.0  37.0  45.0  84.0\n",
      "Bachelors     5044.0  38.641554  11.577566  19.0  29.0  37.0  46.0  90.0\n",
      "Doctorate      375.0  47.130667  11.471727  24.0  39.0  47.0  54.0  80.0\n",
      "HS-grad       9840.0  38.640955  13.067730  17.0  28.0  37.0  48.0  90.0\n",
      "Masters       1627.0  43.740012  10.735356  18.0  36.0  43.0  50.0  90.0\n",
      "Preschool       45.0  41.288889  15.175672  19.0  30.0  40.0  53.0  75.0\n",
      "Prof-school    542.0  44.249077  11.428098  25.0  36.0  43.0  50.0  90.0\n",
      "Some-college  6678.0  36.135370  13.073528  17.0  25.0  35.0  45.0  90.0\n"
     ]
    }
   ],
   "source": [
    "edu_age_stats = df.groupby('education')['age'].describe()\n",
    "print(\"Statistics of age for each type of education:\")\n",
    "print(edu_age_stats)"
   ],
   "metadata": {
    "collapsed": false,
    "pycharm": {
     "name": "#%%\n"
    }
   }
  },
  {
   "cell_type": "markdown",
   "source": [
    "# Task 7\n",
    "Compare the married and non-married men salaries. Who earns more? (>50K or <=50K)\n",
    "Married men are those, whom `marital-status` starts with \"Married\". Others are not."
   ],
   "metadata": {
    "collapsed": false,
    "pycharm": {
     "name": "#%% md\n"
    }
   }
  },
  {
   "cell_type": "code",
   "execution_count": 43,
   "outputs": [
    {
     "name": "stdout",
     "output_type": "stream",
     "text": [
      "Married Men:\n",
      ">50K: 5723, <=50K: 7052\n",
      "Non-Married Men:\n",
      ">50K: 673, <=50K: 6932\n"
     ]
    }
   ],
   "source": [
    "men = df[df['sex'] == 'Male']\n",
    "married_men = men[men['marital-status'].str.startswith('Married')]\n",
    "non_married_men = men[~men['marital-status'].str.startswith('Married')]\n",
    "married_high_earners = married_men[married_men['salary'] == '>50K']['salary'].count()\n",
    "married_low_earners = married_men[married_men['salary'] == '<=50K']['salary'].count()\n",
    "non_married_high_earners = non_married_men[non_married_men['salary'] == '>50K']['salary'].count()\n",
    "non_married_low_earners = non_married_men[non_married_men['salary'] == '<=50K']['salary'].count()\n",
    "print(\"Married Men:\")\n",
    "print(f\">50K: {married_high_earners}, <=50K: {married_low_earners}\")\n",
    "print(\"Non-Married Men:\")\n",
    "print(f\">50K: {non_married_high_earners}, <=50K: {non_married_low_earners}\")"
   ],
   "metadata": {
    "collapsed": false,
    "pycharm": {
     "name": "#%%\n"
    }
   }
  },
  {
   "cell_type": "markdown",
   "source": [
    "# Task 8\n",
    "Get the max hours per week some person works. How many people works the same amount of hours per week?"
   ],
   "metadata": {
    "collapsed": false,
    "pycharm": {
     "name": "#%% md\n"
    }
   }
  },
  {
   "cell_type": "code",
   "execution_count": 44,
   "outputs": [
    {
     "name": "stdout",
     "output_type": "stream",
     "text": [
      "The maximum number of hours worked per week is 99\n",
      "78 people work 99 hours per week\n"
     ]
    }
   ],
   "source": [
    "max_hours = df['hours-per-week'].max()\n",
    "print(f\"The maximum number of hours worked per week is {max_hours}\")\n",
    "num_people_max_hours = df[df['hours-per-week'] == max_hours].shape[0]\n",
    "print(f\"{num_people_max_hours} people work {max_hours} hours per week\")"
   ],
   "metadata": {
    "collapsed": false,
    "pycharm": {
     "name": "#%%\n"
    }
   }
  },
  {
   "cell_type": "markdown",
   "source": [
    "# Task 9\n",
    "Analyze the correlation between data in dataset. Understand connected fields in it and print highlight thier connection."
   ],
   "metadata": {
    "collapsed": false,
    "pycharm": {
     "name": "#%% md\n"
    }
   }
  },
  {
   "cell_type": "code",
   "execution_count": 45,
   "outputs": [
    {
     "name": "stdout",
     "output_type": "stream",
     "text": [
      "Correlation coefficients between salary and other variables:\n",
      "salary_k          1.000000\n",
      "salary            1.000000\n",
      "salary K$         0.853894\n",
      "age               0.241998\n",
      "hours-per-week    0.229480\n",
      "Unnamed: 0        0.006244\n",
      "Name: salary, dtype: float64\n"
     ]
    },
    {
     "data": {
      "text/plain": "<Figure size 640x480 with 2 Axes>",
      "image/png": "[encoded data removed]"
     },
     "metadata": {},
     "output_type": "display_data"
    }
   ],
   "source": [
    "df['salary'] = df['salary'].apply(lambda x: 1 if x == '>50K' else 0)\n",
    "df['salary_k'] = df['salary'].apply(lambda x: x*50 + 25)\n",
    "corr_matrix = df.corr()\n",
    "import seaborn as sns\n",
    "sns.heatmap(corr_matrix, cmap='coolwarm', annot=True, fmt='.2f', square=True)\n",
    "print(\"Correlation coefficients between salary and other variables:\")\n",
    "print(corr_matrix['salary'].sort_values(ascending=False))"
   ],
   "metadata": {
    "collapsed": false,
    "pycharm": {
     "name": "#%%\n"
    }
   }
  },
  {
   "cell_type": "code",
   "execution_count": null,
   "outputs": [],
   "source": [],
   "metadata": {
    "collapsed": false,
    "pycharm": {
     "name": "#%%\n"
    }
   }
  }
 ],
 "metadata": {
  "kernelspec": {
   "display_name": "Python 3",
   "language": "python",
   "name": "python3"
  },
  "language_info": {
   "codemirror_mode": {
    "name": "ipython",
    "version": 2
   },
   "file_extension": ".py",
   "mimetype": "text/x-python",
   "name": "python",
   "nbconvert_exporter": "python",
   "pygments_lexer": "ipython2",
   "version": "2.7.6"
  }
 },
 "nbformat": 4,
 "nbformat_minor": 0
}