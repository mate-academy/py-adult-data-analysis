{
 "cells": [
  {
   "cell_type": "code",
   "execution_count": 2,
   "outputs": [],
   "source": [
    "import numpy as np\n",
    "import pandas as pd"
   ],
   "metadata": {
    "collapsed": false,
    "pycharm": {
     "name": "#%%\n"
    },
    "ExecuteTime": {
     "end_time": "2024-01-08T13:58:54.339292Z",
     "start_time": "2024-01-08T13:58:52.364695Z"
    }
   }
  },
  {
   "cell_type": "markdown",
   "source": [
    "# Task 0\n",
    "Read the dataset from csv file & perform data cleaning - remove all rows, which contains `?` in some columns.\n",
    "Also check for data correctness (salary & salary $K)."
   ],
   "metadata": {
    "collapsed": false,
    "pycharm": {
     "name": "#%% md\n"
    }
   }
  },
  {
   "cell_type": "code",
   "execution_count": 3,
   "outputs": [],
   "source": [
    "df = pd.read_csv(\"../data/adult.csv\")\n",
    "\n",
    "df = df[~df.apply(lambda row: any(row == \"?\"), axis=1)]\n",
    "\n",
    "condition = df[\"salary\"].astype(str).str[0] == \">\"\n",
    "\n",
    "df.loc[condition, \"salary\"] = True\n",
    "df.loc[~condition, \"salary\"] = False\n",
    "\n",
    "correct_rows = df[(df[\"salary\"] & df[\"salary K$\"] > 50) | (~df[\"salary\"] & df[\"salary K$\"] <= 50)]\n",
    "\n",
    "\n",
    "df = df[df.index.isin(correct_rows.index)]"
   ],
   "metadata": {
    "collapsed": false,
    "pycharm": {
     "name": "#%%\n"
    },
    "ExecuteTime": {
     "end_time": "2024-01-08T13:59:03.697333Z",
     "start_time": "2024-01-08T13:58:54.351125Z"
    }
   }
  },
  {
   "cell_type": "markdown",
   "source": [
    "# Task 1\n",
    "Print the count of men and women in the dataset."
   ],
   "metadata": {
    "collapsed": false,
    "pycharm": {
     "name": "#%% md\n"
    }
   }
  },
  {
   "cell_type": "code",
   "execution_count": 4,
   "outputs": [
    {
     "name": "stdout",
     "output_type": "stream",
     "text": [
      "Count of Men: 20380\n",
      "Count of Women: 9782\n"
     ]
    }
   ],
   "source": [
    "sex_counts = df[\"sex\"].value_counts()\n",
    "\n",
    "print(\"Count of Men:\", sex_counts.get(\"Male\", 0))\n",
    "print(\"Count of Women:\", sex_counts.get(\"Female\", 0))"
   ],
   "metadata": {
    "collapsed": false,
    "pycharm": {
     "name": "#%%\n"
    },
    "ExecuteTime": {
     "end_time": "2024-01-08T13:59:03.773187Z",
     "start_time": "2024-01-08T13:59:03.708251Z"
    }
   }
  },
  {
   "cell_type": "markdown",
   "source": [
    "# Task 2\n",
    "Find the average age of men in dataset"
   ],
   "metadata": {
    "collapsed": false,
    "pycharm": {
     "name": "#%% md\n"
    }
   }
  },
  {
   "cell_type": "code",
   "execution_count": 5,
   "outputs": [
    {
     "name": "stdout",
     "output_type": "stream",
     "text": [
      "39.0\n"
     ]
    }
   ],
   "source": [
    "average_age_men = df[df[\"sex\"] == \"Male\"][\"age\"].mean()\n",
    "\n",
    "print(np.floor(average_age_men))"
   ],
   "metadata": {
    "collapsed": false,
    "pycharm": {
     "name": "#%%\n"
    },
    "ExecuteTime": {
     "end_time": "2024-01-08T13:59:03.775535Z",
     "start_time": "2024-01-08T13:59:03.735875Z"
    }
   }
  },
  {
   "cell_type": "markdown",
   "source": [
    "# Task 3\n",
    "Get the percentage of people from Poland (native-country)"
   ],
   "metadata": {
    "collapsed": false,
    "pycharm": {
     "name": "#%% md\n"
    }
   }
  },
  {
   "cell_type": "code",
   "execution_count": 6,
   "outputs": [
    {
     "name": "stdout",
     "output_type": "stream",
     "text": [
      "0.18566408063125786\n"
     ]
    }
   ],
   "source": [
    "total_people = len(df)\n",
    "polish_percentage = (df[\"native-country\"].value_counts().get(\"Poland\", 0) / total_people) * 100\n",
    "\n",
    "print(polish_percentage)"
   ],
   "metadata": {
    "collapsed": false,
    "pycharm": {
     "name": "#%%\n"
    },
    "ExecuteTime": {
     "end_time": "2024-01-08T13:59:03.860728Z",
     "start_time": "2024-01-08T13:59:03.760747Z"
    }
   }
  },
  {
   "cell_type": "markdown",
   "source": [
    "# Task 4\n",
    "Get the mean and standard deviation of the age for people who earn > 50K per year. After this, get it for those who earn <= 50K."
   ],
   "metadata": {
    "collapsed": false,
    "pycharm": {
     "name": "#%% md\n"
    }
   }
  },
  {
   "cell_type": "code",
   "execution_count": 7,
   "outputs": [
    {
     "name": "stdout",
     "output_type": "stream",
     "text": [
      "Mean age >50K: 43.95911028236548\n",
      "Standard deviation >50K: 10.269632835673852\n",
      "\n",
      "Mean age <=50K: 36.60806038668668\n",
      "Standard deviation <=50K: 13.464631257161633\n"
     ]
    }
   ],
   "source": [
    "income_groups = df.groupby(\"salary\")\n",
    "\n",
    "above_50k_mean_age = income_groups.get_group(True)[\"age\"].mean()\n",
    "above_50k_std_age = income_groups.get_group(True)[\"age\"].std()\n",
    "\n",
    "print(\"Mean age >50K:\", above_50k_mean_age)\n",
    "print(\"Standard deviation >50K:\", above_50k_std_age)\n",
    "\n",
    "below_50k_mean_age = income_groups.get_group(False)[\"age\"].mean()\n",
    "below_50k_std_age = income_groups.get_group(False)[\"age\"].std()\n",
    "\n",
    "print(\"\\nMean age <=50K:\", below_50k_mean_age)\n",
    "print(\"Standard deviation <=50K:\", below_50k_std_age)\n"
   ],
   "metadata": {
    "collapsed": false,
    "pycharm": {
     "name": "#%%\n"
    },
    "ExecuteTime": {
     "end_time": "2024-01-08T13:59:03.958935Z",
     "start_time": "2024-01-08T13:59:03.796279Z"
    }
   }
  },
  {
   "cell_type": "markdown",
   "source": [
    "# Task 5\n",
    "Check, if there are some people without higher education (education: Bachelors, Prof-school, Assoc-acdm, Assoc-voc, Masters, Doctorate), but with > 50K salary"
   ],
   "metadata": {
    "collapsed": false,
    "pycharm": {
     "name": "#%% md\n"
    }
   }
  },
  {
   "cell_type": "code",
   "execution_count": 8,
   "outputs": [
    {
     "name": "stdout",
     "output_type": "stream",
     "text": [
      "3178\n"
     ]
    }
   ],
   "source": [
    "# Assuming 'education' and 'income' are the column names\n",
    "higher_education_levels = [\"Bachelors\", \"Prof-school\", \"Assoc-acdm\", \"Assoc-voc\", \"Masters\", \"Doctorate\"]\n",
    "\n",
    "# Check if there are people with > 50K salary and not in higher education levels\n",
    "people_without_higher_education = df[(df[\"salary\"] == True) & ~df[\"education\"].isin(higher_education_levels)]\n",
    "\n",
    "print(len(people_without_higher_education))"
   ],
   "metadata": {
    "collapsed": false,
    "pycharm": {
     "name": "#%%\n"
    },
    "ExecuteTime": {
     "end_time": "2024-01-08T13:59:03.961761Z",
     "start_time": "2024-01-08T13:59:03.842173Z"
    }
   }
  },
  {
   "cell_type": "markdown",
   "source": [
    "# Task 6\n",
    "Get the statistics of age for each type of education. Use `groupby` and `describe` for this."
   ],
   "metadata": {
    "collapsed": false,
    "pycharm": {
     "name": "#%% md\n"
    }
   }
  },
  {
   "cell_type": "code",
   "execution_count": 9,
   "outputs": [
    {
     "name": "stdout",
     "output_type": "stream",
     "text": [
      "               count       mean        std   min   25%   50%   75%   max\n",
      "education                                                               \n",
      "10th           820.0  37.897561  16.225795  17.0  23.0  36.0  52.0  90.0\n",
      "11th          1048.0  32.363550  15.089307  17.0  18.0  28.5  43.0  90.0\n",
      "12th           377.0  32.013263  14.373710  17.0  19.0  28.0  41.0  79.0\n",
      "1st-4th        151.0  44.622517  14.929051  19.0  33.0  44.0  56.0  81.0\n",
      "5th-6th        288.0  41.649306  14.754622  17.0  28.0  41.0  53.0  82.0\n",
      "7th-8th        557.0  47.631957  15.737479  17.0  34.0  49.0  60.0  90.0\n",
      "9th            455.0  40.303297  15.335754  17.0  28.0  38.0  53.0  90.0\n",
      "Assoc-acdm    1008.0  37.286706  10.509755  19.0  29.0  36.0  44.0  90.0\n",
      "Assoc-voc     1307.0  38.246366  11.181253  19.0  30.0  37.0  45.0  84.0\n",
      "Bachelors     5044.0  38.641554  11.577566  19.0  29.0  37.0  46.0  90.0\n",
      "Doctorate      375.0  47.130667  11.471727  24.0  39.0  47.0  54.0  80.0\n",
      "HS-grad       9840.0  38.640955  13.067730  17.0  28.0  37.0  48.0  90.0\n",
      "Masters       1627.0  43.740012  10.735356  18.0  36.0  43.0  50.0  90.0\n",
      "Preschool       45.0  41.288889  15.175672  19.0  30.0  40.0  53.0  75.0\n",
      "Prof-school    542.0  44.249077  11.428098  25.0  36.0  43.0  50.0  90.0\n",
      "Some-college  6678.0  36.135370  13.073528  17.0  25.0  35.0  45.0  90.0\n"
     ]
    }
   ],
   "source": [
    "education_age_statistics = df.groupby('education')['age'].describe()\n",
    "\n",
    "print(education_age_statistics)"
   ],
   "metadata": {
    "collapsed": false,
    "pycharm": {
     "name": "#%%\n"
    },
    "ExecuteTime": {
     "end_time": "2024-01-08T13:59:04.194282Z",
     "start_time": "2024-01-08T13:59:03.864126Z"
    }
   }
  },
  {
   "cell_type": "markdown",
   "source": [
    "# Task 7\n",
    "Compare the married and non-married men salaries. Who earns more? (>50K or <=50K)\n",
    "Married men are those, whom `marital-status` starts with \"Married\". Others are not."
   ],
   "metadata": {
    "collapsed": false,
    "pycharm": {
     "name": "#%% md\n"
    }
   }
  },
  {
   "cell_type": "code",
   "execution_count": 12,
   "outputs": [
    {
     "name": "stdout",
     "output_type": "stream",
     "text": [
      "salary                    False      True \n",
      "marital-status-short                      \n",
      "Married               55.201566  44.798434\n",
      "Not Married           91.150559   8.849441\n"
     ]
    }
   ],
   "source": [
    "df[\"marital-status-short\"] = df[\"marital-status\"].apply(lambda x: \"Married\" if x.startswith(\"Married\") else \"Not Married\")\n",
    "\n",
    "marital_status_short = df[df[\"sex\"] == \"Male\"].groupby(\"marital-status-short\")\n",
    "\n",
    "results = marital_status_short[\"salary\"].value_counts(normalize=True).unstack().fillna(0) * 100\n",
    "\n",
    "print(results)"
   ],
   "metadata": {
    "collapsed": false,
    "pycharm": {
     "name": "#%%\n"
    },
    "ExecuteTime": {
     "end_time": "2024-01-08T14:03:50.386045Z",
     "start_time": "2024-01-08T14:03:50.257874Z"
    }
   }
  },
  {
   "cell_type": "markdown",
   "source": [
    "# Task 8\n",
    "Get the max hours per week some person works. How many people works the same amount of hours per week?"
   ],
   "metadata": {
    "collapsed": false,
    "pycharm": {
     "name": "#%% md\n"
    }
   }
  },
  {
   "cell_type": "code",
   "execution_count": 13,
   "outputs": [
    {
     "name": "stdout",
     "output_type": "stream",
     "text": [
      "Max hours per week: 99\n",
      "Number of people working max amount of hours: 78\n"
     ]
    }
   ],
   "source": [
    "max_hours_per_week = df[\"hours-per-week\"].max()\n",
    "\n",
    "people_with_max_hours = df[df[\"hours-per-week\"] == max_hours_per_week]\n",
    "\n",
    "num_people_with_max_hours = len(people_with_max_hours)\n",
    "\n",
    "print(\"Max hours per week:\", max_hours_per_week)\n",
    "print(\"Number of people working max amount of hours:\", num_people_with_max_hours)"
   ],
   "metadata": {
    "collapsed": false,
    "pycharm": {
     "name": "#%%\n"
    },
    "ExecuteTime": {
     "end_time": "2024-01-08T14:06:03.386581Z",
     "start_time": "2024-01-08T14:06:03.323013Z"
    }
   }
  },
  {
   "cell_type": "markdown",
   "source": [
    "# Task 9\n",
    "Analyze the correlation between data in dataset. Understand connected fields in it and print highlight thier connection."
   ],
   "metadata": {
    "collapsed": false,
    "pycharm": {
     "name": "#%% md\n"
    }
   }
  },
  {
   "cell_type": "code",
   "execution_count": 21,
   "outputs": [
    {
     "name": "stdout",
     "output_type": "stream",
     "text": [
      "Correlation Matrix:\n",
      "                Unnamed: 0       age  hours-per-week  salary K$\n",
      "Unnamed: 0        1.000000 -0.001126       -0.001890   0.000129\n",
      "age              -0.001126  1.000000        0.101599   0.208203\n",
      "hours-per-week   -0.001890  0.101599        1.000000   0.196378\n",
      "salary K$         0.000129  0.208203        0.196378   1.000000\n",
      "\n",
      "No highly correlated fields!\n"
     ]
    }
   ],
   "source": [
    "numeric_columns = df.select_dtypes(include=\"number\")\n",
    "\n",
    "correlation_matrix = numeric_columns.corr()\n",
    "\n",
    "print(\"Correlation Matrix:\")\n",
    "print(correlation_matrix)\n",
    "\n",
    "highly_correlated_fields = (correlation_matrix.abs() > 0.7) & (correlation_matrix.abs() < 1)\n",
    "correlation_pairs = []\n",
    "\n",
    "for col in highly_correlated_fields.columns:\n",
    "    correlated_cols = highly_correlated_fields.index[highly_correlated_fields[col]].tolist()\n",
    "    if correlated_cols:\n",
    "        correlation_pairs.append((col, correlated_cols))\n",
    "\n",
    "if correlation_pairs:\n",
    "    print(\"\\n\", correlation_pairs, highly_correlated_fields)\n",
    "else:\n",
    "    print(\"\\nNo highly correlated fields!\")"
   ],
   "metadata": {
    "collapsed": false,
    "pycharm": {
     "name": "#%%\n"
    },
    "ExecuteTime": {
     "end_time": "2024-01-08T14:12:17.240349Z",
     "start_time": "2024-01-08T14:12:17.163984Z"
    }
   }
  },
  {
   "cell_type": "code",
   "outputs": [],
   "source": [],
   "metadata": {
    "collapsed": false
   }
  }
 ],
 "metadata": {
  "kernelspec": {
   "display_name": "Python 3",
   "language": "python",
   "name": "python3"
  },
  "language_info": {
   "codemirror_mode": {
    "name": "ipython",
    "version": 2
   },
   "file_extension": ".py",
   "mimetype": "text/x-python",
   "name": "python",
   "nbconvert_exporter": "python",
   "pygments_lexer": "ipython2",
   "version": "2.7.6"
  }
 },
 "nbformat": 4,
 "nbformat_minor": 0
}
