{
 "cells": [
  {
   "cell_type": "code",
   "execution_count": 2,
   "outputs": [],
   "source": [
    "import numpy as np\n",
    "import pandas as pd\n"
   ],
   "metadata": {
    "collapsed": false
   }
  },
  {
   "cell_type": "markdown",
   "source": [
    "# Task 0\n",
    "Read the dataset from csv file & perform data cleaning - remove all rows, which contains `?` in some columns.\n",
    "Also check for data correctness (salary & salary $K)."
   ],
   "metadata": {
    "collapsed": false
   }
  },
  {
   "cell_type": "code",
   "execution_count": 48,
   "outputs": [
    {
     "name": "stdout",
     "output_type": "stream",
     "text": [
      "       Unnamed: 0  age         workclass   education      marital-status   \n",
      "0               0   39         State-gov   Bachelors       Never-married  \\\n",
      "1               1   50  Self-emp-not-inc   Bachelors  Married-civ-spouse   \n",
      "2               2   38           Private     HS-grad            Divorced   \n",
      "3               3   53           Private        11th  Married-civ-spouse   \n",
      "4               4   28           Private   Bachelors  Married-civ-spouse   \n",
      "...           ...  ...               ...         ...                 ...   \n",
      "32556       32556   27           Private  Assoc-acdm  Married-civ-spouse   \n",
      "32557       32557   40           Private     HS-grad  Married-civ-spouse   \n",
      "32558       32558   58           Private     HS-grad             Widowed   \n",
      "32559       32559   22           Private     HS-grad       Never-married   \n",
      "32560       32560   52      Self-emp-inc     HS-grad  Married-civ-spouse   \n",
      "\n",
      "              occupation   relationship   race     sex  hours-per-week   \n",
      "0           Adm-clerical  Not-in-family  White    Male              40  \\\n",
      "1        Exec-managerial        Husband  White    Male              13   \n",
      "2      Handlers-cleaners  Not-in-family  White    Male              40   \n",
      "3      Handlers-cleaners        Husband  Black    Male              40   \n",
      "4         Prof-specialty           Wife  Black  Female              40   \n",
      "...                  ...            ...    ...     ...             ...   \n",
      "32556       Tech-support           Wife  White  Female              38   \n",
      "32557  Machine-op-inspct        Husband  White    Male              40   \n",
      "32558       Adm-clerical      Unmarried  White  Female              40   \n",
      "32559       Adm-clerical      Own-child  White    Male              20   \n",
      "32560    Exec-managerial           Wife  White  Female              40   \n",
      "\n",
      "      native-country salary  salary K$  salary_K  \n",
      "0      United-States  <=50K         39         0  \n",
      "1      United-States  <=50K         35         0  \n",
      "2      United-States  <=50K         27         0  \n",
      "3      United-States  <=50K         43         0  \n",
      "4               Cuba  <=50K         25         0  \n",
      "...              ...    ...        ...       ...  \n",
      "32556  United-States  <=50K         36         0  \n",
      "32557  United-States   >50K        173         1  \n",
      "32558  United-States  <=50K         40         0  \n",
      "32559  United-States  <=50K         38         0  \n",
      "32560  United-States   >50K        243         1  \n",
      "\n",
      "[30162 rows x 14 columns]\n"
     ]
    }
   ],
   "source": [
    "\n",
    "data = pd.read_csv(\"../data/adult.csv\")\n",
    "\n",
    "data = data.replace(\"?\", np.nan)\n",
    "\n",
    "\n",
    "\n",
    "data[\"salary\"] = data[\"salary\"].replace({\"<=50K.\": \"<=50K\", \">50K.\": \">50K\"})\n",
    "data[\"salary_K\"] = data[\"salary\"].apply(lambda x: 0 if x == \"<=50K\" else 1)\n",
    "data = data.drop(\"salary\", axis=1)\n",
    "data = data.dropna()\n"
   ],
   "metadata": {
    "collapsed": false
   }
  },
  {
   "cell_type": "markdown",
   "source": [
    "# Task 1\n",
    "Print the count of men and women in the dataset."
   ],
   "metadata": {
    "collapsed": false
   }
  },
  {
   "cell_type": "code",
   "execution_count": 33,
   "outputs": [
    {
     "name": "stdout",
     "output_type": "stream",
     "text": [
      "sex\n",
      "Male      20380\n",
      "Female     9782\n",
      "Name: count, dtype: int64\n"
     ]
    }
   ],
   "source": [
    "sex_counts  = data[\"sex\"].value_counts()\n",
    "print(sex_counts)"
   ],
   "metadata": {
    "collapsed": false
   }
  },
  {
   "cell_type": "markdown",
   "source": [
    "# Task 2\n",
    "Find the average age of men in dataset"
   ],
   "metadata": {
    "collapsed": false
   }
  },
  {
   "cell_type": "code",
   "execution_count": 34,
   "outputs": [
    {
     "name": "stdout",
     "output_type": "stream",
     "text": [
      "Average age of men in dataset: 39.18400392541707\n"
     ]
    }
   ],
   "source": [
    "men_data = data[data[\"sex\"] == \"Male\"] # filter to include only men\n",
    "men_age_mean = men_data[\"age\"].mean()\n",
    "print(\"Average age of men in dataset:\", men_age_mean)"
   ],
   "metadata": {
    "collapsed": false
   }
  },
  {
   "cell_type": "markdown",
   "source": [
    "# Task 3\n",
    "Get the percentage of people from Poland (native-country)"
   ],
   "metadata": {
    "collapsed": false
   }
  },
  {
   "cell_type": "code",
   "execution_count": 35,
   "outputs": [
    {
     "name": "stdout",
     "output_type": "stream",
     "text": [
      "Percentage of people from Poland in dataset: 0.18566408063125786\n"
     ]
    }
   ],
   "source": [
    "poland_data = data[data[\"native-country\"] == \"Poland\"]\n",
    "poland_percent = (len(poland_data) / len(data)) * 100\n",
    "print(\"Percentage of people from Poland in dataset:\", poland_percent)"
   ],
   "metadata": {
    "collapsed": false
   }
  },
  {
   "cell_type": "markdown",
   "source": [
    "# Task 4\n",
    "Get the mean and standard deviation of the age for people who earn > 50K per year. After this, get it for those who earn <= 50K."
   ],
   "metadata": {
    "collapsed": false
   }
  },
  {
   "cell_type": "code",
   "execution_count": 49,
   "outputs": [
    {
     "name": "stdout",
     "output_type": "stream",
     "text": [
      "Age statistics for people who earn > 50K per year:\n",
      "Mean age: 43.95911028236548\n",
      "Standard deviation of age: 10.269632835673852\n",
      "Age statistics for people who earn <= 50K per year:\n",
      "Mean age: 36.60806038668668\n",
      "Standard deviation of age: 13.464631257161633\n"
     ]
    }
   ],
   "source": [
    "high_income_data = data[data[\"salary\"] == \">50K\"]\n",
    "high_income_age_mean = high_income_data[\"age\"].mean()\n",
    "high_income_age_std = high_income_data[\"age\"].std()\n",
    "\n",
    "\n",
    "low_income_data = data[data[\"salary\"] == \"<=50K\"]\n",
    "low_income_age_mean = low_income_data[\"age\"].mean()\n",
    "low_income_age_std = low_income_data[\"age\"].std()\n",
    "\n",
    "print(\"Age statistics for people who earn > 50K per year:\")\n",
    "print(\"Mean age:\", high_income_age_mean)\n",
    "print(\"Standard deviation of age:\", high_income_age_std)\n",
    "\n",
    "print(\"Age statistics for people who earn <= 50K per year:\")\n",
    "print(\"Mean age:\", low_income_age_mean)\n",
    "print(\"Standard deviation of age:\", low_income_age_std)"
   ],
   "metadata": {
    "collapsed": false
   }
  },
  {
   "cell_type": "markdown",
   "source": [
    "# Task 5\n",
    "Check, if there are some people without higher education (education: Bachelors, Prof-school, Assoc-acdm, Assoc-voc, Masters, Doctorate), but with > 50K salary"
   ],
   "metadata": {
    "collapsed": false
   }
  },
  {
   "cell_type": "code",
   "execution_count": 3,
   "outputs": [],
   "source": [
    "\n",
    "higher_education_levels = [\"Bachelors\", \"Prof-school\", \"Assoc-acdm\", \"Assoc-voc\", \"Masters\", \"Doctorate\"]\n",
    "\n",
    "high_income_data = data[data[\"salary\"] == \">50K\"]\n",
    "\n",
    "non_higher_edu_high_income_data = high_income_data[~high_income_data[\"education\"].isin(higher_education_levels)]\n",
    "\n",
    "if len(non_higher_edu_high_income_data) > 0:\n",
    "    print(\"There are some people with > 50K salary but without higher education:\")\n",
    "    print(non_higher_edu_high_income_data)\n",
    "else:\n",
    "    print(\"There are no people with > 50K salary but without higher education.\")"
   ],
   "metadata": {
    "collapsed": false
   }
  },
  {
   "cell_type": "markdown",
   "source": [
    "# Task 6\n",
    "Get the statistics of age for each type of education. Use `groupby` and `describe` for this."
   ],
   "metadata": {
    "collapsed": false
   }
  },
  {
   "cell_type": "code",
   "execution_count": 50,
   "outputs": [
    {
     "name": "stdout",
     "output_type": "stream",
     "text": [
      "               count       mean        std   min   25%   50%   75%   max\n",
      "education                                                               \n",
      "10th           820.0  37.897561  16.225795  17.0  23.0  36.0  52.0  90.0\n",
      "11th          1048.0  32.363550  15.089307  17.0  18.0  28.5  43.0  90.0\n",
      "12th           377.0  32.013263  14.373710  17.0  19.0  28.0  41.0  79.0\n",
      "1st-4th        151.0  44.622517  14.929051  19.0  33.0  44.0  56.0  81.0\n",
      "5th-6th        288.0  41.649306  14.754622  17.0  28.0  41.0  53.0  82.0\n",
      "7th-8th        557.0  47.631957  15.737479  17.0  34.0  49.0  60.0  90.0\n",
      "9th            455.0  40.303297  15.335754  17.0  28.0  38.0  53.0  90.0\n",
      "Assoc-acdm    1008.0  37.286706  10.509755  19.0  29.0  36.0  44.0  90.0\n",
      "Assoc-voc     1307.0  38.246366  11.181253  19.0  30.0  37.0  45.0  84.0\n",
      "Bachelors     5044.0  38.641554  11.577566  19.0  29.0  37.0  46.0  90.0\n",
      "Doctorate      375.0  47.130667  11.471727  24.0  39.0  47.0  54.0  80.0\n",
      "HS-grad       9840.0  38.640955  13.067730  17.0  28.0  37.0  48.0  90.0\n",
      "Masters       1627.0  43.740012  10.735356  18.0  36.0  43.0  50.0  90.0\n",
      "Preschool       45.0  41.288889  15.175672  19.0  30.0  40.0  53.0  75.0\n",
      "Prof-school    542.0  44.249077  11.428098  25.0  36.0  43.0  50.0  90.0\n",
      "Some-college  6678.0  36.135370  13.073528  17.0  25.0  35.0  45.0  90.0\n"
     ]
    }
   ],
   "source": [
    "age_stats_by_education = data.groupby(\"education\")[\"age\"].describe()\n",
    "\n",
    "print(age_stats_by_education)"
   ],
   "metadata": {
    "collapsed": false
   }
  },
  {
   "cell_type": "markdown",
   "source": [
    "# Task 7\n",
    "Compare the married and non-married men salaries. Who earns more? (>50K or <=50K)\n",
    "Married men are those, whom `marital-status` starts with \"Married\". Others are not."
   ],
   "metadata": {
    "collapsed": false
   }
  },
  {
   "cell_type": "code",
   "execution_count": 51,
   "outputs": [
    {
     "name": "stdout",
     "output_type": "stream",
     "text": [
      "Married men:\n",
      "salary\n",
      "<=50K     31.927538\n",
      ">50K     200.609820\n",
      "Name: salary K$, dtype: float64\n",
      "Non-married men:\n",
      "salary\n",
      "<=50K     32.091316\n",
      ">50K     196.010401\n",
      "Name: salary K$, dtype: float64\n"
     ]
    }
   ],
   "source": [
    "married_men = data[(data[\"sex\"] == \"Male\") & (data[\"marital-status\"].str.startswith(\"Married\"))]\n",
    "\n",
    "non_married_men = data[(data[\"sex\"] == \"Male\") & (~data[\"marital-status\"].str.startswith(\"Married\"))]\n",
    "\n",
    "married_men_mean_salary = married_men.groupby(\"salary\")[\"salary K$\"].mean()\n",
    "non_married_men_mean_salary = non_married_men.groupby(\"salary\")[\"salary K$\"].mean()\n",
    "\n",
    "print(\"Married men:\")\n",
    "print(married_men_mean_salary)\n",
    "\n",
    "print(\"Non-married men:\")\n",
    "print(non_married_men_mean_salary)"
   ],
   "metadata": {
    "collapsed": false
   }
  },
  {
   "cell_type": "markdown",
   "source": [
    "# Task 8\n",
    "Get the max hours per week some person works. How many people works the same amount of hours per week?"
   ],
   "metadata": {
    "collapsed": false
   }
  },
  {
   "cell_type": "code",
   "execution_count": 53,
   "outputs": [
    {
     "name": "stdout",
     "output_type": "stream",
     "text": [
      "Max hours per week:  99\n",
      "Number of people who work 99 hours per week:  78\n"
     ]
    }
   ],
   "source": [
    "max_hours_per_week = data[\"hours-per-week\"].max()\n",
    "print(\"Max hours per week: \", max_hours_per_week)\n",
    "num_people_max_hours = data[data[\"hours-per-week\"] == max_hours_per_week].shape[0]\n",
    "print(\"Number of people who work\", max_hours_per_week, \"hours per week: \", num_people_max_hours)"
   ],
   "metadata": {
    "collapsed": false
   }
  },
  {
   "cell_type": "markdown",
   "source": [
    "# Task 9\n",
    "Analyze the correlation between data in dataset. Understand connected fields in it and print highlight their connection."
   ],
   "metadata": {
    "collapsed": false
   }
  },
  {
   "cell_type": "code",
   "execution_count": 69,
   "outputs": [
    {
     "data": {
      "text/plain": "<Figure size 640x480 with 2 Axes>",
      "image/png": "[encoded data removed]"
     },
     "metadata": {},
     "output_type": "display_data"
    }
   ],
   "source": [
    "import seaborn as sns\n",
    "import matplotlib.pyplot as plt\n",
    "\n",
    "corr = data[[\"age\", \"hours-per-week\", \"salary K$\"]].corr()\n",
    "sns.heatmap(corr, annot=True, cmap=\"coolwarm\")\n",
    "plt.title(\"Correlation Matrix\")\n",
    "plt.show()\n",
    "print(\"From the heatmap, we can see that there is a positive correlation between age and salary, which makes sense as people generally earn more as they gain more experience. We can also see a positive correlation between hours-per-week and salary, which is again expected as people who work more hours are likely to earn more.Overall, the heatmap shows that there is a moderate positive correlation between age, hours-per-week and salary.\")"
   ],
   "metadata": {
    "collapsed": false
   }
  },
  {
   "cell_type": "code",
   "execution_count": null,
   "outputs": [],
   "source": [],
   "metadata": {
    "collapsed": false
   }
  }
 ],
 "metadata": {
  "kernelspec": {
   "display_name": "Python 3",
   "language": "python",
   "name": "python3"
  },
  "language_info": {
   "codemirror_mode": {
    "name": "ipython",
    "version": 2
   },
   "file_extension": ".py",
   "mimetype": "text/x-python",
   "name": "python",
   "nbconvert_exporter": "python",
   "pygments_lexer": "ipython2",
   "version": "2.7.6"
  }
 },
 "nbformat": 4,
 "nbformat_minor": 0
}
