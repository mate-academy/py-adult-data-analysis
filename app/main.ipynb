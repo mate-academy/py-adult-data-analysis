{
 "cells": [
  {
   "cell_type": "code",
   "execution_count": 3,
   "outputs": [],
   "source": [
    "import numpy as np\n",
    "import pandas as pd\n"
   ],
   "metadata": {
    "collapsed": false
   }
  },
  {
   "cell_type": "markdown",
   "source": [
    "# Task 0\n",
    "Read the dataset from csv file & perform data cleaning - remove all rows, which contains `?` in some columns.\n",
    "Also check for data correctness (salary & salary $K)."
   ],
   "metadata": {
    "collapsed": false
   }
  },
  {
   "cell_type": "code",
   "execution_count": 2,
   "outputs": [
    {
     "name": "stdout",
     "output_type": "stream",
     "text": [
      "<class 'pandas.core.frame.DataFrame'>\n",
      "RangeIndex: 32561 entries, 0 to 32560\n",
      "Data columns (total 13 columns):\n",
      " #   Column          Non-Null Count  Dtype \n",
      "---  ------          --------------  ----- \n",
      " 0   Unnamed: 0      32561 non-null  int64 \n",
      " 1   age             32561 non-null  int64 \n",
      " 2   workclass       32561 non-null  object\n",
      " 3   education       32561 non-null  object\n",
      " 4   marital-status  32561 non-null  object\n",
      " 5   occupation      32561 non-null  object\n",
      " 6   relationship    32561 non-null  object\n",
      " 7   race            32561 non-null  object\n",
      " 8   sex             32561 non-null  object\n",
      " 9   hours-per-week  32561 non-null  int64 \n",
      " 10  native-country  32561 non-null  object\n",
      " 11  salary          32561 non-null  object\n",
      " 12  salary K$       32561 non-null  int64 \n",
      "dtypes: int64(4), object(9)\n",
      "memory usage: 3.2+ MB\n",
      "True\n",
      "True\n"
     ]
    }
   ],
   "source": [
    "\n",
    "import pandas as pd\n",
    "data_ = pd.read_csv(\"../data/adult.csv\")\n",
    "data_.info()\n",
    "data_ = data_[~data_.apply(lambda row: row.astype(str).str.contains(\"\\?\", regex=False).any(), axis=1)]\n",
    "salary = data_['salary']\n",
    "salary_k = data_['salary K$']\n",
    "salary_correctness = data_['salary'].isin(['<=50K', '>50K']).all()\n",
    "salary_k_correctness = data_['salary K$'].astype(str).str.isnumeric().all()\n",
    "print(salary_correctness)\n",
    "print(salary_k_correctness)"
   ],
   "metadata": {
    "collapsed": false
   }
  },
  {
   "cell_type": "markdown",
   "source": [
    "pri# Task 1\n",
    "Print the count of men and women in the dataset."
   ],
   "metadata": {
    "collapsed": false
   }
  },
  {
   "cell_type": "code",
   "execution_count": 5,
   "outputs": [
    {
     "name": "stdout",
     "output_type": "stream",
     "text": [
      "sex\n",
      "Male      21790\n",
      "Female    10771\n",
      "Name: count, dtype: int64\n"
     ]
    }
   ],
   "source": [
    "gender_counts = data_['sex'].value_counts()\n",
    "print(gender_counts)"
   ],
   "metadata": {
    "collapsed": false
   }
  },
  {
   "cell_type": "markdown",
   "source": [
    "# Task 2\n",
    "Find the average age of men in dataset"
   ],
   "metadata": {
    "collapsed": false
   }
  },
  {
   "cell_type": "code",
   "execution_count": 17,
   "outputs": [
    {
     "name": "stdout",
     "output_type": "stream",
     "text": [
      "39.43\n"
     ]
    }
   ],
   "source": [
    "data_ = pd.read_csv(\"../data/adult.csv\")\n",
    "data_.head()\n",
    "male_= data_[data_[\"sex\"] == \"Male\"]\n",
    "avg_age = male_[\"age\"].mean()\n",
    "print(\"Average age\", round(avg_age, 2))\n"
   ],
   "metadata": {
    "collapsed": false
   }
  },
  {
   "cell_type": "markdown",
   "source": [
    "# Task 3\n",
    "Get the percentage of people from Poland (native-country)"
   ],
   "metadata": {
    "collapsed": false
   }
  },
  {
   "cell_type": "code",
   "execution_count": 4,
   "outputs": [
    {
     "name": "stdout",
     "output_type": "stream",
     "text": [
      "Poland 0.18\n"
     ]
    }
   ],
   "source": [
    "poland_ = data_[data_[\"native-country\"] == \"Poland\"]\n",
    "poland_percentage = (poland_.shape[0] / data_.shape[0]) * 100\n",
    "print(\"Poland\" ,round(poland_percentage, 2))"
   ],
   "metadata": {
    "collapsed": false
   }
  },
  {
   "cell_type": "markdown",
   "source": [
    "# Task 4\n",
    "Get the mean and standard deviation of the age for people who earn > 50K per year. After this, get it for those who earn <= 50K."
   ],
   "metadata": {
    "collapsed": false
   }
  },
  {
   "cell_type": "code",
   "execution_count": 25,
   "outputs": [
    {
     "name": "stdout",
     "output_type": "stream",
     "text": [
      "Age mean for >50K 44\n",
      "Age std for >50K 11\n",
      "Age mean for <=50K 37\n",
      "Age std for <=50K 14\n"
     ]
    }
   ],
   "source": [
    "high_salary = data_[data_[\"salary\"] == \">50K\"]\n",
    "high_salary_age_mean = high_salary[\"age\"].mean()\n",
    "high_salary_age_std = high_salary[\"age\"].std()\n",
    "low_salary = data_[data_[\"salary\"] == \"<=50K\"]\n",
    "low_salary_age_mean = low_salary[\"age\"].mean()\n",
    "low_salary_age_std = low_salary[\"age\"].std()\n",
    "print(\"Age mean for >50K\", round(high_salary_age_mean))\n",
    "print(\"Age std for >50K\", round(high_salary_age_std))\n",
    "print(\"Age mean for <=50K\", round(low_salary_age_mean))\n",
    "print(\"Age std for <=50K\", round(low_salary_age_std))\n"
   ],
   "metadata": {
    "collapsed": false
   }
  },
  {
   "cell_type": "markdown",
   "source": [
    "# Task 5\n",
    "Check, if there are some people without higher education (education: Bachelors, Prof-school, Assoc-acdm, Assoc-voc, Masters, Doctorate), but with > 50K salary"
   ],
   "metadata": {
    "collapsed": false
   }
  },
  {
   "cell_type": "code",
   "execution_count": 28,
   "outputs": [
    {
     "name": "stdout",
     "output_type": "stream",
     "text": [
      "       Unnamed: 0  age         workclass     education      marital-status   \n",
      "7               7   52  Self-emp-not-inc       HS-grad  Married-civ-spouse  \\\n",
      "10             10   37           Private  Some-college  Married-civ-spouse   \n",
      "27             27   54                 ?  Some-college  Married-civ-spouse   \n",
      "38             38   31           Private  Some-college  Married-civ-spouse   \n",
      "55             55   43           Private  Some-college  Married-civ-spouse   \n",
      "...           ...  ...               ...           ...                 ...   \n",
      "32510       32510   39           Private       HS-grad  Married-civ-spouse   \n",
      "32518       32518   57         Local-gov       HS-grad  Married-civ-spouse   \n",
      "32519       32519   46           Private  Some-college  Married-civ-spouse   \n",
      "32557       32557   40           Private       HS-grad  Married-civ-spouse   \n",
      "32560       32560   52      Self-emp-inc       HS-grad  Married-civ-spouse   \n",
      "\n",
      "              occupation relationship                race     sex   \n",
      "7        Exec-managerial      Husband               White    Male  \\\n",
      "10       Exec-managerial      Husband               Black    Male   \n",
      "27                     ?      Husband  Asian-Pac-Islander    Male   \n",
      "38                 Sales      Husband               White    Male   \n",
      "55          Tech-support      Husband               White    Male   \n",
      "...                  ...          ...                 ...     ...   \n",
      "32510     Prof-specialty      Husband               White    Male   \n",
      "32518       Craft-repair      Husband               White    Male   \n",
      "32519    Exec-managerial      Husband               White    Male   \n",
      "32557  Machine-op-inspct      Husband               White    Male   \n",
      "32560    Exec-managerial         Wife               White  Female   \n",
      "\n",
      "       hours-per-week native-country salary  salary K$  \n",
      "7                  45  United-States   >50K        307  \n",
      "10                 80  United-States   >50K        116  \n",
      "27                 60          South   >50K        275  \n",
      "38                 38              ?   >50K        166  \n",
      "55                 40  United-States   >50K        341  \n",
      "...               ...            ...    ...        ...  \n",
      "32510              45              ?   >50K        212  \n",
      "32518              40  United-States   >50K        116  \n",
      "32519              48  United-States   >50K        239  \n",
      "32557              40  United-States   >50K        173  \n",
      "32560              40  United-States   >50K        243  \n",
      "\n",
      "[3306 rows x 13 columns]\n"
     ]
    }
   ],
   "source": [
    "without_higher_education = data_[~(data_[\"education\"].isin([\"Bachelors\", \"Prof-school\", \"Assoc-acdm\", \"Assoc-voc\", \"Masters\", \"Doctorate\"]))]\n",
    "high_salary_without_higer_education = without_higher_education[without_higher_education[\"salary\"] == \">50K\"]\n",
    "print(high_salary_without_higer_education)"
   ],
   "metadata": {
    "collapsed": false
   }
  },
  {
   "cell_type": "markdown",
   "source": [
    "# Task 6\n",
    "Get the statistics of age for each type of education. Use `groupby` and `describe` for this."
   ],
   "metadata": {
    "collapsed": false
   }
  },
  {
   "cell_type": "code",
   "execution_count": 30,
   "outputs": [
    {
     "name": "stdout",
     "output_type": "stream",
     "text": [
      "                count       mean        std   min    25%   50%   75%   max\n",
      "education                                                                 \n",
      "10th            933.0  37.429796  16.720713  17.0  22.00  34.0  52.0  90.0\n",
      "11th           1175.0  32.355745  15.545485  17.0  18.00  28.0  43.0  90.0\n",
      "12th            433.0  32.000000  14.334625  17.0  19.00  28.0  41.0  79.0\n",
      "1st-4th         168.0  46.142857  15.615625  19.0  33.00  46.0  57.0  90.0\n",
      "5th-6th         333.0  42.885886  15.557285  17.0  29.00  42.0  54.0  84.0\n",
      "7th-8th         646.0  48.445820  16.092350  17.0  34.25  50.0  61.0  90.0\n",
      "9th             514.0  41.060311  15.946862  17.0  28.00  39.0  54.0  90.0\n",
      "Assoc-acdm     1067.0  37.381443  11.095177  19.0  29.00  36.0  44.0  90.0\n",
      "Assoc-voc      1382.0  38.553546  11.631300  19.0  30.00  37.0  46.0  84.0\n",
      "Bachelors      5355.0  38.904949  11.912210  19.0  29.00  37.0  46.0  90.0\n",
      "Doctorate       413.0  47.702179  11.784716  24.0  39.00  47.0  55.0  80.0\n",
      "HS-grad       10501.0  38.974479  13.541524  17.0  28.00  37.0  48.0  90.0\n",
      "Masters        1723.0  44.049913  11.068935  18.0  36.00  43.0  51.0  90.0\n",
      "Preschool        51.0  42.764706  15.126914  19.0  31.00  41.0  53.5  75.0\n",
      "Prof-school     576.0  44.746528  11.962477  25.0  36.00  43.0  51.0  90.0\n",
      "Some-college   7291.0  35.756275  13.474051  17.0  24.00  34.0  45.0  90.0\n"
     ]
    }
   ],
   "source": [
    "age_statistics_by_education = data_.groupby(\"education\")[\"age\"].describe()\n",
    "print(age_statistics_by_education)"
   ],
   "metadata": {
    "collapsed": false
   }
  },
  {
   "cell_type": "markdown",
   "source": [
    "# Task 7\n",
    "Compare the married and non-married men salaries. Who earns more? (>50K or <=50K)\n",
    "Married men are those, whom `marital-status` starts with \"Married\". Others are not."
   ],
   "metadata": {
    "collapsed": false
   }
  },
  {
   "cell_type": "code",
   "execution_count": 9,
   "outputs": [
    {
     "data": {
      "text/plain": "(200.86, 45.98)"
     },
     "execution_count": 9,
     "metadata": {},
     "output_type": "execute_result"
    }
   ],
   "source": [
    "data_male = data_[data_[\"sex\"] == \"Male\"]\n",
    "married_men = data_male[data_male[\"marital-status\"].str.startswith(\"Married\")]\n",
    "non_married_men = data_male[~data_male[\"marital-status\"].str.startswith(\"Married\")]\n",
    "married_men_high= married_men[married_men[\"salary\"] == \">50K\"]\n",
    "mean_salary_married_men = married_men_high[\"salary K$\"].mean()\n",
    "non_married_men_high = non_married_men[non_married_men[\"salary\"] == \">50K\"]\n",
    "mean_salary_non_married_men = non_married_men[\"salary K$\"].mean()\n",
    "round(mean_salary_married_men, 2), round(mean_salary_non_married_men, 2)"
   ],
   "metadata": {
    "collapsed": false
   }
  },
  {
   "cell_type": "markdown",
   "source": [
    "# Task 8\n",
    "Get the max hours per week some person works. How many people works the same amount of hours per week?"
   ],
   "metadata": {
    "collapsed": false
   }
  },
  {
   "cell_type": "code",
   "execution_count": 35,
   "outputs": [
    {
     "name": "stdout",
     "output_type": "stream",
     "text": [
      "Max hours 99\n",
      "Amount with max_hours 85\n"
     ]
    }
   ],
   "source": [
    "max_hours_per_week = data_[\"hours-per-week\"].max()\n",
    "same_max_hours_per_week = data_[data_[\"hours-per-week\"] == max_hours_per_week].shape[0]\n",
    "print(\"Max hours\", max_hours_per_week)\n",
    "print(\"Amount with max_hours\", same_max_hours_per_week)"
   ],
   "metadata": {
    "collapsed": false
   }
  },
  {
   "cell_type": "markdown",
   "source": [
    "# Task 9\n",
    "Analyze the correlation between data in dataset. Understand connected fields in it and print highlight thier connection."
   ],
   "metadata": {
    "collapsed": false
   }
  },
  {
   "cell_type": "code",
   "execution_count": 14,
   "outputs": [
    {
     "data": {
      "text/plain": "<Figure size 640x480 with 2 Axes>",
      "image/png": "[encoded data removed]"
     },
     "metadata": {},
     "output_type": "display_data"
    }
   ],
   "source": [
    "import seaborn as sns\n",
    "import matplotlib.pyplot as plt\n",
    "numeric_columns = data_.select_dtypes(include=['int64', 'float64'])\n",
    "correlation_matrix = numeric_columns.corr()\n",
    "sns.heatmap(correlation_matrix, annot=True, cmap='coolwarm')\n",
    "plt.title('Correlation Matrix')\n",
    "plt.show()"
   ],
   "metadata": {
    "collapsed": false
   }
  },
  {
   "cell_type": "code",
   "execution_count": null,
   "outputs": [],
   "source": [],
   "metadata": {
    "collapsed": false
   }
  }
 ],
 "metadata": {
  "kernelspec": {
   "display_name": "Python 3",
   "language": "python",
   "name": "python3"
  },
  "language_info": {
   "codemirror_mode": {
    "name": "ipython",
    "version": 2
   },
   "file_extension": ".py",
   "mimetype": "text/x-python",
   "name": "python",
   "nbconvert_exporter": "python",
   "pygments_lexer": "ipython2",
   "version": "2.7.6"
  }
 },
 "nbformat": 4,
 "nbformat_minor": 0
}
