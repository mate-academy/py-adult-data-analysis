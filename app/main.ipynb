{
 "cells": [
  {
   "cell_type": "code",
   "source": [
    "import numpy as np\n",
    "import pandas as pd"
   ],
   "metadata": {
    "collapsed": false,
    "pycharm": {
     "name": "#%%\n"
    },
    "ExecuteTime": {
     "end_time": "2025-01-18T11:12:28.734580Z",
     "start_time": "2025-01-18T11:12:28.314957Z"
    }
   },
   "outputs": [],
   "execution_count": 2
  },
  {
   "cell_type": "markdown",
   "source": [
    "# Task 0\n",
    "Read the dataset from csv file & perform data cleaning - remove all rows, which contains `?` in some columns.\n",
    "Also check for data correctness (salary & salary $K)."
   ],
   "metadata": {
    "collapsed": false,
    "pycharm": {
     "name": "#%% md\n"
    }
   }
  },
  {
   "cell_type": "code",
   "source": [
    "data = pd.read_csv('adult.csv')\n",
    "data = data.replace('?', np.nan)\n",
    "data.info"
   ],
   "metadata": {
    "collapsed": false,
    "pycharm": {
     "name": "#%%\n"
    },
    "ExecuteTime": {
     "end_time": "2025-01-18T11:22:03.266731Z",
     "start_time": "2025-01-18T11:22:03.203043Z"
    }
   },
   "outputs": [
    {
     "data": {
      "text/plain": [
       "<bound method DataFrame.info of        Unnamed: 0  age         workclass   education      marital-status  \\\n",
       "0               0   39         State-gov   Bachelors       Never-married   \n",
       "1               1   50  Self-emp-not-inc   Bachelors  Married-civ-spouse   \n",
       "2               2   38           Private     HS-grad            Divorced   \n",
       "3               3   53           Private        11th  Married-civ-spouse   \n",
       "4               4   28           Private   Bachelors  Married-civ-spouse   \n",
       "...           ...  ...               ...         ...                 ...   \n",
       "32556       32556   27           Private  Assoc-acdm  Married-civ-spouse   \n",
       "32557       32557   40           Private     HS-grad  Married-civ-spouse   \n",
       "32558       32558   58           Private     HS-grad             Widowed   \n",
       "32559       32559   22           Private     HS-grad       Never-married   \n",
       "32560       32560   52      Self-emp-inc     HS-grad  Married-civ-spouse   \n",
       "\n",
       "              occupation   relationship   race     sex  hours-per-week  \\\n",
       "0           Adm-clerical  Not-in-family  White    Male              40   \n",
       "1        Exec-managerial        Husband  White    Male              13   \n",
       "2      Handlers-cleaners  Not-in-family  White    Male              40   \n",
       "3      Handlers-cleaners        Husband  Black    Male              40   \n",
       "4         Prof-specialty           Wife  Black  Female              40   \n",
       "...                  ...            ...    ...     ...             ...   \n",
       "32556       Tech-support           Wife  White  Female              38   \n",
       "32557  Machine-op-inspct        Husband  White    Male              40   \n",
       "32558       Adm-clerical      Unmarried  White  Female              40   \n",
       "32559       Adm-clerical      Own-child  White    Male              20   \n",
       "32560    Exec-managerial           Wife  White  Female              40   \n",
       "\n",
       "      native-country salary  salary K$  \n",
       "0      United-States  <=50K         39  \n",
       "1      United-States  <=50K         35  \n",
       "2      United-States  <=50K         27  \n",
       "3      United-States  <=50K         43  \n",
       "4               Cuba  <=50K         25  \n",
       "...              ...    ...        ...  \n",
       "32556  United-States  <=50K         36  \n",
       "32557  United-States   >50K        173  \n",
       "32558  United-States  <=50K         40  \n",
       "32559  United-States  <=50K         38  \n",
       "32560  United-States   >50K        243  \n",
       "\n",
       "[32561 rows x 13 columns]>"
      ]
     },
     "execution_count": 14,
     "metadata": {},
     "output_type": "execute_result"
    }
   ],
   "execution_count": 14
  },
  {
   "cell_type": "markdown",
   "source": [
    "# Task 1\n",
    "Print the count of men and women in the dataset."
   ],
   "metadata": {
    "collapsed": false,
    "pycharm": {
     "name": "#%% md\n"
    }
   }
  },
  {
   "cell_type": "code",
   "source": "data[\"sex\"].value_counts()",
   "metadata": {
    "collapsed": false,
    "pycharm": {
     "name": "#%%\n"
    },
    "ExecuteTime": {
     "end_time": "2025-01-18T11:22:07.944413Z",
     "start_time": "2025-01-18T11:22:07.937558Z"
    }
   },
   "outputs": [
    {
     "data": {
      "text/plain": [
       "sex\n",
       "Male      21790\n",
       "Female    10771\n",
       "Name: count, dtype: int64"
      ]
     },
     "execution_count": 15,
     "metadata": {},
     "output_type": "execute_result"
    }
   ],
   "execution_count": 15
  },
  {
   "cell_type": "markdown",
   "source": [
    "# Task 2\n",
    "Find the average age of men in dataset"
   ],
   "metadata": {
    "collapsed": false,
    "pycharm": {
     "name": "#%% md\n"
    }
   }
  },
  {
   "cell_type": "code",
   "source": "data[data[\"sex\"] == \"Male\"][\"age\"].mean()",
   "metadata": {
    "collapsed": false,
    "pycharm": {
     "name": "#%%\n"
    },
    "ExecuteTime": {
     "end_time": "2025-01-18T11:22:53.803266Z",
     "start_time": "2025-01-18T11:22:53.793974Z"
    }
   },
   "outputs": [
    {
     "data": {
      "text/plain": [
       "np.float64(39.43354749885268)"
      ]
     },
     "execution_count": 17,
     "metadata": {},
     "output_type": "execute_result"
    }
   ],
   "execution_count": 17
  },
  {
   "cell_type": "markdown",
   "source": [
    "# Task 3\n",
    "Get the percentage of people from Poland (native-country)"
   ],
   "metadata": {
    "collapsed": false,
    "pycharm": {
     "name": "#%% md\n"
    }
   }
  },
  {
   "cell_type": "code",
   "source": [
    "total_people = len(data)\n",
    "poland_count = data[data[\"native-country\"] == \"Poland\"].shape[0]\n",
    "(poland_count / total_people) * 100"
   ],
   "metadata": {
    "collapsed": false,
    "pycharm": {
     "name": "#%%\n"
    },
    "ExecuteTime": {
     "end_time": "2025-01-18T11:25:44.243864Z",
     "start_time": "2025-01-18T11:25:44.237760Z"
    }
   },
   "outputs": [
    {
     "data": {
      "text/plain": [
       "0.18426952489174164"
      ]
     },
     "execution_count": 22,
     "metadata": {},
     "output_type": "execute_result"
    }
   ],
   "execution_count": 22
  },
  {
   "cell_type": "markdown",
   "source": [
    "# Task 4\n",
    "Get the mean and standard deviation of the age for people who earn > 50K per year. After this, get it for those who earn <= 50K."
   ],
   "metadata": {
    "collapsed": false,
    "pycharm": {
     "name": "#%% md\n"
    }
   }
  },
  {
   "cell_type": "code",
   "source": [
    "data[data[\"salary\"] == \">50K\"][\"age\"].agg([\"mean\", \"std\"])\n",
    "data[data[\"salary\"] == \"<=50K\"][\"age\"].agg([\"mean\", \"std\"])\n",
    "\n"
   ],
   "metadata": {
    "collapsed": false,
    "pycharm": {
     "name": "#%%\n"
    },
    "ExecuteTime": {
     "end_time": "2025-01-18T11:40:06.964837Z",
     "start_time": "2025-01-18T11:40:06.951566Z"
    }
   },
   "outputs": [
    {
     "data": {
      "text/plain": [
       "mean    36.783738\n",
       "std     14.020088\n",
       "Name: age, dtype: float64"
      ]
     },
     "execution_count": 24,
     "metadata": {},
     "output_type": "execute_result"
    }
   ],
   "execution_count": 24
  },
  {
   "cell_type": "markdown",
   "source": [
    "# Task 5\n",
    "Check, if there are some people without higher education (education: Bachelors, Prof-school, Assoc-acdm, Assoc-voc, Masters, Doctorate), but with > 50K salary"
   ],
   "metadata": {
    "collapsed": false,
    "pycharm": {
     "name": "#%% md\n"
    }
   }
  },
  {
   "cell_type": "code",
   "source": [
    "higher_education = [\"Bachelors\", \"Prof-school\", \"Assoc-acdm\", \"Assoc-voc\", \"Masters\", \"Doctorate\"]\n",
    "data[(~data[\"education\"].isin(higher_education)) & (data[\"salary\"] == \">50K\")]"
   ],
   "metadata": {
    "collapsed": false,
    "pycharm": {
     "name": "#%%\n"
    },
    "ExecuteTime": {
     "end_time": "2025-01-18T11:45:56.612335Z",
     "start_time": "2025-01-18T11:45:56.598597Z"
    }
   },
   "outputs": [
    {
     "data": {
      "text/plain": [
       "       Unnamed: 0  age         workclass     education      marital-status  \\\n",
       "7               7   52  Self-emp-not-inc       HS-grad  Married-civ-spouse   \n",
       "10             10   37           Private  Some-college  Married-civ-spouse   \n",
       "27             27   54               NaN  Some-college  Married-civ-spouse   \n",
       "38             38   31           Private  Some-college  Married-civ-spouse   \n",
       "55             55   43           Private  Some-college  Married-civ-spouse   \n",
       "...           ...  ...               ...           ...                 ...   \n",
       "32510       32510   39           Private       HS-grad  Married-civ-spouse   \n",
       "32518       32518   57         Local-gov       HS-grad  Married-civ-spouse   \n",
       "32519       32519   46           Private  Some-college  Married-civ-spouse   \n",
       "32557       32557   40           Private       HS-grad  Married-civ-spouse   \n",
       "32560       32560   52      Self-emp-inc       HS-grad  Married-civ-spouse   \n",
       "\n",
       "              occupation relationship                race     sex  \\\n",
       "7        Exec-managerial      Husband               White    Male   \n",
       "10       Exec-managerial      Husband               Black    Male   \n",
       "27                   NaN      Husband  Asian-Pac-Islander    Male   \n",
       "38                 Sales      Husband               White    Male   \n",
       "55          Tech-support      Husband               White    Male   \n",
       "...                  ...          ...                 ...     ...   \n",
       "32510     Prof-specialty      Husband               White    Male   \n",
       "32518       Craft-repair      Husband               White    Male   \n",
       "32519    Exec-managerial      Husband               White    Male   \n",
       "32557  Machine-op-inspct      Husband               White    Male   \n",
       "32560    Exec-managerial         Wife               White  Female   \n",
       "\n",
       "       hours-per-week native-country salary  salary K$  \n",
       "7                  45  United-States   >50K        307  \n",
       "10                 80  United-States   >50K        116  \n",
       "27                 60          South   >50K        275  \n",
       "38                 38            NaN   >50K        166  \n",
       "55                 40  United-States   >50K        341  \n",
       "...               ...            ...    ...        ...  \n",
       "32510              45            NaN   >50K        212  \n",
       "32518              40  United-States   >50K        116  \n",
       "32519              48  United-States   >50K        239  \n",
       "32557              40  United-States   >50K        173  \n",
       "32560              40  United-States   >50K        243  \n",
       "\n",
       "[3306 rows x 13 columns]"
      ],
      "text/html": [
       "<div>\n",
       "<style scoped>\n",
       "    .dataframe tbody tr th:only-of-type {\n",
       "        vertical-align: middle;\n",
       "    }\n",
       "\n",
       "    .dataframe tbody tr th {\n",
       "        vertical-align: top;\n",
       "    }\n",
       "\n",
       "    .dataframe thead th {\n",
       "        text-align: right;\n",
       "    }\n",
       "</style>\n",
       "<table border=\"1\" class=\"dataframe\">\n",
       "  <thead>\n",
       "    <tr style=\"text-align: right;\">\n",
       "      <th></th>\n",
       "      <th>Unnamed: 0</th>\n",
       "      <th>age</th>\n",
       "      <th>workclass</th>\n",
       "      <th>education</th>\n",
       "      <th>marital-status</th>\n",
       "      <th>occupation</th>\n",
       "      <th>relationship</th>\n",
       "      <th>race</th>\n",
       "      <th>sex</th>\n",
       "      <th>hours-per-week</th>\n",
       "      <th>native-country</th>\n",
       "      <th>salary</th>\n",
       "      <th>salary K$</th>\n",
       "    </tr>\n",
       "  </thead>\n",
       "  <tbody>\n",
       "    <tr>\n",
       "      <th>7</th>\n",
       "      <td>7</td>\n",
       "      <td>52</td>\n",
       "      <td>Self-emp-not-inc</td>\n",
       "      <td>HS-grad</td>\n",
       "      <td>Married-civ-spouse</td>\n",
       "      <td>Exec-managerial</td>\n",
       "      <td>Husband</td>\n",
       "      <td>White</td>\n",
       "      <td>Male</td>\n",
       "      <td>45</td>\n",
       "      <td>United-States</td>\n",
       "      <td>&gt;50K</td>\n",
       "      <td>307</td>\n",
       "    </tr>\n",
       "    <tr>\n",
       "      <th>10</th>\n",
       "      <td>10</td>\n",
       "      <td>37</td>\n",
       "      <td>Private</td>\n",
       "      <td>Some-college</td>\n",
       "      <td>Married-civ-spouse</td>\n",
       "      <td>Exec-managerial</td>\n",
       "      <td>Husband</td>\n",
       "      <td>Black</td>\n",
       "      <td>Male</td>\n",
       "      <td>80</td>\n",
       "      <td>United-States</td>\n",
       "      <td>&gt;50K</td>\n",
       "      <td>116</td>\n",
       "    </tr>\n",
       "    <tr>\n",
       "      <th>27</th>\n",
       "      <td>27</td>\n",
       "      <td>54</td>\n",
       "      <td>NaN</td>\n",
       "      <td>Some-college</td>\n",
       "      <td>Married-civ-spouse</td>\n",
       "      <td>NaN</td>\n",
       "      <td>Husband</td>\n",
       "      <td>Asian-Pac-Islander</td>\n",
       "      <td>Male</td>\n",
       "      <td>60</td>\n",
       "      <td>South</td>\n",
       "      <td>&gt;50K</td>\n",
       "      <td>275</td>\n",
       "    </tr>\n",
       "    <tr>\n",
       "      <th>38</th>\n",
       "      <td>38</td>\n",
       "      <td>31</td>\n",
       "      <td>Private</td>\n",
       "      <td>Some-college</td>\n",
       "      <td>Married-civ-spouse</td>\n",
       "      <td>Sales</td>\n",
       "      <td>Husband</td>\n",
       "      <td>White</td>\n",
       "      <td>Male</td>\n",
       "      <td>38</td>\n",
       "      <td>NaN</td>\n",
       "      <td>&gt;50K</td>\n",
       "      <td>166</td>\n",
       "    </tr>\n",
       "    <tr>\n",
       "      <th>55</th>\n",
       "      <td>55</td>\n",
       "      <td>43</td>\n",
       "      <td>Private</td>\n",
       "      <td>Some-college</td>\n",
       "      <td>Married-civ-spouse</td>\n",
       "      <td>Tech-support</td>\n",
       "      <td>Husband</td>\n",
       "      <td>White</td>\n",
       "      <td>Male</td>\n",
       "      <td>40</td>\n",
       "      <td>United-States</td>\n",
       "      <td>&gt;50K</td>\n",
       "      <td>341</td>\n",
       "    </tr>\n",
       "    <tr>\n",
       "      <th>...</th>\n",
       "      <td>...</td>\n",
       "      <td>...</td>\n",
       "      <td>...</td>\n",
       "      <td>...</td>\n",
       "      <td>...</td>\n",
       "      <td>...</td>\n",
       "      <td>...</td>\n",
       "      <td>...</td>\n",
       "      <td>...</td>\n",
       "      <td>...</td>\n",
       "      <td>...</td>\n",
       "      <td>...</td>\n",
       "      <td>...</td>\n",
       "    </tr>\n",
       "    <tr>\n",
       "      <th>32510</th>\n",
       "      <td>32510</td>\n",
       "      <td>39</td>\n",
       "      <td>Private</td>\n",
       "      <td>HS-grad</td>\n",
       "      <td>Married-civ-spouse</td>\n",
       "      <td>Prof-specialty</td>\n",
       "      <td>Husband</td>\n",
       "      <td>White</td>\n",
       "      <td>Male</td>\n",
       "      <td>45</td>\n",
       "      <td>NaN</td>\n",
       "      <td>&gt;50K</td>\n",
       "      <td>212</td>\n",
       "    </tr>\n",
       "    <tr>\n",
       "      <th>32518</th>\n",
       "      <td>32518</td>\n",
       "      <td>57</td>\n",
       "      <td>Local-gov</td>\n",
       "      <td>HS-grad</td>\n",
       "      <td>Married-civ-spouse</td>\n",
       "      <td>Craft-repair</td>\n",
       "      <td>Husband</td>\n",
       "      <td>White</td>\n",
       "      <td>Male</td>\n",
       "      <td>40</td>\n",
       "      <td>United-States</td>\n",
       "      <td>&gt;50K</td>\n",
       "      <td>116</td>\n",
       "    </tr>\n",
       "    <tr>\n",
       "      <th>32519</th>\n",
       "      <td>32519</td>\n",
       "      <td>46</td>\n",
       "      <td>Private</td>\n",
       "      <td>Some-college</td>\n",
       "      <td>Married-civ-spouse</td>\n",
       "      <td>Exec-managerial</td>\n",
       "      <td>Husband</td>\n",
       "      <td>White</td>\n",
       "      <td>Male</td>\n",
       "      <td>48</td>\n",
       "      <td>United-States</td>\n",
       "      <td>&gt;50K</td>\n",
       "      <td>239</td>\n",
       "    </tr>\n",
       "    <tr>\n",
       "      <th>32557</th>\n",
       "      <td>32557</td>\n",
       "      <td>40</td>\n",
       "      <td>Private</td>\n",
       "      <td>HS-grad</td>\n",
       "      <td>Married-civ-spouse</td>\n",
       "      <td>Machine-op-inspct</td>\n",
       "      <td>Husband</td>\n",
       "      <td>White</td>\n",
       "      <td>Male</td>\n",
       "      <td>40</td>\n",
       "      <td>United-States</td>\n",
       "      <td>&gt;50K</td>\n",
       "      <td>173</td>\n",
       "    </tr>\n",
       "    <tr>\n",
       "      <th>32560</th>\n",
       "      <td>32560</td>\n",
       "      <td>52</td>\n",
       "      <td>Self-emp-inc</td>\n",
       "      <td>HS-grad</td>\n",
       "      <td>Married-civ-spouse</td>\n",
       "      <td>Exec-managerial</td>\n",
       "      <td>Wife</td>\n",
       "      <td>White</td>\n",
       "      <td>Female</td>\n",
       "      <td>40</td>\n",
       "      <td>United-States</td>\n",
       "      <td>&gt;50K</td>\n",
       "      <td>243</td>\n",
       "    </tr>\n",
       "  </tbody>\n",
       "</table>\n",
       "<p>3306 rows × 13 columns</p>\n",
       "</div>"
      ]
     },
     "execution_count": 26,
     "metadata": {},
     "output_type": "execute_result"
    }
   ],
   "execution_count": 26
  },
  {
   "cell_type": "markdown",
   "source": [
    "# Task 6\n",
    "Get the statistics of age for each type of education. Use `groupby` and `describe` for this."
   ],
   "metadata": {
    "collapsed": false,
    "pycharm": {
     "name": "#%% md\n"
    }
   }
  },
  {
   "cell_type": "code",
   "source": "data.groupby(\"education\")[\"age\"].describe()",
   "metadata": {
    "collapsed": false,
    "pycharm": {
     "name": "#%%\n"
    },
    "ExecuteTime": {
     "end_time": "2025-01-18T11:48:19.522157Z",
     "start_time": "2025-01-18T11:48:19.492318Z"
    }
   },
   "outputs": [
    {
     "data": {
      "text/plain": [
       "                count       mean        std   min    25%   50%   75%   max\n",
       "education                                                                 \n",
       "10th            933.0  37.429796  16.720713  17.0  22.00  34.0  52.0  90.0\n",
       "11th           1175.0  32.355745  15.545485  17.0  18.00  28.0  43.0  90.0\n",
       "12th            433.0  32.000000  14.334625  17.0  19.00  28.0  41.0  79.0\n",
       "1st-4th         168.0  46.142857  15.615625  19.0  33.00  46.0  57.0  90.0\n",
       "5th-6th         333.0  42.885886  15.557285  17.0  29.00  42.0  54.0  84.0\n",
       "7th-8th         646.0  48.445820  16.092350  17.0  34.25  50.0  61.0  90.0\n",
       "9th             514.0  41.060311  15.946862  17.0  28.00  39.0  54.0  90.0\n",
       "Assoc-acdm     1067.0  37.381443  11.095177  19.0  29.00  36.0  44.0  90.0\n",
       "Assoc-voc      1382.0  38.553546  11.631300  19.0  30.00  37.0  46.0  84.0\n",
       "Bachelors      5355.0  38.904949  11.912210  19.0  29.00  37.0  46.0  90.0\n",
       "Doctorate       413.0  47.702179  11.784716  24.0  39.00  47.0  55.0  80.0\n",
       "HS-grad       10501.0  38.974479  13.541524  17.0  28.00  37.0  48.0  90.0\n",
       "Masters        1723.0  44.049913  11.068935  18.0  36.00  43.0  51.0  90.0\n",
       "Preschool        51.0  42.764706  15.126914  19.0  31.00  41.0  53.5  75.0\n",
       "Prof-school     576.0  44.746528  11.962477  25.0  36.00  43.0  51.0  90.0\n",
       "Some-college   7291.0  35.756275  13.474051  17.0  24.00  34.0  45.0  90.0"
      ],
      "text/html": [
       "<div>\n",
       "<style scoped>\n",
       "    .dataframe tbody tr th:only-of-type {\n",
       "        vertical-align: middle;\n",
       "    }\n",
       "\n",
       "    .dataframe tbody tr th {\n",
       "        vertical-align: top;\n",
       "    }\n",
       "\n",
       "    .dataframe thead th {\n",
       "        text-align: right;\n",
       "    }\n",
       "</style>\n",
       "<table border=\"1\" class=\"dataframe\">\n",
       "  <thead>\n",
       "    <tr style=\"text-align: right;\">\n",
       "      <th></th>\n",
       "      <th>count</th>\n",
       "      <th>mean</th>\n",
       "      <th>std</th>\n",
       "      <th>min</th>\n",
       "      <th>25%</th>\n",
       "      <th>50%</th>\n",
       "      <th>75%</th>\n",
       "      <th>max</th>\n",
       "    </tr>\n",
       "    <tr>\n",
       "      <th>education</th>\n",
       "      <th></th>\n",
       "      <th></th>\n",
       "      <th></th>\n",
       "      <th></th>\n",
       "      <th></th>\n",
       "      <th></th>\n",
       "      <th></th>\n",
       "      <th></th>\n",
       "    </tr>\n",
       "  </thead>\n",
       "  <tbody>\n",
       "    <tr>\n",
       "      <th>10th</th>\n",
       "      <td>933.0</td>\n",
       "      <td>37.429796</td>\n",
       "      <td>16.720713</td>\n",
       "      <td>17.0</td>\n",
       "      <td>22.00</td>\n",
       "      <td>34.0</td>\n",
       "      <td>52.0</td>\n",
       "      <td>90.0</td>\n",
       "    </tr>\n",
       "    <tr>\n",
       "      <th>11th</th>\n",
       "      <td>1175.0</td>\n",
       "      <td>32.355745</td>\n",
       "      <td>15.545485</td>\n",
       "      <td>17.0</td>\n",
       "      <td>18.00</td>\n",
       "      <td>28.0</td>\n",
       "      <td>43.0</td>\n",
       "      <td>90.0</td>\n",
       "    </tr>\n",
       "    <tr>\n",
       "      <th>12th</th>\n",
       "      <td>433.0</td>\n",
       "      <td>32.000000</td>\n",
       "      <td>14.334625</td>\n",
       "      <td>17.0</td>\n",
       "      <td>19.00</td>\n",
       "      <td>28.0</td>\n",
       "      <td>41.0</td>\n",
       "      <td>79.0</td>\n",
       "    </tr>\n",
       "    <tr>\n",
       "      <th>1st-4th</th>\n",
       "      <td>168.0</td>\n",
       "      <td>46.142857</td>\n",
       "      <td>15.615625</td>\n",
       "      <td>19.0</td>\n",
       "      <td>33.00</td>\n",
       "      <td>46.0</td>\n",
       "      <td>57.0</td>\n",
       "      <td>90.0</td>\n",
       "    </tr>\n",
       "    <tr>\n",
       "      <th>5th-6th</th>\n",
       "      <td>333.0</td>\n",
       "      <td>42.885886</td>\n",
       "      <td>15.557285</td>\n",
       "      <td>17.0</td>\n",
       "      <td>29.00</td>\n",
       "      <td>42.0</td>\n",
       "      <td>54.0</td>\n",
       "      <td>84.0</td>\n",
       "    </tr>\n",
       "    <tr>\n",
       "      <th>7th-8th</th>\n",
       "      <td>646.0</td>\n",
       "      <td>48.445820</td>\n",
       "      <td>16.092350</td>\n",
       "      <td>17.0</td>\n",
       "      <td>34.25</td>\n",
       "      <td>50.0</td>\n",
       "      <td>61.0</td>\n",
       "      <td>90.0</td>\n",
       "    </tr>\n",
       "    <tr>\n",
       "      <th>9th</th>\n",
       "      <td>514.0</td>\n",
       "      <td>41.060311</td>\n",
       "      <td>15.946862</td>\n",
       "      <td>17.0</td>\n",
       "      <td>28.00</td>\n",
       "      <td>39.0</td>\n",
       "      <td>54.0</td>\n",
       "      <td>90.0</td>\n",
       "    </tr>\n",
       "    <tr>\n",
       "      <th>Assoc-acdm</th>\n",
       "      <td>1067.0</td>\n",
       "      <td>37.381443</td>\n",
       "      <td>11.095177</td>\n",
       "      <td>19.0</td>\n",
       "      <td>29.00</td>\n",
       "      <td>36.0</td>\n",
       "      <td>44.0</td>\n",
       "      <td>90.0</td>\n",
       "    </tr>\n",
       "    <tr>\n",
       "      <th>Assoc-voc</th>\n",
       "      <td>1382.0</td>\n",
       "      <td>38.553546</td>\n",
       "      <td>11.631300</td>\n",
       "      <td>19.0</td>\n",
       "      <td>30.00</td>\n",
       "      <td>37.0</td>\n",
       "      <td>46.0</td>\n",
       "      <td>84.0</td>\n",
       "    </tr>\n",
       "    <tr>\n",
       "      <th>Bachelors</th>\n",
       "      <td>5355.0</td>\n",
       "      <td>38.904949</td>\n",
       "      <td>11.912210</td>\n",
       "      <td>19.0</td>\n",
       "      <td>29.00</td>\n",
       "      <td>37.0</td>\n",
       "      <td>46.0</td>\n",
       "      <td>90.0</td>\n",
       "    </tr>\n",
       "    <tr>\n",
       "      <th>Doctorate</th>\n",
       "      <td>413.0</td>\n",
       "      <td>47.702179</td>\n",
       "      <td>11.784716</td>\n",
       "      <td>24.0</td>\n",
       "      <td>39.00</td>\n",
       "      <td>47.0</td>\n",
       "      <td>55.0</td>\n",
       "      <td>80.0</td>\n",
       "    </tr>\n",
       "    <tr>\n",
       "      <th>HS-grad</th>\n",
       "      <td>10501.0</td>\n",
       "      <td>38.974479</td>\n",
       "      <td>13.541524</td>\n",
       "      <td>17.0</td>\n",
       "      <td>28.00</td>\n",
       "      <td>37.0</td>\n",
       "      <td>48.0</td>\n",
       "      <td>90.0</td>\n",
       "    </tr>\n",
       "    <tr>\n",
       "      <th>Masters</th>\n",
       "      <td>1723.0</td>\n",
       "      <td>44.049913</td>\n",
       "      <td>11.068935</td>\n",
       "      <td>18.0</td>\n",
       "      <td>36.00</td>\n",
       "      <td>43.0</td>\n",
       "      <td>51.0</td>\n",
       "      <td>90.0</td>\n",
       "    </tr>\n",
       "    <tr>\n",
       "      <th>Preschool</th>\n",
       "      <td>51.0</td>\n",
       "      <td>42.764706</td>\n",
       "      <td>15.126914</td>\n",
       "      <td>19.0</td>\n",
       "      <td>31.00</td>\n",
       "      <td>41.0</td>\n",
       "      <td>53.5</td>\n",
       "      <td>75.0</td>\n",
       "    </tr>\n",
       "    <tr>\n",
       "      <th>Prof-school</th>\n",
       "      <td>576.0</td>\n",
       "      <td>44.746528</td>\n",
       "      <td>11.962477</td>\n",
       "      <td>25.0</td>\n",
       "      <td>36.00</td>\n",
       "      <td>43.0</td>\n",
       "      <td>51.0</td>\n",
       "      <td>90.0</td>\n",
       "    </tr>\n",
       "    <tr>\n",
       "      <th>Some-college</th>\n",
       "      <td>7291.0</td>\n",
       "      <td>35.756275</td>\n",
       "      <td>13.474051</td>\n",
       "      <td>17.0</td>\n",
       "      <td>24.00</td>\n",
       "      <td>34.0</td>\n",
       "      <td>45.0</td>\n",
       "      <td>90.0</td>\n",
       "    </tr>\n",
       "  </tbody>\n",
       "</table>\n",
       "</div>"
      ]
     },
     "execution_count": 27,
     "metadata": {},
     "output_type": "execute_result"
    }
   ],
   "execution_count": 27
  },
  {
   "cell_type": "markdown",
   "source": [
    "# Task 7\n",
    "Compare the married and non-married men salaries. Who earns more? (>50K or <=50K)\n",
    "Married men are those, whom `marital-status` starts with \"Married\". Others are not."
   ],
   "metadata": {
    "collapsed": false,
    "pycharm": {
     "name": "#%% md\n"
    }
   }
  },
  {
   "cell_type": "code",
   "source": [
    "data[\"is_married_male\"] = (data[\"marital-status\"].str.startswith(\"Married\")) & (data[\"sex\"] == \"Male\")\n",
    "data.groupby([\"is_married_male\", \"salary\"]).size().unstack(fill_value=0)"
   ],
   "metadata": {
    "collapsed": false,
    "pycharm": {
     "name": "#%%\n"
    },
    "ExecuteTime": {
     "end_time": "2025-01-18T11:51:47.702754Z",
     "start_time": "2025-01-18T11:51:47.686015Z"
    }
   },
   "outputs": [
    {
     "data": {
      "text/plain": [
       "salary           <=50K  >50K\n",
       "is_married_male             \n",
       "False            17144  1876\n",
       "True              7576  5965"
      ],
      "text/html": [
       "<div>\n",
       "<style scoped>\n",
       "    .dataframe tbody tr th:only-of-type {\n",
       "        vertical-align: middle;\n",
       "    }\n",
       "\n",
       "    .dataframe tbody tr th {\n",
       "        vertical-align: top;\n",
       "    }\n",
       "\n",
       "    .dataframe thead th {\n",
       "        text-align: right;\n",
       "    }\n",
       "</style>\n",
       "<table border=\"1\" class=\"dataframe\">\n",
       "  <thead>\n",
       "    <tr style=\"text-align: right;\">\n",
       "      <th>salary</th>\n",
       "      <th>&lt;=50K</th>\n",
       "      <th>&gt;50K</th>\n",
       "    </tr>\n",
       "    <tr>\n",
       "      <th>is_married_male</th>\n",
       "      <th></th>\n",
       "      <th></th>\n",
       "    </tr>\n",
       "  </thead>\n",
       "  <tbody>\n",
       "    <tr>\n",
       "      <th>False</th>\n",
       "      <td>17144</td>\n",
       "      <td>1876</td>\n",
       "    </tr>\n",
       "    <tr>\n",
       "      <th>True</th>\n",
       "      <td>7576</td>\n",
       "      <td>5965</td>\n",
       "    </tr>\n",
       "  </tbody>\n",
       "</table>\n",
       "</div>"
      ]
     },
     "execution_count": 30,
     "metadata": {},
     "output_type": "execute_result"
    }
   ],
   "execution_count": 30
  },
  {
   "cell_type": "markdown",
   "source": [
    "# Task 8\n",
    "Get the max hours per week some person works. How many people works the same amount of hours per week?"
   ],
   "metadata": {
    "collapsed": false,
    "pycharm": {
     "name": "#%% md\n"
    }
   }
  },
  {
   "metadata": {},
   "cell_type": "markdown",
   "source": ""
  },
  {
   "cell_type": "code",
   "source": [
    "max_hours = data[\"hours-per-week\"].max()\n",
    "data[data[\"hours-per-week\"] == max_hours].shape[0]"
   ],
   "metadata": {
    "collapsed": false,
    "pycharm": {
     "name": "#%%\n"
    },
    "ExecuteTime": {
     "end_time": "2025-01-18T11:53:36.987023Z",
     "start_time": "2025-01-18T11:53:36.981559Z"
    }
   },
   "outputs": [
    {
     "data": {
      "text/plain": [
       "85"
      ]
     },
     "execution_count": 34,
     "metadata": {},
     "output_type": "execute_result"
    }
   ],
   "execution_count": 34
  },
  {
   "cell_type": "markdown",
   "source": [
    "# Task 9\n",
    "Analyze the correlation between data in dataset. Understand connected fields in it and print highlight thier connection."
   ],
   "metadata": {
    "collapsed": false,
    "pycharm": {
     "name": "#%% md\n"
    }
   }
  },
  {
   "cell_type": "code",
   "source": [
    "numeric_columns = data.select_dtypes(include=['number']).columns\n",
    "data[numeric_columns].corr()"
   ],
   "metadata": {
    "collapsed": false,
    "pycharm": {
     "name": "#%%\n"
    },
    "ExecuteTime": {
     "end_time": "2025-01-18T11:55:38.800197Z",
     "start_time": "2025-01-18T11:55:38.789856Z"
    }
   },
   "outputs": [
    {
     "data": {
      "text/plain": [
       "                Unnamed: 0       age  hours-per-week  salary K$\n",
       "Unnamed: 0        1.000000  0.001286        0.000607  -0.001666\n",
       "age               0.001286  1.000000        0.068756   0.201774\n",
       "hours-per-week    0.000607  0.068756        1.000000   0.196916\n",
       "salary K$        -0.001666  0.201774        0.196916   1.000000"
      ],
      "text/html": [
       "<div>\n",
       "<style scoped>\n",
       "    .dataframe tbody tr th:only-of-type {\n",
       "        vertical-align: middle;\n",
       "    }\n",
       "\n",
       "    .dataframe tbody tr th {\n",
       "        vertical-align: top;\n",
       "    }\n",
       "\n",
       "    .dataframe thead th {\n",
       "        text-align: right;\n",
       "    }\n",
       "</style>\n",
       "<table border=\"1\" class=\"dataframe\">\n",
       "  <thead>\n",
       "    <tr style=\"text-align: right;\">\n",
       "      <th></th>\n",
       "      <th>Unnamed: 0</th>\n",
       "      <th>age</th>\n",
       "      <th>hours-per-week</th>\n",
       "      <th>salary K$</th>\n",
       "    </tr>\n",
       "  </thead>\n",
       "  <tbody>\n",
       "    <tr>\n",
       "      <th>Unnamed: 0</th>\n",
       "      <td>1.000000</td>\n",
       "      <td>0.001286</td>\n",
       "      <td>0.000607</td>\n",
       "      <td>-0.001666</td>\n",
       "    </tr>\n",
       "    <tr>\n",
       "      <th>age</th>\n",
       "      <td>0.001286</td>\n",
       "      <td>1.000000</td>\n",
       "      <td>0.068756</td>\n",
       "      <td>0.201774</td>\n",
       "    </tr>\n",
       "    <tr>\n",
       "      <th>hours-per-week</th>\n",
       "      <td>0.000607</td>\n",
       "      <td>0.068756</td>\n",
       "      <td>1.000000</td>\n",
       "      <td>0.196916</td>\n",
       "    </tr>\n",
       "    <tr>\n",
       "      <th>salary K$</th>\n",
       "      <td>-0.001666</td>\n",
       "      <td>0.201774</td>\n",
       "      <td>0.196916</td>\n",
       "      <td>1.000000</td>\n",
       "    </tr>\n",
       "  </tbody>\n",
       "</table>\n",
       "</div>"
      ]
     },
     "execution_count": 40,
     "metadata": {},
     "output_type": "execute_result"
    }
   ],
   "execution_count": 40
  },
  {
   "metadata": {
    "ExecuteTime": {
     "end_time": "2025-01-18T11:56:47.545407Z",
     "start_time": "2025-01-18T11:56:47.534555Z"
    }
   },
   "cell_type": "code",
   "source": [
    "numeric_columns = data.select_dtypes(include=['number']).columns\n",
    "\n",
    "data[numeric_columns].corr()"
   ],
   "outputs": [
    {
     "data": {
      "text/plain": [
       "                Unnamed: 0       age  hours-per-week  salary K$\n",
       "Unnamed: 0        1.000000  0.001286        0.000607  -0.001666\n",
       "age               0.001286  1.000000        0.068756   0.201774\n",
       "hours-per-week    0.000607  0.068756        1.000000   0.196916\n",
       "salary K$        -0.001666  0.201774        0.196916   1.000000"
      ],
      "text/html": [
       "<div>\n",
       "<style scoped>\n",
       "    .dataframe tbody tr th:only-of-type {\n",
       "        vertical-align: middle;\n",
       "    }\n",
       "\n",
       "    .dataframe tbody tr th {\n",
       "        vertical-align: top;\n",
       "    }\n",
       "\n",
       "    .dataframe thead th {\n",
       "        text-align: right;\n",
       "    }\n",
       "</style>\n",
       "<table border=\"1\" class=\"dataframe\">\n",
       "  <thead>\n",
       "    <tr style=\"text-align: right;\">\n",
       "      <th></th>\n",
       "      <th>Unnamed: 0</th>\n",
       "      <th>age</th>\n",
       "      <th>hours-per-week</th>\n",
       "      <th>salary K$</th>\n",
       "    </tr>\n",
       "  </thead>\n",
       "  <tbody>\n",
       "    <tr>\n",
       "      <th>Unnamed: 0</th>\n",
       "      <td>1.000000</td>\n",
       "      <td>0.001286</td>\n",
       "      <td>0.000607</td>\n",
       "      <td>-0.001666</td>\n",
       "    </tr>\n",
       "    <tr>\n",
       "      <th>age</th>\n",
       "      <td>0.001286</td>\n",
       "      <td>1.000000</td>\n",
       "      <td>0.068756</td>\n",
       "      <td>0.201774</td>\n",
       "    </tr>\n",
       "    <tr>\n",
       "      <th>hours-per-week</th>\n",
       "      <td>0.000607</td>\n",
       "      <td>0.068756</td>\n",
       "      <td>1.000000</td>\n",
       "      <td>0.196916</td>\n",
       "    </tr>\n",
       "    <tr>\n",
       "      <th>salary K$</th>\n",
       "      <td>-0.001666</td>\n",
       "      <td>0.201774</td>\n",
       "      <td>0.196916</td>\n",
       "      <td>1.000000</td>\n",
       "    </tr>\n",
       "  </tbody>\n",
       "</table>\n",
       "</div>"
      ]
     },
     "execution_count": 42,
     "metadata": {},
     "output_type": "execute_result"
    }
   ],
   "execution_count": 42
  },
  {
   "metadata": {},
   "cell_type": "code",
   "outputs": [],
   "execution_count": null,
   "source": ""
  }
 ],
 "metadata": {
  "kernelspec": {
   "display_name": "Python 3",
   "language": "python",
   "name": "python3"
  },
  "language_info": {
   "codemirror_mode": {
    "name": "ipython",
    "version": 2
   },
   "file_extension": ".py",
   "mimetype": "text/x-python",
   "name": "python",
   "nbconvert_exporter": "python",
   "pygments_lexer": "ipython2",
   "version": "2.7.6"
  }
 },
 "nbformat": 4,
 "nbformat_minor": 0
}
