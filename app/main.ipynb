{
 "cells": [
  {
   "cell_type": "code",
   "source": [
    "import numpy as np\n",
    "import pandas as pd"
   ],
   "metadata": {
    "collapsed": false,
    "pycharm": {
     "name": "#%%\n"
    },
    "ExecuteTime": {
     "end_time": "2024-11-13T12:35:45.297921Z",
     "start_time": "2024-11-13T12:35:45.285490Z"
    }
   },
   "outputs": [
    {
     "ename": "ModuleNotFoundError",
     "evalue": "No module named 'numpy'",
     "output_type": "error",
     "traceback": [
      "\u001B[1;31m---------------------------------------------------------------------------\u001B[0m",
      "\u001B[1;31mModuleNotFoundError\u001B[0m                       Traceback (most recent call last)",
      "Cell \u001B[1;32mIn[4], line 1\u001B[0m\n\u001B[1;32m----> 1\u001B[0m \u001B[38;5;28;01mimport\u001B[39;00m \u001B[38;5;21;01mnumpy\u001B[39;00m \u001B[38;5;28;01mas\u001B[39;00m \u001B[38;5;21;01mnp\u001B[39;00m\n\u001B[0;32m      2\u001B[0m \u001B[38;5;28;01mimport\u001B[39;00m \u001B[38;5;21;01mpandas\u001B[39;00m \u001B[38;5;28;01mas\u001B[39;00m \u001B[38;5;21;01mpd\u001B[39;00m\n",
      "\u001B[1;31mModuleNotFoundError\u001B[0m: No module named 'numpy'"
     ]
    }
   ],
   "execution_count": 4
  },
  {
   "cell_type": "markdown",
   "source": [
    "# Task 0\n",
    "Read the dataset from csv file & perform data cleaning - remove all rows, which contains `?` in some columns.\n",
    "Also check for data correctness (salary & salary $K)."
   ],
   "metadata": {
    "collapsed": false,
    "pycharm": {
     "name": "#%% md\n"
    }
   }
  },
  {
   "metadata": {
    "ExecuteTime": {
     "end_time": "2024-11-13T12:32:16.893418Z",
     "start_time": "2024-11-13T12:32:16.668163Z"
    }
   },
   "cell_type": "code",
   "source": [
    "df = pd.read_csv(\"../data/adult.csv\")\n",
    "df = df.replace(\"?\", np.nan).dropna()\n",
    "df = df[df[\"salary\"].isin([\"<=50K\", \">50K\"])]\n",
    "df[\"salary K$\"] = pd.to_numeric(df[\"salary K$\"], errors=\"coerce\")\n",
    "df = df.dropna(subset=[\"salary K$\"])\n",
    "df"
   ],
   "outputs": [
    {
     "ename": "NameError",
     "evalue": "name 'pd' is not defined",
     "output_type": "error",
     "traceback": [
      "\u001B[1;31m---------------------------------------------------------------------------\u001B[0m",
      "\u001B[1;31mNameError\u001B[0m                                 Traceback (most recent call last)",
      "Cell \u001B[1;32mIn[1], line 1\u001B[0m\n\u001B[1;32m----> 1\u001B[0m df \u001B[38;5;241m=\u001B[39m \u001B[43mpd\u001B[49m\u001B[38;5;241m.\u001B[39mread_csv(\u001B[38;5;124m\"\u001B[39m\u001B[38;5;124m../data/adult.csv\u001B[39m\u001B[38;5;124m\"\u001B[39m)\n\u001B[0;32m      2\u001B[0m df \u001B[38;5;241m=\u001B[39m df\u001B[38;5;241m.\u001B[39mreplace(\u001B[38;5;124m\"\u001B[39m\u001B[38;5;124m?\u001B[39m\u001B[38;5;124m\"\u001B[39m, np\u001B[38;5;241m.\u001B[39mnan)\u001B[38;5;241m.\u001B[39mdropna()\n\u001B[0;32m      3\u001B[0m df \u001B[38;5;241m=\u001B[39m df[df[\u001B[38;5;124m\"\u001B[39m\u001B[38;5;124msalary\u001B[39m\u001B[38;5;124m\"\u001B[39m]\u001B[38;5;241m.\u001B[39misin([\u001B[38;5;124m\"\u001B[39m\u001B[38;5;124m<=50K\u001B[39m\u001B[38;5;124m\"\u001B[39m, \u001B[38;5;124m\"\u001B[39m\u001B[38;5;124m>50K\u001B[39m\u001B[38;5;124m\"\u001B[39m])]\n",
      "\u001B[1;31mNameError\u001B[0m: name 'pd' is not defined"
     ]
    }
   ],
   "execution_count": 1
  },
  {
   "cell_type": "code",
   "execution_count": 1,
   "outputs": [],
   "source": [
    "gender_counts = df[\"sex\"].value_counts()\n",
    "print(\"Кількість чоловіків і жінок у наборі даних:\")\n",
    "print(gender_counts)"
   ],
   "metadata": {
    "collapsed": false,
    "pycharm": {
     "name": "#%%\n"
    }
   }
  },
  {
   "metadata": {},
   "cell_type": "markdown",
   "source": [
    "# Task 2\n",
    "Find the average age of men in dataset"
   ]
  },
  {
   "metadata": {},
   "cell_type": "code",
   "outputs": [],
   "execution_count": null,
   "source": [
    "average_age_men = df[df[\"sex\"] == \"Male\"][\"age\"].mean()\n",
    "print(\"Середній вік чоловіків у наборі даних:\", round(average_age_men, 2))"
   ]
  },
  {
   "cell_type": "markdown",
   "source": [
    "# Task 3\n",
    "Get the percentage of people from Poland (native-country)"
   ],
   "metadata": {
    "collapsed": false,
    "pycharm": {
     "name": "#%% md\n"
    }
   }
  },
  {
   "cell_type": "code",
   "execution_count": null,
   "outputs": [],
   "source": [
    "total_people = len(df)\n",
    "poland_count = len(df[df[\"native-country\"] == \"Poland\"])\n",
    "poland_percentage = (poland_count / total_people) * 100\n",
    "print(f\"Відсоток людей з Польщі: {poland_percentage:.2f}%\")"
   ],
   "metadata": {
    "collapsed": false,
    "pycharm": {
     "name": "#%%\n"
    }
   }
  },
  {
   "cell_type": "markdown",
   "source": [
    "# Task 4\n",
    "Get the mean and standard deviation of the age for people who earn > 50K per year. After this, get it for those who earn <= 50K."
   ],
   "metadata": {
    "collapsed": false,
    "pycharm": {
     "name": "#%% md\n"
    }
   }
  },
  {
   "cell_type": "code",
   "execution_count": 2,
   "outputs": [],
   "source": [
    "high_income = df[df[\"salary\"] == \">50K\"][\"age\"]\n",
    "mean_high_income = high_income.mean()\n",
    "std_high_income = high_income.std()\n",
    "\n",
    "low_income = df[df[\"salary\"] == \"<=50K\"][\"age\"]\n",
    "mean_low_income = low_income.mean()\n",
    "std_low_income = low_income.std()\n",
    "\n",
    "print(f\"Середній вік для тих, хто заробляє >50K: {mean_high_income:.2f}\")\n",
    "print(f\"Стандартне відхилення віку для тих, хто заробляє >50K: {std_high_income:.2f}\")\n",
    "print(f\"Середній вік для тих, хто заробляє <=50K: {mean_low_income:.2f}\")\n",
    "print(f\"Стандартне відхилення віку для тих, хто заробляє <=50K: {std_low_income:.2f}\")"
   ],
   "metadata": {
    "collapsed": false,
    "pycharm": {
     "name": "#%%\n"
    }
   }
  },
  {
   "cell_type": "markdown",
   "source": [
    "# Task 5\n",
    "Check, if there are some people without higher education (education: Bachelors, Prof-school, Assoc-acdm, Assoc-voc, Masters, Doctorate), but with > 50K salary"
   ],
   "metadata": {
    "collapsed": false,
    "pycharm": {
     "name": "#%% md\n"
    }
   }
  },
  {
   "cell_type": "code",
   "execution_count": 3,
   "outputs": [],
   "source": [
    "higher_education = [\"Bachelors\", \"Prof-school\", \"Assoc-acdm\", \"Assoc-voc\", \"Masters\", \"Doctorate\"]\n",
    "\n",
    "non_higher_educated_high_income = df[(df[\"salary\"] == \">50K\") & (~df[\"education\"].isin(higher_education))]\n",
    "\n",
    "print(\"Люди без вищої освіти, але з зарплатою понад 50K:\")\n",
    "non_higher_educated_high_income"
   ],
   "metadata": {
    "collapsed": false,
    "pycharm": {
     "name": "#%%\n"
    }
   }
  },
  {
   "cell_type": "markdown",
   "source": [
    "# Task 6\n",
    "Get the statistics of age for each type of education. Use `groupby` and `describe` for this."
   ],
   "metadata": {
    "collapsed": false,
    "pycharm": {
     "name": "#%% md\n"
    }
   }
  },
  {
   "cell_type": "code",
   "execution_count": null,
   "outputs": [],
   "source": [
    "age_statistics_by_education = df.groupby(\"education\")[\"age\"].describe()\n",
    "\n",
    "print(\"Статистика віку для кожного типу освіти:\")\n",
    "print(age_statistics_by_education)"
   ],
   "metadata": {
    "collapsed": false,
    "pycharm": {
     "name": "#%%\n"
    }
   }
  },
  {
   "cell_type": "markdown",
   "source": [
    "# Task 7\n",
    "Compare the married and non-married men salaries. Who earns more? (>50K or <=50K)\n",
    "Married men are those, whom `marital-status` starts with \"Married\". Others are not."
   ],
   "metadata": {
    "collapsed": false,
    "pycharm": {
     "name": "#%% md\n"
    }
   }
  },
  {
   "cell_type": "code",
   "execution_count": 5,
   "outputs": [],
   "source": [
    "married_people = df[df[\"marital-status\"].str.startswith(\"Married\")]\n",
    "non_married_people = df[~df[\"marital-status\"].str.startswith(\"Married\")]\n",
    "\n",
    "married_high_income = married_people[married_people[\"salary\"] == \">50K\"].shape[0] / married_people.shape[0] * 100\n",
    "non_married_high_income = non_married_people[non_married_people[\"salary\"] == \">50K\"].shape[0] / non_married_people.shape[0] * 100\n",
    "\n",
    "print(\"Відсоток одружених людей з доходом більше 50K:\", round(married_high_income, 2), \"%\")\n",
    "print(\"Відсоток неодружених людей з доходом більше 50K:\", round(non_married_high_income, 2), \"%\")"
   ],
   "metadata": {
    "collapsed": false,
    "pycharm": {
     "name": "#%%\n"
    }
   }
  },
  {
   "cell_type": "markdown",
   "source": [
    "# Task 8\n",
    "Get the max hours per week some person works. How many people works the same amount of hours per week?"
   ],
   "metadata": {
    "collapsed": false,
    "pycharm": {
     "name": "#%% md\n"
    }
   }
  },
  {
   "cell_type": "code",
   "execution_count": 6,
   "outputs": [],
   "source": [
    "max_hours = df[\"hours-per-week\"].max()\n",
    "\n",
    "people_with_max_hours = df[df[\"hours-per-week\"] == max_hours].shape[0]\n",
    "\n",
    "print(\"Максимальна кількість годин на тиждень:\", max_hours)\n",
    "print(\"Кількість людей, які працюють стільки годин:\", people_with_max_hours)"
   ],
   "metadata": {
    "collapsed": false,
    "pycharm": {
     "name": "#%%\n"
    }
   }
  },
  {
   "cell_type": "markdown",
   "source": [
    "# Task 9\n",
    "Analyze the correlation between data in dataset. Understand connected fields in it and print highlight thier connection."
   ],
   "metadata": {
    "collapsed": false,
    "pycharm": {
     "name": "#%% md\n"
    }
   }
  },
  {
   "cell_type": "code",
   "execution_count": 7,
   "outputs": [],
   "source": [
    "correlation_matrix = df.select_dtypes(include=[\"number\"]).corr()\n",
    "print(correlation_matrix)"
   ],
   "metadata": {
    "collapsed": false,
    "pycharm": {
     "name": "#%%\n"
    }
   }
  }
 ],
 "metadata": {
  "kernelspec": {
   "display_name": "Python 3",
   "language": "python",
   "name": "python3"
  },
  "language_info": {
   "codemirror_mode": {
    "name": "ipython",
    "version": 2
   },
   "file_extension": ".py",
   "mimetype": "text/x-python",
   "name": "python",
   "nbconvert_exporter": "python",
   "pygments_lexer": "ipython2",
   "version": "2.7.6"
  }
 },
 "nbformat": 4,
 "nbformat_minor": 0
}
