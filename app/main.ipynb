{
 "cells": [
  {
   "cell_type": "code",
   "execution_count": 7,
   "outputs": [],
   "source": [
    "import numpy as np\n",
    "import pandas as pd"
   ],
   "metadata": {
    "collapsed": false,
    "pycharm": {
     "name": "#%%\n"
    },
    "ExecuteTime": {
     "end_time": "2023-11-29T14:48:36.388792Z",
     "start_time": "2023-11-29T14:48:36.383006Z"
    }
   }
  },
  {
   "cell_type": "markdown",
   "source": [
    "# Task 0\n",
    "Read the dataset from csv file & perform data cleaning - remove all rows, which contains `?` in some columns.\n",
    "Also check for data correctness (salary & salary $K)."
   ],
   "metadata": {
    "collapsed": false,
    "pycharm": {
     "name": "#%% md\n"
    }
   }
  },
  {
   "cell_type": "code",
   "execution_count": 194,
   "outputs": [
    {
     "name": "stdout",
     "output_type": "stream",
     "text": [
      "Empty DataFrame\n",
      "Columns: [age, workclass, education, marital-status, occupation, relationship, race, sex, hours-per-week, native-country, salary, salary K$]\n",
      "Index: []\n"
     ]
    }
   ],
   "source": [
    "people = pd.read_csv(\"/Users/admin/projects/py-adult-data-analysis/data/adult.csv\", index_col=0)\n",
    "people = people.replace('?', np.nan)\n",
    "\n",
    "check_salary_data = people[(people[\"salary K$\"] <= 50) != (people[\"salary\"].astype(str) == \"<=50K\")] | people[(people[\"salary K$\"] > 50) != (people[\"salary\"].astype(str) == \">50K\")]\n",
    "print(check_salary_data)"
   ],
   "metadata": {
    "collapsed": false,
    "pycharm": {
     "name": "#%%\n"
    },
    "ExecuteTime": {
     "end_time": "2023-11-30T10:52:24.800490Z",
     "start_time": "2023-11-30T10:52:24.702316Z"
    }
   }
  },
  {
   "cell_type": "markdown",
   "source": [
    "# Task 1\n",
    "Print the count of men and women in the dataset."
   ],
   "metadata": {
    "collapsed": false,
    "pycharm": {
     "name": "#%% md\n"
    }
   }
  },
  {
   "cell_type": "code",
   "execution_count": 196,
   "outputs": [
    {
     "name": "stdout",
     "output_type": "stream",
     "text": [
      "sex\n",
      "Male      21790\n",
      "Female    10771\n",
      "Name: count, dtype: int64\n"
     ]
    }
   ],
   "source": [
    "count_of_men_and_women = people[\"sex\"].value_counts()\n",
    "print(count_of_men_and_women)"
   ],
   "metadata": {
    "collapsed": false,
    "pycharm": {
     "name": "#%%\n"
    },
    "ExecuteTime": {
     "end_time": "2023-11-30T10:54:33.887984Z",
     "start_time": "2023-11-30T10:54:33.881258Z"
    }
   }
  },
  {
   "cell_type": "markdown",
   "source": [
    "# Task 2\n",
    "Find the average age of men in dataset"
   ],
   "metadata": {
    "collapsed": false,
    "pycharm": {
     "name": "#%% md\n"
    }
   }
  },
  {
   "cell_type": "code",
   "execution_count": 205,
   "outputs": [
    {
     "name": "stdout",
     "output_type": "stream",
     "text": [
      "Average age of men:  39.43354749885268\n"
     ]
    }
   ],
   "source": [
    "average_age_men = people[(people[\"sex\"] == \"Male\")][\"age\"].mean()\n",
    "print(\"Average age of men: \", average_age_men)"
   ],
   "metadata": {
    "collapsed": false,
    "pycharm": {
     "name": "#%%\n"
    },
    "ExecuteTime": {
     "end_time": "2023-11-30T10:58:44.431693Z",
     "start_time": "2023-11-30T10:58:44.419333Z"
    }
   }
  },
  {
   "cell_type": "markdown",
   "source": [
    "# Task 3\n",
    "Get the percentage of people from Poland (native-country)"
   ],
   "metadata": {
    "collapsed": false,
    "pycharm": {
     "name": "#%% md\n"
    }
   }
  },
  {
   "cell_type": "code",
   "execution_count": 204,
   "outputs": [
    {
     "name": "stdout",
     "output_type": "stream",
     "text": [
      "Percentage of people from Poland:  0.18426952489174164\n"
     ]
    }
   ],
   "source": [
    "people_from_poland = (len(people[(people[\"native-country\"] == \"Poland\")]) / len(people)) * 100\n",
    "print(\"Percentage of people from Poland: \", people_from_poland)"
   ],
   "metadata": {
    "collapsed": false,
    "pycharm": {
     "name": "#%%\n"
    },
    "ExecuteTime": {
     "end_time": "2023-11-30T10:58:31.896622Z",
     "start_time": "2023-11-30T10:58:31.883725Z"
    }
   }
  },
  {
   "cell_type": "markdown",
   "source": [
    "# Task 4\n",
    "Get the mean and standard deviation of the age for people who earn > 50K per year. After this, get it for those who earn <= 50K."
   ],
   "metadata": {
    "collapsed": false,
    "pycharm": {
     "name": "#%% md\n"
    }
   }
  },
  {
   "cell_type": "code",
   "execution_count": 201,
   "outputs": [
    {
     "name": "stdout",
     "output_type": "stream",
     "text": [
      "Mean for earners > 50k:  200.8375207243974\n",
      "Standard deviation for earners > 50k:  87.08541652071891\n",
      "Mean for earners <= 50k:  32.02228964401294\n",
      "Standard deviation for earners <= 50k:  10.127874341787786\n"
     ]
    }
   ],
   "source": [
    "print(\"Mean for earners > 50k: \", people[(people[\"salary K$\"] > 50)][\"salary K$\"].mean())\n",
    "print(\"Standard deviation for earners > 50k: \", people[(people[\"salary K$\"] > 50)][\"salary K$\"].std())\n",
    "\n",
    "print(\"Mean for earners <= 50k: \", people[(people[\"salary K$\"] <= 50)][\"salary K$\"].mean())\n",
    "print(\"Standard deviation for earners <= 50k: \", people[(people[\"salary K$\"] <= 50)][\"salary K$\"].std())"
   ],
   "metadata": {
    "collapsed": false,
    "pycharm": {
     "name": "#%%\n"
    },
    "ExecuteTime": {
     "end_time": "2023-11-30T10:57:07.793361Z",
     "start_time": "2023-11-30T10:57:07.761056Z"
    }
   }
  },
  {
   "cell_type": "markdown",
   "source": [
    "# Task 5\n",
    "Check, if there are some people without higher education (education: Bachelors, Prof-school, Assoc-acdm, Assoc-voc, Masters, Doctorate), but with > 50K salary"
   ],
   "metadata": {
    "collapsed": false,
    "pycharm": {
     "name": "#%% md\n"
    }
   }
  },
  {
   "cell_type": "code",
   "execution_count": 203,
   "outputs": [
    {
     "name": "stdout",
     "output_type": "stream",
     "text": [
      "People without education but with >50k salary:  3306\n"
     ]
    }
   ],
   "source": [
    "high_salary_without_education = (people[~(people[\"education\"].isin([\"Bachelors\", \"Prof-school\", \"Assoc-acdm\", \"Assoc-voc\", \"Masters\", \"Doctorate\"]))][\"salary K$\"] > 50).sum()\n",
    "print(\"People without education but with >50k salary: \", high_salary_without_education)"
   ],
   "metadata": {
    "collapsed": false,
    "pycharm": {
     "name": "#%%\n"
    },
    "ExecuteTime": {
     "end_time": "2023-11-30T10:58:10.249825Z",
     "start_time": "2023-11-30T10:58:10.227345Z"
    }
   }
  },
  {
   "cell_type": "markdown",
   "source": [
    "# Task 6\n",
    "Get the statistics of age for each type of education. Use `groupby` and `describe` for this."
   ],
   "metadata": {
    "collapsed": false,
    "pycharm": {
     "name": "#%% md\n"
    }
   }
  },
  {
   "cell_type": "code",
   "execution_count": 206,
   "outputs": [
    {
     "name": "stdout",
     "output_type": "stream",
     "text": [
      "                count       mean        std   min    25%   50%   75%   max\n",
      "education                                                                 \n",
      "10th            933.0  37.429796  16.720713  17.0  22.00  34.0  52.0  90.0\n",
      "11th           1175.0  32.355745  15.545485  17.0  18.00  28.0  43.0  90.0\n",
      "12th            433.0  32.000000  14.334625  17.0  19.00  28.0  41.0  79.0\n",
      "1st-4th         168.0  46.142857  15.615625  19.0  33.00  46.0  57.0  90.0\n",
      "5th-6th         333.0  42.885886  15.557285  17.0  29.00  42.0  54.0  84.0\n",
      "7th-8th         646.0  48.445820  16.092350  17.0  34.25  50.0  61.0  90.0\n",
      "9th             514.0  41.060311  15.946862  17.0  28.00  39.0  54.0  90.0\n",
      "Assoc-acdm     1067.0  37.381443  11.095177  19.0  29.00  36.0  44.0  90.0\n",
      "Assoc-voc      1382.0  38.553546  11.631300  19.0  30.00  37.0  46.0  84.0\n",
      "Bachelors      5355.0  38.904949  11.912210  19.0  29.00  37.0  46.0  90.0\n",
      "Doctorate       413.0  47.702179  11.784716  24.0  39.00  47.0  55.0  80.0\n",
      "HS-grad       10501.0  38.974479  13.541524  17.0  28.00  37.0  48.0  90.0\n",
      "Masters        1723.0  44.049913  11.068935  18.0  36.00  43.0  51.0  90.0\n",
      "Preschool        51.0  42.764706  15.126914  19.0  31.00  41.0  53.5  75.0\n",
      "Prof-school     576.0  44.746528  11.962477  25.0  36.00  43.0  51.0  90.0\n",
      "Some-college   7291.0  35.756275  13.474051  17.0  24.00  34.0  45.0  90.0\n"
     ]
    }
   ],
   "source": [
    "statistics_of_age_education = people.groupby(\"education\")[\"age\"].describe()\n",
    "print(statistics_of_age_education)"
   ],
   "metadata": {
    "collapsed": false,
    "pycharm": {
     "name": "#%%\n"
    },
    "ExecuteTime": {
     "end_time": "2023-11-30T10:59:13.090858Z",
     "start_time": "2023-11-30T10:59:13.021094Z"
    }
   }
  },
  {
   "cell_type": "markdown",
   "source": [
    "# Task 7\n",
    "Compare the married and non-married men salaries. Who earns more? (>50K or <=50K)\n",
    "Married men are those, whom `marital-status` starts with \"Married\". Others are not."
   ],
   "metadata": {
    "collapsed": false,
    "pycharm": {
     "name": "#%% md\n"
    }
   }
  },
  {
   "cell_type": "code",
   "execution_count": 207,
   "outputs": [
    {
     "name": "stdout",
     "output_type": "stream",
     "text": [
      "Married earns more than single:  True\n"
     ]
    }
   ],
   "source": [
    "married = (people[(people[\"marital-status\"].str.startswith(\"Married\"))][\"salary K$\"] > 50).sum()\n",
    "not_married = (people[~(people[\"marital-status\"].str.startswith(\"Married\"))][\"salary K$\"] > 50).sum()\n",
    "print(\"Married earns more than single: \", married > not_married)"
   ],
   "metadata": {
    "collapsed": false,
    "pycharm": {
     "name": "#%%\n"
    },
    "ExecuteTime": {
     "end_time": "2023-11-30T10:59:40.940863Z",
     "start_time": "2023-11-30T10:59:40.924661Z"
    }
   }
  },
  {
   "cell_type": "markdown",
   "source": [
    "# Task 8\n",
    "Get the max hours per week some person works. How many people works the same amount of hours per week?"
   ],
   "metadata": {
    "collapsed": false,
    "pycharm": {
     "name": "#%% md\n"
    }
   }
  },
  {
   "cell_type": "code",
   "execution_count": 208,
   "outputs": [
    {
     "name": "stdout",
     "output_type": "stream",
     "text": [
      "Max hours per week:  99\n",
      "People works max hours per week:  85\n"
     ]
    }
   ],
   "source": [
    "max_hours_per_week = people[\"hours-per-week\"].max()\n",
    "count_people_max_hours = people[people[\"hours-per-week\"] == max_hours_per_week].shape[0]\n",
    "print(\"Max hours per week: \", max_hours_per_week)\n",
    "print(\"People works max hours per week: \", count_people_max_hours)"
   ],
   "metadata": {
    "collapsed": false,
    "pycharm": {
     "name": "#%%\n"
    },
    "ExecuteTime": {
     "end_time": "2023-11-30T11:00:26.648538Z",
     "start_time": "2023-11-30T11:00:26.638214Z"
    }
   }
  },
  {
   "cell_type": "markdown",
   "source": [
    "# Task 9\n",
    "Analyze the correlation between data in dataset. Understand connected fields in it and print highlight thier connection."
   ],
   "metadata": {
    "collapsed": false,
    "pycharm": {
     "name": "#%% md\n"
    }
   }
  },
  {
   "cell_type": "code",
   "execution_count": 189,
   "outputs": [
    {
     "name": "stdout",
     "output_type": "stream",
     "text": [
      "age is highly correlated with: salary K$\n",
      "hours-per-week is highly correlated with: salary K$\n",
      "salary K$ is highly correlated with: age, hours-per-week\n"
     ]
    }
   ],
   "source": [
    "columns = people.select_dtypes(include=['float64', 'int64'])\n",
    "matrix = columns.corr()\n",
    "threshold = 0.1 \n",
    "\n",
    "pairs = (matrix.abs() > threshold) & (matrix < 1)\n",
    "\n",
    "for col in matrix.columns:\n",
    "    correlated_cols = pairs[col][pairs[col]].index\n",
    "    if len(correlated_cols) > 0:\n",
    "        print(f\"{col} is highly correlated with: {', '.join(correlated_cols)}\")\n"
   ],
   "metadata": {
    "collapsed": false,
    "pycharm": {
     "name": "#%%\n"
    },
    "ExecuteTime": {
     "end_time": "2023-11-29T20:27:42.541604Z",
     "start_time": "2023-11-29T20:27:42.530232Z"
    }
   }
  },
  {
   "cell_type": "code",
   "execution_count": null,
   "outputs": [],
   "source": [],
   "metadata": {
    "collapsed": false
   }
  }
 ],
 "metadata": {
  "kernelspec": {
   "display_name": "Python 3",
   "language": "python",
   "name": "python3"
  },
  "language_info": {
   "codemirror_mode": {
    "name": "ipython",
    "version": 2
   },
   "file_extension": ".py",
   "mimetype": "text/x-python",
   "name": "python",
   "nbconvert_exporter": "python",
   "pygments_lexer": "ipython2",
   "version": "2.7.6"
  }
 },
 "nbformat": 4,
 "nbformat_minor": 0
}
