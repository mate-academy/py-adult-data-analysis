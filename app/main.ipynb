{
 "cells": [
  {
   "cell_type": "code",
   "execution_count": 5,
   "metadata": {
    "collapsed": false,
    "jupyter": {
     "outputs_hidden": false
    },
    "pycharm": {
     "name": "#%%\n"
    }
   },
   "outputs": [],
   "source": [
    "import numpy as np\n",
    "import pandas as pd"
   ]
  },
  {
   "cell_type": "markdown",
   "metadata": {
    "collapsed": false,
    "jupyter": {
     "outputs_hidden": false
    },
    "pycharm": {
     "name": "#%% md\n"
    }
   },
   "source": [
    "# Task 0\n",
    "Read the dataset from csv file & perform data cleaning - remove all rows, which contains `?` in some columns.\n",
    "Also check for data correctness (salary & salary $K)."
   ]
  },
  {
   "cell_type": "code",
   "execution_count": 34,
   "metadata": {
    "collapsed": false,
    "jupyter": {
     "outputs_hidden": false
    },
    "pycharm": {
     "name": "#%%\n"
    }
   },
   "outputs": [
    {
     "name": "stdout",
     "output_type": "stream",
     "text": [
      "       Unnamed: 0  age         workclass   education      marital-status  \\\n",
      "0               0   39         State-gov   Bachelors       Never-married   \n",
      "1               1   50  Self-emp-not-inc   Bachelors  Married-civ-spouse   \n",
      "2               2   38           Private     HS-grad            Divorced   \n",
      "3               3   53           Private        11th  Married-civ-spouse   \n",
      "4               4   28           Private   Bachelors  Married-civ-spouse   \n",
      "...           ...  ...               ...         ...                 ...   \n",
      "32556       32556   27           Private  Assoc-acdm  Married-civ-spouse   \n",
      "32557       32557   40           Private     HS-grad  Married-civ-spouse   \n",
      "32558       32558   58           Private     HS-grad             Widowed   \n",
      "32559       32559   22           Private     HS-grad       Never-married   \n",
      "32560       32560   52      Self-emp-inc     HS-grad  Married-civ-spouse   \n",
      "\n",
      "              occupation   relationship   race     sex  hours-per-week  \\\n",
      "0           Adm-clerical  Not-in-family  White    Male              40   \n",
      "1        Exec-managerial        Husband  White    Male              13   \n",
      "2      Handlers-cleaners  Not-in-family  White    Male              40   \n",
      "3      Handlers-cleaners        Husband  Black    Male              40   \n",
      "4         Prof-specialty           Wife  Black  Female              40   \n",
      "...                  ...            ...    ...     ...             ...   \n",
      "32556       Tech-support           Wife  White  Female              38   \n",
      "32557  Machine-op-inspct        Husband  White    Male              40   \n",
      "32558       Adm-clerical      Unmarried  White  Female              40   \n",
      "32559       Adm-clerical      Own-child  White    Male              20   \n",
      "32560    Exec-managerial           Wife  White  Female              40   \n",
      "\n",
      "      native-country salary  salary K$  \n",
      "0      United-States  <=50k         39  \n",
      "1      United-States  <=50k         35  \n",
      "2      United-States  <=50k         27  \n",
      "3      United-States  <=50k         43  \n",
      "4               Cuba  <=50k         25  \n",
      "...              ...    ...        ...  \n",
      "32556  United-States  <=50k         36  \n",
      "32557  United-States   >50k        173  \n",
      "32558  United-States  <=50k         40  \n",
      "32559  United-States  <=50k         38  \n",
      "32560  United-States   >50k        243  \n",
      "\n",
      "[30162 rows x 13 columns]\n"
     ]
    }
   ],
   "source": [
    "df = pd.read_csv(\"../data/adult.csv\")\n",
    "df = df.replace(\"?\", np.nan)\n",
    "df = df.dropna()\n",
    "conditions = [\n",
    "    (df[\"salary K$\"] <= 50),\n",
    "    (df['salary K$'] > 50)\n",
    "]\n",
    "\n",
    "values = ['<=50k', '>50k']\n",
    "df['salary'] = np.select(conditions, values)\n",
    "print(df)"
   ]
  },
  {
   "cell_type": "markdown",
   "metadata": {
    "collapsed": false,
    "jupyter": {
     "outputs_hidden": false
    },
    "pycharm": {
     "name": "#%% md\n"
    }
   },
   "source": [
    "# Task 1\n",
    "Print the count of men and women in the dataset."
   ]
  },
  {
   "cell_type": "code",
   "execution_count": 13,
   "metadata": {
    "collapsed": false,
    "jupyter": {
     "outputs_hidden": false
    },
    "pycharm": {
     "name": "#%%\n"
    }
   },
   "outputs": [
    {
     "name": "stdout",
     "output_type": "stream",
     "text": [
      "sex\n",
      "Male      20380\n",
      "Female     9782\n",
      "Name: count, dtype: int64\n"
     ]
    }
   ],
   "source": [
    "print(df[\"sex\"].value_counts())"
   ]
  },
  {
   "cell_type": "markdown",
   "metadata": {
    "collapsed": false,
    "jupyter": {
     "outputs_hidden": false
    },
    "pycharm": {
     "name": "#%% md\n"
    }
   },
   "source": [
    "# Task 2\n",
    "Find the average age of men in dataset"
   ]
  },
  {
   "cell_type": "code",
   "execution_count": 106,
   "metadata": {
    "collapsed": false,
    "jupyter": {
     "outputs_hidden": false
    },
    "pycharm": {
     "is_executing": true,
     "name": "#%%\n"
    }
   },
   "outputs": [
    {
     "name": "stdout",
     "output_type": "stream",
     "text": [
      "39.18400392541707\n"
     ]
    }
   ],
   "source": [
    "print(df[df[\"sex\"] == \"Male\"][\"age\"].mean())"
   ]
  },
  {
   "cell_type": "markdown",
   "metadata": {
    "collapsed": false,
    "jupyter": {
     "outputs_hidden": false
    },
    "pycharm": {
     "name": "#%% md\n"
    }
   },
   "source": [
    "# Task 3\n",
    "Get the percentage of people from Poland (native-country)"
   ]
  },
  {
   "cell_type": "code",
   "execution_count": 107,
   "metadata": {
    "collapsed": false,
    "jupyter": {
     "outputs_hidden": false
    },
    "pycharm": {
     "name": "#%%\n"
    }
   },
   "outputs": [
    {
     "name": "stdout",
     "output_type": "stream",
     "text": [
      "0.18566408063125786\n"
     ]
    }
   ],
   "source": [
    "print(len(df[df[\"native-country\"] == \"Poland\"])/len(df) * 100)"
   ]
  },
  {
   "cell_type": "markdown",
   "metadata": {
    "collapsed": false,
    "jupyter": {
     "outputs_hidden": false
    },
    "pycharm": {
     "name": "#%% md\n"
    }
   },
   "source": [
    "# Task 4\n",
    "Get the mean and standard deviation of the age for people who earn > 50K per year. After this, get it for those who earn <= 50K."
   ]
  },
  {
   "cell_type": "code",
   "execution_count": 35,
   "metadata": {
    "collapsed": false,
    "jupyter": {
     "outputs_hidden": false
    },
    "pycharm": {
     "name": "#%%\n"
    }
   },
   "outputs": [
    {
     "name": "stdout",
     "output_type": "stream",
     "text": [
      "36.60806038668668 13.464631257161633\n"
     ]
    }
   ],
   "source": [
    "mean_for_seniors = df[df[\"salary\"] == \"<=50k\"][\"age\"].mean()\n",
    "std_dev_for_seniors = df[df[\"salary\"] == \"<=50k\"][\"age\"].std()\n",
    "print(mean_for_seniors, std_dev_for_seniors)"
   ]
  },
  {
   "cell_type": "code",
   "execution_count": 36,
   "metadata": {
    "collapsed": false,
    "jupyter": {
     "outputs_hidden": false
    },
    "pycharm": {
     "is_executing": true,
     "name": "#%%\n"
    }
   },
   "outputs": [
    {
     "name": "stdout",
     "output_type": "stream",
     "text": [
      "43.95911028236548 10.269632835673852\n"
     ]
    }
   ],
   "source": [
    "mean_for_others = df[df[\"salary\"] == \">50k\"][\"age\"].mean()\n",
    "std_dev_for_others = df[df[\"salary\"] == \">50k\"][\"age\"].std()\n",
    "print(mean_for_others, std_dev_for_others)"
   ]
  },
  {
   "cell_type": "markdown",
   "metadata": {
    "collapsed": false,
    "jupyter": {
     "outputs_hidden": false
    },
    "pycharm": {
     "name": "#%% md\n"
    }
   },
   "source": [
    "# Task 5\n",
    "Check, if there are some people without higher education (education: Bachelors, Prof-school, Assoc-acdm, Assoc-voc, Masters, Doctorate), but with > 50K salary"
   ]
  },
  {
   "cell_type": "code",
   "execution_count": 108,
   "metadata": {
    "collapsed": false,
    "jupyter": {
     "outputs_hidden": false
    },
    "pycharm": {
     "name": "#%%\n"
    }
   },
   "outputs": [
    {
     "name": "stdout",
     "output_type": "stream",
     "text": [
      "3178\n"
     ]
    }
   ],
   "source": [
    "higher_ed = [\"Bachelors\", \"Prof-school\", \"Assoc-acdm\", \"Assoc-voc\", \"Masters\", \"Doctorate\"]\n",
    "big_without_hi_ed = df[~df[\"education\"].isin(higher_ed)]\n",
    "big_without_hi_ed = big_without_hi_ed[big_without_hi_ed[\"salary\"] == \">50k\"]\n",
    "print(len(big_without_hi_ed))"
   ]
  },
  {
   "cell_type": "markdown",
   "metadata": {
    "collapsed": false,
    "jupyter": {
     "outputs_hidden": false
    },
    "pycharm": {
     "name": "#%% md\n"
    }
   },
   "source": [
    "# Task 6\n",
    "Get the statistics of age for each type of education. Use `groupby` and `describe` for this."
   ]
  },
  {
   "cell_type": "code",
   "execution_count": 55,
   "metadata": {
    "collapsed": false,
    "jupyter": {
     "outputs_hidden": false
    },
    "pycharm": {
     "name": "#%%\n"
    }
   },
   "outputs": [
    {
     "data": {
      "text/html": [
       "<div>\n",
       "<style scoped>\n",
       "    .dataframe tbody tr th:only-of-type {\n",
       "        vertical-align: middle;\n",
       "    }\n",
       "\n",
       "    .dataframe tbody tr th {\n",
       "        vertical-align: top;\n",
       "    }\n",
       "\n",
       "    .dataframe thead tr th {\n",
       "        text-align: left;\n",
       "    }\n",
       "\n",
       "    .dataframe thead tr:last-of-type th {\n",
       "        text-align: right;\n",
       "    }\n",
       "</style>\n",
       "<table border=\"1\" class=\"dataframe\">\n",
       "  <thead>\n",
       "    <tr>\n",
       "      <th></th>\n",
       "      <th></th>\n",
       "      <th colspan=\"8\" halign=\"left\">Unnamed: 0</th>\n",
       "      <th colspan=\"5\" halign=\"left\">hours-per-week</th>\n",
       "      <th colspan=\"8\" halign=\"left\">salary K$</th>\n",
       "    </tr>\n",
       "    <tr>\n",
       "      <th></th>\n",
       "      <th></th>\n",
       "      <th>count</th>\n",
       "      <th>mean</th>\n",
       "      <th>std</th>\n",
       "      <th>min</th>\n",
       "      <th>25%</th>\n",
       "      <th>50%</th>\n",
       "      <th>75%</th>\n",
       "      <th>max</th>\n",
       "      <th>count</th>\n",
       "      <th>mean</th>\n",
       "      <th>...</th>\n",
       "      <th>75%</th>\n",
       "      <th>max</th>\n",
       "      <th>count</th>\n",
       "      <th>mean</th>\n",
       "      <th>std</th>\n",
       "      <th>min</th>\n",
       "      <th>25%</th>\n",
       "      <th>50%</th>\n",
       "      <th>75%</th>\n",
       "      <th>max</th>\n",
       "    </tr>\n",
       "    <tr>\n",
       "      <th>age</th>\n",
       "      <th>education</th>\n",
       "      <th></th>\n",
       "      <th></th>\n",
       "      <th></th>\n",
       "      <th></th>\n",
       "      <th></th>\n",
       "      <th></th>\n",
       "      <th></th>\n",
       "      <th></th>\n",
       "      <th></th>\n",
       "      <th></th>\n",
       "      <th></th>\n",
       "      <th></th>\n",
       "      <th></th>\n",
       "      <th></th>\n",
       "      <th></th>\n",
       "      <th></th>\n",
       "      <th></th>\n",
       "      <th></th>\n",
       "      <th></th>\n",
       "      <th></th>\n",
       "      <th></th>\n",
       "    </tr>\n",
       "  </thead>\n",
       "  <tbody>\n",
       "    <tr>\n",
       "      <th rowspan=\"5\" valign=\"top\">17</th>\n",
       "      <th>10th</th>\n",
       "      <td>106.0</td>\n",
       "      <td>17480.990566</td>\n",
       "      <td>8637.003666</td>\n",
       "      <td>609.0</td>\n",
       "      <td>11099.25</td>\n",
       "      <td>18608.0</td>\n",
       "      <td>24613.25</td>\n",
       "      <td>32447.0</td>\n",
       "      <td>106.0</td>\n",
       "      <td>19.896226</td>\n",
       "      <td>...</td>\n",
       "      <td>25.0</td>\n",
       "      <td>40.0</td>\n",
       "      <td>106.0</td>\n",
       "      <td>31.349057</td>\n",
       "      <td>9.442601</td>\n",
       "      <td>15.0</td>\n",
       "      <td>24.00</td>\n",
       "      <td>31.0</td>\n",
       "      <td>38.75</td>\n",
       "      <td>49.0</td>\n",
       "    </tr>\n",
       "    <tr>\n",
       "      <th>11th</th>\n",
       "      <td>154.0</td>\n",
       "      <td>16706.259740</td>\n",
       "      <td>9615.122123</td>\n",
       "      <td>209.0</td>\n",
       "      <td>8638.00</td>\n",
       "      <td>16841.5</td>\n",
       "      <td>25127.50</td>\n",
       "      <td>32282.0</td>\n",
       "      <td>154.0</td>\n",
       "      <td>19.448052</td>\n",
       "      <td>...</td>\n",
       "      <td>21.5</td>\n",
       "      <td>45.0</td>\n",
       "      <td>154.0</td>\n",
       "      <td>32.655844</td>\n",
       "      <td>9.578967</td>\n",
       "      <td>15.0</td>\n",
       "      <td>25.00</td>\n",
       "      <td>31.0</td>\n",
       "      <td>40.00</td>\n",
       "      <td>49.0</td>\n",
       "    </tr>\n",
       "    <tr>\n",
       "      <th>12th</th>\n",
       "      <td>32.0</td>\n",
       "      <td>16342.718750</td>\n",
       "      <td>9087.301307</td>\n",
       "      <td>676.0</td>\n",
       "      <td>9914.25</td>\n",
       "      <td>16479.5</td>\n",
       "      <td>24077.50</td>\n",
       "      <td>31864.0</td>\n",
       "      <td>32.0</td>\n",
       "      <td>18.500000</td>\n",
       "      <td>...</td>\n",
       "      <td>20.0</td>\n",
       "      <td>40.0</td>\n",
       "      <td>32.0</td>\n",
       "      <td>32.500000</td>\n",
       "      <td>9.425429</td>\n",
       "      <td>17.0</td>\n",
       "      <td>25.00</td>\n",
       "      <td>31.5</td>\n",
       "      <td>41.00</td>\n",
       "      <td>49.0</td>\n",
       "    </tr>\n",
       "    <tr>\n",
       "      <th>5th-6th</th>\n",
       "      <td>1.0</td>\n",
       "      <td>335.000000</td>\n",
       "      <td>NaN</td>\n",
       "      <td>335.0</td>\n",
       "      <td>335.00</td>\n",
       "      <td>335.0</td>\n",
       "      <td>335.00</td>\n",
       "      <td>335.0</td>\n",
       "      <td>1.0</td>\n",
       "      <td>48.000000</td>\n",
       "      <td>...</td>\n",
       "      <td>48.0</td>\n",
       "      <td>48.0</td>\n",
       "      <td>1.0</td>\n",
       "      <td>47.000000</td>\n",
       "      <td>NaN</td>\n",
       "      <td>47.0</td>\n",
       "      <td>47.00</td>\n",
       "      <td>47.0</td>\n",
       "      <td>47.00</td>\n",
       "      <td>47.0</td>\n",
       "    </tr>\n",
       "    <tr>\n",
       "      <th>7th-8th</th>\n",
       "      <td>3.0</td>\n",
       "      <td>18738.333333</td>\n",
       "      <td>9463.059988</td>\n",
       "      <td>9971.0</td>\n",
       "      <td>13722.50</td>\n",
       "      <td>17474.0</td>\n",
       "      <td>23122.00</td>\n",
       "      <td>28770.0</td>\n",
       "      <td>3.0</td>\n",
       "      <td>31.000000</td>\n",
       "      <td>...</td>\n",
       "      <td>42.5</td>\n",
       "      <td>45.0</td>\n",
       "      <td>3.0</td>\n",
       "      <td>35.000000</td>\n",
       "      <td>14.798649</td>\n",
       "      <td>18.0</td>\n",
       "      <td>30.00</td>\n",
       "      <td>42.0</td>\n",
       "      <td>43.50</td>\n",
       "      <td>45.0</td>\n",
       "    </tr>\n",
       "    <tr>\n",
       "      <th>...</th>\n",
       "      <th>...</th>\n",
       "      <td>...</td>\n",
       "      <td>...</td>\n",
       "      <td>...</td>\n",
       "      <td>...</td>\n",
       "      <td>...</td>\n",
       "      <td>...</td>\n",
       "      <td>...</td>\n",
       "      <td>...</td>\n",
       "      <td>...</td>\n",
       "      <td>...</td>\n",
       "      <td>...</td>\n",
       "      <td>...</td>\n",
       "      <td>...</td>\n",
       "      <td>...</td>\n",
       "      <td>...</td>\n",
       "      <td>...</td>\n",
       "      <td>...</td>\n",
       "      <td>...</td>\n",
       "      <td>...</td>\n",
       "      <td>...</td>\n",
       "      <td>...</td>\n",
       "    </tr>\n",
       "    <tr>\n",
       "      <th rowspan=\"5\" valign=\"top\">90</th>\n",
       "      <th>Bachelors</th>\n",
       "      <td>7.0</td>\n",
       "      <td>12237.285714</td>\n",
       "      <td>7118.816562</td>\n",
       "      <td>1935.0</td>\n",
       "      <td>7602.50</td>\n",
       "      <td>11996.0</td>\n",
       "      <td>17152.50</td>\n",
       "      <td>22220.0</td>\n",
       "      <td>7.0</td>\n",
       "      <td>36.428571</td>\n",
       "      <td>...</td>\n",
       "      <td>47.5</td>\n",
       "      <td>55.0</td>\n",
       "      <td>7.0</td>\n",
       "      <td>107.714286</td>\n",
       "      <td>132.360259</td>\n",
       "      <td>20.0</td>\n",
       "      <td>25.00</td>\n",
       "      <td>40.0</td>\n",
       "      <td>168.00</td>\n",
       "      <td>308.0</td>\n",
       "    </tr>\n",
       "    <tr>\n",
       "      <th>HS-grad</th>\n",
       "      <td>11.0</td>\n",
       "      <td>17518.363636</td>\n",
       "      <td>11082.227540</td>\n",
       "      <td>222.0</td>\n",
       "      <td>11028.50</td>\n",
       "      <td>18725.0</td>\n",
       "      <td>26253.00</td>\n",
       "      <td>32277.0</td>\n",
       "      <td>11.0</td>\n",
       "      <td>40.000000</td>\n",
       "      <td>...</td>\n",
       "      <td>40.0</td>\n",
       "      <td>99.0</td>\n",
       "      <td>11.0</td>\n",
       "      <td>40.545455</td>\n",
       "      <td>31.094577</td>\n",
       "      <td>17.0</td>\n",
       "      <td>23.00</td>\n",
       "      <td>37.0</td>\n",
       "      <td>42.00</td>\n",
       "      <td>129.0</td>\n",
       "    </tr>\n",
       "    <tr>\n",
       "      <th>Masters</th>\n",
       "      <td>4.0</td>\n",
       "      <td>12554.500000</td>\n",
       "      <td>8306.948477</td>\n",
       "      <td>5370.0</td>\n",
       "      <td>5397.00</td>\n",
       "      <td>12119.0</td>\n",
       "      <td>19276.50</td>\n",
       "      <td>20610.0</td>\n",
       "      <td>4.0</td>\n",
       "      <td>47.500000</td>\n",
       "      <td>...</td>\n",
       "      <td>52.5</td>\n",
       "      <td>60.0</td>\n",
       "      <td>4.0</td>\n",
       "      <td>201.250000</td>\n",
       "      <td>131.154807</td>\n",
       "      <td>44.0</td>\n",
       "      <td>121.25</td>\n",
       "      <td>213.0</td>\n",
       "      <td>293.00</td>\n",
       "      <td>335.0</td>\n",
       "    </tr>\n",
       "    <tr>\n",
       "      <th>Prof-school</th>\n",
       "      <td>1.0</td>\n",
       "      <td>8806.000000</td>\n",
       "      <td>NaN</td>\n",
       "      <td>8806.0</td>\n",
       "      <td>8806.00</td>\n",
       "      <td>8806.0</td>\n",
       "      <td>8806.00</td>\n",
       "      <td>8806.0</td>\n",
       "      <td>1.0</td>\n",
       "      <td>72.000000</td>\n",
       "      <td>...</td>\n",
       "      <td>72.0</td>\n",
       "      <td>72.0</td>\n",
       "      <td>1.0</td>\n",
       "      <td>141.000000</td>\n",
       "      <td>NaN</td>\n",
       "      <td>141.0</td>\n",
       "      <td>141.00</td>\n",
       "      <td>141.0</td>\n",
       "      <td>141.00</td>\n",
       "      <td>141.0</td>\n",
       "    </tr>\n",
       "    <tr>\n",
       "      <th>Some-college</th>\n",
       "      <td>5.0</td>\n",
       "      <td>7944.000000</td>\n",
       "      <td>7027.123700</td>\n",
       "      <td>2303.0</td>\n",
       "      <td>2891.00</td>\n",
       "      <td>5104.0</td>\n",
       "      <td>10210.00</td>\n",
       "      <td>19212.0</td>\n",
       "      <td>5.0</td>\n",
       "      <td>37.400000</td>\n",
       "      <td>...</td>\n",
       "      <td>40.0</td>\n",
       "      <td>40.0</td>\n",
       "      <td>5.0</td>\n",
       "      <td>24.400000</td>\n",
       "      <td>9.889388</td>\n",
       "      <td>17.0</td>\n",
       "      <td>17.00</td>\n",
       "      <td>22.0</td>\n",
       "      <td>25.00</td>\n",
       "      <td>41.0</td>\n",
       "    </tr>\n",
       "  </tbody>\n",
       "</table>\n",
       "<p>930 rows × 24 columns</p>\n",
       "</div>"
      ],
      "text/plain": [
       "                 Unnamed: 0                                                \\\n",
       "                      count          mean           std     min       25%   \n",
       "age education                                                               \n",
       "17  10th              106.0  17480.990566   8637.003666   609.0  11099.25   \n",
       "    11th              154.0  16706.259740   9615.122123   209.0   8638.00   \n",
       "    12th               32.0  16342.718750   9087.301307   676.0   9914.25   \n",
       "    5th-6th             1.0    335.000000           NaN   335.0    335.00   \n",
       "    7th-8th             3.0  18738.333333   9463.059988  9971.0  13722.50   \n",
       "...                     ...           ...           ...     ...       ...   \n",
       "90  Bachelors           7.0  12237.285714   7118.816562  1935.0   7602.50   \n",
       "    HS-grad            11.0  17518.363636  11082.227540   222.0  11028.50   \n",
       "    Masters             4.0  12554.500000   8306.948477  5370.0   5397.00   \n",
       "    Prof-school         1.0   8806.000000           NaN  8806.0   8806.00   \n",
       "    Some-college        5.0   7944.000000   7027.123700  2303.0   2891.00   \n",
       "\n",
       "                                             hours-per-week             ...  \\\n",
       "                      50%       75%      max          count       mean  ...   \n",
       "age education                                                           ...   \n",
       "17  10th          18608.0  24613.25  32447.0          106.0  19.896226  ...   \n",
       "    11th          16841.5  25127.50  32282.0          154.0  19.448052  ...   \n",
       "    12th          16479.5  24077.50  31864.0           32.0  18.500000  ...   \n",
       "    5th-6th         335.0    335.00    335.0            1.0  48.000000  ...   \n",
       "    7th-8th       17474.0  23122.00  28770.0            3.0  31.000000  ...   \n",
       "...                   ...       ...      ...            ...        ...  ...   \n",
       "90  Bachelors     11996.0  17152.50  22220.0            7.0  36.428571  ...   \n",
       "    HS-grad       18725.0  26253.00  32277.0           11.0  40.000000  ...   \n",
       "    Masters       12119.0  19276.50  20610.0            4.0  47.500000  ...   \n",
       "    Prof-school    8806.0   8806.00   8806.0            1.0  72.000000  ...   \n",
       "    Some-college   5104.0  10210.00  19212.0            5.0  37.400000  ...   \n",
       "\n",
       "                             salary K$                                         \\\n",
       "                   75%   max     count        mean         std    min     25%   \n",
       "age education                                                                   \n",
       "17  10th          25.0  40.0     106.0   31.349057    9.442601   15.0   24.00   \n",
       "    11th          21.5  45.0     154.0   32.655844    9.578967   15.0   25.00   \n",
       "    12th          20.0  40.0      32.0   32.500000    9.425429   17.0   25.00   \n",
       "    5th-6th       48.0  48.0       1.0   47.000000         NaN   47.0   47.00   \n",
       "    7th-8th       42.5  45.0       3.0   35.000000   14.798649   18.0   30.00   \n",
       "...                ...   ...       ...         ...         ...    ...     ...   \n",
       "90  Bachelors     47.5  55.0       7.0  107.714286  132.360259   20.0   25.00   \n",
       "    HS-grad       40.0  99.0      11.0   40.545455   31.094577   17.0   23.00   \n",
       "    Masters       52.5  60.0       4.0  201.250000  131.154807   44.0  121.25   \n",
       "    Prof-school   72.0  72.0       1.0  141.000000         NaN  141.0  141.00   \n",
       "    Some-college  40.0  40.0       5.0   24.400000    9.889388   17.0   17.00   \n",
       "\n",
       "                                        \n",
       "                    50%     75%    max  \n",
       "age education                           \n",
       "17  10th           31.0   38.75   49.0  \n",
       "    11th           31.0   40.00   49.0  \n",
       "    12th           31.5   41.00   49.0  \n",
       "    5th-6th        47.0   47.00   47.0  \n",
       "    7th-8th        42.0   43.50   45.0  \n",
       "...                 ...     ...    ...  \n",
       "90  Bachelors      40.0  168.00  308.0  \n",
       "    HS-grad        37.0   42.00  129.0  \n",
       "    Masters       213.0  293.00  335.0  \n",
       "    Prof-school   141.0  141.00  141.0  \n",
       "    Some-college   22.0   25.00   41.0  \n",
       "\n",
       "[930 rows x 24 columns]"
      ]
     },
     "execution_count": 55,
     "metadata": {},
     "output_type": "execute_result"
    }
   ],
   "source": [
    "df.groupby([\"age\", \"education\"]).describe()"
   ]
  },
  {
   "cell_type": "markdown",
   "metadata": {
    "collapsed": false,
    "jupyter": {
     "outputs_hidden": false
    },
    "pycharm": {
     "name": "#%% md\n"
    }
   },
   "source": [
    "# Task 7\n",
    "Compare the married and non-married men salaries. Who earns more? (>50K or <=50K)\n",
    "Married men are those, whom `marital-status` starts with \"Married\". Others are not."
   ]
  },
  {
   "cell_type": "code",
   "execution_count": 75,
   "metadata": {
    "collapsed": false,
    "jupyter": {
     "outputs_hidden": false
    },
    "pycharm": {
     "is_executing": true,
     "name": "#%%\n"
    }
   },
   "outputs": [
    {
     "name": "stdout",
     "output_type": "stream",
     "text": [
      "True\n"
     ]
    }
   ],
   "source": [
    "married_m = df[(df[\"sex\"] == \"Male\") & df[\"marital-status\"].str.startswith(\"Married\")]\n",
    "free_men = df[(df[\"sex\"] == \"Male\") & ~df.index.isin(married_m.index)]\n",
    "print(married_m[\"salary K$\"].mean() > free_men[\"salary K$\"].mean())\n"
   ]
  },
  {
   "cell_type": "markdown",
   "metadata": {
    "collapsed": false,
    "jupyter": {
     "outputs_hidden": false
    },
    "pycharm": {
     "name": "#%% md\n"
    }
   },
   "source": [
    "# Task 8\n",
    "Get the max hours per week some person works. How many people works the same amount of hours per week?"
   ]
  },
  {
   "cell_type": "code",
   "execution_count": 77,
   "metadata": {
    "collapsed": false,
    "jupyter": {
     "outputs_hidden": false
    },
    "pycharm": {
     "is_executing": true,
     "name": "#%%\n"
    }
   },
   "outputs": [
    {
     "name": "stdout",
     "output_type": "stream",
     "text": [
      "78\n"
     ]
    }
   ],
   "source": [
    "max_hours = df[\"hours-per-week\"].max()\n",
    "print(len(df[df[\"hours-per-week\"] == max_hours ]))"
   ]
  },
  {
   "cell_type": "markdown",
   "metadata": {
    "collapsed": false,
    "jupyter": {
     "outputs_hidden": false
    },
    "pycharm": {
     "name": "#%% md\n"
    }
   },
   "source": [
    "# Task 9\n",
    "Analyze the correlation between data in dataset. Understand connected fields in it and print highlight thier connection."
   ]
  },
  {
   "cell_type": "code",
   "execution_count": 105,
   "metadata": {
    "collapsed": false,
    "jupyter": {
     "outputs_hidden": false
    },
    "pycharm": {
     "name": "#%%\n"
    }
   },
   "outputs": [
    {
     "data": {
      "image/png": "[encoded data removed]",
      "text/plain": [
       "<Figure size 1500x800 with 2 Axes>"
      ]
     },
     "metadata": {},
     "output_type": "display_data"
    }
   ],
   "source": [
    "from matplotlib import pyplot as plt\n",
    "import seaborn as sns\n",
    "gender = {\"Male\": 1, 'Female': 2}\n",
    "df[\"Gender\"] = df[\"sex\"].map(gender)\n",
    "df['Race'] = df['race'].replace({'White': 1, 'Black': 2, 'Asian-Pac-Islander': 3, 'Amer-Indian-Eskimo': 4, 'Other': 0})\n",
    "numeric_columns = df.select_dtypes(include=['int64', 'float64']).columns\n",
    "correlation_matrix = df[numeric_columns].corr()\n",
    "plt.figure(figsize=(15,8))\n",
    "sns.heatmap(correlation_matrix, annot=True, cmap=\"viridis\")\n",
    "plt.title(\"Correlation Heatmap\")\n",
    "\n",
    "plt.show()"
   ]
  }
 ],
 "metadata": {
  "kernelspec": {
   "display_name": "Python 3 (ipykernel)",
   "language": "python",
   "name": "python3"
  },
  "language_info": {
   "codemirror_mode": {
    "name": "ipython",
    "version": 3
   },
   "file_extension": ".py",
   "mimetype": "text/x-python",
   "name": "python",
   "nbconvert_exporter": "python",
   "pygments_lexer": "ipython3",
   "version": "3.11.5"
  }
 },
 "nbformat": 4,
 "nbformat_minor": 4
}