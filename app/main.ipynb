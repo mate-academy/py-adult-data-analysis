{
 "cells": [
  {
   "cell_type": "code",
   "execution_count": 13,
   "outputs": [],
   "source": [
    "import numpy as np\n",
    "import pandas as pd"
   ],
   "metadata": {
    "collapsed": false,
    "pycharm": {
     "name": "#%%\n"
    },
    "ExecuteTime": {
     "end_time": "2024-01-09T20:43:04.033005500Z",
     "start_time": "2024-01-09T20:43:04.021979900Z"
    }
   }
  },
  {
   "cell_type": "markdown",
   "source": [
    "# Task 0\n",
    "Read the dataset from csv file & perform data cleaning - remove all rows, which contains `?` in some columns.\n",
    "Also check for data correctness (salary & salary $K)."
   ],
   "metadata": {
    "collapsed": false,
    "pycharm": {
     "name": "#%% md\n"
    }
   }
  },
  {
   "cell_type": "code",
   "execution_count": 14,
   "outputs": [
    {
     "data": {
      "text/plain": "       age         workclass   education      marital-status  \\\n0       39         State-gov   Bachelors       Never-married   \n1       50  Self-emp-not-inc   Bachelors  Married-civ-spouse   \n2       38           Private     HS-grad            Divorced   \n3       53           Private        11th  Married-civ-spouse   \n4       28           Private   Bachelors  Married-civ-spouse   \n...    ...               ...         ...                 ...   \n32556   27           Private  Assoc-acdm  Married-civ-spouse   \n32557   40           Private     HS-grad  Married-civ-spouse   \n32558   58           Private     HS-grad             Widowed   \n32559   22           Private     HS-grad       Never-married   \n32560   52      Self-emp-inc     HS-grad  Married-civ-spouse   \n\n              occupation   relationship   race     sex  hours-per-week  \\\n0           Adm-clerical  Not-in-family  White    Male              40   \n1        Exec-managerial        Husband  White    Male              13   \n2      Handlers-cleaners  Not-in-family  White    Male              40   \n3      Handlers-cleaners        Husband  Black    Male              40   \n4         Prof-specialty           Wife  Black  Female              40   \n...                  ...            ...    ...     ...             ...   \n32556       Tech-support           Wife  White  Female              38   \n32557  Machine-op-inspct        Husband  White    Male              40   \n32558       Adm-clerical      Unmarried  White  Female              40   \n32559       Adm-clerical      Own-child  White    Male              20   \n32560    Exec-managerial           Wife  White  Female              40   \n\n      native-country salary  salary K$  \n0      United-States  False         39  \n1      United-States  False         35  \n2      United-States  False         27  \n3      United-States  False         43  \n4               Cuba  False         25  \n...              ...    ...        ...  \n32556  United-States  False         36  \n32557  United-States   True        173  \n32558  United-States  False         40  \n32559  United-States  False         38  \n32560  United-States   True        243  \n\n[30162 rows x 12 columns]",
      "text/html": "<div>\n<style scoped>\n    .dataframe tbody tr th:only-of-type {\n        vertical-align: middle;\n    }\n\n    .dataframe tbody tr th {\n        vertical-align: top;\n    }\n\n    .dataframe thead th {\n        text-align: right;\n    }\n</style>\n<table border=\"1\" class=\"dataframe\">\n  <thead>\n    <tr style=\"text-align: right;\">\n      <th></th>\n      <th>age</th>\n      <th>workclass</th>\n      <th>education</th>\n      <th>marital-status</th>\n      <th>occupation</th>\n      <th>relationship</th>\n      <th>race</th>\n      <th>sex</th>\n      <th>hours-per-week</th>\n      <th>native-country</th>\n      <th>salary</th>\n      <th>salary K$</th>\n    </tr>\n  </thead>\n  <tbody>\n    <tr>\n      <th>0</th>\n      <td>39</td>\n      <td>State-gov</td>\n      <td>Bachelors</td>\n      <td>Never-married</td>\n      <td>Adm-clerical</td>\n      <td>Not-in-family</td>\n      <td>White</td>\n      <td>Male</td>\n      <td>40</td>\n      <td>United-States</td>\n      <td>False</td>\n      <td>39</td>\n    </tr>\n    <tr>\n      <th>1</th>\n      <td>50</td>\n      <td>Self-emp-not-inc</td>\n      <td>Bachelors</td>\n      <td>Married-civ-spouse</td>\n      <td>Exec-managerial</td>\n      <td>Husband</td>\n      <td>White</td>\n      <td>Male</td>\n      <td>13</td>\n      <td>United-States</td>\n      <td>False</td>\n      <td>35</td>\n    </tr>\n    <tr>\n      <th>2</th>\n      <td>38</td>\n      <td>Private</td>\n      <td>HS-grad</td>\n      <td>Divorced</td>\n      <td>Handlers-cleaners</td>\n      <td>Not-in-family</td>\n      <td>White</td>\n      <td>Male</td>\n      <td>40</td>\n      <td>United-States</td>\n      <td>False</td>\n      <td>27</td>\n    </tr>\n    <tr>\n      <th>3</th>\n      <td>53</td>\n      <td>Private</td>\n      <td>11th</td>\n      <td>Married-civ-spouse</td>\n      <td>Handlers-cleaners</td>\n      <td>Husband</td>\n      <td>Black</td>\n      <td>Male</td>\n      <td>40</td>\n      <td>United-States</td>\n      <td>False</td>\n      <td>43</td>\n    </tr>\n    <tr>\n      <th>4</th>\n      <td>28</td>\n      <td>Private</td>\n      <td>Bachelors</td>\n      <td>Married-civ-spouse</td>\n      <td>Prof-specialty</td>\n      <td>Wife</td>\n      <td>Black</td>\n      <td>Female</td>\n      <td>40</td>\n      <td>Cuba</td>\n      <td>False</td>\n      <td>25</td>\n    </tr>\n    <tr>\n      <th>...</th>\n      <td>...</td>\n      <td>...</td>\n      <td>...</td>\n      <td>...</td>\n      <td>...</td>\n      <td>...</td>\n      <td>...</td>\n      <td>...</td>\n      <td>...</td>\n      <td>...</td>\n      <td>...</td>\n      <td>...</td>\n    </tr>\n    <tr>\n      <th>32556</th>\n      <td>27</td>\n      <td>Private</td>\n      <td>Assoc-acdm</td>\n      <td>Married-civ-spouse</td>\n      <td>Tech-support</td>\n      <td>Wife</td>\n      <td>White</td>\n      <td>Female</td>\n      <td>38</td>\n      <td>United-States</td>\n      <td>False</td>\n      <td>36</td>\n    </tr>\n    <tr>\n      <th>32557</th>\n      <td>40</td>\n      <td>Private</td>\n      <td>HS-grad</td>\n      <td>Married-civ-spouse</td>\n      <td>Machine-op-inspct</td>\n      <td>Husband</td>\n      <td>White</td>\n      <td>Male</td>\n      <td>40</td>\n      <td>United-States</td>\n      <td>True</td>\n      <td>173</td>\n    </tr>\n    <tr>\n      <th>32558</th>\n      <td>58</td>\n      <td>Private</td>\n      <td>HS-grad</td>\n      <td>Widowed</td>\n      <td>Adm-clerical</td>\n      <td>Unmarried</td>\n      <td>White</td>\n      <td>Female</td>\n      <td>40</td>\n      <td>United-States</td>\n      <td>False</td>\n      <td>40</td>\n    </tr>\n    <tr>\n      <th>32559</th>\n      <td>22</td>\n      <td>Private</td>\n      <td>HS-grad</td>\n      <td>Never-married</td>\n      <td>Adm-clerical</td>\n      <td>Own-child</td>\n      <td>White</td>\n      <td>Male</td>\n      <td>20</td>\n      <td>United-States</td>\n      <td>False</td>\n      <td>38</td>\n    </tr>\n    <tr>\n      <th>32560</th>\n      <td>52</td>\n      <td>Self-emp-inc</td>\n      <td>HS-grad</td>\n      <td>Married-civ-spouse</td>\n      <td>Exec-managerial</td>\n      <td>Wife</td>\n      <td>White</td>\n      <td>Female</td>\n      <td>40</td>\n      <td>United-States</td>\n      <td>True</td>\n      <td>243</td>\n    </tr>\n  </tbody>\n</table>\n<p>30162 rows × 12 columns</p>\n</div>"
     },
     "execution_count": 14,
     "metadata": {},
     "output_type": "execute_result"
    }
   ],
   "source": [
    "# write your code for task 0 here"
   ],
   "metadata": {
    "collapsed": false,
    "pycharm": {
     "name": "#%%\n"
    },
    "ExecuteTime": {
     "end_time": "2024-01-09T20:43:09.124278300Z",
     "start_time": "2024-01-09T20:43:04.043002700Z"
    }
   }
  },
  {
   "cell_type": "markdown",
   "source": [
    "# Task 1\n",
    "Print the count of men and women in the dataset."
   ],
   "metadata": {
    "collapsed": false,
    "pycharm": {
     "name": "#%% md\n"
    },
    "ExecuteTime": {
     "end_time": "2024-01-09T15:30:36.608894600Z",
     "start_time": "2024-01-09T15:30:36.448903Z"
    }
   }
  },
  {
   "cell_type": "code",
   "execution_count": 15,
   "outputs": [
    {
     "data": {
      "text/plain": "sex\nMale      20380\nFemale     9782\nName: count, dtype: int64"
     },
     "execution_count": 15,
     "metadata": {},
     "output_type": "execute_result"
    }
   ],
   "source": [
    "# write your code for task 1 here"
   ],
   "metadata": {
    "collapsed": false,
    "pycharm": {
     "name": "#%%\n"
    },
    "ExecuteTime": {
     "end_time": "2024-01-09T20:43:09.128288700Z",
     "start_time": "2024-01-09T20:43:09.115279600Z"
    }
   }
  },
  {
   "cell_type": "markdown",
   "source": [
    "# Task 2\n",
    "Find the average age of men in dataset"
   ],
   "metadata": {
    "collapsed": false,
    "pycharm": {
     "name": "#%% md\n"
    }
   }
  },
  {
   "cell_type": "code",
   "execution_count": 16,
   "outputs": [
    {
     "data": {
      "text/plain": "39.184"
     },
     "execution_count": 16,
     "metadata": {},
     "output_type": "execute_result"
    }
   ],
   "source": [
    "# write your code for task 2 here"
   ],
   "metadata": {
    "collapsed": false,
    "pycharm": {
     "name": "#%%\n"
    },
    "ExecuteTime": {
     "end_time": "2024-01-09T20:43:09.129288600Z",
     "start_time": "2024-01-09T20:43:09.116281300Z"
    }
   }
  },
  {
   "cell_type": "markdown",
   "source": [
    "# Task 3\n",
    "Get the percentage of people from Poland (native-country)"
   ],
   "metadata": {
    "collapsed": false,
    "pycharm": {
     "name": "#%% md\n"
    }
   }
  },
  {
   "cell_type": "code",
   "execution_count": 17,
   "outputs": [
    {
     "data": {
      "text/plain": "0.1857"
     },
     "execution_count": 17,
     "metadata": {},
     "output_type": "execute_result"
    }
   ],
   "source": [
    "# write your code for task 3 here"
   ],
   "metadata": {
    "collapsed": false,
    "pycharm": {
     "name": "#%%\n"
    },
    "ExecuteTime": {
     "end_time": "2024-01-09T20:43:09.129288600Z",
     "start_time": "2024-01-09T20:43:09.116281300Z"
    }
   }
  },
  {
   "cell_type": "markdown",
   "source": [
    "# Task 4\n",
    "Get the mean and standard deviation of the age for people who earn > 50K per year. After this, get it for those who earn <= 50K."
   ],
   "metadata": {
    "collapsed": false,
    "pycharm": {
     "name": "#%% md\n"
    }
   }
  },
  {
   "cell_type": "code",
   "execution_count": 18,
   "outputs": [
    {
     "name": "stdout",
     "output_type": "stream",
     "text": [
      "mean less then 50: 36.6081\n",
      "std less then 50: 13.4646\n",
      "mean greater then 50: 43.9591\n",
      "std greater then 50: 10.2696\n"
     ]
    }
   ],
   "source": [
    "# write your code for task 4 here"
   ],
   "metadata": {
    "collapsed": false,
    "pycharm": {
     "name": "#%%\n"
    },
    "ExecuteTime": {
     "end_time": "2024-01-09T20:43:09.144299Z",
     "start_time": "2024-01-09T20:43:09.116281300Z"
    }
   }
  },
  {
   "cell_type": "markdown",
   "source": [
    "# Task 5\n",
    "Check, if there are some people without higher education (education: Bachelors, Prof-school, Assoc-acdm, Assoc-voc, Masters, Doctorate), but with > 50K salary"
   ],
   "metadata": {
    "collapsed": false,
    "pycharm": {
     "name": "#%% md\n"
    }
   }
  },
  {
   "cell_type": "code",
   "execution_count": 19,
   "outputs": [
    {
     "data": {
      "text/plain": "       age         workclass     education         marital-status  \\\n2       38           Private       HS-grad               Divorced   \n3       53           Private          11th     Married-civ-spouse   \n6       49           Private           9th  Married-spouse-absent   \n7       52  Self-emp-not-inc       HS-grad     Married-civ-spouse   \n10      37           Private  Some-college     Married-civ-spouse   \n...    ...               ...           ...                    ...   \n32555   22           Private  Some-college          Never-married   \n32557   40           Private       HS-grad     Married-civ-spouse   \n32558   58           Private       HS-grad                Widowed   \n32559   22           Private       HS-grad          Never-married   \n32560   52      Self-emp-inc       HS-grad     Married-civ-spouse   \n\n              occupation   relationship   race     sex  hours-per-week  \\\n2      Handlers-cleaners  Not-in-family  White    Male              40   \n3      Handlers-cleaners        Husband  Black    Male              40   \n6          Other-service  Not-in-family  Black  Female              16   \n7        Exec-managerial        Husband  White    Male              45   \n10       Exec-managerial        Husband  Black    Male              80   \n...                  ...            ...    ...     ...             ...   \n32555    Protective-serv  Not-in-family  White    Male              40   \n32557  Machine-op-inspct        Husband  White    Male              40   \n32558       Adm-clerical      Unmarried  White  Female              40   \n32559       Adm-clerical      Own-child  White    Male              20   \n32560    Exec-managerial           Wife  White  Female              40   \n\n      native-country salary  salary K$  \n2      United-States  False         27  \n3      United-States  False         43  \n6            Jamaica  False         49  \n7      United-States   True        307  \n10     United-States   True        116  \n...              ...    ...        ...  \n32555  United-States  False         32  \n32557  United-States   True        173  \n32558  United-States  False         40  \n32559  United-States  False         38  \n32560  United-States   True        243  \n\n[20259 rows x 12 columns]",
      "text/html": "<div>\n<style scoped>\n    .dataframe tbody tr th:only-of-type {\n        vertical-align: middle;\n    }\n\n    .dataframe tbody tr th {\n        vertical-align: top;\n    }\n\n    .dataframe thead th {\n        text-align: right;\n    }\n</style>\n<table border=\"1\" class=\"dataframe\">\n  <thead>\n    <tr style=\"text-align: right;\">\n      <th></th>\n      <th>age</th>\n      <th>workclass</th>\n      <th>education</th>\n      <th>marital-status</th>\n      <th>occupation</th>\n      <th>relationship</th>\n      <th>race</th>\n      <th>sex</th>\n      <th>hours-per-week</th>\n      <th>native-country</th>\n      <th>salary</th>\n      <th>salary K$</th>\n    </tr>\n  </thead>\n  <tbody>\n    <tr>\n      <th>2</th>\n      <td>38</td>\n      <td>Private</td>\n      <td>HS-grad</td>\n      <td>Divorced</td>\n      <td>Handlers-cleaners</td>\n      <td>Not-in-family</td>\n      <td>White</td>\n      <td>Male</td>\n      <td>40</td>\n      <td>United-States</td>\n      <td>False</td>\n      <td>27</td>\n    </tr>\n    <tr>\n      <th>3</th>\n      <td>53</td>\n      <td>Private</td>\n      <td>11th</td>\n      <td>Married-civ-spouse</td>\n      <td>Handlers-cleaners</td>\n      <td>Husband</td>\n      <td>Black</td>\n      <td>Male</td>\n      <td>40</td>\n      <td>United-States</td>\n      <td>False</td>\n      <td>43</td>\n    </tr>\n    <tr>\n      <th>6</th>\n      <td>49</td>\n      <td>Private</td>\n      <td>9th</td>\n      <td>Married-spouse-absent</td>\n      <td>Other-service</td>\n      <td>Not-in-family</td>\n      <td>Black</td>\n      <td>Female</td>\n      <td>16</td>\n      <td>Jamaica</td>\n      <td>False</td>\n      <td>49</td>\n    </tr>\n    <tr>\n      <th>7</th>\n      <td>52</td>\n      <td>Self-emp-not-inc</td>\n      <td>HS-grad</td>\n      <td>Married-civ-spouse</td>\n      <td>Exec-managerial</td>\n      <td>Husband</td>\n      <td>White</td>\n      <td>Male</td>\n      <td>45</td>\n      <td>United-States</td>\n      <td>True</td>\n      <td>307</td>\n    </tr>\n    <tr>\n      <th>10</th>\n      <td>37</td>\n      <td>Private</td>\n      <td>Some-college</td>\n      <td>Married-civ-spouse</td>\n      <td>Exec-managerial</td>\n      <td>Husband</td>\n      <td>Black</td>\n      <td>Male</td>\n      <td>80</td>\n      <td>United-States</td>\n      <td>True</td>\n      <td>116</td>\n    </tr>\n    <tr>\n      <th>...</th>\n      <td>...</td>\n      <td>...</td>\n      <td>...</td>\n      <td>...</td>\n      <td>...</td>\n      <td>...</td>\n      <td>...</td>\n      <td>...</td>\n      <td>...</td>\n      <td>...</td>\n      <td>...</td>\n      <td>...</td>\n    </tr>\n    <tr>\n      <th>32555</th>\n      <td>22</td>\n      <td>Private</td>\n      <td>Some-college</td>\n      <td>Never-married</td>\n      <td>Protective-serv</td>\n      <td>Not-in-family</td>\n      <td>White</td>\n      <td>Male</td>\n      <td>40</td>\n      <td>United-States</td>\n      <td>False</td>\n      <td>32</td>\n    </tr>\n    <tr>\n      <th>32557</th>\n      <td>40</td>\n      <td>Private</td>\n      <td>HS-grad</td>\n      <td>Married-civ-spouse</td>\n      <td>Machine-op-inspct</td>\n      <td>Husband</td>\n      <td>White</td>\n      <td>Male</td>\n      <td>40</td>\n      <td>United-States</td>\n      <td>True</td>\n      <td>173</td>\n    </tr>\n    <tr>\n      <th>32558</th>\n      <td>58</td>\n      <td>Private</td>\n      <td>HS-grad</td>\n      <td>Widowed</td>\n      <td>Adm-clerical</td>\n      <td>Unmarried</td>\n      <td>White</td>\n      <td>Female</td>\n      <td>40</td>\n      <td>United-States</td>\n      <td>False</td>\n      <td>40</td>\n    </tr>\n    <tr>\n      <th>32559</th>\n      <td>22</td>\n      <td>Private</td>\n      <td>HS-grad</td>\n      <td>Never-married</td>\n      <td>Adm-clerical</td>\n      <td>Own-child</td>\n      <td>White</td>\n      <td>Male</td>\n      <td>20</td>\n      <td>United-States</td>\n      <td>False</td>\n      <td>38</td>\n    </tr>\n    <tr>\n      <th>32560</th>\n      <td>52</td>\n      <td>Self-emp-inc</td>\n      <td>HS-grad</td>\n      <td>Married-civ-spouse</td>\n      <td>Exec-managerial</td>\n      <td>Wife</td>\n      <td>White</td>\n      <td>Female</td>\n      <td>40</td>\n      <td>United-States</td>\n      <td>True</td>\n      <td>243</td>\n    </tr>\n  </tbody>\n</table>\n<p>20259 rows × 12 columns</p>\n</div>"
     },
     "execution_count": 19,
     "metadata": {},
     "output_type": "execute_result"
    }
   ],
   "source": [
    "# write your code for task 5 here"
   ],
   "metadata": {
    "collapsed": false,
    "pycharm": {
     "name": "#%%\n"
    },
    "ExecuteTime": {
     "end_time": "2024-01-09T20:43:09.146283Z",
     "start_time": "2024-01-09T20:43:09.116281300Z"
    }
   }
  },
  {
   "cell_type": "markdown",
   "source": [
    "# Task 6\n",
    "Get the statistics of age for each type of education. Use `groupby` and `describe` for this."
   ],
   "metadata": {
    "collapsed": false,
    "pycharm": {
     "name": "#%% md\n"
    }
   }
  },
  {
   "cell_type": "code",
   "execution_count": 20,
   "outputs": [
    {
     "data": {
      "text/plain": "               count       mean        std   min   25%   50%   75%   max\neducation                                                               \n10th           820.0  37.897561  16.225795  17.0  23.0  36.0  52.0  90.0\n11th          1048.0  32.363550  15.089307  17.0  18.0  28.5  43.0  90.0\n12th           377.0  32.013263  14.373710  17.0  19.0  28.0  41.0  79.0\n1st-4th        151.0  44.622517  14.929051  19.0  33.0  44.0  56.0  81.0\n5th-6th        288.0  41.649306  14.754622  17.0  28.0  41.0  53.0  82.0\n7th-8th        557.0  47.631957  15.737479  17.0  34.0  49.0  60.0  90.0\n9th            455.0  40.303297  15.335754  17.0  28.0  38.0  53.0  90.0\nAssoc-acdm    1008.0  37.286706  10.509755  19.0  29.0  36.0  44.0  90.0\nAssoc-voc     1307.0  38.246366  11.181253  19.0  30.0  37.0  45.0  84.0\nBachelors     5044.0  38.641554  11.577566  19.0  29.0  37.0  46.0  90.0\nDoctorate      375.0  47.130667  11.471727  24.0  39.0  47.0  54.0  80.0\nHS-grad       9840.0  38.640955  13.067730  17.0  28.0  37.0  48.0  90.0\nMasters       1627.0  43.740012  10.735356  18.0  36.0  43.0  50.0  90.0\nPreschool       45.0  41.288889  15.175672  19.0  30.0  40.0  53.0  75.0\nProf-school    542.0  44.249077  11.428098  25.0  36.0  43.0  50.0  90.0\nSome-college  6678.0  36.135370  13.073528  17.0  25.0  35.0  45.0  90.0",
      "text/html": "<div>\n<style scoped>\n    .dataframe tbody tr th:only-of-type {\n        vertical-align: middle;\n    }\n\n    .dataframe tbody tr th {\n        vertical-align: top;\n    }\n\n    .dataframe thead th {\n        text-align: right;\n    }\n</style>\n<table border=\"1\" class=\"dataframe\">\n  <thead>\n    <tr style=\"text-align: right;\">\n      <th></th>\n      <th>count</th>\n      <th>mean</th>\n      <th>std</th>\n      <th>min</th>\n      <th>25%</th>\n      <th>50%</th>\n      <th>75%</th>\n      <th>max</th>\n    </tr>\n    <tr>\n      <th>education</th>\n      <th></th>\n      <th></th>\n      <th></th>\n      <th></th>\n      <th></th>\n      <th></th>\n      <th></th>\n      <th></th>\n    </tr>\n  </thead>\n  <tbody>\n    <tr>\n      <th>10th</th>\n      <td>820.0</td>\n      <td>37.897561</td>\n      <td>16.225795</td>\n      <td>17.0</td>\n      <td>23.0</td>\n      <td>36.0</td>\n      <td>52.0</td>\n      <td>90.0</td>\n    </tr>\n    <tr>\n      <th>11th</th>\n      <td>1048.0</td>\n      <td>32.363550</td>\n      <td>15.089307</td>\n      <td>17.0</td>\n      <td>18.0</td>\n      <td>28.5</td>\n      <td>43.0</td>\n      <td>90.0</td>\n    </tr>\n    <tr>\n      <th>12th</th>\n      <td>377.0</td>\n      <td>32.013263</td>\n      <td>14.373710</td>\n      <td>17.0</td>\n      <td>19.0</td>\n      <td>28.0</td>\n      <td>41.0</td>\n      <td>79.0</td>\n    </tr>\n    <tr>\n      <th>1st-4th</th>\n      <td>151.0</td>\n      <td>44.622517</td>\n      <td>14.929051</td>\n      <td>19.0</td>\n      <td>33.0</td>\n      <td>44.0</td>\n      <td>56.0</td>\n      <td>81.0</td>\n    </tr>\n    <tr>\n      <th>5th-6th</th>\n      <td>288.0</td>\n      <td>41.649306</td>\n      <td>14.754622</td>\n      <td>17.0</td>\n      <td>28.0</td>\n      <td>41.0</td>\n      <td>53.0</td>\n      <td>82.0</td>\n    </tr>\n    <tr>\n      <th>7th-8th</th>\n      <td>557.0</td>\n      <td>47.631957</td>\n      <td>15.737479</td>\n      <td>17.0</td>\n      <td>34.0</td>\n      <td>49.0</td>\n      <td>60.0</td>\n      <td>90.0</td>\n    </tr>\n    <tr>\n      <th>9th</th>\n      <td>455.0</td>\n      <td>40.303297</td>\n      <td>15.335754</td>\n      <td>17.0</td>\n      <td>28.0</td>\n      <td>38.0</td>\n      <td>53.0</td>\n      <td>90.0</td>\n    </tr>\n    <tr>\n      <th>Assoc-acdm</th>\n      <td>1008.0</td>\n      <td>37.286706</td>\n      <td>10.509755</td>\n      <td>19.0</td>\n      <td>29.0</td>\n      <td>36.0</td>\n      <td>44.0</td>\n      <td>90.0</td>\n    </tr>\n    <tr>\n      <th>Assoc-voc</th>\n      <td>1307.0</td>\n      <td>38.246366</td>\n      <td>11.181253</td>\n      <td>19.0</td>\n      <td>30.0</td>\n      <td>37.0</td>\n      <td>45.0</td>\n      <td>84.0</td>\n    </tr>\n    <tr>\n      <th>Bachelors</th>\n      <td>5044.0</td>\n      <td>38.641554</td>\n      <td>11.577566</td>\n      <td>19.0</td>\n      <td>29.0</td>\n      <td>37.0</td>\n      <td>46.0</td>\n      <td>90.0</td>\n    </tr>\n    <tr>\n      <th>Doctorate</th>\n      <td>375.0</td>\n      <td>47.130667</td>\n      <td>11.471727</td>\n      <td>24.0</td>\n      <td>39.0</td>\n      <td>47.0</td>\n      <td>54.0</td>\n      <td>80.0</td>\n    </tr>\n    <tr>\n      <th>HS-grad</th>\n      <td>9840.0</td>\n      <td>38.640955</td>\n      <td>13.067730</td>\n      <td>17.0</td>\n      <td>28.0</td>\n      <td>37.0</td>\n      <td>48.0</td>\n      <td>90.0</td>\n    </tr>\n    <tr>\n      <th>Masters</th>\n      <td>1627.0</td>\n      <td>43.740012</td>\n      <td>10.735356</td>\n      <td>18.0</td>\n      <td>36.0</td>\n      <td>43.0</td>\n      <td>50.0</td>\n      <td>90.0</td>\n    </tr>\n    <tr>\n      <th>Preschool</th>\n      <td>45.0</td>\n      <td>41.288889</td>\n      <td>15.175672</td>\n      <td>19.0</td>\n      <td>30.0</td>\n      <td>40.0</td>\n      <td>53.0</td>\n      <td>75.0</td>\n    </tr>\n    <tr>\n      <th>Prof-school</th>\n      <td>542.0</td>\n      <td>44.249077</td>\n      <td>11.428098</td>\n      <td>25.0</td>\n      <td>36.0</td>\n      <td>43.0</td>\n      <td>50.0</td>\n      <td>90.0</td>\n    </tr>\n    <tr>\n      <th>Some-college</th>\n      <td>6678.0</td>\n      <td>36.135370</td>\n      <td>13.073528</td>\n      <td>17.0</td>\n      <td>25.0</td>\n      <td>35.0</td>\n      <td>45.0</td>\n      <td>90.0</td>\n    </tr>\n  </tbody>\n</table>\n</div>"
     },
     "execution_count": 20,
     "metadata": {},
     "output_type": "execute_result"
    }
   ],
   "source": [
    "# write your code for task 6 here"
   ],
   "metadata": {
    "collapsed": false,
    "pycharm": {
     "name": "#%%\n"
    },
    "ExecuteTime": {
     "end_time": "2024-01-09T20:43:09.151544800Z",
     "start_time": "2024-01-09T20:43:09.117283700Z"
    }
   }
  },
  {
   "cell_type": "markdown",
   "source": [
    "# Task 7\n",
    "Compare the married and non-married men salaries. Who earns more? (>50K or <=50K)\n",
    "Married men are those, whom `marital-status` starts with \"Married\". Others are not."
   ],
   "metadata": {
    "collapsed": false,
    "pycharm": {
     "name": "#%% md\n"
    }
   }
  },
  {
   "cell_type": "code",
   "execution_count": 21,
   "outputs": [
    {
     "name": "stdout",
     "output_type": "stream",
     "text": [
      "Married mean salary: \n",
      "salary\n",
      "False     31.927538\n",
      "True     200.609820\n",
      "Name: salary K$, dtype: float64\n",
      "\n",
      "Non married mean salary: \n",
      "salary\n",
      "False     32.091316\n",
      "True     196.010401\n",
      "Name: salary K$, dtype: float64\n"
     ]
    }
   ],
   "source": [
    "# write your code for task 7 here"
   ],
   "metadata": {
    "collapsed": false,
    "pycharm": {
     "name": "#%%\n"
    },
    "ExecuteTime": {
     "end_time": "2024-01-09T20:43:09.152081600Z",
     "start_time": "2024-01-09T20:43:09.117283700Z"
    }
   }
  },
  {
   "cell_type": "markdown",
   "source": [
    "# Task 8\n",
    "Get the max hours per week some person works. How many people works the same amount of hours per week?"
   ],
   "metadata": {
    "collapsed": false,
    "pycharm": {
     "name": "#%% md\n"
    }
   }
  },
  {
   "cell_type": "code",
   "execution_count": 22,
   "outputs": [
    {
     "data": {
      "text/plain": "78"
     },
     "execution_count": 22,
     "metadata": {},
     "output_type": "execute_result"
    }
   ],
   "source": [
    "# write your code for task 8 here"
   ],
   "metadata": {
    "collapsed": false,
    "pycharm": {
     "name": "#%%\n"
    },
    "ExecuteTime": {
     "end_time": "2024-01-09T20:43:09.152625Z",
     "start_time": "2024-01-09T20:43:09.118284800Z"
    }
   }
  },
  {
   "cell_type": "markdown",
   "source": [
    "# Task 9\n",
    "Analyze the correlation between data in dataset. Understand connected fields in it and print highlight thier connection."
   ],
   "metadata": {
    "collapsed": false,
    "pycharm": {
     "name": "#%% md\n"
    }
   }
  },
  {
   "cell_type": "code",
   "execution_count": 23,
   "outputs": [
    {
     "name": "stdout",
     "output_type": "stream",
     "text": [
      "Correlation matrix: \n",
      "                                     age  hours-per-week  salary K$  \\\n",
      "age                             1.000000        0.101599   0.208203   \n",
      "hours-per-week                  0.101599        1.000000   0.196378   \n",
      "salary K$                       0.208203        0.196378   1.000000   \n",
      "workclass_Local-gov             0.068256        0.001612   0.025856   \n",
      "workclass_Private              -0.210491       -0.095533  -0.098187   \n",
      "...                                  ...             ...        ...   \n",
      "native-country_Trinadad&Tobago  0.007868       -0.007566  -0.003442   \n",
      "native-country_United-States    0.016259        0.010673   0.034000   \n",
      "native-country_Vietnam         -0.017775       -0.010381  -0.014737   \n",
      "native-country_Yugoslavia       0.000657        0.006983   0.008560   \n",
      "salary_True                     0.241998        0.229480   0.853894   \n",
      "\n",
      "                                workclass_Local-gov  workclass_Private  \\\n",
      "age                                        0.068256          -0.210491   \n",
      "hours-per-week                             0.001612          -0.095533   \n",
      "salary K$                                  0.025856          -0.098187   \n",
      "workclass_Local-gov                        1.000000          -0.456267   \n",
      "workclass_Private                         -0.456267           1.000000   \n",
      "...                                             ...                ...   \n",
      "native-country_Trinadad&Tobago            -0.001255           0.002164   \n",
      "native-country_United-States               0.032937          -0.049809   \n",
      "native-country_Vietnam                    -0.003952           0.009369   \n",
      "native-country_Yugoslavia                 -0.000550           0.003861   \n",
      "salary_True                                0.028673          -0.117218   \n",
      "\n",
      "                                workclass_Self-emp-inc  \\\n",
      "age                                           0.111039   \n",
      "hours-per-week                                0.126254   \n",
      "salary K$                                     0.119222   \n",
      "workclass_Local-gov                          -0.052120   \n",
      "workclass_Private                            -0.323228   \n",
      "...                                                ...   \n",
      "native-country_Trinadad&Tobago                0.002630   \n",
      "native-country_United-States                  0.007350   \n",
      "native-country_Vietnam                       -0.004973   \n",
      "native-country_Yugoslavia                     0.003343   \n",
      "salary_True                                   0.137646   \n",
      "\n",
      "                                workclass_Self-emp-not-inc  \\\n",
      "age                                               0.150429   \n",
      "hours-per-week                                    0.087835   \n",
      "salary K$                                         0.019587   \n",
      "workclass_Local-gov                              -0.081525   \n",
      "workclass_Private                                -0.505588   \n",
      "...                                                    ...   \n",
      "native-country_Trinadad&Tobago                   -0.002420   \n",
      "native-country_United-States                      0.014520   \n",
      "native-country_Vietnam                           -0.003405   \n",
      "native-country_Yugoslavia                        -0.001701   \n",
      "salary_True                                       0.025575   \n",
      "\n",
      "                                workclass_State-gov  workclass_Without-pay  \\\n",
      "age                                        0.014805               0.015337   \n",
      "hours-per-week                            -0.032976              -0.014781   \n",
      "salary K$                                  0.002678              -0.010522   \n",
      "workclass_Local-gov                       -0.057078              -0.005845   \n",
      "workclass_Private                         -0.353979              -0.036249   \n",
      "...                                             ...                    ...   \n",
      "native-country_Trinadad&Tobago             0.001595              -0.000527   \n",
      "native-country_United-States               0.025370               0.001269   \n",
      "native-country_Vietnam                    -0.006128              -0.000994   \n",
      "native-country_Yugoslavia                 -0.004848              -0.000496   \n",
      "salary_True                                0.009752              -0.012406   \n",
      "\n",
      "                                education_11th  ...  \\\n",
      "age                                  -0.087744  ...   \n",
      "hours-per-week                       -0.106704  ...   \n",
      "salary K$                            -0.072102  ...   \n",
      "workclass_Local-gov                  -0.025666  ...   \n",
      "workclass_Private                     0.058797  ...   \n",
      "...                                        ...  ...   \n",
      "native-country_Trinadad&Tobago       -0.004636  ...   \n",
      "native-country_United-States          0.000865  ...   \n",
      "native-country_Vietnam                0.003054  ...   \n",
      "native-country_Yugoslavia            -0.004371  ...   \n",
      "salary_True                          -0.084522  ...   \n",
      "\n",
      "                                native-country_Puerto-Rico  \\\n",
      "age                                               0.007836   \n",
      "hours-per-week                                   -0.012015   \n",
      "salary K$                                        -0.016483   \n",
      "workclass_Local-gov                              -0.001027   \n",
      "workclass_Private                                 0.005613   \n",
      "...                                                    ...   \n",
      "native-country_Trinadad&Tobago                   -0.001472   \n",
      "native-country_United-States                     -0.193727   \n",
      "native-country_Vietnam                           -0.002777   \n",
      "native-country_Yugoslavia                        -0.001387   \n",
      "salary_True                                      -0.019337   \n",
      "\n",
      "                                native-country_Scotland  native-country_South  \\\n",
      "age                                            0.000024              0.001923   \n",
      "hours-per-week                                 0.000689              0.014328   \n",
      "salary K$                                     -0.001498             -0.006514   \n",
      "workclass_Local-gov                           -0.005181             -0.013175   \n",
      "workclass_Private                              0.003449             -0.014735   \n",
      "...                                                 ...                   ...   \n",
      "native-country_Trinadad&Tobago                -0.000467             -0.001187   \n",
      "native-country_United-States                  -0.061442             -0.156254   \n",
      "native-country_Vietnam                        -0.000881             -0.002240   \n",
      "native-country_Yugoslavia                     -0.000440             -0.001119   \n",
      "salary_True                                   -0.002964             -0.005812   \n",
      "\n",
      "                                native-country_Taiwan  \\\n",
      "age                                         -0.007879   \n",
      "hours-per-week                              -0.000305   \n",
      "salary K$                                    0.016939   \n",
      "workclass_Local-gov                         -0.003091   \n",
      "workclass_Private                           -0.010187   \n",
      "...                                               ...   \n",
      "native-country_Trinadad&Tobago              -0.000913   \n",
      "native-country_United-States                -0.120121   \n",
      "native-country_Vietnam                      -0.001722   \n",
      "native-country_Yugoslavia                   -0.000860   \n",
      "salary_True                                  0.017571   \n",
      "\n",
      "                                native-country_Thailand  \\\n",
      "age                                           -0.004940   \n",
      "hours-per-week                                 0.012846   \n",
      "salary K$                                     -0.000891   \n",
      "workclass_Local-gov                           -0.006441   \n",
      "workclass_Private                             -0.008144   \n",
      "...                                                 ...   \n",
      "native-country_Trinadad&Tobago                -0.000580   \n",
      "native-country_United-States                  -0.076390   \n",
      "native-country_Vietnam                        -0.001095   \n",
      "native-country_Yugoslavia                     -0.000547   \n",
      "salary_True                                   -0.003979   \n",
      "\n",
      "                                native-country_Trinadad&Tobago  \\\n",
      "age                                                   0.007868   \n",
      "hours-per-week                                       -0.007566   \n",
      "salary K$                                            -0.003442   \n",
      "workclass_Local-gov                                  -0.001255   \n",
      "workclass_Private                                     0.002164   \n",
      "...                                                        ...   \n",
      "native-country_Trinadad&Tobago                        1.000000   \n",
      "native-country_United-States                         -0.078606   \n",
      "native-country_Vietnam                               -0.001127   \n",
      "native-country_Yugoslavia                            -0.000563   \n",
      "salary_True                                          -0.007788   \n",
      "\n",
      "                                native-country_United-States  \\\n",
      "age                                                 0.016259   \n",
      "hours-per-week                                      0.010673   \n",
      "salary K$                                           0.034000   \n",
      "workclass_Local-gov                                 0.032937   \n",
      "workclass_Private                                  -0.049809   \n",
      "...                                                      ...   \n",
      "native-country_Trinadad&Tobago                     -0.078606   \n",
      "native-country_United-States                        1.000000   \n",
      "native-country_Vietnam                             -0.148334   \n",
      "native-country_Yugoslavia                          -0.074108   \n",
      "salary_True                                         0.040204   \n",
      "\n",
      "                                native-country_Vietnam  \\\n",
      "age                                          -0.017775   \n",
      "hours-per-week                               -0.010381   \n",
      "salary K$                                    -0.014737   \n",
      "workclass_Local-gov                          -0.003952   \n",
      "workclass_Private                             0.009369   \n",
      "...                                                ...   \n",
      "native-country_Trinadad&Tobago               -0.001127   \n",
      "native-country_United-States                 -0.148334   \n",
      "native-country_Vietnam                        1.000000   \n",
      "native-country_Yugoslavia                    -0.001062   \n",
      "salary_True                                  -0.018215   \n",
      "\n",
      "                                native-country_Yugoslavia  salary_True  \n",
      "age                                              0.000657     0.241998  \n",
      "hours-per-week                                   0.006983     0.229480  \n",
      "salary K$                                        0.008560     0.853894  \n",
      "workclass_Local-gov                             -0.000550     0.028673  \n",
      "workclass_Private                                0.003861    -0.117218  \n",
      "...                                                   ...          ...  \n",
      "native-country_Trinadad&Tobago                  -0.000563    -0.007788  \n",
      "native-country_United-States                    -0.074108     0.040204  \n",
      "native-country_Vietnam                          -0.001062    -0.018215  \n",
      "native-country_Yugoslavia                        1.000000     0.006718  \n",
      "salary_True                                      0.006718     1.000000  \n",
      "\n",
      "[94 rows x 94 columns]\n"
     ]
    }
   ],
   "source": [
    "# write your code for task 9 here"
   ],
   "metadata": {
    "collapsed": false,
    "pycharm": {
     "name": "#%%\n"
    },
    "ExecuteTime": {
     "end_time": "2024-01-09T20:43:13.555406900Z",
     "start_time": "2024-01-09T20:43:09.118284800Z"
    }
   }
  }
 ],
 "metadata": {
  "kernelspec": {
   "display_name": "Python 3",
   "language": "python",
   "name": "python3"
  },
  "language_info": {
   "codemirror_mode": {
    "name": "ipython",
    "version": 2
   },
   "file_extension": ".py",
   "mimetype": "text/x-python",
   "name": "python",
   "nbconvert_exporter": "python",
   "pygments_lexer": "ipython2",
   "version": "2.7.6"
  }
 },
 "nbformat": 4,
 "nbformat_minor": 0
}
