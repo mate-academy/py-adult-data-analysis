{
 "cells": [
  {
   "cell_type": "code",
   "execution_count": 4,
   "outputs": [],
   "source": [
    "import numpy as np\n",
    "import pandas as pd"
   ],
   "metadata": {
    "collapsed": false
   }
  },
  {
   "cell_type": "markdown",
   "source": [
    "# Task 0\n",
    "Read the dataset from csv file & perform data cleaning - remove all rows, which contains `?` in some columns.\n",
    "Also check for data correctness (salary & salary $K)."
   ],
   "metadata": {
    "collapsed": false
   }
  },
  {
   "cell_type": "code",
   "execution_count": 17,
   "outputs": [],
   "source": [
    "file_path = \"../data/adult.csv\"\n",
    "df = pd.DataFrame(pd.read_csv(file_path, na_values=\"?\"))\n",
    "df = df.dropna()\n",
    "\n",
    "\n",
    "assert ((df.loc[df['salary'] == '>50K', 'salary K$'] > 50).all() &\n",
    "        (df.loc[df['salary'] == '<=50K', 'salary K$'] <= 50).all()), \\\n",
    "        \"Error: Inconsistent data in the 'salary' and 'salary K$' columns\""
   ],
   "metadata": {
    "collapsed": false
   }
  },
  {
   "cell_type": "markdown",
   "source": [
    "# Task 1\n",
    "Print the count of men and women in the dataset."
   ],
   "metadata": {
    "collapsed": false
   }
  },
  {
   "cell_type": "code",
   "execution_count": 16,
   "outputs": [
    {
     "name": "stdout",
     "output_type": "stream",
     "text": [
      "Male      20380\n",
      "Female     9782\n",
      "Name: sex, dtype: int64\n"
     ]
    }
   ],
   "source": [
    "gender_counts = df['sex'].value_counts()\n",
    "print(gender_counts)"
   ],
   "metadata": {
    "collapsed": false
   }
  },
  {
   "cell_type": "markdown",
   "source": [
    "# Task 2\n",
    "Find the average age of men in dataset"
   ],
   "metadata": {
    "collapsed": false
   }
  },
  {
   "cell_type": "code",
   "execution_count": 18,
   "outputs": [
    {
     "name": "stdout",
     "output_type": "stream",
     "text": [
      "Average age of men: 39.18400392541707\n"
     ]
    }
   ],
   "source": [
    "male_age_mean = df.loc[df['sex'] == 'Male', 'age'].mean()\n",
    "print(\"Average age of men:\", male_age_mean)"
   ],
   "metadata": {
    "collapsed": false
   }
  },
  {
   "cell_type": "markdown",
   "source": [
    "# Task 3\n",
    "Get the percentage of people from Poland (native-country)"
   ],
   "metadata": {
    "collapsed": false
   }
  },
  {
   "cell_type": "code",
   "execution_count": 19,
   "outputs": [
    {
     "name": "stdout",
     "output_type": "stream",
     "text": [
      "Percentage of people from Poland: 0.18566408063125786\n"
     ]
    }
   ],
   "source": [
    "poland_count = len(df.loc[df['native-country'] == 'Poland'])\n",
    "total_count = len(df)\n",
    "poland_percentage = poland_count / total_count * 100\n",
    "print(\"Percentage of people from Poland:\", poland_percentage)"
   ],
   "metadata": {
    "collapsed": false
   }
  },
  {
   "cell_type": "markdown",
   "source": [
    "# Task 4\n",
    "Get the mean and standard deviation of the age for people who earn > 50K per year. After this, get it for those who earn <= 50K."
   ],
   "metadata": {
    "collapsed": false
   }
  },
  {
   "cell_type": "code",
   "execution_count": 20,
   "outputs": [
    {
     "name": "stdout",
     "output_type": "stream",
     "text": [
      "Mean age of high earners: 43.95911028236548\n",
      "Standard deviation of age of high earners: 10.269632835673852\n",
      "Mean age of low earners: 36.60806038668668\n",
      "Standard deviation of age of low earners: 13.464631257161633\n"
     ]
    }
   ],
   "source": [
    "high_earners_age_mean = df.loc[df['salary'] == '>50K', 'age'].mean()\n",
    "high_earners_age_std = df.loc[df['salary'] == '>50K', 'age'].std()\n",
    "print(\"Mean age of high earners:\", high_earners_age_mean)\n",
    "print(\"Standard deviation of age of high earners:\", high_earners_age_std)\n",
    "\n",
    "low_earners_age_mean = df.loc[df['salary'] == '<=50K', 'age'].mean()\n",
    "low_earners_age_std = df.loc[df['salary'] == '<=50K', 'age'].std()\n",
    "print(\"Mean age of low earners:\", low_earners_age_mean)\n",
    "print(\"Standard deviation of age of low earners:\", low_earners_age_std)"
   ],
   "metadata": {
    "collapsed": false
   }
  },
  {
   "cell_type": "markdown",
   "source": [
    "# Task 5\n",
    "Check, if there are some people without higher education (education: Bachelors, Prof-school, Assoc-acdm, Assoc-voc, Masters, Doctorate), but with > 50K salary"
   ],
   "metadata": {
    "collapsed": false
   }
  },
  {
   "cell_type": "code",
   "execution_count": 23,
   "outputs": [
    {
     "name": "stdout",
     "output_type": "stream",
     "text": [
      "There are 3178 people with >50K salary but without higher education.\n"
     ]
    }
   ],
   "source": [
    "high_earners_no_higher_edu = df.loc[(df['salary'] == '>50K') & (~df['education'].isin(['Bachelors', 'Prof-school', 'Assoc-acdm', 'Assoc-voc', 'Masters', 'Doctorate']))]\n",
    "if len(high_earners_no_higher_edu) > 0:\n",
    "    print(f\"There are {len(high_earners_no_higher_edu)} people with >50K salary but without higher education.\")\n",
    "else:\n",
    "    print(\"There are no people with >50K salary but without higher education.\")"
   ],
   "metadata": {
    "collapsed": false
   }
  },
  {
   "cell_type": "markdown",
   "source": [
    "# Task 6\n",
    "Get the statistics of age for each type of education. Use `groupby` and `describe` for this."
   ],
   "metadata": {
    "collapsed": false
   }
  },
  {
   "cell_type": "code",
   "execution_count": 24,
   "outputs": [
    {
     "name": "stdout",
     "output_type": "stream",
     "text": [
      "               count       mean        std   min   25%   50%   75%   max\n",
      "education                                                               \n",
      "10th           820.0  37.897561  16.225795  17.0  23.0  36.0  52.0  90.0\n",
      "11th          1048.0  32.363550  15.089307  17.0  18.0  28.5  43.0  90.0\n",
      "12th           377.0  32.013263  14.373710  17.0  19.0  28.0  41.0  79.0\n",
      "1st-4th        151.0  44.622517  14.929051  19.0  33.0  44.0  56.0  81.0\n",
      "5th-6th        288.0  41.649306  14.754622  17.0  28.0  41.0  53.0  82.0\n",
      "7th-8th        557.0  47.631957  15.737479  17.0  34.0  49.0  60.0  90.0\n",
      "9th            455.0  40.303297  15.335754  17.0  28.0  38.0  53.0  90.0\n",
      "Assoc-acdm    1008.0  37.286706  10.509755  19.0  29.0  36.0  44.0  90.0\n",
      "Assoc-voc     1307.0  38.246366  11.181253  19.0  30.0  37.0  45.0  84.0\n",
      "Bachelors     5044.0  38.641554  11.577566  19.0  29.0  37.0  46.0  90.0\n",
      "Doctorate      375.0  47.130667  11.471727  24.0  39.0  47.0  54.0  80.0\n",
      "HS-grad       9840.0  38.640955  13.067730  17.0  28.0  37.0  48.0  90.0\n",
      "Masters       1627.0  43.740012  10.735356  18.0  36.0  43.0  50.0  90.0\n",
      "Preschool       45.0  41.288889  15.175672  19.0  30.0  40.0  53.0  75.0\n",
      "Prof-school    542.0  44.249077  11.428098  25.0  36.0  43.0  50.0  90.0\n",
      "Some-college  6678.0  36.135370  13.073528  17.0  25.0  35.0  45.0  90.0\n"
     ]
    }
   ],
   "source": [
    "age_stats_by_edu = df.groupby('education')['age'].describe()\n",
    "print(age_stats_by_edu)"
   ],
   "metadata": {
    "collapsed": false
   }
  },
  {
   "cell_type": "markdown",
   "source": [
    "# Task 7\n",
    "Compare the married and non-married men salaries. Who earns more? (>50K or <=50K)\n",
    "Married men are those, whom `marital-status` starts with \"Married\". Others are not."
   ],
   "metadata": {
    "collapsed": false
   }
  },
  {
   "cell_type": "code",
   "execution_count": 25,
   "outputs": [
    {
     "name": "stdout",
     "output_type": "stream",
     "text": [
      "Married men who earn >50K: 5723\n",
      "Married men who earn <=50K: 7052\n",
      "Non-married men who earn >50K: 673\n",
      "Non-married men who earn <=50K: 6932\n"
     ]
    }
   ],
   "source": [
    "married_high_earners = len(df.loc[(df['marital-status'].str.startswith('Married')) & (df['sex'] == 'Male') & (df['salary'] == '>50K')])\n",
    "married_low_earners = len(df.loc[(df['marital-status'].str.startswith('Married')) & (df['sex'] == 'Male') & (df['salary'] == '<=50K')])\n",
    "non_married_high_earners = len(df.loc[(~df['marital-status'].str.startswith('Married')) & (df['sex'] == 'Male') & (df['salary'] == '>50K')])\n",
    "non_married_low_earners = len(df.loc[(~df['marital-status'].str.startswith('Married')) & (df['sex'] == 'Male') & (df['salary'] == '<=50K')])\n",
    "print(\"Married men who earn >50K:\", married_high_earners)\n",
    "print(\"Married men who earn <=50K:\", married_low_earners)\n",
    "print(\"Non-married men who earn >50K:\", non_married_high_earners)\n",
    "print(\"Non-married men who earn <=50K:\", non_married_low_earners)"
   ],
   "metadata": {
    "collapsed": false
   }
  },
  {
   "cell_type": "markdown",
   "source": [
    "# Task 8\n",
    "Get the max hours per week some person works. How many people works the same amount of hours per week?"
   ],
   "metadata": {
    "collapsed": false
   }
  },
  {
   "cell_type": "code",
   "execution_count": 26,
   "outputs": [
    {
     "name": "stdout",
     "output_type": "stream",
     "text": [
      "Maximum hours per week worked: 99\n",
      "Number of people who work the same amount of hours per week: 78\n"
     ]
    }
   ],
   "source": [
    "max_hours_per_week = df['hours-per-week'].max()\n",
    "print(\"Maximum hours per week worked:\", max_hours_per_week)\n",
    "same_hours_per_week_count = len(df.loc[df['hours-per-week'] == max_hours_per_week])\n",
    "print(\"Number of people who work the same amount of hours per week:\", same_hours_per_week_count)"
   ],
   "metadata": {
    "collapsed": false
   }
  },
  {
   "cell_type": "markdown",
   "source": [
    "# Task 9\n",
    "Analyze the correlation between data in dataset. Understand connected fields in it and print highlight thier connection."
   ],
   "metadata": {
    "collapsed": false
   }
  },
  {
   "cell_type": "code",
   "execution_count": 28,
   "outputs": [
    {
     "data": {
      "text/plain": "                Unnamed: 0       age  hours-per-week  salary K$\nUnnamed: 0        1.000000  0.001286        0.000607  -0.001666\nage               0.001286  1.000000        0.068756   0.201774\nhours-per-week    0.000607  0.068756        1.000000   0.196916\nsalary K$        -0.001666  0.201774        0.196916   1.000000",
      "text/html": "<div>\n<style scoped>\n    .dataframe tbody tr th:only-of-type {\n        vertical-align: middle;\n    }\n\n    .dataframe tbody tr th {\n        vertical-align: top;\n    }\n\n    .dataframe thead th {\n        text-align: right;\n    }\n</style>\n<table border=\"1\" class=\"dataframe\">\n  <thead>\n    <tr style=\"text-align: right;\">\n      <th></th>\n      <th>Unnamed: 0</th>\n      <th>age</th>\n      <th>hours-per-week</th>\n      <th>salary K$</th>\n    </tr>\n  </thead>\n  <tbody>\n    <tr>\n      <th>Unnamed: 0</th>\n      <td>1.000000</td>\n      <td>0.001286</td>\n      <td>0.000607</td>\n      <td>-0.001666</td>\n    </tr>\n    <tr>\n      <th>age</th>\n      <td>0.001286</td>\n      <td>1.000000</td>\n      <td>0.068756</td>\n      <td>0.201774</td>\n    </tr>\n    <tr>\n      <th>hours-per-week</th>\n      <td>0.000607</td>\n      <td>0.068756</td>\n      <td>1.000000</td>\n      <td>0.196916</td>\n    </tr>\n    <tr>\n      <th>salary K$</th>\n      <td>-0.001666</td>\n      <td>0.201774</td>\n      <td>0.196916</td>\n      <td>1.000000</td>\n    </tr>\n  </tbody>\n</table>\n</div>"
     },
     "execution_count": 28,
     "metadata": {},
     "output_type": "execute_result"
    }
   ],
   "source": [
    "df = pd.read_csv(\"../data/adult.csv\")\n",
    "\n",
    "df.corr()"
   ],
   "metadata": {
    "collapsed": false
   }
  }
 ],
 "metadata": {
  "kernelspec": {
   "display_name": "Python 3",
   "language": "python",
   "name": "python3"
  },
  "language_info": {
   "codemirror_mode": {
    "name": "ipython",
    "version": 2
   },
   "file_extension": ".py",
   "mimetype": "text/x-python",
   "name": "python",
   "nbconvert_exporter": "python",
   "pygments_lexer": "ipython2",
   "version": "2.7.6"
  }
 },
 "nbformat": 4,
 "nbformat_minor": 0
}
