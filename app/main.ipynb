{
 "cells": [
  {
   "cell_type": "code",
   "execution_count": 2,
   "outputs": [],
   "source": [
    "import numpy as np\n",
    "import pandas as pd"
   ],
   "metadata": {
    "collapsed": false
   }
  },
  {
   "cell_type": "markdown",
   "source": [
    "# Task 0\n",
    "Read the dataset from csv file & perform data cleaning - remove all rows, which contain `?` in some columns.\n",
    "Also check for data correctness (salary & salary $K)."
   ],
   "metadata": {
    "collapsed": false
   }
  },
  {
   "cell_type": "code",
   "execution_count": 9,
   "outputs": [
    {
     "data": {
      "text/plain": "   Unnamed: 0  age         workclass  education      marital-status  \\\n0           0   39         State-gov  Bachelors       Never-married   \n1           1   50  Self-emp-not-inc  Bachelors  Married-civ-spouse   \n2           2   38           Private    HS-grad            Divorced   \n3           3   53           Private       11th  Married-civ-spouse   \n4           4   28           Private  Bachelors  Married-civ-spouse   \n\n          occupation   relationship   race     sex  hours-per-week  \\\n0       Adm-clerical  Not-in-family  White    Male              40   \n1    Exec-managerial        Husband  White    Male              13   \n2  Handlers-cleaners  Not-in-family  White    Male              40   \n3  Handlers-cleaners        Husband  Black    Male              40   \n4     Prof-specialty           Wife  Black  Female              40   \n\n  native-country salary  salary K$  \n0  United-States  <=50K         39  \n1  United-States  <=50K         35  \n2  United-States  <=50K         27  \n3  United-States  <=50K         43  \n4           Cuba  <=50K         25  ",
      "text/html": "<div>\n<style scoped>\n    .dataframe tbody tr th:only-of-type {\n        vertical-align: middle;\n    }\n\n    .dataframe tbody tr th {\n        vertical-align: top;\n    }\n\n    .dataframe thead th {\n        text-align: right;\n    }\n</style>\n<table border=\"1\" class=\"dataframe\">\n  <thead>\n    <tr style=\"text-align: right;\">\n      <th></th>\n      <th>Unnamed: 0</th>\n      <th>age</th>\n      <th>workclass</th>\n      <th>education</th>\n      <th>marital-status</th>\n      <th>occupation</th>\n      <th>relationship</th>\n      <th>race</th>\n      <th>sex</th>\n      <th>hours-per-week</th>\n      <th>native-country</th>\n      <th>salary</th>\n      <th>salary K$</th>\n    </tr>\n  </thead>\n  <tbody>\n    <tr>\n      <th>0</th>\n      <td>0</td>\n      <td>39</td>\n      <td>State-gov</td>\n      <td>Bachelors</td>\n      <td>Never-married</td>\n      <td>Adm-clerical</td>\n      <td>Not-in-family</td>\n      <td>White</td>\n      <td>Male</td>\n      <td>40</td>\n      <td>United-States</td>\n      <td>&lt;=50K</td>\n      <td>39</td>\n    </tr>\n    <tr>\n      <th>1</th>\n      <td>1</td>\n      <td>50</td>\n      <td>Self-emp-not-inc</td>\n      <td>Bachelors</td>\n      <td>Married-civ-spouse</td>\n      <td>Exec-managerial</td>\n      <td>Husband</td>\n      <td>White</td>\n      <td>Male</td>\n      <td>13</td>\n      <td>United-States</td>\n      <td>&lt;=50K</td>\n      <td>35</td>\n    </tr>\n    <tr>\n      <th>2</th>\n      <td>2</td>\n      <td>38</td>\n      <td>Private</td>\n      <td>HS-grad</td>\n      <td>Divorced</td>\n      <td>Handlers-cleaners</td>\n      <td>Not-in-family</td>\n      <td>White</td>\n      <td>Male</td>\n      <td>40</td>\n      <td>United-States</td>\n      <td>&lt;=50K</td>\n      <td>27</td>\n    </tr>\n    <tr>\n      <th>3</th>\n      <td>3</td>\n      <td>53</td>\n      <td>Private</td>\n      <td>11th</td>\n      <td>Married-civ-spouse</td>\n      <td>Handlers-cleaners</td>\n      <td>Husband</td>\n      <td>Black</td>\n      <td>Male</td>\n      <td>40</td>\n      <td>United-States</td>\n      <td>&lt;=50K</td>\n      <td>43</td>\n    </tr>\n    <tr>\n      <th>4</th>\n      <td>4</td>\n      <td>28</td>\n      <td>Private</td>\n      <td>Bachelors</td>\n      <td>Married-civ-spouse</td>\n      <td>Prof-specialty</td>\n      <td>Wife</td>\n      <td>Black</td>\n      <td>Female</td>\n      <td>40</td>\n      <td>Cuba</td>\n      <td>&lt;=50K</td>\n      <td>25</td>\n    </tr>\n  </tbody>\n</table>\n</div>"
     },
     "execution_count": 9,
     "metadata": {},
     "output_type": "execute_result"
    }
   ],
   "source": [
    "df = pd.read_csv(\"../data/adult.csv\")\n",
    "df.head()"
   ],
   "metadata": {
    "collapsed": false
   }
  },
  {
   "cell_type": "code",
   "execution_count": 12,
   "outputs": [],
   "source": [
    "df = df[~df.applymap(lambda x: \"?\" in str(x)).any(axis=1)]"
   ],
   "metadata": {
    "collapsed": false
   }
  },
  {
   "cell_type": "code",
   "execution_count": 70,
   "outputs": [],
   "source": [
    "df[\"salary_range_check\"] = df.apply(lambda row: (row[\"salary\"] == \"<=50K\" and row[\"salary K$\"] <= 50)\n",
    "                                      or (row[\"salary\"] == \">50K\" and row[\"salary K$\"] > 50), axis=1)\n",
    "df = df[df[\"salary_range_check\"] == True]"
   ],
   "metadata": {
    "collapsed": false
   }
  },
  {
   "cell_type": "markdown",
   "source": [
    "# Task 1\n",
    "Print the count of men and women in the dataset."
   ],
   "metadata": {
    "collapsed": false
   }
  },
  {
   "cell_type": "code",
   "execution_count": 71,
   "outputs": [
    {
     "name": "stdout",
     "output_type": "stream",
     "text": [
      "Male      20380\n",
      "Female     9782\n",
      "Name: sex, dtype: int64\n"
     ]
    }
   ],
   "source": [
    "gender_count = df[\"sex\"].value_counts()\n",
    "print(gender_count)"
   ],
   "metadata": {
    "collapsed": false
   }
  },
  {
   "cell_type": "markdown",
   "source": [
    "# Task 2\n",
    "Find the average age of men in dataset"
   ],
   "metadata": {
    "collapsed": false
   }
  },
  {
   "cell_type": "code",
   "execution_count": 20,
   "outputs": [
    {
     "name": "stdout",
     "output_type": "stream",
     "text": [
      "Average age of men: 39\n"
     ]
    }
   ],
   "source": [
    "average_age_of_men = df[df[\"sex\"] == \"Male\"][\"age\"].mean()\n",
    "print(\"Average age of men:\", round(average_age_of_men))"
   ],
   "metadata": {
    "collapsed": false
   }
  },
  {
   "cell_type": "markdown",
   "source": [
    "# Task 3\n",
    "Get the percentage of people from Poland (native-country)"
   ],
   "metadata": {
    "collapsed": false
   }
  },
  {
   "cell_type": "code",
   "execution_count": 31,
   "outputs": [
    {
     "name": "stdout",
     "output_type": "stream",
     "text": [
      "The percentage of people from Poland: 0.19 %\n"
     ]
    }
   ],
   "source": [
    "people_from_poland = len(df[df[\"native-country\"] == \"Poland\"]) / len(df) * 100\n",
    "print(\"The percentage of people from Poland:\", round(people_from_poland, 2), \"%\")"
   ],
   "metadata": {
    "collapsed": false
   }
  },
  {
   "cell_type": "markdown",
   "source": [
    "# Task 4\n",
    "Get the mean and standard deviation of the age for people who earn > 50K per year. After this, get it for those who earn <= 50K."
   ],
   "metadata": {
    "collapsed": false
   }
  },
  {
   "cell_type": "code",
   "execution_count": 38,
   "outputs": [
    {
     "name": "stdout",
     "output_type": "stream",
     "text": [
      "Average age for people who earn > 50K per year: 44\n",
      "Standard deviation of the age for people who earn > 50K per year: 10\n"
     ]
    }
   ],
   "source": [
    "average_age_of_people_more_than_50k = df[df[\"salary\"] == \">50K\"][\"age\"].mean()\n",
    "std_age_of_people_more_than_50k = df[df[\"salary\"] == \">50K\"][\"age\"].std()\n",
    "print(\"Average age for people who earn > 50K per year:\", round(average_age_of_people_more_than_50k))\n",
    "print(\"Standard deviation of the age for people who earn > 50K per year:\", round(std_age_of_people_more_than_50k))"
   ],
   "metadata": {
    "collapsed": false
   }
  },
  {
   "cell_type": "code",
   "execution_count": 39,
   "outputs": [
    {
     "name": "stdout",
     "output_type": "stream",
     "text": [
      "Average age for people who earn <= 50K per year: 37\n",
      "Standard deviation of the age for people who earn <= 50K per year: 13\n"
     ]
    }
   ],
   "source": [
    "average_age_of_people_more_than_50k = df[df[\"salary\"] == \"<=50K\"][\"age\"].mean()\n",
    "std_age_of_people_more_than_50k = df[df[\"salary\"] == \"<=50K\"][\"age\"].std()\n",
    "print(\"Average age for people who earn <= 50K per year:\", round(average_age_of_people_more_than_50k))\n",
    "print(\"Standard deviation of the age for people who earn <= 50K per year:\", round(std_age_of_people_more_than_50k))"
   ],
   "metadata": {
    "collapsed": false
   }
  },
  {
   "cell_type": "markdown",
   "source": [
    "# Task 5\n",
    "Check, if there are some people without higher education (education: Bachelors, Prof-school, Assoc-acdm, Assoc-voc, Masters, Doctorate), but with > 50K salary"
   ],
   "metadata": {
    "collapsed": false
   }
  },
  {
   "cell_type": "code",
   "execution_count": 43,
   "outputs": [
    {
     "name": "stdout",
     "output_type": "stream",
     "text": [
      "People without higher education and >50K salary: 3178\n"
     ]
    }
   ],
   "source": [
    "higher_education = [\"Bachelors\", \"Prof-school\", \"Assoc-acdm\", \"Assoc-voc\", \"Masters\", \"Doctorate\"]\n",
    "\n",
    "condition = (df[\"education\"].isin(higher_education) == False) & (df[\"salary\"] == \">50K\")\n",
    "people_without_higher_edu_and_high_salary = len(df[condition])\n",
    "\n",
    "print(\"People without higher education and >50K salary:\", people_without_higher_edu_and_high_salary)"
   ],
   "metadata": {
    "collapsed": false
   }
  },
  {
   "cell_type": "markdown",
   "source": [
    "# Task 6\n",
    "Get the statistics of age for each type of education. Use `groupby` and `describe` for this."
   ],
   "metadata": {
    "collapsed": false
   }
  },
  {
   "cell_type": "code",
   "execution_count": 44,
   "outputs": [
    {
     "name": "stdout",
     "output_type": "stream",
     "text": [
      "Statistics of age for each type of education:\n",
      "               count       mean        std   min   25%   50%   75%   max\n",
      "education                                                               \n",
      "10th           820.0  37.897561  16.225795  17.0  23.0  36.0  52.0  90.0\n",
      "11th          1048.0  32.363550  15.089307  17.0  18.0  28.5  43.0  90.0\n",
      "12th           377.0  32.013263  14.373710  17.0  19.0  28.0  41.0  79.0\n",
      "1st-4th        151.0  44.622517  14.929051  19.0  33.0  44.0  56.0  81.0\n",
      "5th-6th        288.0  41.649306  14.754622  17.0  28.0  41.0  53.0  82.0\n",
      "7th-8th        557.0  47.631957  15.737479  17.0  34.0  49.0  60.0  90.0\n",
      "9th            455.0  40.303297  15.335754  17.0  28.0  38.0  53.0  90.0\n",
      "Assoc-acdm    1008.0  37.286706  10.509755  19.0  29.0  36.0  44.0  90.0\n",
      "Assoc-voc     1307.0  38.246366  11.181253  19.0  30.0  37.0  45.0  84.0\n",
      "Bachelors     5044.0  38.641554  11.577566  19.0  29.0  37.0  46.0  90.0\n",
      "Doctorate      375.0  47.130667  11.471727  24.0  39.0  47.0  54.0  80.0\n",
      "HS-grad       9840.0  38.640955  13.067730  17.0  28.0  37.0  48.0  90.0\n",
      "Masters       1627.0  43.740012  10.735356  18.0  36.0  43.0  50.0  90.0\n",
      "Preschool       45.0  41.288889  15.175672  19.0  30.0  40.0  53.0  75.0\n",
      "Prof-school    542.0  44.249077  11.428098  25.0  36.0  43.0  50.0  90.0\n",
      "Some-college  6678.0  36.135370  13.073528  17.0  25.0  35.0  45.0  90.0\n"
     ]
    }
   ],
   "source": [
    "education_age_stats = df.groupby(\"education\")[\"age\"].describe()\n",
    "\n",
    "print(\"Statistics of age for each type of education:\")\n",
    "print(education_age_stats)"
   ],
   "metadata": {
    "collapsed": false
   }
  },
  {
   "cell_type": "markdown",
   "source": [
    "# Task 7\n",
    "Compare the married and non-married men salaries. Who earns more? (>50K or <=50K)\n",
    "Married men are those, whom `marital-status` starts with \"Married\". Others are not."
   ],
   "metadata": {
    "collapsed": false
   }
  },
  {
   "cell_type": "code",
   "execution_count": 48,
   "outputs": [
    {
     "name": "stdout",
     "output_type": "stream",
     "text": [
      "Married men who earn >50K: 44.80%\n",
      "Non married men who earn >50K: 8.85%\n",
      "Married men earn more\n"
     ]
    }
   ],
   "source": [
    "married_men = df[(df[\"sex\"] == \"Male\") & (df[\"marital-status\"].str.startswith(\"Married\"))]\n",
    "non_married_men = df[(df[\"sex\"] == \"Male\") & (~df[\"marital-status\"].str.startswith(\"Married\"))]\n",
    "\n",
    "married_high_salary_percentage = (married_men[\"salary\"] == \">50K\").mean() * 100\n",
    "non_married_high_salary_percentage = (non_married_men[\"salary\"] == \">50K\").mean() * 100\n",
    "\n",
    "print(\"Married men who earn >50K: {:.2f}%\".format(married_high_salary_percentage))\n",
    "print(\"Non married men who earn >50K: {:.2f}%\".format(non_married_high_salary_percentage))\n",
    "if married_high_salary_percentage > non_married_high_salary_percentage:\n",
    "    print(\"Married men earn more\")\n",
    "else:\n",
    "    print(\"Non-married men earn more\")"
   ],
   "metadata": {
    "collapsed": false
   }
  },
  {
   "cell_type": "markdown",
   "source": [
    "# Task 8\n",
    "Get the max hours per week some person works. How many people works the same amount of hours per week?"
   ],
   "metadata": {
    "collapsed": false
   }
  },
  {
   "cell_type": "code",
   "execution_count": 51,
   "outputs": [
    {
     "name": "stdout",
     "output_type": "stream",
     "text": [
      "Max hours per week some person works: 99\n"
     ]
    }
   ],
   "source": [
    "max_hours_per_week = df[\"hours-per-week\"].max()\n",
    "print(\"Max hours per week some person works:\", max_hours_per_week)"
   ],
   "metadata": {
    "collapsed": false
   }
  },
  {
   "cell_type": "code",
   "execution_count": 55,
   "outputs": [
    {
     "name": "stdout",
     "output_type": "stream",
     "text": [
      "40    14251\n",
      "50     2718\n",
      "45     1753\n",
      "60     1405\n",
      "35     1184\n",
      "      ...  \n",
      "88        2\n",
      "97        2\n",
      "89        2\n",
      "73        2\n",
      "95        2\n",
      "Name: hours-per-week, Length: 89, dtype: int64\n"
     ]
    }
   ],
   "source": [
    "same_hours_count = df[\"hours-per-week\"].value_counts()\n",
    "filtered_same_hours_count = same_hours_count[same_hours_count > 1]\n",
    "\n",
    "print(filtered_same_hours_count)"
   ],
   "metadata": {
    "collapsed": false
   }
  },
  {
   "cell_type": "markdown",
   "source": [
    "# Task 9\n",
    "Analyze the correlation between data in dataset. Understand connected fields in it and print highlight thier connection."
   ],
   "metadata": {
    "collapsed": false
   }
  },
  {
   "cell_type": "code",
   "execution_count": 58,
   "outputs": [
    {
     "name": "stdout",
     "output_type": "stream",
     "text": [
      "                     age  hours-per-week  salary K$\n",
      "age             1.000000        0.101599   0.208203\n",
      "hours-per-week  0.101599        1.000000   0.196378\n",
      "salary K$       0.208203        0.196378   1.000000\n"
     ]
    }
   ],
   "source": [
    "numeric_columns = df.select_dtypes(include=[np.number]).drop(columns=[\"Unnamed: 0\"])\n",
    "correlation_matrix = numeric_columns.corr()\n",
    "print(correlation_matrix)"
   ],
   "metadata": {
    "collapsed": false
   }
  },
  {
   "cell_type": "code",
   "execution_count": 59,
   "outputs": [
    {
     "name": "stdout",
     "output_type": "stream",
     "text": [
      "The correlation coefficient between age and salary K$ is approximately 0.208. This suggests a weak positive correlation between age and salary. As age increases, there is a tendency for salary to increase as well, although the correlation is not very strong.\n",
      "The correlation coefficient between hours-per-week and salary K$ is approximately 0.196. This indicates a weak positive correlation between the number of hours worked per week and salary. People who work more hours per week tend to have slightly higher salaries, although the correlation is not very strong\n",
      "The correlation coefficient between age and hours-per-week is approximately 0.102. This indicates a very weak positive correlation between age and the number of hours worked per week. There is not a strong relationship between age and the number of hours worked\n"
     ]
    }
   ],
   "source": [
    "print(\"The correlation coefficient between age and salary K$ is approximately 0.208. This suggests a weak positive correlation between age and salary. As age increases, there is a tendency for salary to increase as well, although the correlation is not very strong.\")\n",
    "print(\"The correlation coefficient between hours-per-week and salary K$ is approximately 0.196. This indicates a weak positive correlation between the number of hours worked per week and salary. People who work more hours per week tend to have slightly higher salaries, although the correlation is not very strong\")\n",
    "print(\"The correlation coefficient between age and hours-per-week is approximately 0.102. This indicates a very weak positive correlation between age and the number of hours worked per week. There is not a strong relationship between age and the number of hours worked\")"
   ],
   "metadata": {
    "collapsed": false
   }
  },
  {
   "cell_type": "code",
   "execution_count": 66,
   "outputs": [
    {
     "name": "stdout",
     "output_type": "stream",
     "text": [
      "                           age  hours-per-week  salary K$   is_male  \\\n",
      "age                   1.000000        0.101599   0.208203  0.081993   \n",
      "hours-per-week        0.101599        1.000000   0.196378  0.231268   \n",
      "salary K$             0.208203        0.196378   1.000000  0.182642   \n",
      "is_male               0.081993        0.231268   0.182642  1.000000   \n",
      "is_married            0.310553        0.221492   0.375202  0.426348   \n",
      "has_higher_education  0.078760        0.138793   0.254759  0.024537   \n",
      "\n",
      "                      is_married  has_higher_education  \n",
      "age                     0.310553              0.078760  \n",
      "hours-per-week          0.221492              0.138793  \n",
      "salary K$               0.375202              0.254759  \n",
      "is_male                 0.426348              0.024537  \n",
      "is_married              1.000000              0.091111  \n",
      "has_higher_education    0.091111              1.000000  \n"
     ]
    }
   ],
   "source": [
    "numeric_columns[\"is_male\"] = np.where(df[\"sex\"] == \"Male\", True, False)\n",
    "numeric_columns[\"is_married\"] = np.where(df[\"marital-status\"].str.startswith(\"Married\"), True, False)\n",
    "\n",
    "higher_education = [\"Bachelors\", \"Prof-school\", \"Assoc-acdm\", \"Assoc-voc\", \"Masters\", \"Doctorate\"]\n",
    "numeric_columns[\"has_higher_education\"] = np.where(df[\"education\"].isin(higher_education), True, False)\n",
    "\n",
    "correlation_matrix = numeric_columns.corr()\n",
    "print(correlation_matrix)"
   ],
   "metadata": {
    "collapsed": false
   }
  },
  {
   "cell_type": "code",
   "execution_count": 67,
   "outputs": [
    {
     "name": "stdout",
     "output_type": "stream",
     "text": [
      "In addition, there exist a slight correlation between the income and marital status of the person - if person is married the higher salary he/she might have.\n",
      "There is also a tendency that mostly men are married and men might work more hours per week.\n"
     ]
    }
   ],
   "source": [
    "print(\"In addition, there exist a slight correlation between the income and marital status of the person - if person is married the higher salary he/she might have.\")\n",
    "print(\"There is also a tendency that mostly men are married and men might work more hours per week.\")"
   ],
   "metadata": {
    "collapsed": false
   }
  }
 ],
 "metadata": {
  "kernelspec": {
   "display_name": "Python 3",
   "language": "python",
   "name": "python3"
  },
  "language_info": {
   "codemirror_mode": {
    "name": "ipython",
    "version": 2
   },
   "file_extension": ".py",
   "mimetype": "text/x-python",
   "name": "python",
   "nbconvert_exporter": "python",
   "pygments_lexer": "ipython2",
   "version": "2.7.6"
  }
 },
 "nbformat": 4,
 "nbformat_minor": 0
}
