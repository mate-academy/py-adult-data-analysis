{
 "cells": [
  {
   "cell_type": "code",
   "execution_count": 34,
   "outputs": [],
   "source": [
    "import numpy as np\n",
    "import pandas as pd\n",
    "from os import path\n",
    "import seaborn as sb\n",
    "import matplotlib"
   ],
   "metadata": {
    "collapsed": false,
    "ExecuteTime": {
     "start_time": "2023-05-10T12:36:38.644371Z",
     "end_time": "2023-05-10T12:36:38.653705Z"
    }
   }
  },
  {
   "cell_type": "markdown",
   "source": [
    "# Task 0\n",
    "Read the dataset from csv file & perform data cleaning - remove all rows, which contains `?` in some columns.\n",
    "Also check for data correctness (salary & salary $K)."
   ],
   "metadata": {
    "collapsed": false
   }
  },
  {
   "cell_type": "code",
   "execution_count": 4,
   "outputs": [],
   "source": [
    "df = pd.read_csv(path.join(\"..\", \"data\", \"adult.csv\"), index_col=[0])\n",
    "df = df.loc[~(df == '?').any(axis=1)]"
   ],
   "metadata": {
    "collapsed": false,
    "ExecuteTime": {
     "start_time": "2023-05-10T12:15:57.584703Z",
     "end_time": "2023-05-10T12:15:57.676134Z"
    }
   }
  },
  {
   "cell_type": "code",
   "execution_count": 21,
   "outputs": [
    {
     "data": {
      "text/plain": "Empty DataFrame\nColumns: [age, workclass, education, marital-status, occupation, relationship, race, sex, hours-per-week, native-country, salary, salary K$]\nIndex: []",
      "text/html": "<div>\n<style scoped>\n    .dataframe tbody tr th:only-of-type {\n        vertical-align: middle;\n    }\n\n    .dataframe tbody tr th {\n        vertical-align: top;\n    }\n\n    .dataframe thead th {\n        text-align: right;\n    }\n</style>\n<table border=\"1\" class=\"dataframe\">\n  <thead>\n    <tr style=\"text-align: right;\">\n      <th></th>\n      <th>age</th>\n      <th>workclass</th>\n      <th>education</th>\n      <th>marital-status</th>\n      <th>occupation</th>\n      <th>relationship</th>\n      <th>race</th>\n      <th>sex</th>\n      <th>hours-per-week</th>\n      <th>native-country</th>\n      <th>salary</th>\n      <th>salary K$</th>\n    </tr>\n  </thead>\n  <tbody>\n  </tbody>\n</table>\n</div>"
     },
     "execution_count": 21,
     "metadata": {},
     "output_type": "execute_result"
    }
   ],
   "source": [
    "df.loc[(df[\"salary\"] == \"<=50K\") & (df[\"salary K$\"] > 50)]"
   ],
   "metadata": {
    "collapsed": false,
    "ExecuteTime": {
     "start_time": "2023-05-09T21:35:00.088417Z",
     "end_time": "2023-05-09T21:35:00.093200Z"
    }
   }
  },
  {
   "cell_type": "code",
   "execution_count": 22,
   "outputs": [
    {
     "data": {
      "text/plain": "       age         workclass     education         marital-status   \n1481    58           Private     Assoc-voc     Married-civ-spouse  \\\n2950    27           Private     Bachelors     Married-civ-spouse   \n7995    38           Private   Prof-school              Separated   \n8880    36           Private     Bachelors     Married-civ-spouse   \n12165   39  Self-emp-not-inc  Some-college          Never-married   \n12814   40           Private     Bachelors     Married-civ-spouse   \n13220   40           Private  Some-college     Married-civ-spouse   \n14346   46         Local-gov       Masters               Divorced   \n16025   38  Self-emp-not-inc     Bachelors     Married-civ-spouse   \n16502   34           Private     Doctorate     Married-civ-spouse   \n18463   74           Private   Prof-school     Married-civ-spouse   \n19005   45           Private     Bachelors          Never-married   \n21517   31           Private     Bachelors     Married-civ-spouse   \n22738   25           Private     Bachelors     Married-civ-spouse   \n24709   48           Private       HS-grad     Married-civ-spouse   \n26677   60           Private  Some-college  Married-spouse-absent   \n27644   56         Local-gov       Masters     Married-civ-spouse   \n27757   46  Self-emp-not-inc   Prof-school     Married-civ-spouse   \n28562   31           Private     Bachelors     Married-civ-spouse   \n29011   34         Local-gov     Bachelors     Married-civ-spouse   \n\n              occupation   relationship                race     sex   \n1481        Craft-repair        Husband               White    Male  \\\n2950      Prof-specialty        Husband               White    Male   \n7995      Prof-specialty  Not-in-family               White    Male   \n8880               Sales        Husband               White    Male   \n12165     Prof-specialty  Not-in-family               White    Male   \n12814       Tech-support        Husband               White    Male   \n13220              Sales        Husband               White    Male   \n14346    Exec-managerial      Unmarried               White  Female   \n16025    Exec-managerial        Husband  Asian-Pac-Islander    Male   \n16502     Prof-specialty        Husband               White    Male   \n18463     Prof-specialty        Husband               White    Male   \n19005     Prof-specialty  Not-in-family               White  Female   \n21517       Tech-support        Husband               White    Male   \n22738    Exec-managerial        Husband               White    Male   \n24709  Machine-op-inspct        Husband               White    Male   \n26677  Machine-op-inspct  Not-in-family               White    Male   \n27644    Exec-managerial        Husband               Black    Male   \n27757     Prof-specialty        Husband               White    Male   \n28562              Sales        Husband               White    Male   \n29011     Prof-specialty        Husband               White    Male   \n\n       hours-per-week native-country salary  salary K$  \n1481               40  United-States   >50K         51  \n2950               42  United-States   >50K         51  \n7995               35  United-States   >50K         51  \n8880               40  United-States   >50K         51  \n12165              12  United-States   >50K         51  \n12814              40  United-States   >50K         51  \n13220              40  United-States   >50K         51  \n14346              65  United-States   >50K         51  \n16025              65  United-States   >50K         51  \n16502              50  United-States   >50K         51  \n18463              50  United-States   >50K         51  \n19005              40  United-States   >50K         51  \n21517              43  United-States   >50K         51  \n22738              40  United-States   >50K         51  \n24709              46  United-States   >50K         51  \n26677              50  United-States   >50K         51  \n27644              40  United-States   >50K         51  \n27757              45  United-States   >50K         51  \n28562              55  United-States   >50K         51  \n29011              45         Mexico   >50K         51  ",
      "text/html": "<div>\n<style scoped>\n    .dataframe tbody tr th:only-of-type {\n        vertical-align: middle;\n    }\n\n    .dataframe tbody tr th {\n        vertical-align: top;\n    }\n\n    .dataframe thead th {\n        text-align: right;\n    }\n</style>\n<table border=\"1\" class=\"dataframe\">\n  <thead>\n    <tr style=\"text-align: right;\">\n      <th></th>\n      <th>age</th>\n      <th>workclass</th>\n      <th>education</th>\n      <th>marital-status</th>\n      <th>occupation</th>\n      <th>relationship</th>\n      <th>race</th>\n      <th>sex</th>\n      <th>hours-per-week</th>\n      <th>native-country</th>\n      <th>salary</th>\n      <th>salary K$</th>\n    </tr>\n  </thead>\n  <tbody>\n    <tr>\n      <th>1481</th>\n      <td>58</td>\n      <td>Private</td>\n      <td>Assoc-voc</td>\n      <td>Married-civ-spouse</td>\n      <td>Craft-repair</td>\n      <td>Husband</td>\n      <td>White</td>\n      <td>Male</td>\n      <td>40</td>\n      <td>United-States</td>\n      <td>&gt;50K</td>\n      <td>51</td>\n    </tr>\n    <tr>\n      <th>2950</th>\n      <td>27</td>\n      <td>Private</td>\n      <td>Bachelors</td>\n      <td>Married-civ-spouse</td>\n      <td>Prof-specialty</td>\n      <td>Husband</td>\n      <td>White</td>\n      <td>Male</td>\n      <td>42</td>\n      <td>United-States</td>\n      <td>&gt;50K</td>\n      <td>51</td>\n    </tr>\n    <tr>\n      <th>7995</th>\n      <td>38</td>\n      <td>Private</td>\n      <td>Prof-school</td>\n      <td>Separated</td>\n      <td>Prof-specialty</td>\n      <td>Not-in-family</td>\n      <td>White</td>\n      <td>Male</td>\n      <td>35</td>\n      <td>United-States</td>\n      <td>&gt;50K</td>\n      <td>51</td>\n    </tr>\n    <tr>\n      <th>8880</th>\n      <td>36</td>\n      <td>Private</td>\n      <td>Bachelors</td>\n      <td>Married-civ-spouse</td>\n      <td>Sales</td>\n      <td>Husband</td>\n      <td>White</td>\n      <td>Male</td>\n      <td>40</td>\n      <td>United-States</td>\n      <td>&gt;50K</td>\n      <td>51</td>\n    </tr>\n    <tr>\n      <th>12165</th>\n      <td>39</td>\n      <td>Self-emp-not-inc</td>\n      <td>Some-college</td>\n      <td>Never-married</td>\n      <td>Prof-specialty</td>\n      <td>Not-in-family</td>\n      <td>White</td>\n      <td>Male</td>\n      <td>12</td>\n      <td>United-States</td>\n      <td>&gt;50K</td>\n      <td>51</td>\n    </tr>\n    <tr>\n      <th>12814</th>\n      <td>40</td>\n      <td>Private</td>\n      <td>Bachelors</td>\n      <td>Married-civ-spouse</td>\n      <td>Tech-support</td>\n      <td>Husband</td>\n      <td>White</td>\n      <td>Male</td>\n      <td>40</td>\n      <td>United-States</td>\n      <td>&gt;50K</td>\n      <td>51</td>\n    </tr>\n    <tr>\n      <th>13220</th>\n      <td>40</td>\n      <td>Private</td>\n      <td>Some-college</td>\n      <td>Married-civ-spouse</td>\n      <td>Sales</td>\n      <td>Husband</td>\n      <td>White</td>\n      <td>Male</td>\n      <td>40</td>\n      <td>United-States</td>\n      <td>&gt;50K</td>\n      <td>51</td>\n    </tr>\n    <tr>\n      <th>14346</th>\n      <td>46</td>\n      <td>Local-gov</td>\n      <td>Masters</td>\n      <td>Divorced</td>\n      <td>Exec-managerial</td>\n      <td>Unmarried</td>\n      <td>White</td>\n      <td>Female</td>\n      <td>65</td>\n      <td>United-States</td>\n      <td>&gt;50K</td>\n      <td>51</td>\n    </tr>\n    <tr>\n      <th>16025</th>\n      <td>38</td>\n      <td>Self-emp-not-inc</td>\n      <td>Bachelors</td>\n      <td>Married-civ-spouse</td>\n      <td>Exec-managerial</td>\n      <td>Husband</td>\n      <td>Asian-Pac-Islander</td>\n      <td>Male</td>\n      <td>65</td>\n      <td>United-States</td>\n      <td>&gt;50K</td>\n      <td>51</td>\n    </tr>\n    <tr>\n      <th>16502</th>\n      <td>34</td>\n      <td>Private</td>\n      <td>Doctorate</td>\n      <td>Married-civ-spouse</td>\n      <td>Prof-specialty</td>\n      <td>Husband</td>\n      <td>White</td>\n      <td>Male</td>\n      <td>50</td>\n      <td>United-States</td>\n      <td>&gt;50K</td>\n      <td>51</td>\n    </tr>\n    <tr>\n      <th>18463</th>\n      <td>74</td>\n      <td>Private</td>\n      <td>Prof-school</td>\n      <td>Married-civ-spouse</td>\n      <td>Prof-specialty</td>\n      <td>Husband</td>\n      <td>White</td>\n      <td>Male</td>\n      <td>50</td>\n      <td>United-States</td>\n      <td>&gt;50K</td>\n      <td>51</td>\n    </tr>\n    <tr>\n      <th>19005</th>\n      <td>45</td>\n      <td>Private</td>\n      <td>Bachelors</td>\n      <td>Never-married</td>\n      <td>Prof-specialty</td>\n      <td>Not-in-family</td>\n      <td>White</td>\n      <td>Female</td>\n      <td>40</td>\n      <td>United-States</td>\n      <td>&gt;50K</td>\n      <td>51</td>\n    </tr>\n    <tr>\n      <th>21517</th>\n      <td>31</td>\n      <td>Private</td>\n      <td>Bachelors</td>\n      <td>Married-civ-spouse</td>\n      <td>Tech-support</td>\n      <td>Husband</td>\n      <td>White</td>\n      <td>Male</td>\n      <td>43</td>\n      <td>United-States</td>\n      <td>&gt;50K</td>\n      <td>51</td>\n    </tr>\n    <tr>\n      <th>22738</th>\n      <td>25</td>\n      <td>Private</td>\n      <td>Bachelors</td>\n      <td>Married-civ-spouse</td>\n      <td>Exec-managerial</td>\n      <td>Husband</td>\n      <td>White</td>\n      <td>Male</td>\n      <td>40</td>\n      <td>United-States</td>\n      <td>&gt;50K</td>\n      <td>51</td>\n    </tr>\n    <tr>\n      <th>24709</th>\n      <td>48</td>\n      <td>Private</td>\n      <td>HS-grad</td>\n      <td>Married-civ-spouse</td>\n      <td>Machine-op-inspct</td>\n      <td>Husband</td>\n      <td>White</td>\n      <td>Male</td>\n      <td>46</td>\n      <td>United-States</td>\n      <td>&gt;50K</td>\n      <td>51</td>\n    </tr>\n    <tr>\n      <th>26677</th>\n      <td>60</td>\n      <td>Private</td>\n      <td>Some-college</td>\n      <td>Married-spouse-absent</td>\n      <td>Machine-op-inspct</td>\n      <td>Not-in-family</td>\n      <td>White</td>\n      <td>Male</td>\n      <td>50</td>\n      <td>United-States</td>\n      <td>&gt;50K</td>\n      <td>51</td>\n    </tr>\n    <tr>\n      <th>27644</th>\n      <td>56</td>\n      <td>Local-gov</td>\n      <td>Masters</td>\n      <td>Married-civ-spouse</td>\n      <td>Exec-managerial</td>\n      <td>Husband</td>\n      <td>Black</td>\n      <td>Male</td>\n      <td>40</td>\n      <td>United-States</td>\n      <td>&gt;50K</td>\n      <td>51</td>\n    </tr>\n    <tr>\n      <th>27757</th>\n      <td>46</td>\n      <td>Self-emp-not-inc</td>\n      <td>Prof-school</td>\n      <td>Married-civ-spouse</td>\n      <td>Prof-specialty</td>\n      <td>Husband</td>\n      <td>White</td>\n      <td>Male</td>\n      <td>45</td>\n      <td>United-States</td>\n      <td>&gt;50K</td>\n      <td>51</td>\n    </tr>\n    <tr>\n      <th>28562</th>\n      <td>31</td>\n      <td>Private</td>\n      <td>Bachelors</td>\n      <td>Married-civ-spouse</td>\n      <td>Sales</td>\n      <td>Husband</td>\n      <td>White</td>\n      <td>Male</td>\n      <td>55</td>\n      <td>United-States</td>\n      <td>&gt;50K</td>\n      <td>51</td>\n    </tr>\n    <tr>\n      <th>29011</th>\n      <td>34</td>\n      <td>Local-gov</td>\n      <td>Bachelors</td>\n      <td>Married-civ-spouse</td>\n      <td>Prof-specialty</td>\n      <td>Husband</td>\n      <td>White</td>\n      <td>Male</td>\n      <td>45</td>\n      <td>Mexico</td>\n      <td>&gt;50K</td>\n      <td>51</td>\n    </tr>\n  </tbody>\n</table>\n</div>"
     },
     "execution_count": 22,
     "metadata": {},
     "output_type": "execute_result"
    }
   ],
   "source": [
    "df.loc[(df[\"salary\"] == \">50K\") & (df[\"salary K$\"] <= 51)]"
   ],
   "metadata": {
    "collapsed": false,
    "ExecuteTime": {
     "start_time": "2023-05-09T21:35:01.680943Z",
     "end_time": "2023-05-09T21:35:01.691741Z"
    }
   }
  },
  {
   "cell_type": "markdown",
   "source": [
    "# Task 1\n",
    "Print the count of men and women in the dataset."
   ],
   "metadata": {
    "collapsed": false,
    "ExecuteTime": {
     "start_time": "2023-05-09T20:20:32.704259Z",
     "end_time": "2023-05-09T20:20:32.707850Z"
    }
   },
   "outputs": [],
   "execution_count": null
  },
  {
   "cell_type": "code",
   "execution_count": 25,
   "outputs": [
    {
     "name": "stdout",
     "output_type": "stream",
     "text": [
      "Female: 9782 Male: 20380\n"
     ]
    }
   ],
   "source": [
    "female_count = df[\"sex\"].value_counts()[\"Female\"]\n",
    "male_count = df[\"sex\"].value_counts()[\"Male\"]\n",
    "print(\"Female:\", female_count, \"Male:\", male_count)"
   ],
   "metadata": {
    "collapsed": false,
    "ExecuteTime": {
     "start_time": "2023-05-09T21:39:25.514970Z",
     "end_time": "2023-05-09T21:39:25.520795Z"
    }
   }
  },
  {
   "cell_type": "markdown",
   "source": [
    "# Task 2\n",
    "Find the average age of men in dataset"
   ],
   "metadata": {
    "collapsed": false,
    "ExecuteTime": {
     "start_time": "2023-05-09T20:34:48.054749Z",
     "end_time": "2023-05-09T20:34:48.058385Z"
    }
   },
   "outputs": [],
   "execution_count": null
  },
  {
   "cell_type": "code",
   "execution_count": 26,
   "outputs": [
    {
     "data": {
      "text/plain": "39.18400392541707"
     },
     "execution_count": 26,
     "metadata": {},
     "output_type": "execute_result"
    }
   ],
   "source": [
    "df.loc[df[\"sex\"] == \"Male\", \"age\"].mean()"
   ],
   "metadata": {
    "collapsed": false,
    "ExecuteTime": {
     "start_time": "2023-05-09T21:40:29.632817Z",
     "end_time": "2023-05-09T21:40:29.638148Z"
    }
   }
  },
  {
   "cell_type": "markdown",
   "source": [
    "# Task 3\n",
    "Get the percentage of people from Poland (native-country)"
   ],
   "metadata": {
    "collapsed": false,
    "ExecuteTime": {
     "start_time": "2023-05-09T20:38:41.523790Z",
     "end_time": "2023-05-09T20:38:41.527571Z"
    }
   },
   "outputs": [
    {
     "data": {
      "text/plain": "9782"
     },
     "execution_count": 67,
     "metadata": {},
     "output_type": "execute_result"
    }
   ],
   "execution_count": 67
  },
  {
   "cell_type": "code",
   "execution_count": 40,
   "outputs": [
    {
     "data": {
      "text/plain": "0.18566408063125786"
     },
     "execution_count": 40,
     "metadata": {},
     "output_type": "execute_result"
    }
   ],
   "source": [
    "(df[\"native-country\"].value_counts()[\"Poland\"] / df.shape[0]) * 100"
   ],
   "metadata": {
    "collapsed": false,
    "ExecuteTime": {
     "start_time": "2023-05-09T21:54:11.578874Z",
     "end_time": "2023-05-09T21:54:11.582552Z"
    }
   }
  },
  {
   "cell_type": "markdown",
   "source": [
    "# Task 4\n",
    "Get the mean and standard deviation of the age for people who earn > 50K per year. After this, get it for those who earn <= 50K."
   ],
   "metadata": {
    "collapsed": false,
    "ExecuteTime": {
     "start_time": "2023-05-09T20:39:23.339035Z",
     "end_time": "2023-05-09T20:39:23.377223Z"
    }
   },
   "outputs": [
    {
     "name": "stdout",
     "output_type": "stream",
     "text": [
      "<class 'pandas.core.frame.DataFrame'>\n",
      "Index: 30162 entries, 0 to 32560\n",
      "Data columns (total 12 columns):\n",
      " #   Column          Non-Null Count  Dtype \n",
      "---  ------          --------------  ----- \n",
      " 0   age             30162 non-null  int64 \n",
      " 1   workclass       30162 non-null  object\n",
      " 2   education       30162 non-null  object\n",
      " 3   marital-status  30162 non-null  object\n",
      " 4   occupation      30162 non-null  object\n",
      " 5   relationship    30162 non-null  object\n",
      " 6   race            30162 non-null  object\n",
      " 7   sex             30162 non-null  object\n",
      " 8   hours-per-week  30162 non-null  int64 \n",
      " 9   native-country  30162 non-null  object\n",
      " 10  salary          30162 non-null  object\n",
      " 11  salary K$       30162 non-null  int64 \n",
      "dtypes: int64(3), object(9)\n",
      "memory usage: 3.0+ MB\n"
     ]
    }
   ],
   "execution_count": 69
  },
  {
   "cell_type": "code",
   "execution_count": 41,
   "outputs": [
    {
     "data": {
      "text/plain": "43.95911028236548"
     },
     "execution_count": 41,
     "metadata": {},
     "output_type": "execute_result"
    }
   ],
   "source": [
    "df.loc[df[\"salary\"] == \">50K\", \"age\"].mean()"
   ],
   "metadata": {
    "collapsed": false,
    "ExecuteTime": {
     "start_time": "2023-05-09T21:55:16.048416Z",
     "end_time": "2023-05-09T21:55:16.056669Z"
    }
   }
  },
  {
   "cell_type": "code",
   "execution_count": 42,
   "outputs": [
    {
     "data": {
      "text/plain": "10.269632835673852"
     },
     "execution_count": 42,
     "metadata": {},
     "output_type": "execute_result"
    }
   ],
   "source": [
    "df.loc[df[\"salary\"] == \">50K\", \"age\"].std()"
   ],
   "metadata": {
    "collapsed": false,
    "ExecuteTime": {
     "start_time": "2023-05-09T21:55:59.042766Z",
     "end_time": "2023-05-09T21:55:59.048587Z"
    }
   }
  },
  {
   "cell_type": "code",
   "execution_count": 43,
   "outputs": [
    {
     "data": {
      "text/plain": "36.60806038668668"
     },
     "execution_count": 43,
     "metadata": {},
     "output_type": "execute_result"
    }
   ],
   "source": [
    "df.loc[df[\"salary\"] == \"<=50K\", \"age\"].mean()"
   ],
   "metadata": {
    "collapsed": false,
    "ExecuteTime": {
     "start_time": "2023-05-09T21:56:00.521890Z",
     "end_time": "2023-05-09T21:56:00.526739Z"
    }
   }
  },
  {
   "cell_type": "code",
   "execution_count": 44,
   "outputs": [
    {
     "data": {
      "text/plain": "13.464631257161633"
     },
     "execution_count": 44,
     "metadata": {},
     "output_type": "execute_result"
    }
   ],
   "source": [
    "df.loc[df[\"salary\"] == \"<=50K\", \"age\"].std()"
   ],
   "metadata": {
    "collapsed": false,
    "ExecuteTime": {
     "start_time": "2023-05-09T21:56:07.169529Z",
     "end_time": "2023-05-09T21:56:07.177511Z"
    }
   }
  },
  {
   "cell_type": "markdown",
   "source": [
    "# Task 5\n",
    "Check, if there are some people without higher education (education: Bachelors, Prof-school, Assoc-acdm, Assoc-voc, Masters, Doctorate), but with > 50K salary"
   ],
   "metadata": {
    "collapsed": false
   }
  },
  {
   "cell_type": "code",
   "execution_count": 28,
   "outputs": [
    {
     "data": {
      "text/plain": "       age         workclass     education      marital-status   \n7       52  Self-emp-not-inc       HS-grad  Married-civ-spouse  \\\n10      37           Private  Some-college  Married-civ-spouse   \n55      43           Private  Some-college  Married-civ-spouse   \n67      53           Private       HS-grad  Married-civ-spouse   \n68      49      Self-emp-inc  Some-college  Married-civ-spouse   \n...    ...               ...           ...                 ...   \n32462   48      Self-emp-inc       HS-grad  Married-civ-spouse   \n32518   57         Local-gov       HS-grad  Married-civ-spouse   \n32519   46           Private  Some-college  Married-civ-spouse   \n32557   40           Private       HS-grad  Married-civ-spouse   \n32560   52      Self-emp-inc       HS-grad  Married-civ-spouse   \n\n              occupation relationship   race     sex  hours-per-week   \n7        Exec-managerial      Husband  White    Male              45  \\\n10       Exec-managerial      Husband  Black    Male              80   \n55          Tech-support      Husband  White    Male              40   \n67          Adm-clerical         Wife  White  Female              40   \n68       Exec-managerial      Husband  White    Male              50   \n...                  ...          ...    ...     ...             ...   \n32462       Craft-repair      Husband  White    Male              50   \n32518       Craft-repair      Husband  White    Male              40   \n32519    Exec-managerial      Husband  White    Male              48   \n32557  Machine-op-inspct      Husband  White    Male              40   \n32560    Exec-managerial         Wife  White  Female              40   \n\n      native-country salary  salary K$  \n7      United-States   >50K        307  \n10     United-States   >50K        116  \n55     United-States   >50K        341  \n67     United-States   >50K        225  \n68     United-States   >50K        194  \n...              ...    ...        ...  \n32462  United-States   >50K        343  \n32518  United-States   >50K        116  \n32519  United-States   >50K        239  \n32557  United-States   >50K        173  \n32560  United-States   >50K        243  \n\n[3178 rows x 12 columns]",
      "text/html": "<div>\n<style scoped>\n    .dataframe tbody tr th:only-of-type {\n        vertical-align: middle;\n    }\n\n    .dataframe tbody tr th {\n        vertical-align: top;\n    }\n\n    .dataframe thead th {\n        text-align: right;\n    }\n</style>\n<table border=\"1\" class=\"dataframe\">\n  <thead>\n    <tr style=\"text-align: right;\">\n      <th></th>\n      <th>age</th>\n      <th>workclass</th>\n      <th>education</th>\n      <th>marital-status</th>\n      <th>occupation</th>\n      <th>relationship</th>\n      <th>race</th>\n      <th>sex</th>\n      <th>hours-per-week</th>\n      <th>native-country</th>\n      <th>salary</th>\n      <th>salary K$</th>\n    </tr>\n  </thead>\n  <tbody>\n    <tr>\n      <th>7</th>\n      <td>52</td>\n      <td>Self-emp-not-inc</td>\n      <td>HS-grad</td>\n      <td>Married-civ-spouse</td>\n      <td>Exec-managerial</td>\n      <td>Husband</td>\n      <td>White</td>\n      <td>Male</td>\n      <td>45</td>\n      <td>United-States</td>\n      <td>&gt;50K</td>\n      <td>307</td>\n    </tr>\n    <tr>\n      <th>10</th>\n      <td>37</td>\n      <td>Private</td>\n      <td>Some-college</td>\n      <td>Married-civ-spouse</td>\n      <td>Exec-managerial</td>\n      <td>Husband</td>\n      <td>Black</td>\n      <td>Male</td>\n      <td>80</td>\n      <td>United-States</td>\n      <td>&gt;50K</td>\n      <td>116</td>\n    </tr>\n    <tr>\n      <th>55</th>\n      <td>43</td>\n      <td>Private</td>\n      <td>Some-college</td>\n      <td>Married-civ-spouse</td>\n      <td>Tech-support</td>\n      <td>Husband</td>\n      <td>White</td>\n      <td>Male</td>\n      <td>40</td>\n      <td>United-States</td>\n      <td>&gt;50K</td>\n      <td>341</td>\n    </tr>\n    <tr>\n      <th>67</th>\n      <td>53</td>\n      <td>Private</td>\n      <td>HS-grad</td>\n      <td>Married-civ-spouse</td>\n      <td>Adm-clerical</td>\n      <td>Wife</td>\n      <td>White</td>\n      <td>Female</td>\n      <td>40</td>\n      <td>United-States</td>\n      <td>&gt;50K</td>\n      <td>225</td>\n    </tr>\n    <tr>\n      <th>68</th>\n      <td>49</td>\n      <td>Self-emp-inc</td>\n      <td>Some-college</td>\n      <td>Married-civ-spouse</td>\n      <td>Exec-managerial</td>\n      <td>Husband</td>\n      <td>White</td>\n      <td>Male</td>\n      <td>50</td>\n      <td>United-States</td>\n      <td>&gt;50K</td>\n      <td>194</td>\n    </tr>\n    <tr>\n      <th>...</th>\n      <td>...</td>\n      <td>...</td>\n      <td>...</td>\n      <td>...</td>\n      <td>...</td>\n      <td>...</td>\n      <td>...</td>\n      <td>...</td>\n      <td>...</td>\n      <td>...</td>\n      <td>...</td>\n      <td>...</td>\n    </tr>\n    <tr>\n      <th>32462</th>\n      <td>48</td>\n      <td>Self-emp-inc</td>\n      <td>HS-grad</td>\n      <td>Married-civ-spouse</td>\n      <td>Craft-repair</td>\n      <td>Husband</td>\n      <td>White</td>\n      <td>Male</td>\n      <td>50</td>\n      <td>United-States</td>\n      <td>&gt;50K</td>\n      <td>343</td>\n    </tr>\n    <tr>\n      <th>32518</th>\n      <td>57</td>\n      <td>Local-gov</td>\n      <td>HS-grad</td>\n      <td>Married-civ-spouse</td>\n      <td>Craft-repair</td>\n      <td>Husband</td>\n      <td>White</td>\n      <td>Male</td>\n      <td>40</td>\n      <td>United-States</td>\n      <td>&gt;50K</td>\n      <td>116</td>\n    </tr>\n    <tr>\n      <th>32519</th>\n      <td>46</td>\n      <td>Private</td>\n      <td>Some-college</td>\n      <td>Married-civ-spouse</td>\n      <td>Exec-managerial</td>\n      <td>Husband</td>\n      <td>White</td>\n      <td>Male</td>\n      <td>48</td>\n      <td>United-States</td>\n      <td>&gt;50K</td>\n      <td>239</td>\n    </tr>\n    <tr>\n      <th>32557</th>\n      <td>40</td>\n      <td>Private</td>\n      <td>HS-grad</td>\n      <td>Married-civ-spouse</td>\n      <td>Machine-op-inspct</td>\n      <td>Husband</td>\n      <td>White</td>\n      <td>Male</td>\n      <td>40</td>\n      <td>United-States</td>\n      <td>&gt;50K</td>\n      <td>173</td>\n    </tr>\n    <tr>\n      <th>32560</th>\n      <td>52</td>\n      <td>Self-emp-inc</td>\n      <td>HS-grad</td>\n      <td>Married-civ-spouse</td>\n      <td>Exec-managerial</td>\n      <td>Wife</td>\n      <td>White</td>\n      <td>Female</td>\n      <td>40</td>\n      <td>United-States</td>\n      <td>&gt;50K</td>\n      <td>243</td>\n    </tr>\n  </tbody>\n</table>\n<p>3178 rows × 12 columns</p>\n</div>"
     },
     "execution_count": 28,
     "metadata": {},
     "output_type": "execute_result"
    }
   ],
   "source": [
    "df.loc[(df[\"salary\"] == \">50K\") & ~(df[\"education\"].isin([\"Bachelors\", \"Prof-school\", \"Assoc-acdm\", \"Assoc-voc\", \"Masters\", \"Doctorate\"]))]"
   ],
   "metadata": {
    "collapsed": false,
    "ExecuteTime": {
     "start_time": "2023-05-09T21:42:56.157138Z",
     "end_time": "2023-05-09T21:42:56.179168Z"
    }
   }
  },
  {
   "cell_type": "markdown",
   "source": [
    "# Task 6\n",
    "Get the statistics of age for each type of education. Use `groupby` and `describe` for this."
   ],
   "metadata": {
    "collapsed": false
   }
  },
  {
   "cell_type": "code",
   "execution_count": 30,
   "outputs": [
    {
     "data": {
      "text/plain": "       education   count       mean        std   min   25%   50%   75%   max\n0           10th   820.0  37.897561  16.225795  17.0  23.0  36.0  52.0  90.0\n1           11th  1048.0  32.363550  15.089307  17.0  18.0  28.5  43.0  90.0\n2           12th   377.0  32.013263  14.373710  17.0  19.0  28.0  41.0  79.0\n3        1st-4th   151.0  44.622517  14.929051  19.0  33.0  44.0  56.0  81.0\n4        5th-6th   288.0  41.649306  14.754622  17.0  28.0  41.0  53.0  82.0\n5        7th-8th   557.0  47.631957  15.737479  17.0  34.0  49.0  60.0  90.0\n6            9th   455.0  40.303297  15.335754  17.0  28.0  38.0  53.0  90.0\n7     Assoc-acdm  1008.0  37.286706  10.509755  19.0  29.0  36.0  44.0  90.0\n8      Assoc-voc  1307.0  38.246366  11.181253  19.0  30.0  37.0  45.0  84.0\n9      Bachelors  5044.0  38.641554  11.577566  19.0  29.0  37.0  46.0  90.0\n10     Doctorate   375.0  47.130667  11.471727  24.0  39.0  47.0  54.0  80.0\n11       HS-grad  9840.0  38.640955  13.067730  17.0  28.0  37.0  48.0  90.0\n12       Masters  1627.0  43.740012  10.735356  18.0  36.0  43.0  50.0  90.0\n13     Preschool    45.0  41.288889  15.175672  19.0  30.0  40.0  53.0  75.0\n14   Prof-school   542.0  44.249077  11.428098  25.0  36.0  43.0  50.0  90.0\n15  Some-college  6678.0  36.135370  13.073528  17.0  25.0  35.0  45.0  90.0",
      "text/html": "<div>\n<style scoped>\n    .dataframe tbody tr th:only-of-type {\n        vertical-align: middle;\n    }\n\n    .dataframe tbody tr th {\n        vertical-align: top;\n    }\n\n    .dataframe thead th {\n        text-align: right;\n    }\n</style>\n<table border=\"1\" class=\"dataframe\">\n  <thead>\n    <tr style=\"text-align: right;\">\n      <th></th>\n      <th>education</th>\n      <th>count</th>\n      <th>mean</th>\n      <th>std</th>\n      <th>min</th>\n      <th>25%</th>\n      <th>50%</th>\n      <th>75%</th>\n      <th>max</th>\n    </tr>\n  </thead>\n  <tbody>\n    <tr>\n      <th>0</th>\n      <td>10th</td>\n      <td>820.0</td>\n      <td>37.897561</td>\n      <td>16.225795</td>\n      <td>17.0</td>\n      <td>23.0</td>\n      <td>36.0</td>\n      <td>52.0</td>\n      <td>90.0</td>\n    </tr>\n    <tr>\n      <th>1</th>\n      <td>11th</td>\n      <td>1048.0</td>\n      <td>32.363550</td>\n      <td>15.089307</td>\n      <td>17.0</td>\n      <td>18.0</td>\n      <td>28.5</td>\n      <td>43.0</td>\n      <td>90.0</td>\n    </tr>\n    <tr>\n      <th>2</th>\n      <td>12th</td>\n      <td>377.0</td>\n      <td>32.013263</td>\n      <td>14.373710</td>\n      <td>17.0</td>\n      <td>19.0</td>\n      <td>28.0</td>\n      <td>41.0</td>\n      <td>79.0</td>\n    </tr>\n    <tr>\n      <th>3</th>\n      <td>1st-4th</td>\n      <td>151.0</td>\n      <td>44.622517</td>\n      <td>14.929051</td>\n      <td>19.0</td>\n      <td>33.0</td>\n      <td>44.0</td>\n      <td>56.0</td>\n      <td>81.0</td>\n    </tr>\n    <tr>\n      <th>4</th>\n      <td>5th-6th</td>\n      <td>288.0</td>\n      <td>41.649306</td>\n      <td>14.754622</td>\n      <td>17.0</td>\n      <td>28.0</td>\n      <td>41.0</td>\n      <td>53.0</td>\n      <td>82.0</td>\n    </tr>\n    <tr>\n      <th>5</th>\n      <td>7th-8th</td>\n      <td>557.0</td>\n      <td>47.631957</td>\n      <td>15.737479</td>\n      <td>17.0</td>\n      <td>34.0</td>\n      <td>49.0</td>\n      <td>60.0</td>\n      <td>90.0</td>\n    </tr>\n    <tr>\n      <th>6</th>\n      <td>9th</td>\n      <td>455.0</td>\n      <td>40.303297</td>\n      <td>15.335754</td>\n      <td>17.0</td>\n      <td>28.0</td>\n      <td>38.0</td>\n      <td>53.0</td>\n      <td>90.0</td>\n    </tr>\n    <tr>\n      <th>7</th>\n      <td>Assoc-acdm</td>\n      <td>1008.0</td>\n      <td>37.286706</td>\n      <td>10.509755</td>\n      <td>19.0</td>\n      <td>29.0</td>\n      <td>36.0</td>\n      <td>44.0</td>\n      <td>90.0</td>\n    </tr>\n    <tr>\n      <th>8</th>\n      <td>Assoc-voc</td>\n      <td>1307.0</td>\n      <td>38.246366</td>\n      <td>11.181253</td>\n      <td>19.0</td>\n      <td>30.0</td>\n      <td>37.0</td>\n      <td>45.0</td>\n      <td>84.0</td>\n    </tr>\n    <tr>\n      <th>9</th>\n      <td>Bachelors</td>\n      <td>5044.0</td>\n      <td>38.641554</td>\n      <td>11.577566</td>\n      <td>19.0</td>\n      <td>29.0</td>\n      <td>37.0</td>\n      <td>46.0</td>\n      <td>90.0</td>\n    </tr>\n    <tr>\n      <th>10</th>\n      <td>Doctorate</td>\n      <td>375.0</td>\n      <td>47.130667</td>\n      <td>11.471727</td>\n      <td>24.0</td>\n      <td>39.0</td>\n      <td>47.0</td>\n      <td>54.0</td>\n      <td>80.0</td>\n    </tr>\n    <tr>\n      <th>11</th>\n      <td>HS-grad</td>\n      <td>9840.0</td>\n      <td>38.640955</td>\n      <td>13.067730</td>\n      <td>17.0</td>\n      <td>28.0</td>\n      <td>37.0</td>\n      <td>48.0</td>\n      <td>90.0</td>\n    </tr>\n    <tr>\n      <th>12</th>\n      <td>Masters</td>\n      <td>1627.0</td>\n      <td>43.740012</td>\n      <td>10.735356</td>\n      <td>18.0</td>\n      <td>36.0</td>\n      <td>43.0</td>\n      <td>50.0</td>\n      <td>90.0</td>\n    </tr>\n    <tr>\n      <th>13</th>\n      <td>Preschool</td>\n      <td>45.0</td>\n      <td>41.288889</td>\n      <td>15.175672</td>\n      <td>19.0</td>\n      <td>30.0</td>\n      <td>40.0</td>\n      <td>53.0</td>\n      <td>75.0</td>\n    </tr>\n    <tr>\n      <th>14</th>\n      <td>Prof-school</td>\n      <td>542.0</td>\n      <td>44.249077</td>\n      <td>11.428098</td>\n      <td>25.0</td>\n      <td>36.0</td>\n      <td>43.0</td>\n      <td>50.0</td>\n      <td>90.0</td>\n    </tr>\n    <tr>\n      <th>15</th>\n      <td>Some-college</td>\n      <td>6678.0</td>\n      <td>36.135370</td>\n      <td>13.073528</td>\n      <td>17.0</td>\n      <td>25.0</td>\n      <td>35.0</td>\n      <td>45.0</td>\n      <td>90.0</td>\n    </tr>\n  </tbody>\n</table>\n</div>"
     },
     "execution_count": 30,
     "metadata": {},
     "output_type": "execute_result"
    }
   ],
   "source": [
    "df.groupby(\"education\")[\"age\"].describe().reset_index()"
   ],
   "metadata": {
    "collapsed": false,
    "ExecuteTime": {
     "start_time": "2023-05-09T21:44:27.851441Z",
     "end_time": "2023-05-09T21:44:27.897933Z"
    }
   }
  },
  {
   "cell_type": "markdown",
   "source": [
    "# Task 7\n",
    "Compare the married and non-married men salaries. Who earns more? (>50K or <=50K)\n",
    "Married men are those, whom `marital-status` starts with \"Married\". Others are not."
   ],
   "metadata": {
    "collapsed": false,
    "ExecuteTime": {
     "start_time": "2023-05-09T21:03:17.909624Z",
     "end_time": "2023-05-09T21:03:17.917430Z"
    }
   },
   "outputs": [
    {
     "data": {
      "text/plain": "10.269632835673852"
     },
     "execution_count": 81,
     "metadata": {},
     "output_type": "execute_result"
    }
   ],
   "execution_count": 81
  },
  {
   "cell_type": "code",
   "execution_count": 8,
   "outputs": [
    {
     "data": {
      "text/plain": "salary\n<=50K    8016\n>50K     6440\nName: count, dtype: int64"
     },
     "execution_count": 8,
     "metadata": {},
     "output_type": "execute_result"
    }
   ],
   "source": [
    "df.loc[df[\"marital-status\"].str.startswith(\"Married\"), \"salary\"].value_counts()"
   ],
   "metadata": {
    "collapsed": false,
    "ExecuteTime": {
     "start_time": "2023-05-10T12:18:04.334127Z",
     "end_time": "2023-05-10T12:18:04.352756Z"
    }
   }
  },
  {
   "cell_type": "code",
   "execution_count": 9,
   "outputs": [
    {
     "data": {
      "text/plain": "salary\n<=50K    14638\n>50K      1068\nName: count, dtype: int64"
     },
     "execution_count": 9,
     "metadata": {},
     "output_type": "execute_result"
    }
   ],
   "source": [
    "df.loc[~df[\"marital-status\"].str.startswith(\"Married\"), \"salary\"].value_counts()"
   ],
   "metadata": {
    "collapsed": false,
    "ExecuteTime": {
     "start_time": "2023-05-10T12:18:32.221954Z",
     "end_time": "2023-05-10T12:18:32.233934Z"
    }
   }
  },
  {
   "cell_type": "markdown",
   "source": [
    "# Task 8\n",
    "Get the max hours per week some person works. How many people works the same amount of hours per week?"
   ],
   "metadata": {
    "collapsed": false,
    "ExecuteTime": {
     "start_time": "2023-05-09T21:03:35.359969Z",
     "end_time": "2023-05-09T21:03:35.365102Z"
    }
   },
   "outputs": [
    {
     "data": {
      "text/plain": "13.464631257161633"
     },
     "execution_count": 82,
     "metadata": {},
     "output_type": "execute_result"
    }
   ],
   "execution_count": 82
  },
  {
   "cell_type": "code",
   "execution_count": 11,
   "outputs": [
    {
     "data": {
      "text/plain": "99"
     },
     "execution_count": 11,
     "metadata": {},
     "output_type": "execute_result"
    }
   ],
   "source": [
    "max_hours = df[\"hours-per-week\"].max()\n",
    "max_hours"
   ],
   "metadata": {
    "collapsed": false,
    "ExecuteTime": {
     "start_time": "2023-05-10T12:20:35.638427Z",
     "end_time": "2023-05-10T12:20:35.647194Z"
    }
   }
  },
  {
   "cell_type": "code",
   "execution_count": 15,
   "outputs": [
    {
     "data": {
      "text/plain": "78"
     },
     "execution_count": 15,
     "metadata": {},
     "output_type": "execute_result"
    }
   ],
   "source": [
    "df.loc[df[\"hours-per-week\"] == max_hours].shape[0]"
   ],
   "metadata": {
    "collapsed": false,
    "ExecuteTime": {
     "start_time": "2023-05-10T12:24:18.426266Z",
     "end_time": "2023-05-10T12:24:18.432839Z"
    }
   }
  },
  {
   "cell_type": "markdown",
   "source": [
    "# Task 9\n",
    "Analyze the correlation between data in dataset. Understand connected fields in it and print highlight thier connection."
   ],
   "metadata": {
    "collapsed": false,
    "ExecuteTime": {
     "start_time": "2023-05-09T21:20:58.766482Z",
     "end_time": "2023-05-09T21:20:58.769605Z"
    }
   },
   "outputs": [
    {
     "data": {
      "text/plain": "       age         workclass     education      marital-status   \n7       52  Self-emp-not-inc       HS-grad  Married-civ-spouse  \\\n10      37           Private  Some-college  Married-civ-spouse   \n55      43           Private  Some-college  Married-civ-spouse   \n67      53           Private       HS-grad  Married-civ-spouse   \n68      49      Self-emp-inc  Some-college  Married-civ-spouse   \n...    ...               ...           ...                 ...   \n32462   48      Self-emp-inc       HS-grad  Married-civ-spouse   \n32518   57         Local-gov       HS-grad  Married-civ-spouse   \n32519   46           Private  Some-college  Married-civ-spouse   \n32557   40           Private       HS-grad  Married-civ-spouse   \n32560   52      Self-emp-inc       HS-grad  Married-civ-spouse   \n\n              occupation relationship   race     sex  hours-per-week   \n7        Exec-managerial      Husband  White    Male              45  \\\n10       Exec-managerial      Husband  Black    Male              80   \n55          Tech-support      Husband  White    Male              40   \n67          Adm-clerical         Wife  White  Female              40   \n68       Exec-managerial      Husband  White    Male              50   \n...                  ...          ...    ...     ...             ...   \n32462       Craft-repair      Husband  White    Male              50   \n32518       Craft-repair      Husband  White    Male              40   \n32519    Exec-managerial      Husband  White    Male              48   \n32557  Machine-op-inspct      Husband  White    Male              40   \n32560    Exec-managerial         Wife  White  Female              40   \n\n      native-country salary  salary K$  \n7      United-States   >50K        307  \n10     United-States   >50K        116  \n55     United-States   >50K        341  \n67     United-States   >50K        225  \n68     United-States   >50K        194  \n...              ...    ...        ...  \n32462  United-States   >50K        343  \n32518  United-States   >50K        116  \n32519  United-States   >50K        239  \n32557  United-States   >50K        173  \n32560  United-States   >50K        243  \n\n[3178 rows x 12 columns]",
      "text/html": "<div>\n<style scoped>\n    .dataframe tbody tr th:only-of-type {\n        vertical-align: middle;\n    }\n\n    .dataframe tbody tr th {\n        vertical-align: top;\n    }\n\n    .dataframe thead th {\n        text-align: right;\n    }\n</style>\n<table border=\"1\" class=\"dataframe\">\n  <thead>\n    <tr style=\"text-align: right;\">\n      <th></th>\n      <th>age</th>\n      <th>workclass</th>\n      <th>education</th>\n      <th>marital-status</th>\n      <th>occupation</th>\n      <th>relationship</th>\n      <th>race</th>\n      <th>sex</th>\n      <th>hours-per-week</th>\n      <th>native-country</th>\n      <th>salary</th>\n      <th>salary K$</th>\n    </tr>\n  </thead>\n  <tbody>\n    <tr>\n      <th>7</th>\n      <td>52</td>\n      <td>Self-emp-not-inc</td>\n      <td>HS-grad</td>\n      <td>Married-civ-spouse</td>\n      <td>Exec-managerial</td>\n      <td>Husband</td>\n      <td>White</td>\n      <td>Male</td>\n      <td>45</td>\n      <td>United-States</td>\n      <td>&gt;50K</td>\n      <td>307</td>\n    </tr>\n    <tr>\n      <th>10</th>\n      <td>37</td>\n      <td>Private</td>\n      <td>Some-college</td>\n      <td>Married-civ-spouse</td>\n      <td>Exec-managerial</td>\n      <td>Husband</td>\n      <td>Black</td>\n      <td>Male</td>\n      <td>80</td>\n      <td>United-States</td>\n      <td>&gt;50K</td>\n      <td>116</td>\n    </tr>\n    <tr>\n      <th>55</th>\n      <td>43</td>\n      <td>Private</td>\n      <td>Some-college</td>\n      <td>Married-civ-spouse</td>\n      <td>Tech-support</td>\n      <td>Husband</td>\n      <td>White</td>\n      <td>Male</td>\n      <td>40</td>\n      <td>United-States</td>\n      <td>&gt;50K</td>\n      <td>341</td>\n    </tr>\n    <tr>\n      <th>67</th>\n      <td>53</td>\n      <td>Private</td>\n      <td>HS-grad</td>\n      <td>Married-civ-spouse</td>\n      <td>Adm-clerical</td>\n      <td>Wife</td>\n      <td>White</td>\n      <td>Female</td>\n      <td>40</td>\n      <td>United-States</td>\n      <td>&gt;50K</td>\n      <td>225</td>\n    </tr>\n    <tr>\n      <th>68</th>\n      <td>49</td>\n      <td>Self-emp-inc</td>\n      <td>Some-college</td>\n      <td>Married-civ-spouse</td>\n      <td>Exec-managerial</td>\n      <td>Husband</td>\n      <td>White</td>\n      <td>Male</td>\n      <td>50</td>\n      <td>United-States</td>\n      <td>&gt;50K</td>\n      <td>194</td>\n    </tr>\n    <tr>\n      <th>...</th>\n      <td>...</td>\n      <td>...</td>\n      <td>...</td>\n      <td>...</td>\n      <td>...</td>\n      <td>...</td>\n      <td>...</td>\n      <td>...</td>\n      <td>...</td>\n      <td>...</td>\n      <td>...</td>\n      <td>...</td>\n    </tr>\n    <tr>\n      <th>32462</th>\n      <td>48</td>\n      <td>Self-emp-inc</td>\n      <td>HS-grad</td>\n      <td>Married-civ-spouse</td>\n      <td>Craft-repair</td>\n      <td>Husband</td>\n      <td>White</td>\n      <td>Male</td>\n      <td>50</td>\n      <td>United-States</td>\n      <td>&gt;50K</td>\n      <td>343</td>\n    </tr>\n    <tr>\n      <th>32518</th>\n      <td>57</td>\n      <td>Local-gov</td>\n      <td>HS-grad</td>\n      <td>Married-civ-spouse</td>\n      <td>Craft-repair</td>\n      <td>Husband</td>\n      <td>White</td>\n      <td>Male</td>\n      <td>40</td>\n      <td>United-States</td>\n      <td>&gt;50K</td>\n      <td>116</td>\n    </tr>\n    <tr>\n      <th>32519</th>\n      <td>46</td>\n      <td>Private</td>\n      <td>Some-college</td>\n      <td>Married-civ-spouse</td>\n      <td>Exec-managerial</td>\n      <td>Husband</td>\n      <td>White</td>\n      <td>Male</td>\n      <td>48</td>\n      <td>United-States</td>\n      <td>&gt;50K</td>\n      <td>239</td>\n    </tr>\n    <tr>\n      <th>32557</th>\n      <td>40</td>\n      <td>Private</td>\n      <td>HS-grad</td>\n      <td>Married-civ-spouse</td>\n      <td>Machine-op-inspct</td>\n      <td>Husband</td>\n      <td>White</td>\n      <td>Male</td>\n      <td>40</td>\n      <td>United-States</td>\n      <td>&gt;50K</td>\n      <td>173</td>\n    </tr>\n    <tr>\n      <th>32560</th>\n      <td>52</td>\n      <td>Self-emp-inc</td>\n      <td>HS-grad</td>\n      <td>Married-civ-spouse</td>\n      <td>Exec-managerial</td>\n      <td>Wife</td>\n      <td>White</td>\n      <td>Female</td>\n      <td>40</td>\n      <td>United-States</td>\n      <td>&gt;50K</td>\n      <td>243</td>\n    </tr>\n  </tbody>\n</table>\n<p>3178 rows × 12 columns</p>\n</div>"
     },
     "execution_count": 91,
     "metadata": {},
     "output_type": "execute_result"
    }
   ],
   "execution_count": 91
  },
  {
   "cell_type": "markdown",
   "source": [],
   "metadata": {
    "collapsed": false
   }
  },
  {
   "cell_type": "code",
   "execution_count": 35,
   "outputs": [
    {
     "data": {
      "text/plain": "<Figure size 640x480 with 2 Axes>",
      "image/png": "[encoded data removed]"
     },
     "metadata": {},
     "output_type": "display_data"
    }
   ],
   "source": [
    "df_cor = df[[\"age\", \"hours-per-week\", \"salary K$\"]].copy()\n",
    "df_cor.corr()\n",
    "dataplot = sb.heatmap(df_cor.corr(), cmap=\"YlGnBu\", annot=True)\n",
    "matplotlib.pyplot.show()"
   ],
   "metadata": {
    "collapsed": false,
    "ExecuteTime": {
     "start_time": "2023-05-10T12:37:00.221603Z",
     "end_time": "2023-05-10T12:37:00.433499Z"
    }
   }
  }
 ],
 "metadata": {
  "kernelspec": {
   "display_name": "Python 3",
   "language": "python",
   "name": "python3"
  },
  "language_info": {
   "codemirror_mode": {
    "name": "ipython",
    "version": 2
   },
   "file_extension": ".py",
   "mimetype": "text/x-python",
   "name": "python",
   "nbconvert_exporter": "python",
   "pygments_lexer": "ipython2",
   "version": "2.7.6"
  }
 },
 "nbformat": 4,
 "nbformat_minor": 0
}
