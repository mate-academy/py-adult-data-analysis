{
 "cells": [
  {
   "cell_type": "code",
   "execution_count": 1,
   "outputs": [],
   "source": [
    "import numpy as np\n",
    "import pandas as pd"
   ],
   "metadata": {
    "collapsed": false,
    "pycharm": {
     "name": "#%%\n"
    },
    "ExecuteTime": {
     "end_time": "2024-04-05T08:26:13.609703500Z",
     "start_time": "2024-04-05T08:26:12.883510600Z"
    }
   }
  },
  {
   "cell_type": "markdown",
   "source": [
    "# Task 0\n",
    "Read the dataset from csv file & perform data cleaning - remove all rows, which contains `?` in some columns.\n",
    "Also check for data correctness (salary & salary $K)."
   ],
   "metadata": {
    "collapsed": false,
    "pycharm": {
     "name": "#%% md\n"
    }
   }
  },
  {
   "cell_type": "code",
   "execution_count": 160,
   "outputs": [],
   "source": [
    "# write your code for task 0 here\n",
    "df = pd.read_csv(\"../data/adult.csv\", index_col=[0])\n",
    "df = df.replace(\"?\", np.nan)\n",
    "df = df.dropna()"
   ],
   "metadata": {
    "collapsed": false,
    "pycharm": {
     "name": "#%%\n"
    },
    "ExecuteTime": {
     "end_time": "2024-04-05T14:25:51.945645300Z",
     "start_time": "2024-04-05T14:25:51.837913700Z"
    }
   }
  },
  {
   "cell_type": "markdown",
   "source": [
    "# Task 1\n",
    "Print the count of men and women in the dataset."
   ],
   "metadata": {
    "collapsed": false,
    "pycharm": {
     "name": "#%% md\n"
    }
   }
  },
  {
   "cell_type": "code",
   "execution_count": 161,
   "outputs": [
    {
     "data": {
      "text/plain": "sex\nMale      20380\nFemale     9782\nName: count, dtype: int64"
     },
     "execution_count": 161,
     "metadata": {},
     "output_type": "execute_result"
    }
   ],
   "source": [
    "# write your code for task 1 here\n",
    "df[\"sex\"].value_counts()"
   ],
   "metadata": {
    "collapsed": false,
    "pycharm": {
     "name": "#%%\n"
    },
    "ExecuteTime": {
     "end_time": "2024-04-05T14:25:59.350210100Z",
     "start_time": "2024-04-05T14:25:59.325995200Z"
    }
   }
  },
  {
   "cell_type": "markdown",
   "source": [
    "# Task 2\n",
    "Find the average age of men in dataset"
   ],
   "metadata": {
    "collapsed": false,
    "pycharm": {
     "name": "#%% md\n"
    }
   }
  },
  {
   "cell_type": "code",
   "execution_count": 162,
   "outputs": [
    {
     "data": {
      "text/plain": "38.437901995888865"
     },
     "execution_count": 162,
     "metadata": {},
     "output_type": "execute_result"
    }
   ],
   "source": [
    "# write your code for task 2 here\n",
    "df2 = df[df[\"sex\"] == \"Male\"]\n",
    "df[\"age\"].mean()"
   ],
   "metadata": {
    "collapsed": false,
    "pycharm": {
     "name": "#%%\n"
    },
    "ExecuteTime": {
     "end_time": "2024-04-05T14:26:01.321746200Z",
     "start_time": "2024-04-05T14:26:01.303689900Z"
    }
   }
  },
  {
   "cell_type": "markdown",
   "source": [
    "# Task 3\n",
    "Get the percentage of people from Poland (native-country)"
   ],
   "metadata": {
    "collapsed": false,
    "pycharm": {
     "name": "#%% md\n"
    }
   }
  },
  {
   "cell_type": "code",
   "execution_count": 163,
   "outputs": [
    {
     "data": {
      "text/plain": "0.18566408063125786"
     },
     "execution_count": 163,
     "metadata": {},
     "output_type": "execute_result"
    }
   ],
   "source": [
    "# write your code for task 3 here\n",
    "df_poland = df[df[\"native-country\"] == \"Poland\"].shape[0]\n",
    "count = df.shape[0]\n",
    "percent_poland = (df_poland / count) * 100\n",
    "percent_poland"
   ],
   "metadata": {
    "collapsed": false,
    "pycharm": {
     "name": "#%%\n"
    },
    "ExecuteTime": {
     "end_time": "2024-04-05T14:26:03.032219400Z",
     "start_time": "2024-04-05T14:26:03.016699900Z"
    }
   }
  },
  {
   "cell_type": "markdown",
   "source": [
    "# Task 4\n",
    "Get the mean and standard deviation of the age for people who earn > 50K per year. After this, get it for those who earn <= 50K."
   ],
   "metadata": {
    "collapsed": false,
    "pycharm": {
     "name": "#%% md\n"
    }
   }
  },
  {
   "cell_type": "code",
   "execution_count": 164,
   "outputs": [
    {
     "data": {
      "text/plain": "salary_more_age_mean    43.959110\nsalary_more_age_std     10.269633\nsalary_less_age_mean    36.608060\nsalary_less_age_std     13.464631\ndtype: float64"
     },
     "execution_count": 164,
     "metadata": {},
     "output_type": "execute_result"
    }
   ],
   "source": [
    "# write your code for task 4 here\n",
    "salary_more = df[df[\"salary K$\"] > 50]\n",
    "salary_more.age.mean()\n",
    "salary_more[\"age\"].std()\n",
    "\n",
    "salary_less = df[df[\"salary K$\"] < 50]\n",
    "salary_less[\"age\"].mean()\n",
    "salary_less[\"age\"].std()\n",
    "\n",
    "pd.Series(\n",
    "    [salary_more.age.mean(), salary_more[\"age\"].std(),salary_less[\"age\"].mean(), salary_less[\"age\"].std()],\n",
    "    index=[\"salary_more_age_mean\", \"salary_more_age_std\", \"salary_less_age_mean\", \"salary_less_age_std\"]\n",
    ")\n"
   ],
   "metadata": {
    "collapsed": false,
    "pycharm": {
     "name": "#%%\n"
    },
    "ExecuteTime": {
     "end_time": "2024-04-05T14:26:04.856701400Z",
     "start_time": "2024-04-05T14:26:04.833693300Z"
    }
   }
  },
  {
   "cell_type": "markdown",
   "source": [
    "# Task 5\n",
    "Check, if there are some people without higher education (education: Bachelors, Prof-school, Assoc-acdm, Assoc-voc, Masters, Doctorate), but with > 50K salary"
   ],
   "metadata": {
    "collapsed": false,
    "pycharm": {
     "name": "#%% md\n"
    }
   }
  },
  {
   "cell_type": "code",
   "execution_count": 165,
   "outputs": [
    {
     "data": {
      "text/plain": "3178"
     },
     "execution_count": 165,
     "metadata": {},
     "output_type": "execute_result"
    }
   ],
   "source": [
    "# write your code for task 5 here\n",
    "no_education = df[\n",
    "    ~df[\"education\"].isin([\"Bachelors\", \"Prof-school\", \"Assoc-acdm\", \"Assoc-voc\", \"Masters\", \"Doctorate\"]) & (\n",
    "                df[\"salary K$\"] > 50)]\n",
    "no_education.shape[0]"
   ],
   "metadata": {
    "collapsed": false,
    "pycharm": {
     "name": "#%%\n"
    },
    "ExecuteTime": {
     "end_time": "2024-04-05T14:26:07.360548Z",
     "start_time": "2024-04-05T14:26:07.339685200Z"
    }
   }
  },
  {
   "cell_type": "markdown",
   "source": [
    "# Task 6\n",
    "Get the statistics of age for each type of education. Use `groupby` and `describe` for this."
   ],
   "metadata": {
    "collapsed": false,
    "pycharm": {
     "name": "#%% md\n"
    }
   }
  },
  {
   "cell_type": "code",
   "execution_count": 166,
   "outputs": [
    {
     "data": {
      "text/plain": "               count       mean        std   min   25%   50%   75%   max\neducation                                                               \n10th           820.0  37.897561  16.225795  17.0  23.0  36.0  52.0  90.0\n11th          1048.0  32.363550  15.089307  17.0  18.0  28.5  43.0  90.0\n12th           377.0  32.013263  14.373710  17.0  19.0  28.0  41.0  79.0\n1st-4th        151.0  44.622517  14.929051  19.0  33.0  44.0  56.0  81.0\n5th-6th        288.0  41.649306  14.754622  17.0  28.0  41.0  53.0  82.0\n7th-8th        557.0  47.631957  15.737479  17.0  34.0  49.0  60.0  90.0\n9th            455.0  40.303297  15.335754  17.0  28.0  38.0  53.0  90.0\nAssoc-acdm    1008.0  37.286706  10.509755  19.0  29.0  36.0  44.0  90.0\nAssoc-voc     1307.0  38.246366  11.181253  19.0  30.0  37.0  45.0  84.0\nBachelors     5044.0  38.641554  11.577566  19.0  29.0  37.0  46.0  90.0\nDoctorate      375.0  47.130667  11.471727  24.0  39.0  47.0  54.0  80.0\nHS-grad       9840.0  38.640955  13.067730  17.0  28.0  37.0  48.0  90.0\nMasters       1627.0  43.740012  10.735356  18.0  36.0  43.0  50.0  90.0\nPreschool       45.0  41.288889  15.175672  19.0  30.0  40.0  53.0  75.0\nProf-school    542.0  44.249077  11.428098  25.0  36.0  43.0  50.0  90.0\nSome-college  6678.0  36.135370  13.073528  17.0  25.0  35.0  45.0  90.0",
      "text/html": "<div>\n<style scoped>\n    .dataframe tbody tr th:only-of-type {\n        vertical-align: middle;\n    }\n\n    .dataframe tbody tr th {\n        vertical-align: top;\n    }\n\n    .dataframe thead th {\n        text-align: right;\n    }\n</style>\n<table border=\"1\" class=\"dataframe\">\n  <thead>\n    <tr style=\"text-align: right;\">\n      <th></th>\n      <th>count</th>\n      <th>mean</th>\n      <th>std</th>\n      <th>min</th>\n      <th>25%</th>\n      <th>50%</th>\n      <th>75%</th>\n      <th>max</th>\n    </tr>\n    <tr>\n      <th>education</th>\n      <th></th>\n      <th></th>\n      <th></th>\n      <th></th>\n      <th></th>\n      <th></th>\n      <th></th>\n      <th></th>\n    </tr>\n  </thead>\n  <tbody>\n    <tr>\n      <th>10th</th>\n      <td>820.0</td>\n      <td>37.897561</td>\n      <td>16.225795</td>\n      <td>17.0</td>\n      <td>23.0</td>\n      <td>36.0</td>\n      <td>52.0</td>\n      <td>90.0</td>\n    </tr>\n    <tr>\n      <th>11th</th>\n      <td>1048.0</td>\n      <td>32.363550</td>\n      <td>15.089307</td>\n      <td>17.0</td>\n      <td>18.0</td>\n      <td>28.5</td>\n      <td>43.0</td>\n      <td>90.0</td>\n    </tr>\n    <tr>\n      <th>12th</th>\n      <td>377.0</td>\n      <td>32.013263</td>\n      <td>14.373710</td>\n      <td>17.0</td>\n      <td>19.0</td>\n      <td>28.0</td>\n      <td>41.0</td>\n      <td>79.0</td>\n    </tr>\n    <tr>\n      <th>1st-4th</th>\n      <td>151.0</td>\n      <td>44.622517</td>\n      <td>14.929051</td>\n      <td>19.0</td>\n      <td>33.0</td>\n      <td>44.0</td>\n      <td>56.0</td>\n      <td>81.0</td>\n    </tr>\n    <tr>\n      <th>5th-6th</th>\n      <td>288.0</td>\n      <td>41.649306</td>\n      <td>14.754622</td>\n      <td>17.0</td>\n      <td>28.0</td>\n      <td>41.0</td>\n      <td>53.0</td>\n      <td>82.0</td>\n    </tr>\n    <tr>\n      <th>7th-8th</th>\n      <td>557.0</td>\n      <td>47.631957</td>\n      <td>15.737479</td>\n      <td>17.0</td>\n      <td>34.0</td>\n      <td>49.0</td>\n      <td>60.0</td>\n      <td>90.0</td>\n    </tr>\n    <tr>\n      <th>9th</th>\n      <td>455.0</td>\n      <td>40.303297</td>\n      <td>15.335754</td>\n      <td>17.0</td>\n      <td>28.0</td>\n      <td>38.0</td>\n      <td>53.0</td>\n      <td>90.0</td>\n    </tr>\n    <tr>\n      <th>Assoc-acdm</th>\n      <td>1008.0</td>\n      <td>37.286706</td>\n      <td>10.509755</td>\n      <td>19.0</td>\n      <td>29.0</td>\n      <td>36.0</td>\n      <td>44.0</td>\n      <td>90.0</td>\n    </tr>\n    <tr>\n      <th>Assoc-voc</th>\n      <td>1307.0</td>\n      <td>38.246366</td>\n      <td>11.181253</td>\n      <td>19.0</td>\n      <td>30.0</td>\n      <td>37.0</td>\n      <td>45.0</td>\n      <td>84.0</td>\n    </tr>\n    <tr>\n      <th>Bachelors</th>\n      <td>5044.0</td>\n      <td>38.641554</td>\n      <td>11.577566</td>\n      <td>19.0</td>\n      <td>29.0</td>\n      <td>37.0</td>\n      <td>46.0</td>\n      <td>90.0</td>\n    </tr>\n    <tr>\n      <th>Doctorate</th>\n      <td>375.0</td>\n      <td>47.130667</td>\n      <td>11.471727</td>\n      <td>24.0</td>\n      <td>39.0</td>\n      <td>47.0</td>\n      <td>54.0</td>\n      <td>80.0</td>\n    </tr>\n    <tr>\n      <th>HS-grad</th>\n      <td>9840.0</td>\n      <td>38.640955</td>\n      <td>13.067730</td>\n      <td>17.0</td>\n      <td>28.0</td>\n      <td>37.0</td>\n      <td>48.0</td>\n      <td>90.0</td>\n    </tr>\n    <tr>\n      <th>Masters</th>\n      <td>1627.0</td>\n      <td>43.740012</td>\n      <td>10.735356</td>\n      <td>18.0</td>\n      <td>36.0</td>\n      <td>43.0</td>\n      <td>50.0</td>\n      <td>90.0</td>\n    </tr>\n    <tr>\n      <th>Preschool</th>\n      <td>45.0</td>\n      <td>41.288889</td>\n      <td>15.175672</td>\n      <td>19.0</td>\n      <td>30.0</td>\n      <td>40.0</td>\n      <td>53.0</td>\n      <td>75.0</td>\n    </tr>\n    <tr>\n      <th>Prof-school</th>\n      <td>542.0</td>\n      <td>44.249077</td>\n      <td>11.428098</td>\n      <td>25.0</td>\n      <td>36.0</td>\n      <td>43.0</td>\n      <td>50.0</td>\n      <td>90.0</td>\n    </tr>\n    <tr>\n      <th>Some-college</th>\n      <td>6678.0</td>\n      <td>36.135370</td>\n      <td>13.073528</td>\n      <td>17.0</td>\n      <td>25.0</td>\n      <td>35.0</td>\n      <td>45.0</td>\n      <td>90.0</td>\n    </tr>\n  </tbody>\n</table>\n</div>"
     },
     "execution_count": 166,
     "metadata": {},
     "output_type": "execute_result"
    }
   ],
   "source": [
    "# write your code for task 6 here\n",
    "df.groupby(\"education\")[\"age\"].describe()"
   ],
   "metadata": {
    "collapsed": false,
    "pycharm": {
     "name": "#%%\n"
    },
    "ExecuteTime": {
     "end_time": "2024-04-05T14:26:12.918016200Z",
     "start_time": "2024-04-05T14:26:12.861029900Z"
    }
   }
  },
  {
   "cell_type": "markdown",
   "source": [
    "# Task 7\n",
    "Compare the married and non-married men salaries. Who earns more? (>50K or <=50K)\n",
    "Married men are those, whom `marital-status` starts with \"Married\". Others are not."
   ],
   "metadata": {
    "collapsed": false,
    "pycharm": {
     "name": "#%% md\n"
    }
   }
  },
  {
   "cell_type": "code",
   "execution_count": 167,
   "outputs": [
    {
     "data": {
      "text/plain": "married        107.353210\nnot_married     43.240927\ndtype: float64"
     },
     "execution_count": 167,
     "metadata": {},
     "output_type": "execute_result"
    }
   ],
   "source": [
    "# write your code for task 7 here\n",
    "married = df[df[\"marital-status\"].str.startswith(\"Married\")][\"salary K$\"].mean()\n",
    "not_married = df[~df[\"marital-status\"].str.startswith(\"Married\")][\"salary K$\"].mean()\n",
    "pd.Series(\n",
    "    [married, not_married],\n",
    "    index=[\"married\", \"not_married\"],\n",
    ")"
   ],
   "metadata": {
    "collapsed": false,
    "pycharm": {
     "name": "#%%\n"
    },
    "ExecuteTime": {
     "end_time": "2024-04-05T14:26:15.470685100Z",
     "start_time": "2024-04-05T14:26:15.440818400Z"
    }
   }
  },
  {
   "cell_type": "markdown",
   "source": [
    "# Task 8\n",
    "Get the max hours per week some person works. How many people works the same amount of hours per week?"
   ],
   "metadata": {
    "collapsed": false,
    "pycharm": {
     "name": "#%% md\n"
    }
   }
  },
  {
   "cell_type": "code",
   "execution_count": 168,
   "outputs": [
    {
     "data": {
      "text/plain": "max_hours_per_week          99\ncount_max_hours_per_week    78\ndtype: int64"
     },
     "execution_count": 168,
     "metadata": {},
     "output_type": "execute_result"
    }
   ],
   "source": [
    "# write your code for task 8 here\n",
    "pd.Series(\n",
    "    [df[\"hours-per-week\"].max(), df[df[\"hours-per-week\"] == df[\"hours-per-week\"].max()].shape[0]],\n",
    "    index=[\"max_hours_per_week\", \"count_max_hours_per_week\"]\n",
    ")"
   ],
   "metadata": {
    "collapsed": false,
    "pycharm": {
     "name": "#%%\n"
    },
    "ExecuteTime": {
     "end_time": "2024-04-05T14:26:18.176553200Z",
     "start_time": "2024-04-05T14:26:18.154872700Z"
    }
   }
  },
  {
   "cell_type": "markdown",
   "source": [
    "# Task 9\n",
    "Analyze the correlation between data in dataset. Understand connected fields in it and print highlight thier connection."
   ],
   "metadata": {
    "collapsed": false,
    "pycharm": {
     "name": "#%% md\n"
    }
   }
  },
  {
   "cell_type": "code",
   "execution_count": 157,
   "outputs": [
    {
     "data": {
      "text/plain": "                     age  workclass  education  marital-status  occupation  \\\nage             1.000000   0.080540  -0.001111       -0.276373   -0.005682   \nworkclass       0.080540   1.000000   0.017855       -0.034241    0.015572   \neducation      -0.001111   0.017855   1.000000       -0.040664   -0.038212   \nmarital-status -0.276373  -0.034241  -0.040664        1.000000    0.022655   \noccupation     -0.005682   0.015572  -0.038212        0.022655    1.000000   \nrelationship   -0.246456  -0.067417  -0.012717        0.177964   -0.053727   \nrace            0.023374   0.044731   0.011154       -0.068627    0.000717   \nsex             0.081993   0.074973  -0.027888       -0.119813    0.062313   \nhours-per-week  0.101599   0.050724   0.059887       -0.189003    0.018365   \nnative-country -0.001905   0.007668   0.078790       -0.025902   -0.003483   \nsalary          0.241998   0.018044   0.078987       -0.193518    0.051577   \nsalary K$       0.208203   0.009948   0.067737       -0.165185    0.035984   \n\n                relationship      race       sex  hours-per-week  \\\nage                -0.246456  0.023374  0.081993        0.101599   \nworkclass          -0.067417  0.044731  0.074973        0.050724   \neducation          -0.012717  0.011154 -0.027888        0.059887   \nmarital-status      0.177964 -0.068627 -0.119813       -0.189003   \noccupation         -0.053727  0.000717  0.062313        0.018365   \nrelationship        1.000000 -0.117143 -0.584876       -0.257850   \nrace               -0.117143  1.000000  0.089186        0.048532   \nsex                -0.584876  0.089186  1.000000        0.231268   \nhours-per-week     -0.257850  0.048532  0.231268        1.000000   \nnative-country     -0.010809  0.124514  0.000618        0.008408   \nsalary             -0.251003  0.071658  0.216699        0.229480   \nsalary K$          -0.210894  0.060497  0.182642        0.196378   \n\n                native-country    salary  salary K$  \nage                  -0.001905  0.241998   0.208203  \nworkclass             0.007668  0.018044   0.009948  \neducation             0.078790  0.078987   0.067737  \nmarital-status       -0.025902 -0.193518  -0.165185  \noccupation           -0.003483  0.051577   0.035984  \nrelationship         -0.010809 -0.251003  -0.210894  \nrace                  0.124514  0.071658   0.060497  \nsex                   0.000618  0.216699   0.182642  \nhours-per-week        0.008408  0.229480   0.196378  \nnative-country        1.000000  0.023268   0.019605  \nsalary                0.023268  1.000000   0.853894  \nsalary K$             0.019605  0.853894   1.000000  ",
      "text/html": "<div>\n<style scoped>\n    .dataframe tbody tr th:only-of-type {\n        vertical-align: middle;\n    }\n\n    .dataframe tbody tr th {\n        vertical-align: top;\n    }\n\n    .dataframe thead th {\n        text-align: right;\n    }\n</style>\n<table border=\"1\" class=\"dataframe\">\n  <thead>\n    <tr style=\"text-align: right;\">\n      <th></th>\n      <th>age</th>\n      <th>workclass</th>\n      <th>education</th>\n      <th>marital-status</th>\n      <th>occupation</th>\n      <th>relationship</th>\n      <th>race</th>\n      <th>sex</th>\n      <th>hours-per-week</th>\n      <th>native-country</th>\n      <th>salary</th>\n      <th>salary K$</th>\n    </tr>\n  </thead>\n  <tbody>\n    <tr>\n      <th>age</th>\n      <td>1.000000</td>\n      <td>0.080540</td>\n      <td>-0.001111</td>\n      <td>-0.276373</td>\n      <td>-0.005682</td>\n      <td>-0.246456</td>\n      <td>0.023374</td>\n      <td>0.081993</td>\n      <td>0.101599</td>\n      <td>-0.001905</td>\n      <td>0.241998</td>\n      <td>0.208203</td>\n    </tr>\n    <tr>\n      <th>workclass</th>\n      <td>0.080540</td>\n      <td>1.000000</td>\n      <td>0.017855</td>\n      <td>-0.034241</td>\n      <td>0.015572</td>\n      <td>-0.067417</td>\n      <td>0.044731</td>\n      <td>0.074973</td>\n      <td>0.050724</td>\n      <td>0.007668</td>\n      <td>0.018044</td>\n      <td>0.009948</td>\n    </tr>\n    <tr>\n      <th>education</th>\n      <td>-0.001111</td>\n      <td>0.017855</td>\n      <td>1.000000</td>\n      <td>-0.040664</td>\n      <td>-0.038212</td>\n      <td>-0.012717</td>\n      <td>0.011154</td>\n      <td>-0.027888</td>\n      <td>0.059887</td>\n      <td>0.078790</td>\n      <td>0.078987</td>\n      <td>0.067737</td>\n    </tr>\n    <tr>\n      <th>marital-status</th>\n      <td>-0.276373</td>\n      <td>-0.034241</td>\n      <td>-0.040664</td>\n      <td>1.000000</td>\n      <td>0.022655</td>\n      <td>0.177964</td>\n      <td>-0.068627</td>\n      <td>-0.119813</td>\n      <td>-0.189003</td>\n      <td>-0.025902</td>\n      <td>-0.193518</td>\n      <td>-0.165185</td>\n    </tr>\n    <tr>\n      <th>occupation</th>\n      <td>-0.005682</td>\n      <td>0.015572</td>\n      <td>-0.038212</td>\n      <td>0.022655</td>\n      <td>1.000000</td>\n      <td>-0.053727</td>\n      <td>0.000717</td>\n      <td>0.062313</td>\n      <td>0.018365</td>\n      <td>-0.003483</td>\n      <td>0.051577</td>\n      <td>0.035984</td>\n    </tr>\n    <tr>\n      <th>relationship</th>\n      <td>-0.246456</td>\n      <td>-0.067417</td>\n      <td>-0.012717</td>\n      <td>0.177964</td>\n      <td>-0.053727</td>\n      <td>1.000000</td>\n      <td>-0.117143</td>\n      <td>-0.584876</td>\n      <td>-0.257850</td>\n      <td>-0.010809</td>\n      <td>-0.251003</td>\n      <td>-0.210894</td>\n    </tr>\n    <tr>\n      <th>race</th>\n      <td>0.023374</td>\n      <td>0.044731</td>\n      <td>0.011154</td>\n      <td>-0.068627</td>\n      <td>0.000717</td>\n      <td>-0.117143</td>\n      <td>1.000000</td>\n      <td>0.089186</td>\n      <td>0.048532</td>\n      <td>0.124514</td>\n      <td>0.071658</td>\n      <td>0.060497</td>\n    </tr>\n    <tr>\n      <th>sex</th>\n      <td>0.081993</td>\n      <td>0.074973</td>\n      <td>-0.027888</td>\n      <td>-0.119813</td>\n      <td>0.062313</td>\n      <td>-0.584876</td>\n      <td>0.089186</td>\n      <td>1.000000</td>\n      <td>0.231268</td>\n      <td>0.000618</td>\n      <td>0.216699</td>\n      <td>0.182642</td>\n    </tr>\n    <tr>\n      <th>hours-per-week</th>\n      <td>0.101599</td>\n      <td>0.050724</td>\n      <td>0.059887</td>\n      <td>-0.189003</td>\n      <td>0.018365</td>\n      <td>-0.257850</td>\n      <td>0.048532</td>\n      <td>0.231268</td>\n      <td>1.000000</td>\n      <td>0.008408</td>\n      <td>0.229480</td>\n      <td>0.196378</td>\n    </tr>\n    <tr>\n      <th>native-country</th>\n      <td>-0.001905</td>\n      <td>0.007668</td>\n      <td>0.078790</td>\n      <td>-0.025902</td>\n      <td>-0.003483</td>\n      <td>-0.010809</td>\n      <td>0.124514</td>\n      <td>0.000618</td>\n      <td>0.008408</td>\n      <td>1.000000</td>\n      <td>0.023268</td>\n      <td>0.019605</td>\n    </tr>\n    <tr>\n      <th>salary</th>\n      <td>0.241998</td>\n      <td>0.018044</td>\n      <td>0.078987</td>\n      <td>-0.193518</td>\n      <td>0.051577</td>\n      <td>-0.251003</td>\n      <td>0.071658</td>\n      <td>0.216699</td>\n      <td>0.229480</td>\n      <td>0.023268</td>\n      <td>1.000000</td>\n      <td>0.853894</td>\n    </tr>\n    <tr>\n      <th>salary K$</th>\n      <td>0.208203</td>\n      <td>0.009948</td>\n      <td>0.067737</td>\n      <td>-0.165185</td>\n      <td>0.035984</td>\n      <td>-0.210894</td>\n      <td>0.060497</td>\n      <td>0.182642</td>\n      <td>0.196378</td>\n      <td>0.019605</td>\n      <td>0.853894</td>\n      <td>1.000000</td>\n    </tr>\n  </tbody>\n</table>\n</div>"
     },
     "execution_count": 157,
     "metadata": {},
     "output_type": "execute_result"
    }
   ],
   "source": [
    "# write your code for task 9 here\n",
    "df[\"workclass\"] = df.groupby(\"workclass\").ngroup()\n",
    "\n",
    "df[\"education\"] = df.groupby(\"education\").ngroup()\n",
    "\n",
    "df[\"marital-status\"] = df.groupby(\"marital-status\").ngroup()\n",
    "\n",
    "df[\"occupation\"] = df.groupby(\"occupation\").ngroup()\n",
    "\n",
    "df[\"race\"] =df.groupby(\"race\").ngroup()\n",
    "\n",
    "df[\"sex\"] = np.where(df[\"sex\"] == \"Male\", 1, 0)\n",
    "\n",
    "df[\"native-country\"] = df.groupby(\"native-country\").ngroup()\n",
    "df[\"relationship\"] = df.groupby(\"relationship\").ngroup()\n",
    "df[\"salary\"] = df.groupby(\"salary\").ngroup()\n",
    "df.corr()"
   ],
   "metadata": {
    "collapsed": false,
    "ExecuteTime": {
     "end_time": "2024-04-05T14:23:39.425688600Z",
     "start_time": "2024-04-05T14:23:39.361839200Z"
    }
   }
  }
 ],
 "metadata": {
  "kernelspec": {
   "display_name": "Python 3",
   "language": "python",
   "name": "python3"
  },
  "language_info": {
   "codemirror_mode": {
    "name": "ipython",
    "version": 2
   },
   "file_extension": ".py",
   "mimetype": "text/x-python",
   "name": "python",
   "nbconvert_exporter": "python",
   "pygments_lexer": "ipython2",
   "version": "2.7.6"
  }
 },
 "nbformat": 4,
 "nbformat_minor": 0
}
