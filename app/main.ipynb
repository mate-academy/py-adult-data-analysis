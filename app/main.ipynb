{
 "cells": [
  {
   "cell_type": "code",
   "execution_count": 79,
   "outputs": [],
   "source": [
    "import pandas as pd"
   ],
   "metadata": {
    "collapsed": false
   }
  },
  {
   "cell_type": "markdown",
   "source": [
    "# Task 0\n",
    "Read the dataset from csv file & perform data cleaning - remove all rows, which contains `?` in some columns.\n",
    "Also check for data correctness (salary & salary $K)."
   ],
   "metadata": {
    "collapsed": false
   }
  },
  {
   "cell_type": "code",
   "execution_count": 80,
   "outputs": [],
   "source": [
    "df = pd.read_csv(\"../data/adult.csv\")"
   ],
   "metadata": {
    "collapsed": false
   }
  },
  {
   "cell_type": "code",
   "execution_count": 81,
   "outputs": [],
   "source": [
    "indexForDrop = df[(df[\"workclass\"] == \"?\")].index\n",
    "df.drop(indexForDrop , inplace=True)"
   ],
   "metadata": {
    "collapsed": false
   }
  },
  {
   "cell_type": "code",
   "execution_count": 82,
   "outputs": [],
   "source": [
    "indexForDrop = df[(df[\"native-country\"] == \"?\")].index\n",
    "df.drop(indexForDrop , inplace=True)"
   ],
   "metadata": {
    "collapsed": false
   }
  },
  {
   "cell_type": "markdown",
   "source": [
    "# Task 1\n",
    "Print the count of men and women in the dataset."
   ],
   "metadata": {
    "collapsed": false
   }
  },
  {
   "cell_type": "code",
   "execution_count": 83,
   "outputs": [],
   "source": [
    "print(\"Count male - \", len(df[df[\"sex\"] == 'Male']))\n",
    "print(\"Count female - \", len(df[df[\"sex\"] == 'Female']))"
   ],
   "metadata": {
    "collapsed": false
   }
  },
  {
   "cell_type": "markdown",
   "source": [
    "# Task 2\n",
    "Find the average age of men in dataset"
   ],
   "metadata": {
    "collapsed": false
   }
  },
  {
   "cell_type": "code",
   "execution_count": 84,
   "outputs": [],
   "source": [
    "print(\"Average age Male - \", round(df.loc[df['sex'] == 'Male', 'age'].mean(), ))\n",
    "print(\"Average age Female - \", round(df.loc[df['sex'] == 'Female', 'age'].mean(), ))"
   ],
   "metadata": {
    "collapsed": false
   }
  },
  {
   "cell_type": "markdown",
   "source": [
    "# Task 3\n",
    "Get the percentage of people from Poland (native-country)"
   ],
   "metadata": {
    "collapsed": false
   }
  },
  {
   "cell_type": "code",
   "execution_count": 85,
   "outputs": [],
   "source": [
    "print(\"Count male from Poland - \", len(df[df[\"native-country\"] == \"Poland\"]))"
   ],
   "metadata": {
    "collapsed": false
   }
  },
  {
   "cell_type": "markdown",
   "source": [
    "# Task 4\n",
    "Get the mean and standard deviation of the age for people who earn > 50K per year. After this, get it for those who earn <= 50K."
   ],
   "metadata": {
    "collapsed": false
   }
  },
  {
   "cell_type": "code",
   "execution_count": 86,
   "outputs": [],
   "source": [
    "print(\"Mean age (salary <=50K)  \", round(df.loc[df['salary'] == '<=50K', 'age'].mean()), \"years\")\n",
    "print(\"Standart deviation age (salary <=50K)  \", round(df.loc[df['salary'] == '<=50K', 'age'].std()), \"years\")\n",
    "print(\"Mean age (salary >50K)  \", round(df.loc[df['salary'] == '>50K', 'age'].mean()), \"years\")\n",
    "print(\"Standart deviation age (salary >50K)  \", round(df.loc[df['salary'] == '>50K', 'age'].std()), \"years\")"
   ],
   "metadata": {
    "collapsed": false
   }
  },
  {
   "cell_type": "markdown",
   "source": [
    "# Task 5\n",
    "Check, if there are some people without higher education (education: Bachelors, Prof-school, Assoc-acdm, Assoc-voc, Masters, Doctorate), but with > 50K salary"
   ],
   "metadata": {
    "collapsed": false
   }
  },
  {
   "cell_type": "code",
   "execution_count": 87,
   "outputs": [],
   "source": [
    "df.query(\"salary == '>50K' & education != ['Bachelors', 'Prof-school', 'Assoc-acdm', 'Assoc-voc', 'Masters', 'Doctorate']\")"
   ],
   "metadata": {
    "collapsed": false
   }
  },
  {
   "cell_type": "markdown",
   "source": [
    "# Task 6\n",
    "Get the statistics of age for each type of education. Use `groupby` and `describe` for this."
   ],
   "metadata": {
    "collapsed": false
   }
  },
  {
   "cell_type": "code",
   "execution_count": 88,
   "outputs": [],
   "source": [
    "df[[\"education\", \"age\"]].groupby(by='education').describe()"
   ],
   "metadata": {
    "collapsed": false
   }
  },
  {
   "cell_type": "markdown",
   "source": [
    "# Task 7\n",
    "Compare the married and non-married men salaries. Who earns more? (>50K or <=50K)\n",
    "Married men are those, whom `marital-status` starts with \"Married\". Others are not."
   ],
   "metadata": {
    "collapsed": false
   }
  },
  {
   "cell_type": "code",
   "execution_count": 89,
   "outputs": [],
   "source": [
    "male_df = df.query(\"sex == 'Male'\")\n",
    "male_married = male_df[male_df[\"marital-status\"].str.contains(\"Married\")]\n",
    "male_not_married = male_df[~male_df[\"marital-status\"].str.contains(\"Married\")]\n",
    "male_married_more_50 = male_married.query(\"sex == 'Male' & salary == '>50K'\")\n",
    "male_not_married_more_50 = male_not_married.query(\"sex == 'Male' & salary == '>50K'\")\n",
    "percent_male_married_more_50 = round((len(male_married_more_50) / len(male_married)) * 100, 1)\n",
    "percent_male_not_married_more_50 = round((len(male_not_married_more_50) / len(male_not_married)) * 100, 1)\n",
    "print(\"percent_male_married_more_50 =\", percent_male_married_more_50, \"%\")\n",
    "print(\"percent_male_not_married_more_50 =\", percent_male_not_married_more_50, \"%\")"
   ],
   "metadata": {
    "collapsed": false
   }
  },
  {
   "cell_type": "markdown",
   "source": [
    "# Task 8\n",
    "Get the max hours per week some person works. How many people works the same amount of hours per week?"
   ],
   "metadata": {
    "collapsed": false
   }
  },
  {
   "cell_type": "code",
   "execution_count": 90,
   "outputs": [],
   "source": [
    "print(\"max_hours_per_week =\", df[\"hours-per-week\"].max(), \"hours\")"
   ],
   "metadata": {
    "collapsed": false
   }
  },
  {
   "cell_type": "code",
   "execution_count": 91,
   "outputs": [],
   "source": [
    "print(df[[\"hours-per-week\", \"sex\"]].groupby(by=\"hours-per-week\").count())"
   ],
   "metadata": {
    "collapsed": false
   }
  },
  {
   "cell_type": "markdown",
   "source": [
    "# Task 9\n",
    "Analyze the correlation between data in dataset. Understand connected fields in it and print highlight thier connection."
   ],
   "metadata": {
    "collapsed": false
   }
  },
  {
   "cell_type": "code",
   "execution_count": 92,
   "outputs": [],
   "source": [
    "print(df[[\"salary K$\", \"age\", \"hours-per-week\"]].corr())"
   ],
   "metadata": {
    "collapsed": false
   }
  }
 ],
 "metadata": {
  "kernelspec": {
   "display_name": "Python 3",
   "language": "python",
   "name": "python3"
  },
  "language_info": {
   "codemirror_mode": {
    "name": "ipython",
    "version": 2
   },
   "file_extension": ".py",
   "mimetype": "text/x-python",
   "name": "python",
   "nbconvert_exporter": "python",
   "pygments_lexer": "ipython2",
   "version": "2.7.6"
  }
 },
 "nbformat": 4,
 "nbformat_minor": 0
}
