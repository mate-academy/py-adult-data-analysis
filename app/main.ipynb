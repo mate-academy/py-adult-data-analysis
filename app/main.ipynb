{
 "cells": [
  {
   "cell_type": "code",
   "execution_count": 3,
   "outputs": [],
   "source": [
    "import numpy as np\n",
    "import pandas as pd"
   ],
   "metadata": {
    "collapsed": false,
    "pycharm": {
     "name": "#%%\n"
    },
    "ExecuteTime": {
     "end_time": "2023-11-27T17:22:47.390702044Z",
     "start_time": "2023-11-27T17:22:46.591763163Z"
    }
   }
  },
  {
   "cell_type": "markdown",
   "source": [
    "# Task 0\n",
    "Read the dataset from csv file & perform data cleaning - remove all rows, which contains `?` in some columns.\n",
    "Also check for data correctness (salary & salary $K)."
   ],
   "metadata": {
    "collapsed": false,
    "pycharm": {
     "name": "#%% md\n"
    }
   }
  },
  {
   "cell_type": "code",
   "execution_count": 32,
   "outputs": [
    {
     "data": {
      "text/plain": "       Unnamed: 0   age         workclass   education      marital-status  \\\n0             0.0  39.0         State-gov   Bachelors       Never-married   \n1             1.0  50.0  Self-emp-not-inc   Bachelors  Married-civ-spouse   \n2             2.0  38.0           Private     HS-grad            Divorced   \n3             3.0  53.0           Private        11th  Married-civ-spouse   \n4             4.0  28.0           Private   Bachelors  Married-civ-spouse   \n...           ...   ...               ...         ...                 ...   \n32556     32556.0  27.0           Private  Assoc-acdm  Married-civ-spouse   \n32557     32557.0  40.0           Private     HS-grad  Married-civ-spouse   \n32558     32558.0  58.0           Private     HS-grad             Widowed   \n32559     32559.0  22.0           Private     HS-grad       Never-married   \n32560     32560.0  52.0      Self-emp-inc     HS-grad  Married-civ-spouse   \n\n              occupation   relationship   race     sex  hours-per-week  \\\n0           Adm-clerical  Not-in-family  White    Male            40.0   \n1        Exec-managerial        Husband  White    Male            13.0   \n2      Handlers-cleaners  Not-in-family  White    Male            40.0   \n3      Handlers-cleaners        Husband  Black    Male            40.0   \n4         Prof-specialty           Wife  Black  Female            40.0   \n...                  ...            ...    ...     ...             ...   \n32556       Tech-support           Wife  White  Female            38.0   \n32557  Machine-op-inspct        Husband  White    Male            40.0   \n32558       Adm-clerical      Unmarried  White  Female            40.0   \n32559       Adm-clerical      Own-child  White    Male            20.0   \n32560    Exec-managerial           Wife  White  Female            40.0   \n\n      native-country salary  salary K$  \n0      United-States  <=50K       39.0  \n1      United-States  <=50K       35.0  \n2      United-States  <=50K       27.0  \n3      United-States  <=50K       43.0  \n4               Cuba  <=50K       25.0  \n...              ...    ...        ...  \n32556  United-States  <=50K       36.0  \n32557  United-States   >50K      173.0  \n32558  United-States  <=50K       40.0  \n32559  United-States  <=50K       38.0  \n32560  United-States   >50K      243.0  \n\n[30162 rows x 13 columns]",
      "text/html": "<div>\n<style scoped>\n    .dataframe tbody tr th:only-of-type {\n        vertical-align: middle;\n    }\n\n    .dataframe tbody tr th {\n        vertical-align: top;\n    }\n\n    .dataframe thead th {\n        text-align: right;\n    }\n</style>\n<table border=\"1\" class=\"dataframe\">\n  <thead>\n    <tr style=\"text-align: right;\">\n      <th></th>\n      <th>Unnamed: 0</th>\n      <th>age</th>\n      <th>workclass</th>\n      <th>education</th>\n      <th>marital-status</th>\n      <th>occupation</th>\n      <th>relationship</th>\n      <th>race</th>\n      <th>sex</th>\n      <th>hours-per-week</th>\n      <th>native-country</th>\n      <th>salary</th>\n      <th>salary K$</th>\n    </tr>\n  </thead>\n  <tbody>\n    <tr>\n      <th>0</th>\n      <td>0.0</td>\n      <td>39.0</td>\n      <td>State-gov</td>\n      <td>Bachelors</td>\n      <td>Never-married</td>\n      <td>Adm-clerical</td>\n      <td>Not-in-family</td>\n      <td>White</td>\n      <td>Male</td>\n      <td>40.0</td>\n      <td>United-States</td>\n      <td>&lt;=50K</td>\n      <td>39.0</td>\n    </tr>\n    <tr>\n      <th>1</th>\n      <td>1.0</td>\n      <td>50.0</td>\n      <td>Self-emp-not-inc</td>\n      <td>Bachelors</td>\n      <td>Married-civ-spouse</td>\n      <td>Exec-managerial</td>\n      <td>Husband</td>\n      <td>White</td>\n      <td>Male</td>\n      <td>13.0</td>\n      <td>United-States</td>\n      <td>&lt;=50K</td>\n      <td>35.0</td>\n    </tr>\n    <tr>\n      <th>2</th>\n      <td>2.0</td>\n      <td>38.0</td>\n      <td>Private</td>\n      <td>HS-grad</td>\n      <td>Divorced</td>\n      <td>Handlers-cleaners</td>\n      <td>Not-in-family</td>\n      <td>White</td>\n      <td>Male</td>\n      <td>40.0</td>\n      <td>United-States</td>\n      <td>&lt;=50K</td>\n      <td>27.0</td>\n    </tr>\n    <tr>\n      <th>3</th>\n      <td>3.0</td>\n      <td>53.0</td>\n      <td>Private</td>\n      <td>11th</td>\n      <td>Married-civ-spouse</td>\n      <td>Handlers-cleaners</td>\n      <td>Husband</td>\n      <td>Black</td>\n      <td>Male</td>\n      <td>40.0</td>\n      <td>United-States</td>\n      <td>&lt;=50K</td>\n      <td>43.0</td>\n    </tr>\n    <tr>\n      <th>4</th>\n      <td>4.0</td>\n      <td>28.0</td>\n      <td>Private</td>\n      <td>Bachelors</td>\n      <td>Married-civ-spouse</td>\n      <td>Prof-specialty</td>\n      <td>Wife</td>\n      <td>Black</td>\n      <td>Female</td>\n      <td>40.0</td>\n      <td>Cuba</td>\n      <td>&lt;=50K</td>\n      <td>25.0</td>\n    </tr>\n    <tr>\n      <th>...</th>\n      <td>...</td>\n      <td>...</td>\n      <td>...</td>\n      <td>...</td>\n      <td>...</td>\n      <td>...</td>\n      <td>...</td>\n      <td>...</td>\n      <td>...</td>\n      <td>...</td>\n      <td>...</td>\n      <td>...</td>\n      <td>...</td>\n    </tr>\n    <tr>\n      <th>32556</th>\n      <td>32556.0</td>\n      <td>27.0</td>\n      <td>Private</td>\n      <td>Assoc-acdm</td>\n      <td>Married-civ-spouse</td>\n      <td>Tech-support</td>\n      <td>Wife</td>\n      <td>White</td>\n      <td>Female</td>\n      <td>38.0</td>\n      <td>United-States</td>\n      <td>&lt;=50K</td>\n      <td>36.0</td>\n    </tr>\n    <tr>\n      <th>32557</th>\n      <td>32557.0</td>\n      <td>40.0</td>\n      <td>Private</td>\n      <td>HS-grad</td>\n      <td>Married-civ-spouse</td>\n      <td>Machine-op-inspct</td>\n      <td>Husband</td>\n      <td>White</td>\n      <td>Male</td>\n      <td>40.0</td>\n      <td>United-States</td>\n      <td>&gt;50K</td>\n      <td>173.0</td>\n    </tr>\n    <tr>\n      <th>32558</th>\n      <td>32558.0</td>\n      <td>58.0</td>\n      <td>Private</td>\n      <td>HS-grad</td>\n      <td>Widowed</td>\n      <td>Adm-clerical</td>\n      <td>Unmarried</td>\n      <td>White</td>\n      <td>Female</td>\n      <td>40.0</td>\n      <td>United-States</td>\n      <td>&lt;=50K</td>\n      <td>40.0</td>\n    </tr>\n    <tr>\n      <th>32559</th>\n      <td>32559.0</td>\n      <td>22.0</td>\n      <td>Private</td>\n      <td>HS-grad</td>\n      <td>Never-married</td>\n      <td>Adm-clerical</td>\n      <td>Own-child</td>\n      <td>White</td>\n      <td>Male</td>\n      <td>20.0</td>\n      <td>United-States</td>\n      <td>&lt;=50K</td>\n      <td>38.0</td>\n    </tr>\n    <tr>\n      <th>32560</th>\n      <td>32560.0</td>\n      <td>52.0</td>\n      <td>Self-emp-inc</td>\n      <td>HS-grad</td>\n      <td>Married-civ-spouse</td>\n      <td>Exec-managerial</td>\n      <td>Wife</td>\n      <td>White</td>\n      <td>Female</td>\n      <td>40.0</td>\n      <td>United-States</td>\n      <td>&gt;50K</td>\n      <td>243.0</td>\n    </tr>\n  </tbody>\n</table>\n<p>30162 rows × 13 columns</p>\n</div>"
     },
     "execution_count": 32,
     "metadata": {},
     "output_type": "execute_result"
    }
   ],
   "source": [
    "df = pd.read_csv(\"../data/adult.csv\")\n",
    "df.replace(\"?\", np.nan, inplace=True)\n",
    "df.dropna(inplace=True)\n",
    "df = df[(df[\"salary\"] == \">50K\") & (df[\"salary K$\"] > 50) | (df[\"salary\"] == \"<=50K\") & (df[\"salary K$\"] <= 50)]\n",
    "df"
   ],
   "metadata": {
    "collapsed": false,
    "pycharm": {
     "name": "#%%\n"
    },
    "ExecuteTime": {
     "end_time": "2023-11-27T17:46:28.294190978Z",
     "start_time": "2023-11-27T17:46:28.165807013Z"
    }
   }
  },
  {
   "cell_type": "markdown",
   "source": [
    "# Task 1\n",
    "Print the count of men and women in the dataset."
   ],
   "metadata": {
    "collapsed": false,
    "pycharm": {
     "name": "#%% md\n"
    }
   }
  },
  {
   "cell_type": "code",
   "execution_count": 33,
   "outputs": [
    {
     "data": {
      "text/plain": "Male      20380\nFemale     9782\nName: sex, dtype: int64"
     },
     "execution_count": 33,
     "metadata": {},
     "output_type": "execute_result"
    }
   ],
   "source": [
    "df['sex'].value_counts()"
   ],
   "metadata": {
    "collapsed": false,
    "pycharm": {
     "name": "#%%\n"
    },
    "ExecuteTime": {
     "end_time": "2023-11-27T17:46:32.956761854Z",
     "start_time": "2023-11-27T17:46:32.944371934Z"
    }
   }
  },
  {
   "cell_type": "markdown",
   "source": [
    "# Task 2\n",
    "Find the average age of men in dataset"
   ],
   "metadata": {
    "collapsed": false,
    "pycharm": {
     "name": "#%% md\n"
    }
   }
  },
  {
   "cell_type": "code",
   "execution_count": 40,
   "outputs": [
    {
     "data": {
      "text/plain": "39.18"
     },
     "execution_count": 40,
     "metadata": {},
     "output_type": "execute_result"
    }
   ],
   "source": [
    "round(df[df[\"sex\"] == \"Male\"][\"age\"].mean(), 2)"
   ],
   "metadata": {
    "collapsed": false,
    "pycharm": {
     "name": "#%%\n"
    },
    "ExecuteTime": {
     "end_time": "2023-11-27T14:10:43.193688183Z",
     "start_time": "2023-11-27T14:10:43.145141015Z"
    }
   }
  },
  {
   "cell_type": "markdown",
   "source": [
    "# Task 3\n",
    "Get the percentage of people from Poland (native-country)"
   ],
   "metadata": {
    "collapsed": false,
    "pycharm": {
     "name": "#%% md\n"
    }
   }
  },
  {
   "cell_type": "code",
   "execution_count": 53,
   "outputs": [
    {
     "data": {
      "text/plain": "Unnamed: 0        0.19\nage               0.19\nworkclass         0.19\neducation         0.19\nmarital-status    0.19\noccupation        0.19\nrelationship      0.19\nrace              0.19\nsex               0.19\nhours-per-week    0.19\nnative-country    0.19\nsalary            0.19\nsalary K$         0.19\ndtype: float64"
     },
     "execution_count": 53,
     "metadata": {},
     "output_type": "execute_result"
    }
   ],
   "source": [
    "total_people = df.shape[0]\n",
    "people_from_poland = df[df[\"native-country\"] == \"Poland\"][\"age\"].count()\n",
    "round(((people_from_poland / total_people) * 100), 2)"
   ],
   "metadata": {
    "collapsed": false,
    "pycharm": {
     "name": "#%%\n"
    },
    "ExecuteTime": {
     "end_time": "2023-11-27T14:34:16.348042557Z",
     "start_time": "2023-11-27T14:34:16.320882773Z"
    }
   }
  },
  {
   "cell_type": "markdown",
   "source": [
    "# Task 4\n",
    "Get the mean and standard deviation of the age for people who earn > 50K per year. After this, get it for those who earn <= 50K.\n"
   ],
   "metadata": {
    "collapsed": false,
    "pycharm": {
     "name": "#%% md\n"
    }
   }
  },
  {
   "cell_type": "code",
   "execution_count": 34,
   "outputs": [
    {
     "name": "stdout",
     "output_type": "stream",
     "text": [
      "Mean deviation for age of people who earn > 50K per year: 36.84\n",
      "Standard deviation for age of people who earn > 50K per year: 13.46\n",
      "Mean deviation for age of people who earn <= 50K per year: 43.96\n",
      "Standard deviation for age of people who earn <= 50K per year: 10.27\n"
     ]
    },
    {
     "name": "stderr",
     "output_type": "stream",
     "text": [
      "/tmp/ipykernel_75422/1492767957.py:2: UserWarning: Boolean Series key will be reindexed to match DataFrame index.\n",
      "  lte50_mean = round(male[df[\"salary\"] == \"<=50K\"][\"age\"].mean(), 2)\n"
     ]
    }
   ],
   "source": [
    "lte50_mean = round(df[df[\"salary\"] == \"<=50K\"][\"age\"].mean(), 2)\n",
    "lte50_std = round(df[df[\"salary\"] == \"<=50K\"][\"age\"].std(), 2)\n",
    "gt50_mean = round(df[df[\"salary\"] == \">50K\"][\"age\"].mean(), 2)\n",
    "gt50_std = round(df[df[\"salary\"] == \">50K\"][\"age\"].std(), 2)\n",
    "\n",
    "print(f\"Mean deviation for age of people who earn > 50K per year: {lte50_mean}\")\n",
    "print(f\"Standard deviation for age of people who earn > 50K per year: {lte50_std}\")\n",
    "print(f\"Mean deviation for age of people who earn <= 50K per year: {gt50_mean}\")\n",
    "print(f\"Standard deviation for age of people who earn <= 50K per year: {gt50_std}\")"
   ],
   "metadata": {
    "collapsed": false,
    "pycharm": {
     "name": "#%%\n"
    },
    "ExecuteTime": {
     "end_time": "2023-11-27T17:49:21.309637139Z",
     "start_time": "2023-11-27T17:49:21.262027113Z"
    }
   }
  },
  {
   "cell_type": "markdown",
   "source": [
    "# Task 5\n",
    "Check, if there are some people without higher education (education: Bachelors, Prof-school, Assoc-acdm, Assoc-voc, Masters, Doctorate), but with > 50K salary"
   ],
   "metadata": {
    "collapsed": false,
    "pycharm": {
     "name": "#%% md\n"
    }
   }
  },
  {
   "cell_type": "code",
   "execution_count": 10,
   "outputs": [
    {
     "data": {
      "text/plain": "       Unnamed: 0   age         workclass     education      marital-status  \\\n7             7.0  52.0  Self-emp-not-inc       HS-grad  Married-civ-spouse   \n10           10.0  37.0           Private  Some-college  Married-civ-spouse   \n55           55.0  43.0           Private  Some-college  Married-civ-spouse   \n67           67.0  53.0           Private       HS-grad  Married-civ-spouse   \n68           68.0  49.0      Self-emp-inc  Some-college  Married-civ-spouse   \n...           ...   ...               ...           ...                 ...   \n32462     32462.0  48.0      Self-emp-inc       HS-grad  Married-civ-spouse   \n32518     32518.0  57.0         Local-gov       HS-grad  Married-civ-spouse   \n32519     32519.0  46.0           Private  Some-college  Married-civ-spouse   \n32557     32557.0  40.0           Private       HS-grad  Married-civ-spouse   \n32560     32560.0  52.0      Self-emp-inc       HS-grad  Married-civ-spouse   \n\n              occupation relationship   race     sex  hours-per-week  \\\n7        Exec-managerial      Husband  White    Male            45.0   \n10       Exec-managerial      Husband  Black    Male            80.0   \n55          Tech-support      Husband  White    Male            40.0   \n67          Adm-clerical         Wife  White  Female            40.0   \n68       Exec-managerial      Husband  White    Male            50.0   \n...                  ...          ...    ...     ...             ...   \n32462       Craft-repair      Husband  White    Male            50.0   \n32518       Craft-repair      Husband  White    Male            40.0   \n32519    Exec-managerial      Husband  White    Male            48.0   \n32557  Machine-op-inspct      Husband  White    Male            40.0   \n32560    Exec-managerial         Wife  White  Female            40.0   \n\n      native-country salary  salary K$  \n7      United-States   >50K      307.0  \n10     United-States   >50K      116.0  \n55     United-States   >50K      341.0  \n67     United-States   >50K      225.0  \n68     United-States   >50K      194.0  \n...              ...    ...        ...  \n32462  United-States   >50K      343.0  \n32518  United-States   >50K      116.0  \n32519  United-States   >50K      239.0  \n32557  United-States   >50K      173.0  \n32560  United-States   >50K      243.0  \n\n[3178 rows x 13 columns]",
      "text/html": "<div>\n<style scoped>\n    .dataframe tbody tr th:only-of-type {\n        vertical-align: middle;\n    }\n\n    .dataframe tbody tr th {\n        vertical-align: top;\n    }\n\n    .dataframe thead th {\n        text-align: right;\n    }\n</style>\n<table border=\"1\" class=\"dataframe\">\n  <thead>\n    <tr style=\"text-align: right;\">\n      <th></th>\n      <th>Unnamed: 0</th>\n      <th>age</th>\n      <th>workclass</th>\n      <th>education</th>\n      <th>marital-status</th>\n      <th>occupation</th>\n      <th>relationship</th>\n      <th>race</th>\n      <th>sex</th>\n      <th>hours-per-week</th>\n      <th>native-country</th>\n      <th>salary</th>\n      <th>salary K$</th>\n    </tr>\n  </thead>\n  <tbody>\n    <tr>\n      <th>7</th>\n      <td>7.0</td>\n      <td>52.0</td>\n      <td>Self-emp-not-inc</td>\n      <td>HS-grad</td>\n      <td>Married-civ-spouse</td>\n      <td>Exec-managerial</td>\n      <td>Husband</td>\n      <td>White</td>\n      <td>Male</td>\n      <td>45.0</td>\n      <td>United-States</td>\n      <td>&gt;50K</td>\n      <td>307.0</td>\n    </tr>\n    <tr>\n      <th>10</th>\n      <td>10.0</td>\n      <td>37.0</td>\n      <td>Private</td>\n      <td>Some-college</td>\n      <td>Married-civ-spouse</td>\n      <td>Exec-managerial</td>\n      <td>Husband</td>\n      <td>Black</td>\n      <td>Male</td>\n      <td>80.0</td>\n      <td>United-States</td>\n      <td>&gt;50K</td>\n      <td>116.0</td>\n    </tr>\n    <tr>\n      <th>55</th>\n      <td>55.0</td>\n      <td>43.0</td>\n      <td>Private</td>\n      <td>Some-college</td>\n      <td>Married-civ-spouse</td>\n      <td>Tech-support</td>\n      <td>Husband</td>\n      <td>White</td>\n      <td>Male</td>\n      <td>40.0</td>\n      <td>United-States</td>\n      <td>&gt;50K</td>\n      <td>341.0</td>\n    </tr>\n    <tr>\n      <th>67</th>\n      <td>67.0</td>\n      <td>53.0</td>\n      <td>Private</td>\n      <td>HS-grad</td>\n      <td>Married-civ-spouse</td>\n      <td>Adm-clerical</td>\n      <td>Wife</td>\n      <td>White</td>\n      <td>Female</td>\n      <td>40.0</td>\n      <td>United-States</td>\n      <td>&gt;50K</td>\n      <td>225.0</td>\n    </tr>\n    <tr>\n      <th>68</th>\n      <td>68.0</td>\n      <td>49.0</td>\n      <td>Self-emp-inc</td>\n      <td>Some-college</td>\n      <td>Married-civ-spouse</td>\n      <td>Exec-managerial</td>\n      <td>Husband</td>\n      <td>White</td>\n      <td>Male</td>\n      <td>50.0</td>\n      <td>United-States</td>\n      <td>&gt;50K</td>\n      <td>194.0</td>\n    </tr>\n    <tr>\n      <th>...</th>\n      <td>...</td>\n      <td>...</td>\n      <td>...</td>\n      <td>...</td>\n      <td>...</td>\n      <td>...</td>\n      <td>...</td>\n      <td>...</td>\n      <td>...</td>\n      <td>...</td>\n      <td>...</td>\n      <td>...</td>\n      <td>...</td>\n    </tr>\n    <tr>\n      <th>32462</th>\n      <td>32462.0</td>\n      <td>48.0</td>\n      <td>Self-emp-inc</td>\n      <td>HS-grad</td>\n      <td>Married-civ-spouse</td>\n      <td>Craft-repair</td>\n      <td>Husband</td>\n      <td>White</td>\n      <td>Male</td>\n      <td>50.0</td>\n      <td>United-States</td>\n      <td>&gt;50K</td>\n      <td>343.0</td>\n    </tr>\n    <tr>\n      <th>32518</th>\n      <td>32518.0</td>\n      <td>57.0</td>\n      <td>Local-gov</td>\n      <td>HS-grad</td>\n      <td>Married-civ-spouse</td>\n      <td>Craft-repair</td>\n      <td>Husband</td>\n      <td>White</td>\n      <td>Male</td>\n      <td>40.0</td>\n      <td>United-States</td>\n      <td>&gt;50K</td>\n      <td>116.0</td>\n    </tr>\n    <tr>\n      <th>32519</th>\n      <td>32519.0</td>\n      <td>46.0</td>\n      <td>Private</td>\n      <td>Some-college</td>\n      <td>Married-civ-spouse</td>\n      <td>Exec-managerial</td>\n      <td>Husband</td>\n      <td>White</td>\n      <td>Male</td>\n      <td>48.0</td>\n      <td>United-States</td>\n      <td>&gt;50K</td>\n      <td>239.0</td>\n    </tr>\n    <tr>\n      <th>32557</th>\n      <td>32557.0</td>\n      <td>40.0</td>\n      <td>Private</td>\n      <td>HS-grad</td>\n      <td>Married-civ-spouse</td>\n      <td>Machine-op-inspct</td>\n      <td>Husband</td>\n      <td>White</td>\n      <td>Male</td>\n      <td>40.0</td>\n      <td>United-States</td>\n      <td>&gt;50K</td>\n      <td>173.0</td>\n    </tr>\n    <tr>\n      <th>32560</th>\n      <td>32560.0</td>\n      <td>52.0</td>\n      <td>Self-emp-inc</td>\n      <td>HS-grad</td>\n      <td>Married-civ-spouse</td>\n      <td>Exec-managerial</td>\n      <td>Wife</td>\n      <td>White</td>\n      <td>Female</td>\n      <td>40.0</td>\n      <td>United-States</td>\n      <td>&gt;50K</td>\n      <td>243.0</td>\n    </tr>\n  </tbody>\n</table>\n<p>3178 rows × 13 columns</p>\n</div>"
     },
     "execution_count": 10,
     "metadata": {},
     "output_type": "execute_result"
    }
   ],
   "source": [
    "higher_education = ['Bachelors', 'Prof-school', 'Assoc-acdm', 'Assoc-voc', 'Masters', 'Doctorate']\n",
    "df[(~df['education'].isin(higher_education)) & (df[\"salary\"] == \">50K\")]"
   ],
   "metadata": {
    "collapsed": false,
    "pycharm": {
     "name": "#%%\n"
    },
    "ExecuteTime": {
     "end_time": "2023-11-27T17:29:26.416100462Z",
     "start_time": "2023-11-27T17:29:26.355258975Z"
    }
   }
  },
  {
   "cell_type": "markdown",
   "source": [
    "# Task 6\n",
    "Get the statistics of age for each type of education. Use `groupby` and `describe` for this."
   ],
   "metadata": {
    "collapsed": false,
    "pycharm": {
     "name": "#%% md\n"
    }
   }
  },
  {
   "cell_type": "code",
   "execution_count": 7,
   "outputs": [
    {
     "data": {
      "text/plain": "             Unnamed: 0                                                      \\\n                  count          mean          std    min      25%      50%   \neducation                                                                     \n10th              820.0  16099.841463  9323.630350  219.0  7860.75  16110.5   \n11th             1048.0  16230.614504  9435.727749    3.0  7773.25  16491.5   \n12th              377.0  17524.734748  9160.712573  415.0  9895.00  18630.0   \n1st-4th           151.0  17502.503311  9788.829534  416.0  9009.00  17445.0   \n5th-6th           288.0  16845.131944  9273.562959   56.0  9557.75  17173.0   \n7th-8th           557.0  16283.675045  9328.136399   15.0  8014.00  16464.0   \n9th               455.0  16306.367033  9438.104861    6.0  7638.50  16734.0   \nAssoc-acdm       1008.0  16667.503968  9503.534369   13.0  8176.00  16897.5   \nAssoc-voc        1307.0  16520.351186  9429.290747   48.0  8453.50  16722.0   \nBachelors        5044.0  16187.880452  9355.163922    0.0  8265.75  16108.0   \nDoctorate         375.0  16600.130667  9141.070844   20.0  9067.50  16573.0   \nHS-grad          9840.0  16166.445935  9338.758443    2.0  8173.75  16058.5   \nMasters          1627.0  16341.271051  9497.768306    5.0  8094.00  16134.0   \nPreschool          45.0  18268.377778  9824.639913  224.0  8775.00  21388.0   \nProf-school       542.0  16724.850554  9575.872379   52.0  8325.50  17072.0   \nSome-college     6678.0  16266.526804  9414.721651   10.0  7986.25  16238.5   \n\n                                    age             ... hours-per-week        \\\n                   75%      max   count       mean  ...            75%   max   \neducation                                           ...                        \n10th          24230.75  32551.0   820.0  37.897561  ...           40.0  99.0   \n11th          24275.25  32522.0  1048.0  32.363550  ...           40.0  99.0   \n12th          25040.00  32535.0   377.0  32.013263  ...           40.0  99.0   \n1st-4th       27132.50  32425.0   151.0  44.622517  ...           40.0  96.0   \n5th-6th       25550.25  32334.0   288.0  41.649306  ...           40.0  75.0   \n7th-8th       24473.00  32517.0   557.0  47.631957  ...           40.0  99.0   \n9th           24516.00  32501.0   455.0  40.303297  ...           40.0  99.0   \nAssoc-acdm    24918.25  32556.0  1008.0  37.286706  ...           45.0  99.0   \nAssoc-voc     24410.50  32552.0  1307.0  38.246366  ...           45.0  99.0   \nBachelors     24284.75  32538.0  5044.0  38.641554  ...           50.0  99.0   \nDoctorate     24299.00  32532.0   375.0  47.130667  ...           55.0  99.0   \nHS-grad       24203.00  32560.0  9840.0  38.640955  ...           44.0  99.0   \nMasters       24705.00  32554.0  1627.0  43.740012  ...           50.0  99.0   \nPreschool     25652.00  32432.0    45.0  41.288889  ...           40.0  75.0   \nProf-school   25123.25  32548.0   542.0  44.249077  ...           55.0  99.0   \nSome-college  24486.75  32555.0  6678.0  36.135370  ...           45.0  99.0   \n\n             salary K$                                                     \\\n                 count        mean         std   min   25%    50%     75%   \neducation                                                                   \n10th             820.0   43.912195   47.890388  15.0  25.0   33.0   43.00   \n11th            1048.0   41.527672   46.846283  15.0  24.0   32.0   42.00   \n12th             377.0   42.761273   47.213033  15.0  24.0   33.0   43.00   \n1st-4th          151.0   37.556291   34.351446  15.0  24.0   31.0   41.50   \n5th-6th          288.0   39.857639   42.081933  15.0  23.0   33.0   43.00   \n7th-8th          557.0   42.095153   47.388376  15.0  24.0   32.0   42.00   \n9th              455.0   43.028571   50.022784  15.0  24.5   33.0   42.00   \nAssoc-acdm      1008.0   75.566468   87.291460  15.0  26.0   38.0   61.25   \nAssoc-voc       1307.0   76.102525   86.446091  15.0  27.0   39.0   64.00   \nBachelors       5044.0  102.832276  101.376121  15.0  29.0   44.0  172.00   \nDoctorate        375.0  156.080000  100.855374  15.0  48.5  152.0  237.00   \nHS-grad         9840.0   60.345122   73.708985  15.0  25.0   35.0   46.00   \nMasters         1627.0  124.615243  104.710469  15.0  35.0   83.0  207.00   \nPreschool         45.0   32.644444    9.556425  15.0  23.0   35.0   39.00   \nProf-school      542.0  156.715867  103.920436  15.0  49.5  147.5  249.00   \nSome-college    6678.0   65.799341   78.161186  15.0  26.0   37.0   47.00   \n\n                     \n                max  \neducation            \n10th          347.0  \n11th          345.0  \n12th          349.0  \n1st-4th       279.0  \n5th-6th       347.0  \n7th-8th       347.0  \n9th           349.0  \nAssoc-acdm    349.0  \nAssoc-voc     349.0  \nBachelors     349.0  \nDoctorate     349.0  \nHS-grad       349.0  \nMasters       349.0  \nPreschool      49.0  \nProf-school   346.0  \nSome-college  349.0  \n\n[16 rows x 32 columns]",
      "text/html": "<div>\n<style scoped>\n    .dataframe tbody tr th:only-of-type {\n        vertical-align: middle;\n    }\n\n    .dataframe tbody tr th {\n        vertical-align: top;\n    }\n\n    .dataframe thead tr th {\n        text-align: left;\n    }\n\n    .dataframe thead tr:last-of-type th {\n        text-align: right;\n    }\n</style>\n<table border=\"1\" class=\"dataframe\">\n  <thead>\n    <tr>\n      <th></th>\n      <th colspan=\"8\" halign=\"left\">Unnamed: 0</th>\n      <th colspan=\"2\" halign=\"left\">age</th>\n      <th>...</th>\n      <th colspan=\"2\" halign=\"left\">hours-per-week</th>\n      <th colspan=\"8\" halign=\"left\">salary K$</th>\n    </tr>\n    <tr>\n      <th></th>\n      <th>count</th>\n      <th>mean</th>\n      <th>std</th>\n      <th>min</th>\n      <th>25%</th>\n      <th>50%</th>\n      <th>75%</th>\n      <th>max</th>\n      <th>count</th>\n      <th>mean</th>\n      <th>...</th>\n      <th>75%</th>\n      <th>max</th>\n      <th>count</th>\n      <th>mean</th>\n      <th>std</th>\n      <th>min</th>\n      <th>25%</th>\n      <th>50%</th>\n      <th>75%</th>\n      <th>max</th>\n    </tr>\n    <tr>\n      <th>education</th>\n      <th></th>\n      <th></th>\n      <th></th>\n      <th></th>\n      <th></th>\n      <th></th>\n      <th></th>\n      <th></th>\n      <th></th>\n      <th></th>\n      <th></th>\n      <th></th>\n      <th></th>\n      <th></th>\n      <th></th>\n      <th></th>\n      <th></th>\n      <th></th>\n      <th></th>\n      <th></th>\n      <th></th>\n    </tr>\n  </thead>\n  <tbody>\n    <tr>\n      <th>10th</th>\n      <td>820.0</td>\n      <td>16099.841463</td>\n      <td>9323.630350</td>\n      <td>219.0</td>\n      <td>7860.75</td>\n      <td>16110.5</td>\n      <td>24230.75</td>\n      <td>32551.0</td>\n      <td>820.0</td>\n      <td>37.897561</td>\n      <td>...</td>\n      <td>40.0</td>\n      <td>99.0</td>\n      <td>820.0</td>\n      <td>43.912195</td>\n      <td>47.890388</td>\n      <td>15.0</td>\n      <td>25.0</td>\n      <td>33.0</td>\n      <td>43.00</td>\n      <td>347.0</td>\n    </tr>\n    <tr>\n      <th>11th</th>\n      <td>1048.0</td>\n      <td>16230.614504</td>\n      <td>9435.727749</td>\n      <td>3.0</td>\n      <td>7773.25</td>\n      <td>16491.5</td>\n      <td>24275.25</td>\n      <td>32522.0</td>\n      <td>1048.0</td>\n      <td>32.363550</td>\n      <td>...</td>\n      <td>40.0</td>\n      <td>99.0</td>\n      <td>1048.0</td>\n      <td>41.527672</td>\n      <td>46.846283</td>\n      <td>15.0</td>\n      <td>24.0</td>\n      <td>32.0</td>\n      <td>42.00</td>\n      <td>345.0</td>\n    </tr>\n    <tr>\n      <th>12th</th>\n      <td>377.0</td>\n      <td>17524.734748</td>\n      <td>9160.712573</td>\n      <td>415.0</td>\n      <td>9895.00</td>\n      <td>18630.0</td>\n      <td>25040.00</td>\n      <td>32535.0</td>\n      <td>377.0</td>\n      <td>32.013263</td>\n      <td>...</td>\n      <td>40.0</td>\n      <td>99.0</td>\n      <td>377.0</td>\n      <td>42.761273</td>\n      <td>47.213033</td>\n      <td>15.0</td>\n      <td>24.0</td>\n      <td>33.0</td>\n      <td>43.00</td>\n      <td>349.0</td>\n    </tr>\n    <tr>\n      <th>1st-4th</th>\n      <td>151.0</td>\n      <td>17502.503311</td>\n      <td>9788.829534</td>\n      <td>416.0</td>\n      <td>9009.00</td>\n      <td>17445.0</td>\n      <td>27132.50</td>\n      <td>32425.0</td>\n      <td>151.0</td>\n      <td>44.622517</td>\n      <td>...</td>\n      <td>40.0</td>\n      <td>96.0</td>\n      <td>151.0</td>\n      <td>37.556291</td>\n      <td>34.351446</td>\n      <td>15.0</td>\n      <td>24.0</td>\n      <td>31.0</td>\n      <td>41.50</td>\n      <td>279.0</td>\n    </tr>\n    <tr>\n      <th>5th-6th</th>\n      <td>288.0</td>\n      <td>16845.131944</td>\n      <td>9273.562959</td>\n      <td>56.0</td>\n      <td>9557.75</td>\n      <td>17173.0</td>\n      <td>25550.25</td>\n      <td>32334.0</td>\n      <td>288.0</td>\n      <td>41.649306</td>\n      <td>...</td>\n      <td>40.0</td>\n      <td>75.0</td>\n      <td>288.0</td>\n      <td>39.857639</td>\n      <td>42.081933</td>\n      <td>15.0</td>\n      <td>23.0</td>\n      <td>33.0</td>\n      <td>43.00</td>\n      <td>347.0</td>\n    </tr>\n    <tr>\n      <th>7th-8th</th>\n      <td>557.0</td>\n      <td>16283.675045</td>\n      <td>9328.136399</td>\n      <td>15.0</td>\n      <td>8014.00</td>\n      <td>16464.0</td>\n      <td>24473.00</td>\n      <td>32517.0</td>\n      <td>557.0</td>\n      <td>47.631957</td>\n      <td>...</td>\n      <td>40.0</td>\n      <td>99.0</td>\n      <td>557.0</td>\n      <td>42.095153</td>\n      <td>47.388376</td>\n      <td>15.0</td>\n      <td>24.0</td>\n      <td>32.0</td>\n      <td>42.00</td>\n      <td>347.0</td>\n    </tr>\n    <tr>\n      <th>9th</th>\n      <td>455.0</td>\n      <td>16306.367033</td>\n      <td>9438.104861</td>\n      <td>6.0</td>\n      <td>7638.50</td>\n      <td>16734.0</td>\n      <td>24516.00</td>\n      <td>32501.0</td>\n      <td>455.0</td>\n      <td>40.303297</td>\n      <td>...</td>\n      <td>40.0</td>\n      <td>99.0</td>\n      <td>455.0</td>\n      <td>43.028571</td>\n      <td>50.022784</td>\n      <td>15.0</td>\n      <td>24.5</td>\n      <td>33.0</td>\n      <td>42.00</td>\n      <td>349.0</td>\n    </tr>\n    <tr>\n      <th>Assoc-acdm</th>\n      <td>1008.0</td>\n      <td>16667.503968</td>\n      <td>9503.534369</td>\n      <td>13.0</td>\n      <td>8176.00</td>\n      <td>16897.5</td>\n      <td>24918.25</td>\n      <td>32556.0</td>\n      <td>1008.0</td>\n      <td>37.286706</td>\n      <td>...</td>\n      <td>45.0</td>\n      <td>99.0</td>\n      <td>1008.0</td>\n      <td>75.566468</td>\n      <td>87.291460</td>\n      <td>15.0</td>\n      <td>26.0</td>\n      <td>38.0</td>\n      <td>61.25</td>\n      <td>349.0</td>\n    </tr>\n    <tr>\n      <th>Assoc-voc</th>\n      <td>1307.0</td>\n      <td>16520.351186</td>\n      <td>9429.290747</td>\n      <td>48.0</td>\n      <td>8453.50</td>\n      <td>16722.0</td>\n      <td>24410.50</td>\n      <td>32552.0</td>\n      <td>1307.0</td>\n      <td>38.246366</td>\n      <td>...</td>\n      <td>45.0</td>\n      <td>99.0</td>\n      <td>1307.0</td>\n      <td>76.102525</td>\n      <td>86.446091</td>\n      <td>15.0</td>\n      <td>27.0</td>\n      <td>39.0</td>\n      <td>64.00</td>\n      <td>349.0</td>\n    </tr>\n    <tr>\n      <th>Bachelors</th>\n      <td>5044.0</td>\n      <td>16187.880452</td>\n      <td>9355.163922</td>\n      <td>0.0</td>\n      <td>8265.75</td>\n      <td>16108.0</td>\n      <td>24284.75</td>\n      <td>32538.0</td>\n      <td>5044.0</td>\n      <td>38.641554</td>\n      <td>...</td>\n      <td>50.0</td>\n      <td>99.0</td>\n      <td>5044.0</td>\n      <td>102.832276</td>\n      <td>101.376121</td>\n      <td>15.0</td>\n      <td>29.0</td>\n      <td>44.0</td>\n      <td>172.00</td>\n      <td>349.0</td>\n    </tr>\n    <tr>\n      <th>Doctorate</th>\n      <td>375.0</td>\n      <td>16600.130667</td>\n      <td>9141.070844</td>\n      <td>20.0</td>\n      <td>9067.50</td>\n      <td>16573.0</td>\n      <td>24299.00</td>\n      <td>32532.0</td>\n      <td>375.0</td>\n      <td>47.130667</td>\n      <td>...</td>\n      <td>55.0</td>\n      <td>99.0</td>\n      <td>375.0</td>\n      <td>156.080000</td>\n      <td>100.855374</td>\n      <td>15.0</td>\n      <td>48.5</td>\n      <td>152.0</td>\n      <td>237.00</td>\n      <td>349.0</td>\n    </tr>\n    <tr>\n      <th>HS-grad</th>\n      <td>9840.0</td>\n      <td>16166.445935</td>\n      <td>9338.758443</td>\n      <td>2.0</td>\n      <td>8173.75</td>\n      <td>16058.5</td>\n      <td>24203.00</td>\n      <td>32560.0</td>\n      <td>9840.0</td>\n      <td>38.640955</td>\n      <td>...</td>\n      <td>44.0</td>\n      <td>99.0</td>\n      <td>9840.0</td>\n      <td>60.345122</td>\n      <td>73.708985</td>\n      <td>15.0</td>\n      <td>25.0</td>\n      <td>35.0</td>\n      <td>46.00</td>\n      <td>349.0</td>\n    </tr>\n    <tr>\n      <th>Masters</th>\n      <td>1627.0</td>\n      <td>16341.271051</td>\n      <td>9497.768306</td>\n      <td>5.0</td>\n      <td>8094.00</td>\n      <td>16134.0</td>\n      <td>24705.00</td>\n      <td>32554.0</td>\n      <td>1627.0</td>\n      <td>43.740012</td>\n      <td>...</td>\n      <td>50.0</td>\n      <td>99.0</td>\n      <td>1627.0</td>\n      <td>124.615243</td>\n      <td>104.710469</td>\n      <td>15.0</td>\n      <td>35.0</td>\n      <td>83.0</td>\n      <td>207.00</td>\n      <td>349.0</td>\n    </tr>\n    <tr>\n      <th>Preschool</th>\n      <td>45.0</td>\n      <td>18268.377778</td>\n      <td>9824.639913</td>\n      <td>224.0</td>\n      <td>8775.00</td>\n      <td>21388.0</td>\n      <td>25652.00</td>\n      <td>32432.0</td>\n      <td>45.0</td>\n      <td>41.288889</td>\n      <td>...</td>\n      <td>40.0</td>\n      <td>75.0</td>\n      <td>45.0</td>\n      <td>32.644444</td>\n      <td>9.556425</td>\n      <td>15.0</td>\n      <td>23.0</td>\n      <td>35.0</td>\n      <td>39.00</td>\n      <td>49.0</td>\n    </tr>\n    <tr>\n      <th>Prof-school</th>\n      <td>542.0</td>\n      <td>16724.850554</td>\n      <td>9575.872379</td>\n      <td>52.0</td>\n      <td>8325.50</td>\n      <td>17072.0</td>\n      <td>25123.25</td>\n      <td>32548.0</td>\n      <td>542.0</td>\n      <td>44.249077</td>\n      <td>...</td>\n      <td>55.0</td>\n      <td>99.0</td>\n      <td>542.0</td>\n      <td>156.715867</td>\n      <td>103.920436</td>\n      <td>15.0</td>\n      <td>49.5</td>\n      <td>147.5</td>\n      <td>249.00</td>\n      <td>346.0</td>\n    </tr>\n    <tr>\n      <th>Some-college</th>\n      <td>6678.0</td>\n      <td>16266.526804</td>\n      <td>9414.721651</td>\n      <td>10.0</td>\n      <td>7986.25</td>\n      <td>16238.5</td>\n      <td>24486.75</td>\n      <td>32555.0</td>\n      <td>6678.0</td>\n      <td>36.135370</td>\n      <td>...</td>\n      <td>45.0</td>\n      <td>99.0</td>\n      <td>6678.0</td>\n      <td>65.799341</td>\n      <td>78.161186</td>\n      <td>15.0</td>\n      <td>26.0</td>\n      <td>37.0</td>\n      <td>47.00</td>\n      <td>349.0</td>\n    </tr>\n  </tbody>\n</table>\n<p>16 rows × 32 columns</p>\n</div>"
     },
     "execution_count": 7,
     "metadata": {},
     "output_type": "execute_result"
    }
   ],
   "source": [
    "group_buy_education = df.groupby(\"education\")\n",
    "group_buy_education.describe()"
   ],
   "metadata": {
    "collapsed": false,
    "pycharm": {
     "name": "#%%\n"
    },
    "ExecuteTime": {
     "end_time": "2023-11-27T17:24:02.066063840Z",
     "start_time": "2023-11-27T17:24:01.822226814Z"
    }
   }
  },
  {
   "cell_type": "markdown",
   "source": [
    "# Task 7\n",
    "Compare the married and non-married men salaries. Who earns more? (>50K or <=50K)\n",
    "Married men are those, whom `marital-status` starts with \"Married\". Others are not."
   ],
   "metadata": {
    "collapsed": false,
    "pycharm": {
     "name": "#%% md\n"
    }
   }
  },
  {
   "cell_type": "code",
   "execution_count": 39,
   "outputs": [
    {
     "name": "stdout",
     "output_type": "stream",
     "text": [
      "Married men who earn <= 50K: 7052\n",
      "Married men who earn > 50K: 5723\n",
      "Non-married men who earn <= 50K: 6932\n",
      "Non-married men who earn > 50K: 673\n"
     ]
    },
    {
     "name": "stderr",
     "output_type": "stream",
     "text": [
      "/tmp/ipykernel_75422/1171480238.py:2: UserWarning: Boolean Series key will be reindexed to match DataFrame index.\n",
      "  married_salaries = men[df[\"marital-status\"].str.startswith(\"Married\")][\"salary\"]\n",
      "/tmp/ipykernel_75422/1171480238.py:3: UserWarning: Boolean Series key will be reindexed to match DataFrame index.\n",
      "  non_married_salaries = men[~df[\"marital-status\"].str.startswith(\"Married\")][\"salary\"]\n"
     ]
    }
   ],
   "source": [
    "men = df[df[\"sex\"] == \"Male\"]\n",
    "married_salaries = men[df[\"marital-status\"].str.startswith(\"Married\")][\"salary\"]\n",
    "non_married_salaries = men[~df[\"marital-status\"].str.startswith(\"Married\")][\"salary\"]\n",
    "\n",
    "mer_sal_lte_50 = married_salaries[men[\"salary\"] == \"<=50K\"].count()\n",
    "mer_sal_gt_50 = married_salaries[men[\"salary\"] == \">50K\"].count()\n",
    "non_mer_sal_lte_50 = non_married_salaries[men[\"salary\"] == \"<=50K\"].count()\n",
    "non_mer_sal_gt_50 = non_married_salaries[men[\"salary\"] == \">50K\"].count()\n",
    "print(f\"Married men who earn <= 50K: {mer_sal_lte_50}\")\n",
    "print(f\"Married men who earn > 50K: {mer_sal_gt_50}\")\n",
    "print(f\"Non-married men who earn <= 50K: {non_mer_sal_lte_50}\")\n",
    "print(f\"Non-married men who earn > 50K: {non_mer_sal_gt_50}\")"
   ],
   "metadata": {
    "collapsed": false,
    "pycharm": {
     "name": "#%%\n"
    },
    "ExecuteTime": {
     "end_time": "2023-11-27T17:51:14.441541725Z",
     "start_time": "2023-11-27T17:51:14.392896091Z"
    }
   }
  },
  {
   "cell_type": "markdown",
   "source": [
    "# Task 8\n",
    "Get the max hours per week some person works. How many people works the same amount of hours per week?"
   ],
   "metadata": {
    "collapsed": false,
    "pycharm": {
     "name": "#%% md\n"
    }
   }
  },
  {
   "cell_type": "code",
   "execution_count": 46,
   "outputs": [
    {
     "data": {
      "text/plain": "       Unnamed: 0   age         workclass     education      marital-status  \\\n935         935.0  37.0           Private       HS-grad  Married-civ-spouse   \n1172       1172.0  25.0           Private       Masters  Married-civ-spouse   \n1887       1887.0  55.0  Self-emp-not-inc  Some-college  Married-civ-spouse   \n3578       3578.0  37.0      Self-emp-inc     Doctorate  Married-civ-spouse   \n4308       4308.0  35.0  Self-emp-not-inc       HS-grad  Married-civ-spouse   \n...           ...   ...               ...           ...                 ...   \n30754     30754.0  31.0           Private   Prof-school       Never-married   \n30766     30766.0  42.0  Self-emp-not-inc       HS-grad  Married-civ-spouse   \n30992     30992.0  40.0      Self-emp-inc       Masters       Never-married   \n31681     31681.0  43.0           Private       HS-grad  Married-civ-spouse   \n31699     31699.0  43.0  Self-emp-not-inc  Some-college  Married-civ-spouse   \n\n            occupation   relationship   race     sex  hours-per-week  \\\n935       Craft-repair        Husband  White    Male            99.0   \n1172   Farming-fishing  Not-in-family  White    Male            99.0   \n1887   Farming-fishing        Husband  White    Male            99.0   \n3578    Prof-specialty        Husband  Black    Male            99.0   \n4308   Farming-fishing        Husband  White    Male            99.0   \n...                ...            ...    ...     ...             ...   \n30754   Prof-specialty  Not-in-family  White  Female            99.0   \n30766  Farming-fishing        Husband  White    Male            99.0   \n30992    Other-service      Own-child  White    Male            99.0   \n31681     Craft-repair        Husband  White    Male            99.0   \n31699  Farming-fishing        Husband  White    Male            99.0   \n\n      native-country salary  salary K$  \n935    United-States   >50K      274.0  \n1172   United-States   >50K      207.0  \n1887   United-States   >50K      188.0  \n3578   United-States   >50K      136.0  \n4308   United-States  <=50K       21.0  \n...              ...    ...        ...  \n30754  United-States  <=50K       31.0  \n30766  United-States   >50K      290.0  \n30992  United-States  <=50K       48.0  \n31681  United-States   >50K      237.0  \n31699  United-States  <=50K       40.0  \n\n[78 rows x 13 columns]",
      "text/html": "<div>\n<style scoped>\n    .dataframe tbody tr th:only-of-type {\n        vertical-align: middle;\n    }\n\n    .dataframe tbody tr th {\n        vertical-align: top;\n    }\n\n    .dataframe thead th {\n        text-align: right;\n    }\n</style>\n<table border=\"1\" class=\"dataframe\">\n  <thead>\n    <tr style=\"text-align: right;\">\n      <th></th>\n      <th>Unnamed: 0</th>\n      <th>age</th>\n      <th>workclass</th>\n      <th>education</th>\n      <th>marital-status</th>\n      <th>occupation</th>\n      <th>relationship</th>\n      <th>race</th>\n      <th>sex</th>\n      <th>hours-per-week</th>\n      <th>native-country</th>\n      <th>salary</th>\n      <th>salary K$</th>\n    </tr>\n  </thead>\n  <tbody>\n    <tr>\n      <th>935</th>\n      <td>935.0</td>\n      <td>37.0</td>\n      <td>Private</td>\n      <td>HS-grad</td>\n      <td>Married-civ-spouse</td>\n      <td>Craft-repair</td>\n      <td>Husband</td>\n      <td>White</td>\n      <td>Male</td>\n      <td>99.0</td>\n      <td>United-States</td>\n      <td>&gt;50K</td>\n      <td>274.0</td>\n    </tr>\n    <tr>\n      <th>1172</th>\n      <td>1172.0</td>\n      <td>25.0</td>\n      <td>Private</td>\n      <td>Masters</td>\n      <td>Married-civ-spouse</td>\n      <td>Farming-fishing</td>\n      <td>Not-in-family</td>\n      <td>White</td>\n      <td>Male</td>\n      <td>99.0</td>\n      <td>United-States</td>\n      <td>&gt;50K</td>\n      <td>207.0</td>\n    </tr>\n    <tr>\n      <th>1887</th>\n      <td>1887.0</td>\n      <td>55.0</td>\n      <td>Self-emp-not-inc</td>\n      <td>Some-college</td>\n      <td>Married-civ-spouse</td>\n      <td>Farming-fishing</td>\n      <td>Husband</td>\n      <td>White</td>\n      <td>Male</td>\n      <td>99.0</td>\n      <td>United-States</td>\n      <td>&gt;50K</td>\n      <td>188.0</td>\n    </tr>\n    <tr>\n      <th>3578</th>\n      <td>3578.0</td>\n      <td>37.0</td>\n      <td>Self-emp-inc</td>\n      <td>Doctorate</td>\n      <td>Married-civ-spouse</td>\n      <td>Prof-specialty</td>\n      <td>Husband</td>\n      <td>Black</td>\n      <td>Male</td>\n      <td>99.0</td>\n      <td>United-States</td>\n      <td>&gt;50K</td>\n      <td>136.0</td>\n    </tr>\n    <tr>\n      <th>4308</th>\n      <td>4308.0</td>\n      <td>35.0</td>\n      <td>Self-emp-not-inc</td>\n      <td>HS-grad</td>\n      <td>Married-civ-spouse</td>\n      <td>Farming-fishing</td>\n      <td>Husband</td>\n      <td>White</td>\n      <td>Male</td>\n      <td>99.0</td>\n      <td>United-States</td>\n      <td>&lt;=50K</td>\n      <td>21.0</td>\n    </tr>\n    <tr>\n      <th>...</th>\n      <td>...</td>\n      <td>...</td>\n      <td>...</td>\n      <td>...</td>\n      <td>...</td>\n      <td>...</td>\n      <td>...</td>\n      <td>...</td>\n      <td>...</td>\n      <td>...</td>\n      <td>...</td>\n      <td>...</td>\n      <td>...</td>\n    </tr>\n    <tr>\n      <th>30754</th>\n      <td>30754.0</td>\n      <td>31.0</td>\n      <td>Private</td>\n      <td>Prof-school</td>\n      <td>Never-married</td>\n      <td>Prof-specialty</td>\n      <td>Not-in-family</td>\n      <td>White</td>\n      <td>Female</td>\n      <td>99.0</td>\n      <td>United-States</td>\n      <td>&lt;=50K</td>\n      <td>31.0</td>\n    </tr>\n    <tr>\n      <th>30766</th>\n      <td>30766.0</td>\n      <td>42.0</td>\n      <td>Self-emp-not-inc</td>\n      <td>HS-grad</td>\n      <td>Married-civ-spouse</td>\n      <td>Farming-fishing</td>\n      <td>Husband</td>\n      <td>White</td>\n      <td>Male</td>\n      <td>99.0</td>\n      <td>United-States</td>\n      <td>&gt;50K</td>\n      <td>290.0</td>\n    </tr>\n    <tr>\n      <th>30992</th>\n      <td>30992.0</td>\n      <td>40.0</td>\n      <td>Self-emp-inc</td>\n      <td>Masters</td>\n      <td>Never-married</td>\n      <td>Other-service</td>\n      <td>Own-child</td>\n      <td>White</td>\n      <td>Male</td>\n      <td>99.0</td>\n      <td>United-States</td>\n      <td>&lt;=50K</td>\n      <td>48.0</td>\n    </tr>\n    <tr>\n      <th>31681</th>\n      <td>31681.0</td>\n      <td>43.0</td>\n      <td>Private</td>\n      <td>HS-grad</td>\n      <td>Married-civ-spouse</td>\n      <td>Craft-repair</td>\n      <td>Husband</td>\n      <td>White</td>\n      <td>Male</td>\n      <td>99.0</td>\n      <td>United-States</td>\n      <td>&gt;50K</td>\n      <td>237.0</td>\n    </tr>\n    <tr>\n      <th>31699</th>\n      <td>31699.0</td>\n      <td>43.0</td>\n      <td>Self-emp-not-inc</td>\n      <td>Some-college</td>\n      <td>Married-civ-spouse</td>\n      <td>Farming-fishing</td>\n      <td>Husband</td>\n      <td>White</td>\n      <td>Male</td>\n      <td>99.0</td>\n      <td>United-States</td>\n      <td>&lt;=50K</td>\n      <td>40.0</td>\n    </tr>\n  </tbody>\n</table>\n<p>78 rows × 13 columns</p>\n</div>"
     },
     "execution_count": 46,
     "metadata": {},
     "output_type": "execute_result"
    }
   ],
   "source": [
    "df[df[\"hours-per-week\"] == df[\"hours-per-week\"].max()]"
   ],
   "metadata": {
    "collapsed": false,
    "pycharm": {
     "name": "#%%\n"
    },
    "ExecuteTime": {
     "end_time": "2023-11-27T19:10:06.942956167Z",
     "start_time": "2023-11-27T19:10:06.919090932Z"
    }
   }
  },
  {
   "cell_type": "markdown",
   "source": [
    "# Task 9\n",
    "Analyze the correlation between data in dataset. Understand connected fields in it and print highlight thier connection."
   ],
   "metadata": {
    "collapsed": false,
    "pycharm": {
     "name": "#%% md\n"
    }
   }
  },
  {
   "cell_type": "code",
   "execution_count": 41,
   "outputs": [
    {
     "data": {
      "text/plain": "                Unnamed: 0       age  hours-per-week  salary K$\nUnnamed: 0        1.000000 -0.001126       -0.001890   0.000129\nage              -0.001126  1.000000        0.101599   0.208203\nhours-per-week   -0.001890  0.101599        1.000000   0.196378\nsalary K$         0.000129  0.208203        0.196378   1.000000",
      "text/html": "<div>\n<style scoped>\n    .dataframe tbody tr th:only-of-type {\n        vertical-align: middle;\n    }\n\n    .dataframe tbody tr th {\n        vertical-align: top;\n    }\n\n    .dataframe thead th {\n        text-align: right;\n    }\n</style>\n<table border=\"1\" class=\"dataframe\">\n  <thead>\n    <tr style=\"text-align: right;\">\n      <th></th>\n      <th>Unnamed: 0</th>\n      <th>age</th>\n      <th>hours-per-week</th>\n      <th>salary K$</th>\n    </tr>\n  </thead>\n  <tbody>\n    <tr>\n      <th>Unnamed: 0</th>\n      <td>1.000000</td>\n      <td>-0.001126</td>\n      <td>-0.001890</td>\n      <td>0.000129</td>\n    </tr>\n    <tr>\n      <th>age</th>\n      <td>-0.001126</td>\n      <td>1.000000</td>\n      <td>0.101599</td>\n      <td>0.208203</td>\n    </tr>\n    <tr>\n      <th>hours-per-week</th>\n      <td>-0.001890</td>\n      <td>0.101599</td>\n      <td>1.000000</td>\n      <td>0.196378</td>\n    </tr>\n    <tr>\n      <th>salary K$</th>\n      <td>0.000129</td>\n      <td>0.208203</td>\n      <td>0.196378</td>\n      <td>1.000000</td>\n    </tr>\n  </tbody>\n</table>\n</div>"
     },
     "execution_count": 41,
     "metadata": {},
     "output_type": "execute_result"
    }
   ],
   "source": [
    "df.corr()"
   ],
   "metadata": {
    "collapsed": false,
    "pycharm": {
     "name": "#%%\n"
    },
    "ExecuteTime": {
     "end_time": "2023-11-27T17:53:05.855424761Z",
     "start_time": "2023-11-27T17:53:05.834075776Z"
    }
   }
  }
 ],
 "metadata": {
  "kernelspec": {
   "display_name": "Python 3",
   "language": "python",
   "name": "python3"
  },
  "language_info": {
   "codemirror_mode": {
    "name": "ipython",
    "version": 2
   },
   "file_extension": ".py",
   "mimetype": "text/x-python",
   "name": "python",
   "nbconvert_exporter": "python",
   "pygments_lexer": "ipython2",
   "version": "2.7.6"
  }
 },
 "nbformat": 4,
 "nbformat_minor": 0
}
