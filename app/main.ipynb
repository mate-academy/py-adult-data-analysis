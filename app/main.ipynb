{
 "cells": [
  {
   "cell_type": "code",
   "source": [
    "import numpy as np\n",
    "import pandas as pd"
   ],
   "metadata": {
    "collapsed": false,
    "pycharm": {
     "name": "#%%\n"
    }
   },
   "outputs": [],
   "execution_count": null
  },
  {
   "cell_type": "markdown",
   "source": [
    "# Task 0\n",
    "Read the dataset from csv file & perform data cleaning - remove all rows, which contains `?` in some columns.\n",
    "Also check for data correctness (salary & salary $K)."
   ],
   "metadata": {
    "collapsed": false,
    "pycharm": {
     "name": "#%% md\n"
    }
   }
  },
  {
   "cell_type": "code",
   "source": [
    "filename = \"../data/adult.csv\"\n",
    "data = pd.read_csv(filename)\n",
    "\n",
    "data = data[~data.isin([\"?\"]).any(axis=1)]\n",
    "\n",
    "errors = [\n",
    "    data.loc[(data['salary'] == '<= 50K') & (data['salary K$'] > 50)],\n",
    "    data.loc[(data['salary'] == '> 50K') & (data['salary K$'] <= 50)],\n",
    "    data.loc[(data['salary'] == '< 50K') & (data['salary K$'] >= 50)],\n",
    "    data.loc[(data['salary'] == '>= 50K') & (data['salary K$'] < 50)]\n",
    "]\n",
    "\n",
    "all_errors = pd.concat(errors)"
   ],
   "metadata": {
    "collapsed": false,
    "pycharm": {
     "name": "#%%\n"
    }
   },
   "outputs": [],
   "execution_count": null
  },
  {
   "cell_type": "markdown",
   "source": [
    "# Task 1\n",
    "Print the count of men and women in the dataset."
   ],
   "metadata": {
    "collapsed": false,
    "pycharm": {
     "name": "#%% md\n"
    }
   }
  },
  {
   "cell_type": "code",
   "source": [
    "male = data[data[\"sex\"] == \"Male\"].shape[0]\n",
    "female = data[data[\"sex\"] == \"Female\"].count()[0]\n",
    "print(f\"Male: {male}, Female: {female}\")"
   ],
   "metadata": {
    "collapsed": false,
    "pycharm": {
     "name": "#%%\n"
    }
   },
   "outputs": [],
   "execution_count": null
  },
  {
   "cell_type": "markdown",
   "source": [
    "# Task 2\n",
    "Find the average age of men in dataset"
   ],
   "metadata": {
    "collapsed": false,
    "pycharm": {
     "name": "#%% md\n"
    }
   }
  },
  {
   "cell_type": "code",
   "source": [
    "male_data = data[data[\"sex\"] == \"Male\"]\n",
    "male_data[\"age\"].mean()"
   ],
   "metadata": {
    "collapsed": false,
    "pycharm": {
     "name": "#%%\n"
    }
   },
   "outputs": [],
   "execution_count": null
  },
  {
   "cell_type": "markdown",
   "source": [
    "# Task 3\n",
    "Get the percentage of people from Poland (native-country)"
   ],
   "metadata": {
    "collapsed": false,
    "pycharm": {
     "name": "#%% md\n"
    }
   }
  },
  {
   "cell_type": "code",
   "source": [
    "country_data = data[\"native-country\"]\n",
    "poland_people = country_data[country_data == \"Poland\"]\n",
    "poland_percentage = (poland_people.count() / country_data.count()) * 100\n",
    "print(f\"{poland_percentage:.2f}\")"
   ],
   "metadata": {
    "collapsed": false,
    "pycharm": {
     "name": "#%%\n"
    }
   },
   "outputs": [],
   "execution_count": null
  },
  {
   "cell_type": "markdown",
   "source": [
    "# Task 4\n",
    "Get the mean and standard deviation of the age for people who earn > 50K per year. After this, get it for those who earn <= 50K."
   ],
   "metadata": {
    "collapsed": false,
    "pycharm": {
     "name": "#%% md\n"
    }
   }
  },
  {
   "cell_type": "code",
   "source": [
    "people_more_50K = data[data[\"salary\"] == \">50K\"]\n",
    "people_less_equal_50K = data[data[\"salary\"] == \"<=50K\"]\n",
    "\n",
    "people_more_50K_mean = people_more_50K[\"age\"].mean()\n",
    "people_more_50K_std = people_more_50K[\"age\"].std()\n",
    "print(f\"People who earn more than 50K mean: {people_more_50K_mean}\")\n",
    "print(f\"People who earn more than 50K standard deviation: {people_more_50K_std}\")\n",
    "\n",
    "people_less_equal_50K_mean = people_less_equal_50K[\"age\"].mean()\n",
    "people_less_equal_50K_std = people_less_equal_50K[\"age\"].std()\n",
    "print(f\"People who earn less or equal than 50K mean: {people_less_equal_50K_mean}\")\n",
    "print(f\"People who earn less or equal than 50K standard deviation: {people_less_equal_50K_std}\")\n"
   ],
   "metadata": {
    "collapsed": false,
    "pycharm": {
     "name": "#%%\n"
    }
   },
   "outputs": [],
   "execution_count": null
  },
  {
   "cell_type": "markdown",
   "source": [
    "# Task 5\n",
    "Check, if there are some people without higher education (education: Bachelors, Prof-school, Assoc-acdm, Assoc-voc, Masters, Doctorate), but with > 50K salary"
   ],
   "metadata": {
    "collapsed": false,
    "pycharm": {
     "name": "#%% md\n"
    }
   }
  },
  {
   "cell_type": "code",
   "source": [
    "people_without_education = people_more_50K[~people_more_50K[\"education\"].isin(\n",
    "    [\"Bachelors\", \"Prof-school\", \"Assoc-acdm\", \"Assoc-voc\", \"Masters\", \"Doctorate\"]\n",
    ")]\n",
    "people_without_education"
   ],
   "metadata": {
    "collapsed": false,
    "pycharm": {
     "name": "#%%\n"
    }
   },
   "outputs": [],
   "execution_count": null
  },
  {
   "cell_type": "markdown",
   "source": [
    "# Task 6\n",
    "Get the statistics of age for each type of education. Use `groupby` and `describe` for this."
   ],
   "metadata": {
    "collapsed": false,
    "pycharm": {
     "name": "#%% md\n"
    }
   }
  },
  {
   "cell_type": "code",
   "source": [
    "education = data.groupby(by=\"education\")\n",
    "education[\"age\"].describe()"
   ],
   "metadata": {
    "collapsed": false,
    "pycharm": {
     "name": "#%%\n"
    }
   },
   "outputs": [],
   "execution_count": null
  },
  {
   "cell_type": "markdown",
   "source": [
    "# Task 7\n",
    "Compare the married and non-married men salaries. Who earns more? (>50K or <=50K)\n",
    "Married men are those, whom `marital-status` starts with \"Married\". Others are not."
   ],
   "metadata": {
    "collapsed": false,
    "pycharm": {
     "name": "#%% md\n"
    }
   }
  },
  {
   "cell_type": "code",
   "source": [
    "married_mask = male_data[\"marital-status\"].str.startswith(\"Married-civ-spouse\")\n",
    "married_men = male_data[married_mask]\n",
    "non_married_men = male_data[~married_mask]\n",
    "\n",
    "married_salary = married_men[\"salary\"].value_counts(normalize=True) * 100\n",
    "non_married_salary = non_married_men[\"salary\"].value_counts(normalize=True) * 100\n",
    "\n",
    "print(f\"Married (%): {married_salary}\")\n",
    "print(f\"Non-married (%): {non_married_salary} %\")"
   ],
   "metadata": {
    "collapsed": false,
    "pycharm": {
     "name": "#%%\n"
    }
   },
   "outputs": [],
   "execution_count": null
  },
  {
   "cell_type": "markdown",
   "source": [
    "# Task 8\n",
    "Get the max hours per week some person works. How many people works the same amount of hours per week?"
   ],
   "metadata": {
    "collapsed": false,
    "pycharm": {
     "name": "#%% md\n"
    }
   }
  },
  {
   "cell_type": "code",
   "source": [
    "hours_per_week = data[\"hours-per-week\"]\n",
    "max_hours = hours_per_week.max()\n",
    "\n",
    "hours_per_week[hours_per_week == max_hours].count()"
   ],
   "metadata": {
    "collapsed": false,
    "pycharm": {
     "name": "#%%\n"
    }
   },
   "outputs": [],
   "execution_count": null
  },
  {
   "cell_type": "markdown",
   "source": [
    "# Task 9\n",
    "Analyze the correlation between data in dataset. Understand connected fields in it and print highlight thier connection."
   ],
   "metadata": {
    "collapsed": false,
    "pycharm": {
     "name": "#%% md\n"
    }
   }
  },
  {
   "cell_type": "code",
   "source": [
    "corr = data.corr()\n",
    "\n",
    "strong_corr = corr[(corr > 0.15) | (corr < -0.15)]\n",
    "print(\"Correlations:\\n\", strong_corr)"
   ],
   "metadata": {
    "collapsed": false,
    "pycharm": {
     "name": "#%%\n"
    }
   },
   "outputs": [],
   "execution_count": null
  }
 ],
 "metadata": {
  "kernelspec": {
   "display_name": "Python 3",
   "language": "python",
   "name": "python3"
  },
  "language_info": {
   "codemirror_mode": {
    "name": "ipython",
    "version": 2
   },
   "file_extension": ".py",
   "mimetype": "text/x-python",
   "name": "python",
   "nbconvert_exporter": "python",
   "pygments_lexer": "ipython2",
   "version": "2.7.6"
  }
 },
 "nbformat": 4,
 "nbformat_minor": 0
}
