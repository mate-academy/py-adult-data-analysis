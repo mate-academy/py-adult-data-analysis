{
 "cells": [
  {
   "cell_type": "code",
   "source": [
    "import numpy as np\n",
    "import pandas as pd"
   ],
   "metadata": {
    "collapsed": false,
    "pycharm": {
     "name": "#%%\n"
    },
    "ExecuteTime": {
     "end_time": "2024-11-12T10:28:14.180404Z",
     "start_time": "2024-11-12T10:28:06.483536Z"
    }
   },
   "outputs": [],
   "execution_count": 2
  },
  {
   "cell_type": "markdown",
   "source": [
    "# Task 0\n",
    "Read the dataset from csv file & perform data cleaning - remove all rows, which contains `?` in some columns.\n",
    "Also check for data correctness (salary & salary $K)."
   ],
   "metadata": {
    "collapsed": false,
    "pycharm": {
     "name": "#%% md\n"
    }
   }
  },
  {
   "cell_type": "code",
   "source": [
    "df = pd.read_csv(\"../data/adult.csv\")\n",
    "df = df.replace(\"?\", pd.NA).dropna()\n",
    "salary_range = [\"<=50K\", \">50K\"]\n",
    "df = df[df[\"salary\"].isin(salary_range)]\n",
    "df_salary = pd.to_numeric(df[\"salary K$\"], errors=\"coerce\")\n",
    "df_salary = df_salary.dropna()\n",
    "df.head()\n",
    "# df.info()"
   ],
   "metadata": {
    "collapsed": false,
    "pycharm": {
     "name": "#%%\n"
    }
   },
   "outputs": [],
   "execution_count": null
  },
  {
   "cell_type": "markdown",
   "source": [
    "# Task 1\n",
    "Print the count of men and women in the dataset."
   ],
   "metadata": {
    "collapsed": false,
    "pycharm": {
     "name": "#%% md\n"
    }
   }
  },
  {
   "cell_type": "code",
   "source": [
    "df_men = df[df[\"sex\"] == \"Male\"]\n",
    "df_women = df[df[\"sex\"] == \"Female\"]\n",
    "df_women.shape[0], df_men.shape[0]"
   ],
   "metadata": {
    "collapsed": false,
    "pycharm": {
     "name": "#%%\n"
    }
   },
   "outputs": [],
   "execution_count": null
  },
  {
   "cell_type": "markdown",
   "source": [
    "# Task 2\n",
    "Find the average age of men in dataset"
   ],
   "metadata": {
    "collapsed": false,
    "pycharm": {
     "name": "#%% md\n"
    }
   }
  },
  {
   "cell_type": "code",
   "source": [
    "average_age_men = round(df_men[\"age\"].mean())\n",
    "average_age_men"
   ],
   "metadata": {
    "collapsed": false,
    "pycharm": {
     "name": "#%%\n"
    }
   },
   "outputs": [],
   "execution_count": null
  },
  {
   "cell_type": "markdown",
   "source": [
    "# Task 3\n",
    "Get the percentage of people from Poland (native-country)"
   ],
   "metadata": {
    "collapsed": false,
    "pycharm": {
     "name": "#%% md\n"
    }
   }
  },
  {
   "cell_type": "code",
   "source": [
    "poland_people = round(df[\"native-country\"].value_counts(normalize=True).get(\"Poland\", 0) * 100, 3)\n",
    "poland_people"
   ],
   "metadata": {
    "collapsed": false,
    "pycharm": {
     "name": "#%%\n"
    }
   },
   "outputs": [],
   "execution_count": null
  },
  {
   "cell_type": "markdown",
   "source": [
    "# Task 4\n",
    "Get the mean and standard deviation of the age for people who earn > 50K per year. After this, get it for those who earn <= 50K."
   ],
   "metadata": {
    "collapsed": false,
    "pycharm": {
     "name": "#%% md\n"
    }
   }
  },
  {
   "cell_type": "code",
   "source": [
    "high_salary = df[df[\"salary\"] == \">50K\"]\n",
    "high_salary_mean_age = round(high_salary[\"age\"].mean())\n",
    "high_salary_deviation_age = round(high_salary[\"age\"].std())\n",
    "lower_salary = df[df[\"salary\"] == \"<=50K\"]\n",
    "lower_salary_mean_age = round(lower_salary[\"age\"].mean())\n",
    "lower_salary_deviation_age = round(lower_salary[\"age\"].std())\n",
    "high_salary_mean_age, high_salary_deviation_age, lower_salary_mean_age, lower_salary_deviation_age"
   ],
   "metadata": {
    "collapsed": false,
    "pycharm": {
     "name": "#%%\n"
    }
   },
   "outputs": [],
   "execution_count": null
  },
  {
   "cell_type": "markdown",
   "source": [
    "# Task 5\n",
    "Check, if there are some people without higher education (education: Bachelors, Prof-school, Assoc-acdm, Assoc-voc, Masters, Doctorate), but with > 50K salary"
   ],
   "metadata": {
    "collapsed": false,
    "pycharm": {
     "name": "#%% md\n"
    }
   }
  },
  {
   "cell_type": "code",
   "source": [
    "higher_educations = [\"Bachelors\", \"Prof-school\", \"Assoc-voc\", \"Assoc-acdm\", \"Masters\", \"Doctorate\"]\n",
    "check_education = high_salary[~high_salary[\"education\"].isin(higher_educations)]\n",
    "check_education"
   ],
   "metadata": {
    "collapsed": false,
    "pycharm": {
     "name": "#%%\n"
    }
   },
   "outputs": [],
   "execution_count": null
  },
  {
   "cell_type": "markdown",
   "source": [
    "# Task 6\n",
    "Get the statistics of age for each type of education. Use `groupby` and `describe` for this."
   ],
   "metadata": {
    "collapsed": false,
    "pycharm": {
     "name": "#%% md\n"
    }
   }
  },
  {
   "cell_type": "code",
   "source": [
    "age_statistic = df.groupby(\"education\")[\"age\"].describe()\n",
    "age_statistic"
   ],
   "metadata": {
    "collapsed": false,
    "pycharm": {
     "name": "#%%\n"
    }
   },
   "outputs": [],
   "execution_count": null
  },
  {
   "cell_type": "markdown",
   "source": [
    "# Task 7\n",
    "Compare the married and non-married men salaries. Who earns more? (>50K or <=50K)\n",
    "Married men are those, whom `marital-status` starts with \"Married\". Others are not."
   ],
   "metadata": {
    "collapsed": false,
    "pycharm": {
     "name": "#%% md\n"
    }
   }
  },
  {
   "cell_type": "code",
   "source": [
    "married = df[df[\"marital-status\"].str.startswith(\"Married\")]\n",
    "non_married = df[~df[\"marital-status\"].str.startswith(\"Married\")]\n",
    "married = married[\"salary K$\"].mean()\n",
    "non_married = non_married[\"salary K$\"].mean()\n",
    "compare_salary = pd.DataFrame({\n",
    "    \"Salary range\": salary_range,\n",
    "    \"Status\": [\"Married\", \"Not Married\"],\n",
    "    \"average_salary\": [married, non_married]\n",
    "})\n",
    "compare_salary"
   ],
   "metadata": {
    "collapsed": false,
    "pycharm": {
     "name": "#%%\n"
    }
   },
   "outputs": [],
   "execution_count": null
  },
  {
   "cell_type": "markdown",
   "source": [
    "\n",
    "# Task 8\n",
    "Get the max hours per week some person works. How many people works the same amount of hours per week?"
   ],
   "metadata": {
    "collapsed": false,
    "pycharm": {
     "name": "#%% md\n"
    }
   }
  },
  {
   "cell_type": "code",
   "source": [
    "work_hours = sorted(df[\"hours-per-week\"].unique(), reverse=True)\n",
    "people_count = (df[\"hours-per-week\"] == work_hours[0]).sum()\n",
    "work_hours[0], people_count"
   ],
   "metadata": {
    "collapsed": false,
    "pycharm": {
     "name": "#%%\n"
    }
   },
   "outputs": [],
   "execution_count": null
  },
  {
   "cell_type": "markdown",
   "source": [
    "# Task 9\n",
    "Analyze the correlation between data in dataset. Understand connected fields in it and print highlight thier connection."
   ],
   "metadata": {
    "collapsed": false,
    "pycharm": {
     "name": "#%% md\n"
    }
   }
  },
  {
   "cell_type": "code",
   "source": [
    "data_correlation = df.select_dtypes(include=[np.number])\n",
    "data_correlation.corr()"
   ],
   "metadata": {
    "collapsed": false,
    "pycharm": {
     "name": "#%%\n"
    }
   },
   "outputs": [],
   "execution_count": null
  }
 ],
 "metadata": {
  "kernelspec": {
   "display_name": "Python 3",
   "language": "python",
   "name": "python3"
  },
  "language_info": {
   "codemirror_mode": {
    "name": "ipython",
    "version": 2
   },
   "file_extension": ".py",
   "mimetype": "text/x-python",
   "name": "python",
   "nbconvert_exporter": "python",
   "pygments_lexer": "ipython2",
   "version": "2.7.6"
  }
 },
 "nbformat": 4,
 "nbformat_minor": 0
}
