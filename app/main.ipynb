{
 "cells": [
  {
   "cell_type": "code",
   "source": [
    "import pandas as pd\n",
    "import matplotlib.pyplot as plt\n",
    "import seaborn as sns"
   ],
   "metadata": {
    "collapsed": false,
    "pycharm": {
     "name": "#%%\n"
    },
    "ExecuteTime": {
     "end_time": "2024-09-05T14:32:33.976306Z",
     "start_time": "2024-09-05T14:32:33.971324Z"
    }
   },
   "outputs": [],
   "execution_count": 3
  },
  {
   "cell_type": "markdown",
   "source": [
    "# Task 0\n",
    "Read the dataset from csv file & perform data cleaning - remove all rows, which contains `?` in some columns.\n",
    "Also check for data correctness (salary & salary $K)."
   ],
   "metadata": {
    "collapsed": false,
    "pycharm": {
     "name": "#%% md\n"
    }
   }
  },
  {
   "metadata": {},
   "cell_type": "markdown",
   "source": ""
  },
  {
   "cell_type": "code",
   "source": [
    "df = pd.read_csv(\"../data/adult.csv\")\n",
    "df = df[~df.eq(\"?\").any(axis=1)]\n",
    "df['salary K$'] = pd.to_numeric(df['salary K$'], errors='coerce')\n",
    "df = df.dropna(subset=['salary K$'])"
   ],
   "metadata": {
    "collapsed": false,
    "pycharm": {
     "name": "#%%\n"
    },
    "ExecuteTime": {
     "end_time": "2024-09-05T14:32:36.972017Z",
     "start_time": "2024-09-05T14:32:36.859642Z"
    }
   },
   "outputs": [],
   "execution_count": 4
  },
  {
   "metadata": {
    "ExecuteTime": {
     "end_time": "2024-09-05T13:09:40.321002Z",
     "start_time": "2024-09-05T13:09:40.304249Z"
    }
   },
   "cell_type": "code",
   "source": "df",
   "outputs": [
    {
     "data": {
      "text/plain": [
       "       Unnamed: 0  age         workclass   education      marital-status  \\\n",
       "0               0   39         State-gov   Bachelors       Never-married   \n",
       "1               1   50  Self-emp-not-inc   Bachelors  Married-civ-spouse   \n",
       "2               2   38           Private     HS-grad            Divorced   \n",
       "3               3   53           Private        11th  Married-civ-spouse   \n",
       "4               4   28           Private   Bachelors  Married-civ-spouse   \n",
       "...           ...  ...               ...         ...                 ...   \n",
       "32556       32556   27           Private  Assoc-acdm  Married-civ-spouse   \n",
       "32557       32557   40           Private     HS-grad  Married-civ-spouse   \n",
       "32558       32558   58           Private     HS-grad             Widowed   \n",
       "32559       32559   22           Private     HS-grad       Never-married   \n",
       "32560       32560   52      Self-emp-inc     HS-grad  Married-civ-spouse   \n",
       "\n",
       "              occupation   relationship   race     sex  hours-per-week  \\\n",
       "0           Adm-clerical  Not-in-family  White    Male              40   \n",
       "1        Exec-managerial        Husband  White    Male              13   \n",
       "2      Handlers-cleaners  Not-in-family  White    Male              40   \n",
       "3      Handlers-cleaners        Husband  Black    Male              40   \n",
       "4         Prof-specialty           Wife  Black  Female              40   \n",
       "...                  ...            ...    ...     ...             ...   \n",
       "32556       Tech-support           Wife  White  Female              38   \n",
       "32557  Machine-op-inspct        Husband  White    Male              40   \n",
       "32558       Adm-clerical      Unmarried  White  Female              40   \n",
       "32559       Adm-clerical      Own-child  White    Male              20   \n",
       "32560    Exec-managerial           Wife  White  Female              40   \n",
       "\n",
       "      native-country salary  salary K$  \n",
       "0      United-States  <=50K         39  \n",
       "1      United-States  <=50K         35  \n",
       "2      United-States  <=50K         27  \n",
       "3      United-States  <=50K         43  \n",
       "4               Cuba  <=50K         25  \n",
       "...              ...    ...        ...  \n",
       "32556  United-States  <=50K         36  \n",
       "32557  United-States   >50K        173  \n",
       "32558  United-States  <=50K         40  \n",
       "32559  United-States  <=50K         38  \n",
       "32560  United-States   >50K        243  \n",
       "\n",
       "[30162 rows x 13 columns]"
      ],
      "text/html": [
       "<div>\n",
       "<style scoped>\n",
       "    .dataframe tbody tr th:only-of-type {\n",
       "        vertical-align: middle;\n",
       "    }\n",
       "\n",
       "    .dataframe tbody tr th {\n",
       "        vertical-align: top;\n",
       "    }\n",
       "\n",
       "    .dataframe thead th {\n",
       "        text-align: right;\n",
       "    }\n",
       "</style>\n",
       "<table border=\"1\" class=\"dataframe\">\n",
       "  <thead>\n",
       "    <tr style=\"text-align: right;\">\n",
       "      <th></th>\n",
       "      <th>Unnamed: 0</th>\n",
       "      <th>age</th>\n",
       "      <th>workclass</th>\n",
       "      <th>education</th>\n",
       "      <th>marital-status</th>\n",
       "      <th>occupation</th>\n",
       "      <th>relationship</th>\n",
       "      <th>race</th>\n",
       "      <th>sex</th>\n",
       "      <th>hours-per-week</th>\n",
       "      <th>native-country</th>\n",
       "      <th>salary</th>\n",
       "      <th>salary K$</th>\n",
       "    </tr>\n",
       "  </thead>\n",
       "  <tbody>\n",
       "    <tr>\n",
       "      <th>0</th>\n",
       "      <td>0</td>\n",
       "      <td>39</td>\n",
       "      <td>State-gov</td>\n",
       "      <td>Bachelors</td>\n",
       "      <td>Never-married</td>\n",
       "      <td>Adm-clerical</td>\n",
       "      <td>Not-in-family</td>\n",
       "      <td>White</td>\n",
       "      <td>Male</td>\n",
       "      <td>40</td>\n",
       "      <td>United-States</td>\n",
       "      <td>&lt;=50K</td>\n",
       "      <td>39</td>\n",
       "    </tr>\n",
       "    <tr>\n",
       "      <th>1</th>\n",
       "      <td>1</td>\n",
       "      <td>50</td>\n",
       "      <td>Self-emp-not-inc</td>\n",
       "      <td>Bachelors</td>\n",
       "      <td>Married-civ-spouse</td>\n",
       "      <td>Exec-managerial</td>\n",
       "      <td>Husband</td>\n",
       "      <td>White</td>\n",
       "      <td>Male</td>\n",
       "      <td>13</td>\n",
       "      <td>United-States</td>\n",
       "      <td>&lt;=50K</td>\n",
       "      <td>35</td>\n",
       "    </tr>\n",
       "    <tr>\n",
       "      <th>2</th>\n",
       "      <td>2</td>\n",
       "      <td>38</td>\n",
       "      <td>Private</td>\n",
       "      <td>HS-grad</td>\n",
       "      <td>Divorced</td>\n",
       "      <td>Handlers-cleaners</td>\n",
       "      <td>Not-in-family</td>\n",
       "      <td>White</td>\n",
       "      <td>Male</td>\n",
       "      <td>40</td>\n",
       "      <td>United-States</td>\n",
       "      <td>&lt;=50K</td>\n",
       "      <td>27</td>\n",
       "    </tr>\n",
       "    <tr>\n",
       "      <th>3</th>\n",
       "      <td>3</td>\n",
       "      <td>53</td>\n",
       "      <td>Private</td>\n",
       "      <td>11th</td>\n",
       "      <td>Married-civ-spouse</td>\n",
       "      <td>Handlers-cleaners</td>\n",
       "      <td>Husband</td>\n",
       "      <td>Black</td>\n",
       "      <td>Male</td>\n",
       "      <td>40</td>\n",
       "      <td>United-States</td>\n",
       "      <td>&lt;=50K</td>\n",
       "      <td>43</td>\n",
       "    </tr>\n",
       "    <tr>\n",
       "      <th>4</th>\n",
       "      <td>4</td>\n",
       "      <td>28</td>\n",
       "      <td>Private</td>\n",
       "      <td>Bachelors</td>\n",
       "      <td>Married-civ-spouse</td>\n",
       "      <td>Prof-specialty</td>\n",
       "      <td>Wife</td>\n",
       "      <td>Black</td>\n",
       "      <td>Female</td>\n",
       "      <td>40</td>\n",
       "      <td>Cuba</td>\n",
       "      <td>&lt;=50K</td>\n",
       "      <td>25</td>\n",
       "    </tr>\n",
       "    <tr>\n",
       "      <th>...</th>\n",
       "      <td>...</td>\n",
       "      <td>...</td>\n",
       "      <td>...</td>\n",
       "      <td>...</td>\n",
       "      <td>...</td>\n",
       "      <td>...</td>\n",
       "      <td>...</td>\n",
       "      <td>...</td>\n",
       "      <td>...</td>\n",
       "      <td>...</td>\n",
       "      <td>...</td>\n",
       "      <td>...</td>\n",
       "      <td>...</td>\n",
       "    </tr>\n",
       "    <tr>\n",
       "      <th>32556</th>\n",
       "      <td>32556</td>\n",
       "      <td>27</td>\n",
       "      <td>Private</td>\n",
       "      <td>Assoc-acdm</td>\n",
       "      <td>Married-civ-spouse</td>\n",
       "      <td>Tech-support</td>\n",
       "      <td>Wife</td>\n",
       "      <td>White</td>\n",
       "      <td>Female</td>\n",
       "      <td>38</td>\n",
       "      <td>United-States</td>\n",
       "      <td>&lt;=50K</td>\n",
       "      <td>36</td>\n",
       "    </tr>\n",
       "    <tr>\n",
       "      <th>32557</th>\n",
       "      <td>32557</td>\n",
       "      <td>40</td>\n",
       "      <td>Private</td>\n",
       "      <td>HS-grad</td>\n",
       "      <td>Married-civ-spouse</td>\n",
       "      <td>Machine-op-inspct</td>\n",
       "      <td>Husband</td>\n",
       "      <td>White</td>\n",
       "      <td>Male</td>\n",
       "      <td>40</td>\n",
       "      <td>United-States</td>\n",
       "      <td>&gt;50K</td>\n",
       "      <td>173</td>\n",
       "    </tr>\n",
       "    <tr>\n",
       "      <th>32558</th>\n",
       "      <td>32558</td>\n",
       "      <td>58</td>\n",
       "      <td>Private</td>\n",
       "      <td>HS-grad</td>\n",
       "      <td>Widowed</td>\n",
       "      <td>Adm-clerical</td>\n",
       "      <td>Unmarried</td>\n",
       "      <td>White</td>\n",
       "      <td>Female</td>\n",
       "      <td>40</td>\n",
       "      <td>United-States</td>\n",
       "      <td>&lt;=50K</td>\n",
       "      <td>40</td>\n",
       "    </tr>\n",
       "    <tr>\n",
       "      <th>32559</th>\n",
       "      <td>32559</td>\n",
       "      <td>22</td>\n",
       "      <td>Private</td>\n",
       "      <td>HS-grad</td>\n",
       "      <td>Never-married</td>\n",
       "      <td>Adm-clerical</td>\n",
       "      <td>Own-child</td>\n",
       "      <td>White</td>\n",
       "      <td>Male</td>\n",
       "      <td>20</td>\n",
       "      <td>United-States</td>\n",
       "      <td>&lt;=50K</td>\n",
       "      <td>38</td>\n",
       "    </tr>\n",
       "    <tr>\n",
       "      <th>32560</th>\n",
       "      <td>32560</td>\n",
       "      <td>52</td>\n",
       "      <td>Self-emp-inc</td>\n",
       "      <td>HS-grad</td>\n",
       "      <td>Married-civ-spouse</td>\n",
       "      <td>Exec-managerial</td>\n",
       "      <td>Wife</td>\n",
       "      <td>White</td>\n",
       "      <td>Female</td>\n",
       "      <td>40</td>\n",
       "      <td>United-States</td>\n",
       "      <td>&gt;50K</td>\n",
       "      <td>243</td>\n",
       "    </tr>\n",
       "  </tbody>\n",
       "</table>\n",
       "<p>30162 rows × 13 columns</p>\n",
       "</div>"
      ]
     },
     "execution_count": 5,
     "metadata": {},
     "output_type": "execute_result"
    }
   ],
   "execution_count": 5
  },
  {
   "cell_type": "markdown",
   "source": [
    "# Task 1\n",
    "Print the count of men and women in the dataset."
   ],
   "metadata": {
    "collapsed": false,
    "pycharm": {
     "name": "#%% md\n"
    }
   }
  },
  {
   "cell_type": "code",
   "source": "df['sex'].value_counts()",
   "metadata": {
    "collapsed": false,
    "pycharm": {
     "name": "#%%\n"
    },
    "ExecuteTime": {
     "end_time": "2024-09-05T13:12:29.472109Z",
     "start_time": "2024-09-05T13:12:29.462084Z"
    }
   },
   "outputs": [
    {
     "data": {
      "text/plain": [
       "sex\n",
       "Male      20380\n",
       "Female     9782\n",
       "Name: count, dtype: int64"
      ]
     },
     "execution_count": 8,
     "metadata": {},
     "output_type": "execute_result"
    }
   ],
   "execution_count": 8
  },
  {
   "cell_type": "markdown",
   "source": [
    "# Task 2\n",
    "Find the average age of men in dataset"
   ],
   "metadata": {
    "collapsed": false,
    "pycharm": {
     "name": "#%% md\n"
    }
   }
  },
  {
   "cell_type": "code",
   "source": "df[df[\"sex\"] == \"Male\"][\"age\"].mean()",
   "metadata": {
    "collapsed": false,
    "pycharm": {
     "name": "#%%\n"
    },
    "ExecuteTime": {
     "end_time": "2024-09-05T13:13:21.523571Z",
     "start_time": "2024-09-05T13:13:21.506649Z"
    }
   },
   "outputs": [
    {
     "data": {
      "text/plain": [
       "np.float64(39.18400392541707)"
      ]
     },
     "execution_count": 9,
     "metadata": {},
     "output_type": "execute_result"
    }
   ],
   "execution_count": 9
  },
  {
   "cell_type": "markdown",
   "source": [
    "# Task 3\n",
    "Get the percentage of people from Poland (native-country)"
   ],
   "metadata": {
    "collapsed": false,
    "pycharm": {
     "name": "#%% md\n"
    }
   }
  },
  {
   "cell_type": "code",
   "source": [
    "poland_natives_count = df[df[\"native-country\"] == \"Poland\"].shape[0]\n",
    "total_count = df.shape[0]\n",
    "\n",
    "percentage = (poland_natives_count / total_count) * 100"
   ],
   "metadata": {
    "collapsed": false,
    "pycharm": {
     "name": "#%%\n"
    },
    "ExecuteTime": {
     "end_time": "2024-09-05T13:20:08.199407Z",
     "start_time": "2024-09-05T13:20:08.187988Z"
    }
   },
   "outputs": [],
   "execution_count": 16
  },
  {
   "metadata": {
    "ExecuteTime": {
     "end_time": "2024-09-05T13:20:10.046108Z",
     "start_time": "2024-09-05T13:20:10.038124Z"
    }
   },
   "cell_type": "code",
   "source": "percentage",
   "outputs": [
    {
     "data": {
      "text/plain": [
       "0.18566408063125786"
      ]
     },
     "execution_count": 17,
     "metadata": {},
     "output_type": "execute_result"
    }
   ],
   "execution_count": 17
  },
  {
   "cell_type": "markdown",
   "source": [
    "# Task 4\n",
    "Get the mean and standard deviation of the age for people who earn > 50K per year. After this, get it for those who earn <= 50K."
   ],
   "metadata": {
    "collapsed": false,
    "pycharm": {
     "name": "#%% md\n"
    }
   }
  },
  {
   "cell_type": "code",
   "source": [
    "df_salery_gt_50 = df[df[\"salary\"] == \">50K\"]\n",
    "df_salery_ltq_50 = df[df[\"salary\"] == \"<=50K\"]\n",
    "print(\"Mean of ages peoples that earns more than 50K:\", df_salery_gt_50[\"age\"].mean())\n",
    "print(\"Std of ages peoples that earns that earns more than 50K:\", df_salery_gt_50[\"age\"].std())\n",
    "\n",
    "print(\"Mean of ages peoples that earns less then or equal 50K\", df_salery_ltq_50[\"age\"].mean())\n",
    "print(\"Std of ages peoples that earns less then or equal 50K:\", df_salery_ltq_50[\"age\"].std())"
   ],
   "metadata": {
    "collapsed": false,
    "pycharm": {
     "name": "#%%\n"
    },
    "ExecuteTime": {
     "end_time": "2024-09-05T13:45:04.344118Z",
     "start_time": "2024-09-05T13:45:04.324011Z"
    }
   },
   "outputs": [
    {
     "name": "stdout",
     "output_type": "stream",
     "text": [
      "Mean of ages peoples that earns more than 50K: 43.95911028236548\n",
      "Std of ages peoples that earns that earns more than 50K: 10.269632835673852\n",
      "Mean of ages peoples that earns less then or equal 50K 36.60806038668668\n",
      "Std of ages peoples that earns less then or equal 50K: 13.464631257161633\n"
     ]
    }
   ],
   "execution_count": 21
  },
  {
   "cell_type": "markdown",
   "source": [
    "# Task 5\n",
    "Check, if there are some people without higher education (education: Bachelors, Prof-school, Assoc-acdm, Assoc-voc, Masters, Doctorate), but with > 50K salary"
   ],
   "metadata": {
    "collapsed": false,
    "pycharm": {
     "name": "#%% md\n"
    }
   }
  },
  {
   "cell_type": "code",
   "source": [
    "people_without_higher_education = df[~df[\"education\"].isin((\"Bachelors\", \"Prof-school\", \"Assoc-acdm\", \"Assoc-voc\", \"Masters\", \"Doctorate\"))]\n",
    "people_without_higher_education[people_without_higher_education[\"salary\"] == \">50K\"].shape[0]"
   ],
   "metadata": {
    "collapsed": false,
    "pycharm": {
     "name": "#%%\n"
    },
    "ExecuteTime": {
     "end_time": "2024-09-05T13:52:05.367454Z",
     "start_time": "2024-09-05T13:52:05.346768Z"
    }
   },
   "outputs": [
    {
     "data": {
      "text/plain": [
       "3178"
      ]
     },
     "execution_count": 25,
     "metadata": {},
     "output_type": "execute_result"
    }
   ],
   "execution_count": 25
  },
  {
   "cell_type": "markdown",
   "source": [
    "# Task 6\n",
    "Get the statistics of age for each type of education. Use `groupby` and `describe` for this."
   ],
   "metadata": {
    "collapsed": false,
    "pycharm": {
     "name": "#%% md\n"
    }
   }
  },
  {
   "cell_type": "code",
   "source": [
    "tmp = df.groupby(\"education\").describe()\n",
    "tmp.columns = ['_'.join(col).strip() for col in tmp.columns.values]\n",
    "tmp"
   ],
   "metadata": {
    "collapsed": false,
    "pycharm": {
     "name": "#%%\n"
    },
    "ExecuteTime": {
     "end_time": "2024-09-05T14:00:10.380985Z",
     "start_time": "2024-09-05T14:00:10.211921Z"
    }
   },
   "outputs": [
    {
     "data": {
      "text/plain": [
       "              Unnamed: 0_count  Unnamed: 0_mean  Unnamed: 0_std  \\\n",
       "education                                                         \n",
       "10th                     820.0     16099.841463     9323.630350   \n",
       "11th                    1048.0     16230.614504     9435.727749   \n",
       "12th                     377.0     17524.734748     9160.712573   \n",
       "1st-4th                  151.0     17502.503311     9788.829534   \n",
       "5th-6th                  288.0     16845.131944     9273.562959   \n",
       "7th-8th                  557.0     16283.675045     9328.136399   \n",
       "9th                      455.0     16306.367033     9438.104861   \n",
       "Assoc-acdm              1008.0     16667.503968     9503.534369   \n",
       "Assoc-voc               1307.0     16520.351186     9429.290747   \n",
       "Bachelors               5044.0     16187.880452     9355.163922   \n",
       "Doctorate                375.0     16600.130667     9141.070844   \n",
       "HS-grad                 9840.0     16166.445935     9338.758443   \n",
       "Masters                 1627.0     16341.271051     9497.768306   \n",
       "Preschool                 45.0     18268.377778     9824.639913   \n",
       "Prof-school              542.0     16724.850554     9575.872379   \n",
       "Some-college            6678.0     16266.526804     9414.721651   \n",
       "\n",
       "              Unnamed: 0_min  Unnamed: 0_25%  Unnamed: 0_50%  Unnamed: 0_75%  \\\n",
       "education                                                                      \n",
       "10th                   219.0         7860.75         16110.5        24230.75   \n",
       "11th                     3.0         7773.25         16491.5        24275.25   \n",
       "12th                   415.0         9895.00         18630.0        25040.00   \n",
       "1st-4th                416.0         9009.00         17445.0        27132.50   \n",
       "5th-6th                 56.0         9557.75         17173.0        25550.25   \n",
       "7th-8th                 15.0         8014.00         16464.0        24473.00   \n",
       "9th                      6.0         7638.50         16734.0        24516.00   \n",
       "Assoc-acdm              13.0         8176.00         16897.5        24918.25   \n",
       "Assoc-voc               48.0         8453.50         16722.0        24410.50   \n",
       "Bachelors                0.0         8265.75         16108.0        24284.75   \n",
       "Doctorate               20.0         9067.50         16573.0        24299.00   \n",
       "HS-grad                  2.0         8173.75         16058.5        24203.00   \n",
       "Masters                  5.0         8094.00         16134.0        24705.00   \n",
       "Preschool              224.0         8775.00         21388.0        25652.00   \n",
       "Prof-school             52.0         8325.50         17072.0        25123.25   \n",
       "Some-college            10.0         7986.25         16238.5        24486.75   \n",
       "\n",
       "              Unnamed: 0_max  age_count   age_mean  ...  hours-per-week_75%  \\\n",
       "education                                           ...                       \n",
       "10th                 32551.0      820.0  37.897561  ...                40.0   \n",
       "11th                 32522.0     1048.0  32.363550  ...                40.0   \n",
       "12th                 32535.0      377.0  32.013263  ...                40.0   \n",
       "1st-4th              32425.0      151.0  44.622517  ...                40.0   \n",
       "5th-6th              32334.0      288.0  41.649306  ...                40.0   \n",
       "7th-8th              32517.0      557.0  47.631957  ...                40.0   \n",
       "9th                  32501.0      455.0  40.303297  ...                40.0   \n",
       "Assoc-acdm           32556.0     1008.0  37.286706  ...                45.0   \n",
       "Assoc-voc            32552.0     1307.0  38.246366  ...                45.0   \n",
       "Bachelors            32538.0     5044.0  38.641554  ...                50.0   \n",
       "Doctorate            32532.0      375.0  47.130667  ...                55.0   \n",
       "HS-grad              32560.0     9840.0  38.640955  ...                44.0   \n",
       "Masters              32554.0     1627.0  43.740012  ...                50.0   \n",
       "Preschool            32432.0       45.0  41.288889  ...                40.0   \n",
       "Prof-school          32548.0      542.0  44.249077  ...                55.0   \n",
       "Some-college         32555.0     6678.0  36.135370  ...                45.0   \n",
       "\n",
       "              hours-per-week_max  salary K$_count  salary K$_mean  \\\n",
       "education                                                           \n",
       "10th                        99.0            820.0       43.912195   \n",
       "11th                        99.0           1048.0       41.527672   \n",
       "12th                        99.0            377.0       42.761273   \n",
       "1st-4th                     96.0            151.0       37.556291   \n",
       "5th-6th                     75.0            288.0       39.857639   \n",
       "7th-8th                     99.0            557.0       42.095153   \n",
       "9th                         99.0            455.0       43.028571   \n",
       "Assoc-acdm                  99.0           1008.0       75.566468   \n",
       "Assoc-voc                   99.0           1307.0       76.102525   \n",
       "Bachelors                   99.0           5044.0      102.832276   \n",
       "Doctorate                   99.0            375.0      156.080000   \n",
       "HS-grad                     99.0           9840.0       60.345122   \n",
       "Masters                     99.0           1627.0      124.615243   \n",
       "Preschool                   75.0             45.0       32.644444   \n",
       "Prof-school                 99.0            542.0      156.715867   \n",
       "Some-college                99.0           6678.0       65.799341   \n",
       "\n",
       "              salary K$_std  salary K$_min  salary K$_25%  salary K$_50%  \\\n",
       "education                                                                  \n",
       "10th              47.890388           15.0           25.0           33.0   \n",
       "11th              46.846283           15.0           24.0           32.0   \n",
       "12th              47.213033           15.0           24.0           33.0   \n",
       "1st-4th           34.351446           15.0           24.0           31.0   \n",
       "5th-6th           42.081933           15.0           23.0           33.0   \n",
       "7th-8th           47.388376           15.0           24.0           32.0   \n",
       "9th               50.022784           15.0           24.5           33.0   \n",
       "Assoc-acdm        87.291460           15.0           26.0           38.0   \n",
       "Assoc-voc         86.446091           15.0           27.0           39.0   \n",
       "Bachelors        101.376121           15.0           29.0           44.0   \n",
       "Doctorate        100.855374           15.0           48.5          152.0   \n",
       "HS-grad           73.708985           15.0           25.0           35.0   \n",
       "Masters          104.710469           15.0           35.0           83.0   \n",
       "Preschool          9.556425           15.0           23.0           35.0   \n",
       "Prof-school      103.920436           15.0           49.5          147.5   \n",
       "Some-college      78.161186           15.0           26.0           37.0   \n",
       "\n",
       "              salary K$_75%  salary K$_max  \n",
       "education                                   \n",
       "10th                  43.00          347.0  \n",
       "11th                  42.00          345.0  \n",
       "12th                  43.00          349.0  \n",
       "1st-4th               41.50          279.0  \n",
       "5th-6th               43.00          347.0  \n",
       "7th-8th               42.00          347.0  \n",
       "9th                   42.00          349.0  \n",
       "Assoc-acdm            61.25          349.0  \n",
       "Assoc-voc             64.00          349.0  \n",
       "Bachelors            172.00          349.0  \n",
       "Doctorate            237.00          349.0  \n",
       "HS-grad               46.00          349.0  \n",
       "Masters              207.00          349.0  \n",
       "Preschool             39.00           49.0  \n",
       "Prof-school          249.00          346.0  \n",
       "Some-college          47.00          349.0  \n",
       "\n",
       "[16 rows x 32 columns]"
      ],
      "text/html": [
       "<div>\n",
       "<style scoped>\n",
       "    .dataframe tbody tr th:only-of-type {\n",
       "        vertical-align: middle;\n",
       "    }\n",
       "\n",
       "    .dataframe tbody tr th {\n",
       "        vertical-align: top;\n",
       "    }\n",
       "\n",
       "    .dataframe thead th {\n",
       "        text-align: right;\n",
       "    }\n",
       "</style>\n",
       "<table border=\"1\" class=\"dataframe\">\n",
       "  <thead>\n",
       "    <tr style=\"text-align: right;\">\n",
       "      <th></th>\n",
       "      <th>Unnamed: 0_count</th>\n",
       "      <th>Unnamed: 0_mean</th>\n",
       "      <th>Unnamed: 0_std</th>\n",
       "      <th>Unnamed: 0_min</th>\n",
       "      <th>Unnamed: 0_25%</th>\n",
       "      <th>Unnamed: 0_50%</th>\n",
       "      <th>Unnamed: 0_75%</th>\n",
       "      <th>Unnamed: 0_max</th>\n",
       "      <th>age_count</th>\n",
       "      <th>age_mean</th>\n",
       "      <th>...</th>\n",
       "      <th>hours-per-week_75%</th>\n",
       "      <th>hours-per-week_max</th>\n",
       "      <th>salary K$_count</th>\n",
       "      <th>salary K$_mean</th>\n",
       "      <th>salary K$_std</th>\n",
       "      <th>salary K$_min</th>\n",
       "      <th>salary K$_25%</th>\n",
       "      <th>salary K$_50%</th>\n",
       "      <th>salary K$_75%</th>\n",
       "      <th>salary K$_max</th>\n",
       "    </tr>\n",
       "    <tr>\n",
       "      <th>education</th>\n",
       "      <th></th>\n",
       "      <th></th>\n",
       "      <th></th>\n",
       "      <th></th>\n",
       "      <th></th>\n",
       "      <th></th>\n",
       "      <th></th>\n",
       "      <th></th>\n",
       "      <th></th>\n",
       "      <th></th>\n",
       "      <th></th>\n",
       "      <th></th>\n",
       "      <th></th>\n",
       "      <th></th>\n",
       "      <th></th>\n",
       "      <th></th>\n",
       "      <th></th>\n",
       "      <th></th>\n",
       "      <th></th>\n",
       "      <th></th>\n",
       "      <th></th>\n",
       "    </tr>\n",
       "  </thead>\n",
       "  <tbody>\n",
       "    <tr>\n",
       "      <th>10th</th>\n",
       "      <td>820.0</td>\n",
       "      <td>16099.841463</td>\n",
       "      <td>9323.630350</td>\n",
       "      <td>219.0</td>\n",
       "      <td>7860.75</td>\n",
       "      <td>16110.5</td>\n",
       "      <td>24230.75</td>\n",
       "      <td>32551.0</td>\n",
       "      <td>820.0</td>\n",
       "      <td>37.897561</td>\n",
       "      <td>...</td>\n",
       "      <td>40.0</td>\n",
       "      <td>99.0</td>\n",
       "      <td>820.0</td>\n",
       "      <td>43.912195</td>\n",
       "      <td>47.890388</td>\n",
       "      <td>15.0</td>\n",
       "      <td>25.0</td>\n",
       "      <td>33.0</td>\n",
       "      <td>43.00</td>\n",
       "      <td>347.0</td>\n",
       "    </tr>\n",
       "    <tr>\n",
       "      <th>11th</th>\n",
       "      <td>1048.0</td>\n",
       "      <td>16230.614504</td>\n",
       "      <td>9435.727749</td>\n",
       "      <td>3.0</td>\n",
       "      <td>7773.25</td>\n",
       "      <td>16491.5</td>\n",
       "      <td>24275.25</td>\n",
       "      <td>32522.0</td>\n",
       "      <td>1048.0</td>\n",
       "      <td>32.363550</td>\n",
       "      <td>...</td>\n",
       "      <td>40.0</td>\n",
       "      <td>99.0</td>\n",
       "      <td>1048.0</td>\n",
       "      <td>41.527672</td>\n",
       "      <td>46.846283</td>\n",
       "      <td>15.0</td>\n",
       "      <td>24.0</td>\n",
       "      <td>32.0</td>\n",
       "      <td>42.00</td>\n",
       "      <td>345.0</td>\n",
       "    </tr>\n",
       "    <tr>\n",
       "      <th>12th</th>\n",
       "      <td>377.0</td>\n",
       "      <td>17524.734748</td>\n",
       "      <td>9160.712573</td>\n",
       "      <td>415.0</td>\n",
       "      <td>9895.00</td>\n",
       "      <td>18630.0</td>\n",
       "      <td>25040.00</td>\n",
       "      <td>32535.0</td>\n",
       "      <td>377.0</td>\n",
       "      <td>32.013263</td>\n",
       "      <td>...</td>\n",
       "      <td>40.0</td>\n",
       "      <td>99.0</td>\n",
       "      <td>377.0</td>\n",
       "      <td>42.761273</td>\n",
       "      <td>47.213033</td>\n",
       "      <td>15.0</td>\n",
       "      <td>24.0</td>\n",
       "      <td>33.0</td>\n",
       "      <td>43.00</td>\n",
       "      <td>349.0</td>\n",
       "    </tr>\n",
       "    <tr>\n",
       "      <th>1st-4th</th>\n",
       "      <td>151.0</td>\n",
       "      <td>17502.503311</td>\n",
       "      <td>9788.829534</td>\n",
       "      <td>416.0</td>\n",
       "      <td>9009.00</td>\n",
       "      <td>17445.0</td>\n",
       "      <td>27132.50</td>\n",
       "      <td>32425.0</td>\n",
       "      <td>151.0</td>\n",
       "      <td>44.622517</td>\n",
       "      <td>...</td>\n",
       "      <td>40.0</td>\n",
       "      <td>96.0</td>\n",
       "      <td>151.0</td>\n",
       "      <td>37.556291</td>\n",
       "      <td>34.351446</td>\n",
       "      <td>15.0</td>\n",
       "      <td>24.0</td>\n",
       "      <td>31.0</td>\n",
       "      <td>41.50</td>\n",
       "      <td>279.0</td>\n",
       "    </tr>\n",
       "    <tr>\n",
       "      <th>5th-6th</th>\n",
       "      <td>288.0</td>\n",
       "      <td>16845.131944</td>\n",
       "      <td>9273.562959</td>\n",
       "      <td>56.0</td>\n",
       "      <td>9557.75</td>\n",
       "      <td>17173.0</td>\n",
       "      <td>25550.25</td>\n",
       "      <td>32334.0</td>\n",
       "      <td>288.0</td>\n",
       "      <td>41.649306</td>\n",
       "      <td>...</td>\n",
       "      <td>40.0</td>\n",
       "      <td>75.0</td>\n",
       "      <td>288.0</td>\n",
       "      <td>39.857639</td>\n",
       "      <td>42.081933</td>\n",
       "      <td>15.0</td>\n",
       "      <td>23.0</td>\n",
       "      <td>33.0</td>\n",
       "      <td>43.00</td>\n",
       "      <td>347.0</td>\n",
       "    </tr>\n",
       "    <tr>\n",
       "      <th>7th-8th</th>\n",
       "      <td>557.0</td>\n",
       "      <td>16283.675045</td>\n",
       "      <td>9328.136399</td>\n",
       "      <td>15.0</td>\n",
       "      <td>8014.00</td>\n",
       "      <td>16464.0</td>\n",
       "      <td>24473.00</td>\n",
       "      <td>32517.0</td>\n",
       "      <td>557.0</td>\n",
       "      <td>47.631957</td>\n",
       "      <td>...</td>\n",
       "      <td>40.0</td>\n",
       "      <td>99.0</td>\n",
       "      <td>557.0</td>\n",
       "      <td>42.095153</td>\n",
       "      <td>47.388376</td>\n",
       "      <td>15.0</td>\n",
       "      <td>24.0</td>\n",
       "      <td>32.0</td>\n",
       "      <td>42.00</td>\n",
       "      <td>347.0</td>\n",
       "    </tr>\n",
       "    <tr>\n",
       "      <th>9th</th>\n",
       "      <td>455.0</td>\n",
       "      <td>16306.367033</td>\n",
       "      <td>9438.104861</td>\n",
       "      <td>6.0</td>\n",
       "      <td>7638.50</td>\n",
       "      <td>16734.0</td>\n",
       "      <td>24516.00</td>\n",
       "      <td>32501.0</td>\n",
       "      <td>455.0</td>\n",
       "      <td>40.303297</td>\n",
       "      <td>...</td>\n",
       "      <td>40.0</td>\n",
       "      <td>99.0</td>\n",
       "      <td>455.0</td>\n",
       "      <td>43.028571</td>\n",
       "      <td>50.022784</td>\n",
       "      <td>15.0</td>\n",
       "      <td>24.5</td>\n",
       "      <td>33.0</td>\n",
       "      <td>42.00</td>\n",
       "      <td>349.0</td>\n",
       "    </tr>\n",
       "    <tr>\n",
       "      <th>Assoc-acdm</th>\n",
       "      <td>1008.0</td>\n",
       "      <td>16667.503968</td>\n",
       "      <td>9503.534369</td>\n",
       "      <td>13.0</td>\n",
       "      <td>8176.00</td>\n",
       "      <td>16897.5</td>\n",
       "      <td>24918.25</td>\n",
       "      <td>32556.0</td>\n",
       "      <td>1008.0</td>\n",
       "      <td>37.286706</td>\n",
       "      <td>...</td>\n",
       "      <td>45.0</td>\n",
       "      <td>99.0</td>\n",
       "      <td>1008.0</td>\n",
       "      <td>75.566468</td>\n",
       "      <td>87.291460</td>\n",
       "      <td>15.0</td>\n",
       "      <td>26.0</td>\n",
       "      <td>38.0</td>\n",
       "      <td>61.25</td>\n",
       "      <td>349.0</td>\n",
       "    </tr>\n",
       "    <tr>\n",
       "      <th>Assoc-voc</th>\n",
       "      <td>1307.0</td>\n",
       "      <td>16520.351186</td>\n",
       "      <td>9429.290747</td>\n",
       "      <td>48.0</td>\n",
       "      <td>8453.50</td>\n",
       "      <td>16722.0</td>\n",
       "      <td>24410.50</td>\n",
       "      <td>32552.0</td>\n",
       "      <td>1307.0</td>\n",
       "      <td>38.246366</td>\n",
       "      <td>...</td>\n",
       "      <td>45.0</td>\n",
       "      <td>99.0</td>\n",
       "      <td>1307.0</td>\n",
       "      <td>76.102525</td>\n",
       "      <td>86.446091</td>\n",
       "      <td>15.0</td>\n",
       "      <td>27.0</td>\n",
       "      <td>39.0</td>\n",
       "      <td>64.00</td>\n",
       "      <td>349.0</td>\n",
       "    </tr>\n",
       "    <tr>\n",
       "      <th>Bachelors</th>\n",
       "      <td>5044.0</td>\n",
       "      <td>16187.880452</td>\n",
       "      <td>9355.163922</td>\n",
       "      <td>0.0</td>\n",
       "      <td>8265.75</td>\n",
       "      <td>16108.0</td>\n",
       "      <td>24284.75</td>\n",
       "      <td>32538.0</td>\n",
       "      <td>5044.0</td>\n",
       "      <td>38.641554</td>\n",
       "      <td>...</td>\n",
       "      <td>50.0</td>\n",
       "      <td>99.0</td>\n",
       "      <td>5044.0</td>\n",
       "      <td>102.832276</td>\n",
       "      <td>101.376121</td>\n",
       "      <td>15.0</td>\n",
       "      <td>29.0</td>\n",
       "      <td>44.0</td>\n",
       "      <td>172.00</td>\n",
       "      <td>349.0</td>\n",
       "    </tr>\n",
       "    <tr>\n",
       "      <th>Doctorate</th>\n",
       "      <td>375.0</td>\n",
       "      <td>16600.130667</td>\n",
       "      <td>9141.070844</td>\n",
       "      <td>20.0</td>\n",
       "      <td>9067.50</td>\n",
       "      <td>16573.0</td>\n",
       "      <td>24299.00</td>\n",
       "      <td>32532.0</td>\n",
       "      <td>375.0</td>\n",
       "      <td>47.130667</td>\n",
       "      <td>...</td>\n",
       "      <td>55.0</td>\n",
       "      <td>99.0</td>\n",
       "      <td>375.0</td>\n",
       "      <td>156.080000</td>\n",
       "      <td>100.855374</td>\n",
       "      <td>15.0</td>\n",
       "      <td>48.5</td>\n",
       "      <td>152.0</td>\n",
       "      <td>237.00</td>\n",
       "      <td>349.0</td>\n",
       "    </tr>\n",
       "    <tr>\n",
       "      <th>HS-grad</th>\n",
       "      <td>9840.0</td>\n",
       "      <td>16166.445935</td>\n",
       "      <td>9338.758443</td>\n",
       "      <td>2.0</td>\n",
       "      <td>8173.75</td>\n",
       "      <td>16058.5</td>\n",
       "      <td>24203.00</td>\n",
       "      <td>32560.0</td>\n",
       "      <td>9840.0</td>\n",
       "      <td>38.640955</td>\n",
       "      <td>...</td>\n",
       "      <td>44.0</td>\n",
       "      <td>99.0</td>\n",
       "      <td>9840.0</td>\n",
       "      <td>60.345122</td>\n",
       "      <td>73.708985</td>\n",
       "      <td>15.0</td>\n",
       "      <td>25.0</td>\n",
       "      <td>35.0</td>\n",
       "      <td>46.00</td>\n",
       "      <td>349.0</td>\n",
       "    </tr>\n",
       "    <tr>\n",
       "      <th>Masters</th>\n",
       "      <td>1627.0</td>\n",
       "      <td>16341.271051</td>\n",
       "      <td>9497.768306</td>\n",
       "      <td>5.0</td>\n",
       "      <td>8094.00</td>\n",
       "      <td>16134.0</td>\n",
       "      <td>24705.00</td>\n",
       "      <td>32554.0</td>\n",
       "      <td>1627.0</td>\n",
       "      <td>43.740012</td>\n",
       "      <td>...</td>\n",
       "      <td>50.0</td>\n",
       "      <td>99.0</td>\n",
       "      <td>1627.0</td>\n",
       "      <td>124.615243</td>\n",
       "      <td>104.710469</td>\n",
       "      <td>15.0</td>\n",
       "      <td>35.0</td>\n",
       "      <td>83.0</td>\n",
       "      <td>207.00</td>\n",
       "      <td>349.0</td>\n",
       "    </tr>\n",
       "    <tr>\n",
       "      <th>Preschool</th>\n",
       "      <td>45.0</td>\n",
       "      <td>18268.377778</td>\n",
       "      <td>9824.639913</td>\n",
       "      <td>224.0</td>\n",
       "      <td>8775.00</td>\n",
       "      <td>21388.0</td>\n",
       "      <td>25652.00</td>\n",
       "      <td>32432.0</td>\n",
       "      <td>45.0</td>\n",
       "      <td>41.288889</td>\n",
       "      <td>...</td>\n",
       "      <td>40.0</td>\n",
       "      <td>75.0</td>\n",
       "      <td>45.0</td>\n",
       "      <td>32.644444</td>\n",
       "      <td>9.556425</td>\n",
       "      <td>15.0</td>\n",
       "      <td>23.0</td>\n",
       "      <td>35.0</td>\n",
       "      <td>39.00</td>\n",
       "      <td>49.0</td>\n",
       "    </tr>\n",
       "    <tr>\n",
       "      <th>Prof-school</th>\n",
       "      <td>542.0</td>\n",
       "      <td>16724.850554</td>\n",
       "      <td>9575.872379</td>\n",
       "      <td>52.0</td>\n",
       "      <td>8325.50</td>\n",
       "      <td>17072.0</td>\n",
       "      <td>25123.25</td>\n",
       "      <td>32548.0</td>\n",
       "      <td>542.0</td>\n",
       "      <td>44.249077</td>\n",
       "      <td>...</td>\n",
       "      <td>55.0</td>\n",
       "      <td>99.0</td>\n",
       "      <td>542.0</td>\n",
       "      <td>156.715867</td>\n",
       "      <td>103.920436</td>\n",
       "      <td>15.0</td>\n",
       "      <td>49.5</td>\n",
       "      <td>147.5</td>\n",
       "      <td>249.00</td>\n",
       "      <td>346.0</td>\n",
       "    </tr>\n",
       "    <tr>\n",
       "      <th>Some-college</th>\n",
       "      <td>6678.0</td>\n",
       "      <td>16266.526804</td>\n",
       "      <td>9414.721651</td>\n",
       "      <td>10.0</td>\n",
       "      <td>7986.25</td>\n",
       "      <td>16238.5</td>\n",
       "      <td>24486.75</td>\n",
       "      <td>32555.0</td>\n",
       "      <td>6678.0</td>\n",
       "      <td>36.135370</td>\n",
       "      <td>...</td>\n",
       "      <td>45.0</td>\n",
       "      <td>99.0</td>\n",
       "      <td>6678.0</td>\n",
       "      <td>65.799341</td>\n",
       "      <td>78.161186</td>\n",
       "      <td>15.0</td>\n",
       "      <td>26.0</td>\n",
       "      <td>37.0</td>\n",
       "      <td>47.00</td>\n",
       "      <td>349.0</td>\n",
       "    </tr>\n",
       "  </tbody>\n",
       "</table>\n",
       "<p>16 rows × 32 columns</p>\n",
       "</div>"
      ]
     },
     "execution_count": 35,
     "metadata": {},
     "output_type": "execute_result"
    }
   ],
   "execution_count": 35
  },
  {
   "cell_type": "markdown",
   "source": [
    "# Task 7\n",
    "Compare the married and non-married men salaries. Who earns more? (>50K or <=50K)\n",
    "Married men are those, whom `marital-status` starts with \"Married\". Others are not."
   ],
   "metadata": {
    "collapsed": false,
    "pycharm": {
     "name": "#%% md\n"
    }
   }
  },
  {
   "cell_type": "code",
   "source": [
    "print(\"Married avg salary: \", df[((df[\"marital-status\"].str.startswith(\"Married\")) & (df[\"sex\"] == \"Male\"))][\"salary K$\"].mean())\n",
    "print(\"Not married avg salary: \", df[((~df[\"marital-status\"].str.startswith(\"Married\")) & (df[\"sex\"] == \"Male\"))][\"salary K$\"].mean())"
   ],
   "metadata": {
    "collapsed": false,
    "pycharm": {
     "name": "#%%\n"
    },
    "ExecuteTime": {
     "end_time": "2024-09-05T14:12:27.463833Z",
     "start_time": "2024-09-05T14:12:27.434047Z"
    }
   },
   "outputs": [
    {
     "name": "stdout",
     "output_type": "stream",
     "text": [
      "Married avg salary:  107.49455968688845\n",
      "Not married avg salary:  46.59723865877712\n"
     ]
    }
   ],
   "execution_count": 49
  },
  {
   "metadata": {},
   "cell_type": "markdown",
   "source": ""
  },
  {
   "cell_type": "markdown",
   "source": [
    "# Task 8\n",
    "Get the max hours per week some person works. How many people works the same amount of hours per week?"
   ],
   "metadata": {
    "collapsed": false,
    "pycharm": {
     "name": "#%% md\n"
    }
   }
  },
  {
   "cell_type": "code",
   "source": [
    "max_hours_per_week = df[\"hours-per-week\"].max()\n",
    "df[df[\"hours-per-week\"] == max_hours_per_week].shape[0]"
   ],
   "metadata": {
    "collapsed": false,
    "pycharm": {
     "name": "#%%\n"
    },
    "ExecuteTime": {
     "end_time": "2024-09-05T14:16:25.272590Z",
     "start_time": "2024-09-05T14:16:25.265070Z"
    }
   },
   "outputs": [
    {
     "data": {
      "text/plain": [
       "78"
      ]
     },
     "execution_count": 52,
     "metadata": {},
     "output_type": "execute_result"
    }
   ],
   "execution_count": 52
  },
  {
   "cell_type": "markdown",
   "source": [
    "# Task 9\n",
    "Analyze the correlation between data in dataset. Understand connected fields in it and print highlight thier connection."
   ],
   "metadata": {
    "collapsed": false,
    "pycharm": {
     "name": "#%% md\n"
    }
   }
  },
  {
   "cell_type": "code",
   "source": [
    "numeric_df = df.select_dtypes(include=['float64', 'int64']).drop(df.columns[0], axis=1)\n",
    "numeric_df[\"sex\"] = df[\"sex\"].map({\"Male\":1, \"Female\":0})\n",
    "plt.figure(figsize=(10, 8))\n",
    "sns.heatmap(numeric_df.corr(), annot=True, cmap='coolwarm', fmt='.2f', linewidths=0.5)\n",
    "plt.title('Correlation Matrix')\n",
    "plt.show()"
   ],
   "metadata": {
    "collapsed": false,
    "pycharm": {
     "name": "#%%\n"
    },
    "ExecuteTime": {
     "end_time": "2024-09-05T14:32:41.407912Z",
     "start_time": "2024-09-05T14:32:40.859166Z"
    }
   },
   "outputs": [
    {
     "data": {
      "text/plain": [
       "<Figure size 1000x800 with 2 Axes>"
      ],
      "image/png": "[encoded data removed]"
     },
     "metadata": {},
     "output_type": "display_data"
    }
   ],
   "execution_count": 5
  },
  {
   "metadata": {},
   "cell_type": "code",
   "outputs": [],
   "execution_count": null,
   "source": ""
  }
 ],
 "metadata": {
  "kernelspec": {
   "display_name": "Python 3",
   "language": "python",
   "name": "python3"
  },
  "language_info": {
   "codemirror_mode": {
    "name": "ipython",
    "version": 2
   },
   "file_extension": ".py",
   "mimetype": "text/x-python",
   "name": "python",
   "nbconvert_exporter": "python",
   "pygments_lexer": "ipython2",
   "version": "2.7.6"
  }
 },
 "nbformat": 4,
 "nbformat_minor": 0
}
