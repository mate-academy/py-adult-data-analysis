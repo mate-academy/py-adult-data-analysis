{
 "cells": [
  {
   "cell_type": "code",
   "execution_count": 7,
   "outputs": [],
   "source": [
    "import numpy as np\n",
    "import pandas as pd"
   ],
   "metadata": {
    "collapsed": false,
    "pycharm": {
     "name": "#%%\n"
    },
    "ExecuteTime": {
     "end_time": "2023-11-29T14:48:36.388792Z",
     "start_time": "2023-11-29T14:48:36.383006Z"
    }
   }
  },
  {
   "cell_type": "markdown",
   "source": [
    "# Task 0\n",
    "Read the dataset from csv file & perform data cleaning - remove all rows, which contains `?` in some columns.\n",
    "Also check for data correctness (salary & salary $K)."
   ],
   "metadata": {
    "collapsed": false,
    "pycharm": {
     "name": "#%% md\n"
    }
   }
  },
  {
   "cell_type": "code",
   "execution_count": 88,
   "outputs": [
    {
     "data": {
      "text/plain": "Empty DataFrame\nColumns: [age, workclass, education, marital-status, occupation, relationship, race, sex, hours-per-week, native-country, salary, salary K$]\nIndex: []",
      "text/html": "<div>\n<style scoped>\n    .dataframe tbody tr th:only-of-type {\n        vertical-align: middle;\n    }\n\n    .dataframe tbody tr th {\n        vertical-align: top;\n    }\n\n    .dataframe thead th {\n        text-align: right;\n    }\n</style>\n<table border=\"1\" class=\"dataframe\">\n  <thead>\n    <tr style=\"text-align: right;\">\n      <th></th>\n      <th>age</th>\n      <th>workclass</th>\n      <th>education</th>\n      <th>marital-status</th>\n      <th>occupation</th>\n      <th>relationship</th>\n      <th>race</th>\n      <th>sex</th>\n      <th>hours-per-week</th>\n      <th>native-country</th>\n      <th>salary</th>\n      <th>salary K$</th>\n    </tr>\n  </thead>\n  <tbody>\n  </tbody>\n</table>\n</div>"
     },
     "execution_count": 88,
     "metadata": {},
     "output_type": "execute_result"
    }
   ],
   "source": [
    "people = pd.read_csv(\"/Users/admin/projects/py-adult-data-analysis/data/adult.csv\", index_col=0)\n",
    "people = people.replace('?', np.nan)\n",
    "people[\"salary\"].unique()\n",
    "\n",
    "people[(people[\"salary K$\"] <= 50) != (people[\"salary\"].astype(str) == \"<=50K\")] | people[(people[\"salary K$\"] > 50) != (people[\"salary\"].astype(str) == \">50K\")]\n"
   ],
   "metadata": {
    "collapsed": false,
    "pycharm": {
     "name": "#%%\n"
    },
    "ExecuteTime": {
     "end_time": "2023-11-29T15:46:03.827500Z",
     "start_time": "2023-11-29T15:46:03.751172Z"
    }
   }
  },
  {
   "cell_type": "markdown",
   "source": [
    "# Task 1\n",
    "Print the count of men and women in the dataset."
   ],
   "metadata": {
    "collapsed": false,
    "pycharm": {
     "name": "#%% md\n"
    }
   }
  },
  {
   "cell_type": "code",
   "execution_count": 112,
   "outputs": [
    {
     "name": "stdout",
     "output_type": "stream",
     "text": [
      "10771\n",
      "21790\n",
      "32561\n"
     ]
    }
   ],
   "source": [
    "print(len(people[(people[\"sex\"] == \"Female\")]))\n",
    "print(len(people[(people[\"sex\"] == \"Male\")]))"
   ],
   "metadata": {
    "collapsed": false,
    "pycharm": {
     "name": "#%%\n"
    },
    "ExecuteTime": {
     "end_time": "2023-11-29T15:57:04.413276Z",
     "start_time": "2023-11-29T15:57:04.394930Z"
    }
   }
  },
  {
   "cell_type": "markdown",
   "source": [
    "# Task 2\n",
    "Find the average age of men in dataset"
   ],
   "metadata": {
    "collapsed": false,
    "pycharm": {
     "name": "#%% md\n"
    }
   }
  },
  {
   "cell_type": "code",
   "execution_count": 113,
   "outputs": [
    {
     "data": {
      "text/plain": "39.43354749885268"
     },
     "execution_count": 113,
     "metadata": {},
     "output_type": "execute_result"
    }
   ],
   "source": [
    "males = people[(people[\"sex\"] == \"Male\")]\n",
    "males[\"age\"].mean()"
   ],
   "metadata": {
    "collapsed": false,
    "pycharm": {
     "name": "#%%\n"
    },
    "ExecuteTime": {
     "end_time": "2023-11-29T15:58:48.277567Z",
     "start_time": "2023-11-29T15:58:48.256898Z"
    }
   }
  },
  {
   "cell_type": "markdown",
   "source": [
    "# Task 3\n",
    "Get the percentage of people from Poland (native-country)"
   ],
   "metadata": {
    "collapsed": false,
    "pycharm": {
     "name": "#%% md\n"
    }
   }
  },
  {
   "cell_type": "code",
   "execution_count": 128,
   "outputs": [
    {
     "data": {
      "text/plain": "0.18426952489174164"
     },
     "execution_count": 128,
     "metadata": {},
     "output_type": "execute_result"
    }
   ],
   "source": [
    "people_from_poland = (len(people[(people[\"native-country\"] == \"Poland\")]) / len(people)) * 100\n",
    "people_from_poland"
   ],
   "metadata": {
    "collapsed": false,
    "pycharm": {
     "name": "#%%\n"
    },
    "ExecuteTime": {
     "end_time": "2023-11-29T19:39:00.350264Z",
     "start_time": "2023-11-29T19:39:00.329085Z"
    }
   }
  },
  {
   "cell_type": "markdown",
   "source": [
    "# Task 4\n",
    "Get the mean and standard deviation of the age for people who earn > 50K per year. After this, get it for those who earn <= 50K."
   ],
   "metadata": {
    "collapsed": false,
    "pycharm": {
     "name": "#%% md\n"
    }
   }
  },
  {
   "cell_type": "code",
   "execution_count": 135,
   "outputs": [
    {
     "name": "stdout",
     "output_type": "stream",
     "text": [
      "200.8375207243974\n",
      "87.08541652071891\n",
      "32.02228964401294\n",
      "10.127874341787786\n"
     ]
    }
   ],
   "source": [
    "print(people[(people[\"salary K$\"] > 50)][\"salary K$\"].mean())\n",
    "print(people[(people[\"salary K$\"] > 50)][\"salary K$\"].std())\n",
    "\n",
    "print(people[(people[\"salary K$\"] <= 50)][\"salary K$\"].mean())\n",
    "print(people[(people[\"salary K$\"] <= 50)][\"salary K$\"].std())"
   ],
   "metadata": {
    "collapsed": false,
    "pycharm": {
     "name": "#%%\n"
    },
    "ExecuteTime": {
     "end_time": "2023-11-29T19:42:26.285809Z",
     "start_time": "2023-11-29T19:42:26.216826Z"
    }
   }
  },
  {
   "cell_type": "markdown",
   "source": [
    "# Task 5\n",
    "Check, if there are some people without higher education (education: Bachelors, Prof-school, Assoc-acdm, Assoc-voc, Masters, Doctorate), but with > 50K salary"
   ],
   "metadata": {
    "collapsed": false,
    "pycharm": {
     "name": "#%% md\n"
    }
   }
  },
  {
   "cell_type": "code",
   "execution_count": 156,
   "outputs": [
    {
     "name": "stdout",
     "output_type": "stream",
     "text": [
      "3306\n"
     ]
    }
   ],
   "source": [
    "count = (people[~(people[\"education\"].isin([\"Bachelors\", \"Prof-school\", \"Assoc-acdm\", \"Assoc-voc\", \"Masters\", \"Doctorate\"]))][\"salary K$\"] > 50).sum()\n",
    "print(count)"
   ],
   "metadata": {
    "collapsed": false,
    "pycharm": {
     "name": "#%%\n"
    },
    "ExecuteTime": {
     "end_time": "2023-11-29T20:00:36.009855Z",
     "start_time": "2023-11-29T20:00:35.980696Z"
    }
   }
  },
  {
   "cell_type": "markdown",
   "source": [
    "# Task 6\n",
    "Get the statistics of age for each type of education. Use `groupby` and `describe` for this."
   ],
   "metadata": {
    "collapsed": false,
    "pycharm": {
     "name": "#%% md\n"
    }
   }
  },
  {
   "cell_type": "code",
   "execution_count": 163,
   "outputs": [
    {
     "data": {
      "text/plain": "                count       mean        std   min    25%   50%   75%   max\neducation                                                                 \n10th            933.0  37.429796  16.720713  17.0  22.00  34.0  52.0  90.0\n11th           1175.0  32.355745  15.545485  17.0  18.00  28.0  43.0  90.0\n12th            433.0  32.000000  14.334625  17.0  19.00  28.0  41.0  79.0\n1st-4th         168.0  46.142857  15.615625  19.0  33.00  46.0  57.0  90.0\n5th-6th         333.0  42.885886  15.557285  17.0  29.00  42.0  54.0  84.0\n7th-8th         646.0  48.445820  16.092350  17.0  34.25  50.0  61.0  90.0\n9th             514.0  41.060311  15.946862  17.0  28.00  39.0  54.0  90.0\nAssoc-acdm     1067.0  37.381443  11.095177  19.0  29.00  36.0  44.0  90.0\nAssoc-voc      1382.0  38.553546  11.631300  19.0  30.00  37.0  46.0  84.0\nBachelors      5355.0  38.904949  11.912210  19.0  29.00  37.0  46.0  90.0\nDoctorate       413.0  47.702179  11.784716  24.0  39.00  47.0  55.0  80.0\nHS-grad       10501.0  38.974479  13.541524  17.0  28.00  37.0  48.0  90.0\nMasters        1723.0  44.049913  11.068935  18.0  36.00  43.0  51.0  90.0\nPreschool        51.0  42.764706  15.126914  19.0  31.00  41.0  53.5  75.0\nProf-school     576.0  44.746528  11.962477  25.0  36.00  43.0  51.0  90.0\nSome-college   7291.0  35.756275  13.474051  17.0  24.00  34.0  45.0  90.0",
      "text/html": "<div>\n<style scoped>\n    .dataframe tbody tr th:only-of-type {\n        vertical-align: middle;\n    }\n\n    .dataframe tbody tr th {\n        vertical-align: top;\n    }\n\n    .dataframe thead th {\n        text-align: right;\n    }\n</style>\n<table border=\"1\" class=\"dataframe\">\n  <thead>\n    <tr style=\"text-align: right;\">\n      <th></th>\n      <th>count</th>\n      <th>mean</th>\n      <th>std</th>\n      <th>min</th>\n      <th>25%</th>\n      <th>50%</th>\n      <th>75%</th>\n      <th>max</th>\n    </tr>\n    <tr>\n      <th>education</th>\n      <th></th>\n      <th></th>\n      <th></th>\n      <th></th>\n      <th></th>\n      <th></th>\n      <th></th>\n      <th></th>\n    </tr>\n  </thead>\n  <tbody>\n    <tr>\n      <th>10th</th>\n      <td>933.0</td>\n      <td>37.429796</td>\n      <td>16.720713</td>\n      <td>17.0</td>\n      <td>22.00</td>\n      <td>34.0</td>\n      <td>52.0</td>\n      <td>90.0</td>\n    </tr>\n    <tr>\n      <th>11th</th>\n      <td>1175.0</td>\n      <td>32.355745</td>\n      <td>15.545485</td>\n      <td>17.0</td>\n      <td>18.00</td>\n      <td>28.0</td>\n      <td>43.0</td>\n      <td>90.0</td>\n    </tr>\n    <tr>\n      <th>12th</th>\n      <td>433.0</td>\n      <td>32.000000</td>\n      <td>14.334625</td>\n      <td>17.0</td>\n      <td>19.00</td>\n      <td>28.0</td>\n      <td>41.0</td>\n      <td>79.0</td>\n    </tr>\n    <tr>\n      <th>1st-4th</th>\n      <td>168.0</td>\n      <td>46.142857</td>\n      <td>15.615625</td>\n      <td>19.0</td>\n      <td>33.00</td>\n      <td>46.0</td>\n      <td>57.0</td>\n      <td>90.0</td>\n    </tr>\n    <tr>\n      <th>5th-6th</th>\n      <td>333.0</td>\n      <td>42.885886</td>\n      <td>15.557285</td>\n      <td>17.0</td>\n      <td>29.00</td>\n      <td>42.0</td>\n      <td>54.0</td>\n      <td>84.0</td>\n    </tr>\n    <tr>\n      <th>7th-8th</th>\n      <td>646.0</td>\n      <td>48.445820</td>\n      <td>16.092350</td>\n      <td>17.0</td>\n      <td>34.25</td>\n      <td>50.0</td>\n      <td>61.0</td>\n      <td>90.0</td>\n    </tr>\n    <tr>\n      <th>9th</th>\n      <td>514.0</td>\n      <td>41.060311</td>\n      <td>15.946862</td>\n      <td>17.0</td>\n      <td>28.00</td>\n      <td>39.0</td>\n      <td>54.0</td>\n      <td>90.0</td>\n    </tr>\n    <tr>\n      <th>Assoc-acdm</th>\n      <td>1067.0</td>\n      <td>37.381443</td>\n      <td>11.095177</td>\n      <td>19.0</td>\n      <td>29.00</td>\n      <td>36.0</td>\n      <td>44.0</td>\n      <td>90.0</td>\n    </tr>\n    <tr>\n      <th>Assoc-voc</th>\n      <td>1382.0</td>\n      <td>38.553546</td>\n      <td>11.631300</td>\n      <td>19.0</td>\n      <td>30.00</td>\n      <td>37.0</td>\n      <td>46.0</td>\n      <td>84.0</td>\n    </tr>\n    <tr>\n      <th>Bachelors</th>\n      <td>5355.0</td>\n      <td>38.904949</td>\n      <td>11.912210</td>\n      <td>19.0</td>\n      <td>29.00</td>\n      <td>37.0</td>\n      <td>46.0</td>\n      <td>90.0</td>\n    </tr>\n    <tr>\n      <th>Doctorate</th>\n      <td>413.0</td>\n      <td>47.702179</td>\n      <td>11.784716</td>\n      <td>24.0</td>\n      <td>39.00</td>\n      <td>47.0</td>\n      <td>55.0</td>\n      <td>80.0</td>\n    </tr>\n    <tr>\n      <th>HS-grad</th>\n      <td>10501.0</td>\n      <td>38.974479</td>\n      <td>13.541524</td>\n      <td>17.0</td>\n      <td>28.00</td>\n      <td>37.0</td>\n      <td>48.0</td>\n      <td>90.0</td>\n    </tr>\n    <tr>\n      <th>Masters</th>\n      <td>1723.0</td>\n      <td>44.049913</td>\n      <td>11.068935</td>\n      <td>18.0</td>\n      <td>36.00</td>\n      <td>43.0</td>\n      <td>51.0</td>\n      <td>90.0</td>\n    </tr>\n    <tr>\n      <th>Preschool</th>\n      <td>51.0</td>\n      <td>42.764706</td>\n      <td>15.126914</td>\n      <td>19.0</td>\n      <td>31.00</td>\n      <td>41.0</td>\n      <td>53.5</td>\n      <td>75.0</td>\n    </tr>\n    <tr>\n      <th>Prof-school</th>\n      <td>576.0</td>\n      <td>44.746528</td>\n      <td>11.962477</td>\n      <td>25.0</td>\n      <td>36.00</td>\n      <td>43.0</td>\n      <td>51.0</td>\n      <td>90.0</td>\n    </tr>\n    <tr>\n      <th>Some-college</th>\n      <td>7291.0</td>\n      <td>35.756275</td>\n      <td>13.474051</td>\n      <td>17.0</td>\n      <td>24.00</td>\n      <td>34.0</td>\n      <td>45.0</td>\n      <td>90.0</td>\n    </tr>\n  </tbody>\n</table>\n</div>"
     },
     "execution_count": 163,
     "metadata": {},
     "output_type": "execute_result"
    }
   ],
   "source": [
    "people.groupby(\"education\")[\"age\"].describe()"
   ],
   "metadata": {
    "collapsed": false,
    "pycharm": {
     "name": "#%%\n"
    },
    "ExecuteTime": {
     "end_time": "2023-11-29T20:09:58.610364Z",
     "start_time": "2023-11-29T20:09:58.494686Z"
    }
   }
  },
  {
   "cell_type": "markdown",
   "source": [
    "# Task 7\n",
    "Compare the married and non-married men salaries. Who earns more? (>50K or <=50K)\n",
    "Married men are those, whom `marital-status` starts with \"Married\". Others are not."
   ],
   "metadata": {
    "collapsed": false,
    "pycharm": {
     "name": "#%% md\n"
    }
   }
  },
  {
   "cell_type": "code",
   "execution_count": 172,
   "outputs": [
    {
     "data": {
      "text/plain": "True"
     },
     "execution_count": 172,
     "metadata": {},
     "output_type": "execute_result"
    }
   ],
   "source": [
    "married = (people[(people[\"marital-status\"].str.startswith(\"Married\"))][\"salary K$\"] > 50).sum()\n",
    "not_married = (people[~(people[\"marital-status\"].str.startswith(\"Married\"))][\"salary K$\"] > 50).sum()\n",
    "married > not_married"
   ],
   "metadata": {
    "collapsed": false,
    "pycharm": {
     "name": "#%%\n"
    },
    "ExecuteTime": {
     "end_time": "2023-11-29T20:17:01.000362Z",
     "start_time": "2023-11-29T20:17:00.965849Z"
    }
   }
  },
  {
   "cell_type": "markdown",
   "source": [
    "# Task 8\n",
    "Get the max hours per week some person works. How many people works the same amount of hours per week?"
   ],
   "metadata": {
    "collapsed": false,
    "pycharm": {
     "name": "#%% md\n"
    }
   }
  },
  {
   "cell_type": "code",
   "execution_count": 175,
   "outputs": [
    {
     "name": "stdout",
     "output_type": "stream",
     "text": [
      "99\n",
      "85\n"
     ]
    }
   ],
   "source": [
    "max_hours_per_week = people[\"hours-per-week\"].max()\n",
    "count_people_max_hours = people[people[\"hours-per-week\"] == max_hours_per_week].shape[0]\n",
    "print(max_hours_per_week)\n",
    "print(count_people_max_hours)"
   ],
   "metadata": {
    "collapsed": false,
    "pycharm": {
     "name": "#%%\n"
    },
    "ExecuteTime": {
     "end_time": "2023-11-29T20:20:53.090914Z",
     "start_time": "2023-11-29T20:20:53.057282Z"
    }
   }
  },
  {
   "cell_type": "markdown",
   "source": [
    "# Task 9\n",
    "Analyze the correlation between data in dataset. Understand connected fields in it and print highlight thier connection."
   ],
   "metadata": {
    "collapsed": false,
    "pycharm": {
     "name": "#%% md\n"
    }
   }
  },
  {
   "cell_type": "code",
   "execution_count": 189,
   "outputs": [
    {
     "name": "stdout",
     "output_type": "stream",
     "text": [
      "age is highly correlated with: salary K$\n",
      "hours-per-week is highly correlated with: salary K$\n",
      "salary K$ is highly correlated with: age, hours-per-week\n"
     ]
    }
   ],
   "source": [
    "columns = people.select_dtypes(include=['float64', 'int64'])\n",
    "matrix = columns.corr()\n",
    "threshold = 0.1 \n",
    "\n",
    "pairs = (matrix.abs() > threshold) & (matrix < 1)\n",
    "\n",
    "for col in matrix.columns:\n",
    "    correlated_cols = pairs[col][pairs[col]].index\n",
    "    if len(correlated_cols) > 0:\n",
    "        print(f\"{col} is highly correlated with: {', '.join(correlated_cols)}\")\n"
   ],
   "metadata": {
    "collapsed": false,
    "pycharm": {
     "name": "#%%\n"
    },
    "ExecuteTime": {
     "end_time": "2023-11-29T20:27:42.541604Z",
     "start_time": "2023-11-29T20:27:42.530232Z"
    }
   }
  },
  {
   "cell_type": "code",
   "execution_count": null,
   "outputs": [],
   "source": [],
   "metadata": {
    "collapsed": false
   }
  }
 ],
 "metadata": {
  "kernelspec": {
   "display_name": "Python 3",
   "language": "python",
   "name": "python3"
  },
  "language_info": {
   "codemirror_mode": {
    "name": "ipython",
    "version": 2
   },
   "file_extension": ".py",
   "mimetype": "text/x-python",
   "name": "python",
   "nbconvert_exporter": "python",
   "pygments_lexer": "ipython2",
   "version": "2.7.6"
  }
 },
 "nbformat": 4,
 "nbformat_minor": 0
}
