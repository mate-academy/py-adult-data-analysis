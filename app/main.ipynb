{
 "cells": [
  {
   "cell_type": "code",
   "source": [
    "import numpy as np\n",
    "import pandas as pd"
   ],
   "metadata": {
    "collapsed": false,
    "pycharm": {
     "name": "#%%\n"
    },
    "ExecuteTime": {
     "end_time": "2024-11-13T06:39:34.728882Z",
     "start_time": "2024-11-13T06:39:34.724884Z"
    }
   },
   "outputs": [],
   "execution_count": 36
  },
  {
   "cell_type": "markdown",
   "source": [
    "# Task 0\n",
    "Read the dataset from csv file & perform data cleaning - remove all rows, which contains `?` in some columns.\n",
    "Also check for data correctness (salary & salary $K)."
   ],
   "metadata": {
    "collapsed": false,
    "pycharm": {
     "name": "#%% md\n"
    }
   }
  },
  {
   "cell_type": "code",
   "source": [
    "df = pd.read_csv(\"D:/Study/git-repos/py-adult-data-analysis/data/adult.csv\")\n",
    "\n",
    "df_cleaned = df.replace(\"?\", np.nan).dropna()\n",
    "\n",
    "df_cleaned[\"salary\"] = df_cleaned[\"salary\"].astype(\"category\")\n",
    "df_cleaned[\"salary K$\"] = pd.to_numeric(df_cleaned[\"salary K$\"], errors=\"coerce\")\n",
    "\n",
    "df_cleaned = df_cleaned.dropna(subset=[\"salary K$\"])"
   ],
   "metadata": {
    "collapsed": false,
    "pycharm": {
     "name": "#%%\n"
    },
    "ExecuteTime": {
     "end_time": "2024-11-13T06:39:36.221402Z",
     "start_time": "2024-11-13T06:39:36.140879Z"
    }
   },
   "outputs": [],
   "execution_count": 37
  },
  {
   "cell_type": "markdown",
   "source": [
    "# Task 1\n",
    "Print the count of men and women in the dataset."
   ],
   "metadata": {
    "collapsed": false,
    "pycharm": {
     "name": "#%% md\n"
    }
   }
  },
  {
   "metadata": {
    "ExecuteTime": {
     "end_time": "2024-11-13T06:39:39.753895Z",
     "start_time": "2024-11-13T06:39:39.745995Z"
    }
   },
   "cell_type": "code",
   "source": [
    "gender_count = df_cleaned[\"sex\"].value_counts()\n",
    "print(gender_count)"
   ],
   "outputs": [
    {
     "name": "stdout",
     "output_type": "stream",
     "text": [
      "sex\n",
      "Male      20380\n",
      "Female     9782\n",
      "Name: count, dtype: int64\n"
     ]
    }
   ],
   "execution_count": 38
  },
  {
   "metadata": {},
   "cell_type": "markdown",
   "source": [
    "# Task 2\n",
    "Find the average age of men in dataset"
   ]
  },
  {
   "metadata": {
    "ExecuteTime": {
     "end_time": "2024-11-13T06:39:42.165319Z",
     "start_time": "2024-11-13T06:39:42.157780Z"
    }
   },
   "cell_type": "code",
   "source": [
    "average_age_men = df_cleaned[df_cleaned[\"sex\"] == \"Male\"][\"age\"].mean()\n",
    "print(f\"Average age of men: {average_age_men}\")"
   ],
   "outputs": [
    {
     "name": "stdout",
     "output_type": "stream",
     "text": [
      "Average age of men: 39.18400392541707\n"
     ]
    }
   ],
   "execution_count": 39
  },
  {
   "metadata": {},
   "cell_type": "markdown",
   "source": [
    "# Task 3\n",
    "Get the percentage of people from Poland (native-country)"
   ]
  },
  {
   "metadata": {
    "ExecuteTime": {
     "end_time": "2024-11-13T06:39:48.045300Z",
     "start_time": "2024-11-13T06:39:48.038305Z"
    }
   },
   "cell_type": "code",
   "source": [
    "poland_count = df_cleaned[df_cleaned[\"native-country\"] == \"Poland\"].shape[0]\n",
    "total_count = df_cleaned.shape[0]\n",
    "poland_percentage = (poland_count / total_count) * 100\n",
    "print(f\"Percentage of people from Poland: {poland_percentage}%\")"
   ],
   "outputs": [
    {
     "name": "stdout",
     "output_type": "stream",
     "text": [
      "Percentage of people from Poland: 0.18566408063125786%\n"
     ]
    }
   ],
   "execution_count": 40
  },
  {
   "metadata": {},
   "cell_type": "markdown",
   "source": [
    "# Task 4\n",
    "Get the mean and standard deviation of the age for people who earn > 50K per year. After this, get it for those who earn <= 50K."
   ]
  },
  {
   "metadata": {
    "ExecuteTime": {
     "end_time": "2024-11-13T06:39:50.803386Z",
     "start_time": "2024-11-13T06:39:50.790274Z"
    }
   },
   "cell_type": "code",
   "source": [
    "mean_age_50k_plus = df_cleaned[df_cleaned[\"salary\"] == \">50K\"][\"age\"].mean()\n",
    "std_age_50k_plus = df_cleaned[df_cleaned[\"salary\"] == \">50K\"][\"age\"].std()\n",
    "\n",
    "mean_age_50k_minus = df_cleaned[df_cleaned[\"salary\"] == \"<=50K\"][\"age\"].mean()\n",
    "std_age_50k_minus = df_cleaned[df_cleaned[\"salary\"] == \"<=50K\"][\"age\"].std()\n",
    "\n",
    "print(f\"Mean and Std of age for >50K: {mean_age_50k_plus}, {std_age_50k_plus}\")\n",
    "print(f\"Mean and Std of age for <=50K: {mean_age_50k_minus}, {std_age_50k_minus}\")"
   ],
   "outputs": [
    {
     "name": "stdout",
     "output_type": "stream",
     "text": [
      "Mean and Std of age for >50K: 43.95911028236548, 10.269632835673852\n",
      "Mean and Std of age for <=50K: 36.60806038668668, 13.464631257161633\n"
     ]
    }
   ],
   "execution_count": 41
  },
  {
   "metadata": {},
   "cell_type": "markdown",
   "source": [
    "# Task 5\n",
    "Check, if there are some people without higher education (education: Bachelors, Prof-school, Assoc-acdm, Assoc-voc, Masters, Doctorate), but with > 50K salary"
   ]
  },
  {
   "metadata": {
    "ExecuteTime": {
     "end_time": "2024-11-13T06:39:53.313341Z",
     "start_time": "2024-11-13T06:39:53.304751Z"
    }
   },
   "cell_type": "code",
   "source": [
    "higher_education = [\n",
    "    \"Bachelors\",\n",
    "    \"Prof-school\",\n",
    "    \"Assoc-acdm\",\n",
    "    \"Assoc-voc\",\n",
    "    \"Masters\",\n",
    "    \"Doctorate\",\n",
    "]\n",
    "\n",
    "no_higher_ed_50k_plus = df_cleaned[\n",
    "    ~df_cleaned[\"education\"].isin(higher_education) & (df_cleaned[\"salary\"] == \">50K\")\n",
    "]\n",
    "\n",
    "print(f\"People without higher education earning >50K: {no_higher_ed_50k_plus.shape[0]}\")"
   ],
   "outputs": [
    {
     "name": "stdout",
     "output_type": "stream",
     "text": [
      "People without higher education earning >50K: 3178\n"
     ]
    }
   ],
   "execution_count": 42
  },
  {
   "metadata": {},
   "cell_type": "markdown",
   "source": [
    "# Task 6\n",
    "Get the statistics of age for each type of education. Use `groupby` and `describe` for this."
   ]
  },
  {
   "metadata": {
    "ExecuteTime": {
     "end_time": "2024-11-13T06:40:08.492164Z",
     "start_time": "2024-11-13T06:40:08.464760Z"
    }
   },
   "cell_type": "code",
   "source": [
    "education_age_stats = df_cleaned.groupby(\"education\")[\"age\"].describe()\n",
    "print(education_age_stats)"
   ],
   "outputs": [
    {
     "name": "stdout",
     "output_type": "stream",
     "text": [
      "               count       mean        std   min   25%   50%   75%   max\n",
      "education                                                               \n",
      "10th           820.0  37.897561  16.225795  17.0  23.0  36.0  52.0  90.0\n",
      "11th          1048.0  32.363550  15.089307  17.0  18.0  28.5  43.0  90.0\n",
      "12th           377.0  32.013263  14.373710  17.0  19.0  28.0  41.0  79.0\n",
      "1st-4th        151.0  44.622517  14.929051  19.0  33.0  44.0  56.0  81.0\n",
      "5th-6th        288.0  41.649306  14.754622  17.0  28.0  41.0  53.0  82.0\n",
      "7th-8th        557.0  47.631957  15.737479  17.0  34.0  49.0  60.0  90.0\n",
      "9th            455.0  40.303297  15.335754  17.0  28.0  38.0  53.0  90.0\n",
      "Assoc-acdm    1008.0  37.286706  10.509755  19.0  29.0  36.0  44.0  90.0\n",
      "Assoc-voc     1307.0  38.246366  11.181253  19.0  30.0  37.0  45.0  84.0\n",
      "Bachelors     5044.0  38.641554  11.577566  19.0  29.0  37.0  46.0  90.0\n",
      "Doctorate      375.0  47.130667  11.471727  24.0  39.0  47.0  54.0  80.0\n",
      "HS-grad       9840.0  38.640955  13.067730  17.0  28.0  37.0  48.0  90.0\n",
      "Masters       1627.0  43.740012  10.735356  18.0  36.0  43.0  50.0  90.0\n",
      "Preschool       45.0  41.288889  15.175672  19.0  30.0  40.0  53.0  75.0\n",
      "Prof-school    542.0  44.249077  11.428098  25.0  36.0  43.0  50.0  90.0\n",
      "Some-college  6678.0  36.135370  13.073528  17.0  25.0  35.0  45.0  90.0\n"
     ]
    }
   ],
   "execution_count": 43
  },
  {
   "metadata": {},
   "cell_type": "markdown",
   "source": [
    "# Task 7\n",
    "Compare the married and non-married men salaries. Who earns more? (>50K or <=50K)\n",
    "Married men are those, whom `marital-status` starts with \"Married\". Others are not."
   ]
  },
  {
   "metadata": {
    "ExecuteTime": {
     "end_time": "2024-11-13T06:40:12.751236Z",
     "start_time": "2024-11-13T06:40:12.728956Z"
    }
   },
   "cell_type": "code",
   "source": [
    "married_men = df_cleaned[\n",
    "    (df_cleaned[\"sex\"] == \"Male\")\n",
    "    & df_cleaned[\"marital-status\"].str.startswith(\"Married\")\n",
    "]\n",
    "non_married_men = df_cleaned[\n",
    "    (df_cleaned[\"sex\"] == \"Male\")\n",
    "    & ~df_cleaned[\"marital-status\"].str.startswith(\"Married\")\n",
    "]\n",
    "\n",
    "married_men_salary = married_men[\"salary\"].value_counts()\n",
    "non_married_men_salary = non_married_men[\"salary\"].value_counts()\n",
    "\n",
    "print(\"Married men salary distribution:\")\n",
    "print(married_men_salary)\n",
    "\n",
    "print(\"Non-married men salary distribution:\")\n",
    "print(non_married_men_salary)"
   ],
   "outputs": [
    {
     "name": "stdout",
     "output_type": "stream",
     "text": [
      "Married men salary distribution:\n",
      "salary\n",
      "<=50K    7052\n",
      ">50K     5723\n",
      "Name: count, dtype: int64\n",
      "Non-married men salary distribution:\n",
      "salary\n",
      "<=50K    6932\n",
      ">50K      673\n",
      "Name: count, dtype: int64\n"
     ]
    }
   ],
   "execution_count": 44
  },
  {
   "metadata": {},
   "cell_type": "markdown",
   "source": [
    "# Task 8\n",
    "Get the max hours per week some person works. How many people works the same amount of hours per week?"
   ]
  },
  {
   "metadata": {
    "ExecuteTime": {
     "end_time": "2024-11-13T06:40:15.804556Z",
     "start_time": "2024-11-13T06:40:15.798689Z"
    }
   },
   "cell_type": "code",
   "source": [
    "max_hours = df_cleaned[\"hours-per-week\"].max()\n",
    "\n",
    "max_hours_count = df_cleaned[df_cleaned[\"hours-per-week\"] == max_hours].shape[0]\n",
    "\n",
    "print(f\"Max hours worked per week: {max_hours}\")\n",
    "print(f\"Number of people who work {max_hours} hours: {max_hours_count}\")"
   ],
   "outputs": [
    {
     "name": "stdout",
     "output_type": "stream",
     "text": [
      "Max hours worked per week: 99\n",
      "Number of people who work 99 hours: 78\n"
     ]
    }
   ],
   "execution_count": 45
  },
  {
   "metadata": {},
   "cell_type": "markdown",
   "source": [
    "# Task 9\n",
    "Analyze the correlation between data in dataset. Understand connected fields in it and print highlight thier connection."
   ]
  },
  {
   "metadata": {
    "ExecuteTime": {
     "end_time": "2024-11-13T06:40:45.162494Z",
     "start_time": "2024-11-13T06:40:45.153411Z"
    }
   },
   "cell_type": "code",
   "source": [
    "df_cleaned = df_cleaned.drop(columns=[\"Unnamed: 0\"])\n",
    "numeric_columns = df_cleaned.select_dtypes(include=[np.number])\n",
    "\n",
    "correlation_matrix = numeric_columns.corr()\n",
    "\n",
    "print(\"Correlation matrix:\")\n",
    "print(correlation_matrix)"
   ],
   "outputs": [
    {
     "name": "stdout",
     "output_type": "stream",
     "text": [
      "Correlation matrix:\n",
      "                     age  hours-per-week  salary K$\n",
      "age             1.000000        0.101599   0.208203\n",
      "hours-per-week  0.101599        1.000000   0.196378\n",
      "salary K$       0.208203        0.196378   1.000000\n"
     ]
    }
   ],
   "execution_count": 48
  }
 ],
 "metadata": {
  "kernelspec": {
   "display_name": "Python 3",
   "language": "python",
   "name": "python3"
  },
  "language_info": {
   "codemirror_mode": {
    "name": "ipython",
    "version": 2
   },
   "file_extension": ".py",
   "mimetype": "text/x-python",
   "name": "python",
   "nbconvert_exporter": "python",
   "pygments_lexer": "ipython2",
   "version": "2.7.6"
  }
 },
 "nbformat": 4,
 "nbformat_minor": 0
}
