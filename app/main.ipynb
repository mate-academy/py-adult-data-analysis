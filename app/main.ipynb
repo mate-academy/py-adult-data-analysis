{
 "cells": [
  {
   "cell_type": "code",
   "execution_count": 21,
   "metadata": {
    "collapsed": false,
    "jupyter": {
     "outputs_hidden": false
    },
    "pycharm": {
     "name": "#%%\n"
    }
   },
   "outputs": [],
   "source": [
    "import numpy as np\n",
    "import pandas as pd\n",
    "import matplotlib.pyplot as plt"
   ]
  },
  {
   "cell_type": "markdown",
   "metadata": {
    "collapsed": false,
    "jupyter": {
     "outputs_hidden": false
    },
    "pycharm": {
     "name": "#%% md\n"
    }
   },
   "source": [
    "# Task 0\n",
    "Read the dataset from csv file & perform data cleaning - remove all rows, which contains `?` in some columns.\n",
    "Also check for data correctness (salary & salary $K)."
   ]
  },
  {
   "cell_type": "code",
   "execution_count": 57,
   "metadata": {
    "collapsed": false,
    "jupyter": {
     "outputs_hidden": false
    },
    "pycharm": {
     "name": "#%%\n"
    }
   },
   "outputs": [
    {
     "data": {
      "text/plain": [
       "0        <=50K\n",
       "1        <=50K\n",
       "2        <=50K\n",
       "3        <=50K\n",
       "4        <=50K\n",
       "         ...  \n",
       "32556    <=50K\n",
       "32557     >50K\n",
       "32558    <=50K\n",
       "32559    <=50K\n",
       "32560     >50K\n",
       "Name: salary, Length: 30162, dtype: category\n",
       "Categories (2, object): ['<=50K', '>50K']"
      ]
     },
     "execution_count": 57,
     "metadata": {},
     "output_type": "execute_result"
    }
   ],
   "source": [
    "# write your code for task 0 here\n",
    "df = pd.read_csv(\"../data/adult.csv\")\n",
    "\n",
    "df.drop(\"Unnamed: 0\", inplace=True, axis=1)\n",
    "\n",
    "# remove rows with symbol '?'\n",
    "df = df[df.apply(lambda x: \"?\" not in x.values, axis=1)]\n",
    "\n",
    "# make column 'salary' categorical\n",
    "df[\"salary\"] = pd.Categorical(df[\"salary\"])\n",
    "df[\"salary\"]"
   ]
  },
  {
   "cell_type": "markdown",
   "metadata": {
    "collapsed": false,
    "jupyter": {
     "outputs_hidden": false
    },
    "pycharm": {
     "name": "#%% md\n"
    }
   },
   "source": [
    "# Task 1\n",
    "Print the count of men and women in the dataset."
   ]
  },
  {
   "cell_type": "code",
   "execution_count": 43,
   "metadata": {
    "collapsed": false,
    "jupyter": {
     "outputs_hidden": false
    },
    "pycharm": {
     "name": "#%%\n"
    }
   },
   "outputs": [
    {
     "data": {
      "text/plain": [
       "sex\n",
       "Male      20380\n",
       "Female     9782\n",
       "Name: count, dtype: int64"
      ]
     },
     "execution_count": 43,
     "metadata": {},
     "output_type": "execute_result"
    }
   ],
   "source": [
    "# write your code for task 1 here\n",
    "df[\"sex\"].value_counts()"
   ]
  },
  {
   "cell_type": "markdown",
   "metadata": {
    "collapsed": false,
    "jupyter": {
     "outputs_hidden": false
    },
    "pycharm": {
     "name": "#%% md\n"
    }
   },
   "source": [
    "# Task 2\n",
    "Find the average age of men in dataset"
   ]
  },
  {
   "cell_type": "code",
   "execution_count": 4,
   "metadata": {
    "collapsed": false,
    "jupyter": {
     "outputs_hidden": false
    },
    "pycharm": {
     "name": "#%%\n"
    }
   },
   "outputs": [
    {
     "data": {
      "text/plain": [
       "39.18400392541707"
      ]
     },
     "execution_count": 4,
     "metadata": {},
     "output_type": "execute_result"
    }
   ],
   "source": [
    "# write your code for task 2 here\n",
    "df[df[\"sex\"] == \"Male\"][\"age\"].mean()"
   ]
  },
  {
   "cell_type": "markdown",
   "metadata": {
    "collapsed": false,
    "jupyter": {
     "outputs_hidden": false
    },
    "pycharm": {
     "name": "#%% md\n"
    }
   },
   "source": [
    "# Task 3\n",
    "Get the percentage of people from Poland (native-country)"
   ]
  },
  {
   "cell_type": "code",
   "execution_count": 12,
   "metadata": {
    "collapsed": false,
    "jupyter": {
     "outputs_hidden": false
    },
    "pycharm": {
     "name": "#%%\n"
    }
   },
   "outputs": [
    {
     "data": {
      "text/plain": [
       "0.18566408063125786"
      ]
     },
     "execution_count": 12,
     "metadata": {},
     "output_type": "execute_result"
    }
   ],
   "source": [
    "# write your code for task 3 hereb\n",
    "per = df[\"native-country\"].value_counts(normalize=True) * 100\n",
    "per[\"Poland\"]"
   ]
  },
  {
   "cell_type": "markdown",
   "metadata": {
    "collapsed": false,
    "jupyter": {
     "outputs_hidden": false
    },
    "pycharm": {
     "name": "#%% md\n"
    }
   },
   "source": [
    "# Task 4\n",
    "Get the mean and standard deviation of the age for people who earn > 50K per year. After this, get it for those who earn <= 50K."
   ]
  },
  {
   "cell_type": "code",
   "execution_count": 13,
   "metadata": {
    "collapsed": false,
    "jupyter": {
     "outputs_hidden": false
    },
    "pycharm": {
     "name": "#%%\n"
    }
   },
   "outputs": [
    {
     "data": {
      "text/plain": [
       "(36.60806038668668, 13.464631257161633)"
      ]
     },
     "execution_count": 13,
     "metadata": {},
     "output_type": "execute_result"
    }
   ],
   "source": [
    "# write your code for task 4 here\n",
    "less_fifty = df[df[\"salary\"] == \"<=50K\"]\n",
    "\n",
    "less_fifty[\"age\"].mean(), less_fifty[\"age\"].std()"
   ]
  },
  {
   "cell_type": "code",
   "execution_count": 15,
   "metadata": {},
   "outputs": [
    {
     "data": {
      "text/plain": [
       "(43.95911028236548, 10.269632835673852)"
      ]
     },
     "execution_count": 15,
     "metadata": {},
     "output_type": "execute_result"
    }
   ],
   "source": [
    "more_fifty = df[df[\"salary\"] == \">50K\"]\n",
    "\n",
    "more_fifty[\"age\"].mean(), more_fifty[\"age\"].std()"
   ]
  },
  {
   "cell_type": "markdown",
   "metadata": {
    "collapsed": false,
    "jupyter": {
     "outputs_hidden": false
    },
    "pycharm": {
     "name": "#%% md\n"
    }
   },
   "source": [
    "# Task 5\n",
    "Check, if there are some people without higher education (education: Bachelors, Prof-school, Assoc-acdm, Assoc-voc, Masters, Doctorate), but with > 50K salary"
   ]
  },
  {
   "cell_type": "code",
   "execution_count": 24,
   "metadata": {
    "collapsed": false,
    "jupyter": {
     "outputs_hidden": false
    },
    "pycharm": {
     "name": "#%%\n"
    }
   },
   "outputs": [
    {
     "data": {
      "text/plain": [
       "17081"
      ]
     },
     "execution_count": 24,
     "metadata": {},
     "output_type": "execute_result"
    }
   ],
   "source": [
    "# write your code for task 5 here\n",
    "higher_ed = [\"Bachelors\", \"Prof-school\", \"Assoc-acdm\", \"Assoc-voc\", \"Masters\", \"Doctorate\"]\n",
    "df[(~df[\"education\"].isin(higher_ed)) & (df[\"salary\"] == \"<=50K\")].iloc[:, 0].count()"
   ]
  },
  {
   "cell_type": "markdown",
   "metadata": {
    "collapsed": false,
    "jupyter": {
     "outputs_hidden": false
    },
    "pycharm": {
     "name": "#%% md\n"
    }
   },
   "source": [
    "# Task 6\n",
    "Get the statistics of age for each type of education. Use `groupby` and `describe` for this."
   ]
  },
  {
   "cell_type": "code",
   "execution_count": 28,
   "metadata": {
    "collapsed": false,
    "jupyter": {
     "outputs_hidden": false
    },
    "pycharm": {
     "name": "#%%\n"
    }
   },
   "outputs": [
    {
     "data": {
      "text/html": [
       "<div>\n",
       "<style scoped>\n",
       "    .dataframe tbody tr th:only-of-type {\n",
       "        vertical-align: middle;\n",
       "    }\n",
       "\n",
       "    .dataframe tbody tr th {\n",
       "        vertical-align: top;\n",
       "    }\n",
       "\n",
       "    .dataframe thead th {\n",
       "        text-align: right;\n",
       "    }\n",
       "</style>\n",
       "<table border=\"1\" class=\"dataframe\">\n",
       "  <thead>\n",
       "    <tr style=\"text-align: right;\">\n",
       "      <th></th>\n",
       "      <th>count</th>\n",
       "      <th>mean</th>\n",
       "      <th>std</th>\n",
       "      <th>min</th>\n",
       "      <th>25%</th>\n",
       "      <th>50%</th>\n",
       "      <th>75%</th>\n",
       "      <th>max</th>\n",
       "    </tr>\n",
       "    <tr>\n",
       "      <th>education</th>\n",
       "      <th></th>\n",
       "      <th></th>\n",
       "      <th></th>\n",
       "      <th></th>\n",
       "      <th></th>\n",
       "      <th></th>\n",
       "      <th></th>\n",
       "      <th></th>\n",
       "    </tr>\n",
       "  </thead>\n",
       "  <tbody>\n",
       "    <tr>\n",
       "      <th>10th</th>\n",
       "      <td>820.0</td>\n",
       "      <td>37.897561</td>\n",
       "      <td>16.225795</td>\n",
       "      <td>17.0</td>\n",
       "      <td>23.0</td>\n",
       "      <td>36.0</td>\n",
       "      <td>52.0</td>\n",
       "      <td>90.0</td>\n",
       "    </tr>\n",
       "    <tr>\n",
       "      <th>11th</th>\n",
       "      <td>1048.0</td>\n",
       "      <td>32.363550</td>\n",
       "      <td>15.089307</td>\n",
       "      <td>17.0</td>\n",
       "      <td>18.0</td>\n",
       "      <td>28.5</td>\n",
       "      <td>43.0</td>\n",
       "      <td>90.0</td>\n",
       "    </tr>\n",
       "    <tr>\n",
       "      <th>12th</th>\n",
       "      <td>377.0</td>\n",
       "      <td>32.013263</td>\n",
       "      <td>14.373710</td>\n",
       "      <td>17.0</td>\n",
       "      <td>19.0</td>\n",
       "      <td>28.0</td>\n",
       "      <td>41.0</td>\n",
       "      <td>79.0</td>\n",
       "    </tr>\n",
       "    <tr>\n",
       "      <th>1st-4th</th>\n",
       "      <td>151.0</td>\n",
       "      <td>44.622517</td>\n",
       "      <td>14.929051</td>\n",
       "      <td>19.0</td>\n",
       "      <td>33.0</td>\n",
       "      <td>44.0</td>\n",
       "      <td>56.0</td>\n",
       "      <td>81.0</td>\n",
       "    </tr>\n",
       "    <tr>\n",
       "      <th>5th-6th</th>\n",
       "      <td>288.0</td>\n",
       "      <td>41.649306</td>\n",
       "      <td>14.754622</td>\n",
       "      <td>17.0</td>\n",
       "      <td>28.0</td>\n",
       "      <td>41.0</td>\n",
       "      <td>53.0</td>\n",
       "      <td>82.0</td>\n",
       "    </tr>\n",
       "    <tr>\n",
       "      <th>7th-8th</th>\n",
       "      <td>557.0</td>\n",
       "      <td>47.631957</td>\n",
       "      <td>15.737479</td>\n",
       "      <td>17.0</td>\n",
       "      <td>34.0</td>\n",
       "      <td>49.0</td>\n",
       "      <td>60.0</td>\n",
       "      <td>90.0</td>\n",
       "    </tr>\n",
       "    <tr>\n",
       "      <th>9th</th>\n",
       "      <td>455.0</td>\n",
       "      <td>40.303297</td>\n",
       "      <td>15.335754</td>\n",
       "      <td>17.0</td>\n",
       "      <td>28.0</td>\n",
       "      <td>38.0</td>\n",
       "      <td>53.0</td>\n",
       "      <td>90.0</td>\n",
       "    </tr>\n",
       "    <tr>\n",
       "      <th>Assoc-acdm</th>\n",
       "      <td>1008.0</td>\n",
       "      <td>37.286706</td>\n",
       "      <td>10.509755</td>\n",
       "      <td>19.0</td>\n",
       "      <td>29.0</td>\n",
       "      <td>36.0</td>\n",
       "      <td>44.0</td>\n",
       "      <td>90.0</td>\n",
       "    </tr>\n",
       "    <tr>\n",
       "      <th>Assoc-voc</th>\n",
       "      <td>1307.0</td>\n",
       "      <td>38.246366</td>\n",
       "      <td>11.181253</td>\n",
       "      <td>19.0</td>\n",
       "      <td>30.0</td>\n",
       "      <td>37.0</td>\n",
       "      <td>45.0</td>\n",
       "      <td>84.0</td>\n",
       "    </tr>\n",
       "    <tr>\n",
       "      <th>Bachelors</th>\n",
       "      <td>5044.0</td>\n",
       "      <td>38.641554</td>\n",
       "      <td>11.577566</td>\n",
       "      <td>19.0</td>\n",
       "      <td>29.0</td>\n",
       "      <td>37.0</td>\n",
       "      <td>46.0</td>\n",
       "      <td>90.0</td>\n",
       "    </tr>\n",
       "    <tr>\n",
       "      <th>Doctorate</th>\n",
       "      <td>375.0</td>\n",
       "      <td>47.130667</td>\n",
       "      <td>11.471727</td>\n",
       "      <td>24.0</td>\n",
       "      <td>39.0</td>\n",
       "      <td>47.0</td>\n",
       "      <td>54.0</td>\n",
       "      <td>80.0</td>\n",
       "    </tr>\n",
       "    <tr>\n",
       "      <th>HS-grad</th>\n",
       "      <td>9840.0</td>\n",
       "      <td>38.640955</td>\n",
       "      <td>13.067730</td>\n",
       "      <td>17.0</td>\n",
       "      <td>28.0</td>\n",
       "      <td>37.0</td>\n",
       "      <td>48.0</td>\n",
       "      <td>90.0</td>\n",
       "    </tr>\n",
       "    <tr>\n",
       "      <th>Masters</th>\n",
       "      <td>1627.0</td>\n",
       "      <td>43.740012</td>\n",
       "      <td>10.735356</td>\n",
       "      <td>18.0</td>\n",
       "      <td>36.0</td>\n",
       "      <td>43.0</td>\n",
       "      <td>50.0</td>\n",
       "      <td>90.0</td>\n",
       "    </tr>\n",
       "    <tr>\n",
       "      <th>Preschool</th>\n",
       "      <td>45.0</td>\n",
       "      <td>41.288889</td>\n",
       "      <td>15.175672</td>\n",
       "      <td>19.0</td>\n",
       "      <td>30.0</td>\n",
       "      <td>40.0</td>\n",
       "      <td>53.0</td>\n",
       "      <td>75.0</td>\n",
       "    </tr>\n",
       "    <tr>\n",
       "      <th>Prof-school</th>\n",
       "      <td>542.0</td>\n",
       "      <td>44.249077</td>\n",
       "      <td>11.428098</td>\n",
       "      <td>25.0</td>\n",
       "      <td>36.0</td>\n",
       "      <td>43.0</td>\n",
       "      <td>50.0</td>\n",
       "      <td>90.0</td>\n",
       "    </tr>\n",
       "    <tr>\n",
       "      <th>Some-college</th>\n",
       "      <td>6678.0</td>\n",
       "      <td>36.135370</td>\n",
       "      <td>13.073528</td>\n",
       "      <td>17.0</td>\n",
       "      <td>25.0</td>\n",
       "      <td>35.0</td>\n",
       "      <td>45.0</td>\n",
       "      <td>90.0</td>\n",
       "    </tr>\n",
       "  </tbody>\n",
       "</table>\n",
       "</div>"
      ],
      "text/plain": [
       "               count       mean        std   min   25%   50%   75%   max\n",
       "education                                                               \n",
       "10th           820.0  37.897561  16.225795  17.0  23.0  36.0  52.0  90.0\n",
       "11th          1048.0  32.363550  15.089307  17.0  18.0  28.5  43.0  90.0\n",
       "12th           377.0  32.013263  14.373710  17.0  19.0  28.0  41.0  79.0\n",
       "1st-4th        151.0  44.622517  14.929051  19.0  33.0  44.0  56.0  81.0\n",
       "5th-6th        288.0  41.649306  14.754622  17.0  28.0  41.0  53.0  82.0\n",
       "7th-8th        557.0  47.631957  15.737479  17.0  34.0  49.0  60.0  90.0\n",
       "9th            455.0  40.303297  15.335754  17.0  28.0  38.0  53.0  90.0\n",
       "Assoc-acdm    1008.0  37.286706  10.509755  19.0  29.0  36.0  44.0  90.0\n",
       "Assoc-voc     1307.0  38.246366  11.181253  19.0  30.0  37.0  45.0  84.0\n",
       "Bachelors     5044.0  38.641554  11.577566  19.0  29.0  37.0  46.0  90.0\n",
       "Doctorate      375.0  47.130667  11.471727  24.0  39.0  47.0  54.0  80.0\n",
       "HS-grad       9840.0  38.640955  13.067730  17.0  28.0  37.0  48.0  90.0\n",
       "Masters       1627.0  43.740012  10.735356  18.0  36.0  43.0  50.0  90.0\n",
       "Preschool       45.0  41.288889  15.175672  19.0  30.0  40.0  53.0  75.0\n",
       "Prof-school    542.0  44.249077  11.428098  25.0  36.0  43.0  50.0  90.0\n",
       "Some-college  6678.0  36.135370  13.073528  17.0  25.0  35.0  45.0  90.0"
      ]
     },
     "execution_count": 28,
     "metadata": {},
     "output_type": "execute_result"
    }
   ],
   "source": [
    "# write your code for task 6 here\n",
    "df.groupby(df[\"education\"])[\"age\"].describe()"
   ]
  },
  {
   "cell_type": "markdown",
   "metadata": {
    "collapsed": false,
    "jupyter": {
     "outputs_hidden": false
    },
    "pycharm": {
     "name": "#%% md\n"
    }
   },
   "source": [
    "# Task 7\n",
    "Compare the married and non-married men salaries. Who earns more? (>50K or <=50K)\n",
    "Married men are those, whom `marital-status` starts with \"Married\". Others are not."
   ]
  },
  {
   "cell_type": "code",
   "execution_count": 22,
   "metadata": {
    "collapsed": false,
    "jupyter": {
     "outputs_hidden": false
    },
    "pycharm": {
     "name": "#%%\n"
    }
   },
   "outputs": [
    {
     "data": {
      "text/plain": [
       "<BarContainer object of 2 artists>"
      ]
     },
     "execution_count": 22,
     "metadata": {},
     "output_type": "execute_result"
    },
    {
     "data": {
      "image/png": "[encoded data removed]",
      "text/plain": [
       "<Figure size 640x480 with 1 Axes>"
      ]
     },
     "metadata": {},
     "output_type": "display_data"
    }
   ],
   "source": [
    "# write your code for task 7 here\n",
    "# get men who earns more 50 >\n",
    "males = df[(df[\"sex\"] == \"Male\")]\n",
    "\n",
    "# all maried men\n",
    "married_men = males[males[\"marital-status\"].str.startswith(\"Married\")]\n",
    "# all unmarried men\n",
    "non_married_men = males[~males[\"marital-status\"].str.startswith(\"Married\")]\n",
    "\n",
    "average_salary_married = married_men[\"salary K$\"].mean()\n",
    "average_salary_non_married = non_married_men[\"salary K$\"].mean()\n",
    "\n",
    "plt.bar([\"Married\", \"Non married\"], [average_salary_married, average_salary_non_married])"
   ]
  },
  {
   "cell_type": "markdown",
   "metadata": {
    "collapsed": false,
    "jupyter": {
     "outputs_hidden": false
    },
    "pycharm": {
     "name": "#%% md\n"
    }
   },
   "source": [
    "# Task 8\n",
    "Get the max hours per week some person works. How many people works the same amount of hours per week?"
   ]
  },
  {
   "cell_type": "code",
   "execution_count": 32,
   "metadata": {
    "collapsed": false,
    "jupyter": {
     "outputs_hidden": false
    },
    "pycharm": {
     "name": "#%%\n"
    }
   },
   "outputs": [
    {
     "data": {
      "text/plain": [
       "78"
      ]
     },
     "execution_count": 32,
     "metadata": {},
     "output_type": "execute_result"
    }
   ],
   "source": [
    "# write your code for task 8 here\n",
    "# get the max working hours of some person\n",
    "max_hour_per_week = df[\"hours-per-week\"].max()\n",
    "# get the number of people working themax working hours \n",
    "len(df[df[\"hours-per-week\"] == max_hour_per_week])"
   ]
  },
  {
   "cell_type": "markdown",
   "metadata": {
    "collapsed": false,
    "jupyter": {
     "outputs_hidden": false
    },
    "pycharm": {
     "name": "#%% md\n"
    }
   },
   "source": [
    "# Task 9\n",
    "Analyze the correlation between data in dataset. Understand connected fields in it and print highlight thier connection."
   ]
  },
  {
   "cell_type": "code",
   "execution_count": 38,
   "metadata": {},
   "outputs": [
    {
     "name": "stdout",
     "output_type": "stream",
     "text": [
      "<class 'pandas.core.frame.DataFrame'>\n",
      "Index: 30162 entries, 0 to 32560\n",
      "Data columns (total 12 columns):\n",
      " #   Column          Non-Null Count  Dtype   \n",
      "---  ------          --------------  -----   \n",
      " 0   age             30162 non-null  int64   \n",
      " 1   workclass       30162 non-null  object  \n",
      " 2   education       30162 non-null  object  \n",
      " 3   marital-status  30162 non-null  object  \n",
      " 4   occupation      30162 non-null  object  \n",
      " 5   relationship    30162 non-null  object  \n",
      " 6   race            30162 non-null  object  \n",
      " 7   sex             30162 non-null  object  \n",
      " 8   hours-per-week  30162 non-null  int64   \n",
      " 9   native-country  30162 non-null  object  \n",
      " 10  salary          30162 non-null  category\n",
      " 11  salary K$       30162 non-null  int64   \n",
      "dtypes: category(1), int64(3), object(8)\n",
      "memory usage: 2.8+ MB\n"
     ]
    }
   ],
   "source": [
    "df.info()"
   ]
  },
  {
   "cell_type": "code",
   "execution_count": 60,
   "metadata": {
    "collapsed": false,
    "jupyter": {
     "outputs_hidden": false
    },
    "pycharm": {
     "name": "#%%\n"
    },
    "scrolled": true
   },
   "outputs": [
    {
     "data": {
      "text/html": [
       "<div>\n",
       "<style scoped>\n",
       "    .dataframe tbody tr th:only-of-type {\n",
       "        vertical-align: middle;\n",
       "    }\n",
       "\n",
       "    .dataframe tbody tr th {\n",
       "        vertical-align: top;\n",
       "    }\n",
       "\n",
       "    .dataframe thead th {\n",
       "        text-align: right;\n",
       "    }\n",
       "</style>\n",
       "<table border=\"1\" class=\"dataframe\">\n",
       "  <thead>\n",
       "    <tr style=\"text-align: right;\">\n",
       "      <th></th>\n",
       "      <th>age</th>\n",
       "      <th>workclass</th>\n",
       "      <th>education</th>\n",
       "      <th>marital-status</th>\n",
       "      <th>occupation</th>\n",
       "      <th>relationship</th>\n",
       "      <th>race</th>\n",
       "      <th>sex</th>\n",
       "      <th>hours-per-week</th>\n",
       "      <th>native-country</th>\n",
       "      <th>salary</th>\n",
       "      <th>salary K$</th>\n",
       "    </tr>\n",
       "  </thead>\n",
       "  <tbody>\n",
       "    <tr>\n",
       "      <th>age</th>\n",
       "      <td>1.000000</td>\n",
       "      <td>0.080540</td>\n",
       "      <td>-0.001111</td>\n",
       "      <td>-0.276373</td>\n",
       "      <td>-0.005682</td>\n",
       "      <td>-0.246456</td>\n",
       "      <td>0.023374</td>\n",
       "      <td>0.081993</td>\n",
       "      <td>0.101599</td>\n",
       "      <td>-0.001905</td>\n",
       "      <td>0.241998</td>\n",
       "      <td>0.208203</td>\n",
       "    </tr>\n",
       "    <tr>\n",
       "      <th>workclass</th>\n",
       "      <td>0.080540</td>\n",
       "      <td>1.000000</td>\n",
       "      <td>0.017855</td>\n",
       "      <td>-0.034241</td>\n",
       "      <td>0.015572</td>\n",
       "      <td>-0.067417</td>\n",
       "      <td>0.044731</td>\n",
       "      <td>0.074973</td>\n",
       "      <td>0.050724</td>\n",
       "      <td>0.007668</td>\n",
       "      <td>0.018044</td>\n",
       "      <td>0.009948</td>\n",
       "    </tr>\n",
       "    <tr>\n",
       "      <th>education</th>\n",
       "      <td>-0.001111</td>\n",
       "      <td>0.017855</td>\n",
       "      <td>1.000000</td>\n",
       "      <td>-0.040664</td>\n",
       "      <td>-0.038212</td>\n",
       "      <td>-0.012717</td>\n",
       "      <td>0.011154</td>\n",
       "      <td>-0.027888</td>\n",
       "      <td>0.059887</td>\n",
       "      <td>0.078790</td>\n",
       "      <td>0.078987</td>\n",
       "      <td>0.067737</td>\n",
       "    </tr>\n",
       "    <tr>\n",
       "      <th>marital-status</th>\n",
       "      <td>-0.276373</td>\n",
       "      <td>-0.034241</td>\n",
       "      <td>-0.040664</td>\n",
       "      <td>1.000000</td>\n",
       "      <td>0.022655</td>\n",
       "      <td>0.177964</td>\n",
       "      <td>-0.068627</td>\n",
       "      <td>-0.119813</td>\n",
       "      <td>-0.189003</td>\n",
       "      <td>-0.025902</td>\n",
       "      <td>-0.193518</td>\n",
       "      <td>-0.165185</td>\n",
       "    </tr>\n",
       "    <tr>\n",
       "      <th>occupation</th>\n",
       "      <td>-0.005682</td>\n",
       "      <td>0.015572</td>\n",
       "      <td>-0.038212</td>\n",
       "      <td>0.022655</td>\n",
       "      <td>1.000000</td>\n",
       "      <td>-0.053727</td>\n",
       "      <td>0.000717</td>\n",
       "      <td>0.062313</td>\n",
       "      <td>0.018365</td>\n",
       "      <td>-0.003483</td>\n",
       "      <td>0.051577</td>\n",
       "      <td>0.035984</td>\n",
       "    </tr>\n",
       "    <tr>\n",
       "      <th>relationship</th>\n",
       "      <td>-0.246456</td>\n",
       "      <td>-0.067417</td>\n",
       "      <td>-0.012717</td>\n",
       "      <td>0.177964</td>\n",
       "      <td>-0.053727</td>\n",
       "      <td>1.000000</td>\n",
       "      <td>-0.117143</td>\n",
       "      <td>-0.584876</td>\n",
       "      <td>-0.257850</td>\n",
       "      <td>-0.010809</td>\n",
       "      <td>-0.251003</td>\n",
       "      <td>-0.210894</td>\n",
       "    </tr>\n",
       "    <tr>\n",
       "      <th>race</th>\n",
       "      <td>0.023374</td>\n",
       "      <td>0.044731</td>\n",
       "      <td>0.011154</td>\n",
       "      <td>-0.068627</td>\n",
       "      <td>0.000717</td>\n",
       "      <td>-0.117143</td>\n",
       "      <td>1.000000</td>\n",
       "      <td>0.089186</td>\n",
       "      <td>0.048532</td>\n",
       "      <td>0.124514</td>\n",
       "      <td>0.071658</td>\n",
       "      <td>0.060497</td>\n",
       "    </tr>\n",
       "    <tr>\n",
       "      <th>sex</th>\n",
       "      <td>0.081993</td>\n",
       "      <td>0.074973</td>\n",
       "      <td>-0.027888</td>\n",
       "      <td>-0.119813</td>\n",
       "      <td>0.062313</td>\n",
       "      <td>-0.584876</td>\n",
       "      <td>0.089186</td>\n",
       "      <td>1.000000</td>\n",
       "      <td>0.231268</td>\n",
       "      <td>0.000618</td>\n",
       "      <td>0.216699</td>\n",
       "      <td>0.182642</td>\n",
       "    </tr>\n",
       "    <tr>\n",
       "      <th>hours-per-week</th>\n",
       "      <td>0.101599</td>\n",
       "      <td>0.050724</td>\n",
       "      <td>0.059887</td>\n",
       "      <td>-0.189003</td>\n",
       "      <td>0.018365</td>\n",
       "      <td>-0.257850</td>\n",
       "      <td>0.048532</td>\n",
       "      <td>0.231268</td>\n",
       "      <td>1.000000</td>\n",
       "      <td>0.008408</td>\n",
       "      <td>0.229480</td>\n",
       "      <td>0.196378</td>\n",
       "    </tr>\n",
       "    <tr>\n",
       "      <th>native-country</th>\n",
       "      <td>-0.001905</td>\n",
       "      <td>0.007668</td>\n",
       "      <td>0.078790</td>\n",
       "      <td>-0.025902</td>\n",
       "      <td>-0.003483</td>\n",
       "      <td>-0.010809</td>\n",
       "      <td>0.124514</td>\n",
       "      <td>0.000618</td>\n",
       "      <td>0.008408</td>\n",
       "      <td>1.000000</td>\n",
       "      <td>0.023268</td>\n",
       "      <td>0.019605</td>\n",
       "    </tr>\n",
       "    <tr>\n",
       "      <th>salary</th>\n",
       "      <td>0.241998</td>\n",
       "      <td>0.018044</td>\n",
       "      <td>0.078987</td>\n",
       "      <td>-0.193518</td>\n",
       "      <td>0.051577</td>\n",
       "      <td>-0.251003</td>\n",
       "      <td>0.071658</td>\n",
       "      <td>0.216699</td>\n",
       "      <td>0.229480</td>\n",
       "      <td>0.023268</td>\n",
       "      <td>1.000000</td>\n",
       "      <td>0.853894</td>\n",
       "    </tr>\n",
       "    <tr>\n",
       "      <th>salary K$</th>\n",
       "      <td>0.208203</td>\n",
       "      <td>0.009948</td>\n",
       "      <td>0.067737</td>\n",
       "      <td>-0.165185</td>\n",
       "      <td>0.035984</td>\n",
       "      <td>-0.210894</td>\n",
       "      <td>0.060497</td>\n",
       "      <td>0.182642</td>\n",
       "      <td>0.196378</td>\n",
       "      <td>0.019605</td>\n",
       "      <td>0.853894</td>\n",
       "      <td>1.000000</td>\n",
       "    </tr>\n",
       "  </tbody>\n",
       "</table>\n",
       "</div>"
      ],
      "text/plain": [
       "                     age  workclass  education  marital-status  occupation  \\\n",
       "age             1.000000   0.080540  -0.001111       -0.276373   -0.005682   \n",
       "workclass       0.080540   1.000000   0.017855       -0.034241    0.015572   \n",
       "education      -0.001111   0.017855   1.000000       -0.040664   -0.038212   \n",
       "marital-status -0.276373  -0.034241  -0.040664        1.000000    0.022655   \n",
       "occupation     -0.005682   0.015572  -0.038212        0.022655    1.000000   \n",
       "relationship   -0.246456  -0.067417  -0.012717        0.177964   -0.053727   \n",
       "race            0.023374   0.044731   0.011154       -0.068627    0.000717   \n",
       "sex             0.081993   0.074973  -0.027888       -0.119813    0.062313   \n",
       "hours-per-week  0.101599   0.050724   0.059887       -0.189003    0.018365   \n",
       "native-country -0.001905   0.007668   0.078790       -0.025902   -0.003483   \n",
       "salary          0.241998   0.018044   0.078987       -0.193518    0.051577   \n",
       "salary K$       0.208203   0.009948   0.067737       -0.165185    0.035984   \n",
       "\n",
       "                relationship      race       sex  hours-per-week  \\\n",
       "age                -0.246456  0.023374  0.081993        0.101599   \n",
       "workclass          -0.067417  0.044731  0.074973        0.050724   \n",
       "education          -0.012717  0.011154 -0.027888        0.059887   \n",
       "marital-status      0.177964 -0.068627 -0.119813       -0.189003   \n",
       "occupation         -0.053727  0.000717  0.062313        0.018365   \n",
       "relationship        1.000000 -0.117143 -0.584876       -0.257850   \n",
       "race               -0.117143  1.000000  0.089186        0.048532   \n",
       "sex                -0.584876  0.089186  1.000000        0.231268   \n",
       "hours-per-week     -0.257850  0.048532  0.231268        1.000000   \n",
       "native-country     -0.010809  0.124514  0.000618        0.008408   \n",
       "salary             -0.251003  0.071658  0.216699        0.229480   \n",
       "salary K$          -0.210894  0.060497  0.182642        0.196378   \n",
       "\n",
       "                native-country    salary  salary K$  \n",
       "age                  -0.001905  0.241998   0.208203  \n",
       "workclass             0.007668  0.018044   0.009948  \n",
       "education             0.078790  0.078987   0.067737  \n",
       "marital-status       -0.025902 -0.193518  -0.165185  \n",
       "occupation           -0.003483  0.051577   0.035984  \n",
       "relationship         -0.010809 -0.251003  -0.210894  \n",
       "race                  0.124514  0.071658   0.060497  \n",
       "sex                   0.000618  0.216699   0.182642  \n",
       "hours-per-week        0.008408  0.229480   0.196378  \n",
       "native-country        1.000000  0.023268   0.019605  \n",
       "salary                0.023268  1.000000   0.853894  \n",
       "salary K$             0.019605  0.853894   1.000000  "
      ]
     },
     "execution_count": 60,
     "metadata": {},
     "output_type": "execute_result"
    }
   ],
   "source": [
    "non_numeric_columns = df.select_dtypes(exclude=[\"int64\"]).columns\n",
    "\n",
    "# convert it to category to get numerical value\n",
    "for column in non_numeric_columns:\n",
    "    df[column] = df[column].astype(\"category\").cat.codes\n",
    "\n",
    "df.corr()"
   ]
  },
  {
   "cell_type": "markdown",
   "metadata": {},
   "source": [
    "Age and Marital Status: There is a moderate negative correlation (-0.276373) between age and marital status. This suggests that older individuals are less likely to be single and more likely to be married or in a committed relationship.\n",
    "\n",
    "Age and Relationship: Similarly, there is a moderate negative correlation (-0.246456) between age and relationship status. This implies that as age increases, individuals are less likely to be in a non-family relationship.\n",
    "\n",
    "Relationship and Sex: There is a strong negative correlation (-0.584876) between relationship status and sex. This indicates that being in a relationship is strongly associated with being male."
   ]
  }
 ],
 "metadata": {
  "kernelspec": {
   "display_name": "Python 3 (ipykernel)",
   "language": "python",
   "name": "python3"
  },
  "language_info": {
   "codemirror_mode": {
    "name": "ipython",
    "version": 3
   },
   "file_extension": ".py",
   "mimetype": "text/x-python",
   "name": "python",
   "nbconvert_exporter": "python",
   "pygments_lexer": "ipython3",
   "version": "3.11.1"
  }
 },
 "nbformat": 4,
 "nbformat_minor": 4
}
