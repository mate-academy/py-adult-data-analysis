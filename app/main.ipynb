{
 "cells": [
  {
   "cell_type": "code",
   "execution_count": 4,
   "outputs": [],
   "source": [
    "import numpy as np\n",
    "import pandas as pd"
   ],
   "metadata": {
    "collapsed": false,
    "pycharm": {
     "name": "#%%\n"
    }
   }
  },
  {
   "cell_type": "markdown",
   "source": [
    "# Task 0\n",
    "Read the dataset from csv file & perform data cleaning - remove all rows, which contains `?` in some columns.\n",
    "Also check for data correctness (salary & salary $K)."
   ],
   "metadata": {
    "collapsed": false,
    "pycharm": {
     "name": "#%% md\n"
    }
   }
  },
  {
   "cell_type": "markdown",
   "source": [],
   "metadata": {
    "collapsed": false,
    "pycharm": {
     "name": "#%% md\n"
    }
   }
  },
  {
   "cell_type": "code",
   "execution_count": 28,
   "outputs": [
    {
     "data": {
      "text/plain": "    Unnamed: 0  age         workclass     education         marital-status   \n0            0   39         State-gov     Bachelors          Never-married  \\\n1            1   50  Self-emp-not-inc     Bachelors     Married-civ-spouse   \n2            2   38           Private       HS-grad               Divorced   \n3            3   53           Private          11th     Married-civ-spouse   \n4            4   28           Private     Bachelors     Married-civ-spouse   \n5            5   37           Private       Masters     Married-civ-spouse   \n6            6   49           Private           9th  Married-spouse-absent   \n7            7   52  Self-emp-not-inc       HS-grad     Married-civ-spouse   \n8            8   31           Private       Masters          Never-married   \n9            9   42           Private     Bachelors     Married-civ-spouse   \n10          10   37           Private  Some-college     Married-civ-spouse   \n11          11   30         State-gov     Bachelors     Married-civ-spouse   \n12          12   23           Private     Bachelors          Never-married   \n13          13   32           Private    Assoc-acdm          Never-married   \n15          15   34           Private       7th-8th     Married-civ-spouse   \n16          16   25  Self-emp-not-inc       HS-grad          Never-married   \n17          17   32           Private       HS-grad          Never-married   \n18          18   38           Private          11th     Married-civ-spouse   \n19          19   43  Self-emp-not-inc       Masters               Divorced   \n20          20   40           Private     Doctorate     Married-civ-spouse   \n21          21   54           Private       HS-grad              Separated   \n22          22   35       Federal-gov           9th     Married-civ-spouse   \n23          23   43           Private          11th     Married-civ-spouse   \n24          24   59           Private       HS-grad               Divorced   \n25          25   56         Local-gov     Bachelors     Married-civ-spouse   \n26          26   19           Private       HS-grad          Never-married   \n28          28   39           Private       HS-grad               Divorced   \n29          29   49           Private       HS-grad     Married-civ-spouse   \n30          30   23         Local-gov    Assoc-acdm          Never-married   \n31          31   20           Private  Some-college          Never-married   \n32          32   45           Private     Bachelors               Divorced   \n33          33   30       Federal-gov  Some-college     Married-civ-spouse   \n34          34   22         State-gov  Some-college     Married-civ-spouse   \n35          35   48           Private          11th          Never-married   \n36          36   21           Private  Some-college          Never-married   \n37          37   19           Private       HS-grad      Married-AF-spouse   \n39          39   48  Self-emp-not-inc    Assoc-acdm     Married-civ-spouse   \n40          40   31           Private           9th     Married-civ-spouse   \n41          41   53  Self-emp-not-inc     Bachelors     Married-civ-spouse   \n42          42   24           Private     Bachelors     Married-civ-spouse   \n43          43   49           Private       HS-grad              Separated   \n44          44   25           Private       HS-grad          Never-married   \n45          45   57       Federal-gov     Bachelors     Married-civ-spouse   \n46          46   53           Private       HS-grad     Married-civ-spouse   \n47          47   44           Private       Masters               Divorced   \n48          48   41         State-gov     Assoc-voc     Married-civ-spouse   \n49          49   29           Private     Assoc-voc          Never-married   \n50          50   25           Private  Some-college     Married-civ-spouse   \n52          52   47           Private   Prof-school     Married-civ-spouse   \n53          53   50       Federal-gov     Bachelors               Divorced   \n\n           occupation   relationship                race     sex   \n0        Adm-clerical  Not-in-family               White    Male  \\\n1     Exec-managerial        Husband               White    Male   \n2   Handlers-cleaners  Not-in-family               White    Male   \n3   Handlers-cleaners        Husband               Black    Male   \n4      Prof-specialty           Wife               Black  Female   \n5     Exec-managerial           Wife               White  Female   \n6       Other-service  Not-in-family               Black  Female   \n7     Exec-managerial        Husband               White    Male   \n8      Prof-specialty  Not-in-family               White  Female   \n9     Exec-managerial        Husband               White    Male   \n10    Exec-managerial        Husband               Black    Male   \n11     Prof-specialty        Husband  Asian-Pac-Islander    Male   \n12       Adm-clerical      Own-child               White  Female   \n13              Sales  Not-in-family               Black    Male   \n15   Transport-moving        Husband  Amer-Indian-Eskimo    Male   \n16    Farming-fishing      Own-child               White    Male   \n17  Machine-op-inspct      Unmarried               White    Male   \n18              Sales        Husband               White    Male   \n19    Exec-managerial      Unmarried               White  Female   \n20     Prof-specialty        Husband               White    Male   \n21      Other-service      Unmarried               Black  Female   \n22    Farming-fishing        Husband               Black    Male   \n23   Transport-moving        Husband               White    Male   \n24       Tech-support      Unmarried               White  Female   \n25       Tech-support        Husband               White    Male   \n26       Craft-repair      Own-child               White    Male   \n28    Exec-managerial  Not-in-family               White    Male   \n29       Craft-repair        Husband               White    Male   \n30    Protective-serv  Not-in-family               White    Male   \n31              Sales      Own-child               Black    Male   \n32    Exec-managerial      Own-child               White    Male   \n33       Adm-clerical      Own-child               White    Male   \n34      Other-service        Husband               Black    Male   \n35  Machine-op-inspct      Unmarried               White    Male   \n36  Machine-op-inspct      Own-child               White    Male   \n37       Adm-clerical           Wife               White  Female   \n39     Prof-specialty        Husband               White    Male   \n40  Machine-op-inspct        Husband               White    Male   \n41     Prof-specialty        Husband               White    Male   \n42       Tech-support        Husband               White    Male   \n43       Adm-clerical      Unmarried               White  Female   \n44  Handlers-cleaners  Not-in-family               White    Male   \n45     Prof-specialty        Husband               Black    Male   \n46  Machine-op-inspct        Husband               White    Male   \n47    Exec-managerial      Unmarried               White  Female   \n48       Craft-repair        Husband               White    Male   \n49     Prof-specialty  Not-in-family               White    Male   \n50    Exec-managerial           Wife               Other  Female   \n52     Prof-specialty           Wife               White  Female   \n53    Exec-managerial  Not-in-family               White    Male   \n\n    hours-per-week native-country salary  salary K$  \n0               40  United-States  <=50K         39  \n1               13  United-States  <=50K         35  \n2               40  United-States  <=50K         27  \n3               40  United-States  <=50K         43  \n4               40           Cuba  <=50K         25  \n5               40  United-States  <=50K         44  \n6               16        Jamaica  <=50K         49  \n7               45  United-States   >50K        307  \n8               50  United-States   >50K        330  \n9               40  United-States   >50K        303  \n10              80  United-States   >50K        116  \n11              40          India   >50K        279  \n12              30  United-States  <=50K         27  \n13              50  United-States  <=50K         28  \n15              45         Mexico  <=50K         15  \n16              35  United-States  <=50K         42  \n17              40  United-States  <=50K         28  \n18              50  United-States  <=50K         31  \n19              45  United-States   >50K        151  \n20              60  United-States   >50K        265  \n21              20  United-States  <=50K         36  \n22              40  United-States  <=50K         39  \n23              40  United-States  <=50K         28  \n24              40  United-States  <=50K         43  \n25              40  United-States   >50K        117  \n26              40  United-States  <=50K         39  \n28              80  United-States  <=50K         21  \n29              40  United-States  <=50K         16  \n30              52  United-States  <=50K         37  \n31              44  United-States  <=50K         49  \n32              40  United-States  <=50K         18  \n33              40  United-States  <=50K         30  \n34              15  United-States  <=50K         44  \n35              40    Puerto-Rico  <=50K         27  \n36              40  United-States  <=50K         40  \n37              25  United-States  <=50K         30  \n39              40  United-States  <=50K         41  \n40              43  United-States  <=50K         17  \n41              40  United-States  <=50K         47  \n42              50  United-States  <=50K         43  \n43              40  United-States  <=50K         44  \n44              35  United-States  <=50K         25  \n45              40  United-States   >50K        268  \n46              38  United-States  <=50K         44  \n47              40  United-States  <=50K         25  \n48              40  United-States  <=50K         34  \n49              43  United-States  <=50K         26  \n50              40  United-States  <=50K         16  \n52              60       Honduras   >50K        254  \n53              55  United-States   >50K        332  ",
      "text/html": "<div>\n<style scoped>\n    .dataframe tbody tr th:only-of-type {\n        vertical-align: middle;\n    }\n\n    .dataframe tbody tr th {\n        vertical-align: top;\n    }\n\n    .dataframe thead th {\n        text-align: right;\n    }\n</style>\n<table border=\"1\" class=\"dataframe\">\n  <thead>\n    <tr style=\"text-align: right;\">\n      <th></th>\n      <th>Unnamed: 0</th>\n      <th>age</th>\n      <th>workclass</th>\n      <th>education</th>\n      <th>marital-status</th>\n      <th>occupation</th>\n      <th>relationship</th>\n      <th>race</th>\n      <th>sex</th>\n      <th>hours-per-week</th>\n      <th>native-country</th>\n      <th>salary</th>\n      <th>salary K$</th>\n    </tr>\n  </thead>\n  <tbody>\n    <tr>\n      <th>0</th>\n      <td>0</td>\n      <td>39</td>\n      <td>State-gov</td>\n      <td>Bachelors</td>\n      <td>Never-married</td>\n      <td>Adm-clerical</td>\n      <td>Not-in-family</td>\n      <td>White</td>\n      <td>Male</td>\n      <td>40</td>\n      <td>United-States</td>\n      <td>&lt;=50K</td>\n      <td>39</td>\n    </tr>\n    <tr>\n      <th>1</th>\n      <td>1</td>\n      <td>50</td>\n      <td>Self-emp-not-inc</td>\n      <td>Bachelors</td>\n      <td>Married-civ-spouse</td>\n      <td>Exec-managerial</td>\n      <td>Husband</td>\n      <td>White</td>\n      <td>Male</td>\n      <td>13</td>\n      <td>United-States</td>\n      <td>&lt;=50K</td>\n      <td>35</td>\n    </tr>\n    <tr>\n      <th>2</th>\n      <td>2</td>\n      <td>38</td>\n      <td>Private</td>\n      <td>HS-grad</td>\n      <td>Divorced</td>\n      <td>Handlers-cleaners</td>\n      <td>Not-in-family</td>\n      <td>White</td>\n      <td>Male</td>\n      <td>40</td>\n      <td>United-States</td>\n      <td>&lt;=50K</td>\n      <td>27</td>\n    </tr>\n    <tr>\n      <th>3</th>\n      <td>3</td>\n      <td>53</td>\n      <td>Private</td>\n      <td>11th</td>\n      <td>Married-civ-spouse</td>\n      <td>Handlers-cleaners</td>\n      <td>Husband</td>\n      <td>Black</td>\n      <td>Male</td>\n      <td>40</td>\n      <td>United-States</td>\n      <td>&lt;=50K</td>\n      <td>43</td>\n    </tr>\n    <tr>\n      <th>4</th>\n      <td>4</td>\n      <td>28</td>\n      <td>Private</td>\n      <td>Bachelors</td>\n      <td>Married-civ-spouse</td>\n      <td>Prof-specialty</td>\n      <td>Wife</td>\n      <td>Black</td>\n      <td>Female</td>\n      <td>40</td>\n      <td>Cuba</td>\n      <td>&lt;=50K</td>\n      <td>25</td>\n    </tr>\n    <tr>\n      <th>5</th>\n      <td>5</td>\n      <td>37</td>\n      <td>Private</td>\n      <td>Masters</td>\n      <td>Married-civ-spouse</td>\n      <td>Exec-managerial</td>\n      <td>Wife</td>\n      <td>White</td>\n      <td>Female</td>\n      <td>40</td>\n      <td>United-States</td>\n      <td>&lt;=50K</td>\n      <td>44</td>\n    </tr>\n    <tr>\n      <th>6</th>\n      <td>6</td>\n      <td>49</td>\n      <td>Private</td>\n      <td>9th</td>\n      <td>Married-spouse-absent</td>\n      <td>Other-service</td>\n      <td>Not-in-family</td>\n      <td>Black</td>\n      <td>Female</td>\n      <td>16</td>\n      <td>Jamaica</td>\n      <td>&lt;=50K</td>\n      <td>49</td>\n    </tr>\n    <tr>\n      <th>7</th>\n      <td>7</td>\n      <td>52</td>\n      <td>Self-emp-not-inc</td>\n      <td>HS-grad</td>\n      <td>Married-civ-spouse</td>\n      <td>Exec-managerial</td>\n      <td>Husband</td>\n      <td>White</td>\n      <td>Male</td>\n      <td>45</td>\n      <td>United-States</td>\n      <td>&gt;50K</td>\n      <td>307</td>\n    </tr>\n    <tr>\n      <th>8</th>\n      <td>8</td>\n      <td>31</td>\n      <td>Private</td>\n      <td>Masters</td>\n      <td>Never-married</td>\n      <td>Prof-specialty</td>\n      <td>Not-in-family</td>\n      <td>White</td>\n      <td>Female</td>\n      <td>50</td>\n      <td>United-States</td>\n      <td>&gt;50K</td>\n      <td>330</td>\n    </tr>\n    <tr>\n      <th>9</th>\n      <td>9</td>\n      <td>42</td>\n      <td>Private</td>\n      <td>Bachelors</td>\n      <td>Married-civ-spouse</td>\n      <td>Exec-managerial</td>\n      <td>Husband</td>\n      <td>White</td>\n      <td>Male</td>\n      <td>40</td>\n      <td>United-States</td>\n      <td>&gt;50K</td>\n      <td>303</td>\n    </tr>\n    <tr>\n      <th>10</th>\n      <td>10</td>\n      <td>37</td>\n      <td>Private</td>\n      <td>Some-college</td>\n      <td>Married-civ-spouse</td>\n      <td>Exec-managerial</td>\n      <td>Husband</td>\n      <td>Black</td>\n      <td>Male</td>\n      <td>80</td>\n      <td>United-States</td>\n      <td>&gt;50K</td>\n      <td>116</td>\n    </tr>\n    <tr>\n      <th>11</th>\n      <td>11</td>\n      <td>30</td>\n      <td>State-gov</td>\n      <td>Bachelors</td>\n      <td>Married-civ-spouse</td>\n      <td>Prof-specialty</td>\n      <td>Husband</td>\n      <td>Asian-Pac-Islander</td>\n      <td>Male</td>\n      <td>40</td>\n      <td>India</td>\n      <td>&gt;50K</td>\n      <td>279</td>\n    </tr>\n    <tr>\n      <th>12</th>\n      <td>12</td>\n      <td>23</td>\n      <td>Private</td>\n      <td>Bachelors</td>\n      <td>Never-married</td>\n      <td>Adm-clerical</td>\n      <td>Own-child</td>\n      <td>White</td>\n      <td>Female</td>\n      <td>30</td>\n      <td>United-States</td>\n      <td>&lt;=50K</td>\n      <td>27</td>\n    </tr>\n    <tr>\n      <th>13</th>\n      <td>13</td>\n      <td>32</td>\n      <td>Private</td>\n      <td>Assoc-acdm</td>\n      <td>Never-married</td>\n      <td>Sales</td>\n      <td>Not-in-family</td>\n      <td>Black</td>\n      <td>Male</td>\n      <td>50</td>\n      <td>United-States</td>\n      <td>&lt;=50K</td>\n      <td>28</td>\n    </tr>\n    <tr>\n      <th>15</th>\n      <td>15</td>\n      <td>34</td>\n      <td>Private</td>\n      <td>7th-8th</td>\n      <td>Married-civ-spouse</td>\n      <td>Transport-moving</td>\n      <td>Husband</td>\n      <td>Amer-Indian-Eskimo</td>\n      <td>Male</td>\n      <td>45</td>\n      <td>Mexico</td>\n      <td>&lt;=50K</td>\n      <td>15</td>\n    </tr>\n    <tr>\n      <th>16</th>\n      <td>16</td>\n      <td>25</td>\n      <td>Self-emp-not-inc</td>\n      <td>HS-grad</td>\n      <td>Never-married</td>\n      <td>Farming-fishing</td>\n      <td>Own-child</td>\n      <td>White</td>\n      <td>Male</td>\n      <td>35</td>\n      <td>United-States</td>\n      <td>&lt;=50K</td>\n      <td>42</td>\n    </tr>\n    <tr>\n      <th>17</th>\n      <td>17</td>\n      <td>32</td>\n      <td>Private</td>\n      <td>HS-grad</td>\n      <td>Never-married</td>\n      <td>Machine-op-inspct</td>\n      <td>Unmarried</td>\n      <td>White</td>\n      <td>Male</td>\n      <td>40</td>\n      <td>United-States</td>\n      <td>&lt;=50K</td>\n      <td>28</td>\n    </tr>\n    <tr>\n      <th>18</th>\n      <td>18</td>\n      <td>38</td>\n      <td>Private</td>\n      <td>11th</td>\n      <td>Married-civ-spouse</td>\n      <td>Sales</td>\n      <td>Husband</td>\n      <td>White</td>\n      <td>Male</td>\n      <td>50</td>\n      <td>United-States</td>\n      <td>&lt;=50K</td>\n      <td>31</td>\n    </tr>\n    <tr>\n      <th>19</th>\n      <td>19</td>\n      <td>43</td>\n      <td>Self-emp-not-inc</td>\n      <td>Masters</td>\n      <td>Divorced</td>\n      <td>Exec-managerial</td>\n      <td>Unmarried</td>\n      <td>White</td>\n      <td>Female</td>\n      <td>45</td>\n      <td>United-States</td>\n      <td>&gt;50K</td>\n      <td>151</td>\n    </tr>\n    <tr>\n      <th>20</th>\n      <td>20</td>\n      <td>40</td>\n      <td>Private</td>\n      <td>Doctorate</td>\n      <td>Married-civ-spouse</td>\n      <td>Prof-specialty</td>\n      <td>Husband</td>\n      <td>White</td>\n      <td>Male</td>\n      <td>60</td>\n      <td>United-States</td>\n      <td>&gt;50K</td>\n      <td>265</td>\n    </tr>\n    <tr>\n      <th>21</th>\n      <td>21</td>\n      <td>54</td>\n      <td>Private</td>\n      <td>HS-grad</td>\n      <td>Separated</td>\n      <td>Other-service</td>\n      <td>Unmarried</td>\n      <td>Black</td>\n      <td>Female</td>\n      <td>20</td>\n      <td>United-States</td>\n      <td>&lt;=50K</td>\n      <td>36</td>\n    </tr>\n    <tr>\n      <th>22</th>\n      <td>22</td>\n      <td>35</td>\n      <td>Federal-gov</td>\n      <td>9th</td>\n      <td>Married-civ-spouse</td>\n      <td>Farming-fishing</td>\n      <td>Husband</td>\n      <td>Black</td>\n      <td>Male</td>\n      <td>40</td>\n      <td>United-States</td>\n      <td>&lt;=50K</td>\n      <td>39</td>\n    </tr>\n    <tr>\n      <th>23</th>\n      <td>23</td>\n      <td>43</td>\n      <td>Private</td>\n      <td>11th</td>\n      <td>Married-civ-spouse</td>\n      <td>Transport-moving</td>\n      <td>Husband</td>\n      <td>White</td>\n      <td>Male</td>\n      <td>40</td>\n      <td>United-States</td>\n      <td>&lt;=50K</td>\n      <td>28</td>\n    </tr>\n    <tr>\n      <th>24</th>\n      <td>24</td>\n      <td>59</td>\n      <td>Private</td>\n      <td>HS-grad</td>\n      <td>Divorced</td>\n      <td>Tech-support</td>\n      <td>Unmarried</td>\n      <td>White</td>\n      <td>Female</td>\n      <td>40</td>\n      <td>United-States</td>\n      <td>&lt;=50K</td>\n      <td>43</td>\n    </tr>\n    <tr>\n      <th>25</th>\n      <td>25</td>\n      <td>56</td>\n      <td>Local-gov</td>\n      <td>Bachelors</td>\n      <td>Married-civ-spouse</td>\n      <td>Tech-support</td>\n      <td>Husband</td>\n      <td>White</td>\n      <td>Male</td>\n      <td>40</td>\n      <td>United-States</td>\n      <td>&gt;50K</td>\n      <td>117</td>\n    </tr>\n    <tr>\n      <th>26</th>\n      <td>26</td>\n      <td>19</td>\n      <td>Private</td>\n      <td>HS-grad</td>\n      <td>Never-married</td>\n      <td>Craft-repair</td>\n      <td>Own-child</td>\n      <td>White</td>\n      <td>Male</td>\n      <td>40</td>\n      <td>United-States</td>\n      <td>&lt;=50K</td>\n      <td>39</td>\n    </tr>\n    <tr>\n      <th>28</th>\n      <td>28</td>\n      <td>39</td>\n      <td>Private</td>\n      <td>HS-grad</td>\n      <td>Divorced</td>\n      <td>Exec-managerial</td>\n      <td>Not-in-family</td>\n      <td>White</td>\n      <td>Male</td>\n      <td>80</td>\n      <td>United-States</td>\n      <td>&lt;=50K</td>\n      <td>21</td>\n    </tr>\n    <tr>\n      <th>29</th>\n      <td>29</td>\n      <td>49</td>\n      <td>Private</td>\n      <td>HS-grad</td>\n      <td>Married-civ-spouse</td>\n      <td>Craft-repair</td>\n      <td>Husband</td>\n      <td>White</td>\n      <td>Male</td>\n      <td>40</td>\n      <td>United-States</td>\n      <td>&lt;=50K</td>\n      <td>16</td>\n    </tr>\n    <tr>\n      <th>30</th>\n      <td>30</td>\n      <td>23</td>\n      <td>Local-gov</td>\n      <td>Assoc-acdm</td>\n      <td>Never-married</td>\n      <td>Protective-serv</td>\n      <td>Not-in-family</td>\n      <td>White</td>\n      <td>Male</td>\n      <td>52</td>\n      <td>United-States</td>\n      <td>&lt;=50K</td>\n      <td>37</td>\n    </tr>\n    <tr>\n      <th>31</th>\n      <td>31</td>\n      <td>20</td>\n      <td>Private</td>\n      <td>Some-college</td>\n      <td>Never-married</td>\n      <td>Sales</td>\n      <td>Own-child</td>\n      <td>Black</td>\n      <td>Male</td>\n      <td>44</td>\n      <td>United-States</td>\n      <td>&lt;=50K</td>\n      <td>49</td>\n    </tr>\n    <tr>\n      <th>32</th>\n      <td>32</td>\n      <td>45</td>\n      <td>Private</td>\n      <td>Bachelors</td>\n      <td>Divorced</td>\n      <td>Exec-managerial</td>\n      <td>Own-child</td>\n      <td>White</td>\n      <td>Male</td>\n      <td>40</td>\n      <td>United-States</td>\n      <td>&lt;=50K</td>\n      <td>18</td>\n    </tr>\n    <tr>\n      <th>33</th>\n      <td>33</td>\n      <td>30</td>\n      <td>Federal-gov</td>\n      <td>Some-college</td>\n      <td>Married-civ-spouse</td>\n      <td>Adm-clerical</td>\n      <td>Own-child</td>\n      <td>White</td>\n      <td>Male</td>\n      <td>40</td>\n      <td>United-States</td>\n      <td>&lt;=50K</td>\n      <td>30</td>\n    </tr>\n    <tr>\n      <th>34</th>\n      <td>34</td>\n      <td>22</td>\n      <td>State-gov</td>\n      <td>Some-college</td>\n      <td>Married-civ-spouse</td>\n      <td>Other-service</td>\n      <td>Husband</td>\n      <td>Black</td>\n      <td>Male</td>\n      <td>15</td>\n      <td>United-States</td>\n      <td>&lt;=50K</td>\n      <td>44</td>\n    </tr>\n    <tr>\n      <th>35</th>\n      <td>35</td>\n      <td>48</td>\n      <td>Private</td>\n      <td>11th</td>\n      <td>Never-married</td>\n      <td>Machine-op-inspct</td>\n      <td>Unmarried</td>\n      <td>White</td>\n      <td>Male</td>\n      <td>40</td>\n      <td>Puerto-Rico</td>\n      <td>&lt;=50K</td>\n      <td>27</td>\n    </tr>\n    <tr>\n      <th>36</th>\n      <td>36</td>\n      <td>21</td>\n      <td>Private</td>\n      <td>Some-college</td>\n      <td>Never-married</td>\n      <td>Machine-op-inspct</td>\n      <td>Own-child</td>\n      <td>White</td>\n      <td>Male</td>\n      <td>40</td>\n      <td>United-States</td>\n      <td>&lt;=50K</td>\n      <td>40</td>\n    </tr>\n    <tr>\n      <th>37</th>\n      <td>37</td>\n      <td>19</td>\n      <td>Private</td>\n      <td>HS-grad</td>\n      <td>Married-AF-spouse</td>\n      <td>Adm-clerical</td>\n      <td>Wife</td>\n      <td>White</td>\n      <td>Female</td>\n      <td>25</td>\n      <td>United-States</td>\n      <td>&lt;=50K</td>\n      <td>30</td>\n    </tr>\n    <tr>\n      <th>39</th>\n      <td>39</td>\n      <td>48</td>\n      <td>Self-emp-not-inc</td>\n      <td>Assoc-acdm</td>\n      <td>Married-civ-spouse</td>\n      <td>Prof-specialty</td>\n      <td>Husband</td>\n      <td>White</td>\n      <td>Male</td>\n      <td>40</td>\n      <td>United-States</td>\n      <td>&lt;=50K</td>\n      <td>41</td>\n    </tr>\n    <tr>\n      <th>40</th>\n      <td>40</td>\n      <td>31</td>\n      <td>Private</td>\n      <td>9th</td>\n      <td>Married-civ-spouse</td>\n      <td>Machine-op-inspct</td>\n      <td>Husband</td>\n      <td>White</td>\n      <td>Male</td>\n      <td>43</td>\n      <td>United-States</td>\n      <td>&lt;=50K</td>\n      <td>17</td>\n    </tr>\n    <tr>\n      <th>41</th>\n      <td>41</td>\n      <td>53</td>\n      <td>Self-emp-not-inc</td>\n      <td>Bachelors</td>\n      <td>Married-civ-spouse</td>\n      <td>Prof-specialty</td>\n      <td>Husband</td>\n      <td>White</td>\n      <td>Male</td>\n      <td>40</td>\n      <td>United-States</td>\n      <td>&lt;=50K</td>\n      <td>47</td>\n    </tr>\n    <tr>\n      <th>42</th>\n      <td>42</td>\n      <td>24</td>\n      <td>Private</td>\n      <td>Bachelors</td>\n      <td>Married-civ-spouse</td>\n      <td>Tech-support</td>\n      <td>Husband</td>\n      <td>White</td>\n      <td>Male</td>\n      <td>50</td>\n      <td>United-States</td>\n      <td>&lt;=50K</td>\n      <td>43</td>\n    </tr>\n    <tr>\n      <th>43</th>\n      <td>43</td>\n      <td>49</td>\n      <td>Private</td>\n      <td>HS-grad</td>\n      <td>Separated</td>\n      <td>Adm-clerical</td>\n      <td>Unmarried</td>\n      <td>White</td>\n      <td>Female</td>\n      <td>40</td>\n      <td>United-States</td>\n      <td>&lt;=50K</td>\n      <td>44</td>\n    </tr>\n    <tr>\n      <th>44</th>\n      <td>44</td>\n      <td>25</td>\n      <td>Private</td>\n      <td>HS-grad</td>\n      <td>Never-married</td>\n      <td>Handlers-cleaners</td>\n      <td>Not-in-family</td>\n      <td>White</td>\n      <td>Male</td>\n      <td>35</td>\n      <td>United-States</td>\n      <td>&lt;=50K</td>\n      <td>25</td>\n    </tr>\n    <tr>\n      <th>45</th>\n      <td>45</td>\n      <td>57</td>\n      <td>Federal-gov</td>\n      <td>Bachelors</td>\n      <td>Married-civ-spouse</td>\n      <td>Prof-specialty</td>\n      <td>Husband</td>\n      <td>Black</td>\n      <td>Male</td>\n      <td>40</td>\n      <td>United-States</td>\n      <td>&gt;50K</td>\n      <td>268</td>\n    </tr>\n    <tr>\n      <th>46</th>\n      <td>46</td>\n      <td>53</td>\n      <td>Private</td>\n      <td>HS-grad</td>\n      <td>Married-civ-spouse</td>\n      <td>Machine-op-inspct</td>\n      <td>Husband</td>\n      <td>White</td>\n      <td>Male</td>\n      <td>38</td>\n      <td>United-States</td>\n      <td>&lt;=50K</td>\n      <td>44</td>\n    </tr>\n    <tr>\n      <th>47</th>\n      <td>47</td>\n      <td>44</td>\n      <td>Private</td>\n      <td>Masters</td>\n      <td>Divorced</td>\n      <td>Exec-managerial</td>\n      <td>Unmarried</td>\n      <td>White</td>\n      <td>Female</td>\n      <td>40</td>\n      <td>United-States</td>\n      <td>&lt;=50K</td>\n      <td>25</td>\n    </tr>\n    <tr>\n      <th>48</th>\n      <td>48</td>\n      <td>41</td>\n      <td>State-gov</td>\n      <td>Assoc-voc</td>\n      <td>Married-civ-spouse</td>\n      <td>Craft-repair</td>\n      <td>Husband</td>\n      <td>White</td>\n      <td>Male</td>\n      <td>40</td>\n      <td>United-States</td>\n      <td>&lt;=50K</td>\n      <td>34</td>\n    </tr>\n    <tr>\n      <th>49</th>\n      <td>49</td>\n      <td>29</td>\n      <td>Private</td>\n      <td>Assoc-voc</td>\n      <td>Never-married</td>\n      <td>Prof-specialty</td>\n      <td>Not-in-family</td>\n      <td>White</td>\n      <td>Male</td>\n      <td>43</td>\n      <td>United-States</td>\n      <td>&lt;=50K</td>\n      <td>26</td>\n    </tr>\n    <tr>\n      <th>50</th>\n      <td>50</td>\n      <td>25</td>\n      <td>Private</td>\n      <td>Some-college</td>\n      <td>Married-civ-spouse</td>\n      <td>Exec-managerial</td>\n      <td>Wife</td>\n      <td>Other</td>\n      <td>Female</td>\n      <td>40</td>\n      <td>United-States</td>\n      <td>&lt;=50K</td>\n      <td>16</td>\n    </tr>\n    <tr>\n      <th>52</th>\n      <td>52</td>\n      <td>47</td>\n      <td>Private</td>\n      <td>Prof-school</td>\n      <td>Married-civ-spouse</td>\n      <td>Prof-specialty</td>\n      <td>Wife</td>\n      <td>White</td>\n      <td>Female</td>\n      <td>60</td>\n      <td>Honduras</td>\n      <td>&gt;50K</td>\n      <td>254</td>\n    </tr>\n    <tr>\n      <th>53</th>\n      <td>53</td>\n      <td>50</td>\n      <td>Federal-gov</td>\n      <td>Bachelors</td>\n      <td>Divorced</td>\n      <td>Exec-managerial</td>\n      <td>Not-in-family</td>\n      <td>White</td>\n      <td>Male</td>\n      <td>55</td>\n      <td>United-States</td>\n      <td>&gt;50K</td>\n      <td>332</td>\n    </tr>\n  </tbody>\n</table>\n</div>"
     },
     "execution_count": 28,
     "metadata": {},
     "output_type": "execute_result"
    }
   ],
   "source": [
    "df = pd.read_csv(\"/Users/stoveprofi/py-adult-data-analysis/data/adult.csv\")\n",
    "df = df[df != \"?\"]\n",
    "df.dropna(inplace=True)\n",
    "df.head(50)"
   ],
   "metadata": {
    "collapsed": false,
    "pycharm": {
     "name": "#%%\n"
    }
   }
  },
  {
   "cell_type": "code",
   "execution_count": 35,
   "outputs": [
    {
     "data": {
      "text/plain": "array(['<=50K', '>50K'], dtype=object)"
     },
     "execution_count": 35,
     "metadata": {},
     "output_type": "execute_result"
    }
   ],
   "source": [
    "unique_salary_50k = df[\"salary\"].unique()\n",
    "unique_salary_50k"
   ],
   "metadata": {
    "collapsed": false,
    "pycharm": {
     "name": "#%%\n"
    }
   }
  },
  {
   "cell_type": "code",
   "execution_count": 38,
   "outputs": [
    {
     "data": {
      "text/plain": "array([ 39,  35,  27,  43,  25,  44,  49, 307, 330, 303, 116, 279,  28,\n        15,  42,  31, 151, 265,  36, 117,  21,  16,  37,  18,  30,  40,\n        41,  17,  47, 268,  34,  26, 254, 332, 341,  38,  33,  19, 248,\n        32, 225, 194, 301,  24,  45,  22, 278, 233,  48,  86, 166, 284,\n       217, 120,  99, 323, 197,  23,  46, 250, 274, 244, 346, 171, 215,\n        20, 140, 106, 266, 231, 242, 176, 339,  29, 125, 143,  70,  53,\n       239,  73, 160, 329, 247, 145, 148, 316, 124, 199, 296, 112, 177,\n        85,  83, 331, 286, 180, 214, 169, 256, 185, 115, 163, 276,  82,\n       321, 261, 181, 167, 210,  79, 337, 328,  74, 183, 314, 334,  87,\n       320, 347,  89,  55,  52, 348, 146, 251, 174, 234, 338, 227, 113,\n       282, 269, 344, 184, 141, 158,  91, 263, 319, 285, 216, 155, 179,\n       122,  97, 202, 153, 161, 236, 144, 182, 102,  67, 297, 230, 342,\n        58, 188, 298, 100, 108, 260, 118,  95, 134, 240, 300,  59, 313,\n        98, 223, 271, 150, 295, 280, 309, 209, 101, 224, 281, 222, 187,\n        63,  66, 130, 105, 270, 294, 189, 259, 129, 349, 275, 147, 340,\n       133, 200, 235,  57, 237, 107, 103, 253, 293, 198, 119, 206, 175,\n       207, 127, 232, 111, 186, 110,  90, 126, 211,  84, 168,  60, 192,\n       203, 212, 137, 132, 272,  96, 228, 208, 138, 172, 302, 218, 315,\n       191, 277, 149, 238, 162, 308, 128, 304, 121,  51, 336, 326, 241,\n        61, 262, 324, 317, 196,  69,  75, 159, 310, 264, 164, 258, 156,\n       114, 311,  80,  77,  64, 243,  68, 229, 165, 292, 345, 245, 170,\n       142, 252, 287, 305,  88, 221, 289,  62, 226, 267, 178, 204, 273,\n       152, 327,  92, 190, 343, 154,  71, 219,  81, 288, 136, 322,  56,\n       139, 205,  72, 249, 335, 333, 131,  65, 257, 104, 135, 325, 213,\n       290, 109, 299, 220, 255, 283, 173,  76, 123,  93, 318, 201, 246,\n       157, 306, 195,  78,  94, 193, 312, 291,  54])"
     },
     "execution_count": 38,
     "metadata": {},
     "output_type": "execute_result"
    }
   ],
   "source": [
    "unique_salary_k = df[\"salary K$\"].unique()\n",
    "unique_salary_k"
   ],
   "metadata": {
    "collapsed": false,
    "pycharm": {
     "name": "#%%\n"
    }
   }
  },
  {
   "cell_type": "code",
   "execution_count": 42,
   "outputs": [
    {
     "data": {
      "text/plain": "dtype('O')"
     },
     "execution_count": 42,
     "metadata": {},
     "output_type": "execute_result"
    }
   ],
   "source": [
    "type_salary_50k = df[\"salary\"].dtypes\n",
    "type_salary_50k"
   ],
   "metadata": {
    "collapsed": false,
    "pycharm": {
     "name": "#%%\n"
    }
   }
  },
  {
   "cell_type": "code",
   "execution_count": 39,
   "outputs": [
    {
     "data": {
      "text/plain": "dtype('int64')"
     },
     "execution_count": 39,
     "metadata": {},
     "output_type": "execute_result"
    }
   ],
   "source": [
    "type_salary_k = df[\"salary K$\"].dtypes\n",
    "type_salary_k"
   ],
   "metadata": {
    "collapsed": false,
    "pycharm": {
     "name": "#%%\n"
    }
   }
  },
  {
   "cell_type": "markdown",
   "source": [
    "# Task 1\n",
    "\n",
    "Print the count of men and women in the dataset.\n"
   ],
   "metadata": {
    "collapsed": false,
    "pycharm": {
     "name": "#%% md\n"
    }
   }
  },
  {
   "cell_type": "code",
   "execution_count": 4,
   "outputs": [
    {
     "ename": "NameError",
     "evalue": "name 'df' is not defined",
     "output_type": "error",
     "traceback": [
      "\u001B[0;31m---------------------------------------------------------------------------\u001B[0m",
      "\u001B[0;31mNameError\u001B[0m                                 Traceback (most recent call last)",
      "Cell \u001B[0;32mIn[4], line 1\u001B[0m\n\u001B[0;32m----> 1\u001B[0m Male \u001B[38;5;241m=\u001B[39m \u001B[43mdf\u001B[49m[df[\u001B[38;5;124m\"\u001B[39m\u001B[38;5;124msex\u001B[39m\u001B[38;5;124m\"\u001B[39m] \u001B[38;5;241m!=\u001B[39m \u001B[38;5;124m\"\u001B[39m\u001B[38;5;124mFemale\u001B[39m\u001B[38;5;124m\"\u001B[39m]\u001B[38;5;241m.\u001B[39mcount()[\u001B[38;5;124m\"\u001B[39m\u001B[38;5;124msex\u001B[39m\u001B[38;5;124m\"\u001B[39m]\n\u001B[1;32m      2\u001B[0m Female \u001B[38;5;241m=\u001B[39m df[df[\u001B[38;5;124m\"\u001B[39m\u001B[38;5;124msex\u001B[39m\u001B[38;5;124m\"\u001B[39m] \u001B[38;5;241m!=\u001B[39m \u001B[38;5;124m\"\u001B[39m\u001B[38;5;124mMale\u001B[39m\u001B[38;5;124m\"\u001B[39m]\u001B[38;5;241m.\u001B[39mcount()[\u001B[38;5;124m\"\u001B[39m\u001B[38;5;124msex\u001B[39m\u001B[38;5;124m\"\u001B[39m]\n\u001B[1;32m      3\u001B[0m \u001B[38;5;124mf\u001B[39m\u001B[38;5;124m\"\u001B[39m\u001B[38;5;124mMale: \u001B[39m\u001B[38;5;132;01m{\u001B[39;00mMale\u001B[38;5;132;01m}\u001B[39;00m\u001B[38;5;124m Female: \u001B[39m\u001B[38;5;132;01m{\u001B[39;00mFemale\u001B[38;5;132;01m}\u001B[39;00m\u001B[38;5;124m\"\u001B[39m\n",
      "\u001B[0;31mNameError\u001B[0m: name 'df' is not defined"
     ]
    }
   ],
   "source": [
    "Male = df[df[\"sex\"] != \"Female\"].count()[\"sex\"]\n",
    "Female = df[df[\"sex\"] != \"Male\"].count()[\"sex\"]\n",
    "f\"Male: {Male} Female: {Female}\""
   ],
   "metadata": {
    "collapsed": false,
    "pycharm": {
     "name": "#%%\n"
    }
   }
  },
  {
   "cell_type": "markdown",
   "source": [
    "# Task 2\n",
    "Find the average age of men in dataset"
   ],
   "metadata": {
    "collapsed": false,
    "pycharm": {
     "name": "#%% md\n"
    }
   }
  },
  {
   "cell_type": "code",
   "execution_count": 312,
   "outputs": [
    {
     "data": {
      "text/plain": "38.437901995888865"
     },
     "execution_count": 312,
     "metadata": {},
     "output_type": "execute_result"
    }
   ],
   "source": [
    "df_male = df[df[\"sex\"] != \"Female\"]\n",
    "man_average_age = df.describe()[\"age\"].loc[\"mean\"]\n",
    "man_average_age"
   ],
   "metadata": {
    "collapsed": false,
    "pycharm": {
     "name": "#%%\n"
    }
   }
  },
  {
   "cell_type": "markdown",
   "source": [
    "# Task 3\n",
    "Get the percentage of people from Poland (native-country)"
   ],
   "metadata": {
    "collapsed": false,
    "pycharm": {
     "name": "#%% md\n"
    }
   }
  },
  {
   "cell_type": "code",
   "execution_count": 169,
   "outputs": [
    {
     "data": {
      "text/plain": "0.18566408063125786"
     },
     "execution_count": 169,
     "metadata": {},
     "output_type": "execute_result"
    }
   ],
   "source": [
    "amount = df.count()[\"native-country\"]\n",
    "Poland = df[df[\"native-country\"] == \"Poland\"].count()[\"native-country\"]\n",
    "percent_poland = Poland * 100 / amount\n",
    "percent_poland"
   ],
   "metadata": {
    "collapsed": false,
    "pycharm": {
     "name": "#%%\n"
    }
   }
  },
  {
   "cell_type": "markdown",
   "source": [
    "# Task 4\n",
    "Get the mean and standard deviation of the age for people who earn > 50K per year. After this, get it for those who earn <= 50K."
   ],
   "metadata": {
    "collapsed": false,
    "pycharm": {
     "name": "#%% md\n"
    }
   }
  },
  {
   "cell_type": "code",
   "execution_count": 232,
   "outputs": [
    {
     "data": {
      "text/plain": "mean    43.959110\nstd     10.269633\nName: age, dtype: float64"
     },
     "execution_count": 232,
     "metadata": {},
     "output_type": "execute_result"
    }
   ],
   "source": [
    "salary_more_50 = df[df[\"salary\"] == \">50K\"]\n",
    "salary_more_50.describe()[\"age\"].loc[[\"mean\", \"std\"]]"
   ],
   "metadata": {
    "collapsed": false,
    "pycharm": {
     "name": "#%%\n"
    }
   }
  },
  {
   "cell_type": "code",
   "execution_count": 316,
   "outputs": [
    {
     "data": {
      "text/plain": "mean    36.608060\nstd     13.464631\nName: age, dtype: float64"
     },
     "execution_count": 316,
     "metadata": {},
     "output_type": "execute_result"
    }
   ],
   "source": [
    "salary_less_50 = df[df[\"salary\"] == \"<=50K\"]\n",
    "salary_less_50.describe()[\"age\"].loc[[\"mean\",\"std\"]]"
   ],
   "metadata": {
    "collapsed": false,
    "pycharm": {
     "name": "#%%\n"
    }
   }
  },
  {
   "cell_type": "markdown",
   "source": [
    "# Task 5\n",
    "Check, if there are some people without higher education (education: Bachelors, Prof-school, Assoc-acdm, Assoc-voc, Masters, Doctorate), but with > 50K salary"
   ],
   "metadata": {
    "collapsed": false,
    "pycharm": {
     "name": "#%% md\n"
    }
   }
  },
  {
   "cell_type": "code",
   "execution_count": 200,
   "outputs": [
    {
     "data": {
      "text/plain": "       Unnamed: 0  age         workclass     education      marital-status   \n7               7   52  Self-emp-not-inc       HS-grad  Married-civ-spouse  \\\n10             10   37           Private  Some-college  Married-civ-spouse   \n55             55   43           Private  Some-college  Married-civ-spouse   \n67             67   53           Private       HS-grad  Married-civ-spouse   \n68             68   49      Self-emp-inc  Some-college  Married-civ-spouse   \n...           ...  ...               ...           ...                 ...   \n32462       32462   48      Self-emp-inc       HS-grad  Married-civ-spouse   \n32518       32518   57         Local-gov       HS-grad  Married-civ-spouse   \n32519       32519   46           Private  Some-college  Married-civ-spouse   \n32557       32557   40           Private       HS-grad  Married-civ-spouse   \n32560       32560   52      Self-emp-inc       HS-grad  Married-civ-spouse   \n\n              occupation relationship   race     sex  hours-per-week   \n7        Exec-managerial      Husband  White    Male              45  \\\n10       Exec-managerial      Husband  Black    Male              80   \n55          Tech-support      Husband  White    Male              40   \n67          Adm-clerical         Wife  White  Female              40   \n68       Exec-managerial      Husband  White    Male              50   \n...                  ...          ...    ...     ...             ...   \n32462       Craft-repair      Husband  White    Male              50   \n32518       Craft-repair      Husband  White    Male              40   \n32519    Exec-managerial      Husband  White    Male              48   \n32557  Machine-op-inspct      Husband  White    Male              40   \n32560    Exec-managerial         Wife  White  Female              40   \n\n      native-country salary  salary K$  \n7      United-States   >50K        307  \n10     United-States   >50K        116  \n55     United-States   >50K        341  \n67     United-States   >50K        225  \n68     United-States   >50K        194  \n...              ...    ...        ...  \n32462  United-States   >50K        343  \n32518  United-States   >50K        116  \n32519  United-States   >50K        239  \n32557  United-States   >50K        173  \n32560  United-States   >50K        243  \n\n[3178 rows x 13 columns]",
      "text/html": "<div>\n<style scoped>\n    .dataframe tbody tr th:only-of-type {\n        vertical-align: middle;\n    }\n\n    .dataframe tbody tr th {\n        vertical-align: top;\n    }\n\n    .dataframe thead th {\n        text-align: right;\n    }\n</style>\n<table border=\"1\" class=\"dataframe\">\n  <thead>\n    <tr style=\"text-align: right;\">\n      <th></th>\n      <th>Unnamed: 0</th>\n      <th>age</th>\n      <th>workclass</th>\n      <th>education</th>\n      <th>marital-status</th>\n      <th>occupation</th>\n      <th>relationship</th>\n      <th>race</th>\n      <th>sex</th>\n      <th>hours-per-week</th>\n      <th>native-country</th>\n      <th>salary</th>\n      <th>salary K$</th>\n    </tr>\n  </thead>\n  <tbody>\n    <tr>\n      <th>7</th>\n      <td>7</td>\n      <td>52</td>\n      <td>Self-emp-not-inc</td>\n      <td>HS-grad</td>\n      <td>Married-civ-spouse</td>\n      <td>Exec-managerial</td>\n      <td>Husband</td>\n      <td>White</td>\n      <td>Male</td>\n      <td>45</td>\n      <td>United-States</td>\n      <td>&gt;50K</td>\n      <td>307</td>\n    </tr>\n    <tr>\n      <th>10</th>\n      <td>10</td>\n      <td>37</td>\n      <td>Private</td>\n      <td>Some-college</td>\n      <td>Married-civ-spouse</td>\n      <td>Exec-managerial</td>\n      <td>Husband</td>\n      <td>Black</td>\n      <td>Male</td>\n      <td>80</td>\n      <td>United-States</td>\n      <td>&gt;50K</td>\n      <td>116</td>\n    </tr>\n    <tr>\n      <th>55</th>\n      <td>55</td>\n      <td>43</td>\n      <td>Private</td>\n      <td>Some-college</td>\n      <td>Married-civ-spouse</td>\n      <td>Tech-support</td>\n      <td>Husband</td>\n      <td>White</td>\n      <td>Male</td>\n      <td>40</td>\n      <td>United-States</td>\n      <td>&gt;50K</td>\n      <td>341</td>\n    </tr>\n    <tr>\n      <th>67</th>\n      <td>67</td>\n      <td>53</td>\n      <td>Private</td>\n      <td>HS-grad</td>\n      <td>Married-civ-spouse</td>\n      <td>Adm-clerical</td>\n      <td>Wife</td>\n      <td>White</td>\n      <td>Female</td>\n      <td>40</td>\n      <td>United-States</td>\n      <td>&gt;50K</td>\n      <td>225</td>\n    </tr>\n    <tr>\n      <th>68</th>\n      <td>68</td>\n      <td>49</td>\n      <td>Self-emp-inc</td>\n      <td>Some-college</td>\n      <td>Married-civ-spouse</td>\n      <td>Exec-managerial</td>\n      <td>Husband</td>\n      <td>White</td>\n      <td>Male</td>\n      <td>50</td>\n      <td>United-States</td>\n      <td>&gt;50K</td>\n      <td>194</td>\n    </tr>\n    <tr>\n      <th>...</th>\n      <td>...</td>\n      <td>...</td>\n      <td>...</td>\n      <td>...</td>\n      <td>...</td>\n      <td>...</td>\n      <td>...</td>\n      <td>...</td>\n      <td>...</td>\n      <td>...</td>\n      <td>...</td>\n      <td>...</td>\n      <td>...</td>\n    </tr>\n    <tr>\n      <th>32462</th>\n      <td>32462</td>\n      <td>48</td>\n      <td>Self-emp-inc</td>\n      <td>HS-grad</td>\n      <td>Married-civ-spouse</td>\n      <td>Craft-repair</td>\n      <td>Husband</td>\n      <td>White</td>\n      <td>Male</td>\n      <td>50</td>\n      <td>United-States</td>\n      <td>&gt;50K</td>\n      <td>343</td>\n    </tr>\n    <tr>\n      <th>32518</th>\n      <td>32518</td>\n      <td>57</td>\n      <td>Local-gov</td>\n      <td>HS-grad</td>\n      <td>Married-civ-spouse</td>\n      <td>Craft-repair</td>\n      <td>Husband</td>\n      <td>White</td>\n      <td>Male</td>\n      <td>40</td>\n      <td>United-States</td>\n      <td>&gt;50K</td>\n      <td>116</td>\n    </tr>\n    <tr>\n      <th>32519</th>\n      <td>32519</td>\n      <td>46</td>\n      <td>Private</td>\n      <td>Some-college</td>\n      <td>Married-civ-spouse</td>\n      <td>Exec-managerial</td>\n      <td>Husband</td>\n      <td>White</td>\n      <td>Male</td>\n      <td>48</td>\n      <td>United-States</td>\n      <td>&gt;50K</td>\n      <td>239</td>\n    </tr>\n    <tr>\n      <th>32557</th>\n      <td>32557</td>\n      <td>40</td>\n      <td>Private</td>\n      <td>HS-grad</td>\n      <td>Married-civ-spouse</td>\n      <td>Machine-op-inspct</td>\n      <td>Husband</td>\n      <td>White</td>\n      <td>Male</td>\n      <td>40</td>\n      <td>United-States</td>\n      <td>&gt;50K</td>\n      <td>173</td>\n    </tr>\n    <tr>\n      <th>32560</th>\n      <td>32560</td>\n      <td>52</td>\n      <td>Self-emp-inc</td>\n      <td>HS-grad</td>\n      <td>Married-civ-spouse</td>\n      <td>Exec-managerial</td>\n      <td>Wife</td>\n      <td>White</td>\n      <td>Female</td>\n      <td>40</td>\n      <td>United-States</td>\n      <td>&gt;50K</td>\n      <td>243</td>\n    </tr>\n  </tbody>\n</table>\n<p>3178 rows × 13 columns</p>\n</div>"
     },
     "execution_count": 200,
     "metadata": {},
     "output_type": "execute_result"
    }
   ],
   "source": [
    "df_education = salary_more_50[~salary_more_50.isin([\"Bachelors\", \"Prof-school\", \"Assoc-acdm\", \"Assoc-voc\", \"Masters\", \"Doctorate\"])]\n",
    "df_education.dropna()"
   ],
   "metadata": {
    "collapsed": false,
    "pycharm": {
     "name": "#%%\n"
    }
   }
  },
  {
   "cell_type": "markdown",
   "source": [],
   "metadata": {
    "collapsed": false,
    "pycharm": {
     "name": "#%% md\n"
    }
   }
  },
  {
   "cell_type": "markdown",
   "source": [
    "# Task 6\n",
    "Get the statistics of age for each type of education. Use `groupby` and `describe` for this."
   ],
   "metadata": {
    "collapsed": false,
    "pycharm": {
     "name": "#%% md\n"
    }
   }
  },
  {
   "cell_type": "code",
   "execution_count": 280,
   "outputs": [
    {
     "data": {
      "text/plain": "               count       mean        std   min   25%   50%   75%   max\neducation                                                               \n10th           820.0  37.897561  16.225795  17.0  23.0  36.0  52.0  90.0\n11th          1048.0  32.363550  15.089307  17.0  18.0  28.5  43.0  90.0\n12th           377.0  32.013263  14.373710  17.0  19.0  28.0  41.0  79.0\n1st-4th        151.0  44.622517  14.929051  19.0  33.0  44.0  56.0  81.0\n5th-6th        288.0  41.649306  14.754622  17.0  28.0  41.0  53.0  82.0\n7th-8th        557.0  47.631957  15.737479  17.0  34.0  49.0  60.0  90.0\n9th            455.0  40.303297  15.335754  17.0  28.0  38.0  53.0  90.0\nAssoc-acdm    1008.0  37.286706  10.509755  19.0  29.0  36.0  44.0  90.0\nAssoc-voc     1307.0  38.246366  11.181253  19.0  30.0  37.0  45.0  84.0\nBachelors     5044.0  38.641554  11.577566  19.0  29.0  37.0  46.0  90.0\nDoctorate      375.0  47.130667  11.471727  24.0  39.0  47.0  54.0  80.0\nHS-grad       9840.0  38.640955  13.067730  17.0  28.0  37.0  48.0  90.0\nMasters       1627.0  43.740012  10.735356  18.0  36.0  43.0  50.0  90.0\nPreschool       45.0  41.288889  15.175672  19.0  30.0  40.0  53.0  75.0\nProf-school    542.0  44.249077  11.428098  25.0  36.0  43.0  50.0  90.0\nSome-college  6678.0  36.135370  13.073528  17.0  25.0  35.0  45.0  90.0",
      "text/html": "<div>\n<style scoped>\n    .dataframe tbody tr th:only-of-type {\n        vertical-align: middle;\n    }\n\n    .dataframe tbody tr th {\n        vertical-align: top;\n    }\n\n    .dataframe thead th {\n        text-align: right;\n    }\n</style>\n<table border=\"1\" class=\"dataframe\">\n  <thead>\n    <tr style=\"text-align: right;\">\n      <th></th>\n      <th>count</th>\n      <th>mean</th>\n      <th>std</th>\n      <th>min</th>\n      <th>25%</th>\n      <th>50%</th>\n      <th>75%</th>\n      <th>max</th>\n    </tr>\n    <tr>\n      <th>education</th>\n      <th></th>\n      <th></th>\n      <th></th>\n      <th></th>\n      <th></th>\n      <th></th>\n      <th></th>\n      <th></th>\n    </tr>\n  </thead>\n  <tbody>\n    <tr>\n      <th>10th</th>\n      <td>820.0</td>\n      <td>37.897561</td>\n      <td>16.225795</td>\n      <td>17.0</td>\n      <td>23.0</td>\n      <td>36.0</td>\n      <td>52.0</td>\n      <td>90.0</td>\n    </tr>\n    <tr>\n      <th>11th</th>\n      <td>1048.0</td>\n      <td>32.363550</td>\n      <td>15.089307</td>\n      <td>17.0</td>\n      <td>18.0</td>\n      <td>28.5</td>\n      <td>43.0</td>\n      <td>90.0</td>\n    </tr>\n    <tr>\n      <th>12th</th>\n      <td>377.0</td>\n      <td>32.013263</td>\n      <td>14.373710</td>\n      <td>17.0</td>\n      <td>19.0</td>\n      <td>28.0</td>\n      <td>41.0</td>\n      <td>79.0</td>\n    </tr>\n    <tr>\n      <th>1st-4th</th>\n      <td>151.0</td>\n      <td>44.622517</td>\n      <td>14.929051</td>\n      <td>19.0</td>\n      <td>33.0</td>\n      <td>44.0</td>\n      <td>56.0</td>\n      <td>81.0</td>\n    </tr>\n    <tr>\n      <th>5th-6th</th>\n      <td>288.0</td>\n      <td>41.649306</td>\n      <td>14.754622</td>\n      <td>17.0</td>\n      <td>28.0</td>\n      <td>41.0</td>\n      <td>53.0</td>\n      <td>82.0</td>\n    </tr>\n    <tr>\n      <th>7th-8th</th>\n      <td>557.0</td>\n      <td>47.631957</td>\n      <td>15.737479</td>\n      <td>17.0</td>\n      <td>34.0</td>\n      <td>49.0</td>\n      <td>60.0</td>\n      <td>90.0</td>\n    </tr>\n    <tr>\n      <th>9th</th>\n      <td>455.0</td>\n      <td>40.303297</td>\n      <td>15.335754</td>\n      <td>17.0</td>\n      <td>28.0</td>\n      <td>38.0</td>\n      <td>53.0</td>\n      <td>90.0</td>\n    </tr>\n    <tr>\n      <th>Assoc-acdm</th>\n      <td>1008.0</td>\n      <td>37.286706</td>\n      <td>10.509755</td>\n      <td>19.0</td>\n      <td>29.0</td>\n      <td>36.0</td>\n      <td>44.0</td>\n      <td>90.0</td>\n    </tr>\n    <tr>\n      <th>Assoc-voc</th>\n      <td>1307.0</td>\n      <td>38.246366</td>\n      <td>11.181253</td>\n      <td>19.0</td>\n      <td>30.0</td>\n      <td>37.0</td>\n      <td>45.0</td>\n      <td>84.0</td>\n    </tr>\n    <tr>\n      <th>Bachelors</th>\n      <td>5044.0</td>\n      <td>38.641554</td>\n      <td>11.577566</td>\n      <td>19.0</td>\n      <td>29.0</td>\n      <td>37.0</td>\n      <td>46.0</td>\n      <td>90.0</td>\n    </tr>\n    <tr>\n      <th>Doctorate</th>\n      <td>375.0</td>\n      <td>47.130667</td>\n      <td>11.471727</td>\n      <td>24.0</td>\n      <td>39.0</td>\n      <td>47.0</td>\n      <td>54.0</td>\n      <td>80.0</td>\n    </tr>\n    <tr>\n      <th>HS-grad</th>\n      <td>9840.0</td>\n      <td>38.640955</td>\n      <td>13.067730</td>\n      <td>17.0</td>\n      <td>28.0</td>\n      <td>37.0</td>\n      <td>48.0</td>\n      <td>90.0</td>\n    </tr>\n    <tr>\n      <th>Masters</th>\n      <td>1627.0</td>\n      <td>43.740012</td>\n      <td>10.735356</td>\n      <td>18.0</td>\n      <td>36.0</td>\n      <td>43.0</td>\n      <td>50.0</td>\n      <td>90.0</td>\n    </tr>\n    <tr>\n      <th>Preschool</th>\n      <td>45.0</td>\n      <td>41.288889</td>\n      <td>15.175672</td>\n      <td>19.0</td>\n      <td>30.0</td>\n      <td>40.0</td>\n      <td>53.0</td>\n      <td>75.0</td>\n    </tr>\n    <tr>\n      <th>Prof-school</th>\n      <td>542.0</td>\n      <td>44.249077</td>\n      <td>11.428098</td>\n      <td>25.0</td>\n      <td>36.0</td>\n      <td>43.0</td>\n      <td>50.0</td>\n      <td>90.0</td>\n    </tr>\n    <tr>\n      <th>Some-college</th>\n      <td>6678.0</td>\n      <td>36.135370</td>\n      <td>13.073528</td>\n      <td>17.0</td>\n      <td>25.0</td>\n      <td>35.0</td>\n      <td>45.0</td>\n      <td>90.0</td>\n    </tr>\n  </tbody>\n</table>\n</div>"
     },
     "execution_count": 280,
     "metadata": {},
     "output_type": "execute_result"
    }
   ],
   "source": [
    "# Task 6\n",
    "statistics_of_age = df.groupby(\"education\").describe()[\"age\"]\n",
    "statistics_of_age"
   ],
   "metadata": {
    "collapsed": false,
    "pycharm": {
     "name": "#%%\n"
    }
   }
  },
  {
   "cell_type": "markdown",
   "source": [
    "# Task 7\n",
    "Compare the married and non-married men salaries. Who earns more? (>50K or <=50K)\n",
    "Married men are those, whom `marital-status` starts with \"Married\". Others are not."
   ],
   "metadata": {
    "collapsed": false,
    "pycharm": {
     "name": "#%% md\n"
    }
   }
  },
  {
   "cell_type": "code",
   "execution_count": 317,
   "outputs": [
    {
     "data": {
      "text/plain": "       Married  Not_Married\n>50K      6440         1068\n<=50K     8016        14638",
      "text/html": "<div>\n<style scoped>\n    .dataframe tbody tr th:only-of-type {\n        vertical-align: middle;\n    }\n\n    .dataframe tbody tr th {\n        vertical-align: top;\n    }\n\n    .dataframe thead th {\n        text-align: right;\n    }\n</style>\n<table border=\"1\" class=\"dataframe\">\n  <thead>\n    <tr style=\"text-align: right;\">\n      <th></th>\n      <th>Married</th>\n      <th>Not_Married</th>\n    </tr>\n  </thead>\n  <tbody>\n    <tr>\n      <th>&gt;50K</th>\n      <td>6440</td>\n      <td>1068</td>\n    </tr>\n    <tr>\n      <th>&lt;=50K</th>\n      <td>8016</td>\n      <td>14638</td>\n    </tr>\n  </tbody>\n</table>\n</div>"
     },
     "execution_count": 317,
     "metadata": {},
     "output_type": "execute_result"
    }
   ],
   "source": [
    "married_earns_more_50 = len(salary_more_50[salary_more_50[\"marital-status\"].str.match(\"Married\")])\n",
    "married_earns_less_50 = len(salary_less_50[salary_less_50[\"marital-status\"].str.match(\"Married\")])\n",
    "\n",
    "not_married_earns_more_50 = len(salary_more_50[~salary_more_50[\"marital-status\"].str.match(\"Married\")])\n",
    "not_married_earns_less_50 = len(salary_less_50[~salary_less_50[\"marital-status\"].str.match(\"Married\")])\n",
    "\n",
    "married_dataset = {\n",
    "  \"Married\": [married_earns_more_50, married_earns_less_50],\n",
    "  \"Not_Married\": [not_married_earns_more_50, not_married_earns_less_50]\n",
    "}\n",
    "\n",
    "pd.DataFrame(married_dataset, index=[\">50K\", \"<=50K\"])"
   ],
   "metadata": {
    "collapsed": false,
    "pycharm": {
     "name": "#%%\n"
    }
   }
  },
  {
   "cell_type": "markdown",
   "source": [
    "# Task 8\n",
    "Get the max hours per week some person works. How many people works the same amount of hours per week?\n"
   ],
   "metadata": {
    "collapsed": false,
    "pycharm": {
     "name": "#%% md\n"
    }
   }
  },
  {
   "cell_type": "code",
   "execution_count": 44,
   "outputs": [
    {
     "data": {
      "text/plain": "       Unnamed: 0  age         workclass     education      marital-status   \n935           935   37           Private       HS-grad  Married-civ-spouse  \\\n1172         1172   25           Private       Masters  Married-civ-spouse   \n1887         1887   55  Self-emp-not-inc  Some-college  Married-civ-spouse   \n3578         3578   37      Self-emp-inc     Doctorate  Married-civ-spouse   \n4308         4308   35  Self-emp-not-inc       HS-grad  Married-civ-spouse   \n...           ...  ...               ...           ...                 ...   \n30754       30754   31           Private   Prof-school       Never-married   \n30766       30766   42  Self-emp-not-inc       HS-grad  Married-civ-spouse   \n30992       30992   40      Self-emp-inc       Masters       Never-married   \n31681       31681   43           Private       HS-grad  Married-civ-spouse   \n31699       31699   43  Self-emp-not-inc  Some-college  Married-civ-spouse   \n\n            occupation   relationship   race     sex  hours-per-week   \n935       Craft-repair        Husband  White    Male              99  \\\n1172   Farming-fishing  Not-in-family  White    Male              99   \n1887   Farming-fishing        Husband  White    Male              99   \n3578    Prof-specialty        Husband  Black    Male              99   \n4308   Farming-fishing        Husband  White    Male              99   \n...                ...            ...    ...     ...             ...   \n30754   Prof-specialty  Not-in-family  White  Female              99   \n30766  Farming-fishing        Husband  White    Male              99   \n30992    Other-service      Own-child  White    Male              99   \n31681     Craft-repair        Husband  White    Male              99   \n31699  Farming-fishing        Husband  White    Male              99   \n\n      native-country salary  salary K$  \n935    United-States   >50K        274  \n1172   United-States   >50K        207  \n1887   United-States   >50K        188  \n3578   United-States   >50K        136  \n4308   United-States  <=50K         21  \n...              ...    ...        ...  \n30754  United-States  <=50K         31  \n30766  United-States   >50K        290  \n30992  United-States  <=50K         48  \n31681  United-States   >50K        237  \n31699  United-States  <=50K         40  \n\n[78 rows x 13 columns]",
      "text/html": "<div>\n<style scoped>\n    .dataframe tbody tr th:only-of-type {\n        vertical-align: middle;\n    }\n\n    .dataframe tbody tr th {\n        vertical-align: top;\n    }\n\n    .dataframe thead th {\n        text-align: right;\n    }\n</style>\n<table border=\"1\" class=\"dataframe\">\n  <thead>\n    <tr style=\"text-align: right;\">\n      <th></th>\n      <th>Unnamed: 0</th>\n      <th>age</th>\n      <th>workclass</th>\n      <th>education</th>\n      <th>marital-status</th>\n      <th>occupation</th>\n      <th>relationship</th>\n      <th>race</th>\n      <th>sex</th>\n      <th>hours-per-week</th>\n      <th>native-country</th>\n      <th>salary</th>\n      <th>salary K$</th>\n    </tr>\n  </thead>\n  <tbody>\n    <tr>\n      <th>935</th>\n      <td>935</td>\n      <td>37</td>\n      <td>Private</td>\n      <td>HS-grad</td>\n      <td>Married-civ-spouse</td>\n      <td>Craft-repair</td>\n      <td>Husband</td>\n      <td>White</td>\n      <td>Male</td>\n      <td>99</td>\n      <td>United-States</td>\n      <td>&gt;50K</td>\n      <td>274</td>\n    </tr>\n    <tr>\n      <th>1172</th>\n      <td>1172</td>\n      <td>25</td>\n      <td>Private</td>\n      <td>Masters</td>\n      <td>Married-civ-spouse</td>\n      <td>Farming-fishing</td>\n      <td>Not-in-family</td>\n      <td>White</td>\n      <td>Male</td>\n      <td>99</td>\n      <td>United-States</td>\n      <td>&gt;50K</td>\n      <td>207</td>\n    </tr>\n    <tr>\n      <th>1887</th>\n      <td>1887</td>\n      <td>55</td>\n      <td>Self-emp-not-inc</td>\n      <td>Some-college</td>\n      <td>Married-civ-spouse</td>\n      <td>Farming-fishing</td>\n      <td>Husband</td>\n      <td>White</td>\n      <td>Male</td>\n      <td>99</td>\n      <td>United-States</td>\n      <td>&gt;50K</td>\n      <td>188</td>\n    </tr>\n    <tr>\n      <th>3578</th>\n      <td>3578</td>\n      <td>37</td>\n      <td>Self-emp-inc</td>\n      <td>Doctorate</td>\n      <td>Married-civ-spouse</td>\n      <td>Prof-specialty</td>\n      <td>Husband</td>\n      <td>Black</td>\n      <td>Male</td>\n      <td>99</td>\n      <td>United-States</td>\n      <td>&gt;50K</td>\n      <td>136</td>\n    </tr>\n    <tr>\n      <th>4308</th>\n      <td>4308</td>\n      <td>35</td>\n      <td>Self-emp-not-inc</td>\n      <td>HS-grad</td>\n      <td>Married-civ-spouse</td>\n      <td>Farming-fishing</td>\n      <td>Husband</td>\n      <td>White</td>\n      <td>Male</td>\n      <td>99</td>\n      <td>United-States</td>\n      <td>&lt;=50K</td>\n      <td>21</td>\n    </tr>\n    <tr>\n      <th>...</th>\n      <td>...</td>\n      <td>...</td>\n      <td>...</td>\n      <td>...</td>\n      <td>...</td>\n      <td>...</td>\n      <td>...</td>\n      <td>...</td>\n      <td>...</td>\n      <td>...</td>\n      <td>...</td>\n      <td>...</td>\n      <td>...</td>\n    </tr>\n    <tr>\n      <th>30754</th>\n      <td>30754</td>\n      <td>31</td>\n      <td>Private</td>\n      <td>Prof-school</td>\n      <td>Never-married</td>\n      <td>Prof-specialty</td>\n      <td>Not-in-family</td>\n      <td>White</td>\n      <td>Female</td>\n      <td>99</td>\n      <td>United-States</td>\n      <td>&lt;=50K</td>\n      <td>31</td>\n    </tr>\n    <tr>\n      <th>30766</th>\n      <td>30766</td>\n      <td>42</td>\n      <td>Self-emp-not-inc</td>\n      <td>HS-grad</td>\n      <td>Married-civ-spouse</td>\n      <td>Farming-fishing</td>\n      <td>Husband</td>\n      <td>White</td>\n      <td>Male</td>\n      <td>99</td>\n      <td>United-States</td>\n      <td>&gt;50K</td>\n      <td>290</td>\n    </tr>\n    <tr>\n      <th>30992</th>\n      <td>30992</td>\n      <td>40</td>\n      <td>Self-emp-inc</td>\n      <td>Masters</td>\n      <td>Never-married</td>\n      <td>Other-service</td>\n      <td>Own-child</td>\n      <td>White</td>\n      <td>Male</td>\n      <td>99</td>\n      <td>United-States</td>\n      <td>&lt;=50K</td>\n      <td>48</td>\n    </tr>\n    <tr>\n      <th>31681</th>\n      <td>31681</td>\n      <td>43</td>\n      <td>Private</td>\n      <td>HS-grad</td>\n      <td>Married-civ-spouse</td>\n      <td>Craft-repair</td>\n      <td>Husband</td>\n      <td>White</td>\n      <td>Male</td>\n      <td>99</td>\n      <td>United-States</td>\n      <td>&gt;50K</td>\n      <td>237</td>\n    </tr>\n    <tr>\n      <th>31699</th>\n      <td>31699</td>\n      <td>43</td>\n      <td>Self-emp-not-inc</td>\n      <td>Some-college</td>\n      <td>Married-civ-spouse</td>\n      <td>Farming-fishing</td>\n      <td>Husband</td>\n      <td>White</td>\n      <td>Male</td>\n      <td>99</td>\n      <td>United-States</td>\n      <td>&lt;=50K</td>\n      <td>40</td>\n    </tr>\n  </tbody>\n</table>\n<p>78 rows × 13 columns</p>\n</div>"
     },
     "execution_count": 44,
     "metadata": {},
     "output_type": "execute_result"
    }
   ],
   "source": [
    "max_hours_per_week = df[df[\"hours-per-week\"] == df[\"hours-per-week\"].max()]\n",
    "max_hours_per_week"
   ],
   "metadata": {
    "collapsed": false,
    "pycharm": {
     "name": "#%%\n"
    }
   }
  },
  {
   "cell_type": "code",
   "execution_count": 47,
   "outputs": [
    {
     "data": {
      "text/plain": "78"
     },
     "execution_count": 47,
     "metadata": {},
     "output_type": "execute_result"
    }
   ],
   "source": [
    "number_of_people_work_max_hours = max_hours_per_week.count()[\"Unnamed: 0\"]\n",
    "number_of_people_work_max_hours"
   ],
   "metadata": {
    "collapsed": false,
    "pycharm": {
     "name": "#%%\n"
    }
   }
  },
  {
   "cell_type": "markdown",
   "source": [
    "# Task 9\n",
    "Analyze the correlation between data in dataset. Understand connected fields in it and print highlight their connection.\n"
   ],
   "metadata": {
    "collapsed": false,
    "pycharm": {
     "name": "#%% md\n"
    }
   }
  },
  {
   "cell_type": "code",
   "execution_count": 319,
   "outputs": [
    {
     "data": {
      "text/plain": "                Unnamed: 0       age  hours-per-week  salary K$   is_male   \nUnnamed: 0        1.000000 -0.001126       -0.001890   0.000129 -0.001405  \\\nage              -0.001126  1.000000        0.101599   0.208203  0.081993   \nhours-per-week   -0.001890  0.101599        1.000000   0.196378  0.231268   \nsalary K$         0.000129  0.208203        0.196378   1.000000  0.182642   \nis_male          -0.001405  0.081993        0.231268   0.182642  1.000000   \nis_female         0.001405 -0.081993       -0.231268  -0.182642 -1.000000   \n\n                is_female  \nUnnamed: 0       0.001405  \nage             -0.081993  \nhours-per-week  -0.231268  \nsalary K$       -0.182642  \nis_male         -1.000000  \nis_female        1.000000  ",
      "text/html": "<div>\n<style scoped>\n    .dataframe tbody tr th:only-of-type {\n        vertical-align: middle;\n    }\n\n    .dataframe tbody tr th {\n        vertical-align: top;\n    }\n\n    .dataframe thead th {\n        text-align: right;\n    }\n</style>\n<table border=\"1\" class=\"dataframe\">\n  <thead>\n    <tr style=\"text-align: right;\">\n      <th></th>\n      <th>Unnamed: 0</th>\n      <th>age</th>\n      <th>hours-per-week</th>\n      <th>salary K$</th>\n      <th>is_male</th>\n      <th>is_female</th>\n    </tr>\n  </thead>\n  <tbody>\n    <tr>\n      <th>Unnamed: 0</th>\n      <td>1.000000</td>\n      <td>-0.001126</td>\n      <td>-0.001890</td>\n      <td>0.000129</td>\n      <td>-0.001405</td>\n      <td>0.001405</td>\n    </tr>\n    <tr>\n      <th>age</th>\n      <td>-0.001126</td>\n      <td>1.000000</td>\n      <td>0.101599</td>\n      <td>0.208203</td>\n      <td>0.081993</td>\n      <td>-0.081993</td>\n    </tr>\n    <tr>\n      <th>hours-per-week</th>\n      <td>-0.001890</td>\n      <td>0.101599</td>\n      <td>1.000000</td>\n      <td>0.196378</td>\n      <td>0.231268</td>\n      <td>-0.231268</td>\n    </tr>\n    <tr>\n      <th>salary K$</th>\n      <td>0.000129</td>\n      <td>0.208203</td>\n      <td>0.196378</td>\n      <td>1.000000</td>\n      <td>0.182642</td>\n      <td>-0.182642</td>\n    </tr>\n    <tr>\n      <th>is_male</th>\n      <td>-0.001405</td>\n      <td>0.081993</td>\n      <td>0.231268</td>\n      <td>0.182642</td>\n      <td>1.000000</td>\n      <td>-1.000000</td>\n    </tr>\n    <tr>\n      <th>is_female</th>\n      <td>0.001405</td>\n      <td>-0.081993</td>\n      <td>-0.231268</td>\n      <td>-0.182642</td>\n      <td>-1.000000</td>\n      <td>1.000000</td>\n    </tr>\n  </tbody>\n</table>\n</div>"
     },
     "execution_count": 319,
     "metadata": {},
     "output_type": "execute_result"
    }
   ],
   "source": [
    "df[\"is_male\"] = np.where(df[\"sex\"] == \"Male\", True, False)\n",
    "df[\"is_female\"] = np.where(df[\"sex\"] == \"Female\", True, False)\n",
    "df.corr(numeric_only=True)"
   ],
   "metadata": {
    "collapsed": false,
    "pycharm": {
     "name": "#%%\n"
    }
   }
  }
 ],
 "metadata": {
  "kernelspec": {
   "display_name": "Python 3",
   "language": "python",
   "name": "python3"
  },
  "language_info": {
   "codemirror_mode": {
    "name": "ipython",
    "version": 2
   },
   "file_extension": ".py",
   "mimetype": "text/x-python",
   "name": "python",
   "nbconvert_exporter": "python",
   "pygments_lexer": "ipython2",
   "version": "2.7.6"
  }
 },
 "nbformat": 4,
 "nbformat_minor": 0
}