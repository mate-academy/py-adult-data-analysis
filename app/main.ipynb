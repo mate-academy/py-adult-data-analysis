{
 "cells": [
  {
   "cell_type": "code",
   "execution_count": 2,
   "outputs": [],
   "source": [
    "import numpy as np\n",
    "import pandas as pd"
   ],
   "metadata": {
    "collapsed": false,
    "pycharm": {
     "name": "#%%\n"
    },
    "ExecuteTime": {
     "end_time": "2024-05-07T11:32:58.084388500Z",
     "start_time": "2024-05-07T11:32:57.597225900Z"
    }
   }
  },
  {
   "cell_type": "markdown",
   "source": [
    "# Task 0\n",
    "Read the dataset from csv file & perform data cleaning - remove all rows, which contains `?` in some columns.\n",
    "Also check for data correctness (salary & salary $K)."
   ],
   "metadata": {
    "collapsed": false,
    "pycharm": {
     "name": "#%% md\n"
    }
   }
  },
  {
   "cell_type": "code",
   "execution_count": 3,
   "outputs": [
    {
     "name": "stdout",
     "output_type": "stream",
     "text": [
      "   Unnamed: 0  age         workclass  education      marital-status  \\\n",
      "0           0   39         State-gov  Bachelors       Never-married   \n",
      "1           1   50  Self-emp-not-inc  Bachelors  Married-civ-spouse   \n",
      "2           2   38           Private    HS-grad            Divorced   \n",
      "3           3   53           Private       11th  Married-civ-spouse   \n",
      "4           4   28           Private  Bachelors  Married-civ-spouse   \n",
      "\n",
      "          occupation   relationship   race     sex  hours-per-week  \\\n",
      "0       Adm-clerical  Not-in-family  White    Male              40   \n",
      "1    Exec-managerial        Husband  White    Male              13   \n",
      "2  Handlers-cleaners  Not-in-family  White    Male              40   \n",
      "3  Handlers-cleaners        Husband  Black    Male              40   \n",
      "4     Prof-specialty           Wife  Black  Female              40   \n",
      "\n",
      "  native-country salary  salary K$  \n",
      "0  United-States  <=50K         39  \n",
      "1  United-States  <=50K         35  \n",
      "2  United-States  <=50K         27  \n",
      "3  United-States  <=50K         43  \n",
      "4           Cuba  <=50K         25  \n"
     ]
    }
   ],
   "source": [
    "data = pd.read_csv(\"../data/adult.csv\")\n",
    "data.replace(\"?\", np.nan, inplace=True)\n",
    "data.dropna(inplace=True)\n",
    "is_correct_format = data['salary'].apply(str).str.isdigit().all() and data['salary $K'].apply(str).str.isdigit().all()\n",
    "print(data.head())"
   ],
   "metadata": {
    "collapsed": false,
    "pycharm": {
     "name": "#%%\n"
    },
    "ExecuteTime": {
     "end_time": "2024-05-07T11:32:58.178945500Z",
     "start_time": "2024-05-07T11:32:58.076373600Z"
    }
   }
  },
  {
   "cell_type": "markdown",
   "source": [
    "# Task 1\n",
    "Print the count of men and women in the dataset."
   ],
   "metadata": {
    "collapsed": false,
    "pycharm": {
     "name": "#%% md\n"
    }
   }
  },
  {
   "cell_type": "code",
   "execution_count": 13,
   "outputs": [
    {
     "name": "stdout",
     "output_type": "stream",
     "text": [
      "sex\n",
      "Male      20380\n",
      "Female     9782\n",
      "Name: count, dtype: int64\n"
     ]
    }
   ],
   "source": [
    "gender_counts = data[\"sex\"].value_counts()\n",
    "print(gender_counts)"
   ],
   "metadata": {
    "collapsed": false,
    "pycharm": {
     "name": "#%%\n"
    },
    "ExecuteTime": {
     "end_time": "2024-05-07T11:33:40.763416900Z",
     "start_time": "2024-05-07T11:33:40.752069100Z"
    }
   }
  },
  {
   "cell_type": "markdown",
   "source": [
    "# Task 2\n",
    "Find the average age of men in dataset"
   ],
   "metadata": {
    "collapsed": false,
    "pycharm": {
     "name": "#%% md\n"
    }
   }
  },
  {
   "cell_type": "code",
   "execution_count": 14,
   "outputs": [
    {
     "name": "stdout",
     "output_type": "stream",
     "text": [
      "39.18400392541707\n"
     ]
    }
   ],
   "source": [
    "average_age_men = data[data[\"sex\"] == \"Male\"][\"age\"].mean()\n",
    "print(average_age_men)"
   ],
   "metadata": {
    "collapsed": false,
    "pycharm": {
     "name": "#%%\n"
    },
    "ExecuteTime": {
     "end_time": "2024-05-07T11:34:51.043025400Z",
     "start_time": "2024-05-07T11:34:51.015226200Z"
    }
   }
  },
  {
   "cell_type": "markdown",
   "source": [
    "# Task 3\n",
    "Get the percentage of people from Poland (native-country)"
   ],
   "metadata": {
    "collapsed": false,
    "pycharm": {
     "name": "#%% md\n"
    }
   }
  },
  {
   "cell_type": "code",
   "execution_count": 17,
   "outputs": [
    {
     "name": "stdout",
     "output_type": "stream",
     "text": [
      "People from Poland: 0.18566408063125786%\n"
     ]
    }
   ],
   "source": [
    "poland_percentage = (data[\"native-country\"] == \"Poland\").mean() * 100\n",
    "print(f\"People from Poland: {poland_percentage}%\")"
   ],
   "metadata": {
    "collapsed": false,
    "pycharm": {
     "name": "#%%\n"
    },
    "ExecuteTime": {
     "end_time": "2024-05-07T11:36:37.818782800Z",
     "start_time": "2024-05-07T11:36:37.769511100Z"
    }
   }
  },
  {
   "cell_type": "markdown",
   "source": [
    "# Task 4\n",
    "Get the mean and standard deviation of the age for people who earn > 50K per year. After this, get it for those who earn <= 50K."
   ],
   "metadata": {
    "collapsed": false,
    "pycharm": {
     "name": "#%% md\n"
    }
   }
  },
  {
   "cell_type": "code",
   "execution_count": 18,
   "outputs": [
    {
     "name": "stdout",
     "output_type": "stream",
     "text": [
      "Average age of people earning more than 50K per year: 43.95911028236548\n",
      "Standard deviation of age for people earning more than 50K per year: 10.269632835673852\n",
      "Average age of people earning 50K or less per year: 36.60806038668668\n",
      "Standard deviation of age for people earning 50K or less per year: 13.464631257161633\n"
     ]
    }
   ],
   "source": [
    "mean_age_high_salary = data[data[\"salary\"] == \">50K\"][\"age\"].mean()\n",
    "std_age_high_salary = data[data[\"salary\"] == \">50K\"][\"age\"].std()\n",
    "print(f\"Average age of people earning more than 50K per year: {mean_age_high_salary}\")\n",
    "print(f\"Standard deviation of age for people earning more than 50K per year: {std_age_high_salary}\")\n",
    "\n",
    "mean_age_low_salary = data[data[\"salary\"] == \"<=50K\"][\"age\"].mean()\n",
    "std_age_low_salary = data[data[\"salary\"] == \"<=50K\"][\"age\"].std()\n",
    "print(f\"Average age of people earning 50K or less per year: {mean_age_low_salary}\")\n",
    "print(f\"Standard deviation of age for people earning 50K or less per year: {std_age_low_salary}\")"
   ],
   "metadata": {
    "collapsed": false,
    "pycharm": {
     "name": "#%%\n"
    },
    "ExecuteTime": {
     "end_time": "2024-05-07T11:39:16.576068300Z",
     "start_time": "2024-05-07T11:39:16.538281400Z"
    }
   }
  },
  {
   "cell_type": "markdown",
   "source": [
    "# Task 5\n",
    "Check, if there are some people without higher education (education: Bachelors, Prof-school, Assoc-acdm, Assoc-voc, Masters, Doctorate), but with > 50K salary"
   ],
   "metadata": {
    "collapsed": false,
    "pycharm": {
     "name": "#%% md\n"
    }
   }
  },
  {
   "cell_type": "code",
   "execution_count": 19,
   "outputs": [
    {
     "name": "stdout",
     "output_type": "stream",
     "text": [
      "There are 3178 people without higher education but with a salary over 50K.\n"
     ]
    }
   ],
   "source": [
    "higher_education_levels = [\"Bachelors\", \"Prof-school\", \"Assoc-acdm\", \"Assoc-voc\", \"Masters\", \"Doctorate\"]\n",
    "people_without_higher_education_high_salary = data[~data[\"education\"].isin(higher_education_levels) & (data[\"salary\"] == \">50K\")]\n",
    "count = len(people_without_higher_education_high_salary)\n",
    "print(f\"There are {count} people without higher education but with a salary over 50K.\")"
   ],
   "metadata": {
    "collapsed": false,
    "pycharm": {
     "name": "#%%\n"
    },
    "ExecuteTime": {
     "end_time": "2024-05-07T11:42:42.375528400Z",
     "start_time": "2024-05-07T11:42:42.365270900Z"
    }
   }
  },
  {
   "cell_type": "markdown",
   "source": [
    "# Task 6\n",
    "Get the statistics of age for each type of education. Use `groupby` and `describe` for this."
   ],
   "metadata": {
    "collapsed": false,
    "pycharm": {
     "name": "#%% md\n"
    }
   }
  },
  {
   "cell_type": "code",
   "execution_count": 20,
   "outputs": [
    {
     "name": "stdout",
     "output_type": "stream",
     "text": [
      "               count       mean        std   min   25%   50%   75%   max\n",
      "education                                                               \n",
      "10th           820.0  37.897561  16.225795  17.0  23.0  36.0  52.0  90.0\n",
      "11th          1048.0  32.363550  15.089307  17.0  18.0  28.5  43.0  90.0\n",
      "12th           377.0  32.013263  14.373710  17.0  19.0  28.0  41.0  79.0\n",
      "1st-4th        151.0  44.622517  14.929051  19.0  33.0  44.0  56.0  81.0\n",
      "5th-6th        288.0  41.649306  14.754622  17.0  28.0  41.0  53.0  82.0\n",
      "7th-8th        557.0  47.631957  15.737479  17.0  34.0  49.0  60.0  90.0\n",
      "9th            455.0  40.303297  15.335754  17.0  28.0  38.0  53.0  90.0\n",
      "Assoc-acdm    1008.0  37.286706  10.509755  19.0  29.0  36.0  44.0  90.0\n",
      "Assoc-voc     1307.0  38.246366  11.181253  19.0  30.0  37.0  45.0  84.0\n",
      "Bachelors     5044.0  38.641554  11.577566  19.0  29.0  37.0  46.0  90.0\n",
      "Doctorate      375.0  47.130667  11.471727  24.0  39.0  47.0  54.0  80.0\n",
      "HS-grad       9840.0  38.640955  13.067730  17.0  28.0  37.0  48.0  90.0\n",
      "Masters       1627.0  43.740012  10.735356  18.0  36.0  43.0  50.0  90.0\n",
      "Preschool       45.0  41.288889  15.175672  19.0  30.0  40.0  53.0  75.0\n",
      "Prof-school    542.0  44.249077  11.428098  25.0  36.0  43.0  50.0  90.0\n",
      "Some-college  6678.0  36.135370  13.073528  17.0  25.0  35.0  45.0  90.0\n"
     ]
    }
   ],
   "source": [
    "age_statistics_per_education = data.groupby(\"education\")[\"age\"].describe()\n",
    "print(age_statistics_per_education)"
   ],
   "metadata": {
    "collapsed": false,
    "pycharm": {
     "name": "#%%\n"
    },
    "ExecuteTime": {
     "end_time": "2024-05-07T11:43:25.361543700Z",
     "start_time": "2024-05-07T11:43:25.290767900Z"
    }
   }
  },
  {
   "cell_type": "markdown",
   "source": [
    "# Task 7\n",
    "Compare the married and non-married men salaries. Who earns more? (>50K or <=50K)\n",
    "Married men are those, whom `marital-status` starts with \"Married\". Others are not."
   ],
   "metadata": {
    "collapsed": false,
    "pycharm": {
     "name": "#%% md\n"
    }
   }
  },
  {
   "cell_type": "code",
   "execution_count": 21,
   "outputs": [
    {
     "name": "stdout",
     "output_type": "stream",
     "text": [
      "is_married  salary\n",
      "False       <=50K     0.932001\n",
      "            >50K      0.067999\n",
      "True        <=50K     0.554510\n",
      "            >50K      0.445490\n",
      "Name: proportion, dtype: float64\n"
     ]
    }
   ],
   "source": [
    "data[\"is_married\"] = data[\"marital-status\"].str.startswith(\"Married\")\n",
    "salary_comparison = data.groupby(\"is_married\")[\"salary\"].value_counts(normalize=True)\n",
    "print(salary_comparison)"
   ],
   "metadata": {
    "collapsed": false,
    "pycharm": {
     "name": "#%%\n"
    },
    "ExecuteTime": {
     "end_time": "2024-05-07T11:44:55.567282700Z",
     "start_time": "2024-05-07T11:44:55.538405700Z"
    }
   }
  },
  {
   "cell_type": "markdown",
   "source": [
    "# Task 8\n",
    "Get the max hours per week some person works. How many people works the same amount of hours per week?"
   ],
   "metadata": {
    "collapsed": false,
    "pycharm": {
     "name": "#%% md\n"
    }
   }
  },
  {
   "cell_type": "code",
   "execution_count": 22,
   "outputs": [
    {
     "name": "stdout",
     "output_type": "stream",
     "text": [
      "Maximum number of hours-per-week: 99\n",
      "Number of people working 99 hours-per-week: 78\n"
     ]
    }
   ],
   "source": [
    "max_hours_per_week = data[\"hours-per-week\"].max()\n",
    "people_working_max_hours = (data[\"hours-per-week\"] == max_hours_per_week).sum()\n",
    "print(f\"Maximum number of hours-per-week: {max_hours_per_week}\")\n",
    "print(f\"Number of people working {max_hours_per_week} hours-per-week: {people_working_max_hours}\")"
   ],
   "metadata": {
    "collapsed": false,
    "pycharm": {
     "name": "#%%\n"
    },
    "ExecuteTime": {
     "end_time": "2024-05-07T11:46:41.458106200Z",
     "start_time": "2024-05-07T11:46:41.417552900Z"
    }
   }
  },
  {
   "cell_type": "markdown",
   "source": [
    "# Task 9\n",
    "Analyze the correlation between data in dataset. Understand connected fields in it and print highlight thier connection."
   ],
   "metadata": {
    "collapsed": false,
    "pycharm": {
     "name": "#%% md\n"
    }
   }
  },
  {
   "cell_type": "code",
   "execution_count": 26,
   "outputs": [
    {
     "name": "stdout",
     "output_type": "stream",
     "text": [
      "Correlation Matrix:                 Unnamed: 0       age  hours-per-week  salary K$\n",
      "Unnamed: 0        1.000000 -0.001126       -0.001890   0.000129\n",
      "age              -0.001126  1.000000        0.101599   0.208203\n",
      "hours-per-week   -0.001890  0.101599        1.000000   0.196378\n",
      "salary K$         0.000129  0.208203        0.196378   1.000000\n"
     ]
    }
   ],
   "source": [
    "numeric_df = data.select_dtypes(include=[np.number])\n",
    "correlation_matrix = numeric_df.corr()\n",
    "print(f\"Correlation Matrix: {correlation_matrix}\")"
   ],
   "metadata": {
    "collapsed": false,
    "pycharm": {
     "name": "#%%\n"
    },
    "ExecuteTime": {
     "end_time": "2024-05-07T11:51:52.345132200Z",
     "start_time": "2024-05-07T11:51:52.316630900Z"
    }
   }
  },
  {
   "cell_type": "code",
   "outputs": [],
   "source": [],
   "metadata": {
    "collapsed": false
   }
  }
 ],
 "metadata": {
  "kernelspec": {
   "display_name": "Python 3",
   "language": "python",
   "name": "python3"
  },
  "language_info": {
   "codemirror_mode": {
    "name": "ipython",
    "version": 2
   },
   "file_extension": ".py",
   "mimetype": "text/x-python",
   "name": "python",
   "nbconvert_exporter": "python",
   "pygments_lexer": "ipython2",
   "version": "2.7.6"
  }
 },
 "nbformat": 4,
 "nbformat_minor": 0
}
