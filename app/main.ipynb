{
 "cells": [
  {
   "cell_type": "code",
   "execution_count": 2,
   "outputs": [],
   "source": [
    "import numpy as np\n",
    "import pandas as pd"
   ],
   "metadata": {
    "collapsed": false
   }
  },
  {
   "cell_type": "markdown",
   "source": [
    "# Task 0\n",
    "Read the dataset from csv file & perform data cleaning - remove all rows, which contains `?` in some columns.\n",
    "Also check for data correctness (salary & salary $K)."
   ],
   "metadata": {
    "collapsed": false
   }
  },
  {
   "cell_type": "code",
   "execution_count": 3,
   "outputs": [],
   "source": [
    "peoples = pd.read_csv(\"../data/adult.csv\", index_col=0)\n",
    "peoples = peoples.replace(\"?\", np.nan)"
   ],
   "metadata": {
    "collapsed": false
   }
  },
  {
   "cell_type": "markdown",
   "source": [
    "# Task 1\n",
    "Print the count of men and women in the dataset."
   ],
   "metadata": {
    "collapsed": false
   }
  },
  {
   "cell_type": "code",
   "execution_count": 4,
   "outputs": [
    {
     "data": {
      "text/plain": "Male      21790\nFemale    10771\nName: sex, dtype: int64"
     },
     "execution_count": 4,
     "metadata": {},
     "output_type": "execute_result"
    }
   ],
   "source": [
    "peoples[\"sex\"].value_counts()"
   ],
   "metadata": {
    "collapsed": false
   }
  },
  {
   "cell_type": "markdown",
   "source": [
    "# Task 2\n",
    "Find the average age of men in dataset"
   ],
   "metadata": {
    "collapsed": false
   }
  },
  {
   "cell_type": "code",
   "execution_count": 5,
   "outputs": [
    {
     "data": {
      "text/plain": "39.43354749885268"
     },
     "execution_count": 5,
     "metadata": {},
     "output_type": "execute_result"
    }
   ],
   "source": [
    "mens_age = peoples[peoples[\"sex\"] == \"Male\"][\"age\"]\n",
    "np.average(mens_age)"
   ],
   "metadata": {
    "collapsed": false
   }
  },
  {
   "cell_type": "markdown",
   "source": [
    "# Task 3\n",
    "Get the percentage of people from Poland (native-country)"
   ],
   "metadata": {
    "collapsed": false
   }
  },
  {
   "cell_type": "code",
   "execution_count": 6,
   "outputs": [
    {
     "data": {
      "text/plain": "0.18762899493401713"
     },
     "execution_count": 6,
     "metadata": {},
     "output_type": "execute_result"
    }
   ],
   "source": [
    "native_country = peoples[\"native-country\"].value_counts()\n",
    "\n",
    "all_known_people = np.sum(native_country)\n",
    "peoples_from_poland = native_country[\"Poland\"]\n",
    "\n",
    "percent_peoples_from_poland = peoples_from_poland / all_known_people * 100\n",
    "\n",
    "percent_peoples_from_poland"
   ],
   "metadata": {
    "collapsed": false
   }
  },
  {
   "cell_type": "markdown",
   "source": [
    "# Task 4\n",
    "Get the mean and standard deviation of the age for people who earn > 50K per year. After this, get it for those who earn <= 50K."
   ],
   "metadata": {
    "collapsed": false
   }
  },
  {
   "cell_type": "code",
   "execution_count": 7,
   "outputs": [
    {
     "data": {
      "text/plain": "(0.2408095574460244, 0.4275749226611335)"
     },
     "execution_count": 7,
     "metadata": {},
     "output_type": "execute_result"
    }
   ],
   "source": [
    "# for people who earn > 50k per year\n",
    "mean_for_people_who_earn_higher_50k = np.mean(peoples[\"salary K$\"] > 50)\n",
    "std_for_people_who_earn_higher_50k = np.std(peoples[\"salary K$\"] > 50)\n",
    "\n",
    "mean_for_people_who_earn_higher_50k, std_for_people_who_earn_higher_50k"
   ],
   "metadata": {
    "collapsed": false
   }
  },
  {
   "cell_type": "code",
   "execution_count": 8,
   "outputs": [
    {
     "data": {
      "text/plain": "(0.7591904425539756, 0.4275749226611335)"
     },
     "execution_count": 8,
     "metadata": {},
     "output_type": "execute_result"
    }
   ],
   "source": [
    "# for people who earn <= 50k per year\n",
    "mean_for_people_who_earn_lower_50k = np.mean(peoples[\"salary K$\"] <= 50)\n",
    "std_for_people_who_earn_lower_50k = np.std(peoples[\"salary K$\"] <= 50)\n",
    "\n",
    "mean_for_people_who_earn_lower_50k, std_for_people_who_earn_lower_50k"
   ],
   "metadata": {
    "collapsed": false
   }
  },
  {
   "cell_type": "markdown",
   "source": [
    "# Task 5\n",
    "Check, if there are some people without higher education (education: Bachelors, Prof-school, Assoc-acdm, Assoc-voc, Masters, Doctorate), but with > 50K salary"
   ],
   "metadata": {
    "collapsed": false
   }
  },
  {
   "cell_type": "code",
   "execution_count": 9,
   "outputs": [
    {
     "data": {
      "text/plain": "       age         workclass     education      marital-status  \\\n7       52  Self-emp-not-inc       HS-grad  Married-civ-spouse   \n10      37           Private  Some-college  Married-civ-spouse   \n27      54               NaN  Some-college  Married-civ-spouse   \n38      31           Private  Some-college  Married-civ-spouse   \n55      43           Private  Some-college  Married-civ-spouse   \n...    ...               ...           ...                 ...   \n32510   39           Private       HS-grad  Married-civ-spouse   \n32518   57         Local-gov       HS-grad  Married-civ-spouse   \n32519   46           Private  Some-college  Married-civ-spouse   \n32557   40           Private       HS-grad  Married-civ-spouse   \n32560   52      Self-emp-inc       HS-grad  Married-civ-spouse   \n\n              occupation relationship                race     sex  \\\n7        Exec-managerial      Husband               White    Male   \n10       Exec-managerial      Husband               Black    Male   \n27                   NaN      Husband  Asian-Pac-Islander    Male   \n38                 Sales      Husband               White    Male   \n55          Tech-support      Husband               White    Male   \n...                  ...          ...                 ...     ...   \n32510     Prof-specialty      Husband               White    Male   \n32518       Craft-repair      Husband               White    Male   \n32519    Exec-managerial      Husband               White    Male   \n32557  Machine-op-inspct      Husband               White    Male   \n32560    Exec-managerial         Wife               White  Female   \n\n       hours-per-week native-country salary  salary K$  \n7                  45  United-States   >50K        307  \n10                 80  United-States   >50K        116  \n27                 60          South   >50K        275  \n38                 38            NaN   >50K        166  \n55                 40  United-States   >50K        341  \n...               ...            ...    ...        ...  \n32510              45            NaN   >50K        212  \n32518              40  United-States   >50K        116  \n32519              48  United-States   >50K        239  \n32557              40  United-States   >50K        173  \n32560              40  United-States   >50K        243  \n\n[3306 rows x 12 columns]",
      "text/html": "<div>\n<style scoped>\n    .dataframe tbody tr th:only-of-type {\n        vertical-align: middle;\n    }\n\n    .dataframe tbody tr th {\n        vertical-align: top;\n    }\n\n    .dataframe thead th {\n        text-align: right;\n    }\n</style>\n<table border=\"1\" class=\"dataframe\">\n  <thead>\n    <tr style=\"text-align: right;\">\n      <th></th>\n      <th>age</th>\n      <th>workclass</th>\n      <th>education</th>\n      <th>marital-status</th>\n      <th>occupation</th>\n      <th>relationship</th>\n      <th>race</th>\n      <th>sex</th>\n      <th>hours-per-week</th>\n      <th>native-country</th>\n      <th>salary</th>\n      <th>salary K$</th>\n    </tr>\n  </thead>\n  <tbody>\n    <tr>\n      <th>7</th>\n      <td>52</td>\n      <td>Self-emp-not-inc</td>\n      <td>HS-grad</td>\n      <td>Married-civ-spouse</td>\n      <td>Exec-managerial</td>\n      <td>Husband</td>\n      <td>White</td>\n      <td>Male</td>\n      <td>45</td>\n      <td>United-States</td>\n      <td>&gt;50K</td>\n      <td>307</td>\n    </tr>\n    <tr>\n      <th>10</th>\n      <td>37</td>\n      <td>Private</td>\n      <td>Some-college</td>\n      <td>Married-civ-spouse</td>\n      <td>Exec-managerial</td>\n      <td>Husband</td>\n      <td>Black</td>\n      <td>Male</td>\n      <td>80</td>\n      <td>United-States</td>\n      <td>&gt;50K</td>\n      <td>116</td>\n    </tr>\n    <tr>\n      <th>27</th>\n      <td>54</td>\n      <td>NaN</td>\n      <td>Some-college</td>\n      <td>Married-civ-spouse</td>\n      <td>NaN</td>\n      <td>Husband</td>\n      <td>Asian-Pac-Islander</td>\n      <td>Male</td>\n      <td>60</td>\n      <td>South</td>\n      <td>&gt;50K</td>\n      <td>275</td>\n    </tr>\n    <tr>\n      <th>38</th>\n      <td>31</td>\n      <td>Private</td>\n      <td>Some-college</td>\n      <td>Married-civ-spouse</td>\n      <td>Sales</td>\n      <td>Husband</td>\n      <td>White</td>\n      <td>Male</td>\n      <td>38</td>\n      <td>NaN</td>\n      <td>&gt;50K</td>\n      <td>166</td>\n    </tr>\n    <tr>\n      <th>55</th>\n      <td>43</td>\n      <td>Private</td>\n      <td>Some-college</td>\n      <td>Married-civ-spouse</td>\n      <td>Tech-support</td>\n      <td>Husband</td>\n      <td>White</td>\n      <td>Male</td>\n      <td>40</td>\n      <td>United-States</td>\n      <td>&gt;50K</td>\n      <td>341</td>\n    </tr>\n    <tr>\n      <th>...</th>\n      <td>...</td>\n      <td>...</td>\n      <td>...</td>\n      <td>...</td>\n      <td>...</td>\n      <td>...</td>\n      <td>...</td>\n      <td>...</td>\n      <td>...</td>\n      <td>...</td>\n      <td>...</td>\n      <td>...</td>\n    </tr>\n    <tr>\n      <th>32510</th>\n      <td>39</td>\n      <td>Private</td>\n      <td>HS-grad</td>\n      <td>Married-civ-spouse</td>\n      <td>Prof-specialty</td>\n      <td>Husband</td>\n      <td>White</td>\n      <td>Male</td>\n      <td>45</td>\n      <td>NaN</td>\n      <td>&gt;50K</td>\n      <td>212</td>\n    </tr>\n    <tr>\n      <th>32518</th>\n      <td>57</td>\n      <td>Local-gov</td>\n      <td>HS-grad</td>\n      <td>Married-civ-spouse</td>\n      <td>Craft-repair</td>\n      <td>Husband</td>\n      <td>White</td>\n      <td>Male</td>\n      <td>40</td>\n      <td>United-States</td>\n      <td>&gt;50K</td>\n      <td>116</td>\n    </tr>\n    <tr>\n      <th>32519</th>\n      <td>46</td>\n      <td>Private</td>\n      <td>Some-college</td>\n      <td>Married-civ-spouse</td>\n      <td>Exec-managerial</td>\n      <td>Husband</td>\n      <td>White</td>\n      <td>Male</td>\n      <td>48</td>\n      <td>United-States</td>\n      <td>&gt;50K</td>\n      <td>239</td>\n    </tr>\n    <tr>\n      <th>32557</th>\n      <td>40</td>\n      <td>Private</td>\n      <td>HS-grad</td>\n      <td>Married-civ-spouse</td>\n      <td>Machine-op-inspct</td>\n      <td>Husband</td>\n      <td>White</td>\n      <td>Male</td>\n      <td>40</td>\n      <td>United-States</td>\n      <td>&gt;50K</td>\n      <td>173</td>\n    </tr>\n    <tr>\n      <th>32560</th>\n      <td>52</td>\n      <td>Self-emp-inc</td>\n      <td>HS-grad</td>\n      <td>Married-civ-spouse</td>\n      <td>Exec-managerial</td>\n      <td>Wife</td>\n      <td>White</td>\n      <td>Female</td>\n      <td>40</td>\n      <td>United-States</td>\n      <td>&gt;50K</td>\n      <td>243</td>\n    </tr>\n  </tbody>\n</table>\n<p>3306 rows × 12 columns</p>\n</div>"
     },
     "execution_count": 9,
     "metadata": {},
     "output_type": "execute_result"
    }
   ],
   "source": [
    "education = [\n",
    "    \"Bachelors\",\n",
    "    \"Prof-school\",\n",
    "    \"Assoc-acdm\",\n",
    "    \"Assoc-voc\",\n",
    "    \"Masters\",\n",
    "    \"Doctorate\"\n",
    "]\n",
    "\n",
    "peoples[(~peoples[\"education\"].isin(education)) & (peoples[\"salary K$\"] > 50)]"
   ],
   "metadata": {
    "collapsed": false
   }
  },
  {
   "cell_type": "markdown",
   "source": [
    "# Task 6\n",
    "Get the statistics of age for each type of education. Use `groupby` and `describe` for this."
   ],
   "metadata": {
    "collapsed": false
   }
  },
  {
   "cell_type": "code",
   "execution_count": 10,
   "outputs": [
    {
     "data": {
      "text/plain": "                  age                                                       \\\n                count       mean        std   min    25%   50%   75%   max   \neducation                                                                    \n10th            933.0  37.429796  16.720713  17.0  22.00  34.0  52.0  90.0   \n11th           1175.0  32.355745  15.545485  17.0  18.00  28.0  43.0  90.0   \n12th            433.0  32.000000  14.334625  17.0  19.00  28.0  41.0  79.0   \n1st-4th         168.0  46.142857  15.615625  19.0  33.00  46.0  57.0  90.0   \n5th-6th         333.0  42.885886  15.557285  17.0  29.00  42.0  54.0  84.0   \n7th-8th         646.0  48.445820  16.092350  17.0  34.25  50.0  61.0  90.0   \n9th             514.0  41.060311  15.946862  17.0  28.00  39.0  54.0  90.0   \nAssoc-acdm     1067.0  37.381443  11.095177  19.0  29.00  36.0  44.0  90.0   \nAssoc-voc      1382.0  38.553546  11.631300  19.0  30.00  37.0  46.0  84.0   \nBachelors      5355.0  38.904949  11.912210  19.0  29.00  37.0  46.0  90.0   \nDoctorate       413.0  47.702179  11.784716  24.0  39.00  47.0  55.0  80.0   \nHS-grad       10501.0  38.974479  13.541524  17.0  28.00  37.0  48.0  90.0   \nMasters        1723.0  44.049913  11.068935  18.0  36.00  43.0  51.0  90.0   \nPreschool        51.0  42.764706  15.126914  19.0  31.00  41.0  53.5  75.0   \nProf-school     576.0  44.746528  11.962477  25.0  36.00  43.0  51.0  90.0   \nSome-college   7291.0  35.756275  13.474051  17.0  24.00  34.0  45.0  90.0   \n\n             hours-per-week             ...             salary K$              \\\n                      count       mean  ...   75%   max     count        mean   \neducation                               ...                                     \n10th                  933.0  37.052519  ...  40.0  99.0     933.0   42.839228   \n11th                 1175.0  33.925957  ...  40.0  99.0    1175.0   40.612766   \n12th                  433.0  35.780600  ...  40.0  99.0     433.0   42.914550   \n1st-4th               168.0  38.255952  ...  40.0  96.0     168.0   37.279762   \n5th-6th               333.0  38.897898  ...  40.0  84.0     333.0   40.339339   \n7th-8th               646.0  39.366873  ...  40.0  99.0     646.0   42.371517   \n9th                   514.0  38.044747  ...  40.0  99.0     514.0   42.558366   \nAssoc-acdm           1067.0  40.504217  ...  45.0  99.0    1067.0   74.993440   \nAssoc-voc            1382.0  41.610709  ...  45.0  99.0    1382.0   76.188133   \nBachelors            5355.0  42.614006  ...  50.0  99.0    5355.0  101.882353   \nDoctorate             413.0  46.973366  ...  55.0  99.0     413.0  154.125908   \nHS-grad             10501.0  40.575374  ...  42.0  99.0   10501.0   59.573469   \nMasters              1723.0  43.836332  ...  50.0  99.0    1723.0  123.163088   \nPreschool              51.0  36.647059  ...  40.0  75.0      51.0   32.627451   \nProf-school           576.0  47.425347  ...  55.0  99.0     576.0  154.435764   \nSome-college         7291.0  38.852284  ...  43.0  99.0    7291.0   64.214785   \n\n                                                            \n                     std   min   25%    50%     75%    max  \neducation                                                   \n10th           45.825943  15.0  25.0   33.0   43.00  347.0  \n11th           44.638571  15.0  24.0   32.0   41.50  345.0  \n12th           48.118195  15.0  24.0   33.0   42.00  349.0  \n1st-4th        32.745055  15.0  24.0   32.5   42.00  279.0  \n5th-6th        43.082740  15.0  23.0   33.0   43.00  347.0  \n7th-8th        46.883574  15.0  24.0   33.0   43.00  347.0  \n9th            49.175715  15.0  24.0   33.0   42.00  349.0  \nAssoc-acdm     86.975212  15.0  26.5   38.0   49.00  349.0  \nAssoc-voc      86.673738  15.0  27.0   39.0   62.75  349.0  \nBachelors     101.141882  15.0  29.0   44.0  171.00  349.0  \nDoctorate     100.973940  15.0  48.0  149.0  237.00  349.0  \nHS-grad        72.797540  15.0  25.0   35.0   46.00  349.0  \nMasters       104.275174  15.0  35.0   80.0  203.50  349.0  \nPreschool       9.378616  15.0  23.0   35.0   39.00   49.0  \nProf-school   104.379055  15.0  48.0  143.0  247.00  346.0  \nSome-college   76.643931  15.0  25.0   37.0   47.00  349.0  \n\n[16 rows x 24 columns]",
      "text/html": "<div>\n<style scoped>\n    .dataframe tbody tr th:only-of-type {\n        vertical-align: middle;\n    }\n\n    .dataframe tbody tr th {\n        vertical-align: top;\n    }\n\n    .dataframe thead tr th {\n        text-align: left;\n    }\n\n    .dataframe thead tr:last-of-type th {\n        text-align: right;\n    }\n</style>\n<table border=\"1\" class=\"dataframe\">\n  <thead>\n    <tr>\n      <th></th>\n      <th colspan=\"8\" halign=\"left\">age</th>\n      <th colspan=\"5\" halign=\"left\">hours-per-week</th>\n      <th colspan=\"8\" halign=\"left\">salary K$</th>\n    </tr>\n    <tr>\n      <th></th>\n      <th>count</th>\n      <th>mean</th>\n      <th>std</th>\n      <th>min</th>\n      <th>25%</th>\n      <th>50%</th>\n      <th>75%</th>\n      <th>max</th>\n      <th>count</th>\n      <th>mean</th>\n      <th>...</th>\n      <th>75%</th>\n      <th>max</th>\n      <th>count</th>\n      <th>mean</th>\n      <th>std</th>\n      <th>min</th>\n      <th>25%</th>\n      <th>50%</th>\n      <th>75%</th>\n      <th>max</th>\n    </tr>\n    <tr>\n      <th>education</th>\n      <th></th>\n      <th></th>\n      <th></th>\n      <th></th>\n      <th></th>\n      <th></th>\n      <th></th>\n      <th></th>\n      <th></th>\n      <th></th>\n      <th></th>\n      <th></th>\n      <th></th>\n      <th></th>\n      <th></th>\n      <th></th>\n      <th></th>\n      <th></th>\n      <th></th>\n      <th></th>\n      <th></th>\n    </tr>\n  </thead>\n  <tbody>\n    <tr>\n      <th>10th</th>\n      <td>933.0</td>\n      <td>37.429796</td>\n      <td>16.720713</td>\n      <td>17.0</td>\n      <td>22.00</td>\n      <td>34.0</td>\n      <td>52.0</td>\n      <td>90.0</td>\n      <td>933.0</td>\n      <td>37.052519</td>\n      <td>...</td>\n      <td>40.0</td>\n      <td>99.0</td>\n      <td>933.0</td>\n      <td>42.839228</td>\n      <td>45.825943</td>\n      <td>15.0</td>\n      <td>25.0</td>\n      <td>33.0</td>\n      <td>43.00</td>\n      <td>347.0</td>\n    </tr>\n    <tr>\n      <th>11th</th>\n      <td>1175.0</td>\n      <td>32.355745</td>\n      <td>15.545485</td>\n      <td>17.0</td>\n      <td>18.00</td>\n      <td>28.0</td>\n      <td>43.0</td>\n      <td>90.0</td>\n      <td>1175.0</td>\n      <td>33.925957</td>\n      <td>...</td>\n      <td>40.0</td>\n      <td>99.0</td>\n      <td>1175.0</td>\n      <td>40.612766</td>\n      <td>44.638571</td>\n      <td>15.0</td>\n      <td>24.0</td>\n      <td>32.0</td>\n      <td>41.50</td>\n      <td>345.0</td>\n    </tr>\n    <tr>\n      <th>12th</th>\n      <td>433.0</td>\n      <td>32.000000</td>\n      <td>14.334625</td>\n      <td>17.0</td>\n      <td>19.00</td>\n      <td>28.0</td>\n      <td>41.0</td>\n      <td>79.0</td>\n      <td>433.0</td>\n      <td>35.780600</td>\n      <td>...</td>\n      <td>40.0</td>\n      <td>99.0</td>\n      <td>433.0</td>\n      <td>42.914550</td>\n      <td>48.118195</td>\n      <td>15.0</td>\n      <td>24.0</td>\n      <td>33.0</td>\n      <td>42.00</td>\n      <td>349.0</td>\n    </tr>\n    <tr>\n      <th>1st-4th</th>\n      <td>168.0</td>\n      <td>46.142857</td>\n      <td>15.615625</td>\n      <td>19.0</td>\n      <td>33.00</td>\n      <td>46.0</td>\n      <td>57.0</td>\n      <td>90.0</td>\n      <td>168.0</td>\n      <td>38.255952</td>\n      <td>...</td>\n      <td>40.0</td>\n      <td>96.0</td>\n      <td>168.0</td>\n      <td>37.279762</td>\n      <td>32.745055</td>\n      <td>15.0</td>\n      <td>24.0</td>\n      <td>32.5</td>\n      <td>42.00</td>\n      <td>279.0</td>\n    </tr>\n    <tr>\n      <th>5th-6th</th>\n      <td>333.0</td>\n      <td>42.885886</td>\n      <td>15.557285</td>\n      <td>17.0</td>\n      <td>29.00</td>\n      <td>42.0</td>\n      <td>54.0</td>\n      <td>84.0</td>\n      <td>333.0</td>\n      <td>38.897898</td>\n      <td>...</td>\n      <td>40.0</td>\n      <td>84.0</td>\n      <td>333.0</td>\n      <td>40.339339</td>\n      <td>43.082740</td>\n      <td>15.0</td>\n      <td>23.0</td>\n      <td>33.0</td>\n      <td>43.00</td>\n      <td>347.0</td>\n    </tr>\n    <tr>\n      <th>7th-8th</th>\n      <td>646.0</td>\n      <td>48.445820</td>\n      <td>16.092350</td>\n      <td>17.0</td>\n      <td>34.25</td>\n      <td>50.0</td>\n      <td>61.0</td>\n      <td>90.0</td>\n      <td>646.0</td>\n      <td>39.366873</td>\n      <td>...</td>\n      <td>40.0</td>\n      <td>99.0</td>\n      <td>646.0</td>\n      <td>42.371517</td>\n      <td>46.883574</td>\n      <td>15.0</td>\n      <td>24.0</td>\n      <td>33.0</td>\n      <td>43.00</td>\n      <td>347.0</td>\n    </tr>\n    <tr>\n      <th>9th</th>\n      <td>514.0</td>\n      <td>41.060311</td>\n      <td>15.946862</td>\n      <td>17.0</td>\n      <td>28.00</td>\n      <td>39.0</td>\n      <td>54.0</td>\n      <td>90.0</td>\n      <td>514.0</td>\n      <td>38.044747</td>\n      <td>...</td>\n      <td>40.0</td>\n      <td>99.0</td>\n      <td>514.0</td>\n      <td>42.558366</td>\n      <td>49.175715</td>\n      <td>15.0</td>\n      <td>24.0</td>\n      <td>33.0</td>\n      <td>42.00</td>\n      <td>349.0</td>\n    </tr>\n    <tr>\n      <th>Assoc-acdm</th>\n      <td>1067.0</td>\n      <td>37.381443</td>\n      <td>11.095177</td>\n      <td>19.0</td>\n      <td>29.00</td>\n      <td>36.0</td>\n      <td>44.0</td>\n      <td>90.0</td>\n      <td>1067.0</td>\n      <td>40.504217</td>\n      <td>...</td>\n      <td>45.0</td>\n      <td>99.0</td>\n      <td>1067.0</td>\n      <td>74.993440</td>\n      <td>86.975212</td>\n      <td>15.0</td>\n      <td>26.5</td>\n      <td>38.0</td>\n      <td>49.00</td>\n      <td>349.0</td>\n    </tr>\n    <tr>\n      <th>Assoc-voc</th>\n      <td>1382.0</td>\n      <td>38.553546</td>\n      <td>11.631300</td>\n      <td>19.0</td>\n      <td>30.00</td>\n      <td>37.0</td>\n      <td>46.0</td>\n      <td>84.0</td>\n      <td>1382.0</td>\n      <td>41.610709</td>\n      <td>...</td>\n      <td>45.0</td>\n      <td>99.0</td>\n      <td>1382.0</td>\n      <td>76.188133</td>\n      <td>86.673738</td>\n      <td>15.0</td>\n      <td>27.0</td>\n      <td>39.0</td>\n      <td>62.75</td>\n      <td>349.0</td>\n    </tr>\n    <tr>\n      <th>Bachelors</th>\n      <td>5355.0</td>\n      <td>38.904949</td>\n      <td>11.912210</td>\n      <td>19.0</td>\n      <td>29.00</td>\n      <td>37.0</td>\n      <td>46.0</td>\n      <td>90.0</td>\n      <td>5355.0</td>\n      <td>42.614006</td>\n      <td>...</td>\n      <td>50.0</td>\n      <td>99.0</td>\n      <td>5355.0</td>\n      <td>101.882353</td>\n      <td>101.141882</td>\n      <td>15.0</td>\n      <td>29.0</td>\n      <td>44.0</td>\n      <td>171.00</td>\n      <td>349.0</td>\n    </tr>\n    <tr>\n      <th>Doctorate</th>\n      <td>413.0</td>\n      <td>47.702179</td>\n      <td>11.784716</td>\n      <td>24.0</td>\n      <td>39.00</td>\n      <td>47.0</td>\n      <td>55.0</td>\n      <td>80.0</td>\n      <td>413.0</td>\n      <td>46.973366</td>\n      <td>...</td>\n      <td>55.0</td>\n      <td>99.0</td>\n      <td>413.0</td>\n      <td>154.125908</td>\n      <td>100.973940</td>\n      <td>15.0</td>\n      <td>48.0</td>\n      <td>149.0</td>\n      <td>237.00</td>\n      <td>349.0</td>\n    </tr>\n    <tr>\n      <th>HS-grad</th>\n      <td>10501.0</td>\n      <td>38.974479</td>\n      <td>13.541524</td>\n      <td>17.0</td>\n      <td>28.00</td>\n      <td>37.0</td>\n      <td>48.0</td>\n      <td>90.0</td>\n      <td>10501.0</td>\n      <td>40.575374</td>\n      <td>...</td>\n      <td>42.0</td>\n      <td>99.0</td>\n      <td>10501.0</td>\n      <td>59.573469</td>\n      <td>72.797540</td>\n      <td>15.0</td>\n      <td>25.0</td>\n      <td>35.0</td>\n      <td>46.00</td>\n      <td>349.0</td>\n    </tr>\n    <tr>\n      <th>Masters</th>\n      <td>1723.0</td>\n      <td>44.049913</td>\n      <td>11.068935</td>\n      <td>18.0</td>\n      <td>36.00</td>\n      <td>43.0</td>\n      <td>51.0</td>\n      <td>90.0</td>\n      <td>1723.0</td>\n      <td>43.836332</td>\n      <td>...</td>\n      <td>50.0</td>\n      <td>99.0</td>\n      <td>1723.0</td>\n      <td>123.163088</td>\n      <td>104.275174</td>\n      <td>15.0</td>\n      <td>35.0</td>\n      <td>80.0</td>\n      <td>203.50</td>\n      <td>349.0</td>\n    </tr>\n    <tr>\n      <th>Preschool</th>\n      <td>51.0</td>\n      <td>42.764706</td>\n      <td>15.126914</td>\n      <td>19.0</td>\n      <td>31.00</td>\n      <td>41.0</td>\n      <td>53.5</td>\n      <td>75.0</td>\n      <td>51.0</td>\n      <td>36.647059</td>\n      <td>...</td>\n      <td>40.0</td>\n      <td>75.0</td>\n      <td>51.0</td>\n      <td>32.627451</td>\n      <td>9.378616</td>\n      <td>15.0</td>\n      <td>23.0</td>\n      <td>35.0</td>\n      <td>39.00</td>\n      <td>49.0</td>\n    </tr>\n    <tr>\n      <th>Prof-school</th>\n      <td>576.0</td>\n      <td>44.746528</td>\n      <td>11.962477</td>\n      <td>25.0</td>\n      <td>36.00</td>\n      <td>43.0</td>\n      <td>51.0</td>\n      <td>90.0</td>\n      <td>576.0</td>\n      <td>47.425347</td>\n      <td>...</td>\n      <td>55.0</td>\n      <td>99.0</td>\n      <td>576.0</td>\n      <td>154.435764</td>\n      <td>104.379055</td>\n      <td>15.0</td>\n      <td>48.0</td>\n      <td>143.0</td>\n      <td>247.00</td>\n      <td>346.0</td>\n    </tr>\n    <tr>\n      <th>Some-college</th>\n      <td>7291.0</td>\n      <td>35.756275</td>\n      <td>13.474051</td>\n      <td>17.0</td>\n      <td>24.00</td>\n      <td>34.0</td>\n      <td>45.0</td>\n      <td>90.0</td>\n      <td>7291.0</td>\n      <td>38.852284</td>\n      <td>...</td>\n      <td>43.0</td>\n      <td>99.0</td>\n      <td>7291.0</td>\n      <td>64.214785</td>\n      <td>76.643931</td>\n      <td>15.0</td>\n      <td>25.0</td>\n      <td>37.0</td>\n      <td>47.00</td>\n      <td>349.0</td>\n    </tr>\n  </tbody>\n</table>\n<p>16 rows × 24 columns</p>\n</div>"
     },
     "execution_count": 10,
     "metadata": {},
     "output_type": "execute_result"
    }
   ],
   "source": [
    "grouped_people = peoples.groupby(\"education\")\n",
    "grouped_people.describe()"
   ],
   "metadata": {
    "collapsed": false
   }
  },
  {
   "cell_type": "markdown",
   "source": [
    "# Task 7\n",
    "Compare the married and non-married men salaries. Who earns more? (>50K or <=50K)\n",
    "Married men are those, whom `marital-status` starts with \"Married\". Others are not."
   ],
   "metadata": {
    "collapsed": false
   }
  },
  {
   "cell_type": "code",
   "execution_count": 11,
   "outputs": [
    {
     "data": {
      "text/plain": "True"
     },
     "execution_count": 11,
     "metadata": {},
     "output_type": "execute_result"
    }
   ],
   "source": [
    "married_people = peoples[peoples[\"marital-status\"].str.startswith(\"Married\")]\n",
    "unmarried_people = peoples[~peoples[\"marital-status\"].str.startswith(\"Married\")]\n",
    "\n",
    "np.sum(married_people[\"salary K$\"]) > np.sum(unmarried_people[\"salary K$\"])"
   ],
   "metadata": {
    "collapsed": false
   }
  },
  {
   "cell_type": "markdown",
   "source": [
    "# Task 8\n",
    "Get the max hours per week some person works. How many people works the same amount of hours per week?"
   ],
   "metadata": {
    "collapsed": false
   }
  },
  {
   "cell_type": "code",
   "execution_count": 12,
   "outputs": [
    {
     "data": {
      "text/plain": "99.0"
     },
     "execution_count": 12,
     "metadata": {},
     "output_type": "execute_result"
    }
   ],
   "source": [
    "peoples.describe()[\"hours-per-week\"][\"max\"]"
   ],
   "metadata": {
    "collapsed": false
   }
  },
  {
   "cell_type": "markdown",
   "source": [
    "# Task 9\n",
    "Analyze the correlation between data in dataset. Understand connected fields in it and print highlight thier connection."
   ],
   "metadata": {
    "collapsed": false
   }
  },
  {
   "cell_type": "code",
   "execution_count": 22,
   "outputs": [],
   "source": [
    "correlation = peoples.corr()"
   ],
   "metadata": {
    "collapsed": false
   }
  },
  {
   "cell_type": "code",
   "execution_count": 23,
   "outputs": [
    {
     "name": "stdout",
     "output_type": "stream",
     "text": [
      "Correlation:\n",
      "Hours per week to salary: 0.19691628735118744\n",
      "Age to salary: 0.20177417568021683\n"
     ]
    }
   ],
   "source": [
    "print(\n",
    "    \"Correlation:\\n\"\n",
    "    f\"Hours per week to salary: {correlation['salary K$']['hours-per-week']}\\n\"\n",
    "    f\"Age to salary: {correlation['salary K$']['age']}\"\n",
    ")"
   ],
   "metadata": {
    "collapsed": false
   }
  }
 ],
 "metadata": {
  "kernelspec": {
   "display_name": "Python 3",
   "language": "python",
   "name": "python3"
  },
  "language_info": {
   "codemirror_mode": {
    "name": "ipython",
    "version": 2
   },
   "file_extension": ".py",
   "mimetype": "text/x-python",
   "name": "python",
   "nbconvert_exporter": "python",
   "pygments_lexer": "ipython2",
   "version": "2.7.6"
  }
 },
 "nbformat": 4,
 "nbformat_minor": 0
}
